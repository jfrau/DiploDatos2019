{
 "cells": [
  {
   "cell_type": "markdown",
   "metadata": {
    "colab_type": "text",
    "id": "3pL4ozdDPN5y"
   },
   "source": [
    "# Diplodatos Kaggle Competition"
   ]
  },
  {
   "cell_type": "markdown",
   "metadata": {
    "colab_type": "text",
    "id": "0JNs5ygxPN50"
   },
   "source": [
    "We present this peace of code to create the baseline for the competition, and as an example of how to deal with these kind of problems. The main goals are that you:\n",
    "\n",
    "1. Learn\n",
    "1. Try different models and see which one fits the best the given data\n",
    "1. Get a higher score than the given one in the current baseline example\n",
    "1. Try to get the highest score in the class :)"
   ]
  },
  {
   "cell_type": "code",
   "execution_count": 1,
   "metadata": {
    "colab": {},
    "colab_type": "code",
    "id": "ZX1m85RgPX8a"
   },
   "outputs": [],
   "source": [
    "#import os.path\n",
    "#if not os.path.exists(\"./IntroduccionAprendizajeAutomatico\"):\n",
    "#  !git clone https://github.com/solujan/IntroduccionAprendizajeAutomatico.git"
   ]
  },
  {
   "cell_type": "code",
   "execution_count": 65,
   "metadata": {
    "colab": {},
    "colab_type": "code",
    "id": "Rd18P7iKPN53"
   },
   "outputs": [],
   "source": [
    "# Import the required packages\n",
    "import os\n",
    "from sklearn.preprocessing import MinMaxScaler\n",
    "import numpy as np\n",
    "import pandas as pd\n",
    "import matplotlib.pyplot as plt\n",
    "import seaborn as sns\n",
    "from sklearn.model_selection import train_test_split\n",
    "from sklearn import metrics\n",
    "from sklearn.neighbors import KNeighborsClassifier\n",
    "from sklearn.metrics import accuracy_score, classification_report, confusion_matrix\n",
    "from ml.visualization import plot_confusion_matrix, plot_learning_curve\n",
    "from sklearn.model_selection import train_test_split, GridSearchCV\n",
    "from sklearn.naive_bayes import MultinomialNB\n",
    "from sklearn.ensemble import RandomForestClassifier"
   ]
  },
  {
   "cell_type": "code",
   "execution_count": 66,
   "metadata": {
    "colab": {},
    "colab_type": "code",
    "id": "c3XyRaI6PN59"
   },
   "outputs": [],
   "source": [
    "# load the given labels\n",
    "breed = pd.read_csv('https://raw.githubusercontent.com/DiploDatos/AprendizajeSupervisado/master/practico/data/breed_labels.csv')\n",
    "color = pd.read_csv('https://raw.githubusercontent.com/DiploDatos/AprendizajeSupervisado/master/practico/data/color_labels.csv')\n",
    "state = pd.read_csv('https://raw.githubusercontent.com/DiploDatos/AprendizajeSupervisado/master/practico/data/state_labels.csv')"
   ]
  },
  {
   "cell_type": "markdown",
   "metadata": {
    "colab_type": "text",
    "id": "Oc9HG1YnPN6A"
   },
   "source": [
    "Now we take a look at the labels, just to understand what these are"
   ]
  },
  {
   "cell_type": "code",
   "execution_count": 67,
   "metadata": {
    "colab": {
     "base_uri": "https://localhost:8080/",
     "height": 195
    },
    "colab_type": "code",
    "id": "dkN1FeAYPN6B",
    "outputId": "1736ea26-cc8e-4d5b-fbcd-e44be8fefc05"
   },
   "outputs": [
    {
     "data": {
      "text/html": [
       "<div>\n",
       "<style scoped>\n",
       "    .dataframe tbody tr th:only-of-type {\n",
       "        vertical-align: middle;\n",
       "    }\n",
       "\n",
       "    .dataframe tbody tr th {\n",
       "        vertical-align: top;\n",
       "    }\n",
       "\n",
       "    .dataframe thead th {\n",
       "        text-align: right;\n",
       "    }\n",
       "</style>\n",
       "<table border=\"1\" class=\"dataframe\">\n",
       "  <thead>\n",
       "    <tr style=\"text-align: right;\">\n",
       "      <th></th>\n",
       "      <th>BreedID</th>\n",
       "      <th>Type</th>\n",
       "      <th>BreedName</th>\n",
       "    </tr>\n",
       "  </thead>\n",
       "  <tbody>\n",
       "    <tr>\n",
       "      <th>0</th>\n",
       "      <td>1</td>\n",
       "      <td>1</td>\n",
       "      <td>Affenpinscher</td>\n",
       "    </tr>\n",
       "    <tr>\n",
       "      <th>1</th>\n",
       "      <td>2</td>\n",
       "      <td>1</td>\n",
       "      <td>Afghan Hound</td>\n",
       "    </tr>\n",
       "    <tr>\n",
       "      <th>2</th>\n",
       "      <td>3</td>\n",
       "      <td>1</td>\n",
       "      <td>Airedale Terrier</td>\n",
       "    </tr>\n",
       "    <tr>\n",
       "      <th>3</th>\n",
       "      <td>4</td>\n",
       "      <td>1</td>\n",
       "      <td>Akbash</td>\n",
       "    </tr>\n",
       "    <tr>\n",
       "      <th>4</th>\n",
       "      <td>5</td>\n",
       "      <td>1</td>\n",
       "      <td>Akita</td>\n",
       "    </tr>\n",
       "  </tbody>\n",
       "</table>\n",
       "</div>"
      ],
      "text/plain": [
       "   BreedID  Type         BreedName\n",
       "0        1     1     Affenpinscher\n",
       "1        2     1      Afghan Hound\n",
       "2        3     1  Airedale Terrier\n",
       "3        4     1            Akbash\n",
       "4        5     1             Akita"
      ]
     },
     "execution_count": 67,
     "metadata": {},
     "output_type": "execute_result"
    }
   ],
   "source": [
    "breed.head()"
   ]
  },
  {
   "cell_type": "code",
   "execution_count": 68,
   "metadata": {
    "colab": {
     "base_uri": "https://localhost:8080/",
     "height": 195
    },
    "colab_type": "code",
    "id": "EvXFhQFfPN6D",
    "outputId": "867aa5ef-ca94-4a41-d102-f6e1cc7c668b"
   },
   "outputs": [
    {
     "data": {
      "text/html": [
       "<div>\n",
       "<style scoped>\n",
       "    .dataframe tbody tr th:only-of-type {\n",
       "        vertical-align: middle;\n",
       "    }\n",
       "\n",
       "    .dataframe tbody tr th {\n",
       "        vertical-align: top;\n",
       "    }\n",
       "\n",
       "    .dataframe thead th {\n",
       "        text-align: right;\n",
       "    }\n",
       "</style>\n",
       "<table border=\"1\" class=\"dataframe\">\n",
       "  <thead>\n",
       "    <tr style=\"text-align: right;\">\n",
       "      <th></th>\n",
       "      <th>ColorID</th>\n",
       "      <th>ColorName</th>\n",
       "    </tr>\n",
       "  </thead>\n",
       "  <tbody>\n",
       "    <tr>\n",
       "      <th>0</th>\n",
       "      <td>1</td>\n",
       "      <td>Black</td>\n",
       "    </tr>\n",
       "    <tr>\n",
       "      <th>1</th>\n",
       "      <td>2</td>\n",
       "      <td>Brown</td>\n",
       "    </tr>\n",
       "    <tr>\n",
       "      <th>2</th>\n",
       "      <td>3</td>\n",
       "      <td>Golden</td>\n",
       "    </tr>\n",
       "    <tr>\n",
       "      <th>3</th>\n",
       "      <td>4</td>\n",
       "      <td>Yellow</td>\n",
       "    </tr>\n",
       "    <tr>\n",
       "      <th>4</th>\n",
       "      <td>5</td>\n",
       "      <td>Cream</td>\n",
       "    </tr>\n",
       "  </tbody>\n",
       "</table>\n",
       "</div>"
      ],
      "text/plain": [
       "   ColorID ColorName\n",
       "0        1     Black\n",
       "1        2     Brown\n",
       "2        3    Golden\n",
       "3        4    Yellow\n",
       "4        5     Cream"
      ]
     },
     "execution_count": 68,
     "metadata": {},
     "output_type": "execute_result"
    }
   ],
   "source": [
    "color.head()"
   ]
  },
  {
   "cell_type": "code",
   "execution_count": 69,
   "metadata": {
    "colab": {
     "base_uri": "https://localhost:8080/",
     "height": 491
    },
    "colab_type": "code",
    "id": "2BGjJ7dmPN6G",
    "outputId": "606c96c0-3953-476c-fdcd-513e7aacf6c3"
   },
   "outputs": [
    {
     "data": {
      "text/html": [
       "<div>\n",
       "<style scoped>\n",
       "    .dataframe tbody tr th:only-of-type {\n",
       "        vertical-align: middle;\n",
       "    }\n",
       "\n",
       "    .dataframe tbody tr th {\n",
       "        vertical-align: top;\n",
       "    }\n",
       "\n",
       "    .dataframe thead th {\n",
       "        text-align: right;\n",
       "    }\n",
       "</style>\n",
       "<table border=\"1\" class=\"dataframe\">\n",
       "  <thead>\n",
       "    <tr style=\"text-align: right;\">\n",
       "      <th></th>\n",
       "      <th>StateID</th>\n",
       "      <th>StateName</th>\n",
       "    </tr>\n",
       "  </thead>\n",
       "  <tbody>\n",
       "    <tr>\n",
       "      <th>0</th>\n",
       "      <td>41336</td>\n",
       "      <td>Johor</td>\n",
       "    </tr>\n",
       "    <tr>\n",
       "      <th>1</th>\n",
       "      <td>41325</td>\n",
       "      <td>Kedah</td>\n",
       "    </tr>\n",
       "    <tr>\n",
       "      <th>2</th>\n",
       "      <td>41367</td>\n",
       "      <td>Kelantan</td>\n",
       "    </tr>\n",
       "    <tr>\n",
       "      <th>3</th>\n",
       "      <td>41401</td>\n",
       "      <td>Kuala Lumpur</td>\n",
       "    </tr>\n",
       "    <tr>\n",
       "      <th>4</th>\n",
       "      <td>41415</td>\n",
       "      <td>Labuan</td>\n",
       "    </tr>\n",
       "    <tr>\n",
       "      <th>5</th>\n",
       "      <td>41324</td>\n",
       "      <td>Melaka</td>\n",
       "    </tr>\n",
       "    <tr>\n",
       "      <th>6</th>\n",
       "      <td>41332</td>\n",
       "      <td>Negeri Sembilan</td>\n",
       "    </tr>\n",
       "    <tr>\n",
       "      <th>7</th>\n",
       "      <td>41335</td>\n",
       "      <td>Pahang</td>\n",
       "    </tr>\n",
       "    <tr>\n",
       "      <th>8</th>\n",
       "      <td>41330</td>\n",
       "      <td>Perak</td>\n",
       "    </tr>\n",
       "    <tr>\n",
       "      <th>9</th>\n",
       "      <td>41380</td>\n",
       "      <td>Perlis</td>\n",
       "    </tr>\n",
       "    <tr>\n",
       "      <th>10</th>\n",
       "      <td>41327</td>\n",
       "      <td>Pulau Pinang</td>\n",
       "    </tr>\n",
       "    <tr>\n",
       "      <th>11</th>\n",
       "      <td>41345</td>\n",
       "      <td>Sabah</td>\n",
       "    </tr>\n",
       "    <tr>\n",
       "      <th>12</th>\n",
       "      <td>41342</td>\n",
       "      <td>Sarawak</td>\n",
       "    </tr>\n",
       "    <tr>\n",
       "      <th>13</th>\n",
       "      <td>41326</td>\n",
       "      <td>Selangor</td>\n",
       "    </tr>\n",
       "    <tr>\n",
       "      <th>14</th>\n",
       "      <td>41361</td>\n",
       "      <td>Terengganu</td>\n",
       "    </tr>\n",
       "  </tbody>\n",
       "</table>\n",
       "</div>"
      ],
      "text/plain": [
       "    StateID        StateName\n",
       "0     41336            Johor\n",
       "1     41325            Kedah\n",
       "2     41367         Kelantan\n",
       "3     41401     Kuala Lumpur\n",
       "4     41415           Labuan\n",
       "5     41324           Melaka\n",
       "6     41332  Negeri Sembilan\n",
       "7     41335           Pahang\n",
       "8     41330            Perak\n",
       "9     41380           Perlis\n",
       "10    41327     Pulau Pinang\n",
       "11    41345            Sabah\n",
       "12    41342          Sarawak\n",
       "13    41326         Selangor\n",
       "14    41361       Terengganu"
      ]
     },
     "execution_count": 69,
     "metadata": {},
     "output_type": "execute_result"
    }
   ],
   "source": [
    "state"
   ]
  },
  {
   "cell_type": "markdown",
   "metadata": {
    "colab_type": "text",
    "id": "Y0bNm3oTPN6I"
   },
   "source": [
    "And now we are ready to deal with the *original* dataset..."
   ]
  },
  {
   "cell_type": "code",
   "execution_count": 70,
   "metadata": {
    "colab": {},
    "colab_type": "code",
    "id": "CdTSh2sQPN6J"
   },
   "outputs": [],
   "source": [
    "original_df = pd.read_csv('https://raw.githubusercontent.com/DiploDatos/AprendizajeSupervisado/master/practico/data/train.csv')"
   ]
  },
  {
   "cell_type": "code",
   "execution_count": 71,
   "metadata": {
    "colab": {
     "base_uri": "https://localhost:8080/",
     "height": 101
    },
    "colab_type": "code",
    "id": "HZqa38d2PN6M",
    "outputId": "600d4cb5-fbb3-45be-97a1-dcf92fbebb7d"
   },
   "outputs": [
    {
     "data": {
      "text/plain": [
       "Index(['Type', 'Age', 'Breed1', 'Breed2', 'Gender', 'Color1', 'Color2',\n",
       "       'Color3', 'MaturitySize', 'FurLength', 'Vaccinated', 'Dewormed',\n",
       "       'Sterilized', 'Health', 'Quantity', 'Fee', 'State', 'Description',\n",
       "       'AdoptionSpeed', 'PID'],\n",
       "      dtype='object')"
      ]
     },
     "execution_count": 71,
     "metadata": {},
     "output_type": "execute_result"
    }
   ],
   "source": [
    "original_df.columns"
   ]
  },
  {
   "cell_type": "code",
   "execution_count": 72,
   "metadata": {
    "colab": {
     "base_uri": "https://localhost:8080/",
     "height": 304
    },
    "colab_type": "code",
    "id": "qYpkUWAjPN6Q",
    "outputId": "54c14c12-e223-41d4-93c9-34f39d47ea09"
   },
   "outputs": [
    {
     "data": {
      "text/html": [
       "<div>\n",
       "<style scoped>\n",
       "    .dataframe tbody tr th:only-of-type {\n",
       "        vertical-align: middle;\n",
       "    }\n",
       "\n",
       "    .dataframe tbody tr th {\n",
       "        vertical-align: top;\n",
       "    }\n",
       "\n",
       "    .dataframe thead th {\n",
       "        text-align: right;\n",
       "    }\n",
       "</style>\n",
       "<table border=\"1\" class=\"dataframe\">\n",
       "  <thead>\n",
       "    <tr style=\"text-align: right;\">\n",
       "      <th></th>\n",
       "      <th>Type</th>\n",
       "      <th>Age</th>\n",
       "      <th>Breed1</th>\n",
       "      <th>Breed2</th>\n",
       "      <th>Gender</th>\n",
       "      <th>Color1</th>\n",
       "      <th>Color2</th>\n",
       "      <th>Color3</th>\n",
       "      <th>MaturitySize</th>\n",
       "      <th>FurLength</th>\n",
       "      <th>Vaccinated</th>\n",
       "      <th>Dewormed</th>\n",
       "      <th>Sterilized</th>\n",
       "      <th>Health</th>\n",
       "      <th>Quantity</th>\n",
       "      <th>Fee</th>\n",
       "      <th>State</th>\n",
       "      <th>AdoptionSpeed</th>\n",
       "      <th>PID</th>\n",
       "    </tr>\n",
       "  </thead>\n",
       "  <tbody>\n",
       "    <tr>\n",
       "      <th>count</th>\n",
       "      <td>10582.000000</td>\n",
       "      <td>10582.000000</td>\n",
       "      <td>10582.000000</td>\n",
       "      <td>10582.000000</td>\n",
       "      <td>10582.000000</td>\n",
       "      <td>10582.000000</td>\n",
       "      <td>10582.000000</td>\n",
       "      <td>10582.000000</td>\n",
       "      <td>10582.000000</td>\n",
       "      <td>10582.000000</td>\n",
       "      <td>10582.000000</td>\n",
       "      <td>10582.000000</td>\n",
       "      <td>10582.000000</td>\n",
       "      <td>10582.000000</td>\n",
       "      <td>10582.000000</td>\n",
       "      <td>10582.000000</td>\n",
       "      <td>10582.000000</td>\n",
       "      <td>10582.000000</td>\n",
       "      <td>10582.000000</td>\n",
       "    </tr>\n",
       "    <tr>\n",
       "      <th>mean</th>\n",
       "      <td>1.454734</td>\n",
       "      <td>10.520412</td>\n",
       "      <td>265.469854</td>\n",
       "      <td>74.388868</td>\n",
       "      <td>1.779059</td>\n",
       "      <td>2.230675</td>\n",
       "      <td>3.236912</td>\n",
       "      <td>1.856738</td>\n",
       "      <td>1.860518</td>\n",
       "      <td>1.460971</td>\n",
       "      <td>1.729730</td>\n",
       "      <td>1.566528</td>\n",
       "      <td>1.912115</td>\n",
       "      <td>1.036666</td>\n",
       "      <td>1.584011</td>\n",
       "      <td>20.809960</td>\n",
       "      <td>41345.994613</td>\n",
       "      <td>2.518900</td>\n",
       "      <td>7477.025799</td>\n",
       "    </tr>\n",
       "    <tr>\n",
       "      <th>std</th>\n",
       "      <td>0.497970</td>\n",
       "      <td>18.374027</td>\n",
       "      <td>60.121490</td>\n",
       "      <td>123.434010</td>\n",
       "      <td>0.684763</td>\n",
       "      <td>1.743985</td>\n",
       "      <td>2.748595</td>\n",
       "      <td>2.974465</td>\n",
       "      <td>0.547535</td>\n",
       "      <td>0.593843</td>\n",
       "      <td>0.670791</td>\n",
       "      <td>0.701482</td>\n",
       "      <td>0.564041</td>\n",
       "      <td>0.198228</td>\n",
       "      <td>1.488348</td>\n",
       "      <td>78.397243</td>\n",
       "      <td>32.409109</td>\n",
       "      <td>1.176018</td>\n",
       "      <td>4310.921553</td>\n",
       "    </tr>\n",
       "    <tr>\n",
       "      <th>min</th>\n",
       "      <td>1.000000</td>\n",
       "      <td>0.000000</td>\n",
       "      <td>0.000000</td>\n",
       "      <td>0.000000</td>\n",
       "      <td>1.000000</td>\n",
       "      <td>1.000000</td>\n",
       "      <td>0.000000</td>\n",
       "      <td>0.000000</td>\n",
       "      <td>1.000000</td>\n",
       "      <td>1.000000</td>\n",
       "      <td>1.000000</td>\n",
       "      <td>1.000000</td>\n",
       "      <td>1.000000</td>\n",
       "      <td>1.000000</td>\n",
       "      <td>1.000000</td>\n",
       "      <td>0.000000</td>\n",
       "      <td>41324.000000</td>\n",
       "      <td>0.000000</td>\n",
       "      <td>0.000000</td>\n",
       "    </tr>\n",
       "    <tr>\n",
       "      <th>25%</th>\n",
       "      <td>1.000000</td>\n",
       "      <td>2.000000</td>\n",
       "      <td>265.000000</td>\n",
       "      <td>0.000000</td>\n",
       "      <td>1.000000</td>\n",
       "      <td>1.000000</td>\n",
       "      <td>0.000000</td>\n",
       "      <td>0.000000</td>\n",
       "      <td>2.000000</td>\n",
       "      <td>1.000000</td>\n",
       "      <td>1.000000</td>\n",
       "      <td>1.000000</td>\n",
       "      <td>2.000000</td>\n",
       "      <td>1.000000</td>\n",
       "      <td>1.000000</td>\n",
       "      <td>0.000000</td>\n",
       "      <td>41326.000000</td>\n",
       "      <td>2.000000</td>\n",
       "      <td>3768.250000</td>\n",
       "    </tr>\n",
       "    <tr>\n",
       "      <th>50%</th>\n",
       "      <td>1.000000</td>\n",
       "      <td>3.000000</td>\n",
       "      <td>266.000000</td>\n",
       "      <td>0.000000</td>\n",
       "      <td>2.000000</td>\n",
       "      <td>2.000000</td>\n",
       "      <td>2.000000</td>\n",
       "      <td>0.000000</td>\n",
       "      <td>2.000000</td>\n",
       "      <td>1.000000</td>\n",
       "      <td>2.000000</td>\n",
       "      <td>1.000000</td>\n",
       "      <td>2.000000</td>\n",
       "      <td>1.000000</td>\n",
       "      <td>1.000000</td>\n",
       "      <td>0.000000</td>\n",
       "      <td>41326.000000</td>\n",
       "      <td>2.000000</td>\n",
       "      <td>7473.500000</td>\n",
       "    </tr>\n",
       "    <tr>\n",
       "      <th>75%</th>\n",
       "      <td>2.000000</td>\n",
       "      <td>12.000000</td>\n",
       "      <td>307.000000</td>\n",
       "      <td>188.000000</td>\n",
       "      <td>2.000000</td>\n",
       "      <td>3.000000</td>\n",
       "      <td>6.000000</td>\n",
       "      <td>5.000000</td>\n",
       "      <td>2.000000</td>\n",
       "      <td>2.000000</td>\n",
       "      <td>2.000000</td>\n",
       "      <td>2.000000</td>\n",
       "      <td>2.000000</td>\n",
       "      <td>1.000000</td>\n",
       "      <td>1.000000</td>\n",
       "      <td>0.000000</td>\n",
       "      <td>41401.000000</td>\n",
       "      <td>4.000000</td>\n",
       "      <td>11200.750000</td>\n",
       "    </tr>\n",
       "    <tr>\n",
       "      <th>max</th>\n",
       "      <td>2.000000</td>\n",
       "      <td>255.000000</td>\n",
       "      <td>307.000000</td>\n",
       "      <td>307.000000</td>\n",
       "      <td>3.000000</td>\n",
       "      <td>7.000000</td>\n",
       "      <td>7.000000</td>\n",
       "      <td>7.000000</td>\n",
       "      <td>4.000000</td>\n",
       "      <td>3.000000</td>\n",
       "      <td>3.000000</td>\n",
       "      <td>3.000000</td>\n",
       "      <td>3.000000</td>\n",
       "      <td>3.000000</td>\n",
       "      <td>20.000000</td>\n",
       "      <td>3000.000000</td>\n",
       "      <td>41415.000000</td>\n",
       "      <td>4.000000</td>\n",
       "      <td>14992.000000</td>\n",
       "    </tr>\n",
       "  </tbody>\n",
       "</table>\n",
       "</div>"
      ],
      "text/plain": [
       "               Type           Age        Breed1        Breed2        Gender  \\\n",
       "count  10582.000000  10582.000000  10582.000000  10582.000000  10582.000000   \n",
       "mean       1.454734     10.520412    265.469854     74.388868      1.779059   \n",
       "std        0.497970     18.374027     60.121490    123.434010      0.684763   \n",
       "min        1.000000      0.000000      0.000000      0.000000      1.000000   \n",
       "25%        1.000000      2.000000    265.000000      0.000000      1.000000   \n",
       "50%        1.000000      3.000000    266.000000      0.000000      2.000000   \n",
       "75%        2.000000     12.000000    307.000000    188.000000      2.000000   \n",
       "max        2.000000    255.000000    307.000000    307.000000      3.000000   \n",
       "\n",
       "             Color1        Color2        Color3  MaturitySize     FurLength  \\\n",
       "count  10582.000000  10582.000000  10582.000000  10582.000000  10582.000000   \n",
       "mean       2.230675      3.236912      1.856738      1.860518      1.460971   \n",
       "std        1.743985      2.748595      2.974465      0.547535      0.593843   \n",
       "min        1.000000      0.000000      0.000000      1.000000      1.000000   \n",
       "25%        1.000000      0.000000      0.000000      2.000000      1.000000   \n",
       "50%        2.000000      2.000000      0.000000      2.000000      1.000000   \n",
       "75%        3.000000      6.000000      5.000000      2.000000      2.000000   \n",
       "max        7.000000      7.000000      7.000000      4.000000      3.000000   \n",
       "\n",
       "         Vaccinated      Dewormed    Sterilized        Health      Quantity  \\\n",
       "count  10582.000000  10582.000000  10582.000000  10582.000000  10582.000000   \n",
       "mean       1.729730      1.566528      1.912115      1.036666      1.584011   \n",
       "std        0.670791      0.701482      0.564041      0.198228      1.488348   \n",
       "min        1.000000      1.000000      1.000000      1.000000      1.000000   \n",
       "25%        1.000000      1.000000      2.000000      1.000000      1.000000   \n",
       "50%        2.000000      1.000000      2.000000      1.000000      1.000000   \n",
       "75%        2.000000      2.000000      2.000000      1.000000      1.000000   \n",
       "max        3.000000      3.000000      3.000000      3.000000     20.000000   \n",
       "\n",
       "                Fee         State  AdoptionSpeed           PID  \n",
       "count  10582.000000  10582.000000   10582.000000  10582.000000  \n",
       "mean      20.809960  41345.994613       2.518900   7477.025799  \n",
       "std       78.397243     32.409109       1.176018   4310.921553  \n",
       "min        0.000000  41324.000000       0.000000      0.000000  \n",
       "25%        0.000000  41326.000000       2.000000   3768.250000  \n",
       "50%        0.000000  41326.000000       2.000000   7473.500000  \n",
       "75%        0.000000  41401.000000       4.000000  11200.750000  \n",
       "max     3000.000000  41415.000000       4.000000  14992.000000  "
      ]
     },
     "execution_count": 72,
     "metadata": {},
     "output_type": "execute_result"
    }
   ],
   "source": [
    "original_df.describe()"
   ]
  },
  {
   "cell_type": "code",
   "execution_count": null,
   "metadata": {},
   "outputs": [],
   "source": []
  },
  {
   "cell_type": "code",
   "execution_count": 73,
   "metadata": {
    "colab": {
     "base_uri": "https://localhost:8080/",
     "height": 518
    },
    "colab_type": "code",
    "id": "oDH2AS2lPN6U",
    "outputId": "4c208e79-b9c8-4d20-c244-2909dbd9e113",
    "scrolled": false
   },
   "outputs": [
    {
     "data": {
      "text/html": [
       "<div>\n",
       "<style scoped>\n",
       "    .dataframe tbody tr th:only-of-type {\n",
       "        vertical-align: middle;\n",
       "    }\n",
       "\n",
       "    .dataframe tbody tr th {\n",
       "        vertical-align: top;\n",
       "    }\n",
       "\n",
       "    .dataframe thead th {\n",
       "        text-align: right;\n",
       "    }\n",
       "</style>\n",
       "<table border=\"1\" class=\"dataframe\">\n",
       "  <thead>\n",
       "    <tr style=\"text-align: right;\">\n",
       "      <th></th>\n",
       "      <th>Type</th>\n",
       "      <th>Age</th>\n",
       "      <th>Breed1</th>\n",
       "      <th>Breed2</th>\n",
       "      <th>Gender</th>\n",
       "      <th>Color1</th>\n",
       "      <th>Color2</th>\n",
       "      <th>Color3</th>\n",
       "      <th>MaturitySize</th>\n",
       "      <th>FurLength</th>\n",
       "      <th>Vaccinated</th>\n",
       "      <th>Dewormed</th>\n",
       "      <th>Sterilized</th>\n",
       "      <th>Health</th>\n",
       "      <th>Quantity</th>\n",
       "      <th>Fee</th>\n",
       "      <th>State</th>\n",
       "      <th>Description</th>\n",
       "      <th>AdoptionSpeed</th>\n",
       "      <th>PID</th>\n",
       "    </tr>\n",
       "  </thead>\n",
       "  <tbody>\n",
       "    <tr>\n",
       "      <th>0</th>\n",
       "      <td>2</td>\n",
       "      <td>3</td>\n",
       "      <td>299</td>\n",
       "      <td>0</td>\n",
       "      <td>1</td>\n",
       "      <td>1</td>\n",
       "      <td>7</td>\n",
       "      <td>0</td>\n",
       "      <td>1</td>\n",
       "      <td>1</td>\n",
       "      <td>2</td>\n",
       "      <td>2</td>\n",
       "      <td>2</td>\n",
       "      <td>1</td>\n",
       "      <td>1</td>\n",
       "      <td>100</td>\n",
       "      <td>41326</td>\n",
       "      <td>Nibble is a 3+ month old ball of cuteness. He ...</td>\n",
       "      <td>2</td>\n",
       "      <td>0</td>\n",
       "    </tr>\n",
       "    <tr>\n",
       "      <th>1</th>\n",
       "      <td>1</td>\n",
       "      <td>4</td>\n",
       "      <td>307</td>\n",
       "      <td>0</td>\n",
       "      <td>2</td>\n",
       "      <td>1</td>\n",
       "      <td>2</td>\n",
       "      <td>0</td>\n",
       "      <td>2</td>\n",
       "      <td>1</td>\n",
       "      <td>1</td>\n",
       "      <td>1</td>\n",
       "      <td>2</td>\n",
       "      <td>1</td>\n",
       "      <td>1</td>\n",
       "      <td>150</td>\n",
       "      <td>41401</td>\n",
       "      <td>Good guard dog, very alert, active, obedience ...</td>\n",
       "      <td>2</td>\n",
       "      <td>3</td>\n",
       "    </tr>\n",
       "    <tr>\n",
       "      <th>2</th>\n",
       "      <td>1</td>\n",
       "      <td>1</td>\n",
       "      <td>307</td>\n",
       "      <td>0</td>\n",
       "      <td>1</td>\n",
       "      <td>1</td>\n",
       "      <td>0</td>\n",
       "      <td>0</td>\n",
       "      <td>2</td>\n",
       "      <td>1</td>\n",
       "      <td>2</td>\n",
       "      <td>2</td>\n",
       "      <td>2</td>\n",
       "      <td>1</td>\n",
       "      <td>1</td>\n",
       "      <td>0</td>\n",
       "      <td>41326</td>\n",
       "      <td>This handsome yet cute boy is up for adoption....</td>\n",
       "      <td>2</td>\n",
       "      <td>4</td>\n",
       "    </tr>\n",
       "    <tr>\n",
       "      <th>3</th>\n",
       "      <td>2</td>\n",
       "      <td>3</td>\n",
       "      <td>266</td>\n",
       "      <td>0</td>\n",
       "      <td>2</td>\n",
       "      <td>5</td>\n",
       "      <td>6</td>\n",
       "      <td>0</td>\n",
       "      <td>2</td>\n",
       "      <td>1</td>\n",
       "      <td>2</td>\n",
       "      <td>2</td>\n",
       "      <td>2</td>\n",
       "      <td>1</td>\n",
       "      <td>1</td>\n",
       "      <td>0</td>\n",
       "      <td>41326</td>\n",
       "      <td>This is a stray kitten that came to my house. ...</td>\n",
       "      <td>2</td>\n",
       "      <td>5</td>\n",
       "    </tr>\n",
       "    <tr>\n",
       "      <th>4</th>\n",
       "      <td>2</td>\n",
       "      <td>12</td>\n",
       "      <td>264</td>\n",
       "      <td>264</td>\n",
       "      <td>1</td>\n",
       "      <td>1</td>\n",
       "      <td>0</td>\n",
       "      <td>0</td>\n",
       "      <td>2</td>\n",
       "      <td>3</td>\n",
       "      <td>2</td>\n",
       "      <td>2</td>\n",
       "      <td>3</td>\n",
       "      <td>1</td>\n",
       "      <td>1</td>\n",
       "      <td>300</td>\n",
       "      <td>41326</td>\n",
       "      <td>anyone within the area of ipoh or taiping who ...</td>\n",
       "      <td>1</td>\n",
       "      <td>6</td>\n",
       "    </tr>\n",
       "  </tbody>\n",
       "</table>\n",
       "</div>"
      ],
      "text/plain": [
       "   Type  Age  Breed1  Breed2  Gender  Color1  Color2  Color3  MaturitySize  \\\n",
       "0     2    3     299       0       1       1       7       0             1   \n",
       "1     1    4     307       0       2       1       2       0             2   \n",
       "2     1    1     307       0       1       1       0       0             2   \n",
       "3     2    3     266       0       2       5       6       0             2   \n",
       "4     2   12     264     264       1       1       0       0             2   \n",
       "\n",
       "   FurLength  Vaccinated  Dewormed  Sterilized  Health  Quantity  Fee  State  \\\n",
       "0          1           2         2           2       1         1  100  41326   \n",
       "1          1           1         1           2       1         1  150  41401   \n",
       "2          1           2         2           2       1         1    0  41326   \n",
       "3          1           2         2           2       1         1    0  41326   \n",
       "4          3           2         2           3       1         1  300  41326   \n",
       "\n",
       "                                         Description  AdoptionSpeed  PID  \n",
       "0  Nibble is a 3+ month old ball of cuteness. He ...              2    0  \n",
       "1  Good guard dog, very alert, active, obedience ...              2    3  \n",
       "2  This handsome yet cute boy is up for adoption....              2    4  \n",
       "3  This is a stray kitten that came to my house. ...              2    5  \n",
       "4  anyone within the area of ipoh or taiping who ...              1    6  "
      ]
     },
     "execution_count": 73,
     "metadata": {},
     "output_type": "execute_result"
    }
   ],
   "source": [
    "original_df.head()"
   ]
  },
  {
   "cell_type": "markdown",
   "metadata": {},
   "source": [
    "#### Analisis de correlaciones de las variables con Adoption Speed"
   ]
  },
  {
   "cell_type": "code",
   "execution_count": 127,
   "metadata": {
    "scrolled": true
   },
   "outputs": [
    {
     "data": {
      "text/plain": [
       "AdoptionSpeed    1.000000\n",
       "Breed1           0.113724\n",
       "Type             0.096014\n",
       "Age              0.094160\n",
       "FurLength        0.093132\n",
       "Sterilized       0.085975\n",
       "Gender           0.068443\n",
       "Quantity         0.065831\n",
       "Vaccinated       0.062891\n",
       "MaturitySize     0.052676\n",
       "Color2           0.041690\n",
       "Color1           0.041133\n",
       "Health           0.034730\n",
       "Dewormed         0.021745\n",
       "Breed2           0.020748\n",
       "State            0.016169\n",
       "PID              0.006701\n",
       "Color3           0.004224\n",
       "Fee              0.002676\n",
       "Name: AdoptionSpeed, dtype: float64"
      ]
     },
     "execution_count": 127,
     "metadata": {},
     "output_type": "execute_result"
    }
   ],
   "source": [
    "corr_matrix = original_df.corr()\n",
    "corr_matrix['AdoptionSpeed'].abs().sort_values(ascending=False)"
   ]
  },
  {
   "cell_type": "markdown",
   "metadata": {},
   "source": [
    "Suponemos que puede llegar a haber "
   ]
  },
  {
   "cell_type": "code",
   "execution_count": 75,
   "metadata": {
    "scrolled": false
   },
   "outputs": [
    {
     "data": {
      "text/plain": [
       "<seaborn.axisgrid.FacetGrid at 0x1745cc40d30>"
      ]
     },
     "execution_count": 75,
     "metadata": {},
     "output_type": "execute_result"
    },
    {
     "data": {
      "image/png": "[encoded data removed]",
      "text/plain": [
       "<Figure size 443.75x360 with 1 Axes>"
      ]
     },
     "metadata": {
      "needs_background": "light"
     },
     "output_type": "display_data"
    }
   ],
   "source": [
    "sns.lmplot('Age','Breed1', data=original_df[original_df.AdoptionSpeed.isin(['0','1','2','3','4'])], hue='AdoptionSpeed')"
   ]
  },
  {
   "cell_type": "code",
   "execution_count": 76,
   "metadata": {},
   "outputs": [
    {
     "data": {
      "image/png": "[encoded data removed]",
      "text/plain": [
       "<Figure size 432x288 with 1 Axes>"
      ]
     },
     "metadata": {
      "needs_background": "light"
     },
     "output_type": "display_data"
    }
   ],
   "source": [
    "from mpl_toolkits import mplot3d\n",
    "ax = plt.axes(projection='3d')\n",
    "\n",
    "# Data for a three-dimensional line\n",
    "zdata = original_df['Age']\n",
    "xdata = original_df['Breed1']\n",
    "ydata = original_df['Type']\n",
    "hue = original_df['AdoptionSpeed']\n",
    "ax.scatter3D(xdata, ydata, zdata, c=hue);"
   ]
  },
  {
   "cell_type": "markdown",
   "metadata": {
    "colab_type": "text",
    "id": "WlPgPCPePN6Z"
   },
   "source": [
    "Create a function to transform the datasets. This is done by means of a function so that the transformations are the same for the training and testing datasets... We replace the encodings just to make it easy to \"visualize\" the data"
   ]
  },
  {
   "cell_type": "code",
   "execution_count": 77,
   "metadata": {
    "colab": {},
    "colab_type": "code",
    "id": "xtV-Ha73a0-5"
   },
   "outputs": [],
   "source": [
    "# Pueden utilizar los siguientes métodos, por ejemplo:\n",
    "\n",
    "def normalizar(df, scaler):\n",
    "    fields = ['Fee','Age','Quantity']\n",
    "    for col in fields:\n",
    "        df[col] = scaler.fit_transform(df[[col]])\n",
    "    return df"
   ]
  },
  {
   "cell_type": "code",
   "execution_count": 117,
   "metadata": {
    "colab": {},
    "colab_type": "code",
    "id": "WC_MsZNlPN6a"
   },
   "outputs": [],
   "source": [
    "def transform_data(train_data_fname, test_data_fname, normalized=True, convert_dummy=True):\n",
    "    def transform_columns(df):\n",
    "        state_dict = {}\n",
    "        for index, row in state.iterrows():\n",
    "            state_dict[row['StateID']] = row['StateName']\n",
    "        df = df.drop([\"Description\"], axis=1)\n",
    "        df.Type = df.Type.replace({1: 'Dog', 2: 'Cat'})\n",
    "        df.Gender = df.Gender.replace({1:'Male', 2:'Female', 3:'Mixed'})\n",
    "        df.MaturitySize = df.MaturitySize.replace({1:'S', 2:'M', 3:'L', 4:'XL', 0:'N/A'})\n",
    "        df.FurLength = df.FurLength.replace({1:'S', 2:'M', 3:'L', 0:'N/A'})\n",
    "        df.Vaccinated = df.Vaccinated.replace({1:'T', 2:'N', 3:'N/A'})\n",
    "        df.Dewormed = df.Dewormed.replace({1:'T', 2:'F', 3:'N/A'})\n",
    "        df.Sterilized = df.Sterilized.replace({1:'T', 2:'F', 3:'N/A'})\n",
    "        df.State = df.State.replace(state_dict)\n",
    "        df.Health = df.Health.replace({1:'Healthy', 2: 'MinorInjury', 3:'SeriousInjury', 0: 'N/A'})\n",
    "        df.Color1 = df.Color1.replace(dict(list(zip(color.ColorID, color.ColorName)) + [(0, \"N/A\")]))\n",
    "        df.Color2 = df.Color2.replace(dict(list(zip(color.ColorID, color.ColorName)) + [(0, \"N/A\")]))\n",
    "        df.Color3 = df.Color3.replace(dict(list(zip(color.ColorID, color.ColorName)) + [(0, \"N/A\")]))\n",
    "        df.Breed1 = df.Breed1.replace(dict(list(zip(breed.BreedID, breed.BreedName)) + [(0, \"N/A\")]))\n",
    "        df.Breed2 = df.Breed2.replace(dict(list(zip(breed.BreedID, breed.BreedName)) + [(0, \"N/A\")]))\n",
    "        return df\n",
    "    \n",
    "    df_train = pd.read_csv(train_data_fname)\n",
    "    df_train = transform_columns(df_train)\n",
    "    df_test = pd.read_csv(test_data_fname)\n",
    "    df_test = transform_columns(df_test)\n",
    "    \n",
    "    df = pd.concat([df_train, df_test], sort=True)\n",
    "\n",
    "    # set dummy variables for everything\n",
    "    # except from Age, Quantity, Fee\n",
    "    if convert_dummy:\n",
    "        df = pd.get_dummies(df)\n",
    "        print(\"Dataset converted to dummies\")\n",
    "    if normalized:\n",
    "        df = normalizar(df,MinMaxScaler())\n",
    "        print(\"Dataset normalized\")\n",
    "    \n",
    "    # get train and test back\n",
    "    \n",
    "    print(\"Returning train and test dataset\")\n",
    "    n = len(df_train)\n",
    "    df_train = df.iloc[:n]\n",
    "    df_test = df.iloc[n:]\n",
    "\n",
    "    y = df_train['AdoptionSpeed']\n",
    "    X = df_train.drop('AdoptionSpeed', axis=1)\n",
    "    yy = None\n",
    "    XX = df_test.drop('AdoptionSpeed', axis=1)\n",
    "\n",
    "    return X, y, XX, yy\n"
   ]
  },
  {
   "cell_type": "markdown",
   "metadata": {
    "colab_type": "text",
    "id": "R_-AzphpPN6c"
   },
   "source": [
    "#### Balanceo de clases"
   ]
  },
  {
   "cell_type": "code",
   "execution_count": 79,
   "metadata": {
    "colab": {
     "base_uri": "https://localhost:8080/",
     "height": 34
    },
    "colab_type": "code",
    "id": "_JfTr5PXPN6d",
    "outputId": "cf9149ba-bd77-4681-bdf2-9d2bda751b0e"
   },
   "outputs": [
    {
     "data": {
      "text/plain": [
       "(10582, 373)"
      ]
     },
     "execution_count": 79,
     "metadata": {},
     "output_type": "execute_result"
    }
   ],
   "source": [
    "X, y, XX, yy = transform_data(\"https://raw.githubusercontent.com/DiploDatos/AprendizajeSupervisado/master/practico/data/train.csv\", \"https://raw.githubusercontent.com/DiploDatos/AprendizajeSupervisado/master/practico/data/test.csv\")\n",
    "X.shape"
   ]
  },
  {
   "cell_type": "code",
   "execution_count": 80,
   "metadata": {
    "colab": {
     "base_uri": "https://localhost:8080/",
     "height": 34
    },
    "colab_type": "code",
    "id": "rQi-XhINPN6g",
    "outputId": "a0c62e19-1719-4e9c-cde1-0bb30e654dce"
   },
   "outputs": [
    {
     "name": "stdout",
     "output_type": "stream",
     "text": [
      "Resampled dataset shape Counter({2.0: 2964, 1.0: 2964, 4.0: 2964, 3.0: 2964, 0.0: 2964})\n"
     ]
    }
   ],
   "source": [
    "from imblearn import under_sampling \n",
    "from imblearn import over_sampling\n",
    "from imblearn.over_sampling import SMOTE\n",
    "from collections import Counter\n",
    "def balance_class(X, y):\n",
    "    sm = SMOTE(random_state=42)\n",
    "    X_res, y_res = sm.fit_resample(X, y)\n",
    "    print('Resampled dataset shape %s' % Counter(y_res))\n",
    "    return pd.DataFrame(data=X_res[0:], columns=X.columns), pd.DataFrame(data=y_res, columns=['Target'])\n",
    "\n",
    "\n",
    "x_tr, y_tr = balance_class(X, y)\n"
   ]
  },
  {
   "cell_type": "markdown",
   "metadata": {
    "colab_type": "text",
    "id": "JAIOLOSqPN6m"
   },
   "source": [
    "Load the data..."
   ]
  },
  {
   "cell_type": "markdown",
   "metadata": {
    "colab_type": "text",
    "id": "6opdWlGlPN6p"
   },
   "source": [
    "Create the model and evaluate it"
   ]
  },
  {
   "cell_type": "markdown",
   "metadata": {
    "colab_type": "text",
    "id": "L1BZyRFqPN6q"
   },
   "source": [
    "### KNN\n"
   ]
  },
  {
   "cell_type": "markdown",
   "metadata": {
    "colab_type": "text",
    "id": "QsnUhO8ZPN6r"
   },
   "source": [
    "#### KNN con ajuste por parametro por defecto"
   ]
  },
  {
   "cell_type": "code",
   "execution_count": 130,
   "metadata": {
    "colab": {
     "base_uri": "https://localhost:8080/",
     "height": 278
    },
    "colab_type": "code",
    "id": "Mvwk6HgRVoEy",
    "outputId": "fcac5ab2-5849-4c9a-a109-694d199fc46e"
   },
   "outputs": [],
   "source": [
    "X_train, X_valid, y_train, y_valid = train_test_split(x_tr, y_tr, test_size=0.2, random_state=42)"
   ]
  },
  {
   "cell_type": "code",
   "execution_count": 18,
   "metadata": {
    "colab": {
     "base_uri": "https://localhost:8080/",
     "height": 87
    },
    "colab_type": "code",
    "id": "m75BMeYRPN6s",
    "outputId": "11a344fc-e62d-4925-b489-e0898a9dd736"
   },
   "outputs": [
    {
     "name": "stderr",
     "output_type": "stream",
     "text": [
      "C:\\Users\\soluj\\Anaconda3\\lib\\site-packages\\ipykernel_launcher.py:4: DataConversionWarning: A column-vector y was passed when a 1d array was expected. Please change the shape of y to (n_samples, ), for example using ravel().\n",
      "  after removing the cwd from sys.path.\n"
     ]
    },
    {
     "name": "stdout",
     "output_type": "stream",
     "text": [
      "Accuracy: 0.4409581646423752\n"
     ]
    }
   ],
   "source": [
    "X_train, X_valid, y_train, y_valid = train_test_split(x_tr, y_tr, test_size=0.2, random_state=42)\n",
    "\n",
    "neigh = KNeighborsClassifier()\n",
    "neigh.fit(X_train.drop([\"PID\"], axis=1), y_train)\n",
    "y_predict = neigh.predict(X_valid.drop([\"PID\"], axis=1))\n",
    "\n",
    "#Import scikit-learn metrics module for accuracy calculation\n",
    "\n",
    "# Model Accuracy, how often is the classifier correct?\n",
    "print(\"Accuracy:\",metrics.accuracy_score(y_valid, y_predict))\n",
    "\n"
   ]
  },
  {
   "cell_type": "markdown",
   "metadata": {
    "colab_type": "text",
    "id": "1apPK-fHPN6y"
   },
   "source": [
    "Mejor conjunto de parámetros:\n",
    "{'algorithm': 'auto', 'leaf_size': 30, 'metric': 'euclidean', 'n_neighbors': 10, 'p': 1, 'weights': 'distance'}\n",
    "\n",
    "Accuracy: 0.3448"
   ]
  },
  {
   "cell_type": "markdown",
   "metadata": {
    "colab_type": "text",
    "id": "BdyKbZ8rPN6z"
   },
   "source": [
    "#### KNN busqueda de hiperparametros\n"
   ]
  },
  {
   "cell_type": "code",
   "execution_count": 20,
   "metadata": {
    "colab": {
     "base_uri": "https://localhost:8080/",
     "height": 134
    },
    "colab_type": "code",
    "id": "9BT1Hl3WPN67",
    "outputId": "3367c2fd-79eb-402d-c157-905e4b3e5506"
   },
   "outputs": [
    {
     "name": "stdout",
     "output_type": "stream",
     "text": [
      "Fitting 3 folds for each of 384 candidates, totalling 1152 fits\n"
     ]
    },
    {
     "name": "stderr",
     "output_type": "stream",
     "text": [
      "[Parallel(n_jobs=-1)]: Using backend LokyBackend with 4 concurrent workers.\n",
      "[Parallel(n_jobs=-1)]: Done  42 tasks      | elapsed: 11.7min\n",
      "[Parallel(n_jobs=-1)]: Done 192 tasks      | elapsed: 44.3min\n",
      "[Parallel(n_jobs=-1)]: Done 442 tasks      | elapsed: 77.8min\n",
      "[Parallel(n_jobs=-1)]: Done 792 tasks      | elapsed: 100.2min\n",
      "[Parallel(n_jobs=-1)]: Done 1152 out of 1152 | elapsed: 119.9min finished\n",
      "C:\\Users\\soluj\\Anaconda3\\lib\\site-packages\\sklearn\\model_selection\\_search.py:715: DataConversionWarning: A column-vector y was passed when a 1d array was expected. Please change the shape of y to (n_samples, ), for example using ravel().\n",
      "  self.best_estimator_.fit(X, y, **fit_params)\n"
     ]
    },
    {
     "name": "stdout",
     "output_type": "stream",
     "text": [
      "# Exploración de hiperparámetros para función de coste \n",
      "\n",
      "Mejor conjunto de parámetros:\n",
      "{'algorithm': 'auto', 'leaf_size': 15, 'metric': 'manhattan', 'n_neighbors': 5, 'p': 1, 'weights': 'distance'}\n",
      "\n",
      "Puntajes de la grilla:\n",
      "\n",
      "Exactitud: 0.408 (+/-0.000) para los parámetros {'algorithm': 'auto', 'leaf_size': 15, 'metric': 'euclidean', 'n_neighbors': 5, 'p': 1, 'weights': 'uniform'}\n",
      "Exactitud: 0.444 (+/-0.000) para los parámetros {'algorithm': 'auto', 'leaf_size': 15, 'metric': 'euclidean', 'n_neighbors': 5, 'p': 1, 'weights': 'distance'}\n",
      "Exactitud: 0.408 (+/-0.000) para los parámetros {'algorithm': 'auto', 'leaf_size': 15, 'metric': 'euclidean', 'n_neighbors': 5, 'p': 2, 'weights': 'uniform'}\n",
      "Exactitud: 0.444 (+/-0.000) para los parámetros {'algorithm': 'auto', 'leaf_size': 15, 'metric': 'euclidean', 'n_neighbors': 5, 'p': 2, 'weights': 'distance'}\n",
      "Exactitud: 0.408 (+/-0.000) para los parámetros {'algorithm': 'auto', 'leaf_size': 15, 'metric': 'euclidean', 'n_neighbors': 5, 'p': 4, 'weights': 'uniform'}\n",
      "Exactitud: 0.444 (+/-0.000) para los parámetros {'algorithm': 'auto', 'leaf_size': 15, 'metric': 'euclidean', 'n_neighbors': 5, 'p': 4, 'weights': 'distance'}\n",
      "Exactitud: 0.387 (+/-0.000) para los parámetros {'algorithm': 'auto', 'leaf_size': 15, 'metric': 'euclidean', 'n_neighbors': 10, 'p': 1, 'weights': 'uniform'}\n",
      "Exactitud: 0.422 (+/-0.000) para los parámetros {'algorithm': 'auto', 'leaf_size': 15, 'metric': 'euclidean', 'n_neighbors': 10, 'p': 1, 'weights': 'distance'}\n",
      "Exactitud: 0.387 (+/-0.000) para los parámetros {'algorithm': 'auto', 'leaf_size': 15, 'metric': 'euclidean', 'n_neighbors': 10, 'p': 2, 'weights': 'uniform'}\n",
      "Exactitud: 0.422 (+/-0.000) para los parámetros {'algorithm': 'auto', 'leaf_size': 15, 'metric': 'euclidean', 'n_neighbors': 10, 'p': 2, 'weights': 'distance'}\n",
      "Exactitud: 0.387 (+/-0.000) para los parámetros {'algorithm': 'auto', 'leaf_size': 15, 'metric': 'euclidean', 'n_neighbors': 10, 'p': 4, 'weights': 'uniform'}\n",
      "Exactitud: 0.422 (+/-0.000) para los parámetros {'algorithm': 'auto', 'leaf_size': 15, 'metric': 'euclidean', 'n_neighbors': 10, 'p': 4, 'weights': 'distance'}\n",
      "Exactitud: 0.365 (+/-0.000) para los parámetros {'algorithm': 'auto', 'leaf_size': 15, 'metric': 'euclidean', 'n_neighbors': 20, 'p': 1, 'weights': 'uniform'}\n",
      "Exactitud: 0.404 (+/-0.000) para los parámetros {'algorithm': 'auto', 'leaf_size': 15, 'metric': 'euclidean', 'n_neighbors': 20, 'p': 1, 'weights': 'distance'}\n",
      "Exactitud: 0.365 (+/-0.000) para los parámetros {'algorithm': 'auto', 'leaf_size': 15, 'metric': 'euclidean', 'n_neighbors': 20, 'p': 2, 'weights': 'uniform'}\n",
      "Exactitud: 0.404 (+/-0.000) para los parámetros {'algorithm': 'auto', 'leaf_size': 15, 'metric': 'euclidean', 'n_neighbors': 20, 'p': 2, 'weights': 'distance'}\n",
      "Exactitud: 0.365 (+/-0.000) para los parámetros {'algorithm': 'auto', 'leaf_size': 15, 'metric': 'euclidean', 'n_neighbors': 20, 'p': 4, 'weights': 'uniform'}\n",
      "Exactitud: 0.404 (+/-0.000) para los parámetros {'algorithm': 'auto', 'leaf_size': 15, 'metric': 'euclidean', 'n_neighbors': 20, 'p': 4, 'weights': 'distance'}\n",
      "Exactitud: 0.357 (+/-0.000) para los parámetros {'algorithm': 'auto', 'leaf_size': 15, 'metric': 'euclidean', 'n_neighbors': 30, 'p': 1, 'weights': 'uniform'}\n",
      "Exactitud: 0.396 (+/-0.000) para los parámetros {'algorithm': 'auto', 'leaf_size': 15, 'metric': 'euclidean', 'n_neighbors': 30, 'p': 1, 'weights': 'distance'}\n",
      "Exactitud: 0.357 (+/-0.000) para los parámetros {'algorithm': 'auto', 'leaf_size': 15, 'metric': 'euclidean', 'n_neighbors': 30, 'p': 2, 'weights': 'uniform'}\n",
      "Exactitud: 0.396 (+/-0.000) para los parámetros {'algorithm': 'auto', 'leaf_size': 15, 'metric': 'euclidean', 'n_neighbors': 30, 'p': 2, 'weights': 'distance'}\n",
      "Exactitud: 0.357 (+/-0.000) para los parámetros {'algorithm': 'auto', 'leaf_size': 15, 'metric': 'euclidean', 'n_neighbors': 30, 'p': 4, 'weights': 'uniform'}\n",
      "Exactitud: 0.396 (+/-0.000) para los parámetros {'algorithm': 'auto', 'leaf_size': 15, 'metric': 'euclidean', 'n_neighbors': 30, 'p': 4, 'weights': 'distance'}\n",
      "Exactitud: 0.440 (+/-0.000) para los parámetros {'algorithm': 'auto', 'leaf_size': 15, 'metric': 'manhattan', 'n_neighbors': 5, 'p': 1, 'weights': 'uniform'}\n",
      "Exactitud: 0.461 (+/-0.000) para los parámetros {'algorithm': 'auto', 'leaf_size': 15, 'metric': 'manhattan', 'n_neighbors': 5, 'p': 1, 'weights': 'distance'}\n",
      "Exactitud: 0.440 (+/-0.000) para los parámetros {'algorithm': 'auto', 'leaf_size': 15, 'metric': 'manhattan', 'n_neighbors': 5, 'p': 2, 'weights': 'uniform'}\n",
      "Exactitud: 0.461 (+/-0.000) para los parámetros {'algorithm': 'auto', 'leaf_size': 15, 'metric': 'manhattan', 'n_neighbors': 5, 'p': 2, 'weights': 'distance'}\n",
      "Exactitud: 0.440 (+/-0.000) para los parámetros {'algorithm': 'auto', 'leaf_size': 15, 'metric': 'manhattan', 'n_neighbors': 5, 'p': 4, 'weights': 'uniform'}\n",
      "Exactitud: 0.461 (+/-0.000) para los parámetros {'algorithm': 'auto', 'leaf_size': 15, 'metric': 'manhattan', 'n_neighbors': 5, 'p': 4, 'weights': 'distance'}\n",
      "Exactitud: 0.432 (+/-0.000) para los parámetros {'algorithm': 'auto', 'leaf_size': 15, 'metric': 'manhattan', 'n_neighbors': 10, 'p': 1, 'weights': 'uniform'}\n",
      "Exactitud: 0.456 (+/-0.000) para los parámetros {'algorithm': 'auto', 'leaf_size': 15, 'metric': 'manhattan', 'n_neighbors': 10, 'p': 1, 'weights': 'distance'}\n",
      "Exactitud: 0.432 (+/-0.000) para los parámetros {'algorithm': 'auto', 'leaf_size': 15, 'metric': 'manhattan', 'n_neighbors': 10, 'p': 2, 'weights': 'uniform'}\n",
      "Exactitud: 0.456 (+/-0.000) para los parámetros {'algorithm': 'auto', 'leaf_size': 15, 'metric': 'manhattan', 'n_neighbors': 10, 'p': 2, 'weights': 'distance'}\n",
      "Exactitud: 0.432 (+/-0.000) para los parámetros {'algorithm': 'auto', 'leaf_size': 15, 'metric': 'manhattan', 'n_neighbors': 10, 'p': 4, 'weights': 'uniform'}\n",
      "Exactitud: 0.456 (+/-0.000) para los parámetros {'algorithm': 'auto', 'leaf_size': 15, 'metric': 'manhattan', 'n_neighbors': 10, 'p': 4, 'weights': 'distance'}\n",
      "Exactitud: 0.418 (+/-0.000) para los parámetros {'algorithm': 'auto', 'leaf_size': 15, 'metric': 'manhattan', 'n_neighbors': 20, 'p': 1, 'weights': 'uniform'}\n",
      "Exactitud: 0.446 (+/-0.000) para los parámetros {'algorithm': 'auto', 'leaf_size': 15, 'metric': 'manhattan', 'n_neighbors': 20, 'p': 1, 'weights': 'distance'}\n",
      "Exactitud: 0.418 (+/-0.000) para los parámetros {'algorithm': 'auto', 'leaf_size': 15, 'metric': 'manhattan', 'n_neighbors': 20, 'p': 2, 'weights': 'uniform'}\n",
      "Exactitud: 0.446 (+/-0.000) para los parámetros {'algorithm': 'auto', 'leaf_size': 15, 'metric': 'manhattan', 'n_neighbors': 20, 'p': 2, 'weights': 'distance'}\n",
      "Exactitud: 0.418 (+/-0.000) para los parámetros {'algorithm': 'auto', 'leaf_size': 15, 'metric': 'manhattan', 'n_neighbors': 20, 'p': 4, 'weights': 'uniform'}\n",
      "Exactitud: 0.446 (+/-0.000) para los parámetros {'algorithm': 'auto', 'leaf_size': 15, 'metric': 'manhattan', 'n_neighbors': 20, 'p': 4, 'weights': 'distance'}\n",
      "Exactitud: 0.405 (+/-0.000) para los parámetros {'algorithm': 'auto', 'leaf_size': 15, 'metric': 'manhattan', 'n_neighbors': 30, 'p': 1, 'weights': 'uniform'}\n",
      "Exactitud: 0.441 (+/-0.000) para los parámetros {'algorithm': 'auto', 'leaf_size': 15, 'metric': 'manhattan', 'n_neighbors': 30, 'p': 1, 'weights': 'distance'}\n",
      "Exactitud: 0.405 (+/-0.000) para los parámetros {'algorithm': 'auto', 'leaf_size': 15, 'metric': 'manhattan', 'n_neighbors': 30, 'p': 2, 'weights': 'uniform'}\n",
      "Exactitud: 0.441 (+/-0.000) para los parámetros {'algorithm': 'auto', 'leaf_size': 15, 'metric': 'manhattan', 'n_neighbors': 30, 'p': 2, 'weights': 'distance'}\n",
      "Exactitud: 0.405 (+/-0.000) para los parámetros {'algorithm': 'auto', 'leaf_size': 15, 'metric': 'manhattan', 'n_neighbors': 30, 'p': 4, 'weights': 'uniform'}\n",
      "Exactitud: 0.441 (+/-0.000) para los parámetros {'algorithm': 'auto', 'leaf_size': 15, 'metric': 'manhattan', 'n_neighbors': 30, 'p': 4, 'weights': 'distance'}\n",
      "Exactitud: 0.408 (+/-0.000) para los parámetros {'algorithm': 'auto', 'leaf_size': 30, 'metric': 'euclidean', 'n_neighbors': 5, 'p': 1, 'weights': 'uniform'}\n",
      "Exactitud: 0.444 (+/-0.000) para los parámetros {'algorithm': 'auto', 'leaf_size': 30, 'metric': 'euclidean', 'n_neighbors': 5, 'p': 1, 'weights': 'distance'}\n",
      "Exactitud: 0.408 (+/-0.000) para los parámetros {'algorithm': 'auto', 'leaf_size': 30, 'metric': 'euclidean', 'n_neighbors': 5, 'p': 2, 'weights': 'uniform'}\n",
      "Exactitud: 0.444 (+/-0.000) para los parámetros {'algorithm': 'auto', 'leaf_size': 30, 'metric': 'euclidean', 'n_neighbors': 5, 'p': 2, 'weights': 'distance'}\n",
      "Exactitud: 0.408 (+/-0.000) para los parámetros {'algorithm': 'auto', 'leaf_size': 30, 'metric': 'euclidean', 'n_neighbors': 5, 'p': 4, 'weights': 'uniform'}\n",
      "Exactitud: 0.444 (+/-0.000) para los parámetros {'algorithm': 'auto', 'leaf_size': 30, 'metric': 'euclidean', 'n_neighbors': 5, 'p': 4, 'weights': 'distance'}\n",
      "Exactitud: 0.387 (+/-0.000) para los parámetros {'algorithm': 'auto', 'leaf_size': 30, 'metric': 'euclidean', 'n_neighbors': 10, 'p': 1, 'weights': 'uniform'}\n",
      "Exactitud: 0.421 (+/-0.000) para los parámetros {'algorithm': 'auto', 'leaf_size': 30, 'metric': 'euclidean', 'n_neighbors': 10, 'p': 1, 'weights': 'distance'}\n",
      "Exactitud: 0.387 (+/-0.000) para los parámetros {'algorithm': 'auto', 'leaf_size': 30, 'metric': 'euclidean', 'n_neighbors': 10, 'p': 2, 'weights': 'uniform'}\n",
      "Exactitud: 0.421 (+/-0.000) para los parámetros {'algorithm': 'auto', 'leaf_size': 30, 'metric': 'euclidean', 'n_neighbors': 10, 'p': 2, 'weights': 'distance'}\n",
      "Exactitud: 0.387 (+/-0.000) para los parámetros {'algorithm': 'auto', 'leaf_size': 30, 'metric': 'euclidean', 'n_neighbors': 10, 'p': 4, 'weights': 'uniform'}\n",
      "Exactitud: 0.421 (+/-0.000) para los parámetros {'algorithm': 'auto', 'leaf_size': 30, 'metric': 'euclidean', 'n_neighbors': 10, 'p': 4, 'weights': 'distance'}\n",
      "Exactitud: 0.364 (+/-0.000) para los parámetros {'algorithm': 'auto', 'leaf_size': 30, 'metric': 'euclidean', 'n_neighbors': 20, 'p': 1, 'weights': 'uniform'}\n",
      "Exactitud: 0.403 (+/-0.000) para los parámetros {'algorithm': 'auto', 'leaf_size': 30, 'metric': 'euclidean', 'n_neighbors': 20, 'p': 1, 'weights': 'distance'}\n",
      "Exactitud: 0.364 (+/-0.000) para los parámetros {'algorithm': 'auto', 'leaf_size': 30, 'metric': 'euclidean', 'n_neighbors': 20, 'p': 2, 'weights': 'uniform'}\n",
      "Exactitud: 0.403 (+/-0.000) para los parámetros {'algorithm': 'auto', 'leaf_size': 30, 'metric': 'euclidean', 'n_neighbors': 20, 'p': 2, 'weights': 'distance'}\n",
      "Exactitud: 0.364 (+/-0.000) para los parámetros {'algorithm': 'auto', 'leaf_size': 30, 'metric': 'euclidean', 'n_neighbors': 20, 'p': 4, 'weights': 'uniform'}\n",
      "Exactitud: 0.403 (+/-0.000) para los parámetros {'algorithm': 'auto', 'leaf_size': 30, 'metric': 'euclidean', 'n_neighbors': 20, 'p': 4, 'weights': 'distance'}\n",
      "Exactitud: 0.357 (+/-0.000) para los parámetros {'algorithm': 'auto', 'leaf_size': 30, 'metric': 'euclidean', 'n_neighbors': 30, 'p': 1, 'weights': 'uniform'}\n",
      "Exactitud: 0.396 (+/-0.000) para los parámetros {'algorithm': 'auto', 'leaf_size': 30, 'metric': 'euclidean', 'n_neighbors': 30, 'p': 1, 'weights': 'distance'}\n",
      "Exactitud: 0.357 (+/-0.000) para los parámetros {'algorithm': 'auto', 'leaf_size': 30, 'metric': 'euclidean', 'n_neighbors': 30, 'p': 2, 'weights': 'uniform'}\n",
      "Exactitud: 0.396 (+/-0.000) para los parámetros {'algorithm': 'auto', 'leaf_size': 30, 'metric': 'euclidean', 'n_neighbors': 30, 'p': 2, 'weights': 'distance'}\n",
      "Exactitud: 0.357 (+/-0.000) para los parámetros {'algorithm': 'auto', 'leaf_size': 30, 'metric': 'euclidean', 'n_neighbors': 30, 'p': 4, 'weights': 'uniform'}\n",
      "Exactitud: 0.396 (+/-0.000) para los parámetros {'algorithm': 'auto', 'leaf_size': 30, 'metric': 'euclidean', 'n_neighbors': 30, 'p': 4, 'weights': 'distance'}\n",
      "Exactitud: 0.440 (+/-0.000) para los parámetros {'algorithm': 'auto', 'leaf_size': 30, 'metric': 'manhattan', 'n_neighbors': 5, 'p': 1, 'weights': 'uniform'}\n",
      "Exactitud: 0.461 (+/-0.000) para los parámetros {'algorithm': 'auto', 'leaf_size': 30, 'metric': 'manhattan', 'n_neighbors': 5, 'p': 1, 'weights': 'distance'}\n",
      "Exactitud: 0.440 (+/-0.000) para los parámetros {'algorithm': 'auto', 'leaf_size': 30, 'metric': 'manhattan', 'n_neighbors': 5, 'p': 2, 'weights': 'uniform'}\n",
      "Exactitud: 0.461 (+/-0.000) para los parámetros {'algorithm': 'auto', 'leaf_size': 30, 'metric': 'manhattan', 'n_neighbors': 5, 'p': 2, 'weights': 'distance'}\n",
      "Exactitud: 0.440 (+/-0.000) para los parámetros {'algorithm': 'auto', 'leaf_size': 30, 'metric': 'manhattan', 'n_neighbors': 5, 'p': 4, 'weights': 'uniform'}\n",
      "Exactitud: 0.461 (+/-0.000) para los parámetros {'algorithm': 'auto', 'leaf_size': 30, 'metric': 'manhattan', 'n_neighbors': 5, 'p': 4, 'weights': 'distance'}\n",
      "Exactitud: 0.433 (+/-0.000) para los parámetros {'algorithm': 'auto', 'leaf_size': 30, 'metric': 'manhattan', 'n_neighbors': 10, 'p': 1, 'weights': 'uniform'}\n",
      "Exactitud: 0.457 (+/-0.000) para los parámetros {'algorithm': 'auto', 'leaf_size': 30, 'metric': 'manhattan', 'n_neighbors': 10, 'p': 1, 'weights': 'distance'}\n",
      "Exactitud: 0.433 (+/-0.000) para los parámetros {'algorithm': 'auto', 'leaf_size': 30, 'metric': 'manhattan', 'n_neighbors': 10, 'p': 2, 'weights': 'uniform'}\n",
      "Exactitud: 0.457 (+/-0.000) para los parámetros {'algorithm': 'auto', 'leaf_size': 30, 'metric': 'manhattan', 'n_neighbors': 10, 'p': 2, 'weights': 'distance'}\n",
      "Exactitud: 0.433 (+/-0.000) para los parámetros {'algorithm': 'auto', 'leaf_size': 30, 'metric': 'manhattan', 'n_neighbors': 10, 'p': 4, 'weights': 'uniform'}\n",
      "Exactitud: 0.457 (+/-0.000) para los parámetros {'algorithm': 'auto', 'leaf_size': 30, 'metric': 'manhattan', 'n_neighbors': 10, 'p': 4, 'weights': 'distance'}\n",
      "Exactitud: 0.417 (+/-0.000) para los parámetros {'algorithm': 'auto', 'leaf_size': 30, 'metric': 'manhattan', 'n_neighbors': 20, 'p': 1, 'weights': 'uniform'}\n",
      "Exactitud: 0.446 (+/-0.000) para los parámetros {'algorithm': 'auto', 'leaf_size': 30, 'metric': 'manhattan', 'n_neighbors': 20, 'p': 1, 'weights': 'distance'}\n",
      "Exactitud: 0.417 (+/-0.000) para los parámetros {'algorithm': 'auto', 'leaf_size': 30, 'metric': 'manhattan', 'n_neighbors': 20, 'p': 2, 'weights': 'uniform'}\n",
      "Exactitud: 0.446 (+/-0.000) para los parámetros {'algorithm': 'auto', 'leaf_size': 30, 'metric': 'manhattan', 'n_neighbors': 20, 'p': 2, 'weights': 'distance'}\n",
      "Exactitud: 0.417 (+/-0.000) para los parámetros {'algorithm': 'auto', 'leaf_size': 30, 'metric': 'manhattan', 'n_neighbors': 20, 'p': 4, 'weights': 'uniform'}\n",
      "Exactitud: 0.446 (+/-0.000) para los parámetros {'algorithm': 'auto', 'leaf_size': 30, 'metric': 'manhattan', 'n_neighbors': 20, 'p': 4, 'weights': 'distance'}\n",
      "Exactitud: 0.404 (+/-0.000) para los parámetros {'algorithm': 'auto', 'leaf_size': 30, 'metric': 'manhattan', 'n_neighbors': 30, 'p': 1, 'weights': 'uniform'}\n",
      "Exactitud: 0.441 (+/-0.000) para los parámetros {'algorithm': 'auto', 'leaf_size': 30, 'metric': 'manhattan', 'n_neighbors': 30, 'p': 1, 'weights': 'distance'}\n",
      "Exactitud: 0.404 (+/-0.000) para los parámetros {'algorithm': 'auto', 'leaf_size': 30, 'metric': 'manhattan', 'n_neighbors': 30, 'p': 2, 'weights': 'uniform'}\n",
      "Exactitud: 0.441 (+/-0.000) para los parámetros {'algorithm': 'auto', 'leaf_size': 30, 'metric': 'manhattan', 'n_neighbors': 30, 'p': 2, 'weights': 'distance'}\n",
      "Exactitud: 0.404 (+/-0.000) para los parámetros {'algorithm': 'auto', 'leaf_size': 30, 'metric': 'manhattan', 'n_neighbors': 30, 'p': 4, 'weights': 'uniform'}\n",
      "Exactitud: 0.441 (+/-0.000) para los parámetros {'algorithm': 'auto', 'leaf_size': 30, 'metric': 'manhattan', 'n_neighbors': 30, 'p': 4, 'weights': 'distance'}\n",
      "Exactitud: 0.409 (+/-0.000) para los parámetros {'algorithm': 'auto', 'leaf_size': 45, 'metric': 'euclidean', 'n_neighbors': 5, 'p': 1, 'weights': 'uniform'}\n",
      "Exactitud: 0.444 (+/-0.000) para los parámetros {'algorithm': 'auto', 'leaf_size': 45, 'metric': 'euclidean', 'n_neighbors': 5, 'p': 1, 'weights': 'distance'}\n",
      "Exactitud: 0.409 (+/-0.000) para los parámetros {'algorithm': 'auto', 'leaf_size': 45, 'metric': 'euclidean', 'n_neighbors': 5, 'p': 2, 'weights': 'uniform'}\n",
      "Exactitud: 0.444 (+/-0.000) para los parámetros {'algorithm': 'auto', 'leaf_size': 45, 'metric': 'euclidean', 'n_neighbors': 5, 'p': 2, 'weights': 'distance'}\n",
      "Exactitud: 0.409 (+/-0.000) para los parámetros {'algorithm': 'auto', 'leaf_size': 45, 'metric': 'euclidean', 'n_neighbors': 5, 'p': 4, 'weights': 'uniform'}\n",
      "Exactitud: 0.444 (+/-0.000) para los parámetros {'algorithm': 'auto', 'leaf_size': 45, 'metric': 'euclidean', 'n_neighbors': 5, 'p': 4, 'weights': 'distance'}\n",
      "Exactitud: 0.388 (+/-0.000) para los parámetros {'algorithm': 'auto', 'leaf_size': 45, 'metric': 'euclidean', 'n_neighbors': 10, 'p': 1, 'weights': 'uniform'}\n",
      "Exactitud: 0.421 (+/-0.000) para los parámetros {'algorithm': 'auto', 'leaf_size': 45, 'metric': 'euclidean', 'n_neighbors': 10, 'p': 1, 'weights': 'distance'}\n",
      "Exactitud: 0.388 (+/-0.000) para los parámetros {'algorithm': 'auto', 'leaf_size': 45, 'metric': 'euclidean', 'n_neighbors': 10, 'p': 2, 'weights': 'uniform'}\n",
      "Exactitud: 0.421 (+/-0.000) para los parámetros {'algorithm': 'auto', 'leaf_size': 45, 'metric': 'euclidean', 'n_neighbors': 10, 'p': 2, 'weights': 'distance'}\n",
      "Exactitud: 0.388 (+/-0.000) para los parámetros {'algorithm': 'auto', 'leaf_size': 45, 'metric': 'euclidean', 'n_neighbors': 10, 'p': 4, 'weights': 'uniform'}\n",
      "Exactitud: 0.421 (+/-0.000) para los parámetros {'algorithm': 'auto', 'leaf_size': 45, 'metric': 'euclidean', 'n_neighbors': 10, 'p': 4, 'weights': 'distance'}\n",
      "Exactitud: 0.364 (+/-0.000) para los parámetros {'algorithm': 'auto', 'leaf_size': 45, 'metric': 'euclidean', 'n_neighbors': 20, 'p': 1, 'weights': 'uniform'}\n",
      "Exactitud: 0.404 (+/-0.000) para los parámetros {'algorithm': 'auto', 'leaf_size': 45, 'metric': 'euclidean', 'n_neighbors': 20, 'p': 1, 'weights': 'distance'}\n",
      "Exactitud: 0.364 (+/-0.000) para los parámetros {'algorithm': 'auto', 'leaf_size': 45, 'metric': 'euclidean', 'n_neighbors': 20, 'p': 2, 'weights': 'uniform'}\n",
      "Exactitud: 0.404 (+/-0.000) para los parámetros {'algorithm': 'auto', 'leaf_size': 45, 'metric': 'euclidean', 'n_neighbors': 20, 'p': 2, 'weights': 'distance'}\n",
      "Exactitud: 0.364 (+/-0.000) para los parámetros {'algorithm': 'auto', 'leaf_size': 45, 'metric': 'euclidean', 'n_neighbors': 20, 'p': 4, 'weights': 'uniform'}\n",
      "Exactitud: 0.404 (+/-0.000) para los parámetros {'algorithm': 'auto', 'leaf_size': 45, 'metric': 'euclidean', 'n_neighbors': 20, 'p': 4, 'weights': 'distance'}\n",
      "Exactitud: 0.357 (+/-0.000) para los parámetros {'algorithm': 'auto', 'leaf_size': 45, 'metric': 'euclidean', 'n_neighbors': 30, 'p': 1, 'weights': 'uniform'}\n",
      "Exactitud: 0.396 (+/-0.000) para los parámetros {'algorithm': 'auto', 'leaf_size': 45, 'metric': 'euclidean', 'n_neighbors': 30, 'p': 1, 'weights': 'distance'}\n",
      "Exactitud: 0.357 (+/-0.000) para los parámetros {'algorithm': 'auto', 'leaf_size': 45, 'metric': 'euclidean', 'n_neighbors': 30, 'p': 2, 'weights': 'uniform'}\n",
      "Exactitud: 0.396 (+/-0.000) para los parámetros {'algorithm': 'auto', 'leaf_size': 45, 'metric': 'euclidean', 'n_neighbors': 30, 'p': 2, 'weights': 'distance'}\n",
      "Exactitud: 0.357 (+/-0.000) para los parámetros {'algorithm': 'auto', 'leaf_size': 45, 'metric': 'euclidean', 'n_neighbors': 30, 'p': 4, 'weights': 'uniform'}\n",
      "Exactitud: 0.396 (+/-0.000) para los parámetros {'algorithm': 'auto', 'leaf_size': 45, 'metric': 'euclidean', 'n_neighbors': 30, 'p': 4, 'weights': 'distance'}\n",
      "Exactitud: 0.440 (+/-0.000) para los parámetros {'algorithm': 'auto', 'leaf_size': 45, 'metric': 'manhattan', 'n_neighbors': 5, 'p': 1, 'weights': 'uniform'}\n",
      "Exactitud: 0.461 (+/-0.000) para los parámetros {'algorithm': 'auto', 'leaf_size': 45, 'metric': 'manhattan', 'n_neighbors': 5, 'p': 1, 'weights': 'distance'}\n",
      "Exactitud: 0.440 (+/-0.000) para los parámetros {'algorithm': 'auto', 'leaf_size': 45, 'metric': 'manhattan', 'n_neighbors': 5, 'p': 2, 'weights': 'uniform'}\n",
      "Exactitud: 0.461 (+/-0.000) para los parámetros {'algorithm': 'auto', 'leaf_size': 45, 'metric': 'manhattan', 'n_neighbors': 5, 'p': 2, 'weights': 'distance'}\n",
      "Exactitud: 0.440 (+/-0.000) para los parámetros {'algorithm': 'auto', 'leaf_size': 45, 'metric': 'manhattan', 'n_neighbors': 5, 'p': 4, 'weights': 'uniform'}\n",
      "Exactitud: 0.461 (+/-0.000) para los parámetros {'algorithm': 'auto', 'leaf_size': 45, 'metric': 'manhattan', 'n_neighbors': 5, 'p': 4, 'weights': 'distance'}\n",
      "Exactitud: 0.432 (+/-0.000) para los parámetros {'algorithm': 'auto', 'leaf_size': 45, 'metric': 'manhattan', 'n_neighbors': 10, 'p': 1, 'weights': 'uniform'}\n",
      "Exactitud: 0.456 (+/-0.000) para los parámetros {'algorithm': 'auto', 'leaf_size': 45, 'metric': 'manhattan', 'n_neighbors': 10, 'p': 1, 'weights': 'distance'}\n",
      "Exactitud: 0.432 (+/-0.000) para los parámetros {'algorithm': 'auto', 'leaf_size': 45, 'metric': 'manhattan', 'n_neighbors': 10, 'p': 2, 'weights': 'uniform'}\n",
      "Exactitud: 0.456 (+/-0.000) para los parámetros {'algorithm': 'auto', 'leaf_size': 45, 'metric': 'manhattan', 'n_neighbors': 10, 'p': 2, 'weights': 'distance'}\n",
      "Exactitud: 0.432 (+/-0.000) para los parámetros {'algorithm': 'auto', 'leaf_size': 45, 'metric': 'manhattan', 'n_neighbors': 10, 'p': 4, 'weights': 'uniform'}\n",
      "Exactitud: 0.456 (+/-0.000) para los parámetros {'algorithm': 'auto', 'leaf_size': 45, 'metric': 'manhattan', 'n_neighbors': 10, 'p': 4, 'weights': 'distance'}\n",
      "Exactitud: 0.417 (+/-0.000) para los parámetros {'algorithm': 'auto', 'leaf_size': 45, 'metric': 'manhattan', 'n_neighbors': 20, 'p': 1, 'weights': 'uniform'}\n",
      "Exactitud: 0.446 (+/-0.000) para los parámetros {'algorithm': 'auto', 'leaf_size': 45, 'metric': 'manhattan', 'n_neighbors': 20, 'p': 1, 'weights': 'distance'}\n",
      "Exactitud: 0.417 (+/-0.000) para los parámetros {'algorithm': 'auto', 'leaf_size': 45, 'metric': 'manhattan', 'n_neighbors': 20, 'p': 2, 'weights': 'uniform'}\n",
      "Exactitud: 0.446 (+/-0.000) para los parámetros {'algorithm': 'auto', 'leaf_size': 45, 'metric': 'manhattan', 'n_neighbors': 20, 'p': 2, 'weights': 'distance'}\n",
      "Exactitud: 0.417 (+/-0.000) para los parámetros {'algorithm': 'auto', 'leaf_size': 45, 'metric': 'manhattan', 'n_neighbors': 20, 'p': 4, 'weights': 'uniform'}\n",
      "Exactitud: 0.446 (+/-0.000) para los parámetros {'algorithm': 'auto', 'leaf_size': 45, 'metric': 'manhattan', 'n_neighbors': 20, 'p': 4, 'weights': 'distance'}\n",
      "Exactitud: 0.404 (+/-0.000) para los parámetros {'algorithm': 'auto', 'leaf_size': 45, 'metric': 'manhattan', 'n_neighbors': 30, 'p': 1, 'weights': 'uniform'}\n",
      "Exactitud: 0.440 (+/-0.000) para los parámetros {'algorithm': 'auto', 'leaf_size': 45, 'metric': 'manhattan', 'n_neighbors': 30, 'p': 1, 'weights': 'distance'}\n",
      "Exactitud: 0.404 (+/-0.000) para los parámetros {'algorithm': 'auto', 'leaf_size': 45, 'metric': 'manhattan', 'n_neighbors': 30, 'p': 2, 'weights': 'uniform'}\n",
      "Exactitud: 0.440 (+/-0.000) para los parámetros {'algorithm': 'auto', 'leaf_size': 45, 'metric': 'manhattan', 'n_neighbors': 30, 'p': 2, 'weights': 'distance'}\n",
      "Exactitud: 0.404 (+/-0.000) para los parámetros {'algorithm': 'auto', 'leaf_size': 45, 'metric': 'manhattan', 'n_neighbors': 30, 'p': 4, 'weights': 'uniform'}\n",
      "Exactitud: 0.440 (+/-0.000) para los parámetros {'algorithm': 'auto', 'leaf_size': 45, 'metric': 'manhattan', 'n_neighbors': 30, 'p': 4, 'weights': 'distance'}\n",
      "Exactitud: 0.409 (+/-0.000) para los parámetros {'algorithm': 'auto', 'leaf_size': 90, 'metric': 'euclidean', 'n_neighbors': 5, 'p': 1, 'weights': 'uniform'}\n",
      "Exactitud: 0.443 (+/-0.000) para los parámetros {'algorithm': 'auto', 'leaf_size': 90, 'metric': 'euclidean', 'n_neighbors': 5, 'p': 1, 'weights': 'distance'}\n",
      "Exactitud: 0.409 (+/-0.000) para los parámetros {'algorithm': 'auto', 'leaf_size': 90, 'metric': 'euclidean', 'n_neighbors': 5, 'p': 2, 'weights': 'uniform'}\n",
      "Exactitud: 0.443 (+/-0.000) para los parámetros {'algorithm': 'auto', 'leaf_size': 90, 'metric': 'euclidean', 'n_neighbors': 5, 'p': 2, 'weights': 'distance'}\n",
      "Exactitud: 0.409 (+/-0.000) para los parámetros {'algorithm': 'auto', 'leaf_size': 90, 'metric': 'euclidean', 'n_neighbors': 5, 'p': 4, 'weights': 'uniform'}\n",
      "Exactitud: 0.443 (+/-0.000) para los parámetros {'algorithm': 'auto', 'leaf_size': 90, 'metric': 'euclidean', 'n_neighbors': 5, 'p': 4, 'weights': 'distance'}\n",
      "Exactitud: 0.387 (+/-0.000) para los parámetros {'algorithm': 'auto', 'leaf_size': 90, 'metric': 'euclidean', 'n_neighbors': 10, 'p': 1, 'weights': 'uniform'}\n",
      "Exactitud: 0.421 (+/-0.000) para los parámetros {'algorithm': 'auto', 'leaf_size': 90, 'metric': 'euclidean', 'n_neighbors': 10, 'p': 1, 'weights': 'distance'}\n",
      "Exactitud: 0.387 (+/-0.000) para los parámetros {'algorithm': 'auto', 'leaf_size': 90, 'metric': 'euclidean', 'n_neighbors': 10, 'p': 2, 'weights': 'uniform'}\n",
      "Exactitud: 0.421 (+/-0.000) para los parámetros {'algorithm': 'auto', 'leaf_size': 90, 'metric': 'euclidean', 'n_neighbors': 10, 'p': 2, 'weights': 'distance'}\n",
      "Exactitud: 0.387 (+/-0.000) para los parámetros {'algorithm': 'auto', 'leaf_size': 90, 'metric': 'euclidean', 'n_neighbors': 10, 'p': 4, 'weights': 'uniform'}\n",
      "Exactitud: 0.421 (+/-0.000) para los parámetros {'algorithm': 'auto', 'leaf_size': 90, 'metric': 'euclidean', 'n_neighbors': 10, 'p': 4, 'weights': 'distance'}\n",
      "Exactitud: 0.365 (+/-0.000) para los parámetros {'algorithm': 'auto', 'leaf_size': 90, 'metric': 'euclidean', 'n_neighbors': 20, 'p': 1, 'weights': 'uniform'}\n",
      "Exactitud: 0.404 (+/-0.000) para los parámetros {'algorithm': 'auto', 'leaf_size': 90, 'metric': 'euclidean', 'n_neighbors': 20, 'p': 1, 'weights': 'distance'}\n",
      "Exactitud: 0.365 (+/-0.000) para los parámetros {'algorithm': 'auto', 'leaf_size': 90, 'metric': 'euclidean', 'n_neighbors': 20, 'p': 2, 'weights': 'uniform'}\n",
      "Exactitud: 0.404 (+/-0.000) para los parámetros {'algorithm': 'auto', 'leaf_size': 90, 'metric': 'euclidean', 'n_neighbors': 20, 'p': 2, 'weights': 'distance'}\n",
      "Exactitud: 0.365 (+/-0.000) para los parámetros {'algorithm': 'auto', 'leaf_size': 90, 'metric': 'euclidean', 'n_neighbors': 20, 'p': 4, 'weights': 'uniform'}\n",
      "Exactitud: 0.404 (+/-0.000) para los parámetros {'algorithm': 'auto', 'leaf_size': 90, 'metric': 'euclidean', 'n_neighbors': 20, 'p': 4, 'weights': 'distance'}\n",
      "Exactitud: 0.357 (+/-0.000) para los parámetros {'algorithm': 'auto', 'leaf_size': 90, 'metric': 'euclidean', 'n_neighbors': 30, 'p': 1, 'weights': 'uniform'}\n",
      "Exactitud: 0.395 (+/-0.000) para los parámetros {'algorithm': 'auto', 'leaf_size': 90, 'metric': 'euclidean', 'n_neighbors': 30, 'p': 1, 'weights': 'distance'}\n",
      "Exactitud: 0.357 (+/-0.000) para los parámetros {'algorithm': 'auto', 'leaf_size': 90, 'metric': 'euclidean', 'n_neighbors': 30, 'p': 2, 'weights': 'uniform'}\n",
      "Exactitud: 0.395 (+/-0.000) para los parámetros {'algorithm': 'auto', 'leaf_size': 90, 'metric': 'euclidean', 'n_neighbors': 30, 'p': 2, 'weights': 'distance'}\n",
      "Exactitud: 0.357 (+/-0.000) para los parámetros {'algorithm': 'auto', 'leaf_size': 90, 'metric': 'euclidean', 'n_neighbors': 30, 'p': 4, 'weights': 'uniform'}\n",
      "Exactitud: 0.395 (+/-0.000) para los parámetros {'algorithm': 'auto', 'leaf_size': 90, 'metric': 'euclidean', 'n_neighbors': 30, 'p': 4, 'weights': 'distance'}\n",
      "Exactitud: 0.439 (+/-0.000) para los parámetros {'algorithm': 'auto', 'leaf_size': 90, 'metric': 'manhattan', 'n_neighbors': 5, 'p': 1, 'weights': 'uniform'}\n",
      "Exactitud: 0.460 (+/-0.000) para los parámetros {'algorithm': 'auto', 'leaf_size': 90, 'metric': 'manhattan', 'n_neighbors': 5, 'p': 1, 'weights': 'distance'}\n",
      "Exactitud: 0.439 (+/-0.000) para los parámetros {'algorithm': 'auto', 'leaf_size': 90, 'metric': 'manhattan', 'n_neighbors': 5, 'p': 2, 'weights': 'uniform'}\n",
      "Exactitud: 0.460 (+/-0.000) para los parámetros {'algorithm': 'auto', 'leaf_size': 90, 'metric': 'manhattan', 'n_neighbors': 5, 'p': 2, 'weights': 'distance'}\n",
      "Exactitud: 0.439 (+/-0.000) para los parámetros {'algorithm': 'auto', 'leaf_size': 90, 'metric': 'manhattan', 'n_neighbors': 5, 'p': 4, 'weights': 'uniform'}\n",
      "Exactitud: 0.460 (+/-0.000) para los parámetros {'algorithm': 'auto', 'leaf_size': 90, 'metric': 'manhattan', 'n_neighbors': 5, 'p': 4, 'weights': 'distance'}\n",
      "Exactitud: 0.431 (+/-0.000) para los parámetros {'algorithm': 'auto', 'leaf_size': 90, 'metric': 'manhattan', 'n_neighbors': 10, 'p': 1, 'weights': 'uniform'}\n",
      "Exactitud: 0.457 (+/-0.000) para los parámetros {'algorithm': 'auto', 'leaf_size': 90, 'metric': 'manhattan', 'n_neighbors': 10, 'p': 1, 'weights': 'distance'}\n",
      "Exactitud: 0.431 (+/-0.000) para los parámetros {'algorithm': 'auto', 'leaf_size': 90, 'metric': 'manhattan', 'n_neighbors': 10, 'p': 2, 'weights': 'uniform'}\n",
      "Exactitud: 0.457 (+/-0.000) para los parámetros {'algorithm': 'auto', 'leaf_size': 90, 'metric': 'manhattan', 'n_neighbors': 10, 'p': 2, 'weights': 'distance'}\n",
      "Exactitud: 0.431 (+/-0.000) para los parámetros {'algorithm': 'auto', 'leaf_size': 90, 'metric': 'manhattan', 'n_neighbors': 10, 'p': 4, 'weights': 'uniform'}\n",
      "Exactitud: 0.457 (+/-0.000) para los parámetros {'algorithm': 'auto', 'leaf_size': 90, 'metric': 'manhattan', 'n_neighbors': 10, 'p': 4, 'weights': 'distance'}\n",
      "Exactitud: 0.418 (+/-0.000) para los parámetros {'algorithm': 'auto', 'leaf_size': 90, 'metric': 'manhattan', 'n_neighbors': 20, 'p': 1, 'weights': 'uniform'}\n",
      "Exactitud: 0.448 (+/-0.000) para los parámetros {'algorithm': 'auto', 'leaf_size': 90, 'metric': 'manhattan', 'n_neighbors': 20, 'p': 1, 'weights': 'distance'}\n",
      "Exactitud: 0.418 (+/-0.000) para los parámetros {'algorithm': 'auto', 'leaf_size': 90, 'metric': 'manhattan', 'n_neighbors': 20, 'p': 2, 'weights': 'uniform'}\n",
      "Exactitud: 0.448 (+/-0.000) para los parámetros {'algorithm': 'auto', 'leaf_size': 90, 'metric': 'manhattan', 'n_neighbors': 20, 'p': 2, 'weights': 'distance'}\n",
      "Exactitud: 0.418 (+/-0.000) para los parámetros {'algorithm': 'auto', 'leaf_size': 90, 'metric': 'manhattan', 'n_neighbors': 20, 'p': 4, 'weights': 'uniform'}\n",
      "Exactitud: 0.448 (+/-0.000) para los parámetros {'algorithm': 'auto', 'leaf_size': 90, 'metric': 'manhattan', 'n_neighbors': 20, 'p': 4, 'weights': 'distance'}\n",
      "Exactitud: 0.404 (+/-0.000) para los parámetros {'algorithm': 'auto', 'leaf_size': 90, 'metric': 'manhattan', 'n_neighbors': 30, 'p': 1, 'weights': 'uniform'}\n",
      "Exactitud: 0.442 (+/-0.000) para los parámetros {'algorithm': 'auto', 'leaf_size': 90, 'metric': 'manhattan', 'n_neighbors': 30, 'p': 1, 'weights': 'distance'}\n",
      "Exactitud: 0.404 (+/-0.000) para los parámetros {'algorithm': 'auto', 'leaf_size': 90, 'metric': 'manhattan', 'n_neighbors': 30, 'p': 2, 'weights': 'uniform'}\n",
      "Exactitud: 0.442 (+/-0.000) para los parámetros {'algorithm': 'auto', 'leaf_size': 90, 'metric': 'manhattan', 'n_neighbors': 30, 'p': 2, 'weights': 'distance'}\n",
      "Exactitud: 0.404 (+/-0.000) para los parámetros {'algorithm': 'auto', 'leaf_size': 90, 'metric': 'manhattan', 'n_neighbors': 30, 'p': 4, 'weights': 'uniform'}\n",
      "Exactitud: 0.442 (+/-0.000) para los parámetros {'algorithm': 'auto', 'leaf_size': 90, 'metric': 'manhattan', 'n_neighbors': 30, 'p': 4, 'weights': 'distance'}\n",
      "Exactitud: 0.409 (+/-0.000) para los parámetros {'algorithm': 'brute', 'leaf_size': 15, 'metric': 'euclidean', 'n_neighbors': 5, 'p': 1, 'weights': 'uniform'}\n",
      "Exactitud: 0.443 (+/-0.000) para los parámetros {'algorithm': 'brute', 'leaf_size': 15, 'metric': 'euclidean', 'n_neighbors': 5, 'p': 1, 'weights': 'distance'}\n",
      "Exactitud: 0.409 (+/-0.000) para los parámetros {'algorithm': 'brute', 'leaf_size': 15, 'metric': 'euclidean', 'n_neighbors': 5, 'p': 2, 'weights': 'uniform'}\n",
      "Exactitud: 0.443 (+/-0.000) para los parámetros {'algorithm': 'brute', 'leaf_size': 15, 'metric': 'euclidean', 'n_neighbors': 5, 'p': 2, 'weights': 'distance'}\n",
      "Exactitud: 0.409 (+/-0.000) para los parámetros {'algorithm': 'brute', 'leaf_size': 15, 'metric': 'euclidean', 'n_neighbors': 5, 'p': 4, 'weights': 'uniform'}\n",
      "Exactitud: 0.443 (+/-0.000) para los parámetros {'algorithm': 'brute', 'leaf_size': 15, 'metric': 'euclidean', 'n_neighbors': 5, 'p': 4, 'weights': 'distance'}\n",
      "Exactitud: 0.387 (+/-0.000) para los parámetros {'algorithm': 'brute', 'leaf_size': 15, 'metric': 'euclidean', 'n_neighbors': 10, 'p': 1, 'weights': 'uniform'}\n",
      "Exactitud: 0.423 (+/-0.000) para los parámetros {'algorithm': 'brute', 'leaf_size': 15, 'metric': 'euclidean', 'n_neighbors': 10, 'p': 1, 'weights': 'distance'}\n",
      "Exactitud: 0.387 (+/-0.000) para los parámetros {'algorithm': 'brute', 'leaf_size': 15, 'metric': 'euclidean', 'n_neighbors': 10, 'p': 2, 'weights': 'uniform'}\n",
      "Exactitud: 0.423 (+/-0.000) para los parámetros {'algorithm': 'brute', 'leaf_size': 15, 'metric': 'euclidean', 'n_neighbors': 10, 'p': 2, 'weights': 'distance'}\n",
      "Exactitud: 0.387 (+/-0.000) para los parámetros {'algorithm': 'brute', 'leaf_size': 15, 'metric': 'euclidean', 'n_neighbors': 10, 'p': 4, 'weights': 'uniform'}\n",
      "Exactitud: 0.423 (+/-0.000) para los parámetros {'algorithm': 'brute', 'leaf_size': 15, 'metric': 'euclidean', 'n_neighbors': 10, 'p': 4, 'weights': 'distance'}\n",
      "Exactitud: 0.365 (+/-0.000) para los parámetros {'algorithm': 'brute', 'leaf_size': 15, 'metric': 'euclidean', 'n_neighbors': 20, 'p': 1, 'weights': 'uniform'}\n",
      "Exactitud: 0.404 (+/-0.000) para los parámetros {'algorithm': 'brute', 'leaf_size': 15, 'metric': 'euclidean', 'n_neighbors': 20, 'p': 1, 'weights': 'distance'}\n",
      "Exactitud: 0.365 (+/-0.000) para los parámetros {'algorithm': 'brute', 'leaf_size': 15, 'metric': 'euclidean', 'n_neighbors': 20, 'p': 2, 'weights': 'uniform'}\n",
      "Exactitud: 0.404 (+/-0.000) para los parámetros {'algorithm': 'brute', 'leaf_size': 15, 'metric': 'euclidean', 'n_neighbors': 20, 'p': 2, 'weights': 'distance'}\n",
      "Exactitud: 0.365 (+/-0.000) para los parámetros {'algorithm': 'brute', 'leaf_size': 15, 'metric': 'euclidean', 'n_neighbors': 20, 'p': 4, 'weights': 'uniform'}\n",
      "Exactitud: 0.404 (+/-0.000) para los parámetros {'algorithm': 'brute', 'leaf_size': 15, 'metric': 'euclidean', 'n_neighbors': 20, 'p': 4, 'weights': 'distance'}\n",
      "Exactitud: 0.358 (+/-0.000) para los parámetros {'algorithm': 'brute', 'leaf_size': 15, 'metric': 'euclidean', 'n_neighbors': 30, 'p': 1, 'weights': 'uniform'}\n",
      "Exactitud: 0.396 (+/-0.000) para los parámetros {'algorithm': 'brute', 'leaf_size': 15, 'metric': 'euclidean', 'n_neighbors': 30, 'p': 1, 'weights': 'distance'}\n",
      "Exactitud: 0.358 (+/-0.000) para los parámetros {'algorithm': 'brute', 'leaf_size': 15, 'metric': 'euclidean', 'n_neighbors': 30, 'p': 2, 'weights': 'uniform'}\n",
      "Exactitud: 0.396 (+/-0.000) para los parámetros {'algorithm': 'brute', 'leaf_size': 15, 'metric': 'euclidean', 'n_neighbors': 30, 'p': 2, 'weights': 'distance'}\n",
      "Exactitud: 0.358 (+/-0.000) para los parámetros {'algorithm': 'brute', 'leaf_size': 15, 'metric': 'euclidean', 'n_neighbors': 30, 'p': 4, 'weights': 'uniform'}\n",
      "Exactitud: 0.396 (+/-0.000) para los parámetros {'algorithm': 'brute', 'leaf_size': 15, 'metric': 'euclidean', 'n_neighbors': 30, 'p': 4, 'weights': 'distance'}\n",
      "Exactitud: 0.439 (+/-0.000) para los parámetros {'algorithm': 'brute', 'leaf_size': 15, 'metric': 'manhattan', 'n_neighbors': 5, 'p': 1, 'weights': 'uniform'}\n",
      "Exactitud: 0.460 (+/-0.000) para los parámetros {'algorithm': 'brute', 'leaf_size': 15, 'metric': 'manhattan', 'n_neighbors': 5, 'p': 1, 'weights': 'distance'}\n",
      "Exactitud: 0.439 (+/-0.000) para los parámetros {'algorithm': 'brute', 'leaf_size': 15, 'metric': 'manhattan', 'n_neighbors': 5, 'p': 2, 'weights': 'uniform'}\n",
      "Exactitud: 0.460 (+/-0.000) para los parámetros {'algorithm': 'brute', 'leaf_size': 15, 'metric': 'manhattan', 'n_neighbors': 5, 'p': 2, 'weights': 'distance'}\n",
      "Exactitud: 0.439 (+/-0.000) para los parámetros {'algorithm': 'brute', 'leaf_size': 15, 'metric': 'manhattan', 'n_neighbors': 5, 'p': 4, 'weights': 'uniform'}\n",
      "Exactitud: 0.460 (+/-0.000) para los parámetros {'algorithm': 'brute', 'leaf_size': 15, 'metric': 'manhattan', 'n_neighbors': 5, 'p': 4, 'weights': 'distance'}\n",
      "Exactitud: 0.432 (+/-0.000) para los parámetros {'algorithm': 'brute', 'leaf_size': 15, 'metric': 'manhattan', 'n_neighbors': 10, 'p': 1, 'weights': 'uniform'}\n",
      "Exactitud: 0.457 (+/-0.000) para los parámetros {'algorithm': 'brute', 'leaf_size': 15, 'metric': 'manhattan', 'n_neighbors': 10, 'p': 1, 'weights': 'distance'}\n",
      "Exactitud: 0.432 (+/-0.000) para los parámetros {'algorithm': 'brute', 'leaf_size': 15, 'metric': 'manhattan', 'n_neighbors': 10, 'p': 2, 'weights': 'uniform'}\n",
      "Exactitud: 0.457 (+/-0.000) para los parámetros {'algorithm': 'brute', 'leaf_size': 15, 'metric': 'manhattan', 'n_neighbors': 10, 'p': 2, 'weights': 'distance'}\n",
      "Exactitud: 0.432 (+/-0.000) para los parámetros {'algorithm': 'brute', 'leaf_size': 15, 'metric': 'manhattan', 'n_neighbors': 10, 'p': 4, 'weights': 'uniform'}\n",
      "Exactitud: 0.457 (+/-0.000) para los parámetros {'algorithm': 'brute', 'leaf_size': 15, 'metric': 'manhattan', 'n_neighbors': 10, 'p': 4, 'weights': 'distance'}\n",
      "Exactitud: 0.419 (+/-0.000) para los parámetros {'algorithm': 'brute', 'leaf_size': 15, 'metric': 'manhattan', 'n_neighbors': 20, 'p': 1, 'weights': 'uniform'}\n",
      "Exactitud: 0.445 (+/-0.000) para los parámetros {'algorithm': 'brute', 'leaf_size': 15, 'metric': 'manhattan', 'n_neighbors': 20, 'p': 1, 'weights': 'distance'}\n",
      "Exactitud: 0.419 (+/-0.000) para los parámetros {'algorithm': 'brute', 'leaf_size': 15, 'metric': 'manhattan', 'n_neighbors': 20, 'p': 2, 'weights': 'uniform'}\n",
      "Exactitud: 0.445 (+/-0.000) para los parámetros {'algorithm': 'brute', 'leaf_size': 15, 'metric': 'manhattan', 'n_neighbors': 20, 'p': 2, 'weights': 'distance'}\n",
      "Exactitud: 0.419 (+/-0.000) para los parámetros {'algorithm': 'brute', 'leaf_size': 15, 'metric': 'manhattan', 'n_neighbors': 20, 'p': 4, 'weights': 'uniform'}\n",
      "Exactitud: 0.445 (+/-0.000) para los parámetros {'algorithm': 'brute', 'leaf_size': 15, 'metric': 'manhattan', 'n_neighbors': 20, 'p': 4, 'weights': 'distance'}\n",
      "Exactitud: 0.405 (+/-0.000) para los parámetros {'algorithm': 'brute', 'leaf_size': 15, 'metric': 'manhattan', 'n_neighbors': 30, 'p': 1, 'weights': 'uniform'}\n",
      "Exactitud: 0.441 (+/-0.000) para los parámetros {'algorithm': 'brute', 'leaf_size': 15, 'metric': 'manhattan', 'n_neighbors': 30, 'p': 1, 'weights': 'distance'}\n",
      "Exactitud: 0.405 (+/-0.000) para los parámetros {'algorithm': 'brute', 'leaf_size': 15, 'metric': 'manhattan', 'n_neighbors': 30, 'p': 2, 'weights': 'uniform'}\n",
      "Exactitud: 0.441 (+/-0.000) para los parámetros {'algorithm': 'brute', 'leaf_size': 15, 'metric': 'manhattan', 'n_neighbors': 30, 'p': 2, 'weights': 'distance'}\n",
      "Exactitud: 0.405 (+/-0.000) para los parámetros {'algorithm': 'brute', 'leaf_size': 15, 'metric': 'manhattan', 'n_neighbors': 30, 'p': 4, 'weights': 'uniform'}\n",
      "Exactitud: 0.441 (+/-0.000) para los parámetros {'algorithm': 'brute', 'leaf_size': 15, 'metric': 'manhattan', 'n_neighbors': 30, 'p': 4, 'weights': 'distance'}\n",
      "Exactitud: 0.409 (+/-0.000) para los parámetros {'algorithm': 'brute', 'leaf_size': 30, 'metric': 'euclidean', 'n_neighbors': 5, 'p': 1, 'weights': 'uniform'}\n",
      "Exactitud: 0.443 (+/-0.000) para los parámetros {'algorithm': 'brute', 'leaf_size': 30, 'metric': 'euclidean', 'n_neighbors': 5, 'p': 1, 'weights': 'distance'}\n",
      "Exactitud: 0.409 (+/-0.000) para los parámetros {'algorithm': 'brute', 'leaf_size': 30, 'metric': 'euclidean', 'n_neighbors': 5, 'p': 2, 'weights': 'uniform'}\n",
      "Exactitud: 0.443 (+/-0.000) para los parámetros {'algorithm': 'brute', 'leaf_size': 30, 'metric': 'euclidean', 'n_neighbors': 5, 'p': 2, 'weights': 'distance'}\n",
      "Exactitud: 0.409 (+/-0.000) para los parámetros {'algorithm': 'brute', 'leaf_size': 30, 'metric': 'euclidean', 'n_neighbors': 5, 'p': 4, 'weights': 'uniform'}\n",
      "Exactitud: 0.443 (+/-0.000) para los parámetros {'algorithm': 'brute', 'leaf_size': 30, 'metric': 'euclidean', 'n_neighbors': 5, 'p': 4, 'weights': 'distance'}\n",
      "Exactitud: 0.387 (+/-0.000) para los parámetros {'algorithm': 'brute', 'leaf_size': 30, 'metric': 'euclidean', 'n_neighbors': 10, 'p': 1, 'weights': 'uniform'}\n",
      "Exactitud: 0.423 (+/-0.000) para los parámetros {'algorithm': 'brute', 'leaf_size': 30, 'metric': 'euclidean', 'n_neighbors': 10, 'p': 1, 'weights': 'distance'}\n",
      "Exactitud: 0.387 (+/-0.000) para los parámetros {'algorithm': 'brute', 'leaf_size': 30, 'metric': 'euclidean', 'n_neighbors': 10, 'p': 2, 'weights': 'uniform'}\n",
      "Exactitud: 0.423 (+/-0.000) para los parámetros {'algorithm': 'brute', 'leaf_size': 30, 'metric': 'euclidean', 'n_neighbors': 10, 'p': 2, 'weights': 'distance'}\n",
      "Exactitud: 0.387 (+/-0.000) para los parámetros {'algorithm': 'brute', 'leaf_size': 30, 'metric': 'euclidean', 'n_neighbors': 10, 'p': 4, 'weights': 'uniform'}\n",
      "Exactitud: 0.423 (+/-0.000) para los parámetros {'algorithm': 'brute', 'leaf_size': 30, 'metric': 'euclidean', 'n_neighbors': 10, 'p': 4, 'weights': 'distance'}\n",
      "Exactitud: 0.365 (+/-0.000) para los parámetros {'algorithm': 'brute', 'leaf_size': 30, 'metric': 'euclidean', 'n_neighbors': 20, 'p': 1, 'weights': 'uniform'}\n",
      "Exactitud: 0.404 (+/-0.000) para los parámetros {'algorithm': 'brute', 'leaf_size': 30, 'metric': 'euclidean', 'n_neighbors': 20, 'p': 1, 'weights': 'distance'}\n",
      "Exactitud: 0.365 (+/-0.000) para los parámetros {'algorithm': 'brute', 'leaf_size': 30, 'metric': 'euclidean', 'n_neighbors': 20, 'p': 2, 'weights': 'uniform'}\n",
      "Exactitud: 0.404 (+/-0.000) para los parámetros {'algorithm': 'brute', 'leaf_size': 30, 'metric': 'euclidean', 'n_neighbors': 20, 'p': 2, 'weights': 'distance'}\n",
      "Exactitud: 0.365 (+/-0.000) para los parámetros {'algorithm': 'brute', 'leaf_size': 30, 'metric': 'euclidean', 'n_neighbors': 20, 'p': 4, 'weights': 'uniform'}\n",
      "Exactitud: 0.404 (+/-0.000) para los parámetros {'algorithm': 'brute', 'leaf_size': 30, 'metric': 'euclidean', 'n_neighbors': 20, 'p': 4, 'weights': 'distance'}\n",
      "Exactitud: 0.358 (+/-0.000) para los parámetros {'algorithm': 'brute', 'leaf_size': 30, 'metric': 'euclidean', 'n_neighbors': 30, 'p': 1, 'weights': 'uniform'}\n",
      "Exactitud: 0.396 (+/-0.000) para los parámetros {'algorithm': 'brute', 'leaf_size': 30, 'metric': 'euclidean', 'n_neighbors': 30, 'p': 1, 'weights': 'distance'}\n",
      "Exactitud: 0.358 (+/-0.000) para los parámetros {'algorithm': 'brute', 'leaf_size': 30, 'metric': 'euclidean', 'n_neighbors': 30, 'p': 2, 'weights': 'uniform'}\n",
      "Exactitud: 0.396 (+/-0.000) para los parámetros {'algorithm': 'brute', 'leaf_size': 30, 'metric': 'euclidean', 'n_neighbors': 30, 'p': 2, 'weights': 'distance'}\n",
      "Exactitud: 0.358 (+/-0.000) para los parámetros {'algorithm': 'brute', 'leaf_size': 30, 'metric': 'euclidean', 'n_neighbors': 30, 'p': 4, 'weights': 'uniform'}\n",
      "Exactitud: 0.396 (+/-0.000) para los parámetros {'algorithm': 'brute', 'leaf_size': 30, 'metric': 'euclidean', 'n_neighbors': 30, 'p': 4, 'weights': 'distance'}\n",
      "Exactitud: 0.439 (+/-0.000) para los parámetros {'algorithm': 'brute', 'leaf_size': 30, 'metric': 'manhattan', 'n_neighbors': 5, 'p': 1, 'weights': 'uniform'}\n",
      "Exactitud: 0.460 (+/-0.000) para los parámetros {'algorithm': 'brute', 'leaf_size': 30, 'metric': 'manhattan', 'n_neighbors': 5, 'p': 1, 'weights': 'distance'}\n",
      "Exactitud: 0.439 (+/-0.000) para los parámetros {'algorithm': 'brute', 'leaf_size': 30, 'metric': 'manhattan', 'n_neighbors': 5, 'p': 2, 'weights': 'uniform'}\n",
      "Exactitud: 0.460 (+/-0.000) para los parámetros {'algorithm': 'brute', 'leaf_size': 30, 'metric': 'manhattan', 'n_neighbors': 5, 'p': 2, 'weights': 'distance'}\n",
      "Exactitud: 0.439 (+/-0.000) para los parámetros {'algorithm': 'brute', 'leaf_size': 30, 'metric': 'manhattan', 'n_neighbors': 5, 'p': 4, 'weights': 'uniform'}\n",
      "Exactitud: 0.460 (+/-0.000) para los parámetros {'algorithm': 'brute', 'leaf_size': 30, 'metric': 'manhattan', 'n_neighbors': 5, 'p': 4, 'weights': 'distance'}\n",
      "Exactitud: 0.432 (+/-0.000) para los parámetros {'algorithm': 'brute', 'leaf_size': 30, 'metric': 'manhattan', 'n_neighbors': 10, 'p': 1, 'weights': 'uniform'}\n",
      "Exactitud: 0.457 (+/-0.000) para los parámetros {'algorithm': 'brute', 'leaf_size': 30, 'metric': 'manhattan', 'n_neighbors': 10, 'p': 1, 'weights': 'distance'}\n",
      "Exactitud: 0.432 (+/-0.000) para los parámetros {'algorithm': 'brute', 'leaf_size': 30, 'metric': 'manhattan', 'n_neighbors': 10, 'p': 2, 'weights': 'uniform'}\n",
      "Exactitud: 0.457 (+/-0.000) para los parámetros {'algorithm': 'brute', 'leaf_size': 30, 'metric': 'manhattan', 'n_neighbors': 10, 'p': 2, 'weights': 'distance'}\n",
      "Exactitud: 0.432 (+/-0.000) para los parámetros {'algorithm': 'brute', 'leaf_size': 30, 'metric': 'manhattan', 'n_neighbors': 10, 'p': 4, 'weights': 'uniform'}\n",
      "Exactitud: 0.457 (+/-0.000) para los parámetros {'algorithm': 'brute', 'leaf_size': 30, 'metric': 'manhattan', 'n_neighbors': 10, 'p': 4, 'weights': 'distance'}\n",
      "Exactitud: 0.419 (+/-0.000) para los parámetros {'algorithm': 'brute', 'leaf_size': 30, 'metric': 'manhattan', 'n_neighbors': 20, 'p': 1, 'weights': 'uniform'}\n",
      "Exactitud: 0.445 (+/-0.000) para los parámetros {'algorithm': 'brute', 'leaf_size': 30, 'metric': 'manhattan', 'n_neighbors': 20, 'p': 1, 'weights': 'distance'}\n",
      "Exactitud: 0.419 (+/-0.000) para los parámetros {'algorithm': 'brute', 'leaf_size': 30, 'metric': 'manhattan', 'n_neighbors': 20, 'p': 2, 'weights': 'uniform'}\n",
      "Exactitud: 0.445 (+/-0.000) para los parámetros {'algorithm': 'brute', 'leaf_size': 30, 'metric': 'manhattan', 'n_neighbors': 20, 'p': 2, 'weights': 'distance'}\n",
      "Exactitud: 0.419 (+/-0.000) para los parámetros {'algorithm': 'brute', 'leaf_size': 30, 'metric': 'manhattan', 'n_neighbors': 20, 'p': 4, 'weights': 'uniform'}\n",
      "Exactitud: 0.445 (+/-0.000) para los parámetros {'algorithm': 'brute', 'leaf_size': 30, 'metric': 'manhattan', 'n_neighbors': 20, 'p': 4, 'weights': 'distance'}\n",
      "Exactitud: 0.405 (+/-0.000) para los parámetros {'algorithm': 'brute', 'leaf_size': 30, 'metric': 'manhattan', 'n_neighbors': 30, 'p': 1, 'weights': 'uniform'}\n",
      "Exactitud: 0.441 (+/-0.000) para los parámetros {'algorithm': 'brute', 'leaf_size': 30, 'metric': 'manhattan', 'n_neighbors': 30, 'p': 1, 'weights': 'distance'}\n",
      "Exactitud: 0.405 (+/-0.000) para los parámetros {'algorithm': 'brute', 'leaf_size': 30, 'metric': 'manhattan', 'n_neighbors': 30, 'p': 2, 'weights': 'uniform'}\n",
      "Exactitud: 0.441 (+/-0.000) para los parámetros {'algorithm': 'brute', 'leaf_size': 30, 'metric': 'manhattan', 'n_neighbors': 30, 'p': 2, 'weights': 'distance'}\n",
      "Exactitud: 0.405 (+/-0.000) para los parámetros {'algorithm': 'brute', 'leaf_size': 30, 'metric': 'manhattan', 'n_neighbors': 30, 'p': 4, 'weights': 'uniform'}\n",
      "Exactitud: 0.441 (+/-0.000) para los parámetros {'algorithm': 'brute', 'leaf_size': 30, 'metric': 'manhattan', 'n_neighbors': 30, 'p': 4, 'weights': 'distance'}\n",
      "Exactitud: 0.409 (+/-0.000) para los parámetros {'algorithm': 'brute', 'leaf_size': 45, 'metric': 'euclidean', 'n_neighbors': 5, 'p': 1, 'weights': 'uniform'}\n",
      "Exactitud: 0.443 (+/-0.000) para los parámetros {'algorithm': 'brute', 'leaf_size': 45, 'metric': 'euclidean', 'n_neighbors': 5, 'p': 1, 'weights': 'distance'}\n",
      "Exactitud: 0.409 (+/-0.000) para los parámetros {'algorithm': 'brute', 'leaf_size': 45, 'metric': 'euclidean', 'n_neighbors': 5, 'p': 2, 'weights': 'uniform'}\n",
      "Exactitud: 0.443 (+/-0.000) para los parámetros {'algorithm': 'brute', 'leaf_size': 45, 'metric': 'euclidean', 'n_neighbors': 5, 'p': 2, 'weights': 'distance'}\n",
      "Exactitud: 0.409 (+/-0.000) para los parámetros {'algorithm': 'brute', 'leaf_size': 45, 'metric': 'euclidean', 'n_neighbors': 5, 'p': 4, 'weights': 'uniform'}\n",
      "Exactitud: 0.443 (+/-0.000) para los parámetros {'algorithm': 'brute', 'leaf_size': 45, 'metric': 'euclidean', 'n_neighbors': 5, 'p': 4, 'weights': 'distance'}\n",
      "Exactitud: 0.387 (+/-0.000) para los parámetros {'algorithm': 'brute', 'leaf_size': 45, 'metric': 'euclidean', 'n_neighbors': 10, 'p': 1, 'weights': 'uniform'}\n",
      "Exactitud: 0.423 (+/-0.000) para los parámetros {'algorithm': 'brute', 'leaf_size': 45, 'metric': 'euclidean', 'n_neighbors': 10, 'p': 1, 'weights': 'distance'}\n",
      "Exactitud: 0.387 (+/-0.000) para los parámetros {'algorithm': 'brute', 'leaf_size': 45, 'metric': 'euclidean', 'n_neighbors': 10, 'p': 2, 'weights': 'uniform'}\n",
      "Exactitud: 0.423 (+/-0.000) para los parámetros {'algorithm': 'brute', 'leaf_size': 45, 'metric': 'euclidean', 'n_neighbors': 10, 'p': 2, 'weights': 'distance'}\n",
      "Exactitud: 0.387 (+/-0.000) para los parámetros {'algorithm': 'brute', 'leaf_size': 45, 'metric': 'euclidean', 'n_neighbors': 10, 'p': 4, 'weights': 'uniform'}\n",
      "Exactitud: 0.423 (+/-0.000) para los parámetros {'algorithm': 'brute', 'leaf_size': 45, 'metric': 'euclidean', 'n_neighbors': 10, 'p': 4, 'weights': 'distance'}\n",
      "Exactitud: 0.365 (+/-0.000) para los parámetros {'algorithm': 'brute', 'leaf_size': 45, 'metric': 'euclidean', 'n_neighbors': 20, 'p': 1, 'weights': 'uniform'}\n",
      "Exactitud: 0.404 (+/-0.000) para los parámetros {'algorithm': 'brute', 'leaf_size': 45, 'metric': 'euclidean', 'n_neighbors': 20, 'p': 1, 'weights': 'distance'}\n",
      "Exactitud: 0.365 (+/-0.000) para los parámetros {'algorithm': 'brute', 'leaf_size': 45, 'metric': 'euclidean', 'n_neighbors': 20, 'p': 2, 'weights': 'uniform'}\n",
      "Exactitud: 0.404 (+/-0.000) para los parámetros {'algorithm': 'brute', 'leaf_size': 45, 'metric': 'euclidean', 'n_neighbors': 20, 'p': 2, 'weights': 'distance'}\n",
      "Exactitud: 0.365 (+/-0.000) para los parámetros {'algorithm': 'brute', 'leaf_size': 45, 'metric': 'euclidean', 'n_neighbors': 20, 'p': 4, 'weights': 'uniform'}\n",
      "Exactitud: 0.404 (+/-0.000) para los parámetros {'algorithm': 'brute', 'leaf_size': 45, 'metric': 'euclidean', 'n_neighbors': 20, 'p': 4, 'weights': 'distance'}\n",
      "Exactitud: 0.358 (+/-0.000) para los parámetros {'algorithm': 'brute', 'leaf_size': 45, 'metric': 'euclidean', 'n_neighbors': 30, 'p': 1, 'weights': 'uniform'}\n",
      "Exactitud: 0.396 (+/-0.000) para los parámetros {'algorithm': 'brute', 'leaf_size': 45, 'metric': 'euclidean', 'n_neighbors': 30, 'p': 1, 'weights': 'distance'}\n",
      "Exactitud: 0.358 (+/-0.000) para los parámetros {'algorithm': 'brute', 'leaf_size': 45, 'metric': 'euclidean', 'n_neighbors': 30, 'p': 2, 'weights': 'uniform'}\n",
      "Exactitud: 0.396 (+/-0.000) para los parámetros {'algorithm': 'brute', 'leaf_size': 45, 'metric': 'euclidean', 'n_neighbors': 30, 'p': 2, 'weights': 'distance'}\n",
      "Exactitud: 0.358 (+/-0.000) para los parámetros {'algorithm': 'brute', 'leaf_size': 45, 'metric': 'euclidean', 'n_neighbors': 30, 'p': 4, 'weights': 'uniform'}\n",
      "Exactitud: 0.396 (+/-0.000) para los parámetros {'algorithm': 'brute', 'leaf_size': 45, 'metric': 'euclidean', 'n_neighbors': 30, 'p': 4, 'weights': 'distance'}\n",
      "Exactitud: 0.439 (+/-0.000) para los parámetros {'algorithm': 'brute', 'leaf_size': 45, 'metric': 'manhattan', 'n_neighbors': 5, 'p': 1, 'weights': 'uniform'}\n",
      "Exactitud: 0.460 (+/-0.000) para los parámetros {'algorithm': 'brute', 'leaf_size': 45, 'metric': 'manhattan', 'n_neighbors': 5, 'p': 1, 'weights': 'distance'}\n",
      "Exactitud: 0.439 (+/-0.000) para los parámetros {'algorithm': 'brute', 'leaf_size': 45, 'metric': 'manhattan', 'n_neighbors': 5, 'p': 2, 'weights': 'uniform'}\n",
      "Exactitud: 0.460 (+/-0.000) para los parámetros {'algorithm': 'brute', 'leaf_size': 45, 'metric': 'manhattan', 'n_neighbors': 5, 'p': 2, 'weights': 'distance'}\n",
      "Exactitud: 0.439 (+/-0.000) para los parámetros {'algorithm': 'brute', 'leaf_size': 45, 'metric': 'manhattan', 'n_neighbors': 5, 'p': 4, 'weights': 'uniform'}\n",
      "Exactitud: 0.460 (+/-0.000) para los parámetros {'algorithm': 'brute', 'leaf_size': 45, 'metric': 'manhattan', 'n_neighbors': 5, 'p': 4, 'weights': 'distance'}\n",
      "Exactitud: 0.432 (+/-0.000) para los parámetros {'algorithm': 'brute', 'leaf_size': 45, 'metric': 'manhattan', 'n_neighbors': 10, 'p': 1, 'weights': 'uniform'}\n",
      "Exactitud: 0.457 (+/-0.000) para los parámetros {'algorithm': 'brute', 'leaf_size': 45, 'metric': 'manhattan', 'n_neighbors': 10, 'p': 1, 'weights': 'distance'}\n",
      "Exactitud: 0.432 (+/-0.000) para los parámetros {'algorithm': 'brute', 'leaf_size': 45, 'metric': 'manhattan', 'n_neighbors': 10, 'p': 2, 'weights': 'uniform'}\n",
      "Exactitud: 0.457 (+/-0.000) para los parámetros {'algorithm': 'brute', 'leaf_size': 45, 'metric': 'manhattan', 'n_neighbors': 10, 'p': 2, 'weights': 'distance'}\n",
      "Exactitud: 0.432 (+/-0.000) para los parámetros {'algorithm': 'brute', 'leaf_size': 45, 'metric': 'manhattan', 'n_neighbors': 10, 'p': 4, 'weights': 'uniform'}\n",
      "Exactitud: 0.457 (+/-0.000) para los parámetros {'algorithm': 'brute', 'leaf_size': 45, 'metric': 'manhattan', 'n_neighbors': 10, 'p': 4, 'weights': 'distance'}\n",
      "Exactitud: 0.419 (+/-0.000) para los parámetros {'algorithm': 'brute', 'leaf_size': 45, 'metric': 'manhattan', 'n_neighbors': 20, 'p': 1, 'weights': 'uniform'}\n",
      "Exactitud: 0.445 (+/-0.000) para los parámetros {'algorithm': 'brute', 'leaf_size': 45, 'metric': 'manhattan', 'n_neighbors': 20, 'p': 1, 'weights': 'distance'}\n",
      "Exactitud: 0.419 (+/-0.000) para los parámetros {'algorithm': 'brute', 'leaf_size': 45, 'metric': 'manhattan', 'n_neighbors': 20, 'p': 2, 'weights': 'uniform'}\n",
      "Exactitud: 0.445 (+/-0.000) para los parámetros {'algorithm': 'brute', 'leaf_size': 45, 'metric': 'manhattan', 'n_neighbors': 20, 'p': 2, 'weights': 'distance'}\n",
      "Exactitud: 0.419 (+/-0.000) para los parámetros {'algorithm': 'brute', 'leaf_size': 45, 'metric': 'manhattan', 'n_neighbors': 20, 'p': 4, 'weights': 'uniform'}\n",
      "Exactitud: 0.445 (+/-0.000) para los parámetros {'algorithm': 'brute', 'leaf_size': 45, 'metric': 'manhattan', 'n_neighbors': 20, 'p': 4, 'weights': 'distance'}\n",
      "Exactitud: 0.405 (+/-0.000) para los parámetros {'algorithm': 'brute', 'leaf_size': 45, 'metric': 'manhattan', 'n_neighbors': 30, 'p': 1, 'weights': 'uniform'}\n",
      "Exactitud: 0.441 (+/-0.000) para los parámetros {'algorithm': 'brute', 'leaf_size': 45, 'metric': 'manhattan', 'n_neighbors': 30, 'p': 1, 'weights': 'distance'}\n",
      "Exactitud: 0.405 (+/-0.000) para los parámetros {'algorithm': 'brute', 'leaf_size': 45, 'metric': 'manhattan', 'n_neighbors': 30, 'p': 2, 'weights': 'uniform'}\n",
      "Exactitud: 0.441 (+/-0.000) para los parámetros {'algorithm': 'brute', 'leaf_size': 45, 'metric': 'manhattan', 'n_neighbors': 30, 'p': 2, 'weights': 'distance'}\n",
      "Exactitud: 0.405 (+/-0.000) para los parámetros {'algorithm': 'brute', 'leaf_size': 45, 'metric': 'manhattan', 'n_neighbors': 30, 'p': 4, 'weights': 'uniform'}\n",
      "Exactitud: 0.441 (+/-0.000) para los parámetros {'algorithm': 'brute', 'leaf_size': 45, 'metric': 'manhattan', 'n_neighbors': 30, 'p': 4, 'weights': 'distance'}\n",
      "Exactitud: 0.409 (+/-0.000) para los parámetros {'algorithm': 'brute', 'leaf_size': 90, 'metric': 'euclidean', 'n_neighbors': 5, 'p': 1, 'weights': 'uniform'}\n",
      "Exactitud: 0.443 (+/-0.000) para los parámetros {'algorithm': 'brute', 'leaf_size': 90, 'metric': 'euclidean', 'n_neighbors': 5, 'p': 1, 'weights': 'distance'}\n",
      "Exactitud: 0.409 (+/-0.000) para los parámetros {'algorithm': 'brute', 'leaf_size': 90, 'metric': 'euclidean', 'n_neighbors': 5, 'p': 2, 'weights': 'uniform'}\n",
      "Exactitud: 0.443 (+/-0.000) para los parámetros {'algorithm': 'brute', 'leaf_size': 90, 'metric': 'euclidean', 'n_neighbors': 5, 'p': 2, 'weights': 'distance'}\n",
      "Exactitud: 0.409 (+/-0.000) para los parámetros {'algorithm': 'brute', 'leaf_size': 90, 'metric': 'euclidean', 'n_neighbors': 5, 'p': 4, 'weights': 'uniform'}\n",
      "Exactitud: 0.443 (+/-0.000) para los parámetros {'algorithm': 'brute', 'leaf_size': 90, 'metric': 'euclidean', 'n_neighbors': 5, 'p': 4, 'weights': 'distance'}\n",
      "Exactitud: 0.387 (+/-0.000) para los parámetros {'algorithm': 'brute', 'leaf_size': 90, 'metric': 'euclidean', 'n_neighbors': 10, 'p': 1, 'weights': 'uniform'}\n",
      "Exactitud: 0.423 (+/-0.000) para los parámetros {'algorithm': 'brute', 'leaf_size': 90, 'metric': 'euclidean', 'n_neighbors': 10, 'p': 1, 'weights': 'distance'}\n",
      "Exactitud: 0.387 (+/-0.000) para los parámetros {'algorithm': 'brute', 'leaf_size': 90, 'metric': 'euclidean', 'n_neighbors': 10, 'p': 2, 'weights': 'uniform'}\n",
      "Exactitud: 0.423 (+/-0.000) para los parámetros {'algorithm': 'brute', 'leaf_size': 90, 'metric': 'euclidean', 'n_neighbors': 10, 'p': 2, 'weights': 'distance'}\n",
      "Exactitud: 0.387 (+/-0.000) para los parámetros {'algorithm': 'brute', 'leaf_size': 90, 'metric': 'euclidean', 'n_neighbors': 10, 'p': 4, 'weights': 'uniform'}\n",
      "Exactitud: 0.423 (+/-0.000) para los parámetros {'algorithm': 'brute', 'leaf_size': 90, 'metric': 'euclidean', 'n_neighbors': 10, 'p': 4, 'weights': 'distance'}\n",
      "Exactitud: 0.365 (+/-0.000) para los parámetros {'algorithm': 'brute', 'leaf_size': 90, 'metric': 'euclidean', 'n_neighbors': 20, 'p': 1, 'weights': 'uniform'}\n",
      "Exactitud: 0.404 (+/-0.000) para los parámetros {'algorithm': 'brute', 'leaf_size': 90, 'metric': 'euclidean', 'n_neighbors': 20, 'p': 1, 'weights': 'distance'}\n",
      "Exactitud: 0.365 (+/-0.000) para los parámetros {'algorithm': 'brute', 'leaf_size': 90, 'metric': 'euclidean', 'n_neighbors': 20, 'p': 2, 'weights': 'uniform'}\n",
      "Exactitud: 0.404 (+/-0.000) para los parámetros {'algorithm': 'brute', 'leaf_size': 90, 'metric': 'euclidean', 'n_neighbors': 20, 'p': 2, 'weights': 'distance'}\n",
      "Exactitud: 0.365 (+/-0.000) para los parámetros {'algorithm': 'brute', 'leaf_size': 90, 'metric': 'euclidean', 'n_neighbors': 20, 'p': 4, 'weights': 'uniform'}\n",
      "Exactitud: 0.404 (+/-0.000) para los parámetros {'algorithm': 'brute', 'leaf_size': 90, 'metric': 'euclidean', 'n_neighbors': 20, 'p': 4, 'weights': 'distance'}\n",
      "Exactitud: 0.358 (+/-0.000) para los parámetros {'algorithm': 'brute', 'leaf_size': 90, 'metric': 'euclidean', 'n_neighbors': 30, 'p': 1, 'weights': 'uniform'}\n",
      "Exactitud: 0.396 (+/-0.000) para los parámetros {'algorithm': 'brute', 'leaf_size': 90, 'metric': 'euclidean', 'n_neighbors': 30, 'p': 1, 'weights': 'distance'}\n",
      "Exactitud: 0.358 (+/-0.000) para los parámetros {'algorithm': 'brute', 'leaf_size': 90, 'metric': 'euclidean', 'n_neighbors': 30, 'p': 2, 'weights': 'uniform'}\n",
      "Exactitud: 0.396 (+/-0.000) para los parámetros {'algorithm': 'brute', 'leaf_size': 90, 'metric': 'euclidean', 'n_neighbors': 30, 'p': 2, 'weights': 'distance'}\n",
      "Exactitud: 0.358 (+/-0.000) para los parámetros {'algorithm': 'brute', 'leaf_size': 90, 'metric': 'euclidean', 'n_neighbors': 30, 'p': 4, 'weights': 'uniform'}\n",
      "Exactitud: 0.396 (+/-0.000) para los parámetros {'algorithm': 'brute', 'leaf_size': 90, 'metric': 'euclidean', 'n_neighbors': 30, 'p': 4, 'weights': 'distance'}\n",
      "Exactitud: 0.439 (+/-0.000) para los parámetros {'algorithm': 'brute', 'leaf_size': 90, 'metric': 'manhattan', 'n_neighbors': 5, 'p': 1, 'weights': 'uniform'}\n",
      "Exactitud: 0.460 (+/-0.000) para los parámetros {'algorithm': 'brute', 'leaf_size': 90, 'metric': 'manhattan', 'n_neighbors': 5, 'p': 1, 'weights': 'distance'}\n",
      "Exactitud: 0.439 (+/-0.000) para los parámetros {'algorithm': 'brute', 'leaf_size': 90, 'metric': 'manhattan', 'n_neighbors': 5, 'p': 2, 'weights': 'uniform'}\n",
      "Exactitud: 0.460 (+/-0.000) para los parámetros {'algorithm': 'brute', 'leaf_size': 90, 'metric': 'manhattan', 'n_neighbors': 5, 'p': 2, 'weights': 'distance'}\n",
      "Exactitud: 0.439 (+/-0.000) para los parámetros {'algorithm': 'brute', 'leaf_size': 90, 'metric': 'manhattan', 'n_neighbors': 5, 'p': 4, 'weights': 'uniform'}\n",
      "Exactitud: 0.460 (+/-0.000) para los parámetros {'algorithm': 'brute', 'leaf_size': 90, 'metric': 'manhattan', 'n_neighbors': 5, 'p': 4, 'weights': 'distance'}\n",
      "Exactitud: 0.432 (+/-0.000) para los parámetros {'algorithm': 'brute', 'leaf_size': 90, 'metric': 'manhattan', 'n_neighbors': 10, 'p': 1, 'weights': 'uniform'}\n",
      "Exactitud: 0.457 (+/-0.000) para los parámetros {'algorithm': 'brute', 'leaf_size': 90, 'metric': 'manhattan', 'n_neighbors': 10, 'p': 1, 'weights': 'distance'}\n",
      "Exactitud: 0.432 (+/-0.000) para los parámetros {'algorithm': 'brute', 'leaf_size': 90, 'metric': 'manhattan', 'n_neighbors': 10, 'p': 2, 'weights': 'uniform'}\n",
      "Exactitud: 0.457 (+/-0.000) para los parámetros {'algorithm': 'brute', 'leaf_size': 90, 'metric': 'manhattan', 'n_neighbors': 10, 'p': 2, 'weights': 'distance'}\n",
      "Exactitud: 0.432 (+/-0.000) para los parámetros {'algorithm': 'brute', 'leaf_size': 90, 'metric': 'manhattan', 'n_neighbors': 10, 'p': 4, 'weights': 'uniform'}\n",
      "Exactitud: 0.457 (+/-0.000) para los parámetros {'algorithm': 'brute', 'leaf_size': 90, 'metric': 'manhattan', 'n_neighbors': 10, 'p': 4, 'weights': 'distance'}\n",
      "Exactitud: 0.419 (+/-0.000) para los parámetros {'algorithm': 'brute', 'leaf_size': 90, 'metric': 'manhattan', 'n_neighbors': 20, 'p': 1, 'weights': 'uniform'}\n",
      "Exactitud: 0.445 (+/-0.000) para los parámetros {'algorithm': 'brute', 'leaf_size': 90, 'metric': 'manhattan', 'n_neighbors': 20, 'p': 1, 'weights': 'distance'}\n",
      "Exactitud: 0.419 (+/-0.000) para los parámetros {'algorithm': 'brute', 'leaf_size': 90, 'metric': 'manhattan', 'n_neighbors': 20, 'p': 2, 'weights': 'uniform'}\n",
      "Exactitud: 0.445 (+/-0.000) para los parámetros {'algorithm': 'brute', 'leaf_size': 90, 'metric': 'manhattan', 'n_neighbors': 20, 'p': 2, 'weights': 'distance'}\n",
      "Exactitud: 0.419 (+/-0.000) para los parámetros {'algorithm': 'brute', 'leaf_size': 90, 'metric': 'manhattan', 'n_neighbors': 20, 'p': 4, 'weights': 'uniform'}\n",
      "Exactitud: 0.445 (+/-0.000) para los parámetros {'algorithm': 'brute', 'leaf_size': 90, 'metric': 'manhattan', 'n_neighbors': 20, 'p': 4, 'weights': 'distance'}\n",
      "Exactitud: 0.405 (+/-0.000) para los parámetros {'algorithm': 'brute', 'leaf_size': 90, 'metric': 'manhattan', 'n_neighbors': 30, 'p': 1, 'weights': 'uniform'}\n",
      "Exactitud: 0.441 (+/-0.000) para los parámetros {'algorithm': 'brute', 'leaf_size': 90, 'metric': 'manhattan', 'n_neighbors': 30, 'p': 1, 'weights': 'distance'}\n",
      "Exactitud: 0.405 (+/-0.000) para los parámetros {'algorithm': 'brute', 'leaf_size': 90, 'metric': 'manhattan', 'n_neighbors': 30, 'p': 2, 'weights': 'uniform'}\n",
      "Exactitud: 0.441 (+/-0.000) para los parámetros {'algorithm': 'brute', 'leaf_size': 90, 'metric': 'manhattan', 'n_neighbors': 30, 'p': 2, 'weights': 'distance'}\n",
      "Exactitud: 0.405 (+/-0.000) para los parámetros {'algorithm': 'brute', 'leaf_size': 90, 'metric': 'manhattan', 'n_neighbors': 30, 'p': 4, 'weights': 'uniform'}\n",
      "Exactitud: 0.441 (+/-0.000) para los parámetros {'algorithm': 'brute', 'leaf_size': 90, 'metric': 'manhattan', 'n_neighbors': 30, 'p': 4, 'weights': 'distance'}\n",
      "Reporte de clasificación para el mejor clasificador (sobre conjunto de evaluación):\n",
      "\n"
     ]
    },
    {
     "name": "stdout",
     "output_type": "stream",
     "text": [
      "              precision    recall  f1-score   support\n",
      "\n",
      "         0.0       0.85      0.96      0.90       578\n",
      "         1.0       0.44      0.43      0.43       569\n",
      "         2.0       0.33      0.36      0.34       585\n",
      "         3.0       0.44      0.38      0.41       611\n",
      "         4.0       0.42      0.39      0.41       621\n",
      "\n",
      "    accuracy                           0.50      2964\n",
      "   macro avg       0.49      0.50      0.50      2964\n",
      "weighted avg       0.49      0.50      0.49      2964\n",
      "\n",
      "\n",
      "Accuracy: 0.4997\n",
      "================================================\n",
      "\n"
     ]
    },
    {
     "data": {
      "image/png": "[encoded data removed]",
      "text/plain": [
       "<Figure size 432x288 with 2 Axes>"
      ]
     },
     "metadata": {
      "needs_background": "light"
     },
     "output_type": "display_data"
    }
   ],
   "source": [
    "neigh_param = {'n_neighbors':[5,10,20,30],\n",
    "              'weights':['uniform', 'distance'],\n",
    "              'algorithm':['auto','brute'],\n",
    "              'leaf_size': [15,30,45,90],\n",
    "              'p':[1,2,4],\n",
    "              'metric':['euclidean','manhattan']\n",
    "              }\n",
    "neigh = KNeighborsClassifier()\n",
    "neigh_clf = GridSearchCV(neigh, neigh_param, \n",
    "                         scoring='accuracy', \n",
    "                         verbose=1,\n",
    "                         n_jobs=-1,\n",
    "                         cv=3)\n",
    "neigh_clf.fit(X_train.drop([\"PID\"], axis=1), y_train)\n",
    "\n",
    "print(\"# Exploración de hiperparámetros para función de coste \", end=\"\\n\\n\")\n",
    "    \n",
    "print(\"Mejor conjunto de parámetros:\")\n",
    "print(neigh_clf.best_params_, end=\"\\n\\n\")\n",
    "\n",
    "print(\"Puntajes de la grilla:\", end=\"\\n\\n\")\n",
    "means = neigh_clf.cv_results_['mean_test_score']\n",
    "stds = neigh_clf.cv_results_['std_test_score']\n",
    "for mean, std, params in zip(means, stds, neigh_clf.cv_results_['params']):\n",
    "    print(\"Exactitud: %0.3f (+/-%0.03f) para los parámetros %r\" % (mean, std ** 2, params))\n",
    "\n",
    "\n",
    "print(\"Reporte de clasificación para el mejor clasificador (sobre conjunto de evaluación):\", end=\"\\n\\n\")\n",
    "y_true, y_pred = y_valid, neigh_clf.predict(X_valid.drop([\"PID\"], axis=1))\n",
    "print(classification_report(y_true, y_pred), end=\"\\n\\n\")\n",
    "print(\"Accuracy: %0.4f\" % accuracy_score(y_true, y_pred))\n",
    "print(\"================================================\", end=\"\\n\\n\")\n",
    "\n",
    "plot_confusion_matrix(confusion_matrix(y_true, y_pred),\n",
    "                      classes=('same day', '1 week', '1 month','2/3 months', 'no adoption'),title=\"Matriz de confusión \")\n",
    " "
   ]
  },
  {
   "cell_type": "markdown",
   "metadata": {},
   "source": [
    "#### Mejor conjunto de parámetros:\n",
    "{'algorithm': 'auto', 'leaf_size': 15, 'metric': 'manhattan', 'n_neighbors': 5, 'p': 1, 'weights': 'distance'}"
   ]
  },
  {
   "cell_type": "code",
   "execution_count": 24,
   "metadata": {
    "scrolled": true
   },
   "outputs": [
    {
     "name": "stdout",
     "output_type": "stream",
     "text": [
      "Fitting 3 folds for each of 1 candidates, totalling 3 fits\n"
     ]
    },
    {
     "name": "stderr",
     "output_type": "stream",
     "text": [
      "[Parallel(n_jobs=-1)]: Using backend LokyBackend with 4 concurrent workers.\n",
      "[Parallel(n_jobs=-1)]: Done   3 out of   3 | elapsed:   41.5s finished\n",
      "C:\\Users\\soluj\\Anaconda3\\lib\\site-packages\\sklearn\\model_selection\\_search.py:715: DataConversionWarning: A column-vector y was passed when a 1d array was expected. Please change the shape of y to (n_samples, ), for example using ravel().\n",
      "  self.best_estimator_.fit(X, y, **fit_params)\n"
     ]
    },
    {
     "name": "stdout",
     "output_type": "stream",
     "text": [
      "# Exploración de hiperparámetros para función de coste \n",
      "\n",
      "Mejor conjunto de parámetros:\n",
      "{'algorithm': 'auto', 'leaf_size': 15, 'metric': 'manhattan', 'n_neighbors': 5, 'p': 1, 'weights': 'distance'}\n",
      "\n",
      "Puntajes de la grilla:\n",
      "\n",
      "Exactitud: 0.461 (+/-0.000) para los parámetros {'algorithm': 'auto', 'leaf_size': 15, 'metric': 'manhattan', 'n_neighbors': 5, 'p': 1, 'weights': 'distance'}\n",
      "Reporte de clasificación para el mejor clasificador (sobre conjunto de evaluación):\n",
      "\n",
      "              precision    recall  f1-score   support\n",
      "\n",
      "         0.0       0.85      0.96      0.90       578\n",
      "         1.0       0.44      0.43      0.43       569\n",
      "         2.0       0.33      0.36      0.34       585\n",
      "         3.0       0.44      0.38      0.41       611\n",
      "         4.0       0.42      0.39      0.41       621\n",
      "\n",
      "    accuracy                           0.50      2964\n",
      "   macro avg       0.49      0.50      0.50      2964\n",
      "weighted avg       0.49      0.50      0.49      2964\n",
      "\n",
      "\n",
      "Accuracy: 0.4997\n",
      "================================================\n",
      "\n"
     ]
    },
    {
     "data": {
      "image/png": "[encoded data removed]",
      "text/plain": [
       "<Figure size 432x288 with 2 Axes>"
      ]
     },
     "metadata": {
      "needs_background": "light"
     },
     "output_type": "display_data"
    }
   ],
   "source": [
    "neigh_param = {'n_neighbors':[5],\n",
    "              'weights':[ 'distance'],\n",
    "              'algorithm':['auto'],\n",
    "              'leaf_size': [15],\n",
    "              'p':[1],\n",
    "              'metric':['manhattan']\n",
    "              }\n",
    "neigh = KNeighborsClassifier()\n",
    "neigh_clf = GridSearchCV(neigh, neigh_param, \n",
    "                         scoring='accuracy', \n",
    "                         verbose=1,\n",
    "                         n_jobs=-1,\n",
    "                         cv=3)\n",
    "neigh_clf.fit(X_train.drop([\"PID\"], axis=1), y_train)\n",
    "\n",
    "print(\"# Exploración de hiperparámetros para función de coste \", end=\"\\n\\n\")\n",
    "    \n",
    "print(\"Mejor conjunto de parámetros:\")\n",
    "print(neigh_clf.best_params_, end=\"\\n\\n\")\n",
    "\n",
    "print(\"Puntajes de la grilla:\", end=\"\\n\\n\")\n",
    "means = neigh_clf.cv_results_['mean_test_score']\n",
    "stds = neigh_clf.cv_results_['std_test_score']\n",
    "for mean, std, params in zip(means, stds, neigh_clf.cv_results_['params']):\n",
    "    print(\"Exactitud: %0.3f (+/-%0.03f) para los parámetros %r\" % (mean, std ** 2, params))\n",
    "\n",
    "\n",
    "print(\"Reporte de clasificación para el mejor clasificador (sobre conjunto de evaluación):\", end=\"\\n\\n\")\n",
    "y_true, y_pred = y_valid, neigh_clf.predict(X_valid.drop([\"PID\"], axis=1))\n",
    "print(classification_report(y_true, y_pred), end=\"\\n\\n\")\n",
    "print(\"Accuracy: %0.4f\" % accuracy_score(y_true, y_pred))\n",
    "print(\"================================================\", end=\"\\n\\n\")\n",
    "\n",
    "plot_confusion_matrix(confusion_matrix(y_true, y_pred),\n",
    "                      classes=('same day', '1 week', '1 month','2/3 months', 'no adoption'),title=\"Matriz de confusión \")"
   ]
  },
  {
   "cell_type": "markdown",
   "metadata": {
    "colab_type": "text",
    "id": "XxvxR0dlPN7C"
   },
   "source": [
    "### Naive Bayes GaussianNB"
   ]
  },
  {
   "cell_type": "markdown",
   "metadata": {
    "colab_type": "text",
    "id": "kY8MCsDmPN7G"
   },
   "source": [
    "#### Con parametros por defecto"
   ]
  },
  {
   "cell_type": "code",
   "execution_count": 44,
   "metadata": {
    "colab": {},
    "colab_type": "code",
    "id": "YmBHqopoPN7G"
   },
   "outputs": [
    {
     "name": "stderr",
     "output_type": "stream",
     "text": [
      "C:\\Users\\soluj\\Anaconda3\\lib\\site-packages\\sklearn\\utils\\validation.py:724: DataConversionWarning: A column-vector y was passed when a 1d array was expected. Please change the shape of y to (n_samples, ), for example using ravel().\n",
      "  y = column_or_1d(y, warn=True)\n"
     ]
    },
    {
     "name": "stdout",
     "output_type": "stream",
     "text": [
      "Accuracy: 0.22874493927125505\n"
     ]
    }
   ],
   "source": [
    "X_train, X_valid, y_train, y_valid = train_test_split(x_tr, y_tr, test_size=0.2, random_state=42)\n",
    "\n",
    "clf = GaussianNB()\n",
    "clf.fit(X_train.drop([\"PID\"], axis=1), y_train)\n",
    "y_predict = clf.predict(X_valid.drop([\"PID\"], axis=1))\n",
    "\n",
    "#Import scikit-learn metrics module for accuracy calculation\n",
    "\n",
    "# Model Accuracy, how often is the classifier correct?\n",
    "print(\"Accuracy:\",metrics.accuracy_score(y_valid, y_predict))"
   ]
  },
  {
   "cell_type": "markdown",
   "metadata": {
    "colab_type": "text",
    "id": "VE48WsNZPN7K"
   },
   "source": [
    "#### Con ajuste por paramtros"
   ]
  },
  {
   "cell_type": "code",
   "execution_count": 45,
   "metadata": {
    "colab": {},
    "colab_type": "code",
    "id": "PJLSFu_mPN7L"
   },
   "outputs": [
    {
     "name": "stderr",
     "output_type": "stream",
     "text": [
      "C:\\Users\\soluj\\Anaconda3\\lib\\site-packages\\sklearn\\utils\\validation.py:724: DataConversionWarning: A column-vector y was passed when a 1d array was expected. Please change the shape of y to (n_samples, ), for example using ravel().\n",
      "  y = column_or_1d(y, warn=True)\n",
      "C:\\Users\\soluj\\Anaconda3\\lib\\site-packages\\sklearn\\utils\\validation.py:724: DataConversionWarning: A column-vector y was passed when a 1d array was expected. Please change the shape of y to (n_samples, ), for example using ravel().\n",
      "  y = column_or_1d(y, warn=True)\n",
      "C:\\Users\\soluj\\Anaconda3\\lib\\site-packages\\sklearn\\utils\\validation.py:724: DataConversionWarning: A column-vector y was passed when a 1d array was expected. Please change the shape of y to (n_samples, ), for example using ravel().\n",
      "  y = column_or_1d(y, warn=True)\n",
      "C:\\Users\\soluj\\Anaconda3\\lib\\site-packages\\sklearn\\utils\\validation.py:724: DataConversionWarning: A column-vector y was passed when a 1d array was expected. Please change the shape of y to (n_samples, ), for example using ravel().\n",
      "  y = column_or_1d(y, warn=True)\n",
      "C:\\Users\\soluj\\Anaconda3\\lib\\site-packages\\sklearn\\utils\\validation.py:724: DataConversionWarning: A column-vector y was passed when a 1d array was expected. Please change the shape of y to (n_samples, ), for example using ravel().\n",
      "  y = column_or_1d(y, warn=True)\n",
      "C:\\Users\\soluj\\Anaconda3\\lib\\site-packages\\sklearn\\utils\\validation.py:724: DataConversionWarning: A column-vector y was passed when a 1d array was expected. Please change the shape of y to (n_samples, ), for example using ravel().\n",
      "  y = column_or_1d(y, warn=True)\n",
      "C:\\Users\\soluj\\Anaconda3\\lib\\site-packages\\sklearn\\utils\\validation.py:724: DataConversionWarning: A column-vector y was passed when a 1d array was expected. Please change the shape of y to (n_samples, ), for example using ravel().\n",
      "  y = column_or_1d(y, warn=True)\n",
      "C:\\Users\\soluj\\Anaconda3\\lib\\site-packages\\sklearn\\utils\\validation.py:724: DataConversionWarning: A column-vector y was passed when a 1d array was expected. Please change the shape of y to (n_samples, ), for example using ravel().\n",
      "  y = column_or_1d(y, warn=True)\n",
      "C:\\Users\\soluj\\Anaconda3\\lib\\site-packages\\sklearn\\utils\\validation.py:724: DataConversionWarning: A column-vector y was passed when a 1d array was expected. Please change the shape of y to (n_samples, ), for example using ravel().\n",
      "  y = column_or_1d(y, warn=True)\n",
      "C:\\Users\\soluj\\Anaconda3\\lib\\site-packages\\sklearn\\utils\\validation.py:724: DataConversionWarning: A column-vector y was passed when a 1d array was expected. Please change the shape of y to (n_samples, ), for example using ravel().\n",
      "  y = column_or_1d(y, warn=True)\n",
      "C:\\Users\\soluj\\Anaconda3\\lib\\site-packages\\sklearn\\utils\\validation.py:724: DataConversionWarning: A column-vector y was passed when a 1d array was expected. Please change the shape of y to (n_samples, ), for example using ravel().\n",
      "  y = column_or_1d(y, warn=True)\n",
      "C:\\Users\\soluj\\Anaconda3\\lib\\site-packages\\sklearn\\utils\\validation.py:724: DataConversionWarning: A column-vector y was passed when a 1d array was expected. Please change the shape of y to (n_samples, ), for example using ravel().\n",
      "  y = column_or_1d(y, warn=True)\n",
      "C:\\Users\\soluj\\Anaconda3\\lib\\site-packages\\sklearn\\utils\\validation.py:724: DataConversionWarning: A column-vector y was passed when a 1d array was expected. Please change the shape of y to (n_samples, ), for example using ravel().\n",
      "  y = column_or_1d(y, warn=True)\n",
      "C:\\Users\\soluj\\Anaconda3\\lib\\site-packages\\sklearn\\utils\\validation.py:724: DataConversionWarning: A column-vector y was passed when a 1d array was expected. Please change the shape of y to (n_samples, ), for example using ravel().\n",
      "  y = column_or_1d(y, warn=True)\n",
      "C:\\Users\\soluj\\Anaconda3\\lib\\site-packages\\sklearn\\utils\\validation.py:724: DataConversionWarning: A column-vector y was passed when a 1d array was expected. Please change the shape of y to (n_samples, ), for example using ravel().\n",
      "  y = column_or_1d(y, warn=True)\n",
      "C:\\Users\\soluj\\Anaconda3\\lib\\site-packages\\sklearn\\utils\\validation.py:724: DataConversionWarning: A column-vector y was passed when a 1d array was expected. Please change the shape of y to (n_samples, ), for example using ravel().\n",
      "  y = column_or_1d(y, warn=True)\n",
      "C:\\Users\\soluj\\Anaconda3\\lib\\site-packages\\sklearn\\utils\\validation.py:724: DataConversionWarning: A column-vector y was passed when a 1d array was expected. Please change the shape of y to (n_samples, ), for example using ravel().\n",
      "  y = column_or_1d(y, warn=True)\n",
      "C:\\Users\\soluj\\Anaconda3\\lib\\site-packages\\sklearn\\utils\\validation.py:724: DataConversionWarning: A column-vector y was passed when a 1d array was expected. Please change the shape of y to (n_samples, ), for example using ravel().\n",
      "  y = column_or_1d(y, warn=True)\n",
      "C:\\Users\\soluj\\Anaconda3\\lib\\site-packages\\sklearn\\utils\\validation.py:724: DataConversionWarning: A column-vector y was passed when a 1d array was expected. Please change the shape of y to (n_samples, ), for example using ravel().\n",
      "  y = column_or_1d(y, warn=True)\n",
      "C:\\Users\\soluj\\Anaconda3\\lib\\site-packages\\sklearn\\utils\\validation.py:724: DataConversionWarning: A column-vector y was passed when a 1d array was expected. Please change the shape of y to (n_samples, ), for example using ravel().\n",
      "  y = column_or_1d(y, warn=True)\n",
      "C:\\Users\\soluj\\Anaconda3\\lib\\site-packages\\sklearn\\utils\\validation.py:724: DataConversionWarning: A column-vector y was passed when a 1d array was expected. Please change the shape of y to (n_samples, ), for example using ravel().\n",
      "  y = column_or_1d(y, warn=True)\n",
      "C:\\Users\\soluj\\Anaconda3\\lib\\site-packages\\sklearn\\utils\\validation.py:724: DataConversionWarning: A column-vector y was passed when a 1d array was expected. Please change the shape of y to (n_samples, ), for example using ravel().\n",
      "  y = column_or_1d(y, warn=True)\n",
      "C:\\Users\\soluj\\Anaconda3\\lib\\site-packages\\sklearn\\utils\\validation.py:724: DataConversionWarning: A column-vector y was passed when a 1d array was expected. Please change the shape of y to (n_samples, ), for example using ravel().\n",
      "  y = column_or_1d(y, warn=True)\n",
      "C:\\Users\\soluj\\Anaconda3\\lib\\site-packages\\sklearn\\utils\\validation.py:724: DataConversionWarning: A column-vector y was passed when a 1d array was expected. Please change the shape of y to (n_samples, ), for example using ravel().\n",
      "  y = column_or_1d(y, warn=True)\n",
      "C:\\Users\\soluj\\Anaconda3\\lib\\site-packages\\sklearn\\utils\\validation.py:724: DataConversionWarning: A column-vector y was passed when a 1d array was expected. Please change the shape of y to (n_samples, ), for example using ravel().\n",
      "  y = column_or_1d(y, warn=True)\n",
      "C:\\Users\\soluj\\Anaconda3\\lib\\site-packages\\sklearn\\utils\\validation.py:724: DataConversionWarning: A column-vector y was passed when a 1d array was expected. Please change the shape of y to (n_samples, ), for example using ravel().\n",
      "  y = column_or_1d(y, warn=True)\n",
      "C:\\Users\\soluj\\Anaconda3\\lib\\site-packages\\sklearn\\utils\\validation.py:724: DataConversionWarning: A column-vector y was passed when a 1d array was expected. Please change the shape of y to (n_samples, ), for example using ravel().\n",
      "  y = column_or_1d(y, warn=True)\n",
      "C:\\Users\\soluj\\Anaconda3\\lib\\site-packages\\sklearn\\utils\\validation.py:724: DataConversionWarning: A column-vector y was passed when a 1d array was expected. Please change the shape of y to (n_samples, ), for example using ravel().\n",
      "  y = column_or_1d(y, warn=True)\n",
      "C:\\Users\\soluj\\Anaconda3\\lib\\site-packages\\sklearn\\utils\\validation.py:724: DataConversionWarning: A column-vector y was passed when a 1d array was expected. Please change the shape of y to (n_samples, ), for example using ravel().\n",
      "  y = column_or_1d(y, warn=True)\n",
      "C:\\Users\\soluj\\Anaconda3\\lib\\site-packages\\sklearn\\utils\\validation.py:724: DataConversionWarning: A column-vector y was passed when a 1d array was expected. Please change the shape of y to (n_samples, ), for example using ravel().\n",
      "  y = column_or_1d(y, warn=True)\n",
      "C:\\Users\\soluj\\Anaconda3\\lib\\site-packages\\sklearn\\utils\\validation.py:724: DataConversionWarning: A column-vector y was passed when a 1d array was expected. Please change the shape of y to (n_samples, ), for example using ravel().\n",
      "  y = column_or_1d(y, warn=True)\n"
     ]
    },
    {
     "name": "stderr",
     "output_type": "stream",
     "text": [
      "C:\\Users\\soluj\\Anaconda3\\lib\\site-packages\\sklearn\\utils\\validation.py:724: DataConversionWarning: A column-vector y was passed when a 1d array was expected. Please change the shape of y to (n_samples, ), for example using ravel().\n",
      "  y = column_or_1d(y, warn=True)\n",
      "C:\\Users\\soluj\\Anaconda3\\lib\\site-packages\\sklearn\\utils\\validation.py:724: DataConversionWarning: A column-vector y was passed when a 1d array was expected. Please change the shape of y to (n_samples, ), for example using ravel().\n",
      "  y = column_or_1d(y, warn=True)\n",
      "C:\\Users\\soluj\\Anaconda3\\lib\\site-packages\\sklearn\\utils\\validation.py:724: DataConversionWarning: A column-vector y was passed when a 1d array was expected. Please change the shape of y to (n_samples, ), for example using ravel().\n",
      "  y = column_or_1d(y, warn=True)\n",
      "C:\\Users\\soluj\\Anaconda3\\lib\\site-packages\\sklearn\\utils\\validation.py:724: DataConversionWarning: A column-vector y was passed when a 1d array was expected. Please change the shape of y to (n_samples, ), for example using ravel().\n",
      "  y = column_or_1d(y, warn=True)\n",
      "C:\\Users\\soluj\\Anaconda3\\lib\\site-packages\\sklearn\\utils\\validation.py:724: DataConversionWarning: A column-vector y was passed when a 1d array was expected. Please change the shape of y to (n_samples, ), for example using ravel().\n",
      "  y = column_or_1d(y, warn=True)\n",
      "C:\\Users\\soluj\\Anaconda3\\lib\\site-packages\\sklearn\\utils\\validation.py:724: DataConversionWarning: A column-vector y was passed when a 1d array was expected. Please change the shape of y to (n_samples, ), for example using ravel().\n",
      "  y = column_or_1d(y, warn=True)\n",
      "C:\\Users\\soluj\\Anaconda3\\lib\\site-packages\\sklearn\\utils\\validation.py:724: DataConversionWarning: A column-vector y was passed when a 1d array was expected. Please change the shape of y to (n_samples, ), for example using ravel().\n",
      "  y = column_or_1d(y, warn=True)\n",
      "C:\\Users\\soluj\\Anaconda3\\lib\\site-packages\\sklearn\\utils\\validation.py:724: DataConversionWarning: A column-vector y was passed when a 1d array was expected. Please change the shape of y to (n_samples, ), for example using ravel().\n",
      "  y = column_or_1d(y, warn=True)\n",
      "C:\\Users\\soluj\\Anaconda3\\lib\\site-packages\\sklearn\\utils\\validation.py:724: DataConversionWarning: A column-vector y was passed when a 1d array was expected. Please change the shape of y to (n_samples, ), for example using ravel().\n",
      "  y = column_or_1d(y, warn=True)\n",
      "C:\\Users\\soluj\\Anaconda3\\lib\\site-packages\\sklearn\\utils\\validation.py:724: DataConversionWarning: A column-vector y was passed when a 1d array was expected. Please change the shape of y to (n_samples, ), for example using ravel().\n",
      "  y = column_or_1d(y, warn=True)\n",
      "C:\\Users\\soluj\\Anaconda3\\lib\\site-packages\\sklearn\\utils\\validation.py:724: DataConversionWarning: A column-vector y was passed when a 1d array was expected. Please change the shape of y to (n_samples, ), for example using ravel().\n",
      "  y = column_or_1d(y, warn=True)\n",
      "C:\\Users\\soluj\\Anaconda3\\lib\\site-packages\\sklearn\\utils\\validation.py:724: DataConversionWarning: A column-vector y was passed when a 1d array was expected. Please change the shape of y to (n_samples, ), for example using ravel().\n",
      "  y = column_or_1d(y, warn=True)\n",
      "C:\\Users\\soluj\\Anaconda3\\lib\\site-packages\\sklearn\\utils\\validation.py:724: DataConversionWarning: A column-vector y was passed when a 1d array was expected. Please change the shape of y to (n_samples, ), for example using ravel().\n",
      "  y = column_or_1d(y, warn=True)\n",
      "C:\\Users\\soluj\\Anaconda3\\lib\\site-packages\\sklearn\\utils\\validation.py:724: DataConversionWarning: A column-vector y was passed when a 1d array was expected. Please change the shape of y to (n_samples, ), for example using ravel().\n",
      "  y = column_or_1d(y, warn=True)\n",
      "C:\\Users\\soluj\\Anaconda3\\lib\\site-packages\\sklearn\\utils\\validation.py:724: DataConversionWarning: A column-vector y was passed when a 1d array was expected. Please change the shape of y to (n_samples, ), for example using ravel().\n",
      "  y = column_or_1d(y, warn=True)\n",
      "C:\\Users\\soluj\\Anaconda3\\lib\\site-packages\\sklearn\\utils\\validation.py:724: DataConversionWarning: A column-vector y was passed when a 1d array was expected. Please change the shape of y to (n_samples, ), for example using ravel().\n",
      "  y = column_or_1d(y, warn=True)\n",
      "C:\\Users\\soluj\\Anaconda3\\lib\\site-packages\\sklearn\\utils\\validation.py:724: DataConversionWarning: A column-vector y was passed when a 1d array was expected. Please change the shape of y to (n_samples, ), for example using ravel().\n",
      "  y = column_or_1d(y, warn=True)\n",
      "C:\\Users\\soluj\\Anaconda3\\lib\\site-packages\\sklearn\\utils\\validation.py:724: DataConversionWarning: A column-vector y was passed when a 1d array was expected. Please change the shape of y to (n_samples, ), for example using ravel().\n",
      "  y = column_or_1d(y, warn=True)\n",
      "C:\\Users\\soluj\\Anaconda3\\lib\\site-packages\\sklearn\\utils\\validation.py:724: DataConversionWarning: A column-vector y was passed when a 1d array was expected. Please change the shape of y to (n_samples, ), for example using ravel().\n",
      "  y = column_or_1d(y, warn=True)\n",
      "C:\\Users\\soluj\\Anaconda3\\lib\\site-packages\\sklearn\\utils\\validation.py:724: DataConversionWarning: A column-vector y was passed when a 1d array was expected. Please change the shape of y to (n_samples, ), for example using ravel().\n",
      "  y = column_or_1d(y, warn=True)\n",
      "C:\\Users\\soluj\\Anaconda3\\lib\\site-packages\\sklearn\\utils\\validation.py:724: DataConversionWarning: A column-vector y was passed when a 1d array was expected. Please change the shape of y to (n_samples, ), for example using ravel().\n",
      "  y = column_or_1d(y, warn=True)\n",
      "C:\\Users\\soluj\\Anaconda3\\lib\\site-packages\\sklearn\\utils\\validation.py:724: DataConversionWarning: A column-vector y was passed when a 1d array was expected. Please change the shape of y to (n_samples, ), for example using ravel().\n",
      "  y = column_or_1d(y, warn=True)\n",
      "C:\\Users\\soluj\\Anaconda3\\lib\\site-packages\\sklearn\\utils\\validation.py:724: DataConversionWarning: A column-vector y was passed when a 1d array was expected. Please change the shape of y to (n_samples, ), for example using ravel().\n",
      "  y = column_or_1d(y, warn=True)\n",
      "C:\\Users\\soluj\\Anaconda3\\lib\\site-packages\\sklearn\\utils\\validation.py:724: DataConversionWarning: A column-vector y was passed when a 1d array was expected. Please change the shape of y to (n_samples, ), for example using ravel().\n",
      "  y = column_or_1d(y, warn=True)\n",
      "C:\\Users\\soluj\\Anaconda3\\lib\\site-packages\\sklearn\\utils\\validation.py:724: DataConversionWarning: A column-vector y was passed when a 1d array was expected. Please change the shape of y to (n_samples, ), for example using ravel().\n",
      "  y = column_or_1d(y, warn=True)\n",
      "C:\\Users\\soluj\\Anaconda3\\lib\\site-packages\\sklearn\\utils\\validation.py:724: DataConversionWarning: A column-vector y was passed when a 1d array was expected. Please change the shape of y to (n_samples, ), for example using ravel().\n",
      "  y = column_or_1d(y, warn=True)\n",
      "C:\\Users\\soluj\\Anaconda3\\lib\\site-packages\\sklearn\\utils\\validation.py:724: DataConversionWarning: A column-vector y was passed when a 1d array was expected. Please change the shape of y to (n_samples, ), for example using ravel().\n",
      "  y = column_or_1d(y, warn=True)\n",
      "C:\\Users\\soluj\\Anaconda3\\lib\\site-packages\\sklearn\\utils\\validation.py:724: DataConversionWarning: A column-vector y was passed when a 1d array was expected. Please change the shape of y to (n_samples, ), for example using ravel().\n",
      "  y = column_or_1d(y, warn=True)\n",
      "C:\\Users\\soluj\\Anaconda3\\lib\\site-packages\\sklearn\\utils\\validation.py:724: DataConversionWarning: A column-vector y was passed when a 1d array was expected. Please change the shape of y to (n_samples, ), for example using ravel().\n",
      "  y = column_or_1d(y, warn=True)\n",
      "C:\\Users\\soluj\\Anaconda3\\lib\\site-packages\\sklearn\\utils\\validation.py:724: DataConversionWarning: A column-vector y was passed when a 1d array was expected. Please change the shape of y to (n_samples, ), for example using ravel().\n",
      "  y = column_or_1d(y, warn=True)\n",
      "C:\\Users\\soluj\\Anaconda3\\lib\\site-packages\\sklearn\\utils\\validation.py:724: DataConversionWarning: A column-vector y was passed when a 1d array was expected. Please change the shape of y to (n_samples, ), for example using ravel().\n",
      "  y = column_or_1d(y, warn=True)\n",
      "C:\\Users\\soluj\\Anaconda3\\lib\\site-packages\\sklearn\\utils\\validation.py:724: DataConversionWarning: A column-vector y was passed when a 1d array was expected. Please change the shape of y to (n_samples, ), for example using ravel().\n",
      "  y = column_or_1d(y, warn=True)\n",
      "C:\\Users\\soluj\\Anaconda3\\lib\\site-packages\\sklearn\\utils\\validation.py:724: DataConversionWarning: A column-vector y was passed when a 1d array was expected. Please change the shape of y to (n_samples, ), for example using ravel().\n",
      "  y = column_or_1d(y, warn=True)\n"
     ]
    },
    {
     "name": "stderr",
     "output_type": "stream",
     "text": [
      "C:\\Users\\soluj\\Anaconda3\\lib\\site-packages\\sklearn\\utils\\validation.py:724: DataConversionWarning: A column-vector y was passed when a 1d array was expected. Please change the shape of y to (n_samples, ), for example using ravel().\n",
      "  y = column_or_1d(y, warn=True)\n",
      "C:\\Users\\soluj\\Anaconda3\\lib\\site-packages\\sklearn\\utils\\validation.py:724: DataConversionWarning: A column-vector y was passed when a 1d array was expected. Please change the shape of y to (n_samples, ), for example using ravel().\n",
      "  y = column_or_1d(y, warn=True)\n",
      "C:\\Users\\soluj\\Anaconda3\\lib\\site-packages\\sklearn\\utils\\validation.py:724: DataConversionWarning: A column-vector y was passed when a 1d array was expected. Please change the shape of y to (n_samples, ), for example using ravel().\n",
      "  y = column_or_1d(y, warn=True)\n",
      "C:\\Users\\soluj\\Anaconda3\\lib\\site-packages\\sklearn\\utils\\validation.py:724: DataConversionWarning: A column-vector y was passed when a 1d array was expected. Please change the shape of y to (n_samples, ), for example using ravel().\n",
      "  y = column_or_1d(y, warn=True)\n",
      "C:\\Users\\soluj\\Anaconda3\\lib\\site-packages\\sklearn\\utils\\validation.py:724: DataConversionWarning: A column-vector y was passed when a 1d array was expected. Please change the shape of y to (n_samples, ), for example using ravel().\n",
      "  y = column_or_1d(y, warn=True)\n",
      "C:\\Users\\soluj\\Anaconda3\\lib\\site-packages\\sklearn\\utils\\validation.py:724: DataConversionWarning: A column-vector y was passed when a 1d array was expected. Please change the shape of y to (n_samples, ), for example using ravel().\n",
      "  y = column_or_1d(y, warn=True)\n",
      "C:\\Users\\soluj\\Anaconda3\\lib\\site-packages\\sklearn\\utils\\validation.py:724: DataConversionWarning: A column-vector y was passed when a 1d array was expected. Please change the shape of y to (n_samples, ), for example using ravel().\n",
      "  y = column_or_1d(y, warn=True)\n",
      "C:\\Users\\soluj\\Anaconda3\\lib\\site-packages\\sklearn\\utils\\validation.py:724: DataConversionWarning: A column-vector y was passed when a 1d array was expected. Please change the shape of y to (n_samples, ), for example using ravel().\n",
      "  y = column_or_1d(y, warn=True)\n",
      "C:\\Users\\soluj\\Anaconda3\\lib\\site-packages\\sklearn\\utils\\validation.py:724: DataConversionWarning: A column-vector y was passed when a 1d array was expected. Please change the shape of y to (n_samples, ), for example using ravel().\n",
      "  y = column_or_1d(y, warn=True)\n",
      "C:\\Users\\soluj\\Anaconda3\\lib\\site-packages\\sklearn\\utils\\validation.py:724: DataConversionWarning: A column-vector y was passed when a 1d array was expected. Please change the shape of y to (n_samples, ), for example using ravel().\n",
      "  y = column_or_1d(y, warn=True)\n",
      "C:\\Users\\soluj\\Anaconda3\\lib\\site-packages\\sklearn\\utils\\validation.py:724: DataConversionWarning: A column-vector y was passed when a 1d array was expected. Please change the shape of y to (n_samples, ), for example using ravel().\n",
      "  y = column_or_1d(y, warn=True)\n",
      "C:\\Users\\soluj\\Anaconda3\\lib\\site-packages\\sklearn\\utils\\validation.py:724: DataConversionWarning: A column-vector y was passed when a 1d array was expected. Please change the shape of y to (n_samples, ), for example using ravel().\n",
      "  y = column_or_1d(y, warn=True)\n",
      "C:\\Users\\soluj\\Anaconda3\\lib\\site-packages\\sklearn\\utils\\validation.py:724: DataConversionWarning: A column-vector y was passed when a 1d array was expected. Please change the shape of y to (n_samples, ), for example using ravel().\n",
      "  y = column_or_1d(y, warn=True)\n",
      "C:\\Users\\soluj\\Anaconda3\\lib\\site-packages\\sklearn\\utils\\validation.py:724: DataConversionWarning: A column-vector y was passed when a 1d array was expected. Please change the shape of y to (n_samples, ), for example using ravel().\n",
      "  y = column_or_1d(y, warn=True)\n",
      "C:\\Users\\soluj\\Anaconda3\\lib\\site-packages\\sklearn\\utils\\validation.py:724: DataConversionWarning: A column-vector y was passed when a 1d array was expected. Please change the shape of y to (n_samples, ), for example using ravel().\n",
      "  y = column_or_1d(y, warn=True)\n",
      "C:\\Users\\soluj\\Anaconda3\\lib\\site-packages\\sklearn\\utils\\validation.py:724: DataConversionWarning: A column-vector y was passed when a 1d array was expected. Please change the shape of y to (n_samples, ), for example using ravel().\n",
      "  y = column_or_1d(y, warn=True)\n",
      "C:\\Users\\soluj\\Anaconda3\\lib\\site-packages\\sklearn\\utils\\validation.py:724: DataConversionWarning: A column-vector y was passed when a 1d array was expected. Please change the shape of y to (n_samples, ), for example using ravel().\n",
      "  y = column_or_1d(y, warn=True)\n"
     ]
    },
    {
     "name": "stdout",
     "output_type": "stream",
     "text": [
      "# Exploración de hiperparámetros para función de coste \n",
      "\n",
      "Mejor conjunto de parámetros:\n",
      "{'alpha': 100}\n",
      "\n",
      "Puntajes de la grilla:\n",
      "\n",
      "Exactitud: 0.312 (+/-0.000) para los parámetros {'algorithm': 'auto', 'leaf_size': 15, 'metric': 'manhattan', 'n_neighbors': 5, 'p': 1, 'weights': 'distance'}\n",
      "Reporte de clasificación para el mejor clasificador (sobre conjunto de evaluación):\n",
      "\n",
      "              precision    recall  f1-score   support\n",
      "\n",
      "         0.0       0.41      0.34      0.37       578\n",
      "         1.0       0.27      0.36      0.31       569\n",
      "         2.0       0.24      0.19      0.21       585\n",
      "         3.0       0.25      0.24      0.25       611\n",
      "         4.0       0.38      0.40      0.39       621\n",
      "\n",
      "    accuracy                           0.31      2964\n",
      "   macro avg       0.31      0.31      0.31      2964\n",
      "weighted avg       0.31      0.31      0.31      2964\n",
      "\n",
      "\n",
      "Accuracy: 0.3070\n",
      "================================================\n",
      "\n"
     ]
    },
    {
     "data": {
      "image/png": "[encoded data removed]",
      "text/plain": [
       "<Figure size 432x288 with 2 Axes>"
      ]
     },
     "metadata": {
      "needs_background": "light"
     },
     "output_type": "display_data"
    }
   ],
   "source": [
    "from sklearn.model_selection import GridSearchCV, StratifiedKFold, train_test_split\n",
    "from sklearn.naive_bayes import MultinomialNB\n",
    "\n",
    "skf = StratifiedKFold(n_splits=20)\n",
    "params = {'alpha': [100,408,409,410]}\n",
    "nb = MultinomialNB()\n",
    "nb = GridSearchCV(nb, cv=skf, param_grid=params, return_train_score=True)\n",
    "\n",
    "nb.fit(X_train.drop([\"PID\"], axis=1), y_train)\n",
    "\n",
    "print(\"# Exploración de hiperparámetros para función de coste \", end=\"\\n\\n\")\n",
    "    \n",
    "print(\"Mejor conjunto de parámetros:\")\n",
    "print(nb.best_params_, end=\"\\n\\n\")\n",
    "\n",
    "print(\"Puntajes de la grilla:\", end=\"\\n\\n\")\n",
    "means = nb.cv_results_['mean_test_score']\n",
    "stds = nb.cv_results_['std_test_score']\n",
    "for mean, std, params in zip(means, stds, neigh_clf.cv_results_['params']):\n",
    "    print(\"Exactitud: %0.3f (+/-%0.03f) para los parámetros %r\" % (mean, std ** 2, params))\n",
    "\n",
    "\n",
    "print(\"Reporte de clasificación para el mejor clasificador (sobre conjunto de evaluación):\", end=\"\\n\\n\")\n",
    "y_true, y_pred = y_valid, nb.predict(X_valid.drop([\"PID\"], axis=1))\n",
    "print(classification_report(y_true, y_pred), end=\"\\n\\n\")\n",
    "print(\"Accuracy: %0.4f\" % accuracy_score(y_true, y_pred))\n",
    "print(\"================================================\", end=\"\\n\\n\")\n",
    "\n",
    "plot_confusion_matrix(confusion_matrix(y_true, y_pred),\n",
    "                      classes=('same day', '1 week', '1 month','2/3 months', 'no adoption'),title=\"Matriz de confusión \")"
   ]
  },
  {
   "cell_type": "markdown",
   "metadata": {},
   "source": [
    "#### SVC"
   ]
  },
  {
   "cell_type": "code",
   "execution_count": 82,
   "metadata": {},
   "outputs": [
    {
     "name": "stderr",
     "output_type": "stream",
     "text": [
      "C:\\Users\\soluj\\Anaconda3\\lib\\site-packages\\sklearn\\utils\\validation.py:724: DataConversionWarning: A column-vector y was passed when a 1d array was expected. Please change the shape of y to (n_samples, ), for example using ravel().\n",
      "  y = column_or_1d(y, warn=True)\n"
     ]
    },
    {
     "name": "stdout",
     "output_type": "stream",
     "text": [
      "Accuracy: 0.32118758434547906\n"
     ]
    }
   ],
   "source": [
    "from sklearn.svm import SVC\n",
    "\n",
    "X_train, X_valid, y_train, y_valid = train_test_split(x_tr, y_tr, test_size=0.2, random_state=42)\n",
    "\n",
    "clf = SVC(gamma='auto', random_state=42)\n",
    "clf.fit(X_train.drop([\"PID\"], axis=1), y_train)\n",
    "y_predict = clf.predict(X_valid.drop([\"PID\"], axis=1))\n",
    "\n",
    "#Import scikit-learn metrics module for accuracy calculation\n",
    "\n",
    "# Model Accuracy, how often is the classifier correct?\n",
    "print(\"Accuracy:\",metrics.accuracy_score(y_valid, y_predict))"
   ]
  },
  {
   "cell_type": "code",
   "execution_count": 84,
   "metadata": {},
   "outputs": [
    {
     "name": "stdout",
     "output_type": "stream",
     "text": [
      "Fitting 3 folds for each of 18 candidates, totalling 54 fits\n"
     ]
    },
    {
     "name": "stderr",
     "output_type": "stream",
     "text": [
      "[Parallel(n_jobs=-1)]: Using backend LokyBackend with 4 concurrent workers.\n",
      "[Parallel(n_jobs=-1)]: Done  42 tasks      | elapsed: 24.9min\n",
      "[Parallel(n_jobs=-1)]: Done  54 out of  54 | elapsed: 30.1min finished\n",
      "C:\\Users\\soluj\\Anaconda3\\lib\\site-packages\\sklearn\\utils\\validation.py:724: DataConversionWarning: A column-vector y was passed when a 1d array was expected. Please change the shape of y to (n_samples, ), for example using ravel().\n",
      "  y = column_or_1d(y, warn=True)\n"
     ]
    },
    {
     "name": "stdout",
     "output_type": "stream",
     "text": [
      "# Exploración de hiperparámetros para función de coste \n",
      "\n",
      "Mejor conjunto de parámetros:\n",
      "{'C': 0.25, 'class_weight': 'balanced', 'decision_function_shape': 'ovo', 'kernel': 'linear'}\n",
      "\n",
      "Puntajes de la grilla:\n",
      "\n",
      "Exactitud: 0.200 (+/-0.000) para los parámetros {'C': 0.001, 'class_weight': 'balanced', 'decision_function_shape': 'ovo', 'kernel': 'sigmoid'}\n",
      "Exactitud: 0.200 (+/-0.000) para los parámetros {'C': 0.001, 'class_weight': 'balanced', 'decision_function_shape': 'ovo', 'kernel': 'poly'}\n",
      "Exactitud: 0.297 (+/-0.000) para los parámetros {'C': 0.001, 'class_weight': 'balanced', 'decision_function_shape': 'ovo', 'kernel': 'linear'}\n",
      "Exactitud: 0.200 (+/-0.000) para los parámetros {'C': 0.001, 'class_weight': 'balanced', 'decision_function_shape': 'ovr', 'kernel': 'sigmoid'}\n",
      "Exactitud: 0.200 (+/-0.000) para los parámetros {'C': 0.001, 'class_weight': 'balanced', 'decision_function_shape': 'ovr', 'kernel': 'poly'}\n",
      "Exactitud: 0.297 (+/-0.000) para los parámetros {'C': 0.001, 'class_weight': 'balanced', 'decision_function_shape': 'ovr', 'kernel': 'linear'}\n",
      "Exactitud: 0.264 (+/-0.000) para los parámetros {'C': 0.2, 'class_weight': 'balanced', 'decision_function_shape': 'ovo', 'kernel': 'sigmoid'}\n",
      "Exactitud: 0.198 (+/-0.000) para los parámetros {'C': 0.2, 'class_weight': 'balanced', 'decision_function_shape': 'ovo', 'kernel': 'poly'}\n",
      "Exactitud: 0.358 (+/-0.000) para los parámetros {'C': 0.2, 'class_weight': 'balanced', 'decision_function_shape': 'ovo', 'kernel': 'linear'}\n",
      "Exactitud: 0.264 (+/-0.000) para los parámetros {'C': 0.2, 'class_weight': 'balanced', 'decision_function_shape': 'ovr', 'kernel': 'sigmoid'}\n",
      "Exactitud: 0.198 (+/-0.000) para los parámetros {'C': 0.2, 'class_weight': 'balanced', 'decision_function_shape': 'ovr', 'kernel': 'poly'}\n",
      "Exactitud: 0.358 (+/-0.000) para los parámetros {'C': 0.2, 'class_weight': 'balanced', 'decision_function_shape': 'ovr', 'kernel': 'linear'}\n",
      "Exactitud: 0.277 (+/-0.000) para los parámetros {'C': 0.25, 'class_weight': 'balanced', 'decision_function_shape': 'ovo', 'kernel': 'sigmoid'}\n",
      "Exactitud: 0.198 (+/-0.000) para los parámetros {'C': 0.25, 'class_weight': 'balanced', 'decision_function_shape': 'ovo', 'kernel': 'poly'}\n",
      "Exactitud: 0.360 (+/-0.000) para los parámetros {'C': 0.25, 'class_weight': 'balanced', 'decision_function_shape': 'ovo', 'kernel': 'linear'}\n",
      "Exactitud: 0.277 (+/-0.000) para los parámetros {'C': 0.25, 'class_weight': 'balanced', 'decision_function_shape': 'ovr', 'kernel': 'sigmoid'}\n",
      "Exactitud: 0.198 (+/-0.000) para los parámetros {'C': 0.25, 'class_weight': 'balanced', 'decision_function_shape': 'ovr', 'kernel': 'poly'}\n",
      "Exactitud: 0.360 (+/-0.000) para los parámetros {'C': 0.25, 'class_weight': 'balanced', 'decision_function_shape': 'ovr', 'kernel': 'linear'}\n",
      "Reporte de clasificación para el mejor clasificador (sobre conjunto de evaluación):\n",
      "\n",
      "              precision    recall  f1-score   support\n",
      "\n",
      "         0.0       0.49      0.60      0.54       578\n",
      "         1.0       0.30      0.33      0.31       569\n",
      "         2.0       0.25      0.24      0.25       585\n",
      "         3.0       0.29      0.24      0.26       611\n",
      "         4.0       0.42      0.37      0.40       621\n",
      "\n",
      "    accuracy                           0.36      2964\n",
      "   macro avg       0.35      0.36      0.35      2964\n",
      "weighted avg       0.35      0.36      0.35      2964\n",
      "\n",
      "\n",
      "Accuracy: 0.3570\n",
      "================================================\n",
      "\n"
     ]
    },
    {
     "data": {
      "image/png": "[encoded data removed]",
      "text/plain": [
       "<Figure size 432x288 with 2 Axes>"
      ]
     },
     "metadata": {
      "needs_background": "light"
     },
     "output_type": "display_data"
    }
   ],
   "source": [
    "param = {'C':[1e-3, 0.2,0.25],\n",
    "         'kernel':['sigmoid','poly','linear'],\n",
    "         'decision_function_shape': ['ovo','ovr'],\n",
    "         'class_weight':['balanced']\n",
    "              }\n",
    "m = SVC(random_state=42)\n",
    "clf = GridSearchCV(m, param, \n",
    "                         scoring='accuracy', \n",
    "                         verbose=1,\n",
    "                         n_jobs=-1,\n",
    "                         cv=3)\n",
    "clf.fit(X_train.drop([\"PID\"], axis=1), y_train)\n",
    "\n",
    "print(\"# Exploración de hiperparámetros para función de coste \", end=\"\\n\\n\")\n",
    "    \n",
    "print(\"Mejor conjunto de parámetros:\")\n",
    "print(clf.best_params_, end=\"\\n\\n\")\n",
    "\n",
    "print(\"Puntajes de la grilla:\", end=\"\\n\\n\")\n",
    "means = clf.cv_results_['mean_test_score']\n",
    "stds = clf.cv_results_['std_test_score']\n",
    "for mean, std, params in zip(means, stds, clf.cv_results_['params']):\n",
    "    print(\"Exactitud: %0.3f (+/-%0.03f) para los parámetros %r\" % (mean, std ** 2, params))\n",
    "\n",
    "\n",
    "print(\"Reporte de clasificación para el mejor clasificador (sobre conjunto de evaluación):\", end=\"\\n\\n\")\n",
    "y_true, y_pred = y_valid, clf.predict(X_valid.drop([\"PID\"], axis=1))\n",
    "print(classification_report(y_true, y_pred), end=\"\\n\\n\")\n",
    "print(\"Accuracy: %0.4f\" % accuracy_score(y_true, y_pred))\n",
    "print(\"================================================\", end=\"\\n\\n\")\n",
    "\n",
    "plot_confusion_matrix(confusion_matrix(y_true, y_pred),\n",
    "                      classes=('same day', '1 week', '1 month','2/3 months', 'no adoption'),title=\"Matriz de confusión \")"
   ]
  },
  {
   "cell_type": "markdown",
   "metadata": {},
   "source": [
    "### Decition tree\n"
   ]
  },
  {
   "cell_type": "code",
   "execution_count": 121,
   "metadata": {},
   "outputs": [
    {
     "name": "stdout",
     "output_type": "stream",
     "text": [
      "Dataset converted to dummies\n",
      "Returning train and test dataset\n"
     ]
    }
   ],
   "source": [
    "X, y, XX, yy = transform_data(\"https://raw.githubusercontent.com/DiploDatos/AprendizajeSupervisado/master/practico/data/train.csv\", \"https://raw.githubusercontent.com/DiploDatos/AprendizajeSupervisado/master/practico/data/test.csv\", False, True)\n",
    "X_train, X_valid, y_train, y_valid = train_test_split(X, y, test_size=0.2, random_state=42)\n"
   ]
  },
  {
   "cell_type": "code",
   "execution_count": 125,
   "metadata": {},
   "outputs": [
    {
     "name": "stdout",
     "output_type": "stream",
     "text": [
      "Accuracy: 0.3084553613604157\n"
     ]
    }
   ],
   "source": [
    "from sklearn import tree\n",
    "\n",
    "clf = tree.DecisionTreeClassifier()\n",
    "clf.fit(X_train.drop([\"PID\"], axis=1), y_train)\n",
    "y_predict = clf.predict(X_valid.drop([\"PID\"], axis=1))\n",
    "\n",
    "#Import scikit-learn metrics module for accuracy calculation\n",
    "\n",
    "# Model Accuracy, how often is the classifier correct?\n",
    "print(\"Accuracy:\",metrics.accuracy_score(y_valid, y_predict))"
   ]
  },
  {
   "cell_type": "markdown",
   "metadata": {
    "colab_type": "text",
    "id": "ObhftFs9PN7N"
   },
   "source": [
    "#### Random Forest "
   ]
  },
  {
   "cell_type": "code",
   "execution_count": 46,
   "metadata": {},
   "outputs": [
    {
     "name": "stderr",
     "output_type": "stream",
     "text": [
      "C:\\Users\\soluj\\Anaconda3\\lib\\site-packages\\ipykernel_launcher.py:3: DataConversionWarning: A column-vector y was passed when a 1d array was expected. Please change the shape of y to (n_samples,), for example using ravel().\n",
      "  This is separate from the ipykernel package so we can avoid doing imports until\n"
     ]
    },
    {
     "name": "stdout",
     "output_type": "stream",
     "text": [
      "Accuracy: 0.3937246963562753\n"
     ]
    }
   ],
   "source": [
    "clf = RandomForestClassifier(n_estimators=100, max_depth=2,\n",
    "                             random_state=42)\n",
    "clf.fit(X_train.drop([\"PID\"], axis=1), y_train)\n",
    "y_predict = clf.predict(X_valid.drop([\"PID\"], axis=1))\n",
    "\n",
    "#Import scikit-learn metrics module for accuracy calculation\n",
    "\n",
    "# Model Accuracy, how often is the classifier correct?\n",
    "print(\"Accuracy:\",metrics.accuracy_score(y_valid, y_predict))"
   ]
  },
  {
   "cell_type": "code",
   "execution_count": 51,
   "metadata": {
    "scrolled": true
   },
   "outputs": [
    {
     "name": "stderr",
     "output_type": "stream",
     "text": [
      "C:\\Users\\soluj\\Anaconda3\\lib\\site-packages\\sklearn\\model_selection\\_search.py:715: DataConversionWarning: A column-vector y was passed when a 1d array was expected. Please change the shape of y to (n_samples,), for example using ravel().\n",
      "  self.best_estimator_.fit(X, y, **fit_params)\n"
     ]
    },
    {
     "name": "stdout",
     "output_type": "stream",
     "text": [
      "# Exploración de hiperparámetros para función de coste \n",
      "\n",
      "Mejor conjunto de parámetros:\n",
      "{'criterion': 'gini', 'max_depth': 50, 'min_samples_split': 10, 'n_estimators': 2000}\n",
      "\n",
      "Puntajes de la grilla:\n",
      "\n",
      "Exactitud: 0.202 (+/-0.000) para los parámetros {'algorithm': 'auto', 'leaf_size': 15, 'metric': 'manhattan', 'n_neighbors': 5, 'p': 1, 'weights': 'distance'}\n",
      "Reporte de clasificación para el mejor clasificador (sobre conjunto de evaluación):\n",
      "\n",
      "              precision    recall  f1-score   support\n",
      "\n",
      "         0.0       0.72      0.89      0.80       578\n",
      "         1.0       0.41      0.33      0.36       569\n",
      "         2.0       0.35      0.39      0.37       585\n",
      "         3.0       0.41      0.19      0.26       611\n",
      "         4.0       0.47      0.65      0.54       621\n",
      "\n",
      "    accuracy                           0.49      2964\n",
      "   macro avg       0.47      0.49      0.47      2964\n",
      "weighted avg       0.47      0.49      0.47      2964\n",
      "\n",
      "\n",
      "Accuracy: 0.4889\n",
      "================================================\n",
      "\n"
     ]
    },
    {
     "data": {
      "image/png": "[encoded data removed]",
      "text/plain": [
       "<Figure size 432x288 with 2 Axes>"
      ]
     },
     "metadata": {
      "needs_background": "light"
     },
     "output_type": "display_data"
    }
   ],
   "source": [
    "\n",
    "params = {'n_estimators': [1000,2000],\n",
    "          'min_samples_split' : [1.0, 10],\n",
    "         'criterion': ['gini'],\n",
    "         'max_depth': [30,50,80]}\n",
    "nb = RandomForestClassifier(random_state=42)\n",
    "nb = GridSearchCV(nb, cv=3, param_grid=params, return_train_score=True,n_jobs =-1)\n",
    "\n",
    "nb.fit(X_train.drop([\"PID\"], axis=1), y_train)\n",
    "\n",
    "print(\"# Exploración de hiperparámetros para función de coste \", end=\"\\n\\n\")\n",
    "    \n",
    "print(\"Mejor conjunto de parámetros:\")\n",
    "print(nb.best_params_, end=\"\\n\\n\")\n",
    "\n",
    "print(\"Puntajes de la grilla:\", end=\"\\n\\n\")\n",
    "means = nb.cv_results_['mean_test_score']\n",
    "stds = nb.cv_results_['std_test_score']\n",
    "for mean, std, params in zip(means, stds, neigh_clf.cv_results_['params']):\n",
    "    print(\"Exactitud: %0.3f (+/-%0.03f) para los parámetros %r\" % (mean, std ** 2, params))\n",
    "\n",
    "\n",
    "print(\"Reporte de clasificación para el mejor clasificador (sobre conjunto de evaluación):\", end=\"\\n\\n\")\n",
    "y_true, y_pred = y_valid, nb.predict(X_valid.drop([\"PID\"], axis=1))\n",
    "print(classification_report(y_true, y_pred), end=\"\\n\\n\")\n",
    "print(\"Accuracy: %0.4f\" % accuracy_score(y_true, y_pred))\n",
    "print(\"================================================\", end=\"\\n\\n\")\n",
    "\n",
    "plot_confusion_matrix(confusion_matrix(y_true, y_pred),\n",
    "                      classes=('same day', '1 week', '1 month','2/3 months', 'no adoption'),title=\"Matriz de confusión \")"
   ]
  },
  {
   "cell_type": "markdown",
   "metadata": {},
   "source": [
    "#### Mejor conjunto de parámetros:\n",
    "{'criterion': 'gini', 'max_depth': 50, 'min_samples_split': 10, 'n_estimators': 2000}"
   ]
  },
  {
   "cell_type": "code",
   "execution_count": 131,
   "metadata": {},
   "outputs": [
    {
     "name": "stderr",
     "output_type": "stream",
     "text": [
      "C:\\Users\\soluj\\Anaconda3\\lib\\site-packages\\sklearn\\model_selection\\_search.py:715: DataConversionWarning: A column-vector y was passed when a 1d array was expected. Please change the shape of y to (n_samples,), for example using ravel().\n",
      "  self.best_estimator_.fit(X, y, **fit_params)\n"
     ]
    },
    {
     "name": "stdout",
     "output_type": "stream",
     "text": [
      "# Exploración de hiperparámetros para función de coste \n",
      "\n",
      "Mejor conjunto de parámetros:\n",
      "{'criterion': 'gini', 'max_depth': 50, 'min_samples_split': 10, 'n_estimators': 2000}\n",
      "\n",
      "Puntajes de la grilla:\n",
      "\n"
     ]
    },
    {
     "ename": "NameError",
     "evalue": "name 'neigh_clf' is not defined",
     "output_type": "error",
     "traceback": [
      "\u001b[1;31m---------------------------------------------------------------------------\u001b[0m",
      "\u001b[1;31mNameError\u001b[0m                                 Traceback (most recent call last)",
      "\u001b[1;32m<ipython-input-131-24c30be61f9b>\u001b[0m in \u001b[0;36m<module>\u001b[1;34m\u001b[0m\n\u001b[0;32m     17\u001b[0m \u001b[0mmeans\u001b[0m \u001b[1;33m=\u001b[0m \u001b[0mnb\u001b[0m\u001b[1;33m.\u001b[0m\u001b[0mcv_results_\u001b[0m\u001b[1;33m[\u001b[0m\u001b[1;34m'mean_test_score'\u001b[0m\u001b[1;33m]\u001b[0m\u001b[1;33m\u001b[0m\u001b[1;33m\u001b[0m\u001b[0m\n\u001b[0;32m     18\u001b[0m \u001b[0mstds\u001b[0m \u001b[1;33m=\u001b[0m \u001b[0mnb\u001b[0m\u001b[1;33m.\u001b[0m\u001b[0mcv_results_\u001b[0m\u001b[1;33m[\u001b[0m\u001b[1;34m'std_test_score'\u001b[0m\u001b[1;33m]\u001b[0m\u001b[1;33m\u001b[0m\u001b[1;33m\u001b[0m\u001b[0m\n\u001b[1;32m---> 19\u001b[1;33m \u001b[1;32mfor\u001b[0m \u001b[0mmean\u001b[0m\u001b[1;33m,\u001b[0m \u001b[0mstd\u001b[0m\u001b[1;33m,\u001b[0m \u001b[0mparams\u001b[0m \u001b[1;32min\u001b[0m \u001b[0mzip\u001b[0m\u001b[1;33m(\u001b[0m\u001b[0mmeans\u001b[0m\u001b[1;33m,\u001b[0m \u001b[0mstds\u001b[0m\u001b[1;33m,\u001b[0m \u001b[0mneigh_clf\u001b[0m\u001b[1;33m.\u001b[0m\u001b[0mcv_results_\u001b[0m\u001b[1;33m[\u001b[0m\u001b[1;34m'params'\u001b[0m\u001b[1;33m]\u001b[0m\u001b[1;33m)\u001b[0m\u001b[1;33m:\u001b[0m\u001b[1;33m\u001b[0m\u001b[1;33m\u001b[0m\u001b[0m\n\u001b[0m\u001b[0;32m     20\u001b[0m     \u001b[0mprint\u001b[0m\u001b[1;33m(\u001b[0m\u001b[1;34m\"Exactitud: %0.3f (+/-%0.03f) para los parámetros %r\"\u001b[0m \u001b[1;33m%\u001b[0m \u001b[1;33m(\u001b[0m\u001b[0mmean\u001b[0m\u001b[1;33m,\u001b[0m \u001b[0mstd\u001b[0m \u001b[1;33m**\u001b[0m \u001b[1;36m2\u001b[0m\u001b[1;33m,\u001b[0m \u001b[0mparams\u001b[0m\u001b[1;33m)\u001b[0m\u001b[1;33m)\u001b[0m\u001b[1;33m\u001b[0m\u001b[1;33m\u001b[0m\u001b[0m\n\u001b[0;32m     21\u001b[0m \u001b[1;33m\u001b[0m\u001b[0m\n",
      "\u001b[1;31mNameError\u001b[0m: name 'neigh_clf' is not defined"
     ]
    }
   ],
   "source": [
    "\n",
    "params = {'n_estimators': [2000],\n",
    "          'min_samples_split' : [10],\n",
    "         'criterion': ['gini'],\n",
    "         'max_depth': [50]}\n",
    "nb = RandomForestClassifier(random_state=42)\n",
    "nb = GridSearchCV(nb, cv=3, param_grid=params, return_train_score=True,n_jobs =-1)\n",
    "\n",
    "nb.fit(X_train.drop([\"PID\"], axis=1), y_train)\n",
    "\n",
    "print(\"# Exploración de hiperparámetros para función de coste \", end=\"\\n\\n\")\n",
    "    \n",
    "print(\"Mejor conjunto de parámetros:\")\n",
    "print(nb.best_params_, end=\"\\n\\n\")\n",
    "\n",
    "print(\"Puntajes de la grilla:\", end=\"\\n\\n\")\n",
    "means = nb.cv_results_['mean_test_score']\n",
    "stds = nb.cv_results_['std_test_score']\n",
    "for mean, std, params in zip(means, stds, neigh_clf.cv_results_['params']):\n",
    "    print(\"Exactitud: %0.3f (+/-%0.03f) para los parámetros %r\" % (mean, std ** 2, params))\n",
    "\n",
    "\n",
    "print(\"Reporte de clasificación para el mejor clasificador (sobre conjunto de evaluación):\", end=\"\\n\\n\")\n",
    "y_true, y_pred = y_valid, nb.predict(X_valid.drop([\"PID\"], axis=1))\n",
    "print(classification_report(y_true, y_pred), end=\"\\n\\n\")\n",
    "print(\"Accuracy: %0.4f\" % accuracy_score(y_true, y_pred))\n",
    "print(\"================================================\", end=\"\\n\\n\")\n",
    "\n",
    "plot_confusion_matrix(confusion_matrix(y_true, y_pred),\n",
    "                      classes=('same day', '1 week', '1 month','2/3 months', 'no adoption'),title=\"Matriz de confusión \")"
   ]
  },
  {
   "cell_type": "markdown",
   "metadata": {
    "colab_type": "text",
    "id": "l7bP0F7mPN7T"
   },
   "source": [
    "**And finally**, we predict the unknown label for the testing set"
   ]
  },
  {
   "cell_type": "code",
   "execution_count": 0,
   "metadata": {
    "colab": {},
    "colab_type": "code",
    "id": "B_tovMi3PN7U"
   },
   "outputs": [],
   "source": [
    "X.shape, XX.shape"
   ]
  },
  {
   "cell_type": "code",
   "execution_count": 52,
   "metadata": {
    "colab": {},
    "colab_type": "code",
    "id": "pKcFKJodPN7X"
   },
   "outputs": [],
   "source": [
    "yy = clf.predict(XX.drop([\"PID\"], axis=1))\n",
    "yy = yy.astype(np.int)"
   ]
  },
  {
   "cell_type": "code",
   "execution_count": 53,
   "metadata": {
    "colab": {},
    "colab_type": "code",
    "id": "QqsFfR-7PN7a"
   },
   "outputs": [],
   "source": [
    "submission = pd.DataFrame(list(zip(XX.PID, yy)), columns=[\"PID\", \"AdoptionSpeed\"])"
   ]
  },
  {
   "cell_type": "code",
   "execution_count": 54,
   "metadata": {
    "colab": {},
    "colab_type": "code",
    "id": "V4O1CUOePN7e"
   },
   "outputs": [],
   "source": [
    "submission.to_csv(\"../data/submission.csv\", header=True, index=False)"
   ]
  },
  {
   "cell_type": "markdown",
   "metadata": {
    "colab_type": "text",
    "id": "Snb-ivCqPN7Z"
   },
   "source": [
    "The last thing we do is generating a file that should be *submitted* on kaggle"
   ]
  }
 ],
 "metadata": {
  "colab": {
   "name": "baseline.ipynb",
   "provenance": [],
   "toc_visible": true,
   "version": "0.3.2"
  },
  "kernelspec": {
   "display_name": "Python 3",
   "language": "python",
   "name": "python3"
  },
  "language_info": {
   "codemirror_mode": {
    "name": "ipython",
    "version": 3
   },
   "file_extension": ".py",
   "mimetype": "text/x-python",
   "name": "python",
   "nbconvert_exporter": "python",
   "pygments_lexer": "ipython3",
   "version": "3.7.1"
  }
 },
 "nbformat": 4,
 "nbformat_minor": 1
}
