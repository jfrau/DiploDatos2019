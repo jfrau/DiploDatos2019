{
 "cells": [
  {
   "cell_type": "code",
   "execution_count": 1,
   "metadata": {},
   "outputs": [],
   "source": [
    "# Import the required packages\n",
    "import os\n",
    "\n",
    "import numpy as np\n",
    "import pandas as pd\n",
    "import matplotlib.pyplot as plt\n",
    "from sklearn.metrics import classification_report, confusion_matrix, accuracy_score\n",
    "from sklearn.preprocessing import StandardScaler\n",
    "from ml.visualization import plot_confusion_matrix, plot_learning_curve\n",
    "from sklearn.model_selection import GridSearchCV\n"
   ]
  },
  {
   "cell_type": "code",
   "execution_count": 2,
   "metadata": {},
   "outputs": [],
   "source": [
    "# load the given labels\n",
    "breed = pd.read_csv('../data/breed_labels.csv')\n",
    "color = pd.read_csv('../data/color_labels.csv')\n",
    "state = pd.read_csv('../data/state_labels.csv')"
   ]
  },
  {
   "cell_type": "code",
   "execution_count": 6,
   "metadata": {},
   "outputs": [
    {
     "data": {
      "text/html": [
       "<div>\n",
       "<style scoped>\n",
       "    .dataframe tbody tr th:only-of-type {\n",
       "        vertical-align: middle;\n",
       "    }\n",
       "\n",
       "    .dataframe tbody tr th {\n",
       "        vertical-align: top;\n",
       "    }\n",
       "\n",
       "    .dataframe thead th {\n",
       "        text-align: right;\n",
       "    }\n",
       "</style>\n",
       "<table border=\"1\" class=\"dataframe\">\n",
       "  <thead>\n",
       "    <tr style=\"text-align: right;\">\n",
       "      <th></th>\n",
       "      <th>Type</th>\n",
       "      <th>Age</th>\n",
       "      <th>Breed1</th>\n",
       "      <th>Breed2</th>\n",
       "      <th>Gender</th>\n",
       "      <th>Color1</th>\n",
       "      <th>Color2</th>\n",
       "      <th>Color3</th>\n",
       "      <th>MaturitySize</th>\n",
       "      <th>FurLength</th>\n",
       "      <th>Vaccinated</th>\n",
       "      <th>Dewormed</th>\n",
       "      <th>Sterilized</th>\n",
       "      <th>Health</th>\n",
       "      <th>Quantity</th>\n",
       "      <th>Fee</th>\n",
       "      <th>State</th>\n",
       "      <th>Description</th>\n",
       "      <th>AdoptionSpeed</th>\n",
       "      <th>PID</th>\n",
       "    </tr>\n",
       "  </thead>\n",
       "  <tbody>\n",
       "    <tr>\n",
       "      <th>3267</th>\n",
       "      <td>2</td>\n",
       "      <td>3</td>\n",
       "      <td>266</td>\n",
       "      <td>0</td>\n",
       "      <td>1</td>\n",
       "      <td>6</td>\n",
       "      <td>7</td>\n",
       "      <td>0</td>\n",
       "      <td>1</td>\n",
       "      <td>1</td>\n",
       "      <td>1</td>\n",
       "      <td>1</td>\n",
       "      <td>1</td>\n",
       "      <td>1</td>\n",
       "      <td>1</td>\n",
       "      <td>50</td>\n",
       "      <td>41326</td>\n",
       "      <td>Caspian is a shy cat. He didn't meow much unle...</td>\n",
       "      <td>4</td>\n",
       "      <td>4612</td>\n",
       "    </tr>\n",
       "    <tr>\n",
       "      <th>3960</th>\n",
       "      <td>1</td>\n",
       "      <td>2</td>\n",
       "      <td>307</td>\n",
       "      <td>0</td>\n",
       "      <td>1</td>\n",
       "      <td>2</td>\n",
       "      <td>0</td>\n",
       "      <td>0</td>\n",
       "      <td>1</td>\n",
       "      <td>1</td>\n",
       "      <td>2</td>\n",
       "      <td>1</td>\n",
       "      <td>2</td>\n",
       "      <td>1</td>\n",
       "      <td>1</td>\n",
       "      <td>0</td>\n",
       "      <td>41326</td>\n",
       "      <td>DBKL took his mother away, so I took him with ...</td>\n",
       "      <td>4</td>\n",
       "      <td>5601</td>\n",
       "    </tr>\n",
       "    <tr>\n",
       "      <th>4832</th>\n",
       "      <td>1</td>\n",
       "      <td>2</td>\n",
       "      <td>307</td>\n",
       "      <td>0</td>\n",
       "      <td>2</td>\n",
       "      <td>1</td>\n",
       "      <td>2</td>\n",
       "      <td>0</td>\n",
       "      <td>2</td>\n",
       "      <td>1</td>\n",
       "      <td>3</td>\n",
       "      <td>3</td>\n",
       "      <td>2</td>\n",
       "      <td>1</td>\n",
       "      <td>1</td>\n",
       "      <td>0</td>\n",
       "      <td>41326</td>\n",
       "      <td>Cute puppy looking for a forever home. Commitm...</td>\n",
       "      <td>2</td>\n",
       "      <td>6854</td>\n",
       "    </tr>\n",
       "    <tr>\n",
       "      <th>9660</th>\n",
       "      <td>2</td>\n",
       "      <td>4</td>\n",
       "      <td>266</td>\n",
       "      <td>0</td>\n",
       "      <td>1</td>\n",
       "      <td>1</td>\n",
       "      <td>2</td>\n",
       "      <td>7</td>\n",
       "      <td>1</td>\n",
       "      <td>1</td>\n",
       "      <td>2</td>\n",
       "      <td>1</td>\n",
       "      <td>2</td>\n",
       "      <td>1</td>\n",
       "      <td>1</td>\n",
       "      <td>10</td>\n",
       "      <td>41401</td>\n",
       "      <td>a friend, hafiz bring this kitten to my place,...</td>\n",
       "      <td>1</td>\n",
       "      <td>13645</td>\n",
       "    </tr>\n",
       "    <tr>\n",
       "      <th>6368</th>\n",
       "      <td>1</td>\n",
       "      <td>26</td>\n",
       "      <td>152</td>\n",
       "      <td>0</td>\n",
       "      <td>2</td>\n",
       "      <td>2</td>\n",
       "      <td>0</td>\n",
       "      <td>0</td>\n",
       "      <td>1</td>\n",
       "      <td>2</td>\n",
       "      <td>1</td>\n",
       "      <td>1</td>\n",
       "      <td>2</td>\n",
       "      <td>1</td>\n",
       "      <td>1</td>\n",
       "      <td>100</td>\n",
       "      <td>41401</td>\n",
       "      <td># Not adopted, is to help raise # Dog food, sh...</td>\n",
       "      <td>4</td>\n",
       "      <td>8949</td>\n",
       "    </tr>\n",
       "  </tbody>\n",
       "</table>\n",
       "</div>"
      ],
      "text/plain": [
       "      Type  Age  Breed1  Breed2  Gender  Color1  Color2  Color3  MaturitySize  \\\n",
       "3267     2    3     266       0       1       6       7       0             1   \n",
       "3960     1    2     307       0       1       2       0       0             1   \n",
       "4832     1    2     307       0       2       1       2       0             2   \n",
       "9660     2    4     266       0       1       1       2       7             1   \n",
       "6368     1   26     152       0       2       2       0       0             1   \n",
       "\n",
       "      FurLength  Vaccinated  Dewormed  Sterilized  Health  Quantity  Fee  \\\n",
       "3267          1           1         1           1       1         1   50   \n",
       "3960          1           2         1           2       1         1    0   \n",
       "4832          1           3         3           2       1         1    0   \n",
       "9660          1           2         1           2       1         1   10   \n",
       "6368          2           1         1           2       1         1  100   \n",
       "\n",
       "      State                                        Description  AdoptionSpeed  \\\n",
       "3267  41326  Caspian is a shy cat. He didn't meow much unle...              4   \n",
       "3960  41326  DBKL took his mother away, so I took him with ...              4   \n",
       "4832  41326  Cute puppy looking for a forever home. Commitm...              2   \n",
       "9660  41401  a friend, hafiz bring this kitten to my place,...              1   \n",
       "6368  41401  # Not adopted, is to help raise # Dog food, sh...              4   \n",
       "\n",
       "        PID  \n",
       "3267   4612  \n",
       "3960   5601  \n",
       "4832   6854  \n",
       "9660  13645  \n",
       "6368   8949  "
      ]
     },
     "execution_count": 6,
     "metadata": {},
     "output_type": "execute_result"
    }
   ],
   "source": [
    "original_df = pd.read_csv('../data/train.csv')\n",
    "original_df.sample(5)"
   ]
  },
  {
   "cell_type": "code",
   "execution_count": 4,
   "metadata": {},
   "outputs": [],
   "source": [
    "def transform_data(train_data_fname, test_data_fname):\n",
    "    def transform_columns(df):\n",
    "        df = df.drop([\"Description\"], axis=1)\n",
    "        df.Type = df.Type.replace({1: 'Dog', 2: 'Cat'})\n",
    "        df.Gender = df.Gender.replace({1:'Male', 2:'Female', 3:'Mixed'})\n",
    "        df.MaturitySize = df.MaturitySize.replace({1:'S', 2:'M', 3:'L', 4:'XL', 0:'N/A'})\n",
    "        df.FurLength = df.FurLength.replace({1:'S', 2:'M', 3:'L', 0:'N/A'})\n",
    "        df.Vaccinated = df.Vaccinated.replace({1:'T', 2:'N', 3:'N/A'})\n",
    "        df.Dewormed = df.Dewormed.replace({1:'T', 2:'F', 3:'N/A'})\n",
    "        df.Sterilized = df.Sterilized.replace({1:'T', 2:'F', 3:'N/A'})\n",
    "        df.Health = df.Health.replace({1:'Healthy', 2: 'MinorInjury', 3:'SeriousInjury', 0: 'N/A'})\n",
    "        df.Color1 = df.Color1.replace(dict(list(zip(color.ColorID, color.ColorName)) + [(0, \"N/A\")]))\n",
    "        df.Color2 = df.Color2.replace(dict(list(zip(color.ColorID, color.ColorName)) + [(0, \"N/A\")]))\n",
    "        df.Color3 = df.Color3.replace(dict(list(zip(color.ColorID, color.ColorName)) + [(0, \"N/A\")]))\n",
    "        df.Breed1 = df.Breed1.replace(dict(list(zip(breed.BreedID, breed.BreedName)) + [(0, \"N/A\")]))\n",
    "        df.Breed2 = df.Breed2.replace(dict(list(zip(breed.BreedID, breed.BreedName)) + [(0, \"N/A\")]))\n",
    "        return df\n",
    "    \n",
    "    df_train = pd.read_csv(train_data_fname)\n",
    "    df_train = transform_columns(df_train)\n",
    "    df_test = pd.read_csv(test_data_fname)\n",
    "    df_test = transform_columns(df_test)\n",
    "    \n",
    "    df = pd.concat([df_train, df_test], sort=True)\n",
    "\n",
    "    # set dummy variables for everything\n",
    "    # except from Age, Quantity, Fee\n",
    "    df = pd.get_dummies(df)\n",
    "    # get train and test back\n",
    "    n = len(df_train)\n",
    "    df_train = df.iloc[:n]\n",
    "    df_test = df.iloc[n:]\n",
    "    \n",
    "    y = df_train['AdoptionSpeed']\n",
    "    X = df_train.drop('AdoptionSpeed', axis=1)\n",
    "    yy = None\n",
    "    XX = df_test.drop('AdoptionSpeed', axis=1)\n",
    "\n",
    "    return X, y, XX, yy"
   ]
  },
  {
   "cell_type": "code",
   "execution_count": 5,
   "metadata": {},
   "outputs": [],
   "source": [
    "X, y, XX, yy = transform_data(\"../data/train.csv\", \"../data/test.csv\")\n"
   ]
  },
  {
   "cell_type": "code",
   "execution_count": 7,
   "metadata": {},
   "outputs": [
    {
     "name": "stderr",
     "output_type": "stream",
     "text": [
      "/home/jfrau/anaconda3/lib/python3.7/site-packages/sklearn/linear_model/stochastic_gradient.py:166: FutureWarning: max_iter and tol parameters have been added in SGDClassifier in 0.19. If both are left unset, they default to max_iter=5 and tol=None. If tol is not None, max_iter defaults to max_iter=1000. From 0.21, default max_iter will be 1000, and default tol will be 1e-3.\n",
      "  FutureWarning)\n"
     ]
    },
    {
     "name": "stdout",
     "output_type": "stream",
     "text": [
      "Reporte de clasificación  (sobre conjunto de evaluación):\n",
      "\n",
      "              precision    recall  f1-score   support\n",
      "\n",
      "         0.0       0.00      0.00      0.00        61\n",
      "         1.0       0.00      0.00      0.00       440\n",
      "         2.0       0.00      0.00      0.00       557\n",
      "         3.0       0.00      0.00      0.00       467\n",
      "         4.0       0.28      1.00      0.44       592\n",
      "\n",
      "   micro avg       0.28      0.28      0.28      2117\n",
      "   macro avg       0.06      0.20      0.09      2117\n",
      "weighted avg       0.08      0.28      0.12      2117\n",
      "\n",
      "\n",
      "================================================\n",
      "\n",
      "Accuracy: 0.2796\n"
     ]
    },
    {
     "name": "stderr",
     "output_type": "stream",
     "text": [
      "/home/jfrau/anaconda3/lib/python3.7/site-packages/sklearn/metrics/classification.py:1143: UndefinedMetricWarning: Precision and F-score are ill-defined and being set to 0.0 in labels with no predicted samples.\n",
      "  'precision', 'predicted', average, warn_for)\n"
     ]
    },
    {
     "data": {
      "image/png": "[encoded data removed]",
      "text/plain": [
       "<Figure size 432x288 with 2 Axes>"
      ]
     },
     "metadata": {
      "needs_background": "light"
     },
     "output_type": "display_data"
    }
   ],
   "source": [
    "from sklearn.model_selection import train_test_split\n",
    "X_train, X_valid, y_train, y_valid = train_test_split(X, y, test_size=0.20, random_state=42)\n",
    "\n",
    "from sklearn.linear_model import SGDClassifier\n",
    "from sklearn.metrics import accuracy_score, classification_report, confusion_matrix\n",
    "\n",
    "clf = SGDClassifier(random_state=2)\n",
    "clf.fit(X_train, y_train)\n",
    "\n",
    "print(\"Reporte de clasificación  (sobre conjunto de evaluación):\", end=\"\\n\\n\")\n",
    "y_true, y_pred = y_valid, clf.predict(X_valid)\n",
    "print(classification_report(y_true, y_pred), end=\"\\n\\n\")\n",
    "\n",
    "print(\"================================================\", end=\"\\n\\n\")\n",
    "print(\"Accuracy: %0.4f\" % accuracy_score(y_true, y_pred))\n",
    "\n",
    "plot_confusion_matrix(confusion_matrix(y_true, y_pred),\n",
    "                      classes=('0','1','2','3','4'), title=\"Matriz de confusión\")"
   ]
  },
  {
   "cell_type": "code",
   "execution_count": 12,
   "metadata": {},
   "outputs": [
    {
     "name": "stdout",
     "output_type": "stream",
     "text": [
      "Reporte de clasificación  (sobre conjunto de evaluación):\n",
      "\n",
      "              precision    recall  f1-score   support\n",
      "\n",
      "         0.0       0.00      0.00      0.00        61\n",
      "         1.0       0.00      0.00      0.00       440\n",
      "         2.0       0.30      0.61      0.41       557\n",
      "         3.0       0.00      0.00      0.00       467\n",
      "         4.0       0.39      0.66      0.49       592\n",
      "\n",
      "   micro avg       0.35      0.35      0.35      2117\n",
      "   macro avg       0.14      0.25      0.18      2117\n",
      "weighted avg       0.19      0.35      0.24      2117\n",
      "\n",
      "\n",
      "================================================\n",
      "\n",
      "Accuracy: 0.3453\n"
     ]
    },
    {
     "name": "stderr",
     "output_type": "stream",
     "text": [
      "/home/jfrau/anaconda3/lib/python3.7/site-packages/sklearn/metrics/classification.py:1143: UndefinedMetricWarning: Precision and F-score are ill-defined and being set to 0.0 in labels with no predicted samples.\n",
      "  'precision', 'predicted', average, warn_for)\n"
     ]
    },
    {
     "data": {
      "image/png": "[encoded data removed]",
      "text/plain": [
       "<Figure size 432x288 with 2 Axes>"
      ]
     },
     "metadata": {
      "needs_background": "light"
     },
     "output_type": "display_data"
    }
   ],
   "source": [
    "from sklearn.ensemble import RandomForestClassifier as RF\n",
    "from sklearn.datasets import make_classification\n",
    "clf = RandomForestClassifier(n_estimators=100, max_depth=2,random_state=0)\n",
    "clf.fit(X_train, y_train)  \n",
    "\n",
    "\n",
    "print(\"Reporte de clasificación  (sobre conjunto de evaluación):\", end=\"\\n\\n\")\n",
    "y_true, y_pred = y_valid, clf.predict(X_valid)\n",
    "print(classification_report(y_true, y_pred), end=\"\\n\\n\")\n",
    "\n",
    "print(\"================================================\", end=\"\\n\\n\")\n",
    "print(\"Accuracy: %0.4f\" % accuracy_score(y_true, y_pred))\n",
    "\n",
    "plot_confusion_matrix(confusion_matrix(y_true, y_pred),\n",
    "                      classes=('0','1','2','3','4'), title=\"Matriz de confusión\")"
   ]
  },
  {
   "cell_type": "code",
   "execution_count": 38,
   "metadata": {},
   "outputs": [
    {
     "name": "stdout",
     "output_type": "stream",
     "text": [
      "Best Decision Tree accuracy:  0.37964289018021863\n",
      "RandomForestClassifier(bootstrap=True, class_weight=None, criterion='entropy',\n",
      "            max_depth=10, max_features=30, max_leaf_nodes=60,\n",
      "            min_impurity_decrease=0.0, min_impurity_split=None,\n",
      "            min_samples_leaf=1, min_samples_split=5,\n",
      "            min_weight_fraction_leaf=0.0, n_estimators=100, n_jobs=-1,\n",
      "            oob_score=False, random_state=42, verbose=0, warm_start=False)\n",
      "The best classifier so far is: \n",
      "RandomForestClassifier(bootstrap=True, class_weight=None, criterion='entropy',\n",
      "            max_depth=10, max_features=30, max_leaf_nodes=60,\n",
      "            min_impurity_decrease=0.0, min_impurity_split=None,\n",
      "            min_samples_leaf=1, min_samples_split=5,\n",
      "            min_weight_fraction_leaf=0.0, n_estimators=100, n_jobs=-1,\n",
      "            oob_score=False, random_state=42, verbose=0, warm_start=False)\n"
     ]
    }
   ],
   "source": [
    "# split training dataset into train and \"validation\" \n",
    "# (we won't be using validation set in this example, because of the cross-validation;\n",
    "# but it couldn be useful for you depending on your approach)\n",
    "from sklearn.model_selection import train_test_split\n",
    "X_train, X_valid, y_train, y_valid = train_test_split(X, y, test_size=0.3, random_state=42)\n",
    "\n",
    "from sklearn.metrics import accuracy_score\n",
    "from sklearn.model_selection import GridSearchCV\n",
    "\n",
    "results = pd.DataFrame(columns=('clf', 'best_acc'))\n",
    "\n",
    "#from sklearn.tree import DecisionTreeClassifier as DT\n",
    "tree_param = {'n_estimators':(10,100),\n",
    "              'criterion':('gini', 'entropy'),\n",
    "              'max_depth': (2,5,10,15),\n",
    "              'min_samples_split': (2,3,4,5),\n",
    "              'min_samples_leaf': (1,3,5),\n",
    "              'max_leaf_nodes': (20,60,65),\n",
    "              'max_features':(8,30,35),\n",
    "              'n_jobs':[-1]\n",
    "                }\n",
    "tree = RF(random_state=42)\n",
    "tree_clf = GridSearchCV(tree, tree_param, scoring='accuracy', cv=3, iid=False)\n",
    "tree_clf.fit(X_train.drop([\"PID\"], axis=1), y_train)\n",
    "best_tree_clf = tree_clf.best_estimator_\n",
    "print('Best Decision Tree accuracy: ', tree_clf.best_score_)\n",
    "print(best_tree_clf)\n",
    "results = results.append({'clf': best_tree_clf, 'best_acc': tree_clf.best_score_}, ignore_index=True)\n",
    "\n",
    "print('The best classifier so far is: ')\n",
    "print(results.loc[results['best_acc'].idxmax()]['clf'])\n"
   ]
  },
  {
   "cell_type": "code",
   "execution_count": 39,
   "metadata": {},
   "outputs": [
    {
     "data": {
      "text/plain": [
       "((10582, 360), (4411, 360))"
      ]
     },
     "execution_count": 39,
     "metadata": {},
     "output_type": "execute_result"
    }
   ],
   "source": [
    "X.shape, XX.shape"
   ]
  },
  {
   "cell_type": "code",
   "execution_count": 40,
   "metadata": {},
   "outputs": [],
   "source": [
    "yy = results.clf.iloc[0].predict(XX.drop([\"PID\"], axis=1))\n",
    "yy = yy.astype(np.int)"
   ]
  },
  {
   "cell_type": "code",
   "execution_count": 41,
   "metadata": {},
   "outputs": [],
   "source": [
    "submission = pd.DataFrame(list(zip(XX.PID, yy)), columns=[\"PID\", \"AdoptionSpeed\"])"
   ]
  },
  {
   "cell_type": "code",
   "execution_count": 42,
   "metadata": {},
   "outputs": [],
   "source": [
    "submission.to_csv(\"../data/submission.csv\", header=True, index=False)"
   ]
  },
  {
   "cell_type": "code",
   "execution_count": 47,
   "metadata": {},
   "outputs": [
    {
     "name": "stdout",
     "output_type": "stream",
     "text": [
      "Best Decision Tree accuracy:  0.380453536378959\n",
      "RandomForestClassifier(bootstrap=True, class_weight=None, criterion='entropy',\n",
      "            max_depth=10, max_features=30, max_leaf_nodes=70,\n",
      "            min_impurity_decrease=0.0, min_impurity_split=None,\n",
      "            min_samples_leaf=1, min_samples_split=5,\n",
      "            min_weight_fraction_leaf=0.0, n_estimators=80, n_jobs=-1,\n",
      "            oob_score=False, random_state=42, verbose=0, warm_start=False)\n",
      "The best classifier so far is: \n",
      "RandomForestClassifier(bootstrap=True, class_weight=None, criterion='entropy',\n",
      "            max_depth=10, max_features=30, max_leaf_nodes=70,\n",
      "            min_impurity_decrease=0.0, min_impurity_split=None,\n",
      "            min_samples_leaf=1, min_samples_split=5,\n",
      "            min_weight_fraction_leaf=0.0, n_estimators=80, n_jobs=-1,\n",
      "            oob_score=False, random_state=42, verbose=0, warm_start=False)\n"
     ]
    }
   ],
   "source": [
    "# split training dataset into train and \"validation\" \n",
    "# (we won't be using validation set in this example, because of the cross-validation;\n",
    "# but it couldn be useful for you depending on your approach)\n",
    "from sklearn.model_selection import train_test_split\n",
    "X_train, X_valid, y_train, y_valid = train_test_split(X, y, test_size=0.3, random_state=42)\n",
    "\n",
    "from sklearn.metrics import accuracy_score\n",
    "from sklearn.model_selection import GridSearchCV\n",
    "\n",
    "results = pd.DataFrame(columns=('clf', 'best_acc'))\n",
    "\n",
    "#from sklearn.tree import DecisionTreeClassifier as DT\n",
    "tree_param = {'n_estimators':(10,80,85,90,95,100),\n",
    "              'criterion':('gini', 'entropy'),\n",
    "              'max_depth': (10,12.2,15),\n",
    "              'min_samples_split': (2,3,5,6),\n",
    "              'min_samples_leaf': (1,3,5),\n",
    "              'max_leaf_nodes': (55,60,65,70,75),\n",
    "              'max_features':(8,30,35),\n",
    "              'n_jobs':[-1]\n",
    "                }\n",
    "tree = RF(random_state=42)\n",
    "tree_clf = GridSearchCV(tree, tree_param, scoring='accuracy', cv=3, iid=False)\n",
    "tree_clf.fit(X_train.drop([\"PID\"], axis=1), y_train)\n",
    "best_tree_clf = tree_clf.best_estimator_\n",
    "print('Best Decision Tree accuracy: ', tree_clf.best_score_)\n",
    "print(best_tree_clf)\n",
    "results = results.append({'clf': best_tree_clf, 'best_acc': tree_clf.best_score_}, ignore_index=True)\n",
    "\n",
    "print('The best classifier so far is: ')\n",
    "print(results.loc[results['best_acc'].idxmax()]['clf'])\n",
    "#agregar Class_weight inbalance"
   ]
  },
  {
   "cell_type": "code",
   "execution_count": 48,
   "metadata": {},
   "outputs": [
    {
     "data": {
      "text/plain": [
       "((10582, 360), (4411, 360))"
      ]
     },
     "execution_count": 48,
     "metadata": {},
     "output_type": "execute_result"
    }
   ],
   "source": [
    "X.shape, XX.shape"
   ]
  },
  {
   "cell_type": "code",
   "execution_count": 49,
   "metadata": {},
   "outputs": [],
   "source": [
    "yy = results.clf.iloc[0].predict(XX.drop([\"PID\"], axis=1))\n",
    "yy = yy.astype(np.int)"
   ]
  },
  {
   "cell_type": "code",
   "execution_count": 50,
   "metadata": {},
   "outputs": [],
   "source": [
    "submission = pd.DataFrame(list(zip(XX.PID, yy)), columns=[\"PID\", \"AdoptionSpeed\"])"
   ]
  },
  {
   "cell_type": "code",
   "execution_count": 51,
   "metadata": {},
   "outputs": [],
   "source": [
    "submission.to_csv(\"../data/submission.csv\", header=True, index=False)"
   ]
  },
  {
   "cell_type": "code",
   "execution_count": null,
   "metadata": {},
   "outputs": [],
   "source": []
  }
 ],
 "metadata": {
  "kernelspec": {
   "display_name": "Python 3",
   "language": "python",
   "name": "python3"
  },
  "language_info": {
   "codemirror_mode": {
    "name": "ipython",
    "version": 3
   },
   "file_extension": ".py",
   "mimetype": "text/x-python",
   "name": "python",
   "nbconvert_exporter": "python",
   "pygments_lexer": "ipython3",
   "version": "3.7.1"
  }
 },
 "nbformat": 4,
 "nbformat_minor": 2
}
