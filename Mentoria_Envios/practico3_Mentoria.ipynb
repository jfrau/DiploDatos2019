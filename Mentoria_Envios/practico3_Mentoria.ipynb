{
 "cells": [
  {
   "cell_type": "markdown",
   "metadata": {
    "colab_type": "text",
    "id": "UK2eYuMWUX0P"
   },
   "source": [
    "# Logística de envíos: ¿Cuándo llega?\n",
    "\n",
    "## Mentoría DiploDatos 2019 \n",
    "\n",
    "### Integrantes:\n",
    "\n",
    "- Chaves, Noelia\n",
    "- Frau, Johanna\n",
    "\n",
    "### Mentora:\n",
    "\n",
    "- Dal Lago, Virginia\n",
    "\n",
    "### Práctico: Introducción al aprendizaje automático"
   ]
  },
  {
   "cell_type": "markdown",
   "metadata": {
    "colab_type": "text",
    "id": "DQguL3wiUX0R"
   },
   "source": [
    "## Motivación\n",
    "\n",
    "En la actualidad, cada vez más productos se comercializan a través de una plataforma online. Una de las principales ventajas de este sistema es que el usuario puede recibir el producto en su domicilio en una fecha determinada. Pero, ¿cómo sabemos qué día va a llegar? ¿A partir de qué datos podemos predecir la demora del envío? En este práctico se trabajará con datos de envíos de MercadoLibre, el e-commerce más grande de Latinoamérica, analizando y modelando el problema de logística de envíos para poder responder ¿cuándo llega?\n",
    "\n",
    "## Descripción del dataset\n",
    "\n",
    "**Datos:**  El conjunto de datos seleccionado para realizar el práctico corresponde a un muestreo aleatorio no uniforme de 500.000 envíos de MercadoLibre. Estos envíos fueron realizados en Brasil en el período comprendido entre Octubre de 2018 y Abril de 2019 (las fechas originales han sido modificadas y adaptadas a un período de tiempo diferente, conservando el día de la semana y considerando los feriados correspondientes). Mientras que las fechas han sido modificadas, los horarios registrados en el dataset son los originales. Los datos comprenden variables tanto categóricas como numéricas. \n",
    "\n",
    "El dataset cuenta con las siguientes columnas:\n",
    "\n",
    "- **Sender_state:** Estado de Brasil de donde sale el envío.\n",
    "- **Sender_zipcode:** Código postal (de 5 dígitos) de donde sale el envío.\n",
    "- **Receiver_state:** Estado de Brasil a donde llega el envío.\n",
    "- **Receiver_zipcode:** Código postal (de 5 dígitos) a donde llega el envío.\n",
    "- **Shipment_type:** Método de envío (normal, express, super).\n",
    "- **Quantity:** Cantidad de productos en un envío.\n",
    "- **Service:** Servicio del correo con el cual se realizó un envío.\n",
    "- **Status:** Estado del envío (set: listo para ser enviado, sent: enviado, done: entregado, failed: no entregado, cancelled: cancelado).\n",
    "- **Date_created:** Fecha de creación del envío.\n",
    "- **Date_sent:** Fecha y hora en que se realizó el envío (salió del correo).\n",
    "- **Date_visit:** Fecha y hora en que se entregó el envío al destinatario.\n",
    "- **Shipment_days:** Días hábiles entre que el envío fue enviado (salió del correo) y que fue entregado.\n",
    "\n",
    "\n"
   ]
  },
  {
   "cell_type": "markdown",
   "metadata": {
    "colab_type": "text",
    "id": "6C71choGUX0S"
   },
   "source": [
    "## Objetivos generales\n",
    "\n",
    "  * Realizar de manera completa el proceso de desarrollo de un modelo de aprendizaje automático para determinar cuándo llega un envío.\n",
    "  * Desarrollar el conocimiento práctico sobre dicho proceso, desde la definición de los datasets, la elección y análisis del modelo y las métricas propias para la problemática.\n",
    "  * Desarrollar habilidades de comunicación de la información obtenida a partir de los datos de manera clara y sencilla."
   ]
  },
  {
   "cell_type": "markdown",
   "metadata": {
    "colab_type": "text",
    "id": "IiRvgazNUX0T"
   },
   "source": [
    "## Objetivos específicos\n",
    "\n",
    "* Probar diferentes modelos de aprendizaje automático ver cual se comporta mejor con nuestro dataset.\n",
    "* Hacer una partición de los datos que tenga sentido en nuestra problemática.\n",
    "* Seguir analizando cuáles features resultan más importantes en la predicción a realizar."
   ]
  },
  {
   "cell_type": "markdown",
   "metadata": {
    "colab_type": "text",
    "id": "fr-c3rSLUX0U"
   },
   "source": [
    "## Desarrollo del trabajo"
   ]
  },
  {
   "cell_type": "code",
   "execution_count": 0,
   "metadata": {
    "colab": {},
    "colab_type": "code",
    "id": "8PZqZdWOUX0V"
   },
   "outputs": [],
   "source": [
    "import matplotlib.pyplot as plt\n",
    "import numpy as np\n",
    "import pandas\n",
    "import seaborn as sns\n",
    "\n",
    "\n",
    "from datetime import timedelta\n",
    "from IPython.display import HTML\n",
    "from matplotlib.colors import ListedColormap\n",
    "from scipy import stats\n",
    "from sklearn import preprocessing\n",
    "from sklearn import tree\n",
    "from sklearn.linear_model import LinearRegression, SGDClassifier, LogisticRegression\n",
    "from sklearn.metrics import confusion_matrix, classification_report, accuracy_score, mean_squared_error\n",
    "from sklearn.model_selection import train_test_split, GridSearchCV\n",
    "from sklearn.neighbors import KNeighborsClassifier\n",
    "from sklearn.preprocessing import MinMaxScaler,PolynomialFeatures"
   ]
  },
  {
   "cell_type": "markdown",
   "metadata": {
    "colab_type": "text",
    "id": "Jptu3QGeUX0a"
   },
   "source": [
    "### Lectura y análisis inicial de los datos"
   ]
  },
  {
   "cell_type": "code",
   "execution_count": 0,
   "metadata": {
    "colab": {
     "base_uri": "https://localhost:8080/",
     "height": 34
    },
    "colab_type": "code",
    "id": "S8n6LFm5UX0b",
    "outputId": "bbf26c2d-bd8d-40fa-ba6e-d1efa3abb5d5"
   },
   "outputs": [
    {
     "data": {
      "text/plain": [
       "(500000, 12)"
      ]
     },
     "execution_count": 2,
     "metadata": {
      "tags": []
     },
     "output_type": "execute_result"
    }
   ],
   "source": [
    "url = \"https://raw.githubusercontent.com/cnoeliachaves/csv/master/dataset_sample_corrected.csv\"\n",
    "\n",
    "dataset = pandas.read_csv(url, dtype={'sender_zipcode':'int64',\n",
    "                              'receiver_zipcode':'int64',\n",
    "                              'quantity':'int64',\n",
    "                              'service':'int64'},\n",
    "                       parse_dates=['date_created','date_sent','date_visit'])\n",
    "dataset.shape\n"
   ]
  },
  {
   "cell_type": "code",
   "execution_count": 0,
   "metadata": {
    "colab": {
     "base_uri": "https://localhost:8080/",
     "height": 85
    },
    "colab_type": "code",
    "id": "p6Xgk-azUX0f",
    "outputId": "a6aa5766-7002-4a58-bbd5-0a03523301a1"
   },
   "outputs": [
    {
     "data": {
      "text/plain": [
       "Index(['sender_state', 'sender_zipcode', 'receiver_state', 'receiver_zipcode',\n",
       "       'shipment_type', 'quantity', 'service', 'status', 'date_created',\n",
       "       'date_sent', 'date_visit', 'shipment_days'],\n",
       "      dtype='object')"
      ]
     },
     "execution_count": 3,
     "metadata": {
      "tags": []
     },
     "output_type": "execute_result"
    }
   ],
   "source": [
    "dataset.columns"
   ]
  },
  {
   "cell_type": "code",
   "execution_count": 0,
   "metadata": {
    "colab": {
     "base_uri": "https://localhost:8080/",
     "height": 306
    },
    "colab_type": "code",
    "id": "Q2Swl5SvUX0i",
    "outputId": "f4331dcc-b8cd-4e49-af27-9f1def898a4b"
   },
   "outputs": [
    {
     "name": "stdout",
     "output_type": "stream",
     "text": [
      "<class 'pandas.core.frame.DataFrame'>\n",
      "RangeIndex: 500000 entries, 0 to 499999\n",
      "Data columns (total 12 columns):\n",
      "sender_state        500000 non-null object\n",
      "sender_zipcode      500000 non-null int64\n",
      "receiver_state      500000 non-null object\n",
      "receiver_zipcode    500000 non-null int64\n",
      "shipment_type       500000 non-null object\n",
      "quantity            500000 non-null int64\n",
      "service             500000 non-null int64\n",
      "status              500000 non-null object\n",
      "date_created        500000 non-null datetime64[ns]\n",
      "date_sent           499971 non-null datetime64[ns]\n",
      "date_visit          499398 non-null datetime64[ns]\n",
      "shipment_days       499398 non-null float64\n",
      "dtypes: datetime64[ns](3), float64(1), int64(4), object(4)\n",
      "memory usage: 45.8+ MB\n"
     ]
    }
   ],
   "source": [
    "dataset.info()"
   ]
  },
  {
   "cell_type": "code",
   "execution_count": 0,
   "metadata": {
    "colab": {
     "base_uri": "https://localhost:8080/",
     "height": 719
    },
    "colab_type": "code",
    "id": "1mz8vwJfUX0l",
    "outputId": "b0dd5656-a2f0-4309-bed3-a292b6bfedd3"
   },
   "outputs": [
    {
     "data": {
      "text/html": [
       "<div>\n",
       "<style scoped>\n",
       "    .dataframe tbody tr th:only-of-type {\n",
       "        vertical-align: middle;\n",
       "    }\n",
       "\n",
       "    .dataframe tbody tr th {\n",
       "        vertical-align: top;\n",
       "    }\n",
       "\n",
       "    .dataframe thead th {\n",
       "        text-align: right;\n",
       "    }\n",
       "</style>\n",
       "<table border=\"1\" class=\"dataframe\">\n",
       "  <thead>\n",
       "    <tr style=\"text-align: right;\">\n",
       "      <th></th>\n",
       "      <th>sender_state</th>\n",
       "      <th>sender_zipcode</th>\n",
       "      <th>receiver_state</th>\n",
       "      <th>receiver_zipcode</th>\n",
       "      <th>shipment_type</th>\n",
       "      <th>quantity</th>\n",
       "      <th>service</th>\n",
       "      <th>status</th>\n",
       "      <th>date_created</th>\n",
       "      <th>date_sent</th>\n",
       "      <th>date_visit</th>\n",
       "      <th>shipment_days</th>\n",
       "    </tr>\n",
       "  </thead>\n",
       "  <tbody>\n",
       "    <tr>\n",
       "      <th>459222</th>\n",
       "      <td>SP</td>\n",
       "      <td>4691</td>\n",
       "      <td>PA</td>\n",
       "      <td>68330</td>\n",
       "      <td>standard</td>\n",
       "      <td>1</td>\n",
       "      <td>1</td>\n",
       "      <td>done</td>\n",
       "      <td>2019-02-02</td>\n",
       "      <td>2019-02-05 07:12:00</td>\n",
       "      <td>2019-03-11 16:04:00</td>\n",
       "      <td>21.0</td>\n",
       "    </tr>\n",
       "    <tr>\n",
       "      <th>28619</th>\n",
       "      <td>SP</td>\n",
       "      <td>3017</td>\n",
       "      <td>RS</td>\n",
       "      <td>98130</td>\n",
       "      <td>standard</td>\n",
       "      <td>1</td>\n",
       "      <td>1</td>\n",
       "      <td>done</td>\n",
       "      <td>2019-02-11</td>\n",
       "      <td>2019-02-18 16:17:00</td>\n",
       "      <td>2019-03-14 06:32:00</td>\n",
       "      <td>15.0</td>\n",
       "    </tr>\n",
       "    <tr>\n",
       "      <th>453020</th>\n",
       "      <td>SP</td>\n",
       "      <td>14405</td>\n",
       "      <td>MG</td>\n",
       "      <td>37130</td>\n",
       "      <td>standard</td>\n",
       "      <td>1</td>\n",
       "      <td>2</td>\n",
       "      <td>done</td>\n",
       "      <td>2019-03-05</td>\n",
       "      <td>2019-03-09 04:44:28</td>\n",
       "      <td>2019-03-13 16:07:00</td>\n",
       "      <td>2.0</td>\n",
       "    </tr>\n",
       "    <tr>\n",
       "      <th>16289</th>\n",
       "      <td>SP</td>\n",
       "      <td>4904</td>\n",
       "      <td>SP</td>\n",
       "      <td>15500</td>\n",
       "      <td>express</td>\n",
       "      <td>1</td>\n",
       "      <td>3</td>\n",
       "      <td>done</td>\n",
       "      <td>2019-03-12</td>\n",
       "      <td>2019-03-14 15:09:00</td>\n",
       "      <td>2019-03-20 18:05:00</td>\n",
       "      <td>4.0</td>\n",
       "    </tr>\n",
       "    <tr>\n",
       "      <th>337995</th>\n",
       "      <td>SP</td>\n",
       "      <td>4266</td>\n",
       "      <td>MA</td>\n",
       "      <td>65061</td>\n",
       "      <td>standard</td>\n",
       "      <td>1</td>\n",
       "      <td>4</td>\n",
       "      <td>done</td>\n",
       "      <td>2019-03-13</td>\n",
       "      <td>2019-03-15 01:18:29</td>\n",
       "      <td>2019-03-25 11:17:00</td>\n",
       "      <td>6.0</td>\n",
       "    </tr>\n",
       "    <tr>\n",
       "      <th>232178</th>\n",
       "      <td>SP</td>\n",
       "      <td>13290</td>\n",
       "      <td>SP</td>\n",
       "      <td>6050</td>\n",
       "      <td>super</td>\n",
       "      <td>1</td>\n",
       "      <td>6</td>\n",
       "      <td>done</td>\n",
       "      <td>2019-02-28</td>\n",
       "      <td>2019-03-01 02:25:00</td>\n",
       "      <td>2019-03-07 11:20:37</td>\n",
       "      <td>1.0</td>\n",
       "    </tr>\n",
       "    <tr>\n",
       "      <th>220911</th>\n",
       "      <td>SP</td>\n",
       "      <td>6311</td>\n",
       "      <td>SP</td>\n",
       "      <td>11520</td>\n",
       "      <td>express</td>\n",
       "      <td>1</td>\n",
       "      <td>0</td>\n",
       "      <td>done</td>\n",
       "      <td>2019-03-04</td>\n",
       "      <td>2019-03-06 15:36:00</td>\n",
       "      <td>2019-03-08 18:59:00</td>\n",
       "      <td>1.0</td>\n",
       "    </tr>\n",
       "    <tr>\n",
       "      <th>33028</th>\n",
       "      <td>SP</td>\n",
       "      <td>7803</td>\n",
       "      <td>SP</td>\n",
       "      <td>13503</td>\n",
       "      <td>express</td>\n",
       "      <td>1</td>\n",
       "      <td>0</td>\n",
       "      <td>done</td>\n",
       "      <td>2019-03-08</td>\n",
       "      <td>2019-03-08 17:05:00</td>\n",
       "      <td>2019-03-12 16:01:00</td>\n",
       "      <td>2.0</td>\n",
       "    </tr>\n",
       "    <tr>\n",
       "      <th>35358</th>\n",
       "      <td>SP</td>\n",
       "      <td>1536</td>\n",
       "      <td>PE</td>\n",
       "      <td>56828</td>\n",
       "      <td>standard</td>\n",
       "      <td>1</td>\n",
       "      <td>1</td>\n",
       "      <td>done</td>\n",
       "      <td>2019-03-03</td>\n",
       "      <td>2019-03-05 11:22:46</td>\n",
       "      <td>2019-03-19 13:18:00</td>\n",
       "      <td>8.0</td>\n",
       "    </tr>\n",
       "    <tr>\n",
       "      <th>47950</th>\n",
       "      <td>SP</td>\n",
       "      <td>12322</td>\n",
       "      <td>ES</td>\n",
       "      <td>29680</td>\n",
       "      <td>standard</td>\n",
       "      <td>2</td>\n",
       "      <td>1</td>\n",
       "      <td>done</td>\n",
       "      <td>2019-03-05</td>\n",
       "      <td>2019-03-06 10:34:00</td>\n",
       "      <td>2019-03-18 15:06:00</td>\n",
       "      <td>7.0</td>\n",
       "    </tr>\n",
       "  </tbody>\n",
       "</table>\n",
       "</div>"
      ],
      "text/plain": [
       "       sender_state  sender_zipcode  ...          date_visit  shipment_days\n",
       "459222           SP            4691  ... 2019-03-11 16:04:00           21.0\n",
       "28619            SP            3017  ... 2019-03-14 06:32:00           15.0\n",
       "453020           SP           14405  ... 2019-03-13 16:07:00            2.0\n",
       "16289            SP            4904  ... 2019-03-20 18:05:00            4.0\n",
       "337995           SP            4266  ... 2019-03-25 11:17:00            6.0\n",
       "232178           SP           13290  ... 2019-03-07 11:20:37            1.0\n",
       "220911           SP            6311  ... 2019-03-08 18:59:00            1.0\n",
       "33028            SP            7803  ... 2019-03-12 16:01:00            2.0\n",
       "35358            SP            1536  ... 2019-03-19 13:18:00            8.0\n",
       "47950            SP           12322  ... 2019-03-18 15:06:00            7.0\n",
       "\n",
       "[10 rows x 12 columns]"
      ]
     },
     "execution_count": 5,
     "metadata": {
      "tags": []
     },
     "output_type": "execute_result"
    }
   ],
   "source": [
    "np.random.seed(1234) #con propositos de reproducibilidad\n",
    "dataset.sample(10)"
   ]
  },
  {
   "cell_type": "markdown",
   "metadata": {
    "colab_type": "text",
    "id": "xPCw0z_hUX0p"
   },
   "source": [
    "### Limpieza de datos\n",
    "\n",
    "En esta sección retomaremos algunos puntos del práctico anterior con el objetivo de limpiar nuestro dataset."
   ]
  },
  {
   "cell_type": "markdown",
   "metadata": {
    "colab_type": "text",
    "id": "y_-ydh1qUX0q"
   },
   "source": [
    "#### Shipment day anómalos \n",
    "\n",
    "En primer lugar, eliminaremos los valores de shipment days negativos."
   ]
  },
  {
   "cell_type": "code",
   "execution_count": 0,
   "metadata": {
    "colab": {},
    "colab_type": "code",
    "id": "ftujA2CMUX0r"
   },
   "outputs": [],
   "source": [
    "def clean_shipment_days(dataset):\n",
    "    \"\"\"Le saco los valores negativos\"\"\"\n",
    "    shipments_days = dataset['shipment_days']\n",
    "    mask = (shipments_days >= 0)\n",
    "    return dataset[mask] "
   ]
  },
  {
   "cell_type": "code",
   "execution_count": 0,
   "metadata": {
    "colab": {},
    "colab_type": "code",
    "id": "3b-stq_lUX0v"
   },
   "outputs": [],
   "source": [
    "dataset_clean = clean_shipment_days(dataset)"
   ]
  },
  {
   "cell_type": "markdown",
   "metadata": {
    "colab_type": "text",
    "id": "qI7zHvo0UX04"
   },
   "source": [
    "####Fechas anómalas\n",
    "\n",
    "En el análisis realizado en el práctico anterior de las 3 variables con información de fechas y horas encontramos que la variable date_created cuenta con valores que caen fuera del intervalo temporal considerado y que todos ellos se encuentran ubicados en el mes de Junio de 2019. Luego de haber realizado una inspección de esta información anómala llegamos a la conclusión que los mismos podrían deberse a un error en el proceso de carga y que en realidad son datos de Enero de 2019. \n",
    "\n",
    "Siguiendo esta idea decidimos en este momento subsanar este posible error de carga haciendo que la información de la variable date_created correspondiente al mes de Junio de 2019 sea ahora del mes de Enero de 2019."
   ]
  },
  {
   "cell_type": "code",
   "execution_count": 0,
   "metadata": {
    "colab": {
     "base_uri": "https://localhost:8080/",
     "height": 1000
    },
    "colab_type": "code",
    "id": "kI_G2Ya_UX05",
    "outputId": "20689e1d-264e-4014-b7ad-16831533a2d2"
   },
   "outputs": [
    {
     "data": {
      "text/html": [
       "<div>\n",
       "<style scoped>\n",
       "    .dataframe tbody tr th:only-of-type {\n",
       "        vertical-align: middle;\n",
       "    }\n",
       "\n",
       "    .dataframe tbody tr th {\n",
       "        vertical-align: top;\n",
       "    }\n",
       "\n",
       "    .dataframe thead th {\n",
       "        text-align: right;\n",
       "    }\n",
       "</style>\n",
       "<table border=\"1\" class=\"dataframe\">\n",
       "  <thead>\n",
       "    <tr style=\"text-align: right;\">\n",
       "      <th></th>\n",
       "      <th>sender_state</th>\n",
       "      <th>sender_zipcode</th>\n",
       "      <th>receiver_state</th>\n",
       "      <th>receiver_zipcode</th>\n",
       "      <th>shipment_type</th>\n",
       "      <th>quantity</th>\n",
       "      <th>service</th>\n",
       "      <th>status</th>\n",
       "      <th>date_created</th>\n",
       "      <th>date_sent</th>\n",
       "      <th>date_visit</th>\n",
       "      <th>shipment_days</th>\n",
       "    </tr>\n",
       "  </thead>\n",
       "  <tbody>\n",
       "    <tr>\n",
       "      <th>14265</th>\n",
       "      <td>SP</td>\n",
       "      <td>2350</td>\n",
       "      <td>RJ</td>\n",
       "      <td>20261</td>\n",
       "      <td>express</td>\n",
       "      <td>1</td>\n",
       "      <td>7</td>\n",
       "      <td>done</td>\n",
       "      <td>2019-06-27</td>\n",
       "      <td>2019-02-06 05:57:00</td>\n",
       "      <td>2019-03-01 11:31:00</td>\n",
       "      <td>17.0</td>\n",
       "    </tr>\n",
       "    <tr>\n",
       "      <th>18211</th>\n",
       "      <td>SP</td>\n",
       "      <td>7756</td>\n",
       "      <td>SP</td>\n",
       "      <td>13214</td>\n",
       "      <td>express</td>\n",
       "      <td>1</td>\n",
       "      <td>7</td>\n",
       "      <td>done</td>\n",
       "      <td>2019-06-27</td>\n",
       "      <td>2019-02-06 05:00:00</td>\n",
       "      <td>2019-03-01 09:08:00</td>\n",
       "      <td>17.0</td>\n",
       "    </tr>\n",
       "    <tr>\n",
       "      <th>27700</th>\n",
       "      <td>SP</td>\n",
       "      <td>5034</td>\n",
       "      <td>GO</td>\n",
       "      <td>74565</td>\n",
       "      <td>standard</td>\n",
       "      <td>1</td>\n",
       "      <td>7</td>\n",
       "      <td>done</td>\n",
       "      <td>2019-06-26</td>\n",
       "      <td>2019-02-06 10:56:00</td>\n",
       "      <td>2019-03-01 11:54:00</td>\n",
       "      <td>17.0</td>\n",
       "    </tr>\n",
       "    <tr>\n",
       "      <th>28540</th>\n",
       "      <td>SP</td>\n",
       "      <td>9060</td>\n",
       "      <td>MA</td>\n",
       "      <td>65050</td>\n",
       "      <td>standard</td>\n",
       "      <td>1</td>\n",
       "      <td>4</td>\n",
       "      <td>done</td>\n",
       "      <td>2019-06-20</td>\n",
       "      <td>2019-02-06 10:00:00</td>\n",
       "      <td>2019-03-01 12:02:00</td>\n",
       "      <td>17.0</td>\n",
       "    </tr>\n",
       "    <tr>\n",
       "      <th>33158</th>\n",
       "      <td>SP</td>\n",
       "      <td>16204</td>\n",
       "      <td>MG</td>\n",
       "      <td>31910</td>\n",
       "      <td>standard</td>\n",
       "      <td>2</td>\n",
       "      <td>7</td>\n",
       "      <td>done</td>\n",
       "      <td>2019-06-27</td>\n",
       "      <td>2019-02-06 04:03:00</td>\n",
       "      <td>2019-03-01 16:43:00</td>\n",
       "      <td>17.0</td>\n",
       "    </tr>\n",
       "    <tr>\n",
       "      <th>38127</th>\n",
       "      <td>SP</td>\n",
       "      <td>2460</td>\n",
       "      <td>SP</td>\n",
       "      <td>13335</td>\n",
       "      <td>express</td>\n",
       "      <td>1</td>\n",
       "      <td>7</td>\n",
       "      <td>done</td>\n",
       "      <td>2019-06-26</td>\n",
       "      <td>2019-03-06 01:18:00</td>\n",
       "      <td>2019-03-07 14:03:00</td>\n",
       "      <td>0.0</td>\n",
       "    </tr>\n",
       "    <tr>\n",
       "      <th>42758</th>\n",
       "      <td>SP</td>\n",
       "      <td>1042</td>\n",
       "      <td>SP</td>\n",
       "      <td>11070</td>\n",
       "      <td>express</td>\n",
       "      <td>1</td>\n",
       "      <td>4</td>\n",
       "      <td>done</td>\n",
       "      <td>2019-06-25</td>\n",
       "      <td>2019-02-06 05:01:00</td>\n",
       "      <td>2019-03-01 16:09:00</td>\n",
       "      <td>17.0</td>\n",
       "    </tr>\n",
       "    <tr>\n",
       "      <th>43607</th>\n",
       "      <td>SP</td>\n",
       "      <td>6422</td>\n",
       "      <td>RS</td>\n",
       "      <td>91750</td>\n",
       "      <td>standard</td>\n",
       "      <td>1</td>\n",
       "      <td>7</td>\n",
       "      <td>done</td>\n",
       "      <td>2019-06-19</td>\n",
       "      <td>2019-02-06 04:41:00</td>\n",
       "      <td>2019-03-01 14:30:00</td>\n",
       "      <td>17.0</td>\n",
       "    </tr>\n",
       "    <tr>\n",
       "      <th>45731</th>\n",
       "      <td>SP</td>\n",
       "      <td>14405</td>\n",
       "      <td>ES</td>\n",
       "      <td>29164</td>\n",
       "      <td>standard</td>\n",
       "      <td>1</td>\n",
       "      <td>7</td>\n",
       "      <td>done</td>\n",
       "      <td>2019-06-22</td>\n",
       "      <td>2019-03-06 03:02:00</td>\n",
       "      <td>2019-03-07 04:27:00</td>\n",
       "      <td>0.0</td>\n",
       "    </tr>\n",
       "    <tr>\n",
       "      <th>58502</th>\n",
       "      <td>SP</td>\n",
       "      <td>12950</td>\n",
       "      <td>ES</td>\n",
       "      <td>29800</td>\n",
       "      <td>standard</td>\n",
       "      <td>1</td>\n",
       "      <td>7</td>\n",
       "      <td>done</td>\n",
       "      <td>2019-06-25</td>\n",
       "      <td>2019-02-06 04:42:00</td>\n",
       "      <td>2019-03-01 07:29:00</td>\n",
       "      <td>17.0</td>\n",
       "    </tr>\n",
       "    <tr>\n",
       "      <th>60211</th>\n",
       "      <td>SP</td>\n",
       "      <td>14405</td>\n",
       "      <td>DF</td>\n",
       "      <td>71699</td>\n",
       "      <td>standard</td>\n",
       "      <td>1</td>\n",
       "      <td>7</td>\n",
       "      <td>done</td>\n",
       "      <td>2019-06-20</td>\n",
       "      <td>2019-03-06 05:17:00</td>\n",
       "      <td>2019-03-07 13:17:00</td>\n",
       "      <td>0.0</td>\n",
       "    </tr>\n",
       "    <tr>\n",
       "      <th>66197</th>\n",
       "      <td>SP</td>\n",
       "      <td>3064</td>\n",
       "      <td>SP</td>\n",
       "      <td>12250</td>\n",
       "      <td>standard</td>\n",
       "      <td>1</td>\n",
       "      <td>4</td>\n",
       "      <td>failed</td>\n",
       "      <td>2019-06-22</td>\n",
       "      <td>2019-02-06 15:32:00</td>\n",
       "      <td>2019-03-01 07:00:00</td>\n",
       "      <td>17.0</td>\n",
       "    </tr>\n",
       "    <tr>\n",
       "      <th>66531</th>\n",
       "      <td>SP</td>\n",
       "      <td>2465</td>\n",
       "      <td>GO</td>\n",
       "      <td>74710</td>\n",
       "      <td>standard</td>\n",
       "      <td>1</td>\n",
       "      <td>7</td>\n",
       "      <td>done</td>\n",
       "      <td>2019-06-25</td>\n",
       "      <td>2019-03-06 04:53:00</td>\n",
       "      <td>2019-03-07 06:29:00</td>\n",
       "      <td>0.0</td>\n",
       "    </tr>\n",
       "    <tr>\n",
       "      <th>68194</th>\n",
       "      <td>SP</td>\n",
       "      <td>14405</td>\n",
       "      <td>DF</td>\n",
       "      <td>71699</td>\n",
       "      <td>standard</td>\n",
       "      <td>1</td>\n",
       "      <td>7</td>\n",
       "      <td>done</td>\n",
       "      <td>2019-06-20</td>\n",
       "      <td>2019-03-06 05:17:00</td>\n",
       "      <td>2019-03-07 13:17:00</td>\n",
       "      <td>0.0</td>\n",
       "    </tr>\n",
       "    <tr>\n",
       "      <th>69523</th>\n",
       "      <td>SP</td>\n",
       "      <td>14405</td>\n",
       "      <td>RJ</td>\n",
       "      <td>26553</td>\n",
       "      <td>standard</td>\n",
       "      <td>1</td>\n",
       "      <td>4</td>\n",
       "      <td>failed</td>\n",
       "      <td>2019-06-28</td>\n",
       "      <td>2019-02-06 03:47:00</td>\n",
       "      <td>2019-03-01 13:23:00</td>\n",
       "      <td>17.0</td>\n",
       "    </tr>\n",
       "    <tr>\n",
       "      <th>73186</th>\n",
       "      <td>SP</td>\n",
       "      <td>8773</td>\n",
       "      <td>MG</td>\n",
       "      <td>39510</td>\n",
       "      <td>standard</td>\n",
       "      <td>1</td>\n",
       "      <td>7</td>\n",
       "      <td>done</td>\n",
       "      <td>2019-06-24</td>\n",
       "      <td>2019-01-06 05:20:00</td>\n",
       "      <td>2019-03-01 14:30:00</td>\n",
       "      <td>38.0</td>\n",
       "    </tr>\n",
       "    <tr>\n",
       "      <th>76717</th>\n",
       "      <td>SP</td>\n",
       "      <td>12950</td>\n",
       "      <td>PR</td>\n",
       "      <td>85530</td>\n",
       "      <td>standard</td>\n",
       "      <td>1</td>\n",
       "      <td>7</td>\n",
       "      <td>done</td>\n",
       "      <td>2019-06-25</td>\n",
       "      <td>2019-03-06 11:46:00</td>\n",
       "      <td>2019-03-07 14:55:00</td>\n",
       "      <td>0.0</td>\n",
       "    </tr>\n",
       "    <tr>\n",
       "      <th>77370</th>\n",
       "      <td>SP</td>\n",
       "      <td>2066</td>\n",
       "      <td>SP</td>\n",
       "      <td>7272</td>\n",
       "      <td>express</td>\n",
       "      <td>2</td>\n",
       "      <td>7</td>\n",
       "      <td>done</td>\n",
       "      <td>2019-06-28</td>\n",
       "      <td>2019-02-06 02:55:00</td>\n",
       "      <td>2019-02-28 23:27:00</td>\n",
       "      <td>16.0</td>\n",
       "    </tr>\n",
       "    <tr>\n",
       "      <th>89064</th>\n",
       "      <td>SP</td>\n",
       "      <td>9961</td>\n",
       "      <td>PE</td>\n",
       "      <td>51310</td>\n",
       "      <td>standard</td>\n",
       "      <td>2</td>\n",
       "      <td>4</td>\n",
       "      <td>done</td>\n",
       "      <td>2019-06-17</td>\n",
       "      <td>2019-03-06 13:00:00</td>\n",
       "      <td>2019-03-07 13:22:00</td>\n",
       "      <td>0.0</td>\n",
       "    </tr>\n",
       "    <tr>\n",
       "      <th>89842</th>\n",
       "      <td>SP</td>\n",
       "      <td>6422</td>\n",
       "      <td>CE</td>\n",
       "      <td>60833</td>\n",
       "      <td>standard</td>\n",
       "      <td>1</td>\n",
       "      <td>4</td>\n",
       "      <td>done</td>\n",
       "      <td>2019-06-14</td>\n",
       "      <td>2019-03-06 11:42:00</td>\n",
       "      <td>2019-03-07 11:42:00</td>\n",
       "      <td>0.0</td>\n",
       "    </tr>\n",
       "    <tr>\n",
       "      <th>93661</th>\n",
       "      <td>SP</td>\n",
       "      <td>13920</td>\n",
       "      <td>SC</td>\n",
       "      <td>89251</td>\n",
       "      <td>standard</td>\n",
       "      <td>4</td>\n",
       "      <td>4</td>\n",
       "      <td>failed</td>\n",
       "      <td>2019-06-20</td>\n",
       "      <td>2019-03-06 11:00:00</td>\n",
       "      <td>2019-03-07 11:15:00</td>\n",
       "      <td>0.0</td>\n",
       "    </tr>\n",
       "    <tr>\n",
       "      <th>98843</th>\n",
       "      <td>SP</td>\n",
       "      <td>3064</td>\n",
       "      <td>TO</td>\n",
       "      <td>77018</td>\n",
       "      <td>standard</td>\n",
       "      <td>1</td>\n",
       "      <td>7</td>\n",
       "      <td>done</td>\n",
       "      <td>2019-06-13</td>\n",
       "      <td>2019-03-06 04:50:00</td>\n",
       "      <td>2019-03-07 07:28:00</td>\n",
       "      <td>0.0</td>\n",
       "    </tr>\n",
       "    <tr>\n",
       "      <th>110224</th>\n",
       "      <td>SP</td>\n",
       "      <td>13160</td>\n",
       "      <td>RS</td>\n",
       "      <td>95098</td>\n",
       "      <td>standard</td>\n",
       "      <td>1</td>\n",
       "      <td>7</td>\n",
       "      <td>done</td>\n",
       "      <td>2019-06-24</td>\n",
       "      <td>2019-02-06 05:18:00</td>\n",
       "      <td>2019-03-01 09:53:00</td>\n",
       "      <td>17.0</td>\n",
       "    </tr>\n",
       "    <tr>\n",
       "      <th>115505</th>\n",
       "      <td>SP</td>\n",
       "      <td>1536</td>\n",
       "      <td>SP</td>\n",
       "      <td>11055</td>\n",
       "      <td>express</td>\n",
       "      <td>1</td>\n",
       "      <td>7</td>\n",
       "      <td>done</td>\n",
       "      <td>2019-06-03</td>\n",
       "      <td>2019-02-06 04:51:00</td>\n",
       "      <td>2019-03-01 08:17:00</td>\n",
       "      <td>17.0</td>\n",
       "    </tr>\n",
       "    <tr>\n",
       "      <th>124780</th>\n",
       "      <td>SP</td>\n",
       "      <td>5307</td>\n",
       "      <td>ES</td>\n",
       "      <td>29117</td>\n",
       "      <td>standard</td>\n",
       "      <td>1</td>\n",
       "      <td>7</td>\n",
       "      <td>done</td>\n",
       "      <td>2019-06-26</td>\n",
       "      <td>2019-02-06 04:57:00</td>\n",
       "      <td>2019-03-01 11:20:00</td>\n",
       "      <td>17.0</td>\n",
       "    </tr>\n",
       "    <tr>\n",
       "      <th>128108</th>\n",
       "      <td>SP</td>\n",
       "      <td>3064</td>\n",
       "      <td>MT</td>\n",
       "      <td>78088</td>\n",
       "      <td>standard</td>\n",
       "      <td>1</td>\n",
       "      <td>4</td>\n",
       "      <td>failed</td>\n",
       "      <td>2019-06-15</td>\n",
       "      <td>2019-02-06 06:13:00</td>\n",
       "      <td>2019-03-01 13:44:00</td>\n",
       "      <td>17.0</td>\n",
       "    </tr>\n",
       "    <tr>\n",
       "      <th>132631</th>\n",
       "      <td>SP</td>\n",
       "      <td>16204</td>\n",
       "      <td>RJ</td>\n",
       "      <td>20050</td>\n",
       "      <td>standard</td>\n",
       "      <td>1</td>\n",
       "      <td>7</td>\n",
       "      <td>done</td>\n",
       "      <td>2019-06-27</td>\n",
       "      <td>2019-02-06 06:21:00</td>\n",
       "      <td>2019-03-01 18:01:00</td>\n",
       "      <td>17.0</td>\n",
       "    </tr>\n",
       "    <tr>\n",
       "      <th>136249</th>\n",
       "      <td>SP</td>\n",
       "      <td>12950</td>\n",
       "      <td>PE</td>\n",
       "      <td>51030</td>\n",
       "      <td>standard</td>\n",
       "      <td>1</td>\n",
       "      <td>4</td>\n",
       "      <td>failed</td>\n",
       "      <td>2019-06-19</td>\n",
       "      <td>2019-02-06 09:48:00</td>\n",
       "      <td>2019-03-01 02:41:00</td>\n",
       "      <td>17.0</td>\n",
       "    </tr>\n",
       "    <tr>\n",
       "      <th>150091</th>\n",
       "      <td>SP</td>\n",
       "      <td>2064</td>\n",
       "      <td>RJ</td>\n",
       "      <td>20260</td>\n",
       "      <td>standard</td>\n",
       "      <td>1</td>\n",
       "      <td>7</td>\n",
       "      <td>done</td>\n",
       "      <td>2019-06-27</td>\n",
       "      <td>2019-02-06 05:57:00</td>\n",
       "      <td>2019-03-01 11:32:00</td>\n",
       "      <td>17.0</td>\n",
       "    </tr>\n",
       "    <tr>\n",
       "      <th>152487</th>\n",
       "      <td>SP</td>\n",
       "      <td>7411</td>\n",
       "      <td>RJ</td>\n",
       "      <td>22783</td>\n",
       "      <td>standard</td>\n",
       "      <td>1</td>\n",
       "      <td>7</td>\n",
       "      <td>done</td>\n",
       "      <td>2019-06-27</td>\n",
       "      <td>2019-02-06 05:59:00</td>\n",
       "      <td>2019-03-01 10:45:00</td>\n",
       "      <td>17.0</td>\n",
       "    </tr>\n",
       "    <tr>\n",
       "      <th>...</th>\n",
       "      <td>...</td>\n",
       "      <td>...</td>\n",
       "      <td>...</td>\n",
       "      <td>...</td>\n",
       "      <td>...</td>\n",
       "      <td>...</td>\n",
       "      <td>...</td>\n",
       "      <td>...</td>\n",
       "      <td>...</td>\n",
       "      <td>...</td>\n",
       "      <td>...</td>\n",
       "      <td>...</td>\n",
       "    </tr>\n",
       "    <tr>\n",
       "      <th>349507</th>\n",
       "      <td>SP</td>\n",
       "      <td>9780</td>\n",
       "      <td>RJ</td>\n",
       "      <td>21710</td>\n",
       "      <td>standard</td>\n",
       "      <td>1</td>\n",
       "      <td>7</td>\n",
       "      <td>done</td>\n",
       "      <td>2019-06-17</td>\n",
       "      <td>2019-02-06 03:52:00</td>\n",
       "      <td>2019-03-01 14:05:00</td>\n",
       "      <td>17.0</td>\n",
       "    </tr>\n",
       "    <tr>\n",
       "      <th>352388</th>\n",
       "      <td>SP</td>\n",
       "      <td>1224</td>\n",
       "      <td>SP</td>\n",
       "      <td>14940</td>\n",
       "      <td>standard</td>\n",
       "      <td>1</td>\n",
       "      <td>4</td>\n",
       "      <td>done</td>\n",
       "      <td>2019-06-25</td>\n",
       "      <td>2019-02-06 11:59:00</td>\n",
       "      <td>2019-03-01 11:02:00</td>\n",
       "      <td>17.0</td>\n",
       "    </tr>\n",
       "    <tr>\n",
       "      <th>353172</th>\n",
       "      <td>SP</td>\n",
       "      <td>7411</td>\n",
       "      <td>SP</td>\n",
       "      <td>12323</td>\n",
       "      <td>express</td>\n",
       "      <td>1</td>\n",
       "      <td>7</td>\n",
       "      <td>failed</td>\n",
       "      <td>2019-06-03</td>\n",
       "      <td>2019-03-06 08:22:00</td>\n",
       "      <td>2019-03-07 08:22:00</td>\n",
       "      <td>0.0</td>\n",
       "    </tr>\n",
       "    <tr>\n",
       "      <th>357102</th>\n",
       "      <td>SP</td>\n",
       "      <td>15820</td>\n",
       "      <td>MS</td>\n",
       "      <td>79011</td>\n",
       "      <td>express</td>\n",
       "      <td>2</td>\n",
       "      <td>7</td>\n",
       "      <td>done</td>\n",
       "      <td>2019-06-18</td>\n",
       "      <td>2019-02-06 11:34:00</td>\n",
       "      <td>2019-03-01 13:28:00</td>\n",
       "      <td>17.0</td>\n",
       "    </tr>\n",
       "    <tr>\n",
       "      <th>357509</th>\n",
       "      <td>SP</td>\n",
       "      <td>9290</td>\n",
       "      <td>RS</td>\n",
       "      <td>95150</td>\n",
       "      <td>standard</td>\n",
       "      <td>1</td>\n",
       "      <td>7</td>\n",
       "      <td>done</td>\n",
       "      <td>2019-06-24</td>\n",
       "      <td>2019-02-06 04:39:00</td>\n",
       "      <td>2019-03-01 10:04:00</td>\n",
       "      <td>17.0</td>\n",
       "    </tr>\n",
       "    <tr>\n",
       "      <th>358087</th>\n",
       "      <td>SP</td>\n",
       "      <td>2950</td>\n",
       "      <td>RJ</td>\n",
       "      <td>28025</td>\n",
       "      <td>standard</td>\n",
       "      <td>1</td>\n",
       "      <td>7</td>\n",
       "      <td>done</td>\n",
       "      <td>2019-06-23</td>\n",
       "      <td>2019-01-06 05:00:00</td>\n",
       "      <td>2019-03-01 10:00:00</td>\n",
       "      <td>38.0</td>\n",
       "    </tr>\n",
       "    <tr>\n",
       "      <th>366896</th>\n",
       "      <td>SP</td>\n",
       "      <td>17512</td>\n",
       "      <td>GO</td>\n",
       "      <td>74015</td>\n",
       "      <td>standard</td>\n",
       "      <td>1</td>\n",
       "      <td>7</td>\n",
       "      <td>done</td>\n",
       "      <td>2019-06-25</td>\n",
       "      <td>2019-02-06 12:20:00</td>\n",
       "      <td>2019-03-01 06:40:00</td>\n",
       "      <td>17.0</td>\n",
       "    </tr>\n",
       "    <tr>\n",
       "      <th>402015</th>\n",
       "      <td>SP</td>\n",
       "      <td>9360</td>\n",
       "      <td>RJ</td>\n",
       "      <td>22411</td>\n",
       "      <td>express</td>\n",
       "      <td>1</td>\n",
       "      <td>7</td>\n",
       "      <td>done</td>\n",
       "      <td>2019-06-27</td>\n",
       "      <td>2019-02-06 06:24:00</td>\n",
       "      <td>2019-03-01 16:04:00</td>\n",
       "      <td>17.0</td>\n",
       "    </tr>\n",
       "    <tr>\n",
       "      <th>403246</th>\n",
       "      <td>SP</td>\n",
       "      <td>4186</td>\n",
       "      <td>RJ</td>\n",
       "      <td>22630</td>\n",
       "      <td>standard</td>\n",
       "      <td>1</td>\n",
       "      <td>7</td>\n",
       "      <td>done</td>\n",
       "      <td>2019-06-28</td>\n",
       "      <td>2019-02-06 03:44:00</td>\n",
       "      <td>2019-03-01 08:15:00</td>\n",
       "      <td>17.0</td>\n",
       "    </tr>\n",
       "    <tr>\n",
       "      <th>403511</th>\n",
       "      <td>SP</td>\n",
       "      <td>9060</td>\n",
       "      <td>MA</td>\n",
       "      <td>65050</td>\n",
       "      <td>standard</td>\n",
       "      <td>1</td>\n",
       "      <td>4</td>\n",
       "      <td>done</td>\n",
       "      <td>2019-06-20</td>\n",
       "      <td>2019-02-06 10:00:00</td>\n",
       "      <td>2019-03-01 12:02:00</td>\n",
       "      <td>17.0</td>\n",
       "    </tr>\n",
       "    <tr>\n",
       "      <th>406223</th>\n",
       "      <td>SP</td>\n",
       "      <td>13466</td>\n",
       "      <td>CE</td>\n",
       "      <td>60311</td>\n",
       "      <td>standard</td>\n",
       "      <td>1</td>\n",
       "      <td>7</td>\n",
       "      <td>done</td>\n",
       "      <td>2019-06-18</td>\n",
       "      <td>2019-03-06 10:07:00</td>\n",
       "      <td>2019-03-07 10:10:00</td>\n",
       "      <td>0.0</td>\n",
       "    </tr>\n",
       "    <tr>\n",
       "      <th>408164</th>\n",
       "      <td>SP</td>\n",
       "      <td>16204</td>\n",
       "      <td>MG</td>\n",
       "      <td>38413</td>\n",
       "      <td>standard</td>\n",
       "      <td>1</td>\n",
       "      <td>7</td>\n",
       "      <td>done</td>\n",
       "      <td>2019-06-27</td>\n",
       "      <td>2019-02-06 03:57:00</td>\n",
       "      <td>2019-03-01 04:47:00</td>\n",
       "      <td>17.0</td>\n",
       "    </tr>\n",
       "    <tr>\n",
       "      <th>415973</th>\n",
       "      <td>SP</td>\n",
       "      <td>2950</td>\n",
       "      <td>RS</td>\n",
       "      <td>96835</td>\n",
       "      <td>standard</td>\n",
       "      <td>1</td>\n",
       "      <td>7</td>\n",
       "      <td>done</td>\n",
       "      <td>2019-06-10</td>\n",
       "      <td>2019-03-06 03:56:00</td>\n",
       "      <td>2019-03-07 04:02:00</td>\n",
       "      <td>0.0</td>\n",
       "    </tr>\n",
       "    <tr>\n",
       "      <th>417039</th>\n",
       "      <td>SP</td>\n",
       "      <td>9195</td>\n",
       "      <td>SP</td>\n",
       "      <td>14020</td>\n",
       "      <td>express</td>\n",
       "      <td>1</td>\n",
       "      <td>7</td>\n",
       "      <td>done</td>\n",
       "      <td>2019-06-26</td>\n",
       "      <td>2019-02-06 02:15:00</td>\n",
       "      <td>2019-03-01 11:12:00</td>\n",
       "      <td>17.0</td>\n",
       "    </tr>\n",
       "    <tr>\n",
       "      <th>420117</th>\n",
       "      <td>SP</td>\n",
       "      <td>16204</td>\n",
       "      <td>RJ</td>\n",
       "      <td>20050</td>\n",
       "      <td>standard</td>\n",
       "      <td>1</td>\n",
       "      <td>7</td>\n",
       "      <td>done</td>\n",
       "      <td>2019-06-27</td>\n",
       "      <td>2019-02-06 06:21:00</td>\n",
       "      <td>2019-03-01 18:01:00</td>\n",
       "      <td>17.0</td>\n",
       "    </tr>\n",
       "    <tr>\n",
       "      <th>420767</th>\n",
       "      <td>SP</td>\n",
       "      <td>3165</td>\n",
       "      <td>RS</td>\n",
       "      <td>90040</td>\n",
       "      <td>standard</td>\n",
       "      <td>2</td>\n",
       "      <td>7</td>\n",
       "      <td>done</td>\n",
       "      <td>2019-06-27</td>\n",
       "      <td>2019-02-06 14:36:00</td>\n",
       "      <td>2019-03-01 12:25:00</td>\n",
       "      <td>17.0</td>\n",
       "    </tr>\n",
       "    <tr>\n",
       "      <th>434496</th>\n",
       "      <td>SP</td>\n",
       "      <td>14405</td>\n",
       "      <td>MS</td>\n",
       "      <td>79010</td>\n",
       "      <td>standard</td>\n",
       "      <td>1</td>\n",
       "      <td>7</td>\n",
       "      <td>done</td>\n",
       "      <td>2019-06-17</td>\n",
       "      <td>2019-02-06 12:22:00</td>\n",
       "      <td>2019-03-01 13:28:00</td>\n",
       "      <td>17.0</td>\n",
       "    </tr>\n",
       "    <tr>\n",
       "      <th>444764</th>\n",
       "      <td>SP</td>\n",
       "      <td>2950</td>\n",
       "      <td>ES</td>\n",
       "      <td>29118</td>\n",
       "      <td>standard</td>\n",
       "      <td>1</td>\n",
       "      <td>7</td>\n",
       "      <td>done</td>\n",
       "      <td>2019-06-27</td>\n",
       "      <td>2019-02-06 05:03:00</td>\n",
       "      <td>2019-03-01 07:57:00</td>\n",
       "      <td>17.0</td>\n",
       "    </tr>\n",
       "    <tr>\n",
       "      <th>448671</th>\n",
       "      <td>SP</td>\n",
       "      <td>2180</td>\n",
       "      <td>RJ</td>\n",
       "      <td>22040</td>\n",
       "      <td>standard</td>\n",
       "      <td>2</td>\n",
       "      <td>7</td>\n",
       "      <td>done</td>\n",
       "      <td>2019-06-28</td>\n",
       "      <td>2019-01-06 19:46:00</td>\n",
       "      <td>2019-03-01 11:19:00</td>\n",
       "      <td>38.0</td>\n",
       "    </tr>\n",
       "    <tr>\n",
       "      <th>449028</th>\n",
       "      <td>SP</td>\n",
       "      <td>9861</td>\n",
       "      <td>RJ</td>\n",
       "      <td>24240</td>\n",
       "      <td>standard</td>\n",
       "      <td>1</td>\n",
       "      <td>7</td>\n",
       "      <td>done</td>\n",
       "      <td>2019-06-25</td>\n",
       "      <td>2019-02-06 06:03:00</td>\n",
       "      <td>2019-03-01 10:52:00</td>\n",
       "      <td>17.0</td>\n",
       "    </tr>\n",
       "    <tr>\n",
       "      <th>457368</th>\n",
       "      <td>SP</td>\n",
       "      <td>14095</td>\n",
       "      <td>GO</td>\n",
       "      <td>74150</td>\n",
       "      <td>standard</td>\n",
       "      <td>2</td>\n",
       "      <td>7</td>\n",
       "      <td>done</td>\n",
       "      <td>2019-06-24</td>\n",
       "      <td>2019-02-06 13:50:00</td>\n",
       "      <td>2019-03-01 10:49:00</td>\n",
       "      <td>17.0</td>\n",
       "    </tr>\n",
       "    <tr>\n",
       "      <th>461564</th>\n",
       "      <td>SP</td>\n",
       "      <td>3989</td>\n",
       "      <td>ES</td>\n",
       "      <td>29100</td>\n",
       "      <td>express</td>\n",
       "      <td>1</td>\n",
       "      <td>4</td>\n",
       "      <td>done</td>\n",
       "      <td>2019-06-27</td>\n",
       "      <td>2019-02-06 04:07:00</td>\n",
       "      <td>2019-03-01 07:11:00</td>\n",
       "      <td>17.0</td>\n",
       "    </tr>\n",
       "    <tr>\n",
       "      <th>463948</th>\n",
       "      <td>SP</td>\n",
       "      <td>3375</td>\n",
       "      <td>ES</td>\n",
       "      <td>29160</td>\n",
       "      <td>standard</td>\n",
       "      <td>2</td>\n",
       "      <td>7</td>\n",
       "      <td>done</td>\n",
       "      <td>2019-06-26</td>\n",
       "      <td>2019-03-06 03:02:00</td>\n",
       "      <td>2019-03-07 06:26:00</td>\n",
       "      <td>0.0</td>\n",
       "    </tr>\n",
       "    <tr>\n",
       "      <th>465242</th>\n",
       "      <td>SP</td>\n",
       "      <td>2950</td>\n",
       "      <td>SC</td>\n",
       "      <td>88107</td>\n",
       "      <td>standard</td>\n",
       "      <td>4</td>\n",
       "      <td>7</td>\n",
       "      <td>done</td>\n",
       "      <td>2019-06-22</td>\n",
       "      <td>2019-03-06 03:06:00</td>\n",
       "      <td>2019-03-07 10:13:00</td>\n",
       "      <td>0.0</td>\n",
       "    </tr>\n",
       "    <tr>\n",
       "      <th>469600</th>\n",
       "      <td>SP</td>\n",
       "      <td>9260</td>\n",
       "      <td>DF</td>\n",
       "      <td>71900</td>\n",
       "      <td>express</td>\n",
       "      <td>1</td>\n",
       "      <td>7</td>\n",
       "      <td>done</td>\n",
       "      <td>2019-06-22</td>\n",
       "      <td>2019-03-06 06:36:00</td>\n",
       "      <td>2019-03-07 14:28:00</td>\n",
       "      <td>0.0</td>\n",
       "    </tr>\n",
       "    <tr>\n",
       "      <th>476406</th>\n",
       "      <td>SP</td>\n",
       "      <td>3106</td>\n",
       "      <td>SP</td>\n",
       "      <td>13212</td>\n",
       "      <td>express</td>\n",
       "      <td>2</td>\n",
       "      <td>7</td>\n",
       "      <td>done</td>\n",
       "      <td>2019-06-27</td>\n",
       "      <td>2019-02-06 05:24:00</td>\n",
       "      <td>2019-03-01 06:40:00</td>\n",
       "      <td>17.0</td>\n",
       "    </tr>\n",
       "    <tr>\n",
       "      <th>477031</th>\n",
       "      <td>SP</td>\n",
       "      <td>3064</td>\n",
       "      <td>TO</td>\n",
       "      <td>77018</td>\n",
       "      <td>standard</td>\n",
       "      <td>1</td>\n",
       "      <td>7</td>\n",
       "      <td>done</td>\n",
       "      <td>2019-06-13</td>\n",
       "      <td>2019-03-06 04:50:00</td>\n",
       "      <td>2019-03-07 07:28:00</td>\n",
       "      <td>0.0</td>\n",
       "    </tr>\n",
       "    <tr>\n",
       "      <th>491472</th>\n",
       "      <td>SP</td>\n",
       "      <td>14405</td>\n",
       "      <td>GO</td>\n",
       "      <td>74565</td>\n",
       "      <td>standard</td>\n",
       "      <td>1</td>\n",
       "      <td>7</td>\n",
       "      <td>done</td>\n",
       "      <td>2019-06-22</td>\n",
       "      <td>2019-02-06 04:21:00</td>\n",
       "      <td>2019-03-01 11:57:00</td>\n",
       "      <td>17.0</td>\n",
       "    </tr>\n",
       "    <tr>\n",
       "      <th>492207</th>\n",
       "      <td>SP</td>\n",
       "      <td>9090</td>\n",
       "      <td>AM</td>\n",
       "      <td>69088</td>\n",
       "      <td>standard</td>\n",
       "      <td>1</td>\n",
       "      <td>10</td>\n",
       "      <td>failed</td>\n",
       "      <td>2019-06-02</td>\n",
       "      <td>2019-03-06 06:48:00</td>\n",
       "      <td>2019-03-07 15:25:00</td>\n",
       "      <td>0.0</td>\n",
       "    </tr>\n",
       "    <tr>\n",
       "      <th>498132</th>\n",
       "      <td>SP</td>\n",
       "      <td>7429</td>\n",
       "      <td>ES</td>\n",
       "      <td>29100</td>\n",
       "      <td>standard</td>\n",
       "      <td>1</td>\n",
       "      <td>7</td>\n",
       "      <td>done</td>\n",
       "      <td>2019-06-28</td>\n",
       "      <td>2019-02-06 05:06:00</td>\n",
       "      <td>2019-03-01 06:05:00</td>\n",
       "      <td>17.0</td>\n",
       "    </tr>\n",
       "  </tbody>\n",
       "</table>\n",
       "<p>98 rows × 12 columns</p>\n",
       "</div>"
      ],
      "text/plain": [
       "       sender_state  sender_zipcode  ...          date_visit  shipment_days\n",
       "14265            SP            2350  ... 2019-03-01 11:31:00           17.0\n",
       "18211            SP            7756  ... 2019-03-01 09:08:00           17.0\n",
       "27700            SP            5034  ... 2019-03-01 11:54:00           17.0\n",
       "28540            SP            9060  ... 2019-03-01 12:02:00           17.0\n",
       "33158            SP           16204  ... 2019-03-01 16:43:00           17.0\n",
       "38127            SP            2460  ... 2019-03-07 14:03:00            0.0\n",
       "42758            SP            1042  ... 2019-03-01 16:09:00           17.0\n",
       "43607            SP            6422  ... 2019-03-01 14:30:00           17.0\n",
       "45731            SP           14405  ... 2019-03-07 04:27:00            0.0\n",
       "58502            SP           12950  ... 2019-03-01 07:29:00           17.0\n",
       "60211            SP           14405  ... 2019-03-07 13:17:00            0.0\n",
       "66197            SP            3064  ... 2019-03-01 07:00:00           17.0\n",
       "66531            SP            2465  ... 2019-03-07 06:29:00            0.0\n",
       "68194            SP           14405  ... 2019-03-07 13:17:00            0.0\n",
       "69523            SP           14405  ... 2019-03-01 13:23:00           17.0\n",
       "73186            SP            8773  ... 2019-03-01 14:30:00           38.0\n",
       "76717            SP           12950  ... 2019-03-07 14:55:00            0.0\n",
       "77370            SP            2066  ... 2019-02-28 23:27:00           16.0\n",
       "89064            SP            9961  ... 2019-03-07 13:22:00            0.0\n",
       "89842            SP            6422  ... 2019-03-07 11:42:00            0.0\n",
       "93661            SP           13920  ... 2019-03-07 11:15:00            0.0\n",
       "98843            SP            3064  ... 2019-03-07 07:28:00            0.0\n",
       "110224           SP           13160  ... 2019-03-01 09:53:00           17.0\n",
       "115505           SP            1536  ... 2019-03-01 08:17:00           17.0\n",
       "124780           SP            5307  ... 2019-03-01 11:20:00           17.0\n",
       "128108           SP            3064  ... 2019-03-01 13:44:00           17.0\n",
       "132631           SP           16204  ... 2019-03-01 18:01:00           17.0\n",
       "136249           SP           12950  ... 2019-03-01 02:41:00           17.0\n",
       "150091           SP            2064  ... 2019-03-01 11:32:00           17.0\n",
       "152487           SP            7411  ... 2019-03-01 10:45:00           17.0\n",
       "...             ...             ...  ...                 ...            ...\n",
       "349507           SP            9780  ... 2019-03-01 14:05:00           17.0\n",
       "352388           SP            1224  ... 2019-03-01 11:02:00           17.0\n",
       "353172           SP            7411  ... 2019-03-07 08:22:00            0.0\n",
       "357102           SP           15820  ... 2019-03-01 13:28:00           17.0\n",
       "357509           SP            9290  ... 2019-03-01 10:04:00           17.0\n",
       "358087           SP            2950  ... 2019-03-01 10:00:00           38.0\n",
       "366896           SP           17512  ... 2019-03-01 06:40:00           17.0\n",
       "402015           SP            9360  ... 2019-03-01 16:04:00           17.0\n",
       "403246           SP            4186  ... 2019-03-01 08:15:00           17.0\n",
       "403511           SP            9060  ... 2019-03-01 12:02:00           17.0\n",
       "406223           SP           13466  ... 2019-03-07 10:10:00            0.0\n",
       "408164           SP           16204  ... 2019-03-01 04:47:00           17.0\n",
       "415973           SP            2950  ... 2019-03-07 04:02:00            0.0\n",
       "417039           SP            9195  ... 2019-03-01 11:12:00           17.0\n",
       "420117           SP           16204  ... 2019-03-01 18:01:00           17.0\n",
       "420767           SP            3165  ... 2019-03-01 12:25:00           17.0\n",
       "434496           SP           14405  ... 2019-03-01 13:28:00           17.0\n",
       "444764           SP            2950  ... 2019-03-01 07:57:00           17.0\n",
       "448671           SP            2180  ... 2019-03-01 11:19:00           38.0\n",
       "449028           SP            9861  ... 2019-03-01 10:52:00           17.0\n",
       "457368           SP           14095  ... 2019-03-01 10:49:00           17.0\n",
       "461564           SP            3989  ... 2019-03-01 07:11:00           17.0\n",
       "463948           SP            3375  ... 2019-03-07 06:26:00            0.0\n",
       "465242           SP            2950  ... 2019-03-07 10:13:00            0.0\n",
       "469600           SP            9260  ... 2019-03-07 14:28:00            0.0\n",
       "476406           SP            3106  ... 2019-03-01 06:40:00           17.0\n",
       "477031           SP            3064  ... 2019-03-07 07:28:00            0.0\n",
       "491472           SP           14405  ... 2019-03-01 11:57:00           17.0\n",
       "492207           SP            9090  ... 2019-03-07 15:25:00            0.0\n",
       "498132           SP            7429  ... 2019-03-01 06:05:00           17.0\n",
       "\n",
       "[98 rows x 12 columns]"
      ]
     },
     "execution_count": 8,
     "metadata": {
      "tags": []
     },
     "output_type": "execute_result"
    }
   ],
   "source": [
    "date_created_junio = dataset_clean[dataset_clean['date_created'].map(lambda x: x.month) == 6]\n",
    "date_created_junio"
   ]
  },
  {
   "cell_type": "code",
   "execution_count": 0,
   "metadata": {
    "colab": {},
    "colab_type": "code",
    "id": "y9tz1biUUX0_"
   },
   "outputs": [],
   "source": [
    "date_created_junio = dataset_clean['date_created'].map(lambda x: \n",
    "                                                       x+timedelta(days=-151) \n",
    "                                                       if x.month==6 else x) \n"
   ]
  },
  {
   "cell_type": "code",
   "execution_count": 0,
   "metadata": {
    "colab": {
     "base_uri": "https://localhost:8080/",
     "height": 139
    },
    "colab_type": "code",
    "id": "ovwt-Tw5TT5e",
    "outputId": "7c66f2c1-a106-4fd1-e6c5-986dc0de17c7"
   },
   "outputs": [
    {
     "name": "stderr",
     "output_type": "stream",
     "text": [
      "/usr/local/lib/python3.6/dist-packages/pandas/core/indexing.py:543: SettingWithCopyWarning: \n",
      "A value is trying to be set on a copy of a slice from a DataFrame.\n",
      "Try using .loc[row_indexer,col_indexer] = value instead\n",
      "\n",
      "See the caveats in the documentation: http://pandas.pydata.org/pandas-docs/stable/indexing.html#indexing-view-versus-copy\n",
      "  self.obj[item] = s\n"
     ]
    }
   ],
   "source": [
    "dataset_clean.loc[:,'date_created'] = date_created_junio"
   ]
  },
  {
   "cell_type": "code",
   "execution_count": 0,
   "metadata": {
    "colab": {
     "base_uri": "https://localhost:8080/",
     "height": 34
    },
    "colab_type": "code",
    "id": "4EdiA6TZUX1C",
    "outputId": "404c7f0e-9fa7-4a19-e87d-3b45b3a75801"
   },
   "outputs": [
    {
     "data": {
      "text/plain": [
       "array([ 3,  2,  1,  6,  4, 12, 10, 11])"
      ]
     },
     "execution_count": 9,
     "metadata": {
      "tags": []
     },
     "output_type": "execute_result"
    }
   ],
   "source": [
    "dataset_clean['date_created'].dt.month.unique()"
   ]
  },
  {
   "cell_type": "code",
   "execution_count": 0,
   "metadata": {
    "colab": {
     "base_uri": "https://localhost:8080/",
     "height": 235
    },
    "colab_type": "code",
    "id": "rq8xu8gYUX1F",
    "outputId": "d726d024-e166-45c0-9d2e-04b5b272a533"
   },
   "outputs": [
    {
     "data": {
      "text/html": [
       "<div>\n",
       "<style scoped>\n",
       "    .dataframe tbody tr th:only-of-type {\n",
       "        vertical-align: middle;\n",
       "    }\n",
       "\n",
       "    .dataframe tbody tr th {\n",
       "        vertical-align: top;\n",
       "    }\n",
       "\n",
       "    .dataframe thead th {\n",
       "        text-align: right;\n",
       "    }\n",
       "</style>\n",
       "<table border=\"1\" class=\"dataframe\">\n",
       "  <thead>\n",
       "    <tr style=\"text-align: right;\">\n",
       "      <th></th>\n",
       "      <th>date_created</th>\n",
       "      <th>date_sent</th>\n",
       "      <th>date_visit</th>\n",
       "    </tr>\n",
       "  </thead>\n",
       "  <tbody>\n",
       "    <tr>\n",
       "      <th>count</th>\n",
       "      <td>499350</td>\n",
       "      <td>499350</td>\n",
       "      <td>499350</td>\n",
       "    </tr>\n",
       "    <tr>\n",
       "      <th>unique</th>\n",
       "      <td>142</td>\n",
       "      <td>81276</td>\n",
       "      <td>55668</td>\n",
       "    </tr>\n",
       "    <tr>\n",
       "      <th>top</th>\n",
       "      <td>2019-03-05 00:00:00</td>\n",
       "      <td>2019-03-11 15:53:00</td>\n",
       "      <td>2019-03-11 22:00:00</td>\n",
       "    </tr>\n",
       "    <tr>\n",
       "      <th>freq</th>\n",
       "      <td>20424</td>\n",
       "      <td>113</td>\n",
       "      <td>621</td>\n",
       "    </tr>\n",
       "    <tr>\n",
       "      <th>first</th>\n",
       "      <td>2018-10-21 00:00:00</td>\n",
       "      <td>2018-10-23 13:57:00</td>\n",
       "      <td>2019-02-25 05:36:00</td>\n",
       "    </tr>\n",
       "    <tr>\n",
       "      <th>last</th>\n",
       "      <td>2019-06-28 00:00:00</td>\n",
       "      <td>2019-03-29 01:46:20</td>\n",
       "      <td>2019-04-02 15:35:00</td>\n",
       "    </tr>\n",
       "  </tbody>\n",
       "</table>\n",
       "</div>"
      ],
      "text/plain": [
       "               date_created            date_sent           date_visit\n",
       "count                499350               499350               499350\n",
       "unique                  142                81276                55668\n",
       "top     2019-03-05 00:00:00  2019-03-11 15:53:00  2019-03-11 22:00:00\n",
       "freq                  20424                  113                  621\n",
       "first   2018-10-21 00:00:00  2018-10-23 13:57:00  2019-02-25 05:36:00\n",
       "last    2019-06-28 00:00:00  2019-03-29 01:46:20  2019-04-02 15:35:00"
      ]
     },
     "execution_count": 10,
     "metadata": {
      "tags": []
     },
     "output_type": "execute_result"
    }
   ],
   "source": [
    "dataset_clean.describe(include='datetime64')"
   ]
  },
  {
   "cell_type": "markdown",
   "metadata": {
    "colab_type": "text",
    "id": "h2IvvXM0-vv0"
   },
   "source": [
    "En el describe de arriba, podemos ver que la última fecha de creación es posterior a la última fecha de data_sent como date_visit, pero consideramos que dichos datos son correctos, ya que no contamos con el completo dataset."
   ]
  },
  {
   "cell_type": "markdown",
   "metadata": {
    "colab_type": "text",
    "id": "QFvILb8gGWto"
   },
   "source": [
    "#### Valores nulos"
   ]
  },
  {
   "cell_type": "markdown",
   "metadata": {
    "colab_type": "text",
    "id": "Qro0D07OECTX"
   },
   "source": [
    "Veamos cuantos valores nulos tenemos"
   ]
  },
  {
   "cell_type": "code",
   "execution_count": 0,
   "metadata": {
    "colab": {
     "base_uri": "https://localhost:8080/",
     "height": 34
    },
    "colab_type": "code",
    "id": "qwWQirqAEMli",
    "outputId": "a682713f-cbe8-483f-f901-eb7ee6db0cb6"
   },
   "outputs": [
    {
     "data": {
      "text/plain": [
       "Series([], dtype: int64)"
      ]
     },
     "execution_count": 13,
     "metadata": {
      "tags": []
     },
     "output_type": "execute_result"
    }
   ],
   "source": [
    "null_values_count = dataset_clean.isnull().sum()\n",
    "null_values_count[null_values_count > 0]"
   ]
  },
  {
   "cell_type": "markdown",
   "metadata": {
    "colab_type": "text",
    "id": "O0_ZS8GKZtIF"
   },
   "source": [
    "Podemos ver que no tenemos valores nulos en el dataset."
   ]
  },
  {
   "cell_type": "markdown",
   "metadata": {
    "colab_type": "text",
    "id": "TQ6fBcMji0KR"
   },
   "source": [
    "#### Limpieza de las fechas anomálas\n",
    "\n",
    "Ahora limpiaremos el dataset sacando todas aquellas fechas que no se siguen en la línea temporal. "
   ]
  },
  {
   "cell_type": "code",
   "execution_count": 0,
   "metadata": {
    "colab": {},
    "colab_type": "code",
    "id": "t7h8hxMgi-es"
   },
   "outputs": [],
   "source": [
    "date_created_before_date_sent = dataset_clean.date_created < dataset_clean.date_sent #Filtramos date_created menores que date_sent\n",
    "\n",
    "date_sent_before_date_visit = dataset_clean.date_sent < dataset_clean.date_visit #Filtramos date_sent menores que date_visit\n",
    "\n",
    "date_created_before_date_visit = dataset_clean.date_created < dataset_clean.date_visit #Filtramos date_created menores que date_visit\n"
   ]
  },
  {
   "cell_type": "code",
   "execution_count": 0,
   "metadata": {
    "colab": {
     "base_uri": "https://localhost:8080/",
     "height": 462
    },
    "colab_type": "code",
    "id": "AThEn-X8i-Qg",
    "outputId": "38f1c006-9f43-4ab4-f9e9-7bf0559eb7b8"
   },
   "outputs": [
    {
     "name": "stderr",
     "output_type": "stream",
     "text": [
      "/usr/local/lib/python3.6/dist-packages/ipykernel_launcher.py:2: UserWarning: Boolean Series key will be reindexed to match DataFrame index.\n",
      "  \n",
      "/usr/local/lib/python3.6/dist-packages/ipykernel_launcher.py:3: UserWarning: Boolean Series key will be reindexed to match DataFrame index.\n",
      "  This is separate from the ipykernel package so we can avoid doing imports until\n"
     ]
    },
    {
     "data": {
      "text/html": [
       "<div>\n",
       "<style scoped>\n",
       "    .dataframe tbody tr th:only-of-type {\n",
       "        vertical-align: middle;\n",
       "    }\n",
       "\n",
       "    .dataframe tbody tr th {\n",
       "        vertical-align: top;\n",
       "    }\n",
       "\n",
       "    .dataframe thead th {\n",
       "        text-align: right;\n",
       "    }\n",
       "</style>\n",
       "<table border=\"1\" class=\"dataframe\">\n",
       "  <thead>\n",
       "    <tr style=\"text-align: right;\">\n",
       "      <th></th>\n",
       "      <th>sender_state</th>\n",
       "      <th>sender_zipcode</th>\n",
       "      <th>receiver_state</th>\n",
       "      <th>receiver_zipcode</th>\n",
       "      <th>shipment_type</th>\n",
       "      <th>quantity</th>\n",
       "      <th>service</th>\n",
       "      <th>status</th>\n",
       "      <th>date_created</th>\n",
       "      <th>date_sent</th>\n",
       "      <th>date_visit</th>\n",
       "      <th>shipment_days</th>\n",
       "    </tr>\n",
       "  </thead>\n",
       "  <tbody>\n",
       "    <tr>\n",
       "      <th>472569</th>\n",
       "      <td>SP</td>\n",
       "      <td>8010</td>\n",
       "      <td>RS</td>\n",
       "      <td>95042</td>\n",
       "      <td>express</td>\n",
       "      <td>3</td>\n",
       "      <td>0</td>\n",
       "      <td>done</td>\n",
       "      <td>2019-03-20</td>\n",
       "      <td>2019-03-21 12:39:00</td>\n",
       "      <td>2019-03-26 08:57:00</td>\n",
       "      <td>3.0</td>\n",
       "    </tr>\n",
       "    <tr>\n",
       "      <th>79108</th>\n",
       "      <td>SP</td>\n",
       "      <td>14070</td>\n",
       "      <td>SP</td>\n",
       "      <td>3309</td>\n",
       "      <td>express</td>\n",
       "      <td>1</td>\n",
       "      <td>0</td>\n",
       "      <td>done</td>\n",
       "      <td>2019-03-01</td>\n",
       "      <td>2019-03-04 14:47:00</td>\n",
       "      <td>2019-03-12 14:53:00</td>\n",
       "      <td>3.0</td>\n",
       "    </tr>\n",
       "    <tr>\n",
       "      <th>364969</th>\n",
       "      <td>SP</td>\n",
       "      <td>7851</td>\n",
       "      <td>PR</td>\n",
       "      <td>83065</td>\n",
       "      <td>standard</td>\n",
       "      <td>2</td>\n",
       "      <td>1</td>\n",
       "      <td>done</td>\n",
       "      <td>2019-03-07</td>\n",
       "      <td>2019-03-08 11:51:00</td>\n",
       "      <td>2019-03-21 16:16:00</td>\n",
       "      <td>9.0</td>\n",
       "    </tr>\n",
       "    <tr>\n",
       "      <th>314375</th>\n",
       "      <td>SP</td>\n",
       "      <td>6422</td>\n",
       "      <td>SP</td>\n",
       "      <td>6541</td>\n",
       "      <td>express</td>\n",
       "      <td>1</td>\n",
       "      <td>0</td>\n",
       "      <td>done</td>\n",
       "      <td>2019-02-18</td>\n",
       "      <td>2019-02-23 12:09:00</td>\n",
       "      <td>2019-03-11 16:00:00</td>\n",
       "      <td>7.0</td>\n",
       "    </tr>\n",
       "    <tr>\n",
       "      <th>352038</th>\n",
       "      <td>SP</td>\n",
       "      <td>13481</td>\n",
       "      <td>MG</td>\n",
       "      <td>35400</td>\n",
       "      <td>standard</td>\n",
       "      <td>1</td>\n",
       "      <td>2</td>\n",
       "      <td>done</td>\n",
       "      <td>2019-03-05</td>\n",
       "      <td>2019-03-07 17:18:11</td>\n",
       "      <td>2019-03-12 14:19:00</td>\n",
       "      <td>3.0</td>\n",
       "    </tr>\n",
       "  </tbody>\n",
       "</table>\n",
       "</div>"
      ],
      "text/plain": [
       "       sender_state  sender_zipcode  ...          date_visit  shipment_days\n",
       "472569           SP            8010  ... 2019-03-26 08:57:00            3.0\n",
       "79108            SP           14070  ... 2019-03-12 14:53:00            3.0\n",
       "364969           SP            7851  ... 2019-03-21 16:16:00            9.0\n",
       "314375           SP            6422  ... 2019-03-11 16:00:00            7.0\n",
       "352038           SP           13481  ... 2019-03-12 14:19:00            3.0\n",
       "\n",
       "[5 rows x 12 columns]"
      ]
     },
     "execution_count": 12,
     "metadata": {
      "tags": []
     },
     "output_type": "execute_result"
    }
   ],
   "source": [
    "dataset_clean = dataset_clean[date_created_before_date_sent].dropna() # solo fechas de creacion antes de la fecha de envio\n",
    "dataset_clean = dataset_clean[date_created_before_date_visit].dropna()# solo fechas de creacion antes de la fecha de visita\n",
    "dataset_clean = dataset_clean[date_sent_before_date_visit].dropna()# solo fechas de envios antes de la fecha de visita\n",
    "dataset_clean.sample(5)"
   ]
  },
  {
   "cell_type": "markdown",
   "metadata": {
    "colab_type": "text",
    "id": "iREKMj2mnqfu"
   },
   "source": [
    "### La importancia de predecir el valor de la variable shipment_days\n",
    "\n",
    "Uno de los objetivos principales del análisis propuesto en esta mentoría es predecir (dar un número aproximado de días hábiles) el tiempo entre que se despacha del correo hasta que el mismo llega a la casa del comprador. \n",
    "\n",
    "Es decir, queremos predecir el feature shipment_days.\n",
    "\n",
    "Por lo tanto este sería el target de un algoritmo de aprendizaje automático. Si bien este feature originalmente es información de tipo numérica en el práctico anterior utilizamos enconding para convertirla en una variable categórica. Así, esto nos da la posibilidad de trabajar con diferentes modelos de aprendizaje automático utilizando el mismo feature como target pero en sus diferentes versiones.\n",
    "\n",
    "Frente a este problema consideramos que el estado de Brasil que recibe el envío (receiver_state) es un feature importante a tener en cuenta (mientras más lejos esté de San Pablo probablemente demore más) y probablemente también el código postal de dicho estado (receiver_zipcode). Por otro lado, el tipo de correo (service) también puede ser una variable importante a tener en cuenta porque la calidad de servicio impactará directamente en los días que tarda en llegar el pedido.\n",
    "\n"
   ]
  },
  {
   "cell_type": "code",
   "execution_count": 0,
   "metadata": {
    "colab": {
     "base_uri": "https://localhost:8080/",
     "height": 394
    },
    "colab_type": "code",
    "id": "qGfPmS5oUX1I",
    "outputId": "cc89b4e8-b003-4aa7-9c8b-279a7c6201fe"
   },
   "outputs": [
    {
     "data": {
      "text/html": [
       "<div>\n",
       "<style scoped>\n",
       "    .dataframe tbody tr th:only-of-type {\n",
       "        vertical-align: middle;\n",
       "    }\n",
       "\n",
       "    .dataframe tbody tr th {\n",
       "        vertical-align: top;\n",
       "    }\n",
       "\n",
       "    .dataframe thead th {\n",
       "        text-align: right;\n",
       "    }\n",
       "</style>\n",
       "<table border=\"1\" class=\"dataframe\">\n",
       "  <thead>\n",
       "    <tr style=\"text-align: right;\">\n",
       "      <th></th>\n",
       "      <th>sender_state</th>\n",
       "      <th>sender_zipcode</th>\n",
       "      <th>receiver_state</th>\n",
       "      <th>receiver_zipcode</th>\n",
       "      <th>shipment_type</th>\n",
       "      <th>quantity</th>\n",
       "      <th>service</th>\n",
       "      <th>status</th>\n",
       "      <th>date_created</th>\n",
       "      <th>date_sent</th>\n",
       "      <th>date_visit</th>\n",
       "      <th>shipment_days</th>\n",
       "    </tr>\n",
       "  </thead>\n",
       "  <tbody>\n",
       "    <tr>\n",
       "      <th>299513</th>\n",
       "      <td>SP</td>\n",
       "      <td>3616</td>\n",
       "      <td>MG</td>\n",
       "      <td>37550</td>\n",
       "      <td>standard</td>\n",
       "      <td>2</td>\n",
       "      <td>3</td>\n",
       "      <td>done</td>\n",
       "      <td>2019-03-13</td>\n",
       "      <td>2019-03-15 05:14:00</td>\n",
       "      <td>2019-03-21 16:41:00</td>\n",
       "      <td>4.0</td>\n",
       "    </tr>\n",
       "    <tr>\n",
       "      <th>390077</th>\n",
       "      <td>SP</td>\n",
       "      <td>14401</td>\n",
       "      <td>RN</td>\n",
       "      <td>59030</td>\n",
       "      <td>standard</td>\n",
       "      <td>2</td>\n",
       "      <td>1</td>\n",
       "      <td>done</td>\n",
       "      <td>2019-03-02</td>\n",
       "      <td>2019-03-04 17:53:00</td>\n",
       "      <td>2019-03-29 15:34:00</td>\n",
       "      <td>16.0</td>\n",
       "    </tr>\n",
       "    <tr>\n",
       "      <th>176395</th>\n",
       "      <td>SP</td>\n",
       "      <td>19026</td>\n",
       "      <td>PA</td>\n",
       "      <td>68180</td>\n",
       "      <td>standard</td>\n",
       "      <td>1</td>\n",
       "      <td>1</td>\n",
       "      <td>done</td>\n",
       "      <td>2019-02-26</td>\n",
       "      <td>2019-02-27 12:30:00</td>\n",
       "      <td>2019-03-28 10:48:00</td>\n",
       "      <td>18.0</td>\n",
       "    </tr>\n",
       "    <tr>\n",
       "      <th>448853</th>\n",
       "      <td>SP</td>\n",
       "      <td>13290</td>\n",
       "      <td>PR</td>\n",
       "      <td>81310</td>\n",
       "      <td>express</td>\n",
       "      <td>1</td>\n",
       "      <td>6</td>\n",
       "      <td>done</td>\n",
       "      <td>2019-03-11</td>\n",
       "      <td>2019-03-11 18:16:27</td>\n",
       "      <td>2019-03-13 10:42:05</td>\n",
       "      <td>2.0</td>\n",
       "    </tr>\n",
       "    <tr>\n",
       "      <th>167618</th>\n",
       "      <td>SP</td>\n",
       "      <td>9111</td>\n",
       "      <td>SP</td>\n",
       "      <td>5345</td>\n",
       "      <td>express</td>\n",
       "      <td>1</td>\n",
       "      <td>0</td>\n",
       "      <td>done</td>\n",
       "      <td>2019-03-12</td>\n",
       "      <td>2019-03-13 10:59:00</td>\n",
       "      <td>2019-03-14 18:59:00</td>\n",
       "      <td>1.0</td>\n",
       "    </tr>\n",
       "  </tbody>\n",
       "</table>\n",
       "</div>"
      ],
      "text/plain": [
       "       sender_state  sender_zipcode  ...          date_visit  shipment_days\n",
       "299513           SP            3616  ... 2019-03-21 16:41:00            4.0\n",
       "390077           SP           14401  ... 2019-03-29 15:34:00           16.0\n",
       "176395           SP           19026  ... 2019-03-28 10:48:00           18.0\n",
       "448853           SP           13290  ... 2019-03-13 10:42:05            2.0\n",
       "167618           SP            9111  ... 2019-03-14 18:59:00            1.0\n",
       "\n",
       "[5 rows x 12 columns]"
      ]
     },
     "execution_count": 13,
     "metadata": {
      "tags": []
     },
     "output_type": "execute_result"
    }
   ],
   "source": [
    "dataset_clean.sample(5)"
   ]
  },
  {
   "cell_type": "code",
   "execution_count": 0,
   "metadata": {
    "colab": {
     "base_uri": "https://localhost:8080/",
     "height": 306
    },
    "colab_type": "code",
    "id": "J6-OY6tJUX1L",
    "outputId": "79aabbbf-4843-428b-da3f-b60903059a42"
   },
   "outputs": [
    {
     "name": "stdout",
     "output_type": "stream",
     "text": [
      "<class 'pandas.core.frame.DataFrame'>\n",
      "Int64Index: 496860 entries, 0 to 499999\n",
      "Data columns (total 12 columns):\n",
      "sender_state        496860 non-null object\n",
      "sender_zipcode      496860 non-null int64\n",
      "receiver_state      496860 non-null object\n",
      "receiver_zipcode    496860 non-null int64\n",
      "shipment_type       496860 non-null object\n",
      "quantity            496860 non-null int64\n",
      "service             496860 non-null int64\n",
      "status              496860 non-null object\n",
      "date_created        496860 non-null datetime64[ns]\n",
      "date_sent           496860 non-null datetime64[ns]\n",
      "date_visit          496860 non-null datetime64[ns]\n",
      "shipment_days       496860 non-null float64\n",
      "dtypes: datetime64[ns](3), float64(1), int64(4), object(4)\n",
      "memory usage: 49.3+ MB\n"
     ]
    }
   ],
   "source": [
    "dataset_clean.info()"
   ]
  },
  {
   "cell_type": "markdown",
   "metadata": {
    "colab_type": "text",
    "id": "FJK7MY6OnycP"
   },
   "source": [
    "Luego de haber limpiado nuestro dataset observamos que contamos con 496954 filas con información, es decir la limpieza solo afectó aproximadamente al 1% de los datos originales.\n",
    "\n"
   ]
  },
  {
   "cell_type": "markdown",
   "metadata": {
    "colab_type": "text",
    "id": "xyCvmVFTStFc"
   },
   "source": [
    "### Separación en el conjunto de entrenamiento y evaluación "
   ]
  },
  {
   "cell_type": "markdown",
   "metadata": {
    "colab_type": "text",
    "id": "YMzz1j9wS72o"
   },
   "source": [
    "A continuación analizamos las variables de fechas para poder hacer la separación de los datos. "
   ]
  },
  {
   "cell_type": "code",
   "execution_count": 0,
   "metadata": {
    "colab": {},
    "colab_type": "code",
    "id": "mMRCrIcyJlNb"
   },
   "outputs": [],
   "source": [
    "# creamos una nueva columna donde date_created solo considera las fechas\n",
    "dataset_clean['date_created_only_date'] = dataset_clean['date_created'].dt.date"
   ]
  },
  {
   "cell_type": "code",
   "execution_count": 0,
   "metadata": {
    "colab": {},
    "colab_type": "code",
    "id": "RdeR87weelcS"
   },
   "outputs": [],
   "source": [
    "# creamos una nueva columna donde date_visit solo considera las fechas\n",
    "dataset_clean['date_visit_only_date'] = dataset_clean['date_visit'].dt.date "
   ]
  },
  {
   "cell_type": "code",
   "execution_count": 0,
   "metadata": {
    "colab": {
     "base_uri": "https://localhost:8080/",
     "height": 1000
    },
    "colab_type": "code",
    "id": "Pa9FHXGpelmV",
    "outputId": "a831f4c7-eb76-447e-ca98-17d473f7fe62"
   },
   "outputs": [
    {
     "data": {
      "text/html": [
       "<div>\n",
       "<style scoped>\n",
       "    .dataframe tbody tr th:only-of-type {\n",
       "        vertical-align: middle;\n",
       "    }\n",
       "\n",
       "    .dataframe tbody tr th {\n",
       "        vertical-align: top;\n",
       "    }\n",
       "\n",
       "    .dataframe thead th {\n",
       "        text-align: right;\n",
       "    }\n",
       "</style>\n",
       "<table border=\"1\" class=\"dataframe\">\n",
       "  <thead>\n",
       "    <tr style=\"text-align: right;\">\n",
       "      <th></th>\n",
       "      <th>sender_state</th>\n",
       "      <th>sender_zipcode</th>\n",
       "      <th>receiver_state</th>\n",
       "      <th>receiver_zipcode</th>\n",
       "      <th>shipment_type</th>\n",
       "      <th>quantity</th>\n",
       "      <th>service</th>\n",
       "      <th>status</th>\n",
       "      <th>date_created</th>\n",
       "      <th>date_sent</th>\n",
       "      <th>date_visit</th>\n",
       "      <th>shipment_days</th>\n",
       "      <th>date_created_only_date</th>\n",
       "      <th>date_visit_only_date</th>\n",
       "    </tr>\n",
       "  </thead>\n",
       "  <tbody>\n",
       "    <tr>\n",
       "      <th>220592</th>\n",
       "      <td>SP</td>\n",
       "      <td>7150</td>\n",
       "      <td>BA</td>\n",
       "      <td>47680</td>\n",
       "      <td>standard</td>\n",
       "      <td>1</td>\n",
       "      <td>1</td>\n",
       "      <td>done</td>\n",
       "      <td>2019-02-07</td>\n",
       "      <td>2019-02-08 11:42:00</td>\n",
       "      <td>2019-02-25 15:27:00</td>\n",
       "      <td>11.0</td>\n",
       "      <td>2019-02-07</td>\n",
       "      <td>2019-02-25</td>\n",
       "    </tr>\n",
       "    <tr>\n",
       "      <th>160109</th>\n",
       "      <td>SP</td>\n",
       "      <td>14406</td>\n",
       "      <td>RO</td>\n",
       "      <td>76807</td>\n",
       "      <td>standard</td>\n",
       "      <td>2</td>\n",
       "      <td>1</td>\n",
       "      <td>done</td>\n",
       "      <td>2019-01-31</td>\n",
       "      <td>2019-02-01 09:45:00</td>\n",
       "      <td>2019-02-25 15:07:00</td>\n",
       "      <td>16.0</td>\n",
       "      <td>2019-01-31</td>\n",
       "      <td>2019-02-25</td>\n",
       "    </tr>\n",
       "    <tr>\n",
       "      <th>3882</th>\n",
       "      <td>SP</td>\n",
       "      <td>5822</td>\n",
       "      <td>RS</td>\n",
       "      <td>95700</td>\n",
       "      <td>standard</td>\n",
       "      <td>1</td>\n",
       "      <td>1</td>\n",
       "      <td>done</td>\n",
       "      <td>2019-02-06</td>\n",
       "      <td>2019-02-06 16:52:00</td>\n",
       "      <td>2019-02-25 13:06:00</td>\n",
       "      <td>13.0</td>\n",
       "      <td>2019-02-06</td>\n",
       "      <td>2019-02-25</td>\n",
       "    </tr>\n",
       "    <tr>\n",
       "      <th>23929</th>\n",
       "      <td>SP</td>\n",
       "      <td>8720</td>\n",
       "      <td>GO</td>\n",
       "      <td>75902</td>\n",
       "      <td>standard</td>\n",
       "      <td>2</td>\n",
       "      <td>1</td>\n",
       "      <td>done</td>\n",
       "      <td>2019-01-31</td>\n",
       "      <td>2019-02-01 14:26:00</td>\n",
       "      <td>2019-02-25 12:22:00</td>\n",
       "      <td>16.0</td>\n",
       "      <td>2019-01-31</td>\n",
       "      <td>2019-02-25</td>\n",
       "    </tr>\n",
       "    <tr>\n",
       "      <th>160149</th>\n",
       "      <td>SP</td>\n",
       "      <td>12341</td>\n",
       "      <td>SC</td>\n",
       "      <td>88036</td>\n",
       "      <td>standard</td>\n",
       "      <td>2</td>\n",
       "      <td>1</td>\n",
       "      <td>done</td>\n",
       "      <td>2019-02-04</td>\n",
       "      <td>2019-02-05 15:31:00</td>\n",
       "      <td>2019-02-25 10:26:00</td>\n",
       "      <td>14.0</td>\n",
       "      <td>2019-02-04</td>\n",
       "      <td>2019-02-25</td>\n",
       "    </tr>\n",
       "    <tr>\n",
       "      <th>481277</th>\n",
       "      <td>SP</td>\n",
       "      <td>9720</td>\n",
       "      <td>CE</td>\n",
       "      <td>62785</td>\n",
       "      <td>standard</td>\n",
       "      <td>1</td>\n",
       "      <td>1</td>\n",
       "      <td>done</td>\n",
       "      <td>2019-02-04</td>\n",
       "      <td>2019-02-05 12:25:00</td>\n",
       "      <td>2019-02-25 12:16:00</td>\n",
       "      <td>14.0</td>\n",
       "      <td>2019-02-04</td>\n",
       "      <td>2019-02-25</td>\n",
       "    </tr>\n",
       "    <tr>\n",
       "      <th>337856</th>\n",
       "      <td>SP</td>\n",
       "      <td>4186</td>\n",
       "      <td>PA</td>\n",
       "      <td>68650</td>\n",
       "      <td>standard</td>\n",
       "      <td>1</td>\n",
       "      <td>2</td>\n",
       "      <td>done</td>\n",
       "      <td>2019-02-06</td>\n",
       "      <td>2019-02-09 10:22:00</td>\n",
       "      <td>2019-02-25 09:58:00</td>\n",
       "      <td>10.0</td>\n",
       "      <td>2019-02-06</td>\n",
       "      <td>2019-02-25</td>\n",
       "    </tr>\n",
       "    <tr>\n",
       "      <th>282856</th>\n",
       "      <td>SP</td>\n",
       "      <td>2738</td>\n",
       "      <td>PE</td>\n",
       "      <td>56318</td>\n",
       "      <td>standard</td>\n",
       "      <td>2</td>\n",
       "      <td>1</td>\n",
       "      <td>done</td>\n",
       "      <td>2019-02-03</td>\n",
       "      <td>2019-02-04 15:58:00</td>\n",
       "      <td>2019-02-25 17:04:00</td>\n",
       "      <td>15.0</td>\n",
       "      <td>2019-02-03</td>\n",
       "      <td>2019-02-25</td>\n",
       "    </tr>\n",
       "    <tr>\n",
       "      <th>337871</th>\n",
       "      <td>SP</td>\n",
       "      <td>13010</td>\n",
       "      <td>BA</td>\n",
       "      <td>46446</td>\n",
       "      <td>standard</td>\n",
       "      <td>1</td>\n",
       "      <td>1</td>\n",
       "      <td>done</td>\n",
       "      <td>2019-02-08</td>\n",
       "      <td>2019-02-08 15:14:00</td>\n",
       "      <td>2019-02-25 07:29:00</td>\n",
       "      <td>11.0</td>\n",
       "      <td>2019-02-08</td>\n",
       "      <td>2019-02-25</td>\n",
       "    </tr>\n",
       "    <tr>\n",
       "      <th>208468</th>\n",
       "      <td>SP</td>\n",
       "      <td>8710</td>\n",
       "      <td>MA</td>\n",
       "      <td>65289</td>\n",
       "      <td>standard</td>\n",
       "      <td>1</td>\n",
       "      <td>1</td>\n",
       "      <td>done</td>\n",
       "      <td>2019-02-01</td>\n",
       "      <td>2019-02-06 12:22:00</td>\n",
       "      <td>2019-02-25 16:44:00</td>\n",
       "      <td>13.0</td>\n",
       "      <td>2019-02-01</td>\n",
       "      <td>2019-02-25</td>\n",
       "    </tr>\n",
       "    <tr>\n",
       "      <th>481271</th>\n",
       "      <td>SP</td>\n",
       "      <td>5835</td>\n",
       "      <td>MG</td>\n",
       "      <td>31050</td>\n",
       "      <td>standard</td>\n",
       "      <td>1</td>\n",
       "      <td>1</td>\n",
       "      <td>done</td>\n",
       "      <td>2019-02-08</td>\n",
       "      <td>2019-02-08 14:51:00</td>\n",
       "      <td>2019-02-25 11:18:00</td>\n",
       "      <td>11.0</td>\n",
       "      <td>2019-02-08</td>\n",
       "      <td>2019-02-25</td>\n",
       "    </tr>\n",
       "    <tr>\n",
       "      <th>193293</th>\n",
       "      <td>SP</td>\n",
       "      <td>3282</td>\n",
       "      <td>PR</td>\n",
       "      <td>85670</td>\n",
       "      <td>standard</td>\n",
       "      <td>1</td>\n",
       "      <td>1</td>\n",
       "      <td>done</td>\n",
       "      <td>2019-02-07</td>\n",
       "      <td>2019-02-08 11:44:00</td>\n",
       "      <td>2019-02-25 15:31:00</td>\n",
       "      <td>11.0</td>\n",
       "      <td>2019-02-07</td>\n",
       "      <td>2019-02-25</td>\n",
       "    </tr>\n",
       "    <tr>\n",
       "      <th>105431</th>\n",
       "      <td>SP</td>\n",
       "      <td>3005</td>\n",
       "      <td>BA</td>\n",
       "      <td>41225</td>\n",
       "      <td>standard</td>\n",
       "      <td>1</td>\n",
       "      <td>1</td>\n",
       "      <td>done</td>\n",
       "      <td>2019-02-07</td>\n",
       "      <td>2019-02-07 17:22:00</td>\n",
       "      <td>2019-02-25 12:42:00</td>\n",
       "      <td>12.0</td>\n",
       "      <td>2019-02-07</td>\n",
       "      <td>2019-02-25</td>\n",
       "    </tr>\n",
       "    <tr>\n",
       "      <th>105433</th>\n",
       "      <td>SP</td>\n",
       "      <td>14070</td>\n",
       "      <td>GO</td>\n",
       "      <td>76245</td>\n",
       "      <td>standard</td>\n",
       "      <td>1</td>\n",
       "      <td>1</td>\n",
       "      <td>done</td>\n",
       "      <td>2019-02-05</td>\n",
       "      <td>2019-02-08 13:25:00</td>\n",
       "      <td>2019-02-25 09:42:00</td>\n",
       "      <td>11.0</td>\n",
       "      <td>2019-02-05</td>\n",
       "      <td>2019-02-25</td>\n",
       "    </tr>\n",
       "    <tr>\n",
       "      <th>193302</th>\n",
       "      <td>SP</td>\n",
       "      <td>9990</td>\n",
       "      <td>RS</td>\n",
       "      <td>95780</td>\n",
       "      <td>standard</td>\n",
       "      <td>1</td>\n",
       "      <td>1</td>\n",
       "      <td>done</td>\n",
       "      <td>2019-01-27</td>\n",
       "      <td>2019-01-28 15:43:00</td>\n",
       "      <td>2019-02-25 08:44:00</td>\n",
       "      <td>20.0</td>\n",
       "      <td>2019-01-27</td>\n",
       "      <td>2019-02-25</td>\n",
       "    </tr>\n",
       "    <tr>\n",
       "      <th>9446</th>\n",
       "      <td>SP</td>\n",
       "      <td>2267</td>\n",
       "      <td>BA</td>\n",
       "      <td>40105</td>\n",
       "      <td>standard</td>\n",
       "      <td>1</td>\n",
       "      <td>1</td>\n",
       "      <td>done</td>\n",
       "      <td>2019-02-04</td>\n",
       "      <td>2019-02-08 10:44:00</td>\n",
       "      <td>2019-02-25 13:11:00</td>\n",
       "      <td>11.0</td>\n",
       "      <td>2019-02-04</td>\n",
       "      <td>2019-02-25</td>\n",
       "    </tr>\n",
       "    <tr>\n",
       "      <th>160246</th>\n",
       "      <td>SP</td>\n",
       "      <td>8750</td>\n",
       "      <td>AL</td>\n",
       "      <td>57055</td>\n",
       "      <td>standard</td>\n",
       "      <td>1</td>\n",
       "      <td>1</td>\n",
       "      <td>failed</td>\n",
       "      <td>2019-01-07</td>\n",
       "      <td>2019-01-08 16:08:00</td>\n",
       "      <td>2019-02-25 12:42:00</td>\n",
       "      <td>33.0</td>\n",
       "      <td>2019-01-07</td>\n",
       "      <td>2019-02-25</td>\n",
       "    </tr>\n",
       "    <tr>\n",
       "      <th>349822</th>\n",
       "      <td>SP</td>\n",
       "      <td>1004</td>\n",
       "      <td>RJ</td>\n",
       "      <td>27916</td>\n",
       "      <td>standard</td>\n",
       "      <td>2</td>\n",
       "      <td>1</td>\n",
       "      <td>done</td>\n",
       "      <td>2019-02-02</td>\n",
       "      <td>2019-02-04 13:51:00</td>\n",
       "      <td>2019-02-25 15:44:00</td>\n",
       "      <td>15.0</td>\n",
       "      <td>2019-02-02</td>\n",
       "      <td>2019-02-25</td>\n",
       "    </tr>\n",
       "    <tr>\n",
       "      <th>349859</th>\n",
       "      <td>SP</td>\n",
       "      <td>2738</td>\n",
       "      <td>BA</td>\n",
       "      <td>40715</td>\n",
       "      <td>standard</td>\n",
       "      <td>2</td>\n",
       "      <td>1</td>\n",
       "      <td>done</td>\n",
       "      <td>2019-01-27</td>\n",
       "      <td>2019-01-28 12:11:00</td>\n",
       "      <td>2019-02-25 14:08:00</td>\n",
       "      <td>20.0</td>\n",
       "      <td>2019-01-27</td>\n",
       "      <td>2019-02-25</td>\n",
       "    </tr>\n",
       "    <tr>\n",
       "      <th>433455</th>\n",
       "      <td>SP</td>\n",
       "      <td>13277</td>\n",
       "      <td>RS</td>\n",
       "      <td>97590</td>\n",
       "      <td>standard</td>\n",
       "      <td>1</td>\n",
       "      <td>1</td>\n",
       "      <td>done</td>\n",
       "      <td>2019-01-31</td>\n",
       "      <td>2019-02-04 13:53:00</td>\n",
       "      <td>2019-02-25 15:57:00</td>\n",
       "      <td>15.0</td>\n",
       "      <td>2019-01-31</td>\n",
       "      <td>2019-02-25</td>\n",
       "    </tr>\n",
       "    <tr>\n",
       "      <th>337483</th>\n",
       "      <td>SP</td>\n",
       "      <td>14405</td>\n",
       "      <td>PI</td>\n",
       "      <td>64019</td>\n",
       "      <td>standard</td>\n",
       "      <td>1</td>\n",
       "      <td>2</td>\n",
       "      <td>done</td>\n",
       "      <td>2019-02-04</td>\n",
       "      <td>2019-02-08 07:46:02</td>\n",
       "      <td>2019-02-25 09:29:00</td>\n",
       "      <td>11.0</td>\n",
       "      <td>2019-02-04</td>\n",
       "      <td>2019-02-25</td>\n",
       "    </tr>\n",
       "    <tr>\n",
       "      <th>375558</th>\n",
       "      <td>SP</td>\n",
       "      <td>3401</td>\n",
       "      <td>BA</td>\n",
       "      <td>45078</td>\n",
       "      <td>standard</td>\n",
       "      <td>1</td>\n",
       "      <td>1</td>\n",
       "      <td>done</td>\n",
       "      <td>2019-02-07</td>\n",
       "      <td>2019-02-08 15:36:00</td>\n",
       "      <td>2019-02-25 15:54:00</td>\n",
       "      <td>11.0</td>\n",
       "      <td>2019-02-07</td>\n",
       "      <td>2019-02-25</td>\n",
       "    </tr>\n",
       "    <tr>\n",
       "      <th>53705</th>\n",
       "      <td>SP</td>\n",
       "      <td>19806</td>\n",
       "      <td>RO</td>\n",
       "      <td>76890</td>\n",
       "      <td>standard</td>\n",
       "      <td>1</td>\n",
       "      <td>1</td>\n",
       "      <td>done</td>\n",
       "      <td>2019-01-30</td>\n",
       "      <td>2019-02-04 10:25:00</td>\n",
       "      <td>2019-02-25 11:34:00</td>\n",
       "      <td>15.0</td>\n",
       "      <td>2019-01-30</td>\n",
       "      <td>2019-02-25</td>\n",
       "    </tr>\n",
       "    <tr>\n",
       "      <th>433490</th>\n",
       "      <td>SP</td>\n",
       "      <td>2265</td>\n",
       "      <td>MT</td>\n",
       "      <td>78730</td>\n",
       "      <td>standard</td>\n",
       "      <td>1</td>\n",
       "      <td>2</td>\n",
       "      <td>done</td>\n",
       "      <td>2019-02-06</td>\n",
       "      <td>2019-02-07 22:40:33</td>\n",
       "      <td>2019-02-25 16:20:00</td>\n",
       "      <td>12.0</td>\n",
       "      <td>2019-02-06</td>\n",
       "      <td>2019-02-25</td>\n",
       "    </tr>\n",
       "    <tr>\n",
       "      <th>232167</th>\n",
       "      <td>SP</td>\n",
       "      <td>4915</td>\n",
       "      <td>AM</td>\n",
       "      <td>69097</td>\n",
       "      <td>standard</td>\n",
       "      <td>1</td>\n",
       "      <td>1</td>\n",
       "      <td>done</td>\n",
       "      <td>2019-01-27</td>\n",
       "      <td>2019-01-28 12:04:00</td>\n",
       "      <td>2019-02-25 17:15:00</td>\n",
       "      <td>20.0</td>\n",
       "      <td>2019-01-27</td>\n",
       "      <td>2019-02-25</td>\n",
       "    </tr>\n",
       "    <tr>\n",
       "      <th>9392</th>\n",
       "      <td>SP</td>\n",
       "      <td>12031</td>\n",
       "      <td>PA</td>\n",
       "      <td>68638</td>\n",
       "      <td>standard</td>\n",
       "      <td>1</td>\n",
       "      <td>1</td>\n",
       "      <td>done</td>\n",
       "      <td>2019-02-05</td>\n",
       "      <td>2019-02-07 13:24:00</td>\n",
       "      <td>2019-02-25 17:07:00</td>\n",
       "      <td>12.0</td>\n",
       "      <td>2019-02-05</td>\n",
       "      <td>2019-02-25</td>\n",
       "    </tr>\n",
       "    <tr>\n",
       "      <th>85071</th>\n",
       "      <td>SP</td>\n",
       "      <td>3106</td>\n",
       "      <td>MA</td>\n",
       "      <td>65043</td>\n",
       "      <td>standard</td>\n",
       "      <td>1</td>\n",
       "      <td>2</td>\n",
       "      <td>done</td>\n",
       "      <td>2019-02-05</td>\n",
       "      <td>2019-02-08 00:58:19</td>\n",
       "      <td>2019-02-25 19:11:00</td>\n",
       "      <td>11.0</td>\n",
       "      <td>2019-02-05</td>\n",
       "      <td>2019-02-25</td>\n",
       "    </tr>\n",
       "    <tr>\n",
       "      <th>366195</th>\n",
       "      <td>SP</td>\n",
       "      <td>12307</td>\n",
       "      <td>PR</td>\n",
       "      <td>85635</td>\n",
       "      <td>standard</td>\n",
       "      <td>1</td>\n",
       "      <td>1</td>\n",
       "      <td>done</td>\n",
       "      <td>2019-02-07</td>\n",
       "      <td>2019-02-08 13:50:00</td>\n",
       "      <td>2019-02-25 14:56:00</td>\n",
       "      <td>11.0</td>\n",
       "      <td>2019-02-07</td>\n",
       "      <td>2019-02-25</td>\n",
       "    </tr>\n",
       "    <tr>\n",
       "      <th>462835</th>\n",
       "      <td>SP</td>\n",
       "      <td>14600</td>\n",
       "      <td>RS</td>\n",
       "      <td>91150</td>\n",
       "      <td>standard</td>\n",
       "      <td>1</td>\n",
       "      <td>1</td>\n",
       "      <td>done</td>\n",
       "      <td>2019-02-05</td>\n",
       "      <td>2019-02-06 14:59:00</td>\n",
       "      <td>2019-02-25 11:10:00</td>\n",
       "      <td>13.0</td>\n",
       "      <td>2019-02-05</td>\n",
       "      <td>2019-02-25</td>\n",
       "    </tr>\n",
       "    <tr>\n",
       "      <th>129389</th>\n",
       "      <td>SP</td>\n",
       "      <td>4856</td>\n",
       "      <td>SC</td>\n",
       "      <td>88220</td>\n",
       "      <td>standard</td>\n",
       "      <td>1</td>\n",
       "      <td>1</td>\n",
       "      <td>done</td>\n",
       "      <td>2019-01-29</td>\n",
       "      <td>2019-01-29 14:57:00</td>\n",
       "      <td>2019-02-25 14:20:00</td>\n",
       "      <td>19.0</td>\n",
       "      <td>2019-01-29</td>\n",
       "      <td>2019-02-25</td>\n",
       "    </tr>\n",
       "    <tr>\n",
       "      <th>...</th>\n",
       "      <td>...</td>\n",
       "      <td>...</td>\n",
       "      <td>...</td>\n",
       "      <td>...</td>\n",
       "      <td>...</td>\n",
       "      <td>...</td>\n",
       "      <td>...</td>\n",
       "      <td>...</td>\n",
       "      <td>...</td>\n",
       "      <td>...</td>\n",
       "      <td>...</td>\n",
       "      <td>...</td>\n",
       "      <td>...</td>\n",
       "      <td>...</td>\n",
       "    </tr>\n",
       "    <tr>\n",
       "      <th>345969</th>\n",
       "      <td>SP</td>\n",
       "      <td>2836</td>\n",
       "      <td>RS</td>\n",
       "      <td>91720</td>\n",
       "      <td>standard</td>\n",
       "      <td>5</td>\n",
       "      <td>1</td>\n",
       "      <td>done</td>\n",
       "      <td>2019-02-22</td>\n",
       "      <td>2019-02-25 12:49:00</td>\n",
       "      <td>2019-04-02 12:14:00</td>\n",
       "      <td>23.0</td>\n",
       "      <td>2019-02-22</td>\n",
       "      <td>2019-04-02</td>\n",
       "    </tr>\n",
       "    <tr>\n",
       "      <th>384885</th>\n",
       "      <td>SP</td>\n",
       "      <td>14406</td>\n",
       "      <td>PE</td>\n",
       "      <td>50870</td>\n",
       "      <td>standard</td>\n",
       "      <td>1</td>\n",
       "      <td>1</td>\n",
       "      <td>done</td>\n",
       "      <td>2019-03-01</td>\n",
       "      <td>2019-03-01 10:13:00</td>\n",
       "      <td>2019-04-02 08:37:00</td>\n",
       "      <td>19.0</td>\n",
       "      <td>2019-03-01</td>\n",
       "      <td>2019-04-02</td>\n",
       "    </tr>\n",
       "    <tr>\n",
       "      <th>39526</th>\n",
       "      <td>SP</td>\n",
       "      <td>2121</td>\n",
       "      <td>PE</td>\n",
       "      <td>53220</td>\n",
       "      <td>standard</td>\n",
       "      <td>1</td>\n",
       "      <td>1</td>\n",
       "      <td>done</td>\n",
       "      <td>2019-03-01</td>\n",
       "      <td>2019-03-04 12:29:00</td>\n",
       "      <td>2019-04-02 12:20:00</td>\n",
       "      <td>18.0</td>\n",
       "      <td>2019-03-01</td>\n",
       "      <td>2019-04-02</td>\n",
       "    </tr>\n",
       "    <tr>\n",
       "      <th>50700</th>\n",
       "      <td>SP</td>\n",
       "      <td>8275</td>\n",
       "      <td>PE</td>\n",
       "      <td>52120</td>\n",
       "      <td>standard</td>\n",
       "      <td>1</td>\n",
       "      <td>1</td>\n",
       "      <td>done</td>\n",
       "      <td>2019-02-27</td>\n",
       "      <td>2019-03-04 16:54:00</td>\n",
       "      <td>2019-04-02 10:19:00</td>\n",
       "      <td>18.0</td>\n",
       "      <td>2019-02-27</td>\n",
       "      <td>2019-04-02</td>\n",
       "    </tr>\n",
       "    <tr>\n",
       "      <th>391562</th>\n",
       "      <td>SP</td>\n",
       "      <td>9070</td>\n",
       "      <td>RS</td>\n",
       "      <td>91780</td>\n",
       "      <td>standard</td>\n",
       "      <td>1</td>\n",
       "      <td>1</td>\n",
       "      <td>done</td>\n",
       "      <td>2019-02-28</td>\n",
       "      <td>2019-03-01 11:27:00</td>\n",
       "      <td>2019-04-02 12:52:00</td>\n",
       "      <td>19.0</td>\n",
       "      <td>2019-02-28</td>\n",
       "      <td>2019-04-02</td>\n",
       "    </tr>\n",
       "    <tr>\n",
       "      <th>252116</th>\n",
       "      <td>SP</td>\n",
       "      <td>13920</td>\n",
       "      <td>RS</td>\n",
       "      <td>90830</td>\n",
       "      <td>standard</td>\n",
       "      <td>1</td>\n",
       "      <td>1</td>\n",
       "      <td>done</td>\n",
       "      <td>2019-02-25</td>\n",
       "      <td>2019-02-26 15:03:00</td>\n",
       "      <td>2019-04-02 10:02:00</td>\n",
       "      <td>22.0</td>\n",
       "      <td>2019-02-25</td>\n",
       "      <td>2019-04-02</td>\n",
       "    </tr>\n",
       "    <tr>\n",
       "      <th>467449</th>\n",
       "      <td>SP</td>\n",
       "      <td>3633</td>\n",
       "      <td>PE</td>\n",
       "      <td>52160</td>\n",
       "      <td>standard</td>\n",
       "      <td>1</td>\n",
       "      <td>1</td>\n",
       "      <td>done</td>\n",
       "      <td>2019-02-18</td>\n",
       "      <td>2019-02-20 07:30:00</td>\n",
       "      <td>2019-04-02 09:49:00</td>\n",
       "      <td>26.0</td>\n",
       "      <td>2019-02-18</td>\n",
       "      <td>2019-04-02</td>\n",
       "    </tr>\n",
       "    <tr>\n",
       "      <th>114140</th>\n",
       "      <td>SP</td>\n",
       "      <td>13495</td>\n",
       "      <td>PE</td>\n",
       "      <td>52111</td>\n",
       "      <td>standard</td>\n",
       "      <td>1</td>\n",
       "      <td>1</td>\n",
       "      <td>done</td>\n",
       "      <td>2019-02-23</td>\n",
       "      <td>2019-02-23 10:54:00</td>\n",
       "      <td>2019-04-02 11:26:00</td>\n",
       "      <td>23.0</td>\n",
       "      <td>2019-02-23</td>\n",
       "      <td>2019-04-02</td>\n",
       "    </tr>\n",
       "    <tr>\n",
       "      <th>201549</th>\n",
       "      <td>SP</td>\n",
       "      <td>9760</td>\n",
       "      <td>AL</td>\n",
       "      <td>57055</td>\n",
       "      <td>standard</td>\n",
       "      <td>4</td>\n",
       "      <td>1</td>\n",
       "      <td>done</td>\n",
       "      <td>2019-02-11</td>\n",
       "      <td>2019-02-15 15:37:00</td>\n",
       "      <td>2019-04-02 11:14:00</td>\n",
       "      <td>29.0</td>\n",
       "      <td>2019-02-11</td>\n",
       "      <td>2019-04-02</td>\n",
       "    </tr>\n",
       "    <tr>\n",
       "      <th>95514</th>\n",
       "      <td>SP</td>\n",
       "      <td>14060</td>\n",
       "      <td>RN</td>\n",
       "      <td>59114</td>\n",
       "      <td>standard</td>\n",
       "      <td>1</td>\n",
       "      <td>1</td>\n",
       "      <td>done</td>\n",
       "      <td>2019-03-03</td>\n",
       "      <td>2019-03-04 17:31:00</td>\n",
       "      <td>2019-04-02 11:42:00</td>\n",
       "      <td>18.0</td>\n",
       "      <td>2019-03-03</td>\n",
       "      <td>2019-04-02</td>\n",
       "    </tr>\n",
       "    <tr>\n",
       "      <th>406948</th>\n",
       "      <td>SP</td>\n",
       "      <td>14402</td>\n",
       "      <td>SC</td>\n",
       "      <td>88508</td>\n",
       "      <td>standard</td>\n",
       "      <td>1</td>\n",
       "      <td>1</td>\n",
       "      <td>done</td>\n",
       "      <td>2019-02-18</td>\n",
       "      <td>2019-02-19 13:10:00</td>\n",
       "      <td>2019-04-02 08:08:00</td>\n",
       "      <td>27.0</td>\n",
       "      <td>2019-02-18</td>\n",
       "      <td>2019-04-02</td>\n",
       "    </tr>\n",
       "    <tr>\n",
       "      <th>134581</th>\n",
       "      <td>SP</td>\n",
       "      <td>13184</td>\n",
       "      <td>PE</td>\n",
       "      <td>52130</td>\n",
       "      <td>standard</td>\n",
       "      <td>1</td>\n",
       "      <td>1</td>\n",
       "      <td>done</td>\n",
       "      <td>2019-02-26</td>\n",
       "      <td>2019-02-27 13:21:00</td>\n",
       "      <td>2019-04-02 10:04:00</td>\n",
       "      <td>21.0</td>\n",
       "      <td>2019-02-26</td>\n",
       "      <td>2019-04-02</td>\n",
       "    </tr>\n",
       "    <tr>\n",
       "      <th>269489</th>\n",
       "      <td>SP</td>\n",
       "      <td>2037</td>\n",
       "      <td>RS</td>\n",
       "      <td>90810</td>\n",
       "      <td>standard</td>\n",
       "      <td>1</td>\n",
       "      <td>1</td>\n",
       "      <td>done</td>\n",
       "      <td>2019-02-22</td>\n",
       "      <td>2019-02-25 17:16:00</td>\n",
       "      <td>2019-04-02 11:16:00</td>\n",
       "      <td>23.0</td>\n",
       "      <td>2019-02-22</td>\n",
       "      <td>2019-04-02</td>\n",
       "    </tr>\n",
       "    <tr>\n",
       "      <th>15558</th>\n",
       "      <td>SP</td>\n",
       "      <td>8010</td>\n",
       "      <td>RS</td>\n",
       "      <td>91520</td>\n",
       "      <td>standard</td>\n",
       "      <td>1</td>\n",
       "      <td>1</td>\n",
       "      <td>done</td>\n",
       "      <td>2019-02-19</td>\n",
       "      <td>2019-02-20 17:03:00</td>\n",
       "      <td>2019-04-02 11:38:00</td>\n",
       "      <td>26.0</td>\n",
       "      <td>2019-02-19</td>\n",
       "      <td>2019-04-02</td>\n",
       "    </tr>\n",
       "    <tr>\n",
       "      <th>257742</th>\n",
       "      <td>SP</td>\n",
       "      <td>6463</td>\n",
       "      <td>PE</td>\n",
       "      <td>53525</td>\n",
       "      <td>standard</td>\n",
       "      <td>1</td>\n",
       "      <td>1</td>\n",
       "      <td>done</td>\n",
       "      <td>2019-02-26</td>\n",
       "      <td>2019-02-26 14:22:00</td>\n",
       "      <td>2019-04-02 12:33:00</td>\n",
       "      <td>22.0</td>\n",
       "      <td>2019-02-26</td>\n",
       "      <td>2019-04-02</td>\n",
       "    </tr>\n",
       "    <tr>\n",
       "      <th>26492</th>\n",
       "      <td>SP</td>\n",
       "      <td>4285</td>\n",
       "      <td>AL</td>\n",
       "      <td>57080</td>\n",
       "      <td>standard</td>\n",
       "      <td>1</td>\n",
       "      <td>1</td>\n",
       "      <td>done</td>\n",
       "      <td>2019-02-17</td>\n",
       "      <td>2019-02-18 19:49:00</td>\n",
       "      <td>2019-04-02 11:41:00</td>\n",
       "      <td>28.0</td>\n",
       "      <td>2019-02-17</td>\n",
       "      <td>2019-04-02</td>\n",
       "    </tr>\n",
       "    <tr>\n",
       "      <th>150568</th>\n",
       "      <td>SP</td>\n",
       "      <td>4905</td>\n",
       "      <td>PE</td>\n",
       "      <td>53437</td>\n",
       "      <td>standard</td>\n",
       "      <td>1</td>\n",
       "      <td>1</td>\n",
       "      <td>done</td>\n",
       "      <td>2019-02-28</td>\n",
       "      <td>2019-03-01 13:03:00</td>\n",
       "      <td>2019-04-02 11:40:00</td>\n",
       "      <td>19.0</td>\n",
       "      <td>2019-02-28</td>\n",
       "      <td>2019-04-02</td>\n",
       "    </tr>\n",
       "    <tr>\n",
       "      <th>182995</th>\n",
       "      <td>SP</td>\n",
       "      <td>3643</td>\n",
       "      <td>SC</td>\n",
       "      <td>89120</td>\n",
       "      <td>standard</td>\n",
       "      <td>1</td>\n",
       "      <td>1</td>\n",
       "      <td>done</td>\n",
       "      <td>2019-03-03</td>\n",
       "      <td>2019-03-04 14:07:00</td>\n",
       "      <td>2019-04-02 09:19:00</td>\n",
       "      <td>18.0</td>\n",
       "      <td>2019-03-03</td>\n",
       "      <td>2019-04-02</td>\n",
       "    </tr>\n",
       "    <tr>\n",
       "      <th>26128</th>\n",
       "      <td>SP</td>\n",
       "      <td>17032</td>\n",
       "      <td>RS</td>\n",
       "      <td>91740</td>\n",
       "      <td>standard</td>\n",
       "      <td>1</td>\n",
       "      <td>1</td>\n",
       "      <td>done</td>\n",
       "      <td>2019-02-05</td>\n",
       "      <td>2019-02-27 17:28:00</td>\n",
       "      <td>2019-04-02 11:24:00</td>\n",
       "      <td>21.0</td>\n",
       "      <td>2019-02-05</td>\n",
       "      <td>2019-04-02</td>\n",
       "    </tr>\n",
       "    <tr>\n",
       "      <th>188998</th>\n",
       "      <td>SP</td>\n",
       "      <td>3444</td>\n",
       "      <td>RS</td>\n",
       "      <td>96400</td>\n",
       "      <td>standard</td>\n",
       "      <td>1</td>\n",
       "      <td>1</td>\n",
       "      <td>done</td>\n",
       "      <td>2019-03-04</td>\n",
       "      <td>2019-03-04 16:30:00</td>\n",
       "      <td>2019-04-02 11:01:00</td>\n",
       "      <td>18.0</td>\n",
       "      <td>2019-03-04</td>\n",
       "      <td>2019-04-02</td>\n",
       "    </tr>\n",
       "    <tr>\n",
       "      <th>492368</th>\n",
       "      <td>SP</td>\n",
       "      <td>7096</td>\n",
       "      <td>RJ</td>\n",
       "      <td>22775</td>\n",
       "      <td>standard</td>\n",
       "      <td>1</td>\n",
       "      <td>1</td>\n",
       "      <td>done</td>\n",
       "      <td>2019-02-24</td>\n",
       "      <td>2019-02-26 09:19:00</td>\n",
       "      <td>2019-04-02 12:20:00</td>\n",
       "      <td>22.0</td>\n",
       "      <td>2019-02-24</td>\n",
       "      <td>2019-04-02</td>\n",
       "    </tr>\n",
       "    <tr>\n",
       "      <th>341083</th>\n",
       "      <td>SP</td>\n",
       "      <td>9940</td>\n",
       "      <td>AL</td>\n",
       "      <td>57048</td>\n",
       "      <td>standard</td>\n",
       "      <td>2</td>\n",
       "      <td>1</td>\n",
       "      <td>done</td>\n",
       "      <td>2019-02-15</td>\n",
       "      <td>2019-02-15 15:22:00</td>\n",
       "      <td>2019-04-02 12:00:00</td>\n",
       "      <td>29.0</td>\n",
       "      <td>2019-02-15</td>\n",
       "      <td>2019-04-02</td>\n",
       "    </tr>\n",
       "    <tr>\n",
       "      <th>323986</th>\n",
       "      <td>SP</td>\n",
       "      <td>2272</td>\n",
       "      <td>RS</td>\n",
       "      <td>90680</td>\n",
       "      <td>standard</td>\n",
       "      <td>1</td>\n",
       "      <td>1</td>\n",
       "      <td>done</td>\n",
       "      <td>2019-02-25</td>\n",
       "      <td>2019-02-25 16:59:00</td>\n",
       "      <td>2019-04-02 11:59:00</td>\n",
       "      <td>23.0</td>\n",
       "      <td>2019-02-25</td>\n",
       "      <td>2019-04-02</td>\n",
       "    </tr>\n",
       "    <tr>\n",
       "      <th>426353</th>\n",
       "      <td>SP</td>\n",
       "      <td>15130</td>\n",
       "      <td>RS</td>\n",
       "      <td>91787</td>\n",
       "      <td>standard</td>\n",
       "      <td>1</td>\n",
       "      <td>1</td>\n",
       "      <td>done</td>\n",
       "      <td>2019-03-03</td>\n",
       "      <td>2019-03-04 08:55:00</td>\n",
       "      <td>2019-04-02 13:50:00</td>\n",
       "      <td>18.0</td>\n",
       "      <td>2019-03-03</td>\n",
       "      <td>2019-04-02</td>\n",
       "    </tr>\n",
       "    <tr>\n",
       "      <th>79317</th>\n",
       "      <td>SP</td>\n",
       "      <td>5822</td>\n",
       "      <td>PE</td>\n",
       "      <td>53180</td>\n",
       "      <td>standard</td>\n",
       "      <td>1</td>\n",
       "      <td>1</td>\n",
       "      <td>done</td>\n",
       "      <td>2019-03-01</td>\n",
       "      <td>2019-03-04 18:10:00</td>\n",
       "      <td>2019-04-02 10:56:00</td>\n",
       "      <td>18.0</td>\n",
       "      <td>2019-03-01</td>\n",
       "      <td>2019-04-02</td>\n",
       "    </tr>\n",
       "    <tr>\n",
       "      <th>214815</th>\n",
       "      <td>SP</td>\n",
       "      <td>3414</td>\n",
       "      <td>RJ</td>\n",
       "      <td>22610</td>\n",
       "      <td>express</td>\n",
       "      <td>1</td>\n",
       "      <td>0</td>\n",
       "      <td>done</td>\n",
       "      <td>2019-02-27</td>\n",
       "      <td>2019-03-01 15:18:00</td>\n",
       "      <td>2019-04-02 13:04:00</td>\n",
       "      <td>19.0</td>\n",
       "      <td>2019-02-27</td>\n",
       "      <td>2019-04-02</td>\n",
       "    </tr>\n",
       "    <tr>\n",
       "      <th>112523</th>\n",
       "      <td>SP</td>\n",
       "      <td>19830</td>\n",
       "      <td>RN</td>\n",
       "      <td>59139</td>\n",
       "      <td>standard</td>\n",
       "      <td>1</td>\n",
       "      <td>1</td>\n",
       "      <td>done</td>\n",
       "      <td>2019-03-01</td>\n",
       "      <td>2019-03-04 08:36:00</td>\n",
       "      <td>2019-04-02 09:42:00</td>\n",
       "      <td>18.0</td>\n",
       "      <td>2019-03-01</td>\n",
       "      <td>2019-04-02</td>\n",
       "    </tr>\n",
       "    <tr>\n",
       "      <th>447720</th>\n",
       "      <td>SP</td>\n",
       "      <td>14020</td>\n",
       "      <td>AL</td>\n",
       "      <td>57045</td>\n",
       "      <td>standard</td>\n",
       "      <td>1</td>\n",
       "      <td>1</td>\n",
       "      <td>done</td>\n",
       "      <td>2019-02-15</td>\n",
       "      <td>2019-02-19 20:15:00</td>\n",
       "      <td>2019-04-02 11:53:00</td>\n",
       "      <td>27.0</td>\n",
       "      <td>2019-02-15</td>\n",
       "      <td>2019-04-02</td>\n",
       "    </tr>\n",
       "    <tr>\n",
       "      <th>149642</th>\n",
       "      <td>SP</td>\n",
       "      <td>14070</td>\n",
       "      <td>AL</td>\n",
       "      <td>57083</td>\n",
       "      <td>standard</td>\n",
       "      <td>1</td>\n",
       "      <td>1</td>\n",
       "      <td>done</td>\n",
       "      <td>2019-03-02</td>\n",
       "      <td>2019-03-04 18:55:00</td>\n",
       "      <td>2019-04-02 11:29:00</td>\n",
       "      <td>18.0</td>\n",
       "      <td>2019-03-02</td>\n",
       "      <td>2019-04-02</td>\n",
       "    </tr>\n",
       "    <tr>\n",
       "      <th>20271</th>\n",
       "      <td>SP</td>\n",
       "      <td>13329</td>\n",
       "      <td>RJ</td>\n",
       "      <td>22770</td>\n",
       "      <td>standard</td>\n",
       "      <td>1</td>\n",
       "      <td>1</td>\n",
       "      <td>done</td>\n",
       "      <td>2019-02-24</td>\n",
       "      <td>2019-02-26 10:23:00</td>\n",
       "      <td>2019-04-02 12:03:00</td>\n",
       "      <td>22.0</td>\n",
       "      <td>2019-02-24</td>\n",
       "      <td>2019-04-02</td>\n",
       "    </tr>\n",
       "  </tbody>\n",
       "</table>\n",
       "<p>496860 rows × 14 columns</p>\n",
       "</div>"
      ],
      "text/plain": [
       "       sender_state  sender_zipcode  ... date_created_only_date  date_visit_only_date\n",
       "220592           SP            7150  ...             2019-02-07            2019-02-25\n",
       "160109           SP           14406  ...             2019-01-31            2019-02-25\n",
       "3882             SP            5822  ...             2019-02-06            2019-02-25\n",
       "23929            SP            8720  ...             2019-01-31            2019-02-25\n",
       "160149           SP           12341  ...             2019-02-04            2019-02-25\n",
       "481277           SP            9720  ...             2019-02-04            2019-02-25\n",
       "337856           SP            4186  ...             2019-02-06            2019-02-25\n",
       "282856           SP            2738  ...             2019-02-03            2019-02-25\n",
       "337871           SP           13010  ...             2019-02-08            2019-02-25\n",
       "208468           SP            8710  ...             2019-02-01            2019-02-25\n",
       "481271           SP            5835  ...             2019-02-08            2019-02-25\n",
       "193293           SP            3282  ...             2019-02-07            2019-02-25\n",
       "105431           SP            3005  ...             2019-02-07            2019-02-25\n",
       "105433           SP           14070  ...             2019-02-05            2019-02-25\n",
       "193302           SP            9990  ...             2019-01-27            2019-02-25\n",
       "9446             SP            2267  ...             2019-02-04            2019-02-25\n",
       "160246           SP            8750  ...             2019-01-07            2019-02-25\n",
       "349822           SP            1004  ...             2019-02-02            2019-02-25\n",
       "349859           SP            2738  ...             2019-01-27            2019-02-25\n",
       "433455           SP           13277  ...             2019-01-31            2019-02-25\n",
       "337483           SP           14405  ...             2019-02-04            2019-02-25\n",
       "375558           SP            3401  ...             2019-02-07            2019-02-25\n",
       "53705            SP           19806  ...             2019-01-30            2019-02-25\n",
       "433490           SP            2265  ...             2019-02-06            2019-02-25\n",
       "232167           SP            4915  ...             2019-01-27            2019-02-25\n",
       "9392             SP           12031  ...             2019-02-05            2019-02-25\n",
       "85071            SP            3106  ...             2019-02-05            2019-02-25\n",
       "366195           SP           12307  ...             2019-02-07            2019-02-25\n",
       "462835           SP           14600  ...             2019-02-05            2019-02-25\n",
       "129389           SP            4856  ...             2019-01-29            2019-02-25\n",
       "...             ...             ...  ...                    ...                   ...\n",
       "345969           SP            2836  ...             2019-02-22            2019-04-02\n",
       "384885           SP           14406  ...             2019-03-01            2019-04-02\n",
       "39526            SP            2121  ...             2019-03-01            2019-04-02\n",
       "50700            SP            8275  ...             2019-02-27            2019-04-02\n",
       "391562           SP            9070  ...             2019-02-28            2019-04-02\n",
       "252116           SP           13920  ...             2019-02-25            2019-04-02\n",
       "467449           SP            3633  ...             2019-02-18            2019-04-02\n",
       "114140           SP           13495  ...             2019-02-23            2019-04-02\n",
       "201549           SP            9760  ...             2019-02-11            2019-04-02\n",
       "95514            SP           14060  ...             2019-03-03            2019-04-02\n",
       "406948           SP           14402  ...             2019-02-18            2019-04-02\n",
       "134581           SP           13184  ...             2019-02-26            2019-04-02\n",
       "269489           SP            2037  ...             2019-02-22            2019-04-02\n",
       "15558            SP            8010  ...             2019-02-19            2019-04-02\n",
       "257742           SP            6463  ...             2019-02-26            2019-04-02\n",
       "26492            SP            4285  ...             2019-02-17            2019-04-02\n",
       "150568           SP            4905  ...             2019-02-28            2019-04-02\n",
       "182995           SP            3643  ...             2019-03-03            2019-04-02\n",
       "26128            SP           17032  ...             2019-02-05            2019-04-02\n",
       "188998           SP            3444  ...             2019-03-04            2019-04-02\n",
       "492368           SP            7096  ...             2019-02-24            2019-04-02\n",
       "341083           SP            9940  ...             2019-02-15            2019-04-02\n",
       "323986           SP            2272  ...             2019-02-25            2019-04-02\n",
       "426353           SP           15130  ...             2019-03-03            2019-04-02\n",
       "79317            SP            5822  ...             2019-03-01            2019-04-02\n",
       "214815           SP            3414  ...             2019-02-27            2019-04-02\n",
       "112523           SP           19830  ...             2019-03-01            2019-04-02\n",
       "447720           SP           14020  ...             2019-02-15            2019-04-02\n",
       "149642           SP           14070  ...             2019-03-02            2019-04-02\n",
       "20271            SP           13329  ...             2019-02-24            2019-04-02\n",
       "\n",
       "[496860 rows x 14 columns]"
      ]
     },
     "execution_count": 17,
     "metadata": {
      "tags": []
     },
     "output_type": "execute_result"
    }
   ],
   "source": [
    "dataset_clean.sort_values(by=['date_visit_only_date']) "
   ]
  },
  {
   "cell_type": "markdown",
   "metadata": {
    "colab_type": "text",
    "id": "-OvJ4h2Kh7ZO"
   },
   "source": [
    "Según podemos observar en los cálculos de arriba la variable date_visit  abarca desde el 25-02-2019 al 02-04-2019.\n",
    "\n",
    "Veamos ahora como se distribuyen estos datos dentro de este intervalo temporal."
   ]
  },
  {
   "cell_type": "code",
   "execution_count": 0,
   "metadata": {
    "colab": {
     "base_uri": "https://localhost:8080/",
     "height": 824
    },
    "colab_type": "code",
    "id": "aYgXDombelrR",
    "outputId": "c16203df-18d1-4764-eb40-a6653ef5e813"
   },
   "outputs": [
    {
     "data": {
      "text/html": [
       "<div>\n",
       "<style scoped>\n",
       "    .dataframe tbody tr th:only-of-type {\n",
       "        vertical-align: middle;\n",
       "    }\n",
       "\n",
       "    .dataframe tbody tr th {\n",
       "        vertical-align: top;\n",
       "    }\n",
       "\n",
       "    .dataframe thead th {\n",
       "        text-align: right;\n",
       "    }\n",
       "</style>\n",
       "<table border=\"1\" class=\"dataframe\">\n",
       "  <thead>\n",
       "    <tr style=\"text-align: right;\">\n",
       "      <th></th>\n",
       "      <th></th>\n",
       "      <th>count</th>\n",
       "    </tr>\n",
       "    <tr>\n",
       "      <th>month</th>\n",
       "      <th>day</th>\n",
       "      <th></th>\n",
       "    </tr>\n",
       "  </thead>\n",
       "  <tbody>\n",
       "    <tr>\n",
       "      <th rowspan=\"4\" valign=\"top\">2</th>\n",
       "      <th>25</th>\n",
       "      <td>2021</td>\n",
       "    </tr>\n",
       "    <tr>\n",
       "      <th>26</th>\n",
       "      <td>1617</td>\n",
       "    </tr>\n",
       "    <tr>\n",
       "      <th>27</th>\n",
       "      <td>2661</td>\n",
       "    </tr>\n",
       "    <tr>\n",
       "      <th>28</th>\n",
       "      <td>21657</td>\n",
       "    </tr>\n",
       "    <tr>\n",
       "      <th rowspan=\"18\" valign=\"top\">3</th>\n",
       "      <th>1</th>\n",
       "      <td>20837</td>\n",
       "    </tr>\n",
       "    <tr>\n",
       "      <th>7</th>\n",
       "      <td>31870</td>\n",
       "    </tr>\n",
       "    <tr>\n",
       "      <th>8</th>\n",
       "      <td>38442</td>\n",
       "    </tr>\n",
       "    <tr>\n",
       "      <th>11</th>\n",
       "      <td>35573</td>\n",
       "    </tr>\n",
       "    <tr>\n",
       "      <th>12</th>\n",
       "      <td>36365</td>\n",
       "    </tr>\n",
       "    <tr>\n",
       "      <th>13</th>\n",
       "      <td>25702</td>\n",
       "    </tr>\n",
       "    <tr>\n",
       "      <th>14</th>\n",
       "      <td>25169</td>\n",
       "    </tr>\n",
       "    <tr>\n",
       "      <th>15</th>\n",
       "      <td>24035</td>\n",
       "    </tr>\n",
       "    <tr>\n",
       "      <th>18</th>\n",
       "      <td>31013</td>\n",
       "    </tr>\n",
       "    <tr>\n",
       "      <th>19</th>\n",
       "      <td>24466</td>\n",
       "    </tr>\n",
       "    <tr>\n",
       "      <th>20</th>\n",
       "      <td>25683</td>\n",
       "    </tr>\n",
       "    <tr>\n",
       "      <th>21</th>\n",
       "      <td>23490</td>\n",
       "    </tr>\n",
       "    <tr>\n",
       "      <th>22</th>\n",
       "      <td>22772</td>\n",
       "    </tr>\n",
       "    <tr>\n",
       "      <th>25</th>\n",
       "      <td>28824</td>\n",
       "    </tr>\n",
       "    <tr>\n",
       "      <th>26</th>\n",
       "      <td>23528</td>\n",
       "    </tr>\n",
       "    <tr>\n",
       "      <th>27</th>\n",
       "      <td>24537</td>\n",
       "    </tr>\n",
       "    <tr>\n",
       "      <th>28</th>\n",
       "      <td>22123</td>\n",
       "    </tr>\n",
       "    <tr>\n",
       "      <th>29</th>\n",
       "      <td>3119</td>\n",
       "    </tr>\n",
       "    <tr>\n",
       "      <th rowspan=\"2\" valign=\"top\">4</th>\n",
       "      <th>1</th>\n",
       "      <td>1309</td>\n",
       "    </tr>\n",
       "    <tr>\n",
       "      <th>2</th>\n",
       "      <td>47</td>\n",
       "    </tr>\n",
       "  </tbody>\n",
       "</table>\n",
       "</div>"
      ],
      "text/plain": [
       "           count\n",
       "month day       \n",
       "2     25    2021\n",
       "      26    1617\n",
       "      27    2661\n",
       "      28   21657\n",
       "3     1    20837\n",
       "      7    31870\n",
       "      8    38442\n",
       "      11   35573\n",
       "      12   36365\n",
       "      13   25702\n",
       "      14   25169\n",
       "      15   24035\n",
       "      18   31013\n",
       "      19   24466\n",
       "      20   25683\n",
       "      21   23490\n",
       "      22   22772\n",
       "      25   28824\n",
       "      26   23528\n",
       "      27   24537\n",
       "      28   22123\n",
       "      29    3119\n",
       "4     1     1309\n",
       "      2       47"
      ]
     },
     "execution_count": 18,
     "metadata": {
      "tags": []
     },
     "output_type": "execute_result"
    }
   ],
   "source": [
    "dataset_clean['date_visit'].groupby(\n",
    "                          [dataset_clean['date_visit'].dt.month.rename('month'), \n",
    "                           dataset_clean['date_visit'].dt.day.rename('day')]\n",
    "                           ).agg({'count'})"
   ]
  },
  {
   "cell_type": "code",
   "execution_count": 0,
   "metadata": {
    "colab": {
     "base_uri": "https://localhost:8080/",
     "height": 173
    },
    "colab_type": "code",
    "id": "d5SxQsHheluv",
    "outputId": "531538ad-7506-40c2-df81-4b2e1d69c01d"
   },
   "outputs": [
    {
     "data": {
      "text/html": [
       "<div>\n",
       "<style scoped>\n",
       "    .dataframe tbody tr th:only-of-type {\n",
       "        vertical-align: middle;\n",
       "    }\n",
       "\n",
       "    .dataframe tbody tr th {\n",
       "        vertical-align: top;\n",
       "    }\n",
       "\n",
       "    .dataframe thead th {\n",
       "        text-align: right;\n",
       "    }\n",
       "</style>\n",
       "<table border=\"1\" class=\"dataframe\">\n",
       "  <thead>\n",
       "    <tr style=\"text-align: right;\">\n",
       "      <th></th>\n",
       "      <th>count</th>\n",
       "    </tr>\n",
       "    <tr>\n",
       "      <th>month</th>\n",
       "      <th></th>\n",
       "    </tr>\n",
       "  </thead>\n",
       "  <tbody>\n",
       "    <tr>\n",
       "      <th>2</th>\n",
       "      <td>27956</td>\n",
       "    </tr>\n",
       "    <tr>\n",
       "      <th>3</th>\n",
       "      <td>467548</td>\n",
       "    </tr>\n",
       "    <tr>\n",
       "      <th>4</th>\n",
       "      <td>1356</td>\n",
       "    </tr>\n",
       "  </tbody>\n",
       "</table>\n",
       "</div>"
      ],
      "text/plain": [
       "        count\n",
       "month        \n",
       "2       27956\n",
       "3      467548\n",
       "4        1356"
      ]
     },
     "execution_count": 19,
     "metadata": {
      "tags": []
     },
     "output_type": "execute_result"
    }
   ],
   "source": [
    "dataset_clean['date_visit'].groupby([dataset_clean['date_visit'].dt.month.rename('month')]).agg({'count'})"
   ]
  },
  {
   "cell_type": "markdown",
   "metadata": {
    "colab_type": "text",
    "id": "YLyG6IjejKAS"
   },
   "source": [
    "Dada la característica de nuestro problema (estimar una cantidad de días) y al estar trabajando con variables de tipo fecha debemos ser cuidadosas al momento de elegir nuestro conjunto de entrenamiento y validación de manera que le den sentido al problema y que al mismo tiempo representen el 70% y 30% respectivamente de los datos. Es decir, la partición debe estar basada en el hecho de que date_created, date_sent y date_visit se siguen una a la otra en la línea temporal. Por lo tanto, los datos a entrenar deben elegirse hasta un cierto día de la variable date_visit y validarse con datos de date_created a partir de esa fecha.\n",
    "\n",
    "Considerando que nuestro dataset cuenta en este momento con 496954 entradas, el 70% del mismo representa aproximadamente 345000 entradas. Así, de acuerdo a la distribución mostrada arriba si entrenamos nuestro modelo con datos de la variable date_visit hasta el 20 de marzo podriamos llegar a cubrir este porcentaje. En resumen vamos a entrenar con datos que llegaron a destino (este es el por qué se mira data_visit) y vamos a validar con datos cuyas compras se crearon (date_created) después de esa fecha.\n",
    "\n",
    "A continuación se realizan los cálculos que permitirán hacer la partición de los datos de acuerdo al criterio antes mencionado.\n",
    "\n",
    "Mask1 la vamos a usar para hacer el filtrado de los datos para el entrenamiento y mask2 la vamos a usar para hacer el filtrado de los datos para la validacion."
   ]
  },
  {
   "cell_type": "code",
   "execution_count": 0,
   "metadata": {
    "colab": {},
    "colab_type": "code",
    "id": "ZVAYX0PJel1w"
   },
   "outputs": [],
   "source": [
    "mask1 = dataset_clean['date_visit']<=pandas.to_datetime('2019-03-20')\n",
    "mask2 = dataset_clean['date_created']>pandas.to_datetime('2019-03-20') "
   ]
  },
  {
   "cell_type": "markdown",
   "metadata": {
    "colab_type": "text",
    "id": "e37aC47SlXS_"
   },
   "source": [
    "Eliminamos los valores que cumplen con las dos condiciones simultáneamente."
   ]
  },
  {
   "cell_type": "code",
   "execution_count": 0,
   "metadata": {
    "colab": {},
    "colab_type": "code",
    "id": "PPP_-HW-JzRp"
   },
   "outputs": [],
   "source": [
    "dataset_clean.drop(dataset_clean[mask1&mask2].index, inplace = True)"
   ]
  },
  {
   "cell_type": "code",
   "execution_count": 0,
   "metadata": {
    "colab": {},
    "colab_type": "code",
    "id": "XujMMBlgJ5ck"
   },
   "outputs": [],
   "source": [
    "df_train = dataset_clean.loc[mask1]"
   ]
  },
  {
   "cell_type": "code",
   "execution_count": 0,
   "metadata": {
    "colab": {},
    "colab_type": "code",
    "id": "9Xo2ZkmaKQ8V"
   },
   "outputs": [],
   "source": [
    "df_test = dataset_clean.loc[mask2]"
   ]
  },
  {
   "cell_type": "markdown",
   "metadata": {
    "colab_type": "text",
    "id": "-3p2BPyrf1P-"
   },
   "source": [
    "#### Análisis del conjunto de entrenamiento\n",
    "\n",
    "Veamos a continuación algunos estadísticos y un pequeño análisis de los mismos."
   ]
  },
  {
   "cell_type": "code",
   "execution_count": 0,
   "metadata": {
    "colab": {
     "base_uri": "https://localhost:8080/",
     "height": 297
    },
    "colab_type": "code",
    "id": "LcZ0wxhxc4nP",
    "outputId": "8beb794e-f1f3-4148-f432-afb9a38631d1"
   },
   "outputs": [
    {
     "data": {
      "text/html": [
       "<div>\n",
       "<style scoped>\n",
       "    .dataframe tbody tr th:only-of-type {\n",
       "        vertical-align: middle;\n",
       "    }\n",
       "\n",
       "    .dataframe tbody tr th {\n",
       "        vertical-align: top;\n",
       "    }\n",
       "\n",
       "    .dataframe thead th {\n",
       "        text-align: right;\n",
       "    }\n",
       "</style>\n",
       "<table border=\"1\" class=\"dataframe\">\n",
       "  <thead>\n",
       "    <tr style=\"text-align: right;\">\n",
       "      <th></th>\n",
       "      <th>sender_zipcode</th>\n",
       "      <th>receiver_zipcode</th>\n",
       "      <th>quantity</th>\n",
       "      <th>service</th>\n",
       "      <th>shipment_days</th>\n",
       "    </tr>\n",
       "  </thead>\n",
       "  <tbody>\n",
       "    <tr>\n",
       "      <th>count</th>\n",
       "      <td>321429.000000</td>\n",
       "      <td>321429.000000</td>\n",
       "      <td>321429.000000</td>\n",
       "      <td>321429.000000</td>\n",
       "      <td>321429.000000</td>\n",
       "    </tr>\n",
       "    <tr>\n",
       "      <th>mean</th>\n",
       "      <td>8255.643377</td>\n",
       "      <td>39515.054463</td>\n",
       "      <td>1.277134</td>\n",
       "      <td>1.488988</td>\n",
       "      <td>4.866954</td>\n",
       "    </tr>\n",
       "    <tr>\n",
       "      <th>std</th>\n",
       "      <td>5078.155775</td>\n",
       "      <td>30968.694693</td>\n",
       "      <td>0.660363</td>\n",
       "      <td>1.868844</td>\n",
       "      <td>4.530781</td>\n",
       "    </tr>\n",
       "    <tr>\n",
       "      <th>min</th>\n",
       "      <td>1001.000000</td>\n",
       "      <td>1001.000000</td>\n",
       "      <td>1.000000</td>\n",
       "      <td>0.000000</td>\n",
       "      <td>0.000000</td>\n",
       "    </tr>\n",
       "    <tr>\n",
       "      <th>25%</th>\n",
       "      <td>3658.000000</td>\n",
       "      <td>13059.000000</td>\n",
       "      <td>1.000000</td>\n",
       "      <td>0.000000</td>\n",
       "      <td>2.000000</td>\n",
       "    </tr>\n",
       "    <tr>\n",
       "      <th>50%</th>\n",
       "      <td>7179.000000</td>\n",
       "      <td>30431.000000</td>\n",
       "      <td>1.000000</td>\n",
       "      <td>1.000000</td>\n",
       "      <td>3.000000</td>\n",
       "    </tr>\n",
       "    <tr>\n",
       "      <th>75%</th>\n",
       "      <td>13254.000000</td>\n",
       "      <td>70274.000000</td>\n",
       "      <td>1.000000</td>\n",
       "      <td>2.000000</td>\n",
       "      <td>7.000000</td>\n",
       "    </tr>\n",
       "    <tr>\n",
       "      <th>max</th>\n",
       "      <td>19970.000000</td>\n",
       "      <td>99990.000000</td>\n",
       "      <td>5.000000</td>\n",
       "      <td>12.000000</td>\n",
       "      <td>90.000000</td>\n",
       "    </tr>\n",
       "  </tbody>\n",
       "</table>\n",
       "</div>"
      ],
      "text/plain": [
       "       sender_zipcode  receiver_zipcode  ...        service  shipment_days\n",
       "count   321429.000000     321429.000000  ...  321429.000000  321429.000000\n",
       "mean      8255.643377      39515.054463  ...       1.488988       4.866954\n",
       "std       5078.155775      30968.694693  ...       1.868844       4.530781\n",
       "min       1001.000000       1001.000000  ...       0.000000       0.000000\n",
       "25%       3658.000000      13059.000000  ...       0.000000       2.000000\n",
       "50%       7179.000000      30431.000000  ...       1.000000       3.000000\n",
       "75%      13254.000000      70274.000000  ...       2.000000       7.000000\n",
       "max      19970.000000      99990.000000  ...      12.000000      90.000000\n",
       "\n",
       "[8 rows x 5 columns]"
      ]
     },
     "execution_count": 24,
     "metadata": {
      "tags": []
     },
     "output_type": "execute_result"
    }
   ],
   "source": [
    "df_train.describe()"
   ]
  },
  {
   "cell_type": "code",
   "execution_count": 0,
   "metadata": {
    "colab": {
     "base_uri": "https://localhost:8080/",
     "height": 173
    },
    "colab_type": "code",
    "id": "tSwP_ySqigWC",
    "outputId": "1edd88d6-1b36-4e57-ed96-8fe9a42637f3"
   },
   "outputs": [
    {
     "data": {
      "text/html": [
       "<div>\n",
       "<style scoped>\n",
       "    .dataframe tbody tr th:only-of-type {\n",
       "        vertical-align: middle;\n",
       "    }\n",
       "\n",
       "    .dataframe tbody tr th {\n",
       "        vertical-align: top;\n",
       "    }\n",
       "\n",
       "    .dataframe thead th {\n",
       "        text-align: right;\n",
       "    }\n",
       "</style>\n",
       "<table border=\"1\" class=\"dataframe\">\n",
       "  <thead>\n",
       "    <tr style=\"text-align: right;\">\n",
       "      <th></th>\n",
       "      <th>sender_state</th>\n",
       "      <th>receiver_state</th>\n",
       "      <th>shipment_type</th>\n",
       "      <th>status</th>\n",
       "      <th>date_created_only_date</th>\n",
       "      <th>date_visit_only_date</th>\n",
       "    </tr>\n",
       "  </thead>\n",
       "  <tbody>\n",
       "    <tr>\n",
       "      <th>count</th>\n",
       "      <td>321429</td>\n",
       "      <td>321429</td>\n",
       "      <td>321429</td>\n",
       "      <td>321429</td>\n",
       "      <td>321429</td>\n",
       "      <td>321429</td>\n",
       "    </tr>\n",
       "    <tr>\n",
       "      <th>unique</th>\n",
       "      <td>1</td>\n",
       "      <td>27</td>\n",
       "      <td>3</td>\n",
       "      <td>2</td>\n",
       "      <td>97</td>\n",
       "      <td>15</td>\n",
       "    </tr>\n",
       "    <tr>\n",
       "      <th>top</th>\n",
       "      <td>SP</td>\n",
       "      <td>SP</td>\n",
       "      <td>express</td>\n",
       "      <td>done</td>\n",
       "      <td>2019-02-26</td>\n",
       "      <td>2019-03-08</td>\n",
       "    </tr>\n",
       "    <tr>\n",
       "      <th>freq</th>\n",
       "      <td>321429</td>\n",
       "      <td>125401</td>\n",
       "      <td>158273</td>\n",
       "      <td>318653</td>\n",
       "      <td>16994</td>\n",
       "      <td>38442</td>\n",
       "    </tr>\n",
       "  </tbody>\n",
       "</table>\n",
       "</div>"
      ],
      "text/plain": [
       "       sender_state receiver_state  ... date_created_only_date date_visit_only_date\n",
       "count        321429         321429  ...                 321429               321429\n",
       "unique            1             27  ...                     97                   15\n",
       "top              SP             SP  ...             2019-02-26           2019-03-08\n",
       "freq         321429         125401  ...                  16994                38442\n",
       "\n",
       "[4 rows x 6 columns]"
      ]
     },
     "execution_count": 25,
     "metadata": {
      "tags": []
     },
     "output_type": "execute_result"
    }
   ],
   "source": [
    "df_train.describe(include ='object')"
   ]
  },
  {
   "cell_type": "markdown",
   "metadata": {
    "colab_type": "text",
    "id": "Mgx70KcGis3m"
   },
   "source": [
    "**Observaciones** \n",
    "\n",
    "- El conjunto de entrenamiento cuenta con 321523 envíos.\n",
    "- El 75% de dichos envíos utilizan el servicio 0 ,1 y  2, donde el 25% está concentrado en el servicio 0. Predominan por lo tanto estos tres servicios en todo el conjunto de entrenamiento.\n",
    "- La mayoría de los envíos son de un item.\n",
    "- Aproximadamente el 40% (127570) de estos envíos llegan al estado de San Pablo.\n",
    "- En el 50% de estos datos shipment_days tarda hasta 3 días. "
   ]
  },
  {
   "cell_type": "markdown",
   "metadata": {
    "colab_type": "text",
    "id": "xPhr0xCHqzd1"
   },
   "source": [
    "Mostramos a continuación la distribución de las variables service y shipment_days y un pequeño análisis de receiver_zipcode."
   ]
  },
  {
   "cell_type": "code",
   "execution_count": 0,
   "metadata": {
    "colab": {
     "base_uri": "https://localhost:8080/",
     "height": 286
    },
    "colab_type": "code",
    "id": "-Yo1qvOLgOVC",
    "outputId": "c78c170d-8d14-4134-e73a-a935711b08eb"
   },
   "outputs": [
    {
     "data": {
      "image/png": "[encoded data removed]",
      "text/plain": [
       "<Figure size 432x288 with 1 Axes>"
      ]
     },
     "metadata": {
      "tags": []
     },
     "output_type": "display_data"
    }
   ],
   "source": [
    "ax = df_train['service'].value_counts(normalize=True,sort=True,\n",
    "                                       dropna=True).sort_index().plot(kind='bar',\n",
    "                                                       grid=True)\n",
    "ax.set(xlabel=\"Servicios\",ylabel=\"% de envíos\")\n",
    "sns.despine()"
   ]
  },
  {
   "cell_type": "code",
   "execution_count": 0,
   "metadata": {
    "colab": {
     "base_uri": "https://localhost:8080/",
     "height": 533
    },
    "colab_type": "code",
    "id": "dxbnf3TMlGgN",
    "outputId": "0e296203-6215-41fd-9acf-21dbfde9e92f"
   },
   "outputs": [
    {
     "data": {
      "image/png": "[encoded data removed]",
      "text/plain": [
       "<Figure size 1296x576 with 1 Axes>"
      ]
     },
     "metadata": {
      "tags": []
     },
     "output_type": "display_data"
    }
   ],
   "source": [
    "plt.figure(figsize=(18,8))\n",
    "ax = df_train['shipment_days'].value_counts(normalize=True,sort=True,\n",
    "                                       dropna=True).sort_index().plot(kind='bar',\n",
    "                                                     grid=True)\n",
    "ax.set(xlabel=\"Shipment_days\",ylabel=\"% de envíos\")\n",
    "sns.despine()"
   ]
  },
  {
   "cell_type": "markdown",
   "metadata": {
    "colab_type": "text",
    "id": "GIlJgCd3r0Tf"
   },
   "source": [
    "El primer gráfico confirma la información devuelta por la función describe donde los tres servicios más frecuentes son el 0, el 1 y el 4.\n",
    "\n",
    "En cuanto a shipment_days observamos que aquellos envíos que tardan 19 días o más representan un porcentaje muy mínimo del total de los datos (alrededor del 0.01%)"
   ]
  },
  {
   "cell_type": "code",
   "execution_count": 0,
   "metadata": {
    "colab": {
     "base_uri": "https://localhost:8080/",
     "height": 102
    },
    "colab_type": "code",
    "id": "mEjyHFcvslEV",
    "outputId": "d408fe85-1a75-491b-e5e9-15669dbbe03b"
   },
   "outputs": [
    {
     "data": {
      "text/plain": [
       "count     321429\n",
       "unique     18244\n",
       "top        36400\n",
       "freq         349\n",
       "Name: receiver_zipcode, dtype: int64"
      ]
     },
     "execution_count": 28,
     "metadata": {
      "tags": []
     },
     "output_type": "execute_result"
    }
   ],
   "source": [
    "receiver_zc_train = df_train['receiver_zipcode'].astype('category')\n",
    "receiver_zc_train.describe()"
   ]
  },
  {
   "cell_type": "markdown",
   "metadata": {
    "colab_type": "text",
    "id": "LMFejqRNxYXk"
   },
   "source": [
    "Observamos que el receiver_zipcode más frecuente es el 36400 el cual aparece 349 veces."
   ]
  },
  {
   "cell_type": "markdown",
   "metadata": {
    "colab_type": "text",
    "id": "5CjQCIOoiPsR"
   },
   "source": [
    "#### Análisis del conjunto de test\n",
    "\n",
    "Realizamos ahora un análisis similar sobre el conjunto de validación (o test)."
   ]
  },
  {
   "cell_type": "code",
   "execution_count": 0,
   "metadata": {
    "colab": {
     "base_uri": "https://localhost:8080/",
     "height": 297
    },
    "colab_type": "code",
    "id": "hcbYhLLFc4xK",
    "outputId": "138ef219-ca19-4eaa-ca00-c74a0fb05ae4"
   },
   "outputs": [
    {
     "data": {
      "text/html": [
       "<div>\n",
       "<style scoped>\n",
       "    .dataframe tbody tr th:only-of-type {\n",
       "        vertical-align: middle;\n",
       "    }\n",
       "\n",
       "    .dataframe tbody tr th {\n",
       "        vertical-align: top;\n",
       "    }\n",
       "\n",
       "    .dataframe thead th {\n",
       "        text-align: right;\n",
       "    }\n",
       "</style>\n",
       "<table border=\"1\" class=\"dataframe\">\n",
       "  <thead>\n",
       "    <tr style=\"text-align: right;\">\n",
       "      <th></th>\n",
       "      <th>sender_zipcode</th>\n",
       "      <th>receiver_zipcode</th>\n",
       "      <th>quantity</th>\n",
       "      <th>service</th>\n",
       "      <th>shipment_days</th>\n",
       "    </tr>\n",
       "  </thead>\n",
       "  <tbody>\n",
       "    <tr>\n",
       "      <th>count</th>\n",
       "      <td>32524.000000</td>\n",
       "      <td>32524.000000</td>\n",
       "      <td>32524.000000</td>\n",
       "      <td>32524.000000</td>\n",
       "      <td>32524.000000</td>\n",
       "    </tr>\n",
       "    <tr>\n",
       "      <th>mean</th>\n",
       "      <td>7761.103831</td>\n",
       "      <td>22462.617575</td>\n",
       "      <td>1.285328</td>\n",
       "      <td>1.677254</td>\n",
       "      <td>1.599250</td>\n",
       "    </tr>\n",
       "    <tr>\n",
       "      <th>std</th>\n",
       "      <td>4848.277470</td>\n",
       "      <td>25891.507878</td>\n",
       "      <td>0.667577</td>\n",
       "      <td>2.412361</td>\n",
       "      <td>0.957553</td>\n",
       "    </tr>\n",
       "    <tr>\n",
       "      <th>min</th>\n",
       "      <td>1001.000000</td>\n",
       "      <td>1001.000000</td>\n",
       "      <td>1.000000</td>\n",
       "      <td>0.000000</td>\n",
       "      <td>0.000000</td>\n",
       "    </tr>\n",
       "    <tr>\n",
       "      <th>25%</th>\n",
       "      <td>3437.000000</td>\n",
       "      <td>5771.500000</td>\n",
       "      <td>1.000000</td>\n",
       "      <td>0.000000</td>\n",
       "      <td>1.000000</td>\n",
       "    </tr>\n",
       "    <tr>\n",
       "      <th>50%</th>\n",
       "      <td>6795.000000</td>\n",
       "      <td>13025.000000</td>\n",
       "      <td>1.000000</td>\n",
       "      <td>0.000000</td>\n",
       "      <td>1.000000</td>\n",
       "    </tr>\n",
       "    <tr>\n",
       "      <th>75%</th>\n",
       "      <td>13076.000000</td>\n",
       "      <td>25615.000000</td>\n",
       "      <td>1.000000</td>\n",
       "      <td>4.000000</td>\n",
       "      <td>2.000000</td>\n",
       "    </tr>\n",
       "    <tr>\n",
       "      <th>max</th>\n",
       "      <td>19970.000000</td>\n",
       "      <td>99950.000000</td>\n",
       "      <td>5.000000</td>\n",
       "      <td>10.000000</td>\n",
       "      <td>6.000000</td>\n",
       "    </tr>\n",
       "  </tbody>\n",
       "</table>\n",
       "</div>"
      ],
      "text/plain": [
       "       sender_zipcode  receiver_zipcode  ...       service  shipment_days\n",
       "count    32524.000000      32524.000000  ...  32524.000000   32524.000000\n",
       "mean      7761.103831      22462.617575  ...      1.677254       1.599250\n",
       "std       4848.277470      25891.507878  ...      2.412361       0.957553\n",
       "min       1001.000000       1001.000000  ...      0.000000       0.000000\n",
       "25%       3437.000000       5771.500000  ...      0.000000       1.000000\n",
       "50%       6795.000000      13025.000000  ...      0.000000       1.000000\n",
       "75%      13076.000000      25615.000000  ...      4.000000       2.000000\n",
       "max      19970.000000      99950.000000  ...     10.000000       6.000000\n",
       "\n",
       "[8 rows x 5 columns]"
      ]
     },
     "execution_count": 29,
     "metadata": {
      "tags": []
     },
     "output_type": "execute_result"
    }
   ],
   "source": [
    "df_test.describe()"
   ]
  },
  {
   "cell_type": "code",
   "execution_count": 0,
   "metadata": {
    "colab": {
     "base_uri": "https://localhost:8080/",
     "height": 173
    },
    "colab_type": "code",
    "id": "tENY5qubyCFJ",
    "outputId": "d9220f22-97d4-4ed8-af1a-94148dbec35d"
   },
   "outputs": [
    {
     "data": {
      "text/html": [
       "<div>\n",
       "<style scoped>\n",
       "    .dataframe tbody tr th:only-of-type {\n",
       "        vertical-align: middle;\n",
       "    }\n",
       "\n",
       "    .dataframe tbody tr th {\n",
       "        vertical-align: top;\n",
       "    }\n",
       "\n",
       "    .dataframe thead th {\n",
       "        text-align: right;\n",
       "    }\n",
       "</style>\n",
       "<table border=\"1\" class=\"dataframe\">\n",
       "  <thead>\n",
       "    <tr style=\"text-align: right;\">\n",
       "      <th></th>\n",
       "      <th>sender_state</th>\n",
       "      <th>receiver_state</th>\n",
       "      <th>shipment_type</th>\n",
       "      <th>status</th>\n",
       "      <th>date_created_only_date</th>\n",
       "      <th>date_visit_only_date</th>\n",
       "    </tr>\n",
       "  </thead>\n",
       "  <tbody>\n",
       "    <tr>\n",
       "      <th>count</th>\n",
       "      <td>32524</td>\n",
       "      <td>32524</td>\n",
       "      <td>32524</td>\n",
       "      <td>32524</td>\n",
       "      <td>32524</td>\n",
       "      <td>32524</td>\n",
       "    </tr>\n",
       "    <tr>\n",
       "      <th>unique</th>\n",
       "      <td>1</td>\n",
       "      <td>27</td>\n",
       "      <td>3</td>\n",
       "      <td>2</td>\n",
       "      <td>8</td>\n",
       "      <td>6</td>\n",
       "    </tr>\n",
       "    <tr>\n",
       "      <th>top</th>\n",
       "      <td>SP</td>\n",
       "      <td>SP</td>\n",
       "      <td>express</td>\n",
       "      <td>done</td>\n",
       "      <td>2019-03-21</td>\n",
       "      <td>2019-03-28</td>\n",
       "    </tr>\n",
       "    <tr>\n",
       "      <th>freq</th>\n",
       "      <td>32524</td>\n",
       "      <td>22836</td>\n",
       "      <td>25096</td>\n",
       "      <td>32281</td>\n",
       "      <td>8908</td>\n",
       "      <td>10625</td>\n",
       "    </tr>\n",
       "  </tbody>\n",
       "</table>\n",
       "</div>"
      ],
      "text/plain": [
       "       sender_state receiver_state  ... date_created_only_date date_visit_only_date\n",
       "count         32524          32524  ...                  32524                32524\n",
       "unique            1             27  ...                      8                    6\n",
       "top              SP             SP  ...             2019-03-21           2019-03-28\n",
       "freq          32524          22836  ...                   8908                10625\n",
       "\n",
       "[4 rows x 6 columns]"
      ]
     },
     "execution_count": 30,
     "metadata": {
      "tags": []
     },
     "output_type": "execute_result"
    }
   ],
   "source": [
    "df_test.describe(include='object')"
   ]
  },
  {
   "cell_type": "markdown",
   "metadata": {
    "colab_type": "text",
    "id": "hb9gN0e6yOBn"
   },
   "source": [
    "**Observaciones**\n",
    "\n",
    "- Este conjunto cuenta con un total de 32525 envíos.\n",
    "- El 50% de los envíos utiliza el servicio 0.\n",
    "- La variable shipment_days abarca desde 1 día hasta 6 días.\n",
    "- La mayoría de los envíos son de un item.\n",
    "- Aproximadamente el 70% (22836) de estos envíos llegan a San Pablo."
   ]
  },
  {
   "cell_type": "markdown",
   "metadata": {
    "colab_type": "text",
    "id": "PSWbsGmC0Hs9"
   },
   "source": [
    "Analizamos ahora las variables service, shipment_days y receiver_zipcode."
   ]
  },
  {
   "cell_type": "code",
   "execution_count": 0,
   "metadata": {
    "colab": {
     "base_uri": "https://localhost:8080/",
     "height": 285
    },
    "colab_type": "code",
    "id": "gLjbYFKehPlM",
    "outputId": "ef75128c-ecd3-4690-def5-b31a7d43d13f"
   },
   "outputs": [
    {
     "data": {
      "image/png": "[encoded data removed]",
      "text/plain": [
       "<Figure size 432x288 with 1 Axes>"
      ]
     },
     "metadata": {
      "tags": []
     },
     "output_type": "display_data"
    }
   ],
   "source": [
    "ax = df_test['service'].value_counts(normalize=True,sort=True,\n",
    "                                       dropna=True).sort_index().plot(kind='bar',\n",
    "                                                       grid=True)\n",
    "ax.set(xlabel=\"Servicios\",ylabel=\"% de envíos\")\n",
    "sns.despine()"
   ]
  },
  {
   "cell_type": "code",
   "execution_count": 0,
   "metadata": {
    "colab": {
     "base_uri": "https://localhost:8080/",
     "height": 290
    },
    "colab_type": "code",
    "id": "8L_mdPZu0iBK",
    "outputId": "d631c1bd-7885-4498-981f-a9d2d806f77c"
   },
   "outputs": [
    {
     "data": {
      "image/png": "[encoded data removed]",
      "text/plain": [
       "<Figure size 432x288 with 1 Axes>"
      ]
     },
     "metadata": {
      "tags": []
     },
     "output_type": "display_data"
    }
   ],
   "source": [
    "plt.figure(figsize=(6,4))\n",
    "ax = df_test['shipment_days'].value_counts(normalize=True,sort=True,\n",
    "                                       dropna=True).sort_index().plot(kind='bar',\n",
    "                                                     grid=True)\n",
    "ax.set(xlabel=\"Shipment_days\",ylabel=\"% de envíos\")\n",
    "sns.despine()"
   ]
  },
  {
   "cell_type": "code",
   "execution_count": 0,
   "metadata": {
    "colab": {
     "base_uri": "https://localhost:8080/",
     "height": 102
    },
    "colab_type": "code",
    "id": "hwRiDTHc0xfp",
    "outputId": "a956bf6f-9016-434d-ebda-1dc1ccf1bef6"
   },
   "outputs": [
    {
     "data": {
      "text/plain": [
       "count     32524\n",
       "unique     9001\n",
       "top       13470\n",
       "freq         58\n",
       "Name: receiver_zipcode, dtype: int64"
      ]
     },
     "execution_count": 33,
     "metadata": {
      "tags": []
     },
     "output_type": "execute_result"
    }
   ],
   "source": [
    "receiver_zc_test = df_test['receiver_zipcode'].astype('category')\n",
    "receiver_zc_test.describe()"
   ]
  },
  {
   "cell_type": "markdown",
   "metadata": {
    "colab_type": "text",
    "id": "L2ijgGoj098Z"
   },
   "source": [
    "El primer gráfico confirma el alto predominio del servicio de correo 0, el cual abarca más del 50% de los datos del conjunto de test.\n",
    "\n",
    "En el caso de shipment_days, a diferencia del conjunto de entrenamiento, esta variable solo abarca 7 valores distintos donde predominan los envíos que tardan 1 o 2 en llegar.\n",
    "\n",
    "En este caso, el zipcode 13470 es el más frecuente en todo el dataset el cual se presenta en 58 envíos.\n",
    "\n",
    "Por lo tanto al momento de analizar los resultados debemos tener en cuenta las diferencias entre el conjunto de entrenamiento y de test principalmente lo que notamos en shipment_days (dado que este es nuestro target) y en service (pues es uno de los features más importantes en nuestro análisis)."
   ]
  },
  {
   "cell_type": "markdown",
   "metadata": {
    "colab_type": "text",
    "id": "p_Zliuxu2pnq"
   },
   "source": [
    "#### Definición de X_train, y_train, X_test e y_test."
   ]
  },
  {
   "cell_type": "markdown",
   "metadata": {
    "colab_type": "text",
    "id": "nZUE7kf-X_S3"
   },
   "source": [
    "Ahora podemos definir los X_train, y_train , X_test, e y_test.\n",
    "\n",
    "En X_train vamos a seleccionar los features que previamente habiamos elegimos como los mas representativos."
   ]
  },
  {
   "cell_type": "code",
   "execution_count": 0,
   "metadata": {
    "colab": {},
    "colab_type": "code",
    "id": "Jq8AzxarEJdb"
   },
   "outputs": [],
   "source": [
    "X_train = df_train[['receiver_zipcode','service']]"
   ]
  },
  {
   "cell_type": "code",
   "execution_count": 0,
   "metadata": {
    "colab": {},
    "colab_type": "code",
    "id": "4oD9-qqFEukS"
   },
   "outputs": [],
   "source": [
    "y_train = df_train[['shipment_days']]"
   ]
  },
  {
   "cell_type": "code",
   "execution_count": 0,
   "metadata": {
    "colab": {},
    "colab_type": "code",
    "id": "L8tu4D_IEvxD"
   },
   "outputs": [],
   "source": [
    "X_test = df_test[['receiver_zipcode','service']]"
   ]
  },
  {
   "cell_type": "code",
   "execution_count": 0,
   "metadata": {
    "colab": {},
    "colab_type": "code",
    "id": "bRKaYf3SE1yu"
   },
   "outputs": [],
   "source": [
    "y_test = df_test[['shipment_days']]"
   ]
  },
  {
   "cell_type": "markdown",
   "metadata": {
    "colab_type": "text",
    "id": "zDogNfuQZBZ5"
   },
   "source": [
    "Corroboremos que todos nos quedaron del mismo tamaño:"
   ]
  },
  {
   "cell_type": "code",
   "execution_count": 0,
   "metadata": {
    "colab": {
     "base_uri": "https://localhost:8080/",
     "height": 34
    },
    "colab_type": "code",
    "id": "pzzs4iU5FXMi",
    "outputId": "afea97aa-6c63-48b3-dd70-f551d9f6dfbd"
   },
   "outputs": [
    {
     "data": {
      "text/plain": [
       "(321429, 2)"
      ]
     },
     "execution_count": 38,
     "metadata": {
      "tags": []
     },
     "output_type": "execute_result"
    }
   ],
   "source": [
    "X_train.shape"
   ]
  },
  {
   "cell_type": "code",
   "execution_count": 0,
   "metadata": {
    "colab": {
     "base_uri": "https://localhost:8080/",
     "height": 34
    },
    "colab_type": "code",
    "id": "BRqfShJdFaHV",
    "outputId": "17d9f1dd-4431-4f12-e83b-1fbbcfb17b73"
   },
   "outputs": [
    {
     "data": {
      "text/plain": [
       "(32524, 2)"
      ]
     },
     "execution_count": 39,
     "metadata": {
      "tags": []
     },
     "output_type": "execute_result"
    }
   ],
   "source": [
    "X_test.shape"
   ]
  },
  {
   "cell_type": "code",
   "execution_count": 0,
   "metadata": {
    "colab": {
     "base_uri": "https://localhost:8080/",
     "height": 34
    },
    "colab_type": "code",
    "id": "xsQ9ClTkFcBG",
    "outputId": "e2acc1b6-7c50-4bae-d3f3-4ff189e48a60"
   },
   "outputs": [
    {
     "data": {
      "text/plain": [
       "(321429, 1)"
      ]
     },
     "execution_count": 40,
     "metadata": {
      "tags": []
     },
     "output_type": "execute_result"
    }
   ],
   "source": [
    "y_train.shape"
   ]
  },
  {
   "cell_type": "code",
   "execution_count": 0,
   "metadata": {
    "colab": {
     "base_uri": "https://localhost:8080/",
     "height": 34
    },
    "colab_type": "code",
    "id": "lfsVFPbTFfzJ",
    "outputId": "046fa9ad-d7e8-4f3e-b497-fe812792b365"
   },
   "outputs": [
    {
     "data": {
      "text/plain": [
       "(32524, 1)"
      ]
     },
     "execution_count": 41,
     "metadata": {
      "tags": []
     },
     "output_type": "execute_result"
    }
   ],
   "source": [
    "y_test.shape"
   ]
  },
  {
   "cell_type": "markdown",
   "metadata": {
    "colab_type": "text",
    "id": "2gafsKetSQXp"
   },
   "source": [
    "### DecisionTree"
   ]
  },
  {
   "cell_type": "markdown",
   "metadata": {
    "colab_type": "text",
    "id": "lChYYqwmZVsk"
   },
   "source": [
    "Como nuestro y (shipment_days) es categórico consideramos mejor una clasificación.\n",
    "Como primera elección consideramos decisiontree para ver como se comporta con la clasificación:"
   ]
  },
  {
   "cell_type": "code",
   "execution_count": 0,
   "metadata": {
    "colab": {},
    "colab_type": "code",
    "id": "qqVo4Vc5Ztf0"
   },
   "outputs": [],
   "source": [
    "features_names = [\"receiver_code\",\"service\"]"
   ]
  },
  {
   "cell_type": "code",
   "execution_count": 0,
   "metadata": {
    "colab": {},
    "colab_type": "code",
    "id": "02W68qnYZwYc"
   },
   "outputs": [],
   "source": [
    "target_names = [\"1\",\"2\",\"3\",\"4\",\"5\",\"6\"]"
   ]
  },
  {
   "cell_type": "markdown",
   "metadata": {
    "colab_type": "text",
    "id": "QinpoftdaVk9"
   },
   "source": [
    "Para usar el clasificador desicionTree necesita que el target sea un valor entero, por ende convertimos shipment_day en entero (acá podemos ver el gráfico más arriba planteado de shipment_days):"
   ]
  },
  {
   "cell_type": "code",
   "execution_count": 0,
   "metadata": {
    "colab": {},
    "colab_type": "code",
    "id": "6gZRxYJDZ0N8"
   },
   "outputs": [],
   "source": [
    "shipment_days = y_train['shipment_days'].astype(int)\n",
    "shipment_days_byclass = [None] * len(shipment_days)\n",
    "for line,row in enumerate(shipment_days):\n",
    "    if 0<=row<=1:\n",
    "        shipment_days_byclass[line] = 1\n",
    "    elif 2<=row<=3:\n",
    "        shipment_days_byclass[line] = 2     \n",
    "    elif 4<=row<=5:\n",
    "        shipment_days_byclass[line] = 3\n",
    "    elif 6<=row<=7:\n",
    "        shipment_days_byclass[line] = 4\n",
    "    elif 8<=row<=9:\n",
    "        shipment_days_byclass[line] = 5        \n",
    "    else:\n",
    "        shipment_days_byclass[line] = 6"
   ]
  },
  {
   "cell_type": "code",
   "execution_count": 0,
   "metadata": {
    "colab": {
     "base_uri": "https://localhost:8080/",
     "height": 139
    },
    "colab_type": "code",
    "id": "RI8UPU6tZ80s",
    "outputId": "7f09b14d-9932-4668-e4e9-a1b0403e7d44"
   },
   "outputs": [
    {
     "name": "stderr",
     "output_type": "stream",
     "text": [
      "/usr/local/lib/python3.6/dist-packages/ipykernel_launcher.py:1: SettingWithCopyWarning: \n",
      "A value is trying to be set on a copy of a slice from a DataFrame.\n",
      "Try using .loc[row_indexer,col_indexer] = value instead\n",
      "\n",
      "See the caveats in the documentation: http://pandas.pydata.org/pandas-docs/stable/indexing.html#indexing-view-versus-copy\n",
      "  \"\"\"Entry point for launching an IPython kernel.\n"
     ]
    }
   ],
   "source": [
    "y_train['shipment_days_byclass'] = shipment_days_byclass"
   ]
  },
  {
   "cell_type": "code",
   "execution_count": 0,
   "metadata": {
    "colab": {
     "base_uri": "https://localhost:8080/",
     "height": 119
    },
    "colab_type": "code",
    "id": "wOOeyNFEaBCq",
    "outputId": "3c679951-950b-4623-96ca-26428effada5"
   },
   "outputs": [
    {
     "data": {
      "text/plain": [
       "0    3\n",
       "1    3\n",
       "2    3\n",
       "3    2\n",
       "4    6\n",
       "Name: shipment_days_byclass, dtype: int64"
      ]
     },
     "execution_count": 46,
     "metadata": {
      "tags": []
     },
     "output_type": "execute_result"
    }
   ],
   "source": [
    "y_train['shipment_days_byclass'].head()"
   ]
  },
  {
   "cell_type": "markdown",
   "metadata": {
    "colab_type": "text",
    "id": "2jKQgpHvazwm"
   },
   "source": [
    "Hay que hacer lo mismo para los valores de validación:"
   ]
  },
  {
   "cell_type": "code",
   "execution_count": 0,
   "metadata": {
    "colab": {},
    "colab_type": "code",
    "id": "sCzOvp5Rayrt"
   },
   "outputs": [],
   "source": [
    "shipment_days_test = y_test['shipment_days'].astype(int)\n",
    "shipment_days_byclass_test = [None] * len(shipment_days_test)\n",
    "for line,row in enumerate(shipment_days_test):\n",
    "    if 0<= row<=1:\n",
    "        shipment_days_byclass_test[line] = 1\n",
    "    elif 2<=row<=3:\n",
    "        shipment_days_byclass_test[line] = 2     \n",
    "    elif 4<=row<=5:\n",
    "        shipment_days_byclass_test[line] = 3\n",
    "    elif 6<=row<=7:\n",
    "        shipment_days_byclass_test[line] = 4\n",
    "    elif 8<=row<=9:\n",
    "        shipment_days_byclass_test[line] = 5        \n",
    "    else:\n",
    "        shipment_days_byclass_test[line] = 6"
   ]
  },
  {
   "cell_type": "code",
   "execution_count": 0,
   "metadata": {
    "colab": {
     "base_uri": "https://localhost:8080/",
     "height": 139
    },
    "colab_type": "code",
    "id": "kejhJhANa8MP",
    "outputId": "7f285d8e-ce74-47ed-aa63-f99dfa61aee3"
   },
   "outputs": [
    {
     "name": "stderr",
     "output_type": "stream",
     "text": [
      "/usr/local/lib/python3.6/dist-packages/ipykernel_launcher.py:1: SettingWithCopyWarning: \n",
      "A value is trying to be set on a copy of a slice from a DataFrame.\n",
      "Try using .loc[row_indexer,col_indexer] = value instead\n",
      "\n",
      "See the caveats in the documentation: http://pandas.pydata.org/pandas-docs/stable/indexing.html#indexing-view-versus-copy\n",
      "  \"\"\"Entry point for launching an IPython kernel.\n"
     ]
    }
   ],
   "source": [
    "y_test['shipment_days_byclass'] = shipment_days_byclass_test"
   ]
  },
  {
   "cell_type": "code",
   "execution_count": 0,
   "metadata": {
    "colab": {
     "base_uri": "https://localhost:8080/",
     "height": 34
    },
    "colab_type": "code",
    "id": "59XpKtLtbBY8",
    "outputId": "1e8ca453-ea0e-473a-8b20-525446c75246"
   },
   "outputs": [
    {
     "data": {
      "text/plain": [
       "array([1, 1, 2, ..., 2, 1, 2])"
      ]
     },
     "execution_count": 49,
     "metadata": {
      "tags": []
     },
     "output_type": "execute_result"
    }
   ],
   "source": [
    "y_test['shipment_days_byclass'].values"
   ]
  },
  {
   "cell_type": "code",
   "execution_count": 0,
   "metadata": {
    "colab": {
     "base_uri": "https://localhost:8080/",
     "height": 204
    },
    "colab_type": "code",
    "id": "6R_kuHZueaMr",
    "outputId": "db4b5b7d-f815-45e1-e17f-7c7429a53282"
   },
   "outputs": [
    {
     "data": {
      "text/html": [
       "<div>\n",
       "<style scoped>\n",
       "    .dataframe tbody tr th:only-of-type {\n",
       "        vertical-align: middle;\n",
       "    }\n",
       "\n",
       "    .dataframe tbody tr th {\n",
       "        vertical-align: top;\n",
       "    }\n",
       "\n",
       "    .dataframe thead th {\n",
       "        text-align: right;\n",
       "    }\n",
       "</style>\n",
       "<table border=\"1\" class=\"dataframe\">\n",
       "  <thead>\n",
       "    <tr style=\"text-align: right;\">\n",
       "      <th></th>\n",
       "      <th>receiver_zipcode</th>\n",
       "      <th>service</th>\n",
       "    </tr>\n",
       "  </thead>\n",
       "  <tbody>\n",
       "    <tr>\n",
       "      <th>0</th>\n",
       "      <td>14500</td>\n",
       "      <td>1</td>\n",
       "    </tr>\n",
       "    <tr>\n",
       "      <th>1</th>\n",
       "      <td>58670</td>\n",
       "      <td>1</td>\n",
       "    </tr>\n",
       "    <tr>\n",
       "      <th>2</th>\n",
       "      <td>22723</td>\n",
       "      <td>2</td>\n",
       "    </tr>\n",
       "    <tr>\n",
       "      <th>3</th>\n",
       "      <td>18682</td>\n",
       "      <td>2</td>\n",
       "    </tr>\n",
       "    <tr>\n",
       "      <th>4</th>\n",
       "      <td>68908</td>\n",
       "      <td>1</td>\n",
       "    </tr>\n",
       "  </tbody>\n",
       "</table>\n",
       "</div>"
      ],
      "text/plain": [
       "   receiver_zipcode  service\n",
       "0             14500        1\n",
       "1             58670        1\n",
       "2             22723        2\n",
       "3             18682        2\n",
       "4             68908        1"
      ]
     },
     "execution_count": 50,
     "metadata": {
      "tags": []
     },
     "output_type": "execute_result"
    }
   ],
   "source": [
    "X_train.head()"
   ]
  },
  {
   "cell_type": "code",
   "execution_count": 0,
   "metadata": {
    "colab": {},
    "colab_type": "code",
    "id": "O3gD2znabHgu"
   },
   "outputs": [],
   "source": [
    "clf = tree.DecisionTreeClassifier()\n",
    "clf = clf.fit(X_train, y_train[\"shipment_days_byclass\"])"
   ]
  },
  {
   "cell_type": "code",
   "execution_count": 0,
   "metadata": {
    "colab": {
     "base_uri": "https://localhost:8080/",
     "height": 34
    },
    "colab_type": "code",
    "id": "W96tHE-Sd1_W",
    "outputId": "d0292c64-ae96-4b71-bb5c-a2994c47c85c"
   },
   "outputs": [
    {
     "name": "stdout",
     "output_type": "stream",
     "text": [
      "Accuracy: 63 \n"
     ]
    }
   ],
   "source": [
    "predictions = clf.predict(X_train)\n",
    "print ('Accuracy: %d ' % ((np.sum(y_train[\"shipment_days_byclass\"] == predictions))/float(y_train[\"shipment_days_byclass\"].size)*100))"
   ]
  },
  {
   "cell_type": "code",
   "execution_count": 0,
   "metadata": {
    "colab": {
     "base_uri": "https://localhost:8080/",
     "height": 34
    },
    "colab_type": "code",
    "id": "OT6igrqZeMu0",
    "outputId": "ef1d93fb-2ea7-4d0d-b049-6651a3a35b6e"
   },
   "outputs": [
    {
     "name": "stdout",
     "output_type": "stream",
     "text": [
      "Accuracy: 63 \n"
     ]
    }
   ],
   "source": [
    "predictions = clf.predict(X_test)\n",
    "print ('Accuracy: %d ' % ((np.sum(y_test[\"shipment_days_byclass\"] == predictions))/float(y_test[\"shipment_days_byclass\"].size)*100))"
   ]
  },
  {
   "cell_type": "code",
   "execution_count": 0,
   "metadata": {
    "colab": {
     "base_uri": "https://localhost:8080/",
     "height": 343
    },
    "colab_type": "code",
    "id": "Gy0rmXjQZmzw",
    "outputId": "71148323-2620-4640-983a-310ac7b47056"
   },
   "outputs": [
    {
     "name": "stdout",
     "output_type": "stream",
     "text": [
      "Reporte de clasificación (sobre conjunto de evaluación):\n",
      "\n",
      "              precision    recall  f1-score   support\n",
      "\n",
      "           1       0.77      0.74      0.75     18271\n",
      "           2       0.58      0.54      0.56     12762\n",
      "           3       0.24      0.28      0.26      1480\n",
      "           4       0.00      0.09      0.00        11\n",
      "           5       0.00      0.00      0.00         0\n",
      "           6       0.00      0.00      0.00         0\n",
      "\n",
      "    accuracy                           0.64     32524\n",
      "   macro avg       0.26      0.27      0.26     32524\n",
      "weighted avg       0.67      0.64      0.65     32524\n",
      "\n",
      "\n"
     ]
    },
    {
     "name": "stderr",
     "output_type": "stream",
     "text": [
      "/usr/local/lib/python3.6/dist-packages/sklearn/metrics/classification.py:1439: UndefinedMetricWarning: Recall and F-score are ill-defined and being set to 0.0 in labels with no true samples.\n",
      "  'recall', 'true', average, warn_for)\n"
     ]
    }
   ],
   "source": [
    "print(\"Reporte de clasificación (sobre conjunto de evaluación):\", end=\"\\n\\n\")\n",
    "y_true, y_pred = y_test[\"shipment_days_byclass\"], clf.predict(X_test)\n",
    "print(classification_report(y_true, y_pred), end=\"\\n\\n\")"
   ]
  },
  {
   "cell_type": "markdown",
   "metadata": {
    "colab_type": "text",
    "id": "33Biw46Tnpwc"
   },
   "source": [
    "Del reporte de clasificación podemos leer que la clase 1 se predice bien, la séptima se predice no tan bien, y las demás muy poca prediccción tienen; segunda y tercera. En la cuarta, quinta y sexta tenemos una precisión de un 0 porciento por ende no las está prediciendo. También esto lo podemos ver en la matriz de confusión que se muestra a continuación:"
   ]
  },
  {
   "cell_type": "code",
   "execution_count": 0,
   "metadata": {
    "colab": {
     "base_uri": "https://localhost:8080/",
     "height": 119
    },
    "colab_type": "code",
    "id": "I_tzXiCPfj8s",
    "outputId": "54e3386d-ff4c-484e-a21b-b9ad17c6e6ab"
   },
   "outputs": [
    {
     "name": "stdout",
     "output_type": "stream",
     "text": [
      "[[13464  4535   194    41    17    20]\n",
      " [ 3888  6900  1126   368   134   346]\n",
      " [   96   502   411   180    62   229]\n",
      " [    0     3     6     1     0     1]\n",
      " [    0     0     0     0     0     0]\n",
      " [    0     0     0     0     0     0]]\n"
     ]
    }
   ],
   "source": [
    "print(confusion_matrix(y_true, y_pred)) "
   ]
  },
  {
   "cell_type": "markdown",
   "metadata": {
    "colab_type": "text",
    "id": "rQrcRjholK56"
   },
   "source": [
    "A continuación haremos una exploración de los hiperparámetros, para ver cuáles son los mejores hiperparámetros para el decisionTree que maximicen el accuracy."
   ]
  },
  {
   "cell_type": "code",
   "execution_count": 0,
   "metadata": {
    "colab": {
     "base_uri": "https://localhost:8080/",
     "height": 1000
    },
    "colab_type": "code",
    "id": "xMYp0WE9oQwu",
    "outputId": "01aea092-ee02-4c2d-ad40-889f8fa4b9fe"
   },
   "outputs": [
    {
     "name": "stdout",
     "output_type": "stream",
     "text": [
      "# Exploración de hiperparámetros para función criterion \"gini\"\n",
      "\n",
      "Mejor conjunto de parámetros:\n",
      "{'max_depth': 20, 'min_samples_leaf': 4}\n",
      "\n",
      "Puntajes de la grilla:\n",
      "\n",
      "Exactitud: 0.527 (+/-0.000) para los parámetros {'max_depth': 20, 'min_samples_leaf': 2}\n",
      "Exactitud: 0.528 (+/-0.000) para los parámetros {'max_depth': 20, 'min_samples_leaf': 3}\n",
      "Exactitud: 0.529 (+/-0.000) para los parámetros {'max_depth': 20, 'min_samples_leaf': 4}\n",
      "Exactitud: 0.524 (+/-0.000) para los parámetros {'max_depth': 21, 'min_samples_leaf': 2}\n",
      "Exactitud: 0.526 (+/-0.000) para los parámetros {'max_depth': 21, 'min_samples_leaf': 3}\n",
      "Exactitud: 0.528 (+/-0.000) para los parámetros {'max_depth': 21, 'min_samples_leaf': 4}\n",
      "Exactitud: 0.523 (+/-0.000) para los parámetros {'max_depth': 22, 'min_samples_leaf': 2}\n",
      "Exactitud: 0.525 (+/-0.000) para los parámetros {'max_depth': 22, 'min_samples_leaf': 3}\n",
      "Exactitud: 0.527 (+/-0.000) para los parámetros {'max_depth': 22, 'min_samples_leaf': 4}\n",
      "\n",
      "Reporte de clasificación para el mejor clasificador (sobre conjunto de evaluación):\n",
      "\n",
      "              precision    recall  f1-score   support\n",
      "\n",
      "           1       0.78      0.77      0.77     18271\n",
      "           2       0.61      0.56      0.58     12762\n",
      "           3       0.26      0.29      0.27      1480\n",
      "           4       0.00      0.09      0.00        11\n",
      "           5       0.00      0.00      0.00         0\n",
      "           6       0.00      0.00      0.00         0\n",
      "\n",
      "    accuracy                           0.66     32524\n",
      "   macro avg       0.27      0.28      0.27     32524\n",
      "weighted avg       0.69      0.66      0.68     32524\n",
      "\n",
      "\n",
      "================================================\n",
      "\n",
      "Matriz de confusión (sobre conjunto de evaluación) para gini\n",
      "[[13979  4084   159    24     7    18]\n",
      " [ 3776  7113  1089   337    85   362]\n",
      " [   71   531   433   168    43   234]\n",
      " [    0     4     5     1     0     1]\n",
      " [    0     0     0     0     0     0]\n",
      " [    0     0     0     0     0     0]]\n",
      "================================================\n",
      "\n",
      "Reporte de clasificación para el mejor clasificador (sobre conjunto de entrenamiento):\n",
      "\n"
     ]
    },
    {
     "name": "stderr",
     "output_type": "stream",
     "text": [
      "/usr/local/lib/python3.6/dist-packages/sklearn/metrics/classification.py:1439: UndefinedMetricWarning: Recall and F-score are ill-defined and being set to 0.0 in labels with no true samples.\n",
      "  'recall', 'true', average, warn_for)\n"
     ]
    },
    {
     "name": "stdout",
     "output_type": "stream",
     "text": [
      "              precision    recall  f1-score   support\n",
      "\n",
      "           1       0.68      0.77      0.72     76577\n",
      "           2       0.62      0.66      0.64     94541\n",
      "           3       0.48      0.37      0.42     46951\n",
      "           4       0.39      0.31      0.34     30292\n",
      "           5       0.45      0.17      0.25     22873\n",
      "           6       0.60      0.79      0.68     50195\n",
      "\n",
      "    accuracy                           0.60    321429\n",
      "   macro avg       0.54      0.51      0.51    321429\n",
      "weighted avg       0.58      0.60      0.58    321429\n",
      "\n",
      "\n",
      "================================================\n",
      "\n",
      "Matriz de confusión (sobre conjunto de evaluación) para gini\n",
      "[[58620 17091   595   126    18   127]\n",
      " [22201 62541  6156  1555   336  1752]\n",
      " [ 3828 15445 17372  4297   934  5075]\n",
      " [  739  3592  5942  9283  1523  9213]\n",
      " [  175  1144  2907  4167  3950 10530]\n",
      " [  187  1011  2930  4308  2078 39681]]\n",
      "================================================\n",
      "\n",
      "Accuracy on test is  66.1849710982659\n",
      "Accuracy on training is  59.561209473942924\n",
      "================================================\n",
      "\n",
      "# Exploración de hiperparámetros para función criterion \"entropy\"\n",
      "\n",
      "Mejor conjunto de parámetros:\n",
      "{'max_depth': 20, 'min_samples_leaf': 4}\n",
      "\n",
      "Puntajes de la grilla:\n",
      "\n",
      "Exactitud: 0.526 (+/-0.000) para los parámetros {'max_depth': 20, 'min_samples_leaf': 2}\n",
      "Exactitud: 0.527 (+/-0.000) para los parámetros {'max_depth': 20, 'min_samples_leaf': 3}\n",
      "Exactitud: 0.529 (+/-0.000) para los parámetros {'max_depth': 20, 'min_samples_leaf': 4}\n",
      "Exactitud: 0.523 (+/-0.000) para los parámetros {'max_depth': 21, 'min_samples_leaf': 2}\n",
      "Exactitud: 0.525 (+/-0.000) para los parámetros {'max_depth': 21, 'min_samples_leaf': 3}\n",
      "Exactitud: 0.527 (+/-0.000) para los parámetros {'max_depth': 21, 'min_samples_leaf': 4}\n",
      "Exactitud: 0.522 (+/-0.000) para los parámetros {'max_depth': 22, 'min_samples_leaf': 2}\n",
      "Exactitud: 0.524 (+/-0.000) para los parámetros {'max_depth': 22, 'min_samples_leaf': 3}\n",
      "Exactitud: 0.526 (+/-0.000) para los parámetros {'max_depth': 22, 'min_samples_leaf': 4}\n",
      "\n",
      "Reporte de clasificación para el mejor clasificador (sobre conjunto de evaluación):\n",
      "\n",
      "              precision    recall  f1-score   support\n",
      "\n",
      "           1       0.78      0.76      0.77     18271\n",
      "           2       0.60      0.55      0.57     12762\n",
      "           3       0.26      0.31      0.28      1480\n",
      "           4       0.00      0.09      0.00        11\n",
      "           5       0.00      0.00      0.00         0\n",
      "           6       0.00      0.00      0.00         0\n",
      "\n",
      "    accuracy                           0.66     32524\n",
      "   macro avg       0.27      0.28      0.27     32524\n",
      "weighted avg       0.68      0.66      0.67     32524\n",
      "\n",
      "\n",
      "================================================\n",
      "\n",
      "Matriz de confusión (sobre conjunto de evaluación) para entropy\n",
      "[[13861  4192   166    24     7    21]\n",
      " [ 3863  7008  1150   323    76   342]\n",
      " [   74   512   456   161    38   239]\n",
      " [    1     3     5     1     0     1]\n",
      " [    0     0     0     0     0     0]\n",
      " [    0     0     0     0     0     0]]\n",
      "================================================\n",
      "\n",
      "Reporte de clasificación para el mejor clasificador (sobre conjunto de entrenamiento):\n",
      "\n"
     ]
    },
    {
     "name": "stderr",
     "output_type": "stream",
     "text": [
      "/usr/local/lib/python3.6/dist-packages/sklearn/metrics/classification.py:1439: UndefinedMetricWarning: Recall and F-score are ill-defined and being set to 0.0 in labels with no true samples.\n",
      "  'recall', 'true', average, warn_for)\n"
     ]
    },
    {
     "name": "stdout",
     "output_type": "stream",
     "text": [
      "              precision    recall  f1-score   support\n",
      "\n",
      "           1       0.68      0.77      0.72     76577\n",
      "           2       0.62      0.66      0.64     94541\n",
      "           3       0.48      0.37      0.42     46951\n",
      "           4       0.41      0.29      0.34     30292\n",
      "           5       0.44      0.16      0.24     22873\n",
      "           6       0.59      0.80      0.68     50195\n",
      "\n",
      "    accuracy                           0.60    321429\n",
      "   macro avg       0.54      0.51      0.51    321429\n",
      "weighted avg       0.58      0.60      0.58    321429\n",
      "\n",
      "\n",
      "================================================\n",
      "\n",
      "Matriz de confusión (sobre conjunto de evaluación) para entropy\n",
      "[[58878 16837   597   113    25   127]\n",
      " [22360 62514  6060  1434   333  1840]\n",
      " [ 3810 15501 17597  3771   916  5356]\n",
      " [  745  3600  6105  8828  1417  9597]\n",
      " [  176  1155  3082  3760  3765 10935]\n",
      " [  179  1027  3135  3811  2008 40035]]\n",
      "================================================\n",
      "\n",
      "Accuracy on test is  65.57004058541385\n",
      "Accuracy on training is  59.614098292313386\n",
      "================================================\n",
      "\n"
     ]
    }
   ],
   "source": [
    "for idx, criterion in enumerate(('gini','entropy'),start=1):\n",
    "    exploring_params = {\n",
    "        \"max_depth\" :  [20, 21, 22],\n",
    "        \"min_samples_leaf\" : [2,3,4]\n",
    "    }\n",
    "    m = tree.DecisionTreeClassifier(criterion=criterion)\n",
    "    model = GridSearchCV(m, exploring_params, cv=5, scoring='accuracy') #cv se le especifica el 5-fold cross validation\n",
    "    model.fit(X_train, y_train[\"shipment_days_byclass\"])\n",
    "    print(\"# Exploración de hiperparámetros para función criterion \\\"%s\\\"\" % criterion, end=\"\\n\\n\")\n",
    "    \n",
    "    print(\"Mejor conjunto de parámetros:\")\n",
    "    print(model.best_params_, end=\"\\n\\n\")\n",
    "    \n",
    "    print(\"Puntajes de la grilla:\", end=\"\\n\\n\")\n",
    "    means = model.cv_results_['mean_test_score']\n",
    "    stds = model.cv_results_['std_test_score']\n",
    "    \n",
    "    for mean, std, params in zip(means, stds, model.cv_results_['params']):\n",
    "        print(\"Exactitud: %0.3f (+/-%0.03f) para los parámetros %r\" % (mean, std ** 2, params))\n",
    "    print()\n",
    "    \n",
    "    print(\"Reporte de clasificación para el mejor clasificador (sobre conjunto de evaluación):\", end=\"\\n\\n\")\n",
    "    y_true, y_pred = y_test[\"shipment_days_byclass\"], model.predict(X_test)\n",
    "    print(classification_report(y_true, y_pred), end=\"\\n\\n\")\n",
    "    \n",
    "    print(\"================================================\", end=\"\\n\\n\")\n",
    "    print(\"Matriz de confusión (sobre conjunto de evaluación) para %s\" % criterion)\n",
    "    print(confusion_matrix(y_true, y_pred))                          \n",
    "    \n",
    "    print(\"================================================\", end=\"\\n\\n\")\n",
    "    \n",
    "    print(\"Reporte de clasificación para el mejor clasificador (sobre conjunto de entrenamiento):\", end=\"\\n\\n\")\n",
    "    y_true_t, y_pred_t = y_train[\"shipment_days_byclass\"], model.predict(X_train)\n",
    "    print(classification_report(y_true_t, y_pred_t), end=\"\\n\\n\")\n",
    "    \n",
    "    print(\"================================================\", end=\"\\n\\n\") \n",
    "    print(\"Matriz de confusión (sobre conjunto de evaluación) para %s\" % criterion)\n",
    "    print(confusion_matrix(y_true_t, y_pred_t))\n",
    "    \n",
    "    \n",
    "    print(\"================================================\", end=\"\\n\\n\")    \n",
    "    print (\"Accuracy on test is \", accuracy_score(y_test[\"shipment_days_byclass\"], y_pred)*100)\n",
    "    print (\"Accuracy on training is \", accuracy_score(y_train[\"shipment_days_byclass\"], y_pred_t)*100)\n",
    "    \n",
    "    print(\"================================================\", end=\"\\n\\n\")    \n",
    "  "
   ]
  },
  {
   "cell_type": "markdown",
   "metadata": {
    "colab_type": "text",
    "id": "33uIKCOKk6kS"
   },
   "source": [
    "De acuerdo a los accuraccy obtenidos entre las funciones \"gini\" y \"entropy\", nos estaría dando un mejor resultado para gini. Con los parámetros 'max_depth': 20, 'min_samples_leaf': 4, dónde min_samples_leaf es el número mínimo de muestra requerido para ser un nodo hoja. Y max_depth es la máxima profundidad del árbol, si  no se especifica los nodos serán expandidos hasta que las hojas sea puras, o hasta que todas las hojas contengan menos registros que min_samples_split.\n",
    "\n",
    "\n",
    "Comparando los resultados sin hiperparámetros donde obteníamos 63. y 63. para los datos de entrenamiento y  validación, con los mejores obtenidos para gini con valores en 66 y 59.5 para entrenamiento y validación, podemos concluir que no obtuvimos una mejora significativa."
   ]
  },
  {
   "cell_type": "markdown",
   "metadata": {
    "colab_type": "text",
    "id": "o93kKM26ZpWR"
   },
   "source": [
    "###Regresion Polinomial"
   ]
  },
  {
   "cell_type": "markdown",
   "metadata": {
    "colab_type": "text",
    "id": "xRNFQumyJUYx"
   },
   "source": [
    "Habiendo probado un modelo de clasificación, intentaremos usar un modelo de regresión y observar si los resultados entre ambos enfoques son comparables. Recordemos que en este caso el target es una variable numérica.\n",
    "\n",
    "Consideramos los mismos conjuntos de entrenamiento y validación que los usados en Decisión Tree."
   ]
  },
  {
   "cell_type": "code",
   "execution_count": 0,
   "metadata": {
    "colab": {
     "base_uri": "https://localhost:8080/",
     "height": 204
    },
    "colab_type": "code",
    "id": "bJ30695fJ8gM",
    "outputId": "b7ce3fa3-a290-46aa-cc48-d4ff1d7ea832"
   },
   "outputs": [
    {
     "data": {
      "text/html": [
       "<div>\n",
       "<style scoped>\n",
       "    .dataframe tbody tr th:only-of-type {\n",
       "        vertical-align: middle;\n",
       "    }\n",
       "\n",
       "    .dataframe tbody tr th {\n",
       "        vertical-align: top;\n",
       "    }\n",
       "\n",
       "    .dataframe thead th {\n",
       "        text-align: right;\n",
       "    }\n",
       "</style>\n",
       "<table border=\"1\" class=\"dataframe\">\n",
       "  <thead>\n",
       "    <tr style=\"text-align: right;\">\n",
       "      <th></th>\n",
       "      <th>receiver_zipcode</th>\n",
       "      <th>service</th>\n",
       "    </tr>\n",
       "  </thead>\n",
       "  <tbody>\n",
       "    <tr>\n",
       "      <th>363793</th>\n",
       "      <td>38082</td>\n",
       "      <td>1</td>\n",
       "    </tr>\n",
       "    <tr>\n",
       "      <th>487896</th>\n",
       "      <td>37002</td>\n",
       "      <td>1</td>\n",
       "    </tr>\n",
       "    <tr>\n",
       "      <th>451311</th>\n",
       "      <td>4012</td>\n",
       "      <td>0</td>\n",
       "    </tr>\n",
       "    <tr>\n",
       "      <th>229723</th>\n",
       "      <td>45608</td>\n",
       "      <td>6</td>\n",
       "    </tr>\n",
       "    <tr>\n",
       "      <th>238215</th>\n",
       "      <td>83252</td>\n",
       "      <td>1</td>\n",
       "    </tr>\n",
       "  </tbody>\n",
       "</table>\n",
       "</div>"
      ],
      "text/plain": [
       "        receiver_zipcode  service\n",
       "363793             38082        1\n",
       "487896             37002        1\n",
       "451311              4012        0\n",
       "229723             45608        6\n",
       "238215             83252        1"
      ]
     },
     "execution_count": 62,
     "metadata": {
      "tags": []
     },
     "output_type": "execute_result"
    }
   ],
   "source": [
    "X_train.sample(5)"
   ]
  },
  {
   "cell_type": "code",
   "execution_count": 0,
   "metadata": {
    "colab": {
     "base_uri": "https://localhost:8080/",
     "height": 204
    },
    "colab_type": "code",
    "id": "MxcyAB5hKaO_",
    "outputId": "814715aa-028c-488f-9413-e195fd244cac"
   },
   "outputs": [
    {
     "data": {
      "text/html": [
       "<div>\n",
       "<style scoped>\n",
       "    .dataframe tbody tr th:only-of-type {\n",
       "        vertical-align: middle;\n",
       "    }\n",
       "\n",
       "    .dataframe tbody tr th {\n",
       "        vertical-align: top;\n",
       "    }\n",
       "\n",
       "    .dataframe thead th {\n",
       "        text-align: right;\n",
       "    }\n",
       "</style>\n",
       "<table border=\"1\" class=\"dataframe\">\n",
       "  <thead>\n",
       "    <tr style=\"text-align: right;\">\n",
       "      <th></th>\n",
       "      <th>receiver_zipcode</th>\n",
       "      <th>service</th>\n",
       "    </tr>\n",
       "  </thead>\n",
       "  <tbody>\n",
       "    <tr>\n",
       "      <th>195911</th>\n",
       "      <td>6065</td>\n",
       "      <td>8</td>\n",
       "    </tr>\n",
       "    <tr>\n",
       "      <th>14239</th>\n",
       "      <td>71060</td>\n",
       "      <td>4</td>\n",
       "    </tr>\n",
       "    <tr>\n",
       "      <th>2279</th>\n",
       "      <td>29102</td>\n",
       "      <td>3</td>\n",
       "    </tr>\n",
       "    <tr>\n",
       "      <th>245647</th>\n",
       "      <td>18682</td>\n",
       "      <td>4</td>\n",
       "    </tr>\n",
       "    <tr>\n",
       "      <th>79223</th>\n",
       "      <td>12245</td>\n",
       "      <td>0</td>\n",
       "    </tr>\n",
       "  </tbody>\n",
       "</table>\n",
       "</div>"
      ],
      "text/plain": [
       "        receiver_zipcode  service\n",
       "195911              6065        8\n",
       "14239              71060        4\n",
       "2279               29102        3\n",
       "245647             18682        4\n",
       "79223              12245        0"
      ]
     },
     "execution_count": 63,
     "metadata": {
      "tags": []
     },
     "output_type": "execute_result"
    }
   ],
   "source": [
    "X_test.sample(5)"
   ]
  },
  {
   "cell_type": "code",
   "execution_count": 0,
   "metadata": {
    "colab": {
     "base_uri": "https://localhost:8080/",
     "height": 119
    },
    "colab_type": "code",
    "id": "Tw00dF0FKqEM",
    "outputId": "9a05b39f-be7f-46f3-d0f6-efcf3c188b96"
   },
   "outputs": [
    {
     "data": {
      "text/plain": [
       "468550    21.0\n",
       "176198    16.0\n",
       "213455     2.0\n",
       "167772     4.0\n",
       "434091     4.0\n",
       "Name: shipment_days, dtype: float64"
      ]
     },
     "execution_count": 64,
     "metadata": {
      "tags": []
     },
     "output_type": "execute_result"
    }
   ],
   "source": [
    "y_train['shipment_days'].sample(5)"
   ]
  },
  {
   "cell_type": "code",
   "execution_count": 0,
   "metadata": {
    "colab": {
     "base_uri": "https://localhost:8080/",
     "height": 119
    },
    "colab_type": "code",
    "id": "26ONry0KKwhb",
    "outputId": "b75dfecc-b3cc-4e2f-f0c2-719dc7e5a64c"
   },
   "outputs": [
    {
     "data": {
      "text/plain": [
       "9980      1.0\n",
       "27514     1.0\n",
       "174073    0.0\n",
       "134351    1.0\n",
       "36123     1.0\n",
       "Name: shipment_days, dtype: float64"
      ]
     },
     "execution_count": 65,
     "metadata": {
      "tags": []
     },
     "output_type": "execute_result"
    }
   ],
   "source": [
    "y_test['shipment_days'].sample(5)"
   ]
  },
  {
   "cell_type": "markdown",
   "metadata": {
    "colab_type": "text",
    "id": "UstLb6zTYxl0"
   },
   "source": [
    "Vamos probar diferentes grados de polinomio (desde uno lineal hasta uno de grado 8) y compararemos la media del error cuadrático en cada uno de los conjuntos de entrenamiento y validación para determinar el mejor ajuste posible."
   ]
  },
  {
   "cell_type": "code",
   "execution_count": 0,
   "metadata": {
    "colab": {},
    "colab_type": "code",
    "id": "UZ86euOSz_nb"
   },
   "outputs": [],
   "source": [
    "X_train_pol = X_train\n",
    "X_test_pol = X_test\n",
    "y_train_pol = y_train['shipment_days']\n",
    "y_test_pol = y_test['shipment_days']"
   ]
  },
  {
   "cell_type": "markdown",
   "metadata": {
    "colab_type": "text",
    "id": "ef5o2PmaZX7L"
   },
   "source": [
    "#### Regresión lineal"
   ]
  },
  {
   "cell_type": "code",
   "execution_count": 0,
   "metadata": {
    "colab": {
     "base_uri": "https://localhost:8080/",
     "height": 51
    },
    "colab_type": "code",
    "id": "X55t3MRCTpa7",
    "outputId": "e2311342-f43f-4447-c1f6-ef1719b02e67"
   },
   "outputs": [
    {
     "name": "stdout",
     "output_type": "stream",
     "text": [
      "Media del error cuadrado para entrenamiento: 16.11\n",
      "Media del error cuadrado para validación: 7.63\n"
     ]
    }
   ],
   "source": [
    "model = LinearRegression()\n",
    "model.fit(X_train_pol, y_train_pol)\n",
    "\n",
    "entrenamiento1 = mean_squared_error(y_train_pol, model.predict(X_train_pol))\n",
    "validacion1 = mean_squared_error(y_test_pol, model.predict(X_test_pol))\n",
    "\n",
    "print('Media del error cuadrado para entrenamiento: %.2f' % \n",
    "      entrenamiento1)\n",
    "print('Media del error cuadrado para validación: %.2f' %\n",
    "      validacion1)"
   ]
  },
  {
   "cell_type": "markdown",
   "metadata": {
    "colab_type": "text",
    "id": "2YXwFw9WZciG"
   },
   "source": [
    "#### Polinomio cuadrático"
   ]
  },
  {
   "cell_type": "code",
   "execution_count": 0,
   "metadata": {
    "colab": {
     "base_uri": "https://localhost:8080/",
     "height": 51
    },
    "colab_type": "code",
    "id": "62fPbwmRzuGs",
    "outputId": "f75a7f69-2452-445f-d41d-97a966ef4db0"
   },
   "outputs": [
    {
     "name": "stdout",
     "output_type": "stream",
     "text": [
      "Media del error cuadrado para entrenamiento: 14.16\n",
      "Media del error cuadrado para validación: 6.37\n"
     ]
    }
   ],
   "source": [
    "polynomial_degree = 2 \n",
    "\n",
    "poly_features = PolynomialFeatures(polynomial_degree)\n",
    "poly_features.fit(X_train_pol)\n",
    "\n",
    "X_poly_train = poly_features.transform(X_train_pol)\n",
    "X_poly_test = poly_features.transform(X_test_pol)\n",
    "\n",
    "model = LinearRegression()\n",
    "model.fit(X_poly_train, y_train_pol)\n",
    "\n",
    "entrenamiento2= mean_squared_error(y_train_pol, model.predict(X_poly_train))\n",
    "validacion2= mean_squared_error(y_test_pol, model.predict(X_poly_test))\n",
    "\n",
    "print('Media del error cuadrado para entrenamiento: %.2f' % \n",
    "      entrenamiento2)\n",
    "print('Media del error cuadrado para validación: %.2f' %\n",
    "      validacion2)"
   ]
  },
  {
   "cell_type": "markdown",
   "metadata": {
    "colab_type": "text",
    "id": "vaGV2dXnZgbv"
   },
   "source": [
    "#### Polinomio cúbico"
   ]
  },
  {
   "cell_type": "code",
   "execution_count": 0,
   "metadata": {
    "colab": {
     "base_uri": "https://localhost:8080/",
     "height": 51
    },
    "colab_type": "code",
    "id": "B_eEwEhZ05qp",
    "outputId": "995e73dd-a16a-4602-89a7-8b9785c06710"
   },
   "outputs": [
    {
     "name": "stdout",
     "output_type": "stream",
     "text": [
      "Media del error cuadrado para entrenamiento: 11.60\n",
      "Media del error cuadrado para validación: 5.04\n"
     ]
    }
   ],
   "source": [
    "polynomial_degree = 3 \n",
    "\n",
    "poly_features = PolynomialFeatures(polynomial_degree)\n",
    "poly_features.fit(X_train_pol)\n",
    "\n",
    "X_poly_train = poly_features.transform(X_train_pol)\n",
    "X_poly_test = poly_features.transform(X_test_pol)\n",
    "\n",
    "model = LinearRegression()\n",
    "model.fit(X_poly_train, y_train_pol)\n",
    "\n",
    "entrenamiento3= mean_squared_error(y_train_pol, model.predict(X_poly_train))\n",
    "validacion3= mean_squared_error(y_test_pol, model.predict(X_poly_test))\n",
    "\n",
    "print('Media del error cuadrado para entrenamiento: %.2f' % \n",
    "      entrenamiento3)\n",
    "print('Media del error cuadrado para validación: %.2f' %\n",
    "      validacion3)"
   ]
  },
  {
   "cell_type": "markdown",
   "metadata": {
    "colab_type": "text",
    "id": "1HYonQz8ZjhU"
   },
   "source": [
    "#### Polinomio de grado 4"
   ]
  },
  {
   "cell_type": "code",
   "execution_count": 0,
   "metadata": {
    "colab": {
     "base_uri": "https://localhost:8080/",
     "height": 51
    },
    "colab_type": "code",
    "id": "xxTI9Jzk0-og",
    "outputId": "51f39281-0863-4a6e-9656-43be204c1a84"
   },
   "outputs": [
    {
     "name": "stdout",
     "output_type": "stream",
     "text": [
      "Media del error cuadrado para entrenamiento: 11.38\n",
      "Media del error cuadrado para validación: 4.27\n"
     ]
    }
   ],
   "source": [
    "polynomial_degree = 4 \n",
    "\n",
    "poly_features = PolynomialFeatures(polynomial_degree)\n",
    "poly_features.fit(X_train_pol)\n",
    "\n",
    "X_poly_train = poly_features.transform(X_train_pol)\n",
    "X_poly_test = poly_features.transform(X_test_pol)\n",
    "\n",
    "model = LinearRegression()\n",
    "model.fit(X_poly_train, y_train_pol)\n",
    "\n",
    "entrenamiento4= mean_squared_error(y_train_pol, model.predict(X_poly_train))\n",
    "validacion4= mean_squared_error(y_test_pol, model.predict(X_poly_test))\n",
    "\n",
    "print('Media del error cuadrado para entrenamiento: %.2f' % \n",
    "      entrenamiento4)\n",
    "print('Media del error cuadrado para validación: %.2f' %\n",
    "      validacion4)"
   ]
  },
  {
   "cell_type": "markdown",
   "metadata": {
    "colab_type": "text",
    "id": "3ixmsd33Znfy"
   },
   "source": [
    "#### Polinomio de grado 5"
   ]
  },
  {
   "cell_type": "code",
   "execution_count": 0,
   "metadata": {
    "colab": {
     "base_uri": "https://localhost:8080/",
     "height": 51
    },
    "colab_type": "code",
    "id": "jKEPu1AJ1Aws",
    "outputId": "d48dd080-ac6e-4162-a230-fc0af04a19d1"
   },
   "outputs": [
    {
     "name": "stdout",
     "output_type": "stream",
     "text": [
      "Media del error cuadrado para entrenamiento: 12.01\n",
      "Media del error cuadrado para validación: 4.68\n"
     ]
    }
   ],
   "source": [
    "polynomial_degree = 5\n",
    "\n",
    "poly_features = PolynomialFeatures(polynomial_degree)\n",
    "poly_features.fit(X_train_pol)\n",
    "\n",
    "X_poly_train = poly_features.transform(X_train_pol)\n",
    "X_poly_test = poly_features.transform(X_test_pol)\n",
    "\n",
    "model = LinearRegression()\n",
    "model.fit(X_poly_train, y_train_pol)\n",
    "\n",
    "entrenamiento5= mean_squared_error(y_train_pol, model.predict(X_poly_train))\n",
    "validacion5= mean_squared_error(y_test_pol, model.predict(X_poly_test))\n",
    "\n",
    "print('Media del error cuadrado para entrenamiento: %.2f' % \n",
    "      entrenamiento5)\n",
    "print('Media del error cuadrado para validación: %.2f' %\n",
    "      validacion5)"
   ]
  },
  {
   "cell_type": "markdown",
   "metadata": {
    "colab_type": "text",
    "id": "7V3C6i53ZqhU"
   },
   "source": [
    "#### Polinomio de grado 6"
   ]
  },
  {
   "cell_type": "code",
   "execution_count": 0,
   "metadata": {
    "colab": {
     "base_uri": "https://localhost:8080/",
     "height": 51
    },
    "colab_type": "code",
    "id": "uSpcajnQ1Hhs",
    "outputId": "f104a787-f611-4598-bb80-aecba85126ee"
   },
   "outputs": [
    {
     "name": "stdout",
     "output_type": "stream",
     "text": [
      "Media del error cuadrado para entrenamiento: 12.66\n",
      "Media del error cuadrado para validación: 5.04\n"
     ]
    }
   ],
   "source": [
    "polynomial_degree = 6\n",
    "\n",
    "poly_features = PolynomialFeatures(polynomial_degree)\n",
    "poly_features.fit(X_train_pol)\n",
    "\n",
    "X_poly_train = poly_features.transform(X_train_pol)\n",
    "X_poly_test = poly_features.transform(X_test_pol)\n",
    "\n",
    "model = LinearRegression()\n",
    "model.fit(X_poly_train, y_train_pol)\n",
    "\n",
    "entrenamiento6= mean_squared_error(y_train_pol, model.predict(X_poly_train))\n",
    "validacion6= mean_squared_error(y_test_pol, model.predict(X_poly_test))\n",
    "\n",
    "print('Media del error cuadrado para entrenamiento: %.2f' % \n",
    "      entrenamiento6)\n",
    "print('Media del error cuadrado para validación: %.2f' %\n",
    "      validacion6)"
   ]
  },
  {
   "cell_type": "markdown",
   "metadata": {
    "colab_type": "text",
    "id": "l05MqLVhZuAJ"
   },
   "source": [
    "#### Polinomio de grado 7"
   ]
  },
  {
   "cell_type": "code",
   "execution_count": 0,
   "metadata": {
    "colab": {
     "base_uri": "https://localhost:8080/",
     "height": 51
    },
    "colab_type": "code",
    "id": "ITc1nEkW1K1M",
    "outputId": "42e1b20d-19c6-443f-b276-f61a48ae97fc"
   },
   "outputs": [
    {
     "name": "stdout",
     "output_type": "stream",
     "text": [
      "Media del error cuadrado para entrenamiento: 13.64\n",
      "Media del error cuadrado para validación: 5.81\n"
     ]
    }
   ],
   "source": [
    "polynomial_degree = 7\n",
    "\n",
    "poly_features = PolynomialFeatures(polynomial_degree)\n",
    "poly_features.fit(X_train_pol)\n",
    "\n",
    "X_poly_train = poly_features.transform(X_train_pol)\n",
    "X_poly_test = poly_features.transform(X_test_pol)\n",
    "\n",
    "model = LinearRegression()\n",
    "model.fit(X_poly_train, y_train_pol)\n",
    "\n",
    "entrenamiento7= mean_squared_error(y_train_pol, model.predict(X_poly_train))\n",
    "validacion7= mean_squared_error(y_test_pol, model.predict(X_poly_test))\n",
    "\n",
    "print('Media del error cuadrado para entrenamiento: %.2f' % \n",
    "      entrenamiento7)\n",
    "print('Media del error cuadrado para validación: %.2f' %\n",
    "      validacion7)"
   ]
  },
  {
   "cell_type": "markdown",
   "metadata": {
    "colab_type": "text",
    "id": "5cLsYcVpZzVT"
   },
   "source": [
    "#### Polinomio de grado 8"
   ]
  },
  {
   "cell_type": "code",
   "execution_count": 0,
   "metadata": {
    "colab": {
     "base_uri": "https://localhost:8080/",
     "height": 51
    },
    "colab_type": "code",
    "id": "R8f934t73x3s",
    "outputId": "aa78fd28-d2ba-492c-e552-91f6d2c2ca66"
   },
   "outputs": [
    {
     "name": "stdout",
     "output_type": "stream",
     "text": [
      "Media del error cuadrado para entrenamiento: 14.61\n",
      "Media del error cuadrado para validación: 6.63\n"
     ]
    }
   ],
   "source": [
    "polynomial_degree = 8\n",
    "\n",
    "poly_features = PolynomialFeatures(polynomial_degree)\n",
    "poly_features.fit(X_train_pol)\n",
    "\n",
    "X_poly_train = poly_features.transform(X_train_pol)\n",
    "X_poly_test = poly_features.transform(X_test_pol)\n",
    "\n",
    "model = LinearRegression()\n",
    "model.fit(X_poly_train, y_train_pol)\n",
    "\n",
    "entrenamiento8= mean_squared_error(y_train_pol, model.predict(X_poly_train))\n",
    "validacion8= mean_squared_error(y_test_pol, model.predict(X_poly_test))\n",
    "\n",
    "print('Media del error cuadrado para entrenamiento: %.2f' % \n",
    "      entrenamiento8)\n",
    "print('Media del error cuadrado para validación: %.2f' %\n",
    "      validacion8)"
   ]
  },
  {
   "cell_type": "markdown",
   "metadata": {
    "colab_type": "text",
    "id": "KNGXTOYEZ5AN"
   },
   "source": [
    "Realizamos una visualización con esta información para determinar cual es el polinomio que mejor puede aproximar nuestros datos."
   ]
  },
  {
   "cell_type": "code",
   "execution_count": 0,
   "metadata": {
    "colab": {},
    "colab_type": "code",
    "id": "-hxIe2wy46hL"
   },
   "outputs": [],
   "source": [
    "x=[1,2,3,4,5,6,7,8] #grados del polinomio\n",
    "y1=[entrenamiento1, entrenamiento2,entrenamiento3, entrenamiento4, entrenamiento5,\n",
    "  entrenamiento6, entrenamiento7, entrenamiento8] #error en el conjunto de entrenamiento\n",
    "y2=[validacion1,validacion2,validacion3,validacion4,validacion5,\n",
    "   validacion6,validacion7,validacion8] #error en el conjunto de validación"
   ]
  },
  {
   "cell_type": "code",
   "execution_count": 0,
   "metadata": {
    "colab": {
     "base_uri": "https://localhost:8080/",
     "height": 338
    },
    "colab_type": "code",
    "id": "Op-0F1V6787r",
    "outputId": "28e1074c-a667-40b0-f831-f205439750e6"
   },
   "outputs": [
    {
     "data": {
      "image/png": "[encoded data removed]",
      "text/plain": [
       "<Figure size 576x360 with 1 Axes>"
      ]
     },
     "metadata": {
      "tags": []
     },
     "output_type": "display_data"
    }
   ],
   "source": [
    "plt.figure(figsize=(8,5))\n",
    "\n",
    "sns.lineplot(x, y1, label='Entrenamiento')\n",
    "sns.lineplot(x, y2, label= 'Validación')\n",
    "\n",
    "plt.ylabel('Media del error cuadrático')\n",
    "plt.xlabel('Grado del polinomio en la regresión')\n",
    "plt.grid()\n",
    "sns.despine()"
   ]
  },
  {
   "cell_type": "markdown",
   "metadata": {
    "colab_type": "text",
    "id": "BMurEYkGbNwu"
   },
   "source": [
    "Observamos que el polinomio de grado 4 podría ser una buena elección puesto que observamos que para este valor el error cuadrático se minimiza (tanto en el conjunto de validación como en el entrenamiento)."
   ]
  },
  {
   "cell_type": "markdown",
   "metadata": {
    "colab_type": "text",
    "id": "8QeSLDDuaTlI"
   },
   "source": [
    "**Visualización de los resultados de entrenamiento usando un solo feature**  \n",
    "\n",
    "A continuación con el objetivo de mostrar una visualización del ajuste de los datos, vamos a seleccionar un solo feature (receiver_zipcode) para entrenar el modelo con una regresión polinomial de grado 4 (el mejor ajuste hasta el momento)."
   ]
  },
  {
   "cell_type": "code",
   "execution_count": 0,
   "metadata": {
    "colab": {},
    "colab_type": "code",
    "id": "Kgmi-dh4Z_d6"
   },
   "outputs": [],
   "source": [
    "X_train_pol = np.array(X_train['receiver_zipcode']).reshape(-1,1)"
   ]
  },
  {
   "cell_type": "code",
   "execution_count": 0,
   "metadata": {
    "colab": {},
    "colab_type": "code",
    "id": "Lvw0ZZFnaPQV"
   },
   "outputs": [],
   "source": [
    "X_test_pol = np.array (X_test['receiver_zipcode']).reshape(-1,1)"
   ]
  },
  {
   "cell_type": "code",
   "execution_count": 0,
   "metadata": {
    "colab": {},
    "colab_type": "code",
    "id": "dYxe16Sdajij"
   },
   "outputs": [],
   "source": [
    "y_train_pol = np.array(y_train['shipment_days']).reshape(-1,1)"
   ]
  },
  {
   "cell_type": "code",
   "execution_count": 0,
   "metadata": {
    "colab": {},
    "colab_type": "code",
    "id": "Dti79tmCavSf"
   },
   "outputs": [],
   "source": [
    "y_test_pol = np.array(y_test['shipment_days']).reshape(-1,1)"
   ]
  },
  {
   "cell_type": "markdown",
   "metadata": {
    "colab_type": "text",
    "id": "ssMsDSVVdAZR"
   },
   "source": [
    "Verificamos los tamaños de los conjuntos."
   ]
  },
  {
   "cell_type": "code",
   "execution_count": 0,
   "metadata": {
    "colab": {
     "base_uri": "https://localhost:8080/",
     "height": 34
    },
    "colab_type": "code",
    "id": "YxUaHNvca4_r",
    "outputId": "3add7908-5823-4958-825f-33bcc216a1e6"
   },
   "outputs": [
    {
     "data": {
      "text/plain": [
       "(321429, 1)"
      ]
     },
     "execution_count": 82,
     "metadata": {
      "tags": []
     },
     "output_type": "execute_result"
    }
   ],
   "source": [
    "X_train_pol.shape"
   ]
  },
  {
   "cell_type": "code",
   "execution_count": 0,
   "metadata": {
    "colab": {
     "base_uri": "https://localhost:8080/",
     "height": 34
    },
    "colab_type": "code",
    "id": "K0XgFwPIdId6",
    "outputId": "90712ffa-abfc-4a19-bb99-419005b07b25"
   },
   "outputs": [
    {
     "data": {
      "text/plain": [
       "(321429, 1)"
      ]
     },
     "execution_count": 81,
     "metadata": {
      "tags": []
     },
     "output_type": "execute_result"
    }
   ],
   "source": [
    "y_train_pol.shape"
   ]
  },
  {
   "cell_type": "code",
   "execution_count": 0,
   "metadata": {
    "colab": {
     "base_uri": "https://localhost:8080/",
     "height": 34
    },
    "colab_type": "code",
    "id": "kEgC2MyIdKzn",
    "outputId": "1438e79d-8f5a-48f0-ff67-d3f37ebd1187"
   },
   "outputs": [
    {
     "data": {
      "text/plain": [
       "(32524, 1)"
      ]
     },
     "execution_count": 83,
     "metadata": {
      "tags": []
     },
     "output_type": "execute_result"
    }
   ],
   "source": [
    "X_test_pol.shape"
   ]
  },
  {
   "cell_type": "code",
   "execution_count": 0,
   "metadata": {
    "colab": {
     "base_uri": "https://localhost:8080/",
     "height": 34
    },
    "colab_type": "code",
    "id": "NuqNtzORdNDF",
    "outputId": "555c1f8a-ed9a-4ff1-b0d7-e65a7ed275b4"
   },
   "outputs": [
    {
     "data": {
      "text/plain": [
       "(32524, 1)"
      ]
     },
     "execution_count": 84,
     "metadata": {
      "tags": []
     },
     "output_type": "execute_result"
    }
   ],
   "source": [
    "y_test_pol.shape"
   ]
  },
  {
   "cell_type": "code",
   "execution_count": 0,
   "metadata": {
    "colab": {
     "base_uri": "https://localhost:8080/",
     "height": 51
    },
    "colab_type": "code",
    "id": "4Uy5qCzfdPA0",
    "outputId": "d77ac9c2-5253-46ac-ff86-db3d8ddc5192"
   },
   "outputs": [
    {
     "name": "stdout",
     "output_type": "stream",
     "text": [
      "Media del error cuadrado para entrenamiento: 15.05\n",
      "Media del error cuadrado para validación: 6.47\n"
     ]
    }
   ],
   "source": [
    "polynomial_degree = 4\n",
    "\n",
    "poly_features = PolynomialFeatures(polynomial_degree)\n",
    "poly_features.fit(X_train_pol)\n",
    "\n",
    "X_poly_train = poly_features.transform(X_train_pol)\n",
    "X_poly_test = poly_features.transform(X_test_pol)\n",
    "\n",
    "model = LinearRegression()\n",
    "model.fit(X_poly_train, y_train_pol)\n",
    "\n",
    "print('Media del error cuadrado para entrenamiento: %.2f' % \n",
    "      mean_squared_error(y_train_pol, model.predict(X_poly_train)))\n",
    "print('Media del error cuadrado para validación: %.2f' %\n",
    "      mean_squared_error(y_test_pol, model.predict(X_poly_test)))"
   ]
  },
  {
   "cell_type": "code",
   "execution_count": 0,
   "metadata": {
    "colab": {
     "base_uri": "https://localhost:8080/",
     "height": 369
    },
    "colab_type": "code",
    "id": "PosEaK7wiVTV",
    "outputId": "80454b99-8086-478b-81ed-cd7c5677fe76"
   },
   "outputs": [
    {
     "data": {
      "image/png": "[encoded data removed]",
      "text/plain": [
       "<Figure size 1120x400 with 2 Axes>"
      ]
     },
     "metadata": {
      "tags": []
     },
     "output_type": "display_data"
    }
   ],
   "source": [
    "plt.figure(figsize=(14, 5), dpi=80, facecolor='w', edgecolor='k')\n",
    "\n",
    "X_range_start = np.min(np.r_[X_train, X_test])\n",
    "X_range_stop = np.max(np.r_[X_train, X_test])\n",
    "\n",
    "y_range_start = np.min(np.r_[y_train, y_test])\n",
    "y_range_stop = np.max(np.r_[y_train, y_test])\n",
    "\n",
    "X_linspace = np.linspace(X_range_start, X_range_stop, 200).reshape(-1, 1)\n",
    "X_linspace_poly = poly_features.transform(X_linspace)\n",
    "\n",
    "# Conjunto de entrenamiento\n",
    "plt.subplot(1, 2, 1)\n",
    "plt.scatter(X_train_pol, y_train_pol, facecolor=\"dodgerblue\", edgecolor=\"k\", label=\"datos\")\n",
    "plt.plot(X_linspace, model.predict(X_linspace_poly), color=\"tomato\", label=\"modelo\")\n",
    "plt.ylim(y_range_start, y_range_stop)\n",
    "plt.title(\"Conjunto de Entrenamiento\")\n",
    "\n",
    "# Conjunto de validación\n",
    "plt.subplot(1, 2, 2)\n",
    "plt.scatter(X_test_pol, y_test_pol, facecolor=\"dodgerblue\", edgecolor=\"k\", label=\"datos\")\n",
    "plt.plot(X_linspace, model.predict(X_linspace_poly), color=\"tomato\", label=\"modelo\")\n",
    "plt.ylim(y_range_start, y_range_stop)\n",
    "plt.title(\"Conjunto de Validación\")\n",
    "\n",
    "plt.show()"
   ]
  },
  {
   "cell_type": "markdown",
   "metadata": {
    "colab_type": "text",
    "id": "inRZpdwAEVfN"
   },
   "source": [
    "De acuerdo a los resultados anteriores los errores sobre el conjunto de entrenamiento y validación son bastante altos. Esto también se evidencia en las visualizaciones donde la regresión polinomial no proporciona un buen ajuste de los datos. Sin embargo, dado que el conjunto de validación tiene muchos menos puntos resulta normal que la regresión en este caso tenga un error menor.\n",
    "\n",
    "\n"
   ]
  }
 ],
 "metadata": {
  "colab": {
   "collapsed_sections": [],
   "name": "practico3-Mentoria.ipynb",
   "provenance": [],
   "toc_visible": true,
   "version": "0.3.2"
  },
  "kernelspec": {
   "display_name": "Python 3",
   "language": "python",
   "name": "python3"
  },
  "language_info": {
   "codemirror_mode": {
    "name": "ipython",
    "version": 3
   },
   "file_extension": ".py",
   "mimetype": "text/x-python",
   "name": "python",
   "nbconvert_exporter": "python",
   "pygments_lexer": "ipython3",
   "version": "3.7.1"
  }
 },
 "nbformat": 4,
 "nbformat_minor": 1
}
