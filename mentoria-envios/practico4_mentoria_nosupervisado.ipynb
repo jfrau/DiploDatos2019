{
  "nbformat": 4,
  "nbformat_minor": 0,
  "metadata": {
    "colab": {
      "name": "practico4.ipynb",
      "provenance": [],
      "collapsed_sections": [],
      "machine_shape": "hm"
    },
    "kernelspec": {
      "display_name": "Python 3",
      "language": "python",
      "name": "python3"
    },
    "language_info": {
      "codemirror_mode": {
        "name": "ipython",
        "version": 3
      },
      "file_extension": ".py",
      "mimetype": "text/x-python",
      "name": "python",
      "nbconvert_exporter": "python",
      "pygments_lexer": "ipython3",
      "version": "3.6.8"
    }
  },
  "cells": [
    {
      "cell_type": "markdown",
      "metadata": {
        "colab_type": "text",
        "id": "UK2eYuMWUX0P"
      },
      "source": [
        "# Logística de envíos: ¿Cuándo llega?\n",
        "\n",
        "## Mentoría DiploDatos 2019 \n",
        "\n",
        "### Integrantes:\n",
        "\n",
        "- Chaves, Noelia\n",
        "- Frau, Johanna\n",
        "\n",
        "### Mentora:\n",
        "\n",
        "- Dal Lago, Virginia\n",
        "\n",
        "### Práctico: Introducción al aprendizaje automático"
      ]
    },
    {
      "cell_type": "markdown",
      "metadata": {
        "colab_type": "text",
        "id": "DQguL3wiUX0R"
      },
      "source": [
        "## Motivación\n",
        "\n",
        "En la actualidad, cada vez más productos se comercializan a través de una plataforma online. Una de las principales ventajas de este sistema es que el usuario puede recibir el producto en su domicilio en una fecha determinada. Pero, ¿cómo sabemos qué día va a llegar? ¿A partir de qué datos podemos predecir la demora del envío? En este práctico se trabajará con datos de envíos de MercadoLibre, el e-commerce más grande de Latinoamérica, analizando y modelando el problema de logística de envíos para poder responder ¿cuándo llega?\n",
        "\n",
        "## Descripción del dataset\n",
        "\n",
        "**Datos:**  El conjunto de datos seleccionado para realizar el práctico corresponde a un muestreo aleatorio no uniforme de 500.000 envíos de MercadoLibre. Estos envíos fueron realizados en Brasil en el período comprendido entre Octubre de 2018 y Abril de 2019 (las fechas originales han sido modificadas y adaptadas a un período de tiempo diferente, conservando el día de la semana y considerando los feriados correspondientes). Mientras que las fechas han sido modificadas, los horarios registrados en el dataset son los originales. Los datos comprenden variables tanto categóricas como numéricas. \n",
        "\n",
        "El dataset cuenta con las siguientes columnas:\n",
        "\n",
        "- **Sender_state:** Estado de Brasil de donde sale el envío.\n",
        "- **Sender_zipcode:** Código postal (de 5 dígitos) de donde sale el envío.\n",
        "- **Receiver_state:** Estado de Brasil a donde llega el envío.\n",
        "- **Receiver_zipcode:** Código postal (de 5 dígitos) a donde llega el envío.\n",
        "- **Shipment_type:** Método de envío (normal, express, super).\n",
        "- **Quantity:** Cantidad de productos en un envío.\n",
        "- **Service:** Servicio del correo con el cual se realizó un envío.\n",
        "- **Status:** Estado del envío (set: listo para ser enviado, sent: enviado, done: entregado, failed: no entregado, cancelled: cancelado).\n",
        "- **Date_created:** Fecha de creación del envío.\n",
        "- **Date_sent:** Fecha y hora en que se realizó el envío (salió del correo).\n",
        "- **Date_visit:** Fecha y hora en que se entregó el envío al destinatario.\n",
        "- **Shipment_days:** Días hábiles entre que el envío fue enviado (salió del correo) y que fue entregado.\n",
        "\n",
        "\n"
      ]
    },
    {
      "cell_type": "markdown",
      "metadata": {
        "colab_type": "text",
        "id": "6C71choGUX0S"
      },
      "source": [
        "## Objetivos generales\n",
        "\n",
        "  "
      ]
    },
    {
      "cell_type": "markdown",
      "metadata": {
        "colab_type": "text",
        "id": "IiRvgazNUX0T"
      },
      "source": [
        "## Objetivos específicos\n",
        "* Emplear y calcular la performance de un modelo de aprendizaje supervisado de tipo             support vector machine, separando para ello en dos clases: envíos rápidos (demoran            menos de 3 días) y lentos (demoran 3 o más días). ¿Existen outliers? ¿Son los datos                linealmente separables? Si no lo son, ¿qué kernel creen se podría emplear para             realizar la proyección? \n",
        "* En la problemática propuesta, podemos dividir la experiencia del usuario en tres            situaciones diferentes: el envío llegó antes de lo prometido, el día prometido o             después del día prometido. Definir una o más métricas que nos permitan determinar             la performance de los modelos desarrollados considerando las tres posibles          experiencias de usuario de interés.  \n",
        "* Determinar, desarrollar y calcular la performance (según las métricas definidas en el            punto anterior) de un modelo de aprendizaje supervisado de tipo ensemble de            modelos (considerando todas las clases posibles). ¿Cuál es la diferencia con los            modelos más sencillos del práctico anterior? ¿Cómo es la performance en este            caso? ¿Cómo creen que puede incrementarse aún más la performance utilizando           este tipo de modelos?\n",
        "* Elegir las dos features que considere más relevante y desarrollar un modelo de             clustering (sin utilizar la información del target, i.e., ​shipment_days ​ ).  \n",
        "* Realizar una visualización de los diferentes clusters.  ¿Cómo son los tamaños relativos?  ¿Parecen adecuados para el problema de interés?  ¿Representan a todas las clases?  ¿Qué medida podemos utilizar para inspeccionar el contenido de los clusters?           Aplicarla al problema y comentar el resultado obtenido.  ¿Qué modificaciones deberíamos llevar a cabo para que los clusters sean más            representativos del problema de interés? \n",
        "* Repetir el análisis anterior empleando en el modelo de clustering un número            mayor de clusters (que difiera del anterior en al menos 3). ¿Qué diferencias             observa en ambos casos? \n",
        "* Utilizando todos los features y el número de clusters que considere mejor para el              problema de interés, desarrollar un modelo de clustering. ​Calcular accuracy y la            performance según las métricas definidas en el segundo punto. ¿Cómo es la            performance comparada a la del modelo de aprendizaje supervisado? Comente          sobre cuál modelo es mejor y por qué. \n",
        "* Emplear un embedding sobre las features seleccionadas (por ejemplo, PCA) y           emplear el mismo modelo de clustering desarrollado en el punto anterior. ¿Cómo se             modifican las métricas? ¿Y el tiempo de entrenamiento? Comente sobre las ventajas            y/o desventajas de aplicar el embedding. \n"
      ]
    },
    {
      "cell_type": "markdown",
      "metadata": {
        "colab_type": "text",
        "id": "fr-c3rSLUX0U"
      },
      "source": [
        "## Desarrollo del trabajo"
      ]
    },
    {
      "cell_type": "code",
      "metadata": {
        "colab_type": "code",
        "id": "8PZqZdWOUX0V",
        "colab": {}
      },
      "source": [
        "import matplotlib.pyplot as plt\n",
        "import numpy as np\n",
        "import pandas\n",
        "import seaborn as sns\n",
        "import sklearn\n",
        "\n",
        "from datetime import timedelta\n",
        "from IPython.display import HTML\n",
        "from matplotlib.colors import ListedColormap\n",
        "from scipy import stats\n",
        "from sklearn import preprocessing\n",
        "from sklearn import tree\n",
        "from sklearn.linear_model import LinearRegression, SGDClassifier, LogisticRegression\n",
        "from sklearn.metrics import confusion_matrix, classification_report, accuracy_score, mean_squared_error\n",
        "from sklearn.model_selection import train_test_split, GridSearchCV\n",
        "from sklearn.neighbors import KNeighborsClassifier\n",
        "from sklearn.preprocessing import MinMaxScaler,PolynomialFeatures\n",
        "\n",
        "from sklearn.svm import SVC\n"
      ],
      "execution_count": null,
      "outputs": []
    },
    {
      "cell_type": "markdown",
      "metadata": {
        "colab_type": "text",
        "id": "Jptu3QGeUX0a"
      },
      "source": [
        "### Lectura y análisis inicial de los datos"
      ]
    },
    {
      "cell_type": "code",
      "metadata": {
        "colab_type": "code",
        "id": "S8n6LFm5UX0b",
        "colab": {
          "base_uri": "https://localhost:8080/",
          "height": 34
        },
        "outputId": "cd265904-b598-4fbc-dcd1-72e0ac48042d"
      },
      "source": [
        "url = \"https://raw.githubusercontent.com/cnoeliachaves/csv/master/dataset_sample_corrected.csv\"\n",
        "\n",
        "dataset = pandas.read_csv(url, dtype={'sender_zipcode':'int64',\n",
        "                              'receiver_zipcode':'int64',\n",
        "                              'quantity':'int64',\n",
        "                              'service':'int64'},\n",
        "                       parse_dates=['date_created','date_sent','date_visit'])\n",
        "dataset.shape"
      ],
      "execution_count": null,
      "outputs": [
        {
          "output_type": "execute_result",
          "data": {
            "text/plain": [
              "(500000, 12)"
            ]
          },
          "metadata": {
            "tags": []
          },
          "execution_count": 2
        }
      ]
    },
    {
      "cell_type": "code",
      "metadata": {
        "colab_type": "code",
        "id": "p6Xgk-azUX0f",
        "colab": {
          "base_uri": "https://localhost:8080/",
          "height": 85
        },
        "outputId": "27faba18-0d97-4d49-9c08-046ad04a9b56"
      },
      "source": [
        "dataset.columns"
      ],
      "execution_count": null,
      "outputs": [
        {
          "output_type": "execute_result",
          "data": {
            "text/plain": [
              "Index(['sender_state', 'sender_zipcode', 'receiver_state', 'receiver_zipcode',\n",
              "       'shipment_type', 'quantity', 'service', 'status', 'date_created',\n",
              "       'date_sent', 'date_visit', 'shipment_days'],\n",
              "      dtype='object')"
            ]
          },
          "metadata": {
            "tags": []
          },
          "execution_count": 3
        }
      ]
    },
    {
      "cell_type": "code",
      "metadata": {
        "colab_type": "code",
        "id": "Q2Swl5SvUX0i",
        "colab": {
          "base_uri": "https://localhost:8080/",
          "height": 306
        },
        "outputId": "4add5c6b-5793-4c84-db3b-d4d3560f5e2c"
      },
      "source": [
        "dataset.info()"
      ],
      "execution_count": null,
      "outputs": [
        {
          "output_type": "stream",
          "text": [
            "<class 'pandas.core.frame.DataFrame'>\n",
            "RangeIndex: 500000 entries, 0 to 499999\n",
            "Data columns (total 12 columns):\n",
            "sender_state        500000 non-null object\n",
            "sender_zipcode      500000 non-null int64\n",
            "receiver_state      500000 non-null object\n",
            "receiver_zipcode    500000 non-null int64\n",
            "shipment_type       500000 non-null object\n",
            "quantity            500000 non-null int64\n",
            "service             500000 non-null int64\n",
            "status              500000 non-null object\n",
            "date_created        500000 non-null datetime64[ns]\n",
            "date_sent           499971 non-null datetime64[ns]\n",
            "date_visit          499398 non-null datetime64[ns]\n",
            "shipment_days       499398 non-null float64\n",
            "dtypes: datetime64[ns](3), float64(1), int64(4), object(4)\n",
            "memory usage: 45.8+ MB\n"
          ],
          "name": "stdout"
        }
      ]
    },
    {
      "cell_type": "code",
      "metadata": {
        "colab_type": "code",
        "id": "1mz8vwJfUX0l",
        "colab": {}
      },
      "source": [
        "np.random.seed(1234) #con propositos de reproducibilidad\n",
        "#dataset.sample(10)"
      ],
      "execution_count": null,
      "outputs": []
    },
    {
      "cell_type": "markdown",
      "metadata": {
        "colab_type": "text",
        "id": "xPCw0z_hUX0p"
      },
      "source": [
        "### Limpieza de datos\n",
        "\n",
        "En esta sección retomaremos algunos puntos del práctico anterior con el objetivo de limpiar nuestro dataset."
      ]
    },
    {
      "cell_type": "markdown",
      "metadata": {
        "colab_type": "text",
        "id": "y_-ydh1qUX0q"
      },
      "source": [
        "#### Shipment day anómalos \n",
        "\n",
        "En primer lugar, eliminaremos los valores de shipment days negativos."
      ]
    },
    {
      "cell_type": "code",
      "metadata": {
        "colab_type": "code",
        "id": "ftujA2CMUX0r",
        "colab": {}
      },
      "source": [
        "def clean_shipment_days(dataset):\n",
        "    \"\"\"Le saco los valores negativos\"\"\"\n",
        "    shipments_days = dataset['shipment_days']\n",
        "    mask = (shipments_days >= 0)\n",
        "    return dataset[mask] "
      ],
      "execution_count": null,
      "outputs": []
    },
    {
      "cell_type": "code",
      "metadata": {
        "colab_type": "code",
        "id": "3b-stq_lUX0v",
        "colab": {}
      },
      "source": [
        "dataset_clean = clean_shipment_days(dataset)"
      ],
      "execution_count": null,
      "outputs": []
    },
    {
      "cell_type": "markdown",
      "metadata": {
        "colab_type": "text",
        "id": "qI7zHvo0UX04"
      },
      "source": [
        "####Fechas anómalas\n",
        "\n",
        "En el análisis realizado en el práctico anterior de las 3 variables con información de fechas y horas encontramos que la variable date_created cuenta con valores que caen fuera del intervalo temporal considerado y que todos ellos se encuentran ubicados en el mes de Junio de 2019. Luego de haber realizado una inspección de esta información anómala llegamos a la conclusión que los mismos podrían deberse a un error en el proceso de carga y que en realidad son datos de Enero de 2019. \n",
        "\n",
        "Siguiendo esta idea decidimos en este momento subsanar este posible error de carga haciendo que la información de la variable date_created correspondiente al mes de Junio de 2019 sea ahora del mes de Enero de 2019."
      ]
    },
    {
      "cell_type": "code",
      "metadata": {
        "colab_type": "code",
        "id": "kI_G2Ya_UX05",
        "colab": {}
      },
      "source": [
        "date_created_junio = dataset_clean[dataset_clean['date_created'].map(lambda x: x.month) == 6]\n",
        "#date_created_junio"
      ],
      "execution_count": null,
      "outputs": []
    },
    {
      "cell_type": "code",
      "metadata": {
        "colab_type": "code",
        "id": "y9tz1biUUX0_",
        "colab": {}
      },
      "source": [
        "date_created_junio = dataset_clean['date_created'].map(lambda x: \n",
        "                                                       x+timedelta(days=-151) \n",
        "                                                       if x.month==6 else x)"
      ],
      "execution_count": null,
      "outputs": []
    },
    {
      "cell_type": "code",
      "metadata": {
        "colab_type": "code",
        "id": "ovwt-Tw5TT5e",
        "colab": {
          "base_uri": "https://localhost:8080/",
          "height": 139
        },
        "outputId": "e6266617-3079-449f-b3c1-88adf139c79f"
      },
      "source": [
        "dataset_clean.loc[:,'date_created'] = date_created_junio"
      ],
      "execution_count": null,
      "outputs": [
        {
          "output_type": "stream",
          "text": [
            "/usr/local/lib/python3.6/dist-packages/pandas/core/indexing.py:494: SettingWithCopyWarning: \n",
            "A value is trying to be set on a copy of a slice from a DataFrame.\n",
            "Try using .loc[row_indexer,col_indexer] = value instead\n",
            "\n",
            "See the caveats in the documentation: http://pandas.pydata.org/pandas-docs/stable/user_guide/indexing.html#returning-a-view-versus-a-copy\n",
            "  self.obj[item] = s\n"
          ],
          "name": "stderr"
        }
      ]
    },
    {
      "cell_type": "code",
      "metadata": {
        "colab_type": "code",
        "id": "4EdiA6TZUX1C",
        "colab": {
          "base_uri": "https://localhost:8080/",
          "height": 34
        },
        "outputId": "de40192f-7e2e-45bb-d648-d6bde2e119ce"
      },
      "source": [
        "dataset_clean['date_created'].dt.month.unique()"
      ],
      "execution_count": null,
      "outputs": [
        {
          "output_type": "execute_result",
          "data": {
            "text/plain": [
              "array([ 3,  2,  1,  4, 12, 10, 11])"
            ]
          },
          "metadata": {
            "tags": []
          },
          "execution_count": 11
        }
      ]
    },
    {
      "cell_type": "code",
      "metadata": {
        "colab_type": "code",
        "id": "rq8xu8gYUX1F",
        "colab": {
          "base_uri": "https://localhost:8080/",
          "height": 235
        },
        "outputId": "5a7e48c4-86d8-47d7-e3c0-dc0a64672aa2"
      },
      "source": [
        "dataset_clean.describe(include='datetime64')"
      ],
      "execution_count": null,
      "outputs": [
        {
          "output_type": "execute_result",
          "data": {
            "text/html": [
              "<div>\n",
              "<style scoped>\n",
              "    .dataframe tbody tr th:only-of-type {\n",
              "        vertical-align: middle;\n",
              "    }\n",
              "\n",
              "    .dataframe tbody tr th {\n",
              "        vertical-align: top;\n",
              "    }\n",
              "\n",
              "    .dataframe thead th {\n",
              "        text-align: right;\n",
              "    }\n",
              "</style>\n",
              "<table border=\"1\" class=\"dataframe\">\n",
              "  <thead>\n",
              "    <tr style=\"text-align: right;\">\n",
              "      <th></th>\n",
              "      <th>date_created</th>\n",
              "      <th>date_sent</th>\n",
              "      <th>date_visit</th>\n",
              "    </tr>\n",
              "  </thead>\n",
              "  <tbody>\n",
              "    <tr>\n",
              "      <th>count</th>\n",
              "      <td>499350</td>\n",
              "      <td>499350</td>\n",
              "      <td>499350</td>\n",
              "    </tr>\n",
              "    <tr>\n",
              "      <th>unique</th>\n",
              "      <td>124</td>\n",
              "      <td>81276</td>\n",
              "      <td>55668</td>\n",
              "    </tr>\n",
              "    <tr>\n",
              "      <th>top</th>\n",
              "      <td>2019-03-05 00:00:00</td>\n",
              "      <td>2019-03-11 15:53:00</td>\n",
              "      <td>2019-03-11 22:00:00</td>\n",
              "    </tr>\n",
              "    <tr>\n",
              "      <th>freq</th>\n",
              "      <td>20424</td>\n",
              "      <td>113</td>\n",
              "      <td>621</td>\n",
              "    </tr>\n",
              "    <tr>\n",
              "      <th>first</th>\n",
              "      <td>2018-10-21 00:00:00</td>\n",
              "      <td>2018-10-23 13:57:00</td>\n",
              "      <td>2019-02-25 05:36:00</td>\n",
              "    </tr>\n",
              "    <tr>\n",
              "      <th>last</th>\n",
              "      <td>2019-04-29 00:00:00</td>\n",
              "      <td>2019-03-29 01:46:20</td>\n",
              "      <td>2019-04-02 15:35:00</td>\n",
              "    </tr>\n",
              "  </tbody>\n",
              "</table>\n",
              "</div>"
            ],
            "text/plain": [
              "               date_created            date_sent           date_visit\n",
              "count                499350               499350               499350\n",
              "unique                  124                81276                55668\n",
              "top     2019-03-05 00:00:00  2019-03-11 15:53:00  2019-03-11 22:00:00\n",
              "freq                  20424                  113                  621\n",
              "first   2018-10-21 00:00:00  2018-10-23 13:57:00  2019-02-25 05:36:00\n",
              "last    2019-04-29 00:00:00  2019-03-29 01:46:20  2019-04-02 15:35:00"
            ]
          },
          "metadata": {
            "tags": []
          },
          "execution_count": 12
        }
      ]
    },
    {
      "cell_type": "markdown",
      "metadata": {
        "colab_type": "text",
        "id": "h2IvvXM0-vv0"
      },
      "source": [
        "En el describe de arriba, podemos ver que la última fecha de creación es posterior a la última fecha de data_sent como date_visit, pero consideramos que dichos datos son correctos, ya que no contamos con el completo dataset."
      ]
    },
    {
      "cell_type": "markdown",
      "metadata": {
        "colab_type": "text",
        "id": "QFvILb8gGWto"
      },
      "source": [
        "#### Valores nulos"
      ]
    },
    {
      "cell_type": "markdown",
      "metadata": {
        "colab_type": "text",
        "id": "Qro0D07OECTX"
      },
      "source": [
        "Veamos cuantos valores nulos tenemos"
      ]
    },
    {
      "cell_type": "code",
      "metadata": {
        "colab_type": "code",
        "id": "qwWQirqAEMli",
        "colab": {
          "base_uri": "https://localhost:8080/",
          "height": 34
        },
        "outputId": "9ad073b2-3acf-4ba1-e260-f431e2db2b20"
      },
      "source": [
        "null_values_count = dataset_clean.isnull().sum()\n",
        "null_values_count[null_values_count > 0]"
      ],
      "execution_count": null,
      "outputs": [
        {
          "output_type": "execute_result",
          "data": {
            "text/plain": [
              "Series([], dtype: int64)"
            ]
          },
          "metadata": {
            "tags": []
          },
          "execution_count": 13
        }
      ]
    },
    {
      "cell_type": "markdown",
      "metadata": {
        "colab_type": "text",
        "id": "O0_ZS8GKZtIF"
      },
      "source": [
        "Podemos ver que no tenemos valores nulos en el dataset."
      ]
    },
    {
      "cell_type": "markdown",
      "metadata": {
        "colab_type": "text",
        "id": "TQ6fBcMji0KR"
      },
      "source": [
        "#### Limpieza de las fechas anomálas\n",
        "\n",
        "Ahora limpiaremos el dataset sacando todas aquellas fechas que no se siguen en la línea temporal. "
      ]
    },
    {
      "cell_type": "code",
      "metadata": {
        "colab_type": "code",
        "id": "t7h8hxMgi-es",
        "colab": {}
      },
      "source": [
        "date_created_before_date_sent = dataset_clean.date_created < dataset_clean.date_sent #Filtramos date_created menores que date_sent\n",
        "\n",
        "date_sent_before_date_visit = dataset_clean.date_sent < dataset_clean.date_visit #Filtramos date_sent menores que date_visit\n",
        "\n",
        "date_created_before_date_visit = dataset_clean.date_created < dataset_clean.date_visit #Filtramos date_created menores que date_visit\n"
      ],
      "execution_count": null,
      "outputs": []
    },
    {
      "cell_type": "code",
      "metadata": {
        "colab_type": "code",
        "id": "AThEn-X8i-Qg",
        "colab": {
          "base_uri": "https://localhost:8080/",
          "height": 462
        },
        "outputId": "1bedbb45-097b-4252-c685-30688bece64b"
      },
      "source": [
        "dataset_clean = dataset_clean[date_created_before_date_sent].dropna() # solo fechas de creacion antes de la fecha de envio\n",
        "dataset_clean = dataset_clean[date_created_before_date_visit].dropna()# solo fechas de creacion antes de la fecha de visita\n",
        "dataset_clean = dataset_clean[date_sent_before_date_visit].dropna()# solo fechas de envios antes de la fecha de visita\n",
        "dataset_clean.sample(5)"
      ],
      "execution_count": null,
      "outputs": [
        {
          "output_type": "stream",
          "text": [
            "/usr/local/lib/python3.6/dist-packages/ipykernel_launcher.py:2: UserWarning: Boolean Series key will be reindexed to match DataFrame index.\n",
            "  \n",
            "/usr/local/lib/python3.6/dist-packages/ipykernel_launcher.py:3: UserWarning: Boolean Series key will be reindexed to match DataFrame index.\n",
            "  This is separate from the ipykernel package so we can avoid doing imports until\n"
          ],
          "name": "stderr"
        },
        {
          "output_type": "execute_result",
          "data": {
            "text/html": [
              "<div>\n",
              "<style scoped>\n",
              "    .dataframe tbody tr th:only-of-type {\n",
              "        vertical-align: middle;\n",
              "    }\n",
              "\n",
              "    .dataframe tbody tr th {\n",
              "        vertical-align: top;\n",
              "    }\n",
              "\n",
              "    .dataframe thead th {\n",
              "        text-align: right;\n",
              "    }\n",
              "</style>\n",
              "<table border=\"1\" class=\"dataframe\">\n",
              "  <thead>\n",
              "    <tr style=\"text-align: right;\">\n",
              "      <th></th>\n",
              "      <th>sender_state</th>\n",
              "      <th>sender_zipcode</th>\n",
              "      <th>receiver_state</th>\n",
              "      <th>receiver_zipcode</th>\n",
              "      <th>shipment_type</th>\n",
              "      <th>quantity</th>\n",
              "      <th>service</th>\n",
              "      <th>status</th>\n",
              "      <th>date_created</th>\n",
              "      <th>date_sent</th>\n",
              "      <th>date_visit</th>\n",
              "      <th>shipment_days</th>\n",
              "    </tr>\n",
              "  </thead>\n",
              "  <tbody>\n",
              "    <tr>\n",
              "      <th>193186</th>\n",
              "      <td>SP</td>\n",
              "      <td>13026</td>\n",
              "      <td>RJ</td>\n",
              "      <td>24435</td>\n",
              "      <td>express</td>\n",
              "      <td>1</td>\n",
              "      <td>0</td>\n",
              "      <td>done</td>\n",
              "      <td>2019-03-10</td>\n",
              "      <td>2019-03-11 11:25:00</td>\n",
              "      <td>2019-03-18 11:26:00</td>\n",
              "      <td>5.0</td>\n",
              "    </tr>\n",
              "    <tr>\n",
              "      <th>245787</th>\n",
              "      <td>SP</td>\n",
              "      <td>8599</td>\n",
              "      <td>SP</td>\n",
              "      <td>13420</td>\n",
              "      <td>express</td>\n",
              "      <td>1</td>\n",
              "      <td>0</td>\n",
              "      <td>done</td>\n",
              "      <td>2019-03-16</td>\n",
              "      <td>2019-03-18 17:25:00</td>\n",
              "      <td>2019-03-20 15:42:00</td>\n",
              "      <td>2.0</td>\n",
              "    </tr>\n",
              "    <tr>\n",
              "      <th>399104</th>\n",
              "      <td>SP</td>\n",
              "      <td>4905</td>\n",
              "      <td>RS</td>\n",
              "      <td>94450</td>\n",
              "      <td>standard</td>\n",
              "      <td>1</td>\n",
              "      <td>1</td>\n",
              "      <td>done</td>\n",
              "      <td>2019-03-02</td>\n",
              "      <td>2019-03-04 17:52:00</td>\n",
              "      <td>2019-03-20 11:01:00</td>\n",
              "      <td>9.0</td>\n",
              "    </tr>\n",
              "    <tr>\n",
              "      <th>22402</th>\n",
              "      <td>SP</td>\n",
              "      <td>4744</td>\n",
              "      <td>PR</td>\n",
              "      <td>85862</td>\n",
              "      <td>standard</td>\n",
              "      <td>1</td>\n",
              "      <td>1</td>\n",
              "      <td>done</td>\n",
              "      <td>2019-03-03</td>\n",
              "      <td>2019-03-07 16:51:00</td>\n",
              "      <td>2019-03-19 12:12:00</td>\n",
              "      <td>8.0</td>\n",
              "    </tr>\n",
              "    <tr>\n",
              "      <th>138938</th>\n",
              "      <td>SP</td>\n",
              "      <td>7176</td>\n",
              "      <td>RS</td>\n",
              "      <td>95660</td>\n",
              "      <td>standard</td>\n",
              "      <td>1</td>\n",
              "      <td>2</td>\n",
              "      <td>done</td>\n",
              "      <td>2019-03-05</td>\n",
              "      <td>2019-03-06 23:36:07</td>\n",
              "      <td>2019-03-12 07:45:00</td>\n",
              "      <td>3.0</td>\n",
              "    </tr>\n",
              "  </tbody>\n",
              "</table>\n",
              "</div>"
            ],
            "text/plain": [
              "       sender_state  sender_zipcode  ...          date_visit  shipment_days\n",
              "193186           SP           13026  ... 2019-03-18 11:26:00            5.0\n",
              "245787           SP            8599  ... 2019-03-20 15:42:00            2.0\n",
              "399104           SP            4905  ... 2019-03-20 11:01:00            9.0\n",
              "22402            SP            4744  ... 2019-03-19 12:12:00            8.0\n",
              "138938           SP            7176  ... 2019-03-12 07:45:00            3.0\n",
              "\n",
              "[5 rows x 12 columns]"
            ]
          },
          "metadata": {
            "tags": []
          },
          "execution_count": 15
        }
      ]
    },
    {
      "cell_type": "markdown",
      "metadata": {
        "colab_type": "text",
        "id": "iREKMj2mnqfu"
      },
      "source": [
        "### La importancia de predecir el valor de la variable shipment_days\n",
        "\n",
        "Uno de los objetivos principales del análisis propuesto en esta mentoría es predecir (dar un número aproximado de días hábiles) el tiempo entre que se despacha del correo hasta que el mismo llega a la casa del comprador. \n",
        "\n",
        "Es decir, queremos predecir el feature shipment_days.\n",
        "\n",
        "Por lo tanto este sería el target de un algoritmo de aprendizaje automático. Si bien este feature originalmente es información de tipo numérica en el práctico anterior utilizamos enconding para convertirla en una variable categórica. Así, esto nos da la posibilidad de trabajar con diferentes modelos de aprendizaje automático utilizando el mismo feature como target pero en sus diferentes versiones.\n",
        "\n",
        "Frente a este problema consideramos que el estado de Brasil que recibe el envío (receiver_state) es un feature importante a tener en cuenta (mientras más lejos esté de San Pablo probablemente demore más) y probablemente también el código postal de dicho estado (receiver_zipcode). Por otro lado, el tipo de correo (service) también puede ser una variable importante a tener en cuenta porque la calidad de servicio impactará directamente en los días que tarda en llegar el pedido.\n",
        "\n"
      ]
    },
    {
      "cell_type": "code",
      "metadata": {
        "colab_type": "code",
        "id": "qGfPmS5oUX1I",
        "colab": {
          "base_uri": "https://localhost:8080/",
          "height": 394
        },
        "outputId": "69357af5-2e2f-46a0-ef95-afe10bbfe226"
      },
      "source": [
        "dataset_clean.sample(5)"
      ],
      "execution_count": null,
      "outputs": [
        {
          "output_type": "execute_result",
          "data": {
            "text/html": [
              "<div>\n",
              "<style scoped>\n",
              "    .dataframe tbody tr th:only-of-type {\n",
              "        vertical-align: middle;\n",
              "    }\n",
              "\n",
              "    .dataframe tbody tr th {\n",
              "        vertical-align: top;\n",
              "    }\n",
              "\n",
              "    .dataframe thead th {\n",
              "        text-align: right;\n",
              "    }\n",
              "</style>\n",
              "<table border=\"1\" class=\"dataframe\">\n",
              "  <thead>\n",
              "    <tr style=\"text-align: right;\">\n",
              "      <th></th>\n",
              "      <th>sender_state</th>\n",
              "      <th>sender_zipcode</th>\n",
              "      <th>receiver_state</th>\n",
              "      <th>receiver_zipcode</th>\n",
              "      <th>shipment_type</th>\n",
              "      <th>quantity</th>\n",
              "      <th>service</th>\n",
              "      <th>status</th>\n",
              "      <th>date_created</th>\n",
              "      <th>date_sent</th>\n",
              "      <th>date_visit</th>\n",
              "      <th>shipment_days</th>\n",
              "    </tr>\n",
              "  </thead>\n",
              "  <tbody>\n",
              "    <tr>\n",
              "      <th>470586</th>\n",
              "      <td>SP</td>\n",
              "      <td>2510</td>\n",
              "      <td>SP</td>\n",
              "      <td>2435</td>\n",
              "      <td>express</td>\n",
              "      <td>1</td>\n",
              "      <td>5</td>\n",
              "      <td>done</td>\n",
              "      <td>2019-02-28</td>\n",
              "      <td>2019-03-01 22:39:58</td>\n",
              "      <td>2019-03-07 07:19:11</td>\n",
              "      <td>1.0</td>\n",
              "    </tr>\n",
              "    <tr>\n",
              "      <th>399813</th>\n",
              "      <td>SP</td>\n",
              "      <td>13306</td>\n",
              "      <td>SC</td>\n",
              "      <td>89600</td>\n",
              "      <td>standard</td>\n",
              "      <td>1</td>\n",
              "      <td>1</td>\n",
              "      <td>done</td>\n",
              "      <td>2019-03-12</td>\n",
              "      <td>2019-03-15 17:16:00</td>\n",
              "      <td>2019-03-28 13:34:00</td>\n",
              "      <td>9.0</td>\n",
              "    </tr>\n",
              "    <tr>\n",
              "      <th>371289</th>\n",
              "      <td>SP</td>\n",
              "      <td>11700</td>\n",
              "      <td>SP</td>\n",
              "      <td>11250</td>\n",
              "      <td>express</td>\n",
              "      <td>1</td>\n",
              "      <td>0</td>\n",
              "      <td>done</td>\n",
              "      <td>2019-03-05</td>\n",
              "      <td>2019-03-11 17:07:00</td>\n",
              "      <td>2019-03-18 18:14:00</td>\n",
              "      <td>5.0</td>\n",
              "    </tr>\n",
              "    <tr>\n",
              "      <th>255762</th>\n",
              "      <td>SP</td>\n",
              "      <td>14030</td>\n",
              "      <td>MG</td>\n",
              "      <td>30330</td>\n",
              "      <td>standard</td>\n",
              "      <td>1</td>\n",
              "      <td>1</td>\n",
              "      <td>done</td>\n",
              "      <td>2019-02-18</td>\n",
              "      <td>2019-02-19 19:08:00</td>\n",
              "      <td>2019-02-28 14:29:00</td>\n",
              "      <td>7.0</td>\n",
              "    </tr>\n",
              "    <tr>\n",
              "      <th>406847</th>\n",
              "      <td>SP</td>\n",
              "      <td>3410</td>\n",
              "      <td>SP</td>\n",
              "      <td>14200</td>\n",
              "      <td>express</td>\n",
              "      <td>1</td>\n",
              "      <td>0</td>\n",
              "      <td>done</td>\n",
              "      <td>2019-02-26</td>\n",
              "      <td>2019-02-27 12:39:00</td>\n",
              "      <td>2019-03-11 16:34:00</td>\n",
              "      <td>5.0</td>\n",
              "    </tr>\n",
              "  </tbody>\n",
              "</table>\n",
              "</div>"
            ],
            "text/plain": [
              "       sender_state  sender_zipcode  ...          date_visit  shipment_days\n",
              "470586           SP            2510  ... 2019-03-07 07:19:11            1.0\n",
              "399813           SP           13306  ... 2019-03-28 13:34:00            9.0\n",
              "371289           SP           11700  ... 2019-03-18 18:14:00            5.0\n",
              "255762           SP           14030  ... 2019-02-28 14:29:00            7.0\n",
              "406847           SP            3410  ... 2019-03-11 16:34:00            5.0\n",
              "\n",
              "[5 rows x 12 columns]"
            ]
          },
          "metadata": {
            "tags": []
          },
          "execution_count": 16
        }
      ]
    },
    {
      "cell_type": "code",
      "metadata": {
        "colab_type": "code",
        "id": "J6-OY6tJUX1L",
        "colab": {
          "base_uri": "https://localhost:8080/",
          "height": 306
        },
        "outputId": "d4cd6605-d65f-4af6-f195-4c2831926790"
      },
      "source": [
        "dataset_clean.info()"
      ],
      "execution_count": null,
      "outputs": [
        {
          "output_type": "stream",
          "text": [
            "<class 'pandas.core.frame.DataFrame'>\n",
            "Int64Index: 496954 entries, 0 to 499999\n",
            "Data columns (total 12 columns):\n",
            "sender_state        496954 non-null object\n",
            "sender_zipcode      496954 non-null int64\n",
            "receiver_state      496954 non-null object\n",
            "receiver_zipcode    496954 non-null int64\n",
            "shipment_type       496954 non-null object\n",
            "quantity            496954 non-null int64\n",
            "service             496954 non-null int64\n",
            "status              496954 non-null object\n",
            "date_created        496954 non-null datetime64[ns]\n",
            "date_sent           496954 non-null datetime64[ns]\n",
            "date_visit          496954 non-null datetime64[ns]\n",
            "shipment_days       496954 non-null float64\n",
            "dtypes: datetime64[ns](3), float64(1), int64(4), object(4)\n",
            "memory usage: 49.3+ MB\n"
          ],
          "name": "stdout"
        }
      ]
    },
    {
      "cell_type": "markdown",
      "metadata": {
        "colab_type": "text",
        "id": "FJK7MY6OnycP"
      },
      "source": [
        "Luego de haber limpiado nuestro dataset observamos que contamos con 496954 filas con información, es decir la limpieza solo afectó aproximadamente al 1% de los datos originales.\n",
        "\n"
      ]
    },
    {
      "cell_type": "markdown",
      "metadata": {
        "id": "zc_xnPPNAaQY",
        "colab_type": "text"
      },
      "source": [
        "### Codifiquemos receiver_state, para poder usarlo porque necesitamos que sea una variable numérica:"
      ]
    },
    {
      "cell_type": "code",
      "metadata": {
        "id": "nyHzcZSDAMpr",
        "colab_type": "code",
        "colab": {
          "base_uri": "https://localhost:8080/",
          "height": 34
        },
        "outputId": "2b8399ab-c79e-492c-8f3f-4471280cf44f"
      },
      "source": [
        "receiver_state_le = 'receiver_state'\n",
        "# Create a label (category) encoder object\n",
        "le = preprocessing.LabelEncoder()\n",
        "# Fit the encoder to the pandas column\n",
        "le.fit(dataset_clean[receiver_state_le])"
      ],
      "execution_count": null,
      "outputs": [
        {
          "output_type": "execute_result",
          "data": {
            "text/plain": [
              "LabelEncoder()"
            ]
          },
          "metadata": {
            "tags": []
          },
          "execution_count": 18
        }
      ]
    },
    {
      "cell_type": "code",
      "metadata": {
        "id": "_Qi4YLcPAZVJ",
        "colab_type": "code",
        "colab": {
          "base_uri": "https://localhost:8080/",
          "height": 134
        },
        "outputId": "287f25e3-18d2-40e9-ebb1-54fd8f2bd9f7"
      },
      "source": [
        "dataset_clean['receiver_state_le'] = le.transform(dataset_clean[receiver_state_le]) \n",
        "dataset_clean.sample()"
      ],
      "execution_count": null,
      "outputs": [
        {
          "output_type": "execute_result",
          "data": {
            "text/html": [
              "<div>\n",
              "<style scoped>\n",
              "    .dataframe tbody tr th:only-of-type {\n",
              "        vertical-align: middle;\n",
              "    }\n",
              "\n",
              "    .dataframe tbody tr th {\n",
              "        vertical-align: top;\n",
              "    }\n",
              "\n",
              "    .dataframe thead th {\n",
              "        text-align: right;\n",
              "    }\n",
              "</style>\n",
              "<table border=\"1\" class=\"dataframe\">\n",
              "  <thead>\n",
              "    <tr style=\"text-align: right;\">\n",
              "      <th></th>\n",
              "      <th>sender_state</th>\n",
              "      <th>sender_zipcode</th>\n",
              "      <th>receiver_state</th>\n",
              "      <th>receiver_zipcode</th>\n",
              "      <th>shipment_type</th>\n",
              "      <th>quantity</th>\n",
              "      <th>service</th>\n",
              "      <th>status</th>\n",
              "      <th>date_created</th>\n",
              "      <th>date_sent</th>\n",
              "      <th>date_visit</th>\n",
              "      <th>shipment_days</th>\n",
              "      <th>receiver_state_le</th>\n",
              "    </tr>\n",
              "  </thead>\n",
              "  <tbody>\n",
              "    <tr>\n",
              "      <th>45619</th>\n",
              "      <td>SP</td>\n",
              "      <td>7600</td>\n",
              "      <td>SP</td>\n",
              "      <td>14940</td>\n",
              "      <td>express</td>\n",
              "      <td>2</td>\n",
              "      <td>0</td>\n",
              "      <td>done</td>\n",
              "      <td>2019-03-12</td>\n",
              "      <td>2019-03-13 13:52:00</td>\n",
              "      <td>2019-03-19 16:30:00</td>\n",
              "      <td>4.0</td>\n",
              "      <td>25</td>\n",
              "    </tr>\n",
              "  </tbody>\n",
              "</table>\n",
              "</div>"
            ],
            "text/plain": [
              "      sender_state  sender_zipcode  ... shipment_days  receiver_state_le\n",
              "45619           SP            7600  ...           4.0                 25\n",
              "\n",
              "[1 rows x 13 columns]"
            ]
          },
          "metadata": {
            "tags": []
          },
          "execution_count": 19
        }
      ]
    },
    {
      "cell_type": "code",
      "metadata": {
        "id": "Ili2CF1Oe4KR",
        "colab_type": "code",
        "colab": {
          "base_uri": "https://localhost:8080/",
          "height": 51
        },
        "outputId": "a4cf6549-71f5-43c1-a06d-e0e41dae0598"
      },
      "source": [
        "dataset_clean['receiver_state_le'].unique()"
      ],
      "execution_count": null,
      "outputs": [
        {
          "output_type": "execute_result",
          "data": {
            "text/plain": [
              "array([25, 14, 18,  3, 22, 10,  6, 12, 17,  8,  7, 23, 26,  4, 16, 11, 13,\n",
              "        0, 15,  9, 19,  5,  1, 20,  2, 24, 21])"
            ]
          },
          "metadata": {
            "tags": []
          },
          "execution_count": 20
        }
      ]
    },
    {
      "cell_type": "code",
      "metadata": {
        "id": "w0Lw3LwjfFBI",
        "colab_type": "code",
        "colab": {
          "base_uri": "https://localhost:8080/",
          "height": 917
        },
        "outputId": "1b618103-2583-4751-a86a-42d5d0ff1e36"
      },
      "source": [
        "dataset_clean['receiver_state_le'].groupby(\n",
        "                          [dataset_clean['receiver_state_le']]\n",
        "                           ).agg({'count'})"
      ],
      "execution_count": null,
      "outputs": [
        {
          "output_type": "execute_result",
          "data": {
            "text/html": [
              "<div>\n",
              "<style scoped>\n",
              "    .dataframe tbody tr th:only-of-type {\n",
              "        vertical-align: middle;\n",
              "    }\n",
              "\n",
              "    .dataframe tbody tr th {\n",
              "        vertical-align: top;\n",
              "    }\n",
              "\n",
              "    .dataframe thead th {\n",
              "        text-align: right;\n",
              "    }\n",
              "</style>\n",
              "<table border=\"1\" class=\"dataframe\">\n",
              "  <thead>\n",
              "    <tr style=\"text-align: right;\">\n",
              "      <th></th>\n",
              "      <th>count</th>\n",
              "    </tr>\n",
              "    <tr>\n",
              "      <th>receiver_state_le</th>\n",
              "      <th></th>\n",
              "    </tr>\n",
              "  </thead>\n",
              "  <tbody>\n",
              "    <tr>\n",
              "      <th>0</th>\n",
              "      <td>836</td>\n",
              "    </tr>\n",
              "    <tr>\n",
              "      <th>1</th>\n",
              "      <td>2984</td>\n",
              "    </tr>\n",
              "    <tr>\n",
              "      <th>2</th>\n",
              "      <td>1954</td>\n",
              "    </tr>\n",
              "    <tr>\n",
              "      <th>3</th>\n",
              "      <td>786</td>\n",
              "    </tr>\n",
              "    <tr>\n",
              "      <th>4</th>\n",
              "      <td>21096</td>\n",
              "    </tr>\n",
              "    <tr>\n",
              "      <th>5</th>\n",
              "      <td>5227</td>\n",
              "    </tr>\n",
              "    <tr>\n",
              "      <th>6</th>\n",
              "      <td>10836</td>\n",
              "    </tr>\n",
              "    <tr>\n",
              "      <th>7</th>\n",
              "      <td>10066</td>\n",
              "    </tr>\n",
              "    <tr>\n",
              "      <th>8</th>\n",
              "      <td>13241</td>\n",
              "    </tr>\n",
              "    <tr>\n",
              "      <th>9</th>\n",
              "      <td>3738</td>\n",
              "    </tr>\n",
              "    <tr>\n",
              "      <th>10</th>\n",
              "      <td>60801</td>\n",
              "    </tr>\n",
              "    <tr>\n",
              "      <th>11</th>\n",
              "      <td>5919</td>\n",
              "    </tr>\n",
              "    <tr>\n",
              "      <th>12</th>\n",
              "      <td>6437</td>\n",
              "    </tr>\n",
              "    <tr>\n",
              "      <th>13</th>\n",
              "      <td>6483</td>\n",
              "    </tr>\n",
              "    <tr>\n",
              "      <th>14</th>\n",
              "      <td>4442</td>\n",
              "    </tr>\n",
              "    <tr>\n",
              "      <th>15</th>\n",
              "      <td>11978</td>\n",
              "    </tr>\n",
              "    <tr>\n",
              "      <th>16</th>\n",
              "      <td>2731</td>\n",
              "    </tr>\n",
              "    <tr>\n",
              "      <th>17</th>\n",
              "      <td>28829</td>\n",
              "    </tr>\n",
              "    <tr>\n",
              "      <th>18</th>\n",
              "      <td>42703</td>\n",
              "    </tr>\n",
              "    <tr>\n",
              "      <th>19</th>\n",
              "      <td>4031</td>\n",
              "    </tr>\n",
              "    <tr>\n",
              "      <th>20</th>\n",
              "      <td>2240</td>\n",
              "    </tr>\n",
              "    <tr>\n",
              "      <th>21</th>\n",
              "      <td>439</td>\n",
              "    </tr>\n",
              "    <tr>\n",
              "      <th>22</th>\n",
              "      <td>32461</td>\n",
              "    </tr>\n",
              "    <tr>\n",
              "      <th>23</th>\n",
              "      <td>23728</td>\n",
              "    </tr>\n",
              "    <tr>\n",
              "      <th>24</th>\n",
              "      <td>2568</td>\n",
              "    </tr>\n",
              "    <tr>\n",
              "      <th>25</th>\n",
              "      <td>188289</td>\n",
              "    </tr>\n",
              "    <tr>\n",
              "      <th>26</th>\n",
              "      <td>2111</td>\n",
              "    </tr>\n",
              "  </tbody>\n",
              "</table>\n",
              "</div>"
            ],
            "text/plain": [
              "                    count\n",
              "receiver_state_le        \n",
              "0                     836\n",
              "1                    2984\n",
              "2                    1954\n",
              "3                     786\n",
              "4                   21096\n",
              "5                    5227\n",
              "6                   10836\n",
              "7                   10066\n",
              "8                   13241\n",
              "9                    3738\n",
              "10                  60801\n",
              "11                   5919\n",
              "12                   6437\n",
              "13                   6483\n",
              "14                   4442\n",
              "15                  11978\n",
              "16                   2731\n",
              "17                  28829\n",
              "18                  42703\n",
              "19                   4031\n",
              "20                   2240\n",
              "21                    439\n",
              "22                  32461\n",
              "23                  23728\n",
              "24                   2568\n",
              "25                 188289\n",
              "26                   2111"
            ]
          },
          "metadata": {
            "tags": []
          },
          "execution_count": 21
        }
      ]
    },
    {
      "cell_type": "markdown",
      "metadata": {
        "colab_type": "text",
        "id": "xyCvmVFTStFc"
      },
      "source": [
        "### Separación en el conjunto de entrenamiento y evaluación "
      ]
    },
    {
      "cell_type": "markdown",
      "metadata": {
        "id": "9E_Dz1TFs75a",
        "colab_type": "text"
      },
      "source": [
        "A continuación analizamos las variables de fechas para poder hacer la separación de los datos."
      ]
    },
    {
      "cell_type": "code",
      "metadata": {
        "id": "r3N4j6RLtANn",
        "colab_type": "code",
        "colab": {}
      },
      "source": [
        "# creamos una nueva columna donde date_created solo considera las fechas\n",
        "dataset_clean['date_created_only_date'] = dataset_clean['date_created'].dt.date"
      ],
      "execution_count": null,
      "outputs": []
    },
    {
      "cell_type": "code",
      "metadata": {
        "id": "jYptSqAEuZUu",
        "colab_type": "code",
        "colab": {}
      },
      "source": [
        "# creamos una nueva columna donde date_visit solo considera las fechas\n",
        "dataset_clean['date_visit_only_date'] = dataset_clean['date_visit'].dt.date"
      ],
      "execution_count": null,
      "outputs": []
    },
    {
      "cell_type": "code",
      "metadata": {
        "id": "3oYLTtZqucub",
        "colab_type": "code",
        "colab": {
          "base_uri": "https://localhost:8080/",
          "height": 779
        },
        "outputId": "9eb98a48-fb9c-489b-b65f-be5e5b44142c"
      },
      "source": [
        "dataset_clean.sort_values(by=['date_visit_only_date']) "
      ],
      "execution_count": null,
      "outputs": [
        {
          "output_type": "execute_result",
          "data": {
            "text/html": [
              "<div>\n",
              "<style scoped>\n",
              "    .dataframe tbody tr th:only-of-type {\n",
              "        vertical-align: middle;\n",
              "    }\n",
              "\n",
              "    .dataframe tbody tr th {\n",
              "        vertical-align: top;\n",
              "    }\n",
              "\n",
              "    .dataframe thead th {\n",
              "        text-align: right;\n",
              "    }\n",
              "</style>\n",
              "<table border=\"1\" class=\"dataframe\">\n",
              "  <thead>\n",
              "    <tr style=\"text-align: right;\">\n",
              "      <th></th>\n",
              "      <th>sender_state</th>\n",
              "      <th>sender_zipcode</th>\n",
              "      <th>receiver_state</th>\n",
              "      <th>receiver_zipcode</th>\n",
              "      <th>shipment_type</th>\n",
              "      <th>quantity</th>\n",
              "      <th>service</th>\n",
              "      <th>status</th>\n",
              "      <th>date_created</th>\n",
              "      <th>date_sent</th>\n",
              "      <th>date_visit</th>\n",
              "      <th>shipment_days</th>\n",
              "      <th>receiver_state_le</th>\n",
              "      <th>date_created_only_date</th>\n",
              "      <th>date_visit_only_date</th>\n",
              "    </tr>\n",
              "  </thead>\n",
              "  <tbody>\n",
              "    <tr>\n",
              "      <th>29645</th>\n",
              "      <td>SP</td>\n",
              "      <td>9550</td>\n",
              "      <td>ES</td>\n",
              "      <td>29170</td>\n",
              "      <td>standard</td>\n",
              "      <td>3</td>\n",
              "      <td>1</td>\n",
              "      <td>done</td>\n",
              "      <td>2019-01-22</td>\n",
              "      <td>2019-01-28 07:20:00</td>\n",
              "      <td>2019-02-25 15:29:00</td>\n",
              "      <td>20.0</td>\n",
              "      <td>7</td>\n",
              "      <td>2019-01-22</td>\n",
              "      <td>2019-02-25</td>\n",
              "    </tr>\n",
              "    <tr>\n",
              "      <th>23725</th>\n",
              "      <td>SP</td>\n",
              "      <td>15410</td>\n",
              "      <td>RJ</td>\n",
              "      <td>28633</td>\n",
              "      <td>standard</td>\n",
              "      <td>1</td>\n",
              "      <td>1</td>\n",
              "      <td>done</td>\n",
              "      <td>2019-02-02</td>\n",
              "      <td>2019-02-05 12:29:00</td>\n",
              "      <td>2019-02-25 15:20:00</td>\n",
              "      <td>14.0</td>\n",
              "      <td>18</td>\n",
              "      <td>2019-02-02</td>\n",
              "      <td>2019-02-25</td>\n",
              "    </tr>\n",
              "    <tr>\n",
              "      <th>327308</th>\n",
              "      <td>SP</td>\n",
              "      <td>3401</td>\n",
              "      <td>MG</td>\n",
              "      <td>37420</td>\n",
              "      <td>standard</td>\n",
              "      <td>1</td>\n",
              "      <td>1</td>\n",
              "      <td>done</td>\n",
              "      <td>2019-02-05</td>\n",
              "      <td>2019-02-06 15:36:00</td>\n",
              "      <td>2019-02-25 09:58:00</td>\n",
              "      <td>13.0</td>\n",
              "      <td>10</td>\n",
              "      <td>2019-02-05</td>\n",
              "      <td>2019-02-25</td>\n",
              "    </tr>\n",
              "    <tr>\n",
              "      <th>87974</th>\n",
              "      <td>SP</td>\n",
              "      <td>1536</td>\n",
              "      <td>PE</td>\n",
              "      <td>54240</td>\n",
              "      <td>standard</td>\n",
              "      <td>1</td>\n",
              "      <td>4</td>\n",
              "      <td>done</td>\n",
              "      <td>2019-01-29</td>\n",
              "      <td>2019-02-03 07:58:02</td>\n",
              "      <td>2019-02-25 14:28:00</td>\n",
              "      <td>15.0</td>\n",
              "      <td>15</td>\n",
              "      <td>2019-01-29</td>\n",
              "      <td>2019-02-25</td>\n",
              "    </tr>\n",
              "    <tr>\n",
              "      <th>192809</th>\n",
              "      <td>SP</td>\n",
              "      <td>1212</td>\n",
              "      <td>SC</td>\n",
              "      <td>88356</td>\n",
              "      <td>standard</td>\n",
              "      <td>1</td>\n",
              "      <td>1</td>\n",
              "      <td>done</td>\n",
              "      <td>2019-01-22</td>\n",
              "      <td>2019-01-23 11:30:00</td>\n",
              "      <td>2019-02-25 12:44:00</td>\n",
              "      <td>22.0</td>\n",
              "      <td>23</td>\n",
              "      <td>2019-01-22</td>\n",
              "      <td>2019-02-25</td>\n",
              "    </tr>\n",
              "    <tr>\n",
              "      <th>...</th>\n",
              "      <td>...</td>\n",
              "      <td>...</td>\n",
              "      <td>...</td>\n",
              "      <td>...</td>\n",
              "      <td>...</td>\n",
              "      <td>...</td>\n",
              "      <td>...</td>\n",
              "      <td>...</td>\n",
              "      <td>...</td>\n",
              "      <td>...</td>\n",
              "      <td>...</td>\n",
              "      <td>...</td>\n",
              "      <td>...</td>\n",
              "      <td>...</td>\n",
              "      <td>...</td>\n",
              "    </tr>\n",
              "    <tr>\n",
              "      <th>50700</th>\n",
              "      <td>SP</td>\n",
              "      <td>8275</td>\n",
              "      <td>PE</td>\n",
              "      <td>52120</td>\n",
              "      <td>standard</td>\n",
              "      <td>1</td>\n",
              "      <td>1</td>\n",
              "      <td>done</td>\n",
              "      <td>2019-02-27</td>\n",
              "      <td>2019-03-04 16:54:00</td>\n",
              "      <td>2019-04-02 10:19:00</td>\n",
              "      <td>18.0</td>\n",
              "      <td>15</td>\n",
              "      <td>2019-02-27</td>\n",
              "      <td>2019-04-02</td>\n",
              "    </tr>\n",
              "    <tr>\n",
              "      <th>264185</th>\n",
              "      <td>SP</td>\n",
              "      <td>14780</td>\n",
              "      <td>RS</td>\n",
              "      <td>96407</td>\n",
              "      <td>standard</td>\n",
              "      <td>1</td>\n",
              "      <td>1</td>\n",
              "      <td>done</td>\n",
              "      <td>2019-02-26</td>\n",
              "      <td>2019-02-26 14:15:00</td>\n",
              "      <td>2019-04-02 15:35:00</td>\n",
              "      <td>22.0</td>\n",
              "      <td>22</td>\n",
              "      <td>2019-02-26</td>\n",
              "      <td>2019-04-02</td>\n",
              "    </tr>\n",
              "    <tr>\n",
              "      <th>274961</th>\n",
              "      <td>SP</td>\n",
              "      <td>4433</td>\n",
              "      <td>PE</td>\n",
              "      <td>53525</td>\n",
              "      <td>standard</td>\n",
              "      <td>1</td>\n",
              "      <td>1</td>\n",
              "      <td>done</td>\n",
              "      <td>2019-02-20</td>\n",
              "      <td>2019-02-21 10:27:00</td>\n",
              "      <td>2019-04-02 12:33:00</td>\n",
              "      <td>25.0</td>\n",
              "      <td>15</td>\n",
              "      <td>2019-02-20</td>\n",
              "      <td>2019-04-02</td>\n",
              "    </tr>\n",
              "    <tr>\n",
              "      <th>467449</th>\n",
              "      <td>SP</td>\n",
              "      <td>3633</td>\n",
              "      <td>PE</td>\n",
              "      <td>52160</td>\n",
              "      <td>standard</td>\n",
              "      <td>1</td>\n",
              "      <td>1</td>\n",
              "      <td>done</td>\n",
              "      <td>2019-02-18</td>\n",
              "      <td>2019-02-20 07:30:00</td>\n",
              "      <td>2019-04-02 09:49:00</td>\n",
              "      <td>26.0</td>\n",
              "      <td>15</td>\n",
              "      <td>2019-02-18</td>\n",
              "      <td>2019-04-02</td>\n",
              "    </tr>\n",
              "    <tr>\n",
              "      <th>39526</th>\n",
              "      <td>SP</td>\n",
              "      <td>2121</td>\n",
              "      <td>PE</td>\n",
              "      <td>53220</td>\n",
              "      <td>standard</td>\n",
              "      <td>1</td>\n",
              "      <td>1</td>\n",
              "      <td>done</td>\n",
              "      <td>2019-03-01</td>\n",
              "      <td>2019-03-04 12:29:00</td>\n",
              "      <td>2019-04-02 12:20:00</td>\n",
              "      <td>18.0</td>\n",
              "      <td>15</td>\n",
              "      <td>2019-03-01</td>\n",
              "      <td>2019-04-02</td>\n",
              "    </tr>\n",
              "  </tbody>\n",
              "</table>\n",
              "<p>496954 rows × 15 columns</p>\n",
              "</div>"
            ],
            "text/plain": [
              "       sender_state  sender_zipcode  ... date_created_only_date  date_visit_only_date\n",
              "29645            SP            9550  ...             2019-01-22            2019-02-25\n",
              "23725            SP           15410  ...             2019-02-02            2019-02-25\n",
              "327308           SP            3401  ...             2019-02-05            2019-02-25\n",
              "87974            SP            1536  ...             2019-01-29            2019-02-25\n",
              "192809           SP            1212  ...             2019-01-22            2019-02-25\n",
              "...             ...             ...  ...                    ...                   ...\n",
              "50700            SP            8275  ...             2019-02-27            2019-04-02\n",
              "264185           SP           14780  ...             2019-02-26            2019-04-02\n",
              "274961           SP            4433  ...             2019-02-20            2019-04-02\n",
              "467449           SP            3633  ...             2019-02-18            2019-04-02\n",
              "39526            SP            2121  ...             2019-03-01            2019-04-02\n",
              "\n",
              "[496954 rows x 15 columns]"
            ]
          },
          "metadata": {
            "tags": []
          },
          "execution_count": 24
        }
      ]
    },
    {
      "cell_type": "markdown",
      "metadata": {
        "id": "OygYaU6WugrF",
        "colab_type": "text"
      },
      "source": [
        "Según podemos observar en los cálculos de arriba la variable date_visit abarca desde el 25-02-2019 al 02-04-2019.\n",
        "\n",
        "Veamos ahora como se distribuyen estos datos dentro de este intervalo temporal."
      ]
    },
    {
      "cell_type": "code",
      "metadata": {
        "id": "Ylum6TIvui_s",
        "colab_type": "code",
        "colab": {
          "base_uri": "https://localhost:8080/",
          "height": 824
        },
        "outputId": "ab4d4b11-d0ef-46fe-b281-f7b5602c86ef"
      },
      "source": [
        "dataset_clean['date_visit'].groupby(\n",
        "                          [dataset_clean['date_visit'].dt.month.rename('month'), \n",
        "                           dataset_clean['date_visit'].dt.day.rename('day')]\n",
        "                           ).agg({'count'})"
      ],
      "execution_count": null,
      "outputs": [
        {
          "output_type": "execute_result",
          "data": {
            "text/html": [
              "<div>\n",
              "<style scoped>\n",
              "    .dataframe tbody tr th:only-of-type {\n",
              "        vertical-align: middle;\n",
              "    }\n",
              "\n",
              "    .dataframe tbody tr th {\n",
              "        vertical-align: top;\n",
              "    }\n",
              "\n",
              "    .dataframe thead th {\n",
              "        text-align: right;\n",
              "    }\n",
              "</style>\n",
              "<table border=\"1\" class=\"dataframe\">\n",
              "  <thead>\n",
              "    <tr style=\"text-align: right;\">\n",
              "      <th></th>\n",
              "      <th></th>\n",
              "      <th>count</th>\n",
              "    </tr>\n",
              "    <tr>\n",
              "      <th>month</th>\n",
              "      <th>day</th>\n",
              "      <th></th>\n",
              "    </tr>\n",
              "  </thead>\n",
              "  <tbody>\n",
              "    <tr>\n",
              "      <th rowspan=\"4\" valign=\"top\">2</th>\n",
              "      <th>25</th>\n",
              "      <td>2021</td>\n",
              "    </tr>\n",
              "    <tr>\n",
              "      <th>26</th>\n",
              "      <td>1617</td>\n",
              "    </tr>\n",
              "    <tr>\n",
              "      <th>27</th>\n",
              "      <td>2661</td>\n",
              "    </tr>\n",
              "    <tr>\n",
              "      <th>28</th>\n",
              "      <td>21658</td>\n",
              "    </tr>\n",
              "    <tr>\n",
              "      <th rowspan=\"18\" valign=\"top\">3</th>\n",
              "      <th>1</th>\n",
              "      <td>20906</td>\n",
              "    </tr>\n",
              "    <tr>\n",
              "      <th>7</th>\n",
              "      <td>31894</td>\n",
              "    </tr>\n",
              "    <tr>\n",
              "      <th>8</th>\n",
              "      <td>38442</td>\n",
              "    </tr>\n",
              "    <tr>\n",
              "      <th>11</th>\n",
              "      <td>35573</td>\n",
              "    </tr>\n",
              "    <tr>\n",
              "      <th>12</th>\n",
              "      <td>36365</td>\n",
              "    </tr>\n",
              "    <tr>\n",
              "      <th>13</th>\n",
              "      <td>25702</td>\n",
              "    </tr>\n",
              "    <tr>\n",
              "      <th>14</th>\n",
              "      <td>25169</td>\n",
              "    </tr>\n",
              "    <tr>\n",
              "      <th>15</th>\n",
              "      <td>24035</td>\n",
              "    </tr>\n",
              "    <tr>\n",
              "      <th>18</th>\n",
              "      <td>31013</td>\n",
              "    </tr>\n",
              "    <tr>\n",
              "      <th>19</th>\n",
              "      <td>24466</td>\n",
              "    </tr>\n",
              "    <tr>\n",
              "      <th>20</th>\n",
              "      <td>25683</td>\n",
              "    </tr>\n",
              "    <tr>\n",
              "      <th>21</th>\n",
              "      <td>23490</td>\n",
              "    </tr>\n",
              "    <tr>\n",
              "      <th>22</th>\n",
              "      <td>22772</td>\n",
              "    </tr>\n",
              "    <tr>\n",
              "      <th>25</th>\n",
              "      <td>28824</td>\n",
              "    </tr>\n",
              "    <tr>\n",
              "      <th>26</th>\n",
              "      <td>23528</td>\n",
              "    </tr>\n",
              "    <tr>\n",
              "      <th>27</th>\n",
              "      <td>24537</td>\n",
              "    </tr>\n",
              "    <tr>\n",
              "      <th>28</th>\n",
              "      <td>22123</td>\n",
              "    </tr>\n",
              "    <tr>\n",
              "      <th>29</th>\n",
              "      <td>3119</td>\n",
              "    </tr>\n",
              "    <tr>\n",
              "      <th rowspan=\"2\" valign=\"top\">4</th>\n",
              "      <th>1</th>\n",
              "      <td>1309</td>\n",
              "    </tr>\n",
              "    <tr>\n",
              "      <th>2</th>\n",
              "      <td>47</td>\n",
              "    </tr>\n",
              "  </tbody>\n",
              "</table>\n",
              "</div>"
            ],
            "text/plain": [
              "           count\n",
              "month day       \n",
              "2     25    2021\n",
              "      26    1617\n",
              "      27    2661\n",
              "      28   21658\n",
              "3     1    20906\n",
              "      7    31894\n",
              "      8    38442\n",
              "      11   35573\n",
              "      12   36365\n",
              "      13   25702\n",
              "      14   25169\n",
              "      15   24035\n",
              "      18   31013\n",
              "      19   24466\n",
              "      20   25683\n",
              "      21   23490\n",
              "      22   22772\n",
              "      25   28824\n",
              "      26   23528\n",
              "      27   24537\n",
              "      28   22123\n",
              "      29    3119\n",
              "4     1     1309\n",
              "      2       47"
            ]
          },
          "metadata": {
            "tags": []
          },
          "execution_count": 25
        }
      ]
    },
    {
      "cell_type": "code",
      "metadata": {
        "id": "8D81iiiWuxn3",
        "colab_type": "code",
        "colab": {
          "base_uri": "https://localhost:8080/",
          "height": 173
        },
        "outputId": "5dd4820e-26af-496d-f69b-8c49c3748a00"
      },
      "source": [
        "dataset_clean['date_visit'].groupby([dataset_clean['date_visit'].dt.month.rename('month')]).agg({'count'})"
      ],
      "execution_count": null,
      "outputs": [
        {
          "output_type": "execute_result",
          "data": {
            "text/html": [
              "<div>\n",
              "<style scoped>\n",
              "    .dataframe tbody tr th:only-of-type {\n",
              "        vertical-align: middle;\n",
              "    }\n",
              "\n",
              "    .dataframe tbody tr th {\n",
              "        vertical-align: top;\n",
              "    }\n",
              "\n",
              "    .dataframe thead th {\n",
              "        text-align: right;\n",
              "    }\n",
              "</style>\n",
              "<table border=\"1\" class=\"dataframe\">\n",
              "  <thead>\n",
              "    <tr style=\"text-align: right;\">\n",
              "      <th></th>\n",
              "      <th>count</th>\n",
              "    </tr>\n",
              "    <tr>\n",
              "      <th>month</th>\n",
              "      <th></th>\n",
              "    </tr>\n",
              "  </thead>\n",
              "  <tbody>\n",
              "    <tr>\n",
              "      <th>2</th>\n",
              "      <td>27957</td>\n",
              "    </tr>\n",
              "    <tr>\n",
              "      <th>3</th>\n",
              "      <td>467641</td>\n",
              "    </tr>\n",
              "    <tr>\n",
              "      <th>4</th>\n",
              "      <td>1356</td>\n",
              "    </tr>\n",
              "  </tbody>\n",
              "</table>\n",
              "</div>"
            ],
            "text/plain": [
              "        count\n",
              "month        \n",
              "2       27957\n",
              "3      467641\n",
              "4        1356"
            ]
          },
          "metadata": {
            "tags": []
          },
          "execution_count": 26
        }
      ]
    },
    {
      "cell_type": "markdown",
      "metadata": {
        "id": "cQSGgXWUu0zH",
        "colab_type": "text"
      },
      "source": [
        "Dada la característica de nuestro problema (estimar una cantidad de días) y al estar trabajando con variables de tipo fecha debemos ser cuidadosas al momento de elegir nuestro conjunto de entrenamiento y validación de manera que le den sentido al problema y que al mismo tiempo representen el 70% y 30% respectivamente de los datos. Es decir, la partición debe estar basada en el hecho de que date_created, date_sent y date_visit se siguen una a la otra en la línea temporal. Por lo tanto, los datos a entrenar deben elegirse hasta un cierto día de la variable date_visit y validarse con datos de date_created a partir de esa fecha.\n",
        "\n",
        "Considerando que nuestro dataset cuenta en este momento con 496954 entradas, el 70% del mismo representa aproximadamente 345000 entradas. Así, de acuerdo a la distribución mostrada arriba si entrenamos nuestro modelo con datos de la variable date_visit hasta el 20 de marzo podriamos llegar a cubrir este porcentaje. En resumen vamos a entrenar con datos que llegaron a destino (este es el por qué se mira data_visit) y vamos a validar con datos cuyas compras se crearon (date_created) después de esa fecha.\n",
        "\n",
        "A continuación se realizan los cálculos que permitirán hacer la partición de los datos de acuerdo al criterio antes mencionado.\n",
        "\n",
        "Mask1 la vamos a usar para hacer el filtrado de los datos para el entrenamiento y mask2 la vamos a usar para hacer el filtrado de los datos para la validacion."
      ]
    },
    {
      "cell_type": "code",
      "metadata": {
        "id": "H0egWDdsvow_",
        "colab_type": "code",
        "colab": {}
      },
      "source": [
        "mask1 = dataset_clean['date_visit']<=pandas.to_datetime('2019-03-20')\n",
        "mask2 = dataset_clean['date_created']>pandas.to_datetime('2019-03-20')"
      ],
      "execution_count": null,
      "outputs": []
    },
    {
      "cell_type": "markdown",
      "metadata": {
        "id": "rJS_3BqtvuKA",
        "colab_type": "text"
      },
      "source": [
        "Eliminamos los valores que cumplen con las dos condiciones simultáneamente."
      ]
    },
    {
      "cell_type": "code",
      "metadata": {
        "id": "UFMuo9Jkvw0V",
        "colab_type": "code",
        "colab": {}
      },
      "source": [
        "dataset_clean.drop(dataset_clean[mask1&mask2].index, inplace = True)"
      ],
      "execution_count": null,
      "outputs": []
    },
    {
      "cell_type": "code",
      "metadata": {
        "id": "o4e4aBsqvy8w",
        "colab_type": "code",
        "colab": {}
      },
      "source": [
        "df_train = dataset_clean.loc[mask1]"
      ],
      "execution_count": null,
      "outputs": []
    },
    {
      "cell_type": "code",
      "metadata": {
        "id": "gwqihbS5v1v-",
        "colab_type": "code",
        "colab": {}
      },
      "source": [
        "df_test = dataset_clean.loc[mask2]"
      ],
      "execution_count": null,
      "outputs": []
    },
    {
      "cell_type": "code",
      "metadata": {
        "id": "8__vOORRwWG0",
        "colab_type": "code",
        "colab": {}
      },
      "source": [
        "X_train = df_train[['receiver_state_le','service']]"
      ],
      "execution_count": null,
      "outputs": []
    },
    {
      "cell_type": "code",
      "metadata": {
        "id": "056Yg9Q3wbKz",
        "colab_type": "code",
        "colab": {}
      },
      "source": [
        "y_train = df_train[['shipment_days']]"
      ],
      "execution_count": null,
      "outputs": []
    },
    {
      "cell_type": "code",
      "metadata": {
        "id": "McO0m55JxHLQ",
        "colab_type": "code",
        "colab": {}
      },
      "source": [
        "X_test = df_test[['receiver_state_le','service']]"
      ],
      "execution_count": null,
      "outputs": []
    },
    {
      "cell_type": "code",
      "metadata": {
        "id": "3EeEjZ7ExLHy",
        "colab_type": "code",
        "colab": {}
      },
      "source": [
        "y_test = df_test[['shipment_days']]"
      ],
      "execution_count": null,
      "outputs": []
    },
    {
      "cell_type": "markdown",
      "metadata": {
        "id": "6pRNZPOXwom1",
        "colab_type": "text"
      },
      "source": [
        "Necesitamos que el target sea un valor entero, por ende convertimos shipment_day en entero:"
      ]
    },
    {
      "cell_type": "code",
      "metadata": {
        "colab_type": "code",
        "id": "aYgXDombelrR",
        "colab": {}
      },
      "source": [
        "shipment_days =  y_train['shipment_days'].astype(int)\n",
        "shipment_days_byclass = [None] * len(shipment_days)\n",
        "for line,row in enumerate(shipment_days):\n",
        "    if 0==row:\n",
        "        shipment_days_byclass[line] = 0\n",
        "    elif 1==row:\n",
        "        shipment_days_byclass[line] = 1     \n",
        "    elif 2==row:\n",
        "        shipment_days_byclass[line] = 2\n",
        "    elif 3==row:\n",
        "        shipment_days_byclass[line] = 3\n",
        "    elif 4==row:\n",
        "        shipment_days_byclass[line] = 4\n",
        "    elif 5==row:\n",
        "        shipment_days_byclass[line] = 5        \n",
        "    else:\n",
        "        shipment_days_byclass[line] = 6        "
      ],
      "execution_count": null,
      "outputs": []
    },
    {
      "cell_type": "code",
      "metadata": {
        "id": "Yecda-4l4f1_",
        "colab_type": "code",
        "colab": {
          "base_uri": "https://localhost:8080/",
          "height": 343
        },
        "outputId": "698a949b-11b7-4f8e-9915-fb86c830c73c"
      },
      "source": [
        "y_train.loc[:,('shipment_days_byclass')] = shipment_days_byclass\n",
        "y_train['shipment_days_byclass'].head()"
      ],
      "execution_count": null,
      "outputs": [
        {
          "output_type": "stream",
          "text": [
            "/usr/local/lib/python3.6/dist-packages/pandas/core/indexing.py:376: SettingWithCopyWarning: \n",
            "A value is trying to be set on a copy of a slice from a DataFrame.\n",
            "Try using .loc[row_indexer,col_indexer] = value instead\n",
            "\n",
            "See the caveats in the documentation: http://pandas.pydata.org/pandas-docs/stable/user_guide/indexing.html#returning-a-view-versus-a-copy\n",
            "  self.obj[key] = _infer_fill_value(value)\n",
            "/usr/local/lib/python3.6/dist-packages/pandas/core/indexing.py:576: SettingWithCopyWarning: \n",
            "A value is trying to be set on a copy of a slice from a DataFrame.\n",
            "Try using .loc[row_indexer,col_indexer] = value instead\n",
            "\n",
            "See the caveats in the documentation: http://pandas.pydata.org/pandas-docs/stable/user_guide/indexing.html#returning-a-view-versus-a-copy\n",
            "  self.obj[item_labels[indexer[info_axis]]] = value\n"
          ],
          "name": "stderr"
        },
        {
          "output_type": "execute_result",
          "data": {
            "text/plain": [
              "0    5\n",
              "1    5\n",
              "2    4\n",
              "3    2\n",
              "4    6\n",
              "Name: shipment_days_byclass, dtype: int64"
            ]
          },
          "metadata": {
            "tags": []
          },
          "execution_count": 36
        }
      ]
    },
    {
      "cell_type": "markdown",
      "metadata": {
        "id": "pk6PfvMHxTGj",
        "colab_type": "text"
      },
      "source": [
        "Hay que hacer lo mismo para los valores de validación:"
      ]
    },
    {
      "cell_type": "code",
      "metadata": {
        "id": "c6RkG6-PxVw0",
        "colab_type": "code",
        "colab": {}
      },
      "source": [
        "shipment_days_test = y_test['shipment_days'].astype(int)\n",
        "shipment_days_byclass_test = [None] * len(shipment_days_test)\n",
        "for line,row in enumerate(shipment_days_test):\n",
        "    if 0==row:\n",
        "        shipment_days_byclass_test[line] = 0\n",
        "    elif 1==row:\n",
        "        shipment_days_byclass_test[line] = 1     \n",
        "    elif 2==row:\n",
        "        shipment_days_byclass_test[line] = 2\n",
        "    elif 3==row:\n",
        "        shipment_days_byclass_test[line] = 3\n",
        "    elif 4==row:\n",
        "        shipment_days_byclass_test[line] = 4\n",
        "    elif 5==row:\n",
        "        shipment_days_byclass_test[line] = 5        \n",
        "    else:\n",
        "        shipment_days_byclass_test[line] = 6"
      ],
      "execution_count": null,
      "outputs": []
    },
    {
      "cell_type": "code",
      "metadata": {
        "id": "Q2h2DyDMxZDf",
        "colab_type": "code",
        "colab": {
          "base_uri": "https://localhost:8080/",
          "height": 139
        },
        "outputId": "9fce935e-74a8-4fa5-c64a-733f8a2c654f"
      },
      "source": [
        "y_test['shipment_days_byclass'] = shipment_days_byclass_test"
      ],
      "execution_count": null,
      "outputs": [
        {
          "output_type": "stream",
          "text": [
            "/usr/local/lib/python3.6/dist-packages/ipykernel_launcher.py:1: SettingWithCopyWarning: \n",
            "A value is trying to be set on a copy of a slice from a DataFrame.\n",
            "Try using .loc[row_indexer,col_indexer] = value instead\n",
            "\n",
            "See the caveats in the documentation: http://pandas.pydata.org/pandas-docs/stable/user_guide/indexing.html#returning-a-view-versus-a-copy\n",
            "  \"\"\"Entry point for launching an IPython kernel.\n"
          ],
          "name": "stderr"
        }
      ]
    },
    {
      "cell_type": "code",
      "metadata": {
        "id": "BWBwvvznxbTF",
        "colab_type": "code",
        "colab": {
          "base_uri": "https://localhost:8080/",
          "height": 34
        },
        "outputId": "5c32c234-004c-4a24-f672-f2d2d9d0605d"
      },
      "source": [
        "y_test['shipment_days_byclass'].values"
      ],
      "execution_count": null,
      "outputs": [
        {
          "output_type": "execute_result",
          "data": {
            "text/plain": [
              "array([1, 0, 3, ..., 3, 1, 2])"
            ]
          },
          "metadata": {
            "tags": []
          },
          "execution_count": 39
        }
      ]
    },
    {
      "cell_type": "code",
      "metadata": {
        "id": "Kljq_GawzRjo",
        "colab_type": "code",
        "colab": {
          "base_uri": "https://localhost:8080/",
          "height": 34
        },
        "outputId": "590156eb-6e56-4e60-c78f-35ac38355ddc"
      },
      "source": [
        "y_train['shipment_days_byclass'].values"
      ],
      "execution_count": null,
      "outputs": [
        {
          "output_type": "execute_result",
          "data": {
            "text/plain": [
              "array([5, 5, 4, ..., 2, 2, 6])"
            ]
          },
          "metadata": {
            "tags": []
          },
          "execution_count": 40
        }
      ]
    },
    {
      "cell_type": "code",
      "metadata": {
        "id": "35v9hpyi4f2E",
        "colab_type": "code",
        "colab": {
          "base_uri": "https://localhost:8080/",
          "height": 204
        },
        "outputId": "397c10a2-249a-4ff6-8cd7-dc0c14297c51"
      },
      "source": [
        "X_train.head()"
      ],
      "execution_count": null,
      "outputs": [
        {
          "output_type": "execute_result",
          "data": {
            "text/html": [
              "<div>\n",
              "<style scoped>\n",
              "    .dataframe tbody tr th:only-of-type {\n",
              "        vertical-align: middle;\n",
              "    }\n",
              "\n",
              "    .dataframe tbody tr th {\n",
              "        vertical-align: top;\n",
              "    }\n",
              "\n",
              "    .dataframe thead th {\n",
              "        text-align: right;\n",
              "    }\n",
              "</style>\n",
              "<table border=\"1\" class=\"dataframe\">\n",
              "  <thead>\n",
              "    <tr style=\"text-align: right;\">\n",
              "      <th></th>\n",
              "      <th>receiver_state_le</th>\n",
              "      <th>service</th>\n",
              "    </tr>\n",
              "  </thead>\n",
              "  <tbody>\n",
              "    <tr>\n",
              "      <th>0</th>\n",
              "      <td>25</td>\n",
              "      <td>1</td>\n",
              "    </tr>\n",
              "    <tr>\n",
              "      <th>1</th>\n",
              "      <td>14</td>\n",
              "      <td>1</td>\n",
              "    </tr>\n",
              "    <tr>\n",
              "      <th>2</th>\n",
              "      <td>18</td>\n",
              "      <td>2</td>\n",
              "    </tr>\n",
              "    <tr>\n",
              "      <th>3</th>\n",
              "      <td>25</td>\n",
              "      <td>2</td>\n",
              "    </tr>\n",
              "    <tr>\n",
              "      <th>4</th>\n",
              "      <td>3</td>\n",
              "      <td>1</td>\n",
              "    </tr>\n",
              "  </tbody>\n",
              "</table>\n",
              "</div>"
            ],
            "text/plain": [
              "   receiver_state_le  service\n",
              "0                 25        1\n",
              "1                 14        1\n",
              "2                 18        2\n",
              "3                 25        2\n",
              "4                  3        1"
            ]
          },
          "metadata": {
            "tags": []
          },
          "execution_count": 41
        }
      ]
    },
    {
      "cell_type": "code",
      "metadata": {
        "id": "X9WV995q4f2P",
        "colab_type": "code",
        "colab": {}
      },
      "source": [
        "#col = y_test['shipment_days_byclass'].map({1:'r', 0:'b'})# ver si se usa esto\n",
        "#col"
      ],
      "execution_count": null,
      "outputs": []
    },
    {
      "cell_type": "code",
      "metadata": {
        "id": "_ZuPDcVi4f2b",
        "colab_type": "code",
        "colab": {
          "base_uri": "https://localhost:8080/",
          "height": 139
        },
        "outputId": "a7b0bacd-5dca-4714-d5e4-e397b382f9f6"
      },
      "source": [
        "clf = sklearn.svm.LinearSVC()\n",
        "clf.fit(X_train.head(3000), y_train['shipment_days_byclass'].head(3000))"
      ],
      "execution_count": null,
      "outputs": [
        {
          "output_type": "stream",
          "text": [
            "/usr/local/lib/python3.6/dist-packages/sklearn/svm/base.py:929: ConvergenceWarning: Liblinear failed to converge, increase the number of iterations.\n",
            "  \"the number of iterations.\", ConvergenceWarning)\n"
          ],
          "name": "stderr"
        },
        {
          "output_type": "execute_result",
          "data": {
            "text/plain": [
              "LinearSVC(C=1.0, class_weight=None, dual=True, fit_intercept=True,\n",
              "          intercept_scaling=1, loss='squared_hinge', max_iter=1000,\n",
              "          multi_class='ovr', penalty='l2', random_state=None, tol=0.0001,\n",
              "          verbose=0)"
            ]
          },
          "metadata": {
            "tags": []
          },
          "execution_count": 43
        }
      ]
    },
    {
      "cell_type": "code",
      "metadata": {
        "id": "dmN_wkvh4f2_",
        "colab_type": "code",
        "colab": {}
      },
      "source": [
        "def plot_contours(ax, clf, xx, yy, **params):\n",
        "    \"\"\"Plot the decision boundaries for a classifier.\n",
        "\n",
        "    Parameters\n",
        "    ----------\n",
        "    ax: matplotlib axes object\n",
        "    clf: a classifier\n",
        "    xx: meshgrid ndarray\n",
        "    yy: meshgrid ndarray\n",
        "    params: dictionary of params to pass to contourf, optional\n",
        "    \"\"\"\n",
        "    Z = clf.predict(np.c_[xx.ravel(), yy.ravel()]) #concatena\n",
        "    #print(Z)\n",
        "    Z = Z.reshape(xx.shape) #le vuelve a poner x\n",
        "    out = ax.contourf(xx, yy, Z, **params)\n",
        "    return out"
      ],
      "execution_count": null,
      "outputs": []
    },
    {
      "cell_type": "code",
      "metadata": {
        "id": "xmv9jphy3h5q",
        "colab_type": "code",
        "colab": {}
      },
      "source": [
        "\n",
        "def make_meshgrid(x, y, h=.02):\n",
        "    \"\"\"Create a mesh of points to plot in\n",
        "\n",
        "    Parameters\n",
        "    ----------\n",
        "    x: data to base x-axis meshgrid on\n",
        "    y: data to base y-axis meshgrid on\n",
        "    h: stepsize for meshgrid, optional\n",
        "\n",
        "    Returns\n",
        "    -------\n",
        "    xx, yy : ndarray\n",
        "    \"\"\"\n",
        "    x_min, x_max = x.min() - 1, x.max() + 1\n",
        "    y_min, y_max = y.min() - 1, y.max() + 1\n",
        "    xx, yy = np.meshgrid(np.arange(x_min, x_max, h),\n",
        "                         np.arange(y_min, y_max, h))\n",
        "    return xx, yy"
      ],
      "execution_count": null,
      "outputs": []
    },
    {
      "cell_type": "code",
      "metadata": {
        "id": "SenD9ioEGQ1n",
        "colab_type": "code",
        "colab": {
          "base_uri": "https://localhost:8080/",
          "height": 295
        },
        "outputId": "122415ec-87cb-40f8-fc7e-57ef5ab1e184"
      },
      "source": [
        "xx, yy = make_meshgrid(X_train['service'].head(3000).values, X_train['receiver_state_le'].head(3000).values)\n",
        "fig, sub = plt.subplots(1, 1)\n",
        "plt.subplots_adjust(wspace=0.4, hspace=0.4)\n",
        "U = clf.predict(np.c_[xx.ravel(), yy.ravel()])\n",
        "\n",
        "Z = U.reshape(xx.shape)\n",
        "\n",
        "out = sub.contourf(xx, yy, Z)\n",
        "sub.scatter(X_test['service'].values, X_test['receiver_state_le'].values , c=y_test['shipment_days_byclass'].values, s=20, edgecolors='k')\n",
        "sub.set_xlabel('Service')\n",
        "sub.set_ylabel('Receiver State')\n",
        "plt.title(\"Linear SVC\")\n",
        "sns.despine()"
      ],
      "execution_count": null,
      "outputs": [
        {
          "output_type": "display_data",
          "data": {
            "image/png": "[encoded data removed]",
            "text/plain": [
              "<Figure size 432x288 with 1 Axes>"
            ]
          },
          "metadata": {
            "tags": []
          }
        }
      ]
    },
    {
      "cell_type": "code",
      "metadata": {
        "id": "g_qWWfX-UjPX",
        "colab_type": "code",
        "colab": {
          "base_uri": "https://localhost:8080/",
          "height": 34
        },
        "outputId": "a782b78b-7346-481e-c47e-4516d979b57d"
      },
      "source": [
        "X_test.shape"
      ],
      "execution_count": null,
      "outputs": [
        {
          "output_type": "execute_result",
          "data": {
            "text/plain": [
              "(32524, 2)"
            ]
          },
          "metadata": {
            "tags": []
          },
          "execution_count": 47
        }
      ]
    },
    {
      "cell_type": "code",
      "metadata": {
        "id": "4QDj76caVIip",
        "colab_type": "code",
        "colab": {
          "base_uri": "https://localhost:8080/",
          "height": 34
        },
        "outputId": "e2c1d22d-f4a7-4f65-be49-cefb81584e59"
      },
      "source": [
        "y_test.shape"
      ],
      "execution_count": null,
      "outputs": [
        {
          "output_type": "execute_result",
          "data": {
            "text/plain": [
              "(32524, 2)"
            ]
          },
          "metadata": {
            "tags": []
          },
          "execution_count": 48
        }
      ]
    },
    {
      "cell_type": "code",
      "metadata": {
        "id": "VjMTDEmDlYQd",
        "colab_type": "code",
        "colab": {
          "base_uri": "https://localhost:8080/",
          "height": 153
        },
        "outputId": "8fae70fa-75a7-4e01-f83a-851a3720e468"
      },
      "source": [
        "import os.path\n",
        "if not os.path.exists(\"./diplodatos\"):\n",
        "  !git clone https://github.com/cnoeliachaves/diplodatos.git"
      ],
      "execution_count": null,
      "outputs": [
        {
          "output_type": "stream",
          "text": [
            "Cloning into 'diplodatos'...\n",
            "remote: Enumerating objects: 155, done.\u001b[K\n",
            "remote: Counting objects: 100% (155/155), done.\u001b[K\n",
            "remote: Compressing objects: 100% (134/134), done.\u001b[K\n",
            "remote: Total 504 (delta 33), reused 138 (delta 20), pack-reused 349\u001b[K\n",
            "Receiving objects: 100% (504/504), 139.17 MiB | 12.90 MiB/s, done.\n",
            "Resolving deltas: 100% (152/152), done.\n",
            "Checking out files: 100% (288/288), done.\n"
          ],
          "name": "stdout"
        }
      ]
    },
    {
      "cell_type": "code",
      "metadata": {
        "id": "wTrHj29xmM1K",
        "colab_type": "code",
        "colab": {}
      },
      "source": [
        "from diplodatos.ml.visualization import plot_confusion_matrix, plot_learning_curve"
      ],
      "execution_count": null,
      "outputs": []
    },
    {
      "cell_type": "code",
      "metadata": {
        "id": "ot748cYZ4f2f",
        "colab_type": "code",
        "colab": {}
      },
      "source": [
        "from sklearn.metrics import accuracy_score"
      ],
      "execution_count": null,
      "outputs": []
    },
    {
      "cell_type": "code",
      "metadata": {
        "id": "KnFEFXup58Or",
        "colab_type": "code",
        "colab": {
          "base_uri": "https://localhost:8080/",
          "height": 34
        },
        "outputId": "af628f09-d8bb-4d01-e815-c42ce3c6172a"
      },
      "source": [
        "print(\"LSVC Accuracy :\", accuracy_score(y_test['shipment_days_byclass'].head(3000), U[:y_test['shipment_days_byclass'].head(3000).shape[0]])*100)"
      ],
      "execution_count": null,
      "outputs": [
        {
          "output_type": "stream",
          "text": [
            "LSVC Accuracy : 0.03333333333333333\n"
          ],
          "name": "stdout"
        }
      ]
    },
    {
      "cell_type": "markdown",
      "metadata": {
        "id": "P9et_6RIuojG",
        "colab_type": "text"
      },
      "source": [
        "El accuray que obtenemos es muy bajo, por lo que podemos ver que los datos no son linealmente separables."
      ]
    },
    {
      "cell_type": "code",
      "metadata": {
        "id": "Pr8_B9A7anKQ",
        "colab_type": "code",
        "colab": {
          "base_uri": "https://localhost:8080/",
          "height": 34
        },
        "outputId": "22561665-ca62-4547-a336-4fe0d72c05cb"
      },
      "source": [
        "y_test.shape[0]"
      ],
      "execution_count": null,
      "outputs": [
        {
          "output_type": "execute_result",
          "data": {
            "text/plain": [
              "32524"
            ]
          },
          "metadata": {
            "tags": []
          },
          "execution_count": 53
        }
      ]
    },
    {
      "cell_type": "markdown",
      "metadata": {
        "id": "hynFzqM0zog2",
        "colab_type": "text"
      },
      "source": [
        "Computemos la matriz de confusión para ver los outliers:"
      ]
    },
    {
      "cell_type": "code",
      "metadata": {
        "id": "1MD2rmMOz7Kx",
        "colab_type": "code",
        "colab": {}
      },
      "source": [
        "from sklearn.metrics import confusion_matrix"
      ],
      "execution_count": null,
      "outputs": []
    },
    {
      "cell_type": "code",
      "metadata": {
        "id": "FJ4JJBGm5L-F",
        "colab_type": "code",
        "colab": {
          "base_uri": "https://localhost:8080/",
          "height": 136
        },
        "outputId": "abf0720f-bb91-4386-9b8f-45216fa3881f"
      },
      "source": [
        "# Compute confusion matrix\n",
        "cnf_matrix = confusion_matrix(y_test['shipment_days_byclass'], U[:y_test.shape[0]])\n",
        "cnf_matrix"
      ],
      "execution_count": null,
      "outputs": [
        {
          "output_type": "execute_result",
          "data": {
            "text/plain": [
              "array([[    0,     0,     0,     0,     0,     0,  1826],\n",
              "       [    0,     0,     0,     0,     0,     0, 16445],\n",
              "       [    0,     0,     0,     0,     0,     0,  8988],\n",
              "       [    0,     0,     0,     0,     0,     0,  3774],\n",
              "       [    0,     0,     0,     0,     0,     0,  1195],\n",
              "       [    0,     0,     0,     0,     0,     0,   285],\n",
              "       [    0,     0,     0,     0,     0,     0,    11]])"
            ]
          },
          "metadata": {
            "tags": []
          },
          "execution_count": 55
        }
      ]
    },
    {
      "cell_type": "code",
      "metadata": {
        "id": "sOTyVqablDKy",
        "colab_type": "code",
        "colab": {}
      },
      "source": [
        "class_names={'0','1','2','3','4','5','6'}"
      ],
      "execution_count": null,
      "outputs": []
    },
    {
      "cell_type": "code",
      "metadata": {
        "id": "lflSKEMP5L8X",
        "colab_type": "code",
        "colab": {
          "base_uri": "https://localhost:8080/",
          "height": 369
        },
        "outputId": "7344aa98-6104-4a2e-a08c-72a36cc0642e"
      },
      "source": [
        "# Plot non-normalized confusion matrix\n",
        "plt.figure(figsize=(5,5))\n",
        "plot_confusion_matrix(cnf_matrix, classes=class_names,\n",
        "                      title='Confusion matrix, without normalization')\n",
        "#plot_confusion_matrix(cnf_matrix,\n",
        "#                      title='Confusion matrix, without normalization')\n",
        "\n",
        "# Plot normalized confusion matrix\n",
        "#plt.figure()\n",
        "#plot_confusion_matrix(cnf_matrix, classes=class_names, normalize=True,\n",
        "#                      title='Normalized confusion matrix')\n",
        "\n",
        "plt.show()"
      ],
      "execution_count": null,
      "outputs": [
        {
          "output_type": "display_data",
          "data": {
            "image/png": "[encoded data removed]",
            "text/plain": [
              "<Figure size 360x360 with 2 Axes>"
            ]
          },
          "metadata": {
            "tags": []
          }
        }
      ]
    },
    {
      "cell_type": "markdown",
      "metadata": {
        "id": "kBSrjaC98Lr2",
        "colab_type": "text"
      },
      "source": [
        "Se predijieron 285 casos como del estado 2, cuando en realidad corresponden al estado 1. Idem con los demás valores."
      ]
    },
    {
      "cell_type": "markdown",
      "metadata": {
        "id": "s2u7yYEhKak7",
        "colab_type": "text"
      },
      "source": [
        "Existen varios kernels, entre ellos estan: sigmoid, rbf, y poly. Creemos que el kernel que se podria usar para realizar la proyeccion seria poly por la forma de los datos que podemos ver en la figura donde se ploteo LinearSVC."
      ]
    },
    {
      "cell_type": "code",
      "metadata": {
        "colab_type": "code",
        "id": "FsPbpfJiZGyK",
        "colab": {}
      },
      "source": [
        "clf = sklearn.svm.SVC(kernel=\"poly\", gamma=\"auto\")\n",
        "clf.fit(X_train.head(1000), y_train['shipment_days_byclass'].head(1000));#bajarle a la cantidad de entrenamiento"
      ],
      "execution_count": null,
      "outputs": []
    },
    {
      "cell_type": "code",
      "metadata": {
        "id": "5K2ZC30VLMEv",
        "colab_type": "code",
        "colab": {
          "base_uri": "https://localhost:8080/",
          "height": 312
        },
        "outputId": "f339c606-9869-4c62-dc97-80169e975f82"
      },
      "source": [
        "xx, yy = make_meshgrid(X_train['service'].head(1000).values, X_train['receiver_state_le'].head(1000).values)\n",
        "fig, sub = plt.subplots(1, 1)\n",
        "plt.subplots_adjust(wspace=0.4, hspace=0.4)\n",
        "U = clf.predict(np.c_[xx.ravel(), yy.ravel()])\n",
        "\n",
        "Z = U.reshape(xx.shape)\n",
        "\n",
        "out = sub.contourf(xx, yy, Z)\n",
        "sub.scatter(X_test['service'].values, X_test['receiver_state_le'].values , c=y_test['shipment_days_byclass'].values, s=20, edgecolors='k')\n",
        "sub.set_xlabel('Service')\n",
        "sub.set_ylabel('Receiver state')\n",
        "plt.title(\"Polinomial\")"
      ],
      "execution_count": null,
      "outputs": [
        {
          "output_type": "execute_result",
          "data": {
            "text/plain": [
              "Text(0.5, 1.0, 'Polinomial')"
            ]
          },
          "metadata": {
            "tags": []
          },
          "execution_count": 59
        },
        {
          "output_type": "display_data",
          "data": {
            "image/png": "[encoded data removed]",
            "text/plain": [
              "<Figure size 432x288 with 1 Axes>"
            ]
          },
          "metadata": {
            "tags": []
          }
        }
      ]
    },
    {
      "cell_type": "markdown",
      "metadata": {
        "id": "OJ0V7e46kH9_",
        "colab_type": "text"
      },
      "source": [
        "Calculemos el accuracy:"
      ]
    },
    {
      "cell_type": "code",
      "metadata": {
        "id": "cLRhBFF-N0L1",
        "colab_type": "code",
        "colab": {
          "base_uri": "https://localhost:8080/",
          "height": 34
        },
        "outputId": "ceba4992-db61-42cb-a378-7a549671ab81"
      },
      "source": [
        "print(\"LSVC Accuracy :\", accuracy_score(y_test['shipment_days_byclass'].head(1000), U[:y_test['shipment_days_byclass'].head(1000).shape[0]])*100)"
      ],
      "execution_count": null,
      "outputs": [
        {
          "output_type": "stream",
          "text": [
            "LSVC Accuracy : 5.6000000000000005\n"
          ],
          "name": "stdout"
        }
      ]
    },
    {
      "cell_type": "markdown",
      "metadata": {
        "id": "Dr9T6noulWGT",
        "colab_type": "text"
      },
      "source": [
        "Mejora un poco, pero no hasta llegar a un valor esperado cercano a 1."
      ]
    },
    {
      "cell_type": "markdown",
      "metadata": {
        "id": "1E0l3HZzmOjD",
        "colab_type": "text"
      },
      "source": [
        "En la problemática propuesta, podemos dividir la experiencia del usuario en tres            situaciones diferentes: el envío llegó antes de lo prometido, el día prometido o             después del día prometido. Definir una o más métricas que nos permitan determinar             la performance de los modelos desarrollados considerando las tres posibles          experiencias de usuario de interés."
      ]
    },
    {
      "cell_type": "markdown",
      "metadata": {
        "id": "Xm9ENoQUNyZ0",
        "colab_type": "text"
      },
      "source": [
        "Podemos definir 3 métricas dónde:\n",
        "1. Cuente la cantidad de envíos que llegaron antes de lo prometido sobre el total de envíos.\n",
        "2. Cuente la cantidad de envíos que llegaron el día prometido sobre el total de envíos.\n",
        "3. Cuente la cantidad de envíos que llegaron después de lo prometido sobre el total de envíos."
      ]
    },
    {
      "cell_type": "markdown",
      "metadata": {
        "id": "Se1UfgII7CNK",
        "colab_type": "text"
      },
      "source": [
        "A continuación usaremos un método de ensembling, tratando de usar las métricas definidas arriba:"
      ]
    },
    {
      "cell_type": "code",
      "metadata": {
        "id": "tp5OCFsj7Cw7",
        "colab_type": "code",
        "colab": {}
      },
      "source": [
        "from sklearn import ensemble"
      ],
      "execution_count": null,
      "outputs": []
    },
    {
      "cell_type": "markdown",
      "metadata": {
        "id": "DZHjEfh5v-ZA",
        "colab_type": "text"
      },
      "source": [
        "Volvamos a usar *y* como shipment_days, que es el tiempo que demoró en llegar el paquete al destinatario, usando todas las clases.\n",
        "\n",
        "En X seguimos usando el que definimos previamente."
      ]
    },
    {
      "cell_type": "code",
      "metadata": {
        "id": "79L4jTib-YFo",
        "colab_type": "code",
        "colab": {
          "base_uri": "https://localhost:8080/",
          "height": 204
        },
        "outputId": "afd152bf-347e-413e-e033-78c4b46802c2"
      },
      "source": [
        "X_train.head(5)"
      ],
      "execution_count": null,
      "outputs": [
        {
          "output_type": "execute_result",
          "data": {
            "text/html": [
              "<div>\n",
              "<style scoped>\n",
              "    .dataframe tbody tr th:only-of-type {\n",
              "        vertical-align: middle;\n",
              "    }\n",
              "\n",
              "    .dataframe tbody tr th {\n",
              "        vertical-align: top;\n",
              "    }\n",
              "\n",
              "    .dataframe thead th {\n",
              "        text-align: right;\n",
              "    }\n",
              "</style>\n",
              "<table border=\"1\" class=\"dataframe\">\n",
              "  <thead>\n",
              "    <tr style=\"text-align: right;\">\n",
              "      <th></th>\n",
              "      <th>receiver_state_le</th>\n",
              "      <th>service</th>\n",
              "    </tr>\n",
              "  </thead>\n",
              "  <tbody>\n",
              "    <tr>\n",
              "      <th>0</th>\n",
              "      <td>25</td>\n",
              "      <td>1</td>\n",
              "    </tr>\n",
              "    <tr>\n",
              "      <th>1</th>\n",
              "      <td>14</td>\n",
              "      <td>1</td>\n",
              "    </tr>\n",
              "    <tr>\n",
              "      <th>2</th>\n",
              "      <td>18</td>\n",
              "      <td>2</td>\n",
              "    </tr>\n",
              "    <tr>\n",
              "      <th>3</th>\n",
              "      <td>25</td>\n",
              "      <td>2</td>\n",
              "    </tr>\n",
              "    <tr>\n",
              "      <th>4</th>\n",
              "      <td>3</td>\n",
              "      <td>1</td>\n",
              "    </tr>\n",
              "  </tbody>\n",
              "</table>\n",
              "</div>"
            ],
            "text/plain": [
              "   receiver_state_le  service\n",
              "0                 25        1\n",
              "1                 14        1\n",
              "2                 18        2\n",
              "3                 25        2\n",
              "4                  3        1"
            ]
          },
          "metadata": {
            "tags": []
          },
          "execution_count": 62
        }
      ]
    },
    {
      "cell_type": "code",
      "metadata": {
        "id": "NRFJt_2v-r1Y",
        "colab_type": "code",
        "colab": {
          "base_uri": "https://localhost:8080/",
          "height": 204
        },
        "outputId": "c00fb3ba-a5c3-4f57-f781-b84f746e92ec"
      },
      "source": [
        "y_train.head(5)"
      ],
      "execution_count": null,
      "outputs": [
        {
          "output_type": "execute_result",
          "data": {
            "text/html": [
              "<div>\n",
              "<style scoped>\n",
              "    .dataframe tbody tr th:only-of-type {\n",
              "        vertical-align: middle;\n",
              "    }\n",
              "\n",
              "    .dataframe tbody tr th {\n",
              "        vertical-align: top;\n",
              "    }\n",
              "\n",
              "    .dataframe thead th {\n",
              "        text-align: right;\n",
              "    }\n",
              "</style>\n",
              "<table border=\"1\" class=\"dataframe\">\n",
              "  <thead>\n",
              "    <tr style=\"text-align: right;\">\n",
              "      <th></th>\n",
              "      <th>shipment_days</th>\n",
              "      <th>shipment_days_byclass</th>\n",
              "    </tr>\n",
              "  </thead>\n",
              "  <tbody>\n",
              "    <tr>\n",
              "      <th>0</th>\n",
              "      <td>5.0</td>\n",
              "      <td>5</td>\n",
              "    </tr>\n",
              "    <tr>\n",
              "      <th>1</th>\n",
              "      <td>5.0</td>\n",
              "      <td>5</td>\n",
              "    </tr>\n",
              "    <tr>\n",
              "      <th>2</th>\n",
              "      <td>4.0</td>\n",
              "      <td>4</td>\n",
              "    </tr>\n",
              "    <tr>\n",
              "      <th>3</th>\n",
              "      <td>2.0</td>\n",
              "      <td>2</td>\n",
              "    </tr>\n",
              "    <tr>\n",
              "      <th>4</th>\n",
              "      <td>13.0</td>\n",
              "      <td>6</td>\n",
              "    </tr>\n",
              "  </tbody>\n",
              "</table>\n",
              "</div>"
            ],
            "text/plain": [
              "   shipment_days  shipment_days_byclass\n",
              "0            5.0                      5\n",
              "1            5.0                      5\n",
              "2            4.0                      4\n",
              "3            2.0                      2\n",
              "4           13.0                      6"
            ]
          },
          "metadata": {
            "tags": []
          },
          "execution_count": 63
        }
      ]
    },
    {
      "cell_type": "markdown",
      "metadata": {
        "id": "U9frYSR0z0yv",
        "colab_type": "text"
      },
      "source": [
        "No dividimos los datos en entrenamiento y validación, usamos los que estan definidos arriba:"
      ]
    },
    {
      "cell_type": "markdown",
      "metadata": {
        "id": "chjnnvQ3e2cY",
        "colab_type": "text"
      },
      "source": [
        "Random Forest es un meta estimador que se ajusta a varios clasificadores de árboles de decisión sobre varias submuestras del conjuto de datos y utiliza el promedio para mejorar el accuracy y controlar el over-fitting (sobreajuste). El tamaño de las submuestras siempre son el mismo que el tamaño de la muestra de entrada original, pero las muestras se extraen con reemplazo si boostrap=True (esta seteado por default)"
      ]
    },
    {
      "cell_type": "code",
      "metadata": {
        "id": "favnUkCW7TTh",
        "colab_type": "code",
        "colab": {
          "base_uri": "https://localhost:8080/",
          "height": 71
        },
        "outputId": "c4a2a80f-d701-4e7d-93f5-a6994c3bfcea"
      },
      "source": [
        "clf = ensemble.RandomForestClassifier(random_state=2)\n",
        "clf.fit(X_train, y_train['shipment_days_byclass'].values);"
      ],
      "execution_count": null,
      "outputs": [
        {
          "output_type": "stream",
          "text": [
            "/usr/local/lib/python3.6/dist-packages/sklearn/ensemble/forest.py:245: FutureWarning: The default value of n_estimators will change from 10 in version 0.20 to 100 in 0.22.\n",
            "  \"10 in version 0.20 to 100 in 0.22.\", FutureWarning)\n"
          ],
          "name": "stderr"
        }
      ]
    },
    {
      "cell_type": "code",
      "metadata": {
        "id": "gLtLUvBD6Pkx",
        "colab_type": "code",
        "colab": {}
      },
      "source": [
        "target_names=['clase_0','clase_1','clase_2','clase_3','clase_4','clase_5','clase_6']"
      ],
      "execution_count": null,
      "outputs": []
    },
    {
      "cell_type": "code",
      "metadata": {
        "id": "UKcO-I4X6uS2",
        "colab_type": "code",
        "colab": {}
      },
      "source": [
        "feature_names=['service','receiver_state']"
      ],
      "execution_count": null,
      "outputs": []
    },
    {
      "cell_type": "markdown",
      "metadata": {
        "id": "it8bfSrC-LAQ",
        "colab_type": "text"
      },
      "source": [
        "Dibujemos el arbol:"
      ]
    },
    {
      "cell_type": "code",
      "metadata": {
        "id": "ykWCqLZ8ind6",
        "colab_type": "code",
        "colab": {
          "base_uri": "https://localhost:8080/",
          "height": 119
        },
        "outputId": "a86a800c-ae28-4aa7-dd2c-dc9824e3d68c"
      },
      "source": [
        "clf.estimators_[1]"
      ],
      "execution_count": null,
      "outputs": [
        {
          "output_type": "execute_result",
          "data": {
            "text/plain": [
              "DecisionTreeClassifier(class_weight=None, criterion='gini', max_depth=None,\n",
              "                       max_features='auto', max_leaf_nodes=None,\n",
              "                       min_impurity_decrease=0.0, min_impurity_split=None,\n",
              "                       min_samples_leaf=1, min_samples_split=2,\n",
              "                       min_weight_fraction_leaf=0.0, presort=False,\n",
              "                       random_state=794921487, splitter='best')"
            ]
          },
          "metadata": {
            "tags": []
          },
          "execution_count": 67
        }
      ]
    },
    {
      "cell_type": "code",
      "metadata": {
        "id": "1ch47NcRkA8Y",
        "colab_type": "code",
        "colab": {}
      },
      "source": [
        "import graphviz"
      ],
      "execution_count": null,
      "outputs": []
    },
    {
      "cell_type": "code",
      "metadata": {
        "id": "Gu-gSf4N7U2G",
        "colab_type": "code",
        "colab": {}
      },
      "source": [
        "def draw_random_forest_tree(index):\n",
        "    assert(len(clf.estimators_) > index)\n",
        "    dot_data = tree.export_graphviz(clf.estimators_[index], out_file=None, \n",
        "                     feature_names=feature_names,  \n",
        "                     class_names=target_names,  \n",
        "                     filled=True, rounded=True,  \n",
        "                     special_characters=True)\n",
        "    graph = graphviz.Source(dot_data)\n",
        "    return graph"
      ],
      "execution_count": null,
      "outputs": []
    },
    {
      "cell_type": "code",
      "metadata": {
        "id": "MevFTCXt-RWQ",
        "colab_type": "code",
        "colab": {
          "base_uri": "https://localhost:8080/",
          "height": 1000
        },
        "outputId": "7c3c32ca-3a59-4283-d745-0a35e267d076"
      },
      "source": [
        "draw_random_forest_tree(1)"
      ],
      "execution_count": null,
      "outputs": [
        {
          "output_type": "execute_result",
          "data": {
            "text/plain": [
              "<graphviz.files.Source at 0x7f9beedc16a0>"
            ],
            "image/svg+xml": "<?xml version=\"1.0\" encoding=\"UTF-8\" standalone=\"no\"?>\n<!DOCTYPE svg PUBLIC \"-//W3C//DTD SVG 1.1//EN\"\n \"http://www.w3.org/Graphics/SVG/1.1/DTD/svg11.dtd\">\n<!-- Generated by graphviz version 2.40.1 (20161225.0304)\n -->\n<!-- Title: Tree Pages: 1 -->\n<svg width=\"19696pt\" height=\"1980pt\"\n viewBox=\"0.00 0.00 19695.50 1980.00\" xmlns=\"http://www.w3.org/2000/svg\" xmlns:xlink=\"http://www.w3.org/1999/xlink\">\n<g id=\"graph0\" class=\"graph\" transform=\"scale(1 1) rotate(0) translate(4 1976)\">\n<title>Tree</title>\n<polygon fill=\"#ffffff\" stroke=\"transparent\" points=\"-4,4 -4,-1976 19691.5,-1976 19691.5,4 -4,4\"/>\n<!-- 0 -->\n<g id=\"node1\" class=\"node\">\n<title>0</title>\n<path fill=\"#fbe2ed\" stroke=\"#000000\" d=\"M11765,-1972C11765,-1972 11380,-1972 11380,-1972 11374,-1972 11368,-1966 11368,-1960 11368,-1960 11368,-1901 11368,-1901 11368,-1895 11374,-1889 11380,-1889 11380,-1889 11765,-1889 11765,-1889 11771,-1889 11777,-1895 11777,-1901 11777,-1901 11777,-1960 11777,-1960 11777,-1966 11771,-1972 11765,-1972\"/>\n<text text-anchor=\"start\" x=\"11527\" y=\"-1956.8\" font-family=\"Helvetica,sans-Serif\" font-size=\"14.00\" fill=\"#000000\">service ≤ 24.5</text>\n<text text-anchor=\"start\" x=\"11534.5\" y=\"-1941.8\" font-family=\"Helvetica,sans-Serif\" font-size=\"14.00\" fill=\"#000000\">gini = 0.797</text>\n<text text-anchor=\"start\" x=\"11512\" y=\"-1926.8\" font-family=\"Helvetica,sans-Serif\" font-size=\"14.00\" fill=\"#000000\">samples = 203308</text>\n<text text-anchor=\"start\" x=\"11376\" y=\"-1911.8\" font-family=\"Helvetica,sans-Serif\" font-size=\"14.00\" fill=\"#000000\">value = [9775, 66843, 53544, 40700, 27077, 19824, 103760]</text>\n<text text-anchor=\"start\" x=\"11522\" y=\"-1896.8\" font-family=\"Helvetica,sans-Serif\" font-size=\"14.00\" fill=\"#000000\">class = clase_6</text>\n</g>\n<!-- 1 -->\n<g id=\"node2\" class=\"node\">\n<title>1</title>\n<path fill=\"#f4aece\" stroke=\"#000000\" d=\"M5636.5,-1853C5636.5,-1853 5268.5,-1853 5268.5,-1853 5262.5,-1853 5256.5,-1847 5256.5,-1841 5256.5,-1841 5256.5,-1782 5256.5,-1782 5256.5,-1776 5262.5,-1770 5268.5,-1770 5268.5,-1770 5636.5,-1770 5636.5,-1770 5642.5,-1770 5648.5,-1776 5648.5,-1782 5648.5,-1782 5648.5,-1841 5648.5,-1841 5648.5,-1847 5642.5,-1853 5636.5,-1853\"/>\n<text text-anchor=\"start\" x=\"5411.5\" y=\"-1837.8\" font-family=\"Helvetica,sans-Serif\" font-size=\"14.00\" fill=\"#000000\">service ≤ 5.5</text>\n<text text-anchor=\"start\" x=\"5419\" y=\"-1822.8\" font-family=\"Helvetica,sans-Serif\" font-size=\"14.00\" fill=\"#000000\">gini = 0.71</text>\n<text text-anchor=\"start\" x=\"5392\" y=\"-1807.8\" font-family=\"Helvetica,sans-Serif\" font-size=\"14.00\" fill=\"#000000\">samples = 123455</text>\n<text text-anchor=\"start\" x=\"5264.5\" y=\"-1792.8\" font-family=\"Helvetica,sans-Serif\" font-size=\"14.00\" fill=\"#000000\">value = [743, 15667, 25310, 24677, 18885, 15304, 94711]</text>\n<text text-anchor=\"start\" x=\"5402\" y=\"-1777.8\" font-family=\"Helvetica,sans-Serif\" font-size=\"14.00\" fill=\"#000000\">class = clase_6</text>\n</g>\n<!-- 0&#45;&gt;1 -->\n<g id=\"edge1\" class=\"edge\">\n<title>0&#45;&gt;1</title>\n<path fill=\"none\" stroke=\"#000000\" d=\"M11367.5648,-1926.5151C10434.6663,-1908.3755 6594.6139,-1833.7078 5658.8279,-1815.5119\"/>\n<polygon fill=\"#000000\" stroke=\"#000000\" points=\"5658.6935,-1812.0088 5648.6273,-1815.3136 5658.5573,-1819.0074 5658.6935,-1812.0088\"/>\n<text text-anchor=\"middle\" x=\"5665.9579\" y=\"-1829.6316\" font-family=\"Helvetica,sans-Serif\" font-size=\"14.00\" fill=\"#000000\">True</text>\n</g>\n<!-- 326 -->\n<g id=\"node327\" class=\"node\">\n<title>326</title>\n<path fill=\"#eef9d1\" stroke=\"#000000\" d=\"M17831.5,-1853C17831.5,-1853 17479.5,-1853 17479.5,-1853 17473.5,-1853 17467.5,-1847 17467.5,-1841 17467.5,-1841 17467.5,-1782 17467.5,-1782 17467.5,-1776 17473.5,-1770 17479.5,-1770 17479.5,-1770 17831.5,-1770 17831.5,-1770 17837.5,-1770 17843.5,-1776 17843.5,-1782 17843.5,-1782 17843.5,-1841 17843.5,-1841 17843.5,-1847 17837.5,-1853 17831.5,-1853\"/>\n<text text-anchor=\"start\" x=\"17592\" y=\"-1837.8\" font-family=\"Helvetica,sans-Serif\" font-size=\"14.00\" fill=\"#000000\">receiver_state ≤ 4.5</text>\n<text text-anchor=\"start\" x=\"17617.5\" y=\"-1822.8\" font-family=\"Helvetica,sans-Serif\" font-size=\"14.00\" fill=\"#000000\">gini = 0.754</text>\n<text text-anchor=\"start\" x=\"17599.5\" y=\"-1807.8\" font-family=\"Helvetica,sans-Serif\" font-size=\"14.00\" fill=\"#000000\">samples = 79853</text>\n<text text-anchor=\"start\" x=\"17475.5\" y=\"-1792.8\" font-family=\"Helvetica,sans-Serif\" font-size=\"14.00\" fill=\"#000000\">value = [9032, 51176, 28234, 16023, 8192, 4520, 9049]</text>\n<text text-anchor=\"start\" x=\"17605\" y=\"-1777.8\" font-family=\"Helvetica,sans-Serif\" font-size=\"14.00\" fill=\"#000000\">class = clase_1</text>\n</g>\n<!-- 0&#45;&gt;326 -->\n<g id=\"edge326\" class=\"edge\">\n<title>0&#45;&gt;326</title>\n<path fill=\"none\" stroke=\"#000000\" d=\"M11777.0676,-1926.4981C12708.1997,-1908.2826 16539.9574,-1833.323 17457.4409,-1815.3746\"/>\n<polygon fill=\"#000000\" stroke=\"#000000\" points=\"17457.5098,-1818.874 17467.4393,-1815.179 17457.3728,-1811.8753 17457.5098,-1818.874\"/>\n<text text-anchor=\"middle\" x=\"17450.1108\" y=\"-1829.499\" font-family=\"Helvetica,sans-Serif\" font-size=\"14.00\" fill=\"#000000\">False</text>\n</g>\n<!-- 2 -->\n<g id=\"node3\" class=\"node\">\n<title>2</title>\n<path fill=\"#ed76ab\" stroke=\"#000000\" d=\"M2821.5,-1734C2821.5,-1734 2519.5,-1734 2519.5,-1734 2513.5,-1734 2507.5,-1728 2507.5,-1722 2507.5,-1722 2507.5,-1663 2507.5,-1663 2507.5,-1657 2513.5,-1651 2519.5,-1651 2519.5,-1651 2821.5,-1651 2821.5,-1651 2827.5,-1651 2833.5,-1657 2833.5,-1663 2833.5,-1663 2833.5,-1722 2833.5,-1722 2833.5,-1728 2827.5,-1734 2821.5,-1734\"/>\n<text text-anchor=\"start\" x=\"2607\" y=\"-1718.8\" font-family=\"Helvetica,sans-Serif\" font-size=\"14.00\" fill=\"#000000\">receiver_state ≤ 0.5</text>\n<text text-anchor=\"start\" x=\"2632.5\" y=\"-1703.8\" font-family=\"Helvetica,sans-Serif\" font-size=\"14.00\" fill=\"#000000\">gini = 0.471</text>\n<text text-anchor=\"start\" x=\"2614.5\" y=\"-1688.8\" font-family=\"Helvetica,sans-Serif\" font-size=\"14.00\" fill=\"#000000\">samples = 12520</text>\n<text text-anchor=\"start\" x=\"2515.5\" y=\"-1673.8\" font-family=\"Helvetica,sans-Serif\" font-size=\"14.00\" fill=\"#000000\">value = [30, 653, 1428, 1400, 1173, 943, 14169]</text>\n<text text-anchor=\"start\" x=\"2620\" y=\"-1658.8\" font-family=\"Helvetica,sans-Serif\" font-size=\"14.00\" fill=\"#000000\">class = clase_6</text>\n</g>\n<!-- 1&#45;&gt;2 -->\n<g id=\"edge2\" class=\"edge\">\n<title>1&#45;&gt;2</title>\n<path fill=\"none\" stroke=\"#000000\" d=\"M5256.3213,-1803.1085C4737.4808,-1780.9151 3335.3614,-1720.9394 2843.7048,-1699.9088\"/>\n<polygon fill=\"#000000\" stroke=\"#000000\" points=\"2843.823,-1696.4108 2833.6825,-1699.4801 2843.5238,-1703.4044 2843.823,-1696.4108\"/>\n</g>\n<!-- 75 -->\n<g id=\"node76\" class=\"node\">\n<title>75</title>\n<path fill=\"#f5b5d2\" stroke=\"#000000\" d=\"M5636.5,-1734C5636.5,-1734 5268.5,-1734 5268.5,-1734 5262.5,-1734 5256.5,-1728 5256.5,-1722 5256.5,-1722 5256.5,-1663 5256.5,-1663 5256.5,-1657 5262.5,-1651 5268.5,-1651 5268.5,-1651 5636.5,-1651 5636.5,-1651 5642.5,-1651 5648.5,-1657 5648.5,-1663 5648.5,-1663 5648.5,-1722 5648.5,-1722 5648.5,-1728 5642.5,-1734 5636.5,-1734\"/>\n<text text-anchor=\"start\" x=\"5411.5\" y=\"-1718.8\" font-family=\"Helvetica,sans-Serif\" font-size=\"14.00\" fill=\"#000000\">service ≤ 6.5</text>\n<text text-anchor=\"start\" x=\"5414.5\" y=\"-1703.8\" font-family=\"Helvetica,sans-Serif\" font-size=\"14.00\" fill=\"#000000\">gini = 0.729</text>\n<text text-anchor=\"start\" x=\"5392\" y=\"-1688.8\" font-family=\"Helvetica,sans-Serif\" font-size=\"14.00\" fill=\"#000000\">samples = 110935</text>\n<text text-anchor=\"start\" x=\"5264.5\" y=\"-1673.8\" font-family=\"Helvetica,sans-Serif\" font-size=\"14.00\" fill=\"#000000\">value = [713, 15014, 23882, 23277, 17712, 14361, 80542]</text>\n<text text-anchor=\"start\" x=\"5402\" y=\"-1658.8\" font-family=\"Helvetica,sans-Serif\" font-size=\"14.00\" fill=\"#000000\">class = clase_6</text>\n</g>\n<!-- 1&#45;&gt;75 -->\n<g id=\"edge75\" class=\"edge\">\n<title>1&#45;&gt;75</title>\n<path fill=\"none\" stroke=\"#000000\" d=\"M5452.5,-1769.8796C5452.5,-1761.6838 5452.5,-1752.9891 5452.5,-1744.5013\"/>\n<polygon fill=\"#000000\" stroke=\"#000000\" points=\"5456.0001,-1744.298 5452.5,-1734.2981 5449.0001,-1744.2981 5456.0001,-1744.298\"/>\n</g>\n<!-- 3 -->\n<g id=\"node4\" class=\"node\">\n<title>3</title>\n<path fill=\"#fefffe\" stroke=\"#000000\" d=\"M1403,-1615C1403,-1615 1142,-1615 1142,-1615 1136,-1615 1130,-1609 1130,-1603 1130,-1603 1130,-1544 1130,-1544 1130,-1538 1136,-1532 1142,-1532 1142,-1532 1403,-1532 1403,-1532 1409,-1532 1415,-1538 1415,-1544 1415,-1544 1415,-1603 1415,-1603 1415,-1609 1409,-1615 1403,-1615\"/>\n<text text-anchor=\"start\" x=\"1231.5\" y=\"-1599.8\" font-family=\"Helvetica,sans-Serif\" font-size=\"14.00\" fill=\"#000000\">service ≤ 4.5</text>\n<text text-anchor=\"start\" x=\"1234.5\" y=\"-1584.8\" font-family=\"Helvetica,sans-Serif\" font-size=\"14.00\" fill=\"#000000\">gini = 0.823</text>\n<text text-anchor=\"start\" x=\"1220.5\" y=\"-1569.8\" font-family=\"Helvetica,sans-Serif\" font-size=\"14.00\" fill=\"#000000\">samples = 1945</text>\n<text text-anchor=\"start\" x=\"1138\" y=\"-1554.8\" font-family=\"Helvetica,sans-Serif\" font-size=\"14.00\" fill=\"#000000\">value = [12, 498, 675, 660, 534, 291, 403]</text>\n<text text-anchor=\"start\" x=\"1222\" y=\"-1539.8\" font-family=\"Helvetica,sans-Serif\" font-size=\"14.00\" fill=\"#000000\">class = clase_2</text>\n</g>\n<!-- 2&#45;&gt;3 -->\n<g id=\"edge3\" class=\"edge\">\n<title>2&#45;&gt;3</title>\n<path fill=\"none\" stroke=\"#000000\" d=\"M2507.3956,-1678.6163C2234.8575,-1655.4174 1690.687,-1609.0967 1425.2261,-1586.5003\"/>\n<polygon fill=\"#000000\" stroke=\"#000000\" points=\"1425.386,-1583.0013 1415.1251,-1585.6405 1424.7922,-1589.9761 1425.386,-1583.0013\"/>\n</g>\n<!-- 14 -->\n<g id=\"node15\" class=\"node\">\n<title>14</title>\n<path fill=\"#ea5e9c\" stroke=\"#000000\" d=\"M2809.5,-1615C2809.5,-1615 2531.5,-1615 2531.5,-1615 2525.5,-1615 2519.5,-1609 2519.5,-1603 2519.5,-1603 2519.5,-1544 2519.5,-1544 2519.5,-1538 2525.5,-1532 2531.5,-1532 2531.5,-1532 2809.5,-1532 2809.5,-1532 2815.5,-1532 2821.5,-1538 2821.5,-1544 2821.5,-1544 2821.5,-1603 2821.5,-1603 2821.5,-1609 2815.5,-1615 2809.5,-1615\"/>\n<text text-anchor=\"start\" x=\"2607\" y=\"-1599.8\" font-family=\"Helvetica,sans-Serif\" font-size=\"14.00\" fill=\"#000000\">receiver_state ≤ 3.5</text>\n<text text-anchor=\"start\" x=\"2632.5\" y=\"-1584.8\" font-family=\"Helvetica,sans-Serif\" font-size=\"14.00\" fill=\"#000000\">gini = 0.315</text>\n<text text-anchor=\"start\" x=\"2614.5\" y=\"-1569.8\" font-family=\"Helvetica,sans-Serif\" font-size=\"14.00\" fill=\"#000000\">samples = 10575</text>\n<text text-anchor=\"start\" x=\"2527.5\" y=\"-1554.8\" font-family=\"Helvetica,sans-Serif\" font-size=\"14.00\" fill=\"#000000\">value = [18, 155, 753, 740, 639, 652, 13766]</text>\n<text text-anchor=\"start\" x=\"2620\" y=\"-1539.8\" font-family=\"Helvetica,sans-Serif\" font-size=\"14.00\" fill=\"#000000\">class = clase_6</text>\n</g>\n<!-- 2&#45;&gt;14 -->\n<g id=\"edge14\" class=\"edge\">\n<title>2&#45;&gt;14</title>\n<path fill=\"none\" stroke=\"#000000\" d=\"M2670.5,-1650.8796C2670.5,-1642.6838 2670.5,-1633.9891 2670.5,-1625.5013\"/>\n<polygon fill=\"#000000\" stroke=\"#000000\" points=\"2674.0001,-1625.298 2670.5,-1615.2981 2667.0001,-1625.2981 2674.0001,-1625.298\"/>\n</g>\n<!-- 4 -->\n<g id=\"node5\" class=\"node\">\n<title>4</title>\n<path fill=\"#fafefb\" stroke=\"#000000\" d=\"M871,-1496C871,-1496 610,-1496 610,-1496 604,-1496 598,-1490 598,-1484 598,-1484 598,-1425 598,-1425 598,-1419 604,-1413 610,-1413 610,-1413 871,-1413 871,-1413 877,-1413 883,-1419 883,-1425 883,-1425 883,-1484 883,-1484 883,-1490 877,-1496 871,-1496\"/>\n<text text-anchor=\"start\" x=\"699.5\" y=\"-1480.8\" font-family=\"Helvetica,sans-Serif\" font-size=\"14.00\" fill=\"#000000\">service ≤ 1.5</text>\n<text text-anchor=\"start\" x=\"702.5\" y=\"-1465.8\" font-family=\"Helvetica,sans-Serif\" font-size=\"14.00\" fill=\"#000000\">gini = 0.817</text>\n<text text-anchor=\"start\" x=\"688.5\" y=\"-1450.8\" font-family=\"Helvetica,sans-Serif\" font-size=\"14.00\" fill=\"#000000\">samples = 1738</text>\n<text text-anchor=\"start\" x=\"606\" y=\"-1435.8\" font-family=\"Helvetica,sans-Serif\" font-size=\"14.00\" fill=\"#000000\">value = [12, 491, 643, 590, 477, 250, 273]</text>\n<text text-anchor=\"start\" x=\"690\" y=\"-1420.8\" font-family=\"Helvetica,sans-Serif\" font-size=\"14.00\" fill=\"#000000\">class = clase_2</text>\n</g>\n<!-- 3&#45;&gt;4 -->\n<g id=\"edge4\" class=\"edge\">\n<title>3&#45;&gt;4</title>\n<path fill=\"none\" stroke=\"#000000\" d=\"M1129.9338,-1541.6102C1056.8834,-1525.27 967.8745,-1505.3601 893.4003,-1488.7014\"/>\n<polygon fill=\"#000000\" stroke=\"#000000\" points=\"893.9827,-1485.2452 883.4598,-1486.4778 892.4546,-1492.0764 893.9827,-1485.2452\"/>\n</g>\n<!-- 13 -->\n<g id=\"node14\" class=\"node\">\n<title>13</title>\n<path fill=\"#f9d3e4\" stroke=\"#000000\" d=\"M1374,-1488.5C1374,-1488.5 1171,-1488.5 1171,-1488.5 1165,-1488.5 1159,-1482.5 1159,-1476.5 1159,-1476.5 1159,-1432.5 1159,-1432.5 1159,-1426.5 1165,-1420.5 1171,-1420.5 1171,-1420.5 1374,-1420.5 1374,-1420.5 1380,-1420.5 1386,-1426.5 1386,-1432.5 1386,-1432.5 1386,-1476.5 1386,-1476.5 1386,-1482.5 1380,-1488.5 1374,-1488.5\"/>\n<text text-anchor=\"start\" x=\"1234.5\" y=\"-1473.3\" font-family=\"Helvetica,sans-Serif\" font-size=\"14.00\" fill=\"#000000\">gini = 0.755</text>\n<text text-anchor=\"start\" x=\"1224.5\" y=\"-1458.3\" font-family=\"Helvetica,sans-Serif\" font-size=\"14.00\" fill=\"#000000\">samples = 207</text>\n<text text-anchor=\"start\" x=\"1167\" y=\"-1443.3\" font-family=\"Helvetica,sans-Serif\" font-size=\"14.00\" fill=\"#000000\">value = [0, 7, 32, 70, 57, 41, 130]</text>\n<text text-anchor=\"start\" x=\"1222\" y=\"-1428.3\" font-family=\"Helvetica,sans-Serif\" font-size=\"14.00\" fill=\"#000000\">class = clase_6</text>\n</g>\n<!-- 3&#45;&gt;13 -->\n<g id=\"edge13\" class=\"edge\">\n<title>3&#45;&gt;13</title>\n<path fill=\"none\" stroke=\"#000000\" d=\"M1272.5,-1531.8796C1272.5,-1521.2134 1272.5,-1509.7021 1272.5,-1498.9015\"/>\n<polygon fill=\"#000000\" stroke=\"#000000\" points=\"1276.0001,-1498.8149 1272.5,-1488.8149 1269.0001,-1498.815 1276.0001,-1498.8149\"/>\n</g>\n<!-- 5 -->\n<g id=\"node6\" class=\"node\">\n<title>5</title>\n<path fill=\"#eaedfc\" stroke=\"#000000\" d=\"M436,-1377C436,-1377 241,-1377 241,-1377 235,-1377 229,-1371 229,-1365 229,-1365 229,-1306 229,-1306 229,-1300 235,-1294 241,-1294 241,-1294 436,-1294 436,-1294 442,-1294 448,-1300 448,-1306 448,-1306 448,-1365 448,-1365 448,-1371 442,-1377 436,-1377\"/>\n<text text-anchor=\"start\" x=\"297.5\" y=\"-1361.8\" font-family=\"Helvetica,sans-Serif\" font-size=\"14.00\" fill=\"#000000\">service ≤ 0.5</text>\n<text text-anchor=\"start\" x=\"300.5\" y=\"-1346.8\" font-family=\"Helvetica,sans-Serif\" font-size=\"14.00\" fill=\"#000000\">gini = 0.791</text>\n<text text-anchor=\"start\" x=\"290.5\" y=\"-1331.8\" font-family=\"Helvetica,sans-Serif\" font-size=\"14.00\" fill=\"#000000\">samples = 205</text>\n<text text-anchor=\"start\" x=\"237\" y=\"-1316.8\" font-family=\"Helvetica,sans-Serif\" font-size=\"14.00\" fill=\"#000000\">value = [0, 7, 37, 57, 93, 67, 52]</text>\n<text text-anchor=\"start\" x=\"288\" y=\"-1301.8\" font-family=\"Helvetica,sans-Serif\" font-size=\"14.00\" fill=\"#000000\">class = clase_4</text>\n</g>\n<!-- 4&#45;&gt;5 -->\n<g id=\"edge5\" class=\"edge\">\n<title>4&#45;&gt;5</title>\n<path fill=\"none\" stroke=\"#000000\" d=\"M600.1821,-1412.9631C553.7572,-1399.2204 502.5665,-1384.0669 457.8652,-1370.8345\"/>\n<polygon fill=\"#000000\" stroke=\"#000000\" points=\"458.7167,-1367.4365 448.1345,-1367.954 456.7298,-1374.1486 458.7167,-1367.4365\"/>\n</g>\n<!-- 8 -->\n<g id=\"node9\" class=\"node\">\n<title>8</title>\n<path fill=\"#f7fef8\" stroke=\"#000000\" d=\"M871,-1377C871,-1377 610,-1377 610,-1377 604,-1377 598,-1371 598,-1365 598,-1365 598,-1306 598,-1306 598,-1300 604,-1294 610,-1294 610,-1294 871,-1294 871,-1294 877,-1294 883,-1300 883,-1306 883,-1306 883,-1365 883,-1365 883,-1371 877,-1377 871,-1377\"/>\n<text text-anchor=\"start\" x=\"699.5\" y=\"-1361.8\" font-family=\"Helvetica,sans-Serif\" font-size=\"14.00\" fill=\"#000000\">service ≤ 3.5</text>\n<text text-anchor=\"start\" x=\"707\" y=\"-1346.8\" font-family=\"Helvetica,sans-Serif\" font-size=\"14.00\" fill=\"#000000\">gini = 0.81</text>\n<text text-anchor=\"start\" x=\"688.5\" y=\"-1331.8\" font-family=\"Helvetica,sans-Serif\" font-size=\"14.00\" fill=\"#000000\">samples = 1533</text>\n<text text-anchor=\"start\" x=\"606\" y=\"-1316.8\" font-family=\"Helvetica,sans-Serif\" font-size=\"14.00\" fill=\"#000000\">value = [12, 484, 606, 533, 384, 183, 221]</text>\n<text text-anchor=\"start\" x=\"690\" y=\"-1301.8\" font-family=\"Helvetica,sans-Serif\" font-size=\"14.00\" fill=\"#000000\">class = clase_2</text>\n</g>\n<!-- 4&#45;&gt;8 -->\n<g id=\"edge8\" class=\"edge\">\n<title>4&#45;&gt;8</title>\n<path fill=\"none\" stroke=\"#000000\" d=\"M740.5,-1412.8796C740.5,-1404.6838 740.5,-1395.9891 740.5,-1387.5013\"/>\n<polygon fill=\"#000000\" stroke=\"#000000\" points=\"744.0001,-1387.298 740.5,-1377.2981 737.0001,-1387.2981 744.0001,-1387.298\"/>\n</g>\n<!-- 6 -->\n<g id=\"node7\" class=\"node\">\n<title>6</title>\n<path fill=\"#ffffff\" stroke=\"#000000\" d=\"M199,-1250.5C199,-1250.5 12,-1250.5 12,-1250.5 6,-1250.5 0,-1244.5 0,-1238.5 0,-1238.5 0,-1194.5 0,-1194.5 0,-1188.5 6,-1182.5 12,-1182.5 12,-1182.5 199,-1182.5 199,-1182.5 205,-1182.5 211,-1188.5 211,-1194.5 211,-1194.5 211,-1238.5 211,-1238.5 211,-1244.5 205,-1250.5 199,-1250.5\"/>\n<text text-anchor=\"start\" x=\"67.5\" y=\"-1235.3\" font-family=\"Helvetica,sans-Serif\" font-size=\"14.00\" fill=\"#000000\">gini = 0.767</text>\n<text text-anchor=\"start\" x=\"61.5\" y=\"-1220.3\" font-family=\"Helvetica,sans-Serif\" font-size=\"14.00\" fill=\"#000000\">samples = 63</text>\n<text text-anchor=\"start\" x=\"8\" y=\"-1205.3\" font-family=\"Helvetica,sans-Serif\" font-size=\"14.00\" fill=\"#000000\">value = [0, 0, 13, 9, 29, 29, 20]</text>\n<text text-anchor=\"start\" x=\"55\" y=\"-1190.3\" font-family=\"Helvetica,sans-Serif\" font-size=\"14.00\" fill=\"#000000\">class = clase_4</text>\n</g>\n<!-- 5&#45;&gt;6 -->\n<g id=\"edge6\" class=\"edge\">\n<title>5&#45;&gt;6</title>\n<path fill=\"none\" stroke=\"#000000\" d=\"M257.0079,-1293.8796C232.4548,-1281.3396 205.6147,-1267.6315 181.4377,-1255.2836\"/>\n<polygon fill=\"#000000\" stroke=\"#000000\" points=\"182.81,-1252.0545 172.3123,-1250.623 179.6261,-1258.2885 182.81,-1252.0545\"/>\n</g>\n<!-- 7 -->\n<g id=\"node8\" class=\"node\">\n<title>7</title>\n<path fill=\"#eceffc\" stroke=\"#000000\" d=\"M436,-1250.5C436,-1250.5 241,-1250.5 241,-1250.5 235,-1250.5 229,-1244.5 229,-1238.5 229,-1238.5 229,-1194.5 229,-1194.5 229,-1188.5 235,-1182.5 241,-1182.5 241,-1182.5 436,-1182.5 436,-1182.5 442,-1182.5 448,-1188.5 448,-1194.5 448,-1194.5 448,-1238.5 448,-1238.5 448,-1244.5 442,-1250.5 436,-1250.5\"/>\n<text text-anchor=\"start\" x=\"300.5\" y=\"-1235.3\" font-family=\"Helvetica,sans-Serif\" font-size=\"14.00\" fill=\"#000000\">gini = 0.791</text>\n<text text-anchor=\"start\" x=\"290.5\" y=\"-1220.3\" font-family=\"Helvetica,sans-Serif\" font-size=\"14.00\" fill=\"#000000\">samples = 142</text>\n<text text-anchor=\"start\" x=\"237\" y=\"-1205.3\" font-family=\"Helvetica,sans-Serif\" font-size=\"14.00\" fill=\"#000000\">value = [0, 7, 24, 48, 64, 38, 32]</text>\n<text text-anchor=\"start\" x=\"288\" y=\"-1190.3\" font-family=\"Helvetica,sans-Serif\" font-size=\"14.00\" fill=\"#000000\">class = clase_4</text>\n</g>\n<!-- 5&#45;&gt;7 -->\n<g id=\"edge7\" class=\"edge\">\n<title>5&#45;&gt;7</title>\n<path fill=\"none\" stroke=\"#000000\" d=\"M338.5,-1293.8796C338.5,-1283.2134 338.5,-1271.7021 338.5,-1260.9015\"/>\n<polygon fill=\"#000000\" stroke=\"#000000\" points=\"342.0001,-1260.8149 338.5,-1250.8149 335.0001,-1260.815 342.0001,-1260.8149\"/>\n</g>\n<!-- 9 -->\n<g id=\"node10\" class=\"node\">\n<title>9</title>\n<path fill=\"#f7fefe\" stroke=\"#000000\" d=\"M698.5,-1258C698.5,-1258 478.5,-1258 478.5,-1258 472.5,-1258 466.5,-1252 466.5,-1246 466.5,-1246 466.5,-1187 466.5,-1187 466.5,-1181 472.5,-1175 478.5,-1175 478.5,-1175 698.5,-1175 698.5,-1175 704.5,-1175 710.5,-1181 710.5,-1187 710.5,-1187 710.5,-1246 710.5,-1246 710.5,-1252 704.5,-1258 698.5,-1258\"/>\n<text text-anchor=\"start\" x=\"547.5\" y=\"-1242.8\" font-family=\"Helvetica,sans-Serif\" font-size=\"14.00\" fill=\"#000000\">service ≤ 2.5</text>\n<text text-anchor=\"start\" x=\"550.5\" y=\"-1227.8\" font-family=\"Helvetica,sans-Serif\" font-size=\"14.00\" fill=\"#000000\">gini = 0.809</text>\n<text text-anchor=\"start\" x=\"540.5\" y=\"-1212.8\" font-family=\"Helvetica,sans-Serif\" font-size=\"14.00\" fill=\"#000000\">samples = 311</text>\n<text text-anchor=\"start\" x=\"474.5\" y=\"-1197.8\" font-family=\"Helvetica,sans-Serif\" font-size=\"14.00\" fill=\"#000000\">value = [0, 88, 106, 122, 85, 35, 46]</text>\n<text text-anchor=\"start\" x=\"538\" y=\"-1182.8\" font-family=\"Helvetica,sans-Serif\" font-size=\"14.00\" fill=\"#000000\">class = clase_3</text>\n</g>\n<!-- 8&#45;&gt;9 -->\n<g id=\"edge9\" class=\"edge\">\n<title>8&#45;&gt;9</title>\n<path fill=\"none\" stroke=\"#000000\" d=\"M687.3378,-1293.8796C675.1885,-1284.368 662.1808,-1274.1843 649.724,-1264.432\"/>\n<polygon fill=\"#000000\" stroke=\"#000000\" points=\"651.6638,-1261.5055 641.6322,-1258.0969 647.3486,-1267.0173 651.6638,-1261.5055\"/>\n</g>\n<!-- 12 -->\n<g id=\"node13\" class=\"node\">\n<title>12</title>\n<path fill=\"#f3fdf5\" stroke=\"#000000\" d=\"M1002,-1250.5C1002,-1250.5 741,-1250.5 741,-1250.5 735,-1250.5 729,-1244.5 729,-1238.5 729,-1238.5 729,-1194.5 729,-1194.5 729,-1188.5 735,-1182.5 741,-1182.5 741,-1182.5 1002,-1182.5 1002,-1182.5 1008,-1182.5 1014,-1188.5 1014,-1194.5 1014,-1194.5 1014,-1238.5 1014,-1238.5 1014,-1244.5 1008,-1250.5 1002,-1250.5\"/>\n<text text-anchor=\"start\" x=\"833.5\" y=\"-1235.3\" font-family=\"Helvetica,sans-Serif\" font-size=\"14.00\" fill=\"#000000\">gini = 0.809</text>\n<text text-anchor=\"start\" x=\"819.5\" y=\"-1220.3\" font-family=\"Helvetica,sans-Serif\" font-size=\"14.00\" fill=\"#000000\">samples = 1222</text>\n<text text-anchor=\"start\" x=\"737\" y=\"-1205.3\" font-family=\"Helvetica,sans-Serif\" font-size=\"14.00\" fill=\"#000000\">value = [12, 396, 500, 411, 299, 148, 175]</text>\n<text text-anchor=\"start\" x=\"821\" y=\"-1190.3\" font-family=\"Helvetica,sans-Serif\" font-size=\"14.00\" fill=\"#000000\">class = clase_2</text>\n</g>\n<!-- 8&#45;&gt;12 -->\n<g id=\"edge12\" class=\"edge\">\n<title>8&#45;&gt;12</title>\n<path fill=\"none\" stroke=\"#000000\" d=\"M786.3174,-1293.8796C799.2697,-1282.1138 813.354,-1269.3197 826.2714,-1257.5855\"/>\n<polygon fill=\"#000000\" stroke=\"#000000\" points=\"828.6761,-1260.1296 833.7247,-1250.8149 823.9694,-1254.9482 828.6761,-1260.1296\"/>\n</g>\n<!-- 10 -->\n<g id=\"node11\" class=\"node\">\n<title>10</title>\n<path fill=\"#fbfefe\" stroke=\"#000000\" d=\"M453,-1131.5C453,-1131.5 250,-1131.5 250,-1131.5 244,-1131.5 238,-1125.5 238,-1119.5 238,-1119.5 238,-1075.5 238,-1075.5 238,-1069.5 244,-1063.5 250,-1063.5 250,-1063.5 453,-1063.5 453,-1063.5 459,-1063.5 465,-1069.5 465,-1075.5 465,-1075.5 465,-1119.5 465,-1119.5 465,-1125.5 459,-1131.5 453,-1131.5\"/>\n<text text-anchor=\"start\" x=\"313.5\" y=\"-1116.3\" font-family=\"Helvetica,sans-Serif\" font-size=\"14.00\" fill=\"#000000\">gini = 0.811</text>\n<text text-anchor=\"start\" x=\"303.5\" y=\"-1101.3\" font-family=\"Helvetica,sans-Serif\" font-size=\"14.00\" fill=\"#000000\">samples = 255</text>\n<text text-anchor=\"start\" x=\"246\" y=\"-1086.3\" font-family=\"Helvetica,sans-Serif\" font-size=\"14.00\" fill=\"#000000\">value = [0, 74, 87, 93, 72, 28, 40]</text>\n<text text-anchor=\"start\" x=\"301\" y=\"-1071.3\" font-family=\"Helvetica,sans-Serif\" font-size=\"14.00\" fill=\"#000000\">class = clase_3</text>\n</g>\n<!-- 9&#45;&gt;10 -->\n<g id=\"edge10\" class=\"edge\">\n<title>9&#45;&gt;10</title>\n<path fill=\"none\" stroke=\"#000000\" d=\"M505.6089,-1174.8796C480.5243,-1162.2843 453.0928,-1148.5107 428.4165,-1136.1205\"/>\n<polygon fill=\"#000000\" stroke=\"#000000\" points=\"429.9666,-1132.9824 419.4593,-1131.623 426.8255,-1139.2382 429.9666,-1132.9824\"/>\n</g>\n<!-- 11 -->\n<g id=\"node12\" class=\"node\">\n<title>11</title>\n<path fill=\"#e2fbfb\" stroke=\"#000000\" d=\"M682,-1131.5C682,-1131.5 495,-1131.5 495,-1131.5 489,-1131.5 483,-1125.5 483,-1119.5 483,-1119.5 483,-1075.5 483,-1075.5 483,-1069.5 489,-1063.5 495,-1063.5 495,-1063.5 682,-1063.5 682,-1063.5 688,-1063.5 694,-1069.5 694,-1075.5 694,-1075.5 694,-1119.5 694,-1119.5 694,-1125.5 688,-1131.5 682,-1131.5\"/>\n<text text-anchor=\"start\" x=\"550.5\" y=\"-1116.3\" font-family=\"Helvetica,sans-Serif\" font-size=\"14.00\" fill=\"#000000\">gini = 0.787</text>\n<text text-anchor=\"start\" x=\"544.5\" y=\"-1101.3\" font-family=\"Helvetica,sans-Serif\" font-size=\"14.00\" fill=\"#000000\">samples = 56</text>\n<text text-anchor=\"start\" x=\"491\" y=\"-1086.3\" font-family=\"Helvetica,sans-Serif\" font-size=\"14.00\" fill=\"#000000\">value = [0, 14, 19, 29, 13, 7, 6]</text>\n<text text-anchor=\"start\" x=\"538\" y=\"-1071.3\" font-family=\"Helvetica,sans-Serif\" font-size=\"14.00\" fill=\"#000000\">class = clase_3</text>\n</g>\n<!-- 9&#45;&gt;11 -->\n<g id=\"edge11\" class=\"edge\">\n<title>9&#45;&gt;11</title>\n<path fill=\"none\" stroke=\"#000000\" d=\"M588.5,-1174.8796C588.5,-1164.2134 588.5,-1152.7021 588.5,-1141.9015\"/>\n<polygon fill=\"#000000\" stroke=\"#000000\" points=\"592.0001,-1141.8149 588.5,-1131.8149 585.0001,-1141.815 592.0001,-1141.8149\"/>\n</g>\n<!-- 15 -->\n<g id=\"node16\" class=\"node\">\n<title>15</title>\n<path fill=\"#e7458d\" stroke=\"#000000\" d=\"M2436,-1496C2436,-1496 2183,-1496 2183,-1496 2177,-1496 2171,-1490 2171,-1484 2171,-1484 2171,-1425 2171,-1425 2171,-1419 2177,-1413 2183,-1413 2183,-1413 2436,-1413 2436,-1413 2442,-1413 2448,-1419 2448,-1425 2448,-1425 2448,-1484 2448,-1484 2448,-1490 2442,-1496 2436,-1496\"/>\n<text text-anchor=\"start\" x=\"2246\" y=\"-1480.8\" font-family=\"Helvetica,sans-Serif\" font-size=\"14.00\" fill=\"#000000\">receiver_state ≤ 2.5</text>\n<text text-anchor=\"start\" x=\"2271.5\" y=\"-1465.8\" font-family=\"Helvetica,sans-Serif\" font-size=\"14.00\" fill=\"#000000\">gini = 0.109</text>\n<text text-anchor=\"start\" x=\"2257.5\" y=\"-1450.8\" font-family=\"Helvetica,sans-Serif\" font-size=\"14.00\" fill=\"#000000\">samples = 9118</text>\n<text text-anchor=\"start\" x=\"2179\" y=\"-1435.8\" font-family=\"Helvetica,sans-Serif\" font-size=\"14.00\" fill=\"#000000\">value = [0, 12, 77, 156, 184, 386, 13575]</text>\n<text text-anchor=\"start\" x=\"2259\" y=\"-1420.8\" font-family=\"Helvetica,sans-Serif\" font-size=\"14.00\" fill=\"#000000\">class = clase_6</text>\n</g>\n<!-- 14&#45;&gt;15 -->\n<g id=\"edge15\" class=\"edge\">\n<title>14&#45;&gt;15</title>\n<path fill=\"none\" stroke=\"#000000\" d=\"M2544.4932,-1531.9631C2512.3731,-1521.3751 2477.7126,-1509.9496 2445.134,-1499.2104\"/>\n<polygon fill=\"#000000\" stroke=\"#000000\" points=\"2446.1447,-1495.8583 2435.5516,-1496.0516 2443.9532,-1502.5065 2446.1447,-1495.8583\"/>\n</g>\n<!-- 44 -->\n<g id=\"node45\" class=\"node\">\n<title>44</title>\n<path fill=\"#f5fef6\" stroke=\"#000000\" d=\"M3054,-1496C3054,-1496 2793,-1496 2793,-1496 2787,-1496 2781,-1490 2781,-1484 2781,-1484 2781,-1425 2781,-1425 2781,-1419 2787,-1413 2793,-1413 2793,-1413 3054,-1413 3054,-1413 3060,-1413 3066,-1419 3066,-1425 3066,-1425 3066,-1484 3066,-1484 3066,-1490 3060,-1496 3054,-1496\"/>\n<text text-anchor=\"start\" x=\"2860\" y=\"-1480.8\" font-family=\"Helvetica,sans-Serif\" font-size=\"14.00\" fill=\"#000000\">receiver_state ≤ 5.0</text>\n<text text-anchor=\"start\" x=\"2885.5\" y=\"-1465.8\" font-family=\"Helvetica,sans-Serif\" font-size=\"14.00\" fill=\"#000000\">gini = 0.792</text>\n<text text-anchor=\"start\" x=\"2871.5\" y=\"-1450.8\" font-family=\"Helvetica,sans-Serif\" font-size=\"14.00\" fill=\"#000000\">samples = 1457</text>\n<text text-anchor=\"start\" x=\"2789\" y=\"-1435.8\" font-family=\"Helvetica,sans-Serif\" font-size=\"14.00\" fill=\"#000000\">value = [18, 143, 676, 584, 455, 266, 191]</text>\n<text text-anchor=\"start\" x=\"2873\" y=\"-1420.8\" font-family=\"Helvetica,sans-Serif\" font-size=\"14.00\" fill=\"#000000\">class = clase_2</text>\n</g>\n<!-- 14&#45;&gt;44 -->\n<g id=\"edge44\" class=\"edge\">\n<title>14&#45;&gt;44</title>\n<path fill=\"none\" stroke=\"#000000\" d=\"M2758.9871,-1531.8796C2780.5574,-1521.7339 2803.7533,-1510.8235 2825.7281,-1500.4876\"/>\n<polygon fill=\"#000000\" stroke=\"#000000\" points=\"2827.5035,-1503.5204 2835.0628,-1496.0969 2824.5241,-1497.1861 2827.5035,-1503.5204\"/>\n</g>\n<!-- 16 -->\n<g id=\"node17\" class=\"node\">\n<title>16</title>\n<path fill=\"#e6448d\" stroke=\"#000000\" d=\"M1989,-1377C1989,-1377 1736,-1377 1736,-1377 1730,-1377 1724,-1371 1724,-1365 1724,-1365 1724,-1306 1724,-1306 1724,-1300 1730,-1294 1736,-1294 1736,-1294 1989,-1294 1989,-1294 1995,-1294 2001,-1300 2001,-1306 2001,-1306 2001,-1365 2001,-1365 2001,-1371 1995,-1377 1989,-1377\"/>\n<text text-anchor=\"start\" x=\"1821.5\" y=\"-1361.8\" font-family=\"Helvetica,sans-Serif\" font-size=\"14.00\" fill=\"#000000\">service ≤ 1.5</text>\n<text text-anchor=\"start\" x=\"1824.5\" y=\"-1346.8\" font-family=\"Helvetica,sans-Serif\" font-size=\"14.00\" fill=\"#000000\">gini = 0.106</text>\n<text text-anchor=\"start\" x=\"1810.5\" y=\"-1331.8\" font-family=\"Helvetica,sans-Serif\" font-size=\"14.00\" fill=\"#000000\">samples = 9066</text>\n<text text-anchor=\"start\" x=\"1732\" y=\"-1316.8\" font-family=\"Helvetica,sans-Serif\" font-size=\"14.00\" fill=\"#000000\">value = [0, 12, 77, 153, 179, 366, 13512]</text>\n<text text-anchor=\"start\" x=\"1812\" y=\"-1301.8\" font-family=\"Helvetica,sans-Serif\" font-size=\"14.00\" fill=\"#000000\">class = clase_6</text>\n</g>\n<!-- 15&#45;&gt;16 -->\n<g id=\"edge16\" class=\"edge\">\n<title>15&#45;&gt;16</title>\n<path fill=\"none\" stroke=\"#000000\" d=\"M2170.8222,-1417.5813C2120.1287,-1404.0857 2062.599,-1388.7702 2011.0764,-1375.0539\"/>\n<polygon fill=\"#000000\" stroke=\"#000000\" points=\"2011.7568,-1371.6132 2001.193,-1372.4227 2009.956,-1378.3776 2011.7568,-1371.6132\"/>\n</g>\n<!-- 39 -->\n<g id=\"node40\" class=\"node\">\n<title>39</title>\n<path fill=\"#ef87b6\" stroke=\"#000000\" d=\"M2394.5,-1377C2394.5,-1377 2224.5,-1377 2224.5,-1377 2218.5,-1377 2212.5,-1371 2212.5,-1365 2212.5,-1365 2212.5,-1306 2212.5,-1306 2212.5,-1300 2218.5,-1294 2224.5,-1294 2224.5,-1294 2394.5,-1294 2394.5,-1294 2400.5,-1294 2406.5,-1300 2406.5,-1306 2406.5,-1306 2406.5,-1365 2406.5,-1365 2406.5,-1371 2400.5,-1377 2394.5,-1377\"/>\n<text text-anchor=\"start\" x=\"2268.5\" y=\"-1361.8\" font-family=\"Helvetica,sans-Serif\" font-size=\"14.00\" fill=\"#000000\">service ≤ 4.5</text>\n<text text-anchor=\"start\" x=\"2271.5\" y=\"-1346.8\" font-family=\"Helvetica,sans-Serif\" font-size=\"14.00\" fill=\"#000000\">gini = 0.468</text>\n<text text-anchor=\"start\" x=\"2265.5\" y=\"-1331.8\" font-family=\"Helvetica,sans-Serif\" font-size=\"14.00\" fill=\"#000000\">samples = 52</text>\n<text text-anchor=\"start\" x=\"2220.5\" y=\"-1316.8\" font-family=\"Helvetica,sans-Serif\" font-size=\"14.00\" fill=\"#000000\">value = [0, 0, 0, 3, 5, 20, 63]</text>\n<text text-anchor=\"start\" x=\"2259\" y=\"-1301.8\" font-family=\"Helvetica,sans-Serif\" font-size=\"14.00\" fill=\"#000000\">class = clase_6</text>\n</g>\n<!-- 15&#45;&gt;39 -->\n<g id=\"edge39\" class=\"edge\">\n<title>15&#45;&gt;39</title>\n<path fill=\"none\" stroke=\"#000000\" d=\"M2309.5,-1412.8796C2309.5,-1404.6838 2309.5,-1395.9891 2309.5,-1387.5013\"/>\n<polygon fill=\"#000000\" stroke=\"#000000\" points=\"2313.0001,-1387.298 2309.5,-1377.2981 2306.0001,-1387.2981 2313.0001,-1387.298\"/>\n</g>\n<!-- 17 -->\n<g id=\"node18\" class=\"node\">\n<title>17</title>\n<path fill=\"#e63f89\" stroke=\"#000000\" d=\"M1297,-1258C1297,-1258 1094,-1258 1094,-1258 1088,-1258 1082,-1252 1082,-1246 1082,-1246 1082,-1187 1082,-1187 1082,-1181 1088,-1175 1094,-1175 1094,-1175 1297,-1175 1297,-1175 1303,-1175 1309,-1181 1309,-1187 1309,-1187 1309,-1246 1309,-1246 1309,-1252 1303,-1258 1297,-1258\"/>\n<text text-anchor=\"start\" x=\"1132\" y=\"-1242.8\" font-family=\"Helvetica,sans-Serif\" font-size=\"14.00\" fill=\"#000000\">receiver_state ≤ 1.5</text>\n<text text-anchor=\"start\" x=\"1157.5\" y=\"-1227.8\" font-family=\"Helvetica,sans-Serif\" font-size=\"14.00\" fill=\"#000000\">gini = 0.055</text>\n<text text-anchor=\"start\" x=\"1143.5\" y=\"-1212.8\" font-family=\"Helvetica,sans-Serif\" font-size=\"14.00\" fill=\"#000000\">samples = 1114</text>\n<text text-anchor=\"start\" x=\"1090\" y=\"-1197.8\" font-family=\"Helvetica,sans-Serif\" font-size=\"14.00\" fill=\"#000000\">value = [0, 0, 0, 12, 14, 24, 1736]</text>\n<text text-anchor=\"start\" x=\"1145\" y=\"-1182.8\" font-family=\"Helvetica,sans-Serif\" font-size=\"14.00\" fill=\"#000000\">class = clase_6</text>\n</g>\n<!-- 16&#45;&gt;17 -->\n<g id=\"edge17\" class=\"edge\">\n<title>16&#45;&gt;17</title>\n<path fill=\"none\" stroke=\"#000000\" d=\"M1723.8922,-1310.7709C1604.4696,-1289.4646 1433.6827,-1258.9944 1318.9053,-1238.5168\"/>\n<polygon fill=\"#000000\" stroke=\"#000000\" points=\"1319.4742,-1235.0632 1309.0149,-1236.7523 1318.2447,-1241.9543 1319.4742,-1235.0632\"/>\n</g>\n<!-- 24 -->\n<g id=\"node25\" class=\"node\">\n<title>24</title>\n<path fill=\"#e7458d\" stroke=\"#000000\" d=\"M1989,-1258C1989,-1258 1736,-1258 1736,-1258 1730,-1258 1724,-1252 1724,-1246 1724,-1246 1724,-1187 1724,-1187 1724,-1181 1730,-1175 1736,-1175 1736,-1175 1989,-1175 1989,-1175 1995,-1175 2001,-1181 2001,-1187 2001,-1187 2001,-1246 2001,-1246 2001,-1252 1995,-1258 1989,-1258\"/>\n<text text-anchor=\"start\" x=\"1821.5\" y=\"-1242.8\" font-family=\"Helvetica,sans-Serif\" font-size=\"14.00\" fill=\"#000000\">service ≤ 4.5</text>\n<text text-anchor=\"start\" x=\"1824.5\" y=\"-1227.8\" font-family=\"Helvetica,sans-Serif\" font-size=\"14.00\" fill=\"#000000\">gini = 0.113</text>\n<text text-anchor=\"start\" x=\"1810.5\" y=\"-1212.8\" font-family=\"Helvetica,sans-Serif\" font-size=\"14.00\" fill=\"#000000\">samples = 7952</text>\n<text text-anchor=\"start\" x=\"1732\" y=\"-1197.8\" font-family=\"Helvetica,sans-Serif\" font-size=\"14.00\" fill=\"#000000\">value = [0, 12, 77, 141, 165, 342, 11776]</text>\n<text text-anchor=\"start\" x=\"1812\" y=\"-1182.8\" font-family=\"Helvetica,sans-Serif\" font-size=\"14.00\" fill=\"#000000\">class = clase_6</text>\n</g>\n<!-- 16&#45;&gt;24 -->\n<g id=\"edge24\" class=\"edge\">\n<title>16&#45;&gt;24</title>\n<path fill=\"none\" stroke=\"#000000\" d=\"M1862.5,-1293.8796C1862.5,-1285.6838 1862.5,-1276.9891 1862.5,-1268.5013\"/>\n<polygon fill=\"#000000\" stroke=\"#000000\" points=\"1866.0001,-1268.298 1862.5,-1258.2981 1859.0001,-1268.2981 1866.0001,-1268.298\"/>\n</g>\n<!-- 18 -->\n<g id=\"node19\" class=\"node\">\n<title>18</title>\n<path fill=\"#e63f8a\" stroke=\"#000000\" d=\"M927,-1139C927,-1139 724,-1139 724,-1139 718,-1139 712,-1133 712,-1127 712,-1127 712,-1068 712,-1068 712,-1062 718,-1056 724,-1056 724,-1056 927,-1056 927,-1056 933,-1056 939,-1062 939,-1068 939,-1068 939,-1127 939,-1127 939,-1133 933,-1139 927,-1139\"/>\n<text text-anchor=\"start\" x=\"784.5\" y=\"-1123.8\" font-family=\"Helvetica,sans-Serif\" font-size=\"14.00\" fill=\"#000000\">service ≤ 0.5</text>\n<text text-anchor=\"start\" x=\"792\" y=\"-1108.8\" font-family=\"Helvetica,sans-Serif\" font-size=\"14.00\" fill=\"#000000\">gini = 0.06</text>\n<text text-anchor=\"start\" x=\"777.5\" y=\"-1093.8\" font-family=\"Helvetica,sans-Serif\" font-size=\"14.00\" fill=\"#000000\">samples = 976</text>\n<text text-anchor=\"start\" x=\"720\" y=\"-1078.8\" font-family=\"Helvetica,sans-Serif\" font-size=\"14.00\" fill=\"#000000\">value = [0, 0, 0, 12, 14, 22, 1507]</text>\n<text text-anchor=\"start\" x=\"775\" y=\"-1063.8\" font-family=\"Helvetica,sans-Serif\" font-size=\"14.00\" fill=\"#000000\">class = clase_6</text>\n</g>\n<!-- 17&#45;&gt;18 -->\n<g id=\"edge18\" class=\"edge\">\n<title>17&#45;&gt;18</title>\n<path fill=\"none\" stroke=\"#000000\" d=\"M1081.9733,-1179.9874C1039.8088,-1166.4264 991.791,-1150.9828 948.7951,-1137.1544\"/>\n<polygon fill=\"#000000\" stroke=\"#000000\" points=\"949.722,-1133.776 939.1306,-1134.0461 947.5787,-1140.4398 949.722,-1133.776\"/>\n</g>\n<!-- 21 -->\n<g id=\"node22\" class=\"node\">\n<title>21</title>\n<path fill=\"#e53b87\" stroke=\"#000000\" d=\"M1280.5,-1139C1280.5,-1139 1110.5,-1139 1110.5,-1139 1104.5,-1139 1098.5,-1133 1098.5,-1127 1098.5,-1127 1098.5,-1068 1098.5,-1068 1098.5,-1062 1104.5,-1056 1110.5,-1056 1110.5,-1056 1280.5,-1056 1280.5,-1056 1286.5,-1056 1292.5,-1062 1292.5,-1068 1292.5,-1068 1292.5,-1127 1292.5,-1127 1292.5,-1133 1286.5,-1139 1280.5,-1139\"/>\n<text text-anchor=\"start\" x=\"1154.5\" y=\"-1123.8\" font-family=\"Helvetica,sans-Serif\" font-size=\"14.00\" fill=\"#000000\">service ≤ 0.5</text>\n<text text-anchor=\"start\" x=\"1157.5\" y=\"-1108.8\" font-family=\"Helvetica,sans-Serif\" font-size=\"14.00\" fill=\"#000000\">gini = 0.017</text>\n<text text-anchor=\"start\" x=\"1147.5\" y=\"-1093.8\" font-family=\"Helvetica,sans-Serif\" font-size=\"14.00\" fill=\"#000000\">samples = 138</text>\n<text text-anchor=\"start\" x=\"1106.5\" y=\"-1078.8\" font-family=\"Helvetica,sans-Serif\" font-size=\"14.00\" fill=\"#000000\">value = [0, 0, 0, 0, 0, 2, 229]</text>\n<text text-anchor=\"start\" x=\"1145\" y=\"-1063.8\" font-family=\"Helvetica,sans-Serif\" font-size=\"14.00\" fill=\"#000000\">class = clase_6</text>\n</g>\n<!-- 17&#45;&gt;21 -->\n<g id=\"edge21\" class=\"edge\">\n<title>17&#45;&gt;21</title>\n<path fill=\"none\" stroke=\"#000000\" d=\"M1195.5,-1174.8796C1195.5,-1166.6838 1195.5,-1157.9891 1195.5,-1149.5013\"/>\n<polygon fill=\"#000000\" stroke=\"#000000\" points=\"1199.0001,-1149.298 1195.5,-1139.2981 1192.0001,-1149.2981 1199.0001,-1149.298\"/>\n</g>\n<!-- 19 -->\n<g id=\"node20\" class=\"node\">\n<title>19</title>\n<path fill=\"#e63d89\" stroke=\"#000000\" d=\"M659.5,-1012.5C659.5,-1012.5 489.5,-1012.5 489.5,-1012.5 483.5,-1012.5 477.5,-1006.5 477.5,-1000.5 477.5,-1000.5 477.5,-956.5 477.5,-956.5 477.5,-950.5 483.5,-944.5 489.5,-944.5 489.5,-944.5 659.5,-944.5 659.5,-944.5 665.5,-944.5 671.5,-950.5 671.5,-956.5 671.5,-956.5 671.5,-1000.5 671.5,-1000.5 671.5,-1006.5 665.5,-1012.5 659.5,-1012.5\"/>\n<text text-anchor=\"start\" x=\"541\" y=\"-997.3\" font-family=\"Helvetica,sans-Serif\" font-size=\"14.00\" fill=\"#000000\">gini = 0.04</text>\n<text text-anchor=\"start\" x=\"526.5\" y=\"-982.3\" font-family=\"Helvetica,sans-Serif\" font-size=\"14.00\" fill=\"#000000\">samples = 262</text>\n<text text-anchor=\"start\" x=\"485.5\" y=\"-967.3\" font-family=\"Helvetica,sans-Serif\" font-size=\"14.00\" fill=\"#000000\">value = [0, 0, 0, 3, 1, 5, 430]</text>\n<text text-anchor=\"start\" x=\"524\" y=\"-952.3\" font-family=\"Helvetica,sans-Serif\" font-size=\"14.00\" fill=\"#000000\">class = clase_6</text>\n</g>\n<!-- 18&#45;&gt;19 -->\n<g id=\"edge19\" class=\"edge\">\n<title>18&#45;&gt;19</title>\n<path fill=\"none\" stroke=\"#000000\" d=\"M737.7124,-1055.8796C711.0295,-1043.2291 681.8392,-1029.3899 655.6164,-1016.9576\"/>\n<polygon fill=\"#000000\" stroke=\"#000000\" points=\"657.0091,-1013.7445 646.4738,-1012.623 654.0103,-1020.0696 657.0091,-1013.7445\"/>\n</g>\n<!-- 20 -->\n<g id=\"node21\" class=\"node\">\n<title>20</title>\n<path fill=\"#e6408a\" stroke=\"#000000\" d=\"M897,-1012.5C897,-1012.5 702,-1012.5 702,-1012.5 696,-1012.5 690,-1006.5 690,-1000.5 690,-1000.5 690,-956.5 690,-956.5 690,-950.5 696,-944.5 702,-944.5 702,-944.5 897,-944.5 897,-944.5 903,-944.5 909,-950.5 909,-956.5 909,-956.5 909,-1000.5 909,-1000.5 909,-1006.5 903,-1012.5 897,-1012.5\"/>\n<text text-anchor=\"start\" x=\"761.5\" y=\"-997.3\" font-family=\"Helvetica,sans-Serif\" font-size=\"14.00\" fill=\"#000000\">gini = 0.068</text>\n<text text-anchor=\"start\" x=\"751.5\" y=\"-982.3\" font-family=\"Helvetica,sans-Serif\" font-size=\"14.00\" fill=\"#000000\">samples = 714</text>\n<text text-anchor=\"start\" x=\"698\" y=\"-967.3\" font-family=\"Helvetica,sans-Serif\" font-size=\"14.00\" fill=\"#000000\">value = [0, 0, 0, 9, 13, 17, 1077]</text>\n<text text-anchor=\"start\" x=\"749\" y=\"-952.3\" font-family=\"Helvetica,sans-Serif\" font-size=\"14.00\" fill=\"#000000\">class = clase_6</text>\n</g>\n<!-- 18&#45;&gt;20 -->\n<g id=\"edge20\" class=\"edge\">\n<title>18&#45;&gt;20</title>\n<path fill=\"none\" stroke=\"#000000\" d=\"M816.4065,-1055.8796C814.076,-1045.2134 811.561,-1033.7021 809.2012,-1022.9015\"/>\n<polygon fill=\"#000000\" stroke=\"#000000\" points=\"812.5513,-1021.8374 806.9974,-1012.8149 805.7126,-1023.3316 812.5513,-1021.8374\"/>\n</g>\n<!-- 22 -->\n<g id=\"node23\" class=\"node\">\n<title>22</title>\n<path fill=\"#e53986\" stroke=\"#000000\" d=\"M1093.5,-1012.5C1093.5,-1012.5 939.5,-1012.5 939.5,-1012.5 933.5,-1012.5 927.5,-1006.5 927.5,-1000.5 927.5,-1000.5 927.5,-956.5 927.5,-956.5 927.5,-950.5 933.5,-944.5 939.5,-944.5 939.5,-944.5 1093.5,-944.5 1093.5,-944.5 1099.5,-944.5 1105.5,-950.5 1105.5,-956.5 1105.5,-956.5 1105.5,-1000.5 1105.5,-1000.5 1105.5,-1006.5 1099.5,-1012.5 1093.5,-1012.5\"/>\n<text text-anchor=\"start\" x=\"987\" y=\"-997.3\" font-family=\"Helvetica,sans-Serif\" font-size=\"14.00\" fill=\"#000000\">gini = 0.0</text>\n<text text-anchor=\"start\" x=\"977\" y=\"-982.3\" font-family=\"Helvetica,sans-Serif\" font-size=\"14.00\" fill=\"#000000\">samples = 1</text>\n<text text-anchor=\"start\" x=\"935.5\" y=\"-967.3\" font-family=\"Helvetica,sans-Serif\" font-size=\"14.00\" fill=\"#000000\">value = [0, 0, 0, 0, 0, 0, 2]</text>\n<text text-anchor=\"start\" x=\"966\" y=\"-952.3\" font-family=\"Helvetica,sans-Serif\" font-size=\"14.00\" fill=\"#000000\">class = clase_6</text>\n</g>\n<!-- 21&#45;&gt;22 -->\n<g id=\"edge22\" class=\"edge\">\n<title>21&#45;&gt;22</title>\n<path fill=\"none\" stroke=\"#000000\" d=\"M1132.8945,-1055.8796C1114.6135,-1043.7263 1094.6822,-1030.4759 1076.5624,-1018.4297\"/>\n<polygon fill=\"#000000\" stroke=\"#000000\" points=\"1078.0933,-1015.2447 1067.8279,-1012.623 1074.2179,-1021.074 1078.0933,-1015.2447\"/>\n</g>\n<!-- 23 -->\n<g id=\"node24\" class=\"node\">\n<title>23</title>\n<path fill=\"#e53b87\" stroke=\"#000000\" d=\"M1305.5,-1012.5C1305.5,-1012.5 1135.5,-1012.5 1135.5,-1012.5 1129.5,-1012.5 1123.5,-1006.5 1123.5,-1000.5 1123.5,-1000.5 1123.5,-956.5 1123.5,-956.5 1123.5,-950.5 1129.5,-944.5 1135.5,-944.5 1135.5,-944.5 1305.5,-944.5 1305.5,-944.5 1311.5,-944.5 1317.5,-950.5 1317.5,-956.5 1317.5,-956.5 1317.5,-1000.5 1317.5,-1000.5 1317.5,-1006.5 1311.5,-1012.5 1305.5,-1012.5\"/>\n<text text-anchor=\"start\" x=\"1182.5\" y=\"-997.3\" font-family=\"Helvetica,sans-Serif\" font-size=\"14.00\" fill=\"#000000\">gini = 0.017</text>\n<text text-anchor=\"start\" x=\"1172.5\" y=\"-982.3\" font-family=\"Helvetica,sans-Serif\" font-size=\"14.00\" fill=\"#000000\">samples = 137</text>\n<text text-anchor=\"start\" x=\"1131.5\" y=\"-967.3\" font-family=\"Helvetica,sans-Serif\" font-size=\"14.00\" fill=\"#000000\">value = [0, 0, 0, 0, 0, 2, 227]</text>\n<text text-anchor=\"start\" x=\"1170\" y=\"-952.3\" font-family=\"Helvetica,sans-Serif\" font-size=\"14.00\" fill=\"#000000\">class = clase_6</text>\n</g>\n<!-- 21&#45;&gt;23 -->\n<g id=\"edge23\" class=\"edge\">\n<title>21&#45;&gt;23</title>\n<path fill=\"none\" stroke=\"#000000\" d=\"M1204.2438,-1055.8796C1206.4846,-1045.2134 1208.9029,-1033.7021 1211.1719,-1022.9015\"/>\n<polygon fill=\"#000000\" stroke=\"#000000\" points=\"1214.6602,-1023.3209 1213.291,-1012.8149 1207.8097,-1021.8817 1214.6602,-1023.3209\"/>\n</g>\n<!-- 25 -->\n<g id=\"node26\" class=\"node\">\n<title>25</title>\n<path fill=\"#e7458e\" stroke=\"#000000\" d=\"M1772,-1139C1772,-1139 1527,-1139 1527,-1139 1521,-1139 1515,-1133 1515,-1127 1515,-1127 1515,-1068 1515,-1068 1515,-1062 1521,-1056 1527,-1056 1527,-1056 1772,-1056 1772,-1056 1778,-1056 1784,-1062 1784,-1068 1784,-1068 1784,-1127 1784,-1127 1784,-1133 1778,-1139 1772,-1139\"/>\n<text text-anchor=\"start\" x=\"1586\" y=\"-1123.8\" font-family=\"Helvetica,sans-Serif\" font-size=\"14.00\" fill=\"#000000\">receiver_state ≤ 1.5</text>\n<text text-anchor=\"start\" x=\"1611.5\" y=\"-1108.8\" font-family=\"Helvetica,sans-Serif\" font-size=\"14.00\" fill=\"#000000\">gini = 0.116</text>\n<text text-anchor=\"start\" x=\"1597.5\" y=\"-1093.8\" font-family=\"Helvetica,sans-Serif\" font-size=\"14.00\" fill=\"#000000\">samples = 6565</text>\n<text text-anchor=\"start\" x=\"1523\" y=\"-1078.8\" font-family=\"Helvetica,sans-Serif\" font-size=\"14.00\" fill=\"#000000\">value = [0, 11, 57, 108, 143, 309, 9732]</text>\n<text text-anchor=\"start\" x=\"1599\" y=\"-1063.8\" font-family=\"Helvetica,sans-Serif\" font-size=\"14.00\" fill=\"#000000\">class = clase_6</text>\n</g>\n<!-- 24&#45;&gt;25 -->\n<g id=\"edge25\" class=\"edge\">\n<title>24&#45;&gt;25</title>\n<path fill=\"none\" stroke=\"#000000\" d=\"M1788.0029,-1174.8796C1770.1672,-1164.915 1751.0114,-1154.2129 1732.8059,-1144.0418\"/>\n<polygon fill=\"#000000\" stroke=\"#000000\" points=\"1734.392,-1140.9188 1723.955,-1139.0969 1730.9779,-1147.0298 1734.392,-1140.9188\"/>\n</g>\n<!-- 36 -->\n<g id=\"node37\" class=\"node\">\n<title>36</title>\n<path fill=\"#e6438c\" stroke=\"#000000\" d=\"M2026.5,-1139C2026.5,-1139 1814.5,-1139 1814.5,-1139 1808.5,-1139 1802.5,-1133 1802.5,-1127 1802.5,-1127 1802.5,-1068 1802.5,-1068 1802.5,-1062 1808.5,-1056 1814.5,-1056 1814.5,-1056 2026.5,-1056 2026.5,-1056 2032.5,-1056 2038.5,-1062 2038.5,-1068 2038.5,-1068 2038.5,-1127 2038.5,-1127 2038.5,-1133 2032.5,-1139 2026.5,-1139\"/>\n<text text-anchor=\"start\" x=\"1857\" y=\"-1123.8\" font-family=\"Helvetica,sans-Serif\" font-size=\"14.00\" fill=\"#000000\">receiver_state ≤ 1.5</text>\n<text text-anchor=\"start\" x=\"1882.5\" y=\"-1108.8\" font-family=\"Helvetica,sans-Serif\" font-size=\"14.00\" fill=\"#000000\">gini = 0.098</text>\n<text text-anchor=\"start\" x=\"1868.5\" y=\"-1093.8\" font-family=\"Helvetica,sans-Serif\" font-size=\"14.00\" fill=\"#000000\">samples = 1387</text>\n<text text-anchor=\"start\" x=\"1810.5\" y=\"-1078.8\" font-family=\"Helvetica,sans-Serif\" font-size=\"14.00\" fill=\"#000000\">value = [0, 1, 20, 33, 22, 33, 2044]</text>\n<text text-anchor=\"start\" x=\"1870\" y=\"-1063.8\" font-family=\"Helvetica,sans-Serif\" font-size=\"14.00\" fill=\"#000000\">class = clase_6</text>\n</g>\n<!-- 24&#45;&gt;36 -->\n<g id=\"edge36\" class=\"edge\">\n<title>24&#45;&gt;36</title>\n<path fill=\"none\" stroke=\"#000000\" d=\"M1882.7856,-1174.8796C1886.9557,-1166.3236 1891.3909,-1157.2238 1895.6997,-1148.3833\"/>\n<polygon fill=\"#000000\" stroke=\"#000000\" points=\"1898.8927,-1149.8207 1900.1278,-1139.2981 1892.6003,-1146.7538 1898.8927,-1149.8207\"/>\n</g>\n<!-- 26 -->\n<g id=\"node27\" class=\"node\">\n<title>26</title>\n<path fill=\"#e7458d\" stroke=\"#000000\" d=\"M1583.5,-1020C1583.5,-1020 1347.5,-1020 1347.5,-1020 1341.5,-1020 1335.5,-1014 1335.5,-1008 1335.5,-1008 1335.5,-949 1335.5,-949 1335.5,-943 1341.5,-937 1347.5,-937 1347.5,-937 1583.5,-937 1583.5,-937 1589.5,-937 1595.5,-943 1595.5,-949 1595.5,-949 1595.5,-1008 1595.5,-1008 1595.5,-1014 1589.5,-1020 1583.5,-1020\"/>\n<text text-anchor=\"start\" x=\"1424.5\" y=\"-1004.8\" font-family=\"Helvetica,sans-Serif\" font-size=\"14.00\" fill=\"#000000\">service ≤ 2.5</text>\n<text text-anchor=\"start\" x=\"1427.5\" y=\"-989.8\" font-family=\"Helvetica,sans-Serif\" font-size=\"14.00\" fill=\"#000000\">gini = 0.112</text>\n<text text-anchor=\"start\" x=\"1413.5\" y=\"-974.8\" font-family=\"Helvetica,sans-Serif\" font-size=\"14.00\" fill=\"#000000\">samples = 5686</text>\n<text text-anchor=\"start\" x=\"1343.5\" y=\"-959.8\" font-family=\"Helvetica,sans-Serif\" font-size=\"14.00\" fill=\"#000000\">value = [0, 11, 57, 96, 120, 236, 8451]</text>\n<text text-anchor=\"start\" x=\"1415\" y=\"-944.8\" font-family=\"Helvetica,sans-Serif\" font-size=\"14.00\" fill=\"#000000\">class = clase_6</text>\n</g>\n<!-- 25&#45;&gt;26 -->\n<g id=\"edge26\" class=\"edge\">\n<title>25&#45;&gt;26</title>\n<path fill=\"none\" stroke=\"#000000\" d=\"M1585.1457,-1055.8796C1570.0185,-1046.0962 1553.7919,-1035.6019 1538.3224,-1025.5971\"/>\n<polygon fill=\"#000000\" stroke=\"#000000\" points=\"1540.1156,-1022.5887 1529.8179,-1020.0969 1536.3141,-1028.4665 1540.1156,-1022.5887\"/>\n</g>\n<!-- 31 -->\n<g id=\"node32\" class=\"node\">\n<title>31</title>\n<path fill=\"#e74990\" stroke=\"#000000\" d=\"M1829,-1020C1829,-1020 1626,-1020 1626,-1020 1620,-1020 1614,-1014 1614,-1008 1614,-1008 1614,-949 1614,-949 1614,-943 1620,-937 1626,-937 1626,-937 1829,-937 1829,-937 1835,-937 1841,-943 1841,-949 1841,-949 1841,-1008 1841,-1008 1841,-1014 1835,-1020 1829,-1020\"/>\n<text text-anchor=\"start\" x=\"1686.5\" y=\"-1004.8\" font-family=\"Helvetica,sans-Serif\" font-size=\"14.00\" fill=\"#000000\">service ≤ 2.5</text>\n<text text-anchor=\"start\" x=\"1689.5\" y=\"-989.8\" font-family=\"Helvetica,sans-Serif\" font-size=\"14.00\" fill=\"#000000\">gini = 0.146</text>\n<text text-anchor=\"start\" x=\"1679.5\" y=\"-974.8\" font-family=\"Helvetica,sans-Serif\" font-size=\"14.00\" fill=\"#000000\">samples = 879</text>\n<text text-anchor=\"start\" x=\"1622\" y=\"-959.8\" font-family=\"Helvetica,sans-Serif\" font-size=\"14.00\" fill=\"#000000\">value = [0, 0, 0, 12, 23, 73, 1281]</text>\n<text text-anchor=\"start\" x=\"1677\" y=\"-944.8\" font-family=\"Helvetica,sans-Serif\" font-size=\"14.00\" fill=\"#000000\">class = clase_6</text>\n</g>\n<!-- 25&#45;&gt;31 -->\n<g id=\"edge31\" class=\"edge\">\n<title>25&#45;&gt;31</title>\n<path fill=\"none\" stroke=\"#000000\" d=\"M1676.7806,-1055.8796C1682.5068,-1047.1434 1688.6046,-1037.8404 1694.5137,-1028.8253\"/>\n<polygon fill=\"#000000\" stroke=\"#000000\" points=\"1697.5482,-1030.5803 1700.1029,-1020.2981 1691.6937,-1026.7429 1697.5482,-1030.5803\"/>\n</g>\n<!-- 27 -->\n<g id=\"node28\" class=\"node\">\n<title>27</title>\n<path fill=\"#e6418b\" stroke=\"#000000\" d=\"M1309,-893.5C1309,-893.5 1130,-893.5 1130,-893.5 1124,-893.5 1118,-887.5 1118,-881.5 1118,-881.5 1118,-837.5 1118,-837.5 1118,-831.5 1124,-825.5 1130,-825.5 1130,-825.5 1309,-825.5 1309,-825.5 1315,-825.5 1321,-831.5 1321,-837.5 1321,-837.5 1321,-881.5 1321,-881.5 1321,-887.5 1315,-893.5 1309,-893.5\"/>\n<text text-anchor=\"start\" x=\"1181.5\" y=\"-878.3\" font-family=\"Helvetica,sans-Serif\" font-size=\"14.00\" fill=\"#000000\">gini = 0.076</text>\n<text text-anchor=\"start\" x=\"1171.5\" y=\"-863.3\" font-family=\"Helvetica,sans-Serif\" font-size=\"14.00\" fill=\"#000000\">samples = 443</text>\n<text text-anchor=\"start\" x=\"1126\" y=\"-848.3\" font-family=\"Helvetica,sans-Serif\" font-size=\"14.00\" fill=\"#000000\">value = [0, 0, 7, 15, 2, 3, 667]</text>\n<text text-anchor=\"start\" x=\"1169\" y=\"-833.3\" font-family=\"Helvetica,sans-Serif\" font-size=\"14.00\" fill=\"#000000\">class = clase_6</text>\n</g>\n<!-- 26&#45;&gt;27 -->\n<g id=\"edge27\" class=\"edge\">\n<title>26&#45;&gt;27</title>\n<path fill=\"none\" stroke=\"#000000\" d=\"M1379.4611,-936.8796C1353.4239,-924.2843 1324.9508,-910.5107 1299.3374,-898.1205\"/>\n<polygon fill=\"#000000\" stroke=\"#000000\" points=\"1300.5663,-894.827 1290.0401,-893.623 1297.518,-901.1285 1300.5663,-894.827\"/>\n</g>\n<!-- 28 -->\n<g id=\"node29\" class=\"node\">\n<title>28</title>\n<path fill=\"#e7458d\" stroke=\"#000000\" d=\"M1587.5,-901C1587.5,-901 1351.5,-901 1351.5,-901 1345.5,-901 1339.5,-895 1339.5,-889 1339.5,-889 1339.5,-830 1339.5,-830 1339.5,-824 1345.5,-818 1351.5,-818 1351.5,-818 1587.5,-818 1587.5,-818 1593.5,-818 1599.5,-824 1599.5,-830 1599.5,-830 1599.5,-889 1599.5,-889 1599.5,-895 1593.5,-901 1587.5,-901\"/>\n<text text-anchor=\"start\" x=\"1428.5\" y=\"-885.8\" font-family=\"Helvetica,sans-Serif\" font-size=\"14.00\" fill=\"#000000\">service ≤ 3.5</text>\n<text text-anchor=\"start\" x=\"1431.5\" y=\"-870.8\" font-family=\"Helvetica,sans-Serif\" font-size=\"14.00\" fill=\"#000000\">gini = 0.114</text>\n<text text-anchor=\"start\" x=\"1417.5\" y=\"-855.8\" font-family=\"Helvetica,sans-Serif\" font-size=\"14.00\" fill=\"#000000\">samples = 5243</text>\n<text text-anchor=\"start\" x=\"1347.5\" y=\"-840.8\" font-family=\"Helvetica,sans-Serif\" font-size=\"14.00\" fill=\"#000000\">value = [0, 11, 50, 81, 118, 233, 7784]</text>\n<text text-anchor=\"start\" x=\"1419\" y=\"-825.8\" font-family=\"Helvetica,sans-Serif\" font-size=\"14.00\" fill=\"#000000\">class = clase_6</text>\n</g>\n<!-- 26&#45;&gt;28 -->\n<g id=\"edge28\" class=\"edge\">\n<title>26&#45;&gt;28</title>\n<path fill=\"none\" stroke=\"#000000\" d=\"M1466.899,-936.8796C1467.1745,-928.6838 1467.4668,-919.9891 1467.7521,-911.5013\"/>\n<polygon fill=\"#000000\" stroke=\"#000000\" points=\"1471.257,-911.41 1468.095,-901.2981 1464.261,-911.1748 1471.257,-911.41\"/>\n</g>\n<!-- 29 -->\n<g id=\"node30\" class=\"node\">\n<title>29</title>\n<path fill=\"#e6448d\" stroke=\"#000000\" d=\"M1546.5,-774.5C1546.5,-774.5 1376.5,-774.5 1376.5,-774.5 1370.5,-774.5 1364.5,-768.5 1364.5,-762.5 1364.5,-762.5 1364.5,-718.5 1364.5,-718.5 1364.5,-712.5 1370.5,-706.5 1376.5,-706.5 1376.5,-706.5 1546.5,-706.5 1546.5,-706.5 1552.5,-706.5 1558.5,-712.5 1558.5,-718.5 1558.5,-718.5 1558.5,-762.5 1558.5,-762.5 1558.5,-768.5 1552.5,-774.5 1546.5,-774.5\"/>\n<text text-anchor=\"start\" x=\"1423.5\" y=\"-759.3\" font-family=\"Helvetica,sans-Serif\" font-size=\"14.00\" fill=\"#000000\">gini = 0.106</text>\n<text text-anchor=\"start\" x=\"1413.5\" y=\"-744.3\" font-family=\"Helvetica,sans-Serif\" font-size=\"14.00\" fill=\"#000000\">samples = 177</text>\n<text text-anchor=\"start\" x=\"1372.5\" y=\"-729.3\" font-family=\"Helvetica,sans-Serif\" font-size=\"14.00\" fill=\"#000000\">value = [0, 3, 0, 2, 3, 7, 258]</text>\n<text text-anchor=\"start\" x=\"1411\" y=\"-714.3\" font-family=\"Helvetica,sans-Serif\" font-size=\"14.00\" fill=\"#000000\">class = clase_6</text>\n</g>\n<!-- 28&#45;&gt;29 -->\n<g id=\"edge29\" class=\"edge\">\n<title>28&#45;&gt;29</title>\n<path fill=\"none\" stroke=\"#000000\" d=\"M1466.702,-817.8796C1465.9849,-807.2134 1465.2111,-795.7021 1464.485,-784.9015\"/>\n<polygon fill=\"#000000\" stroke=\"#000000\" points=\"1467.9699,-784.5576 1463.8069,-774.8149 1460.9856,-785.0272 1467.9699,-784.5576\"/>\n</g>\n<!-- 30 -->\n<g id=\"node31\" class=\"node\">\n<title>30</title>\n<path fill=\"#e7458d\" stroke=\"#000000\" d=\"M1816.5,-774.5C1816.5,-774.5 1588.5,-774.5 1588.5,-774.5 1582.5,-774.5 1576.5,-768.5 1576.5,-762.5 1576.5,-762.5 1576.5,-718.5 1576.5,-718.5 1576.5,-712.5 1582.5,-706.5 1588.5,-706.5 1588.5,-706.5 1816.5,-706.5 1816.5,-706.5 1822.5,-706.5 1828.5,-712.5 1828.5,-718.5 1828.5,-718.5 1828.5,-762.5 1828.5,-762.5 1828.5,-768.5 1822.5,-774.5 1816.5,-774.5\"/>\n<text text-anchor=\"start\" x=\"1664.5\" y=\"-759.3\" font-family=\"Helvetica,sans-Serif\" font-size=\"14.00\" fill=\"#000000\">gini = 0.115</text>\n<text text-anchor=\"start\" x=\"1650.5\" y=\"-744.3\" font-family=\"Helvetica,sans-Serif\" font-size=\"14.00\" fill=\"#000000\">samples = 5066</text>\n<text text-anchor=\"start\" x=\"1584.5\" y=\"-729.3\" font-family=\"Helvetica,sans-Serif\" font-size=\"14.00\" fill=\"#000000\">value = [0, 8, 50, 79, 115, 226, 7526]</text>\n<text text-anchor=\"start\" x=\"1652\" y=\"-714.3\" font-family=\"Helvetica,sans-Serif\" font-size=\"14.00\" fill=\"#000000\">class = clase_6</text>\n</g>\n<!-- 28&#45;&gt;30 -->\n<g id=\"edge30\" class=\"edge\">\n<title>28&#45;&gt;30</title>\n<path fill=\"none\" stroke=\"#000000\" d=\"M1550.9921,-817.8796C1575.5452,-805.3396 1602.3853,-791.6315 1626.5623,-779.2836\"/>\n<polygon fill=\"#000000\" stroke=\"#000000\" points=\"1628.3739,-782.2885 1635.6877,-774.623 1625.19,-776.0545 1628.3739,-782.2885\"/>\n</g>\n<!-- 32 -->\n<g id=\"node33\" class=\"node\">\n<title>32</title>\n<path fill=\"#e95497\" stroke=\"#000000\" d=\"M1802.5,-893.5C1802.5,-893.5 1640.5,-893.5 1640.5,-893.5 1634.5,-893.5 1628.5,-887.5 1628.5,-881.5 1628.5,-881.5 1628.5,-837.5 1628.5,-837.5 1628.5,-831.5 1634.5,-825.5 1640.5,-825.5 1640.5,-825.5 1802.5,-825.5 1802.5,-825.5 1808.5,-825.5 1814.5,-831.5 1814.5,-837.5 1814.5,-837.5 1814.5,-881.5 1814.5,-881.5 1814.5,-887.5 1808.5,-893.5 1802.5,-893.5\"/>\n<text text-anchor=\"start\" x=\"1683.5\" y=\"-878.3\" font-family=\"Helvetica,sans-Serif\" font-size=\"14.00\" fill=\"#000000\">gini = 0.237</text>\n<text text-anchor=\"start\" x=\"1677.5\" y=\"-863.3\" font-family=\"Helvetica,sans-Serif\" font-size=\"14.00\" fill=\"#000000\">samples = 65</text>\n<text text-anchor=\"start\" x=\"1636.5\" y=\"-848.3\" font-family=\"Helvetica,sans-Serif\" font-size=\"14.00\" fill=\"#000000\">value = [0, 0, 0, 2, 6, 5, 87]</text>\n<text text-anchor=\"start\" x=\"1671\" y=\"-833.3\" font-family=\"Helvetica,sans-Serif\" font-size=\"14.00\" fill=\"#000000\">class = clase_6</text>\n</g>\n<!-- 31&#45;&gt;32 -->\n<g id=\"edge32\" class=\"edge\">\n<title>31&#45;&gt;32</title>\n<path fill=\"none\" stroke=\"#000000\" d=\"M1725.4015,-936.8796C1724.8637,-926.2134 1724.2833,-914.7021 1723.7387,-903.9015\"/>\n<polygon fill=\"#000000\" stroke=\"#000000\" points=\"1727.2294,-903.626 1723.2302,-893.8149 1720.2383,-903.9785 1727.2294,-903.626\"/>\n</g>\n<!-- 33 -->\n<g id=\"node34\" class=\"node\">\n<title>33</title>\n<path fill=\"#e7488f\" stroke=\"#000000\" d=\"M2048,-901C2048,-901 1845,-901 1845,-901 1839,-901 1833,-895 1833,-889 1833,-889 1833,-830 1833,-830 1833,-824 1839,-818 1845,-818 1845,-818 2048,-818 2048,-818 2054,-818 2060,-824 2060,-830 2060,-830 2060,-889 2060,-889 2060,-895 2054,-901 2048,-901\"/>\n<text text-anchor=\"start\" x=\"1905.5\" y=\"-885.8\" font-family=\"Helvetica,sans-Serif\" font-size=\"14.00\" fill=\"#000000\">service ≤ 3.5</text>\n<text text-anchor=\"start\" x=\"1908.5\" y=\"-870.8\" font-family=\"Helvetica,sans-Serif\" font-size=\"14.00\" fill=\"#000000\">gini = 0.139</text>\n<text text-anchor=\"start\" x=\"1898.5\" y=\"-855.8\" font-family=\"Helvetica,sans-Serif\" font-size=\"14.00\" fill=\"#000000\">samples = 814</text>\n<text text-anchor=\"start\" x=\"1841\" y=\"-840.8\" font-family=\"Helvetica,sans-Serif\" font-size=\"14.00\" fill=\"#000000\">value = [0, 0, 0, 10, 17, 68, 1194]</text>\n<text text-anchor=\"start\" x=\"1896\" y=\"-825.8\" font-family=\"Helvetica,sans-Serif\" font-size=\"14.00\" fill=\"#000000\">class = clase_6</text>\n</g>\n<!-- 31&#45;&gt;33 -->\n<g id=\"edge33\" class=\"edge\">\n<title>31&#45;&gt;33</title>\n<path fill=\"none\" stroke=\"#000000\" d=\"M1804.0956,-936.8796C1822.517,-926.8697 1842.3082,-916.1156 1861.1026,-905.9031\"/>\n<polygon fill=\"#000000\" stroke=\"#000000\" points=\"1862.8321,-908.9468 1869.9477,-901.0969 1859.49,-902.7961 1862.8321,-908.9468\"/>\n</g>\n<!-- 34 -->\n<g id=\"node35\" class=\"node\">\n<title>34</title>\n<path fill=\"#e53986\" stroke=\"#000000\" d=\"M2024.5,-774.5C2024.5,-774.5 1862.5,-774.5 1862.5,-774.5 1856.5,-774.5 1850.5,-768.5 1850.5,-762.5 1850.5,-762.5 1850.5,-718.5 1850.5,-718.5 1850.5,-712.5 1856.5,-706.5 1862.5,-706.5 1862.5,-706.5 2024.5,-706.5 2024.5,-706.5 2030.5,-706.5 2036.5,-712.5 2036.5,-718.5 2036.5,-718.5 2036.5,-762.5 2036.5,-762.5 2036.5,-768.5 2030.5,-774.5 2024.5,-774.5\"/>\n<text text-anchor=\"start\" x=\"1914\" y=\"-759.3\" font-family=\"Helvetica,sans-Serif\" font-size=\"14.00\" fill=\"#000000\">gini = 0.0</text>\n<text text-anchor=\"start\" x=\"1899.5\" y=\"-744.3\" font-family=\"Helvetica,sans-Serif\" font-size=\"14.00\" fill=\"#000000\">samples = 22</text>\n<text text-anchor=\"start\" x=\"1858.5\" y=\"-729.3\" font-family=\"Helvetica,sans-Serif\" font-size=\"14.00\" fill=\"#000000\">value = [0, 0, 0, 0, 0, 0, 31]</text>\n<text text-anchor=\"start\" x=\"1893\" y=\"-714.3\" font-family=\"Helvetica,sans-Serif\" font-size=\"14.00\" fill=\"#000000\">class = clase_6</text>\n</g>\n<!-- 33&#45;&gt;34 -->\n<g id=\"edge34\" class=\"edge\">\n<title>33&#45;&gt;34</title>\n<path fill=\"none\" stroke=\"#000000\" d=\"M1945.4507,-817.8796C1945.1818,-807.2134 1944.8916,-795.7021 1944.6194,-784.9015\"/>\n<polygon fill=\"#000000\" stroke=\"#000000\" points=\"1948.1161,-784.7235 1944.3651,-774.8149 1941.1183,-784.9 1948.1161,-784.7235\"/>\n</g>\n<!-- 35 -->\n<g id=\"node36\" class=\"node\">\n<title>35</title>\n<path fill=\"#e74990\" stroke=\"#000000\" d=\"M2270,-774.5C2270,-774.5 2067,-774.5 2067,-774.5 2061,-774.5 2055,-768.5 2055,-762.5 2055,-762.5 2055,-718.5 2055,-718.5 2055,-712.5 2061,-706.5 2067,-706.5 2067,-706.5 2270,-706.5 2270,-706.5 2276,-706.5 2282,-712.5 2282,-718.5 2282,-718.5 2282,-762.5 2282,-762.5 2282,-768.5 2276,-774.5 2270,-774.5\"/>\n<text text-anchor=\"start\" x=\"2130.5\" y=\"-759.3\" font-family=\"Helvetica,sans-Serif\" font-size=\"14.00\" fill=\"#000000\">gini = 0.142</text>\n<text text-anchor=\"start\" x=\"2120.5\" y=\"-744.3\" font-family=\"Helvetica,sans-Serif\" font-size=\"14.00\" fill=\"#000000\">samples = 792</text>\n<text text-anchor=\"start\" x=\"2063\" y=\"-729.3\" font-family=\"Helvetica,sans-Serif\" font-size=\"14.00\" fill=\"#000000\">value = [0, 0, 0, 10, 17, 68, 1163]</text>\n<text text-anchor=\"start\" x=\"2118\" y=\"-714.3\" font-family=\"Helvetica,sans-Serif\" font-size=\"14.00\" fill=\"#000000\">class = clase_6</text>\n</g>\n<!-- 33&#45;&gt;35 -->\n<g id=\"edge35\" class=\"edge\">\n<title>33&#45;&gt;35</title>\n<path fill=\"none\" stroke=\"#000000\" d=\"M2024.1448,-817.8796C2047.4357,-805.3948 2072.8865,-791.7523 2095.8428,-779.4469\"/>\n<polygon fill=\"#000000\" stroke=\"#000000\" points=\"2097.6818,-782.4323 2104.8419,-774.623 2094.3747,-776.2627 2097.6818,-782.4323\"/>\n</g>\n<!-- 37 -->\n<g id=\"node38\" class=\"node\">\n<title>37</title>\n<path fill=\"#e6448c\" stroke=\"#000000\" d=\"M2083.5,-1012.5C2083.5,-1012.5 1871.5,-1012.5 1871.5,-1012.5 1865.5,-1012.5 1859.5,-1006.5 1859.5,-1000.5 1859.5,-1000.5 1859.5,-956.5 1859.5,-956.5 1859.5,-950.5 1865.5,-944.5 1871.5,-944.5 1871.5,-944.5 2083.5,-944.5 2083.5,-944.5 2089.5,-944.5 2095.5,-950.5 2095.5,-956.5 2095.5,-956.5 2095.5,-1000.5 2095.5,-1000.5 2095.5,-1006.5 2089.5,-1012.5 2083.5,-1012.5\"/>\n<text text-anchor=\"start\" x=\"1939.5\" y=\"-997.3\" font-family=\"Helvetica,sans-Serif\" font-size=\"14.00\" fill=\"#000000\">gini = 0.101</text>\n<text text-anchor=\"start\" x=\"1925.5\" y=\"-982.3\" font-family=\"Helvetica,sans-Serif\" font-size=\"14.00\" fill=\"#000000\">samples = 1270</text>\n<text text-anchor=\"start\" x=\"1867.5\" y=\"-967.3\" font-family=\"Helvetica,sans-Serif\" font-size=\"14.00\" fill=\"#000000\">value = [0, 1, 20, 33, 22, 27, 1863]</text>\n<text text-anchor=\"start\" x=\"1927\" y=\"-952.3\" font-family=\"Helvetica,sans-Serif\" font-size=\"14.00\" fill=\"#000000\">class = clase_6</text>\n</g>\n<!-- 36&#45;&gt;37 -->\n<g id=\"edge37\" class=\"edge\">\n<title>36&#45;&gt;37</title>\n<path fill=\"none\" stroke=\"#000000\" d=\"M1940.4358,-1055.8796C1945.7029,-1044.8835 1951.4001,-1032.9893 1956.711,-1021.9015\"/>\n<polygon fill=\"#000000\" stroke=\"#000000\" points=\"1959.9,-1023.3457 1961.0634,-1012.8149 1953.5869,-1020.3217 1959.9,-1023.3457\"/>\n</g>\n<!-- 38 -->\n<g id=\"node39\" class=\"node\">\n<title>38</title>\n<path fill=\"#e6408a\" stroke=\"#000000\" d=\"M2295.5,-1012.5C2295.5,-1012.5 2125.5,-1012.5 2125.5,-1012.5 2119.5,-1012.5 2113.5,-1006.5 2113.5,-1000.5 2113.5,-1000.5 2113.5,-956.5 2113.5,-956.5 2113.5,-950.5 2119.5,-944.5 2125.5,-944.5 2125.5,-944.5 2295.5,-944.5 2295.5,-944.5 2301.5,-944.5 2307.5,-950.5 2307.5,-956.5 2307.5,-956.5 2307.5,-1000.5 2307.5,-1000.5 2307.5,-1006.5 2301.5,-1012.5 2295.5,-1012.5\"/>\n<text text-anchor=\"start\" x=\"2172.5\" y=\"-997.3\" font-family=\"Helvetica,sans-Serif\" font-size=\"14.00\" fill=\"#000000\">gini = 0.062</text>\n<text text-anchor=\"start\" x=\"2162.5\" y=\"-982.3\" font-family=\"Helvetica,sans-Serif\" font-size=\"14.00\" fill=\"#000000\">samples = 117</text>\n<text text-anchor=\"start\" x=\"2121.5\" y=\"-967.3\" font-family=\"Helvetica,sans-Serif\" font-size=\"14.00\" fill=\"#000000\">value = [0, 0, 0, 0, 0, 6, 181]</text>\n<text text-anchor=\"start\" x=\"2160\" y=\"-952.3\" font-family=\"Helvetica,sans-Serif\" font-size=\"14.00\" fill=\"#000000\">class = clase_6</text>\n</g>\n<!-- 36&#45;&gt;38 -->\n<g id=\"edge38\" class=\"edge\">\n<title>36&#45;&gt;38</title>\n<path fill=\"none\" stroke=\"#000000\" d=\"M2021.9279,-1055.8796C2053.1607,-1043.0634 2087.3668,-1029.0271 2117.9688,-1016.4697\"/>\n<polygon fill=\"#000000\" stroke=\"#000000\" points=\"2119.4203,-1019.6574 2127.343,-1012.623 2116.7629,-1013.1814 2119.4203,-1019.6574\"/>\n</g>\n<!-- 40 -->\n<g id=\"node41\" class=\"node\">\n<title>40</title>\n<path fill=\"#ef84b4\" stroke=\"#000000\" d=\"M2292.5,-1258C2292.5,-1258 2122.5,-1258 2122.5,-1258 2116.5,-1258 2110.5,-1252 2110.5,-1246 2110.5,-1246 2110.5,-1187 2110.5,-1187 2110.5,-1181 2116.5,-1175 2122.5,-1175 2122.5,-1175 2292.5,-1175 2292.5,-1175 2298.5,-1175 2304.5,-1181 2304.5,-1187 2304.5,-1187 2304.5,-1246 2304.5,-1246 2304.5,-1252 2298.5,-1258 2292.5,-1258\"/>\n<text text-anchor=\"start\" x=\"2166.5\" y=\"-1242.8\" font-family=\"Helvetica,sans-Serif\" font-size=\"14.00\" fill=\"#000000\">service ≤ 2.5</text>\n<text text-anchor=\"start\" x=\"2169.5\" y=\"-1227.8\" font-family=\"Helvetica,sans-Serif\" font-size=\"14.00\" fill=\"#000000\">gini = 0.461</text>\n<text text-anchor=\"start\" x=\"2163.5\" y=\"-1212.8\" font-family=\"Helvetica,sans-Serif\" font-size=\"14.00\" fill=\"#000000\">samples = 51</text>\n<text text-anchor=\"start\" x=\"2118.5\" y=\"-1197.8\" font-family=\"Helvetica,sans-Serif\" font-size=\"14.00\" fill=\"#000000\">value = [0, 0, 0, 3, 5, 19, 63]</text>\n<text text-anchor=\"start\" x=\"2157\" y=\"-1182.8\" font-family=\"Helvetica,sans-Serif\" font-size=\"14.00\" fill=\"#000000\">class = clase_6</text>\n</g>\n<!-- 39&#45;&gt;40 -->\n<g id=\"edge40\" class=\"edge\">\n<title>39&#45;&gt;40</title>\n<path fill=\"none\" stroke=\"#000000\" d=\"M2273.8253,-1293.8796C2266.1057,-1284.8733 2257.8695,-1275.2644 2249.9197,-1265.9897\"/>\n<polygon fill=\"#000000\" stroke=\"#000000\" points=\"2252.4923,-1263.6129 2243.3269,-1258.2981 2247.1775,-1268.1684 2252.4923,-1263.6129\"/>\n</g>\n<!-- 43 -->\n<g id=\"node44\" class=\"node\">\n<title>43</title>\n<path fill=\"#b139e5\" stroke=\"#000000\" d=\"M2488.5,-1250.5C2488.5,-1250.5 2334.5,-1250.5 2334.5,-1250.5 2328.5,-1250.5 2322.5,-1244.5 2322.5,-1238.5 2322.5,-1238.5 2322.5,-1194.5 2322.5,-1194.5 2322.5,-1188.5 2328.5,-1182.5 2334.5,-1182.5 2334.5,-1182.5 2488.5,-1182.5 2488.5,-1182.5 2494.5,-1182.5 2500.5,-1188.5 2500.5,-1194.5 2500.5,-1194.5 2500.5,-1238.5 2500.5,-1238.5 2500.5,-1244.5 2494.5,-1250.5 2488.5,-1250.5\"/>\n<text text-anchor=\"start\" x=\"2382\" y=\"-1235.3\" font-family=\"Helvetica,sans-Serif\" font-size=\"14.00\" fill=\"#000000\">gini = 0.0</text>\n<text text-anchor=\"start\" x=\"2372\" y=\"-1220.3\" font-family=\"Helvetica,sans-Serif\" font-size=\"14.00\" fill=\"#000000\">samples = 1</text>\n<text text-anchor=\"start\" x=\"2330.5\" y=\"-1205.3\" font-family=\"Helvetica,sans-Serif\" font-size=\"14.00\" fill=\"#000000\">value = [0, 0, 0, 0, 0, 1, 0]</text>\n<text text-anchor=\"start\" x=\"2361\" y=\"-1190.3\" font-family=\"Helvetica,sans-Serif\" font-size=\"14.00\" fill=\"#000000\">class = clase_5</text>\n</g>\n<!-- 39&#45;&gt;43 -->\n<g id=\"edge43\" class=\"edge\">\n<title>39&#45;&gt;43</title>\n<path fill=\"none\" stroke=\"#000000\" d=\"M2345.1747,-1293.8796C2354.9769,-1282.4436 2365.6118,-1270.0363 2375.4357,-1258.575\"/>\n<polygon fill=\"#000000\" stroke=\"#000000\" points=\"2378.2367,-1260.6853 2382.0872,-1250.8149 2372.9218,-1256.1297 2378.2367,-1260.6853\"/>\n</g>\n<!-- 41 -->\n<g id=\"node42\" class=\"node\">\n<title>41</title>\n<path fill=\"#f197c0\" stroke=\"#000000\" d=\"M2230.5,-1131.5C2230.5,-1131.5 2068.5,-1131.5 2068.5,-1131.5 2062.5,-1131.5 2056.5,-1125.5 2056.5,-1119.5 2056.5,-1119.5 2056.5,-1075.5 2056.5,-1075.5 2056.5,-1069.5 2062.5,-1063.5 2068.5,-1063.5 2068.5,-1063.5 2230.5,-1063.5 2230.5,-1063.5 2236.5,-1063.5 2242.5,-1069.5 2242.5,-1075.5 2242.5,-1075.5 2242.5,-1119.5 2242.5,-1119.5 2242.5,-1125.5 2236.5,-1131.5 2230.5,-1131.5\"/>\n<text text-anchor=\"start\" x=\"2111.5\" y=\"-1116.3\" font-family=\"Helvetica,sans-Serif\" font-size=\"14.00\" fill=\"#000000\">gini = 0.543</text>\n<text text-anchor=\"start\" x=\"2105.5\" y=\"-1101.3\" font-family=\"Helvetica,sans-Serif\" font-size=\"14.00\" fill=\"#000000\">samples = 13</text>\n<text text-anchor=\"start\" x=\"2064.5\" y=\"-1086.3\" font-family=\"Helvetica,sans-Serif\" font-size=\"14.00\" fill=\"#000000\">value = [0, 0, 0, 2, 2, 6, 17]</text>\n<text text-anchor=\"start\" x=\"2099\" y=\"-1071.3\" font-family=\"Helvetica,sans-Serif\" font-size=\"14.00\" fill=\"#000000\">class = clase_6</text>\n</g>\n<!-- 40&#45;&gt;41 -->\n<g id=\"edge41\" class=\"edge\">\n<title>40&#45;&gt;41</title>\n<path fill=\"none\" stroke=\"#000000\" d=\"M2187.2144,-1174.8796C2181.855,-1163.8835 2176.0578,-1151.9893 2170.6537,-1140.9015\"/>\n<polygon fill=\"#000000\" stroke=\"#000000\" points=\"2173.7524,-1139.2706 2166.2249,-1131.8149 2167.46,-1142.3375 2173.7524,-1139.2706\"/>\n</g>\n<!-- 42 -->\n<g id=\"node43\" class=\"node\">\n<title>42</title>\n<path fill=\"#ee7caf\" stroke=\"#000000\" d=\"M2442.5,-1131.5C2442.5,-1131.5 2272.5,-1131.5 2272.5,-1131.5 2266.5,-1131.5 2260.5,-1125.5 2260.5,-1119.5 2260.5,-1119.5 2260.5,-1075.5 2260.5,-1075.5 2260.5,-1069.5 2266.5,-1063.5 2272.5,-1063.5 2272.5,-1063.5 2442.5,-1063.5 2442.5,-1063.5 2448.5,-1063.5 2454.5,-1069.5 2454.5,-1075.5 2454.5,-1075.5 2454.5,-1119.5 2454.5,-1119.5 2454.5,-1125.5 2448.5,-1131.5 2442.5,-1131.5\"/>\n<text text-anchor=\"start\" x=\"2319.5\" y=\"-1116.3\" font-family=\"Helvetica,sans-Serif\" font-size=\"14.00\" fill=\"#000000\">gini = 0.422</text>\n<text text-anchor=\"start\" x=\"2313.5\" y=\"-1101.3\" font-family=\"Helvetica,sans-Serif\" font-size=\"14.00\" fill=\"#000000\">samples = 38</text>\n<text text-anchor=\"start\" x=\"2268.5\" y=\"-1086.3\" font-family=\"Helvetica,sans-Serif\" font-size=\"14.00\" fill=\"#000000\">value = [0, 0, 0, 1, 3, 13, 46]</text>\n<text text-anchor=\"start\" x=\"2307\" y=\"-1071.3\" font-family=\"Helvetica,sans-Serif\" font-size=\"14.00\" fill=\"#000000\">class = clase_6</text>\n</g>\n<!-- 40&#45;&gt;42 -->\n<g id=\"edge42\" class=\"edge\">\n<title>40&#45;&gt;42</title>\n<path fill=\"none\" stroke=\"#000000\" d=\"M2259.9627,-1174.8796C2274.9322,-1163.0038 2291.2222,-1150.0804 2306.1259,-1138.2568\"/>\n<polygon fill=\"#000000\" stroke=\"#000000\" points=\"2308.587,-1140.772 2314.2459,-1131.8149 2304.2365,-1135.2881 2308.587,-1140.772\"/>\n</g>\n<!-- 45 -->\n<g id=\"node46\" class=\"node\">\n<title>45</title>\n<path fill=\"#fdffff\" stroke=\"#000000\" d=\"M3046,-1377C3046,-1377 2801,-1377 2801,-1377 2795,-1377 2789,-1371 2789,-1365 2789,-1365 2789,-1306 2789,-1306 2789,-1300 2795,-1294 2801,-1294 2801,-1294 3046,-1294 3046,-1294 3052,-1294 3058,-1300 3058,-1306 3058,-1306 3058,-1365 3058,-1365 3058,-1371 3052,-1377 3046,-1377\"/>\n<text text-anchor=\"start\" x=\"2882.5\" y=\"-1361.8\" font-family=\"Helvetica,sans-Serif\" font-size=\"14.00\" fill=\"#000000\">service ≤ 3.5</text>\n<text text-anchor=\"start\" x=\"2885.5\" y=\"-1346.8\" font-family=\"Helvetica,sans-Serif\" font-size=\"14.00\" fill=\"#000000\">gini = 0.791</text>\n<text text-anchor=\"start\" x=\"2875.5\" y=\"-1331.8\" font-family=\"Helvetica,sans-Serif\" font-size=\"14.00\" fill=\"#000000\">samples = 976</text>\n<text text-anchor=\"start\" x=\"2797\" y=\"-1316.8\" font-family=\"Helvetica,sans-Serif\" font-size=\"14.00\" fill=\"#000000\">value = [0, 33, 271, 417, 405, 258, 183]</text>\n<text text-anchor=\"start\" x=\"2873\" y=\"-1301.8\" font-family=\"Helvetica,sans-Serif\" font-size=\"14.00\" fill=\"#000000\">class = clase_3</text>\n</g>\n<!-- 44&#45;&gt;45 -->\n<g id=\"edge45\" class=\"edge\">\n<title>44&#45;&gt;45</title>\n<path fill=\"none\" stroke=\"#000000\" d=\"M2923.5,-1412.8796C2923.5,-1404.6838 2923.5,-1395.9891 2923.5,-1387.5013\"/>\n<polygon fill=\"#000000\" stroke=\"#000000\" points=\"2927.0001,-1387.298 2923.5,-1377.2981 2920.0001,-1387.2981 2927.0001,-1387.298\"/>\n</g>\n<!-- 56 -->\n<g id=\"node57\" class=\"node\">\n<title>56</title>\n<path fill=\"#b0f5b8\" stroke=\"#000000\" d=\"M3753.5,-1377C3753.5,-1377 3533.5,-1377 3533.5,-1377 3527.5,-1377 3521.5,-1371 3521.5,-1365 3521.5,-1365 3521.5,-1306 3521.5,-1306 3521.5,-1300 3527.5,-1294 3533.5,-1294 3533.5,-1294 3753.5,-1294 3753.5,-1294 3759.5,-1294 3765.5,-1300 3765.5,-1306 3765.5,-1306 3765.5,-1365 3765.5,-1365 3765.5,-1371 3759.5,-1377 3753.5,-1377\"/>\n<text text-anchor=\"start\" x=\"3580\" y=\"-1361.8\" font-family=\"Helvetica,sans-Serif\" font-size=\"14.00\" fill=\"#000000\">receiver_state ≤ 6.5</text>\n<text text-anchor=\"start\" x=\"3605.5\" y=\"-1346.8\" font-family=\"Helvetica,sans-Serif\" font-size=\"14.00\" fill=\"#000000\">gini = 0.647</text>\n<text text-anchor=\"start\" x=\"3595.5\" y=\"-1331.8\" font-family=\"Helvetica,sans-Serif\" font-size=\"14.00\" fill=\"#000000\">samples = 481</text>\n<text text-anchor=\"start\" x=\"3529.5\" y=\"-1316.8\" font-family=\"Helvetica,sans-Serif\" font-size=\"14.00\" fill=\"#000000\">value = [18, 110, 405, 167, 50, 8, 8]</text>\n<text text-anchor=\"start\" x=\"3593\" y=\"-1301.8\" font-family=\"Helvetica,sans-Serif\" font-size=\"14.00\" fill=\"#000000\">class = clase_2</text>\n</g>\n<!-- 44&#45;&gt;56 -->\n<g id=\"edge56\" class=\"edge\">\n<title>44&#45;&gt;56</title>\n<path fill=\"none\" stroke=\"#000000\" d=\"M3066.179,-1430.9183C3195.7051,-1409.5106 3385.211,-1378.1894 3511.3507,-1357.3413\"/>\n<polygon fill=\"#000000\" stroke=\"#000000\" points=\"3512.1615,-1360.7549 3521.4569,-1355.671 3511.02,-1353.8486 3512.1615,-1360.7549\"/>\n</g>\n<!-- 46 -->\n<g id=\"node47\" class=\"node\">\n<title>46</title>\n<path fill=\"#fef5f9\" stroke=\"#000000\" d=\"M2890,-1258C2890,-1258 2695,-1258 2695,-1258 2689,-1258 2683,-1252 2683,-1246 2683,-1246 2683,-1187 2683,-1187 2683,-1181 2689,-1175 2695,-1175 2695,-1175 2890,-1175 2890,-1175 2896,-1175 2902,-1181 2902,-1187 2902,-1187 2902,-1246 2902,-1246 2902,-1252 2896,-1258 2890,-1258\"/>\n<text text-anchor=\"start\" x=\"2751.5\" y=\"-1242.8\" font-family=\"Helvetica,sans-Serif\" font-size=\"14.00\" fill=\"#000000\">service ≤ 2.5</text>\n<text text-anchor=\"start\" x=\"2754.5\" y=\"-1227.8\" font-family=\"Helvetica,sans-Serif\" font-size=\"14.00\" fill=\"#000000\">gini = 0.739</text>\n<text text-anchor=\"start\" x=\"2744.5\" y=\"-1212.8\" font-family=\"Helvetica,sans-Serif\" font-size=\"14.00\" fill=\"#000000\">samples = 126</text>\n<text text-anchor=\"start\" x=\"2691\" y=\"-1197.8\" font-family=\"Helvetica,sans-Serif\" font-size=\"14.00\" fill=\"#000000\">value = [0, 0, 25, 30, 63, 13, 70]</text>\n<text text-anchor=\"start\" x=\"2742\" y=\"-1182.8\" font-family=\"Helvetica,sans-Serif\" font-size=\"14.00\" fill=\"#000000\">class = clase_6</text>\n</g>\n<!-- 45&#45;&gt;46 -->\n<g id=\"edge46\" class=\"edge\">\n<title>45&#45;&gt;46</title>\n<path fill=\"none\" stroke=\"#000000\" d=\"M2877.6826,-1293.8796C2867.4706,-1284.6031 2856.555,-1274.6874 2846.0624,-1265.1559\"/>\n<polygon fill=\"#000000\" stroke=\"#000000\" points=\"2848.2684,-1262.4313 2838.513,-1258.2981 2843.5616,-1267.6127 2848.2684,-1262.4313\"/>\n</g>\n<!-- 53 -->\n<g id=\"node54\" class=\"node\">\n<title>53</title>\n<path fill=\"#f6fefe\" stroke=\"#000000\" d=\"M3177,-1258C3177,-1258 2932,-1258 2932,-1258 2926,-1258 2920,-1252 2920,-1246 2920,-1246 2920,-1187 2920,-1187 2920,-1181 2926,-1175 2932,-1175 2932,-1175 3177,-1175 3177,-1175 3183,-1175 3189,-1181 3189,-1187 3189,-1187 3189,-1246 3189,-1246 3189,-1252 3183,-1258 3177,-1258\"/>\n<text text-anchor=\"start\" x=\"3013.5\" y=\"-1242.8\" font-family=\"Helvetica,sans-Serif\" font-size=\"14.00\" fill=\"#000000\">service ≤ 4.5</text>\n<text text-anchor=\"start\" x=\"3016.5\" y=\"-1227.8\" font-family=\"Helvetica,sans-Serif\" font-size=\"14.00\" fill=\"#000000\">gini = 0.785</text>\n<text text-anchor=\"start\" x=\"3006.5\" y=\"-1212.8\" font-family=\"Helvetica,sans-Serif\" font-size=\"14.00\" fill=\"#000000\">samples = 850</text>\n<text text-anchor=\"start\" x=\"2928\" y=\"-1197.8\" font-family=\"Helvetica,sans-Serif\" font-size=\"14.00\" fill=\"#000000\">value = [0, 33, 246, 387, 342, 245, 113]</text>\n<text text-anchor=\"start\" x=\"3004\" y=\"-1182.8\" font-family=\"Helvetica,sans-Serif\" font-size=\"14.00\" fill=\"#000000\">class = clase_3</text>\n</g>\n<!-- 45&#45;&gt;53 -->\n<g id=\"edge53\" class=\"edge\">\n<title>45&#45;&gt;53</title>\n<path fill=\"none\" stroke=\"#000000\" d=\"M2969.3174,-1293.8796C2979.5294,-1284.6031 2990.445,-1274.6874 3000.9376,-1265.1559\"/>\n<polygon fill=\"#000000\" stroke=\"#000000\" points=\"3003.4384,-1267.6127 3008.487,-1258.2981 2998.7316,-1262.4313 3003.4384,-1267.6127\"/>\n</g>\n<!-- 47 -->\n<g id=\"node48\" class=\"node\">\n<title>47</title>\n<path fill=\"#cbd2f8\" stroke=\"#000000\" d=\"M2680,-1139C2680,-1139 2485,-1139 2485,-1139 2479,-1139 2473,-1133 2473,-1127 2473,-1127 2473,-1068 2473,-1068 2473,-1062 2479,-1056 2485,-1056 2485,-1056 2680,-1056 2680,-1056 2686,-1056 2692,-1062 2692,-1068 2692,-1068 2692,-1127 2692,-1127 2692,-1133 2686,-1139 2680,-1139\"/>\n<text text-anchor=\"start\" x=\"2541.5\" y=\"-1123.8\" font-family=\"Helvetica,sans-Serif\" font-size=\"14.00\" fill=\"#000000\">service ≤ 0.5</text>\n<text text-anchor=\"start\" x=\"2549\" y=\"-1108.8\" font-family=\"Helvetica,sans-Serif\" font-size=\"14.00\" fill=\"#000000\">gini = 0.74</text>\n<text text-anchor=\"start\" x=\"2538.5\" y=\"-1093.8\" font-family=\"Helvetica,sans-Serif\" font-size=\"14.00\" fill=\"#000000\">samples = 96</text>\n<text text-anchor=\"start\" x=\"2481\" y=\"-1078.8\" font-family=\"Helvetica,sans-Serif\" font-size=\"14.00\" fill=\"#000000\">value = [0, 0, 25, 30, 63, 13, 24]</text>\n<text text-anchor=\"start\" x=\"2532\" y=\"-1063.8\" font-family=\"Helvetica,sans-Serif\" font-size=\"14.00\" fill=\"#000000\">class = clase_4</text>\n</g>\n<!-- 46&#45;&gt;47 -->\n<g id=\"edge47\" class=\"edge\">\n<title>46&#45;&gt;47</title>\n<path fill=\"none\" stroke=\"#000000\" d=\"M2719.0522,-1174.8796C2701.4677,-1164.915 2682.5817,-1154.2129 2664.6326,-1144.0418\"/>\n<polygon fill=\"#000000\" stroke=\"#000000\" points=\"2666.3321,-1140.982 2655.9063,-1139.0969 2662.881,-1147.0722 2666.3321,-1140.982\"/>\n</g>\n<!-- 52 -->\n<g id=\"node53\" class=\"node\">\n<title>52</title>\n<path fill=\"#e53986\" stroke=\"#000000\" d=\"M2884.5,-1131.5C2884.5,-1131.5 2722.5,-1131.5 2722.5,-1131.5 2716.5,-1131.5 2710.5,-1125.5 2710.5,-1119.5 2710.5,-1119.5 2710.5,-1075.5 2710.5,-1075.5 2710.5,-1069.5 2716.5,-1063.5 2722.5,-1063.5 2722.5,-1063.5 2884.5,-1063.5 2884.5,-1063.5 2890.5,-1063.5 2896.5,-1069.5 2896.5,-1075.5 2896.5,-1075.5 2896.5,-1119.5 2896.5,-1119.5 2896.5,-1125.5 2890.5,-1131.5 2884.5,-1131.5\"/>\n<text text-anchor=\"start\" x=\"2774\" y=\"-1116.3\" font-family=\"Helvetica,sans-Serif\" font-size=\"14.00\" fill=\"#000000\">gini = 0.0</text>\n<text text-anchor=\"start\" x=\"2759.5\" y=\"-1101.3\" font-family=\"Helvetica,sans-Serif\" font-size=\"14.00\" fill=\"#000000\">samples = 30</text>\n<text text-anchor=\"start\" x=\"2718.5\" y=\"-1086.3\" font-family=\"Helvetica,sans-Serif\" font-size=\"14.00\" fill=\"#000000\">value = [0, 0, 0, 0, 0, 0, 46]</text>\n<text text-anchor=\"start\" x=\"2753\" y=\"-1071.3\" font-family=\"Helvetica,sans-Serif\" font-size=\"14.00\" fill=\"#000000\">class = clase_6</text>\n</g>\n<!-- 46&#45;&gt;52 -->\n<g id=\"edge52\" class=\"edge\">\n<title>46&#45;&gt;52</title>\n<path fill=\"none\" stroke=\"#000000\" d=\"M2796.3473,-1174.8796C2797.3332,-1164.2134 2798.3973,-1152.7021 2799.3957,-1141.9015\"/>\n<polygon fill=\"#000000\" stroke=\"#000000\" points=\"2802.8926,-1142.0947 2800.328,-1131.8149 2795.9224,-1141.4503 2802.8926,-1142.0947\"/>\n</g>\n<!-- 48 -->\n<g id=\"node49\" class=\"node\">\n<title>48</title>\n<path fill=\"#f08eba\" stroke=\"#000000\" d=\"M2603.5,-1012.5C2603.5,-1012.5 2449.5,-1012.5 2449.5,-1012.5 2443.5,-1012.5 2437.5,-1006.5 2437.5,-1000.5 2437.5,-1000.5 2437.5,-956.5 2437.5,-956.5 2437.5,-950.5 2443.5,-944.5 2449.5,-944.5 2449.5,-944.5 2603.5,-944.5 2603.5,-944.5 2609.5,-944.5 2615.5,-950.5 2615.5,-956.5 2615.5,-956.5 2615.5,-1000.5 2615.5,-1000.5 2615.5,-1006.5 2609.5,-1012.5 2603.5,-1012.5\"/>\n<text text-anchor=\"start\" x=\"2493\" y=\"-997.3\" font-family=\"Helvetica,sans-Serif\" font-size=\"14.00\" fill=\"#000000\">gini = 0.42</text>\n<text text-anchor=\"start\" x=\"2487\" y=\"-982.3\" font-family=\"Helvetica,sans-Serif\" font-size=\"14.00\" fill=\"#000000\">samples = 8</text>\n<text text-anchor=\"start\" x=\"2445.5\" y=\"-967.3\" font-family=\"Helvetica,sans-Serif\" font-size=\"14.00\" fill=\"#000000\">value = [0, 0, 0, 0, 3, 0, 7]</text>\n<text text-anchor=\"start\" x=\"2476\" y=\"-952.3\" font-family=\"Helvetica,sans-Serif\" font-size=\"14.00\" fill=\"#000000\">class = clase_6</text>\n</g>\n<!-- 47&#45;&gt;48 -->\n<g id=\"edge48\" class=\"edge\">\n<title>47&#45;&gt;48</title>\n<path fill=\"none\" stroke=\"#000000\" d=\"M2562.9139,-1055.8796C2557.7393,-1044.8835 2552.142,-1032.9893 2546.9242,-1021.9015\"/>\n<polygon fill=\"#000000\" stroke=\"#000000\" points=\"2550.0731,-1020.3728 2542.6482,-1012.8149 2543.7394,-1023.3534 2550.0731,-1020.3728\"/>\n</g>\n<!-- 49 -->\n<g id=\"node50\" class=\"node\">\n<title>49</title>\n<path fill=\"#cbd3f8\" stroke=\"#000000\" d=\"M2841,-1020C2841,-1020 2646,-1020 2646,-1020 2640,-1020 2634,-1014 2634,-1008 2634,-1008 2634,-949 2634,-949 2634,-943 2640,-937 2646,-937 2646,-937 2841,-937 2841,-937 2847,-937 2853,-943 2853,-949 2853,-949 2853,-1008 2853,-1008 2853,-1014 2847,-1020 2841,-1020\"/>\n<text text-anchor=\"start\" x=\"2702.5\" y=\"-1004.8\" font-family=\"Helvetica,sans-Serif\" font-size=\"14.00\" fill=\"#000000\">service ≤ 1.5</text>\n<text text-anchor=\"start\" x=\"2705.5\" y=\"-989.8\" font-family=\"Helvetica,sans-Serif\" font-size=\"14.00\" fill=\"#000000\">gini = 0.734</text>\n<text text-anchor=\"start\" x=\"2699.5\" y=\"-974.8\" font-family=\"Helvetica,sans-Serif\" font-size=\"14.00\" fill=\"#000000\">samples = 88</text>\n<text text-anchor=\"start\" x=\"2642\" y=\"-959.8\" font-family=\"Helvetica,sans-Serif\" font-size=\"14.00\" fill=\"#000000\">value = [0, 0, 25, 30, 60, 13, 17]</text>\n<text text-anchor=\"start\" x=\"2693\" y=\"-944.8\" font-family=\"Helvetica,sans-Serif\" font-size=\"14.00\" fill=\"#000000\">class = clase_4</text>\n</g>\n<!-- 47&#45;&gt;49 -->\n<g id=\"edge49\" class=\"edge\">\n<title>47&#45;&gt;49</title>\n<path fill=\"none\" stroke=\"#000000\" d=\"M2638.81,-1055.8796C2651.8012,-1046.2774 2665.719,-1035.9903 2679.0277,-1026.1534\"/>\n<polygon fill=\"#000000\" stroke=\"#000000\" points=\"2681.2604,-1028.8555 2687.2218,-1020.0969 2677.0996,-1023.2263 2681.2604,-1028.8555\"/>\n</g>\n<!-- 50 -->\n<g id=\"node51\" class=\"node\">\n<title>50</title>\n<path fill=\"#dbe1fa\" stroke=\"#000000\" d=\"M2731,-893.5C2731,-893.5 2536,-893.5 2536,-893.5 2530,-893.5 2524,-887.5 2524,-881.5 2524,-881.5 2524,-837.5 2524,-837.5 2524,-831.5 2530,-825.5 2536,-825.5 2536,-825.5 2731,-825.5 2731,-825.5 2737,-825.5 2743,-831.5 2743,-837.5 2743,-837.5 2743,-881.5 2743,-881.5 2743,-887.5 2737,-893.5 2731,-893.5\"/>\n<text text-anchor=\"start\" x=\"2595.5\" y=\"-878.3\" font-family=\"Helvetica,sans-Serif\" font-size=\"14.00\" fill=\"#000000\">gini = 0.756</text>\n<text text-anchor=\"start\" x=\"2589.5\" y=\"-863.3\" font-family=\"Helvetica,sans-Serif\" font-size=\"14.00\" fill=\"#000000\">samples = 72</text>\n<text text-anchor=\"start\" x=\"2532\" y=\"-848.3\" font-family=\"Helvetica,sans-Serif\" font-size=\"14.00\" fill=\"#000000\">value = [0, 0, 25, 24, 41, 11, 13]</text>\n<text text-anchor=\"start\" x=\"2583\" y=\"-833.3\" font-family=\"Helvetica,sans-Serif\" font-size=\"14.00\" fill=\"#000000\">class = clase_4</text>\n</g>\n<!-- 49&#45;&gt;50 -->\n<g id=\"edge50\" class=\"edge\">\n<title>49&#45;&gt;50</title>\n<path fill=\"none\" stroke=\"#000000\" d=\"M2705.0273,-936.8796C2694.3547,-925.3337 2682.7667,-912.7976 2672.0875,-901.2446\"/>\n<polygon fill=\"#000000\" stroke=\"#000000\" points=\"2674.5778,-898.7825 2665.2197,-893.8149 2669.4375,-903.534 2674.5778,-898.7825\"/>\n</g>\n<!-- 51 -->\n<g id=\"node52\" class=\"node\">\n<title>51</title>\n<path fill=\"#98a7f1\" stroke=\"#000000\" d=\"M2935.5,-893.5C2935.5,-893.5 2773.5,-893.5 2773.5,-893.5 2767.5,-893.5 2761.5,-887.5 2761.5,-881.5 2761.5,-881.5 2761.5,-837.5 2761.5,-837.5 2761.5,-831.5 2767.5,-825.5 2773.5,-825.5 2773.5,-825.5 2935.5,-825.5 2935.5,-825.5 2941.5,-825.5 2947.5,-831.5 2947.5,-837.5 2947.5,-837.5 2947.5,-881.5 2947.5,-881.5 2947.5,-887.5 2941.5,-893.5 2935.5,-893.5\"/>\n<text text-anchor=\"start\" x=\"2816.5\" y=\"-878.3\" font-family=\"Helvetica,sans-Serif\" font-size=\"14.00\" fill=\"#000000\">gini = 0.566</text>\n<text text-anchor=\"start\" x=\"2810.5\" y=\"-863.3\" font-family=\"Helvetica,sans-Serif\" font-size=\"14.00\" fill=\"#000000\">samples = 16</text>\n<text text-anchor=\"start\" x=\"2769.5\" y=\"-848.3\" font-family=\"Helvetica,sans-Serif\" font-size=\"14.00\" fill=\"#000000\">value = [0, 0, 0, 6, 19, 2, 4]</text>\n<text text-anchor=\"start\" x=\"2804\" y=\"-833.3\" font-family=\"Helvetica,sans-Serif\" font-size=\"14.00\" fill=\"#000000\">class = clase_4</text>\n</g>\n<!-- 49&#45;&gt;51 -->\n<g id=\"edge51\" class=\"edge\">\n<title>49&#45;&gt;51</title>\n<path fill=\"none\" stroke=\"#000000\" d=\"M2782.3224,-936.8796C2793.0921,-925.3337 2804.7854,-912.7976 2815.5617,-901.2446\"/>\n<polygon fill=\"#000000\" stroke=\"#000000\" points=\"2818.2303,-903.5149 2822.492,-893.8149 2813.1115,-898.7402 2818.2303,-903.5149\"/>\n</g>\n<!-- 54 -->\n<g id=\"node55\" class=\"node\">\n<title>54</title>\n<path fill=\"#f1fdfd\" stroke=\"#000000\" d=\"M3162.5,-1131.5C3162.5,-1131.5 2926.5,-1131.5 2926.5,-1131.5 2920.5,-1131.5 2914.5,-1125.5 2914.5,-1119.5 2914.5,-1119.5 2914.5,-1075.5 2914.5,-1075.5 2914.5,-1069.5 2920.5,-1063.5 2926.5,-1063.5 2926.5,-1063.5 3162.5,-1063.5 3162.5,-1063.5 3168.5,-1063.5 3174.5,-1069.5 3174.5,-1075.5 3174.5,-1075.5 3174.5,-1119.5 3174.5,-1119.5 3174.5,-1125.5 3168.5,-1131.5 3162.5,-1131.5\"/>\n<text text-anchor=\"start\" x=\"3006.5\" y=\"-1116.3\" font-family=\"Helvetica,sans-Serif\" font-size=\"14.00\" fill=\"#000000\">gini = 0.784</text>\n<text text-anchor=\"start\" x=\"2996.5\" y=\"-1101.3\" font-family=\"Helvetica,sans-Serif\" font-size=\"14.00\" fill=\"#000000\">samples = 757</text>\n<text text-anchor=\"start\" x=\"2922.5\" y=\"-1086.3\" font-family=\"Helvetica,sans-Serif\" font-size=\"14.00\" fill=\"#000000\">value = [0, 33, 241, 359, 291, 197, 99]</text>\n<text text-anchor=\"start\" x=\"2994\" y=\"-1071.3\" font-family=\"Helvetica,sans-Serif\" font-size=\"14.00\" fill=\"#000000\">class = clase_3</text>\n</g>\n<!-- 53&#45;&gt;54 -->\n<g id=\"edge54\" class=\"edge\">\n<title>53&#45;&gt;54</title>\n<path fill=\"none\" stroke=\"#000000\" d=\"M3051.0025,-1174.8796C3050.1062,-1164.2134 3049.1388,-1152.7021 3048.2312,-1141.9015\"/>\n<polygon fill=\"#000000\" stroke=\"#000000\" points=\"3051.7088,-1141.4867 3047.3836,-1131.8149 3044.7334,-1142.0729 3051.7088,-1141.4867\"/>\n</g>\n<!-- 55 -->\n<g id=\"node56\" class=\"node\">\n<title>55</title>\n<path fill=\"#f9fafe\" stroke=\"#000000\" d=\"M3392,-1131.5C3392,-1131.5 3205,-1131.5 3205,-1131.5 3199,-1131.5 3193,-1125.5 3193,-1119.5 3193,-1119.5 3193,-1075.5 3193,-1075.5 3193,-1069.5 3199,-1063.5 3205,-1063.5 3205,-1063.5 3392,-1063.5 3392,-1063.5 3398,-1063.5 3404,-1069.5 3404,-1075.5 3404,-1075.5 3404,-1119.5 3404,-1119.5 3404,-1125.5 3398,-1131.5 3392,-1131.5\"/>\n<text text-anchor=\"start\" x=\"3260.5\" y=\"-1116.3\" font-family=\"Helvetica,sans-Serif\" font-size=\"14.00\" fill=\"#000000\">gini = 0.723</text>\n<text text-anchor=\"start\" x=\"3254.5\" y=\"-1101.3\" font-family=\"Helvetica,sans-Serif\" font-size=\"14.00\" fill=\"#000000\">samples = 93</text>\n<text text-anchor=\"start\" x=\"3201\" y=\"-1086.3\" font-family=\"Helvetica,sans-Serif\" font-size=\"14.00\" fill=\"#000000\">value = [0, 0, 5, 28, 51, 48, 14]</text>\n<text text-anchor=\"start\" x=\"3248\" y=\"-1071.3\" font-family=\"Helvetica,sans-Serif\" font-size=\"14.00\" fill=\"#000000\">class = clase_4</text>\n</g>\n<!-- 53&#45;&gt;55 -->\n<g id=\"edge55\" class=\"edge\">\n<title>53&#45;&gt;55</title>\n<path fill=\"none\" stroke=\"#000000\" d=\"M3139.8394,-1174.8796C3165.6649,-1162.2843 3193.9066,-1148.5107 3219.3117,-1136.1205\"/>\n<polygon fill=\"#000000\" stroke=\"#000000\" points=\"3221.0796,-1139.1524 3228.5334,-1131.623 3218.0111,-1132.8608 3221.0796,-1139.1524\"/>\n</g>\n<!-- 57 -->\n<g id=\"node58\" class=\"node\">\n<title>57</title>\n<path fill=\"#b7f6be\" stroke=\"#000000\" d=\"M3745,-1258C3745,-1258 3542,-1258 3542,-1258 3536,-1258 3530,-1252 3530,-1246 3530,-1246 3530,-1187 3530,-1187 3530,-1181 3536,-1175 3542,-1175 3542,-1175 3745,-1175 3745,-1175 3751,-1175 3757,-1181 3757,-1187 3757,-1187 3757,-1246 3757,-1246 3757,-1252 3751,-1258 3745,-1258\"/>\n<text text-anchor=\"start\" x=\"3602.5\" y=\"-1242.8\" font-family=\"Helvetica,sans-Serif\" font-size=\"14.00\" fill=\"#000000\">service ≤ 4.5</text>\n<text text-anchor=\"start\" x=\"3605.5\" y=\"-1227.8\" font-family=\"Helvetica,sans-Serif\" font-size=\"14.00\" fill=\"#000000\">gini = 0.651</text>\n<text text-anchor=\"start\" x=\"3595.5\" y=\"-1212.8\" font-family=\"Helvetica,sans-Serif\" font-size=\"14.00\" fill=\"#000000\">samples = 426</text>\n<text text-anchor=\"start\" x=\"3538\" y=\"-1197.8\" font-family=\"Helvetica,sans-Serif\" font-size=\"14.00\" fill=\"#000000\">value = [8, 94, 350, 162, 50, 8, 6]</text>\n<text text-anchor=\"start\" x=\"3593\" y=\"-1182.8\" font-family=\"Helvetica,sans-Serif\" font-size=\"14.00\" fill=\"#000000\">class = clase_2</text>\n</g>\n<!-- 56&#45;&gt;57 -->\n<g id=\"edge57\" class=\"edge\">\n<title>56&#45;&gt;57</title>\n<path fill=\"none\" stroke=\"#000000\" d=\"M3643.5,-1293.8796C3643.5,-1285.6838 3643.5,-1276.9891 3643.5,-1268.5013\"/>\n<polygon fill=\"#000000\" stroke=\"#000000\" points=\"3647.0001,-1268.298 3643.5,-1258.2981 3640.0001,-1268.2981 3647.0001,-1268.298\"/>\n</g>\n<!-- 68 -->\n<g id=\"node69\" class=\"node\">\n<title>68</title>\n<path fill=\"#94f19f\" stroke=\"#000000\" d=\"M4075,-1258C4075,-1258 3896,-1258 3896,-1258 3890,-1258 3884,-1252 3884,-1246 3884,-1246 3884,-1187 3884,-1187 3884,-1181 3890,-1175 3896,-1175 3896,-1175 4075,-1175 4075,-1175 4081,-1175 4087,-1181 4087,-1187 4087,-1187 4087,-1246 4087,-1246 4087,-1252 4081,-1258 4075,-1258\"/>\n<text text-anchor=\"start\" x=\"3944.5\" y=\"-1242.8\" font-family=\"Helvetica,sans-Serif\" font-size=\"14.00\" fill=\"#000000\">service ≤ 3.0</text>\n<text text-anchor=\"start\" x=\"3952\" y=\"-1227.8\" font-family=\"Helvetica,sans-Serif\" font-size=\"14.00\" fill=\"#000000\">gini = 0.56</text>\n<text text-anchor=\"start\" x=\"3941.5\" y=\"-1212.8\" font-family=\"Helvetica,sans-Serif\" font-size=\"14.00\" fill=\"#000000\">samples = 55</text>\n<text text-anchor=\"start\" x=\"3892\" y=\"-1197.8\" font-family=\"Helvetica,sans-Serif\" font-size=\"14.00\" fill=\"#000000\">value = [10, 16, 55, 5, 0, 0, 2]</text>\n<text text-anchor=\"start\" x=\"3935\" y=\"-1182.8\" font-family=\"Helvetica,sans-Serif\" font-size=\"14.00\" fill=\"#000000\">class = clase_2</text>\n</g>\n<!-- 56&#45;&gt;68 -->\n<g id=\"edge68\" class=\"edge\">\n<title>56&#45;&gt;68</title>\n<path fill=\"none\" stroke=\"#000000\" d=\"M3763.115,-1293.8796C3799.1212,-1281.3511 3838.4782,-1267.6567 3873.94,-1255.3177\"/>\n<polygon fill=\"#000000\" stroke=\"#000000\" points=\"3875.5384,-1258.4674 3883.8328,-1251.8754 3873.2379,-1251.8562 3875.5384,-1258.4674\"/>\n</g>\n<!-- 58 -->\n<g id=\"node59\" class=\"node\">\n<title>58</title>\n<path fill=\"#b1f5b8\" stroke=\"#000000\" d=\"M3637,-1139C3637,-1139 3434,-1139 3434,-1139 3428,-1139 3422,-1133 3422,-1127 3422,-1127 3422,-1068 3422,-1068 3422,-1062 3428,-1056 3434,-1056 3434,-1056 3637,-1056 3637,-1056 3643,-1056 3649,-1062 3649,-1068 3649,-1068 3649,-1127 3649,-1127 3649,-1133 3643,-1139 3637,-1139\"/>\n<text text-anchor=\"start\" x=\"3494.5\" y=\"-1123.8\" font-family=\"Helvetica,sans-Serif\" font-size=\"14.00\" fill=\"#000000\">service ≤ 3.5</text>\n<text text-anchor=\"start\" x=\"3497.5\" y=\"-1108.8\" font-family=\"Helvetica,sans-Serif\" font-size=\"14.00\" fill=\"#000000\">gini = 0.641</text>\n<text text-anchor=\"start\" x=\"3487.5\" y=\"-1093.8\" font-family=\"Helvetica,sans-Serif\" font-size=\"14.00\" fill=\"#000000\">samples = 370</text>\n<text text-anchor=\"start\" x=\"3430\" y=\"-1078.8\" font-family=\"Helvetica,sans-Serif\" font-size=\"14.00\" fill=\"#000000\">value = [8, 83, 308, 130, 40, 7, 3]</text>\n<text text-anchor=\"start\" x=\"3485\" y=\"-1063.8\" font-family=\"Helvetica,sans-Serif\" font-size=\"14.00\" fill=\"#000000\">class = clase_2</text>\n</g>\n<!-- 57&#45;&gt;58 -->\n<g id=\"edge58\" class=\"edge\">\n<title>57&#45;&gt;58</title>\n<path fill=\"none\" stroke=\"#000000\" d=\"M3605.7268,-1174.8796C3597.4713,-1165.7832 3588.658,-1156.0722 3580.1626,-1146.7116\"/>\n<polygon fill=\"#000000\" stroke=\"#000000\" points=\"3582.7467,-1144.3509 3573.4344,-1139.2981 3577.5632,-1149.0553 3582.7467,-1144.3509\"/>\n</g>\n<!-- 67 -->\n<g id=\"node68\" class=\"node\">\n<title>67</title>\n<path fill=\"#e1fbe4\" stroke=\"#000000\" d=\"M3866,-1131.5C3866,-1131.5 3679,-1131.5 3679,-1131.5 3673,-1131.5 3667,-1125.5 3667,-1119.5 3667,-1119.5 3667,-1075.5 3667,-1075.5 3667,-1069.5 3673,-1063.5 3679,-1063.5 3679,-1063.5 3866,-1063.5 3866,-1063.5 3872,-1063.5 3878,-1069.5 3878,-1075.5 3878,-1075.5 3878,-1119.5 3878,-1119.5 3878,-1125.5 3872,-1131.5 3866,-1131.5\"/>\n<text text-anchor=\"start\" x=\"3734.5\" y=\"-1116.3\" font-family=\"Helvetica,sans-Serif\" font-size=\"14.00\" fill=\"#000000\">gini = 0.692</text>\n<text text-anchor=\"start\" x=\"3728.5\" y=\"-1101.3\" font-family=\"Helvetica,sans-Serif\" font-size=\"14.00\" fill=\"#000000\">samples = 56</text>\n<text text-anchor=\"start\" x=\"3675\" y=\"-1086.3\" font-family=\"Helvetica,sans-Serif\" font-size=\"14.00\" fill=\"#000000\">value = [0, 11, 42, 32, 10, 1, 3]</text>\n<text text-anchor=\"start\" x=\"3722\" y=\"-1071.3\" font-family=\"Helvetica,sans-Serif\" font-size=\"14.00\" fill=\"#000000\">class = clase_2</text>\n</g>\n<!-- 57&#45;&gt;67 -->\n<g id=\"edge67\" class=\"edge\">\n<title>57&#45;&gt;67</title>\n<path fill=\"none\" stroke=\"#000000\" d=\"M3688.6179,-1174.8796C3701.2533,-1163.2237 3714.9826,-1150.5587 3727.605,-1138.9148\"/>\n<polygon fill=\"#000000\" stroke=\"#000000\" points=\"3730.3244,-1141.168 3735.3015,-1131.8149 3725.578,-1136.0228 3730.3244,-1141.168\"/>\n</g>\n<!-- 59 -->\n<g id=\"node60\" class=\"node\">\n<title>59</title>\n<path fill=\"#d2f9d7\" stroke=\"#000000\" d=\"M3527,-1020C3527,-1020 3340,-1020 3340,-1020 3334,-1020 3328,-1014 3328,-1008 3328,-1008 3328,-949 3328,-949 3328,-943 3334,-937 3340,-937 3340,-937 3527,-937 3527,-937 3533,-937 3539,-943 3539,-949 3539,-949 3539,-1008 3539,-1008 3539,-1014 3533,-1020 3527,-1020\"/>\n<text text-anchor=\"start\" x=\"3392.5\" y=\"-1004.8\" font-family=\"Helvetica,sans-Serif\" font-size=\"14.00\" fill=\"#000000\">service ≤ 0.5</text>\n<text text-anchor=\"start\" x=\"3395.5\" y=\"-989.8\" font-family=\"Helvetica,sans-Serif\" font-size=\"14.00\" fill=\"#000000\">gini = 0.679</text>\n<text text-anchor=\"start\" x=\"3389.5\" y=\"-974.8\" font-family=\"Helvetica,sans-Serif\" font-size=\"14.00\" fill=\"#000000\">samples = 72</text>\n<text text-anchor=\"start\" x=\"3336\" y=\"-959.8\" font-family=\"Helvetica,sans-Serif\" font-size=\"14.00\" fill=\"#000000\">value = [1, 10, 52, 34, 14, 0, 3]</text>\n<text text-anchor=\"start\" x=\"3383\" y=\"-944.8\" font-family=\"Helvetica,sans-Serif\" font-size=\"14.00\" fill=\"#000000\">class = clase_2</text>\n</g>\n<!-- 58&#45;&gt;59 -->\n<g id=\"edge59\" class=\"edge\">\n<title>58&#45;&gt;59</title>\n<path fill=\"none\" stroke=\"#000000\" d=\"M3499.8253,-1055.8796C3492.1057,-1046.8733 3483.8695,-1037.2644 3475.9197,-1027.9897\"/>\n<polygon fill=\"#000000\" stroke=\"#000000\" points=\"3478.4923,-1025.6129 3469.3269,-1020.2981 3473.1775,-1030.1684 3478.4923,-1025.6129\"/>\n</g>\n<!-- 66 -->\n<g id=\"node67\" class=\"node\">\n<title>66</title>\n<path fill=\"#a9f4b2\" stroke=\"#000000\" d=\"M3764,-1012.5C3764,-1012.5 3569,-1012.5 3569,-1012.5 3563,-1012.5 3557,-1006.5 3557,-1000.5 3557,-1000.5 3557,-956.5 3557,-956.5 3557,-950.5 3563,-944.5 3569,-944.5 3569,-944.5 3764,-944.5 3764,-944.5 3770,-944.5 3776,-950.5 3776,-956.5 3776,-956.5 3776,-1000.5 3776,-1000.5 3776,-1006.5 3770,-1012.5 3764,-1012.5\"/>\n<text text-anchor=\"start\" x=\"3628.5\" y=\"-997.3\" font-family=\"Helvetica,sans-Serif\" font-size=\"14.00\" fill=\"#000000\">gini = 0.626</text>\n<text text-anchor=\"start\" x=\"3618.5\" y=\"-982.3\" font-family=\"Helvetica,sans-Serif\" font-size=\"14.00\" fill=\"#000000\">samples = 298</text>\n<text text-anchor=\"start\" x=\"3565\" y=\"-967.3\" font-family=\"Helvetica,sans-Serif\" font-size=\"14.00\" fill=\"#000000\">value = [7, 73, 256, 96, 26, 7, 0]</text>\n<text text-anchor=\"start\" x=\"3616\" y=\"-952.3\" font-family=\"Helvetica,sans-Serif\" font-size=\"14.00\" fill=\"#000000\">class = clase_2</text>\n</g>\n<!-- 58&#45;&gt;66 -->\n<g id=\"edge66\" class=\"edge\">\n<title>58&#45;&gt;66</title>\n<path fill=\"none\" stroke=\"#000000\" d=\"M3581.3174,-1055.8796C3594.2697,-1044.1138 3608.354,-1031.3197 3621.2714,-1019.5855\"/>\n<polygon fill=\"#000000\" stroke=\"#000000\" points=\"3623.6761,-1022.1296 3628.7247,-1012.8149 3618.9694,-1016.9482 3623.6761,-1022.1296\"/>\n</g>\n<!-- 60 -->\n<g id=\"node61\" class=\"node\">\n<title>60</title>\n<path fill=\"#8ef099\" stroke=\"#000000\" d=\"M3408.5,-893.5C3408.5,-893.5 3246.5,-893.5 3246.5,-893.5 3240.5,-893.5 3234.5,-887.5 3234.5,-881.5 3234.5,-881.5 3234.5,-837.5 3234.5,-837.5 3234.5,-831.5 3240.5,-825.5 3246.5,-825.5 3246.5,-825.5 3408.5,-825.5 3408.5,-825.5 3414.5,-825.5 3420.5,-831.5 3420.5,-837.5 3420.5,-837.5 3420.5,-881.5 3420.5,-881.5 3420.5,-887.5 3414.5,-893.5 3408.5,-893.5\"/>\n<text text-anchor=\"start\" x=\"3289.5\" y=\"-878.3\" font-family=\"Helvetica,sans-Serif\" font-size=\"14.00\" fill=\"#000000\">gini = 0.533</text>\n<text text-anchor=\"start\" x=\"3283.5\" y=\"-863.3\" font-family=\"Helvetica,sans-Serif\" font-size=\"14.00\" fill=\"#000000\">samples = 10</text>\n<text text-anchor=\"start\" x=\"3242.5\" y=\"-848.3\" font-family=\"Helvetica,sans-Serif\" font-size=\"14.00\" fill=\"#000000\">value = [0, 1, 11, 2, 3, 0, 0]</text>\n<text text-anchor=\"start\" x=\"3277\" y=\"-833.3\" font-family=\"Helvetica,sans-Serif\" font-size=\"14.00\" fill=\"#000000\">class = clase_2</text>\n</g>\n<!-- 59&#45;&gt;60 -->\n<g id=\"edge60\" class=\"edge\">\n<title>59&#45;&gt;60</title>\n<path fill=\"none\" stroke=\"#000000\" d=\"M3396.4263,-936.8796C3386.2397,-925.4436 3375.1878,-913.0363 3364.9785,-901.575\"/>\n<polygon fill=\"#000000\" stroke=\"#000000\" points=\"3367.3312,-898.9541 3358.0662,-893.8149 3362.1042,-903.6101 3367.3312,-898.9541\"/>\n</g>\n<!-- 61 -->\n<g id=\"node62\" class=\"node\">\n<title>61</title>\n<path fill=\"#e4fbe6\" stroke=\"#000000\" d=\"M3629,-901C3629,-901 3450,-901 3450,-901 3444,-901 3438,-895 3438,-889 3438,-889 3438,-830 3438,-830 3438,-824 3444,-818 3450,-818 3450,-818 3629,-818 3629,-818 3635,-818 3641,-824 3641,-830 3641,-830 3641,-889 3641,-889 3641,-895 3635,-901 3629,-901\"/>\n<text text-anchor=\"start\" x=\"3498.5\" y=\"-885.8\" font-family=\"Helvetica,sans-Serif\" font-size=\"14.00\" fill=\"#000000\">service ≤ 2.5</text>\n<text text-anchor=\"start\" x=\"3506\" y=\"-870.8\" font-family=\"Helvetica,sans-Serif\" font-size=\"14.00\" fill=\"#000000\">gini = 0.69</text>\n<text text-anchor=\"start\" x=\"3495.5\" y=\"-855.8\" font-family=\"Helvetica,sans-Serif\" font-size=\"14.00\" fill=\"#000000\">samples = 62</text>\n<text text-anchor=\"start\" x=\"3446\" y=\"-840.8\" font-family=\"Helvetica,sans-Serif\" font-size=\"14.00\" fill=\"#000000\">value = [1, 9, 41, 32, 11, 0, 3]</text>\n<text text-anchor=\"start\" x=\"3489\" y=\"-825.8\" font-family=\"Helvetica,sans-Serif\" font-size=\"14.00\" fill=\"#000000\">class = clase_2</text>\n</g>\n<!-- 59&#45;&gt;61 -->\n<g id=\"edge61\" class=\"edge\">\n<title>59&#45;&gt;61</title>\n<path fill=\"none\" stroke=\"#000000\" d=\"M3470.5737,-936.8796C3478.5961,-927.8733 3487.1552,-918.2644 3495.4167,-908.9897\"/>\n<polygon fill=\"#000000\" stroke=\"#000000\" points=\"3498.2302,-911.0933 3502.2681,-901.2981 3493.0031,-906.4373 3498.2302,-911.0933\"/>\n</g>\n<!-- 62 -->\n<g id=\"node63\" class=\"node\">\n<title>62</title>\n<path fill=\"#d9fadd\" stroke=\"#000000\" d=\"M3522.5,-782C3522.5,-782 3352.5,-782 3352.5,-782 3346.5,-782 3340.5,-776 3340.5,-770 3340.5,-770 3340.5,-711 3340.5,-711 3340.5,-705 3346.5,-699 3352.5,-699 3352.5,-699 3522.5,-699 3522.5,-699 3528.5,-699 3534.5,-705 3534.5,-711 3534.5,-711 3534.5,-770 3534.5,-770 3534.5,-776 3528.5,-782 3522.5,-782\"/>\n<text text-anchor=\"start\" x=\"3396.5\" y=\"-766.8\" font-family=\"Helvetica,sans-Serif\" font-size=\"14.00\" fill=\"#000000\">service ≤ 1.5</text>\n<text text-anchor=\"start\" x=\"3399.5\" y=\"-751.8\" font-family=\"Helvetica,sans-Serif\" font-size=\"14.00\" fill=\"#000000\">gini = 0.691</text>\n<text text-anchor=\"start\" x=\"3393.5\" y=\"-736.8\" font-family=\"Helvetica,sans-Serif\" font-size=\"14.00\" fill=\"#000000\">samples = 51</text>\n<text text-anchor=\"start\" x=\"3348.5\" y=\"-721.8\" font-family=\"Helvetica,sans-Serif\" font-size=\"14.00\" fill=\"#000000\">value = [1, 8, 36, 25, 9, 0, 3]</text>\n<text text-anchor=\"start\" x=\"3387\" y=\"-706.8\" font-family=\"Helvetica,sans-Serif\" font-size=\"14.00\" fill=\"#000000\">class = clase_2</text>\n</g>\n<!-- 61&#45;&gt;62 -->\n<g id=\"edge62\" class=\"edge\">\n<title>61&#45;&gt;62</title>\n<path fill=\"none\" stroke=\"#000000\" d=\"M3503.8253,-817.8796C3496.1057,-808.8733 3487.8695,-799.2644 3479.9197,-789.9897\"/>\n<polygon fill=\"#000000\" stroke=\"#000000\" points=\"3482.4923,-787.6129 3473.3269,-782.2981 3477.1775,-792.1684 3482.4923,-787.6129\"/>\n</g>\n<!-- 65 -->\n<g id=\"node66\" class=\"node\">\n<title>65</title>\n<path fill=\"#d7faf9\" stroke=\"#000000\" d=\"M3718.5,-774.5C3718.5,-774.5 3564.5,-774.5 3564.5,-774.5 3558.5,-774.5 3552.5,-768.5 3552.5,-762.5 3552.5,-762.5 3552.5,-718.5 3552.5,-718.5 3552.5,-712.5 3558.5,-706.5 3564.5,-706.5 3564.5,-706.5 3718.5,-706.5 3718.5,-706.5 3724.5,-706.5 3730.5,-712.5 3730.5,-718.5 3730.5,-718.5 3730.5,-762.5 3730.5,-762.5 3730.5,-768.5 3724.5,-774.5 3718.5,-774.5\"/>\n<text text-anchor=\"start\" x=\"3603.5\" y=\"-759.3\" font-family=\"Helvetica,sans-Serif\" font-size=\"14.00\" fill=\"#000000\">gini = 0.649</text>\n<text text-anchor=\"start\" x=\"3597.5\" y=\"-744.3\" font-family=\"Helvetica,sans-Serif\" font-size=\"14.00\" fill=\"#000000\">samples = 11</text>\n<text text-anchor=\"start\" x=\"3560.5\" y=\"-729.3\" font-family=\"Helvetica,sans-Serif\" font-size=\"14.00\" fill=\"#000000\">value = [0, 1, 5, 7, 2, 0, 0]</text>\n<text text-anchor=\"start\" x=\"3591\" y=\"-714.3\" font-family=\"Helvetica,sans-Serif\" font-size=\"14.00\" fill=\"#000000\">class = clase_3</text>\n</g>\n<!-- 61&#45;&gt;65 -->\n<g id=\"edge65\" class=\"edge\">\n<title>61&#45;&gt;65</title>\n<path fill=\"none\" stroke=\"#000000\" d=\"M3575.1747,-817.8796C3584.9769,-806.4436 3595.6118,-794.0363 3605.4357,-782.575\"/>\n<polygon fill=\"#000000\" stroke=\"#000000\" points=\"3608.2367,-784.6853 3612.0872,-774.8149 3602.9218,-780.1297 3608.2367,-784.6853\"/>\n</g>\n<!-- 63 -->\n<g id=\"node64\" class=\"node\">\n<title>63</title>\n<path fill=\"#f0fdf1\" stroke=\"#000000\" d=\"M3416.5,-655.5C3416.5,-655.5 3246.5,-655.5 3246.5,-655.5 3240.5,-655.5 3234.5,-649.5 3234.5,-643.5 3234.5,-643.5 3234.5,-599.5 3234.5,-599.5 3234.5,-593.5 3240.5,-587.5 3246.5,-587.5 3246.5,-587.5 3416.5,-587.5 3416.5,-587.5 3422.5,-587.5 3428.5,-593.5 3428.5,-599.5 3428.5,-599.5 3428.5,-643.5 3428.5,-643.5 3428.5,-649.5 3422.5,-655.5 3416.5,-655.5\"/>\n<text text-anchor=\"start\" x=\"3293.5\" y=\"-640.3\" font-family=\"Helvetica,sans-Serif\" font-size=\"14.00\" fill=\"#000000\">gini = 0.676</text>\n<text text-anchor=\"start\" x=\"3287.5\" y=\"-625.3\" font-family=\"Helvetica,sans-Serif\" font-size=\"14.00\" fill=\"#000000\">samples = 25</text>\n<text text-anchor=\"start\" x=\"3242.5\" y=\"-610.3\" font-family=\"Helvetica,sans-Serif\" font-size=\"14.00\" fill=\"#000000\">value = [1, 5, 17, 15, 2, 0, 1]</text>\n<text text-anchor=\"start\" x=\"3281\" y=\"-595.3\" font-family=\"Helvetica,sans-Serif\" font-size=\"14.00\" fill=\"#000000\">class = clase_2</text>\n</g>\n<!-- 62&#45;&gt;63 -->\n<g id=\"edge63\" class=\"edge\">\n<title>62&#45;&gt;63</title>\n<path fill=\"none\" stroke=\"#000000\" d=\"M3400.4263,-698.8796C3390.2397,-687.4436 3379.1878,-675.0363 3368.9785,-663.575\"/>\n<polygon fill=\"#000000\" stroke=\"#000000\" points=\"3371.3312,-660.9541 3362.0662,-655.8149 3366.1042,-665.6101 3371.3312,-660.9541\"/>\n</g>\n<!-- 64 -->\n<g id=\"node65\" class=\"node\">\n<title>64</title>\n<path fill=\"#c6f7cb\" stroke=\"#000000\" d=\"M3628.5,-655.5C3628.5,-655.5 3458.5,-655.5 3458.5,-655.5 3452.5,-655.5 3446.5,-649.5 3446.5,-643.5 3446.5,-643.5 3446.5,-599.5 3446.5,-599.5 3446.5,-593.5 3452.5,-587.5 3458.5,-587.5 3458.5,-587.5 3628.5,-587.5 3628.5,-587.5 3634.5,-587.5 3640.5,-593.5 3640.5,-599.5 3640.5,-599.5 3640.5,-643.5 3640.5,-643.5 3640.5,-649.5 3634.5,-655.5 3628.5,-655.5\"/>\n<text text-anchor=\"start\" x=\"3505.5\" y=\"-640.3\" font-family=\"Helvetica,sans-Serif\" font-size=\"14.00\" fill=\"#000000\">gini = 0.689</text>\n<text text-anchor=\"start\" x=\"3499.5\" y=\"-625.3\" font-family=\"Helvetica,sans-Serif\" font-size=\"14.00\" fill=\"#000000\">samples = 26</text>\n<text text-anchor=\"start\" x=\"3454.5\" y=\"-610.3\" font-family=\"Helvetica,sans-Serif\" font-size=\"14.00\" fill=\"#000000\">value = [0, 3, 19, 10, 7, 0, 2]</text>\n<text text-anchor=\"start\" x=\"3493\" y=\"-595.3\" font-family=\"Helvetica,sans-Serif\" font-size=\"14.00\" fill=\"#000000\">class = clase_2</text>\n</g>\n<!-- 62&#45;&gt;64 -->\n<g id=\"edge64\" class=\"edge\">\n<title>62&#45;&gt;64</title>\n<path fill=\"none\" stroke=\"#000000\" d=\"M3474.5737,-698.8796C3484.7603,-687.4436 3495.8122,-675.0363 3506.0215,-663.575\"/>\n<polygon fill=\"#000000\" stroke=\"#000000\" points=\"3508.8958,-665.6101 3512.9338,-655.8149 3503.6688,-660.9541 3508.8958,-665.6101\"/>\n</g>\n<!-- 69 -->\n<g id=\"node70\" class=\"node\">\n<title>69</title>\n<path fill=\"#e58139\" stroke=\"#000000\" d=\"M4062.5,-1131.5C4062.5,-1131.5 3908.5,-1131.5 3908.5,-1131.5 3902.5,-1131.5 3896.5,-1125.5 3896.5,-1119.5 3896.5,-1119.5 3896.5,-1075.5 3896.5,-1075.5 3896.5,-1069.5 3902.5,-1063.5 3908.5,-1063.5 3908.5,-1063.5 4062.5,-1063.5 4062.5,-1063.5 4068.5,-1063.5 4074.5,-1069.5 4074.5,-1075.5 4074.5,-1075.5 4074.5,-1119.5 4074.5,-1119.5 4074.5,-1125.5 4068.5,-1131.5 4062.5,-1131.5\"/>\n<text text-anchor=\"start\" x=\"3956\" y=\"-1116.3\" font-family=\"Helvetica,sans-Serif\" font-size=\"14.00\" fill=\"#000000\">gini = 0.0</text>\n<text text-anchor=\"start\" x=\"3946\" y=\"-1101.3\" font-family=\"Helvetica,sans-Serif\" font-size=\"14.00\" fill=\"#000000\">samples = 1</text>\n<text text-anchor=\"start\" x=\"3904.5\" y=\"-1086.3\" font-family=\"Helvetica,sans-Serif\" font-size=\"14.00\" fill=\"#000000\">value = [2, 0, 0, 0, 0, 0, 0]</text>\n<text text-anchor=\"start\" x=\"3935\" y=\"-1071.3\" font-family=\"Helvetica,sans-Serif\" font-size=\"14.00\" fill=\"#000000\">class = clase_0</text>\n</g>\n<!-- 68&#45;&gt;69 -->\n<g id=\"edge69\" class=\"edge\">\n<title>68&#45;&gt;69</title>\n<path fill=\"none\" stroke=\"#000000\" d=\"M3985.5,-1174.8796C3985.5,-1164.2134 3985.5,-1152.7021 3985.5,-1141.9015\"/>\n<polygon fill=\"#000000\" stroke=\"#000000\" points=\"3989.0001,-1141.8149 3985.5,-1131.8149 3982.0001,-1141.815 3989.0001,-1141.8149\"/>\n</g>\n<!-- 70 -->\n<g id=\"node71\" class=\"node\">\n<title>70</title>\n<path fill=\"#91f19c\" stroke=\"#000000\" d=\"M4274.5,-1139C4274.5,-1139 4104.5,-1139 4104.5,-1139 4098.5,-1139 4092.5,-1133 4092.5,-1127 4092.5,-1127 4092.5,-1068 4092.5,-1068 4092.5,-1062 4098.5,-1056 4104.5,-1056 4104.5,-1056 4274.5,-1056 4274.5,-1056 4280.5,-1056 4286.5,-1062 4286.5,-1068 4286.5,-1068 4286.5,-1127 4286.5,-1127 4286.5,-1133 4280.5,-1139 4274.5,-1139\"/>\n<text text-anchor=\"start\" x=\"4148.5\" y=\"-1123.8\" font-family=\"Helvetica,sans-Serif\" font-size=\"14.00\" fill=\"#000000\">service ≤ 4.5</text>\n<text text-anchor=\"start\" x=\"4151.5\" y=\"-1108.8\" font-family=\"Helvetica,sans-Serif\" font-size=\"14.00\" fill=\"#000000\">gini = 0.544</text>\n<text text-anchor=\"start\" x=\"4145.5\" y=\"-1093.8\" font-family=\"Helvetica,sans-Serif\" font-size=\"14.00\" fill=\"#000000\">samples = 54</text>\n<text text-anchor=\"start\" x=\"4100.5\" y=\"-1078.8\" font-family=\"Helvetica,sans-Serif\" font-size=\"14.00\" fill=\"#000000\">value = [8, 16, 55, 5, 0, 0, 2]</text>\n<text text-anchor=\"start\" x=\"4139\" y=\"-1063.8\" font-family=\"Helvetica,sans-Serif\" font-size=\"14.00\" fill=\"#000000\">class = clase_2</text>\n</g>\n<!-- 68&#45;&gt;70 -->\n<g id=\"edge70\" class=\"edge\">\n<title>68&#45;&gt;70</title>\n<path fill=\"none\" stroke=\"#000000\" d=\"M4056.8493,-1174.8796C4073.7761,-1165.0056 4091.9444,-1154.4075 4109.2383,-1144.3193\"/>\n<polygon fill=\"#000000\" stroke=\"#000000\" points=\"4111.3167,-1147.1589 4118.191,-1139.0969 4107.7896,-1141.1125 4111.3167,-1147.1589\"/>\n</g>\n<!-- 71 -->\n<g id=\"node72\" class=\"node\">\n<title>71</title>\n<path fill=\"#8df099\" stroke=\"#000000\" d=\"M4076.5,-1020C4076.5,-1020 3906.5,-1020 3906.5,-1020 3900.5,-1020 3894.5,-1014 3894.5,-1008 3894.5,-1008 3894.5,-949 3894.5,-949 3894.5,-943 3900.5,-937 3906.5,-937 3906.5,-937 4076.5,-937 4076.5,-937 4082.5,-937 4088.5,-943 4088.5,-949 4088.5,-949 4088.5,-1008 4088.5,-1008 4088.5,-1014 4082.5,-1020 4076.5,-1020\"/>\n<text text-anchor=\"start\" x=\"3928\" y=\"-1004.8\" font-family=\"Helvetica,sans-Serif\" font-size=\"14.00\" fill=\"#000000\">receiver_state ≤ 9.5</text>\n<text text-anchor=\"start\" x=\"3953.5\" y=\"-989.8\" font-family=\"Helvetica,sans-Serif\" font-size=\"14.00\" fill=\"#000000\">gini = 0.524</text>\n<text text-anchor=\"start\" x=\"3947.5\" y=\"-974.8\" font-family=\"Helvetica,sans-Serif\" font-size=\"14.00\" fill=\"#000000\">samples = 52</text>\n<text text-anchor=\"start\" x=\"3902.5\" y=\"-959.8\" font-family=\"Helvetica,sans-Serif\" font-size=\"14.00\" fill=\"#000000\">value = [7, 16, 55, 5, 0, 0, 1]</text>\n<text text-anchor=\"start\" x=\"3941\" y=\"-944.8\" font-family=\"Helvetica,sans-Serif\" font-size=\"14.00\" fill=\"#000000\">class = clase_2</text>\n</g>\n<!-- 70&#45;&gt;71 -->\n<g id=\"edge71\" class=\"edge\">\n<title>70&#45;&gt;71</title>\n<path fill=\"none\" stroke=\"#000000\" d=\"M4120.2492,-1055.8796C4103.8203,-1046.0056 4086.1864,-1035.4075 4069.4011,-1025.3193\"/>\n<polygon fill=\"#000000\" stroke=\"#000000\" points=\"4071.0858,-1022.2484 4060.7117,-1020.0969 4067.4798,-1028.2482 4071.0858,-1022.2484\"/>\n</g>\n<!-- 74 -->\n<g id=\"node75\" class=\"node\">\n<title>74</title>\n<path fill=\"#ffffff\" stroke=\"#000000\" d=\"M4272.5,-1012.5C4272.5,-1012.5 4118.5,-1012.5 4118.5,-1012.5 4112.5,-1012.5 4106.5,-1006.5 4106.5,-1000.5 4106.5,-1000.5 4106.5,-956.5 4106.5,-956.5 4106.5,-950.5 4112.5,-944.5 4118.5,-944.5 4118.5,-944.5 4272.5,-944.5 4272.5,-944.5 4278.5,-944.5 4284.5,-950.5 4284.5,-956.5 4284.5,-956.5 4284.5,-1000.5 4284.5,-1000.5 4284.5,-1006.5 4278.5,-1012.5 4272.5,-1012.5\"/>\n<text text-anchor=\"start\" x=\"4166\" y=\"-997.3\" font-family=\"Helvetica,sans-Serif\" font-size=\"14.00\" fill=\"#000000\">gini = 0.5</text>\n<text text-anchor=\"start\" x=\"4156\" y=\"-982.3\" font-family=\"Helvetica,sans-Serif\" font-size=\"14.00\" fill=\"#000000\">samples = 2</text>\n<text text-anchor=\"start\" x=\"4114.5\" y=\"-967.3\" font-family=\"Helvetica,sans-Serif\" font-size=\"14.00\" fill=\"#000000\">value = [1, 0, 0, 0, 0, 0, 1]</text>\n<text text-anchor=\"start\" x=\"4145\" y=\"-952.3\" font-family=\"Helvetica,sans-Serif\" font-size=\"14.00\" fill=\"#000000\">class = clase_0</text>\n</g>\n<!-- 70&#45;&gt;74 -->\n<g id=\"edge74\" class=\"edge\">\n<title>70&#45;&gt;74</title>\n<path fill=\"none\" stroke=\"#000000\" d=\"M4191.5985,-1055.8796C4192.1363,-1045.2134 4192.7167,-1033.7021 4193.2613,-1022.9015\"/>\n<polygon fill=\"#000000\" stroke=\"#000000\" points=\"4196.7617,-1022.9785 4193.7698,-1012.8149 4189.7706,-1022.626 4196.7617,-1022.9785\"/>\n</g>\n<!-- 72 -->\n<g id=\"node73\" class=\"node\">\n<title>72</title>\n<path fill=\"#86ef93\" stroke=\"#000000\" d=\"M3974.5,-893.5C3974.5,-893.5 3804.5,-893.5 3804.5,-893.5 3798.5,-893.5 3792.5,-887.5 3792.5,-881.5 3792.5,-881.5 3792.5,-837.5 3792.5,-837.5 3792.5,-831.5 3798.5,-825.5 3804.5,-825.5 3804.5,-825.5 3974.5,-825.5 3974.5,-825.5 3980.5,-825.5 3986.5,-831.5 3986.5,-837.5 3986.5,-837.5 3986.5,-881.5 3986.5,-881.5 3986.5,-887.5 3980.5,-893.5 3974.5,-893.5\"/>\n<text text-anchor=\"start\" x=\"3851.5\" y=\"-878.3\" font-family=\"Helvetica,sans-Serif\" font-size=\"14.00\" fill=\"#000000\">gini = 0.479</text>\n<text text-anchor=\"start\" x=\"3845.5\" y=\"-863.3\" font-family=\"Helvetica,sans-Serif\" font-size=\"14.00\" fill=\"#000000\">samples = 50</text>\n<text text-anchor=\"start\" x=\"3800.5\" y=\"-848.3\" font-family=\"Helvetica,sans-Serif\" font-size=\"14.00\" fill=\"#000000\">value = [7, 16, 55, 2, 0, 0, 0]</text>\n<text text-anchor=\"start\" x=\"3839\" y=\"-833.3\" font-family=\"Helvetica,sans-Serif\" font-size=\"14.00\" fill=\"#000000\">class = clase_2</text>\n</g>\n<!-- 71&#45;&gt;72 -->\n<g id=\"edge72\" class=\"edge\">\n<title>71&#45;&gt;72</title>\n<path fill=\"none\" stroke=\"#000000\" d=\"M3955.8253,-936.8796C3946.0231,-925.4436 3935.3882,-913.0363 3925.5643,-901.575\"/>\n<polygon fill=\"#000000\" stroke=\"#000000\" points=\"3928.0782,-899.1297 3918.9128,-893.8149 3922.7633,-903.6853 3928.0782,-899.1297\"/>\n</g>\n<!-- 73 -->\n<g id=\"node74\" class=\"node\">\n<title>73</title>\n<path fill=\"#7beeec\" stroke=\"#000000\" d=\"M4170.5,-893.5C4170.5,-893.5 4016.5,-893.5 4016.5,-893.5 4010.5,-893.5 4004.5,-887.5 4004.5,-881.5 4004.5,-881.5 4004.5,-837.5 4004.5,-837.5 4004.5,-831.5 4010.5,-825.5 4016.5,-825.5 4016.5,-825.5 4170.5,-825.5 4170.5,-825.5 4176.5,-825.5 4182.5,-831.5 4182.5,-837.5 4182.5,-837.5 4182.5,-881.5 4182.5,-881.5 4182.5,-887.5 4176.5,-893.5 4170.5,-893.5\"/>\n<text text-anchor=\"start\" x=\"4055.5\" y=\"-878.3\" font-family=\"Helvetica,sans-Serif\" font-size=\"14.00\" fill=\"#000000\">gini = 0.375</text>\n<text text-anchor=\"start\" x=\"4054\" y=\"-863.3\" font-family=\"Helvetica,sans-Serif\" font-size=\"14.00\" fill=\"#000000\">samples = 2</text>\n<text text-anchor=\"start\" x=\"4012.5\" y=\"-848.3\" font-family=\"Helvetica,sans-Serif\" font-size=\"14.00\" fill=\"#000000\">value = [0, 0, 0, 3, 0, 0, 1]</text>\n<text text-anchor=\"start\" x=\"4043\" y=\"-833.3\" font-family=\"Helvetica,sans-Serif\" font-size=\"14.00\" fill=\"#000000\">class = clase_3</text>\n</g>\n<!-- 71&#45;&gt;73 -->\n<g id=\"edge73\" class=\"edge\">\n<title>71&#45;&gt;73</title>\n<path fill=\"none\" stroke=\"#000000\" d=\"M4027.1747,-936.8796C4036.9769,-925.4436 4047.6118,-913.0363 4057.4357,-901.575\"/>\n<polygon fill=\"#000000\" stroke=\"#000000\" points=\"4060.2367,-903.6853 4064.0872,-893.8149 4054.9218,-899.1297 4060.2367,-903.6853\"/>\n</g>\n<!-- 76 -->\n<g id=\"node77\" class=\"node\">\n<title>76</title>\n<path fill=\"#ffffff\" stroke=\"#000000\" d=\"M5196.5,-1615C5196.5,-1615 4910.5,-1615 4910.5,-1615 4904.5,-1615 4898.5,-1609 4898.5,-1603 4898.5,-1603 4898.5,-1544 4898.5,-1544 4898.5,-1538 4904.5,-1532 4910.5,-1532 4910.5,-1532 5196.5,-1532 5196.5,-1532 5202.5,-1532 5208.5,-1538 5208.5,-1544 5208.5,-1544 5208.5,-1603 5208.5,-1603 5208.5,-1609 5202.5,-1615 5196.5,-1615\"/>\n<text text-anchor=\"start\" x=\"4990\" y=\"-1599.8\" font-family=\"Helvetica,sans-Serif\" font-size=\"14.00\" fill=\"#000000\">receiver_state ≤ 0.5</text>\n<text text-anchor=\"start\" x=\"5015.5\" y=\"-1584.8\" font-family=\"Helvetica,sans-Serif\" font-size=\"14.00\" fill=\"#000000\">gini = 0.786</text>\n<text text-anchor=\"start\" x=\"5001.5\" y=\"-1569.8\" font-family=\"Helvetica,sans-Serif\" font-size=\"14.00\" fill=\"#000000\">samples = 4654</text>\n<text text-anchor=\"start\" x=\"4906.5\" y=\"-1554.8\" font-family=\"Helvetica,sans-Serif\" font-size=\"14.00\" fill=\"#000000\">value = [56, 1882, 1748, 898, 447, 340, 1885]</text>\n<text text-anchor=\"start\" x=\"5003\" y=\"-1539.8\" font-family=\"Helvetica,sans-Serif\" font-size=\"14.00\" fill=\"#000000\">class = clase_6</text>\n</g>\n<!-- 75&#45;&gt;76 -->\n<g id=\"edge76\" class=\"edge\">\n<title>75&#45;&gt;76</title>\n<path fill=\"none\" stroke=\"#000000\" d=\"M5313.2293,-1650.9631C5277.4234,-1640.2842 5238.7613,-1628.7534 5202.4846,-1617.934\"/>\n<polygon fill=\"#000000\" stroke=\"#000000\" points=\"5203.4034,-1614.5558 5192.8202,-1615.0516 5201.4028,-1621.2638 5203.4034,-1614.5558\"/>\n</g>\n<!-- 91 -->\n<g id=\"node92\" class=\"node\">\n<title>91</title>\n<path fill=\"#f5b3d0\" stroke=\"#000000\" d=\"M6281.5,-1615C6281.5,-1615 5913.5,-1615 5913.5,-1615 5907.5,-1615 5901.5,-1609 5901.5,-1603 5901.5,-1603 5901.5,-1544 5901.5,-1544 5901.5,-1538 5907.5,-1532 5913.5,-1532 5913.5,-1532 6281.5,-1532 6281.5,-1532 6287.5,-1532 6293.5,-1538 6293.5,-1544 6293.5,-1544 6293.5,-1603 6293.5,-1603 6293.5,-1609 6287.5,-1615 6281.5,-1615\"/>\n<text text-anchor=\"start\" x=\"6034\" y=\"-1599.8\" font-family=\"Helvetica,sans-Serif\" font-size=\"14.00\" fill=\"#000000\">receiver_state ≤ 0.5</text>\n<text text-anchor=\"start\" x=\"6059.5\" y=\"-1584.8\" font-family=\"Helvetica,sans-Serif\" font-size=\"14.00\" fill=\"#000000\">gini = 0.723</text>\n<text text-anchor=\"start\" x=\"6037\" y=\"-1569.8\" font-family=\"Helvetica,sans-Serif\" font-size=\"14.00\" fill=\"#000000\">samples = 106281</text>\n<text text-anchor=\"start\" x=\"5909.5\" y=\"-1554.8\" font-family=\"Helvetica,sans-Serif\" font-size=\"14.00\" fill=\"#000000\">value = [657, 13132, 22134, 22379, 17265, 14021, 78657]</text>\n<text text-anchor=\"start\" x=\"6047\" y=\"-1539.8\" font-family=\"Helvetica,sans-Serif\" font-size=\"14.00\" fill=\"#000000\">class = clase_6</text>\n</g>\n<!-- 75&#45;&gt;91 -->\n<g id=\"edge91\" class=\"edge\">\n<title>75&#45;&gt;91</title>\n<path fill=\"none\" stroke=\"#000000\" d=\"M5648.6483,-1656.3114C5725.5097,-1642.1308 5813.7446,-1625.8518 5891.5299,-1611.5007\"/>\n<polygon fill=\"#000000\" stroke=\"#000000\" points=\"5892.2525,-1614.9265 5901.4515,-1609.6702 5890.9824,-1608.0427 5892.2525,-1614.9265\"/>\n</g>\n<!-- 77 -->\n<g id=\"node78\" class=\"node\">\n<title>77</title>\n<path fill=\"#f3fbde\" stroke=\"#000000\" d=\"M4877,-1488.5C4877,-1488.5 4624,-1488.5 4624,-1488.5 4618,-1488.5 4612,-1482.5 4612,-1476.5 4612,-1476.5 4612,-1432.5 4612,-1432.5 4612,-1426.5 4618,-1420.5 4624,-1420.5 4624,-1420.5 4877,-1420.5 4877,-1420.5 4883,-1420.5 4889,-1426.5 4889,-1432.5 4889,-1432.5 4889,-1476.5 4889,-1476.5 4889,-1482.5 4883,-1488.5 4877,-1488.5\"/>\n<text text-anchor=\"start\" x=\"4712.5\" y=\"-1473.3\" font-family=\"Helvetica,sans-Serif\" font-size=\"14.00\" fill=\"#000000\">gini = 0.668</text>\n<text text-anchor=\"start\" x=\"4698.5\" y=\"-1458.3\" font-family=\"Helvetica,sans-Serif\" font-size=\"14.00\" fill=\"#000000\">samples = 1506</text>\n<text text-anchor=\"start\" x=\"4620\" y=\"-1443.3\" font-family=\"Helvetica,sans-Serif\" font-size=\"14.00\" fill=\"#000000\">value = [27, 1051, 788, 308, 124, 31, 24]</text>\n<text text-anchor=\"start\" x=\"4700\" y=\"-1428.3\" font-family=\"Helvetica,sans-Serif\" font-size=\"14.00\" fill=\"#000000\">class = clase_1</text>\n</g>\n<!-- 76&#45;&gt;77 -->\n<g id=\"edge77\" class=\"edge\">\n<title>76&#45;&gt;77</title>\n<path fill=\"none\" stroke=\"#000000\" d=\"M4947.5253,-1531.8796C4914.7518,-1519.0081 4878.8448,-1504.9061 4846.7659,-1492.3074\"/>\n<polygon fill=\"#000000\" stroke=\"#000000\" points=\"4847.9721,-1489.0209 4837.3847,-1488.623 4845.4131,-1495.5364 4847.9721,-1489.0209\"/>\n</g>\n<!-- 78 -->\n<g id=\"node79\" class=\"node\">\n<title>78</title>\n<path fill=\"#f9d2e3\" stroke=\"#000000\" d=\"M5188,-1496C5188,-1496 4919,-1496 4919,-1496 4913,-1496 4907,-1490 4907,-1484 4907,-1484 4907,-1425 4907,-1425 4907,-1419 4913,-1413 4919,-1413 4919,-1413 5188,-1413 5188,-1413 5194,-1413 5200,-1419 5200,-1425 5200,-1425 5200,-1484 5200,-1484 5200,-1490 5194,-1496 5188,-1496\"/>\n<text text-anchor=\"start\" x=\"4990\" y=\"-1480.8\" font-family=\"Helvetica,sans-Serif\" font-size=\"14.00\" fill=\"#000000\">receiver_state ≤ 1.5</text>\n<text text-anchor=\"start\" x=\"5015.5\" y=\"-1465.8\" font-family=\"Helvetica,sans-Serif\" font-size=\"14.00\" fill=\"#000000\">gini = 0.766</text>\n<text text-anchor=\"start\" x=\"5001.5\" y=\"-1450.8\" font-family=\"Helvetica,sans-Serif\" font-size=\"14.00\" fill=\"#000000\">samples = 3148</text>\n<text text-anchor=\"start\" x=\"4915\" y=\"-1435.8\" font-family=\"Helvetica,sans-Serif\" font-size=\"14.00\" fill=\"#000000\">value = [29, 831, 960, 590, 323, 309, 1861]</text>\n<text text-anchor=\"start\" x=\"5003\" y=\"-1420.8\" font-family=\"Helvetica,sans-Serif\" font-size=\"14.00\" fill=\"#000000\">class = clase_6</text>\n</g>\n<!-- 76&#45;&gt;78 -->\n<g id=\"edge78\" class=\"edge\">\n<title>76&#45;&gt;78</title>\n<path fill=\"none\" stroke=\"#000000\" d=\"M5053.5,-1531.8796C5053.5,-1523.6838 5053.5,-1514.9891 5053.5,-1506.5013\"/>\n<polygon fill=\"#000000\" stroke=\"#000000\" points=\"5057.0001,-1506.298 5053.5,-1496.2981 5050.0001,-1506.2981 5057.0001,-1506.298\"/>\n</g>\n<!-- 79 -->\n<g id=\"node80\" class=\"node\">\n<title>79</title>\n<path fill=\"#ec6da6\" stroke=\"#000000\" d=\"M4888.5,-1369.5C4888.5,-1369.5 4652.5,-1369.5 4652.5,-1369.5 4646.5,-1369.5 4640.5,-1363.5 4640.5,-1357.5 4640.5,-1357.5 4640.5,-1313.5 4640.5,-1313.5 4640.5,-1307.5 4646.5,-1301.5 4652.5,-1301.5 4652.5,-1301.5 4888.5,-1301.5 4888.5,-1301.5 4894.5,-1301.5 4900.5,-1307.5 4900.5,-1313.5 4900.5,-1313.5 4900.5,-1357.5 4900.5,-1357.5 4900.5,-1363.5 4894.5,-1369.5 4888.5,-1369.5\"/>\n<text text-anchor=\"start\" x=\"4732.5\" y=\"-1354.3\" font-family=\"Helvetica,sans-Serif\" font-size=\"14.00\" fill=\"#000000\">gini = 0.394</text>\n<text text-anchor=\"start\" x=\"4718.5\" y=\"-1339.3\" font-family=\"Helvetica,sans-Serif\" font-size=\"14.00\" fill=\"#000000\">samples = 1539</text>\n<text text-anchor=\"start\" x=\"4648.5\" y=\"-1324.3\" font-family=\"Helvetica,sans-Serif\" font-size=\"14.00\" fill=\"#000000\">value = [2, 14, 39, 67, 178, 260, 1842]</text>\n<text text-anchor=\"start\" x=\"4720\" y=\"-1309.3\" font-family=\"Helvetica,sans-Serif\" font-size=\"14.00\" fill=\"#000000\">class = clase_6</text>\n</g>\n<!-- 78&#45;&gt;79 -->\n<g id=\"edge79\" class=\"edge\">\n<title>78&#45;&gt;79</title>\n<path fill=\"none\" stroke=\"#000000\" d=\"M4954.5203,-1412.8796C4924.1729,-1400.1186 4890.9488,-1386.1481 4861.184,-1373.6322\"/>\n<polygon fill=\"#000000\" stroke=\"#000000\" points=\"4862.2246,-1370.2729 4851.6497,-1369.623 4859.5112,-1376.7257 4862.2246,-1370.2729\"/>\n</g>\n<!-- 80 -->\n<g id=\"node81\" class=\"node\">\n<title>80</title>\n<path fill=\"#f3fdf4\" stroke=\"#000000\" d=\"M5176,-1377C5176,-1377 4931,-1377 4931,-1377 4925,-1377 4919,-1371 4919,-1365 4919,-1365 4919,-1306 4919,-1306 4919,-1300 4925,-1294 4931,-1294 4931,-1294 5176,-1294 5176,-1294 5182,-1294 5188,-1300 5188,-1306 5188,-1306 5188,-1365 5188,-1365 5188,-1371 5182,-1377 5176,-1377\"/>\n<text text-anchor=\"start\" x=\"4990\" y=\"-1361.8\" font-family=\"Helvetica,sans-Serif\" font-size=\"14.00\" fill=\"#000000\">receiver_state ≤ 5.0</text>\n<text text-anchor=\"start\" x=\"5020\" y=\"-1346.8\" font-family=\"Helvetica,sans-Serif\" font-size=\"14.00\" fill=\"#000000\">gini = 0.71</text>\n<text text-anchor=\"start\" x=\"5001.5\" y=\"-1331.8\" font-family=\"Helvetica,sans-Serif\" font-size=\"14.00\" fill=\"#000000\">samples = 1609</text>\n<text text-anchor=\"start\" x=\"4927\" y=\"-1316.8\" font-family=\"Helvetica,sans-Serif\" font-size=\"14.00\" fill=\"#000000\">value = [27, 817, 921, 523, 145, 49, 19]</text>\n<text text-anchor=\"start\" x=\"5003\" y=\"-1301.8\" font-family=\"Helvetica,sans-Serif\" font-size=\"14.00\" fill=\"#000000\">class = clase_2</text>\n</g>\n<!-- 78&#45;&gt;80 -->\n<g id=\"edge80\" class=\"edge\">\n<title>78&#45;&gt;80</title>\n<path fill=\"none\" stroke=\"#000000\" d=\"M5053.5,-1412.8796C5053.5,-1404.6838 5053.5,-1395.9891 5053.5,-1387.5013\"/>\n<polygon fill=\"#000000\" stroke=\"#000000\" points=\"5057.0001,-1387.298 5053.5,-1377.2981 5050.0001,-1387.2981 5057.0001,-1387.298\"/>\n</g>\n<!-- 81 -->\n<g id=\"node82\" class=\"node\">\n<title>81</title>\n<path fill=\"#ecfdee\" stroke=\"#000000\" d=\"M4802.5,-1258C4802.5,-1258 4566.5,-1258 4566.5,-1258 4560.5,-1258 4554.5,-1252 4554.5,-1246 4554.5,-1246 4554.5,-1187 4554.5,-1187 4554.5,-1181 4560.5,-1175 4566.5,-1175 4566.5,-1175 4802.5,-1175 4802.5,-1175 4808.5,-1175 4814.5,-1181 4814.5,-1187 4814.5,-1187 4814.5,-1246 4814.5,-1246 4814.5,-1252 4808.5,-1258 4802.5,-1258\"/>\n<text text-anchor=\"start\" x=\"4621\" y=\"-1242.8\" font-family=\"Helvetica,sans-Serif\" font-size=\"14.00\" fill=\"#000000\">receiver_state ≤ 3.5</text>\n<text text-anchor=\"start\" x=\"4646.5\" y=\"-1227.8\" font-family=\"Helvetica,sans-Serif\" font-size=\"14.00\" fill=\"#000000\">gini = 0.709</text>\n<text text-anchor=\"start\" x=\"4636.5\" y=\"-1212.8\" font-family=\"Helvetica,sans-Serif\" font-size=\"14.00\" fill=\"#000000\">samples = 964</text>\n<text text-anchor=\"start\" x=\"4562.5\" y=\"-1197.8\" font-family=\"Helvetica,sans-Serif\" font-size=\"14.00\" fill=\"#000000\">value = [0, 206, 584, 488, 144, 49, 19]</text>\n<text text-anchor=\"start\" x=\"4634\" y=\"-1182.8\" font-family=\"Helvetica,sans-Serif\" font-size=\"14.00\" fill=\"#000000\">class = clase_2</text>\n</g>\n<!-- 80&#45;&gt;81 -->\n<g id=\"edge81\" class=\"edge\">\n<title>80&#45;&gt;81</title>\n<path fill=\"none\" stroke=\"#000000\" d=\"M4924.7008,-1293.9631C4891.8689,-1283.3751 4856.4403,-1271.9496 4823.1398,-1261.2104\"/>\n<polygon fill=\"#000000\" stroke=\"#000000\" points=\"4823.9366,-1257.7899 4813.345,-1258.0516 4821.7881,-1264.4521 4823.9366,-1257.7899\"/>\n</g>\n<!-- 86 -->\n<g id=\"node87\" class=\"node\">\n<title>86</title>\n<path fill=\"#e2f4af\" stroke=\"#000000\" d=\"M5155,-1258C5155,-1258 4952,-1258 4952,-1258 4946,-1258 4940,-1252 4940,-1246 4940,-1246 4940,-1187 4940,-1187 4940,-1181 4946,-1175 4952,-1175 4952,-1175 5155,-1175 5155,-1175 5161,-1175 5167,-1181 5167,-1187 5167,-1187 5167,-1246 5167,-1246 5167,-1252 5161,-1258 5155,-1258\"/>\n<text text-anchor=\"start\" x=\"4990\" y=\"-1242.8\" font-family=\"Helvetica,sans-Serif\" font-size=\"14.00\" fill=\"#000000\">receiver_state ≤ 6.5</text>\n<text text-anchor=\"start\" x=\"5015.5\" y=\"-1227.8\" font-family=\"Helvetica,sans-Serif\" font-size=\"14.00\" fill=\"#000000\">gini = 0.522</text>\n<text text-anchor=\"start\" x=\"5005.5\" y=\"-1212.8\" font-family=\"Helvetica,sans-Serif\" font-size=\"14.00\" fill=\"#000000\">samples = 645</text>\n<text text-anchor=\"start\" x=\"4948\" y=\"-1197.8\" font-family=\"Helvetica,sans-Serif\" font-size=\"14.00\" fill=\"#000000\">value = [27, 611, 337, 35, 1, 0, 0]</text>\n<text text-anchor=\"start\" x=\"5003\" y=\"-1182.8\" font-family=\"Helvetica,sans-Serif\" font-size=\"14.00\" fill=\"#000000\">class = clase_1</text>\n</g>\n<!-- 80&#45;&gt;86 -->\n<g id=\"edge86\" class=\"edge\">\n<title>80&#45;&gt;86</title>\n<path fill=\"none\" stroke=\"#000000\" d=\"M5053.5,-1293.8796C5053.5,-1285.6838 5053.5,-1276.9891 5053.5,-1268.5013\"/>\n<polygon fill=\"#000000\" stroke=\"#000000\" points=\"5057.0001,-1268.298 5053.5,-1258.2981 5050.0001,-1268.2981 5057.0001,-1268.298\"/>\n</g>\n<!-- 82 -->\n<g id=\"node83\" class=\"node\">\n<title>82</title>\n<path fill=\"#f5fefd\" stroke=\"#000000\" d=\"M4536.5,-1139C4536.5,-1139 4316.5,-1139 4316.5,-1139 4310.5,-1139 4304.5,-1133 4304.5,-1127 4304.5,-1127 4304.5,-1068 4304.5,-1068 4304.5,-1062 4310.5,-1056 4316.5,-1056 4316.5,-1056 4536.5,-1056 4536.5,-1056 4542.5,-1056 4548.5,-1062 4548.5,-1068 4548.5,-1068 4548.5,-1127 4548.5,-1127 4548.5,-1133 4542.5,-1139 4536.5,-1139\"/>\n<text text-anchor=\"start\" x=\"4363\" y=\"-1123.8\" font-family=\"Helvetica,sans-Serif\" font-size=\"14.00\" fill=\"#000000\">receiver_state ≤ 2.5</text>\n<text text-anchor=\"start\" x=\"4388.5\" y=\"-1108.8\" font-family=\"Helvetica,sans-Serif\" font-size=\"14.00\" fill=\"#000000\">gini = 0.768</text>\n<text text-anchor=\"start\" x=\"4378.5\" y=\"-1093.8\" font-family=\"Helvetica,sans-Serif\" font-size=\"14.00\" fill=\"#000000\">samples = 237</text>\n<text text-anchor=\"start\" x=\"4312.5\" y=\"-1078.8\" font-family=\"Helvetica,sans-Serif\" font-size=\"14.00\" fill=\"#000000\">value = [0, 14, 69, 115, 101, 49, 18]</text>\n<text text-anchor=\"start\" x=\"4376\" y=\"-1063.8\" font-family=\"Helvetica,sans-Serif\" font-size=\"14.00\" fill=\"#000000\">class = clase_3</text>\n</g>\n<!-- 81&#45;&gt;82 -->\n<g id=\"edge82\" class=\"edge\">\n<title>81&#45;&gt;82</title>\n<path fill=\"none\" stroke=\"#000000\" d=\"M4594.2641,-1174.8796C4572.1693,-1164.6886 4548.402,-1153.7261 4525.9041,-1143.3492\"/>\n<polygon fill=\"#000000\" stroke=\"#000000\" points=\"4527.2315,-1140.1071 4516.6849,-1139.0969 4524.2996,-1146.4636 4527.2315,-1140.1071\"/>\n</g>\n<!-- 85 -->\n<g id=\"node86\" class=\"node\">\n<title>85</title>\n<path fill=\"#dafadd\" stroke=\"#000000\" d=\"M4790.5,-1131.5C4790.5,-1131.5 4578.5,-1131.5 4578.5,-1131.5 4572.5,-1131.5 4566.5,-1125.5 4566.5,-1119.5 4566.5,-1119.5 4566.5,-1075.5 4566.5,-1075.5 4566.5,-1069.5 4572.5,-1063.5 4578.5,-1063.5 4578.5,-1063.5 4790.5,-1063.5 4790.5,-1063.5 4796.5,-1063.5 4802.5,-1069.5 4802.5,-1075.5 4802.5,-1075.5 4802.5,-1119.5 4802.5,-1119.5 4802.5,-1125.5 4796.5,-1131.5 4790.5,-1131.5\"/>\n<text text-anchor=\"start\" x=\"4646.5\" y=\"-1116.3\" font-family=\"Helvetica,sans-Serif\" font-size=\"14.00\" fill=\"#000000\">gini = 0.649</text>\n<text text-anchor=\"start\" x=\"4636.5\" y=\"-1101.3\" font-family=\"Helvetica,sans-Serif\" font-size=\"14.00\" fill=\"#000000\">samples = 727</text>\n<text text-anchor=\"start\" x=\"4574.5\" y=\"-1086.3\" font-family=\"Helvetica,sans-Serif\" font-size=\"14.00\" fill=\"#000000\">value = [0, 192, 515, 373, 43, 0, 1]</text>\n<text text-anchor=\"start\" x=\"4634\" y=\"-1071.3\" font-family=\"Helvetica,sans-Serif\" font-size=\"14.00\" fill=\"#000000\">class = clase_2</text>\n</g>\n<!-- 81&#45;&gt;85 -->\n<g id=\"edge85\" class=\"edge\">\n<title>81&#45;&gt;85</title>\n<path fill=\"none\" stroke=\"#000000\" d=\"M4684.5,-1174.8796C4684.5,-1164.2134 4684.5,-1152.7021 4684.5,-1141.9015\"/>\n<polygon fill=\"#000000\" stroke=\"#000000\" points=\"4688.0001,-1141.8149 4684.5,-1131.8149 4681.0001,-1141.815 4688.0001,-1141.8149\"/>\n</g>\n<!-- 83 -->\n<g id=\"node84\" class=\"node\">\n<title>83</title>\n<path fill=\"#eaedfc\" stroke=\"#000000\" d=\"M4508,-1012.5C4508,-1012.5 4321,-1012.5 4321,-1012.5 4315,-1012.5 4309,-1006.5 4309,-1000.5 4309,-1000.5 4309,-956.5 4309,-956.5 4309,-950.5 4315,-944.5 4321,-944.5 4321,-944.5 4508,-944.5 4508,-944.5 4514,-944.5 4520,-950.5 4520,-956.5 4520,-956.5 4520,-1000.5 4520,-1000.5 4520,-1006.5 4514,-1012.5 4508,-1012.5\"/>\n<text text-anchor=\"start\" x=\"4376.5\" y=\"-997.3\" font-family=\"Helvetica,sans-Serif\" font-size=\"14.00\" fill=\"#000000\">gini = 0.782</text>\n<text text-anchor=\"start\" x=\"4370.5\" y=\"-982.3\" font-family=\"Helvetica,sans-Serif\" font-size=\"14.00\" fill=\"#000000\">samples = 51</text>\n<text text-anchor=\"start\" x=\"4317\" y=\"-967.3\" font-family=\"Helvetica,sans-Serif\" font-size=\"14.00\" fill=\"#000000\">value = [0, 3, 16, 20, 27, 10, 9]</text>\n<text text-anchor=\"start\" x=\"4364\" y=\"-952.3\" font-family=\"Helvetica,sans-Serif\" font-size=\"14.00\" fill=\"#000000\">class = clase_4</text>\n</g>\n<!-- 82&#45;&gt;83 -->\n<g id=\"edge83\" class=\"edge\">\n<title>82&#45;&gt;83</title>\n<path fill=\"none\" stroke=\"#000000\" d=\"M4422.303,-1055.8796C4421.2274,-1045.2134 4420.0666,-1033.7021 4418.9775,-1022.9015\"/>\n<polygon fill=\"#000000\" stroke=\"#000000\" points=\"4422.4461,-1022.4133 4417.9603,-1012.8149 4415.4814,-1023.1157 4422.4461,-1022.4133\"/>\n</g>\n<!-- 84 -->\n<g id=\"node85\" class=\"node\">\n<title>84</title>\n<path fill=\"#ebfcfc\" stroke=\"#000000\" d=\"M4745,-1012.5C4745,-1012.5 4550,-1012.5 4550,-1012.5 4544,-1012.5 4538,-1006.5 4538,-1000.5 4538,-1000.5 4538,-956.5 4538,-956.5 4538,-950.5 4544,-944.5 4550,-944.5 4550,-944.5 4745,-944.5 4745,-944.5 4751,-944.5 4757,-950.5 4757,-956.5 4757,-956.5 4757,-1000.5 4757,-1000.5 4757,-1006.5 4751,-1012.5 4745,-1012.5\"/>\n<text text-anchor=\"start\" x=\"4609.5\" y=\"-997.3\" font-family=\"Helvetica,sans-Serif\" font-size=\"14.00\" fill=\"#000000\">gini = 0.759</text>\n<text text-anchor=\"start\" x=\"4599.5\" y=\"-982.3\" font-family=\"Helvetica,sans-Serif\" font-size=\"14.00\" fill=\"#000000\">samples = 186</text>\n<text text-anchor=\"start\" x=\"4546\" y=\"-967.3\" font-family=\"Helvetica,sans-Serif\" font-size=\"14.00\" fill=\"#000000\">value = [0, 11, 53, 95, 74, 39, 9]</text>\n<text text-anchor=\"start\" x=\"4597\" y=\"-952.3\" font-family=\"Helvetica,sans-Serif\" font-size=\"14.00\" fill=\"#000000\">class = clase_3</text>\n</g>\n<!-- 82&#45;&gt;84 -->\n<g id=\"edge84\" class=\"edge\">\n<title>82&#45;&gt;84</title>\n<path fill=\"none\" stroke=\"#000000\" d=\"M4503.7951,-1055.8796C4526.981,-1043.3948 4552.3172,-1029.7523 4575.1701,-1017.4469\"/>\n<polygon fill=\"#000000\" stroke=\"#000000\" points=\"4576.9833,-1020.4457 4584.1286,-1012.623 4573.6646,-1014.2824 4576.9833,-1020.4457\"/>\n</g>\n<!-- 87 -->\n<g id=\"node88\" class=\"node\">\n<title>87</title>\n<path fill=\"#caec6c\" stroke=\"#000000\" d=\"M5020,-1131.5C5020,-1131.5 4833,-1131.5 4833,-1131.5 4827,-1131.5 4821,-1125.5 4821,-1119.5 4821,-1119.5 4821,-1075.5 4821,-1075.5 4821,-1069.5 4827,-1063.5 4833,-1063.5 4833,-1063.5 5020,-1063.5 5020,-1063.5 5026,-1063.5 5032,-1069.5 5032,-1075.5 5032,-1075.5 5032,-1119.5 5032,-1119.5 5032,-1125.5 5026,-1131.5 5020,-1131.5\"/>\n<text text-anchor=\"start\" x=\"4888.5\" y=\"-1116.3\" font-family=\"Helvetica,sans-Serif\" font-size=\"14.00\" fill=\"#000000\">gini = 0.366</text>\n<text text-anchor=\"start\" x=\"4878.5\" y=\"-1101.3\" font-family=\"Helvetica,sans-Serif\" font-size=\"14.00\" fill=\"#000000\">samples = 202</text>\n<text text-anchor=\"start\" x=\"4829\" y=\"-1086.3\" font-family=\"Helvetica,sans-Serif\" font-size=\"14.00\" fill=\"#000000\">value = [24, 261, 50, 0, 0, 0, 0]</text>\n<text text-anchor=\"start\" x=\"4876\" y=\"-1071.3\" font-family=\"Helvetica,sans-Serif\" font-size=\"14.00\" fill=\"#000000\">class = clase_1</text>\n</g>\n<!-- 86&#45;&gt;87 -->\n<g id=\"edge87\" class=\"edge\">\n<title>86&#45;&gt;87</title>\n<path fill=\"none\" stroke=\"#000000\" d=\"M5009.0816,-1174.8796C4996.6421,-1163.2237 4983.1257,-1150.5587 4970.699,-1138.9148\"/>\n<polygon fill=\"#000000\" stroke=\"#000000\" points=\"4972.8121,-1136.0985 4963.1218,-1131.8149 4968.0259,-1141.2065 4972.8121,-1136.0985\"/>\n</g>\n<!-- 88 -->\n<g id=\"node89\" class=\"node\">\n<title>88</title>\n<path fill=\"#f3fbdf\" stroke=\"#000000\" d=\"M5257,-1139C5257,-1139 5062,-1139 5062,-1139 5056,-1139 5050,-1133 5050,-1127 5050,-1127 5050,-1068 5050,-1068 5050,-1062 5056,-1056 5062,-1056 5062,-1056 5257,-1056 5257,-1056 5263,-1056 5269,-1062 5269,-1068 5269,-1068 5269,-1127 5269,-1127 5269,-1133 5263,-1139 5257,-1139\"/>\n<text text-anchor=\"start\" x=\"5096\" y=\"-1123.8\" font-family=\"Helvetica,sans-Serif\" font-size=\"14.00\" fill=\"#000000\">receiver_state ≤ 8.0</text>\n<text text-anchor=\"start\" x=\"5121.5\" y=\"-1108.8\" font-family=\"Helvetica,sans-Serif\" font-size=\"14.00\" fill=\"#000000\">gini = 0.549</text>\n<text text-anchor=\"start\" x=\"5111.5\" y=\"-1093.8\" font-family=\"Helvetica,sans-Serif\" font-size=\"14.00\" fill=\"#000000\">samples = 443</text>\n<text text-anchor=\"start\" x=\"5058\" y=\"-1078.8\" font-family=\"Helvetica,sans-Serif\" font-size=\"14.00\" fill=\"#000000\">value = [3, 350, 287, 35, 1, 0, 0]</text>\n<text text-anchor=\"start\" x=\"5109\" y=\"-1063.8\" font-family=\"Helvetica,sans-Serif\" font-size=\"14.00\" fill=\"#000000\">class = clase_1</text>\n</g>\n<!-- 86&#45;&gt;88 -->\n<g id=\"edge88\" class=\"edge\">\n<title>86&#45;&gt;88</title>\n<path fill=\"none\" stroke=\"#000000\" d=\"M5090.5737,-1174.8796C5098.5961,-1165.8733 5107.1552,-1156.2644 5115.4167,-1146.9897\"/>\n<polygon fill=\"#000000\" stroke=\"#000000\" points=\"5118.2302,-1149.0933 5122.2681,-1139.2981 5113.0031,-1144.4373 5118.2302,-1149.0933\"/>\n</g>\n<!-- 89 -->\n<g id=\"node90\" class=\"node\">\n<title>89</title>\n<path fill=\"#e58139\" stroke=\"#000000\" d=\"M5015.5,-1012.5C5015.5,-1012.5 4861.5,-1012.5 4861.5,-1012.5 4855.5,-1012.5 4849.5,-1006.5 4849.5,-1000.5 4849.5,-1000.5 4849.5,-956.5 4849.5,-956.5 4849.5,-950.5 4855.5,-944.5 4861.5,-944.5 4861.5,-944.5 5015.5,-944.5 5015.5,-944.5 5021.5,-944.5 5027.5,-950.5 5027.5,-956.5 5027.5,-956.5 5027.5,-1000.5 5027.5,-1000.5 5027.5,-1006.5 5021.5,-1012.5 5015.5,-1012.5\"/>\n<text text-anchor=\"start\" x=\"4909\" y=\"-997.3\" font-family=\"Helvetica,sans-Serif\" font-size=\"14.00\" fill=\"#000000\">gini = 0.0</text>\n<text text-anchor=\"start\" x=\"4899\" y=\"-982.3\" font-family=\"Helvetica,sans-Serif\" font-size=\"14.00\" fill=\"#000000\">samples = 2</text>\n<text text-anchor=\"start\" x=\"4857.5\" y=\"-967.3\" font-family=\"Helvetica,sans-Serif\" font-size=\"14.00\" fill=\"#000000\">value = [3, 0, 0, 0, 0, 0, 0]</text>\n<text text-anchor=\"start\" x=\"4888\" y=\"-952.3\" font-family=\"Helvetica,sans-Serif\" font-size=\"14.00\" fill=\"#000000\">class = clase_0</text>\n</g>\n<!-- 88&#45;&gt;89 -->\n<g id=\"edge89\" class=\"edge\">\n<title>88&#45;&gt;89</title>\n<path fill=\"none\" stroke=\"#000000\" d=\"M5082.2049,-1055.8796C5059.019,-1043.3948 5033.6828,-1029.7523 5010.8299,-1017.4469\"/>\n<polygon fill=\"#000000\" stroke=\"#000000\" points=\"5012.3354,-1014.2824 5001.8714,-1012.623 5009.0167,-1020.4457 5012.3354,-1014.2824\"/>\n</g>\n<!-- 90 -->\n<g id=\"node91\" class=\"node\">\n<title>90</title>\n<path fill=\"#f3fbdf\" stroke=\"#000000\" d=\"M5253,-1012.5C5253,-1012.5 5058,-1012.5 5058,-1012.5 5052,-1012.5 5046,-1006.5 5046,-1000.5 5046,-1000.5 5046,-956.5 5046,-956.5 5046,-950.5 5052,-944.5 5058,-944.5 5058,-944.5 5253,-944.5 5253,-944.5 5259,-944.5 5265,-950.5 5265,-956.5 5265,-956.5 5265,-1000.5 5265,-1000.5 5265,-1006.5 5259,-1012.5 5253,-1012.5\"/>\n<text text-anchor=\"start\" x=\"5117.5\" y=\"-997.3\" font-family=\"Helvetica,sans-Serif\" font-size=\"14.00\" fill=\"#000000\">gini = 0.545</text>\n<text text-anchor=\"start\" x=\"5107.5\" y=\"-982.3\" font-family=\"Helvetica,sans-Serif\" font-size=\"14.00\" fill=\"#000000\">samples = 441</text>\n<text text-anchor=\"start\" x=\"5054\" y=\"-967.3\" font-family=\"Helvetica,sans-Serif\" font-size=\"14.00\" fill=\"#000000\">value = [0, 350, 287, 35, 1, 0, 0]</text>\n<text text-anchor=\"start\" x=\"5105\" y=\"-952.3\" font-family=\"Helvetica,sans-Serif\" font-size=\"14.00\" fill=\"#000000\">class = clase_1</text>\n</g>\n<!-- 88&#45;&gt;90 -->\n<g id=\"edge90\" class=\"edge\">\n<title>88&#45;&gt;90</title>\n<path fill=\"none\" stroke=\"#000000\" d=\"M5158.101,-1055.8796C5157.7425,-1045.2134 5157.3555,-1033.7021 5156.9925,-1022.9015\"/>\n<polygon fill=\"#000000\" stroke=\"#000000\" points=\"5160.4875,-1022.6917 5156.6534,-1012.8149 5153.4915,-1022.9269 5160.4875,-1022.6917\"/>\n</g>\n<!-- 92 -->\n<g id=\"node93\" class=\"node\">\n<title>92</title>\n<path fill=\"#f1fdf3\" stroke=\"#000000\" d=\"M6261,-1496C6261,-1496 5934,-1496 5934,-1496 5928,-1496 5922,-1490 5922,-1484 5922,-1484 5922,-1425 5922,-1425 5922,-1419 5928,-1413 5934,-1413 5934,-1413 6261,-1413 6261,-1413 6267,-1413 6273,-1419 6273,-1425 6273,-1425 6273,-1484 6273,-1484 6273,-1490 6267,-1496 6261,-1496\"/>\n<text text-anchor=\"start\" x=\"6052\" y=\"-1480.8\" font-family=\"Helvetica,sans-Serif\" font-size=\"14.00\" fill=\"#000000\">service ≤ 10.5</text>\n<text text-anchor=\"start\" x=\"6059.5\" y=\"-1465.8\" font-family=\"Helvetica,sans-Serif\" font-size=\"14.00\" fill=\"#000000\">gini = 0.773</text>\n<text text-anchor=\"start\" x=\"6041.5\" y=\"-1450.8\" font-family=\"Helvetica,sans-Serif\" font-size=\"14.00\" fill=\"#000000\">samples = 21694</text>\n<text text-anchor=\"start\" x=\"5930\" y=\"-1435.8\" font-family=\"Helvetica,sans-Serif\" font-size=\"14.00\" fill=\"#000000\">value = [141, 6243, 10958, 9198, 4184, 1831, 1742]</text>\n<text text-anchor=\"start\" x=\"6047\" y=\"-1420.8\" font-family=\"Helvetica,sans-Serif\" font-size=\"14.00\" fill=\"#000000\">class = clase_2</text>\n</g>\n<!-- 91&#45;&gt;92 -->\n<g id=\"edge92\" class=\"edge\">\n<title>91&#45;&gt;92</title>\n<path fill=\"none\" stroke=\"#000000\" d=\"M6097.5,-1531.8796C6097.5,-1523.6838 6097.5,-1514.9891 6097.5,-1506.5013\"/>\n<polygon fill=\"#000000\" stroke=\"#000000\" points=\"6101.0001,-1506.298 6097.5,-1496.2981 6094.0001,-1506.2981 6101.0001,-1506.298\"/>\n</g>\n<!-- 127 -->\n<g id=\"node128\" class=\"node\">\n<title>127</title>\n<path fill=\"#f197bf\" stroke=\"#000000\" d=\"M8439.5,-1496C8439.5,-1496 8079.5,-1496 8079.5,-1496 8073.5,-1496 8067.5,-1490 8067.5,-1484 8067.5,-1484 8067.5,-1425 8067.5,-1425 8067.5,-1419 8073.5,-1413 8079.5,-1413 8079.5,-1413 8439.5,-1413 8439.5,-1413 8445.5,-1413 8451.5,-1419 8451.5,-1425 8451.5,-1425 8451.5,-1484 8451.5,-1484 8451.5,-1490 8445.5,-1496 8439.5,-1496\"/>\n<text text-anchor=\"start\" x=\"8196\" y=\"-1480.8\" font-family=\"Helvetica,sans-Serif\" font-size=\"14.00\" fill=\"#000000\">receiver_state ≤ 1.5</text>\n<text text-anchor=\"start\" x=\"8221.5\" y=\"-1465.8\" font-family=\"Helvetica,sans-Serif\" font-size=\"14.00\" fill=\"#000000\">gini = 0.633</text>\n<text text-anchor=\"start\" x=\"8203.5\" y=\"-1450.8\" font-family=\"Helvetica,sans-Serif\" font-size=\"14.00\" fill=\"#000000\">samples = 84587</text>\n<text text-anchor=\"start\" x=\"8075.5\" y=\"-1435.8\" font-family=\"Helvetica,sans-Serif\" font-size=\"14.00\" fill=\"#000000\">value = [516, 6889, 11176, 13181, 13081, 12190, 76915]</text>\n<text text-anchor=\"start\" x=\"8209\" y=\"-1420.8\" font-family=\"Helvetica,sans-Serif\" font-size=\"14.00\" fill=\"#000000\">class = clase_6</text>\n</g>\n<!-- 91&#45;&gt;127 -->\n<g id=\"edge127\" class=\"edge\">\n<title>91&#45;&gt;127</title>\n<path fill=\"none\" stroke=\"#000000\" d=\"M6293.6551,-1562.7033C6702.7671,-1540.1851 7643.3706,-1488.4128 8057.4948,-1465.6187\"/>\n<polygon fill=\"#000000\" stroke=\"#000000\" points=\"8057.6882,-1469.1134 8067.4807,-1465.0691 8057.3034,-1462.124 8057.6882,-1469.1134\"/>\n</g>\n<!-- 93 -->\n<g id=\"node94\" class=\"node\">\n<title>93</title>\n<path fill=\"#e7fce9\" stroke=\"#000000\" d=\"M6072.5,-1377C6072.5,-1377 5778.5,-1377 5778.5,-1377 5772.5,-1377 5766.5,-1371 5766.5,-1365 5766.5,-1365 5766.5,-1306 5766.5,-1306 5766.5,-1300 5772.5,-1294 5778.5,-1294 5778.5,-1294 6072.5,-1294 6072.5,-1294 6078.5,-1294 6084.5,-1300 6084.5,-1306 6084.5,-1306 6084.5,-1365 6084.5,-1365 6084.5,-1371 6078.5,-1377 6072.5,-1377\"/>\n<text text-anchor=\"start\" x=\"5884.5\" y=\"-1361.8\" font-family=\"Helvetica,sans-Serif\" font-size=\"14.00\" fill=\"#000000\">service ≤ 9.5</text>\n<text text-anchor=\"start\" x=\"5887.5\" y=\"-1346.8\" font-family=\"Helvetica,sans-Serif\" font-size=\"14.00\" fill=\"#000000\">gini = 0.752</text>\n<text text-anchor=\"start\" x=\"5873.5\" y=\"-1331.8\" font-family=\"Helvetica,sans-Serif\" font-size=\"14.00\" fill=\"#000000\">samples = 6945</text>\n<text text-anchor=\"start\" x=\"5774.5\" y=\"-1316.8\" font-family=\"Helvetica,sans-Serif\" font-size=\"14.00\" fill=\"#000000\">value = [77, 2736, 3759, 2657, 1046, 416, 327]</text>\n<text text-anchor=\"start\" x=\"5875\" y=\"-1301.8\" font-family=\"Helvetica,sans-Serif\" font-size=\"14.00\" fill=\"#000000\">class = clase_2</text>\n</g>\n<!-- 92&#45;&gt;93 -->\n<g id=\"edge93\" class=\"edge\">\n<title>92&#45;&gt;93</title>\n<path fill=\"none\" stroke=\"#000000\" d=\"M6037.3427,-1412.8796C6023.333,-1403.1868 6008.3146,-1392.7961 5993.975,-1382.8752\"/>\n<polygon fill=\"#000000\" stroke=\"#000000\" points=\"5995.8383,-1379.9083 5985.6233,-1377.0969 5991.8556,-1385.6649 5995.8383,-1379.9083\"/>\n</g>\n<!-- 100 -->\n<g id=\"node101\" class=\"node\">\n<title>100</title>\n<path fill=\"#f7fef8\" stroke=\"#000000\" d=\"M6426,-1377C6426,-1377 6115,-1377 6115,-1377 6109,-1377 6103,-1371 6103,-1365 6103,-1365 6103,-1306 6103,-1306 6103,-1300 6109,-1294 6115,-1294 6115,-1294 6426,-1294 6426,-1294 6432,-1294 6438,-1300 6438,-1306 6438,-1306 6438,-1365 6438,-1365 6438,-1371 6432,-1377 6426,-1377\"/>\n<text text-anchor=\"start\" x=\"6225\" y=\"-1361.8\" font-family=\"Helvetica,sans-Serif\" font-size=\"14.00\" fill=\"#000000\">service ≤ 16.5</text>\n<text text-anchor=\"start\" x=\"6232.5\" y=\"-1346.8\" font-family=\"Helvetica,sans-Serif\" font-size=\"14.00\" fill=\"#000000\">gini = 0.777</text>\n<text text-anchor=\"start\" x=\"6214.5\" y=\"-1331.8\" font-family=\"Helvetica,sans-Serif\" font-size=\"14.00\" fill=\"#000000\">samples = 14749</text>\n<text text-anchor=\"start\" x=\"6111\" y=\"-1316.8\" font-family=\"Helvetica,sans-Serif\" font-size=\"14.00\" fill=\"#000000\">value = [64, 3507, 7199, 6541, 3138, 1415, 1415]</text>\n<text text-anchor=\"start\" x=\"6220\" y=\"-1301.8\" font-family=\"Helvetica,sans-Serif\" font-size=\"14.00\" fill=\"#000000\">class = clase_2</text>\n</g>\n<!-- 92&#45;&gt;100 -->\n<g id=\"edge100\" class=\"edge\">\n<title>92&#45;&gt;100</title>\n<path fill=\"none\" stroke=\"#000000\" d=\"M6158.007,-1412.8796C6172.0982,-1403.1868 6187.2039,-1392.7961 6201.6269,-1382.8752\"/>\n<polygon fill=\"#000000\" stroke=\"#000000\" points=\"6203.7717,-1385.6479 6210.0272,-1377.0969 6199.8045,-1379.8806 6203.7717,-1385.6479\"/>\n</g>\n<!-- 94 -->\n<g id=\"node95\" class=\"node\">\n<title>94</title>\n<path fill=\"#f9fef9\" stroke=\"#000000\" d=\"M5753,-1258C5753,-1258 5484,-1258 5484,-1258 5478,-1258 5472,-1252 5472,-1246 5472,-1246 5472,-1187 5472,-1187 5472,-1181 5478,-1175 5484,-1175 5484,-1175 5753,-1175 5753,-1175 5759,-1175 5765,-1181 5765,-1187 5765,-1187 5765,-1246 5765,-1246 5765,-1252 5759,-1258 5753,-1258\"/>\n<text text-anchor=\"start\" x=\"5577.5\" y=\"-1242.8\" font-family=\"Helvetica,sans-Serif\" font-size=\"14.00\" fill=\"#000000\">service ≤ 8.5</text>\n<text text-anchor=\"start\" x=\"5585\" y=\"-1227.8\" font-family=\"Helvetica,sans-Serif\" font-size=\"14.00\" fill=\"#000000\">gini = 0.78</text>\n<text text-anchor=\"start\" x=\"5566.5\" y=\"-1212.8\" font-family=\"Helvetica,sans-Serif\" font-size=\"14.00\" fill=\"#000000\">samples = 2279</text>\n<text text-anchor=\"start\" x=\"5480\" y=\"-1197.8\" font-family=\"Helvetica,sans-Serif\" font-size=\"14.00\" fill=\"#000000\">value = [5, 505, 1091, 1007, 511, 237, 230]</text>\n<text text-anchor=\"start\" x=\"5568\" y=\"-1182.8\" font-family=\"Helvetica,sans-Serif\" font-size=\"14.00\" fill=\"#000000\">class = clase_2</text>\n</g>\n<!-- 93&#45;&gt;94 -->\n<g id=\"edge94\" class=\"edge\">\n<title>93&#45;&gt;94</title>\n<path fill=\"none\" stroke=\"#000000\" d=\"M5818.1263,-1293.8796C5791.3678,-1283.5074 5762.5477,-1272.3361 5735.3568,-1261.7963\"/>\n<polygon fill=\"#000000\" stroke=\"#000000\" points=\"5736.4021,-1258.4478 5725.8131,-1258.0969 5733.8721,-1264.9746 5736.4021,-1258.4478\"/>\n</g>\n<!-- 99 -->\n<g id=\"node100\" class=\"node\">\n<title>99</title>\n<path fill=\"#eefdf0\" stroke=\"#000000\" d=\"M6073.5,-1250.5C6073.5,-1250.5 5795.5,-1250.5 5795.5,-1250.5 5789.5,-1250.5 5783.5,-1244.5 5783.5,-1238.5 5783.5,-1238.5 5783.5,-1194.5 5783.5,-1194.5 5783.5,-1188.5 5789.5,-1182.5 5795.5,-1182.5 5795.5,-1182.5 6073.5,-1182.5 6073.5,-1182.5 6079.5,-1182.5 6085.5,-1188.5 6085.5,-1194.5 6085.5,-1194.5 6085.5,-1238.5 6085.5,-1238.5 6085.5,-1244.5 6079.5,-1250.5 6073.5,-1250.5\"/>\n<text text-anchor=\"start\" x=\"5896.5\" y=\"-1235.3\" font-family=\"Helvetica,sans-Serif\" font-size=\"14.00\" fill=\"#000000\">gini = 0.726</text>\n<text text-anchor=\"start\" x=\"5882.5\" y=\"-1220.3\" font-family=\"Helvetica,sans-Serif\" font-size=\"14.00\" fill=\"#000000\">samples = 4666</text>\n<text text-anchor=\"start\" x=\"5791.5\" y=\"-1205.3\" font-family=\"Helvetica,sans-Serif\" font-size=\"14.00\" fill=\"#000000\">value = [72, 2231, 2668, 1650, 535, 179, 97]</text>\n<text text-anchor=\"start\" x=\"5884\" y=\"-1190.3\" font-family=\"Helvetica,sans-Serif\" font-size=\"14.00\" fill=\"#000000\">class = clase_2</text>\n</g>\n<!-- 93&#45;&gt;99 -->\n<g id=\"edge99\" class=\"edge\">\n<title>93&#45;&gt;99</title>\n<path fill=\"none\" stroke=\"#000000\" d=\"M5928.6478,-1293.8796C5929.4545,-1283.2134 5930.3251,-1271.7021 5931.1419,-1260.9015\"/>\n<polygon fill=\"#000000\" stroke=\"#000000\" points=\"5934.6405,-1261.0504 5931.9048,-1250.8149 5927.6605,-1260.5225 5934.6405,-1261.0504\"/>\n</g>\n<!-- 95 -->\n<g id=\"node96\" class=\"node\">\n<title>95</title>\n<path fill=\"#f5fef6\" stroke=\"#000000\" d=\"M5575,-1139C5575,-1139 5314,-1139 5314,-1139 5308,-1139 5302,-1133 5302,-1127 5302,-1127 5302,-1068 5302,-1068 5302,-1062 5308,-1056 5314,-1056 5314,-1056 5575,-1056 5575,-1056 5581,-1056 5587,-1062 5587,-1068 5587,-1068 5587,-1127 5587,-1127 5587,-1133 5581,-1139 5575,-1139\"/>\n<text text-anchor=\"start\" x=\"5403.5\" y=\"-1123.8\" font-family=\"Helvetica,sans-Serif\" font-size=\"14.00\" fill=\"#000000\">service ≤ 7.5</text>\n<text text-anchor=\"start\" x=\"5406.5\" y=\"-1108.8\" font-family=\"Helvetica,sans-Serif\" font-size=\"14.00\" fill=\"#000000\">gini = 0.774</text>\n<text text-anchor=\"start\" x=\"5392.5\" y=\"-1093.8\" font-family=\"Helvetica,sans-Serif\" font-size=\"14.00\" fill=\"#000000\">samples = 2132</text>\n<text text-anchor=\"start\" x=\"5310\" y=\"-1078.8\" font-family=\"Helvetica,sans-Serif\" font-size=\"14.00\" fill=\"#000000\">value = [5, 498, 1053, 929, 471, 211, 168]</text>\n<text text-anchor=\"start\" x=\"5394\" y=\"-1063.8\" font-family=\"Helvetica,sans-Serif\" font-size=\"14.00\" fill=\"#000000\">class = clase_2</text>\n</g>\n<!-- 94&#45;&gt;95 -->\n<g id=\"edge95\" class=\"edge\">\n<title>94&#45;&gt;95</title>\n<path fill=\"none\" stroke=\"#000000\" d=\"M5557.6432,-1174.8796C5543.4706,-1165.1868 5528.2775,-1154.7961 5513.7712,-1144.8752\"/>\n<polygon fill=\"#000000\" stroke=\"#000000\" points=\"5515.5525,-1141.8531 5505.3224,-1139.0969 5511.6008,-1147.6311 5515.5525,-1141.8531\"/>\n</g>\n<!-- 98 -->\n<g id=\"node99\" class=\"node\">\n<title>98</title>\n<path fill=\"#eefdfd\" stroke=\"#000000\" d=\"M5812,-1131.5C5812,-1131.5 5617,-1131.5 5617,-1131.5 5611,-1131.5 5605,-1125.5 5605,-1119.5 5605,-1119.5 5605,-1075.5 5605,-1075.5 5605,-1069.5 5611,-1063.5 5617,-1063.5 5617,-1063.5 5812,-1063.5 5812,-1063.5 5818,-1063.5 5824,-1069.5 5824,-1075.5 5824,-1075.5 5824,-1119.5 5824,-1119.5 5824,-1125.5 5818,-1131.5 5812,-1131.5\"/>\n<text text-anchor=\"start\" x=\"5676.5\" y=\"-1116.3\" font-family=\"Helvetica,sans-Serif\" font-size=\"14.00\" fill=\"#000000\">gini = 0.783</text>\n<text text-anchor=\"start\" x=\"5666.5\" y=\"-1101.3\" font-family=\"Helvetica,sans-Serif\" font-size=\"14.00\" fill=\"#000000\">samples = 147</text>\n<text text-anchor=\"start\" x=\"5613\" y=\"-1086.3\" font-family=\"Helvetica,sans-Serif\" font-size=\"14.00\" fill=\"#000000\">value = [0, 7, 38, 78, 40, 26, 62]</text>\n<text text-anchor=\"start\" x=\"5664\" y=\"-1071.3\" font-family=\"Helvetica,sans-Serif\" font-size=\"14.00\" fill=\"#000000\">class = clase_3</text>\n</g>\n<!-- 94&#45;&gt;98 -->\n<g id=\"edge98\" class=\"edge\">\n<title>94&#45;&gt;98</title>\n<path fill=\"none\" stroke=\"#000000\" d=\"M5652.0761,-1174.8796C5661.2131,-1163.5536 5671.1187,-1151.2748 5680.2902,-1139.9058\"/>\n<polygon fill=\"#000000\" stroke=\"#000000\" points=\"5683.2626,-1141.7957 5686.8174,-1131.8149 5677.8144,-1137.4005 5683.2626,-1141.7957\"/>\n</g>\n<!-- 96 -->\n<g id=\"node97\" class=\"node\">\n<title>96</title>\n<path fill=\"#f8fef9\" stroke=\"#000000\" d=\"M5540,-1012.5C5540,-1012.5 5295,-1012.5 5295,-1012.5 5289,-1012.5 5283,-1006.5 5283,-1000.5 5283,-1000.5 5283,-956.5 5283,-956.5 5283,-950.5 5289,-944.5 5295,-944.5 5295,-944.5 5540,-944.5 5540,-944.5 5546,-944.5 5552,-950.5 5552,-956.5 5552,-956.5 5552,-1000.5 5552,-1000.5 5552,-1006.5 5546,-1012.5 5540,-1012.5\"/>\n<text text-anchor=\"start\" x=\"5379.5\" y=\"-997.3\" font-family=\"Helvetica,sans-Serif\" font-size=\"14.00\" fill=\"#000000\">gini = 0.772</text>\n<text text-anchor=\"start\" x=\"5369.5\" y=\"-982.3\" font-family=\"Helvetica,sans-Serif\" font-size=\"14.00\" fill=\"#000000\">samples = 944</text>\n<text text-anchor=\"start\" x=\"5291\" y=\"-967.3\" font-family=\"Helvetica,sans-Serif\" font-size=\"14.00\" fill=\"#000000\">value = [1, 162, 462, 426, 220, 111, 83]</text>\n<text text-anchor=\"start\" x=\"5367\" y=\"-952.3\" font-family=\"Helvetica,sans-Serif\" font-size=\"14.00\" fill=\"#000000\">class = clase_2</text>\n</g>\n<!-- 95&#45;&gt;96 -->\n<g id=\"edge96\" class=\"edge\">\n<title>95&#45;&gt;96</title>\n<path fill=\"none\" stroke=\"#000000\" d=\"M5435.0567,-1055.8796C5432.6117,-1045.1034 5429.971,-1033.4647 5427.4986,-1022.5677\"/>\n<polygon fill=\"#000000\" stroke=\"#000000\" points=\"5430.9117,-1021.7926 5425.2857,-1012.8149 5424.0852,-1023.3415 5430.9117,-1021.7926\"/>\n</g>\n<!-- 97 -->\n<g id=\"node98\" class=\"node\">\n<title>97</title>\n<path fill=\"#f2fdf4\" stroke=\"#000000\" d=\"M5827,-1012.5C5827,-1012.5 5582,-1012.5 5582,-1012.5 5576,-1012.5 5570,-1006.5 5570,-1000.5 5570,-1000.5 5570,-956.5 5570,-956.5 5570,-950.5 5576,-944.5 5582,-944.5 5582,-944.5 5827,-944.5 5827,-944.5 5833,-944.5 5839,-950.5 5839,-956.5 5839,-956.5 5839,-1000.5 5839,-1000.5 5839,-1006.5 5833,-1012.5 5827,-1012.5\"/>\n<text text-anchor=\"start\" x=\"5666.5\" y=\"-997.3\" font-family=\"Helvetica,sans-Serif\" font-size=\"14.00\" fill=\"#000000\">gini = 0.773</text>\n<text text-anchor=\"start\" x=\"5652.5\" y=\"-982.3\" font-family=\"Helvetica,sans-Serif\" font-size=\"14.00\" fill=\"#000000\">samples = 1188</text>\n<text text-anchor=\"start\" x=\"5578\" y=\"-967.3\" font-family=\"Helvetica,sans-Serif\" font-size=\"14.00\" fill=\"#000000\">value = [4, 336, 591, 503, 251, 100, 85]</text>\n<text text-anchor=\"start\" x=\"5654\" y=\"-952.3\" font-family=\"Helvetica,sans-Serif\" font-size=\"14.00\" fill=\"#000000\">class = clase_2</text>\n</g>\n<!-- 95&#45;&gt;97 -->\n<g id=\"edge97\" class=\"edge\">\n<title>95&#45;&gt;97</title>\n<path fill=\"none\" stroke=\"#000000\" d=\"M5535.4354,-1055.8796C5563.1958,-1043.1739 5593.5761,-1029.269 5620.8307,-1016.7948\"/>\n<polygon fill=\"#000000\" stroke=\"#000000\" points=\"5622.3092,-1019.9673 5629.9455,-1012.623 5619.396,-1013.6023 5622.3092,-1019.9673\"/>\n</g>\n<!-- 101 -->\n<g id=\"node102\" class=\"node\">\n<title>101</title>\n<path fill=\"#ecfdfc\" stroke=\"#000000\" d=\"M6387,-1258C6387,-1258 6134,-1258 6134,-1258 6128,-1258 6122,-1252 6122,-1246 6122,-1246 6122,-1187 6122,-1187 6122,-1181 6128,-1175 6134,-1175 6134,-1175 6387,-1175 6387,-1175 6393,-1175 6399,-1181 6399,-1187 6399,-1187 6399,-1246 6399,-1246 6399,-1252 6393,-1258 6387,-1258\"/>\n<text text-anchor=\"start\" x=\"6215\" y=\"-1242.8\" font-family=\"Helvetica,sans-Serif\" font-size=\"14.00\" fill=\"#000000\">service ≤ 11.5</text>\n<text text-anchor=\"start\" x=\"6222.5\" y=\"-1227.8\" font-family=\"Helvetica,sans-Serif\" font-size=\"14.00\" fill=\"#000000\">gini = 0.799</text>\n<text text-anchor=\"start\" x=\"6208.5\" y=\"-1212.8\" font-family=\"Helvetica,sans-Serif\" font-size=\"14.00\" fill=\"#000000\">samples = 2092</text>\n<text text-anchor=\"start\" x=\"6130\" y=\"-1197.8\" font-family=\"Helvetica,sans-Serif\" font-size=\"14.00\" fill=\"#000000\">value = [3, 241, 735, 985, 637, 346, 406]</text>\n<text text-anchor=\"start\" x=\"6210\" y=\"-1182.8\" font-family=\"Helvetica,sans-Serif\" font-size=\"14.00\" fill=\"#000000\">class = clase_3</text>\n</g>\n<!-- 100&#45;&gt;101 -->\n<g id=\"edge101\" class=\"edge\">\n<title>100&#45;&gt;101</title>\n<path fill=\"none\" stroke=\"#000000\" d=\"M6267.0025,-1293.8796C6266.3138,-1285.6838 6265.5831,-1276.9891 6264.8699,-1268.5013\"/>\n<polygon fill=\"#000000\" stroke=\"#000000\" points=\"6268.3376,-1267.9698 6264.0124,-1258.2981 6261.3622,-1268.5561 6268.3376,-1267.9698\"/>\n</g>\n<!-- 112 -->\n<g id=\"node113\" class=\"node\">\n<title>112</title>\n<path fill=\"#f2fdf4\" stroke=\"#000000\" d=\"M6740,-1258C6740,-1258 6429,-1258 6429,-1258 6423,-1258 6417,-1252 6417,-1246 6417,-1246 6417,-1187 6417,-1187 6417,-1181 6423,-1175 6429,-1175 6429,-1175 6740,-1175 6740,-1175 6746,-1175 6752,-1181 6752,-1187 6752,-1187 6752,-1246 6752,-1246 6752,-1252 6746,-1258 6740,-1258\"/>\n<text text-anchor=\"start\" x=\"6539\" y=\"-1242.8\" font-family=\"Helvetica,sans-Serif\" font-size=\"14.00\" fill=\"#000000\">service ≤ 17.5</text>\n<text text-anchor=\"start\" x=\"6546.5\" y=\"-1227.8\" font-family=\"Helvetica,sans-Serif\" font-size=\"14.00\" fill=\"#000000\">gini = 0.769</text>\n<text text-anchor=\"start\" x=\"6528.5\" y=\"-1212.8\" font-family=\"Helvetica,sans-Serif\" font-size=\"14.00\" fill=\"#000000\">samples = 12657</text>\n<text text-anchor=\"start\" x=\"6425\" y=\"-1197.8\" font-family=\"Helvetica,sans-Serif\" font-size=\"14.00\" fill=\"#000000\">value = [61, 3266, 6464, 5556, 2501, 1069, 1009]</text>\n<text text-anchor=\"start\" x=\"6534\" y=\"-1182.8\" font-family=\"Helvetica,sans-Serif\" font-size=\"14.00\" fill=\"#000000\">class = clase_2</text>\n</g>\n<!-- 100&#45;&gt;112 -->\n<g id=\"edge112\" class=\"edge\">\n<title>100&#45;&gt;112</title>\n<path fill=\"none\" stroke=\"#000000\" d=\"M6380.322,-1293.8796C6407.8101,-1283.4621 6437.4253,-1272.2385 6465.3429,-1261.6582\"/>\n<polygon fill=\"#000000\" stroke=\"#000000\" points=\"6466.6294,-1264.9137 6474.74,-1258.0969 6464.1487,-1258.368 6466.6294,-1264.9137\"/>\n</g>\n<!-- 102 -->\n<g id=\"node103\" class=\"node\">\n<title>102</title>\n<path fill=\"#fbfefe\" stroke=\"#000000\" d=\"M6097.5,-1131.5C6097.5,-1131.5 5861.5,-1131.5 5861.5,-1131.5 5855.5,-1131.5 5849.5,-1125.5 5849.5,-1119.5 5849.5,-1119.5 5849.5,-1075.5 5849.5,-1075.5 5849.5,-1069.5 5855.5,-1063.5 5861.5,-1063.5 5861.5,-1063.5 6097.5,-1063.5 6097.5,-1063.5 6103.5,-1063.5 6109.5,-1069.5 6109.5,-1075.5 6109.5,-1075.5 6109.5,-1119.5 6109.5,-1119.5 6109.5,-1125.5 6103.5,-1131.5 6097.5,-1131.5\"/>\n<text text-anchor=\"start\" x=\"5941.5\" y=\"-1116.3\" font-family=\"Helvetica,sans-Serif\" font-size=\"14.00\" fill=\"#000000\">gini = 0.763</text>\n<text text-anchor=\"start\" x=\"5931.5\" y=\"-1101.3\" font-family=\"Helvetica,sans-Serif\" font-size=\"14.00\" fill=\"#000000\">samples = 737</text>\n<text text-anchor=\"start\" x=\"5857.5\" y=\"-1086.3\" font-family=\"Helvetica,sans-Serif\" font-size=\"14.00\" fill=\"#000000\">value = [2, 109, 350, 366, 210, 79, 49]</text>\n<text text-anchor=\"start\" x=\"5929\" y=\"-1071.3\" font-family=\"Helvetica,sans-Serif\" font-size=\"14.00\" fill=\"#000000\">class = clase_3</text>\n</g>\n<!-- 101&#45;&gt;102 -->\n<g id=\"edge102\" class=\"edge\">\n<title>101&#45;&gt;102</title>\n<path fill=\"none\" stroke=\"#000000\" d=\"M6162.2198,-1174.8796C6132.0868,-1162.1186 6099.0975,-1148.1481 6069.5432,-1135.6322\"/>\n<polygon fill=\"#000000\" stroke=\"#000000\" points=\"6070.6494,-1132.2998 6060.0762,-1131.623 6067.9197,-1138.7456 6070.6494,-1132.2998\"/>\n</g>\n<!-- 103 -->\n<g id=\"node104\" class=\"node\">\n<title>103</title>\n<path fill=\"#e9fcfc\" stroke=\"#000000\" d=\"M6393,-1139C6393,-1139 6140,-1139 6140,-1139 6134,-1139 6128,-1133 6128,-1127 6128,-1127 6128,-1068 6128,-1068 6128,-1062 6134,-1056 6140,-1056 6140,-1056 6393,-1056 6393,-1056 6399,-1056 6405,-1062 6405,-1068 6405,-1068 6405,-1127 6405,-1127 6405,-1133 6399,-1139 6393,-1139\"/>\n<text text-anchor=\"start\" x=\"6221\" y=\"-1123.8\" font-family=\"Helvetica,sans-Serif\" font-size=\"14.00\" fill=\"#000000\">service ≤ 14.5</text>\n<text text-anchor=\"start\" x=\"6228.5\" y=\"-1108.8\" font-family=\"Helvetica,sans-Serif\" font-size=\"14.00\" fill=\"#000000\">gini = 0.806</text>\n<text text-anchor=\"start\" x=\"6214.5\" y=\"-1093.8\" font-family=\"Helvetica,sans-Serif\" font-size=\"14.00\" fill=\"#000000\">samples = 1355</text>\n<text text-anchor=\"start\" x=\"6136\" y=\"-1078.8\" font-family=\"Helvetica,sans-Serif\" font-size=\"14.00\" fill=\"#000000\">value = [1, 132, 385, 619, 427, 267, 357]</text>\n<text text-anchor=\"start\" x=\"6216\" y=\"-1063.8\" font-family=\"Helvetica,sans-Serif\" font-size=\"14.00\" fill=\"#000000\">class = clase_3</text>\n</g>\n<!-- 101&#45;&gt;103 -->\n<g id=\"edge103\" class=\"edge\">\n<title>101&#45;&gt;103</title>\n<path fill=\"none\" stroke=\"#000000\" d=\"M6262.5985,-1174.8796C6263.0117,-1166.6838 6263.4501,-1157.9891 6263.8781,-1149.5013\"/>\n<polygon fill=\"#000000\" stroke=\"#000000\" points=\"6267.3844,-1149.4617 6264.3925,-1139.2981 6260.3933,-1149.1091 6267.3844,-1149.4617\"/>\n</g>\n<!-- 104 -->\n<g id=\"node105\" class=\"node\">\n<title>104</title>\n<path fill=\"#f1fdfd\" stroke=\"#000000\" d=\"M6114,-1020C6114,-1020 5869,-1020 5869,-1020 5863,-1020 5857,-1014 5857,-1008 5857,-1008 5857,-949 5857,-949 5857,-943 5863,-937 5869,-937 5869,-937 6114,-937 6114,-937 6120,-937 6126,-943 6126,-949 6126,-949 6126,-1008 6126,-1008 6126,-1014 6120,-1020 6114,-1020\"/>\n<text text-anchor=\"start\" x=\"5946\" y=\"-1004.8\" font-family=\"Helvetica,sans-Serif\" font-size=\"14.00\" fill=\"#000000\">service ≤ 12.5</text>\n<text text-anchor=\"start\" x=\"5953.5\" y=\"-989.8\" font-family=\"Helvetica,sans-Serif\" font-size=\"14.00\" fill=\"#000000\">gini = 0.801</text>\n<text text-anchor=\"start\" x=\"5943.5\" y=\"-974.8\" font-family=\"Helvetica,sans-Serif\" font-size=\"14.00\" fill=\"#000000\">samples = 868</text>\n<text text-anchor=\"start\" x=\"5865\" y=\"-959.8\" font-family=\"Helvetica,sans-Serif\" font-size=\"14.00\" fill=\"#000000\">value = [0, 47, 189, 375, 297, 219, 286]</text>\n<text text-anchor=\"start\" x=\"5941\" y=\"-944.8\" font-family=\"Helvetica,sans-Serif\" font-size=\"14.00\" fill=\"#000000\">class = clase_3</text>\n</g>\n<!-- 103&#45;&gt;104 -->\n<g id=\"edge104\" class=\"edge\">\n<title>103&#45;&gt;104</title>\n<path fill=\"none\" stroke=\"#000000\" d=\"M6170.3183,-1055.8796C6146.5583,-1045.598 6120.9837,-1034.5311 6096.8148,-1024.0726\"/>\n<polygon fill=\"#000000\" stroke=\"#000000\" points=\"6098.1949,-1020.8562 6087.6273,-1020.0969 6095.4149,-1027.2805 6098.1949,-1020.8562\"/>\n</g>\n<!-- 109 -->\n<g id=\"node110\" class=\"node\">\n<title>109</title>\n<path fill=\"#effdfd\" stroke=\"#000000\" d=\"M6384.5,-1020C6384.5,-1020 6156.5,-1020 6156.5,-1020 6150.5,-1020 6144.5,-1014 6144.5,-1008 6144.5,-1008 6144.5,-949 6144.5,-949 6144.5,-943 6150.5,-937 6156.5,-937 6156.5,-937 6384.5,-937 6384.5,-937 6390.5,-937 6396.5,-943 6396.5,-949 6396.5,-949 6396.5,-1008 6396.5,-1008 6396.5,-1014 6390.5,-1020 6384.5,-1020\"/>\n<text text-anchor=\"start\" x=\"6225\" y=\"-1004.8\" font-family=\"Helvetica,sans-Serif\" font-size=\"14.00\" fill=\"#000000\">service ≤ 15.5</text>\n<text text-anchor=\"start\" x=\"6232.5\" y=\"-989.8\" font-family=\"Helvetica,sans-Serif\" font-size=\"14.00\" fill=\"#000000\">gini = 0.785</text>\n<text text-anchor=\"start\" x=\"6222.5\" y=\"-974.8\" font-family=\"Helvetica,sans-Serif\" font-size=\"14.00\" fill=\"#000000\">samples = 487</text>\n<text text-anchor=\"start\" x=\"6152.5\" y=\"-959.8\" font-family=\"Helvetica,sans-Serif\" font-size=\"14.00\" fill=\"#000000\">value = [1, 85, 196, 244, 130, 48, 71]</text>\n<text text-anchor=\"start\" x=\"6220\" y=\"-944.8\" font-family=\"Helvetica,sans-Serif\" font-size=\"14.00\" fill=\"#000000\">class = clase_3</text>\n</g>\n<!-- 103&#45;&gt;109 -->\n<g id=\"edge109\" class=\"edge\">\n<title>103&#45;&gt;109</title>\n<path fill=\"none\" stroke=\"#000000\" d=\"M6267.899,-1055.8796C6268.1745,-1047.6838 6268.4668,-1038.9891 6268.7521,-1030.5013\"/>\n<polygon fill=\"#000000\" stroke=\"#000000\" points=\"6272.257,-1030.41 6269.095,-1020.2981 6265.261,-1030.1748 6272.257,-1030.41\"/>\n</g>\n<!-- 105 -->\n<g id=\"node106\" class=\"node\">\n<title>105</title>\n<path fill=\"#e6fcfb\" stroke=\"#000000\" d=\"M5612.5,-893.5C5612.5,-893.5 5392.5,-893.5 5392.5,-893.5 5386.5,-893.5 5380.5,-887.5 5380.5,-881.5 5380.5,-881.5 5380.5,-837.5 5380.5,-837.5 5380.5,-831.5 5386.5,-825.5 5392.5,-825.5 5392.5,-825.5 5612.5,-825.5 5612.5,-825.5 5618.5,-825.5 5624.5,-831.5 5624.5,-837.5 5624.5,-837.5 5624.5,-881.5 5624.5,-881.5 5624.5,-887.5 5618.5,-893.5 5612.5,-893.5\"/>\n<text text-anchor=\"start\" x=\"5464.5\" y=\"-878.3\" font-family=\"Helvetica,sans-Serif\" font-size=\"14.00\" fill=\"#000000\">gini = 0.772</text>\n<text text-anchor=\"start\" x=\"5454.5\" y=\"-863.3\" font-family=\"Helvetica,sans-Serif\" font-size=\"14.00\" fill=\"#000000\">samples = 356</text>\n<text text-anchor=\"start\" x=\"5388.5\" y=\"-848.3\" font-family=\"Helvetica,sans-Serif\" font-size=\"14.00\" fill=\"#000000\">value = [0, 7, 49, 192, 135, 98, 101]</text>\n<text text-anchor=\"start\" x=\"5452\" y=\"-833.3\" font-family=\"Helvetica,sans-Serif\" font-size=\"14.00\" fill=\"#000000\">class = clase_3</text>\n</g>\n<!-- 104&#45;&gt;105 -->\n<g id=\"edge105\" class=\"edge\">\n<title>104&#45;&gt;105</title>\n<path fill=\"none\" stroke=\"#000000\" d=\"M5856.7165,-939.152C5853.6197,-938.411 5850.5444,-937.6924 5847.5,-937 5753.4541,-915.611 5727.2576,-923.6192 5633.5,-901 5627.4883,-899.5497 5621.3509,-897.9675 5615.1749,-896.2952\"/>\n<polygon fill=\"#000000\" stroke=\"#000000\" points=\"5616.0221,-892.8981 5605.4505,-893.5989 5614.1518,-899.6436 5616.0221,-892.8981\"/>\n</g>\n<!-- 106 -->\n<g id=\"node107\" class=\"node\">\n<title>106</title>\n<path fill=\"#fffeff\" stroke=\"#000000\" d=\"M5900,-901C5900,-901 5655,-901 5655,-901 5649,-901 5643,-895 5643,-889 5643,-889 5643,-830 5643,-830 5643,-824 5649,-818 5655,-818 5655,-818 5900,-818 5900,-818 5906,-818 5912,-824 5912,-830 5912,-830 5912,-889 5912,-889 5912,-895 5906,-901 5900,-901\"/>\n<text text-anchor=\"start\" x=\"5732\" y=\"-885.8\" font-family=\"Helvetica,sans-Serif\" font-size=\"14.00\" fill=\"#000000\">service ≤ 13.5</text>\n<text text-anchor=\"start\" x=\"5739.5\" y=\"-870.8\" font-family=\"Helvetica,sans-Serif\" font-size=\"14.00\" fill=\"#000000\">gini = 0.812</text>\n<text text-anchor=\"start\" x=\"5729.5\" y=\"-855.8\" font-family=\"Helvetica,sans-Serif\" font-size=\"14.00\" fill=\"#000000\">samples = 512</text>\n<text text-anchor=\"start\" x=\"5651\" y=\"-840.8\" font-family=\"Helvetica,sans-Serif\" font-size=\"14.00\" fill=\"#000000\">value = [0, 40, 140, 183, 162, 121, 185]</text>\n<text text-anchor=\"start\" x=\"5727\" y=\"-825.8\" font-family=\"Helvetica,sans-Serif\" font-size=\"14.00\" fill=\"#000000\">class = clase_6</text>\n</g>\n<!-- 104&#45;&gt;106 -->\n<g id=\"edge106\" class=\"edge\">\n<title>104&#45;&gt;106</title>\n<path fill=\"none\" stroke=\"#000000\" d=\"M5916.6532,-936.8796C5898.7337,-926.915 5879.488,-916.2129 5861.197,-906.0418\"/>\n<polygon fill=\"#000000\" stroke=\"#000000\" points=\"5862.7452,-902.898 5852.3046,-901.0969 5859.3432,-909.0158 5862.7452,-902.898\"/>\n</g>\n<!-- 107 -->\n<g id=\"node108\" class=\"node\">\n<title>107</title>\n<path fill=\"#fdf0f6\" stroke=\"#000000\" d=\"M5764.5,-774.5C5764.5,-774.5 5528.5,-774.5 5528.5,-774.5 5522.5,-774.5 5516.5,-768.5 5516.5,-762.5 5516.5,-762.5 5516.5,-718.5 5516.5,-718.5 5516.5,-712.5 5522.5,-706.5 5528.5,-706.5 5528.5,-706.5 5764.5,-706.5 5764.5,-706.5 5770.5,-706.5 5776.5,-712.5 5776.5,-718.5 5776.5,-718.5 5776.5,-762.5 5776.5,-762.5 5776.5,-768.5 5770.5,-774.5 5764.5,-774.5\"/>\n<text text-anchor=\"start\" x=\"5608.5\" y=\"-759.3\" font-family=\"Helvetica,sans-Serif\" font-size=\"14.00\" fill=\"#000000\">gini = 0.806</text>\n<text text-anchor=\"start\" x=\"5598.5\" y=\"-744.3\" font-family=\"Helvetica,sans-Serif\" font-size=\"14.00\" fill=\"#000000\">samples = 379</text>\n<text text-anchor=\"start\" x=\"5524.5\" y=\"-729.3\" font-family=\"Helvetica,sans-Serif\" font-size=\"14.00\" fill=\"#000000\">value = [0, 29, 109, 124, 126, 77, 164]</text>\n<text text-anchor=\"start\" x=\"5596\" y=\"-714.3\" font-family=\"Helvetica,sans-Serif\" font-size=\"14.00\" fill=\"#000000\">class = clase_6</text>\n</g>\n<!-- 106&#45;&gt;107 -->\n<g id=\"edge107\" class=\"edge\">\n<title>106&#45;&gt;107</title>\n<path fill=\"none\" stroke=\"#000000\" d=\"M5731.6826,-817.8796C5718.7303,-806.1138 5704.646,-793.3197 5691.7286,-781.5855\"/>\n<polygon fill=\"#000000\" stroke=\"#000000\" points=\"5694.0306,-778.9482 5684.2753,-774.8149 5689.3239,-784.1296 5694.0306,-778.9482\"/>\n</g>\n<!-- 108 -->\n<g id=\"node109\" class=\"node\">\n<title>108</title>\n<path fill=\"#ecfdfc\" stroke=\"#000000\" d=\"M6010,-774.5C6010,-774.5 5807,-774.5 5807,-774.5 5801,-774.5 5795,-768.5 5795,-762.5 5795,-762.5 5795,-718.5 5795,-718.5 5795,-712.5 5801,-706.5 5807,-706.5 5807,-706.5 6010,-706.5 6010,-706.5 6016,-706.5 6022,-712.5 6022,-718.5 6022,-718.5 6022,-762.5 6022,-762.5 6022,-768.5 6016,-774.5 6010,-774.5\"/>\n<text text-anchor=\"start\" x=\"5870.5\" y=\"-759.3\" font-family=\"Helvetica,sans-Serif\" font-size=\"14.00\" fill=\"#000000\">gini = 0.798</text>\n<text text-anchor=\"start\" x=\"5860.5\" y=\"-744.3\" font-family=\"Helvetica,sans-Serif\" font-size=\"14.00\" fill=\"#000000\">samples = 133</text>\n<text text-anchor=\"start\" x=\"5803\" y=\"-729.3\" font-family=\"Helvetica,sans-Serif\" font-size=\"14.00\" fill=\"#000000\">value = [0, 11, 31, 59, 36, 44, 21]</text>\n<text text-anchor=\"start\" x=\"5858\" y=\"-714.3\" font-family=\"Helvetica,sans-Serif\" font-size=\"14.00\" fill=\"#000000\">class = clase_3</text>\n</g>\n<!-- 106&#45;&gt;108 -->\n<g id=\"edge108\" class=\"edge\">\n<title>106&#45;&gt;108</title>\n<path fill=\"none\" stroke=\"#000000\" d=\"M5823.3174,-817.8796C5836.2697,-806.1138 5850.354,-793.3197 5863.2714,-781.5855\"/>\n<polygon fill=\"#000000\" stroke=\"#000000\" points=\"5865.6761,-784.1296 5870.7247,-774.8149 5860.9694,-778.9482 5865.6761,-784.1296\"/>\n</g>\n<!-- 110 -->\n<g id=\"node111\" class=\"node\">\n<title>110</title>\n<path fill=\"#effdfd\" stroke=\"#000000\" d=\"M6170.5,-893.5C6170.5,-893.5 5942.5,-893.5 5942.5,-893.5 5936.5,-893.5 5930.5,-887.5 5930.5,-881.5 5930.5,-881.5 5930.5,-837.5 5930.5,-837.5 5930.5,-831.5 5936.5,-825.5 5942.5,-825.5 5942.5,-825.5 6170.5,-825.5 6170.5,-825.5 6176.5,-825.5 6182.5,-831.5 6182.5,-837.5 6182.5,-837.5 6182.5,-881.5 6182.5,-881.5 6182.5,-887.5 6176.5,-893.5 6170.5,-893.5\"/>\n<text text-anchor=\"start\" x=\"6018.5\" y=\"-878.3\" font-family=\"Helvetica,sans-Serif\" font-size=\"14.00\" fill=\"#000000\">gini = 0.767</text>\n<text text-anchor=\"start\" x=\"6008.5\" y=\"-863.3\" font-family=\"Helvetica,sans-Serif\" font-size=\"14.00\" fill=\"#000000\">samples = 401</text>\n<text text-anchor=\"start\" x=\"5938.5\" y=\"-848.3\" font-family=\"Helvetica,sans-Serif\" font-size=\"14.00\" fill=\"#000000\">value = [1, 78, 176, 213, 102, 26, 44]</text>\n<text text-anchor=\"start\" x=\"6006\" y=\"-833.3\" font-family=\"Helvetica,sans-Serif\" font-size=\"14.00\" fill=\"#000000\">class = clase_3</text>\n</g>\n<!-- 109&#45;&gt;110 -->\n<g id=\"edge110\" class=\"edge\">\n<title>109&#45;&gt;110</title>\n<path fill=\"none\" stroke=\"#000000\" d=\"M6195.6532,-936.8796C6173.301,-924.4501 6148.885,-910.873 6126.8328,-898.6103\"/>\n<polygon fill=\"#000000\" stroke=\"#000000\" points=\"6128.3048,-895.4241 6117.8641,-893.623 6124.9028,-901.5419 6128.3048,-895.4241\"/>\n</g>\n<!-- 111 -->\n<g id=\"node112\" class=\"node\">\n<title>111</title>\n<path fill=\"#f9fefe\" stroke=\"#000000\" d=\"M6408,-893.5C6408,-893.5 6213,-893.5 6213,-893.5 6207,-893.5 6201,-887.5 6201,-881.5 6201,-881.5 6201,-837.5 6201,-837.5 6201,-831.5 6207,-825.5 6213,-825.5 6213,-825.5 6408,-825.5 6408,-825.5 6414,-825.5 6420,-831.5 6420,-837.5 6420,-837.5 6420,-881.5 6420,-881.5 6420,-887.5 6414,-893.5 6408,-893.5\"/>\n<text text-anchor=\"start\" x=\"6272.5\" y=\"-878.3\" font-family=\"Helvetica,sans-Serif\" font-size=\"14.00\" fill=\"#000000\">gini = 0.813</text>\n<text text-anchor=\"start\" x=\"6266.5\" y=\"-863.3\" font-family=\"Helvetica,sans-Serif\" font-size=\"14.00\" fill=\"#000000\">samples = 86</text>\n<text text-anchor=\"start\" x=\"6209\" y=\"-848.3\" font-family=\"Helvetica,sans-Serif\" font-size=\"14.00\" fill=\"#000000\">value = [0, 7, 20, 31, 28, 22, 27]</text>\n<text text-anchor=\"start\" x=\"6260\" y=\"-833.3\" font-family=\"Helvetica,sans-Serif\" font-size=\"14.00\" fill=\"#000000\">class = clase_3</text>\n</g>\n<!-- 109&#45;&gt;111 -->\n<g id=\"edge111\" class=\"edge\">\n<title>109&#45;&gt;111</title>\n<path fill=\"none\" stroke=\"#000000\" d=\"M6284.4901,-936.8796C6288.1123,-926.1034 6292.0245,-914.4647 6295.6873,-903.5677\"/>\n<polygon fill=\"#000000\" stroke=\"#000000\" points=\"6299.0969,-904.409 6298.9656,-893.8149 6292.4617,-902.1786 6299.0969,-904.409\"/>\n</g>\n<!-- 113 -->\n<g id=\"node114\" class=\"node\">\n<title>113</title>\n<path fill=\"#e6fce9\" stroke=\"#000000\" d=\"M6703,-1131.5C6703,-1131.5 6442,-1131.5 6442,-1131.5 6436,-1131.5 6430,-1125.5 6430,-1119.5 6430,-1119.5 6430,-1075.5 6430,-1075.5 6430,-1069.5 6436,-1063.5 6442,-1063.5 6442,-1063.5 6703,-1063.5 6703,-1063.5 6709,-1063.5 6715,-1069.5 6715,-1075.5 6715,-1075.5 6715,-1119.5 6715,-1119.5 6715,-1125.5 6709,-1131.5 6703,-1131.5\"/>\n<text text-anchor=\"start\" x=\"6534.5\" y=\"-1116.3\" font-family=\"Helvetica,sans-Serif\" font-size=\"14.00\" fill=\"#000000\">gini = 0.731</text>\n<text text-anchor=\"start\" x=\"6520.5\" y=\"-1101.3\" font-family=\"Helvetica,sans-Serif\" font-size=\"14.00\" fill=\"#000000\">samples = 2253</text>\n<text text-anchor=\"start\" x=\"6438\" y=\"-1086.3\" font-family=\"Helvetica,sans-Serif\" font-size=\"14.00\" fill=\"#000000\">value = [37, 988, 1308, 775, 278, 100, 62]</text>\n<text text-anchor=\"start\" x=\"6522\" y=\"-1071.3\" font-family=\"Helvetica,sans-Serif\" font-size=\"14.00\" fill=\"#000000\">class = clase_2</text>\n</g>\n<!-- 112&#45;&gt;113 -->\n<g id=\"edge113\" class=\"edge\">\n<title>112&#45;&gt;113</title>\n<path fill=\"none\" stroke=\"#000000\" d=\"M6580.303,-1174.8796C6579.2274,-1164.2134 6578.0666,-1152.7021 6576.9775,-1141.9015\"/>\n<polygon fill=\"#000000\" stroke=\"#000000\" points=\"6580.4461,-1141.4133 6575.9603,-1131.8149 6573.4814,-1142.1157 6580.4461,-1141.4133\"/>\n</g>\n<!-- 114 -->\n<g id=\"node115\" class=\"node\">\n<title>114</title>\n<path fill=\"#f9fef9\" stroke=\"#000000\" d=\"M7039.5,-1139C7039.5,-1139 6745.5,-1139 6745.5,-1139 6739.5,-1139 6733.5,-1133 6733.5,-1127 6733.5,-1127 6733.5,-1068 6733.5,-1068 6733.5,-1062 6739.5,-1056 6745.5,-1056 6745.5,-1056 7039.5,-1056 7039.5,-1056 7045.5,-1056 7051.5,-1062 7051.5,-1068 7051.5,-1068 7051.5,-1127 7051.5,-1127 7051.5,-1133 7045.5,-1139 7039.5,-1139\"/>\n<text text-anchor=\"start\" x=\"6847\" y=\"-1123.8\" font-family=\"Helvetica,sans-Serif\" font-size=\"14.00\" fill=\"#000000\">service ≤ 21.5</text>\n<text text-anchor=\"start\" x=\"6854.5\" y=\"-1108.8\" font-family=\"Helvetica,sans-Serif\" font-size=\"14.00\" fill=\"#000000\">gini = 0.771</text>\n<text text-anchor=\"start\" x=\"6836.5\" y=\"-1093.8\" font-family=\"Helvetica,sans-Serif\" font-size=\"14.00\" fill=\"#000000\">samples = 10404</text>\n<text text-anchor=\"start\" x=\"6741.5\" y=\"-1078.8\" font-family=\"Helvetica,sans-Serif\" font-size=\"14.00\" fill=\"#000000\">value = [24, 2278, 5156, 4781, 2223, 969, 947]</text>\n<text text-anchor=\"start\" x=\"6842\" y=\"-1063.8\" font-family=\"Helvetica,sans-Serif\" font-size=\"14.00\" fill=\"#000000\">class = clase_2</text>\n</g>\n<!-- 112&#45;&gt;114 -->\n<g id=\"edge114\" class=\"edge\">\n<title>112&#45;&gt;114</title>\n<path fill=\"none\" stroke=\"#000000\" d=\"M6692.2235,-1174.8796C6719.0691,-1164.5074 6747.9831,-1153.3361 6775.2625,-1142.7963\"/>\n<polygon fill=\"#000000\" stroke=\"#000000\" points=\"6776.7708,-1145.9658 6784.8374,-1139.0969 6774.248,-1139.4362 6776.7708,-1145.9658\"/>\n</g>\n<!-- 115 -->\n<g id=\"node116\" class=\"node\">\n<title>115</title>\n<path fill=\"#fdfffd\" stroke=\"#000000\" d=\"M7004.5,-1020C7004.5,-1020 6710.5,-1020 6710.5,-1020 6704.5,-1020 6698.5,-1014 6698.5,-1008 6698.5,-1008 6698.5,-949 6698.5,-949 6698.5,-943 6704.5,-937 6710.5,-937 6710.5,-937 7004.5,-937 7004.5,-937 7010.5,-937 7016.5,-943 7016.5,-949 7016.5,-949 7016.5,-1008 7016.5,-1008 7016.5,-1014 7010.5,-1020 7004.5,-1020\"/>\n<text text-anchor=\"start\" x=\"6812\" y=\"-1004.8\" font-family=\"Helvetica,sans-Serif\" font-size=\"14.00\" fill=\"#000000\">service ≤ 18.5</text>\n<text text-anchor=\"start\" x=\"6819.5\" y=\"-989.8\" font-family=\"Helvetica,sans-Serif\" font-size=\"14.00\" fill=\"#000000\">gini = 0.793</text>\n<text text-anchor=\"start\" x=\"6805.5\" y=\"-974.8\" font-family=\"Helvetica,sans-Serif\" font-size=\"14.00\" fill=\"#000000\">samples = 5612</text>\n<text text-anchor=\"start\" x=\"6706.5\" y=\"-959.8\" font-family=\"Helvetica,sans-Serif\" font-size=\"14.00\" fill=\"#000000\">value = [16, 1183, 2512, 2431, 1275, 689, 761]</text>\n<text text-anchor=\"start\" x=\"6807\" y=\"-944.8\" font-family=\"Helvetica,sans-Serif\" font-size=\"14.00\" fill=\"#000000\">class = clase_2</text>\n</g>\n<!-- 114&#45;&gt;115 -->\n<g id=\"edge115\" class=\"edge\">\n<title>114&#45;&gt;115</title>\n<path fill=\"none\" stroke=\"#000000\" d=\"M6880.2587,-1055.8796C6877.7952,-1047.5037 6875.1784,-1038.6067 6872.63,-1029.942\"/>\n<polygon fill=\"#000000\" stroke=\"#000000\" points=\"6875.9731,-1028.9041 6869.7936,-1020.2981 6869.2575,-1030.8793 6875.9731,-1028.9041\"/>\n</g>\n<!-- 122 -->\n<g id=\"node123\" class=\"node\">\n<title>122</title>\n<path fill=\"#f4fef5\" stroke=\"#000000\" d=\"M7324.5,-1020C7324.5,-1020 7046.5,-1020 7046.5,-1020 7040.5,-1020 7034.5,-1014 7034.5,-1008 7034.5,-1008 7034.5,-949 7034.5,-949 7034.5,-943 7040.5,-937 7046.5,-937 7046.5,-937 7324.5,-937 7324.5,-937 7330.5,-937 7336.5,-943 7336.5,-949 7336.5,-949 7336.5,-1008 7336.5,-1008 7336.5,-1014 7330.5,-1020 7324.5,-1020\"/>\n<text text-anchor=\"start\" x=\"7140\" y=\"-1004.8\" font-family=\"Helvetica,sans-Serif\" font-size=\"14.00\" fill=\"#000000\">service ≤ 22.5</text>\n<text text-anchor=\"start\" x=\"7147.5\" y=\"-989.8\" font-family=\"Helvetica,sans-Serif\" font-size=\"14.00\" fill=\"#000000\">gini = 0.739</text>\n<text text-anchor=\"start\" x=\"7133.5\" y=\"-974.8\" font-family=\"Helvetica,sans-Serif\" font-size=\"14.00\" fill=\"#000000\">samples = 4792</text>\n<text text-anchor=\"start\" x=\"7042.5\" y=\"-959.8\" font-family=\"Helvetica,sans-Serif\" font-size=\"14.00\" fill=\"#000000\">value = [8, 1095, 2644, 2350, 948, 280, 186]</text>\n<text text-anchor=\"start\" x=\"7135\" y=\"-944.8\" font-family=\"Helvetica,sans-Serif\" font-size=\"14.00\" fill=\"#000000\">class = clase_2</text>\n</g>\n<!-- 114&#45;&gt;122 -->\n<g id=\"edge122\" class=\"edge\">\n<title>114&#45;&gt;122</title>\n<path fill=\"none\" stroke=\"#000000\" d=\"M6994.9772,-1055.8796C7020.4039,-1045.5527 7047.7811,-1034.4336 7073.6321,-1023.9344\"/>\n<polygon fill=\"#000000\" stroke=\"#000000\" points=\"7075.1327,-1027.1027 7083.0807,-1020.0969 7072.4986,-1020.6172 7075.1327,-1027.1027\"/>\n</g>\n<!-- 116 -->\n<g id=\"node117\" class=\"node\">\n<title>116</title>\n<path fill=\"#fafefb\" stroke=\"#000000\" d=\"M6744.5,-893.5C6744.5,-893.5 6450.5,-893.5 6450.5,-893.5 6444.5,-893.5 6438.5,-887.5 6438.5,-881.5 6438.5,-881.5 6438.5,-837.5 6438.5,-837.5 6438.5,-831.5 6444.5,-825.5 6450.5,-825.5 6450.5,-825.5 6744.5,-825.5 6744.5,-825.5 6750.5,-825.5 6756.5,-831.5 6756.5,-837.5 6756.5,-837.5 6756.5,-881.5 6756.5,-881.5 6756.5,-887.5 6750.5,-893.5 6744.5,-893.5\"/>\n<text text-anchor=\"start\" x=\"6559.5\" y=\"-878.3\" font-family=\"Helvetica,sans-Serif\" font-size=\"14.00\" fill=\"#000000\">gini = 0.788</text>\n<text text-anchor=\"start\" x=\"6545.5\" y=\"-863.3\" font-family=\"Helvetica,sans-Serif\" font-size=\"14.00\" fill=\"#000000\">samples = 5303</text>\n<text text-anchor=\"start\" x=\"6446.5\" y=\"-848.3\" font-family=\"Helvetica,sans-Serif\" font-size=\"14.00\" fill=\"#000000\">value = [16, 1176, 2459, 2310, 1163, 608, 665]</text>\n<text text-anchor=\"start\" x=\"6547\" y=\"-833.3\" font-family=\"Helvetica,sans-Serif\" font-size=\"14.00\" fill=\"#000000\">class = clase_2</text>\n</g>\n<!-- 115&#45;&gt;116 -->\n<g id=\"edge116\" class=\"edge\">\n<title>115&#45;&gt;116</title>\n<path fill=\"none\" stroke=\"#000000\" d=\"M6766.5646,-936.8796C6738.8042,-924.1739 6708.4239,-910.269 6681.1693,-897.7948\"/>\n<polygon fill=\"#000000\" stroke=\"#000000\" points=\"6682.604,-894.6023 6672.0545,-893.623 6679.6908,-900.9673 6682.604,-894.6023\"/>\n</g>\n<!-- 117 -->\n<g id=\"node118\" class=\"node\">\n<title>117</title>\n<path fill=\"#fafefe\" stroke=\"#000000\" d=\"M6998.5,-901C6998.5,-901 6786.5,-901 6786.5,-901 6780.5,-901 6774.5,-895 6774.5,-889 6774.5,-889 6774.5,-830 6774.5,-830 6774.5,-824 6780.5,-818 6786.5,-818 6786.5,-818 6998.5,-818 6998.5,-818 7004.5,-818 7010.5,-824 7010.5,-830 7010.5,-830 7010.5,-889 7010.5,-889 7010.5,-895 7004.5,-901 6998.5,-901\"/>\n<text text-anchor=\"start\" x=\"6847\" y=\"-885.8\" font-family=\"Helvetica,sans-Serif\" font-size=\"14.00\" fill=\"#000000\">service ≤ 19.5</text>\n<text text-anchor=\"start\" x=\"6854.5\" y=\"-870.8\" font-family=\"Helvetica,sans-Serif\" font-size=\"14.00\" fill=\"#000000\">gini = 0.793</text>\n<text text-anchor=\"start\" x=\"6844.5\" y=\"-855.8\" font-family=\"Helvetica,sans-Serif\" font-size=\"14.00\" fill=\"#000000\">samples = 309</text>\n<text text-anchor=\"start\" x=\"6782.5\" y=\"-840.8\" font-family=\"Helvetica,sans-Serif\" font-size=\"14.00\" fill=\"#000000\">value = [0, 7, 53, 121, 112, 81, 96]</text>\n<text text-anchor=\"start\" x=\"6842\" y=\"-825.8\" font-family=\"Helvetica,sans-Serif\" font-size=\"14.00\" fill=\"#000000\">class = clase_3</text>\n</g>\n<!-- 115&#45;&gt;117 -->\n<g id=\"edge117\" class=\"edge\">\n<title>115&#45;&gt;117</title>\n<path fill=\"none\" stroke=\"#000000\" d=\"M6869.7413,-936.8796C6872.2048,-928.5037 6874.8216,-919.6067 6877.37,-910.942\"/>\n<polygon fill=\"#000000\" stroke=\"#000000\" points=\"6880.7425,-911.8793 6880.2064,-901.2981 6874.0269,-909.9041 6880.7425,-911.8793\"/>\n</g>\n<!-- 118 -->\n<g id=\"node119\" class=\"node\">\n<title>118</title>\n<path fill=\"#e9fcfc\" stroke=\"#000000\" d=\"M6874,-774.5C6874,-774.5 6679,-774.5 6679,-774.5 6673,-774.5 6667,-768.5 6667,-762.5 6667,-762.5 6667,-718.5 6667,-718.5 6667,-712.5 6673,-706.5 6679,-706.5 6679,-706.5 6874,-706.5 6874,-706.5 6880,-706.5 6886,-712.5 6886,-718.5 6886,-718.5 6886,-762.5 6886,-762.5 6886,-768.5 6880,-774.5 6874,-774.5\"/>\n<text text-anchor=\"start\" x=\"6738.5\" y=\"-759.3\" font-family=\"Helvetica,sans-Serif\" font-size=\"14.00\" fill=\"#000000\">gini = 0.778</text>\n<text text-anchor=\"start\" x=\"6728.5\" y=\"-744.3\" font-family=\"Helvetica,sans-Serif\" font-size=\"14.00\" fill=\"#000000\">samples = 121</text>\n<text text-anchor=\"start\" x=\"6675\" y=\"-729.3\" font-family=\"Helvetica,sans-Serif\" font-size=\"14.00\" fill=\"#000000\">value = [0, 3, 31, 61, 45, 29, 21]</text>\n<text text-anchor=\"start\" x=\"6726\" y=\"-714.3\" font-family=\"Helvetica,sans-Serif\" font-size=\"14.00\" fill=\"#000000\">class = clase_3</text>\n</g>\n<!-- 117&#45;&gt;118 -->\n<g id=\"edge118\" class=\"edge\">\n<title>117&#45;&gt;118</title>\n<path fill=\"none\" stroke=\"#000000\" d=\"M6851.9288,-817.8796C6840.674,-806.3337 6828.4539,-793.7976 6817.1922,-782.2446\"/>\n<polygon fill=\"#000000\" stroke=\"#000000\" points=\"6819.4364,-779.5326 6809.9499,-774.8149 6814.4238,-784.4188 6819.4364,-779.5326\"/>\n</g>\n<!-- 119 -->\n<g id=\"node120\" class=\"node\">\n<title>119</title>\n<path fill=\"#fef8fa\" stroke=\"#000000\" d=\"M7111,-782C7111,-782 6916,-782 6916,-782 6910,-782 6904,-776 6904,-770 6904,-770 6904,-711 6904,-711 6904,-705 6910,-699 6916,-699 6916,-699 7111,-699 7111,-699 7117,-699 7123,-705 7123,-711 7123,-711 7123,-770 7123,-770 7123,-776 7117,-782 7111,-782\"/>\n<text text-anchor=\"start\" x=\"6968\" y=\"-766.8\" font-family=\"Helvetica,sans-Serif\" font-size=\"14.00\" fill=\"#000000\">service ≤ 20.5</text>\n<text text-anchor=\"start\" x=\"6975.5\" y=\"-751.8\" font-family=\"Helvetica,sans-Serif\" font-size=\"14.00\" fill=\"#000000\">gini = 0.784</text>\n<text text-anchor=\"start\" x=\"6965.5\" y=\"-736.8\" font-family=\"Helvetica,sans-Serif\" font-size=\"14.00\" fill=\"#000000\">samples = 188</text>\n<text text-anchor=\"start\" x=\"6912\" y=\"-721.8\" font-family=\"Helvetica,sans-Serif\" font-size=\"14.00\" fill=\"#000000\">value = [0, 4, 22, 60, 67, 52, 75]</text>\n<text text-anchor=\"start\" x=\"6963\" y=\"-706.8\" font-family=\"Helvetica,sans-Serif\" font-size=\"14.00\" fill=\"#000000\">class = clase_6</text>\n</g>\n<!-- 117&#45;&gt;119 -->\n<g id=\"edge119\" class=\"edge\">\n<title>117&#45;&gt;119</title>\n<path fill=\"none\" stroke=\"#000000\" d=\"M6934.8199,-817.8796C6944.1608,-808.6931 6954.139,-798.8798 6963.744,-789.4336\"/>\n<polygon fill=\"#000000\" stroke=\"#000000\" points=\"6966.3238,-791.8054 6970.9994,-782.2981 6961.4155,-786.8146 6966.3238,-791.8054\"/>\n</g>\n<!-- 120 -->\n<g id=\"node121\" class=\"node\">\n<title>120</title>\n<path fill=\"#fef6f9\" stroke=\"#000000\" d=\"M6992,-655.5C6992,-655.5 6805,-655.5 6805,-655.5 6799,-655.5 6793,-649.5 6793,-643.5 6793,-643.5 6793,-599.5 6793,-599.5 6793,-593.5 6799,-587.5 6805,-587.5 6805,-587.5 6992,-587.5 6992,-587.5 6998,-587.5 7004,-593.5 7004,-599.5 7004,-599.5 7004,-643.5 7004,-643.5 7004,-649.5 6998,-655.5 6992,-655.5\"/>\n<text text-anchor=\"start\" x=\"6860.5\" y=\"-640.3\" font-family=\"Helvetica,sans-Serif\" font-size=\"14.00\" fill=\"#000000\">gini = 0.745</text>\n<text text-anchor=\"start\" x=\"6850.5\" y=\"-625.3\" font-family=\"Helvetica,sans-Serif\" font-size=\"14.00\" fill=\"#000000\">samples = 134</text>\n<text text-anchor=\"start\" x=\"6801\" y=\"-610.3\" font-family=\"Helvetica,sans-Serif\" font-size=\"14.00\" fill=\"#000000\">value = [0, 0, 2, 36, 55, 46, 62]</text>\n<text text-anchor=\"start\" x=\"6848\" y=\"-595.3\" font-family=\"Helvetica,sans-Serif\" font-size=\"14.00\" fill=\"#000000\">class = clase_6</text>\n</g>\n<!-- 119&#45;&gt;120 -->\n<g id=\"edge120\" class=\"edge\">\n<title>119&#45;&gt;120</title>\n<path fill=\"none\" stroke=\"#000000\" d=\"M6973.2786,-698.8796C6962.1208,-687.3337 6950.0061,-674.7976 6938.8414,-663.2446\"/>\n<polygon fill=\"#000000\" stroke=\"#000000\" points=\"6941.1275,-660.5736 6931.6615,-655.8149 6936.0939,-665.4381 6941.1275,-660.5736\"/>\n</g>\n<!-- 121 -->\n<g id=\"node122\" class=\"node\">\n<title>121</title>\n<path fill=\"#f2fdfd\" stroke=\"#000000\" d=\"M7221,-655.5C7221,-655.5 7034,-655.5 7034,-655.5 7028,-655.5 7022,-649.5 7022,-643.5 7022,-643.5 7022,-599.5 7022,-599.5 7022,-593.5 7028,-587.5 7034,-587.5 7034,-587.5 7221,-587.5 7221,-587.5 7227,-587.5 7233,-593.5 7233,-599.5 7233,-599.5 7233,-643.5 7233,-643.5 7233,-649.5 7227,-655.5 7221,-655.5\"/>\n<text text-anchor=\"start\" x=\"7089.5\" y=\"-640.3\" font-family=\"Helvetica,sans-Serif\" font-size=\"14.00\" fill=\"#000000\">gini = 0.785</text>\n<text text-anchor=\"start\" x=\"7083.5\" y=\"-625.3\" font-family=\"Helvetica,sans-Serif\" font-size=\"14.00\" fill=\"#000000\">samples = 54</text>\n<text text-anchor=\"start\" x=\"7030\" y=\"-610.3\" font-family=\"Helvetica,sans-Serif\" font-size=\"14.00\" fill=\"#000000\">value = [0, 4, 20, 24, 12, 6, 13]</text>\n<text text-anchor=\"start\" x=\"7077\" y=\"-595.3\" font-family=\"Helvetica,sans-Serif\" font-size=\"14.00\" fill=\"#000000\">class = clase_3</text>\n</g>\n<!-- 119&#45;&gt;121 -->\n<g id=\"edge121\" class=\"edge\">\n<title>119&#45;&gt;121</title>\n<path fill=\"none\" stroke=\"#000000\" d=\"M7053.3717,-698.8796C7064.4324,-687.3337 7076.4418,-674.7976 7087.5094,-663.2446\"/>\n<polygon fill=\"#000000\" stroke=\"#000000\" points=\"7090.2365,-665.4573 7094.6269,-655.8149 7085.1817,-660.6149 7090.2365,-665.4573\"/>\n</g>\n<!-- 123 -->\n<g id=\"node124\" class=\"node\">\n<title>123</title>\n<path fill=\"#fbfefb\" stroke=\"#000000\" d=\"M7310,-893.5C7310,-893.5 7041,-893.5 7041,-893.5 7035,-893.5 7029,-887.5 7029,-881.5 7029,-881.5 7029,-837.5 7029,-837.5 7029,-831.5 7035,-825.5 7041,-825.5 7041,-825.5 7310,-825.5 7310,-825.5 7316,-825.5 7322,-831.5 7322,-837.5 7322,-837.5 7322,-881.5 7322,-881.5 7322,-887.5 7316,-893.5 7310,-893.5\"/>\n<text text-anchor=\"start\" x=\"7142\" y=\"-878.3\" font-family=\"Helvetica,sans-Serif\" font-size=\"14.00\" fill=\"#000000\">gini = 0.75</text>\n<text text-anchor=\"start\" x=\"7123.5\" y=\"-863.3\" font-family=\"Helvetica,sans-Serif\" font-size=\"14.00\" fill=\"#000000\">samples = 2837</text>\n<text text-anchor=\"start\" x=\"7037\" y=\"-848.3\" font-family=\"Helvetica,sans-Serif\" font-size=\"14.00\" fill=\"#000000\">value = [0, 677, 1449, 1384, 612, 172, 132]</text>\n<text text-anchor=\"start\" x=\"7125\" y=\"-833.3\" font-family=\"Helvetica,sans-Serif\" font-size=\"14.00\" fill=\"#000000\">class = clase_2</text>\n</g>\n<!-- 122&#45;&gt;123 -->\n<g id=\"edge123\" class=\"edge\">\n<title>122&#45;&gt;123</title>\n<path fill=\"none\" stroke=\"#000000\" d=\"M7182.0025,-936.8796C7181.1062,-926.2134 7180.1388,-914.7021 7179.2312,-903.9015\"/>\n<polygon fill=\"#000000\" stroke=\"#000000\" points=\"7182.7088,-903.4867 7178.3836,-893.8149 7175.7334,-904.0729 7182.7088,-903.4867\"/>\n</g>\n<!-- 124 -->\n<g id=\"node125\" class=\"node\">\n<title>124</title>\n<path fill=\"#eafcec\" stroke=\"#000000\" d=\"M7605,-901C7605,-901 7352,-901 7352,-901 7346,-901 7340,-895 7340,-889 7340,-889 7340,-830 7340,-830 7340,-824 7346,-818 7352,-818 7352,-818 7605,-818 7605,-818 7611,-818 7617,-824 7617,-830 7617,-830 7617,-889 7617,-889 7617,-895 7611,-901 7605,-901\"/>\n<text text-anchor=\"start\" x=\"7433\" y=\"-885.8\" font-family=\"Helvetica,sans-Serif\" font-size=\"14.00\" fill=\"#000000\">service ≤ 23.5</text>\n<text text-anchor=\"start\" x=\"7445\" y=\"-870.8\" font-family=\"Helvetica,sans-Serif\" font-size=\"14.00\" fill=\"#000000\">gini = 0.72</text>\n<text text-anchor=\"start\" x=\"7426.5\" y=\"-855.8\" font-family=\"Helvetica,sans-Serif\" font-size=\"14.00\" fill=\"#000000\">samples = 1955</text>\n<text text-anchor=\"start\" x=\"7348\" y=\"-840.8\" font-family=\"Helvetica,sans-Serif\" font-size=\"14.00\" fill=\"#000000\">value = [8, 418, 1195, 966, 336, 108, 54]</text>\n<text text-anchor=\"start\" x=\"7428\" y=\"-825.8\" font-family=\"Helvetica,sans-Serif\" font-size=\"14.00\" fill=\"#000000\">class = clase_2</text>\n</g>\n<!-- 122&#45;&gt;124 -->\n<g id=\"edge124\" class=\"edge\">\n<title>122&#45;&gt;124</title>\n<path fill=\"none\" stroke=\"#000000\" d=\"M7287.9772,-936.8796C7313.4039,-926.5527 7340.7811,-915.4336 7366.6321,-904.9344\"/>\n<polygon fill=\"#000000\" stroke=\"#000000\" points=\"7368.1327,-908.1027 7376.0807,-901.0969 7365.4986,-901.6172 7368.1327,-908.1027\"/>\n</g>\n<!-- 125 -->\n<g id=\"node126\" class=\"node\">\n<title>125</title>\n<path fill=\"#e9fceb\" stroke=\"#000000\" d=\"M7427,-774.5C7427,-774.5 7182,-774.5 7182,-774.5 7176,-774.5 7170,-768.5 7170,-762.5 7170,-762.5 7170,-718.5 7170,-718.5 7170,-712.5 7176,-706.5 7182,-706.5 7182,-706.5 7427,-706.5 7427,-706.5 7433,-706.5 7439,-712.5 7439,-718.5 7439,-718.5 7439,-762.5 7439,-762.5 7439,-768.5 7433,-774.5 7427,-774.5\"/>\n<text text-anchor=\"start\" x=\"7266.5\" y=\"-759.3\" font-family=\"Helvetica,sans-Serif\" font-size=\"14.00\" fill=\"#000000\">gini = 0.714</text>\n<text text-anchor=\"start\" x=\"7252.5\" y=\"-744.3\" font-family=\"Helvetica,sans-Serif\" font-size=\"14.00\" fill=\"#000000\">samples = 1837</text>\n<text text-anchor=\"start\" x=\"7178\" y=\"-729.3\" font-family=\"Helvetica,sans-Serif\" font-size=\"14.00\" fill=\"#000000\">value = [8, 402, 1135, 912, 306, 91, 32]</text>\n<text text-anchor=\"start\" x=\"7254\" y=\"-714.3\" font-family=\"Helvetica,sans-Serif\" font-size=\"14.00\" fill=\"#000000\">class = clase_2</text>\n</g>\n<!-- 124&#45;&gt;125 -->\n<g id=\"edge125\" class=\"edge\">\n<title>124&#45;&gt;125</title>\n<path fill=\"none\" stroke=\"#000000\" d=\"M7417.6432,-817.8796C7399.8729,-805.7263 7380.4983,-792.4759 7362.8847,-780.4297\"/>\n<polygon fill=\"#000000\" stroke=\"#000000\" points=\"7364.6243,-777.3792 7354.3942,-774.623 7360.6726,-783.1572 7364.6243,-777.3792\"/>\n</g>\n<!-- 126 -->\n<g id=\"node127\" class=\"node\">\n<title>126</title>\n<path fill=\"#f7fef8\" stroke=\"#000000\" d=\"M7672,-774.5C7672,-774.5 7469,-774.5 7469,-774.5 7463,-774.5 7457,-768.5 7457,-762.5 7457,-762.5 7457,-718.5 7457,-718.5 7457,-712.5 7463,-706.5 7469,-706.5 7469,-706.5 7672,-706.5 7672,-706.5 7678,-706.5 7684,-712.5 7684,-718.5 7684,-718.5 7684,-762.5 7684,-762.5 7684,-768.5 7678,-774.5 7672,-774.5\"/>\n<text text-anchor=\"start\" x=\"7532.5\" y=\"-759.3\" font-family=\"Helvetica,sans-Serif\" font-size=\"14.00\" fill=\"#000000\">gini = 0.787</text>\n<text text-anchor=\"start\" x=\"7522.5\" y=\"-744.3\" font-family=\"Helvetica,sans-Serif\" font-size=\"14.00\" fill=\"#000000\">samples = 118</text>\n<text text-anchor=\"start\" x=\"7465\" y=\"-729.3\" font-family=\"Helvetica,sans-Serif\" font-size=\"14.00\" fill=\"#000000\">value = [0, 16, 60, 54, 30, 17, 22]</text>\n<text text-anchor=\"start\" x=\"7520\" y=\"-714.3\" font-family=\"Helvetica,sans-Serif\" font-size=\"14.00\" fill=\"#000000\">class = clase_2</text>\n</g>\n<!-- 124&#45;&gt;126 -->\n<g id=\"edge126\" class=\"edge\">\n<title>124&#45;&gt;126</title>\n<path fill=\"none\" stroke=\"#000000\" d=\"M7510.6771,-817.8796C7519.4333,-806.5536 7528.9262,-794.2748 7537.7156,-782.9058\"/>\n<polygon fill=\"#000000\" stroke=\"#000000\" points=\"7540.6234,-784.8671 7543.9708,-774.8149 7535.0854,-780.5856 7540.6234,-784.8671\"/>\n</g>\n<!-- 128 -->\n<g id=\"node129\" class=\"node\">\n<title>128</title>\n<path fill=\"#eb63a0\" stroke=\"#000000\" d=\"M8410.5,-1377C8410.5,-1377 8108.5,-1377 8108.5,-1377 8102.5,-1377 8096.5,-1371 8096.5,-1365 8096.5,-1365 8096.5,-1306 8096.5,-1306 8096.5,-1300 8102.5,-1294 8108.5,-1294 8108.5,-1294 8410.5,-1294 8410.5,-1294 8416.5,-1294 8422.5,-1300 8422.5,-1306 8422.5,-1306 8422.5,-1365 8422.5,-1365 8422.5,-1371 8416.5,-1377 8410.5,-1377\"/>\n<text text-anchor=\"start\" x=\"8214\" y=\"-1361.8\" font-family=\"Helvetica,sans-Serif\" font-size=\"14.00\" fill=\"#000000\">service ≤ 10.5</text>\n<text text-anchor=\"start\" x=\"8221.5\" y=\"-1346.8\" font-family=\"Helvetica,sans-Serif\" font-size=\"14.00\" fill=\"#000000\">gini = 0.341</text>\n<text text-anchor=\"start\" x=\"8203.5\" y=\"-1331.8\" font-family=\"Helvetica,sans-Serif\" font-size=\"14.00\" fill=\"#000000\">samples = 53185</text>\n<text text-anchor=\"start\" x=\"8104.5\" y=\"-1316.8\" font-family=\"Helvetica,sans-Serif\" font-size=\"14.00\" fill=\"#000000\">value = [0, 141, 1054, 2914, 5427, 6965, 67864]</text>\n<text text-anchor=\"start\" x=\"8209\" y=\"-1301.8\" font-family=\"Helvetica,sans-Serif\" font-size=\"14.00\" fill=\"#000000\">class = clase_6</text>\n</g>\n<!-- 127&#45;&gt;128 -->\n<g id=\"edge128\" class=\"edge\">\n<title>127&#45;&gt;128</title>\n<path fill=\"none\" stroke=\"#000000\" d=\"M8259.5,-1412.8796C8259.5,-1404.6838 8259.5,-1395.9891 8259.5,-1387.5013\"/>\n<polygon fill=\"#000000\" stroke=\"#000000\" points=\"8263.0001,-1387.298 8259.5,-1377.2981 8256.0001,-1387.2981 8263.0001,-1387.298\"/>\n</g>\n<!-- 163 -->\n<g id=\"node164\" class=\"node\">\n<title>163</title>\n<path fill=\"#feffff\" stroke=\"#000000\" d=\"M12724,-1377C12724,-1377 12389,-1377 12389,-1377 12383,-1377 12377,-1371 12377,-1365 12377,-1365 12377,-1306 12377,-1306 12377,-1300 12383,-1294 12389,-1294 12389,-1294 12724,-1294 12724,-1294 12730,-1294 12736,-1300 12736,-1306 12736,-1306 12736,-1365 12736,-1365 12736,-1371 12730,-1377 12724,-1377\"/>\n<text text-anchor=\"start\" x=\"12493\" y=\"-1361.8\" font-family=\"Helvetica,sans-Serif\" font-size=\"14.00\" fill=\"#000000\">receiver_state ≤ 5.0</text>\n<text text-anchor=\"start\" x=\"12518.5\" y=\"-1346.8\" font-family=\"Helvetica,sans-Serif\" font-size=\"14.00\" fill=\"#000000\">gini = 0.829</text>\n<text text-anchor=\"start\" x=\"12500.5\" y=\"-1331.8\" font-family=\"Helvetica,sans-Serif\" font-size=\"14.00\" fill=\"#000000\">samples = 31402</text>\n<text text-anchor=\"start\" x=\"12385\" y=\"-1316.8\" font-family=\"Helvetica,sans-Serif\" font-size=\"14.00\" fill=\"#000000\">value = [516, 6748, 10122, 10267, 7654, 5225, 9051]</text>\n<text text-anchor=\"start\" x=\"12506\" y=\"-1301.8\" font-family=\"Helvetica,sans-Serif\" font-size=\"14.00\" fill=\"#000000\">class = clase_3</text>\n</g>\n<!-- 127&#45;&gt;163 -->\n<g id=\"edge163\" class=\"edge\">\n<title>127&#45;&gt;163</title>\n<path fill=\"none\" stroke=\"#000000\" d=\"M8451.7793,-1449.1751C9165.4286,-1429.4114 11657.5814,-1360.3944 12366.8476,-1340.7522\"/>\n<polygon fill=\"#000000\" stroke=\"#000000\" points=\"12367.0039,-1344.2493 12376.9032,-1340.4737 12366.8101,-1337.252 12367.0039,-1344.2493\"/>\n</g>\n<!-- 129 -->\n<g id=\"node130\" class=\"node\">\n<title>129</title>\n<path fill=\"#ed76ab\" stroke=\"#000000\" d=\"M8238.5,-1258C8238.5,-1258 7952.5,-1258 7952.5,-1258 7946.5,-1258 7940.5,-1252 7940.5,-1246 7940.5,-1246 7940.5,-1187 7940.5,-1187 7940.5,-1181 7946.5,-1175 7952.5,-1175 7952.5,-1175 8238.5,-1175 8238.5,-1175 8244.5,-1175 8250.5,-1181 8250.5,-1187 8250.5,-1187 8250.5,-1246 8250.5,-1246 8250.5,-1252 8244.5,-1258 8238.5,-1258\"/>\n<text text-anchor=\"start\" x=\"8054.5\" y=\"-1242.8\" font-family=\"Helvetica,sans-Serif\" font-size=\"14.00\" fill=\"#000000\">service ≤ 9.5</text>\n<text text-anchor=\"start\" x=\"8057.5\" y=\"-1227.8\" font-family=\"Helvetica,sans-Serif\" font-size=\"14.00\" fill=\"#000000\">gini = 0.449</text>\n<text text-anchor=\"start\" x=\"8039.5\" y=\"-1212.8\" font-family=\"Helvetica,sans-Serif\" font-size=\"14.00\" fill=\"#000000\">samples = 19469</text>\n<text text-anchor=\"start\" x=\"7948.5\" y=\"-1197.8\" font-family=\"Helvetica,sans-Serif\" font-size=\"14.00\" fill=\"#000000\">value = [0, 80, 499, 1453, 2976, 3487, 22493]</text>\n<text text-anchor=\"start\" x=\"8045\" y=\"-1182.8\" font-family=\"Helvetica,sans-Serif\" font-size=\"14.00\" fill=\"#000000\">class = clase_6</text>\n</g>\n<!-- 128&#45;&gt;129 -->\n<g id=\"edge129\" class=\"edge\">\n<title>128&#45;&gt;129</title>\n<path fill=\"none\" stroke=\"#000000\" d=\"M8202.1408,-1293.8796C8188.9075,-1284.2774 8174.7303,-1273.9903 8161.1736,-1264.1534\"/>\n<polygon fill=\"#000000\" stroke=\"#000000\" points=\"8162.9762,-1261.1371 8152.8269,-1258.0969 8158.8651,-1266.8027 8162.9762,-1261.1371\"/>\n</g>\n<!-- 136 -->\n<g id=\"node137\" class=\"node\">\n<title>136</title>\n<path fill=\"#e95999\" stroke=\"#000000\" d=\"M8566.5,-1258C8566.5,-1258 8280.5,-1258 8280.5,-1258 8274.5,-1258 8268.5,-1252 8268.5,-1246 8268.5,-1246 8268.5,-1187 8268.5,-1187 8268.5,-1181 8274.5,-1175 8280.5,-1175 8280.5,-1175 8566.5,-1175 8566.5,-1175 8572.5,-1175 8578.5,-1181 8578.5,-1187 8578.5,-1187 8578.5,-1246 8578.5,-1246 8578.5,-1252 8572.5,-1258 8566.5,-1258\"/>\n<text text-anchor=\"start\" x=\"8378\" y=\"-1242.8\" font-family=\"Helvetica,sans-Serif\" font-size=\"14.00\" fill=\"#000000\">service ≤ 16.5</text>\n<text text-anchor=\"start\" x=\"8390\" y=\"-1227.8\" font-family=\"Helvetica,sans-Serif\" font-size=\"14.00\" fill=\"#000000\">gini = 0.27</text>\n<text text-anchor=\"start\" x=\"8367.5\" y=\"-1212.8\" font-family=\"Helvetica,sans-Serif\" font-size=\"14.00\" fill=\"#000000\">samples = 33716</text>\n<text text-anchor=\"start\" x=\"8276.5\" y=\"-1197.8\" font-family=\"Helvetica,sans-Serif\" font-size=\"14.00\" fill=\"#000000\">value = [0, 61, 555, 1461, 2451, 3478, 45371]</text>\n<text text-anchor=\"start\" x=\"8373\" y=\"-1182.8\" font-family=\"Helvetica,sans-Serif\" font-size=\"14.00\" fill=\"#000000\">class = clase_6</text>\n</g>\n<!-- 128&#45;&gt;136 -->\n<g id=\"edge136\" class=\"edge\">\n<title>128&#45;&gt;136</title>\n<path fill=\"none\" stroke=\"#000000\" d=\"M8316.8592,-1293.8796C8330.0925,-1284.2774 8344.2697,-1273.9903 8357.8264,-1264.1534\"/>\n<polygon fill=\"#000000\" stroke=\"#000000\" points=\"8360.1349,-1266.8027 8366.1731,-1258.0969 8356.0238,-1261.1371 8360.1349,-1266.8027\"/>\n</g>\n<!-- 130 -->\n<g id=\"node131\" class=\"node\">\n<title>130</title>\n<path fill=\"#e95a9a\" stroke=\"#000000\" d=\"M7915.5,-1139C7915.5,-1139 7679.5,-1139 7679.5,-1139 7673.5,-1139 7667.5,-1133 7667.5,-1127 7667.5,-1127 7667.5,-1068 7667.5,-1068 7667.5,-1062 7673.5,-1056 7679.5,-1056 7679.5,-1056 7915.5,-1056 7915.5,-1056 7921.5,-1056 7927.5,-1062 7927.5,-1068 7927.5,-1068 7927.5,-1127 7927.5,-1127 7927.5,-1133 7921.5,-1139 7915.5,-1139\"/>\n<text text-anchor=\"start\" x=\"7756.5\" y=\"-1123.8\" font-family=\"Helvetica,sans-Serif\" font-size=\"14.00\" fill=\"#000000\">service ≤ 7.5</text>\n<text text-anchor=\"start\" x=\"7759.5\" y=\"-1108.8\" font-family=\"Helvetica,sans-Serif\" font-size=\"14.00\" fill=\"#000000\">gini = 0.277</text>\n<text text-anchor=\"start\" x=\"7745.5\" y=\"-1093.8\" font-family=\"Helvetica,sans-Serif\" font-size=\"14.00\" fill=\"#000000\">samples = 6149</text>\n<text text-anchor=\"start\" x=\"7675.5\" y=\"-1078.8\" font-family=\"Helvetica,sans-Serif\" font-size=\"14.00\" fill=\"#000000\">value = [0, 7, 61, 168, 533, 745, 8265]</text>\n<text text-anchor=\"start\" x=\"7747\" y=\"-1063.8\" font-family=\"Helvetica,sans-Serif\" font-size=\"14.00\" fill=\"#000000\">class = clase_6</text>\n</g>\n<!-- 129&#45;&gt;130 -->\n<g id=\"edge130\" class=\"edge\">\n<title>129&#45;&gt;130</title>\n<path fill=\"none\" stroke=\"#000000\" d=\"M7991.2741,-1174.8796C7965.4134,-1164.5527 7937.5691,-1153.4336 7911.2769,-1142.9344\"/>\n<polygon fill=\"#000000\" stroke=\"#000000\" points=\"7912.252,-1139.5551 7901.6671,-1139.0969 7909.656,-1146.0559 7912.252,-1139.5551\"/>\n</g>\n<!-- 135 -->\n<g id=\"node136\" class=\"node\">\n<title>135</title>\n<path fill=\"#ef84b4\" stroke=\"#000000\" d=\"M8243.5,-1131.5C8243.5,-1131.5 7957.5,-1131.5 7957.5,-1131.5 7951.5,-1131.5 7945.5,-1125.5 7945.5,-1119.5 7945.5,-1119.5 7945.5,-1075.5 7945.5,-1075.5 7945.5,-1069.5 7951.5,-1063.5 7957.5,-1063.5 7957.5,-1063.5 8243.5,-1063.5 8243.5,-1063.5 8249.5,-1063.5 8255.5,-1069.5 8255.5,-1075.5 8255.5,-1075.5 8255.5,-1119.5 8255.5,-1119.5 8255.5,-1125.5 8249.5,-1131.5 8243.5,-1131.5\"/>\n<text text-anchor=\"start\" x=\"8062.5\" y=\"-1116.3\" font-family=\"Helvetica,sans-Serif\" font-size=\"14.00\" fill=\"#000000\">gini = 0.516</text>\n<text text-anchor=\"start\" x=\"8044.5\" y=\"-1101.3\" font-family=\"Helvetica,sans-Serif\" font-size=\"14.00\" fill=\"#000000\">samples = 13320</text>\n<text text-anchor=\"start\" x=\"7953.5\" y=\"-1086.3\" font-family=\"Helvetica,sans-Serif\" font-size=\"14.00\" fill=\"#000000\">value = [0, 73, 438, 1285, 2443, 2742, 14228]</text>\n<text text-anchor=\"start\" x=\"8050\" y=\"-1071.3\" font-family=\"Helvetica,sans-Serif\" font-size=\"14.00\" fill=\"#000000\">class = clase_6</text>\n</g>\n<!-- 129&#45;&gt;135 -->\n<g id=\"edge135\" class=\"edge\">\n<title>129&#45;&gt;135</title>\n<path fill=\"none\" stroke=\"#000000\" d=\"M8097.2488,-1174.8796C8097.6969,-1164.2134 8098.1806,-1152.7021 8098.6344,-1141.9015\"/>\n<polygon fill=\"#000000\" stroke=\"#000000\" points=\"8102.1352,-1141.9531 8099.0582,-1131.8149 8095.1414,-1141.6592 8102.1352,-1141.9531\"/>\n</g>\n<!-- 131 -->\n<g id=\"node132\" class=\"node\">\n<title>131</title>\n<path fill=\"#ed75ab\" stroke=\"#000000\" d=\"M7681.5,-1012.5C7681.5,-1012.5 7453.5,-1012.5 7453.5,-1012.5 7447.5,-1012.5 7441.5,-1006.5 7441.5,-1000.5 7441.5,-1000.5 7441.5,-956.5 7441.5,-956.5 7441.5,-950.5 7447.5,-944.5 7453.5,-944.5 7453.5,-944.5 7681.5,-944.5 7681.5,-944.5 7687.5,-944.5 7693.5,-950.5 7693.5,-956.5 7693.5,-956.5 7693.5,-1000.5 7693.5,-1000.5 7693.5,-1006.5 7687.5,-1012.5 7681.5,-1012.5\"/>\n<text text-anchor=\"start\" x=\"7529.5\" y=\"-997.3\" font-family=\"Helvetica,sans-Serif\" font-size=\"14.00\" fill=\"#000000\">gini = 0.434</text>\n<text text-anchor=\"start\" x=\"7515.5\" y=\"-982.3\" font-family=\"Helvetica,sans-Serif\" font-size=\"14.00\" fill=\"#000000\">samples = 2144</text>\n<text text-anchor=\"start\" x=\"7449.5\" y=\"-967.3\" font-family=\"Helvetica,sans-Serif\" font-size=\"14.00\" fill=\"#000000\">value = [0, 1, 32, 99, 338, 431, 2490]</text>\n<text text-anchor=\"start\" x=\"7517\" y=\"-952.3\" font-family=\"Helvetica,sans-Serif\" font-size=\"14.00\" fill=\"#000000\">class = clase_6</text>\n</g>\n<!-- 130&#45;&gt;131 -->\n<g id=\"edge131\" class=\"edge\">\n<title>130&#45;&gt;131</title>\n<path fill=\"none\" stroke=\"#000000\" d=\"M7717.0572,-1055.8796C7692.8202,-1043.3396 7666.3257,-1029.6315 7642.4599,-1017.2836\"/>\n<polygon fill=\"#000000\" stroke=\"#000000\" points=\"7643.9421,-1014.1098 7633.4521,-1012.623 7640.7254,-1020.3269 7643.9421,-1014.1098\"/>\n</g>\n<!-- 132 -->\n<g id=\"node133\" class=\"node\">\n<title>132</title>\n<path fill=\"#e84d92\" stroke=\"#000000\" d=\"M7951.5,-1020C7951.5,-1020 7723.5,-1020 7723.5,-1020 7717.5,-1020 7711.5,-1014 7711.5,-1008 7711.5,-1008 7711.5,-949 7711.5,-949 7711.5,-943 7717.5,-937 7723.5,-937 7723.5,-937 7951.5,-937 7951.5,-937 7957.5,-937 7963.5,-943 7963.5,-949 7963.5,-949 7963.5,-1008 7963.5,-1008 7963.5,-1014 7957.5,-1020 7951.5,-1020\"/>\n<text text-anchor=\"start\" x=\"7796.5\" y=\"-1004.8\" font-family=\"Helvetica,sans-Serif\" font-size=\"14.00\" fill=\"#000000\">service ≤ 8.5</text>\n<text text-anchor=\"start\" x=\"7799.5\" y=\"-989.8\" font-family=\"Helvetica,sans-Serif\" font-size=\"14.00\" fill=\"#000000\">gini = 0.179</text>\n<text text-anchor=\"start\" x=\"7785.5\" y=\"-974.8\" font-family=\"Helvetica,sans-Serif\" font-size=\"14.00\" fill=\"#000000\">samples = 4005</text>\n<text text-anchor=\"start\" x=\"7719.5\" y=\"-959.8\" font-family=\"Helvetica,sans-Serif\" font-size=\"14.00\" fill=\"#000000\">value = [0, 6, 29, 69, 195, 314, 5775]</text>\n<text text-anchor=\"start\" x=\"7787\" y=\"-944.8\" font-family=\"Helvetica,sans-Serif\" font-size=\"14.00\" fill=\"#000000\">class = clase_6</text>\n</g>\n<!-- 130&#45;&gt;132 -->\n<g id=\"edge132\" class=\"edge\">\n<title>130&#45;&gt;132</title>\n<path fill=\"none\" stroke=\"#000000\" d=\"M7811.4901,-1055.8796C7814.3055,-1047.5037 7817.2961,-1038.6067 7820.2086,-1029.942\"/>\n<polygon fill=\"#000000\" stroke=\"#000000\" points=\"7823.5816,-1030.8921 7823.4502,-1020.2981 7816.9464,-1028.6617 7823.5816,-1030.8921\"/>\n</g>\n<!-- 133 -->\n<g id=\"node134\" class=\"node\">\n<title>133</title>\n<path fill=\"#e85094\" stroke=\"#000000\" d=\"M7875.5,-893.5C7875.5,-893.5 7647.5,-893.5 7647.5,-893.5 7641.5,-893.5 7635.5,-887.5 7635.5,-881.5 7635.5,-881.5 7635.5,-837.5 7635.5,-837.5 7635.5,-831.5 7641.5,-825.5 7647.5,-825.5 7647.5,-825.5 7875.5,-825.5 7875.5,-825.5 7881.5,-825.5 7887.5,-831.5 7887.5,-837.5 7887.5,-837.5 7887.5,-881.5 7887.5,-881.5 7887.5,-887.5 7881.5,-893.5 7875.5,-893.5\"/>\n<text text-anchor=\"start\" x=\"7723.5\" y=\"-878.3\" font-family=\"Helvetica,sans-Serif\" font-size=\"14.00\" fill=\"#000000\">gini = 0.204</text>\n<text text-anchor=\"start\" x=\"7709.5\" y=\"-863.3\" font-family=\"Helvetica,sans-Serif\" font-size=\"14.00\" fill=\"#000000\">samples = 2940</text>\n<text text-anchor=\"start\" x=\"7643.5\" y=\"-848.3\" font-family=\"Helvetica,sans-Serif\" font-size=\"14.00\" fill=\"#000000\">value = [0, 5, 24, 50, 164, 275, 4181]</text>\n<text text-anchor=\"start\" x=\"7711\" y=\"-833.3\" font-family=\"Helvetica,sans-Serif\" font-size=\"14.00\" fill=\"#000000\">class = clase_6</text>\n</g>\n<!-- 132&#45;&gt;133 -->\n<g id=\"edge133\" class=\"edge\">\n<title>132&#45;&gt;133</title>\n<path fill=\"none\" stroke=\"#000000\" d=\"M7810.9189,-936.8796C7803.826,-925.7735 7796.1479,-913.7513 7789.0063,-902.5691\"/>\n<polygon fill=\"#000000\" stroke=\"#000000\" points=\"7791.7477,-900.3589 7783.4154,-893.8149 7785.8482,-904.1267 7791.7477,-900.3589\"/>\n</g>\n<!-- 134 -->\n<g id=\"node135\" class=\"node\">\n<title>134</title>\n<path fill=\"#e6448d\" stroke=\"#000000\" d=\"M8121,-893.5C8121,-893.5 7918,-893.5 7918,-893.5 7912,-893.5 7906,-887.5 7906,-881.5 7906,-881.5 7906,-837.5 7906,-837.5 7906,-831.5 7912,-825.5 7918,-825.5 7918,-825.5 8121,-825.5 8121,-825.5 8127,-825.5 8133,-831.5 8133,-837.5 8133,-837.5 8133,-881.5 8133,-881.5 8133,-887.5 8127,-893.5 8121,-893.5\"/>\n<text text-anchor=\"start\" x=\"7981.5\" y=\"-878.3\" font-family=\"Helvetica,sans-Serif\" font-size=\"14.00\" fill=\"#000000\">gini = 0.108</text>\n<text text-anchor=\"start\" x=\"7967.5\" y=\"-863.3\" font-family=\"Helvetica,sans-Serif\" font-size=\"14.00\" fill=\"#000000\">samples = 1065</text>\n<text text-anchor=\"start\" x=\"7914\" y=\"-848.3\" font-family=\"Helvetica,sans-Serif\" font-size=\"14.00\" fill=\"#000000\">value = [0, 1, 5, 19, 31, 39, 1594]</text>\n<text text-anchor=\"start\" x=\"7969\" y=\"-833.3\" font-family=\"Helvetica,sans-Serif\" font-size=\"14.00\" fill=\"#000000\">class = clase_6</text>\n</g>\n<!-- 132&#45;&gt;134 -->\n<g id=\"edge134\" class=\"edge\">\n<title>132&#45;&gt;134</title>\n<path fill=\"none\" stroke=\"#000000\" d=\"M7901.1548,-936.8796C7919.9111,-924.6158 7940.3761,-911.2348 7958.933,-899.1015\"/>\n<polygon fill=\"#000000\" stroke=\"#000000\" points=\"7960.8575,-902.025 7967.3118,-893.623 7957.0267,-896.1662 7960.8575,-902.025\"/>\n</g>\n<!-- 137 -->\n<g id=\"node138\" class=\"node\">\n<title>137</title>\n<path fill=\"#e74990\" stroke=\"#000000\" d=\"M8541,-1139C8541,-1139 8296,-1139 8296,-1139 8290,-1139 8284,-1133 8284,-1127 8284,-1127 8284,-1068 8284,-1068 8284,-1062 8290,-1056 8296,-1056 8296,-1056 8541,-1056 8541,-1056 8547,-1056 8553,-1062 8553,-1068 8553,-1068 8553,-1127 8553,-1127 8553,-1133 8547,-1139 8541,-1139\"/>\n<text text-anchor=\"start\" x=\"8373\" y=\"-1123.8\" font-family=\"Helvetica,sans-Serif\" font-size=\"14.00\" fill=\"#000000\">service ≤ 11.5</text>\n<text text-anchor=\"start\" x=\"8380.5\" y=\"-1108.8\" font-family=\"Helvetica,sans-Serif\" font-size=\"14.00\" fill=\"#000000\">gini = 0.148</text>\n<text text-anchor=\"start\" x=\"8366.5\" y=\"-1093.8\" font-family=\"Helvetica,sans-Serif\" font-size=\"14.00\" fill=\"#000000\">samples = 9625</text>\n<text text-anchor=\"start\" x=\"8292\" y=\"-1078.8\" font-family=\"Helvetica,sans-Serif\" font-size=\"14.00\" fill=\"#000000\">value = [0, 6, 77, 192, 304, 612, 14032]</text>\n<text text-anchor=\"start\" x=\"8368\" y=\"-1063.8\" font-family=\"Helvetica,sans-Serif\" font-size=\"14.00\" fill=\"#000000\">class = clase_6</text>\n</g>\n<!-- 136&#45;&gt;137 -->\n<g id=\"edge137\" class=\"edge\">\n<title>136&#45;&gt;137</title>\n<path fill=\"none\" stroke=\"#000000\" d=\"M8421.7512,-1174.8796C8421.4069,-1166.6838 8421.0416,-1157.9891 8420.6849,-1149.5013\"/>\n<polygon fill=\"#000000\" stroke=\"#000000\" points=\"8424.173,-1149.1423 8420.2562,-1139.2981 8417.1792,-1149.4362 8424.173,-1149.1423\"/>\n</g>\n<!-- 148 -->\n<g id=\"node149\" class=\"node\">\n<title>148</title>\n<path fill=\"#ea5f9d\" stroke=\"#000000\" d=\"M8869.5,-1139C8869.5,-1139 8583.5,-1139 8583.5,-1139 8577.5,-1139 8571.5,-1133 8571.5,-1127 8571.5,-1127 8571.5,-1068 8571.5,-1068 8571.5,-1062 8577.5,-1056 8583.5,-1056 8583.5,-1056 8869.5,-1056 8869.5,-1056 8875.5,-1056 8881.5,-1062 8881.5,-1068 8881.5,-1068 8881.5,-1127 8881.5,-1127 8881.5,-1133 8875.5,-1139 8869.5,-1139\"/>\n<text text-anchor=\"start\" x=\"8681\" y=\"-1123.8\" font-family=\"Helvetica,sans-Serif\" font-size=\"14.00\" fill=\"#000000\">service ≤ 17.5</text>\n<text text-anchor=\"start\" x=\"8688.5\" y=\"-1108.8\" font-family=\"Helvetica,sans-Serif\" font-size=\"14.00\" fill=\"#000000\">gini = 0.315</text>\n<text text-anchor=\"start\" x=\"8670.5\" y=\"-1093.8\" font-family=\"Helvetica,sans-Serif\" font-size=\"14.00\" fill=\"#000000\">samples = 24091</text>\n<text text-anchor=\"start\" x=\"8579.5\" y=\"-1078.8\" font-family=\"Helvetica,sans-Serif\" font-size=\"14.00\" fill=\"#000000\">value = [0, 55, 478, 1269, 2147, 2866, 31339]</text>\n<text text-anchor=\"start\" x=\"8676\" y=\"-1063.8\" font-family=\"Helvetica,sans-Serif\" font-size=\"14.00\" fill=\"#000000\">class = clase_6</text>\n</g>\n<!-- 136&#45;&gt;148 -->\n<g id=\"edge148\" class=\"edge\">\n<title>136&#45;&gt;148</title>\n<path fill=\"none\" stroke=\"#000000\" d=\"M8529.4747,-1174.8796C8555.8846,-1164.5074 8584.3292,-1153.3361 8611.1658,-1142.7963\"/>\n<polygon fill=\"#000000\" stroke=\"#000000\" points=\"8612.5567,-1146.0103 8620.5851,-1139.0969 8609.9978,-1139.4948 8612.5567,-1146.0103\"/>\n</g>\n<!-- 138 -->\n<g id=\"node139\" class=\"node\">\n<title>138</title>\n<path fill=\"#e95698\" stroke=\"#000000\" d=\"M8256.5,-1012.5C8256.5,-1012.5 8036.5,-1012.5 8036.5,-1012.5 8030.5,-1012.5 8024.5,-1006.5 8024.5,-1000.5 8024.5,-1000.5 8024.5,-956.5 8024.5,-956.5 8024.5,-950.5 8030.5,-944.5 8036.5,-944.5 8036.5,-944.5 8256.5,-944.5 8256.5,-944.5 8262.5,-944.5 8268.5,-950.5 8268.5,-956.5 8268.5,-956.5 8268.5,-1000.5 8268.5,-1000.5 8268.5,-1006.5 8262.5,-1012.5 8256.5,-1012.5\"/>\n<text text-anchor=\"start\" x=\"8108.5\" y=\"-997.3\" font-family=\"Helvetica,sans-Serif\" font-size=\"14.00\" fill=\"#000000\">gini = 0.244</text>\n<text text-anchor=\"start\" x=\"8094.5\" y=\"-982.3\" font-family=\"Helvetica,sans-Serif\" font-size=\"14.00\" fill=\"#000000\">samples = 1499</text>\n<text text-anchor=\"start\" x=\"8032.5\" y=\"-967.3\" font-family=\"Helvetica,sans-Serif\" font-size=\"14.00\" fill=\"#000000\">value = [0, 1, 12, 27, 95, 182, 2030]</text>\n<text text-anchor=\"start\" x=\"8096\" y=\"-952.3\" font-family=\"Helvetica,sans-Serif\" font-size=\"14.00\" fill=\"#000000\">class = clase_6</text>\n</g>\n<!-- 137&#45;&gt;138 -->\n<g id=\"edge138\" class=\"edge\">\n<title>137&#45;&gt;138</title>\n<path fill=\"none\" stroke=\"#000000\" d=\"M8323.3676,-1055.8796C8294.1997,-1043.1186 8262.267,-1029.1481 8233.6592,-1016.6322\"/>\n<polygon fill=\"#000000\" stroke=\"#000000\" points=\"8235.06,-1013.4247 8224.4955,-1012.623 8232.2542,-1019.8378 8235.06,-1013.4247\"/>\n</g>\n<!-- 139 -->\n<g id=\"node140\" class=\"node\">\n<title>139</title>\n<path fill=\"#e7478e\" stroke=\"#000000\" d=\"M8544,-1020C8544,-1020 8299,-1020 8299,-1020 8293,-1020 8287,-1014 8287,-1008 8287,-1008 8287,-949 8287,-949 8287,-943 8293,-937 8299,-937 8299,-937 8544,-937 8544,-937 8550,-937 8556,-943 8556,-949 8556,-949 8556,-1008 8556,-1008 8556,-1014 8550,-1020 8544,-1020\"/>\n<text text-anchor=\"start\" x=\"8376\" y=\"-1004.8\" font-family=\"Helvetica,sans-Serif\" font-size=\"14.00\" fill=\"#000000\">service ≤ 13.5</text>\n<text text-anchor=\"start\" x=\"8388\" y=\"-989.8\" font-family=\"Helvetica,sans-Serif\" font-size=\"14.00\" fill=\"#000000\">gini = 0.13</text>\n<text text-anchor=\"start\" x=\"8369.5\" y=\"-974.8\" font-family=\"Helvetica,sans-Serif\" font-size=\"14.00\" fill=\"#000000\">samples = 8126</text>\n<text text-anchor=\"start\" x=\"8295\" y=\"-959.8\" font-family=\"Helvetica,sans-Serif\" font-size=\"14.00\" fill=\"#000000\">value = [0, 5, 65, 165, 209, 430, 12002]</text>\n<text text-anchor=\"start\" x=\"8371\" y=\"-944.8\" font-family=\"Helvetica,sans-Serif\" font-size=\"14.00\" fill=\"#000000\">class = clase_6</text>\n</g>\n<!-- 137&#45;&gt;139 -->\n<g id=\"edge139\" class=\"edge\">\n<title>137&#45;&gt;139</title>\n<path fill=\"none\" stroke=\"#000000\" d=\"M8419.5493,-1055.8796C8419.7559,-1047.6838 8419.9751,-1038.9891 8420.189,-1030.5013\"/>\n<polygon fill=\"#000000\" stroke=\"#000000\" points=\"8423.693,-1030.3831 8420.4463,-1020.2981 8416.6953,-1030.2067 8423.693,-1030.3831\"/>\n</g>\n<!-- 140 -->\n<g id=\"node141\" class=\"node\">\n<title>140</title>\n<path fill=\"#e6418b\" stroke=\"#000000\" d=\"M8375.5,-901C8375.5,-901 8163.5,-901 8163.5,-901 8157.5,-901 8151.5,-895 8151.5,-889 8151.5,-889 8151.5,-830 8151.5,-830 8151.5,-824 8157.5,-818 8163.5,-818 8163.5,-818 8375.5,-818 8375.5,-818 8381.5,-818 8387.5,-824 8387.5,-830 8387.5,-830 8387.5,-889 8387.5,-889 8387.5,-895 8381.5,-901 8375.5,-901\"/>\n<text text-anchor=\"start\" x=\"8224\" y=\"-885.8\" font-family=\"Helvetica,sans-Serif\" font-size=\"14.00\" fill=\"#000000\">service ≤ 12.5</text>\n<text text-anchor=\"start\" x=\"8231.5\" y=\"-870.8\" font-family=\"Helvetica,sans-Serif\" font-size=\"14.00\" fill=\"#000000\">gini = 0.082</text>\n<text text-anchor=\"start\" x=\"8217.5\" y=\"-855.8\" font-family=\"Helvetica,sans-Serif\" font-size=\"14.00\" fill=\"#000000\">samples = 3370</text>\n<text text-anchor=\"start\" x=\"8159.5\" y=\"-840.8\" font-family=\"Helvetica,sans-Serif\" font-size=\"14.00\" fill=\"#000000\">value = [0, 0, 18, 60, 58, 90, 5132]</text>\n<text text-anchor=\"start\" x=\"8219\" y=\"-825.8\" font-family=\"Helvetica,sans-Serif\" font-size=\"14.00\" fill=\"#000000\">class = clase_6</text>\n</g>\n<!-- 139&#45;&gt;140 -->\n<g id=\"edge140\" class=\"edge\">\n<title>139&#45;&gt;140</title>\n<path fill=\"none\" stroke=\"#000000\" d=\"M8368.3378,-936.8796C8356.1885,-927.368 8343.1808,-917.1843 8330.724,-907.432\"/>\n<polygon fill=\"#000000\" stroke=\"#000000\" points=\"8332.6638,-904.5055 8322.6322,-901.0969 8328.3486,-910.0173 8332.6638,-904.5055\"/>\n</g>\n<!-- 143 -->\n<g id=\"node144\" class=\"node\">\n<title>143</title>\n<path fill=\"#e74b91\" stroke=\"#000000\" d=\"M8653.5,-901C8653.5,-901 8417.5,-901 8417.5,-901 8411.5,-901 8405.5,-895 8405.5,-889 8405.5,-889 8405.5,-830 8405.5,-830 8405.5,-824 8411.5,-818 8417.5,-818 8417.5,-818 8653.5,-818 8653.5,-818 8659.5,-818 8665.5,-824 8665.5,-830 8665.5,-830 8665.5,-889 8665.5,-889 8665.5,-895 8659.5,-901 8653.5,-901\"/>\n<text text-anchor=\"start\" x=\"8490\" y=\"-885.8\" font-family=\"Helvetica,sans-Serif\" font-size=\"14.00\" fill=\"#000000\">service ≤ 15.5</text>\n<text text-anchor=\"start\" x=\"8497.5\" y=\"-870.8\" font-family=\"Helvetica,sans-Serif\" font-size=\"14.00\" fill=\"#000000\">gini = 0.162</text>\n<text text-anchor=\"start\" x=\"8483.5\" y=\"-855.8\" font-family=\"Helvetica,sans-Serif\" font-size=\"14.00\" fill=\"#000000\">samples = 4756</text>\n<text text-anchor=\"start\" x=\"8413.5\" y=\"-840.8\" font-family=\"Helvetica,sans-Serif\" font-size=\"14.00\" fill=\"#000000\">value = [0, 5, 47, 105, 151, 340, 6870]</text>\n<text text-anchor=\"start\" x=\"8485\" y=\"-825.8\" font-family=\"Helvetica,sans-Serif\" font-size=\"14.00\" fill=\"#000000\">class = clase_6</text>\n</g>\n<!-- 139&#45;&gt;143 -->\n<g id=\"edge143\" class=\"edge\">\n<title>139&#45;&gt;143</title>\n<path fill=\"none\" stroke=\"#000000\" d=\"M8461.3717,-936.8796C8470.0858,-927.7832 8479.3888,-918.0722 8488.3562,-908.7116\"/>\n<polygon fill=\"#000000\" stroke=\"#000000\" points=\"8491.0678,-910.9405 8495.4581,-901.2981 8486.013,-906.098 8491.0678,-910.9405\"/>\n</g>\n<!-- 141 -->\n<g id=\"node142\" class=\"node\">\n<title>141</title>\n<path fill=\"#e6428b\" stroke=\"#000000\" d=\"M8065,-774.5C8065,-774.5 7862,-774.5 7862,-774.5 7856,-774.5 7850,-768.5 7850,-762.5 7850,-762.5 7850,-718.5 7850,-718.5 7850,-712.5 7856,-706.5 7862,-706.5 7862,-706.5 8065,-706.5 8065,-706.5 8071,-706.5 8077,-712.5 8077,-718.5 8077,-718.5 8077,-762.5 8077,-762.5 8077,-768.5 8071,-774.5 8065,-774.5\"/>\n<text text-anchor=\"start\" x=\"7925.5\" y=\"-759.3\" font-family=\"Helvetica,sans-Serif\" font-size=\"14.00\" fill=\"#000000\">gini = 0.083</text>\n<text text-anchor=\"start\" x=\"7911.5\" y=\"-744.3\" font-family=\"Helvetica,sans-Serif\" font-size=\"14.00\" fill=\"#000000\">samples = 1665</text>\n<text text-anchor=\"start\" x=\"7858\" y=\"-729.3\" font-family=\"Helvetica,sans-Serif\" font-size=\"14.00\" fill=\"#000000\">value = [0, 0, 6, 26, 31, 49, 2507]</text>\n<text text-anchor=\"start\" x=\"7913\" y=\"-714.3\" font-family=\"Helvetica,sans-Serif\" font-size=\"14.00\" fill=\"#000000\">class = clase_6</text>\n</g>\n<!-- 140&#45;&gt;141 -->\n<g id=\"edge141\" class=\"edge\">\n<title>140&#45;&gt;141</title>\n<path fill=\"none\" stroke=\"#000000\" d=\"M8162.476,-817.8796C8129.3781,-805.0081 8093.1156,-790.9061 8060.719,-778.3074\"/>\n<polygon fill=\"#000000\" stroke=\"#000000\" points=\"8061.8336,-774.9855 8051.2449,-774.623 8059.2964,-781.5096 8061.8336,-774.9855\"/>\n</g>\n<!-- 142 -->\n<g id=\"node143\" class=\"node\">\n<title>142</title>\n<path fill=\"#e6418b\" stroke=\"#000000\" d=\"M8319.5,-774.5C8319.5,-774.5 8107.5,-774.5 8107.5,-774.5 8101.5,-774.5 8095.5,-768.5 8095.5,-762.5 8095.5,-762.5 8095.5,-718.5 8095.5,-718.5 8095.5,-712.5 8101.5,-706.5 8107.5,-706.5 8107.5,-706.5 8319.5,-706.5 8319.5,-706.5 8325.5,-706.5 8331.5,-712.5 8331.5,-718.5 8331.5,-718.5 8331.5,-762.5 8331.5,-762.5 8331.5,-768.5 8325.5,-774.5 8319.5,-774.5\"/>\n<text text-anchor=\"start\" x=\"8175.5\" y=\"-759.3\" font-family=\"Helvetica,sans-Serif\" font-size=\"14.00\" fill=\"#000000\">gini = 0.081</text>\n<text text-anchor=\"start\" x=\"8161.5\" y=\"-744.3\" font-family=\"Helvetica,sans-Serif\" font-size=\"14.00\" fill=\"#000000\">samples = 1705</text>\n<text text-anchor=\"start\" x=\"8103.5\" y=\"-729.3\" font-family=\"Helvetica,sans-Serif\" font-size=\"14.00\" fill=\"#000000\">value = [0, 0, 12, 34, 27, 41, 2625]</text>\n<text text-anchor=\"start\" x=\"8163\" y=\"-714.3\" font-family=\"Helvetica,sans-Serif\" font-size=\"14.00\" fill=\"#000000\">class = clase_6</text>\n</g>\n<!-- 140&#45;&gt;142 -->\n<g id=\"edge142\" class=\"edge\">\n<title>140&#45;&gt;142</title>\n<path fill=\"none\" stroke=\"#000000\" d=\"M8249.9139,-817.8796C8244.7393,-806.8835 8239.142,-794.9893 8233.9242,-783.9015\"/>\n<polygon fill=\"#000000\" stroke=\"#000000\" points=\"8237.0731,-782.3728 8229.6482,-774.8149 8230.7394,-785.3534 8237.0731,-782.3728\"/>\n</g>\n<!-- 144 -->\n<g id=\"node145\" class=\"node\">\n<title>144</title>\n<path fill=\"#e84c92\" stroke=\"#000000\" d=\"M8589.5,-782C8589.5,-782 8361.5,-782 8361.5,-782 8355.5,-782 8349.5,-776 8349.5,-770 8349.5,-770 8349.5,-711 8349.5,-711 8349.5,-705 8355.5,-699 8361.5,-699 8361.5,-699 8589.5,-699 8589.5,-699 8595.5,-699 8601.5,-705 8601.5,-711 8601.5,-711 8601.5,-770 8601.5,-770 8601.5,-776 8595.5,-782 8589.5,-782\"/>\n<text text-anchor=\"start\" x=\"8430\" y=\"-766.8\" font-family=\"Helvetica,sans-Serif\" font-size=\"14.00\" fill=\"#000000\">service ≤ 14.5</text>\n<text text-anchor=\"start\" x=\"8437.5\" y=\"-751.8\" font-family=\"Helvetica,sans-Serif\" font-size=\"14.00\" fill=\"#000000\">gini = 0.175</text>\n<text text-anchor=\"start\" x=\"8423.5\" y=\"-736.8\" font-family=\"Helvetica,sans-Serif\" font-size=\"14.00\" fill=\"#000000\">samples = 4031</text>\n<text text-anchor=\"start\" x=\"8357.5\" y=\"-721.8\" font-family=\"Helvetica,sans-Serif\" font-size=\"14.00\" fill=\"#000000\">value = [0, 4, 44, 94, 139, 310, 5753]</text>\n<text text-anchor=\"start\" x=\"8425\" y=\"-706.8\" font-family=\"Helvetica,sans-Serif\" font-size=\"14.00\" fill=\"#000000\">class = clase_6</text>\n</g>\n<!-- 143&#45;&gt;144 -->\n<g id=\"edge144\" class=\"edge\">\n<title>143&#45;&gt;144</title>\n<path fill=\"none\" stroke=\"#000000\" d=\"M8514.5149,-817.8796C8510.201,-809.3236 8505.6128,-800.2238 8501.1554,-791.3833\"/>\n<polygon fill=\"#000000\" stroke=\"#000000\" points=\"8504.2021,-789.6515 8496.5747,-782.2981 8497.9516,-792.8031 8504.2021,-789.6515\"/>\n</g>\n<!-- 147 -->\n<g id=\"node148\" class=\"node\">\n<title>147</title>\n<path fill=\"#e6438c\" stroke=\"#000000\" d=\"M8835,-774.5C8835,-774.5 8632,-774.5 8632,-774.5 8626,-774.5 8620,-768.5 8620,-762.5 8620,-762.5 8620,-718.5 8620,-718.5 8620,-712.5 8626,-706.5 8632,-706.5 8632,-706.5 8835,-706.5 8835,-706.5 8841,-706.5 8847,-712.5 8847,-718.5 8847,-718.5 8847,-762.5 8847,-762.5 8847,-768.5 8841,-774.5 8835,-774.5\"/>\n<text text-anchor=\"start\" x=\"8695.5\" y=\"-759.3\" font-family=\"Helvetica,sans-Serif\" font-size=\"14.00\" fill=\"#000000\">gini = 0.094</text>\n<text text-anchor=\"start\" x=\"8685.5\" y=\"-744.3\" font-family=\"Helvetica,sans-Serif\" font-size=\"14.00\" fill=\"#000000\">samples = 725</text>\n<text text-anchor=\"start\" x=\"8628\" y=\"-729.3\" font-family=\"Helvetica,sans-Serif\" font-size=\"14.00\" fill=\"#000000\">value = [0, 1, 3, 11, 12, 30, 1117]</text>\n<text text-anchor=\"start\" x=\"8683\" y=\"-714.3\" font-family=\"Helvetica,sans-Serif\" font-size=\"14.00\" fill=\"#000000\">class = clase_6</text>\n</g>\n<!-- 143&#45;&gt;147 -->\n<g id=\"edge147\" class=\"edge\">\n<title>143&#45;&gt;147</title>\n<path fill=\"none\" stroke=\"#000000\" d=\"M8604.7508,-817.8796C8625.248,-805.5606 8647.6208,-792.1143 8667.8811,-779.9376\"/>\n<polygon fill=\"#000000\" stroke=\"#000000\" points=\"8669.9557,-782.7743 8676.7239,-774.623 8666.3498,-776.7745 8669.9557,-782.7743\"/>\n</g>\n<!-- 145 -->\n<g id=\"node146\" class=\"node\">\n<title>145</title>\n<path fill=\"#e74b91\" stroke=\"#000000\" d=\"M8321,-655.5C8321,-655.5 8118,-655.5 8118,-655.5 8112,-655.5 8106,-649.5 8106,-643.5 8106,-643.5 8106,-599.5 8106,-599.5 8106,-593.5 8112,-587.5 8118,-587.5 8118,-587.5 8321,-587.5 8321,-587.5 8327,-587.5 8333,-593.5 8333,-599.5 8333,-599.5 8333,-643.5 8333,-643.5 8333,-649.5 8327,-655.5 8321,-655.5\"/>\n<text text-anchor=\"start\" x=\"8181.5\" y=\"-640.3\" font-family=\"Helvetica,sans-Serif\" font-size=\"14.00\" fill=\"#000000\">gini = 0.163</text>\n<text text-anchor=\"start\" x=\"8171.5\" y=\"-625.3\" font-family=\"Helvetica,sans-Serif\" font-size=\"14.00\" fill=\"#000000\">samples = 984</text>\n<text text-anchor=\"start\" x=\"8114\" y=\"-610.3\" font-family=\"Helvetica,sans-Serif\" font-size=\"14.00\" fill=\"#000000\">value = [0, 0, 5, 19, 31, 78, 1401]</text>\n<text text-anchor=\"start\" x=\"8169\" y=\"-595.3\" font-family=\"Helvetica,sans-Serif\" font-size=\"14.00\" fill=\"#000000\">class = clase_6</text>\n</g>\n<!-- 144&#45;&gt;145 -->\n<g id=\"edge145\" class=\"edge\">\n<title>144&#45;&gt;145</title>\n<path fill=\"none\" stroke=\"#000000\" d=\"M8385.9636,-698.8796C8358.7492,-686.2291 8328.9774,-672.3899 8302.2322,-659.9576\"/>\n<polygon fill=\"#000000\" stroke=\"#000000\" points=\"8303.4511,-656.6645 8292.9075,-655.623 8300.5003,-663.0122 8303.4511,-656.6645\"/>\n</g>\n<!-- 146 -->\n<g id=\"node147\" class=\"node\">\n<title>146</title>\n<path fill=\"#e84d92\" stroke=\"#000000\" d=\"M8591.5,-655.5C8591.5,-655.5 8363.5,-655.5 8363.5,-655.5 8357.5,-655.5 8351.5,-649.5 8351.5,-643.5 8351.5,-643.5 8351.5,-599.5 8351.5,-599.5 8351.5,-593.5 8357.5,-587.5 8363.5,-587.5 8363.5,-587.5 8591.5,-587.5 8591.5,-587.5 8597.5,-587.5 8603.5,-593.5 8603.5,-599.5 8603.5,-599.5 8603.5,-643.5 8603.5,-643.5 8603.5,-649.5 8597.5,-655.5 8591.5,-655.5\"/>\n<text text-anchor=\"start\" x=\"8439.5\" y=\"-640.3\" font-family=\"Helvetica,sans-Serif\" font-size=\"14.00\" fill=\"#000000\">gini = 0.178</text>\n<text text-anchor=\"start\" x=\"8425.5\" y=\"-625.3\" font-family=\"Helvetica,sans-Serif\" font-size=\"14.00\" fill=\"#000000\">samples = 3047</text>\n<text text-anchor=\"start\" x=\"8359.5\" y=\"-610.3\" font-family=\"Helvetica,sans-Serif\" font-size=\"14.00\" fill=\"#000000\">value = [0, 4, 39, 75, 108, 232, 4352]</text>\n<text text-anchor=\"start\" x=\"8427\" y=\"-595.3\" font-family=\"Helvetica,sans-Serif\" font-size=\"14.00\" fill=\"#000000\">class = clase_6</text>\n</g>\n<!-- 144&#45;&gt;146 -->\n<g id=\"edge146\" class=\"edge\">\n<title>144&#45;&gt;146</title>\n<path fill=\"none\" stroke=\"#000000\" d=\"M8476.1995,-698.8796C8476.3788,-688.2134 8476.5722,-676.7021 8476.7538,-665.9015\"/>\n<polygon fill=\"#000000\" stroke=\"#000000\" points=\"8480.2546,-665.8724 8476.9233,-655.8149 8473.2556,-665.7547 8480.2546,-665.8724\"/>\n</g>\n<!-- 149 -->\n<g id=\"node150\" class=\"node\">\n<title>149</title>\n<path fill=\"#ee7caf\" stroke=\"#000000\" d=\"M8853,-1012.5C8853,-1012.5 8592,-1012.5 8592,-1012.5 8586,-1012.5 8580,-1006.5 8580,-1000.5 8580,-1000.5 8580,-956.5 8580,-956.5 8580,-950.5 8586,-944.5 8592,-944.5 8592,-944.5 8853,-944.5 8853,-944.5 8859,-944.5 8865,-950.5 8865,-956.5 8865,-956.5 8865,-1000.5 8865,-1000.5 8865,-1006.5 8859,-1012.5 8853,-1012.5\"/>\n<text text-anchor=\"start\" x=\"8684.5\" y=\"-997.3\" font-family=\"Helvetica,sans-Serif\" font-size=\"14.00\" fill=\"#000000\">gini = 0.475</text>\n<text text-anchor=\"start\" x=\"8670.5\" y=\"-982.3\" font-family=\"Helvetica,sans-Serif\" font-size=\"14.00\" fill=\"#000000\">samples = 6454</text>\n<text text-anchor=\"start\" x=\"8588\" y=\"-967.3\" font-family=\"Helvetica,sans-Serif\" font-size=\"14.00\" fill=\"#000000\">value = [0, 28, 249, 495, 927, 1266, 7099]</text>\n<text text-anchor=\"start\" x=\"8672\" y=\"-952.3\" font-family=\"Helvetica,sans-Serif\" font-size=\"14.00\" fill=\"#000000\">class = clase_6</text>\n</g>\n<!-- 148&#45;&gt;149 -->\n<g id=\"edge149\" class=\"edge\">\n<title>148&#45;&gt;149</title>\n<path fill=\"none\" stroke=\"#000000\" d=\"M8725.101,-1055.8796C8724.7425,-1045.2134 8724.3555,-1033.7021 8723.9925,-1022.9015\"/>\n<polygon fill=\"#000000\" stroke=\"#000000\" points=\"8727.4875,-1022.6917 8723.6534,-1012.8149 8720.4915,-1022.9269 8727.4875,-1022.6917\"/>\n</g>\n<!-- 150 -->\n<g id=\"node151\" class=\"node\">\n<title>150</title>\n<path fill=\"#e95698\" stroke=\"#000000\" d=\"M9173.5,-1020C9173.5,-1020 8895.5,-1020 8895.5,-1020 8889.5,-1020 8883.5,-1014 8883.5,-1008 8883.5,-1008 8883.5,-949 8883.5,-949 8883.5,-943 8889.5,-937 8895.5,-937 8895.5,-937 9173.5,-937 9173.5,-937 9179.5,-937 9185.5,-943 9185.5,-949 9185.5,-949 9185.5,-1008 9185.5,-1008 9185.5,-1014 9179.5,-1020 9173.5,-1020\"/>\n<text text-anchor=\"start\" x=\"8989\" y=\"-1004.8\" font-family=\"Helvetica,sans-Serif\" font-size=\"14.00\" fill=\"#000000\">service ≤ 18.5</text>\n<text text-anchor=\"start\" x=\"8996.5\" y=\"-989.8\" font-family=\"Helvetica,sans-Serif\" font-size=\"14.00\" fill=\"#000000\">gini = 0.249</text>\n<text text-anchor=\"start\" x=\"8978.5\" y=\"-974.8\" font-family=\"Helvetica,sans-Serif\" font-size=\"14.00\" fill=\"#000000\">samples = 17637</text>\n<text text-anchor=\"start\" x=\"8891.5\" y=\"-959.8\" font-family=\"Helvetica,sans-Serif\" font-size=\"14.00\" fill=\"#000000\">value = [0, 27, 229, 774, 1220, 1600, 24240]</text>\n<text text-anchor=\"start\" x=\"8984\" y=\"-944.8\" font-family=\"Helvetica,sans-Serif\" font-size=\"14.00\" fill=\"#000000\">class = clase_6</text>\n</g>\n<!-- 148&#45;&gt;150 -->\n<g id=\"edge150\" class=\"edge\">\n<title>148&#45;&gt;150</title>\n<path fill=\"none\" stroke=\"#000000\" d=\"M8834.2235,-1055.8796C8861.0691,-1045.5074 8889.9831,-1034.3361 8917.2625,-1023.7963\"/>\n<polygon fill=\"#000000\" stroke=\"#000000\" points=\"8918.7708,-1026.9658 8926.8374,-1020.0969 8916.248,-1020.4362 8918.7708,-1026.9658\"/>\n</g>\n<!-- 151 -->\n<g id=\"node152\" class=\"node\">\n<title>151</title>\n<path fill=\"#ea619e\" stroke=\"#000000\" d=\"M9021,-893.5C9021,-893.5 8776,-893.5 8776,-893.5 8770,-893.5 8764,-887.5 8764,-881.5 8764,-881.5 8764,-837.5 8764,-837.5 8764,-831.5 8770,-825.5 8776,-825.5 8776,-825.5 9021,-825.5 9021,-825.5 9027,-825.5 9033,-831.5 9033,-837.5 9033,-837.5 9033,-881.5 9033,-881.5 9033,-887.5 9027,-893.5 9021,-893.5\"/>\n<text text-anchor=\"start\" x=\"8860.5\" y=\"-878.3\" font-family=\"Helvetica,sans-Serif\" font-size=\"14.00\" fill=\"#000000\">gini = 0.324</text>\n<text text-anchor=\"start\" x=\"8846.5\" y=\"-863.3\" font-family=\"Helvetica,sans-Serif\" font-size=\"14.00\" fill=\"#000000\">samples = 4836</text>\n<text text-anchor=\"start\" x=\"8772\" y=\"-848.3\" font-family=\"Helvetica,sans-Serif\" font-size=\"14.00\" fill=\"#000000\">value = [0, 12, 91, 285, 434, 590, 6250]</text>\n<text text-anchor=\"start\" x=\"8848\" y=\"-833.3\" font-family=\"Helvetica,sans-Serif\" font-size=\"14.00\" fill=\"#000000\">class = clase_6</text>\n</g>\n<!-- 150&#45;&gt;151 -->\n<g id=\"edge151\" class=\"edge\">\n<title>150&#45;&gt;151</title>\n<path fill=\"none\" stroke=\"#000000\" d=\"M8986.9338,-936.8796C8973.4872,-925.1138 8958.8653,-912.3197 8945.4549,-900.5855\"/>\n<polygon fill=\"#000000\" stroke=\"#000000\" points=\"8947.5476,-897.766 8937.7171,-893.8149 8942.9381,-903.034 8947.5476,-897.766\"/>\n</g>\n<!-- 152 -->\n<g id=\"node153\" class=\"node\">\n<title>152</title>\n<path fill=\"#e85295\" stroke=\"#000000\" d=\"M9332,-901C9332,-901 9063,-901 9063,-901 9057,-901 9051,-895 9051,-889 9051,-889 9051,-830 9051,-830 9051,-824 9057,-818 9063,-818 9063,-818 9332,-818 9332,-818 9338,-818 9344,-824 9344,-830 9344,-830 9344,-889 9344,-889 9344,-895 9338,-901 9332,-901\"/>\n<text text-anchor=\"start\" x=\"9152\" y=\"-885.8\" font-family=\"Helvetica,sans-Serif\" font-size=\"14.00\" fill=\"#000000\">service ≤ 21.5</text>\n<text text-anchor=\"start\" x=\"9164\" y=\"-870.8\" font-family=\"Helvetica,sans-Serif\" font-size=\"14.00\" fill=\"#000000\">gini = 0.22</text>\n<text text-anchor=\"start\" x=\"9141.5\" y=\"-855.8\" font-family=\"Helvetica,sans-Serif\" font-size=\"14.00\" fill=\"#000000\">samples = 12801</text>\n<text text-anchor=\"start\" x=\"9059\" y=\"-840.8\" font-family=\"Helvetica,sans-Serif\" font-size=\"14.00\" fill=\"#000000\">value = [0, 15, 138, 489, 786, 1010, 17990]</text>\n<text text-anchor=\"start\" x=\"9147\" y=\"-825.8\" font-family=\"Helvetica,sans-Serif\" font-size=\"14.00\" fill=\"#000000\">class = clase_6</text>\n</g>\n<!-- 150&#45;&gt;152 -->\n<g id=\"edge152\" class=\"edge\">\n<title>150&#45;&gt;152</title>\n<path fill=\"none\" stroke=\"#000000\" d=\"M9091.5095,-936.8796C9104.6621,-927.2774 9118.7528,-916.9903 9132.2268,-907.1534\"/>\n<polygon fill=\"#000000\" stroke=\"#000000\" points=\"9134.5098,-909.8202 9140.5227,-901.0969 9130.3823,-904.1666 9134.5098,-909.8202\"/>\n</g>\n<!-- 153 -->\n<g id=\"node154\" class=\"node\">\n<title>153</title>\n<path fill=\"#e6438c\" stroke=\"#000000\" d=\"M9080,-782C9080,-782 8877,-782 8877,-782 8871,-782 8865,-776 8865,-770 8865,-770 8865,-711 8865,-711 8865,-705 8871,-699 8877,-699 8877,-699 9080,-699 9080,-699 9086,-699 9092,-705 9092,-711 9092,-711 9092,-770 9092,-770 9092,-776 9086,-782 9080,-782\"/>\n<text text-anchor=\"start\" x=\"8933\" y=\"-766.8\" font-family=\"Helvetica,sans-Serif\" font-size=\"14.00\" fill=\"#000000\">service ≤ 19.5</text>\n<text text-anchor=\"start\" x=\"8940.5\" y=\"-751.8\" font-family=\"Helvetica,sans-Serif\" font-size=\"14.00\" fill=\"#000000\">gini = 0.097</text>\n<text text-anchor=\"start\" x=\"8926.5\" y=\"-736.8\" font-family=\"Helvetica,sans-Serif\" font-size=\"14.00\" fill=\"#000000\">samples = 1722</text>\n<text text-anchor=\"start\" x=\"8873\" y=\"-721.8\" font-family=\"Helvetica,sans-Serif\" font-size=\"14.00\" fill=\"#000000\">value = [0, 0, 4, 13, 49, 70, 2572]</text>\n<text text-anchor=\"start\" x=\"8928\" y=\"-706.8\" font-family=\"Helvetica,sans-Serif\" font-size=\"14.00\" fill=\"#000000\">class = clase_6</text>\n</g>\n<!-- 152&#45;&gt;153 -->\n<g id=\"edge153\" class=\"edge\">\n<title>152&#45;&gt;153</title>\n<path fill=\"none\" stroke=\"#000000\" d=\"M9120.9044,-817.8796C9102.483,-807.8697 9082.6918,-797.1156 9063.8974,-786.9031\"/>\n<polygon fill=\"#000000\" stroke=\"#000000\" points=\"9065.51,-783.7961 9055.0523,-782.0969 9062.1679,-789.9468 9065.51,-783.7961\"/>\n</g>\n<!-- 158 -->\n<g id=\"node159\" class=\"node\">\n<title>158</title>\n<path fill=\"#e95497\" stroke=\"#000000\" d=\"M9383,-782C9383,-782 9122,-782 9122,-782 9116,-782 9110,-776 9110,-770 9110,-770 9110,-711 9110,-711 9110,-705 9116,-699 9122,-699 9122,-699 9383,-699 9383,-699 9389,-699 9395,-705 9395,-711 9395,-711 9395,-770 9395,-770 9395,-776 9389,-782 9383,-782\"/>\n<text text-anchor=\"start\" x=\"9207\" y=\"-766.8\" font-family=\"Helvetica,sans-Serif\" font-size=\"14.00\" fill=\"#000000\">service ≤ 22.5</text>\n<text text-anchor=\"start\" x=\"9214.5\" y=\"-751.8\" font-family=\"Helvetica,sans-Serif\" font-size=\"14.00\" fill=\"#000000\">gini = 0.238</text>\n<text text-anchor=\"start\" x=\"9196.5\" y=\"-736.8\" font-family=\"Helvetica,sans-Serif\" font-size=\"14.00\" fill=\"#000000\">samples = 11079</text>\n<text text-anchor=\"start\" x=\"9118\" y=\"-721.8\" font-family=\"Helvetica,sans-Serif\" font-size=\"14.00\" fill=\"#000000\">value = [0, 15, 134, 476, 737, 940, 15418]</text>\n<text text-anchor=\"start\" x=\"9202\" y=\"-706.8\" font-family=\"Helvetica,sans-Serif\" font-size=\"14.00\" fill=\"#000000\">class = clase_6</text>\n</g>\n<!-- 152&#45;&gt;158 -->\n<g id=\"edge158\" class=\"edge\">\n<title>152&#45;&gt;158</title>\n<path fill=\"none\" stroke=\"#000000\" d=\"M9216.7363,-817.8796C9220.6908,-809.3236 9224.8966,-800.2238 9228.9825,-791.3833\"/>\n<polygon fill=\"#000000\" stroke=\"#000000\" points=\"9232.1632,-792.8439 9233.1816,-782.2981 9225.809,-789.907 9232.1632,-792.8439\"/>\n</g>\n<!-- 154 -->\n<g id=\"node155\" class=\"node\">\n<title>154</title>\n<path fill=\"#e7488f\" stroke=\"#000000\" d=\"M8841,-655.5C8841,-655.5 8638,-655.5 8638,-655.5 8632,-655.5 8626,-649.5 8626,-643.5 8626,-643.5 8626,-599.5 8626,-599.5 8626,-593.5 8632,-587.5 8638,-587.5 8638,-587.5 8841,-587.5 8841,-587.5 8847,-587.5 8853,-593.5 8853,-599.5 8853,-599.5 8853,-643.5 8853,-643.5 8853,-649.5 8847,-655.5 8841,-655.5\"/>\n<text text-anchor=\"start\" x=\"8701.5\" y=\"-640.3\" font-family=\"Helvetica,sans-Serif\" font-size=\"14.00\" fill=\"#000000\">gini = 0.142</text>\n<text text-anchor=\"start\" x=\"8691.5\" y=\"-625.3\" font-family=\"Helvetica,sans-Serif\" font-size=\"14.00\" fill=\"#000000\">samples = 923</text>\n<text text-anchor=\"start\" x=\"8634\" y=\"-610.3\" font-family=\"Helvetica,sans-Serif\" font-size=\"14.00\" fill=\"#000000\">value = [0, 0, 0, 10, 41, 58, 1344]</text>\n<text text-anchor=\"start\" x=\"8689\" y=\"-595.3\" font-family=\"Helvetica,sans-Serif\" font-size=\"14.00\" fill=\"#000000\">class = clase_6</text>\n</g>\n<!-- 153&#45;&gt;154 -->\n<g id=\"edge154\" class=\"edge\">\n<title>153&#45;&gt;154</title>\n<path fill=\"none\" stroke=\"#000000\" d=\"M8894.9094,-698.8796C8869.6131,-686.2843 8841.9501,-672.5107 8817.0656,-660.1205\"/>\n<polygon fill=\"#000000\" stroke=\"#000000\" points=\"8818.5446,-656.9471 8808.0328,-655.623 8815.4246,-663.2134 8818.5446,-656.9471\"/>\n</g>\n<!-- 155 -->\n<g id=\"node156\" class=\"node\">\n<title>155</title>\n<path fill=\"#e63d89\" stroke=\"#000000\" d=\"M9070,-663C9070,-663 8883,-663 8883,-663 8877,-663 8871,-657 8871,-651 8871,-651 8871,-592 8871,-592 8871,-586 8877,-580 8883,-580 8883,-580 9070,-580 9070,-580 9076,-580 9082,-586 9082,-592 9082,-592 9082,-651 9082,-651 9082,-657 9076,-663 9070,-663\"/>\n<text text-anchor=\"start\" x=\"8931\" y=\"-647.8\" font-family=\"Helvetica,sans-Serif\" font-size=\"14.00\" fill=\"#000000\">service ≤ 20.5</text>\n<text text-anchor=\"start\" x=\"8938.5\" y=\"-632.8\" font-family=\"Helvetica,sans-Serif\" font-size=\"14.00\" fill=\"#000000\">gini = 0.042</text>\n<text text-anchor=\"start\" x=\"8928.5\" y=\"-617.8\" font-family=\"Helvetica,sans-Serif\" font-size=\"14.00\" fill=\"#000000\">samples = 799</text>\n<text text-anchor=\"start\" x=\"8879\" y=\"-602.8\" font-family=\"Helvetica,sans-Serif\" font-size=\"14.00\" fill=\"#000000\">value = [0, 0, 4, 3, 8, 12, 1228]</text>\n<text text-anchor=\"start\" x=\"8926\" y=\"-587.8\" font-family=\"Helvetica,sans-Serif\" font-size=\"14.00\" fill=\"#000000\">class = clase_6</text>\n</g>\n<!-- 153&#45;&gt;155 -->\n<g id=\"edge155\" class=\"edge\">\n<title>153&#45;&gt;155</title>\n<path fill=\"none\" stroke=\"#000000\" d=\"M8977.8005,-698.8796C8977.6628,-690.6838 8977.5166,-681.9891 8977.374,-673.5013\"/>\n<polygon fill=\"#000000\" stroke=\"#000000\" points=\"8980.8701,-673.2378 8977.2025,-663.2981 8973.8711,-673.3555 8980.8701,-673.2378\"/>\n</g>\n<!-- 156 -->\n<g id=\"node157\" class=\"node\">\n<title>156</title>\n<path fill=\"#e63d89\" stroke=\"#000000\" d=\"M8864,-536.5C8864,-536.5 8677,-536.5 8677,-536.5 8671,-536.5 8665,-530.5 8665,-524.5 8665,-524.5 8665,-480.5 8665,-480.5 8665,-474.5 8671,-468.5 8677,-468.5 8677,-468.5 8864,-468.5 8864,-468.5 8870,-468.5 8876,-474.5 8876,-480.5 8876,-480.5 8876,-524.5 8876,-524.5 8876,-530.5 8870,-536.5 8864,-536.5\"/>\n<text text-anchor=\"start\" x=\"8732.5\" y=\"-521.3\" font-family=\"Helvetica,sans-Serif\" font-size=\"14.00\" fill=\"#000000\">gini = 0.042</text>\n<text text-anchor=\"start\" x=\"8722.5\" y=\"-506.3\" font-family=\"Helvetica,sans-Serif\" font-size=\"14.00\" fill=\"#000000\">samples = 689</text>\n<text text-anchor=\"start\" x=\"8673\" y=\"-491.3\" font-family=\"Helvetica,sans-Serif\" font-size=\"14.00\" fill=\"#000000\">value = [0, 0, 4, 1, 8, 10, 1066]</text>\n<text text-anchor=\"start\" x=\"8720\" y=\"-476.3\" font-family=\"Helvetica,sans-Serif\" font-size=\"14.00\" fill=\"#000000\">class = clase_6</text>\n</g>\n<!-- 155&#45;&gt;156 -->\n<g id=\"edge156\" class=\"edge\">\n<title>155&#45;&gt;156</title>\n<path fill=\"none\" stroke=\"#000000\" d=\"M8904.4512,-579.8796C8883.0302,-567.5053 8859.6403,-553.9937 8838.4867,-541.7739\"/>\n<polygon fill=\"#000000\" stroke=\"#000000\" points=\"8839.9799,-538.5945 8829.5701,-536.623 8836.4785,-544.6558 8839.9799,-538.5945\"/>\n</g>\n<!-- 157 -->\n<g id=\"node158\" class=\"node\">\n<title>157</title>\n<path fill=\"#e63e89\" stroke=\"#000000\" d=\"M9076.5,-536.5C9076.5,-536.5 8906.5,-536.5 8906.5,-536.5 8900.5,-536.5 8894.5,-530.5 8894.5,-524.5 8894.5,-524.5 8894.5,-480.5 8894.5,-480.5 8894.5,-474.5 8900.5,-468.5 8906.5,-468.5 8906.5,-468.5 9076.5,-468.5 9076.5,-468.5 9082.5,-468.5 9088.5,-474.5 9088.5,-480.5 9088.5,-480.5 9088.5,-524.5 9088.5,-524.5 9088.5,-530.5 9082.5,-536.5 9076.5,-536.5\"/>\n<text text-anchor=\"start\" x=\"8953.5\" y=\"-521.3\" font-family=\"Helvetica,sans-Serif\" font-size=\"14.00\" fill=\"#000000\">gini = 0.047</text>\n<text text-anchor=\"start\" x=\"8943.5\" y=\"-506.3\" font-family=\"Helvetica,sans-Serif\" font-size=\"14.00\" fill=\"#000000\">samples = 110</text>\n<text text-anchor=\"start\" x=\"8902.5\" y=\"-491.3\" font-family=\"Helvetica,sans-Serif\" font-size=\"14.00\" fill=\"#000000\">value = [0, 0, 0, 2, 0, 2, 162]</text>\n<text text-anchor=\"start\" x=\"8941\" y=\"-476.3\" font-family=\"Helvetica,sans-Serif\" font-size=\"14.00\" fill=\"#000000\">class = clase_6</text>\n</g>\n<!-- 155&#45;&gt;157 -->\n<g id=\"edge157\" class=\"edge\">\n<title>155&#45;&gt;157</title>\n<path fill=\"none\" stroke=\"#000000\" d=\"M8981.7463,-579.8796C8983.0908,-569.2134 8984.5418,-557.7021 8985.9032,-546.9015\"/>\n<polygon fill=\"#000000\" stroke=\"#000000\" points=\"8989.3964,-547.1742 8987.1746,-536.8149 8982.4514,-546.2987 8989.3964,-547.1742\"/>\n</g>\n<!-- 159 -->\n<g id=\"node160\" class=\"node\">\n<title>159</title>\n<path fill=\"#e95798\" stroke=\"#000000\" d=\"M9348.5,-655.5C9348.5,-655.5 9112.5,-655.5 9112.5,-655.5 9106.5,-655.5 9100.5,-649.5 9100.5,-643.5 9100.5,-643.5 9100.5,-599.5 9100.5,-599.5 9100.5,-593.5 9106.5,-587.5 9112.5,-587.5 9112.5,-587.5 9348.5,-587.5 9348.5,-587.5 9354.5,-587.5 9360.5,-593.5 9360.5,-599.5 9360.5,-599.5 9360.5,-643.5 9360.5,-643.5 9360.5,-649.5 9354.5,-655.5 9348.5,-655.5\"/>\n<text text-anchor=\"start\" x=\"9192.5\" y=\"-640.3\" font-family=\"Helvetica,sans-Serif\" font-size=\"14.00\" fill=\"#000000\">gini = 0.259</text>\n<text text-anchor=\"start\" x=\"9178.5\" y=\"-625.3\" font-family=\"Helvetica,sans-Serif\" font-size=\"14.00\" fill=\"#000000\">samples = 6283</text>\n<text text-anchor=\"start\" x=\"9108.5\" y=\"-610.3\" font-family=\"Helvetica,sans-Serif\" font-size=\"14.00\" fill=\"#000000\">value = [0, 9, 75, 310, 482, 568, 8646]</text>\n<text text-anchor=\"start\" x=\"9180\" y=\"-595.3\" font-family=\"Helvetica,sans-Serif\" font-size=\"14.00\" fill=\"#000000\">class = clase_6</text>\n</g>\n<!-- 158&#45;&gt;159 -->\n<g id=\"edge159\" class=\"edge\">\n<title>158&#45;&gt;159</title>\n<path fill=\"none\" stroke=\"#000000\" d=\"M9244.8055,-698.8796C9242.8336,-688.2134 9240.7054,-676.7021 9238.7087,-665.9015\"/>\n<polygon fill=\"#000000\" stroke=\"#000000\" points=\"9242.1036,-665.012 9236.8439,-655.8149 9235.2203,-666.2846 9242.1036,-665.012\"/>\n</g>\n<!-- 160 -->\n<g id=\"node161\" class=\"node\">\n<title>160</title>\n<path fill=\"#e85094\" stroke=\"#000000\" d=\"M9626.5,-663C9626.5,-663 9390.5,-663 9390.5,-663 9384.5,-663 9378.5,-657 9378.5,-651 9378.5,-651 9378.5,-592 9378.5,-592 9378.5,-586 9384.5,-580 9390.5,-580 9390.5,-580 9626.5,-580 9626.5,-580 9632.5,-580 9638.5,-586 9638.5,-592 9638.5,-592 9638.5,-651 9638.5,-651 9638.5,-657 9632.5,-663 9626.5,-663\"/>\n<text text-anchor=\"start\" x=\"9463\" y=\"-647.8\" font-family=\"Helvetica,sans-Serif\" font-size=\"14.00\" fill=\"#000000\">service ≤ 23.5</text>\n<text text-anchor=\"start\" x=\"9470.5\" y=\"-632.8\" font-family=\"Helvetica,sans-Serif\" font-size=\"14.00\" fill=\"#000000\">gini = 0.208</text>\n<text text-anchor=\"start\" x=\"9456.5\" y=\"-617.8\" font-family=\"Helvetica,sans-Serif\" font-size=\"14.00\" fill=\"#000000\">samples = 4796</text>\n<text text-anchor=\"start\" x=\"9386.5\" y=\"-602.8\" font-family=\"Helvetica,sans-Serif\" font-size=\"14.00\" fill=\"#000000\">value = [0, 6, 59, 166, 255, 372, 6772]</text>\n<text text-anchor=\"start\" x=\"9458\" y=\"-587.8\" font-family=\"Helvetica,sans-Serif\" font-size=\"14.00\" fill=\"#000000\">class = clase_6</text>\n</g>\n<!-- 158&#45;&gt;160 -->\n<g id=\"edge160\" class=\"edge\">\n<title>158&#45;&gt;160</title>\n<path fill=\"none\" stroke=\"#000000\" d=\"M9342.0364,-698.8796C9363.9599,-688.6886 9387.543,-677.7261 9409.8665,-667.3492\"/>\n<polygon fill=\"#000000\" stroke=\"#000000\" points=\"9411.4214,-670.4861 9419.0142,-663.0969 9408.4706,-664.1384 9411.4214,-670.4861\"/>\n</g>\n<!-- 161 -->\n<g id=\"node162\" class=\"node\">\n<title>161</title>\n<path fill=\"#e85195\" stroke=\"#000000\" d=\"M9368.5,-536.5C9368.5,-536.5 9132.5,-536.5 9132.5,-536.5 9126.5,-536.5 9120.5,-530.5 9120.5,-524.5 9120.5,-524.5 9120.5,-480.5 9120.5,-480.5 9120.5,-474.5 9126.5,-468.5 9132.5,-468.5 9132.5,-468.5 9368.5,-468.5 9368.5,-468.5 9374.5,-468.5 9380.5,-474.5 9380.5,-480.5 9380.5,-480.5 9380.5,-524.5 9380.5,-524.5 9380.5,-530.5 9374.5,-536.5 9368.5,-536.5\"/>\n<text text-anchor=\"start\" x=\"9212.5\" y=\"-521.3\" font-family=\"Helvetica,sans-Serif\" font-size=\"14.00\" fill=\"#000000\">gini = 0.215</text>\n<text text-anchor=\"start\" x=\"9198.5\" y=\"-506.3\" font-family=\"Helvetica,sans-Serif\" font-size=\"14.00\" fill=\"#000000\">samples = 4212</text>\n<text text-anchor=\"start\" x=\"9128.5\" y=\"-491.3\" font-family=\"Helvetica,sans-Serif\" font-size=\"14.00\" fill=\"#000000\">value = [0, 6, 46, 159, 234, 334, 5927]</text>\n<text text-anchor=\"start\" x=\"9200\" y=\"-476.3\" font-family=\"Helvetica,sans-Serif\" font-size=\"14.00\" fill=\"#000000\">class = clase_6</text>\n</g>\n<!-- 160&#45;&gt;161 -->\n<g id=\"edge161\" class=\"edge\">\n<title>160&#45;&gt;161</title>\n<path fill=\"none\" stroke=\"#000000\" d=\"M9418.2641,-579.8796C9390.837,-567.2291 9360.8327,-553.3899 9333.8786,-540.9576\"/>\n<polygon fill=\"#000000\" stroke=\"#000000\" points=\"9335.0276,-537.6332 9324.481,-536.623 9332.0957,-543.9897 9335.0276,-537.6332\"/>\n</g>\n<!-- 162 -->\n<g id=\"node163\" class=\"node\">\n<title>162</title>\n<path fill=\"#e74b91\" stroke=\"#000000\" d=\"M9606,-536.5C9606,-536.5 9411,-536.5 9411,-536.5 9405,-536.5 9399,-530.5 9399,-524.5 9399,-524.5 9399,-480.5 9399,-480.5 9399,-474.5 9405,-468.5 9411,-468.5 9411,-468.5 9606,-468.5 9606,-468.5 9612,-468.5 9618,-474.5 9618,-480.5 9618,-480.5 9618,-524.5 9618,-524.5 9618,-530.5 9612,-536.5 9606,-536.5\"/>\n<text text-anchor=\"start\" x=\"9470.5\" y=\"-521.3\" font-family=\"Helvetica,sans-Serif\" font-size=\"14.00\" fill=\"#000000\">gini = 0.161</text>\n<text text-anchor=\"start\" x=\"9460.5\" y=\"-506.3\" font-family=\"Helvetica,sans-Serif\" font-size=\"14.00\" fill=\"#000000\">samples = 584</text>\n<text text-anchor=\"start\" x=\"9407\" y=\"-491.3\" font-family=\"Helvetica,sans-Serif\" font-size=\"14.00\" fill=\"#000000\">value = [0, 0, 13, 7, 21, 38, 845]</text>\n<text text-anchor=\"start\" x=\"9458\" y=\"-476.3\" font-family=\"Helvetica,sans-Serif\" font-size=\"14.00\" fill=\"#000000\">class = clase_6</text>\n</g>\n<!-- 160&#45;&gt;162 -->\n<g id=\"edge162\" class=\"edge\">\n<title>160&#45;&gt;162</title>\n<path fill=\"none\" stroke=\"#000000\" d=\"M9508.5,-579.8796C9508.5,-569.2134 9508.5,-557.7021 9508.5,-546.9015\"/>\n<polygon fill=\"#000000\" stroke=\"#000000\" points=\"9512.0001,-546.8149 9508.5,-536.8149 9505.0001,-546.815 9512.0001,-546.8149\"/>\n</g>\n<!-- 164 -->\n<g id=\"node165\" class=\"node\">\n<title>164</title>\n<path fill=\"#fcffff\" stroke=\"#000000\" d=\"M12716,-1258C12716,-1258 12397,-1258 12397,-1258 12391,-1258 12385,-1252 12385,-1246 12385,-1246 12385,-1187 12385,-1187 12385,-1181 12391,-1175 12397,-1175 12397,-1175 12716,-1175 12716,-1175 12722,-1175 12728,-1181 12728,-1187 12728,-1187 12728,-1246 12728,-1246 12728,-1252 12722,-1258 12716,-1258\"/>\n<text text-anchor=\"start\" x=\"12511\" y=\"-1242.8\" font-family=\"Helvetica,sans-Serif\" font-size=\"14.00\" fill=\"#000000\">service ≤ 16.5</text>\n<text text-anchor=\"start\" x=\"12518.5\" y=\"-1227.8\" font-family=\"Helvetica,sans-Serif\" font-size=\"14.00\" fill=\"#000000\">gini = 0.821</text>\n<text text-anchor=\"start\" x=\"12500.5\" y=\"-1212.8\" font-family=\"Helvetica,sans-Serif\" font-size=\"14.00\" fill=\"#000000\">samples = 26896</text>\n<text text-anchor=\"start\" x=\"12393\" y=\"-1197.8\" font-family=\"Helvetica,sans-Serif\" font-size=\"14.00\" fill=\"#000000\">value = [152, 3672, 7966, 9392, 7283, 5063, 8904]</text>\n<text text-anchor=\"start\" x=\"12506\" y=\"-1182.8\" font-family=\"Helvetica,sans-Serif\" font-size=\"14.00\" fill=\"#000000\">class = clase_3</text>\n</g>\n<!-- 163&#45;&gt;164 -->\n<g id=\"edge164\" class=\"edge\">\n<title>163&#45;&gt;164</title>\n<path fill=\"none\" stroke=\"#000000\" d=\"M12556.5,-1293.8796C12556.5,-1285.6838 12556.5,-1276.9891 12556.5,-1268.5013\"/>\n<polygon fill=\"#000000\" stroke=\"#000000\" points=\"12560.0001,-1268.298 12556.5,-1258.2981 12553.0001,-1268.2981 12560.0001,-1268.298\"/>\n</g>\n<!-- 253 -->\n<g id=\"node254\" class=\"node\">\n<title>253</title>\n<path fill=\"#f2fadb\" stroke=\"#000000\" d=\"M15996.5,-1258C15996.5,-1258 15710.5,-1258 15710.5,-1258 15704.5,-1258 15698.5,-1252 15698.5,-1246 15698.5,-1246 15698.5,-1187 15698.5,-1187 15698.5,-1181 15704.5,-1175 15710.5,-1175 15710.5,-1175 15996.5,-1175 15996.5,-1175 16002.5,-1175 16008.5,-1181 16008.5,-1187 16008.5,-1187 16008.5,-1246 16008.5,-1246 16008.5,-1252 16002.5,-1258 15996.5,-1258\"/>\n<text text-anchor=\"start\" x=\"15808\" y=\"-1242.8\" font-family=\"Helvetica,sans-Serif\" font-size=\"14.00\" fill=\"#000000\">service ≤ 17.5</text>\n<text text-anchor=\"start\" x=\"15815.5\" y=\"-1227.8\" font-family=\"Helvetica,sans-Serif\" font-size=\"14.00\" fill=\"#000000\">gini = 0.703</text>\n<text text-anchor=\"start\" x=\"15801.5\" y=\"-1212.8\" font-family=\"Helvetica,sans-Serif\" font-size=\"14.00\" fill=\"#000000\">samples = 4506</text>\n<text text-anchor=\"start\" x=\"15706.5\" y=\"-1197.8\" font-family=\"Helvetica,sans-Serif\" font-size=\"14.00\" fill=\"#000000\">value = [364, 3076, 2156, 875, 371, 162, 147]</text>\n<text text-anchor=\"start\" x=\"15803\" y=\"-1182.8\" font-family=\"Helvetica,sans-Serif\" font-size=\"14.00\" fill=\"#000000\">class = clase_1</text>\n</g>\n<!-- 163&#45;&gt;253 -->\n<g id=\"edge253\" class=\"edge\">\n<title>163&#45;&gt;253</title>\n<path fill=\"none\" stroke=\"#000000\" d=\"M12736.1024,-1329.0175C13315.4051,-1308.1085 15129.2735,-1242.6398 15688.0037,-1222.4733\"/>\n<polygon fill=\"#000000\" stroke=\"#000000\" points=\"15688.2874,-1225.9655 15698.1546,-1222.1069 15688.0348,-1218.97 15688.2874,-1225.9655\"/>\n</g>\n<!-- 165 -->\n<g id=\"node166\" class=\"node\">\n<title>165</title>\n<path fill=\"#fcebf3\" stroke=\"#000000\" d=\"M11835,-1139C11835,-1139 11524,-1139 11524,-1139 11518,-1139 11512,-1133 11512,-1127 11512,-1127 11512,-1068 11512,-1068 11512,-1062 11518,-1056 11524,-1056 11524,-1056 11835,-1056 11835,-1056 11841,-1056 11847,-1062 11847,-1068 11847,-1068 11847,-1127 11847,-1127 11847,-1133 11841,-1139 11835,-1139\"/>\n<text text-anchor=\"start\" x=\"11616\" y=\"-1123.8\" font-family=\"Helvetica,sans-Serif\" font-size=\"14.00\" fill=\"#000000\">receiver_state ≤ 2.5</text>\n<text text-anchor=\"start\" x=\"11650\" y=\"-1108.8\" font-family=\"Helvetica,sans-Serif\" font-size=\"14.00\" fill=\"#000000\">gini = 0.8</text>\n<text text-anchor=\"start\" x=\"11623.5\" y=\"-1093.8\" font-family=\"Helvetica,sans-Serif\" font-size=\"14.00\" fill=\"#000000\">samples = 11380</text>\n<text text-anchor=\"start\" x=\"11520\" y=\"-1078.8\" font-family=\"Helvetica,sans-Serif\" font-size=\"14.00\" fill=\"#000000\">value = [29, 1019, 2940, 3838, 2843, 1967, 5220]</text>\n<text text-anchor=\"start\" x=\"11629\" y=\"-1063.8\" font-family=\"Helvetica,sans-Serif\" font-size=\"14.00\" fill=\"#000000\">class = clase_6</text>\n</g>\n<!-- 164&#45;&gt;165 -->\n<g id=\"edge165\" class=\"edge\">\n<title>164&#45;&gt;165</title>\n<path fill=\"none\" stroke=\"#000000\" d=\"M12384.8018,-1193.2023C12232.5619,-1172.5449 12011.1057,-1142.4955 11857.1076,-1121.5995\"/>\n<polygon fill=\"#000000\" stroke=\"#000000\" points=\"11857.4428,-1118.113 11847.063,-1120.2366 11856.5016,-1125.0495 11857.4428,-1118.113\"/>\n</g>\n<!-- 218 -->\n<g id=\"node219\" class=\"node\">\n<title>218</title>\n<path fill=\"#fafefe\" stroke=\"#000000\" d=\"M13484,-1139C13484,-1139 13165,-1139 13165,-1139 13159,-1139 13153,-1133 13153,-1127 13153,-1127 13153,-1068 13153,-1068 13153,-1062 13159,-1056 13165,-1056 13165,-1056 13484,-1056 13484,-1056 13490,-1056 13496,-1062 13496,-1068 13496,-1068 13496,-1127 13496,-1127 13496,-1133 13490,-1139 13484,-1139\"/>\n<text text-anchor=\"start\" x=\"13279\" y=\"-1123.8\" font-family=\"Helvetica,sans-Serif\" font-size=\"14.00\" fill=\"#000000\">service ≤ 18.5</text>\n<text text-anchor=\"start\" x=\"13286.5\" y=\"-1108.8\" font-family=\"Helvetica,sans-Serif\" font-size=\"14.00\" fill=\"#000000\">gini = 0.824</text>\n<text text-anchor=\"start\" x=\"13268.5\" y=\"-1093.8\" font-family=\"Helvetica,sans-Serif\" font-size=\"14.00\" fill=\"#000000\">samples = 15516</text>\n<text text-anchor=\"start\" x=\"13161\" y=\"-1078.8\" font-family=\"Helvetica,sans-Serif\" font-size=\"14.00\" fill=\"#000000\">value = [123, 2653, 5026, 5554, 4440, 3096, 3684]</text>\n<text text-anchor=\"start\" x=\"13274\" y=\"-1063.8\" font-family=\"Helvetica,sans-Serif\" font-size=\"14.00\" fill=\"#000000\">class = clase_3</text>\n</g>\n<!-- 164&#45;&gt;218 -->\n<g id=\"edge218\" class=\"edge\">\n<title>164&#45;&gt;218</title>\n<path fill=\"none\" stroke=\"#000000\" d=\"M12728.376,-1189.8682C12851.6092,-1170.7734 13017.3163,-1145.0975 13142.7419,-1125.663\"/>\n<polygon fill=\"#000000\" stroke=\"#000000\" points=\"13143.4955,-1129.0881 13152.8417,-1124.0981 13142.4236,-1122.1707 13143.4955,-1129.0881\"/>\n</g>\n<!-- 166 -->\n<g id=\"node167\" class=\"node\">\n<title>166</title>\n<path fill=\"#fad8e7\" stroke=\"#000000\" d=\"M10604.5,-1020C10604.5,-1020 10318.5,-1020 10318.5,-1020 10312.5,-1020 10306.5,-1014 10306.5,-1008 10306.5,-1008 10306.5,-949 10306.5,-949 10306.5,-943 10312.5,-937 10318.5,-937 10318.5,-937 10604.5,-937 10604.5,-937 10610.5,-937 10616.5,-943 10616.5,-949 10616.5,-949 10616.5,-1008 10616.5,-1008 10616.5,-1014 10610.5,-1020 10604.5,-1020\"/>\n<text text-anchor=\"start\" x=\"10416\" y=\"-1004.8\" font-family=\"Helvetica,sans-Serif\" font-size=\"14.00\" fill=\"#000000\">service ≤ 10.5</text>\n<text text-anchor=\"start\" x=\"10423.5\" y=\"-989.8\" font-family=\"Helvetica,sans-Serif\" font-size=\"14.00\" fill=\"#000000\">gini = 0.766</text>\n<text text-anchor=\"start\" x=\"10409.5\" y=\"-974.8\" font-family=\"Helvetica,sans-Serif\" font-size=\"14.00\" fill=\"#000000\">samples = 5283</text>\n<text text-anchor=\"start\" x=\"10314.5\" y=\"-959.8\" font-family=\"Helvetica,sans-Serif\" font-size=\"14.00\" fill=\"#000000\">value = [8, 356, 1282, 1767, 1195, 627, 3071]</text>\n<text text-anchor=\"start\" x=\"10411\" y=\"-944.8\" font-family=\"Helvetica,sans-Serif\" font-size=\"14.00\" fill=\"#000000\">class = clase_6</text>\n</g>\n<!-- 165&#45;&gt;166 -->\n<g id=\"edge166\" class=\"edge\">\n<title>165&#45;&gt;166</title>\n<path fill=\"none\" stroke=\"#000000\" d=\"M11511.7402,-1081.1097C11278.5741,-1058.3291 10859.109,-1017.3469 10627.0998,-994.6793\"/>\n<polygon fill=\"#000000\" stroke=\"#000000\" points=\"10627.171,-991.1697 10616.8781,-993.6806 10626.4903,-998.1365 10627.171,-991.1697\"/>\n</g>\n<!-- 185 -->\n<g id=\"node186\" class=\"node\">\n<title>185</title>\n<path fill=\"#fffdfe\" stroke=\"#000000\" d=\"M11830.5,-1020C11830.5,-1020 11528.5,-1020 11528.5,-1020 11522.5,-1020 11516.5,-1014 11516.5,-1008 11516.5,-1008 11516.5,-949 11516.5,-949 11516.5,-943 11522.5,-937 11528.5,-937 11528.5,-937 11830.5,-937 11830.5,-937 11836.5,-937 11842.5,-943 11842.5,-949 11842.5,-949 11842.5,-1008 11842.5,-1008 11842.5,-1014 11836.5,-1020 11830.5,-1020\"/>\n<text text-anchor=\"start\" x=\"11634\" y=\"-1004.8\" font-family=\"Helvetica,sans-Serif\" font-size=\"14.00\" fill=\"#000000\">service ≤ 10.5</text>\n<text text-anchor=\"start\" x=\"11641.5\" y=\"-989.8\" font-family=\"Helvetica,sans-Serif\" font-size=\"14.00\" fill=\"#000000\">gini = 0.818</text>\n<text text-anchor=\"start\" x=\"11627.5\" y=\"-974.8\" font-family=\"Helvetica,sans-Serif\" font-size=\"14.00\" fill=\"#000000\">samples = 6097</text>\n<text text-anchor=\"start\" x=\"11524.5\" y=\"-959.8\" font-family=\"Helvetica,sans-Serif\" font-size=\"14.00\" fill=\"#000000\">value = [21, 663, 1658, 2071, 1648, 1340, 2149]</text>\n<text text-anchor=\"start\" x=\"11629\" y=\"-944.8\" font-family=\"Helvetica,sans-Serif\" font-size=\"14.00\" fill=\"#000000\">class = clase_6</text>\n</g>\n<!-- 165&#45;&gt;185 -->\n<g id=\"edge185\" class=\"edge\">\n<title>165&#45;&gt;185</title>\n<path fill=\"none\" stroke=\"#000000\" d=\"M11679.5,-1055.8796C11679.5,-1047.6838 11679.5,-1038.9891 11679.5,-1030.5013\"/>\n<polygon fill=\"#000000\" stroke=\"#000000\" points=\"11683.0001,-1030.298 11679.5,-1020.2981 11676.0001,-1030.2981 11683.0001,-1030.298\"/>\n</g>\n<!-- 167 -->\n<g id=\"node168\" class=\"node\">\n<title>167</title>\n<path fill=\"#ecfdfc\" stroke=\"#000000\" d=\"M10229.5,-901C10229.5,-901 9943.5,-901 9943.5,-901 9937.5,-901 9931.5,-895 9931.5,-889 9931.5,-889 9931.5,-830 9931.5,-830 9931.5,-824 9937.5,-818 9943.5,-818 9943.5,-818 10229.5,-818 10229.5,-818 10235.5,-818 10241.5,-824 10241.5,-830 10241.5,-830 10241.5,-889 10241.5,-889 10241.5,-895 10235.5,-901 10229.5,-901\"/>\n<text text-anchor=\"start\" x=\"10045.5\" y=\"-885.8\" font-family=\"Helvetica,sans-Serif\" font-size=\"14.00\" fill=\"#000000\">service ≤ 9.5</text>\n<text text-anchor=\"start\" x=\"10048.5\" y=\"-870.8\" font-family=\"Helvetica,sans-Serif\" font-size=\"14.00\" fill=\"#000000\">gini = 0.801</text>\n<text text-anchor=\"start\" x=\"10034.5\" y=\"-855.8\" font-family=\"Helvetica,sans-Serif\" font-size=\"14.00\" fill=\"#000000\">samples = 3995</text>\n<text text-anchor=\"start\" x=\"9939.5\" y=\"-840.8\" font-family=\"Helvetica,sans-Serif\" font-size=\"14.00\" fill=\"#000000\">value = [8, 356, 1282, 1766, 1191, 586, 1129]</text>\n<text text-anchor=\"start\" x=\"10036\" y=\"-825.8\" font-family=\"Helvetica,sans-Serif\" font-size=\"14.00\" fill=\"#000000\">class = clase_3</text>\n</g>\n<!-- 166&#45;&gt;167 -->\n<g id=\"edge167\" class=\"edge\">\n<title>166&#45;&gt;167</title>\n<path fill=\"none\" stroke=\"#000000\" d=\"M10330.6065,-936.9631C10297.2407,-926.3751 10261.236,-914.9496 10227.3941,-904.2104\"/>\n<polygon fill=\"#000000\" stroke=\"#000000\" points=\"10228.0303,-900.7403 10217.4401,-901.0516 10225.913,-907.4125 10228.0303,-900.7403\"/>\n</g>\n<!-- 174 -->\n<g id=\"node175\" class=\"node\">\n<title>174</title>\n<path fill=\"#e63e89\" stroke=\"#000000\" d=\"M10555,-901C10555,-901 10368,-901 10368,-901 10362,-901 10356,-895 10356,-889 10356,-889 10356,-830 10356,-830 10356,-824 10362,-818 10368,-818 10368,-818 10555,-818 10555,-818 10561,-818 10567,-824 10567,-830 10567,-830 10567,-889 10567,-889 10567,-895 10561,-901 10555,-901\"/>\n<text text-anchor=\"start\" x=\"10416\" y=\"-885.8\" font-family=\"Helvetica,sans-Serif\" font-size=\"14.00\" fill=\"#000000\">service ≤ 11.5</text>\n<text text-anchor=\"start\" x=\"10423.5\" y=\"-870.8\" font-family=\"Helvetica,sans-Serif\" font-size=\"14.00\" fill=\"#000000\">gini = 0.045</text>\n<text text-anchor=\"start\" x=\"10409.5\" y=\"-855.8\" font-family=\"Helvetica,sans-Serif\" font-size=\"14.00\" fill=\"#000000\">samples = 1288</text>\n<text text-anchor=\"start\" x=\"10364\" y=\"-840.8\" font-family=\"Helvetica,sans-Serif\" font-size=\"14.00\" fill=\"#000000\">value = [0, 0, 0, 1, 4, 41, 1942]</text>\n<text text-anchor=\"start\" x=\"10411\" y=\"-825.8\" font-family=\"Helvetica,sans-Serif\" font-size=\"14.00\" fill=\"#000000\">class = clase_6</text>\n</g>\n<!-- 166&#45;&gt;174 -->\n<g id=\"edge174\" class=\"edge\">\n<title>166&#45;&gt;174</title>\n<path fill=\"none\" stroke=\"#000000\" d=\"M10461.5,-936.8796C10461.5,-928.6838 10461.5,-919.9891 10461.5,-911.5013\"/>\n<polygon fill=\"#000000\" stroke=\"#000000\" points=\"10465.0001,-911.298 10461.5,-901.2981 10458.0001,-911.2981 10465.0001,-911.298\"/>\n</g>\n<!-- 168 -->\n<g id=\"node169\" class=\"node\">\n<title>168</title>\n<path fill=\"#fef6f9\" stroke=\"#000000\" d=\"M9914,-782C9914,-782 9669,-782 9669,-782 9663,-782 9657,-776 9657,-770 9657,-770 9657,-711 9657,-711 9657,-705 9663,-699 9669,-699 9669,-699 9914,-699 9914,-699 9920,-699 9926,-705 9926,-711 9926,-711 9926,-770 9926,-770 9926,-776 9920,-782 9914,-782\"/>\n<text text-anchor=\"start\" x=\"9750.5\" y=\"-766.8\" font-family=\"Helvetica,sans-Serif\" font-size=\"14.00\" fill=\"#000000\">service ≤ 8.5</text>\n<text text-anchor=\"start\" x=\"9753.5\" y=\"-751.8\" font-family=\"Helvetica,sans-Serif\" font-size=\"14.00\" fill=\"#000000\">gini = 0.781</text>\n<text text-anchor=\"start\" x=\"9739.5\" y=\"-736.8\" font-family=\"Helvetica,sans-Serif\" font-size=\"14.00\" fill=\"#000000\">samples = 1148</text>\n<text text-anchor=\"start\" x=\"9665\" y=\"-721.8\" font-family=\"Helvetica,sans-Serif\" font-size=\"14.00\" fill=\"#000000\">value = [0, 39, 344, 474, 284, 155, 536]</text>\n<text text-anchor=\"start\" x=\"9741\" y=\"-706.8\" font-family=\"Helvetica,sans-Serif\" font-size=\"14.00\" fill=\"#000000\">class = clase_6</text>\n</g>\n<!-- 167&#45;&gt;168 -->\n<g id=\"edge168\" class=\"edge\">\n<title>167&#45;&gt;168</title>\n<path fill=\"none\" stroke=\"#000000\" d=\"M9983.3233,-817.8796C9957.723,-807.5527 9930.159,-796.4336 9904.1315,-785.9344\"/>\n<polygon fill=\"#000000\" stroke=\"#000000\" points=\"9905.2017,-782.5921 9894.6184,-782.0969 9902.583,-789.0838 9905.2017,-782.5921\"/>\n</g>\n<!-- 173 -->\n<g id=\"node174\" class=\"node\">\n<title>173</title>\n<path fill=\"#ebfcfc\" stroke=\"#000000\" d=\"M10217,-774.5C10217,-774.5 9956,-774.5 9956,-774.5 9950,-774.5 9944,-768.5 9944,-762.5 9944,-762.5 9944,-718.5 9944,-718.5 9944,-712.5 9950,-706.5 9956,-706.5 9956,-706.5 10217,-706.5 10217,-706.5 10223,-706.5 10229,-712.5 10229,-718.5 10229,-718.5 10229,-762.5 10229,-762.5 10229,-768.5 10223,-774.5 10217,-774.5\"/>\n<text text-anchor=\"start\" x=\"10048.5\" y=\"-759.3\" font-family=\"Helvetica,sans-Serif\" font-size=\"14.00\" fill=\"#000000\">gini = 0.801</text>\n<text text-anchor=\"start\" x=\"10034.5\" y=\"-744.3\" font-family=\"Helvetica,sans-Serif\" font-size=\"14.00\" fill=\"#000000\">samples = 2847</text>\n<text text-anchor=\"start\" x=\"9952\" y=\"-729.3\" font-family=\"Helvetica,sans-Serif\" font-size=\"14.00\" fill=\"#000000\">value = [8, 317, 938, 1292, 907, 431, 593]</text>\n<text text-anchor=\"start\" x=\"10036\" y=\"-714.3\" font-family=\"Helvetica,sans-Serif\" font-size=\"14.00\" fill=\"#000000\">class = clase_3</text>\n</g>\n<!-- 167&#45;&gt;173 -->\n<g id=\"edge173\" class=\"edge\">\n<title>167&#45;&gt;173</title>\n<path fill=\"none\" stroke=\"#000000\" d=\"M10086.5,-817.8796C10086.5,-807.2134 10086.5,-795.7021 10086.5,-784.9015\"/>\n<polygon fill=\"#000000\" stroke=\"#000000\" points=\"10090.0001,-784.8149 10086.5,-774.8149 10083.0001,-784.815 10090.0001,-784.8149\"/>\n</g>\n<!-- 169 -->\n<g id=\"node170\" class=\"node\">\n<title>169</title>\n<path fill=\"#e8fcfc\" stroke=\"#000000\" d=\"M9914,-663C9914,-663 9669,-663 9669,-663 9663,-663 9657,-657 9657,-651 9657,-651 9657,-592 9657,-592 9657,-586 9663,-580 9669,-580 9669,-580 9914,-580 9914,-580 9920,-580 9926,-586 9926,-592 9926,-592 9926,-651 9926,-651 9926,-657 9920,-663 9914,-663\"/>\n<text text-anchor=\"start\" x=\"9750.5\" y=\"-647.8\" font-family=\"Helvetica,sans-Serif\" font-size=\"14.00\" fill=\"#000000\">service ≤ 7.5</text>\n<text text-anchor=\"start\" x=\"9753.5\" y=\"-632.8\" font-family=\"Helvetica,sans-Serif\" font-size=\"14.00\" fill=\"#000000\">gini = 0.774</text>\n<text text-anchor=\"start\" x=\"9743.5\" y=\"-617.8\" font-family=\"Helvetica,sans-Serif\" font-size=\"14.00\" fill=\"#000000\">samples = 907</text>\n<text text-anchor=\"start\" x=\"9665\" y=\"-602.8\" font-family=\"Helvetica,sans-Serif\" font-size=\"14.00\" fill=\"#000000\">value = [0, 39, 344, 474, 284, 155, 148]</text>\n<text text-anchor=\"start\" x=\"9741\" y=\"-587.8\" font-family=\"Helvetica,sans-Serif\" font-size=\"14.00\" fill=\"#000000\">class = clase_3</text>\n</g>\n<!-- 168&#45;&gt;169 -->\n<g id=\"edge169\" class=\"edge\">\n<title>168&#45;&gt;169</title>\n<path fill=\"none\" stroke=\"#000000\" d=\"M9791.5,-698.8796C9791.5,-690.6838 9791.5,-681.9891 9791.5,-673.5013\"/>\n<polygon fill=\"#000000\" stroke=\"#000000\" points=\"9795.0001,-673.298 9791.5,-663.2981 9788.0001,-673.2981 9795.0001,-673.298\"/>\n</g>\n<!-- 172 -->\n<g id=\"node173\" class=\"node\">\n<title>172</title>\n<path fill=\"#e53986\" stroke=\"#000000\" d=\"M10126.5,-655.5C10126.5,-655.5 9956.5,-655.5 9956.5,-655.5 9950.5,-655.5 9944.5,-649.5 9944.5,-643.5 9944.5,-643.5 9944.5,-599.5 9944.5,-599.5 9944.5,-593.5 9950.5,-587.5 9956.5,-587.5 9956.5,-587.5 10126.5,-587.5 10126.5,-587.5 10132.5,-587.5 10138.5,-593.5 10138.5,-599.5 10138.5,-599.5 10138.5,-643.5 10138.5,-643.5 10138.5,-649.5 10132.5,-655.5 10126.5,-655.5\"/>\n<text text-anchor=\"start\" x=\"10012\" y=\"-640.3\" font-family=\"Helvetica,sans-Serif\" font-size=\"14.00\" fill=\"#000000\">gini = 0.0</text>\n<text text-anchor=\"start\" x=\"9993.5\" y=\"-625.3\" font-family=\"Helvetica,sans-Serif\" font-size=\"14.00\" fill=\"#000000\">samples = 241</text>\n<text text-anchor=\"start\" x=\"9952.5\" y=\"-610.3\" font-family=\"Helvetica,sans-Serif\" font-size=\"14.00\" fill=\"#000000\">value = [0, 0, 0, 0, 0, 0, 388]</text>\n<text text-anchor=\"start\" x=\"9991\" y=\"-595.3\" font-family=\"Helvetica,sans-Serif\" font-size=\"14.00\" fill=\"#000000\">class = clase_6</text>\n</g>\n<!-- 168&#45;&gt;172 -->\n<g id=\"edge172\" class=\"edge\">\n<title>168&#45;&gt;172</title>\n<path fill=\"none\" stroke=\"#000000\" d=\"M9878.9379,-698.8796C9905.5145,-686.2291 9934.5885,-672.3899 9960.7068,-659.9576\"/>\n<polygon fill=\"#000000\" stroke=\"#000000\" points=\"9962.288,-663.0813 9969.813,-655.623 9959.2794,-656.7608 9962.288,-663.0813\"/>\n</g>\n<!-- 170 -->\n<g id=\"node171\" class=\"node\">\n<title>170</title>\n<path fill=\"#dcfafa\" stroke=\"#000000\" d=\"M9876.5,-536.5C9876.5,-536.5 9648.5,-536.5 9648.5,-536.5 9642.5,-536.5 9636.5,-530.5 9636.5,-524.5 9636.5,-524.5 9636.5,-480.5 9636.5,-480.5 9636.5,-474.5 9642.5,-468.5 9648.5,-468.5 9648.5,-468.5 9876.5,-468.5 9876.5,-468.5 9882.5,-468.5 9888.5,-474.5 9888.5,-480.5 9888.5,-480.5 9888.5,-524.5 9888.5,-524.5 9888.5,-530.5 9882.5,-536.5 9876.5,-536.5\"/>\n<text text-anchor=\"start\" x=\"9724.5\" y=\"-521.3\" font-family=\"Helvetica,sans-Serif\" font-size=\"14.00\" fill=\"#000000\">gini = 0.763</text>\n<text text-anchor=\"start\" x=\"9714.5\" y=\"-506.3\" font-family=\"Helvetica,sans-Serif\" font-size=\"14.00\" fill=\"#000000\">samples = 327</text>\n<text text-anchor=\"start\" x=\"9644.5\" y=\"-491.3\" font-family=\"Helvetica,sans-Serif\" font-size=\"14.00\" fill=\"#000000\">value = [0, 13, 107, 200, 123, 65, 48]</text>\n<text text-anchor=\"start\" x=\"9712\" y=\"-476.3\" font-family=\"Helvetica,sans-Serif\" font-size=\"14.00\" fill=\"#000000\">class = clase_3</text>\n</g>\n<!-- 169&#45;&gt;170 -->\n<g id=\"edge170\" class=\"edge\">\n<title>169&#45;&gt;170</title>\n<path fill=\"none\" stroke=\"#000000\" d=\"M9781.3572,-579.8796C9778.7311,-569.1034 9775.8948,-557.4647 9773.2392,-546.5677\"/>\n<polygon fill=\"#000000\" stroke=\"#000000\" points=\"9776.6307,-545.7019 9770.8625,-536.8149 9769.8297,-547.3593 9776.6307,-545.7019\"/>\n</g>\n<!-- 171 -->\n<g id=\"node172\" class=\"node\">\n<title>171</title>\n<path fill=\"#f4fefd\" stroke=\"#000000\" d=\"M10154.5,-536.5C10154.5,-536.5 9918.5,-536.5 9918.5,-536.5 9912.5,-536.5 9906.5,-530.5 9906.5,-524.5 9906.5,-524.5 9906.5,-480.5 9906.5,-480.5 9906.5,-474.5 9912.5,-468.5 9918.5,-468.5 9918.5,-468.5 10154.5,-468.5 10154.5,-468.5 10160.5,-468.5 10166.5,-474.5 10166.5,-480.5 10166.5,-480.5 10166.5,-524.5 10166.5,-524.5 10166.5,-530.5 10160.5,-536.5 10154.5,-536.5\"/>\n<text text-anchor=\"start\" x=\"9998.5\" y=\"-521.3\" font-family=\"Helvetica,sans-Serif\" font-size=\"14.00\" fill=\"#000000\">gini = 0.777</text>\n<text text-anchor=\"start\" x=\"9988.5\" y=\"-506.3\" font-family=\"Helvetica,sans-Serif\" font-size=\"14.00\" fill=\"#000000\">samples = 580</text>\n<text text-anchor=\"start\" x=\"9914.5\" y=\"-491.3\" font-family=\"Helvetica,sans-Serif\" font-size=\"14.00\" fill=\"#000000\">value = [0, 26, 237, 274, 161, 90, 100]</text>\n<text text-anchor=\"start\" x=\"9986\" y=\"-476.3\" font-family=\"Helvetica,sans-Serif\" font-size=\"14.00\" fill=\"#000000\">class = clase_3</text>\n</g>\n<!-- 169&#45;&gt;171 -->\n<g id=\"edge171\" class=\"edge\">\n<title>169&#45;&gt;171</title>\n<path fill=\"none\" stroke=\"#000000\" d=\"M9877.1891,-579.8796C9903.1205,-567.2843 9931.4779,-553.5107 9956.9872,-541.1205\"/>\n<polygon fill=\"#000000\" stroke=\"#000000\" points=\"9958.7808,-544.1404 9966.2467,-536.623 9955.7224,-537.8438 9958.7808,-544.1404\"/>\n</g>\n<!-- 175 -->\n<g id=\"node176\" class=\"node\">\n<title>175</title>\n<path fill=\"#e95597\" stroke=\"#000000\" d=\"M10421.5,-774.5C10421.5,-774.5 10259.5,-774.5 10259.5,-774.5 10253.5,-774.5 10247.5,-768.5 10247.5,-762.5 10247.5,-762.5 10247.5,-718.5 10247.5,-718.5 10247.5,-712.5 10253.5,-706.5 10259.5,-706.5 10259.5,-706.5 10421.5,-706.5 10421.5,-706.5 10427.5,-706.5 10433.5,-712.5 10433.5,-718.5 10433.5,-718.5 10433.5,-762.5 10433.5,-762.5 10433.5,-768.5 10427.5,-774.5 10421.5,-774.5\"/>\n<text text-anchor=\"start\" x=\"10302.5\" y=\"-759.3\" font-family=\"Helvetica,sans-Serif\" font-size=\"14.00\" fill=\"#000000\">gini = 0.234</text>\n<text text-anchor=\"start\" x=\"10296.5\" y=\"-744.3\" font-family=\"Helvetica,sans-Serif\" font-size=\"14.00\" fill=\"#000000\">samples = 31</text>\n<text text-anchor=\"start\" x=\"10255.5\" y=\"-729.3\" font-family=\"Helvetica,sans-Serif\" font-size=\"14.00\" fill=\"#000000\">value = [0, 0, 0, 0, 2, 4, 40]</text>\n<text text-anchor=\"start\" x=\"10290\" y=\"-714.3\" font-family=\"Helvetica,sans-Serif\" font-size=\"14.00\" fill=\"#000000\">class = clase_6</text>\n</g>\n<!-- 174&#45;&gt;175 -->\n<g id=\"edge175\" class=\"edge\">\n<title>174&#45;&gt;175</title>\n<path fill=\"none\" stroke=\"#000000\" d=\"M10419.1801,-817.8796C10407.3283,-806.2237 10394.4505,-793.5587 10382.6109,-781.9148\"/>\n<polygon fill=\"#000000\" stroke=\"#000000\" points=\"10384.9756,-779.3314 10375.3917,-774.8149 10380.0673,-784.3223 10384.9756,-779.3314\"/>\n</g>\n<!-- 176 -->\n<g id=\"node177\" class=\"node\">\n<title>176</title>\n<path fill=\"#e63d89\" stroke=\"#000000\" d=\"M10651,-782C10651,-782 10464,-782 10464,-782 10458,-782 10452,-776 10452,-770 10452,-770 10452,-711 10452,-711 10452,-705 10458,-699 10464,-699 10464,-699 10651,-699 10651,-699 10657,-699 10663,-705 10663,-711 10663,-711 10663,-770 10663,-770 10663,-776 10657,-782 10651,-782\"/>\n<text text-anchor=\"start\" x=\"10512\" y=\"-766.8\" font-family=\"Helvetica,sans-Serif\" font-size=\"14.00\" fill=\"#000000\">service ≤ 15.5</text>\n<text text-anchor=\"start\" x=\"10524\" y=\"-751.8\" font-family=\"Helvetica,sans-Serif\" font-size=\"14.00\" fill=\"#000000\">gini = 0.04</text>\n<text text-anchor=\"start\" x=\"10505.5\" y=\"-736.8\" font-family=\"Helvetica,sans-Serif\" font-size=\"14.00\" fill=\"#000000\">samples = 1257</text>\n<text text-anchor=\"start\" x=\"10460\" y=\"-721.8\" font-family=\"Helvetica,sans-Serif\" font-size=\"14.00\" fill=\"#000000\">value = [0, 0, 0, 1, 2, 37, 1902]</text>\n<text text-anchor=\"start\" x=\"10507\" y=\"-706.8\" font-family=\"Helvetica,sans-Serif\" font-size=\"14.00\" fill=\"#000000\">class = clase_6</text>\n</g>\n<!-- 174&#45;&gt;176 -->\n<g id=\"edge176\" class=\"edge\">\n<title>174&#45;&gt;176</title>\n<path fill=\"none\" stroke=\"#000000\" d=\"M10495.0761,-817.8796C10502.2691,-808.9633 10509.9384,-799.4565 10517.351,-790.268\"/>\n<polygon fill=\"#000000\" stroke=\"#000000\" points=\"10520.2258,-792.2788 10523.7805,-782.2981 10514.7776,-787.8836 10520.2258,-792.2788\"/>\n</g>\n<!-- 177 -->\n<g id=\"node178\" class=\"node\">\n<title>177</title>\n<path fill=\"#e63e89\" stroke=\"#000000\" d=\"M10384,-663C10384,-663 10197,-663 10197,-663 10191,-663 10185,-657 10185,-651 10185,-651 10185,-592 10185,-592 10185,-586 10191,-580 10197,-580 10197,-580 10384,-580 10384,-580 10390,-580 10396,-586 10396,-592 10396,-592 10396,-651 10396,-651 10396,-657 10390,-663 10384,-663\"/>\n<text text-anchor=\"start\" x=\"10245\" y=\"-647.8\" font-family=\"Helvetica,sans-Serif\" font-size=\"14.00\" fill=\"#000000\">service ≤ 12.5</text>\n<text text-anchor=\"start\" x=\"10252.5\" y=\"-632.8\" font-family=\"Helvetica,sans-Serif\" font-size=\"14.00\" fill=\"#000000\">gini = 0.044</text>\n<text text-anchor=\"start\" x=\"10238.5\" y=\"-617.8\" font-family=\"Helvetica,sans-Serif\" font-size=\"14.00\" fill=\"#000000\">samples = 1155</text>\n<text text-anchor=\"start\" x=\"10193\" y=\"-602.8\" font-family=\"Helvetica,sans-Serif\" font-size=\"14.00\" fill=\"#000000\">value = [0, 0, 0, 1, 2, 37, 1734]</text>\n<text text-anchor=\"start\" x=\"10240\" y=\"-587.8\" font-family=\"Helvetica,sans-Serif\" font-size=\"14.00\" fill=\"#000000\">class = clase_6</text>\n</g>\n<!-- 176&#45;&gt;177 -->\n<g id=\"edge177\" class=\"edge\">\n<title>176&#45;&gt;177</title>\n<path fill=\"none\" stroke=\"#000000\" d=\"M10464.1164,-698.8796C10441.1492,-688.6433 10416.4357,-677.6286 10393.0613,-667.2108\"/>\n<polygon fill=\"#000000\" stroke=\"#000000\" points=\"10394.3896,-663.971 10383.8309,-663.0969 10391.54,-670.3647 10394.3896,-663.971\"/>\n</g>\n<!-- 184 -->\n<g id=\"node185\" class=\"node\">\n<title>184</title>\n<path fill=\"#e53986\" stroke=\"#000000\" d=\"M10596.5,-655.5C10596.5,-655.5 10426.5,-655.5 10426.5,-655.5 10420.5,-655.5 10414.5,-649.5 10414.5,-643.5 10414.5,-643.5 10414.5,-599.5 10414.5,-599.5 10414.5,-593.5 10420.5,-587.5 10426.5,-587.5 10426.5,-587.5 10596.5,-587.5 10596.5,-587.5 10602.5,-587.5 10608.5,-593.5 10608.5,-599.5 10608.5,-599.5 10608.5,-643.5 10608.5,-643.5 10608.5,-649.5 10602.5,-655.5 10596.5,-655.5\"/>\n<text text-anchor=\"start\" x=\"10482\" y=\"-640.3\" font-family=\"Helvetica,sans-Serif\" font-size=\"14.00\" fill=\"#000000\">gini = 0.0</text>\n<text text-anchor=\"start\" x=\"10463.5\" y=\"-625.3\" font-family=\"Helvetica,sans-Serif\" font-size=\"14.00\" fill=\"#000000\">samples = 102</text>\n<text text-anchor=\"start\" x=\"10422.5\" y=\"-610.3\" font-family=\"Helvetica,sans-Serif\" font-size=\"14.00\" fill=\"#000000\">value = [0, 0, 0, 0, 0, 0, 168]</text>\n<text text-anchor=\"start\" x=\"10461\" y=\"-595.3\" font-family=\"Helvetica,sans-Serif\" font-size=\"14.00\" fill=\"#000000\">class = clase_6</text>\n</g>\n<!-- 176&#45;&gt;184 -->\n<g id=\"edge184\" class=\"edge\">\n<title>176&#45;&gt;184</title>\n<path fill=\"none\" stroke=\"#000000\" d=\"M10541.4114,-698.8796C10537.2034,-687.9935 10532.655,-676.227 10528.4057,-665.2344\"/>\n<polygon fill=\"#000000\" stroke=\"#000000\" points=\"10531.6348,-663.8804 10524.7646,-655.8149 10525.1056,-666.4043 10531.6348,-663.8804\"/>\n</g>\n<!-- 178 -->\n<g id=\"node179\" class=\"node\">\n<title>178</title>\n<path fill=\"#e53a87\" stroke=\"#000000\" d=\"M10366.5,-536.5C10366.5,-536.5 10196.5,-536.5 10196.5,-536.5 10190.5,-536.5 10184.5,-530.5 10184.5,-524.5 10184.5,-524.5 10184.5,-480.5 10184.5,-480.5 10184.5,-474.5 10190.5,-468.5 10196.5,-468.5 10196.5,-468.5 10366.5,-468.5 10366.5,-468.5 10372.5,-468.5 10378.5,-474.5 10378.5,-480.5 10378.5,-480.5 10378.5,-524.5 10378.5,-524.5 10378.5,-530.5 10372.5,-536.5 10366.5,-536.5\"/>\n<text text-anchor=\"start\" x=\"10248\" y=\"-521.3\" font-family=\"Helvetica,sans-Serif\" font-size=\"14.00\" fill=\"#000000\">gini = 0.01</text>\n<text text-anchor=\"start\" x=\"10233.5\" y=\"-506.3\" font-family=\"Helvetica,sans-Serif\" font-size=\"14.00\" fill=\"#000000\">samples = 118</text>\n<text text-anchor=\"start\" x=\"10192.5\" y=\"-491.3\" font-family=\"Helvetica,sans-Serif\" font-size=\"14.00\" fill=\"#000000\">value = [0, 0, 0, 1, 0, 0, 189]</text>\n<text text-anchor=\"start\" x=\"10231\" y=\"-476.3\" font-family=\"Helvetica,sans-Serif\" font-size=\"14.00\" fill=\"#000000\">class = clase_6</text>\n</g>\n<!-- 177&#45;&gt;178 -->\n<g id=\"edge178\" class=\"edge\">\n<title>177&#45;&gt;178</title>\n<path fill=\"none\" stroke=\"#000000\" d=\"M10287.3522,-579.8796C10286.5455,-569.2134 10285.6749,-557.7021 10284.8581,-546.9015\"/>\n<polygon fill=\"#000000\" stroke=\"#000000\" points=\"10288.3395,-546.5225 10284.0952,-536.8149 10281.3595,-547.0504 10288.3395,-546.5225\"/>\n</g>\n<!-- 179 -->\n<g id=\"node180\" class=\"node\">\n<title>179</title>\n<path fill=\"#e63e89\" stroke=\"#000000\" d=\"M10596,-544C10596,-544 10409,-544 10409,-544 10403,-544 10397,-538 10397,-532 10397,-532 10397,-473 10397,-473 10397,-467 10403,-461 10409,-461 10409,-461 10596,-461 10596,-461 10602,-461 10608,-467 10608,-473 10608,-473 10608,-532 10608,-532 10608,-538 10602,-544 10596,-544\"/>\n<text text-anchor=\"start\" x=\"10457\" y=\"-528.8\" font-family=\"Helvetica,sans-Serif\" font-size=\"14.00\" fill=\"#000000\">service ≤ 14.5</text>\n<text text-anchor=\"start\" x=\"10464.5\" y=\"-513.8\" font-family=\"Helvetica,sans-Serif\" font-size=\"14.00\" fill=\"#000000\">gini = 0.048</text>\n<text text-anchor=\"start\" x=\"10450.5\" y=\"-498.8\" font-family=\"Helvetica,sans-Serif\" font-size=\"14.00\" fill=\"#000000\">samples = 1037</text>\n<text text-anchor=\"start\" x=\"10405\" y=\"-483.8\" font-family=\"Helvetica,sans-Serif\" font-size=\"14.00\" fill=\"#000000\">value = [0, 0, 0, 0, 2, 37, 1545]</text>\n<text text-anchor=\"start\" x=\"10452\" y=\"-468.8\" font-family=\"Helvetica,sans-Serif\" font-size=\"14.00\" fill=\"#000000\">class = clase_6</text>\n</g>\n<!-- 177&#45;&gt;179 -->\n<g id=\"edge179\" class=\"edge\">\n<title>177&#45;&gt;179</title>\n<path fill=\"none\" stroke=\"#000000\" d=\"M10364.6473,-579.8796C10382.3993,-569.915 10401.4652,-559.2129 10419.5852,-549.0418\"/>\n<polygon fill=\"#000000\" stroke=\"#000000\" points=\"10421.3876,-552.0438 10428.3946,-544.0969 10417.9612,-545.9397 10421.3876,-552.0438\"/>\n</g>\n<!-- 180 -->\n<g id=\"node181\" class=\"node\">\n<title>180</title>\n<path fill=\"#e63d89\" stroke=\"#000000\" d=\"M10376,-425C10376,-425 10197,-425 10197,-425 10191,-425 10185,-419 10185,-413 10185,-413 10185,-354 10185,-354 10185,-348 10191,-342 10197,-342 10197,-342 10376,-342 10376,-342 10382,-342 10388,-348 10388,-354 10388,-354 10388,-413 10388,-413 10388,-419 10382,-425 10376,-425\"/>\n<text text-anchor=\"start\" x=\"10241\" y=\"-409.8\" font-family=\"Helvetica,sans-Serif\" font-size=\"14.00\" fill=\"#000000\">service ≤ 13.5</text>\n<text text-anchor=\"start\" x=\"10248.5\" y=\"-394.8\" font-family=\"Helvetica,sans-Serif\" font-size=\"14.00\" fill=\"#000000\">gini = 0.043</text>\n<text text-anchor=\"start\" x=\"10238.5\" y=\"-379.8\" font-family=\"Helvetica,sans-Serif\" font-size=\"14.00\" fill=\"#000000\">samples = 588</text>\n<text text-anchor=\"start\" x=\"10193\" y=\"-364.8\" font-family=\"Helvetica,sans-Serif\" font-size=\"14.00\" fill=\"#000000\">value = [0, 0, 0, 0, 2, 18, 896]</text>\n<text text-anchor=\"start\" x=\"10236\" y=\"-349.8\" font-family=\"Helvetica,sans-Serif\" font-size=\"14.00\" fill=\"#000000\">class = clase_6</text>\n</g>\n<!-- 179&#45;&gt;180 -->\n<g id=\"edge180\" class=\"edge\">\n<title>179&#45;&gt;180</title>\n<path fill=\"none\" stroke=\"#000000\" d=\"M10426.9537,-460.8796C10408.8668,-450.915 10389.4411,-440.2129 10370.9793,-430.0418\"/>\n<polygon fill=\"#000000\" stroke=\"#000000\" points=\"10372.4513,-426.8568 10362.0037,-425.0969 10369.0735,-432.9879 10372.4513,-426.8568\"/>\n</g>\n<!-- 183 -->\n<g id=\"node184\" class=\"node\">\n<title>183</title>\n<path fill=\"#e63f8a\" stroke=\"#000000\" d=\"M10597,-417.5C10597,-417.5 10418,-417.5 10418,-417.5 10412,-417.5 10406,-411.5 10406,-405.5 10406,-405.5 10406,-361.5 10406,-361.5 10406,-355.5 10412,-349.5 10418,-349.5 10418,-349.5 10597,-349.5 10597,-349.5 10603,-349.5 10609,-355.5 10609,-361.5 10609,-361.5 10609,-405.5 10609,-405.5 10609,-411.5 10603,-417.5 10597,-417.5\"/>\n<text text-anchor=\"start\" x=\"10469.5\" y=\"-402.3\" font-family=\"Helvetica,sans-Serif\" font-size=\"14.00\" fill=\"#000000\">gini = 0.055</text>\n<text text-anchor=\"start\" x=\"10459.5\" y=\"-387.3\" font-family=\"Helvetica,sans-Serif\" font-size=\"14.00\" fill=\"#000000\">samples = 449</text>\n<text text-anchor=\"start\" x=\"10414\" y=\"-372.3\" font-family=\"Helvetica,sans-Serif\" font-size=\"14.00\" fill=\"#000000\">value = [0, 0, 0, 0, 0, 19, 649]</text>\n<text text-anchor=\"start\" x=\"10457\" y=\"-357.3\" font-family=\"Helvetica,sans-Serif\" font-size=\"14.00\" fill=\"#000000\">class = clase_6</text>\n</g>\n<!-- 179&#45;&gt;183 -->\n<g id=\"edge183\" class=\"edge\">\n<title>179&#45;&gt;183</title>\n<path fill=\"none\" stroke=\"#000000\" d=\"M10504.2488,-460.8796C10504.6969,-450.2134 10505.1806,-438.7021 10505.6344,-427.9015\"/>\n<polygon fill=\"#000000\" stroke=\"#000000\" points=\"10509.1352,-427.9531 10506.0582,-417.8149 10502.1414,-427.6592 10509.1352,-427.9531\"/>\n</g>\n<!-- 181 -->\n<g id=\"node182\" class=\"node\">\n<title>181</title>\n<path fill=\"#e63e89\" stroke=\"#000000\" d=\"M10268,-298.5C10268,-298.5 10089,-298.5 10089,-298.5 10083,-298.5 10077,-292.5 10077,-286.5 10077,-286.5 10077,-242.5 10077,-242.5 10077,-236.5 10083,-230.5 10089,-230.5 10089,-230.5 10268,-230.5 10268,-230.5 10274,-230.5 10280,-236.5 10280,-242.5 10280,-242.5 10280,-286.5 10280,-286.5 10280,-292.5 10274,-298.5 10268,-298.5\"/>\n<text text-anchor=\"start\" x=\"10140.5\" y=\"-283.3\" font-family=\"Helvetica,sans-Serif\" font-size=\"14.00\" fill=\"#000000\">gini = 0.047</text>\n<text text-anchor=\"start\" x=\"10130.5\" y=\"-268.3\" font-family=\"Helvetica,sans-Serif\" font-size=\"14.00\" fill=\"#000000\">samples = 398</text>\n<text text-anchor=\"start\" x=\"10085\" y=\"-253.3\" font-family=\"Helvetica,sans-Serif\" font-size=\"14.00\" fill=\"#000000\">value = [0, 0, 0, 0, 2, 13, 610]</text>\n<text text-anchor=\"start\" x=\"10128\" y=\"-238.3\" font-family=\"Helvetica,sans-Serif\" font-size=\"14.00\" fill=\"#000000\">class = clase_6</text>\n</g>\n<!-- 180&#45;&gt;181 -->\n<g id=\"edge181\" class=\"edge\">\n<title>180&#45;&gt;181</title>\n<path fill=\"none\" stroke=\"#000000\" d=\"M10248.7268,-341.8796C10238.2482,-330.3337 10226.8709,-317.7976 10216.3859,-306.2446\"/>\n<polygon fill=\"#000000\" stroke=\"#000000\" points=\"10218.9553,-303.8678 10209.643,-298.8149 10213.7718,-308.5722 10218.9553,-303.8678\"/>\n</g>\n<!-- 182 -->\n<g id=\"node183\" class=\"node\">\n<title>182</title>\n<path fill=\"#e53c88\" stroke=\"#000000\" d=\"M10479.5,-298.5C10479.5,-298.5 10309.5,-298.5 10309.5,-298.5 10303.5,-298.5 10297.5,-292.5 10297.5,-286.5 10297.5,-286.5 10297.5,-242.5 10297.5,-242.5 10297.5,-236.5 10303.5,-230.5 10309.5,-230.5 10309.5,-230.5 10479.5,-230.5 10479.5,-230.5 10485.5,-230.5 10491.5,-236.5 10491.5,-242.5 10491.5,-242.5 10491.5,-286.5 10491.5,-286.5 10491.5,-292.5 10485.5,-298.5 10479.5,-298.5\"/>\n<text text-anchor=\"start\" x=\"10356.5\" y=\"-283.3\" font-family=\"Helvetica,sans-Serif\" font-size=\"14.00\" fill=\"#000000\">gini = 0.034</text>\n<text text-anchor=\"start\" x=\"10346.5\" y=\"-268.3\" font-family=\"Helvetica,sans-Serif\" font-size=\"14.00\" fill=\"#000000\">samples = 190</text>\n<text text-anchor=\"start\" x=\"10305.5\" y=\"-253.3\" font-family=\"Helvetica,sans-Serif\" font-size=\"14.00\" fill=\"#000000\">value = [0, 0, 0, 0, 0, 5, 286]</text>\n<text text-anchor=\"start\" x=\"10344\" y=\"-238.3\" font-family=\"Helvetica,sans-Serif\" font-size=\"14.00\" fill=\"#000000\">class = clase_6</text>\n</g>\n<!-- 180&#45;&gt;182 -->\n<g id=\"edge182\" class=\"edge\">\n<title>180&#45;&gt;182</title>\n<path fill=\"none\" stroke=\"#000000\" d=\"M10324.2732,-341.8796C10334.7518,-330.3337 10346.1291,-317.7976 10356.6141,-306.2446\"/>\n<polygon fill=\"#000000\" stroke=\"#000000\" points=\"10359.2282,-308.5722 10363.357,-298.8149 10354.0447,-303.8678 10359.2282,-308.5722\"/>\n</g>\n<!-- 186 -->\n<g id=\"node187\" class=\"node\">\n<title>186</title>\n<path fill=\"#f5fefe\" stroke=\"#000000\" d=\"M11593.5,-901C11593.5,-901 11307.5,-901 11307.5,-901 11301.5,-901 11295.5,-895 11295.5,-889 11295.5,-889 11295.5,-830 11295.5,-830 11295.5,-824 11301.5,-818 11307.5,-818 11307.5,-818 11593.5,-818 11593.5,-818 11599.5,-818 11605.5,-824 11605.5,-830 11605.5,-830 11605.5,-889 11605.5,-889 11605.5,-895 11599.5,-901 11593.5,-901\"/>\n<text text-anchor=\"start\" x=\"11387\" y=\"-885.8\" font-family=\"Helvetica,sans-Serif\" font-size=\"14.00\" fill=\"#000000\">receiver_state ≤ 3.5</text>\n<text text-anchor=\"start\" x=\"11412.5\" y=\"-870.8\" font-family=\"Helvetica,sans-Serif\" font-size=\"14.00\" fill=\"#000000\">gini = 0.809</text>\n<text text-anchor=\"start\" x=\"11398.5\" y=\"-855.8\" font-family=\"Helvetica,sans-Serif\" font-size=\"14.00\" fill=\"#000000\">samples = 4506</text>\n<text text-anchor=\"start\" x=\"11303.5\" y=\"-840.8\" font-family=\"Helvetica,sans-Serif\" font-size=\"14.00\" fill=\"#000000\">value = [21, 661, 1608, 1890, 1302, 838, 759]</text>\n<text text-anchor=\"start\" x=\"11400\" y=\"-825.8\" font-family=\"Helvetica,sans-Serif\" font-size=\"14.00\" fill=\"#000000\">class = clase_3</text>\n</g>\n<!-- 185&#45;&gt;186 -->\n<g id=\"edge186\" class=\"edge\">\n<title>185&#45;&gt;186</title>\n<path fill=\"none\" stroke=\"#000000\" d=\"M11599.4069,-936.8796C11580.0571,-926.8244 11559.2621,-916.0183 11539.5301,-905.7645\"/>\n<polygon fill=\"#000000\" stroke=\"#000000\" points=\"11541.0352,-902.6024 11530.5479,-901.0969 11537.8074,-908.8138 11541.0352,-902.6024\"/>\n</g>\n<!-- 201 -->\n<g id=\"node202\" class=\"node\">\n<title>201</title>\n<path fill=\"#f3a6c8\" stroke=\"#000000\" d=\"M12066.5,-901C12066.5,-901 11830.5,-901 11830.5,-901 11824.5,-901 11818.5,-895 11818.5,-889 11818.5,-889 11818.5,-830 11818.5,-830 11818.5,-824 11824.5,-818 11830.5,-818 11830.5,-818 12066.5,-818 12066.5,-818 12072.5,-818 12078.5,-824 12078.5,-830 12078.5,-830 12078.5,-889 12078.5,-889 12078.5,-895 12072.5,-901 12066.5,-901\"/>\n<text text-anchor=\"start\" x=\"11885\" y=\"-885.8\" font-family=\"Helvetica,sans-Serif\" font-size=\"14.00\" fill=\"#000000\">receiver_state ≤ 3.5</text>\n<text text-anchor=\"start\" x=\"11910.5\" y=\"-870.8\" font-family=\"Helvetica,sans-Serif\" font-size=\"14.00\" fill=\"#000000\">gini = 0.617</text>\n<text text-anchor=\"start\" x=\"11896.5\" y=\"-855.8\" font-family=\"Helvetica,sans-Serif\" font-size=\"14.00\" fill=\"#000000\">samples = 1591</text>\n<text text-anchor=\"start\" x=\"11826.5\" y=\"-840.8\" font-family=\"Helvetica,sans-Serif\" font-size=\"14.00\" fill=\"#000000\">value = [0, 2, 50, 181, 346, 502, 1390]</text>\n<text text-anchor=\"start\" x=\"11898\" y=\"-825.8\" font-family=\"Helvetica,sans-Serif\" font-size=\"14.00\" fill=\"#000000\">class = clase_6</text>\n</g>\n<!-- 185&#45;&gt;201 -->\n<g id=\"edge201\" class=\"edge\">\n<title>185&#45;&gt;201</title>\n<path fill=\"none\" stroke=\"#000000\" d=\"M11773.5831,-936.8796C11796.7224,-926.6433 11821.621,-915.6286 11845.1705,-905.2108\"/>\n<polygon fill=\"#000000\" stroke=\"#000000\" points=\"11846.7408,-908.3434 11854.47,-901.0969 11843.9089,-901.9418 11846.7408,-908.3434\"/>\n</g>\n<!-- 187 -->\n<g id=\"node188\" class=\"node\">\n<title>187</title>\n<path fill=\"#f0fdfd\" stroke=\"#000000\" d=\"M11138,-782C11138,-782 10893,-782 10893,-782 10887,-782 10881,-776 10881,-770 10881,-770 10881,-711 10881,-711 10881,-705 10887,-699 10893,-699 10893,-699 11138,-699 11138,-699 11144,-699 11150,-705 11150,-711 11150,-711 11150,-770 11150,-770 11150,-776 11144,-782 11138,-782\"/>\n<text text-anchor=\"start\" x=\"10974.5\" y=\"-766.8\" font-family=\"Helvetica,sans-Serif\" font-size=\"14.00\" fill=\"#000000\">service ≤ 9.5</text>\n<text text-anchor=\"start\" x=\"10982\" y=\"-751.8\" font-family=\"Helvetica,sans-Serif\" font-size=\"14.00\" fill=\"#000000\">gini = 0.78</text>\n<text text-anchor=\"start\" x=\"10967.5\" y=\"-736.8\" font-family=\"Helvetica,sans-Serif\" font-size=\"14.00\" fill=\"#000000\">samples = 833</text>\n<text text-anchor=\"start\" x=\"10889\" y=\"-721.8\" font-family=\"Helvetica,sans-Serif\" font-size=\"14.00\" fill=\"#000000\">value = [0, 35, 172, 411, 335, 199, 157]</text>\n<text text-anchor=\"start\" x=\"10965\" y=\"-706.8\" font-family=\"Helvetica,sans-Serif\" font-size=\"14.00\" fill=\"#000000\">class = clase_3</text>\n</g>\n<!-- 186&#45;&gt;187 -->\n<g id=\"edge187\" class=\"edge\">\n<title>186&#45;&gt;187</title>\n<path fill=\"none\" stroke=\"#000000\" d=\"M11298.6635,-817.9631C11253.6795,-805.6572 11204.5604,-792.22 11160.051,-780.0438\"/>\n<polygon fill=\"#000000\" stroke=\"#000000\" points=\"11160.9004,-776.6477 11150.3312,-777.3849 11159.0533,-783.3996 11160.9004,-776.6477\"/>\n</g>\n<!-- 194 -->\n<g id=\"node195\" class=\"node\">\n<title>194</title>\n<path fill=\"#fdffff\" stroke=\"#000000\" d=\"M11589.5,-782C11589.5,-782 11311.5,-782 11311.5,-782 11305.5,-782 11299.5,-776 11299.5,-770 11299.5,-770 11299.5,-711 11299.5,-711 11299.5,-705 11305.5,-699 11311.5,-699 11311.5,-699 11589.5,-699 11589.5,-699 11595.5,-699 11601.5,-705 11601.5,-711 11601.5,-711 11601.5,-770 11601.5,-770 11601.5,-776 11595.5,-782 11589.5,-782\"/>\n<text text-anchor=\"start\" x=\"11409.5\" y=\"-766.8\" font-family=\"Helvetica,sans-Serif\" font-size=\"14.00\" fill=\"#000000\">service ≤ 7.5</text>\n<text text-anchor=\"start\" x=\"11412.5\" y=\"-751.8\" font-family=\"Helvetica,sans-Serif\" font-size=\"14.00\" fill=\"#000000\">gini = 0.809</text>\n<text text-anchor=\"start\" x=\"11398.5\" y=\"-736.8\" font-family=\"Helvetica,sans-Serif\" font-size=\"14.00\" fill=\"#000000\">samples = 3673</text>\n<text text-anchor=\"start\" x=\"11307.5\" y=\"-721.8\" font-family=\"Helvetica,sans-Serif\" font-size=\"14.00\" fill=\"#000000\">value = [21, 626, 1436, 1479, 967, 639, 602]</text>\n<text text-anchor=\"start\" x=\"11400\" y=\"-706.8\" font-family=\"Helvetica,sans-Serif\" font-size=\"14.00\" fill=\"#000000\">class = clase_3</text>\n</g>\n<!-- 186&#45;&gt;194 -->\n<g id=\"edge194\" class=\"edge\">\n<title>186&#45;&gt;194</title>\n<path fill=\"none\" stroke=\"#000000\" d=\"M11450.5,-817.8796C11450.5,-809.6838 11450.5,-800.9891 11450.5,-792.5013\"/>\n<polygon fill=\"#000000\" stroke=\"#000000\" points=\"11454.0001,-792.298 11450.5,-782.2981 11447.0001,-792.2981 11454.0001,-792.298\"/>\n</g>\n<!-- 188 -->\n<g id=\"node189\" class=\"node\">\n<title>188</title>\n<path fill=\"#ebeefc\" stroke=\"#000000\" d=\"M10850.5,-663C10850.5,-663 10638.5,-663 10638.5,-663 10632.5,-663 10626.5,-657 10626.5,-651 10626.5,-651 10626.5,-592 10626.5,-592 10626.5,-586 10632.5,-580 10638.5,-580 10638.5,-580 10850.5,-580 10850.5,-580 10856.5,-580 10862.5,-586 10862.5,-592 10862.5,-592 10862.5,-651 10862.5,-651 10862.5,-657 10856.5,-663 10850.5,-663\"/>\n<text text-anchor=\"start\" x=\"10703.5\" y=\"-647.8\" font-family=\"Helvetica,sans-Serif\" font-size=\"14.00\" fill=\"#000000\">service ≤ 8.5</text>\n<text text-anchor=\"start\" x=\"10706.5\" y=\"-632.8\" font-family=\"Helvetica,sans-Serif\" font-size=\"14.00\" fill=\"#000000\">gini = 0.759</text>\n<text text-anchor=\"start\" x=\"10696.5\" y=\"-617.8\" font-family=\"Helvetica,sans-Serif\" font-size=\"14.00\" fill=\"#000000\">samples = 262</text>\n<text text-anchor=\"start\" x=\"10634.5\" y=\"-602.8\" font-family=\"Helvetica,sans-Serif\" font-size=\"14.00\" fill=\"#000000\">value = [0, 2, 23, 100, 130, 83, 57]</text>\n<text text-anchor=\"start\" x=\"10694\" y=\"-587.8\" font-family=\"Helvetica,sans-Serif\" font-size=\"14.00\" fill=\"#000000\">class = clase_4</text>\n</g>\n<!-- 187&#45;&gt;188 -->\n<g id=\"edge188\" class=\"edge\">\n<title>187&#45;&gt;188</title>\n<path fill=\"none\" stroke=\"#000000\" d=\"M10920.7174,-698.8796C10897.4061,-688.6433 10872.3224,-677.6286 10848.5978,-667.2108\"/>\n<polygon fill=\"#000000\" stroke=\"#000000\" points=\"10849.7925,-663.9129 10839.2291,-663.0969 10846.978,-670.3222 10849.7925,-663.9129\"/>\n</g>\n<!-- 193 -->\n<g id=\"node194\" class=\"node\">\n<title>193</title>\n<path fill=\"#e1fbfb\" stroke=\"#000000\" d=\"M11138,-655.5C11138,-655.5 10893,-655.5 10893,-655.5 10887,-655.5 10881,-649.5 10881,-643.5 10881,-643.5 10881,-599.5 10881,-599.5 10881,-593.5 10887,-587.5 10893,-587.5 10893,-587.5 11138,-587.5 11138,-587.5 11144,-587.5 11150,-593.5 11150,-599.5 11150,-599.5 11150,-643.5 11150,-643.5 11150,-649.5 11144,-655.5 11138,-655.5\"/>\n<text text-anchor=\"start\" x=\"10977.5\" y=\"-640.3\" font-family=\"Helvetica,sans-Serif\" font-size=\"14.00\" fill=\"#000000\">gini = 0.778</text>\n<text text-anchor=\"start\" x=\"10967.5\" y=\"-625.3\" font-family=\"Helvetica,sans-Serif\" font-size=\"14.00\" fill=\"#000000\">samples = 571</text>\n<text text-anchor=\"start\" x=\"10889\" y=\"-610.3\" font-family=\"Helvetica,sans-Serif\" font-size=\"14.00\" fill=\"#000000\">value = [0, 33, 149, 311, 205, 116, 100]</text>\n<text text-anchor=\"start\" x=\"10965\" y=\"-595.3\" font-family=\"Helvetica,sans-Serif\" font-size=\"14.00\" fill=\"#000000\">class = clase_3</text>\n</g>\n<!-- 187&#45;&gt;193 -->\n<g id=\"edge193\" class=\"edge\">\n<title>187&#45;&gt;193</title>\n<path fill=\"none\" stroke=\"#000000\" d=\"M11015.5,-698.8796C11015.5,-688.2134 11015.5,-676.7021 11015.5,-665.9015\"/>\n<polygon fill=\"#000000\" stroke=\"#000000\" points=\"11019.0001,-665.8149 11015.5,-655.8149 11012.0001,-665.815 11019.0001,-665.8149\"/>\n</g>\n<!-- 189 -->\n<g id=\"node190\" class=\"node\">\n<title>189</title>\n<path fill=\"#eaedfc\" stroke=\"#000000\" d=\"M10850.5,-544C10850.5,-544 10638.5,-544 10638.5,-544 10632.5,-544 10626.5,-538 10626.5,-532 10626.5,-532 10626.5,-473 10626.5,-473 10626.5,-467 10632.5,-461 10638.5,-461 10638.5,-461 10850.5,-461 10850.5,-461 10856.5,-461 10862.5,-467 10862.5,-473 10862.5,-473 10862.5,-532 10862.5,-532 10862.5,-538 10856.5,-544 10850.5,-544\"/>\n<text text-anchor=\"start\" x=\"10703.5\" y=\"-528.8\" font-family=\"Helvetica,sans-Serif\" font-size=\"14.00\" fill=\"#000000\">service ≤ 7.5</text>\n<text text-anchor=\"start\" x=\"10706.5\" y=\"-513.8\" font-family=\"Helvetica,sans-Serif\" font-size=\"14.00\" fill=\"#000000\">gini = 0.755</text>\n<text text-anchor=\"start\" x=\"10696.5\" y=\"-498.8\" font-family=\"Helvetica,sans-Serif\" font-size=\"14.00\" fill=\"#000000\">samples = 256</text>\n<text text-anchor=\"start\" x=\"10634.5\" y=\"-483.8\" font-family=\"Helvetica,sans-Serif\" font-size=\"14.00\" fill=\"#000000\">value = [0, 2, 23, 100, 130, 82, 49]</text>\n<text text-anchor=\"start\" x=\"10694\" y=\"-468.8\" font-family=\"Helvetica,sans-Serif\" font-size=\"14.00\" fill=\"#000000\">class = clase_4</text>\n</g>\n<!-- 188&#45;&gt;189 -->\n<g id=\"edge189\" class=\"edge\">\n<title>188&#45;&gt;189</title>\n<path fill=\"none\" stroke=\"#000000\" d=\"M10744.5,-579.8796C10744.5,-571.6838 10744.5,-562.9891 10744.5,-554.5013\"/>\n<polygon fill=\"#000000\" stroke=\"#000000\" points=\"10748.0001,-554.298 10744.5,-544.2981 10741.0001,-554.2981 10748.0001,-554.298\"/>\n</g>\n<!-- 192 -->\n<g id=\"node193\" class=\"node\">\n<title>192</title>\n<path fill=\"#e85295\" stroke=\"#000000\" d=\"M11046.5,-536.5C11046.5,-536.5 10892.5,-536.5 10892.5,-536.5 10886.5,-536.5 10880.5,-530.5 10880.5,-524.5 10880.5,-524.5 10880.5,-480.5 10880.5,-480.5 10880.5,-474.5 10886.5,-468.5 10892.5,-468.5 10892.5,-468.5 11046.5,-468.5 11046.5,-468.5 11052.5,-468.5 11058.5,-474.5 11058.5,-480.5 11058.5,-480.5 11058.5,-524.5 11058.5,-524.5 11058.5,-530.5 11052.5,-536.5 11046.5,-536.5\"/>\n<text text-anchor=\"start\" x=\"10931.5\" y=\"-521.3\" font-family=\"Helvetica,sans-Serif\" font-size=\"14.00\" fill=\"#000000\">gini = 0.198</text>\n<text text-anchor=\"start\" x=\"10930\" y=\"-506.3\" font-family=\"Helvetica,sans-Serif\" font-size=\"14.00\" fill=\"#000000\">samples = 6</text>\n<text text-anchor=\"start\" x=\"10888.5\" y=\"-491.3\" font-family=\"Helvetica,sans-Serif\" font-size=\"14.00\" fill=\"#000000\">value = [0, 0, 0, 0, 0, 1, 8]</text>\n<text text-anchor=\"start\" x=\"10919\" y=\"-476.3\" font-family=\"Helvetica,sans-Serif\" font-size=\"14.00\" fill=\"#000000\">class = clase_6</text>\n</g>\n<!-- 188&#45;&gt;192 -->\n<g id=\"edge192\" class=\"edge\">\n<title>188&#45;&gt;192</title>\n<path fill=\"none\" stroke=\"#000000\" d=\"M10823.1941,-579.8796C10846.7997,-567.3948 10872.5944,-553.7523 10895.8609,-541.4469\"/>\n<polygon fill=\"#000000\" stroke=\"#000000\" points=\"10897.7782,-544.3923 10904.9817,-536.623 10894.5055,-538.2044 10897.7782,-544.3923\"/>\n</g>\n<!-- 190 -->\n<g id=\"node191\" class=\"node\">\n<title>190</title>\n<path fill=\"#e8ebfc\" stroke=\"#000000\" d=\"M10834,-417.5C10834,-417.5 10647,-417.5 10647,-417.5 10641,-417.5 10635,-411.5 10635,-405.5 10635,-405.5 10635,-361.5 10635,-361.5 10635,-355.5 10641,-349.5 10647,-349.5 10647,-349.5 10834,-349.5 10834,-349.5 10840,-349.5 10846,-355.5 10846,-361.5 10846,-361.5 10846,-405.5 10846,-405.5 10846,-411.5 10840,-417.5 10834,-417.5\"/>\n<text text-anchor=\"start\" x=\"10702.5\" y=\"-402.3\" font-family=\"Helvetica,sans-Serif\" font-size=\"14.00\" fill=\"#000000\">gini = 0.752</text>\n<text text-anchor=\"start\" x=\"10692.5\" y=\"-387.3\" font-family=\"Helvetica,sans-Serif\" font-size=\"14.00\" fill=\"#000000\">samples = 144</text>\n<text text-anchor=\"start\" x=\"10643\" y=\"-372.3\" font-family=\"Helvetica,sans-Serif\" font-size=\"14.00\" fill=\"#000000\">value = [0, 0, 6, 52, 71, 43, 43]</text>\n<text text-anchor=\"start\" x=\"10690\" y=\"-357.3\" font-family=\"Helvetica,sans-Serif\" font-size=\"14.00\" fill=\"#000000\">class = clase_4</text>\n</g>\n<!-- 189&#45;&gt;190 -->\n<g id=\"edge190\" class=\"edge\">\n<title>189&#45;&gt;190</title>\n<path fill=\"none\" stroke=\"#000000\" d=\"M10743.101,-460.8796C10742.7425,-450.2134 10742.3555,-438.7021 10741.9925,-427.9015\"/>\n<polygon fill=\"#000000\" stroke=\"#000000\" points=\"10745.4875,-427.6917 10741.6534,-417.8149 10738.4915,-427.9269 10745.4875,-427.6917\"/>\n</g>\n<!-- 191 -->\n<g id=\"node192\" class=\"node\">\n<title>191</title>\n<path fill=\"#edf0fd\" stroke=\"#000000\" d=\"M11063,-417.5C11063,-417.5 10876,-417.5 10876,-417.5 10870,-417.5 10864,-411.5 10864,-405.5 10864,-405.5 10864,-361.5 10864,-361.5 10864,-355.5 10870,-349.5 10876,-349.5 10876,-349.5 11063,-349.5 11063,-349.5 11069,-349.5 11075,-355.5 11075,-361.5 11075,-361.5 11075,-405.5 11075,-405.5 11075,-411.5 11069,-417.5 11063,-417.5\"/>\n<text text-anchor=\"start\" x=\"10931.5\" y=\"-402.3\" font-family=\"Helvetica,sans-Serif\" font-size=\"14.00\" fill=\"#000000\">gini = 0.739</text>\n<text text-anchor=\"start\" x=\"10921.5\" y=\"-387.3\" font-family=\"Helvetica,sans-Serif\" font-size=\"14.00\" fill=\"#000000\">samples = 112</text>\n<text text-anchor=\"start\" x=\"10872\" y=\"-372.3\" font-family=\"Helvetica,sans-Serif\" font-size=\"14.00\" fill=\"#000000\">value = [0, 2, 17, 48, 59, 39, 6]</text>\n<text text-anchor=\"start\" x=\"10919\" y=\"-357.3\" font-family=\"Helvetica,sans-Serif\" font-size=\"14.00\" fill=\"#000000\">class = clase_4</text>\n</g>\n<!-- 189&#45;&gt;191 -->\n<g id=\"edge191\" class=\"edge\">\n<title>189&#45;&gt;191</title>\n<path fill=\"none\" stroke=\"#000000\" d=\"M10823.1941,-460.8796C10846.7997,-448.3948 10872.5944,-434.7523 10895.8609,-422.4469\"/>\n<polygon fill=\"#000000\" stroke=\"#000000\" points=\"10897.7782,-425.3923 10904.9817,-417.623 10894.5055,-419.2044 10897.7782,-425.3923\"/>\n</g>\n<!-- 195 -->\n<g id=\"node196\" class=\"node\">\n<title>195</title>\n<path fill=\"#d9faf9\" stroke=\"#000000\" d=\"M11400.5,-655.5C11400.5,-655.5 11180.5,-655.5 11180.5,-655.5 11174.5,-655.5 11168.5,-649.5 11168.5,-643.5 11168.5,-643.5 11168.5,-599.5 11168.5,-599.5 11168.5,-593.5 11174.5,-587.5 11180.5,-587.5 11180.5,-587.5 11400.5,-587.5 11400.5,-587.5 11406.5,-587.5 11412.5,-593.5 11412.5,-599.5 11412.5,-599.5 11412.5,-643.5 11412.5,-643.5 11412.5,-649.5 11406.5,-655.5 11400.5,-655.5\"/>\n<text text-anchor=\"start\" x=\"11252.5\" y=\"-640.3\" font-family=\"Helvetica,sans-Serif\" font-size=\"14.00\" fill=\"#000000\">gini = 0.774</text>\n<text text-anchor=\"start\" x=\"11242.5\" y=\"-625.3\" font-family=\"Helvetica,sans-Serif\" font-size=\"14.00\" fill=\"#000000\">samples = 351</text>\n<text text-anchor=\"start\" x=\"11176.5\" y=\"-610.3\" font-family=\"Helvetica,sans-Serif\" font-size=\"14.00\" fill=\"#000000\">value = [0, 45, 118, 201, 86, 63, 41]</text>\n<text text-anchor=\"start\" x=\"11240\" y=\"-595.3\" font-family=\"Helvetica,sans-Serif\" font-size=\"14.00\" fill=\"#000000\">class = clase_3</text>\n</g>\n<!-- 194&#45;&gt;195 -->\n<g id=\"edge195\" class=\"edge\">\n<title>194&#45;&gt;195</title>\n<path fill=\"none\" stroke=\"#000000\" d=\"M11394.5398,-698.8796C11378.3478,-686.8368 11360.7073,-673.7167 11344.6292,-661.7586\"/>\n<polygon fill=\"#000000\" stroke=\"#000000\" points=\"11346.4925,-658.7825 11336.3797,-655.623 11342.315,-664.3993 11346.4925,-658.7825\"/>\n</g>\n<!-- 196 -->\n<g id=\"node197\" class=\"node\">\n<title>196</title>\n<path fill=\"#fdfffd\" stroke=\"#000000\" d=\"M11720.5,-663C11720.5,-663 11442.5,-663 11442.5,-663 11436.5,-663 11430.5,-657 11430.5,-651 11430.5,-651 11430.5,-592 11430.5,-592 11430.5,-586 11436.5,-580 11442.5,-580 11442.5,-580 11720.5,-580 11720.5,-580 11726.5,-580 11732.5,-586 11732.5,-592 11732.5,-592 11732.5,-651 11732.5,-651 11732.5,-657 11726.5,-663 11720.5,-663\"/>\n<text text-anchor=\"start\" x=\"11540.5\" y=\"-647.8\" font-family=\"Helvetica,sans-Serif\" font-size=\"14.00\" fill=\"#000000\">service ≤ 9.5</text>\n<text text-anchor=\"start\" x=\"11543.5\" y=\"-632.8\" font-family=\"Helvetica,sans-Serif\" font-size=\"14.00\" fill=\"#000000\">gini = 0.811</text>\n<text text-anchor=\"start\" x=\"11529.5\" y=\"-617.8\" font-family=\"Helvetica,sans-Serif\" font-size=\"14.00\" fill=\"#000000\">samples = 3322</text>\n<text text-anchor=\"start\" x=\"11438.5\" y=\"-602.8\" font-family=\"Helvetica,sans-Serif\" font-size=\"14.00\" fill=\"#000000\">value = [21, 581, 1318, 1278, 881, 576, 561]</text>\n<text text-anchor=\"start\" x=\"11531\" y=\"-587.8\" font-family=\"Helvetica,sans-Serif\" font-size=\"14.00\" fill=\"#000000\">class = clase_2</text>\n</g>\n<!-- 194&#45;&gt;196 -->\n<g id=\"edge196\" class=\"edge\">\n<title>194&#45;&gt;196</title>\n<path fill=\"none\" stroke=\"#000000\" d=\"M11496.3174,-698.8796C11506.5294,-689.6031 11517.445,-679.6874 11527.9376,-670.1559\"/>\n<polygon fill=\"#000000\" stroke=\"#000000\" points=\"11530.4384,-672.6127 11535.487,-663.2981 11525.7316,-667.4313 11530.4384,-672.6127\"/>\n</g>\n<!-- 197 -->\n<g id=\"node198\" class=\"node\">\n<title>197</title>\n<path fill=\"#fafefe\" stroke=\"#000000\" d=\"M11363.5,-544C11363.5,-544 11143.5,-544 11143.5,-544 11137.5,-544 11131.5,-538 11131.5,-532 11131.5,-532 11131.5,-473 11131.5,-473 11131.5,-467 11137.5,-461 11143.5,-461 11143.5,-461 11363.5,-461 11363.5,-461 11369.5,-461 11375.5,-467 11375.5,-473 11375.5,-473 11375.5,-532 11375.5,-532 11375.5,-538 11369.5,-544 11363.5,-544\"/>\n<text text-anchor=\"start\" x=\"11212.5\" y=\"-528.8\" font-family=\"Helvetica,sans-Serif\" font-size=\"14.00\" fill=\"#000000\">service ≤ 8.5</text>\n<text text-anchor=\"start\" x=\"11215.5\" y=\"-513.8\" font-family=\"Helvetica,sans-Serif\" font-size=\"14.00\" fill=\"#000000\">gini = 0.808</text>\n<text text-anchor=\"start\" x=\"11205.5\" y=\"-498.8\" font-family=\"Helvetica,sans-Serif\" font-size=\"14.00\" fill=\"#000000\">samples = 371</text>\n<text text-anchor=\"start\" x=\"11139.5\" y=\"-483.8\" font-family=\"Helvetica,sans-Serif\" font-size=\"14.00\" fill=\"#000000\">value = [0, 33, 134, 144, 90, 81, 87]</text>\n<text text-anchor=\"start\" x=\"11203\" y=\"-468.8\" font-family=\"Helvetica,sans-Serif\" font-size=\"14.00\" fill=\"#000000\">class = clase_3</text>\n</g>\n<!-- 196&#45;&gt;197 -->\n<g id=\"edge197\" class=\"edge\">\n<title>196&#45;&gt;197</title>\n<path fill=\"none\" stroke=\"#000000\" d=\"M11466.7815,-579.8796C11437.9429,-569.4168 11406.8631,-558.1409 11377.5895,-547.5203\"/>\n<polygon fill=\"#000000\" stroke=\"#000000\" points=\"11378.7479,-544.2174 11368.1537,-544.0969 11376.3604,-550.7977 11378.7479,-544.2174\"/>\n</g>\n<!-- 200 -->\n<g id=\"node201\" class=\"node\">\n<title>200</title>\n<path fill=\"#fcfffc\" stroke=\"#000000\" d=\"M11683.5,-536.5C11683.5,-536.5 11405.5,-536.5 11405.5,-536.5 11399.5,-536.5 11393.5,-530.5 11393.5,-524.5 11393.5,-524.5 11393.5,-480.5 11393.5,-480.5 11393.5,-474.5 11399.5,-468.5 11405.5,-468.5 11405.5,-468.5 11683.5,-468.5 11683.5,-468.5 11689.5,-468.5 11695.5,-474.5 11695.5,-480.5 11695.5,-480.5 11695.5,-524.5 11695.5,-524.5 11695.5,-530.5 11689.5,-536.5 11683.5,-536.5\"/>\n<text text-anchor=\"start\" x=\"11506.5\" y=\"-521.3\" font-family=\"Helvetica,sans-Serif\" font-size=\"14.00\" fill=\"#000000\">gini = 0.811</text>\n<text text-anchor=\"start\" x=\"11492.5\" y=\"-506.3\" font-family=\"Helvetica,sans-Serif\" font-size=\"14.00\" fill=\"#000000\">samples = 2951</text>\n<text text-anchor=\"start\" x=\"11401.5\" y=\"-491.3\" font-family=\"Helvetica,sans-Serif\" font-size=\"14.00\" fill=\"#000000\">value = [21, 548, 1184, 1134, 791, 495, 474]</text>\n<text text-anchor=\"start\" x=\"11494\" y=\"-476.3\" font-family=\"Helvetica,sans-Serif\" font-size=\"14.00\" fill=\"#000000\">class = clase_2</text>\n</g>\n<!-- 196&#45;&gt;200 -->\n<g id=\"edge200\" class=\"edge\">\n<title>196&#45;&gt;200</title>\n<path fill=\"none\" stroke=\"#000000\" d=\"M11568.5592,-579.8796C11565.2086,-569.1034 11561.5899,-557.4647 11558.2017,-546.5677\"/>\n<polygon fill=\"#000000\" stroke=\"#000000\" points=\"11561.4806,-545.3248 11555.1693,-536.8149 11554.7963,-547.4032 11561.4806,-545.3248\"/>\n</g>\n<!-- 198 -->\n<g id=\"node199\" class=\"node\">\n<title>198</title>\n<path fill=\"#fdffff\" stroke=\"#000000\" d=\"M11344.5,-417.5C11344.5,-417.5 11124.5,-417.5 11124.5,-417.5 11118.5,-417.5 11112.5,-411.5 11112.5,-405.5 11112.5,-405.5 11112.5,-361.5 11112.5,-361.5 11112.5,-355.5 11118.5,-349.5 11124.5,-349.5 11124.5,-349.5 11344.5,-349.5 11344.5,-349.5 11350.5,-349.5 11356.5,-355.5 11356.5,-361.5 11356.5,-361.5 11356.5,-405.5 11356.5,-405.5 11356.5,-411.5 11350.5,-417.5 11344.5,-417.5\"/>\n<text text-anchor=\"start\" x=\"11196.5\" y=\"-402.3\" font-family=\"Helvetica,sans-Serif\" font-size=\"14.00\" fill=\"#000000\">gini = 0.788</text>\n<text text-anchor=\"start\" x=\"11186.5\" y=\"-387.3\" font-family=\"Helvetica,sans-Serif\" font-size=\"14.00\" fill=\"#000000\">samples = 318</text>\n<text text-anchor=\"start\" x=\"11120.5\" y=\"-372.3\" font-family=\"Helvetica,sans-Serif\" font-size=\"14.00\" fill=\"#000000\">value = [0, 33, 134, 137, 82, 63, 36]</text>\n<text text-anchor=\"start\" x=\"11184\" y=\"-357.3\" font-family=\"Helvetica,sans-Serif\" font-size=\"14.00\" fill=\"#000000\">class = clase_3</text>\n</g>\n<!-- 197&#45;&gt;198 -->\n<g id=\"edge198\" class=\"edge\">\n<title>197&#45;&gt;198</title>\n<path fill=\"none\" stroke=\"#000000\" d=\"M11246.8547,-460.8796C11245.1517,-450.2134 11243.3138,-438.7021 11241.5893,-427.9015\"/>\n<polygon fill=\"#000000\" stroke=\"#000000\" points=\"11245.0118,-427.138 11239.9789,-417.8149 11238.0994,-428.2417 11245.0118,-427.138\"/>\n</g>\n<!-- 199 -->\n<g id=\"node200\" class=\"node\">\n<title>199</title>\n<path fill=\"#f29cc2\" stroke=\"#000000\" d=\"M11556.5,-417.5C11556.5,-417.5 11386.5,-417.5 11386.5,-417.5 11380.5,-417.5 11374.5,-411.5 11374.5,-405.5 11374.5,-405.5 11374.5,-361.5 11374.5,-361.5 11374.5,-355.5 11380.5,-349.5 11386.5,-349.5 11386.5,-349.5 11556.5,-349.5 11556.5,-349.5 11562.5,-349.5 11568.5,-355.5 11568.5,-361.5 11568.5,-361.5 11568.5,-405.5 11568.5,-405.5 11568.5,-411.5 11562.5,-417.5 11556.5,-417.5\"/>\n<text text-anchor=\"start\" x=\"11433.5\" y=\"-402.3\" font-family=\"Helvetica,sans-Serif\" font-size=\"14.00\" fill=\"#000000\">gini = 0.569</text>\n<text text-anchor=\"start\" x=\"11427.5\" y=\"-387.3\" font-family=\"Helvetica,sans-Serif\" font-size=\"14.00\" fill=\"#000000\">samples = 53</text>\n<text text-anchor=\"start\" x=\"11382.5\" y=\"-372.3\" font-family=\"Helvetica,sans-Serif\" font-size=\"14.00\" fill=\"#000000\">value = [0, 0, 0, 7, 8, 18, 51]</text>\n<text text-anchor=\"start\" x=\"11421\" y=\"-357.3\" font-family=\"Helvetica,sans-Serif\" font-size=\"14.00\" fill=\"#000000\">class = clase_6</text>\n</g>\n<!-- 197&#45;&gt;199 -->\n<g id=\"edge199\" class=\"edge\">\n<title>197&#45;&gt;199</title>\n<path fill=\"none\" stroke=\"#000000\" d=\"M11329.7458,-460.8796C11352.617,-448.3948 11377.6093,-434.7523 11400.1519,-422.4469\"/>\n<polygon fill=\"#000000\" stroke=\"#000000\" points=\"11401.8885,-425.4865 11408.9889,-417.623 11398.5345,-419.3423 11401.8885,-425.4865\"/>\n</g>\n<!-- 202 -->\n<g id=\"node203\" class=\"node\">\n<title>202</title>\n<path fill=\"#f9cfe2\" stroke=\"#000000\" d=\"M12042,-782C12042,-782 11855,-782 11855,-782 11849,-782 11843,-776 11843,-770 11843,-770 11843,-711 11843,-711 11843,-705 11849,-699 11855,-699 11855,-699 12042,-699 12042,-699 12048,-699 12054,-705 12054,-711 12054,-711 12054,-770 12054,-770 12054,-776 12048,-782 12042,-782\"/>\n<text text-anchor=\"start\" x=\"11903\" y=\"-766.8\" font-family=\"Helvetica,sans-Serif\" font-size=\"14.00\" fill=\"#000000\">service ≤ 13.5</text>\n<text text-anchor=\"start\" x=\"11910.5\" y=\"-751.8\" font-family=\"Helvetica,sans-Serif\" font-size=\"14.00\" fill=\"#000000\">gini = 0.725</text>\n<text text-anchor=\"start\" x=\"11900.5\" y=\"-736.8\" font-family=\"Helvetica,sans-Serif\" font-size=\"14.00\" fill=\"#000000\">samples = 155</text>\n<text text-anchor=\"start\" x=\"11851\" y=\"-721.8\" font-family=\"Helvetica,sans-Serif\" font-size=\"14.00\" fill=\"#000000\">value = [0, 0, 7, 32, 50, 49, 94]</text>\n<text text-anchor=\"start\" x=\"11898\" y=\"-706.8\" font-family=\"Helvetica,sans-Serif\" font-size=\"14.00\" fill=\"#000000\">class = clase_6</text>\n</g>\n<!-- 201&#45;&gt;202 -->\n<g id=\"edge202\" class=\"edge\">\n<title>201&#45;&gt;202</title>\n<path fill=\"none\" stroke=\"#000000\" d=\"M11948.5,-817.8796C11948.5,-809.6838 11948.5,-800.9891 11948.5,-792.5013\"/>\n<polygon fill=\"#000000\" stroke=\"#000000\" points=\"11952.0001,-792.298 11948.5,-782.2981 11945.0001,-792.2981 11952.0001,-792.298\"/>\n</g>\n<!-- 207 -->\n<g id=\"node208\" class=\"node\">\n<title>207</title>\n<path fill=\"#f3a2c6\" stroke=\"#000000\" d=\"M12412.5,-782C12412.5,-782 12176.5,-782 12176.5,-782 12170.5,-782 12164.5,-776 12164.5,-770 12164.5,-770 12164.5,-711 12164.5,-711 12164.5,-705 12170.5,-699 12176.5,-699 12176.5,-699 12412.5,-699 12412.5,-699 12418.5,-699 12424.5,-705 12424.5,-711 12424.5,-711 12424.5,-770 12424.5,-770 12424.5,-776 12418.5,-782 12412.5,-782\"/>\n<text text-anchor=\"start\" x=\"12249\" y=\"-766.8\" font-family=\"Helvetica,sans-Serif\" font-size=\"14.00\" fill=\"#000000\">service ≤ 14.5</text>\n<text text-anchor=\"start\" x=\"12256.5\" y=\"-751.8\" font-family=\"Helvetica,sans-Serif\" font-size=\"14.00\" fill=\"#000000\">gini = 0.602</text>\n<text text-anchor=\"start\" x=\"12242.5\" y=\"-736.8\" font-family=\"Helvetica,sans-Serif\" font-size=\"14.00\" fill=\"#000000\">samples = 1436</text>\n<text text-anchor=\"start\" x=\"12172.5\" y=\"-721.8\" font-family=\"Helvetica,sans-Serif\" font-size=\"14.00\" fill=\"#000000\">value = [0, 2, 43, 149, 296, 453, 1296]</text>\n<text text-anchor=\"start\" x=\"12244\" y=\"-706.8\" font-family=\"Helvetica,sans-Serif\" font-size=\"14.00\" fill=\"#000000\">class = clase_6</text>\n</g>\n<!-- 201&#45;&gt;207 -->\n<g id=\"edge207\" class=\"edge\">\n<title>201&#45;&gt;207</title>\n<path fill=\"none\" stroke=\"#000000\" d=\"M12069.514,-817.8796C12100.0669,-807.3715 12133.0045,-796.0432 12164.0016,-785.3824\"/>\n<polygon fill=\"#000000\" stroke=\"#000000\" points=\"12165.2363,-788.659 12173.5543,-782.0969 12162.9596,-782.0396 12165.2363,-788.659\"/>\n</g>\n<!-- 203 -->\n<g id=\"node204\" class=\"node\">\n<title>203</title>\n<path fill=\"#fefeff\" stroke=\"#000000\" d=\"M11950,-663C11950,-663 11763,-663 11763,-663 11757,-663 11751,-657 11751,-651 11751,-651 11751,-592 11751,-592 11751,-586 11757,-580 11763,-580 11763,-580 11950,-580 11950,-580 11956,-580 11962,-586 11962,-592 11962,-592 11962,-651 11962,-651 11962,-657 11956,-663 11950,-663\"/>\n<text text-anchor=\"start\" x=\"11811\" y=\"-647.8\" font-family=\"Helvetica,sans-Serif\" font-size=\"14.00\" fill=\"#000000\">service ≤ 11.5</text>\n<text text-anchor=\"start\" x=\"11818.5\" y=\"-632.8\" font-family=\"Helvetica,sans-Serif\" font-size=\"14.00\" fill=\"#000000\">gini = 0.761</text>\n<text text-anchor=\"start\" x=\"11808.5\" y=\"-617.8\" font-family=\"Helvetica,sans-Serif\" font-size=\"14.00\" fill=\"#000000\">samples = 123</text>\n<text text-anchor=\"start\" x=\"11759\" y=\"-602.8\" font-family=\"Helvetica,sans-Serif\" font-size=\"14.00\" fill=\"#000000\">value = [0, 0, 7, 32, 50, 49, 44]</text>\n<text text-anchor=\"start\" x=\"11806\" y=\"-587.8\" font-family=\"Helvetica,sans-Serif\" font-size=\"14.00\" fill=\"#000000\">class = clase_4</text>\n</g>\n<!-- 202&#45;&gt;203 -->\n<g id=\"edge203\" class=\"edge\">\n<title>202&#45;&gt;203</title>\n<path fill=\"none\" stroke=\"#000000\" d=\"M11916.3229,-698.8796C11909.4296,-689.9633 11902.0798,-680.4565 11894.9761,-671.268\"/>\n<polygon fill=\"#000000\" stroke=\"#000000\" points=\"11897.6999,-669.0687 11888.8145,-663.2981 11892.1619,-673.3502 11897.6999,-669.0687\"/>\n</g>\n<!-- 206 -->\n<g id=\"node207\" class=\"node\">\n<title>206</title>\n<path fill=\"#e53986\" stroke=\"#000000\" d=\"M12154.5,-655.5C12154.5,-655.5 11992.5,-655.5 11992.5,-655.5 11986.5,-655.5 11980.5,-649.5 11980.5,-643.5 11980.5,-643.5 11980.5,-599.5 11980.5,-599.5 11980.5,-593.5 11986.5,-587.5 11992.5,-587.5 11992.5,-587.5 12154.5,-587.5 12154.5,-587.5 12160.5,-587.5 12166.5,-593.5 12166.5,-599.5 12166.5,-599.5 12166.5,-643.5 12166.5,-643.5 12166.5,-649.5 12160.5,-655.5 12154.5,-655.5\"/>\n<text text-anchor=\"start\" x=\"12044\" y=\"-640.3\" font-family=\"Helvetica,sans-Serif\" font-size=\"14.00\" fill=\"#000000\">gini = 0.0</text>\n<text text-anchor=\"start\" x=\"12029.5\" y=\"-625.3\" font-family=\"Helvetica,sans-Serif\" font-size=\"14.00\" fill=\"#000000\">samples = 32</text>\n<text text-anchor=\"start\" x=\"11988.5\" y=\"-610.3\" font-family=\"Helvetica,sans-Serif\" font-size=\"14.00\" fill=\"#000000\">value = [0, 0, 0, 0, 0, 0, 50]</text>\n<text text-anchor=\"start\" x=\"12023\" y=\"-595.3\" font-family=\"Helvetica,sans-Serif\" font-size=\"14.00\" fill=\"#000000\">class = clase_6</text>\n</g>\n<!-- 202&#45;&gt;206 -->\n<g id=\"edge206\" class=\"edge\">\n<title>202&#45;&gt;206</title>\n<path fill=\"none\" stroke=\"#000000\" d=\"M11992.2189,-698.8796C12004.4625,-687.2237 12017.7661,-674.5587 12029.9971,-662.9148\"/>\n<polygon fill=\"#000000\" stroke=\"#000000\" points=\"12032.6254,-665.245 12037.4549,-655.8149 12027.7988,-660.1751 12032.6254,-665.245\"/>\n</g>\n<!-- 204 -->\n<g id=\"node205\" class=\"node\">\n<title>204</title>\n<path fill=\"#f2f4fd\" stroke=\"#000000\" d=\"M11913,-536.5C11913,-536.5 11726,-536.5 11726,-536.5 11720,-536.5 11714,-530.5 11714,-524.5 11714,-524.5 11714,-480.5 11714,-480.5 11714,-474.5 11720,-468.5 11726,-468.5 11726,-468.5 11913,-468.5 11913,-468.5 11919,-468.5 11925,-474.5 11925,-480.5 11925,-480.5 11925,-524.5 11925,-524.5 11925,-530.5 11919,-536.5 11913,-536.5\"/>\n<text text-anchor=\"start\" x=\"11781.5\" y=\"-521.3\" font-family=\"Helvetica,sans-Serif\" font-size=\"14.00\" fill=\"#000000\">gini = 0.761</text>\n<text text-anchor=\"start\" x=\"11771.5\" y=\"-506.3\" font-family=\"Helvetica,sans-Serif\" font-size=\"14.00\" fill=\"#000000\">samples = 115</text>\n<text text-anchor=\"start\" x=\"11722\" y=\"-491.3\" font-family=\"Helvetica,sans-Serif\" font-size=\"14.00\" fill=\"#000000\">value = [0, 0, 7, 30, 50, 42, 37]</text>\n<text text-anchor=\"start\" x=\"11769\" y=\"-476.3\" font-family=\"Helvetica,sans-Serif\" font-size=\"14.00\" fill=\"#000000\">class = clase_4</text>\n</g>\n<!-- 203&#45;&gt;204 -->\n<g id=\"edge204\" class=\"edge\">\n<title>203&#45;&gt;204</title>\n<path fill=\"none\" stroke=\"#000000\" d=\"M11843.5592,-579.8796C11840.2086,-569.1034 11836.5899,-557.4647 11833.2017,-546.5677\"/>\n<polygon fill=\"#000000\" stroke=\"#000000\" points=\"11836.4806,-545.3248 11830.1693,-536.8149 11829.7963,-547.4032 11836.4806,-545.3248\"/>\n</g>\n<!-- 205 -->\n<g id=\"node206\" class=\"node\">\n<title>205</title>\n<path fill=\"#ffffff\" stroke=\"#000000\" d=\"M12109.5,-536.5C12109.5,-536.5 11955.5,-536.5 11955.5,-536.5 11949.5,-536.5 11943.5,-530.5 11943.5,-524.5 11943.5,-524.5 11943.5,-480.5 11943.5,-480.5 11943.5,-474.5 11949.5,-468.5 11955.5,-468.5 11955.5,-468.5 12109.5,-468.5 12109.5,-468.5 12115.5,-468.5 12121.5,-474.5 12121.5,-480.5 12121.5,-480.5 12121.5,-524.5 12121.5,-524.5 12121.5,-530.5 12115.5,-536.5 12109.5,-536.5\"/>\n<text text-anchor=\"start\" x=\"11994.5\" y=\"-521.3\" font-family=\"Helvetica,sans-Serif\" font-size=\"14.00\" fill=\"#000000\">gini = 0.602</text>\n<text text-anchor=\"start\" x=\"11993\" y=\"-506.3\" font-family=\"Helvetica,sans-Serif\" font-size=\"14.00\" fill=\"#000000\">samples = 8</text>\n<text text-anchor=\"start\" x=\"11951.5\" y=\"-491.3\" font-family=\"Helvetica,sans-Serif\" font-size=\"14.00\" fill=\"#000000\">value = [0, 0, 0, 2, 0, 7, 7]</text>\n<text text-anchor=\"start\" x=\"11982\" y=\"-476.3\" font-family=\"Helvetica,sans-Serif\" font-size=\"14.00\" fill=\"#000000\">class = clase_5</text>\n</g>\n<!-- 203&#45;&gt;205 -->\n<g id=\"edge205\" class=\"edge\">\n<title>203&#45;&gt;205</title>\n<path fill=\"none\" stroke=\"#000000\" d=\"M11918.0563,-579.8796C11936.0309,-567.7263 11955.6282,-554.4759 11973.4442,-542.4297\"/>\n<polygon fill=\"#000000\" stroke=\"#000000\" points=\"11975.7086,-545.1237 11982.0323,-536.623 11971.7877,-539.3248 11975.7086,-545.1237\"/>\n</g>\n<!-- 208 -->\n<g id=\"node209\" class=\"node\">\n<title>208</title>\n<path fill=\"#ea5e9d\" stroke=\"#000000\" d=\"M12392,-663C12392,-663 12197,-663 12197,-663 12191,-663 12185,-657 12185,-651 12185,-651 12185,-592 12185,-592 12185,-586 12191,-580 12197,-580 12197,-580 12392,-580 12392,-580 12398,-580 12404,-586 12404,-592 12404,-592 12404,-651 12404,-651 12404,-657 12398,-663 12392,-663\"/>\n<text text-anchor=\"start\" x=\"12249\" y=\"-647.8\" font-family=\"Helvetica,sans-Serif\" font-size=\"14.00\" fill=\"#000000\">service ≤ 12.5</text>\n<text text-anchor=\"start\" x=\"12256.5\" y=\"-632.8\" font-family=\"Helvetica,sans-Serif\" font-size=\"14.00\" fill=\"#000000\">gini = 0.284</text>\n<text text-anchor=\"start\" x=\"12246.5\" y=\"-617.8\" font-family=\"Helvetica,sans-Serif\" font-size=\"14.00\" fill=\"#000000\">samples = 632</text>\n<text text-anchor=\"start\" x=\"12193\" y=\"-602.8\" font-family=\"Helvetica,sans-Serif\" font-size=\"14.00\" fill=\"#000000\">value = [0, 0, 0, 3, 33, 128, 834]</text>\n<text text-anchor=\"start\" x=\"12244\" y=\"-587.8\" font-family=\"Helvetica,sans-Serif\" font-size=\"14.00\" fill=\"#000000\">class = clase_6</text>\n</g>\n<!-- 207&#45;&gt;208 -->\n<g id=\"edge208\" class=\"edge\">\n<title>207&#45;&gt;208</title>\n<path fill=\"none\" stroke=\"#000000\" d=\"M12294.5,-698.8796C12294.5,-690.6838 12294.5,-681.9891 12294.5,-673.5013\"/>\n<polygon fill=\"#000000\" stroke=\"#000000\" points=\"12298.0001,-673.298 12294.5,-663.2981 12291.0001,-673.2981 12298.0001,-673.298\"/>\n</g>\n<!-- 215 -->\n<g id=\"node216\" class=\"node\">\n<title>215</title>\n<path fill=\"#fbe1ed\" stroke=\"#000000\" d=\"M12662.5,-663C12662.5,-663 12434.5,-663 12434.5,-663 12428.5,-663 12422.5,-657 12422.5,-651 12422.5,-651 12422.5,-592 12422.5,-592 12422.5,-586 12428.5,-580 12434.5,-580 12434.5,-580 12662.5,-580 12662.5,-580 12668.5,-580 12674.5,-586 12674.5,-592 12674.5,-592 12674.5,-651 12674.5,-651 12674.5,-657 12668.5,-663 12662.5,-663\"/>\n<text text-anchor=\"start\" x=\"12503\" y=\"-647.8\" font-family=\"Helvetica,sans-Serif\" font-size=\"14.00\" fill=\"#000000\">service ≤ 15.5</text>\n<text text-anchor=\"start\" x=\"12510.5\" y=\"-632.8\" font-family=\"Helvetica,sans-Serif\" font-size=\"14.00\" fill=\"#000000\">gini = 0.733</text>\n<text text-anchor=\"start\" x=\"12500.5\" y=\"-617.8\" font-family=\"Helvetica,sans-Serif\" font-size=\"14.00\" fill=\"#000000\">samples = 804</text>\n<text text-anchor=\"start\" x=\"12430.5\" y=\"-602.8\" font-family=\"Helvetica,sans-Serif\" font-size=\"14.00\" fill=\"#000000\">value = [0, 2, 43, 146, 263, 325, 462]</text>\n<text text-anchor=\"start\" x=\"12498\" y=\"-587.8\" font-family=\"Helvetica,sans-Serif\" font-size=\"14.00\" fill=\"#000000\">class = clase_6</text>\n</g>\n<!-- 207&#45;&gt;215 -->\n<g id=\"edge215\" class=\"edge\">\n<title>207&#45;&gt;215</title>\n<path fill=\"none\" stroke=\"#000000\" d=\"M12383.3369,-698.8796C12405.0891,-688.6886 12428.488,-677.7261 12450.6371,-667.3492\"/>\n<polygon fill=\"#000000\" stroke=\"#000000\" points=\"12452.1427,-670.5089 12459.7133,-663.0969 12449.1729,-664.1701 12452.1427,-670.5089\"/>\n</g>\n<!-- 209 -->\n<g id=\"node210\" class=\"node\">\n<title>209</title>\n<path fill=\"#e85396\" stroke=\"#000000\" d=\"M12330,-544C12330,-544 12151,-544 12151,-544 12145,-544 12139,-538 12139,-532 12139,-532 12139,-473 12139,-473 12139,-467 12145,-461 12151,-461 12151,-461 12330,-461 12330,-461 12336,-461 12342,-467 12342,-473 12342,-473 12342,-532 12342,-532 12342,-538 12336,-544 12330,-544\"/>\n<text text-anchor=\"start\" x=\"12195\" y=\"-528.8\" font-family=\"Helvetica,sans-Serif\" font-size=\"14.00\" fill=\"#000000\">service ≤ 11.5</text>\n<text text-anchor=\"start\" x=\"12202.5\" y=\"-513.8\" font-family=\"Helvetica,sans-Serif\" font-size=\"14.00\" fill=\"#000000\">gini = 0.211</text>\n<text text-anchor=\"start\" x=\"12192.5\" y=\"-498.8\" font-family=\"Helvetica,sans-Serif\" font-size=\"14.00\" fill=\"#000000\">samples = 320</text>\n<text text-anchor=\"start\" x=\"12147\" y=\"-483.8\" font-family=\"Helvetica,sans-Serif\" font-size=\"14.00\" fill=\"#000000\">value = [0, 0, 0, 2, 4, 58, 476]</text>\n<text text-anchor=\"start\" x=\"12190\" y=\"-468.8\" font-family=\"Helvetica,sans-Serif\" font-size=\"14.00\" fill=\"#000000\">class = clase_6</text>\n</g>\n<!-- 208&#45;&gt;209 -->\n<g id=\"edge209\" class=\"edge\">\n<title>208&#45;&gt;209</title>\n<path fill=\"none\" stroke=\"#000000\" d=\"M12275.6134,-579.8796C12271.7717,-571.4136 12267.6885,-562.4153 12263.7166,-553.6626\"/>\n<polygon fill=\"#000000\" stroke=\"#000000\" points=\"12266.7867,-551.9581 12259.4672,-544.2981 12260.4123,-554.8507 12266.7867,-551.9581\"/>\n</g>\n<!-- 212 -->\n<g id=\"node213\" class=\"node\">\n<title>212</title>\n<path fill=\"#ec6ca5\" stroke=\"#000000\" d=\"M12559,-544C12559,-544 12372,-544 12372,-544 12366,-544 12360,-538 12360,-532 12360,-532 12360,-473 12360,-473 12360,-467 12366,-461 12372,-461 12372,-461 12559,-461 12559,-461 12565,-461 12571,-467 12571,-473 12571,-473 12571,-532 12571,-532 12571,-538 12565,-544 12559,-544\"/>\n<text text-anchor=\"start\" x=\"12420\" y=\"-528.8\" font-family=\"Helvetica,sans-Serif\" font-size=\"14.00\" fill=\"#000000\">service ≤ 13.5</text>\n<text text-anchor=\"start\" x=\"12427.5\" y=\"-513.8\" font-family=\"Helvetica,sans-Serif\" font-size=\"14.00\" fill=\"#000000\">gini = 0.362</text>\n<text text-anchor=\"start\" x=\"12417.5\" y=\"-498.8\" font-family=\"Helvetica,sans-Serif\" font-size=\"14.00\" fill=\"#000000\">samples = 312</text>\n<text text-anchor=\"start\" x=\"12368\" y=\"-483.8\" font-family=\"Helvetica,sans-Serif\" font-size=\"14.00\" fill=\"#000000\">value = [0, 0, 0, 1, 29, 70, 358]</text>\n<text text-anchor=\"start\" x=\"12415\" y=\"-468.8\" font-family=\"Helvetica,sans-Serif\" font-size=\"14.00\" fill=\"#000000\">class = clase_6</text>\n</g>\n<!-- 208&#45;&gt;212 -->\n<g id=\"edge212\" class=\"edge\">\n<title>208&#45;&gt;212</title>\n<path fill=\"none\" stroke=\"#000000\" d=\"M12354.3075,-579.8796C12368.2358,-570.1868 12383.1669,-559.7961 12397.4231,-549.8752\"/>\n<polygon fill=\"#000000\" stroke=\"#000000\" points=\"12399.5174,-552.6819 12405.7263,-544.0969 12395.5189,-546.9362 12399.5174,-552.6819\"/>\n</g>\n<!-- 210 -->\n<g id=\"node211\" class=\"node\">\n<title>210</title>\n<path fill=\"#e85094\" stroke=\"#000000\" d=\"M12110,-417.5C12110,-417.5 11931,-417.5 11931,-417.5 11925,-417.5 11919,-411.5 11919,-405.5 11919,-405.5 11919,-361.5 11919,-361.5 11919,-355.5 11925,-349.5 11931,-349.5 11931,-349.5 12110,-349.5 12110,-349.5 12116,-349.5 12122,-355.5 12122,-361.5 12122,-361.5 12122,-405.5 12122,-405.5 12122,-411.5 12116,-417.5 12110,-417.5\"/>\n<text text-anchor=\"start\" x=\"11982.5\" y=\"-402.3\" font-family=\"Helvetica,sans-Serif\" font-size=\"14.00\" fill=\"#000000\">gini = 0.195</text>\n<text text-anchor=\"start\" x=\"11976.5\" y=\"-387.3\" font-family=\"Helvetica,sans-Serif\" font-size=\"14.00\" fill=\"#000000\">samples = 74</text>\n<text text-anchor=\"start\" x=\"11927\" y=\"-372.3\" font-family=\"Helvetica,sans-Serif\" font-size=\"14.00\" fill=\"#000000\">value = [0, 0, 0, 2, 0, 11, 108]</text>\n<text text-anchor=\"start\" x=\"11970\" y=\"-357.3\" font-family=\"Helvetica,sans-Serif\" font-size=\"14.00\" fill=\"#000000\">class = clase_6</text>\n</g>\n<!-- 209&#45;&gt;210 -->\n<g id=\"edge210\" class=\"edge\">\n<title>209&#45;&gt;210</title>\n<path fill=\"none\" stroke=\"#000000\" d=\"M12163.5547,-460.8796C12140.4736,-448.3948 12115.2521,-434.7523 12092.5027,-422.4469\"/>\n<polygon fill=\"#000000\" stroke=\"#000000\" points=\"12094.0455,-419.3023 12083.5846,-417.623 12090.7151,-425.4593 12094.0455,-419.3023\"/>\n</g>\n<!-- 211 -->\n<g id=\"node212\" class=\"node\">\n<title>211</title>\n<path fill=\"#e95497\" stroke=\"#000000\" d=\"M12331,-417.5C12331,-417.5 12152,-417.5 12152,-417.5 12146,-417.5 12140,-411.5 12140,-405.5 12140,-405.5 12140,-361.5 12140,-361.5 12140,-355.5 12146,-349.5 12152,-349.5 12152,-349.5 12331,-349.5 12331,-349.5 12337,-349.5 12343,-355.5 12343,-361.5 12343,-361.5 12343,-405.5 12343,-405.5 12343,-411.5 12337,-417.5 12331,-417.5\"/>\n<text text-anchor=\"start\" x=\"12203.5\" y=\"-402.3\" font-family=\"Helvetica,sans-Serif\" font-size=\"14.00\" fill=\"#000000\">gini = 0.216</text>\n<text text-anchor=\"start\" x=\"12193.5\" y=\"-387.3\" font-family=\"Helvetica,sans-Serif\" font-size=\"14.00\" fill=\"#000000\">samples = 246</text>\n<text text-anchor=\"start\" x=\"12148\" y=\"-372.3\" font-family=\"Helvetica,sans-Serif\" font-size=\"14.00\" fill=\"#000000\">value = [0, 0, 0, 0, 4, 47, 368]</text>\n<text text-anchor=\"start\" x=\"12191\" y=\"-357.3\" font-family=\"Helvetica,sans-Serif\" font-size=\"14.00\" fill=\"#000000\">class = clase_6</text>\n</g>\n<!-- 209&#45;&gt;211 -->\n<g id=\"edge211\" class=\"edge\">\n<title>209&#45;&gt;211</title>\n<path fill=\"none\" stroke=\"#000000\" d=\"M12240.8498,-460.8796C12240.9394,-450.2134 12241.0361,-438.7021 12241.1269,-427.9015\"/>\n<polygon fill=\"#000000\" stroke=\"#000000\" points=\"12244.6274,-427.844 12241.2116,-417.8149 12237.6276,-427.7851 12244.6274,-427.844\"/>\n</g>\n<!-- 213 -->\n<g id=\"node214\" class=\"node\">\n<title>213</title>\n<path fill=\"#ee81b2\" stroke=\"#000000\" d=\"M12553,-417.5C12553,-417.5 12374,-417.5 12374,-417.5 12368,-417.5 12362,-411.5 12362,-405.5 12362,-405.5 12362,-361.5 12362,-361.5 12362,-355.5 12368,-349.5 12374,-349.5 12374,-349.5 12553,-349.5 12553,-349.5 12559,-349.5 12565,-355.5 12565,-361.5 12565,-361.5 12565,-405.5 12565,-405.5 12565,-411.5 12559,-417.5 12553,-417.5\"/>\n<text text-anchor=\"start\" x=\"12425.5\" y=\"-402.3\" font-family=\"Helvetica,sans-Serif\" font-size=\"14.00\" fill=\"#000000\">gini = 0.456</text>\n<text text-anchor=\"start\" x=\"12419.5\" y=\"-387.3\" font-family=\"Helvetica,sans-Serif\" font-size=\"14.00\" fill=\"#000000\">samples = 90</text>\n<text text-anchor=\"start\" x=\"12370\" y=\"-372.3\" font-family=\"Helvetica,sans-Serif\" font-size=\"14.00\" fill=\"#000000\">value = [0, 0, 0, 1, 12, 24, 89]</text>\n<text text-anchor=\"start\" x=\"12413\" y=\"-357.3\" font-family=\"Helvetica,sans-Serif\" font-size=\"14.00\" fill=\"#000000\">class = clase_6</text>\n</g>\n<!-- 212&#45;&gt;213 -->\n<g id=\"edge213\" class=\"edge\">\n<title>212&#45;&gt;213</title>\n<path fill=\"none\" stroke=\"#000000\" d=\"M12464.8005,-460.8796C12464.6212,-450.2134 12464.4278,-438.7021 12464.2462,-427.9015\"/>\n<polygon fill=\"#000000\" stroke=\"#000000\" points=\"12467.7444,-427.7547 12464.0767,-417.8149 12460.7454,-427.8724 12467.7444,-427.7547\"/>\n</g>\n<!-- 214 -->\n<g id=\"node215\" class=\"node\">\n<title>214</title>\n<path fill=\"#eb65a1\" stroke=\"#000000\" d=\"M12782,-417.5C12782,-417.5 12595,-417.5 12595,-417.5 12589,-417.5 12583,-411.5 12583,-405.5 12583,-405.5 12583,-361.5 12583,-361.5 12583,-355.5 12589,-349.5 12595,-349.5 12595,-349.5 12782,-349.5 12782,-349.5 12788,-349.5 12794,-355.5 12794,-361.5 12794,-361.5 12794,-405.5 12794,-405.5 12794,-411.5 12788,-417.5 12782,-417.5\"/>\n<text text-anchor=\"start\" x=\"12650.5\" y=\"-402.3\" font-family=\"Helvetica,sans-Serif\" font-size=\"14.00\" fill=\"#000000\">gini = 0.322</text>\n<text text-anchor=\"start\" x=\"12640.5\" y=\"-387.3\" font-family=\"Helvetica,sans-Serif\" font-size=\"14.00\" fill=\"#000000\">samples = 222</text>\n<text text-anchor=\"start\" x=\"12591\" y=\"-372.3\" font-family=\"Helvetica,sans-Serif\" font-size=\"14.00\" fill=\"#000000\">value = [0, 0, 0, 0, 17, 46, 269]</text>\n<text text-anchor=\"start\" x=\"12638\" y=\"-357.3\" font-family=\"Helvetica,sans-Serif\" font-size=\"14.00\" fill=\"#000000\">class = clase_6</text>\n</g>\n<!-- 212&#45;&gt;214 -->\n<g id=\"edge214\" class=\"edge\">\n<title>212&#45;&gt;214</title>\n<path fill=\"none\" stroke=\"#000000\" d=\"M12543.4946,-460.8796C12566.8904,-448.3948 12592.4558,-434.7523 12615.5155,-422.4469\"/>\n<polygon fill=\"#000000\" stroke=\"#000000\" points=\"12617.3805,-425.4189 12624.5552,-417.623 12614.0849,-419.2432 12617.3805,-425.4189\"/>\n</g>\n<!-- 216 -->\n<g id=\"node217\" class=\"node\">\n<title>216</title>\n<path fill=\"#fdedf4\" stroke=\"#000000\" d=\"M12829.5,-536.5C12829.5,-536.5 12601.5,-536.5 12601.5,-536.5 12595.5,-536.5 12589.5,-530.5 12589.5,-524.5 12589.5,-524.5 12589.5,-480.5 12589.5,-480.5 12589.5,-474.5 12595.5,-468.5 12601.5,-468.5 12601.5,-468.5 12829.5,-468.5 12829.5,-468.5 12835.5,-468.5 12841.5,-474.5 12841.5,-480.5 12841.5,-480.5 12841.5,-524.5 12841.5,-524.5 12841.5,-530.5 12835.5,-536.5 12829.5,-536.5\"/>\n<text text-anchor=\"start\" x=\"12677.5\" y=\"-521.3\" font-family=\"Helvetica,sans-Serif\" font-size=\"14.00\" fill=\"#000000\">gini = 0.743</text>\n<text text-anchor=\"start\" x=\"12667.5\" y=\"-506.3\" font-family=\"Helvetica,sans-Serif\" font-size=\"14.00\" fill=\"#000000\">samples = 760</text>\n<text text-anchor=\"start\" x=\"12597.5\" y=\"-491.3\" font-family=\"Helvetica,sans-Serif\" font-size=\"14.00\" fill=\"#000000\">value = [0, 2, 43, 146, 263, 318, 395]</text>\n<text text-anchor=\"start\" x=\"12665\" y=\"-476.3\" font-family=\"Helvetica,sans-Serif\" font-size=\"14.00\" fill=\"#000000\">class = clase_6</text>\n</g>\n<!-- 215&#45;&gt;216 -->\n<g id=\"edge216\" class=\"edge\">\n<title>215&#45;&gt;216</title>\n<path fill=\"none\" stroke=\"#000000\" d=\"M12606.9085,-579.8796C12623.964,-567.7263 12642.5591,-554.4759 12659.4641,-542.4297\"/>\n<polygon fill=\"#000000\" stroke=\"#000000\" points=\"12661.5002,-545.2766 12667.6131,-536.623 12657.438,-539.5759 12661.5002,-545.2766\"/>\n</g>\n<!-- 217 -->\n<g id=\"node218\" class=\"node\">\n<title>217</title>\n<path fill=\"#e84e93\" stroke=\"#000000\" d=\"M13033.5,-536.5C13033.5,-536.5 12871.5,-536.5 12871.5,-536.5 12865.5,-536.5 12859.5,-530.5 12859.5,-524.5 12859.5,-524.5 12859.5,-480.5 12859.5,-480.5 12859.5,-474.5 12865.5,-468.5 12871.5,-468.5 12871.5,-468.5 13033.5,-468.5 13033.5,-468.5 13039.5,-468.5 13045.5,-474.5 13045.5,-480.5 13045.5,-480.5 13045.5,-524.5 13045.5,-524.5 13045.5,-530.5 13039.5,-536.5 13033.5,-536.5\"/>\n<text text-anchor=\"start\" x=\"12914.5\" y=\"-521.3\" font-family=\"Helvetica,sans-Serif\" font-size=\"14.00\" fill=\"#000000\">gini = 0.171</text>\n<text text-anchor=\"start\" x=\"12908.5\" y=\"-506.3\" font-family=\"Helvetica,sans-Serif\" font-size=\"14.00\" fill=\"#000000\">samples = 44</text>\n<text text-anchor=\"start\" x=\"12867.5\" y=\"-491.3\" font-family=\"Helvetica,sans-Serif\" font-size=\"14.00\" fill=\"#000000\">value = [0, 0, 0, 0, 0, 7, 67]</text>\n<text text-anchor=\"start\" x=\"12902\" y=\"-476.3\" font-family=\"Helvetica,sans-Serif\" font-size=\"14.00\" fill=\"#000000\">class = clase_6</text>\n</g>\n<!-- 215&#45;&gt;217 -->\n<g id=\"edge217\" class=\"edge\">\n<title>215&#45;&gt;217</title>\n<path fill=\"none\" stroke=\"#000000\" d=\"M12674.5165,-582.3878C12677.5364,-581.5713 12680.5343,-580.774 12683.5,-580 12756.9666,-560.8272 12777.9497,-566.3919 12850.5,-544 12854.5588,-542.7473 12858.6815,-541.3994 12862.8263,-539.9823\"/>\n<polygon fill=\"#000000\" stroke=\"#000000\" points=\"12864.2526,-543.1906 12872.5181,-536.5624 12861.9233,-536.5895 12864.2526,-543.1906\"/>\n</g>\n<!-- 219 -->\n<g id=\"node220\" class=\"node\">\n<title>219</title>\n<path fill=\"#f9fefa\" stroke=\"#000000\" d=\"M13484,-1020C13484,-1020 13165,-1020 13165,-1020 13159,-1020 13153,-1014 13153,-1008 13153,-1008 13153,-949 13153,-949 13153,-943 13159,-937 13165,-937 13165,-937 13484,-937 13484,-937 13490,-937 13496,-943 13496,-949 13496,-949 13496,-1008 13496,-1008 13496,-1014 13490,-1020 13484,-1020\"/>\n<text text-anchor=\"start\" x=\"13279\" y=\"-1004.8\" font-family=\"Helvetica,sans-Serif\" font-size=\"14.00\" fill=\"#000000\">service ≤ 17.5</text>\n<text text-anchor=\"start\" x=\"13286.5\" y=\"-989.8\" font-family=\"Helvetica,sans-Serif\" font-size=\"14.00\" fill=\"#000000\">gini = 0.821</text>\n<text text-anchor=\"start\" x=\"13272.5\" y=\"-974.8\" font-family=\"Helvetica,sans-Serif\" font-size=\"14.00\" fill=\"#000000\">samples = 8680</text>\n<text text-anchor=\"start\" x=\"13161\" y=\"-959.8\" font-family=\"Helvetica,sans-Serif\" font-size=\"14.00\" fill=\"#000000\">value = [117, 2204, 3302, 2989, 2193, 1479, 1458]</text>\n<text text-anchor=\"start\" x=\"13274\" y=\"-944.8\" font-family=\"Helvetica,sans-Serif\" font-size=\"14.00\" fill=\"#000000\">class = clase_2</text>\n</g>\n<!-- 218&#45;&gt;219 -->\n<g id=\"edge219\" class=\"edge\">\n<title>218&#45;&gt;219</title>\n<path fill=\"none\" stroke=\"#000000\" d=\"M13324.5,-1055.8796C13324.5,-1047.6838 13324.5,-1038.9891 13324.5,-1030.5013\"/>\n<polygon fill=\"#000000\" stroke=\"#000000\" points=\"13328.0001,-1030.298 13324.5,-1020.2981 13321.0001,-1030.2981 13328.0001,-1030.298\"/>\n</g>\n<!-- 230 -->\n<g id=\"node231\" class=\"node\">\n<title>230</title>\n<path fill=\"#f8fefe\" stroke=\"#000000\" d=\"M14450.5,-1020C14450.5,-1020 14156.5,-1020 14156.5,-1020 14150.5,-1020 14144.5,-1014 14144.5,-1008 14144.5,-1008 14144.5,-949 14144.5,-949 14144.5,-943 14150.5,-937 14156.5,-937 14156.5,-937 14450.5,-937 14450.5,-937 14456.5,-937 14462.5,-943 14462.5,-949 14462.5,-949 14462.5,-1008 14462.5,-1008 14462.5,-1014 14456.5,-1020 14450.5,-1020\"/>\n<text text-anchor=\"start\" x=\"14240\" y=\"-1004.8\" font-family=\"Helvetica,sans-Serif\" font-size=\"14.00\" fill=\"#000000\">receiver_state ≤ 3.5</text>\n<text text-anchor=\"start\" x=\"14265.5\" y=\"-989.8\" font-family=\"Helvetica,sans-Serif\" font-size=\"14.00\" fill=\"#000000\">gini = 0.809</text>\n<text text-anchor=\"start\" x=\"14251.5\" y=\"-974.8\" font-family=\"Helvetica,sans-Serif\" font-size=\"14.00\" fill=\"#000000\">samples = 6836</text>\n<text text-anchor=\"start\" x=\"14152.5\" y=\"-959.8\" font-family=\"Helvetica,sans-Serif\" font-size=\"14.00\" fill=\"#000000\">value = [6, 449, 1724, 2565, 2247, 1617, 2226]</text>\n<text text-anchor=\"start\" x=\"14253\" y=\"-944.8\" font-family=\"Helvetica,sans-Serif\" font-size=\"14.00\" fill=\"#000000\">class = clase_3</text>\n</g>\n<!-- 218&#45;&gt;230 -->\n<g id=\"edge230\" class=\"edge\">\n<title>218&#45;&gt;230</title>\n<path fill=\"none\" stroke=\"#000000\" d=\"M13496.1491,-1076.6356C13675.642,-1054.8178 13955.5906,-1020.7893 14134.2008,-999.0788\"/>\n<polygon fill=\"#000000\" stroke=\"#000000\" points=\"14134.7163,-1002.542 14144.2209,-997.8608 14133.8716,-995.5931 14134.7163,-1002.542\"/>\n</g>\n<!-- 220 -->\n<g id=\"node221\" class=\"node\">\n<title>220</title>\n<path fill=\"#f8fefe\" stroke=\"#000000\" d=\"M13297,-901C13297,-901 13028,-901 13028,-901 13022,-901 13016,-895 13016,-889 13016,-889 13016,-830 13016,-830 13016,-824 13022,-818 13028,-818 13028,-818 13297,-818 13297,-818 13303,-818 13309,-824 13309,-830 13309,-830 13309,-889 13309,-889 13309,-895 13303,-901 13297,-901\"/>\n<text text-anchor=\"start\" x=\"13099\" y=\"-885.8\" font-family=\"Helvetica,sans-Serif\" font-size=\"14.00\" fill=\"#000000\">receiver_state ≤ 3.5</text>\n<text text-anchor=\"start\" x=\"13124.5\" y=\"-870.8\" font-family=\"Helvetica,sans-Serif\" font-size=\"14.00\" fill=\"#000000\">gini = 0.829</text>\n<text text-anchor=\"start\" x=\"13110.5\" y=\"-855.8\" font-family=\"Helvetica,sans-Serif\" font-size=\"14.00\" fill=\"#000000\">samples = 2856</text>\n<text text-anchor=\"start\" x=\"13024\" y=\"-840.8\" font-family=\"Helvetica,sans-Serif\" font-size=\"14.00\" fill=\"#000000\">value = [65, 638, 899, 1032, 797, 581, 538]</text>\n<text text-anchor=\"start\" x=\"13112\" y=\"-825.8\" font-family=\"Helvetica,sans-Serif\" font-size=\"14.00\" fill=\"#000000\">class = clase_3</text>\n</g>\n<!-- 219&#45;&gt;220 -->\n<g id=\"edge220\" class=\"edge\">\n<title>219&#45;&gt;220</title>\n<path fill=\"none\" stroke=\"#000000\" d=\"M13267.8403,-936.8796C13254.7684,-927.2774 13240.7641,-916.9903 13227.3727,-907.1534\"/>\n<polygon fill=\"#000000\" stroke=\"#000000\" points=\"13229.2591,-904.1963 13219.1277,-901.0969 13225.115,-909.8378 13229.2591,-904.1963\"/>\n</g>\n<!-- 225 -->\n<g id=\"node226\" class=\"node\">\n<title>225</title>\n<path fill=\"#f3fdf4\" stroke=\"#000000\" d=\"M13633.5,-901C13633.5,-901 13339.5,-901 13339.5,-901 13333.5,-901 13327.5,-895 13327.5,-889 13327.5,-889 13327.5,-830 13327.5,-830 13327.5,-824 13333.5,-818 13339.5,-818 13339.5,-818 13633.5,-818 13633.5,-818 13639.5,-818 13645.5,-824 13645.5,-830 13645.5,-830 13645.5,-889 13645.5,-889 13645.5,-895 13639.5,-901 13633.5,-901\"/>\n<text text-anchor=\"start\" x=\"13423\" y=\"-885.8\" font-family=\"Helvetica,sans-Serif\" font-size=\"14.00\" fill=\"#000000\">receiver_state ≤ 3.5</text>\n<text text-anchor=\"start\" x=\"13448.5\" y=\"-870.8\" font-family=\"Helvetica,sans-Serif\" font-size=\"14.00\" fill=\"#000000\">gini = 0.815</text>\n<text text-anchor=\"start\" x=\"13434.5\" y=\"-855.8\" font-family=\"Helvetica,sans-Serif\" font-size=\"14.00\" fill=\"#000000\">samples = 5824</text>\n<text text-anchor=\"start\" x=\"13335.5\" y=\"-840.8\" font-family=\"Helvetica,sans-Serif\" font-size=\"14.00\" fill=\"#000000\">value = [52, 1566, 2403, 1957, 1396, 898, 920]</text>\n<text text-anchor=\"start\" x=\"13436\" y=\"-825.8\" font-family=\"Helvetica,sans-Serif\" font-size=\"14.00\" fill=\"#000000\">class = clase_2</text>\n</g>\n<!-- 219&#45;&gt;225 -->\n<g id=\"edge225\" class=\"edge\">\n<title>219&#45;&gt;225</title>\n<path fill=\"none\" stroke=\"#000000\" d=\"M13381.1597,-936.8796C13394.2316,-927.2774 13408.2359,-916.9903 13421.6273,-907.1534\"/>\n<polygon fill=\"#000000\" stroke=\"#000000\" points=\"13423.885,-909.8378 13429.8723,-901.0969 13419.7409,-904.1963 13423.885,-909.8378\"/>\n</g>\n<!-- 221 -->\n<g id=\"node222\" class=\"node\">\n<title>221</title>\n<path fill=\"#f2fdfd\" stroke=\"#000000\" d=\"M12995,-782C12995,-782 12734,-782 12734,-782 12728,-782 12722,-776 12722,-770 12722,-770 12722,-711 12722,-711 12722,-705 12728,-699 12734,-699 12734,-699 12995,-699 12995,-699 13001,-699 13007,-705 13007,-711 13007,-711 13007,-770 13007,-770 13007,-776 13001,-782 12995,-782\"/>\n<text text-anchor=\"start\" x=\"12801\" y=\"-766.8\" font-family=\"Helvetica,sans-Serif\" font-size=\"14.00\" fill=\"#000000\">receiver_state ≤ 2.5</text>\n<text text-anchor=\"start\" x=\"12826.5\" y=\"-751.8\" font-family=\"Helvetica,sans-Serif\" font-size=\"14.00\" fill=\"#000000\">gini = 0.812</text>\n<text text-anchor=\"start\" x=\"12812.5\" y=\"-736.8\" font-family=\"Helvetica,sans-Serif\" font-size=\"14.00\" fill=\"#000000\">samples = 1171</text>\n<text text-anchor=\"start\" x=\"12730\" y=\"-721.8\" font-family=\"Helvetica,sans-Serif\" font-size=\"14.00\" fill=\"#000000\">value = [14, 174, 321, 513, 413, 242, 207]</text>\n<text text-anchor=\"start\" x=\"12814\" y=\"-706.8\" font-family=\"Helvetica,sans-Serif\" font-size=\"14.00\" fill=\"#000000\">class = clase_3</text>\n</g>\n<!-- 220&#45;&gt;221 -->\n<g id=\"edge221\" class=\"edge\">\n<title>220&#45;&gt;221</title>\n<path fill=\"none\" stroke=\"#000000\" d=\"M13058.2741,-817.8796C13032.4134,-807.5527 13004.5691,-796.4336 12978.2769,-785.9344\"/>\n<polygon fill=\"#000000\" stroke=\"#000000\" points=\"12979.252,-782.5551 12968.6671,-782.0969 12976.656,-789.0559 12979.252,-782.5551\"/>\n</g>\n<!-- 224 -->\n<g id=\"node225\" class=\"node\">\n<title>224</title>\n<path fill=\"#fafefa\" stroke=\"#000000\" d=\"M13298,-774.5C13298,-774.5 13037,-774.5 13037,-774.5 13031,-774.5 13025,-768.5 13025,-762.5 13025,-762.5 13025,-718.5 13025,-718.5 13025,-712.5 13031,-706.5 13037,-706.5 13037,-706.5 13298,-706.5 13298,-706.5 13304,-706.5 13310,-712.5 13310,-718.5 13310,-718.5 13310,-762.5 13310,-762.5 13310,-768.5 13304,-774.5 13298,-774.5\"/>\n<text text-anchor=\"start\" x=\"13129.5\" y=\"-759.3\" font-family=\"Helvetica,sans-Serif\" font-size=\"14.00\" fill=\"#000000\">gini = 0.832</text>\n<text text-anchor=\"start\" x=\"13115.5\" y=\"-744.3\" font-family=\"Helvetica,sans-Serif\" font-size=\"14.00\" fill=\"#000000\">samples = 1685</text>\n<text text-anchor=\"start\" x=\"13033\" y=\"-729.3\" font-family=\"Helvetica,sans-Serif\" font-size=\"14.00\" fill=\"#000000\">value = [51, 464, 578, 519, 384, 339, 331]</text>\n<text text-anchor=\"start\" x=\"13117\" y=\"-714.3\" font-family=\"Helvetica,sans-Serif\" font-size=\"14.00\" fill=\"#000000\">class = clase_2</text>\n</g>\n<!-- 220&#45;&gt;224 -->\n<g id=\"edge224\" class=\"edge\">\n<title>220&#45;&gt;224</title>\n<path fill=\"none\" stroke=\"#000000\" d=\"M13164.2488,-817.8796C13164.6969,-807.2134 13165.1806,-795.7021 13165.6344,-784.9015\"/>\n<polygon fill=\"#000000\" stroke=\"#000000\" points=\"13169.1352,-784.9531 13166.0582,-774.8149 13162.1414,-784.6592 13169.1352,-784.9531\"/>\n</g>\n<!-- 222 -->\n<g id=\"node223\" class=\"node\">\n<title>222</title>\n<path fill=\"#eefdfc\" stroke=\"#000000\" d=\"M12940.5,-655.5C12940.5,-655.5 12704.5,-655.5 12704.5,-655.5 12698.5,-655.5 12692.5,-649.5 12692.5,-643.5 12692.5,-643.5 12692.5,-599.5 12692.5,-599.5 12692.5,-593.5 12698.5,-587.5 12704.5,-587.5 12704.5,-587.5 12940.5,-587.5 12940.5,-587.5 12946.5,-587.5 12952.5,-593.5 12952.5,-599.5 12952.5,-599.5 12952.5,-643.5 12952.5,-643.5 12952.5,-649.5 12946.5,-655.5 12940.5,-655.5\"/>\n<text text-anchor=\"start\" x=\"12784.5\" y=\"-640.3\" font-family=\"Helvetica,sans-Serif\" font-size=\"14.00\" fill=\"#000000\">gini = 0.806</text>\n<text text-anchor=\"start\" x=\"12774.5\" y=\"-625.3\" font-family=\"Helvetica,sans-Serif\" font-size=\"14.00\" fill=\"#000000\">samples = 355</text>\n<text text-anchor=\"start\" x=\"12700.5\" y=\"-610.3\" font-family=\"Helvetica,sans-Serif\" font-size=\"14.00\" fill=\"#000000\">value = [14, 113, 121, 160, 74, 34, 51]</text>\n<text text-anchor=\"start\" x=\"12772\" y=\"-595.3\" font-family=\"Helvetica,sans-Serif\" font-size=\"14.00\" fill=\"#000000\">class = clase_3</text>\n</g>\n<!-- 221&#45;&gt;222 -->\n<g id=\"edge222\" class=\"edge\">\n<title>221&#45;&gt;222</title>\n<path fill=\"none\" stroke=\"#000000\" d=\"M12849.8104,-698.8796C12846.0071,-688.1034 12841.8993,-676.4647 12838.0533,-665.5677\"/>\n<polygon fill=\"#000000\" stroke=\"#000000\" points=\"12841.2399,-664.08 12834.6112,-655.8149 12834.639,-666.4097 12841.2399,-664.08\"/>\n</g>\n<!-- 223 -->\n<g id=\"node224\" class=\"node\">\n<title>223</title>\n<path fill=\"#fcffff\" stroke=\"#000000\" d=\"M13228,-655.5C13228,-655.5 12983,-655.5 12983,-655.5 12977,-655.5 12971,-649.5 12971,-643.5 12971,-643.5 12971,-599.5 12971,-599.5 12971,-593.5 12977,-587.5 12983,-587.5 12983,-587.5 13228,-587.5 13228,-587.5 13234,-587.5 13240,-593.5 13240,-599.5 13240,-599.5 13240,-643.5 13240,-643.5 13240,-649.5 13234,-655.5 13228,-655.5\"/>\n<text text-anchor=\"start\" x=\"13067.5\" y=\"-640.3\" font-family=\"Helvetica,sans-Serif\" font-size=\"14.00\" fill=\"#000000\">gini = 0.798</text>\n<text text-anchor=\"start\" x=\"13057.5\" y=\"-625.3\" font-family=\"Helvetica,sans-Serif\" font-size=\"14.00\" fill=\"#000000\">samples = 816</text>\n<text text-anchor=\"start\" x=\"12979\" y=\"-610.3\" font-family=\"Helvetica,sans-Serif\" font-size=\"14.00\" fill=\"#000000\">value = [0, 61, 200, 353, 339, 208, 156]</text>\n<text text-anchor=\"start\" x=\"13055\" y=\"-595.3\" font-family=\"Helvetica,sans-Serif\" font-size=\"14.00\" fill=\"#000000\">class = clase_3</text>\n</g>\n<!-- 221&#45;&gt;223 -->\n<g id=\"edge223\" class=\"edge\">\n<title>221&#45;&gt;223</title>\n<path fill=\"none\" stroke=\"#000000\" d=\"M12948.7901,-698.8796C12974.2981,-686.2843 13002.1925,-672.5107 13027.2853,-660.1205\"/>\n<polygon fill=\"#000000\" stroke=\"#000000\" points=\"13028.9768,-663.1888 13036.3937,-655.623 13025.8776,-656.9123 13028.9768,-663.1888\"/>\n</g>\n<!-- 226 -->\n<g id=\"node227\" class=\"node\">\n<title>226</title>\n<path fill=\"#fdfdff\" stroke=\"#000000\" d=\"M13611,-782C13611,-782 13350,-782 13350,-782 13344,-782 13338,-776 13338,-770 13338,-770 13338,-711 13338,-711 13338,-705 13344,-699 13350,-699 13350,-699 13611,-699 13611,-699 13617,-699 13623,-705 13623,-711 13623,-711 13623,-770 13623,-770 13623,-776 13617,-782 13611,-782\"/>\n<text text-anchor=\"start\" x=\"13417\" y=\"-766.8\" font-family=\"Helvetica,sans-Serif\" font-size=\"14.00\" fill=\"#000000\">receiver_state ≤ 2.5</text>\n<text text-anchor=\"start\" x=\"13442.5\" y=\"-751.8\" font-family=\"Helvetica,sans-Serif\" font-size=\"14.00\" fill=\"#000000\">gini = 0.793</text>\n<text text-anchor=\"start\" x=\"13428.5\" y=\"-736.8\" font-family=\"Helvetica,sans-Serif\" font-size=\"14.00\" fill=\"#000000\">samples = 2701</text>\n<text text-anchor=\"start\" x=\"13346\" y=\"-721.8\" font-family=\"Helvetica,sans-Serif\" font-size=\"14.00\" fill=\"#000000\">value = [0, 56, 604, 1082, 1112, 729, 721]</text>\n<text text-anchor=\"start\" x=\"13430\" y=\"-706.8\" font-family=\"Helvetica,sans-Serif\" font-size=\"14.00\" fill=\"#000000\">class = clase_4</text>\n</g>\n<!-- 225&#45;&gt;226 -->\n<g id=\"edge226\" class=\"edge\">\n<title>225&#45;&gt;226</title>\n<path fill=\"none\" stroke=\"#000000\" d=\"M13484.4015,-817.8796C13483.9883,-809.6838 13483.5499,-800.9891 13483.1219,-792.5013\"/>\n<polygon fill=\"#000000\" stroke=\"#000000\" points=\"13486.6067,-792.1091 13482.6075,-782.2981 13479.6156,-792.4617 13486.6067,-792.1091\"/>\n</g>\n<!-- 229 -->\n<g id=\"node230\" class=\"node\">\n<title>229</title>\n<path fill=\"#eefdf0\" stroke=\"#000000\" d=\"M13931.5,-774.5C13931.5,-774.5 13653.5,-774.5 13653.5,-774.5 13647.5,-774.5 13641.5,-768.5 13641.5,-762.5 13641.5,-762.5 13641.5,-718.5 13641.5,-718.5 13641.5,-712.5 13647.5,-706.5 13653.5,-706.5 13653.5,-706.5 13931.5,-706.5 13931.5,-706.5 13937.5,-706.5 13943.5,-712.5 13943.5,-718.5 13943.5,-718.5 13943.5,-762.5 13943.5,-762.5 13943.5,-768.5 13937.5,-774.5 13931.5,-774.5\"/>\n<text text-anchor=\"start\" x=\"13754.5\" y=\"-759.3\" font-family=\"Helvetica,sans-Serif\" font-size=\"14.00\" fill=\"#000000\">gini = 0.731</text>\n<text text-anchor=\"start\" x=\"13740.5\" y=\"-744.3\" font-family=\"Helvetica,sans-Serif\" font-size=\"14.00\" fill=\"#000000\">samples = 3123</text>\n<text text-anchor=\"start\" x=\"13649.5\" y=\"-729.3\" font-family=\"Helvetica,sans-Serif\" font-size=\"14.00\" fill=\"#000000\">value = [52, 1510, 1799, 875, 284, 169, 199]</text>\n<text text-anchor=\"start\" x=\"13742\" y=\"-714.3\" font-family=\"Helvetica,sans-Serif\" font-size=\"14.00\" fill=\"#000000\">class = clase_2</text>\n</g>\n<!-- 225&#45;&gt;229 -->\n<g id=\"edge229\" class=\"edge\">\n<title>225&#45;&gt;229</title>\n<path fill=\"none\" stroke=\"#000000\" d=\"M13593.524,-817.8796C13626.6219,-805.0081 13662.8844,-790.9061 13695.281,-778.3074\"/>\n<polygon fill=\"#000000\" stroke=\"#000000\" points=\"13696.7036,-781.5096 13704.7551,-774.623 13694.1664,-774.9855 13696.7036,-781.5096\"/>\n</g>\n<!-- 227 -->\n<g id=\"node228\" class=\"node\">\n<title>227</title>\n<path fill=\"#fbfefe\" stroke=\"#000000\" d=\"M13515,-655.5C13515,-655.5 13270,-655.5 13270,-655.5 13264,-655.5 13258,-649.5 13258,-643.5 13258,-643.5 13258,-599.5 13258,-599.5 13258,-593.5 13264,-587.5 13270,-587.5 13270,-587.5 13515,-587.5 13515,-587.5 13521,-587.5 13527,-593.5 13527,-599.5 13527,-599.5 13527,-643.5 13527,-643.5 13527,-649.5 13521,-655.5 13515,-655.5\"/>\n<text text-anchor=\"start\" x=\"13354.5\" y=\"-640.3\" font-family=\"Helvetica,sans-Serif\" font-size=\"14.00\" fill=\"#000000\">gini = 0.795</text>\n<text text-anchor=\"start\" x=\"13340.5\" y=\"-625.3\" font-family=\"Helvetica,sans-Serif\" font-size=\"14.00\" fill=\"#000000\">samples = 2290</text>\n<text text-anchor=\"start\" x=\"13266\" y=\"-610.3\" font-family=\"Helvetica,sans-Serif\" font-size=\"14.00\" fill=\"#000000\">value = [0, 54, 529, 947, 890, 565, 665]</text>\n<text text-anchor=\"start\" x=\"13342\" y=\"-595.3\" font-family=\"Helvetica,sans-Serif\" font-size=\"14.00\" fill=\"#000000\">class = clase_3</text>\n</g>\n<!-- 226&#45;&gt;227 -->\n<g id=\"edge227\" class=\"edge\">\n<title>226&#45;&gt;227</title>\n<path fill=\"none\" stroke=\"#000000\" d=\"M13449.7219,-698.8796C13441.3464,-687.5536 13432.2662,-675.2748 13423.8589,-663.9058\"/>\n<polygon fill=\"#000000\" stroke=\"#000000\" points=\"13426.6357,-661.7743 13417.8758,-655.8149 13421.0075,-665.9364 13426.6357,-661.7743\"/>\n</g>\n<!-- 228 -->\n<g id=\"node229\" class=\"node\">\n<title>228</title>\n<path fill=\"#e8ebfc\" stroke=\"#000000\" d=\"M13777.5,-655.5C13777.5,-655.5 13557.5,-655.5 13557.5,-655.5 13551.5,-655.5 13545.5,-649.5 13545.5,-643.5 13545.5,-643.5 13545.5,-599.5 13545.5,-599.5 13545.5,-593.5 13551.5,-587.5 13557.5,-587.5 13557.5,-587.5 13777.5,-587.5 13777.5,-587.5 13783.5,-587.5 13789.5,-593.5 13789.5,-599.5 13789.5,-599.5 13789.5,-643.5 13789.5,-643.5 13789.5,-649.5 13783.5,-655.5 13777.5,-655.5\"/>\n<text text-anchor=\"start\" x=\"13629.5\" y=\"-640.3\" font-family=\"Helvetica,sans-Serif\" font-size=\"14.00\" fill=\"#000000\">gini = 0.759</text>\n<text text-anchor=\"start\" x=\"13619.5\" y=\"-625.3\" font-family=\"Helvetica,sans-Serif\" font-size=\"14.00\" fill=\"#000000\">samples = 411</text>\n<text text-anchor=\"start\" x=\"13553.5\" y=\"-610.3\" font-family=\"Helvetica,sans-Serif\" font-size=\"14.00\" fill=\"#000000\">value = [0, 2, 75, 135, 222, 164, 56]</text>\n<text text-anchor=\"start\" x=\"13617\" y=\"-595.3\" font-family=\"Helvetica,sans-Serif\" font-size=\"14.00\" fill=\"#000000\">class = clase_4</text>\n</g>\n<!-- 226&#45;&gt;228 -->\n<g id=\"edge228\" class=\"edge\">\n<title>226&#45;&gt;228</title>\n<path fill=\"none\" stroke=\"#000000\" d=\"M13545.9035,-698.8796C13565.1752,-686.6158 13586.2024,-673.2348 13605.269,-661.1015\"/>\n<polygon fill=\"#000000\" stroke=\"#000000\" points=\"13607.3205,-663.9447 13613.8781,-655.623 13603.5624,-658.039 13607.3205,-663.9447\"/>\n</g>\n<!-- 231 -->\n<g id=\"node232\" class=\"node\">\n<title>231</title>\n<path fill=\"#fef5f9\" stroke=\"#000000\" d=\"M14442.5,-901C14442.5,-901 14164.5,-901 14164.5,-901 14158.5,-901 14152.5,-895 14152.5,-889 14152.5,-889 14152.5,-830 14152.5,-830 14152.5,-824 14158.5,-818 14164.5,-818 14164.5,-818 14442.5,-818 14442.5,-818 14448.5,-818 14454.5,-824 14454.5,-830 14454.5,-830 14454.5,-889 14454.5,-889 14454.5,-895 14448.5,-901 14442.5,-901\"/>\n<text text-anchor=\"start\" x=\"14240\" y=\"-885.8\" font-family=\"Helvetica,sans-Serif\" font-size=\"14.00\" fill=\"#000000\">receiver_state ≤ 2.5</text>\n<text text-anchor=\"start\" x=\"14265.5\" y=\"-870.8\" font-family=\"Helvetica,sans-Serif\" font-size=\"14.00\" fill=\"#000000\">gini = 0.804</text>\n<text text-anchor=\"start\" x=\"14251.5\" y=\"-855.8\" font-family=\"Helvetica,sans-Serif\" font-size=\"14.00\" fill=\"#000000\">samples = 4081</text>\n<text text-anchor=\"start\" x=\"14160.5\" y=\"-840.8\" font-family=\"Helvetica,sans-Serif\" font-size=\"14.00\" fill=\"#000000\">value = [6, 249, 927, 1439, 1214, 940, 1687]</text>\n<text text-anchor=\"start\" x=\"14253\" y=\"-825.8\" font-family=\"Helvetica,sans-Serif\" font-size=\"14.00\" fill=\"#000000\">class = clase_6</text>\n</g>\n<!-- 230&#45;&gt;231 -->\n<g id=\"edge231\" class=\"edge\">\n<title>230&#45;&gt;231</title>\n<path fill=\"none\" stroke=\"#000000\" d=\"M14303.5,-936.8796C14303.5,-928.6838 14303.5,-919.9891 14303.5,-911.5013\"/>\n<polygon fill=\"#000000\" stroke=\"#000000\" points=\"14307.0001,-911.298 14303.5,-901.2981 14300.0001,-911.2981 14307.0001,-911.298\"/>\n</g>\n<!-- 244 -->\n<g id=\"node245\" class=\"node\">\n<title>244</title>\n<path fill=\"#f9fefe\" stroke=\"#000000\" d=\"M15137,-901C15137,-901 14868,-901 14868,-901 14862,-901 14856,-895 14856,-889 14856,-889 14856,-830 14856,-830 14856,-824 14862,-818 14868,-818 14868,-818 15137,-818 15137,-818 15143,-818 15149,-824 15149,-830 15149,-830 15149,-889 15149,-889 15149,-895 15143,-901 15137,-901\"/>\n<text text-anchor=\"start\" x=\"14957\" y=\"-885.8\" font-family=\"Helvetica,sans-Serif\" font-size=\"14.00\" fill=\"#000000\">service ≤ 23.5</text>\n<text text-anchor=\"start\" x=\"14964.5\" y=\"-870.8\" font-family=\"Helvetica,sans-Serif\" font-size=\"14.00\" fill=\"#000000\">gini = 0.803</text>\n<text text-anchor=\"start\" x=\"14950.5\" y=\"-855.8\" font-family=\"Helvetica,sans-Serif\" font-size=\"14.00\" fill=\"#000000\">samples = 2755</text>\n<text text-anchor=\"start\" x=\"14864\" y=\"-840.8\" font-family=\"Helvetica,sans-Serif\" font-size=\"14.00\" fill=\"#000000\">value = [0, 200, 797, 1126, 1033, 677, 539]</text>\n<text text-anchor=\"start\" x=\"14952\" y=\"-825.8\" font-family=\"Helvetica,sans-Serif\" font-size=\"14.00\" fill=\"#000000\">class = clase_3</text>\n</g>\n<!-- 230&#45;&gt;244 -->\n<g id=\"edge244\" class=\"edge\">\n<title>230&#45;&gt;244</title>\n<path fill=\"none\" stroke=\"#000000\" d=\"M14462.551,-951.4226C14577.3466,-931.8795 14731.6051,-905.618 14845.8461,-886.1693\"/>\n<polygon fill=\"#000000\" stroke=\"#000000\" points=\"14846.4603,-889.6151 14855.731,-884.4864 14845.2855,-882.7144 14846.4603,-889.6151\"/>\n</g>\n<!-- 232 -->\n<g id=\"node233\" class=\"node\">\n<title>232</title>\n<path fill=\"#f6fefe\" stroke=\"#000000\" d=\"M14291,-782C14291,-782 14022,-782 14022,-782 14016,-782 14010,-776 14010,-770 14010,-770 14010,-711 14010,-711 14010,-705 14016,-699 14022,-699 14022,-699 14291,-699 14291,-699 14297,-699 14303,-705 14303,-711 14303,-711 14303,-770 14303,-770 14303,-776 14297,-782 14291,-782\"/>\n<text text-anchor=\"start\" x=\"14111\" y=\"-766.8\" font-family=\"Helvetica,sans-Serif\" font-size=\"14.00\" fill=\"#000000\">service ≤ 21.5</text>\n<text text-anchor=\"start\" x=\"14118.5\" y=\"-751.8\" font-family=\"Helvetica,sans-Serif\" font-size=\"14.00\" fill=\"#000000\">gini = 0.804</text>\n<text text-anchor=\"start\" x=\"14104.5\" y=\"-736.8\" font-family=\"Helvetica,sans-Serif\" font-size=\"14.00\" fill=\"#000000\">samples = 2908</text>\n<text text-anchor=\"start\" x=\"14018\" y=\"-721.8\" font-family=\"Helvetica,sans-Serif\" font-size=\"14.00\" fill=\"#000000\">value = [4, 227, 839, 1174, 807, 485, 1010]</text>\n<text text-anchor=\"start\" x=\"14106\" y=\"-706.8\" font-family=\"Helvetica,sans-Serif\" font-size=\"14.00\" fill=\"#000000\">class = clase_3</text>\n</g>\n<!-- 231&#45;&gt;232 -->\n<g id=\"edge232\" class=\"edge\">\n<title>231&#45;&gt;232</title>\n<path fill=\"none\" stroke=\"#000000\" d=\"M14252.0865,-817.8796C14240.4048,-808.4229 14227.9025,-798.302 14215.919,-788.6011\"/>\n<polygon fill=\"#000000\" stroke=\"#000000\" points=\"14218.1076,-785.8697 14208.1329,-782.2981 14213.7032,-791.3105 14218.1076,-785.8697\"/>\n</g>\n<!-- 239 -->\n<g id=\"node240\" class=\"node\">\n<title>239</title>\n<path fill=\"#fbe1ed\" stroke=\"#000000\" d=\"M14569.5,-782C14569.5,-782 14333.5,-782 14333.5,-782 14327.5,-782 14321.5,-776 14321.5,-770 14321.5,-770 14321.5,-711 14321.5,-711 14321.5,-705 14327.5,-699 14333.5,-699 14333.5,-699 14569.5,-699 14569.5,-699 14575.5,-699 14581.5,-705 14581.5,-711 14581.5,-711 14581.5,-770 14581.5,-770 14581.5,-776 14575.5,-782 14569.5,-782\"/>\n<text text-anchor=\"start\" x=\"14406\" y=\"-766.8\" font-family=\"Helvetica,sans-Serif\" font-size=\"14.00\" fill=\"#000000\">service ≤ 22.5</text>\n<text text-anchor=\"start\" x=\"14413.5\" y=\"-751.8\" font-family=\"Helvetica,sans-Serif\" font-size=\"14.00\" fill=\"#000000\">gini = 0.752</text>\n<text text-anchor=\"start\" x=\"14399.5\" y=\"-736.8\" font-family=\"Helvetica,sans-Serif\" font-size=\"14.00\" fill=\"#000000\">samples = 1173</text>\n<text text-anchor=\"start\" x=\"14329.5\" y=\"-721.8\" font-family=\"Helvetica,sans-Serif\" font-size=\"14.00\" fill=\"#000000\">value = [2, 22, 88, 265, 407, 455, 677]</text>\n<text text-anchor=\"start\" x=\"14401\" y=\"-706.8\" font-family=\"Helvetica,sans-Serif\" font-size=\"14.00\" fill=\"#000000\">class = clase_6</text>\n</g>\n<!-- 231&#45;&gt;239 -->\n<g id=\"edge239\" class=\"edge\">\n<title>231&#45;&gt;239</title>\n<path fill=\"none\" stroke=\"#000000\" d=\"M14355.2632,-817.8796C14367.0928,-808.368 14379.7581,-798.1843 14391.8871,-788.432\"/>\n<polygon fill=\"#000000\" stroke=\"#000000\" points=\"14394.1659,-791.0908 14399.766,-782.0969 14389.7796,-785.6355 14394.1659,-791.0908\"/>\n</g>\n<!-- 233 -->\n<g id=\"node234\" class=\"node\">\n<title>233</title>\n<path fill=\"#e53986\" stroke=\"#000000\" d=\"M13989.5,-655.5C13989.5,-655.5 13819.5,-655.5 13819.5,-655.5 13813.5,-655.5 13807.5,-649.5 13807.5,-643.5 13807.5,-643.5 13807.5,-599.5 13807.5,-599.5 13807.5,-593.5 13813.5,-587.5 13819.5,-587.5 13819.5,-587.5 13989.5,-587.5 13989.5,-587.5 13995.5,-587.5 14001.5,-593.5 14001.5,-599.5 14001.5,-599.5 14001.5,-643.5 14001.5,-643.5 14001.5,-649.5 13995.5,-655.5 13989.5,-655.5\"/>\n<text text-anchor=\"start\" x=\"13875\" y=\"-640.3\" font-family=\"Helvetica,sans-Serif\" font-size=\"14.00\" fill=\"#000000\">gini = 0.0</text>\n<text text-anchor=\"start\" x=\"13856.5\" y=\"-625.3\" font-family=\"Helvetica,sans-Serif\" font-size=\"14.00\" fill=\"#000000\">samples = 190</text>\n<text text-anchor=\"start\" x=\"13815.5\" y=\"-610.3\" font-family=\"Helvetica,sans-Serif\" font-size=\"14.00\" fill=\"#000000\">value = [0, 0, 0, 0, 0, 0, 312]</text>\n<text text-anchor=\"start\" x=\"13854\" y=\"-595.3\" font-family=\"Helvetica,sans-Serif\" font-size=\"14.00\" fill=\"#000000\">class = clase_6</text>\n</g>\n<!-- 232&#45;&gt;233 -->\n<g id=\"edge233\" class=\"edge\">\n<title>232&#45;&gt;233</title>\n<path fill=\"none\" stroke=\"#000000\" d=\"M14068.3626,-698.8796C14041.5734,-686.2291 14012.2668,-672.3899 13985.9396,-659.9576\"/>\n<polygon fill=\"#000000\" stroke=\"#000000\" points=\"13987.2976,-656.7283 13976.7605,-655.623 13984.3085,-663.058 13987.2976,-656.7283\"/>\n</g>\n<!-- 234 -->\n<g id=\"node235\" class=\"node\">\n<title>234</title>\n<path fill=\"#ebfcfc\" stroke=\"#000000\" d=\"M14293,-663C14293,-663 14032,-663 14032,-663 14026,-663 14020,-657 14020,-651 14020,-651 14020,-592 14020,-592 14020,-586 14026,-580 14032,-580 14032,-580 14293,-580 14293,-580 14299,-580 14305,-586 14305,-592 14305,-592 14305,-651 14305,-651 14305,-657 14299,-663 14293,-663\"/>\n<text text-anchor=\"start\" x=\"14117\" y=\"-647.8\" font-family=\"Helvetica,sans-Serif\" font-size=\"14.00\" fill=\"#000000\">service ≤ 23.5</text>\n<text text-anchor=\"start\" x=\"14124.5\" y=\"-632.8\" font-family=\"Helvetica,sans-Serif\" font-size=\"14.00\" fill=\"#000000\">gini = 0.804</text>\n<text text-anchor=\"start\" x=\"14110.5\" y=\"-617.8\" font-family=\"Helvetica,sans-Serif\" font-size=\"14.00\" fill=\"#000000\">samples = 2718</text>\n<text text-anchor=\"start\" x=\"14028\" y=\"-602.8\" font-family=\"Helvetica,sans-Serif\" font-size=\"14.00\" fill=\"#000000\">value = [4, 227, 839, 1174, 807, 485, 698]</text>\n<text text-anchor=\"start\" x=\"14112\" y=\"-587.8\" font-family=\"Helvetica,sans-Serif\" font-size=\"14.00\" fill=\"#000000\">class = clase_3</text>\n</g>\n<!-- 232&#45;&gt;234 -->\n<g id=\"edge234\" class=\"edge\">\n<title>232&#45;&gt;234</title>\n<path fill=\"none\" stroke=\"#000000\" d=\"M14158.5985,-698.8796C14159.0117,-690.6838 14159.4501,-681.9891 14159.8781,-673.5013\"/>\n<polygon fill=\"#000000\" stroke=\"#000000\" points=\"14163.3844,-673.4617 14160.3925,-663.2981 14156.3933,-673.1091 14163.3844,-673.4617\"/>\n</g>\n<!-- 235 -->\n<g id=\"node236\" class=\"node\">\n<title>235</title>\n<path fill=\"#eafcfc\" stroke=\"#000000\" d=\"M13972,-544C13972,-544 13711,-544 13711,-544 13705,-544 13699,-538 13699,-532 13699,-532 13699,-473 13699,-473 13699,-467 13705,-461 13711,-461 13711,-461 13972,-461 13972,-461 13978,-461 13984,-467 13984,-473 13984,-473 13984,-532 13984,-532 13984,-538 13978,-544 13972,-544\"/>\n<text text-anchor=\"start\" x=\"13796\" y=\"-528.8\" font-family=\"Helvetica,sans-Serif\" font-size=\"14.00\" fill=\"#000000\">service ≤ 22.5</text>\n<text text-anchor=\"start\" x=\"13812\" y=\"-513.8\" font-family=\"Helvetica,sans-Serif\" font-size=\"14.00\" fill=\"#000000\">gini = 0.8</text>\n<text text-anchor=\"start\" x=\"13789.5\" y=\"-498.8\" font-family=\"Helvetica,sans-Serif\" font-size=\"14.00\" fill=\"#000000\">samples = 2595</text>\n<text text-anchor=\"start\" x=\"13707\" y=\"-483.8\" font-family=\"Helvetica,sans-Serif\" font-size=\"14.00\" fill=\"#000000\">value = [4, 227, 839, 1174, 796, 471, 528]</text>\n<text text-anchor=\"start\" x=\"13791\" y=\"-468.8\" font-family=\"Helvetica,sans-Serif\" font-size=\"14.00\" fill=\"#000000\">class = clase_3</text>\n</g>\n<!-- 234&#45;&gt;235 -->\n<g id=\"edge235\" class=\"edge\">\n<title>234&#45;&gt;235</title>\n<path fill=\"none\" stroke=\"#000000\" d=\"M14050.2298,-579.8796C14022.1288,-569.4621 13991.8534,-558.2385 13963.3134,-547.6582\"/>\n<polygon fill=\"#000000\" stroke=\"#000000\" points=\"13964.2999,-544.2912 13953.7068,-544.0969 13961.8666,-550.8547 13964.2999,-544.2912\"/>\n</g>\n<!-- 238 -->\n<g id=\"node239\" class=\"node\">\n<title>238</title>\n<path fill=\"#e95497\" stroke=\"#000000\" d=\"M14201,-536.5C14201,-536.5 14014,-536.5 14014,-536.5 14008,-536.5 14002,-530.5 14002,-524.5 14002,-524.5 14002,-480.5 14002,-480.5 14002,-474.5 14008,-468.5 14014,-468.5 14014,-468.5 14201,-468.5 14201,-468.5 14207,-468.5 14213,-474.5 14213,-480.5 14213,-480.5 14213,-524.5 14213,-524.5 14213,-530.5 14207,-536.5 14201,-536.5\"/>\n<text text-anchor=\"start\" x=\"14069.5\" y=\"-521.3\" font-family=\"Helvetica,sans-Serif\" font-size=\"14.00\" fill=\"#000000\">gini = 0.232</text>\n<text text-anchor=\"start\" x=\"14059.5\" y=\"-506.3\" font-family=\"Helvetica,sans-Serif\" font-size=\"14.00\" fill=\"#000000\">samples = 123</text>\n<text text-anchor=\"start\" x=\"14010\" y=\"-491.3\" font-family=\"Helvetica,sans-Serif\" font-size=\"14.00\" fill=\"#000000\">value = [0, 0, 0, 0, 11, 14, 170]</text>\n<text text-anchor=\"start\" x=\"14057\" y=\"-476.3\" font-family=\"Helvetica,sans-Serif\" font-size=\"14.00\" fill=\"#000000\">class = clase_6</text>\n</g>\n<!-- 234&#45;&gt;238 -->\n<g id=\"edge238\" class=\"edge\">\n<title>234&#45;&gt;238</title>\n<path fill=\"none\" stroke=\"#000000\" d=\"M14143.2637,-579.8796C14138.1814,-568.8835 14132.6841,-556.9893 14127.5595,-545.9015\"/>\n<polygon fill=\"#000000\" stroke=\"#000000\" points=\"14130.7324,-544.4239 14123.3598,-536.8149 14124.3782,-547.3607 14130.7324,-544.4239\"/>\n</g>\n<!-- 236 -->\n<g id=\"node237\" class=\"node\">\n<title>236</title>\n<path fill=\"#edfdfc\" stroke=\"#000000\" d=\"M13818,-417.5C13818,-417.5 13573,-417.5 13573,-417.5 13567,-417.5 13561,-411.5 13561,-405.5 13561,-405.5 13561,-361.5 13561,-361.5 13561,-355.5 13567,-349.5 13573,-349.5 13573,-349.5 13818,-349.5 13818,-349.5 13824,-349.5 13830,-355.5 13830,-361.5 13830,-361.5 13830,-405.5 13830,-405.5 13830,-411.5 13824,-417.5 13818,-417.5\"/>\n<text text-anchor=\"start\" x=\"13657.5\" y=\"-402.3\" font-family=\"Helvetica,sans-Serif\" font-size=\"14.00\" fill=\"#000000\">gini = 0.794</text>\n<text text-anchor=\"start\" x=\"13643.5\" y=\"-387.3\" font-family=\"Helvetica,sans-Serif\" font-size=\"14.00\" fill=\"#000000\">samples = 1483</text>\n<text text-anchor=\"start\" x=\"13569\" y=\"-372.3\" font-family=\"Helvetica,sans-Serif\" font-size=\"14.00\" fill=\"#000000\">value = [0, 87, 437, 663, 500, 249, 326]</text>\n<text text-anchor=\"start\" x=\"13645\" y=\"-357.3\" font-family=\"Helvetica,sans-Serif\" font-size=\"14.00\" fill=\"#000000\">class = clase_3</text>\n</g>\n<!-- 235&#45;&gt;236 -->\n<g id=\"edge236\" class=\"edge\">\n<title>235&#45;&gt;236</title>\n<path fill=\"none\" stroke=\"#000000\" d=\"M13790.4363,-460.8796C13775.866,-449.0038 13760.0104,-436.0804 13745.5042,-424.2568\"/>\n<polygon fill=\"#000000\" stroke=\"#000000\" points=\"13747.5634,-421.4199 13737.6007,-417.8149 13743.1408,-426.8459 13747.5634,-421.4199\"/>\n</g>\n<!-- 237 -->\n<g id=\"node238\" class=\"node\">\n<title>237</title>\n<path fill=\"#effdfd\" stroke=\"#000000\" d=\"M14113,-417.5C14113,-417.5 13860,-417.5 13860,-417.5 13854,-417.5 13848,-411.5 13848,-405.5 13848,-405.5 13848,-361.5 13848,-361.5 13848,-355.5 13854,-349.5 13860,-349.5 13860,-349.5 14113,-349.5 14113,-349.5 14119,-349.5 14125,-355.5 14125,-361.5 14125,-361.5 14125,-405.5 14125,-405.5 14125,-411.5 14119,-417.5 14113,-417.5\"/>\n<text text-anchor=\"start\" x=\"13948.5\" y=\"-402.3\" font-family=\"Helvetica,sans-Serif\" font-size=\"14.00\" fill=\"#000000\">gini = 0.804</text>\n<text text-anchor=\"start\" x=\"13934.5\" y=\"-387.3\" font-family=\"Helvetica,sans-Serif\" font-size=\"14.00\" fill=\"#000000\">samples = 1112</text>\n<text text-anchor=\"start\" x=\"13856\" y=\"-372.3\" font-family=\"Helvetica,sans-Serif\" font-size=\"14.00\" fill=\"#000000\">value = [4, 140, 402, 511, 296, 222, 202]</text>\n<text text-anchor=\"start\" x=\"13936\" y=\"-357.3\" font-family=\"Helvetica,sans-Serif\" font-size=\"14.00\" fill=\"#000000\">class = clase_3</text>\n</g>\n<!-- 235&#45;&gt;237 -->\n<g id=\"edge237\" class=\"edge\">\n<title>235&#45;&gt;237</title>\n<path fill=\"none\" stroke=\"#000000\" d=\"M13892.214,-460.8796C13906.6844,-449.0038 13922.4314,-436.0804 13936.8383,-424.2568\"/>\n<polygon fill=\"#000000\" stroke=\"#000000\" points=\"13939.178,-426.8645 13944.6877,-417.8149 13934.7372,-421.4534 13939.178,-426.8645\"/>\n</g>\n<!-- 240 -->\n<g id=\"node241\" class=\"node\">\n<title>240</title>\n<path fill=\"#fad9e8\" stroke=\"#000000\" d=\"M14555.5,-663C14555.5,-663 14335.5,-663 14335.5,-663 14329.5,-663 14323.5,-657 14323.5,-651 14323.5,-651 14323.5,-592 14323.5,-592 14323.5,-586 14329.5,-580 14335.5,-580 14335.5,-580 14555.5,-580 14555.5,-580 14561.5,-580 14567.5,-586 14567.5,-592 14567.5,-592 14567.5,-651 14567.5,-651 14567.5,-657 14561.5,-663 14555.5,-663\"/>\n<text text-anchor=\"start\" x=\"14400\" y=\"-647.8\" font-family=\"Helvetica,sans-Serif\" font-size=\"14.00\" fill=\"#000000\">service ≤ 20.5</text>\n<text text-anchor=\"start\" x=\"14407.5\" y=\"-632.8\" font-family=\"Helvetica,sans-Serif\" font-size=\"14.00\" fill=\"#000000\">gini = 0.715</text>\n<text text-anchor=\"start\" x=\"14397.5\" y=\"-617.8\" font-family=\"Helvetica,sans-Serif\" font-size=\"14.00\" fill=\"#000000\">samples = 640</text>\n<text text-anchor=\"start\" x=\"14331.5\" y=\"-602.8\" font-family=\"Helvetica,sans-Serif\" font-size=\"14.00\" fill=\"#000000\">value = [0, 5, 40, 96, 189, 278, 422]</text>\n<text text-anchor=\"start\" x=\"14395\" y=\"-587.8\" font-family=\"Helvetica,sans-Serif\" font-size=\"14.00\" fill=\"#000000\">class = clase_6</text>\n</g>\n<!-- 239&#45;&gt;240 -->\n<g id=\"edge240\" class=\"edge\">\n<title>239&#45;&gt;240</title>\n<path fill=\"none\" stroke=\"#000000\" d=\"M14449.4015,-698.8796C14448.9883,-690.6838 14448.5499,-681.9891 14448.1219,-673.5013\"/>\n<polygon fill=\"#000000\" stroke=\"#000000\" points=\"14451.6067,-673.1091 14447.6075,-663.2981 14444.6156,-673.4617 14451.6067,-673.1091\"/>\n</g>\n<!-- 243 -->\n<g id=\"node244\" class=\"node\">\n<title>243</title>\n<path fill=\"#fef4f8\" stroke=\"#000000\" d=\"M14833.5,-655.5C14833.5,-655.5 14597.5,-655.5 14597.5,-655.5 14591.5,-655.5 14585.5,-649.5 14585.5,-643.5 14585.5,-643.5 14585.5,-599.5 14585.5,-599.5 14585.5,-593.5 14591.5,-587.5 14597.5,-587.5 14597.5,-587.5 14833.5,-587.5 14833.5,-587.5 14839.5,-587.5 14845.5,-593.5 14845.5,-599.5 14845.5,-599.5 14845.5,-643.5 14845.5,-643.5 14845.5,-649.5 14839.5,-655.5 14833.5,-655.5\"/>\n<text text-anchor=\"start\" x=\"14677.5\" y=\"-640.3\" font-family=\"Helvetica,sans-Serif\" font-size=\"14.00\" fill=\"#000000\">gini = 0.777</text>\n<text text-anchor=\"start\" x=\"14667.5\" y=\"-625.3\" font-family=\"Helvetica,sans-Serif\" font-size=\"14.00\" fill=\"#000000\">samples = 533</text>\n<text text-anchor=\"start\" x=\"14593.5\" y=\"-610.3\" font-family=\"Helvetica,sans-Serif\" font-size=\"14.00\" fill=\"#000000\">value = [2, 17, 48, 169, 218, 177, 255]</text>\n<text text-anchor=\"start\" x=\"14665\" y=\"-595.3\" font-family=\"Helvetica,sans-Serif\" font-size=\"14.00\" fill=\"#000000\">class = clase_6</text>\n</g>\n<!-- 239&#45;&gt;243 -->\n<g id=\"edge243\" class=\"edge\">\n<title>239&#45;&gt;243</title>\n<path fill=\"none\" stroke=\"#000000\" d=\"M14543.8344,-698.8796C14572.0219,-686.1739 14602.8696,-672.269 14630.5435,-659.7948\"/>\n<polygon fill=\"#000000\" stroke=\"#000000\" points=\"14632.1201,-662.9233 14639.7985,-655.623 14629.2435,-656.5417 14632.1201,-662.9233\"/>\n</g>\n<!-- 241 -->\n<g id=\"node242\" class=\"node\">\n<title>241</title>\n<path fill=\"#efd7fa\" stroke=\"#000000\" d=\"M14405.5,-536.5C14405.5,-536.5 14243.5,-536.5 14243.5,-536.5 14237.5,-536.5 14231.5,-530.5 14231.5,-524.5 14231.5,-524.5 14231.5,-480.5 14231.5,-480.5 14231.5,-474.5 14237.5,-468.5 14243.5,-468.5 14243.5,-468.5 14405.5,-468.5 14405.5,-468.5 14411.5,-468.5 14417.5,-474.5 14417.5,-480.5 14417.5,-480.5 14417.5,-524.5 14417.5,-524.5 14417.5,-530.5 14411.5,-536.5 14405.5,-536.5\"/>\n<text text-anchor=\"start\" x=\"14291\" y=\"-521.3\" font-family=\"Helvetica,sans-Serif\" font-size=\"14.00\" fill=\"#000000\">gini = 0.62</text>\n<text text-anchor=\"start\" x=\"14280.5\" y=\"-506.3\" font-family=\"Helvetica,sans-Serif\" font-size=\"14.00\" fill=\"#000000\">samples = 14</text>\n<text text-anchor=\"start\" x=\"14239.5\" y=\"-491.3\" font-family=\"Helvetica,sans-Serif\" font-size=\"14.00\" fill=\"#000000\">value = [0, 0, 0, 0, 4, 11, 8]</text>\n<text text-anchor=\"start\" x=\"14274\" y=\"-476.3\" font-family=\"Helvetica,sans-Serif\" font-size=\"14.00\" fill=\"#000000\">class = clase_5</text>\n</g>\n<!-- 240&#45;&gt;241 -->\n<g id=\"edge241\" class=\"edge\">\n<title>240&#45;&gt;241</title>\n<path fill=\"none\" stroke=\"#000000\" d=\"M14403.1801,-579.8796C14391.3283,-568.2237 14378.4505,-555.5587 14366.6109,-543.9148\"/>\n<polygon fill=\"#000000\" stroke=\"#000000\" points=\"14368.9756,-541.3314 14359.3917,-536.8149 14364.0673,-546.3223 14368.9756,-541.3314\"/>\n</g>\n<!-- 242 -->\n<g id=\"node243\" class=\"node\">\n<title>242</title>\n<path fill=\"#fad8e7\" stroke=\"#000000\" d=\"M14667.5,-536.5C14667.5,-536.5 14447.5,-536.5 14447.5,-536.5 14441.5,-536.5 14435.5,-530.5 14435.5,-524.5 14435.5,-524.5 14435.5,-480.5 14435.5,-480.5 14435.5,-474.5 14441.5,-468.5 14447.5,-468.5 14447.5,-468.5 14667.5,-468.5 14667.5,-468.5 14673.5,-468.5 14679.5,-474.5 14679.5,-480.5 14679.5,-480.5 14679.5,-524.5 14679.5,-524.5 14679.5,-530.5 14673.5,-536.5 14667.5,-536.5\"/>\n<text text-anchor=\"start\" x=\"14519.5\" y=\"-521.3\" font-family=\"Helvetica,sans-Serif\" font-size=\"14.00\" fill=\"#000000\">gini = 0.716</text>\n<text text-anchor=\"start\" x=\"14509.5\" y=\"-506.3\" font-family=\"Helvetica,sans-Serif\" font-size=\"14.00\" fill=\"#000000\">samples = 626</text>\n<text text-anchor=\"start\" x=\"14443.5\" y=\"-491.3\" font-family=\"Helvetica,sans-Serif\" font-size=\"14.00\" fill=\"#000000\">value = [0, 5, 40, 96, 185, 267, 414]</text>\n<text text-anchor=\"start\" x=\"14507\" y=\"-476.3\" font-family=\"Helvetica,sans-Serif\" font-size=\"14.00\" fill=\"#000000\">class = clase_6</text>\n</g>\n<!-- 240&#45;&gt;242 -->\n<g id=\"edge242\" class=\"edge\">\n<title>240&#45;&gt;242</title>\n<path fill=\"none\" stroke=\"#000000\" d=\"M14484.6722,-579.8796C14495.5389,-568.3337 14507.3376,-555.7976 14518.2109,-544.2446\"/>\n<polygon fill=\"#000000\" stroke=\"#000000\" points=\"14520.8986,-546.4958 14525.2036,-536.8149 14515.8012,-541.6982 14520.8986,-546.4958\"/>\n</g>\n<!-- 245 -->\n<g id=\"node246\" class=\"node\">\n<title>245</title>\n<path fill=\"#feffff\" stroke=\"#000000\" d=\"M15133,-782C15133,-782 14872,-782 14872,-782 14866,-782 14860,-776 14860,-770 14860,-770 14860,-711 14860,-711 14860,-705 14866,-699 14872,-699 14872,-699 15133,-699 15133,-699 15139,-699 15145,-705 15145,-711 15145,-711 15145,-770 15145,-770 15145,-776 15139,-782 15133,-782\"/>\n<text text-anchor=\"start\" x=\"14957\" y=\"-766.8\" font-family=\"Helvetica,sans-Serif\" font-size=\"14.00\" fill=\"#000000\">service ≤ 22.5</text>\n<text text-anchor=\"start\" x=\"14964.5\" y=\"-751.8\" font-family=\"Helvetica,sans-Serif\" font-size=\"14.00\" fill=\"#000000\">gini = 0.807</text>\n<text text-anchor=\"start\" x=\"14950.5\" y=\"-736.8\" font-family=\"Helvetica,sans-Serif\" font-size=\"14.00\" fill=\"#000000\">samples = 2612</text>\n<text text-anchor=\"start\" x=\"14868\" y=\"-721.8\" font-family=\"Helvetica,sans-Serif\" font-size=\"14.00\" fill=\"#000000\">value = [0, 200, 743, 1001, 993, 669, 536]</text>\n<text text-anchor=\"start\" x=\"14952\" y=\"-706.8\" font-family=\"Helvetica,sans-Serif\" font-size=\"14.00\" fill=\"#000000\">class = clase_3</text>\n</g>\n<!-- 244&#45;&gt;245 -->\n<g id=\"edge245\" class=\"edge\">\n<title>244&#45;&gt;245</title>\n<path fill=\"none\" stroke=\"#000000\" d=\"M15002.5,-817.8796C15002.5,-809.6838 15002.5,-800.9891 15002.5,-792.5013\"/>\n<polygon fill=\"#000000\" stroke=\"#000000\" points=\"15006.0001,-792.298 15002.5,-782.2981 14999.0001,-792.2981 15006.0001,-792.298\"/>\n</g>\n<!-- 252 -->\n<g id=\"node253\" class=\"node\">\n<title>252</title>\n<path fill=\"#aff5f3\" stroke=\"#000000\" d=\"M15362,-774.5C15362,-774.5 15175,-774.5 15175,-774.5 15169,-774.5 15163,-768.5 15163,-762.5 15163,-762.5 15163,-718.5 15163,-718.5 15163,-712.5 15169,-706.5 15175,-706.5 15175,-706.5 15362,-706.5 15362,-706.5 15368,-706.5 15374,-712.5 15374,-718.5 15374,-718.5 15374,-762.5 15374,-762.5 15374,-768.5 15368,-774.5 15362,-774.5\"/>\n<text text-anchor=\"start\" x=\"15230.5\" y=\"-759.3\" font-family=\"Helvetica,sans-Serif\" font-size=\"14.00\" fill=\"#000000\">gini = 0.618</text>\n<text text-anchor=\"start\" x=\"15220.5\" y=\"-744.3\" font-family=\"Helvetica,sans-Serif\" font-size=\"14.00\" fill=\"#000000\">samples = 143</text>\n<text text-anchor=\"start\" x=\"15171\" y=\"-729.3\" font-family=\"Helvetica,sans-Serif\" font-size=\"14.00\" fill=\"#000000\">value = [0, 0, 54, 125, 40, 8, 3]</text>\n<text text-anchor=\"start\" x=\"15218\" y=\"-714.3\" font-family=\"Helvetica,sans-Serif\" font-size=\"14.00\" fill=\"#000000\">class = clase_3</text>\n</g>\n<!-- 244&#45;&gt;252 -->\n<g id=\"edge252\" class=\"edge\">\n<title>244&#45;&gt;252</title>\n<path fill=\"none\" stroke=\"#000000\" d=\"M15095.5339,-817.8796C15123.9349,-805.1739 15155.0163,-791.269 15182.8999,-778.7948\"/>\n<polygon fill=\"#000000\" stroke=\"#000000\" points=\"15184.5261,-781.9016 15192.225,-774.623 15181.6675,-775.5119 15184.5261,-781.9016\"/>\n</g>\n<!-- 246 -->\n<g id=\"node247\" class=\"node\">\n<title>246</title>\n<path fill=\"#f8fefe\" stroke=\"#000000\" d=\"M15129,-663C15129,-663 14876,-663 14876,-663 14870,-663 14864,-657 14864,-651 14864,-651 14864,-592 14864,-592 14864,-586 14870,-580 14876,-580 14876,-580 15129,-580 15129,-580 15135,-580 15141,-586 15141,-592 15141,-592 15141,-651 15141,-651 15141,-657 15135,-663 15129,-663\"/>\n<text text-anchor=\"start\" x=\"14957\" y=\"-647.8\" font-family=\"Helvetica,sans-Serif\" font-size=\"14.00\" fill=\"#000000\">service ≤ 21.0</text>\n<text text-anchor=\"start\" x=\"14969\" y=\"-632.8\" font-family=\"Helvetica,sans-Serif\" font-size=\"14.00\" fill=\"#000000\">gini = 0.81</text>\n<text text-anchor=\"start\" x=\"14950.5\" y=\"-617.8\" font-family=\"Helvetica,sans-Serif\" font-size=\"14.00\" fill=\"#000000\">samples = 1448</text>\n<text text-anchor=\"start\" x=\"14872\" y=\"-602.8\" font-family=\"Helvetica,sans-Serif\" font-size=\"14.00\" fill=\"#000000\">value = [0, 173, 511, 577, 489, 319, 261]</text>\n<text text-anchor=\"start\" x=\"14952\" y=\"-587.8\" font-family=\"Helvetica,sans-Serif\" font-size=\"14.00\" fill=\"#000000\">class = clase_3</text>\n</g>\n<!-- 245&#45;&gt;246 -->\n<g id=\"edge246\" class=\"edge\">\n<title>245&#45;&gt;246</title>\n<path fill=\"none\" stroke=\"#000000\" d=\"M15002.5,-698.8796C15002.5,-690.6838 15002.5,-681.9891 15002.5,-673.5013\"/>\n<polygon fill=\"#000000\" stroke=\"#000000\" points=\"15006.0001,-673.298 15002.5,-663.2981 14999.0001,-673.2981 15006.0001,-673.298\"/>\n</g>\n<!-- 251 -->\n<g id=\"node252\" class=\"node\">\n<title>251</title>\n<path fill=\"#f4f5fe\" stroke=\"#000000\" d=\"M15416,-655.5C15416,-655.5 15171,-655.5 15171,-655.5 15165,-655.5 15159,-649.5 15159,-643.5 15159,-643.5 15159,-599.5 15159,-599.5 15159,-593.5 15165,-587.5 15171,-587.5 15171,-587.5 15416,-587.5 15416,-587.5 15422,-587.5 15428,-593.5 15428,-599.5 15428,-599.5 15428,-643.5 15428,-643.5 15428,-649.5 15422,-655.5 15416,-655.5\"/>\n<text text-anchor=\"start\" x=\"15255.5\" y=\"-640.3\" font-family=\"Helvetica,sans-Serif\" font-size=\"14.00\" fill=\"#000000\">gini = 0.791</text>\n<text text-anchor=\"start\" x=\"15241.5\" y=\"-625.3\" font-family=\"Helvetica,sans-Serif\" font-size=\"14.00\" fill=\"#000000\">samples = 1164</text>\n<text text-anchor=\"start\" x=\"15167\" y=\"-610.3\" font-family=\"Helvetica,sans-Serif\" font-size=\"14.00\" fill=\"#000000\">value = [0, 27, 232, 424, 504, 350, 275]</text>\n<text text-anchor=\"start\" x=\"15243\" y=\"-595.3\" font-family=\"Helvetica,sans-Serif\" font-size=\"14.00\" fill=\"#000000\">class = clase_4</text>\n</g>\n<!-- 245&#45;&gt;251 -->\n<g id=\"edge251\" class=\"edge\">\n<title>245&#45;&gt;251</title>\n<path fill=\"none\" stroke=\"#000000\" d=\"M15104.2777,-698.8796C15135.6181,-686.0634 15169.9422,-672.0271 15200.6497,-659.4697\"/>\n<polygon fill=\"#000000\" stroke=\"#000000\" points=\"15202.1251,-662.6478 15210.0563,-655.623 15199.4755,-656.1686 15202.1251,-662.6478\"/>\n</g>\n<!-- 247 -->\n<g id=\"node248\" class=\"node\">\n<title>247</title>\n<path fill=\"#e8ebfc\" stroke=\"#000000\" d=\"M14937.5,-544C14937.5,-544 14709.5,-544 14709.5,-544 14703.5,-544 14697.5,-538 14697.5,-532 14697.5,-532 14697.5,-473 14697.5,-473 14697.5,-467 14703.5,-461 14709.5,-461 14709.5,-461 14937.5,-461 14937.5,-461 14943.5,-461 14949.5,-467 14949.5,-473 14949.5,-473 14949.5,-532 14949.5,-532 14949.5,-538 14943.5,-544 14937.5,-544\"/>\n<text text-anchor=\"start\" x=\"14778\" y=\"-528.8\" font-family=\"Helvetica,sans-Serif\" font-size=\"14.00\" fill=\"#000000\">service ≤ 19.5</text>\n<text text-anchor=\"start\" x=\"14785.5\" y=\"-513.8\" font-family=\"Helvetica,sans-Serif\" font-size=\"14.00\" fill=\"#000000\">gini = 0.772</text>\n<text text-anchor=\"start\" x=\"14775.5\" y=\"-498.8\" font-family=\"Helvetica,sans-Serif\" font-size=\"14.00\" fill=\"#000000\">samples = 295</text>\n<text text-anchor=\"start\" x=\"14705.5\" y=\"-483.8\" font-family=\"Helvetica,sans-Serif\" font-size=\"14.00\" fill=\"#000000\">value = [0, 10, 48, 116, 160, 106, 53]</text>\n<text text-anchor=\"start\" x=\"14773\" y=\"-468.8\" font-family=\"Helvetica,sans-Serif\" font-size=\"14.00\" fill=\"#000000\">class = clase_4</text>\n</g>\n<!-- 246&#45;&gt;247 -->\n<g id=\"edge247\" class=\"edge\">\n<title>246&#45;&gt;247</title>\n<path fill=\"none\" stroke=\"#000000\" d=\"M14939.8945,-579.8796C14925.3146,-570.1868 14909.6849,-559.7961 14894.7618,-549.8752\"/>\n<polygon fill=\"#000000\" stroke=\"#000000\" points=\"14896.3355,-546.7185 14886.0702,-544.0969 14892.4601,-552.5479 14896.3355,-546.7185\"/>\n</g>\n<!-- 250 -->\n<g id=\"node251\" class=\"node\">\n<title>250</title>\n<path fill=\"#ffffff\" stroke=\"#000000\" d=\"M15233,-536.5C15233,-536.5 14980,-536.5 14980,-536.5 14974,-536.5 14968,-530.5 14968,-524.5 14968,-524.5 14968,-480.5 14968,-480.5 14968,-474.5 14974,-468.5 14980,-468.5 14980,-468.5 15233,-468.5 15233,-468.5 15239,-468.5 15245,-474.5 15245,-480.5 15245,-480.5 15245,-524.5 15245,-524.5 15245,-530.5 15239,-536.5 15233,-536.5\"/>\n<text text-anchor=\"start\" x=\"15068.5\" y=\"-521.3\" font-family=\"Helvetica,sans-Serif\" font-size=\"14.00\" fill=\"#000000\">gini = 0.807</text>\n<text text-anchor=\"start\" x=\"15054.5\" y=\"-506.3\" font-family=\"Helvetica,sans-Serif\" font-size=\"14.00\" fill=\"#000000\">samples = 1153</text>\n<text text-anchor=\"start\" x=\"14976\" y=\"-491.3\" font-family=\"Helvetica,sans-Serif\" font-size=\"14.00\" fill=\"#000000\">value = [0, 163, 463, 461, 329, 213, 208]</text>\n<text text-anchor=\"start\" x=\"15056\" y=\"-476.3\" font-family=\"Helvetica,sans-Serif\" font-size=\"14.00\" fill=\"#000000\">class = clase_2</text>\n</g>\n<!-- 246&#45;&gt;250 -->\n<g id=\"edge250\" class=\"edge\">\n<title>246&#45;&gt;250</title>\n<path fill=\"none\" stroke=\"#000000\" d=\"M15038.8742,-579.8796C15048.8686,-568.4436 15059.712,-556.0363 15069.7286,-544.575\"/>\n<polygon fill=\"#000000\" stroke=\"#000000\" points=\"15072.5653,-546.6479 15076.5105,-536.8149 15067.2945,-542.0414 15072.5653,-546.6479\"/>\n</g>\n<!-- 248 -->\n<g id=\"node249\" class=\"node\">\n<title>248</title>\n<path fill=\"#eaedfc\" stroke=\"#000000\" d=\"M14818.5,-417.5C14818.5,-417.5 14598.5,-417.5 14598.5,-417.5 14592.5,-417.5 14586.5,-411.5 14586.5,-405.5 14586.5,-405.5 14586.5,-361.5 14586.5,-361.5 14586.5,-355.5 14592.5,-349.5 14598.5,-349.5 14598.5,-349.5 14818.5,-349.5 14818.5,-349.5 14824.5,-349.5 14830.5,-355.5 14830.5,-361.5 14830.5,-361.5 14830.5,-405.5 14830.5,-405.5 14830.5,-411.5 14824.5,-417.5 14818.5,-417.5\"/>\n<text text-anchor=\"start\" x=\"14670.5\" y=\"-402.3\" font-family=\"Helvetica,sans-Serif\" font-size=\"14.00\" fill=\"#000000\">gini = 0.772</text>\n<text text-anchor=\"start\" x=\"14660.5\" y=\"-387.3\" font-family=\"Helvetica,sans-Serif\" font-size=\"14.00\" fill=\"#000000\">samples = 285</text>\n<text text-anchor=\"start\" x=\"14594.5\" y=\"-372.3\" font-family=\"Helvetica,sans-Serif\" font-size=\"14.00\" fill=\"#000000\">value = [0, 10, 48, 116, 155, 99, 50]</text>\n<text text-anchor=\"start\" x=\"14658\" y=\"-357.3\" font-family=\"Helvetica,sans-Serif\" font-size=\"14.00\" fill=\"#000000\">class = clase_4</text>\n</g>\n<!-- 247&#45;&gt;248 -->\n<g id=\"edge248\" class=\"edge\">\n<title>247&#45;&gt;248</title>\n<path fill=\"none\" stroke=\"#000000\" d=\"M14783.2786,-460.8796C14772.1208,-449.3337 14760.0061,-436.7976 14748.8414,-425.2446\"/>\n<polygon fill=\"#000000\" stroke=\"#000000\" points=\"14751.1275,-422.5736 14741.6615,-417.8149 14746.0939,-427.4381 14751.1275,-422.5736\"/>\n</g>\n<!-- 249 -->\n<g id=\"node250\" class=\"node\">\n<title>249</title>\n<path fill=\"#efd7fa\" stroke=\"#000000\" d=\"M15014.5,-417.5C15014.5,-417.5 14860.5,-417.5 14860.5,-417.5 14854.5,-417.5 14848.5,-411.5 14848.5,-405.5 14848.5,-405.5 14848.5,-361.5 14848.5,-361.5 14848.5,-355.5 14854.5,-349.5 14860.5,-349.5 14860.5,-349.5 15014.5,-349.5 15014.5,-349.5 15020.5,-349.5 15026.5,-355.5 15026.5,-361.5 15026.5,-361.5 15026.5,-405.5 15026.5,-405.5 15026.5,-411.5 15020.5,-417.5 15014.5,-417.5\"/>\n<text text-anchor=\"start\" x=\"14899.5\" y=\"-402.3\" font-family=\"Helvetica,sans-Serif\" font-size=\"14.00\" fill=\"#000000\">gini = 0.631</text>\n<text text-anchor=\"start\" x=\"14893.5\" y=\"-387.3\" font-family=\"Helvetica,sans-Serif\" font-size=\"14.00\" fill=\"#000000\">samples = 10</text>\n<text text-anchor=\"start\" x=\"14856.5\" y=\"-372.3\" font-family=\"Helvetica,sans-Serif\" font-size=\"14.00\" fill=\"#000000\">value = [0, 0, 0, 0, 5, 7, 3]</text>\n<text text-anchor=\"start\" x=\"14887\" y=\"-357.3\" font-family=\"Helvetica,sans-Serif\" font-size=\"14.00\" fill=\"#000000\">class = clase_5</text>\n</g>\n<!-- 247&#45;&gt;249 -->\n<g id=\"edge249\" class=\"edge\">\n<title>247&#45;&gt;249</title>\n<path fill=\"none\" stroke=\"#000000\" d=\"M14863.3717,-460.8796C14874.4324,-449.3337 14886.4418,-436.7976 14897.5094,-425.2446\"/>\n<polygon fill=\"#000000\" stroke=\"#000000\" points=\"14900.2365,-427.4573 14904.6269,-417.8149 14895.1817,-422.6149 14900.2365,-427.4573\"/>\n</g>\n<!-- 254 -->\n<g id=\"node255\" class=\"node\">\n<title>254</title>\n<path fill=\"#fcfef8\" stroke=\"#000000\" d=\"M15988,-1139C15988,-1139 15719,-1139 15719,-1139 15713,-1139 15707,-1133 15707,-1127 15707,-1127 15707,-1068 15707,-1068 15707,-1062 15713,-1056 15719,-1056 15719,-1056 15988,-1056 15988,-1056 15994,-1056 16000,-1062 16000,-1068 16000,-1068 16000,-1127 16000,-1127 16000,-1133 15994,-1139 15988,-1139\"/>\n<text text-anchor=\"start\" x=\"15812.5\" y=\"-1123.8\" font-family=\"Helvetica,sans-Serif\" font-size=\"14.00\" fill=\"#000000\">service ≤ 7.5</text>\n<text text-anchor=\"start\" x=\"15815.5\" y=\"-1108.8\" font-family=\"Helvetica,sans-Serif\" font-size=\"14.00\" fill=\"#000000\">gini = 0.731</text>\n<text text-anchor=\"start\" x=\"15801.5\" y=\"-1093.8\" font-family=\"Helvetica,sans-Serif\" font-size=\"14.00\" fill=\"#000000\">samples = 2357</text>\n<text text-anchor=\"start\" x=\"15715\" y=\"-1078.8\" font-family=\"Helvetica,sans-Serif\" font-size=\"14.00\" fill=\"#000000\">value = [184, 1318, 1229, 640, 209, 69, 85]</text>\n<text text-anchor=\"start\" x=\"15803\" y=\"-1063.8\" font-family=\"Helvetica,sans-Serif\" font-size=\"14.00\" fill=\"#000000\">class = clase_1</text>\n</g>\n<!-- 253&#45;&gt;254 -->\n<g id=\"edge254\" class=\"edge\">\n<title>253&#45;&gt;254</title>\n<path fill=\"none\" stroke=\"#000000\" d=\"M15853.5,-1174.8796C15853.5,-1166.6838 15853.5,-1157.9891 15853.5,-1149.5013\"/>\n<polygon fill=\"#000000\" stroke=\"#000000\" points=\"15857.0001,-1149.298 15853.5,-1139.2981 15850.0001,-1149.2981 15857.0001,-1149.298\"/>\n</g>\n<!-- 297 -->\n<g id=\"node298\" class=\"node\">\n<title>297</title>\n<path fill=\"#e7f6bd\" stroke=\"#000000\" d=\"M17370,-1139C17370,-1139 17109,-1139 17109,-1139 17103,-1139 17097,-1133 17097,-1127 17097,-1127 17097,-1068 17097,-1068 17097,-1062 17103,-1056 17109,-1056 17109,-1056 17370,-1056 17370,-1056 17376,-1056 17382,-1062 17382,-1068 17382,-1068 17382,-1127 17382,-1127 17382,-1133 17376,-1139 17370,-1139\"/>\n<text text-anchor=\"start\" x=\"17176\" y=\"-1123.8\" font-family=\"Helvetica,sans-Serif\" font-size=\"14.00\" fill=\"#000000\">receiver_state ≤ 6.5</text>\n<text text-anchor=\"start\" x=\"17201.5\" y=\"-1108.8\" font-family=\"Helvetica,sans-Serif\" font-size=\"14.00\" fill=\"#000000\">gini = 0.651</text>\n<text text-anchor=\"start\" x=\"17187.5\" y=\"-1093.8\" font-family=\"Helvetica,sans-Serif\" font-size=\"14.00\" fill=\"#000000\">samples = 2149</text>\n<text text-anchor=\"start\" x=\"17105\" y=\"-1078.8\" font-family=\"Helvetica,sans-Serif\" font-size=\"14.00\" fill=\"#000000\">value = [180, 1758, 927, 235, 162, 93, 62]</text>\n<text text-anchor=\"start\" x=\"17189\" y=\"-1063.8\" font-family=\"Helvetica,sans-Serif\" font-size=\"14.00\" fill=\"#000000\">class = clase_1</text>\n</g>\n<!-- 253&#45;&gt;297 -->\n<g id=\"edge297\" class=\"edge\">\n<title>253&#45;&gt;297</title>\n<path fill=\"none\" stroke=\"#000000\" d=\"M16008.792,-1203.1668C16276.3152,-1180.1977 16820.9056,-1133.4399 17086.6983,-1110.6193\"/>\n<polygon fill=\"#000000\" stroke=\"#000000\" points=\"17087.148,-1114.0937 17096.812,-1109.751 17086.5492,-1107.1194 17087.148,-1114.0937\"/>\n</g>\n<!-- 255 -->\n<g id=\"node256\" class=\"node\">\n<title>255</title>\n<path fill=\"#e1f4ae\" stroke=\"#000000\" d=\"M15918.5,-1020C15918.5,-1020 15698.5,-1020 15698.5,-1020 15692.5,-1020 15686.5,-1014 15686.5,-1008 15686.5,-1008 15686.5,-949 15686.5,-949 15686.5,-943 15692.5,-937 15698.5,-937 15698.5,-937 15918.5,-937 15918.5,-937 15924.5,-937 15930.5,-943 15930.5,-949 15930.5,-949 15930.5,-1008 15930.5,-1008 15930.5,-1014 15924.5,-1020 15918.5,-1020\"/>\n<text text-anchor=\"start\" x=\"15745\" y=\"-1004.8\" font-family=\"Helvetica,sans-Serif\" font-size=\"14.00\" fill=\"#000000\">receiver_state ≤ 6.5</text>\n<text text-anchor=\"start\" x=\"15770.5\" y=\"-989.8\" font-family=\"Helvetica,sans-Serif\" font-size=\"14.00\" fill=\"#000000\">gini = 0.676</text>\n<text text-anchor=\"start\" x=\"15760.5\" y=\"-974.8\" font-family=\"Helvetica,sans-Serif\" font-size=\"14.00\" fill=\"#000000\">samples = 255</text>\n<text text-anchor=\"start\" x=\"15694.5\" y=\"-959.8\" font-family=\"Helvetica,sans-Serif\" font-size=\"14.00\" fill=\"#000000\">value = [42, 223, 79, 35, 22, 13, 16]</text>\n<text text-anchor=\"start\" x=\"15758\" y=\"-944.8\" font-family=\"Helvetica,sans-Serif\" font-size=\"14.00\" fill=\"#000000\">class = clase_1</text>\n</g>\n<!-- 254&#45;&gt;255 -->\n<g id=\"edge255\" class=\"edge\">\n<title>254&#45;&gt;255</title>\n<path fill=\"none\" stroke=\"#000000\" d=\"M15837.7612,-1055.8796C15834.5598,-1047.4136 15831.1571,-1038.4153 15827.8472,-1029.6626\"/>\n<polygon fill=\"#000000\" stroke=\"#000000\" points=\"15831.1169,-1028.4136 15824.306,-1020.2981 15824.5694,-1030.8896 15831.1169,-1028.4136\"/>\n</g>\n<!-- 260 -->\n<g id=\"node261\" class=\"node\">\n<title>260</title>\n<path fill=\"#fafefb\" stroke=\"#000000\" d=\"M16347,-1020C16347,-1020 16078,-1020 16078,-1020 16072,-1020 16066,-1014 16066,-1008 16066,-1008 16066,-949 16066,-949 16066,-943 16072,-937 16078,-937 16078,-937 16347,-937 16347,-937 16353,-937 16359,-943 16359,-949 16359,-949 16359,-1008 16359,-1008 16359,-1014 16353,-1020 16347,-1020\"/>\n<text text-anchor=\"start\" x=\"16149\" y=\"-1004.8\" font-family=\"Helvetica,sans-Serif\" font-size=\"14.00\" fill=\"#000000\">receiver_state ≤ 8.0</text>\n<text text-anchor=\"start\" x=\"16179\" y=\"-989.8\" font-family=\"Helvetica,sans-Serif\" font-size=\"14.00\" fill=\"#000000\">gini = 0.73</text>\n<text text-anchor=\"start\" x=\"16160.5\" y=\"-974.8\" font-family=\"Helvetica,sans-Serif\" font-size=\"14.00\" fill=\"#000000\">samples = 2102</text>\n<text text-anchor=\"start\" x=\"16074\" y=\"-959.8\" font-family=\"Helvetica,sans-Serif\" font-size=\"14.00\" fill=\"#000000\">value = [142, 1095, 1150, 605, 187, 56, 69]</text>\n<text text-anchor=\"start\" x=\"16162\" y=\"-944.8\" font-family=\"Helvetica,sans-Serif\" font-size=\"14.00\" fill=\"#000000\">class = clase_2</text>\n</g>\n<!-- 254&#45;&gt;260 -->\n<g id=\"edge260\" class=\"edge\">\n<title>254&#45;&gt;260</title>\n<path fill=\"none\" stroke=\"#000000\" d=\"M15978.8087,-1055.9631C16010.7509,-1045.3751 16045.2194,-1033.9496 16077.6174,-1023.2104\"/>\n<polygon fill=\"#000000\" stroke=\"#000000\" points=\"16078.7559,-1026.5204 16087.1467,-1020.0516 16076.5533,-1019.8759 16078.7559,-1026.5204\"/>\n</g>\n<!-- 256 -->\n<g id=\"node257\" class=\"node\">\n<title>256</title>\n<path fill=\"#daf29a\" stroke=\"#000000\" d=\"M15665,-893.5C15665,-893.5 15470,-893.5 15470,-893.5 15464,-893.5 15458,-887.5 15458,-881.5 15458,-881.5 15458,-837.5 15458,-837.5 15458,-831.5 15464,-825.5 15470,-825.5 15470,-825.5 15665,-825.5 15665,-825.5 15671,-825.5 15677,-831.5 15677,-837.5 15677,-837.5 15677,-881.5 15677,-881.5 15677,-887.5 15671,-893.5 15665,-893.5\"/>\n<text text-anchor=\"start\" x=\"15529.5\" y=\"-878.3\" font-family=\"Helvetica,sans-Serif\" font-size=\"14.00\" fill=\"#000000\">gini = 0.551</text>\n<text text-anchor=\"start\" x=\"15519.5\" y=\"-863.3\" font-family=\"Helvetica,sans-Serif\" font-size=\"14.00\" fill=\"#000000\">samples = 181</text>\n<text text-anchor=\"start\" x=\"15466\" y=\"-848.3\" font-family=\"Helvetica,sans-Serif\" font-size=\"14.00\" fill=\"#000000\">value = [17, 191, 70, 25, 4, 0, 0]</text>\n<text text-anchor=\"start\" x=\"15517\" y=\"-833.3\" font-family=\"Helvetica,sans-Serif\" font-size=\"14.00\" fill=\"#000000\">class = clase_1</text>\n</g>\n<!-- 255&#45;&gt;256 -->\n<g id=\"edge256\" class=\"edge\">\n<title>255&#45;&gt;256</title>\n<path fill=\"none\" stroke=\"#000000\" d=\"M15724.2099,-936.8796C15698.7019,-924.2843 15670.8075,-910.5107 15645.7147,-898.1205\"/>\n<polygon fill=\"#000000\" stroke=\"#000000\" points=\"15647.1224,-894.9123 15636.6063,-893.623 15644.0232,-901.1888 15647.1224,-894.9123\"/>\n</g>\n<!-- 257 -->\n<g id=\"node258\" class=\"node\">\n<title>257</title>\n<path fill=\"#fafdf1\" stroke=\"#000000\" d=\"M15910,-901C15910,-901 15707,-901 15707,-901 15701,-901 15695,-895 15695,-889 15695,-889 15695,-830 15695,-830 15695,-824 15701,-818 15707,-818 15707,-818 15910,-818 15910,-818 15916,-818 15922,-824 15922,-830 15922,-830 15922,-889 15922,-889 15922,-895 15916,-901 15910,-901\"/>\n<text text-anchor=\"start\" x=\"15745\" y=\"-885.8\" font-family=\"Helvetica,sans-Serif\" font-size=\"14.00\" fill=\"#000000\">receiver_state ≤ 8.0</text>\n<text text-anchor=\"start\" x=\"15775\" y=\"-870.8\" font-family=\"Helvetica,sans-Serif\" font-size=\"14.00\" fill=\"#000000\">gini = 0.83</text>\n<text text-anchor=\"start\" x=\"15764.5\" y=\"-855.8\" font-family=\"Helvetica,sans-Serif\" font-size=\"14.00\" fill=\"#000000\">samples = 74</text>\n<text text-anchor=\"start\" x=\"15703\" y=\"-840.8\" font-family=\"Helvetica,sans-Serif\" font-size=\"14.00\" fill=\"#000000\">value = [25, 32, 9, 10, 18, 13, 16]</text>\n<text text-anchor=\"start\" x=\"15758\" y=\"-825.8\" font-family=\"Helvetica,sans-Serif\" font-size=\"14.00\" fill=\"#000000\">class = clase_1</text>\n</g>\n<!-- 255&#45;&gt;257 -->\n<g id=\"edge257\" class=\"edge\">\n<title>255&#45;&gt;257</title>\n<path fill=\"none\" stroke=\"#000000\" d=\"M15808.5,-936.8796C15808.5,-928.6838 15808.5,-919.9891 15808.5,-911.5013\"/>\n<polygon fill=\"#000000\" stroke=\"#000000\" points=\"15812.0001,-911.298 15808.5,-901.2981 15805.0001,-911.2981 15812.0001,-911.298\"/>\n</g>\n<!-- 258 -->\n<g id=\"node259\" class=\"node\">\n<title>258</title>\n<path fill=\"#f6f8fe\" stroke=\"#000000\" d=\"M15681,-774.5C15681,-774.5 15494,-774.5 15494,-774.5 15488,-774.5 15482,-768.5 15482,-762.5 15482,-762.5 15482,-718.5 15482,-718.5 15482,-712.5 15488,-706.5 15494,-706.5 15494,-706.5 15681,-706.5 15681,-706.5 15687,-706.5 15693,-712.5 15693,-718.5 15693,-718.5 15693,-762.5 15693,-762.5 15693,-768.5 15687,-774.5 15681,-774.5\"/>\n<text text-anchor=\"start\" x=\"15549.5\" y=\"-759.3\" font-family=\"Helvetica,sans-Serif\" font-size=\"14.00\" fill=\"#000000\">gini = 0.776</text>\n<text text-anchor=\"start\" x=\"15543.5\" y=\"-744.3\" font-family=\"Helvetica,sans-Serif\" font-size=\"14.00\" fill=\"#000000\">samples = 37</text>\n<text text-anchor=\"start\" x=\"15490\" y=\"-729.3\" font-family=\"Helvetica,sans-Serif\" font-size=\"14.00\" fill=\"#000000\">value = [2, 0, 3, 10, 18, 13, 16]</text>\n<text text-anchor=\"start\" x=\"15537\" y=\"-714.3\" font-family=\"Helvetica,sans-Serif\" font-size=\"14.00\" fill=\"#000000\">class = clase_4</text>\n</g>\n<!-- 257&#45;&gt;258 -->\n<g id=\"edge258\" class=\"edge\">\n<title>257&#45;&gt;258</title>\n<path fill=\"none\" stroke=\"#000000\" d=\"M15731.2049,-817.8796C15708.019,-805.3948 15682.6828,-791.7523 15659.8299,-779.4469\"/>\n<polygon fill=\"#000000\" stroke=\"#000000\" points=\"15661.3354,-776.2824 15650.8714,-774.623 15658.0167,-782.4457 15661.3354,-776.2824\"/>\n</g>\n<!-- 259 -->\n<g id=\"node260\" class=\"node\">\n<title>259</title>\n<path fill=\"#eef9d0\" stroke=\"#000000\" d=\"M15893.5,-774.5C15893.5,-774.5 15723.5,-774.5 15723.5,-774.5 15717.5,-774.5 15711.5,-768.5 15711.5,-762.5 15711.5,-762.5 15711.5,-718.5 15711.5,-718.5 15711.5,-712.5 15717.5,-706.5 15723.5,-706.5 15723.5,-706.5 15893.5,-706.5 15893.5,-706.5 15899.5,-706.5 15905.5,-712.5 15905.5,-718.5 15905.5,-718.5 15905.5,-762.5 15905.5,-762.5 15905.5,-768.5 15899.5,-774.5 15893.5,-774.5\"/>\n<text text-anchor=\"start\" x=\"15770.5\" y=\"-759.3\" font-family=\"Helvetica,sans-Serif\" font-size=\"14.00\" fill=\"#000000\">gini = 0.573</text>\n<text text-anchor=\"start\" x=\"15764.5\" y=\"-744.3\" font-family=\"Helvetica,sans-Serif\" font-size=\"14.00\" fill=\"#000000\">samples = 37</text>\n<text text-anchor=\"start\" x=\"15719.5\" y=\"-729.3\" font-family=\"Helvetica,sans-Serif\" font-size=\"14.00\" fill=\"#000000\">value = [23, 32, 6, 0, 0, 0, 0]</text>\n<text text-anchor=\"start\" x=\"15758\" y=\"-714.3\" font-family=\"Helvetica,sans-Serif\" font-size=\"14.00\" fill=\"#000000\">class = clase_1</text>\n</g>\n<!-- 257&#45;&gt;259 -->\n<g id=\"edge259\" class=\"edge\">\n<title>257&#45;&gt;259</title>\n<path fill=\"none\" stroke=\"#000000\" d=\"M15808.5,-817.8796C15808.5,-807.2134 15808.5,-795.7021 15808.5,-784.9015\"/>\n<polygon fill=\"#000000\" stroke=\"#000000\" points=\"15812.0001,-784.8149 15808.5,-774.8149 15805.0001,-784.815 15812.0001,-784.8149\"/>\n</g>\n<!-- 261 -->\n<g id=\"node262\" class=\"node\">\n<title>261</title>\n<path fill=\"#ecfcee\" stroke=\"#000000\" d=\"M16343,-901C16343,-901 16082,-901 16082,-901 16076,-901 16070,-895 16070,-889 16070,-889 16070,-830 16070,-830 16070,-824 16076,-818 16082,-818 16082,-818 16343,-818 16343,-818 16349,-818 16355,-824 16355,-830 16355,-830 16355,-889 16355,-889 16355,-895 16349,-901 16343,-901\"/>\n<text text-anchor=\"start\" x=\"16149\" y=\"-885.8\" font-family=\"Helvetica,sans-Serif\" font-size=\"14.00\" fill=\"#000000\">receiver_state ≤ 6.5</text>\n<text text-anchor=\"start\" x=\"16174.5\" y=\"-870.8\" font-family=\"Helvetica,sans-Serif\" font-size=\"14.00\" fill=\"#000000\">gini = 0.729</text>\n<text text-anchor=\"start\" x=\"16160.5\" y=\"-855.8\" font-family=\"Helvetica,sans-Serif\" font-size=\"14.00\" fill=\"#000000\">samples = 1931</text>\n<text text-anchor=\"start\" x=\"16078\" y=\"-840.8\" font-family=\"Helvetica,sans-Serif\" font-size=\"14.00\" fill=\"#000000\">value = [102, 915, 1122, 602, 180, 56, 64]</text>\n<text text-anchor=\"start\" x=\"16162\" y=\"-825.8\" font-family=\"Helvetica,sans-Serif\" font-size=\"14.00\" fill=\"#000000\">class = clase_2</text>\n</g>\n<!-- 260&#45;&gt;261 -->\n<g id=\"edge261\" class=\"edge\">\n<title>260&#45;&gt;261</title>\n<path fill=\"none\" stroke=\"#000000\" d=\"M16212.5,-936.8796C16212.5,-928.6838 16212.5,-919.9891 16212.5,-911.5013\"/>\n<polygon fill=\"#000000\" stroke=\"#000000\" points=\"16216.0001,-911.298 16212.5,-901.2981 16209.0001,-911.2981 16216.0001,-911.298\"/>\n</g>\n<!-- 288 -->\n<g id=\"node289\" class=\"node\">\n<title>288</title>\n<path fill=\"#d2ef83\" stroke=\"#000000\" d=\"M16968,-901C16968,-901 16781,-901 16781,-901 16775,-901 16769,-895 16769,-889 16769,-889 16769,-830 16769,-830 16769,-824 16775,-818 16781,-818 16781,-818 16968,-818 16968,-818 16974,-818 16980,-824 16980,-830 16980,-830 16980,-889 16980,-889 16980,-895 16974,-901 16968,-901\"/>\n<text text-anchor=\"start\" x=\"16829\" y=\"-885.8\" font-family=\"Helvetica,sans-Serif\" font-size=\"14.00\" fill=\"#000000\">service ≤ 16.0</text>\n<text text-anchor=\"start\" x=\"16836.5\" y=\"-870.8\" font-family=\"Helvetica,sans-Serif\" font-size=\"14.00\" fill=\"#000000\">gini = 0.496</text>\n<text text-anchor=\"start\" x=\"16826.5\" y=\"-855.8\" font-family=\"Helvetica,sans-Serif\" font-size=\"14.00\" fill=\"#000000\">samples = 171</text>\n<text text-anchor=\"start\" x=\"16777\" y=\"-840.8\" font-family=\"Helvetica,sans-Serif\" font-size=\"14.00\" fill=\"#000000\">value = [40, 180, 28, 3, 7, 0, 5]</text>\n<text text-anchor=\"start\" x=\"16824\" y=\"-825.8\" font-family=\"Helvetica,sans-Serif\" font-size=\"14.00\" fill=\"#000000\">class = clase_1</text>\n</g>\n<!-- 260&#45;&gt;288 -->\n<g id=\"edge288\" class=\"edge\">\n<title>260&#45;&gt;288</title>\n<path fill=\"none\" stroke=\"#000000\" d=\"M16359.0086,-952.1639C16479.526,-930.4999 16647.9882,-900.2174 16759.0909,-880.2457\"/>\n<polygon fill=\"#000000\" stroke=\"#000000\" points=\"16759.7679,-883.6802 16768.9909,-878.4661 16758.5294,-876.7907 16759.7679,-883.6802\"/>\n</g>\n<!-- 262 -->\n<g id=\"node263\" class=\"node\">\n<title>262</title>\n<path fill=\"#ecfdee\" stroke=\"#000000\" d=\"M16189,-782C16189,-782 15936,-782 15936,-782 15930,-782 15924,-776 15924,-770 15924,-770 15924,-711 15924,-711 15924,-705 15930,-699 15936,-699 15936,-699 16189,-699 16189,-699 16195,-699 16201,-705 16201,-711 16201,-711 16201,-770 16201,-770 16201,-776 16195,-782 16189,-782\"/>\n<text text-anchor=\"start\" x=\"16017\" y=\"-766.8\" font-family=\"Helvetica,sans-Serif\" font-size=\"14.00\" fill=\"#000000\">service ≤ 10.5</text>\n<text text-anchor=\"start\" x=\"16024.5\" y=\"-751.8\" font-family=\"Helvetica,sans-Serif\" font-size=\"14.00\" fill=\"#000000\">gini = 0.714</text>\n<text text-anchor=\"start\" x=\"16010.5\" y=\"-736.8\" font-family=\"Helvetica,sans-Serif\" font-size=\"14.00\" fill=\"#000000\">samples = 1849</text>\n<text text-anchor=\"start\" x=\"15932\" y=\"-721.8\" font-family=\"Helvetica,sans-Serif\" font-size=\"14.00\" fill=\"#000000\">value = [99, 913, 1102, 575, 157, 32, 30]</text>\n<text text-anchor=\"start\" x=\"16012\" y=\"-706.8\" font-family=\"Helvetica,sans-Serif\" font-size=\"14.00\" fill=\"#000000\">class = clase_2</text>\n</g>\n<!-- 261&#45;&gt;262 -->\n<g id=\"edge262\" class=\"edge\">\n<title>261&#45;&gt;262</title>\n<path fill=\"none\" stroke=\"#000000\" d=\"M16160.0373,-817.8796C16148.0479,-808.368 16135.2113,-798.1843 16122.9184,-788.432\"/>\n<polygon fill=\"#000000\" stroke=\"#000000\" points=\"16124.9425,-785.5701 16114.9331,-782.0969 16120.5919,-791.054 16124.9425,-785.5701\"/>\n</g>\n<!-- 281 -->\n<g id=\"node282\" class=\"node\">\n<title>281</title>\n<path fill=\"#fdf2f7\" stroke=\"#000000\" d=\"M16426,-782C16426,-782 16231,-782 16231,-782 16225,-782 16219,-776 16219,-770 16219,-770 16219,-711 16219,-711 16219,-705 16225,-699 16231,-699 16231,-699 16426,-699 16426,-699 16432,-699 16438,-705 16438,-711 16438,-711 16438,-770 16438,-770 16438,-776 16432,-782 16426,-782\"/>\n<text text-anchor=\"start\" x=\"16283\" y=\"-766.8\" font-family=\"Helvetica,sans-Serif\" font-size=\"14.00\" fill=\"#000000\">service ≤ 14.0</text>\n<text text-anchor=\"start\" x=\"16290.5\" y=\"-751.8\" font-family=\"Helvetica,sans-Serif\" font-size=\"14.00\" fill=\"#000000\">gini = 0.808</text>\n<text text-anchor=\"start\" x=\"16284.5\" y=\"-736.8\" font-family=\"Helvetica,sans-Serif\" font-size=\"14.00\" fill=\"#000000\">samples = 82</text>\n<text text-anchor=\"start\" x=\"16227\" y=\"-721.8\" font-family=\"Helvetica,sans-Serif\" font-size=\"14.00\" fill=\"#000000\">value = [3, 2, 20, 27, 23, 24, 34]</text>\n<text text-anchor=\"start\" x=\"16278\" y=\"-706.8\" font-family=\"Helvetica,sans-Serif\" font-size=\"14.00\" fill=\"#000000\">class = clase_6</text>\n</g>\n<!-- 261&#45;&gt;281 -->\n<g id=\"edge281\" class=\"edge\">\n<title>261&#45;&gt;281</title>\n<path fill=\"none\" stroke=\"#000000\" d=\"M16253.0712,-817.8796C16261.9382,-808.7832 16271.4044,-799.0722 16280.5291,-789.7116\"/>\n<polygon fill=\"#000000\" stroke=\"#000000\" points=\"16283.2817,-791.9019 16287.7557,-782.2981 16278.2691,-787.0158 16283.2817,-791.9019\"/>\n</g>\n<!-- 263 -->\n<g id=\"node264\" class=\"node\">\n<title>263</title>\n<path fill=\"#e5fce8\" stroke=\"#000000\" d=\"M15732.5,-663C15732.5,-663 15512.5,-663 15512.5,-663 15506.5,-663 15500.5,-657 15500.5,-651 15500.5,-651 15500.5,-592 15500.5,-592 15500.5,-586 15506.5,-580 15512.5,-580 15512.5,-580 15732.5,-580 15732.5,-580 15738.5,-580 15744.5,-586 15744.5,-592 15744.5,-592 15744.5,-651 15744.5,-651 15744.5,-657 15738.5,-663 15732.5,-663\"/>\n<text text-anchor=\"start\" x=\"15581.5\" y=\"-647.8\" font-family=\"Helvetica,sans-Serif\" font-size=\"14.00\" fill=\"#000000\">service ≤ 8.5</text>\n<text text-anchor=\"start\" x=\"15584.5\" y=\"-632.8\" font-family=\"Helvetica,sans-Serif\" font-size=\"14.00\" fill=\"#000000\">gini = 0.671</text>\n<text text-anchor=\"start\" x=\"15570.5\" y=\"-617.8\" font-family=\"Helvetica,sans-Serif\" font-size=\"14.00\" fill=\"#000000\">samples = 1069</text>\n<text text-anchor=\"start\" x=\"15508.5\" y=\"-602.8\" font-family=\"Helvetica,sans-Serif\" font-size=\"14.00\" fill=\"#000000\">value = [58, 570, 711, 275, 40, 7, 3]</text>\n<text text-anchor=\"start\" x=\"15572\" y=\"-587.8\" font-family=\"Helvetica,sans-Serif\" font-size=\"14.00\" fill=\"#000000\">class = clase_2</text>\n</g>\n<!-- 262&#45;&gt;263 -->\n<g id=\"edge263\" class=\"edge\">\n<title>262&#45;&gt;263</title>\n<path fill=\"none\" stroke=\"#000000\" d=\"M15923.8645,-701.5626C15920.7142,-700.6982 15917.5893,-699.843 15914.5,-699 15862.3194,-684.7602 15804.795,-669.4167 15754.6995,-656.1695\"/>\n<polygon fill=\"#000000\" stroke=\"#000000\" points=\"15755.3456,-652.7201 15744.7833,-653.5489 15753.5571,-659.4878 15755.3456,-652.7201\"/>\n</g>\n<!-- 268 -->\n<g id=\"node269\" class=\"node\">\n<title>268</title>\n<path fill=\"#f4fef6\" stroke=\"#000000\" d=\"M16185,-663C16185,-663 15940,-663 15940,-663 15934,-663 15928,-657 15928,-651 15928,-651 15928,-592 15928,-592 15928,-586 15934,-580 15940,-580 15940,-580 16185,-580 16185,-580 16191,-580 16197,-586 16197,-592 16197,-592 16197,-651 16197,-651 16197,-657 16191,-663 16185,-663\"/>\n<text text-anchor=\"start\" x=\"16017\" y=\"-647.8\" font-family=\"Helvetica,sans-Serif\" font-size=\"14.00\" fill=\"#000000\">service ≤ 11.5</text>\n<text text-anchor=\"start\" x=\"16024.5\" y=\"-632.8\" font-family=\"Helvetica,sans-Serif\" font-size=\"14.00\" fill=\"#000000\">gini = 0.756</text>\n<text text-anchor=\"start\" x=\"16014.5\" y=\"-617.8\" font-family=\"Helvetica,sans-Serif\" font-size=\"14.00\" fill=\"#000000\">samples = 780</text>\n<text text-anchor=\"start\" x=\"15936\" y=\"-602.8\" font-family=\"Helvetica,sans-Serif\" font-size=\"14.00\" fill=\"#000000\">value = [41, 343, 391, 300, 117, 25, 27]</text>\n<text text-anchor=\"start\" x=\"16012\" y=\"-587.8\" font-family=\"Helvetica,sans-Serif\" font-size=\"14.00\" fill=\"#000000\">class = clase_2</text>\n</g>\n<!-- 262&#45;&gt;268 -->\n<g id=\"edge268\" class=\"edge\">\n<title>262&#45;&gt;268</title>\n<path fill=\"none\" stroke=\"#000000\" d=\"M16062.5,-698.8796C16062.5,-690.6838 16062.5,-681.9891 16062.5,-673.5013\"/>\n<polygon fill=\"#000000\" stroke=\"#000000\" points=\"16066.0001,-673.298 16062.5,-663.2981 16059.0001,-673.2981 16066.0001,-673.298\"/>\n</g>\n<!-- 264 -->\n<g id=\"node265\" class=\"node\">\n<title>264</title>\n<path fill=\"#f0fad6\" stroke=\"#000000\" d=\"M15470,-536.5C15470,-536.5 15275,-536.5 15275,-536.5 15269,-536.5 15263,-530.5 15263,-524.5 15263,-524.5 15263,-480.5 15263,-480.5 15263,-474.5 15269,-468.5 15275,-468.5 15275,-468.5 15470,-468.5 15470,-468.5 15476,-468.5 15482,-474.5 15482,-480.5 15482,-480.5 15482,-524.5 15482,-524.5 15482,-530.5 15476,-536.5 15470,-536.5\"/>\n<text text-anchor=\"start\" x=\"15334.5\" y=\"-521.3\" font-family=\"Helvetica,sans-Serif\" font-size=\"14.00\" fill=\"#000000\">gini = 0.714</text>\n<text text-anchor=\"start\" x=\"15324.5\" y=\"-506.3\" font-family=\"Helvetica,sans-Serif\" font-size=\"14.00\" fill=\"#000000\">samples = 113</text>\n<text text-anchor=\"start\" x=\"15271\" y=\"-491.3\" font-family=\"Helvetica,sans-Serif\" font-size=\"14.00\" fill=\"#000000\">value = [12, 79, 51, 30, 10, 3, 2]</text>\n<text text-anchor=\"start\" x=\"15322\" y=\"-476.3\" font-family=\"Helvetica,sans-Serif\" font-size=\"14.00\" fill=\"#000000\">class = clase_1</text>\n</g>\n<!-- 263&#45;&gt;264 -->\n<g id=\"edge264\" class=\"edge\">\n<title>263&#45;&gt;264</title>\n<path fill=\"none\" stroke=\"#000000\" d=\"M15535.0621,-579.8796C15508.4855,-567.2291 15479.4115,-553.3899 15453.2932,-540.9576\"/>\n<polygon fill=\"#000000\" stroke=\"#000000\" points=\"15454.7206,-537.7608 15444.187,-536.623 15451.712,-544.0813 15454.7206,-537.7608\"/>\n</g>\n<!-- 265 -->\n<g id=\"node266\" class=\"node\">\n<title>265</title>\n<path fill=\"#ddfbe0\" stroke=\"#000000\" d=\"M15732.5,-544C15732.5,-544 15512.5,-544 15512.5,-544 15506.5,-544 15500.5,-538 15500.5,-532 15500.5,-532 15500.5,-473 15500.5,-473 15500.5,-467 15506.5,-461 15512.5,-461 15512.5,-461 15732.5,-461 15732.5,-461 15738.5,-461 15744.5,-467 15744.5,-473 15744.5,-473 15744.5,-532 15744.5,-532 15744.5,-538 15738.5,-544 15732.5,-544\"/>\n<text text-anchor=\"start\" x=\"15581.5\" y=\"-528.8\" font-family=\"Helvetica,sans-Serif\" font-size=\"14.00\" fill=\"#000000\">service ≤ 9.5</text>\n<text text-anchor=\"start\" x=\"15584.5\" y=\"-513.8\" font-family=\"Helvetica,sans-Serif\" font-size=\"14.00\" fill=\"#000000\">gini = 0.661</text>\n<text text-anchor=\"start\" x=\"15574.5\" y=\"-498.8\" font-family=\"Helvetica,sans-Serif\" font-size=\"14.00\" fill=\"#000000\">samples = 956</text>\n<text text-anchor=\"start\" x=\"15508.5\" y=\"-483.8\" font-family=\"Helvetica,sans-Serif\" font-size=\"14.00\" fill=\"#000000\">value = [46, 491, 660, 245, 30, 4, 1]</text>\n<text text-anchor=\"start\" x=\"15572\" y=\"-468.8\" font-family=\"Helvetica,sans-Serif\" font-size=\"14.00\" fill=\"#000000\">class = clase_2</text>\n</g>\n<!-- 263&#45;&gt;265 -->\n<g id=\"edge265\" class=\"edge\">\n<title>263&#45;&gt;265</title>\n<path fill=\"none\" stroke=\"#000000\" d=\"M15622.5,-579.8796C15622.5,-571.6838 15622.5,-562.9891 15622.5,-554.5013\"/>\n<polygon fill=\"#000000\" stroke=\"#000000\" points=\"15626.0001,-554.298 15622.5,-544.2981 15619.0001,-554.2981 15626.0001,-554.298\"/>\n</g>\n<!-- 266 -->\n<g id=\"node267\" class=\"node\">\n<title>266</title>\n<path fill=\"#e0fbe3\" stroke=\"#000000\" d=\"M15464.5,-417.5C15464.5,-417.5 15294.5,-417.5 15294.5,-417.5 15288.5,-417.5 15282.5,-411.5 15282.5,-405.5 15282.5,-405.5 15282.5,-361.5 15282.5,-361.5 15282.5,-355.5 15288.5,-349.5 15294.5,-349.5 15294.5,-349.5 15464.5,-349.5 15464.5,-349.5 15470.5,-349.5 15476.5,-355.5 15476.5,-361.5 15476.5,-361.5 15476.5,-405.5 15476.5,-405.5 15476.5,-411.5 15470.5,-417.5 15464.5,-417.5\"/>\n<text text-anchor=\"start\" x=\"15341.5\" y=\"-402.3\" font-family=\"Helvetica,sans-Serif\" font-size=\"14.00\" fill=\"#000000\">gini = 0.738</text>\n<text text-anchor=\"start\" x=\"15335.5\" y=\"-387.3\" font-family=\"Helvetica,sans-Serif\" font-size=\"14.00\" fill=\"#000000\">samples = 26</text>\n<text text-anchor=\"start\" x=\"15290.5\" y=\"-372.3\" font-family=\"Helvetica,sans-Serif\" font-size=\"14.00\" fill=\"#000000\">value = [4, 12, 17, 7, 0, 3, 1]</text>\n<text text-anchor=\"start\" x=\"15329\" y=\"-357.3\" font-family=\"Helvetica,sans-Serif\" font-size=\"14.00\" fill=\"#000000\">class = clase_2</text>\n</g>\n<!-- 265&#45;&gt;266 -->\n<g id=\"edge266\" class=\"edge\">\n<title>265&#45;&gt;266</title>\n<path fill=\"none\" stroke=\"#000000\" d=\"M15537.5104,-460.8796C15511.7907,-448.2843 15483.6648,-434.5107 15458.3637,-422.1205\"/>\n<polygon fill=\"#000000\" stroke=\"#000000\" points=\"15459.7001,-418.8778 15449.1798,-417.623 15456.6214,-425.1645 15459.7001,-418.8778\"/>\n</g>\n<!-- 267 -->\n<g id=\"node268\" class=\"node\">\n<title>267</title>\n<path fill=\"#ddfbe0\" stroke=\"#000000\" d=\"M15726.5,-417.5C15726.5,-417.5 15506.5,-417.5 15506.5,-417.5 15500.5,-417.5 15494.5,-411.5 15494.5,-405.5 15494.5,-405.5 15494.5,-361.5 15494.5,-361.5 15494.5,-355.5 15500.5,-349.5 15506.5,-349.5 15506.5,-349.5 15726.5,-349.5 15726.5,-349.5 15732.5,-349.5 15738.5,-355.5 15738.5,-361.5 15738.5,-361.5 15738.5,-405.5 15738.5,-405.5 15738.5,-411.5 15732.5,-417.5 15726.5,-417.5\"/>\n<text text-anchor=\"start\" x=\"15578.5\" y=\"-402.3\" font-family=\"Helvetica,sans-Serif\" font-size=\"14.00\" fill=\"#000000\">gini = 0.658</text>\n<text text-anchor=\"start\" x=\"15568.5\" y=\"-387.3\" font-family=\"Helvetica,sans-Serif\" font-size=\"14.00\" fill=\"#000000\">samples = 930</text>\n<text text-anchor=\"start\" x=\"15502.5\" y=\"-372.3\" font-family=\"Helvetica,sans-Serif\" font-size=\"14.00\" fill=\"#000000\">value = [42, 479, 643, 238, 30, 1, 0]</text>\n<text text-anchor=\"start\" x=\"15566\" y=\"-357.3\" font-family=\"Helvetica,sans-Serif\" font-size=\"14.00\" fill=\"#000000\">class = clase_2</text>\n</g>\n<!-- 265&#45;&gt;267 -->\n<g id=\"edge267\" class=\"edge\">\n<title>265&#45;&gt;267</title>\n<path fill=\"none\" stroke=\"#000000\" d=\"M15620.4015,-460.8796C15619.8637,-450.2134 15619.2833,-438.7021 15618.7387,-427.9015\"/>\n<polygon fill=\"#000000\" stroke=\"#000000\" points=\"15622.2294,-427.626 15618.2302,-417.8149 15615.2383,-427.9785 15622.2294,-427.626\"/>\n</g>\n<!-- 269 -->\n<g id=\"node270\" class=\"node\">\n<title>269</title>\n<path fill=\"#e6eafc\" stroke=\"#000000\" d=\"M15954,-536.5C15954,-536.5 15775,-536.5 15775,-536.5 15769,-536.5 15763,-530.5 15763,-524.5 15763,-524.5 15763,-480.5 15763,-480.5 15763,-474.5 15769,-468.5 15775,-468.5 15775,-468.5 15954,-468.5 15954,-468.5 15960,-468.5 15966,-474.5 15966,-480.5 15966,-480.5 15966,-524.5 15966,-524.5 15966,-530.5 15960,-536.5 15954,-536.5\"/>\n<text text-anchor=\"start\" x=\"15831\" y=\"-521.3\" font-family=\"Helvetica,sans-Serif\" font-size=\"14.00\" fill=\"#000000\">gini = 0.68</text>\n<text text-anchor=\"start\" x=\"15820.5\" y=\"-506.3\" font-family=\"Helvetica,sans-Serif\" font-size=\"14.00\" fill=\"#000000\">samples = 66</text>\n<text text-anchor=\"start\" x=\"15771\" y=\"-491.3\" font-family=\"Helvetica,sans-Serif\" font-size=\"14.00\" fill=\"#000000\">value = [0, 0, 10, 33, 41, 4, 8]</text>\n<text text-anchor=\"start\" x=\"15814\" y=\"-476.3\" font-family=\"Helvetica,sans-Serif\" font-size=\"14.00\" fill=\"#000000\">class = clase_4</text>\n</g>\n<!-- 268&#45;&gt;269 -->\n<g id=\"edge269\" class=\"edge\">\n<title>268&#45;&gt;269</title>\n<path fill=\"none\" stroke=\"#000000\" d=\"M15993.2492,-579.8796C15972.752,-567.5606 15950.3792,-554.1143 15930.1189,-541.9376\"/>\n<polygon fill=\"#000000\" stroke=\"#000000\" points=\"15931.6502,-538.7745 15921.2761,-536.623 15928.0443,-544.7743 15931.6502,-538.7745\"/>\n</g>\n<!-- 270 -->\n<g id=\"node271\" class=\"node\">\n<title>270</title>\n<path fill=\"#f6fef7\" stroke=\"#000000\" d=\"M16232.5,-544C16232.5,-544 15996.5,-544 15996.5,-544 15990.5,-544 15984.5,-538 15984.5,-532 15984.5,-532 15984.5,-473 15984.5,-473 15984.5,-467 15990.5,-461 15996.5,-461 15996.5,-461 16232.5,-461 16232.5,-461 16238.5,-461 16244.5,-467 16244.5,-473 16244.5,-473 16244.5,-532 16244.5,-532 16244.5,-538 16238.5,-544 16232.5,-544\"/>\n<text text-anchor=\"start\" x=\"16069\" y=\"-528.8\" font-family=\"Helvetica,sans-Serif\" font-size=\"14.00\" fill=\"#000000\">service ≤ 16.5</text>\n<text text-anchor=\"start\" x=\"16081\" y=\"-513.8\" font-family=\"Helvetica,sans-Serif\" font-size=\"14.00\" fill=\"#000000\">gini = 0.74</text>\n<text text-anchor=\"start\" x=\"16066.5\" y=\"-498.8\" font-family=\"Helvetica,sans-Serif\" font-size=\"14.00\" fill=\"#000000\">samples = 714</text>\n<text text-anchor=\"start\" x=\"15992.5\" y=\"-483.8\" font-family=\"Helvetica,sans-Serif\" font-size=\"14.00\" fill=\"#000000\">value = [41, 343, 381, 267, 76, 21, 19]</text>\n<text text-anchor=\"start\" x=\"16064\" y=\"-468.8\" font-family=\"Helvetica,sans-Serif\" font-size=\"14.00\" fill=\"#000000\">class = clase_2</text>\n</g>\n<!-- 268&#45;&gt;270 -->\n<g id=\"edge270\" class=\"edge\">\n<title>268&#45;&gt;270</title>\n<path fill=\"none\" stroke=\"#000000\" d=\"M16080.6871,-579.8796C16084.3865,-571.4136 16088.3185,-562.4153 16092.1433,-553.6626\"/>\n<polygon fill=\"#000000\" stroke=\"#000000\" points=\"16095.4383,-554.8629 16096.2353,-544.2981 16089.0239,-552.0599 16095.4383,-554.8629\"/>\n</g>\n<!-- 271 -->\n<g id=\"node272\" class=\"node\">\n<title>271</title>\n<path fill=\"#cef9d3\" stroke=\"#000000\" d=\"M15988.5,-425C15988.5,-425 15768.5,-425 15768.5,-425 15762.5,-425 15756.5,-419 15756.5,-413 15756.5,-413 15756.5,-354 15756.5,-354 15756.5,-348 15762.5,-342 15768.5,-342 15768.5,-342 15988.5,-342 15988.5,-342 15994.5,-342 16000.5,-348 16000.5,-354 16000.5,-354 16000.5,-413 16000.5,-413 16000.5,-419 15994.5,-425 15988.5,-425\"/>\n<text text-anchor=\"start\" x=\"15833\" y=\"-409.8\" font-family=\"Helvetica,sans-Serif\" font-size=\"14.00\" fill=\"#000000\">service ≤ 13.5</text>\n<text text-anchor=\"start\" x=\"15840.5\" y=\"-394.8\" font-family=\"Helvetica,sans-Serif\" font-size=\"14.00\" fill=\"#000000\">gini = 0.768</text>\n<text text-anchor=\"start\" x=\"15830.5\" y=\"-379.8\" font-family=\"Helvetica,sans-Serif\" font-size=\"14.00\" fill=\"#000000\">samples = 276</text>\n<text text-anchor=\"start\" x=\"15764.5\" y=\"-364.8\" font-family=\"Helvetica,sans-Serif\" font-size=\"14.00\" fill=\"#000000\">value = [24, 74, 168, 81, 49, 21, 19]</text>\n<text text-anchor=\"start\" x=\"15828\" y=\"-349.8\" font-family=\"Helvetica,sans-Serif\" font-size=\"14.00\" fill=\"#000000\">class = clase_2</text>\n</g>\n<!-- 270&#45;&gt;271 -->\n<g id=\"edge271\" class=\"edge\">\n<title>270&#45;&gt;271</title>\n<path fill=\"none\" stroke=\"#000000\" d=\"M16031.9587,-460.8796C16011.9276,-450.7791 15990.3936,-439.9209 15969.9768,-429.626\"/>\n<polygon fill=\"#000000\" stroke=\"#000000\" points=\"15971.4997,-426.4742 15960.9947,-425.0969 15968.348,-432.7245 15971.4997,-426.4742\"/>\n</g>\n<!-- 280 -->\n<g id=\"node281\" class=\"node\">\n<title>280</title>\n<path fill=\"#f7fce9\" stroke=\"#000000\" d=\"M16250.5,-417.5C16250.5,-417.5 16030.5,-417.5 16030.5,-417.5 16024.5,-417.5 16018.5,-411.5 16018.5,-405.5 16018.5,-405.5 16018.5,-361.5 16018.5,-361.5 16018.5,-355.5 16024.5,-349.5 16030.5,-349.5 16030.5,-349.5 16250.5,-349.5 16250.5,-349.5 16256.5,-349.5 16262.5,-355.5 16262.5,-361.5 16262.5,-361.5 16262.5,-405.5 16262.5,-405.5 16262.5,-411.5 16256.5,-417.5 16250.5,-417.5\"/>\n<text text-anchor=\"start\" x=\"16102.5\" y=\"-402.3\" font-family=\"Helvetica,sans-Serif\" font-size=\"14.00\" fill=\"#000000\">gini = 0.698</text>\n<text text-anchor=\"start\" x=\"16092.5\" y=\"-387.3\" font-family=\"Helvetica,sans-Serif\" font-size=\"14.00\" fill=\"#000000\">samples = 438</text>\n<text text-anchor=\"start\" x=\"16026.5\" y=\"-372.3\" font-family=\"Helvetica,sans-Serif\" font-size=\"14.00\" fill=\"#000000\">value = [17, 269, 213, 186, 27, 0, 0]</text>\n<text text-anchor=\"start\" x=\"16090\" y=\"-357.3\" font-family=\"Helvetica,sans-Serif\" font-size=\"14.00\" fill=\"#000000\">class = clase_1</text>\n</g>\n<!-- 270&#45;&gt;280 -->\n<g id=\"edge280\" class=\"edge\">\n<title>270&#45;&gt;280</title>\n<path fill=\"none\" stroke=\"#000000\" d=\"M16123.5935,-460.8796C16125.924,-450.2134 16128.439,-438.7021 16130.7988,-427.9015\"/>\n<polygon fill=\"#000000\" stroke=\"#000000\" points=\"16134.2874,-428.3316 16133.0026,-417.8149 16127.4487,-426.8374 16134.2874,-428.3316\"/>\n</g>\n<!-- 272 -->\n<g id=\"node273\" class=\"node\">\n<title>272</title>\n<path fill=\"#dffbe2\" stroke=\"#000000\" d=\"M15855,-306C15855,-306 15660,-306 15660,-306 15654,-306 15648,-300 15648,-294 15648,-294 15648,-235 15648,-235 15648,-229 15654,-223 15660,-223 15660,-223 15855,-223 15855,-223 15861,-223 15867,-229 15867,-235 15867,-235 15867,-294 15867,-294 15867,-300 15861,-306 15855,-306\"/>\n<text text-anchor=\"start\" x=\"15712\" y=\"-290.8\" font-family=\"Helvetica,sans-Serif\" font-size=\"14.00\" fill=\"#000000\">service ≤ 12.5</text>\n<text text-anchor=\"start\" x=\"15719.5\" y=\"-275.8\" font-family=\"Helvetica,sans-Serif\" font-size=\"14.00\" fill=\"#000000\">gini = 0.744</text>\n<text text-anchor=\"start\" x=\"15709.5\" y=\"-260.8\" font-family=\"Helvetica,sans-Serif\" font-size=\"14.00\" fill=\"#000000\">samples = 132</text>\n<text text-anchor=\"start\" x=\"15656\" y=\"-245.8\" font-family=\"Helvetica,sans-Serif\" font-size=\"14.00\" fill=\"#000000\">value = [20, 53, 79, 46, 11, 4, 1]</text>\n<text text-anchor=\"start\" x=\"15707\" y=\"-230.8\" font-family=\"Helvetica,sans-Serif\" font-size=\"14.00\" fill=\"#000000\">class = clase_2</text>\n</g>\n<!-- 271&#45;&gt;272 -->\n<g id=\"edge272\" class=\"edge\">\n<title>271&#45;&gt;272</title>\n<path fill=\"none\" stroke=\"#000000\" d=\"M15836.1801,-341.8796C15826.8392,-332.6931 15816.861,-322.8798 15807.256,-313.4336\"/>\n<polygon fill=\"#000000\" stroke=\"#000000\" points=\"15809.5845,-310.8146 15800.0006,-306.2981 15804.6762,-315.8054 15809.5845,-310.8146\"/>\n</g>\n<!-- 275 -->\n<g id=\"node276\" class=\"node\">\n<title>275</title>\n<path fill=\"#c8f8ce\" stroke=\"#000000\" d=\"M16100,-306C16100,-306 15897,-306 15897,-306 15891,-306 15885,-300 15885,-294 15885,-294 15885,-235 15885,-235 15885,-229 15891,-223 15897,-223 15897,-223 16100,-223 16100,-223 16106,-223 16112,-229 16112,-235 16112,-235 16112,-294 16112,-294 16112,-300 16106,-306 16100,-306\"/>\n<text text-anchor=\"start\" x=\"15953\" y=\"-290.8\" font-family=\"Helvetica,sans-Serif\" font-size=\"14.00\" fill=\"#000000\">service ≤ 15.5</text>\n<text text-anchor=\"start\" x=\"15960.5\" y=\"-275.8\" font-family=\"Helvetica,sans-Serif\" font-size=\"14.00\" fill=\"#000000\">gini = 0.763</text>\n<text text-anchor=\"start\" x=\"15950.5\" y=\"-260.8\" font-family=\"Helvetica,sans-Serif\" font-size=\"14.00\" fill=\"#000000\">samples = 144</text>\n<text text-anchor=\"start\" x=\"15893\" y=\"-245.8\" font-family=\"Helvetica,sans-Serif\" font-size=\"14.00\" fill=\"#000000\">value = [4, 21, 89, 35, 38, 17, 18]</text>\n<text text-anchor=\"start\" x=\"15948\" y=\"-230.8\" font-family=\"Helvetica,sans-Serif\" font-size=\"14.00\" fill=\"#000000\">class = clase_2</text>\n</g>\n<!-- 271&#45;&gt;275 -->\n<g id=\"edge275\" class=\"edge\">\n<title>271&#45;&gt;275</title>\n<path fill=\"none\" stroke=\"#000000\" d=\"M15920.4702,-341.8796C15929.7338,-332.6931 15939.6296,-322.8798 15949.1552,-313.4336\"/>\n<polygon fill=\"#000000\" stroke=\"#000000\" points=\"15951.7146,-315.8247 15956.3507,-306.2981 15946.7856,-310.8543 15951.7146,-315.8247\"/>\n</g>\n<!-- 273 -->\n<g id=\"node274\" class=\"node\">\n<title>273</title>\n<path fill=\"#f5fef6\" stroke=\"#000000\" d=\"M15628,-179.5C15628,-179.5 15433,-179.5 15433,-179.5 15427,-179.5 15421,-173.5 15421,-167.5 15421,-167.5 15421,-123.5 15421,-123.5 15421,-117.5 15427,-111.5 15433,-111.5 15433,-111.5 15628,-111.5 15628,-111.5 15634,-111.5 15640,-117.5 15640,-123.5 15640,-123.5 15640,-167.5 15640,-167.5 15640,-173.5 15634,-179.5 15628,-179.5\"/>\n<text text-anchor=\"start\" x=\"15492.5\" y=\"-164.3\" font-family=\"Helvetica,sans-Serif\" font-size=\"14.00\" fill=\"#000000\">gini = 0.775</text>\n<text text-anchor=\"start\" x=\"15486.5\" y=\"-149.3\" font-family=\"Helvetica,sans-Serif\" font-size=\"14.00\" fill=\"#000000\">samples = 81</text>\n<text text-anchor=\"start\" x=\"15429\" y=\"-134.3\" font-family=\"Helvetica,sans-Serif\" font-size=\"14.00\" fill=\"#000000\">value = [14, 33, 40, 35, 10, 4, 1]</text>\n<text text-anchor=\"start\" x=\"15480\" y=\"-119.3\" font-family=\"Helvetica,sans-Serif\" font-size=\"14.00\" fill=\"#000000\">class = clase_2</text>\n</g>\n<!-- 272&#45;&gt;273 -->\n<g id=\"edge273\" class=\"edge\">\n<title>272&#45;&gt;273</title>\n<path fill=\"none\" stroke=\"#000000\" d=\"M15678.1064,-222.8796C15654.1856,-210.3396 15628.0366,-196.6315 15604.4822,-184.2836\"/>\n<polygon fill=\"#000000\" stroke=\"#000000\" points=\"15606.0737,-181.1662 15595.5918,-179.623 15602.8236,-187.366 15606.0737,-181.1662\"/>\n</g>\n<!-- 274 -->\n<g id=\"node275\" class=\"node\">\n<title>274</title>\n<path fill=\"#bdf6c4\" stroke=\"#000000\" d=\"M15849,-179.5C15849,-179.5 15670,-179.5 15670,-179.5 15664,-179.5 15658,-173.5 15658,-167.5 15658,-167.5 15658,-123.5 15658,-123.5 15658,-117.5 15664,-111.5 15670,-111.5 15670,-111.5 15849,-111.5 15849,-111.5 15855,-111.5 15861,-117.5 15861,-123.5 15861,-123.5 15861,-167.5 15861,-167.5 15861,-173.5 15855,-179.5 15849,-179.5\"/>\n<text text-anchor=\"start\" x=\"15721.5\" y=\"-164.3\" font-family=\"Helvetica,sans-Serif\" font-size=\"14.00\" fill=\"#000000\">gini = 0.649</text>\n<text text-anchor=\"start\" x=\"15715.5\" y=\"-149.3\" font-family=\"Helvetica,sans-Serif\" font-size=\"14.00\" fill=\"#000000\">samples = 51</text>\n<text text-anchor=\"start\" x=\"15666\" y=\"-134.3\" font-family=\"Helvetica,sans-Serif\" font-size=\"14.00\" fill=\"#000000\">value = [6, 20, 39, 11, 1, 0, 0]</text>\n<text text-anchor=\"start\" x=\"15709\" y=\"-119.3\" font-family=\"Helvetica,sans-Serif\" font-size=\"14.00\" fill=\"#000000\">class = clase_2</text>\n</g>\n<!-- 272&#45;&gt;274 -->\n<g id=\"edge274\" class=\"edge\">\n<title>272&#45;&gt;274</title>\n<path fill=\"none\" stroke=\"#000000\" d=\"M15758.1995,-222.8796C15758.3788,-212.2134 15758.5722,-200.7021 15758.7538,-189.9015\"/>\n<polygon fill=\"#000000\" stroke=\"#000000\" points=\"15762.2546,-189.8724 15758.9233,-179.8149 15755.2556,-189.7547 15762.2546,-189.8724\"/>\n</g>\n<!-- 276 -->\n<g id=\"node277\" class=\"node\">\n<title>276</title>\n<path fill=\"#bcf6c3\" stroke=\"#000000\" d=\"M16098,-187C16098,-187 15895,-187 15895,-187 15889,-187 15883,-181 15883,-175 15883,-175 15883,-116 15883,-116 15883,-110 15889,-104 15895,-104 15895,-104 16098,-104 16098,-104 16104,-104 16110,-110 16110,-116 16110,-116 16110,-175 16110,-175 16110,-181 16104,-187 16098,-187\"/>\n<text text-anchor=\"start\" x=\"15951\" y=\"-171.8\" font-family=\"Helvetica,sans-Serif\" font-size=\"14.00\" fill=\"#000000\">service ≤ 14.5</text>\n<text text-anchor=\"start\" x=\"15958.5\" y=\"-156.8\" font-family=\"Helvetica,sans-Serif\" font-size=\"14.00\" fill=\"#000000\">gini = 0.738</text>\n<text text-anchor=\"start\" x=\"15948.5\" y=\"-141.8\" font-family=\"Helvetica,sans-Serif\" font-size=\"14.00\" fill=\"#000000\">samples = 111</text>\n<text text-anchor=\"start\" x=\"15891\" y=\"-126.8\" font-family=\"Helvetica,sans-Serif\" font-size=\"14.00\" fill=\"#000000\">value = [2, 15, 77, 28, 20, 13, 18]</text>\n<text text-anchor=\"start\" x=\"15946\" y=\"-111.8\" font-family=\"Helvetica,sans-Serif\" font-size=\"14.00\" fill=\"#000000\">class = clase_2</text>\n</g>\n<!-- 275&#45;&gt;276 -->\n<g id=\"edge276\" class=\"edge\">\n<title>275&#45;&gt;276</title>\n<path fill=\"none\" stroke=\"#000000\" d=\"M15997.8005,-222.8796C15997.6628,-214.6838 15997.5166,-205.9891 15997.374,-197.5013\"/>\n<polygon fill=\"#000000\" stroke=\"#000000\" points=\"16000.8701,-197.2378 15997.2025,-187.2981 15993.8711,-197.3555 16000.8701,-197.2378\"/>\n</g>\n<!-- 279 -->\n<g id=\"node280\" class=\"node\">\n<title>279</title>\n<path fill=\"#dfe4fb\" stroke=\"#000000\" d=\"M16310.5,-179.5C16310.5,-179.5 16140.5,-179.5 16140.5,-179.5 16134.5,-179.5 16128.5,-173.5 16128.5,-167.5 16128.5,-167.5 16128.5,-123.5 16128.5,-123.5 16128.5,-117.5 16134.5,-111.5 16140.5,-111.5 16140.5,-111.5 16310.5,-111.5 16310.5,-111.5 16316.5,-111.5 16322.5,-117.5 16322.5,-123.5 16322.5,-123.5 16322.5,-167.5 16322.5,-167.5 16322.5,-173.5 16316.5,-179.5 16310.5,-179.5\"/>\n<text text-anchor=\"start\" x=\"16187.5\" y=\"-164.3\" font-family=\"Helvetica,sans-Serif\" font-size=\"14.00\" fill=\"#000000\">gini = 0.761</text>\n<text text-anchor=\"start\" x=\"16181.5\" y=\"-149.3\" font-family=\"Helvetica,sans-Serif\" font-size=\"14.00\" fill=\"#000000\">samples = 33</text>\n<text text-anchor=\"start\" x=\"16136.5\" y=\"-134.3\" font-family=\"Helvetica,sans-Serif\" font-size=\"14.00\" fill=\"#000000\">value = [2, 6, 12, 7, 18, 4, 0]</text>\n<text text-anchor=\"start\" x=\"16175\" y=\"-119.3\" font-family=\"Helvetica,sans-Serif\" font-size=\"14.00\" fill=\"#000000\">class = clase_4</text>\n</g>\n<!-- 275&#45;&gt;279 -->\n<g id=\"edge279\" class=\"edge\">\n<title>275&#45;&gt;279</title>\n<path fill=\"none\" stroke=\"#000000\" d=\"M16077.8936,-222.8796C16101.8144,-210.3396 16127.9634,-196.6315 16151.5178,-184.2836\"/>\n<polygon fill=\"#000000\" stroke=\"#000000\" points=\"16153.1764,-187.366 16160.4082,-179.623 16149.9263,-181.1662 16153.1764,-187.366\"/>\n</g>\n<!-- 277 -->\n<g id=\"node278\" class=\"node\">\n<title>277</title>\n<path fill=\"#d1f9d6\" stroke=\"#000000\" d=\"M15965.5,-68C15965.5,-68 15803.5,-68 15803.5,-68 15797.5,-68 15791.5,-62 15791.5,-56 15791.5,-56 15791.5,-12 15791.5,-12 15791.5,-6 15797.5,0 15803.5,0 15803.5,0 15965.5,0 15965.5,0 15971.5,0 15977.5,-6 15977.5,-12 15977.5,-12 15977.5,-56 15977.5,-56 15977.5,-62 15971.5,-68 15965.5,-68\"/>\n<text text-anchor=\"start\" x=\"15846.5\" y=\"-52.8\" font-family=\"Helvetica,sans-Serif\" font-size=\"14.00\" fill=\"#000000\">gini = 0.773</text>\n<text text-anchor=\"start\" x=\"15840.5\" y=\"-37.8\" font-family=\"Helvetica,sans-Serif\" font-size=\"14.00\" fill=\"#000000\">samples = 22</text>\n<text text-anchor=\"start\" x=\"15799.5\" y=\"-22.8\" font-family=\"Helvetica,sans-Serif\" font-size=\"14.00\" fill=\"#000000\">value = [0, 3, 12, 6, 5, 3, 3]</text>\n<text text-anchor=\"start\" x=\"15834\" y=\"-7.8\" font-family=\"Helvetica,sans-Serif\" font-size=\"14.00\" fill=\"#000000\">class = clase_2</text>\n</g>\n<!-- 276&#45;&gt;277 -->\n<g id=\"edge277\" class=\"edge\">\n<title>276&#45;&gt;277</title>\n<path fill=\"none\" stroke=\"#000000\" d=\"M15954.7953,-103.9815C15945.4711,-94.6989 15935.5803,-84.8522 15926.2541,-75.5677\"/>\n<polygon fill=\"#000000\" stroke=\"#000000\" points=\"15928.4736,-72.8385 15918.9173,-68.2637 15923.5349,-77.7993 15928.4736,-72.8385\"/>\n</g>\n<!-- 278 -->\n<g id=\"node279\" class=\"node\">\n<title>278</title>\n<path fill=\"#b7f6bf\" stroke=\"#000000\" d=\"M16211,-68C16211,-68 16008,-68 16008,-68 16002,-68 15996,-62 15996,-56 15996,-56 15996,-12 15996,-12 15996,-6 16002,0 16008,0 16008,0 16211,0 16211,0 16217,0 16223,-6 16223,-12 16223,-12 16223,-56 16223,-56 16223,-62 16217,-68 16211,-68\"/>\n<text text-anchor=\"start\" x=\"16071.5\" y=\"-52.8\" font-family=\"Helvetica,sans-Serif\" font-size=\"14.00\" fill=\"#000000\">gini = 0.728</text>\n<text text-anchor=\"start\" x=\"16065.5\" y=\"-37.8\" font-family=\"Helvetica,sans-Serif\" font-size=\"14.00\" fill=\"#000000\">samples = 89</text>\n<text text-anchor=\"start\" x=\"16004\" y=\"-22.8\" font-family=\"Helvetica,sans-Serif\" font-size=\"14.00\" fill=\"#000000\">value = [2, 12, 65, 22, 15, 10, 15]</text>\n<text text-anchor=\"start\" x=\"16059\" y=\"-7.8\" font-family=\"Helvetica,sans-Serif\" font-size=\"14.00\" fill=\"#000000\">class = clase_2</text>\n</g>\n<!-- 276&#45;&gt;278 -->\n<g id=\"edge278\" class=\"edge\">\n<title>276&#45;&gt;278</title>\n<path fill=\"none\" stroke=\"#000000\" d=\"M16038.577,-103.9815C16048.0776,-94.607 16058.1613,-84.6572 16067.6524,-75.2921\"/>\n<polygon fill=\"#000000\" stroke=\"#000000\" points=\"16070.1155,-77.7787 16074.7754,-68.2637 16065.1989,-72.796 16070.1155,-77.7787\"/>\n</g>\n<!-- 282 -->\n<g id=\"node283\" class=\"node\">\n<title>282</title>\n<path fill=\"#fce8f1\" stroke=\"#000000\" d=\"M16412,-663C16412,-663 16233,-663 16233,-663 16227,-663 16221,-657 16221,-651 16221,-651 16221,-592 16221,-592 16221,-586 16227,-580 16233,-580 16233,-580 16412,-580 16412,-580 16418,-580 16424,-586 16424,-592 16424,-592 16424,-651 16424,-651 16424,-657 16418,-663 16412,-663\"/>\n<text text-anchor=\"start\" x=\"16277\" y=\"-647.8\" font-family=\"Helvetica,sans-Serif\" font-size=\"14.00\" fill=\"#000000\">service ≤ 10.5</text>\n<text text-anchor=\"start\" x=\"16284.5\" y=\"-632.8\" font-family=\"Helvetica,sans-Serif\" font-size=\"14.00\" fill=\"#000000\">gini = 0.737</text>\n<text text-anchor=\"start\" x=\"16278.5\" y=\"-617.8\" font-family=\"Helvetica,sans-Serif\" font-size=\"14.00\" fill=\"#000000\">samples = 27</text>\n<text text-anchor=\"start\" x=\"16229\" y=\"-602.8\" font-family=\"Helvetica,sans-Serif\" font-size=\"14.00\" fill=\"#000000\">value = [0, 0, 0, 10, 9, 12, 16]</text>\n<text text-anchor=\"start\" x=\"16272\" y=\"-587.8\" font-family=\"Helvetica,sans-Serif\" font-size=\"14.00\" fill=\"#000000\">class = clase_6</text>\n</g>\n<!-- 281&#45;&gt;282 -->\n<g id=\"edge282\" class=\"edge\">\n<title>281&#45;&gt;282</title>\n<path fill=\"none\" stroke=\"#000000\" d=\"M16326.4015,-698.8796C16325.9883,-690.6838 16325.5499,-681.9891 16325.1219,-673.5013\"/>\n<polygon fill=\"#000000\" stroke=\"#000000\" points=\"16328.6067,-673.1091 16324.6075,-663.2981 16321.6156,-673.4617 16328.6067,-673.1091\"/>\n</g>\n<!-- 287 -->\n<g id=\"node288\" class=\"node\">\n<title>287</title>\n<path fill=\"#f9fefa\" stroke=\"#000000\" d=\"M16649,-655.5C16649,-655.5 16454,-655.5 16454,-655.5 16448,-655.5 16442,-649.5 16442,-643.5 16442,-643.5 16442,-599.5 16442,-599.5 16442,-593.5 16448,-587.5 16454,-587.5 16454,-587.5 16649,-587.5 16649,-587.5 16655,-587.5 16661,-593.5 16661,-599.5 16661,-599.5 16661,-643.5 16661,-643.5 16661,-649.5 16655,-655.5 16649,-655.5\"/>\n<text text-anchor=\"start\" x=\"16513.5\" y=\"-640.3\" font-family=\"Helvetica,sans-Serif\" font-size=\"14.00\" fill=\"#000000\">gini = 0.815</text>\n<text text-anchor=\"start\" x=\"16507.5\" y=\"-625.3\" font-family=\"Helvetica,sans-Serif\" font-size=\"14.00\" fill=\"#000000\">samples = 55</text>\n<text text-anchor=\"start\" x=\"16450\" y=\"-610.3\" font-family=\"Helvetica,sans-Serif\" font-size=\"14.00\" fill=\"#000000\">value = [3, 2, 20, 17, 14, 12, 18]</text>\n<text text-anchor=\"start\" x=\"16501\" y=\"-595.3\" font-family=\"Helvetica,sans-Serif\" font-size=\"14.00\" fill=\"#000000\">class = clase_2</text>\n</g>\n<!-- 281&#45;&gt;287 -->\n<g id=\"edge287\" class=\"edge\">\n<title>281&#45;&gt;287</title>\n<path fill=\"none\" stroke=\"#000000\" d=\"M16406.4946,-698.8796C16429.8904,-686.3948 16455.4558,-672.7523 16478.5155,-660.4469\"/>\n<polygon fill=\"#000000\" stroke=\"#000000\" points=\"16480.3805,-663.4189 16487.5552,-655.623 16477.0849,-657.2432 16480.3805,-663.4189\"/>\n</g>\n<!-- 283 -->\n<g id=\"node284\" class=\"node\">\n<title>283</title>\n<path fill=\"#fef9fb\" stroke=\"#000000\" d=\"M16454,-544C16454,-544 16275,-544 16275,-544 16269,-544 16263,-538 16263,-532 16263,-532 16263,-473 16263,-473 16263,-467 16269,-461 16275,-461 16275,-461 16454,-461 16454,-461 16460,-461 16466,-467 16466,-473 16466,-473 16466,-532 16466,-532 16466,-538 16460,-544 16454,-544\"/>\n<text text-anchor=\"start\" x=\"16323.5\" y=\"-528.8\" font-family=\"Helvetica,sans-Serif\" font-size=\"14.00\" fill=\"#000000\">service ≤ 9.0</text>\n<text text-anchor=\"start\" x=\"16326.5\" y=\"-513.8\" font-family=\"Helvetica,sans-Serif\" font-size=\"14.00\" fill=\"#000000\">gini = 0.745</text>\n<text text-anchor=\"start\" x=\"16320.5\" y=\"-498.8\" font-family=\"Helvetica,sans-Serif\" font-size=\"14.00\" fill=\"#000000\">samples = 25</text>\n<text text-anchor=\"start\" x=\"16271\" y=\"-483.8\" font-family=\"Helvetica,sans-Serif\" font-size=\"14.00\" fill=\"#000000\">value = [0, 0, 0, 10, 9, 12, 13]</text>\n<text text-anchor=\"start\" x=\"16314\" y=\"-468.8\" font-family=\"Helvetica,sans-Serif\" font-size=\"14.00\" fill=\"#000000\">class = clase_6</text>\n</g>\n<!-- 282&#45;&gt;283 -->\n<g id=\"edge283\" class=\"edge\">\n<title>282&#45;&gt;283</title>\n<path fill=\"none\" stroke=\"#000000\" d=\"M16337.1896,-579.8796C16340.1458,-571.5037 16343.2859,-562.6067 16346.344,-553.942\"/>\n<polygon fill=\"#000000\" stroke=\"#000000\" points=\"16349.7199,-554.8929 16349.7477,-544.2981 16343.119,-552.5631 16349.7199,-554.8929\"/>\n</g>\n<!-- 286 -->\n<g id=\"node287\" class=\"node\">\n<title>286</title>\n<path fill=\"#e53986\" stroke=\"#000000\" d=\"M16649.5,-536.5C16649.5,-536.5 16495.5,-536.5 16495.5,-536.5 16489.5,-536.5 16483.5,-530.5 16483.5,-524.5 16483.5,-524.5 16483.5,-480.5 16483.5,-480.5 16483.5,-474.5 16489.5,-468.5 16495.5,-468.5 16495.5,-468.5 16649.5,-468.5 16649.5,-468.5 16655.5,-468.5 16661.5,-474.5 16661.5,-480.5 16661.5,-480.5 16661.5,-524.5 16661.5,-524.5 16661.5,-530.5 16655.5,-536.5 16649.5,-536.5\"/>\n<text text-anchor=\"start\" x=\"16543\" y=\"-521.3\" font-family=\"Helvetica,sans-Serif\" font-size=\"14.00\" fill=\"#000000\">gini = 0.0</text>\n<text text-anchor=\"start\" x=\"16533\" y=\"-506.3\" font-family=\"Helvetica,sans-Serif\" font-size=\"14.00\" fill=\"#000000\">samples = 2</text>\n<text text-anchor=\"start\" x=\"16491.5\" y=\"-491.3\" font-family=\"Helvetica,sans-Serif\" font-size=\"14.00\" fill=\"#000000\">value = [0, 0, 0, 0, 0, 0, 3]</text>\n<text text-anchor=\"start\" x=\"16522\" y=\"-476.3\" font-family=\"Helvetica,sans-Serif\" font-size=\"14.00\" fill=\"#000000\">class = clase_6</text>\n</g>\n<!-- 282&#45;&gt;286 -->\n<g id=\"edge286\" class=\"edge\">\n<title>282&#45;&gt;286</title>\n<path fill=\"none\" stroke=\"#000000\" d=\"M16409.9379,-579.8796C16436.5145,-567.2291 16465.5885,-553.3899 16491.7068,-540.9576\"/>\n<polygon fill=\"#000000\" stroke=\"#000000\" points=\"16493.288,-544.0813 16500.813,-536.623 16490.2794,-537.7608 16493.288,-544.0813\"/>\n</g>\n<!-- 284 -->\n<g id=\"node285\" class=\"node\">\n<title>284</title>\n<path fill=\"#e53986\" stroke=\"#000000\" d=\"M16446.5,-417.5C16446.5,-417.5 16292.5,-417.5 16292.5,-417.5 16286.5,-417.5 16280.5,-411.5 16280.5,-405.5 16280.5,-405.5 16280.5,-361.5 16280.5,-361.5 16280.5,-355.5 16286.5,-349.5 16292.5,-349.5 16292.5,-349.5 16446.5,-349.5 16446.5,-349.5 16452.5,-349.5 16458.5,-355.5 16458.5,-361.5 16458.5,-361.5 16458.5,-405.5 16458.5,-405.5 16458.5,-411.5 16452.5,-417.5 16446.5,-417.5\"/>\n<text text-anchor=\"start\" x=\"16340\" y=\"-402.3\" font-family=\"Helvetica,sans-Serif\" font-size=\"14.00\" fill=\"#000000\">gini = 0.0</text>\n<text text-anchor=\"start\" x=\"16330\" y=\"-387.3\" font-family=\"Helvetica,sans-Serif\" font-size=\"14.00\" fill=\"#000000\">samples = 1</text>\n<text text-anchor=\"start\" x=\"16288.5\" y=\"-372.3\" font-family=\"Helvetica,sans-Serif\" font-size=\"14.00\" fill=\"#000000\">value = [0, 0, 0, 0, 0, 0, 1]</text>\n<text text-anchor=\"start\" x=\"16319\" y=\"-357.3\" font-family=\"Helvetica,sans-Serif\" font-size=\"14.00\" fill=\"#000000\">class = clase_6</text>\n</g>\n<!-- 283&#45;&gt;284 -->\n<g id=\"edge284\" class=\"edge\">\n<title>283&#45;&gt;284</title>\n<path fill=\"none\" stroke=\"#000000\" d=\"M16366.2488,-460.8796C16366.6969,-450.2134 16367.1806,-438.7021 16367.6344,-427.9015\"/>\n<polygon fill=\"#000000\" stroke=\"#000000\" points=\"16371.1352,-427.9531 16368.0582,-417.8149 16364.1414,-427.6592 16371.1352,-427.9531\"/>\n</g>\n<!-- 285 -->\n<g id=\"node286\" class=\"node\">\n<title>285</title>\n<path fill=\"#ffffff\" stroke=\"#000000\" d=\"M16667,-417.5C16667,-417.5 16488,-417.5 16488,-417.5 16482,-417.5 16476,-411.5 16476,-405.5 16476,-405.5 16476,-361.5 16476,-361.5 16476,-355.5 16482,-349.5 16488,-349.5 16488,-349.5 16667,-349.5 16667,-349.5 16673,-349.5 16679,-355.5 16679,-361.5 16679,-361.5 16679,-405.5 16679,-405.5 16679,-411.5 16673,-417.5 16667,-417.5\"/>\n<text text-anchor=\"start\" x=\"16539.5\" y=\"-402.3\" font-family=\"Helvetica,sans-Serif\" font-size=\"14.00\" fill=\"#000000\">gini = 0.746</text>\n<text text-anchor=\"start\" x=\"16533.5\" y=\"-387.3\" font-family=\"Helvetica,sans-Serif\" font-size=\"14.00\" fill=\"#000000\">samples = 24</text>\n<text text-anchor=\"start\" x=\"16484\" y=\"-372.3\" font-family=\"Helvetica,sans-Serif\" font-size=\"14.00\" fill=\"#000000\">value = [0, 0, 0, 10, 9, 12, 12]</text>\n<text text-anchor=\"start\" x=\"16527\" y=\"-357.3\" font-family=\"Helvetica,sans-Serif\" font-size=\"14.00\" fill=\"#000000\">class = clase_5</text>\n</g>\n<!-- 283&#45;&gt;285 -->\n<g id=\"edge285\" class=\"edge\">\n<title>283&#45;&gt;285</title>\n<path fill=\"none\" stroke=\"#000000\" d=\"M16438.9971,-460.8796C16461.2448,-448.4501 16485.5467,-434.873 16507.4958,-422.6103\"/>\n<polygon fill=\"#000000\" stroke=\"#000000\" points=\"16509.3997,-425.5559 16516.4226,-417.623 16505.9856,-419.4449 16509.3997,-425.5559\"/>\n</g>\n<!-- 289 -->\n<g id=\"node290\" class=\"node\">\n<title>289</title>\n<path fill=\"#d9f197\" stroke=\"#000000\" d=\"M16959.5,-782C16959.5,-782 16789.5,-782 16789.5,-782 16783.5,-782 16777.5,-776 16777.5,-770 16777.5,-770 16777.5,-711 16777.5,-711 16777.5,-705 16783.5,-699 16789.5,-699 16789.5,-699 16959.5,-699 16959.5,-699 16965.5,-699 16971.5,-705 16971.5,-711 16971.5,-711 16971.5,-770 16971.5,-770 16971.5,-776 16965.5,-782 16959.5,-782\"/>\n<text text-anchor=\"start\" x=\"16829\" y=\"-766.8\" font-family=\"Helvetica,sans-Serif\" font-size=\"14.00\" fill=\"#000000\">service ≤ 12.5</text>\n<text text-anchor=\"start\" x=\"16836.5\" y=\"-751.8\" font-family=\"Helvetica,sans-Serif\" font-size=\"14.00\" fill=\"#000000\">gini = 0.559</text>\n<text text-anchor=\"start\" x=\"16830.5\" y=\"-736.8\" font-family=\"Helvetica,sans-Serif\" font-size=\"14.00\" fill=\"#000000\">samples = 45</text>\n<text text-anchor=\"start\" x=\"16785.5\" y=\"-721.8\" font-family=\"Helvetica,sans-Serif\" font-size=\"14.00\" fill=\"#000000\">value = [14, 43, 6, 0, 4, 0, 2]</text>\n<text text-anchor=\"start\" x=\"16824\" y=\"-706.8\" font-family=\"Helvetica,sans-Serif\" font-size=\"14.00\" fill=\"#000000\">class = clase_1</text>\n</g>\n<!-- 288&#45;&gt;289 -->\n<g id=\"edge289\" class=\"edge\">\n<title>288&#45;&gt;289</title>\n<path fill=\"none\" stroke=\"#000000\" d=\"M16874.5,-817.8796C16874.5,-809.6838 16874.5,-800.9891 16874.5,-792.5013\"/>\n<polygon fill=\"#000000\" stroke=\"#000000\" points=\"16878.0001,-792.298 16874.5,-782.2981 16871.0001,-792.2981 16878.0001,-792.298\"/>\n</g>\n<!-- 294 -->\n<g id=\"node295\" class=\"node\">\n<title>294</title>\n<path fill=\"#cfee7c\" stroke=\"#000000\" d=\"M17287,-782C17287,-782 17100,-782 17100,-782 17094,-782 17088,-776 17088,-770 17088,-770 17088,-711 17088,-711 17088,-705 17094,-699 17100,-699 17100,-699 17287,-699 17287,-699 17293,-699 17299,-705 17299,-711 17299,-711 17299,-770 17299,-770 17299,-776 17293,-782 17287,-782\"/>\n<text text-anchor=\"start\" x=\"17130\" y=\"-766.8\" font-family=\"Helvetica,sans-Serif\" font-size=\"14.00\" fill=\"#000000\">receiver_state ≤ 9.5</text>\n<text text-anchor=\"start\" x=\"17160\" y=\"-751.8\" font-family=\"Helvetica,sans-Serif\" font-size=\"14.00\" fill=\"#000000\">gini = 0.47</text>\n<text text-anchor=\"start\" x=\"17145.5\" y=\"-736.8\" font-family=\"Helvetica,sans-Serif\" font-size=\"14.00\" fill=\"#000000\">samples = 126</text>\n<text text-anchor=\"start\" x=\"17096\" y=\"-721.8\" font-family=\"Helvetica,sans-Serif\" font-size=\"14.00\" fill=\"#000000\">value = [26, 137, 22, 3, 3, 0, 3]</text>\n<text text-anchor=\"start\" x=\"17143\" y=\"-706.8\" font-family=\"Helvetica,sans-Serif\" font-size=\"14.00\" fill=\"#000000\">class = clase_1</text>\n</g>\n<!-- 288&#45;&gt;294 -->\n<g id=\"edge294\" class=\"edge\">\n<title>288&#45;&gt;294</title>\n<path fill=\"none\" stroke=\"#000000\" d=\"M16980.2793,-820.04C17011.7249,-808.3095 17046.3247,-795.4024 17078.3363,-783.4607\"/>\n<polygon fill=\"#000000\" stroke=\"#000000\" points=\"17079.589,-786.7291 17087.735,-779.9547 17077.1423,-780.1706 17079.589,-786.7291\"/>\n</g>\n<!-- 290 -->\n<g id=\"node291\" class=\"node\">\n<title>290</title>\n<path fill=\"#d8f195\" stroke=\"#000000\" d=\"M16861.5,-663C16861.5,-663 16691.5,-663 16691.5,-663 16685.5,-663 16679.5,-657 16679.5,-651 16679.5,-651 16679.5,-592 16679.5,-592 16679.5,-586 16685.5,-580 16691.5,-580 16691.5,-580 16861.5,-580 16861.5,-580 16867.5,-580 16873.5,-586 16873.5,-592 16873.5,-592 16873.5,-651 16873.5,-651 16873.5,-657 16867.5,-663 16861.5,-663\"/>\n<text text-anchor=\"start\" x=\"16713\" y=\"-647.8\" font-family=\"Helvetica,sans-Serif\" font-size=\"14.00\" fill=\"#000000\">receiver_state ≤ 9.5</text>\n<text text-anchor=\"start\" x=\"16738.5\" y=\"-632.8\" font-family=\"Helvetica,sans-Serif\" font-size=\"14.00\" fill=\"#000000\">gini = 0.547</text>\n<text text-anchor=\"start\" x=\"16732.5\" y=\"-617.8\" font-family=\"Helvetica,sans-Serif\" font-size=\"14.00\" fill=\"#000000\">samples = 44</text>\n<text text-anchor=\"start\" x=\"16687.5\" y=\"-602.8\" font-family=\"Helvetica,sans-Serif\" font-size=\"14.00\" fill=\"#000000\">value = [14, 43, 6, 0, 3, 0, 2]</text>\n<text text-anchor=\"start\" x=\"16726\" y=\"-587.8\" font-family=\"Helvetica,sans-Serif\" font-size=\"14.00\" fill=\"#000000\">class = clase_1</text>\n</g>\n<!-- 289&#45;&gt;290 -->\n<g id=\"edge290\" class=\"edge\">\n<title>289&#45;&gt;290</title>\n<path fill=\"none\" stroke=\"#000000\" d=\"M16840.2244,-698.8796C16832.8816,-689.9633 16825.0524,-680.4565 16817.4854,-671.268\"/>\n<polygon fill=\"#000000\" stroke=\"#000000\" points=\"16819.9808,-668.7924 16810.9219,-663.2981 16814.5773,-673.2424 16819.9808,-668.7924\"/>\n</g>\n<!-- 293 -->\n<g id=\"node294\" class=\"node\">\n<title>293</title>\n<path fill=\"#3956e5\" stroke=\"#000000\" d=\"M17057.5,-655.5C17057.5,-655.5 16903.5,-655.5 16903.5,-655.5 16897.5,-655.5 16891.5,-649.5 16891.5,-643.5 16891.5,-643.5 16891.5,-599.5 16891.5,-599.5 16891.5,-593.5 16897.5,-587.5 16903.5,-587.5 16903.5,-587.5 17057.5,-587.5 17057.5,-587.5 17063.5,-587.5 17069.5,-593.5 17069.5,-599.5 17069.5,-599.5 17069.5,-643.5 17069.5,-643.5 17069.5,-649.5 17063.5,-655.5 17057.5,-655.5\"/>\n<text text-anchor=\"start\" x=\"16951\" y=\"-640.3\" font-family=\"Helvetica,sans-Serif\" font-size=\"14.00\" fill=\"#000000\">gini = 0.0</text>\n<text text-anchor=\"start\" x=\"16941\" y=\"-625.3\" font-family=\"Helvetica,sans-Serif\" font-size=\"14.00\" fill=\"#000000\">samples = 1</text>\n<text text-anchor=\"start\" x=\"16899.5\" y=\"-610.3\" font-family=\"Helvetica,sans-Serif\" font-size=\"14.00\" fill=\"#000000\">value = [0, 0, 0, 0, 1, 0, 0]</text>\n<text text-anchor=\"start\" x=\"16930\" y=\"-595.3\" font-family=\"Helvetica,sans-Serif\" font-size=\"14.00\" fill=\"#000000\">class = clase_4</text>\n</g>\n<!-- 289&#45;&gt;293 -->\n<g id=\"edge293\" class=\"edge\">\n<title>289&#45;&gt;293</title>\n<path fill=\"none\" stroke=\"#000000\" d=\"M16911.5737,-698.8796C16921.7603,-687.4436 16932.8122,-675.0363 16943.0215,-663.575\"/>\n<polygon fill=\"#000000\" stroke=\"#000000\" points=\"16945.8958,-665.6101 16949.9338,-655.8149 16940.6688,-660.9541 16945.8958,-665.6101\"/>\n</g>\n<!-- 291 -->\n<g id=\"node292\" class=\"node\">\n<title>291</title>\n<path fill=\"#d4f08a\" stroke=\"#000000\" d=\"M16861.5,-536.5C16861.5,-536.5 16691.5,-536.5 16691.5,-536.5 16685.5,-536.5 16679.5,-530.5 16679.5,-524.5 16679.5,-524.5 16679.5,-480.5 16679.5,-480.5 16679.5,-474.5 16685.5,-468.5 16691.5,-468.5 16691.5,-468.5 16861.5,-468.5 16861.5,-468.5 16867.5,-468.5 16873.5,-474.5 16873.5,-480.5 16873.5,-480.5 16873.5,-524.5 16873.5,-524.5 16873.5,-530.5 16867.5,-536.5 16861.5,-536.5\"/>\n<text text-anchor=\"start\" x=\"16738.5\" y=\"-521.3\" font-family=\"Helvetica,sans-Serif\" font-size=\"14.00\" fill=\"#000000\">gini = 0.476</text>\n<text text-anchor=\"start\" x=\"16732.5\" y=\"-506.3\" font-family=\"Helvetica,sans-Serif\" font-size=\"14.00\" fill=\"#000000\">samples = 42</text>\n<text text-anchor=\"start\" x=\"16687.5\" y=\"-491.3\" font-family=\"Helvetica,sans-Serif\" font-size=\"14.00\" fill=\"#000000\">value = [14, 43, 6, 0, 0, 0, 0]</text>\n<text text-anchor=\"start\" x=\"16726\" y=\"-476.3\" font-family=\"Helvetica,sans-Serif\" font-size=\"14.00\" fill=\"#000000\">class = clase_1</text>\n</g>\n<!-- 290&#45;&gt;291 -->\n<g id=\"edge291\" class=\"edge\">\n<title>290&#45;&gt;291</title>\n<path fill=\"none\" stroke=\"#000000\" d=\"M16776.5,-579.8796C16776.5,-569.2134 16776.5,-557.7021 16776.5,-546.9015\"/>\n<polygon fill=\"#000000\" stroke=\"#000000\" points=\"16780.0001,-546.8149 16776.5,-536.8149 16773.0001,-546.815 16780.0001,-546.8149\"/>\n</g>\n<!-- 292 -->\n<g id=\"node293\" class=\"node\">\n<title>292</title>\n<path fill=\"#bdc7f6\" stroke=\"#000000\" d=\"M17057.5,-536.5C17057.5,-536.5 16903.5,-536.5 16903.5,-536.5 16897.5,-536.5 16891.5,-530.5 16891.5,-524.5 16891.5,-524.5 16891.5,-480.5 16891.5,-480.5 16891.5,-474.5 16897.5,-468.5 16903.5,-468.5 16903.5,-468.5 17057.5,-468.5 17057.5,-468.5 17063.5,-468.5 17069.5,-474.5 17069.5,-480.5 17069.5,-480.5 17069.5,-524.5 17069.5,-524.5 17069.5,-530.5 17063.5,-536.5 17057.5,-536.5\"/>\n<text text-anchor=\"start\" x=\"16947\" y=\"-521.3\" font-family=\"Helvetica,sans-Serif\" font-size=\"14.00\" fill=\"#000000\">gini = 0.48</text>\n<text text-anchor=\"start\" x=\"16941\" y=\"-506.3\" font-family=\"Helvetica,sans-Serif\" font-size=\"14.00\" fill=\"#000000\">samples = 2</text>\n<text text-anchor=\"start\" x=\"16899.5\" y=\"-491.3\" font-family=\"Helvetica,sans-Serif\" font-size=\"14.00\" fill=\"#000000\">value = [0, 0, 0, 0, 3, 0, 2]</text>\n<text text-anchor=\"start\" x=\"16930\" y=\"-476.3\" font-family=\"Helvetica,sans-Serif\" font-size=\"14.00\" fill=\"#000000\">class = clase_4</text>\n</g>\n<!-- 290&#45;&gt;292 -->\n<g id=\"edge292\" class=\"edge\">\n<title>290&#45;&gt;292</title>\n<path fill=\"none\" stroke=\"#000000\" d=\"M16847.8493,-579.8796C16869.0623,-567.5053 16892.2252,-553.9937 16913.1733,-541.7739\"/>\n<polygon fill=\"#000000\" stroke=\"#000000\" points=\"16915.1291,-544.685 16922.0034,-536.623 16911.602,-538.6386 16915.1291,-544.685\"/>\n</g>\n<!-- 295 -->\n<g id=\"node296\" class=\"node\">\n<title>295</title>\n<path fill=\"#ceed79\" stroke=\"#000000\" d=\"M17287,-655.5C17287,-655.5 17100,-655.5 17100,-655.5 17094,-655.5 17088,-649.5 17088,-643.5 17088,-643.5 17088,-599.5 17088,-599.5 17088,-593.5 17094,-587.5 17100,-587.5 17100,-587.5 17287,-587.5 17287,-587.5 17293,-587.5 17299,-593.5 17299,-599.5 17299,-599.5 17299,-643.5 17299,-643.5 17299,-649.5 17293,-655.5 17287,-655.5\"/>\n<text text-anchor=\"start\" x=\"17155.5\" y=\"-640.3\" font-family=\"Helvetica,sans-Serif\" font-size=\"14.00\" fill=\"#000000\">gini = 0.449</text>\n<text text-anchor=\"start\" x=\"17145.5\" y=\"-625.3\" font-family=\"Helvetica,sans-Serif\" font-size=\"14.00\" fill=\"#000000\">samples = 123</text>\n<text text-anchor=\"start\" x=\"17096\" y=\"-610.3\" font-family=\"Helvetica,sans-Serif\" font-size=\"14.00\" fill=\"#000000\">value = [26, 137, 21, 3, 3, 0, 0]</text>\n<text text-anchor=\"start\" x=\"17143\" y=\"-595.3\" font-family=\"Helvetica,sans-Serif\" font-size=\"14.00\" fill=\"#000000\">class = clase_1</text>\n</g>\n<!-- 294&#45;&gt;295 -->\n<g id=\"edge295\" class=\"edge\">\n<title>294&#45;&gt;295</title>\n<path fill=\"none\" stroke=\"#000000\" d=\"M17193.5,-698.8796C17193.5,-688.2134 17193.5,-676.7021 17193.5,-665.9015\"/>\n<polygon fill=\"#000000\" stroke=\"#000000\" points=\"17197.0001,-665.8149 17193.5,-655.8149 17190.0001,-665.815 17197.0001,-665.8149\"/>\n</g>\n<!-- 296 -->\n<g id=\"node297\" class=\"node\">\n<title>296</title>\n<path fill=\"#ee7bae\" stroke=\"#000000\" d=\"M17483.5,-655.5C17483.5,-655.5 17329.5,-655.5 17329.5,-655.5 17323.5,-655.5 17317.5,-649.5 17317.5,-643.5 17317.5,-643.5 17317.5,-599.5 17317.5,-599.5 17317.5,-593.5 17323.5,-587.5 17329.5,-587.5 17329.5,-587.5 17483.5,-587.5 17483.5,-587.5 17489.5,-587.5 17495.5,-593.5 17495.5,-599.5 17495.5,-599.5 17495.5,-643.5 17495.5,-643.5 17495.5,-649.5 17489.5,-655.5 17483.5,-655.5\"/>\n<text text-anchor=\"start\" x=\"17368.5\" y=\"-640.3\" font-family=\"Helvetica,sans-Serif\" font-size=\"14.00\" fill=\"#000000\">gini = 0.375</text>\n<text text-anchor=\"start\" x=\"17367\" y=\"-625.3\" font-family=\"Helvetica,sans-Serif\" font-size=\"14.00\" fill=\"#000000\">samples = 3</text>\n<text text-anchor=\"start\" x=\"17325.5\" y=\"-610.3\" font-family=\"Helvetica,sans-Serif\" font-size=\"14.00\" fill=\"#000000\">value = [0, 0, 1, 0, 0, 0, 3]</text>\n<text text-anchor=\"start\" x=\"17356\" y=\"-595.3\" font-family=\"Helvetica,sans-Serif\" font-size=\"14.00\" fill=\"#000000\">class = clase_6</text>\n</g>\n<!-- 294&#45;&gt;296 -->\n<g id=\"edge296\" class=\"edge\">\n<title>294&#45;&gt;296</title>\n<path fill=\"none\" stroke=\"#000000\" d=\"M17267.9971,-698.8796C17290.2448,-686.4501 17314.5467,-672.873 17336.4958,-660.6103\"/>\n<polygon fill=\"#000000\" stroke=\"#000000\" points=\"17338.3997,-663.5559 17345.4226,-655.623 17334.9856,-657.4449 17338.3997,-663.5559\"/>\n</g>\n<!-- 298 -->\n<g id=\"node299\" class=\"node\">\n<title>298</title>\n<path fill=\"#e5f6b7\" stroke=\"#000000\" d=\"M17406,-1020C17406,-1020 17153,-1020 17153,-1020 17147,-1020 17141,-1014 17141,-1008 17141,-1008 17141,-949 17141,-949 17141,-943 17147,-937 17153,-937 17153,-937 17406,-937 17406,-937 17412,-937 17418,-943 17418,-949 17418,-949 17418,-1008 17418,-1008 17418,-1014 17412,-1020 17406,-1020\"/>\n<text text-anchor=\"start\" x=\"17234\" y=\"-1004.8\" font-family=\"Helvetica,sans-Serif\" font-size=\"14.00\" fill=\"#000000\">service ≤ 18.5</text>\n<text text-anchor=\"start\" x=\"17246\" y=\"-989.8\" font-family=\"Helvetica,sans-Serif\" font-size=\"14.00\" fill=\"#000000\">gini = 0.64</text>\n<text text-anchor=\"start\" x=\"17227.5\" y=\"-974.8\" font-family=\"Helvetica,sans-Serif\" font-size=\"14.00\" fill=\"#000000\">samples = 1775</text>\n<text text-anchor=\"start\" x=\"17149\" y=\"-959.8\" font-family=\"Helvetica,sans-Serif\" font-size=\"14.00\" fill=\"#000000\">value = [156, 1505, 738, 198, 145, 87, 9]</text>\n<text text-anchor=\"start\" x=\"17229\" y=\"-944.8\" font-family=\"Helvetica,sans-Serif\" font-size=\"14.00\" fill=\"#000000\">class = clase_1</text>\n</g>\n<!-- 297&#45;&gt;298 -->\n<g id=\"edge298\" class=\"edge\">\n<title>297&#45;&gt;298</title>\n<path fill=\"none\" stroke=\"#000000\" d=\"M17253.4901,-1055.8796C17256.3055,-1047.5037 17259.2961,-1038.6067 17262.2086,-1029.942\"/>\n<polygon fill=\"#000000\" stroke=\"#000000\" points=\"17265.5816,-1030.8921 17265.4502,-1020.2981 17258.9464,-1028.6617 17265.5816,-1030.8921\"/>\n</g>\n<!-- 311 -->\n<g id=\"node312\" class=\"node\">\n<title>311</title>\n<path fill=\"#f3fbdf\" stroke=\"#000000\" d=\"M18660.5,-1020C18660.5,-1020 18440.5,-1020 18440.5,-1020 18434.5,-1020 18428.5,-1014 18428.5,-1008 18428.5,-1008 18428.5,-949 18428.5,-949 18428.5,-943 18434.5,-937 18440.5,-937 18440.5,-937 18660.5,-937 18660.5,-937 18666.5,-937 18672.5,-943 18672.5,-949 18672.5,-949 18672.5,-1008 18672.5,-1008 18672.5,-1014 18666.5,-1020 18660.5,-1020\"/>\n<text text-anchor=\"start\" x=\"18487\" y=\"-1004.8\" font-family=\"Helvetica,sans-Serif\" font-size=\"14.00\" fill=\"#000000\">receiver_state ≤ 8.0</text>\n<text text-anchor=\"start\" x=\"18512.5\" y=\"-989.8\" font-family=\"Helvetica,sans-Serif\" font-size=\"14.00\" fill=\"#000000\">gini = 0.687</text>\n<text text-anchor=\"start\" x=\"18502.5\" y=\"-974.8\" font-family=\"Helvetica,sans-Serif\" font-size=\"14.00\" fill=\"#000000\">samples = 374</text>\n<text text-anchor=\"start\" x=\"18436.5\" y=\"-959.8\" font-family=\"Helvetica,sans-Serif\" font-size=\"14.00\" fill=\"#000000\">value = [24, 253, 189, 37, 17, 6, 53]</text>\n<text text-anchor=\"start\" x=\"18500\" y=\"-944.8\" font-family=\"Helvetica,sans-Serif\" font-size=\"14.00\" fill=\"#000000\">class = clase_1</text>\n</g>\n<!-- 297&#45;&gt;311 -->\n<g id=\"edge311\" class=\"edge\">\n<title>297&#45;&gt;311</title>\n<path fill=\"none\" stroke=\"#000000\" d=\"M17382.4007,-1057.4404C17385.1176,-1056.9342 17387.8193,-1056.4532 17390.5,-1056 17584.6812,-1023.1747 18156.8597,-995.3607 18417.9259,-983.9917\"/>\n<polygon fill=\"#000000\" stroke=\"#000000\" points=\"18418.3822,-987.4753 18428.221,-983.5449 18418.0786,-980.4818 18418.3822,-987.4753\"/>\n</g>\n<!-- 299 -->\n<g id=\"node300\" class=\"node\">\n<title>299</title>\n<path fill=\"#d4ef88\" stroke=\"#000000\" d=\"M17389.5,-893.5C17389.5,-893.5 17169.5,-893.5 17169.5,-893.5 17163.5,-893.5 17157.5,-887.5 17157.5,-881.5 17157.5,-881.5 17157.5,-837.5 17157.5,-837.5 17157.5,-831.5 17163.5,-825.5 17169.5,-825.5 17169.5,-825.5 17389.5,-825.5 17389.5,-825.5 17395.5,-825.5 17401.5,-831.5 17401.5,-837.5 17401.5,-837.5 17401.5,-881.5 17401.5,-881.5 17401.5,-887.5 17395.5,-893.5 17389.5,-893.5\"/>\n<text text-anchor=\"start\" x=\"17241.5\" y=\"-878.3\" font-family=\"Helvetica,sans-Serif\" font-size=\"14.00\" fill=\"#000000\">gini = 0.488</text>\n<text text-anchor=\"start\" x=\"17231.5\" y=\"-863.3\" font-family=\"Helvetica,sans-Serif\" font-size=\"14.00\" fill=\"#000000\">samples = 774</text>\n<text text-anchor=\"start\" x=\"17165.5\" y=\"-848.3\" font-family=\"Helvetica,sans-Serif\" font-size=\"14.00\" fill=\"#000000\">value = [105, 851, 252, 24, 11, 7, 0]</text>\n<text text-anchor=\"start\" x=\"17229\" y=\"-833.3\" font-family=\"Helvetica,sans-Serif\" font-size=\"14.00\" fill=\"#000000\">class = clase_1</text>\n</g>\n<!-- 298&#45;&gt;299 -->\n<g id=\"edge299\" class=\"edge\">\n<title>298&#45;&gt;299</title>\n<path fill=\"none\" stroke=\"#000000\" d=\"M17279.5,-936.8796C17279.5,-926.2134 17279.5,-914.7021 17279.5,-903.9015\"/>\n<polygon fill=\"#000000\" stroke=\"#000000\" points=\"17283.0001,-903.8149 17279.5,-893.8149 17276.0001,-903.815 17283.0001,-903.8149\"/>\n</g>\n<!-- 300 -->\n<g id=\"node301\" class=\"node\">\n<title>300</title>\n<path fill=\"#f4fbe1\" stroke=\"#000000\" d=\"M17831.5,-901C17831.5,-901 17595.5,-901 17595.5,-901 17589.5,-901 17583.5,-895 17583.5,-889 17583.5,-889 17583.5,-830 17583.5,-830 17583.5,-824 17589.5,-818 17595.5,-818 17595.5,-818 17831.5,-818 17831.5,-818 17837.5,-818 17843.5,-824 17843.5,-830 17843.5,-830 17843.5,-889 17843.5,-889 17843.5,-895 17837.5,-901 17831.5,-901\"/>\n<text text-anchor=\"start\" x=\"17668\" y=\"-885.8\" font-family=\"Helvetica,sans-Serif\" font-size=\"14.00\" fill=\"#000000\">service ≤ 21.5</text>\n<text text-anchor=\"start\" x=\"17675.5\" y=\"-870.8\" font-family=\"Helvetica,sans-Serif\" font-size=\"14.00\" fill=\"#000000\">gini = 0.714</text>\n<text text-anchor=\"start\" x=\"17661.5\" y=\"-855.8\" font-family=\"Helvetica,sans-Serif\" font-size=\"14.00\" fill=\"#000000\">samples = 1001</text>\n<text text-anchor=\"start\" x=\"17591.5\" y=\"-840.8\" font-family=\"Helvetica,sans-Serif\" font-size=\"14.00\" fill=\"#000000\">value = [51, 654, 486, 174, 134, 80, 9]</text>\n<text text-anchor=\"start\" x=\"17663\" y=\"-825.8\" font-family=\"Helvetica,sans-Serif\" font-size=\"14.00\" fill=\"#000000\">class = clase_1</text>\n</g>\n<!-- 298&#45;&gt;300 -->\n<g id=\"edge300\" class=\"edge\">\n<title>298&#45;&gt;300</title>\n<path fill=\"none\" stroke=\"#000000\" d=\"M17418.0136,-940.5205C17467.6668,-926.9059 17523.6563,-911.5539 17573.4396,-897.9037\"/>\n<polygon fill=\"#000000\" stroke=\"#000000\" points=\"17574.5913,-901.2171 17583.3098,-895.1973 17572.7402,-894.4663 17574.5913,-901.2171\"/>\n</g>\n<!-- 301 -->\n<g id=\"node302\" class=\"node\">\n<title>301</title>\n<path fill=\"#effdf1\" stroke=\"#000000\" d=\"M17807,-782C17807,-782 17620,-782 17620,-782 17614,-782 17608,-776 17608,-770 17608,-770 17608,-711 17608,-711 17608,-705 17614,-699 17620,-699 17620,-699 17807,-699 17807,-699 17813,-699 17819,-705 17819,-711 17819,-711 17819,-770 17819,-770 17819,-776 17813,-782 17807,-782\"/>\n<text text-anchor=\"start\" x=\"17668\" y=\"-766.8\" font-family=\"Helvetica,sans-Serif\" font-size=\"14.00\" fill=\"#000000\">service ≤ 20.5</text>\n<text text-anchor=\"start\" x=\"17675.5\" y=\"-751.8\" font-family=\"Helvetica,sans-Serif\" font-size=\"14.00\" fill=\"#000000\">gini = 0.768</text>\n<text text-anchor=\"start\" x=\"17669.5\" y=\"-736.8\" font-family=\"Helvetica,sans-Serif\" font-size=\"14.00\" fill=\"#000000\">samples = 85</text>\n<text text-anchor=\"start\" x=\"17616\" y=\"-721.8\" font-family=\"Helvetica,sans-Serif\" font-size=\"14.00\" fill=\"#000000\">value = [0, 19, 42, 34, 31, 6, 4]</text>\n<text text-anchor=\"start\" x=\"17663\" y=\"-706.8\" font-family=\"Helvetica,sans-Serif\" font-size=\"14.00\" fill=\"#000000\">class = clase_2</text>\n</g>\n<!-- 300&#45;&gt;301 -->\n<g id=\"edge301\" class=\"edge\">\n<title>300&#45;&gt;301</title>\n<path fill=\"none\" stroke=\"#000000\" d=\"M17713.5,-817.8796C17713.5,-809.6838 17713.5,-800.9891 17713.5,-792.5013\"/>\n<polygon fill=\"#000000\" stroke=\"#000000\" points=\"17717.0001,-792.298 17713.5,-782.2981 17710.0001,-792.2981 17717.0001,-792.298\"/>\n</g>\n<!-- 306 -->\n<g id=\"node307\" class=\"node\">\n<title>306</title>\n<path fill=\"#f1fad9\" stroke=\"#000000\" d=\"M18179.5,-782C18179.5,-782 17943.5,-782 17943.5,-782 17937.5,-782 17931.5,-776 17931.5,-770 17931.5,-770 17931.5,-711 17931.5,-711 17931.5,-705 17937.5,-699 17943.5,-699 17943.5,-699 18179.5,-699 18179.5,-699 18185.5,-699 18191.5,-705 18191.5,-711 18191.5,-711 18191.5,-770 18191.5,-770 18191.5,-776 18185.5,-782 18179.5,-782\"/>\n<text text-anchor=\"start\" x=\"18016\" y=\"-766.8\" font-family=\"Helvetica,sans-Serif\" font-size=\"14.00\" fill=\"#000000\">service ≤ 22.5</text>\n<text text-anchor=\"start\" x=\"18023.5\" y=\"-751.8\" font-family=\"Helvetica,sans-Serif\" font-size=\"14.00\" fill=\"#000000\">gini = 0.697</text>\n<text text-anchor=\"start\" x=\"18013.5\" y=\"-736.8\" font-family=\"Helvetica,sans-Serif\" font-size=\"14.00\" fill=\"#000000\">samples = 916</text>\n<text text-anchor=\"start\" x=\"17939.5\" y=\"-721.8\" font-family=\"Helvetica,sans-Serif\" font-size=\"14.00\" fill=\"#000000\">value = [51, 635, 444, 140, 103, 74, 5]</text>\n<text text-anchor=\"start\" x=\"18011\" y=\"-706.8\" font-family=\"Helvetica,sans-Serif\" font-size=\"14.00\" fill=\"#000000\">class = clase_1</text>\n</g>\n<!-- 300&#45;&gt;306 -->\n<g id=\"edge306\" class=\"edge\">\n<title>300&#45;&gt;306</title>\n<path fill=\"none\" stroke=\"#000000\" d=\"M17835.2135,-817.8796C17865.943,-807.3715 17899.071,-796.0432 17930.2473,-785.3824\"/>\n<polygon fill=\"#000000\" stroke=\"#000000\" points=\"17931.5256,-788.6443 17939.8552,-782.0969 17929.2606,-782.0209 17931.5256,-788.6443\"/>\n</g>\n<!-- 302 -->\n<g id=\"node303\" class=\"node\">\n<title>302</title>\n<path fill=\"#e8fcea\" stroke=\"#000000\" d=\"M17713,-663C17713,-663 17526,-663 17526,-663 17520,-663 17514,-657 17514,-651 17514,-651 17514,-592 17514,-592 17514,-586 17520,-580 17526,-580 17526,-580 17713,-580 17713,-580 17719,-580 17725,-586 17725,-592 17725,-592 17725,-651 17725,-651 17725,-657 17719,-663 17713,-663\"/>\n<text text-anchor=\"start\" x=\"17574\" y=\"-647.8\" font-family=\"Helvetica,sans-Serif\" font-size=\"14.00\" fill=\"#000000\">service ≤ 19.5</text>\n<text text-anchor=\"start\" x=\"17581.5\" y=\"-632.8\" font-family=\"Helvetica,sans-Serif\" font-size=\"14.00\" fill=\"#000000\">gini = 0.768</text>\n<text text-anchor=\"start\" x=\"17575.5\" y=\"-617.8\" font-family=\"Helvetica,sans-Serif\" font-size=\"14.00\" fill=\"#000000\">samples = 79</text>\n<text text-anchor=\"start\" x=\"17522\" y=\"-602.8\" font-family=\"Helvetica,sans-Serif\" font-size=\"14.00\" fill=\"#000000\">value = [0, 19, 41, 30, 25, 6, 4]</text>\n<text text-anchor=\"start\" x=\"17569\" y=\"-587.8\" font-family=\"Helvetica,sans-Serif\" font-size=\"14.00\" fill=\"#000000\">class = clase_2</text>\n</g>\n<!-- 301&#45;&gt;302 -->\n<g id=\"edge302\" class=\"edge\">\n<title>301&#45;&gt;302</title>\n<path fill=\"none\" stroke=\"#000000\" d=\"M17680.6234,-698.8796C17673.5803,-689.9633 17666.0707,-680.4565 17658.8126,-671.268\"/>\n<polygon fill=\"#000000\" stroke=\"#000000\" points=\"17661.4621,-668.9757 17652.517,-663.2981 17655.9691,-673.3147 17661.4621,-668.9757\"/>\n</g>\n<!-- 305 -->\n<g id=\"node306\" class=\"node\">\n<title>305</title>\n<path fill=\"#c6cff8\" stroke=\"#000000\" d=\"M17909.5,-655.5C17909.5,-655.5 17755.5,-655.5 17755.5,-655.5 17749.5,-655.5 17743.5,-649.5 17743.5,-643.5 17743.5,-643.5 17743.5,-599.5 17743.5,-599.5 17743.5,-593.5 17749.5,-587.5 17755.5,-587.5 17755.5,-587.5 17909.5,-587.5 17909.5,-587.5 17915.5,-587.5 17921.5,-593.5 17921.5,-599.5 17921.5,-599.5 17921.5,-643.5 17921.5,-643.5 17921.5,-649.5 17915.5,-655.5 17909.5,-655.5\"/>\n<text text-anchor=\"start\" x=\"17794.5\" y=\"-640.3\" font-family=\"Helvetica,sans-Serif\" font-size=\"14.00\" fill=\"#000000\">gini = 0.562</text>\n<text text-anchor=\"start\" x=\"17793\" y=\"-625.3\" font-family=\"Helvetica,sans-Serif\" font-size=\"14.00\" fill=\"#000000\">samples = 6</text>\n<text text-anchor=\"start\" x=\"17751.5\" y=\"-610.3\" font-family=\"Helvetica,sans-Serif\" font-size=\"14.00\" fill=\"#000000\">value = [0, 0, 1, 4, 6, 0, 0]</text>\n<text text-anchor=\"start\" x=\"17782\" y=\"-595.3\" font-family=\"Helvetica,sans-Serif\" font-size=\"14.00\" fill=\"#000000\">class = clase_4</text>\n</g>\n<!-- 301&#45;&gt;305 -->\n<g id=\"edge305\" class=\"edge\">\n<title>301&#45;&gt;305</title>\n<path fill=\"none\" stroke=\"#000000\" d=\"M17755.1204,-698.8796C17766.7763,-687.2237 17779.4413,-674.5587 17791.0852,-662.9148\"/>\n<polygon fill=\"#000000\" stroke=\"#000000\" points=\"17793.5889,-665.3609 17798.1851,-655.8149 17788.6391,-660.4111 17793.5889,-665.3609\"/>\n</g>\n<!-- 303 -->\n<g id=\"node304\" class=\"node\">\n<title>303</title>\n<path fill=\"#fafefe\" stroke=\"#000000\" d=\"M17605,-536.5C17605,-536.5 17418,-536.5 17418,-536.5 17412,-536.5 17406,-530.5 17406,-524.5 17406,-524.5 17406,-480.5 17406,-480.5 17406,-474.5 17412,-468.5 17418,-468.5 17418,-468.5 17605,-468.5 17605,-468.5 17611,-468.5 17617,-474.5 17617,-480.5 17617,-480.5 17617,-524.5 17617,-524.5 17617,-530.5 17611,-536.5 17605,-536.5\"/>\n<text text-anchor=\"start\" x=\"17473.5\" y=\"-521.3\" font-family=\"Helvetica,sans-Serif\" font-size=\"14.00\" fill=\"#000000\">gini = 0.774</text>\n<text text-anchor=\"start\" x=\"17467.5\" y=\"-506.3\" font-family=\"Helvetica,sans-Serif\" font-size=\"14.00\" fill=\"#000000\">samples = 63</text>\n<text text-anchor=\"start\" x=\"17414\" y=\"-491.3\" font-family=\"Helvetica,sans-Serif\" font-size=\"14.00\" fill=\"#000000\">value = [0, 11, 26, 28, 25, 6, 4]</text>\n<text text-anchor=\"start\" x=\"17461\" y=\"-476.3\" font-family=\"Helvetica,sans-Serif\" font-size=\"14.00\" fill=\"#000000\">class = clase_3</text>\n</g>\n<!-- 302&#45;&gt;303 -->\n<g id=\"edge303\" class=\"edge\">\n<title>302&#45;&gt;303</title>\n<path fill=\"none\" stroke=\"#000000\" d=\"M17581.7268,-579.8796C17571.2482,-568.3337 17559.8709,-555.7976 17549.3859,-544.2446\"/>\n<polygon fill=\"#000000\" stroke=\"#000000\" points=\"17551.9553,-541.8678 17542.643,-536.8149 17546.7718,-546.5722 17551.9553,-541.8678\"/>\n</g>\n<!-- 304 -->\n<g id=\"node305\" class=\"node\">\n<title>304</title>\n<path fill=\"#adf4b6\" stroke=\"#000000\" d=\"M17809.5,-536.5C17809.5,-536.5 17647.5,-536.5 17647.5,-536.5 17641.5,-536.5 17635.5,-530.5 17635.5,-524.5 17635.5,-524.5 17635.5,-480.5 17635.5,-480.5 17635.5,-474.5 17641.5,-468.5 17647.5,-468.5 17647.5,-468.5 17809.5,-468.5 17809.5,-468.5 17815.5,-468.5 17821.5,-474.5 17821.5,-480.5 17821.5,-480.5 17821.5,-524.5 17821.5,-524.5 17821.5,-530.5 17815.5,-536.5 17809.5,-536.5\"/>\n<text text-anchor=\"start\" x=\"17690.5\" y=\"-521.3\" font-family=\"Helvetica,sans-Serif\" font-size=\"14.00\" fill=\"#000000\">gini = 0.531</text>\n<text text-anchor=\"start\" x=\"17684.5\" y=\"-506.3\" font-family=\"Helvetica,sans-Serif\" font-size=\"14.00\" fill=\"#000000\">samples = 16</text>\n<text text-anchor=\"start\" x=\"17643.5\" y=\"-491.3\" font-family=\"Helvetica,sans-Serif\" font-size=\"14.00\" fill=\"#000000\">value = [0, 8, 15, 2, 0, 0, 0]</text>\n<text text-anchor=\"start\" x=\"17678\" y=\"-476.3\" font-family=\"Helvetica,sans-Serif\" font-size=\"14.00\" fill=\"#000000\">class = clase_2</text>\n</g>\n<!-- 302&#45;&gt;304 -->\n<g id=\"edge304\" class=\"edge\">\n<title>302&#45;&gt;304</title>\n<path fill=\"none\" stroke=\"#000000\" d=\"M17657.6229,-579.8796C17668.1986,-568.3337 17679.6812,-555.7976 17690.2633,-544.2446\"/>\n<polygon fill=\"#000000\" stroke=\"#000000\" points=\"17692.8951,-546.5531 17697.0687,-536.8149 17687.7333,-541.825 17692.8951,-546.5531\"/>\n</g>\n<!-- 307 -->\n<g id=\"node308\" class=\"node\">\n<title>307</title>\n<path fill=\"#f8fceb\" stroke=\"#000000\" d=\"M18171.5,-655.5C18171.5,-655.5 17951.5,-655.5 17951.5,-655.5 17945.5,-655.5 17939.5,-649.5 17939.5,-643.5 17939.5,-643.5 17939.5,-599.5 17939.5,-599.5 17939.5,-593.5 17945.5,-587.5 17951.5,-587.5 17951.5,-587.5 18171.5,-587.5 18171.5,-587.5 18177.5,-587.5 18183.5,-593.5 18183.5,-599.5 18183.5,-599.5 18183.5,-643.5 18183.5,-643.5 18183.5,-649.5 18177.5,-655.5 18171.5,-655.5\"/>\n<text text-anchor=\"start\" x=\"18023.5\" y=\"-640.3\" font-family=\"Helvetica,sans-Serif\" font-size=\"14.00\" fill=\"#000000\">gini = 0.729</text>\n<text text-anchor=\"start\" x=\"18013.5\" y=\"-625.3\" font-family=\"Helvetica,sans-Serif\" font-size=\"14.00\" fill=\"#000000\">samples = 569</text>\n<text text-anchor=\"start\" x=\"17947.5\" y=\"-610.3\" font-family=\"Helvetica,sans-Serif\" font-size=\"14.00\" fill=\"#000000\">value = [20, 346, 283, 89, 88, 72, 5]</text>\n<text text-anchor=\"start\" x=\"18011\" y=\"-595.3\" font-family=\"Helvetica,sans-Serif\" font-size=\"14.00\" fill=\"#000000\">class = clase_1</text>\n</g>\n<!-- 306&#45;&gt;307 -->\n<g id=\"edge307\" class=\"edge\">\n<title>306&#45;&gt;307</title>\n<path fill=\"none\" stroke=\"#000000\" d=\"M18061.5,-698.8796C18061.5,-688.2134 18061.5,-676.7021 18061.5,-665.9015\"/>\n<polygon fill=\"#000000\" stroke=\"#000000\" points=\"18065.0001,-665.8149 18061.5,-655.8149 18058.0001,-665.815 18065.0001,-665.8149\"/>\n</g>\n<!-- 308 -->\n<g id=\"node309\" class=\"node\">\n<title>308</title>\n<path fill=\"#e7f6be\" stroke=\"#000000\" d=\"M18425.5,-663C18425.5,-663 18213.5,-663 18213.5,-663 18207.5,-663 18201.5,-657 18201.5,-651 18201.5,-651 18201.5,-592 18201.5,-592 18201.5,-586 18207.5,-580 18213.5,-580 18213.5,-580 18425.5,-580 18425.5,-580 18431.5,-580 18437.5,-586 18437.5,-592 18437.5,-592 18437.5,-651 18437.5,-651 18437.5,-657 18431.5,-663 18425.5,-663\"/>\n<text text-anchor=\"start\" x=\"18274\" y=\"-647.8\" font-family=\"Helvetica,sans-Serif\" font-size=\"14.00\" fill=\"#000000\">service ≤ 23.5</text>\n<text text-anchor=\"start\" x=\"18281.5\" y=\"-632.8\" font-family=\"Helvetica,sans-Serif\" font-size=\"14.00\" fill=\"#000000\">gini = 0.624</text>\n<text text-anchor=\"start\" x=\"18271.5\" y=\"-617.8\" font-family=\"Helvetica,sans-Serif\" font-size=\"14.00\" fill=\"#000000\">samples = 347</text>\n<text text-anchor=\"start\" x=\"18209.5\" y=\"-602.8\" font-family=\"Helvetica,sans-Serif\" font-size=\"14.00\" fill=\"#000000\">value = [31, 289, 161, 51, 15, 2, 0]</text>\n<text text-anchor=\"start\" x=\"18269\" y=\"-587.8\" font-family=\"Helvetica,sans-Serif\" font-size=\"14.00\" fill=\"#000000\">class = clase_1</text>\n</g>\n<!-- 306&#45;&gt;308 -->\n<g id=\"edge308\" class=\"edge\">\n<title>306&#45;&gt;308</title>\n<path fill=\"none\" stroke=\"#000000\" d=\"M18151.7359,-698.8796C18173.8307,-688.6886 18197.598,-677.7261 18220.0959,-667.3492\"/>\n<polygon fill=\"#000000\" stroke=\"#000000\" points=\"18221.7004,-670.4636 18229.3151,-663.0969 18218.7685,-664.1071 18221.7004,-670.4636\"/>\n</g>\n<!-- 309 -->\n<g id=\"node310\" class=\"node\">\n<title>309</title>\n<path fill=\"#e2f5b0\" stroke=\"#000000\" d=\"M18309,-536.5C18309,-536.5 18106,-536.5 18106,-536.5 18100,-536.5 18094,-530.5 18094,-524.5 18094,-524.5 18094,-480.5 18094,-480.5 18094,-474.5 18100,-468.5 18106,-468.5 18106,-468.5 18309,-468.5 18309,-468.5 18315,-468.5 18321,-474.5 18321,-480.5 18321,-480.5 18321,-524.5 18321,-524.5 18321,-530.5 18315,-536.5 18309,-536.5\"/>\n<text text-anchor=\"start\" x=\"18169.5\" y=\"-521.3\" font-family=\"Helvetica,sans-Serif\" font-size=\"14.00\" fill=\"#000000\">gini = 0.594</text>\n<text text-anchor=\"start\" x=\"18159.5\" y=\"-506.3\" font-family=\"Helvetica,sans-Serif\" font-size=\"14.00\" fill=\"#000000\">samples = 314</text>\n<text text-anchor=\"start\" x=\"18102\" y=\"-491.3\" font-family=\"Helvetica,sans-Serif\" font-size=\"14.00\" fill=\"#000000\">value = [27, 284, 138, 43, 9, 1, 0]</text>\n<text text-anchor=\"start\" x=\"18157\" y=\"-476.3\" font-family=\"Helvetica,sans-Serif\" font-size=\"14.00\" fill=\"#000000\">class = clase_1</text>\n</g>\n<!-- 308&#45;&gt;309 -->\n<g id=\"edge309\" class=\"edge\">\n<title>308&#45;&gt;309</title>\n<path fill=\"none\" stroke=\"#000000\" d=\"M18280.3278,-579.8796C18269.4611,-568.3337 18257.6624,-555.7976 18246.7891,-544.2446\"/>\n<polygon fill=\"#000000\" stroke=\"#000000\" points=\"18249.1988,-541.6982 18239.7964,-536.8149 18244.1014,-546.4958 18249.1988,-541.6982\"/>\n</g>\n<!-- 310 -->\n<g id=\"node311\" class=\"node\">\n<title>310</title>\n<path fill=\"#b3f5bb\" stroke=\"#000000\" d=\"M18513.5,-536.5C18513.5,-536.5 18351.5,-536.5 18351.5,-536.5 18345.5,-536.5 18339.5,-530.5 18339.5,-524.5 18339.5,-524.5 18339.5,-480.5 18339.5,-480.5 18339.5,-474.5 18345.5,-468.5 18351.5,-468.5 18351.5,-468.5 18513.5,-468.5 18513.5,-468.5 18519.5,-468.5 18525.5,-474.5 18525.5,-480.5 18525.5,-480.5 18525.5,-524.5 18525.5,-524.5 18525.5,-530.5 18519.5,-536.5 18513.5,-536.5\"/>\n<text text-anchor=\"start\" x=\"18394.5\" y=\"-521.3\" font-family=\"Helvetica,sans-Serif\" font-size=\"14.00\" fill=\"#000000\">gini = 0.696</text>\n<text text-anchor=\"start\" x=\"18388.5\" y=\"-506.3\" font-family=\"Helvetica,sans-Serif\" font-size=\"14.00\" fill=\"#000000\">samples = 33</text>\n<text text-anchor=\"start\" x=\"18347.5\" y=\"-491.3\" font-family=\"Helvetica,sans-Serif\" font-size=\"14.00\" fill=\"#000000\">value = [4, 5, 23, 8, 6, 1, 0]</text>\n<text text-anchor=\"start\" x=\"18382\" y=\"-476.3\" font-family=\"Helvetica,sans-Serif\" font-size=\"14.00\" fill=\"#000000\">class = clase_2</text>\n</g>\n<!-- 308&#45;&gt;310 -->\n<g id=\"edge310\" class=\"edge\">\n<title>308&#45;&gt;310</title>\n<path fill=\"none\" stroke=\"#000000\" d=\"M18359.0219,-579.8796C18369.9857,-568.3337 18381.8897,-555.7976 18392.8601,-544.2446\"/>\n<polygon fill=\"#000000\" stroke=\"#000000\" points=\"18395.5673,-546.4766 18399.9152,-536.8149 18390.4913,-541.6564 18395.5673,-546.4766\"/>\n</g>\n<!-- 312 -->\n<g id=\"node313\" class=\"node\">\n<title>312</title>\n<path fill=\"#f195be\" stroke=\"#000000\" d=\"M18640,-901C18640,-901 18461,-901 18461,-901 18455,-901 18449,-895 18449,-889 18449,-889 18449,-830 18449,-830 18449,-824 18455,-818 18461,-818 18461,-818 18640,-818 18640,-818 18646,-818 18652,-824 18652,-830 18652,-830 18652,-889 18652,-889 18652,-895 18646,-901 18640,-901\"/>\n<text text-anchor=\"start\" x=\"18505\" y=\"-885.8\" font-family=\"Helvetica,sans-Serif\" font-size=\"14.00\" fill=\"#000000\">service ≤ 20.0</text>\n<text text-anchor=\"start\" x=\"18512.5\" y=\"-870.8\" font-family=\"Helvetica,sans-Serif\" font-size=\"14.00\" fill=\"#000000\">gini = 0.592</text>\n<text text-anchor=\"start\" x=\"18506.5\" y=\"-855.8\" font-family=\"Helvetica,sans-Serif\" font-size=\"14.00\" fill=\"#000000\">samples = 55</text>\n<text text-anchor=\"start\" x=\"18457\" y=\"-840.8\" font-family=\"Helvetica,sans-Serif\" font-size=\"14.00\" fill=\"#000000\">value = [2, 1, 6, 10, 13, 2, 52]</text>\n<text text-anchor=\"start\" x=\"18500\" y=\"-825.8\" font-family=\"Helvetica,sans-Serif\" font-size=\"14.00\" fill=\"#000000\">class = clase_6</text>\n</g>\n<!-- 311&#45;&gt;312 -->\n<g id=\"edge312\" class=\"edge\">\n<title>311&#45;&gt;312</title>\n<path fill=\"none\" stroke=\"#000000\" d=\"M18550.5,-936.8796C18550.5,-928.6838 18550.5,-919.9891 18550.5,-911.5013\"/>\n<polygon fill=\"#000000\" stroke=\"#000000\" points=\"18554.0001,-911.298 18550.5,-901.2981 18547.0001,-911.2981 18554.0001,-911.298\"/>\n</g>\n<!-- 317 -->\n<g id=\"node318\" class=\"node\">\n<title>317</title>\n<path fill=\"#eff9d3\" stroke=\"#000000\" d=\"M19173,-901C19173,-901 18970,-901 18970,-901 18964,-901 18958,-895 18958,-889 18958,-889 18958,-830 18958,-830 18958,-824 18964,-818 18970,-818 18970,-818 19173,-818 19173,-818 19179,-818 19185,-824 19185,-830 19185,-830 19185,-889 19185,-889 19185,-895 19179,-901 19173,-901\"/>\n<text text-anchor=\"start\" x=\"19008\" y=\"-885.8\" font-family=\"Helvetica,sans-Serif\" font-size=\"14.00\" fill=\"#000000\">receiver_state ≤ 9.5</text>\n<text text-anchor=\"start\" x=\"19033.5\" y=\"-870.8\" font-family=\"Helvetica,sans-Serif\" font-size=\"14.00\" fill=\"#000000\">gini = 0.596</text>\n<text text-anchor=\"start\" x=\"19023.5\" y=\"-855.8\" font-family=\"Helvetica,sans-Serif\" font-size=\"14.00\" fill=\"#000000\">samples = 319</text>\n<text text-anchor=\"start\" x=\"18966\" y=\"-840.8\" font-family=\"Helvetica,sans-Serif\" font-size=\"14.00\" fill=\"#000000\">value = [22, 252, 183, 27, 4, 4, 1]</text>\n<text text-anchor=\"start\" x=\"19021\" y=\"-825.8\" font-family=\"Helvetica,sans-Serif\" font-size=\"14.00\" fill=\"#000000\">class = clase_1</text>\n</g>\n<!-- 311&#45;&gt;317 -->\n<g id=\"edge317\" class=\"edge\">\n<title>311&#45;&gt;317</title>\n<path fill=\"none\" stroke=\"#000000\" d=\"M18672.6514,-950.5998C18755.5388,-931.6677 18864.7518,-906.7227 18947.9362,-887.7228\"/>\n<polygon fill=\"#000000\" stroke=\"#000000\" points=\"18948.7217,-891.1336 18957.6913,-885.4947 18947.163,-884.3094 18948.7217,-891.1336\"/>\n</g>\n<!-- 313 -->\n<g id=\"node314\" class=\"node\">\n<title>313</title>\n<path fill=\"#ec6da6\" stroke=\"#000000\" d=\"M18527.5,-774.5C18527.5,-774.5 18365.5,-774.5 18365.5,-774.5 18359.5,-774.5 18353.5,-768.5 18353.5,-762.5 18353.5,-762.5 18353.5,-718.5 18353.5,-718.5 18353.5,-712.5 18359.5,-706.5 18365.5,-706.5 18365.5,-706.5 18527.5,-706.5 18527.5,-706.5 18533.5,-706.5 18539.5,-712.5 18539.5,-718.5 18539.5,-718.5 18539.5,-762.5 18539.5,-762.5 18539.5,-768.5 18533.5,-774.5 18527.5,-774.5\"/>\n<text text-anchor=\"start\" x=\"18408.5\" y=\"-759.3\" font-family=\"Helvetica,sans-Serif\" font-size=\"14.00\" fill=\"#000000\">gini = 0.411</text>\n<text text-anchor=\"start\" x=\"18402.5\" y=\"-744.3\" font-family=\"Helvetica,sans-Serif\" font-size=\"14.00\" fill=\"#000000\">samples = 23</text>\n<text text-anchor=\"start\" x=\"18361.5\" y=\"-729.3\" font-family=\"Helvetica,sans-Serif\" font-size=\"14.00\" fill=\"#000000\">value = [0, 0, 3, 2, 3, 1, 28]</text>\n<text text-anchor=\"start\" x=\"18396\" y=\"-714.3\" font-family=\"Helvetica,sans-Serif\" font-size=\"14.00\" fill=\"#000000\">class = clase_6</text>\n</g>\n<!-- 312&#45;&gt;313 -->\n<g id=\"edge313\" class=\"edge\">\n<title>312&#45;&gt;313</title>\n<path fill=\"none\" stroke=\"#000000\" d=\"M18514.1258,-817.8796C18504.1314,-806.4436 18493.288,-794.0363 18483.2714,-782.575\"/>\n<polygon fill=\"#000000\" stroke=\"#000000\" points=\"18485.7055,-780.0414 18476.4895,-774.8149 18480.4347,-784.6479 18485.7055,-780.0414\"/>\n</g>\n<!-- 314 -->\n<g id=\"node315\" class=\"node\">\n<title>314</title>\n<path fill=\"#f6b8d4\" stroke=\"#000000\" d=\"M18739.5,-782C18739.5,-782 18569.5,-782 18569.5,-782 18563.5,-782 18557.5,-776 18557.5,-770 18557.5,-770 18557.5,-711 18557.5,-711 18557.5,-705 18563.5,-699 18569.5,-699 18569.5,-699 18739.5,-699 18739.5,-699 18745.5,-699 18751.5,-705 18751.5,-711 18751.5,-711 18751.5,-770 18751.5,-770 18751.5,-776 18745.5,-782 18739.5,-782\"/>\n<text text-anchor=\"start\" x=\"18609\" y=\"-766.8\" font-family=\"Helvetica,sans-Serif\" font-size=\"14.00\" fill=\"#000000\">service ≤ 22.5</text>\n<text text-anchor=\"start\" x=\"18616.5\" y=\"-751.8\" font-family=\"Helvetica,sans-Serif\" font-size=\"14.00\" fill=\"#000000\">gini = 0.686</text>\n<text text-anchor=\"start\" x=\"18610.5\" y=\"-736.8\" font-family=\"Helvetica,sans-Serif\" font-size=\"14.00\" fill=\"#000000\">samples = 32</text>\n<text text-anchor=\"start\" x=\"18565.5\" y=\"-721.8\" font-family=\"Helvetica,sans-Serif\" font-size=\"14.00\" fill=\"#000000\">value = [2, 1, 3, 8, 10, 1, 24]</text>\n<text text-anchor=\"start\" x=\"18604\" y=\"-706.8\" font-family=\"Helvetica,sans-Serif\" font-size=\"14.00\" fill=\"#000000\">class = clase_6</text>\n</g>\n<!-- 312&#45;&gt;314 -->\n<g id=\"edge314\" class=\"edge\">\n<title>312&#45;&gt;314</title>\n<path fill=\"none\" stroke=\"#000000\" d=\"M18586.8742,-817.8796C18594.7452,-808.8733 18603.1429,-799.2644 18611.2485,-789.9897\"/>\n<polygon fill=\"#000000\" stroke=\"#000000\" points=\"18614.0254,-792.131 18617.9706,-782.2981 18608.7546,-787.5246 18614.0254,-792.131\"/>\n</g>\n<!-- 315 -->\n<g id=\"node316\" class=\"node\">\n<title>315</title>\n<path fill=\"#fad7e7\" stroke=\"#000000\" d=\"M18637.5,-655.5C18637.5,-655.5 18467.5,-655.5 18467.5,-655.5 18461.5,-655.5 18455.5,-649.5 18455.5,-643.5 18455.5,-643.5 18455.5,-599.5 18455.5,-599.5 18455.5,-593.5 18461.5,-587.5 18467.5,-587.5 18467.5,-587.5 18637.5,-587.5 18637.5,-587.5 18643.5,-587.5 18649.5,-593.5 18649.5,-599.5 18649.5,-599.5 18649.5,-643.5 18649.5,-643.5 18649.5,-649.5 18643.5,-655.5 18637.5,-655.5\"/>\n<text text-anchor=\"start\" x=\"18514.5\" y=\"-640.3\" font-family=\"Helvetica,sans-Serif\" font-size=\"14.00\" fill=\"#000000\">gini = 0.705</text>\n<text text-anchor=\"start\" x=\"18508.5\" y=\"-625.3\" font-family=\"Helvetica,sans-Serif\" font-size=\"14.00\" fill=\"#000000\">samples = 24</text>\n<text text-anchor=\"start\" x=\"18463.5\" y=\"-610.3\" font-family=\"Helvetica,sans-Serif\" font-size=\"14.00\" fill=\"#000000\">value = [1, 1, 3, 5, 10, 0, 15]</text>\n<text text-anchor=\"start\" x=\"18502\" y=\"-595.3\" font-family=\"Helvetica,sans-Serif\" font-size=\"14.00\" fill=\"#000000\">class = clase_6</text>\n</g>\n<!-- 314&#45;&gt;315 -->\n<g id=\"edge315\" class=\"edge\">\n<title>314&#45;&gt;315</title>\n<path fill=\"none\" stroke=\"#000000\" d=\"M18618.8253,-698.8796C18609.0231,-687.4436 18598.3882,-675.0363 18588.5643,-663.575\"/>\n<polygon fill=\"#000000\" stroke=\"#000000\" points=\"18591.0782,-661.1297 18581.9128,-655.8149 18585.7633,-665.6853 18591.0782,-661.1297\"/>\n</g>\n<!-- 316 -->\n<g id=\"node317\" class=\"node\">\n<title>316</title>\n<path fill=\"#f193bd\" stroke=\"#000000\" d=\"M18833.5,-655.5C18833.5,-655.5 18679.5,-655.5 18679.5,-655.5 18673.5,-655.5 18667.5,-649.5 18667.5,-643.5 18667.5,-643.5 18667.5,-599.5 18667.5,-599.5 18667.5,-593.5 18673.5,-587.5 18679.5,-587.5 18679.5,-587.5 18833.5,-587.5 18833.5,-587.5 18839.5,-587.5 18845.5,-593.5 18845.5,-599.5 18845.5,-599.5 18845.5,-643.5 18845.5,-643.5 18845.5,-649.5 18839.5,-655.5 18833.5,-655.5\"/>\n<text text-anchor=\"start\" x=\"18718.5\" y=\"-640.3\" font-family=\"Helvetica,sans-Serif\" font-size=\"14.00\" fill=\"#000000\">gini = 0.531</text>\n<text text-anchor=\"start\" x=\"18717\" y=\"-625.3\" font-family=\"Helvetica,sans-Serif\" font-size=\"14.00\" fill=\"#000000\">samples = 8</text>\n<text text-anchor=\"start\" x=\"18675.5\" y=\"-610.3\" font-family=\"Helvetica,sans-Serif\" font-size=\"14.00\" fill=\"#000000\">value = [1, 0, 0, 3, 0, 1, 9]</text>\n<text text-anchor=\"start\" x=\"18706\" y=\"-595.3\" font-family=\"Helvetica,sans-Serif\" font-size=\"14.00\" fill=\"#000000\">class = clase_6</text>\n</g>\n<!-- 314&#45;&gt;316 -->\n<g id=\"edge316\" class=\"edge\">\n<title>314&#45;&gt;316</title>\n<path fill=\"none\" stroke=\"#000000\" d=\"M18690.1747,-698.8796C18699.9769,-687.4436 18710.6118,-675.0363 18720.4357,-663.575\"/>\n<polygon fill=\"#000000\" stroke=\"#000000\" points=\"18723.2367,-665.6853 18727.0872,-655.8149 18717.9218,-661.1297 18723.2367,-665.6853\"/>\n</g>\n<!-- 318 -->\n<g id=\"node319\" class=\"node\">\n<title>318</title>\n<path fill=\"#eff9d2\" stroke=\"#000000\" d=\"M19173,-782C19173,-782 18970,-782 18970,-782 18964,-782 18958,-776 18958,-770 18958,-770 18958,-711 18958,-711 18958,-705 18964,-699 18970,-699 18970,-699 19173,-699 19173,-699 19179,-699 19185,-705 19185,-711 19185,-711 19185,-770 19185,-770 19185,-776 19179,-782 19173,-782\"/>\n<text text-anchor=\"start\" x=\"19026\" y=\"-766.8\" font-family=\"Helvetica,sans-Serif\" font-size=\"14.00\" fill=\"#000000\">service ≤ 20.0</text>\n<text text-anchor=\"start\" x=\"19033.5\" y=\"-751.8\" font-family=\"Helvetica,sans-Serif\" font-size=\"14.00\" fill=\"#000000\">gini = 0.587</text>\n<text text-anchor=\"start\" x=\"19023.5\" y=\"-736.8\" font-family=\"Helvetica,sans-Serif\" font-size=\"14.00\" fill=\"#000000\">samples = 313</text>\n<text text-anchor=\"start\" x=\"18966\" y=\"-721.8\" font-family=\"Helvetica,sans-Serif\" font-size=\"14.00\" fill=\"#000000\">value = [22, 249, 181, 27, 3, 0, 0]</text>\n<text text-anchor=\"start\" x=\"19021\" y=\"-706.8\" font-family=\"Helvetica,sans-Serif\" font-size=\"14.00\" fill=\"#000000\">class = clase_1</text>\n</g>\n<!-- 317&#45;&gt;318 -->\n<g id=\"edge318\" class=\"edge\">\n<title>317&#45;&gt;318</title>\n<path fill=\"none\" stroke=\"#000000\" d=\"M19071.5,-817.8796C19071.5,-809.6838 19071.5,-800.9891 19071.5,-792.5013\"/>\n<polygon fill=\"#000000\" stroke=\"#000000\" points=\"19075.0001,-792.298 19071.5,-782.2981 19068.0001,-792.2981 19075.0001,-792.298\"/>\n</g>\n<!-- 323 -->\n<g id=\"node324\" class=\"node\">\n<title>323</title>\n<path fill=\"#f5e6fc\" stroke=\"#000000\" d=\"M19479.5,-782C19479.5,-782 19325.5,-782 19325.5,-782 19319.5,-782 19313.5,-776 19313.5,-770 19313.5,-770 19313.5,-711 19313.5,-711 19313.5,-705 19319.5,-699 19325.5,-699 19325.5,-699 19479.5,-699 19479.5,-699 19485.5,-699 19491.5,-705 19491.5,-711 19491.5,-711 19491.5,-770 19491.5,-770 19491.5,-776 19485.5,-782 19479.5,-782\"/>\n<text text-anchor=\"start\" x=\"19357\" y=\"-766.8\" font-family=\"Helvetica,sans-Serif\" font-size=\"14.00\" fill=\"#000000\">service ≤ 20.5</text>\n<text text-anchor=\"start\" x=\"19364.5\" y=\"-751.8\" font-family=\"Helvetica,sans-Serif\" font-size=\"14.00\" fill=\"#000000\">gini = 0.744</text>\n<text text-anchor=\"start\" x=\"19363\" y=\"-736.8\" font-family=\"Helvetica,sans-Serif\" font-size=\"14.00\" fill=\"#000000\">samples = 6</text>\n<text text-anchor=\"start\" x=\"19321.5\" y=\"-721.8\" font-family=\"Helvetica,sans-Serif\" font-size=\"14.00\" fill=\"#000000\">value = [0, 3, 2, 0, 1, 4, 1]</text>\n<text text-anchor=\"start\" x=\"19352\" y=\"-706.8\" font-family=\"Helvetica,sans-Serif\" font-size=\"14.00\" fill=\"#000000\">class = clase_5</text>\n</g>\n<!-- 317&#45;&gt;323 -->\n<g id=\"edge323\" class=\"edge\">\n<title>317&#45;&gt;323</title>\n<path fill=\"none\" stroke=\"#000000\" d=\"M19185.4114,-818.547C19223.8643,-804.7225 19266.4455,-789.4138 19303.637,-776.0429\"/>\n<polygon fill=\"#000000\" stroke=\"#000000\" points=\"19305.2454,-779.184 19313.4716,-772.5072 19302.8771,-772.5968 19305.2454,-779.184\"/>\n</g>\n<!-- 319 -->\n<g id=\"node320\" class=\"node\">\n<title>319</title>\n<path fill=\"#dcf29e\" stroke=\"#000000\" d=\"M19045.5,-655.5C19045.5,-655.5 18875.5,-655.5 18875.5,-655.5 18869.5,-655.5 18863.5,-649.5 18863.5,-643.5 18863.5,-643.5 18863.5,-599.5 18863.5,-599.5 18863.5,-593.5 18869.5,-587.5 18875.5,-587.5 18875.5,-587.5 19045.5,-587.5 19045.5,-587.5 19051.5,-587.5 19057.5,-593.5 19057.5,-599.5 19057.5,-599.5 19057.5,-643.5 19057.5,-643.5 19057.5,-649.5 19051.5,-655.5 19045.5,-655.5\"/>\n<text text-anchor=\"start\" x=\"18931\" y=\"-640.3\" font-family=\"Helvetica,sans-Serif\" font-size=\"14.00\" fill=\"#000000\">gini = 0.5</text>\n<text text-anchor=\"start\" x=\"18916.5\" y=\"-625.3\" font-family=\"Helvetica,sans-Serif\" font-size=\"14.00\" fill=\"#000000\">samples = 49</text>\n<text text-anchor=\"start\" x=\"18871.5\" y=\"-610.3\" font-family=\"Helvetica,sans-Serif\" font-size=\"14.00\" fill=\"#000000\">value = [22, 48, 5, 0, 0, 0, 0]</text>\n<text text-anchor=\"start\" x=\"18910\" y=\"-595.3\" font-family=\"Helvetica,sans-Serif\" font-size=\"14.00\" fill=\"#000000\">class = clase_1</text>\n</g>\n<!-- 318&#45;&gt;319 -->\n<g id=\"edge319\" class=\"edge\">\n<title>318&#45;&gt;319</title>\n<path fill=\"none\" stroke=\"#000000\" d=\"M19032.6776,-698.8796C19021.9079,-687.3337 19010.2146,-674.7976 18999.4383,-663.2446\"/>\n<polygon fill=\"#000000\" stroke=\"#000000\" points=\"19001.8885,-660.7402 18992.508,-655.8149 18996.7697,-665.5149 19001.8885,-660.7402\"/>\n</g>\n<!-- 320 -->\n<g id=\"node321\" class=\"node\">\n<title>320</title>\n<path fill=\"#f7fcea\" stroke=\"#000000\" d=\"M19283,-663C19283,-663 19088,-663 19088,-663 19082,-663 19076,-657 19076,-651 19076,-651 19076,-592 19076,-592 19076,-586 19082,-580 19088,-580 19088,-580 19283,-580 19283,-580 19289,-580 19295,-586 19295,-592 19295,-592 19295,-651 19295,-651 19295,-657 19289,-663 19283,-663\"/>\n<text text-anchor=\"start\" x=\"19140\" y=\"-647.8\" font-family=\"Helvetica,sans-Serif\" font-size=\"14.00\" fill=\"#000000\">service ≤ 22.5</text>\n<text text-anchor=\"start\" x=\"19147.5\" y=\"-632.8\" font-family=\"Helvetica,sans-Serif\" font-size=\"14.00\" fill=\"#000000\">gini = 0.565</text>\n<text text-anchor=\"start\" x=\"19137.5\" y=\"-617.8\" font-family=\"Helvetica,sans-Serif\" font-size=\"14.00\" fill=\"#000000\">samples = 264</text>\n<text text-anchor=\"start\" x=\"19084\" y=\"-602.8\" font-family=\"Helvetica,sans-Serif\" font-size=\"14.00\" fill=\"#000000\">value = [0, 201, 176, 27, 3, 0, 0]</text>\n<text text-anchor=\"start\" x=\"19135\" y=\"-587.8\" font-family=\"Helvetica,sans-Serif\" font-size=\"14.00\" fill=\"#000000\">class = clase_1</text>\n</g>\n<!-- 318&#45;&gt;320 -->\n<g id=\"edge320\" class=\"edge\">\n<title>318&#45;&gt;320</title>\n<path fill=\"none\" stroke=\"#000000\" d=\"M19111.3717,-698.8796C19120.0858,-689.7832 19129.3888,-680.0722 19138.3562,-670.7116\"/>\n<polygon fill=\"#000000\" stroke=\"#000000\" points=\"19141.0678,-672.9405 19145.4581,-663.2981 19136.013,-668.098 19141.0678,-672.9405\"/>\n</g>\n<!-- 321 -->\n<g id=\"node322\" class=\"node\">\n<title>321</title>\n<path fill=\"#fdfef8\" stroke=\"#000000\" d=\"M19168,-536.5C19168,-536.5 18973,-536.5 18973,-536.5 18967,-536.5 18961,-530.5 18961,-524.5 18961,-524.5 18961,-480.5 18961,-480.5 18961,-474.5 18967,-468.5 18973,-468.5 18973,-468.5 19168,-468.5 19168,-468.5 19174,-468.5 19180,-474.5 19180,-480.5 19180,-480.5 19180,-524.5 19180,-524.5 19180,-530.5 19174,-536.5 19168,-536.5\"/>\n<text text-anchor=\"start\" x=\"19032.5\" y=\"-521.3\" font-family=\"Helvetica,sans-Serif\" font-size=\"14.00\" fill=\"#000000\">gini = 0.541</text>\n<text text-anchor=\"start\" x=\"19022.5\" y=\"-506.3\" font-family=\"Helvetica,sans-Serif\" font-size=\"14.00\" fill=\"#000000\">samples = 174</text>\n<text text-anchor=\"start\" x=\"18969\" y=\"-491.3\" font-family=\"Helvetica,sans-Serif\" font-size=\"14.00\" fill=\"#000000\">value = [0, 133, 128, 12, 0, 0, 0]</text>\n<text text-anchor=\"start\" x=\"19020\" y=\"-476.3\" font-family=\"Helvetica,sans-Serif\" font-size=\"14.00\" fill=\"#000000\">class = clase_1</text>\n</g>\n<!-- 320&#45;&gt;321 -->\n<g id=\"edge321\" class=\"edge\">\n<title>320&#45;&gt;321</title>\n<path fill=\"none\" stroke=\"#000000\" d=\"M19145.2786,-579.8796C19134.1208,-568.3337 19122.0061,-555.7976 19110.8414,-544.2446\"/>\n<polygon fill=\"#000000\" stroke=\"#000000\" points=\"19113.1275,-541.5736 19103.6615,-536.8149 19108.0939,-546.4381 19113.1275,-541.5736\"/>\n</g>\n<!-- 322 -->\n<g id=\"node323\" class=\"node\">\n<title>322</title>\n<path fill=\"#eef9d1\" stroke=\"#000000\" d=\"M19389,-536.5C19389,-536.5 19210,-536.5 19210,-536.5 19204,-536.5 19198,-530.5 19198,-524.5 19198,-524.5 19198,-480.5 19198,-480.5 19198,-474.5 19204,-468.5 19210,-468.5 19210,-468.5 19389,-468.5 19389,-468.5 19395,-468.5 19401,-474.5 19401,-480.5 19401,-480.5 19401,-524.5 19401,-524.5 19401,-530.5 19395,-536.5 19389,-536.5\"/>\n<text text-anchor=\"start\" x=\"19261.5\" y=\"-521.3\" font-family=\"Helvetica,sans-Serif\" font-size=\"14.00\" fill=\"#000000\">gini = 0.601</text>\n<text text-anchor=\"start\" x=\"19255.5\" y=\"-506.3\" font-family=\"Helvetica,sans-Serif\" font-size=\"14.00\" fill=\"#000000\">samples = 90</text>\n<text text-anchor=\"start\" x=\"19206\" y=\"-491.3\" font-family=\"Helvetica,sans-Serif\" font-size=\"14.00\" fill=\"#000000\">value = [0, 68, 48, 15, 3, 0, 0]</text>\n<text text-anchor=\"start\" x=\"19249\" y=\"-476.3\" font-family=\"Helvetica,sans-Serif\" font-size=\"14.00\" fill=\"#000000\">class = clase_1</text>\n</g>\n<!-- 320&#45;&gt;322 -->\n<g id=\"edge322\" class=\"edge\">\n<title>320&#45;&gt;322</title>\n<path fill=\"none\" stroke=\"#000000\" d=\"M19225.3717,-579.8796C19236.4324,-568.3337 19248.4418,-555.7976 19259.5094,-544.2446\"/>\n<polygon fill=\"#000000\" stroke=\"#000000\" points=\"19262.2365,-546.4573 19266.6269,-536.8149 19257.1817,-541.6149 19262.2365,-546.4573\"/>\n</g>\n<!-- 324 -->\n<g id=\"node325\" class=\"node\">\n<title>324</title>\n<path fill=\"#eccef8\" stroke=\"#000000\" d=\"M19479.5,-655.5C19479.5,-655.5 19325.5,-655.5 19325.5,-655.5 19319.5,-655.5 19313.5,-649.5 19313.5,-643.5 19313.5,-643.5 19313.5,-599.5 19313.5,-599.5 19313.5,-593.5 19319.5,-587.5 19325.5,-587.5 19325.5,-587.5 19479.5,-587.5 19479.5,-587.5 19485.5,-587.5 19491.5,-593.5 19491.5,-599.5 19491.5,-599.5 19491.5,-643.5 19491.5,-643.5 19491.5,-649.5 19485.5,-655.5 19479.5,-655.5\"/>\n<text text-anchor=\"start\" x=\"19369\" y=\"-640.3\" font-family=\"Helvetica,sans-Serif\" font-size=\"14.00\" fill=\"#000000\">gini = 0.74</text>\n<text text-anchor=\"start\" x=\"19363\" y=\"-625.3\" font-family=\"Helvetica,sans-Serif\" font-size=\"14.00\" fill=\"#000000\">samples = 5</text>\n<text text-anchor=\"start\" x=\"19321.5\" y=\"-610.3\" font-family=\"Helvetica,sans-Serif\" font-size=\"14.00\" fill=\"#000000\">value = [0, 2, 2, 0, 1, 4, 1]</text>\n<text text-anchor=\"start\" x=\"19352\" y=\"-595.3\" font-family=\"Helvetica,sans-Serif\" font-size=\"14.00\" fill=\"#000000\">class = clase_5</text>\n</g>\n<!-- 323&#45;&gt;324 -->\n<g id=\"edge324\" class=\"edge\">\n<title>323&#45;&gt;324</title>\n<path fill=\"none\" stroke=\"#000000\" d=\"M19402.5,-698.8796C19402.5,-688.2134 19402.5,-676.7021 19402.5,-665.9015\"/>\n<polygon fill=\"#000000\" stroke=\"#000000\" points=\"19406.0001,-665.8149 19402.5,-655.8149 19399.0001,-665.815 19406.0001,-665.8149\"/>\n</g>\n<!-- 325 -->\n<g id=\"node326\" class=\"node\">\n<title>325</title>\n<path fill=\"#b7e539\" stroke=\"#000000\" d=\"M19675.5,-655.5C19675.5,-655.5 19521.5,-655.5 19521.5,-655.5 19515.5,-655.5 19509.5,-649.5 19509.5,-643.5 19509.5,-643.5 19509.5,-599.5 19509.5,-599.5 19509.5,-593.5 19515.5,-587.5 19521.5,-587.5 19521.5,-587.5 19675.5,-587.5 19675.5,-587.5 19681.5,-587.5 19687.5,-593.5 19687.5,-599.5 19687.5,-599.5 19687.5,-643.5 19687.5,-643.5 19687.5,-649.5 19681.5,-655.5 19675.5,-655.5\"/>\n<text text-anchor=\"start\" x=\"19569\" y=\"-640.3\" font-family=\"Helvetica,sans-Serif\" font-size=\"14.00\" fill=\"#000000\">gini = 0.0</text>\n<text text-anchor=\"start\" x=\"19559\" y=\"-625.3\" font-family=\"Helvetica,sans-Serif\" font-size=\"14.00\" fill=\"#000000\">samples = 1</text>\n<text text-anchor=\"start\" x=\"19517.5\" y=\"-610.3\" font-family=\"Helvetica,sans-Serif\" font-size=\"14.00\" fill=\"#000000\">value = [0, 1, 0, 0, 0, 0, 0]</text>\n<text text-anchor=\"start\" x=\"19548\" y=\"-595.3\" font-family=\"Helvetica,sans-Serif\" font-size=\"14.00\" fill=\"#000000\">class = clase_1</text>\n</g>\n<!-- 323&#45;&gt;325 -->\n<g id=\"edge325\" class=\"edge\">\n<title>323&#45;&gt;325</title>\n<path fill=\"none\" stroke=\"#000000\" d=\"M19471.0513,-698.8796C19491.3414,-686.5606 19513.4883,-673.1143 19533.5439,-660.9376\"/>\n<polygon fill=\"#000000\" stroke=\"#000000\" points=\"19535.5659,-663.8046 19542.2974,-655.623 19531.933,-657.8211 19535.5659,-663.8046\"/>\n</g>\n<!-- 327 -->\n<g id=\"node328\" class=\"node\">\n<title>327</title>\n<path fill=\"#f4fbe0\" stroke=\"#000000\" d=\"M17831.5,-1734C17831.5,-1734 17479.5,-1734 17479.5,-1734 17473.5,-1734 17467.5,-1728 17467.5,-1722 17467.5,-1722 17467.5,-1663 17467.5,-1663 17467.5,-1657 17473.5,-1651 17479.5,-1651 17479.5,-1651 17831.5,-1651 17831.5,-1651 17837.5,-1651 17843.5,-1657 17843.5,-1663 17843.5,-1663 17843.5,-1722 17843.5,-1722 17843.5,-1728 17837.5,-1734 17831.5,-1734\"/>\n<text text-anchor=\"start\" x=\"17610\" y=\"-1718.8\" font-family=\"Helvetica,sans-Serif\" font-size=\"14.00\" fill=\"#000000\">service ≤ 25.5</text>\n<text text-anchor=\"start\" x=\"17617.5\" y=\"-1703.8\" font-family=\"Helvetica,sans-Serif\" font-size=\"14.00\" fill=\"#000000\">gini = 0.759</text>\n<text text-anchor=\"start\" x=\"17599.5\" y=\"-1688.8\" font-family=\"Helvetica,sans-Serif\" font-size=\"14.00\" fill=\"#000000\">samples = 68068</text>\n<text text-anchor=\"start\" x=\"17475.5\" y=\"-1673.8\" font-family=\"Helvetica,sans-Serif\" font-size=\"14.00\" fill=\"#000000\">value = [2337, 40061, 27507, 15981, 8189, 4520, 9028]</text>\n<text text-anchor=\"start\" x=\"17605\" y=\"-1658.8\" font-family=\"Helvetica,sans-Serif\" font-size=\"14.00\" fill=\"#000000\">class = clase_1</text>\n</g>\n<!-- 326&#45;&gt;327 -->\n<g id=\"edge327\" class=\"edge\">\n<title>326&#45;&gt;327</title>\n<path fill=\"none\" stroke=\"#000000\" d=\"M17655.5,-1769.8796C17655.5,-1761.6838 17655.5,-1752.9891 17655.5,-1744.5013\"/>\n<polygon fill=\"#000000\" stroke=\"#000000\" points=\"17659.0001,-1744.298 17655.5,-1734.2981 17652.0001,-1744.2981 17659.0001,-1744.298\"/>\n</g>\n<!-- 344 -->\n<g id=\"node345\" class=\"node\">\n<title>344</title>\n<path fill=\"#e4f5b6\" stroke=\"#000000\" d=\"M18898,-1734C18898,-1734 18653,-1734 18653,-1734 18647,-1734 18641,-1728 18641,-1722 18641,-1722 18641,-1663 18641,-1663 18641,-1657 18647,-1651 18653,-1651 18653,-1651 18898,-1651 18898,-1651 18904,-1651 18910,-1657 18910,-1663 18910,-1663 18910,-1722 18910,-1722 18910,-1728 18904,-1734 18898,-1734\"/>\n<text text-anchor=\"start\" x=\"18730\" y=\"-1718.8\" font-family=\"Helvetica,sans-Serif\" font-size=\"14.00\" fill=\"#000000\">service ≤ 25.5</text>\n<text text-anchor=\"start\" x=\"18737.5\" y=\"-1703.8\" font-family=\"Helvetica,sans-Serif\" font-size=\"14.00\" fill=\"#000000\">gini = 0.512</text>\n<text text-anchor=\"start\" x=\"18719.5\" y=\"-1688.8\" font-family=\"Helvetica,sans-Serif\" font-size=\"14.00\" fill=\"#000000\">samples = 11785</text>\n<text text-anchor=\"start\" x=\"18649\" y=\"-1673.8\" font-family=\"Helvetica,sans-Serif\" font-size=\"14.00\" fill=\"#000000\">value = [6695, 11115, 727, 42, 3, 0, 21]</text>\n<text text-anchor=\"start\" x=\"18725\" y=\"-1658.8\" font-family=\"Helvetica,sans-Serif\" font-size=\"14.00\" fill=\"#000000\">class = clase_1</text>\n</g>\n<!-- 326&#45;&gt;344 -->\n<g id=\"edge344\" class=\"edge\">\n<title>326&#45;&gt;344</title>\n<path fill=\"none\" stroke=\"#000000\" d=\"M17843.5941,-1791.515C18065.5561,-1767.9315 18429.784,-1729.2323 18630.8561,-1707.8684\"/>\n<polygon fill=\"#000000\" stroke=\"#000000\" points=\"18631.3243,-1711.3385 18640.8985,-1706.8014 18630.5846,-1704.3776 18631.3243,-1711.3385\"/>\n</g>\n<!-- 328 -->\n<g id=\"node329\" class=\"node\">\n<title>328</title>\n<path fill=\"#f4fbdf\" stroke=\"#000000\" d=\"M17669.5,-1615C17669.5,-1615 17317.5,-1615 17317.5,-1615 17311.5,-1615 17305.5,-1609 17305.5,-1603 17305.5,-1603 17305.5,-1544 17305.5,-1544 17305.5,-1538 17311.5,-1532 17317.5,-1532 17317.5,-1532 17669.5,-1532 17669.5,-1532 17675.5,-1532 17681.5,-1538 17681.5,-1544 17681.5,-1544 17681.5,-1603 17681.5,-1603 17681.5,-1609 17675.5,-1615 17669.5,-1615\"/>\n<text text-anchor=\"start\" x=\"17430\" y=\"-1599.8\" font-family=\"Helvetica,sans-Serif\" font-size=\"14.00\" fill=\"#000000\">receiver_state ≤ 0.5</text>\n<text text-anchor=\"start\" x=\"17455.5\" y=\"-1584.8\" font-family=\"Helvetica,sans-Serif\" font-size=\"14.00\" fill=\"#000000\">gini = 0.755</text>\n<text text-anchor=\"start\" x=\"17437.5\" y=\"-1569.8\" font-family=\"Helvetica,sans-Serif\" font-size=\"14.00\" fill=\"#000000\">samples = 67304</text>\n<text text-anchor=\"start\" x=\"17313.5\" y=\"-1554.8\" font-family=\"Helvetica,sans-Serif\" font-size=\"14.00\" fill=\"#000000\">value = [2337, 40052, 27488, 15930, 8119, 4410, 8070]</text>\n<text text-anchor=\"start\" x=\"17443\" y=\"-1539.8\" font-family=\"Helvetica,sans-Serif\" font-size=\"14.00\" fill=\"#000000\">class = clase_1</text>\n</g>\n<!-- 327&#45;&gt;328 -->\n<g id=\"edge328\" class=\"edge\">\n<title>327&#45;&gt;328</title>\n<path fill=\"none\" stroke=\"#000000\" d=\"M17598.8403,-1650.8796C17585.7684,-1641.2774 17571.7641,-1630.9903 17558.3727,-1621.1534\"/>\n<polygon fill=\"#000000\" stroke=\"#000000\" points=\"17560.2591,-1618.1963 17550.1277,-1615.0969 17556.115,-1623.8378 17560.2591,-1618.1963\"/>\n</g>\n<!-- 337 -->\n<g id=\"node338\" class=\"node\">\n<title>337</title>\n<path fill=\"#eb67a2\" stroke=\"#000000\" d=\"M17923.5,-1615C17923.5,-1615 17711.5,-1615 17711.5,-1615 17705.5,-1615 17699.5,-1609 17699.5,-1603 17699.5,-1603 17699.5,-1544 17699.5,-1544 17699.5,-1538 17705.5,-1532 17711.5,-1532 17711.5,-1532 17923.5,-1532 17923.5,-1532 17929.5,-1532 17935.5,-1538 17935.5,-1544 17935.5,-1544 17935.5,-1603 17935.5,-1603 17935.5,-1609 17929.5,-1615 17923.5,-1615\"/>\n<text text-anchor=\"start\" x=\"17754\" y=\"-1599.8\" font-family=\"Helvetica,sans-Serif\" font-size=\"14.00\" fill=\"#000000\">receiver_state ≤ 0.5</text>\n<text text-anchor=\"start\" x=\"17779.5\" y=\"-1584.8\" font-family=\"Helvetica,sans-Serif\" font-size=\"14.00\" fill=\"#000000\">gini = 0.367</text>\n<text text-anchor=\"start\" x=\"17769.5\" y=\"-1569.8\" font-family=\"Helvetica,sans-Serif\" font-size=\"14.00\" fill=\"#000000\">samples = 764</text>\n<text text-anchor=\"start\" x=\"17707.5\" y=\"-1554.8\" font-family=\"Helvetica,sans-Serif\" font-size=\"14.00\" fill=\"#000000\">value = [0, 9, 19, 51, 70, 110, 958]</text>\n<text text-anchor=\"start\" x=\"17767\" y=\"-1539.8\" font-family=\"Helvetica,sans-Serif\" font-size=\"14.00\" fill=\"#000000\">class = clase_6</text>\n</g>\n<!-- 327&#45;&gt;337 -->\n<g id=\"edge337\" class=\"edge\">\n<title>327&#45;&gt;337</title>\n<path fill=\"none\" stroke=\"#000000\" d=\"M17712.1597,-1650.8796C17725.2316,-1641.2774 17739.2359,-1630.9903 17752.6273,-1621.1534\"/>\n<polygon fill=\"#000000\" stroke=\"#000000\" points=\"17754.885,-1623.8378 17760.8723,-1615.0969 17750.7409,-1618.1963 17754.885,-1623.8378\"/>\n</g>\n<!-- 329 -->\n<g id=\"node330\" class=\"node\">\n<title>329</title>\n<path fill=\"#edf9ce\" stroke=\"#000000\" d=\"M17303.5,-1488.5C17303.5,-1488.5 16959.5,-1488.5 16959.5,-1488.5 16953.5,-1488.5 16947.5,-1482.5 16947.5,-1476.5 16947.5,-1476.5 16947.5,-1432.5 16947.5,-1432.5 16947.5,-1426.5 16953.5,-1420.5 16959.5,-1420.5 16959.5,-1420.5 17303.5,-1420.5 17303.5,-1420.5 17309.5,-1420.5 17315.5,-1426.5 17315.5,-1432.5 17315.5,-1432.5 17315.5,-1476.5 17315.5,-1476.5 17315.5,-1482.5 17309.5,-1488.5 17303.5,-1488.5\"/>\n<text text-anchor=\"start\" x=\"17093.5\" y=\"-1473.3\" font-family=\"Helvetica,sans-Serif\" font-size=\"14.00\" fill=\"#000000\">gini = 0.692</text>\n<text text-anchor=\"start\" x=\"17075.5\" y=\"-1458.3\" font-family=\"Helvetica,sans-Serif\" font-size=\"14.00\" fill=\"#000000\">samples = 49106</text>\n<text text-anchor=\"start\" x=\"16955.5\" y=\"-1443.3\" font-family=\"Helvetica,sans-Serif\" font-size=\"14.00\" fill=\"#000000\">value = [1689, 35503, 21572, 9939, 4206, 2046, 2666]</text>\n<text text-anchor=\"start\" x=\"17081\" y=\"-1428.3\" font-family=\"Helvetica,sans-Serif\" font-size=\"14.00\" fill=\"#000000\">class = clase_1</text>\n</g>\n<!-- 328&#45;&gt;329 -->\n<g id=\"edge329\" class=\"edge\">\n<title>328&#45;&gt;329</title>\n<path fill=\"none\" stroke=\"#000000\" d=\"M17367.1441,-1531.9631C17327.3751,-1518.8899 17283.7224,-1504.5399 17244.9111,-1491.7816\"/>\n<polygon fill=\"#000000\" stroke=\"#000000\" points=\"17245.7464,-1488.3719 17235.1535,-1488.5739 17243.5603,-1495.0218 17245.7464,-1488.3719\"/>\n</g>\n<!-- 330 -->\n<g id=\"node331\" class=\"node\">\n<title>330</title>\n<path fill=\"#feffff\" stroke=\"#000000\" d=\"M17665,-1496C17665,-1496 17346,-1496 17346,-1496 17340,-1496 17334,-1490 17334,-1484 17334,-1484 17334,-1425 17334,-1425 17334,-1419 17340,-1413 17346,-1413 17346,-1413 17665,-1413 17665,-1413 17671,-1413 17677,-1419 17677,-1425 17677,-1425 17677,-1484 17677,-1484 17677,-1490 17671,-1496 17665,-1496\"/>\n<text text-anchor=\"start\" x=\"17442\" y=\"-1480.8\" font-family=\"Helvetica,sans-Serif\" font-size=\"14.00\" fill=\"#000000\">receiver_state ≤ 1.5</text>\n<text text-anchor=\"start\" x=\"17467.5\" y=\"-1465.8\" font-family=\"Helvetica,sans-Serif\" font-size=\"14.00\" fill=\"#000000\">gini = 0.828</text>\n<text text-anchor=\"start\" x=\"17449.5\" y=\"-1450.8\" font-family=\"Helvetica,sans-Serif\" font-size=\"14.00\" fill=\"#000000\">samples = 18198</text>\n<text text-anchor=\"start\" x=\"17342\" y=\"-1435.8\" font-family=\"Helvetica,sans-Serif\" font-size=\"14.00\" fill=\"#000000\">value = [648, 4549, 5916, 5991, 3913, 2364, 5404]</text>\n<text text-anchor=\"start\" x=\"17455\" y=\"-1420.8\" font-family=\"Helvetica,sans-Serif\" font-size=\"14.00\" fill=\"#000000\">class = clase_3</text>\n</g>\n<!-- 328&#45;&gt;330 -->\n<g id=\"edge330\" class=\"edge\">\n<title>328&#45;&gt;330</title>\n<path fill=\"none\" stroke=\"#000000\" d=\"M17497.697,-1531.8796C17498.5235,-1523.6838 17499.4003,-1514.9891 17500.2562,-1506.5013\"/>\n<polygon fill=\"#000000\" stroke=\"#000000\" points=\"17503.764,-1506.5988 17501.2851,-1496.2981 17496.7993,-1505.8964 17503.764,-1506.5988\"/>\n</g>\n<!-- 331 -->\n<g id=\"node332\" class=\"node\">\n<title>331</title>\n<path fill=\"#f7c2da\" stroke=\"#000000\" d=\"M17444.5,-1369.5C17444.5,-1369.5 17150.5,-1369.5 17150.5,-1369.5 17144.5,-1369.5 17138.5,-1363.5 17138.5,-1357.5 17138.5,-1357.5 17138.5,-1313.5 17138.5,-1313.5 17138.5,-1307.5 17144.5,-1301.5 17150.5,-1301.5 17150.5,-1301.5 17444.5,-1301.5 17444.5,-1301.5 17450.5,-1301.5 17456.5,-1307.5 17456.5,-1313.5 17456.5,-1313.5 17456.5,-1357.5 17456.5,-1357.5 17456.5,-1363.5 17450.5,-1369.5 17444.5,-1369.5\"/>\n<text text-anchor=\"start\" x=\"17264\" y=\"-1354.3\" font-family=\"Helvetica,sans-Serif\" font-size=\"14.00\" fill=\"#000000\">gini = 0.74</text>\n<text text-anchor=\"start\" x=\"17245.5\" y=\"-1339.3\" font-family=\"Helvetica,sans-Serif\" font-size=\"14.00\" fill=\"#000000\">samples = 7545</text>\n<text text-anchor=\"start\" x=\"17146.5\" y=\"-1324.3\" font-family=\"Helvetica,sans-Serif\" font-size=\"14.00\" fill=\"#000000\">value = [8, 276, 1130, 1999, 1820, 1625, 5057]</text>\n<text text-anchor=\"start\" x=\"17247\" y=\"-1309.3\" font-family=\"Helvetica,sans-Serif\" font-size=\"14.00\" fill=\"#000000\">class = clase_6</text>\n</g>\n<!-- 330&#45;&gt;331 -->\n<g id=\"edge331\" class=\"edge\">\n<title>330&#45;&gt;331</title>\n<path fill=\"none\" stroke=\"#000000\" d=\"M17432.7517,-1412.8796C17411.0262,-1400.4501 17387.2948,-1386.873 17365.8609,-1374.6103\"/>\n<polygon fill=\"#000000\" stroke=\"#000000\" points=\"17367.5616,-1371.551 17357.1436,-1369.623 17364.0854,-1377.6269 17367.5616,-1371.551\"/>\n</g>\n<!-- 332 -->\n<g id=\"node333\" class=\"node\">\n<title>332</title>\n<path fill=\"#f7fef8\" stroke=\"#000000\" d=\"M17788.5,-1377C17788.5,-1377 17486.5,-1377 17486.5,-1377 17480.5,-1377 17474.5,-1371 17474.5,-1365 17474.5,-1365 17474.5,-1306 17474.5,-1306 17474.5,-1300 17480.5,-1294 17486.5,-1294 17486.5,-1294 17788.5,-1294 17788.5,-1294 17794.5,-1294 17800.5,-1300 17800.5,-1306 17800.5,-1306 17800.5,-1365 17800.5,-1365 17800.5,-1371 17794.5,-1377 17788.5,-1377\"/>\n<text text-anchor=\"start\" x=\"17574\" y=\"-1361.8\" font-family=\"Helvetica,sans-Serif\" font-size=\"14.00\" fill=\"#000000\">receiver_state ≤ 3.5</text>\n<text text-anchor=\"start\" x=\"17604\" y=\"-1346.8\" font-family=\"Helvetica,sans-Serif\" font-size=\"14.00\" fill=\"#000000\">gini = 0.78</text>\n<text text-anchor=\"start\" x=\"17581.5\" y=\"-1331.8\" font-family=\"Helvetica,sans-Serif\" font-size=\"14.00\" fill=\"#000000\">samples = 10653</text>\n<text text-anchor=\"start\" x=\"17482.5\" y=\"-1316.8\" font-family=\"Helvetica,sans-Serif\" font-size=\"14.00\" fill=\"#000000\">value = [640, 4273, 4786, 3992, 2093, 739, 347]</text>\n<text text-anchor=\"start\" x=\"17587\" y=\"-1301.8\" font-family=\"Helvetica,sans-Serif\" font-size=\"14.00\" fill=\"#000000\">class = clase_2</text>\n</g>\n<!-- 330&#45;&gt;332 -->\n<g id=\"edge332\" class=\"edge\">\n<title>330&#45;&gt;332</title>\n<path fill=\"none\" stroke=\"#000000\" d=\"M17551.6672,-1412.8796C17561.9571,-1403.6031 17572.956,-1393.6874 17583.5287,-1384.1559\"/>\n<polygon fill=\"#000000\" stroke=\"#000000\" points=\"17586.0519,-1386.5935 17591.1358,-1377.2981 17581.3648,-1381.3944 17586.0519,-1386.5935\"/>\n</g>\n<!-- 333 -->\n<g id=\"node334\" class=\"node\">\n<title>333</title>\n<path fill=\"#feffff\" stroke=\"#000000\" d=\"M17689.5,-1258C17689.5,-1258 17395.5,-1258 17395.5,-1258 17389.5,-1258 17383.5,-1252 17383.5,-1246 17383.5,-1246 17383.5,-1187 17383.5,-1187 17383.5,-1181 17389.5,-1175 17395.5,-1175 17395.5,-1175 17689.5,-1175 17689.5,-1175 17695.5,-1175 17701.5,-1181 17701.5,-1187 17701.5,-1187 17701.5,-1246 17701.5,-1246 17701.5,-1252 17695.5,-1258 17689.5,-1258\"/>\n<text text-anchor=\"start\" x=\"17479\" y=\"-1242.8\" font-family=\"Helvetica,sans-Serif\" font-size=\"14.00\" fill=\"#000000\">receiver_state ≤ 2.5</text>\n<text text-anchor=\"start\" x=\"17504.5\" y=\"-1227.8\" font-family=\"Helvetica,sans-Serif\" font-size=\"14.00\" fill=\"#000000\">gini = 0.763</text>\n<text text-anchor=\"start\" x=\"17490.5\" y=\"-1212.8\" font-family=\"Helvetica,sans-Serif\" font-size=\"14.00\" fill=\"#000000\">samples = 5847</text>\n<text text-anchor=\"start\" x=\"17391.5\" y=\"-1197.8\" font-family=\"Helvetica,sans-Serif\" font-size=\"14.00\" fill=\"#000000\">value = [75, 1324, 2842, 2865, 1482, 510, 221]</text>\n<text text-anchor=\"start\" x=\"17492\" y=\"-1182.8\" font-family=\"Helvetica,sans-Serif\" font-size=\"14.00\" fill=\"#000000\">class = clase_3</text>\n</g>\n<!-- 332&#45;&gt;333 -->\n<g id=\"edge333\" class=\"edge\">\n<title>332&#45;&gt;333</title>\n<path fill=\"none\" stroke=\"#000000\" d=\"M17604.2736,-1293.8796C17597.1556,-1284.9633 17589.5661,-1275.4565 17582.2308,-1266.268\"/>\n<polygon fill=\"#000000\" stroke=\"#000000\" points=\"17584.8425,-1263.9295 17575.8682,-1258.2981 17579.3719,-1268.2968 17584.8425,-1263.9295\"/>\n</g>\n<!-- 336 -->\n<g id=\"node337\" class=\"node\">\n<title>336</title>\n<path fill=\"#f2fadc\" stroke=\"#000000\" d=\"M18025.5,-1250.5C18025.5,-1250.5 17731.5,-1250.5 17731.5,-1250.5 17725.5,-1250.5 17719.5,-1244.5 17719.5,-1238.5 17719.5,-1238.5 17719.5,-1194.5 17719.5,-1194.5 17719.5,-1188.5 17725.5,-1182.5 17731.5,-1182.5 17731.5,-1182.5 18025.5,-1182.5 18025.5,-1182.5 18031.5,-1182.5 18037.5,-1188.5 18037.5,-1194.5 18037.5,-1194.5 18037.5,-1238.5 18037.5,-1238.5 18037.5,-1244.5 18031.5,-1250.5 18025.5,-1250.5\"/>\n<text text-anchor=\"start\" x=\"17840.5\" y=\"-1235.3\" font-family=\"Helvetica,sans-Serif\" font-size=\"14.00\" fill=\"#000000\">gini = 0.746</text>\n<text text-anchor=\"start\" x=\"17826.5\" y=\"-1220.3\" font-family=\"Helvetica,sans-Serif\" font-size=\"14.00\" fill=\"#000000\">samples = 4806</text>\n<text text-anchor=\"start\" x=\"17727.5\" y=\"-1205.3\" font-family=\"Helvetica,sans-Serif\" font-size=\"14.00\" fill=\"#000000\">value = [565, 2949, 1944, 1127, 611, 229, 126]</text>\n<text text-anchor=\"start\" x=\"17828\" y=\"-1190.3\" font-family=\"Helvetica,sans-Serif\" font-size=\"14.00\" fill=\"#000000\">class = clase_1</text>\n</g>\n<!-- 332&#45;&gt;336 -->\n<g id=\"edge336\" class=\"edge\">\n<title>332&#45;&gt;336</title>\n<path fill=\"none\" stroke=\"#000000\" d=\"M17721.7901,-1293.8796C17747.2981,-1281.2843 17775.1925,-1267.5107 17800.2853,-1255.1205\"/>\n<polygon fill=\"#000000\" stroke=\"#000000\" points=\"17801.9768,-1258.1888 17809.3937,-1250.623 17798.8776,-1251.9123 17801.9768,-1258.1888\"/>\n</g>\n<!-- 334 -->\n<g id=\"node335\" class=\"node\">\n<title>334</title>\n<path fill=\"#ecfdee\" stroke=\"#000000\" d=\"M17673,-1131.5C17673,-1131.5 17412,-1131.5 17412,-1131.5 17406,-1131.5 17400,-1125.5 17400,-1119.5 17400,-1119.5 17400,-1075.5 17400,-1075.5 17400,-1069.5 17406,-1063.5 17412,-1063.5 17412,-1063.5 17673,-1063.5 17673,-1063.5 17679,-1063.5 17685,-1069.5 17685,-1075.5 17685,-1075.5 17685,-1119.5 17685,-1119.5 17685,-1125.5 17679,-1131.5 17673,-1131.5\"/>\n<text text-anchor=\"start\" x=\"17504.5\" y=\"-1116.3\" font-family=\"Helvetica,sans-Serif\" font-size=\"14.00\" fill=\"#000000\">gini = 0.762</text>\n<text text-anchor=\"start\" x=\"17490.5\" y=\"-1101.3\" font-family=\"Helvetica,sans-Serif\" font-size=\"14.00\" fill=\"#000000\">samples = 2353</text>\n<text text-anchor=\"start\" x=\"17408\" y=\"-1086.3\" font-family=\"Helvetica,sans-Serif\" font-size=\"14.00\" fill=\"#000000\">value = [75, 883, 1219, 951, 385, 145, 93]</text>\n<text text-anchor=\"start\" x=\"17492\" y=\"-1071.3\" font-family=\"Helvetica,sans-Serif\" font-size=\"14.00\" fill=\"#000000\">class = clase_2</text>\n</g>\n<!-- 333&#45;&gt;334 -->\n<g id=\"edge334\" class=\"edge\">\n<title>333&#45;&gt;334</title>\n<path fill=\"none\" stroke=\"#000000\" d=\"M17542.5,-1174.8796C17542.5,-1164.2134 17542.5,-1152.7021 17542.5,-1141.9015\"/>\n<polygon fill=\"#000000\" stroke=\"#000000\" points=\"17546.0001,-1141.8149 17542.5,-1131.8149 17539.0001,-1141.815 17546.0001,-1141.8149\"/>\n</g>\n<!-- 335 -->\n<g id=\"node336\" class=\"node\">\n<title>335</title>\n<path fill=\"#f0fdfd\" stroke=\"#000000\" d=\"M17993.5,-1131.5C17993.5,-1131.5 17715.5,-1131.5 17715.5,-1131.5 17709.5,-1131.5 17703.5,-1125.5 17703.5,-1119.5 17703.5,-1119.5 17703.5,-1075.5 17703.5,-1075.5 17703.5,-1069.5 17709.5,-1063.5 17715.5,-1063.5 17715.5,-1063.5 17993.5,-1063.5 17993.5,-1063.5 17999.5,-1063.5 18005.5,-1069.5 18005.5,-1075.5 18005.5,-1075.5 18005.5,-1119.5 18005.5,-1119.5 18005.5,-1125.5 17999.5,-1131.5 17993.5,-1131.5\"/>\n<text text-anchor=\"start\" x=\"17816.5\" y=\"-1116.3\" font-family=\"Helvetica,sans-Serif\" font-size=\"14.00\" fill=\"#000000\">gini = 0.747</text>\n<text text-anchor=\"start\" x=\"17802.5\" y=\"-1101.3\" font-family=\"Helvetica,sans-Serif\" font-size=\"14.00\" fill=\"#000000\">samples = 3494</text>\n<text text-anchor=\"start\" x=\"17711.5\" y=\"-1086.3\" font-family=\"Helvetica,sans-Serif\" font-size=\"14.00\" fill=\"#000000\">value = [0, 441, 1623, 1914, 1097, 365, 128]</text>\n<text text-anchor=\"start\" x=\"17804\" y=\"-1071.3\" font-family=\"Helvetica,sans-Serif\" font-size=\"14.00\" fill=\"#000000\">class = clase_3</text>\n</g>\n<!-- 333&#45;&gt;335 -->\n<g id=\"edge335\" class=\"edge\">\n<title>333&#45;&gt;335</title>\n<path fill=\"none\" stroke=\"#000000\" d=\"M17651.6225,-1174.8796C17685.4494,-1161.9776 17722.5182,-1147.8392 17755.6095,-1135.2179\"/>\n<polygon fill=\"#000000\" stroke=\"#000000\" points=\"17757.1897,-1138.3612 17765.2858,-1131.5272 17754.6951,-1131.8207 17757.1897,-1138.3612\"/>\n</g>\n<!-- 338 -->\n<g id=\"node339\" class=\"node\">\n<title>338</title>\n<path fill=\"#f2fdfd\" stroke=\"#000000\" d=\"M17908,-1488.5C17908,-1488.5 17713,-1488.5 17713,-1488.5 17707,-1488.5 17701,-1482.5 17701,-1476.5 17701,-1476.5 17701,-1432.5 17701,-1432.5 17701,-1426.5 17707,-1420.5 17713,-1420.5 17713,-1420.5 17908,-1420.5 17908,-1420.5 17914,-1420.5 17920,-1426.5 17920,-1432.5 17920,-1432.5 17920,-1476.5 17920,-1476.5 17920,-1482.5 17914,-1488.5 17908,-1488.5\"/>\n<text text-anchor=\"start\" x=\"17777\" y=\"-1473.3\" font-family=\"Helvetica,sans-Serif\" font-size=\"14.00\" fill=\"#000000\">gini = 0.81</text>\n<text text-anchor=\"start\" x=\"17766.5\" y=\"-1458.3\" font-family=\"Helvetica,sans-Serif\" font-size=\"14.00\" fill=\"#000000\">samples = 79</text>\n<text text-anchor=\"start\" x=\"17709\" y=\"-1443.3\" font-family=\"Helvetica,sans-Serif\" font-size=\"14.00\" fill=\"#000000\">value = [0, 9, 17, 35, 22, 28, 20]</text>\n<text text-anchor=\"start\" x=\"17760\" y=\"-1428.3\" font-family=\"Helvetica,sans-Serif\" font-size=\"14.00\" fill=\"#000000\">class = clase_3</text>\n</g>\n<!-- 337&#45;&gt;338 -->\n<g id=\"edge338\" class=\"edge\">\n<title>337&#45;&gt;338</title>\n<path fill=\"none\" stroke=\"#000000\" d=\"M17815.0517,-1531.8796C17814.4243,-1521.2134 17813.7472,-1509.7021 17813.1119,-1498.9015\"/>\n<polygon fill=\"#000000\" stroke=\"#000000\" points=\"17816.5998,-1498.5921 17812.5185,-1488.8149 17809.6119,-1499.0032 17816.5998,-1498.5921\"/>\n</g>\n<!-- 339 -->\n<g id=\"node340\" class=\"node\">\n<title>339</title>\n<path fill=\"#e95698\" stroke=\"#000000\" d=\"M18145,-1496C18145,-1496 17950,-1496 17950,-1496 17944,-1496 17938,-1490 17938,-1484 17938,-1484 17938,-1425 17938,-1425 17938,-1419 17944,-1413 17950,-1413 17950,-1413 18145,-1413 18145,-1413 18151,-1413 18157,-1419 18157,-1425 18157,-1425 18157,-1484 18157,-1484 18157,-1490 18151,-1496 18145,-1496\"/>\n<text text-anchor=\"start\" x=\"17984\" y=\"-1480.8\" font-family=\"Helvetica,sans-Serif\" font-size=\"14.00\" fill=\"#000000\">receiver_state ≤ 1.5</text>\n<text text-anchor=\"start\" x=\"18009.5\" y=\"-1465.8\" font-family=\"Helvetica,sans-Serif\" font-size=\"14.00\" fill=\"#000000\">gini = 0.246</text>\n<text text-anchor=\"start\" x=\"17999.5\" y=\"-1450.8\" font-family=\"Helvetica,sans-Serif\" font-size=\"14.00\" fill=\"#000000\">samples = 685</text>\n<text text-anchor=\"start\" x=\"17946\" y=\"-1435.8\" font-family=\"Helvetica,sans-Serif\" font-size=\"14.00\" fill=\"#000000\">value = [0, 0, 2, 16, 48, 82, 938]</text>\n<text text-anchor=\"start\" x=\"17997\" y=\"-1420.8\" font-family=\"Helvetica,sans-Serif\" font-size=\"14.00\" fill=\"#000000\">class = clase_6</text>\n</g>\n<!-- 337&#45;&gt;339 -->\n<g id=\"edge339\" class=\"edge\">\n<title>337&#45;&gt;339</title>\n<path fill=\"none\" stroke=\"#000000\" d=\"M17897.9428,-1531.8796C17917.3771,-1521.8244 17938.263,-1511.0183 17958.0811,-1500.7645\"/>\n<polygon fill=\"#000000\" stroke=\"#000000\" points=\"17959.8293,-1503.8008 17967.1026,-1496.0969 17956.6126,-1497.5837 17959.8293,-1503.8008\"/>\n</g>\n<!-- 340 -->\n<g id=\"node341\" class=\"node\">\n<title>340</title>\n<path fill=\"#e6408a\" stroke=\"#000000\" d=\"M18022,-1369.5C18022,-1369.5 17843,-1369.5 17843,-1369.5 17837,-1369.5 17831,-1363.5 17831,-1357.5 17831,-1357.5 17831,-1313.5 17831,-1313.5 17831,-1307.5 17837,-1301.5 17843,-1301.5 17843,-1301.5 18022,-1301.5 18022,-1301.5 18028,-1301.5 18034,-1307.5 18034,-1313.5 18034,-1313.5 18034,-1357.5 18034,-1357.5 18034,-1363.5 18028,-1369.5 18022,-1369.5\"/>\n<text text-anchor=\"start\" x=\"17894.5\" y=\"-1354.3\" font-family=\"Helvetica,sans-Serif\" font-size=\"14.00\" fill=\"#000000\">gini = 0.071</text>\n<text text-anchor=\"start\" x=\"17884.5\" y=\"-1339.3\" font-family=\"Helvetica,sans-Serif\" font-size=\"14.00\" fill=\"#000000\">samples = 509</text>\n<text text-anchor=\"start\" x=\"17839\" y=\"-1324.3\" font-family=\"Helvetica,sans-Serif\" font-size=\"14.00\" fill=\"#000000\">value = [0, 0, 0, 6, 7, 16, 771]</text>\n<text text-anchor=\"start\" x=\"17882\" y=\"-1309.3\" font-family=\"Helvetica,sans-Serif\" font-size=\"14.00\" fill=\"#000000\">class = clase_6</text>\n</g>\n<!-- 339&#45;&gt;340 -->\n<g id=\"edge340\" class=\"edge\">\n<title>339&#45;&gt;340</title>\n<path fill=\"none\" stroke=\"#000000\" d=\"M18007.2786,-1412.8796C17996.1208,-1401.3337 17984.0061,-1388.7976 17972.8414,-1377.2446\"/>\n<polygon fill=\"#000000\" stroke=\"#000000\" points=\"17975.1275,-1374.5736 17965.6615,-1369.8149 17970.0939,-1379.4381 17975.1275,-1374.5736\"/>\n</g>\n<!-- 341 -->\n<g id=\"node342\" class=\"node\">\n<title>341</title>\n<path fill=\"#f3a4c7\" stroke=\"#000000\" d=\"M18259,-1377C18259,-1377 18064,-1377 18064,-1377 18058,-1377 18052,-1371 18052,-1365 18052,-1365 18052,-1306 18052,-1306 18052,-1300 18058,-1294 18064,-1294 18064,-1294 18259,-1294 18259,-1294 18265,-1294 18271,-1300 18271,-1306 18271,-1306 18271,-1365 18271,-1365 18271,-1371 18265,-1377 18259,-1377\"/>\n<text text-anchor=\"start\" x=\"18098\" y=\"-1361.8\" font-family=\"Helvetica,sans-Serif\" font-size=\"14.00\" fill=\"#000000\">receiver_state ≤ 3.0</text>\n<text text-anchor=\"start\" x=\"18123.5\" y=\"-1346.8\" font-family=\"Helvetica,sans-Serif\" font-size=\"14.00\" fill=\"#000000\">gini = 0.584</text>\n<text text-anchor=\"start\" x=\"18113.5\" y=\"-1331.8\" font-family=\"Helvetica,sans-Serif\" font-size=\"14.00\" fill=\"#000000\">samples = 176</text>\n<text text-anchor=\"start\" x=\"18060\" y=\"-1316.8\" font-family=\"Helvetica,sans-Serif\" font-size=\"14.00\" fill=\"#000000\">value = [0, 0, 2, 10, 41, 66, 167]</text>\n<text text-anchor=\"start\" x=\"18111\" y=\"-1301.8\" font-family=\"Helvetica,sans-Serif\" font-size=\"14.00\" fill=\"#000000\">class = clase_6</text>\n</g>\n<!-- 339&#45;&gt;341 -->\n<g id=\"edge341\" class=\"edge\">\n<title>339&#45;&gt;341</title>\n<path fill=\"none\" stroke=\"#000000\" d=\"M18087.3717,-1412.8796C18096.0858,-1403.7832 18105.3888,-1394.0722 18114.3562,-1384.7116\"/>\n<polygon fill=\"#000000\" stroke=\"#000000\" points=\"18117.0678,-1386.9405 18121.4581,-1377.2981 18112.013,-1382.098 18117.0678,-1386.9405\"/>\n</g>\n<!-- 342 -->\n<g id=\"node343\" class=\"node\">\n<title>342</title>\n<path fill=\"#f197c0\" stroke=\"#000000\" d=\"M18255,-1250.5C18255,-1250.5 18068,-1250.5 18068,-1250.5 18062,-1250.5 18056,-1244.5 18056,-1238.5 18056,-1238.5 18056,-1194.5 18056,-1194.5 18056,-1188.5 18062,-1182.5 18068,-1182.5 18068,-1182.5 18255,-1182.5 18255,-1182.5 18261,-1182.5 18267,-1188.5 18267,-1194.5 18267,-1194.5 18267,-1238.5 18267,-1238.5 18267,-1244.5 18261,-1250.5 18255,-1250.5\"/>\n<text text-anchor=\"start\" x=\"18123.5\" y=\"-1235.3\" font-family=\"Helvetica,sans-Serif\" font-size=\"14.00\" fill=\"#000000\">gini = 0.558</text>\n<text text-anchor=\"start\" x=\"18113.5\" y=\"-1220.3\" font-family=\"Helvetica,sans-Serif\" font-size=\"14.00\" fill=\"#000000\">samples = 167</text>\n<text text-anchor=\"start\" x=\"18064\" y=\"-1205.3\" font-family=\"Helvetica,sans-Serif\" font-size=\"14.00\" fill=\"#000000\">value = [0, 0, 2, 8, 41, 53, 167]</text>\n<text text-anchor=\"start\" x=\"18111\" y=\"-1190.3\" font-family=\"Helvetica,sans-Serif\" font-size=\"14.00\" fill=\"#000000\">class = clase_6</text>\n</g>\n<!-- 341&#45;&gt;342 -->\n<g id=\"edge342\" class=\"edge\">\n<title>341&#45;&gt;342</title>\n<path fill=\"none\" stroke=\"#000000\" d=\"M18161.5,-1293.8796C18161.5,-1283.2134 18161.5,-1271.7021 18161.5,-1260.9015\"/>\n<polygon fill=\"#000000\" stroke=\"#000000\" points=\"18165.0001,-1260.8149 18161.5,-1250.8149 18158.0001,-1260.815 18165.0001,-1260.8149\"/>\n</g>\n<!-- 343 -->\n<g id=\"node344\" class=\"node\">\n<title>343</title>\n<path fill=\"#bd57e9\" stroke=\"#000000\" d=\"M18459.5,-1250.5C18459.5,-1250.5 18297.5,-1250.5 18297.5,-1250.5 18291.5,-1250.5 18285.5,-1244.5 18285.5,-1238.5 18285.5,-1238.5 18285.5,-1194.5 18285.5,-1194.5 18285.5,-1188.5 18291.5,-1182.5 18297.5,-1182.5 18297.5,-1182.5 18459.5,-1182.5 18459.5,-1182.5 18465.5,-1182.5 18471.5,-1188.5 18471.5,-1194.5 18471.5,-1194.5 18471.5,-1238.5 18471.5,-1238.5 18471.5,-1244.5 18465.5,-1250.5 18459.5,-1250.5\"/>\n<text text-anchor=\"start\" x=\"18340.5\" y=\"-1235.3\" font-family=\"Helvetica,sans-Serif\" font-size=\"14.00\" fill=\"#000000\">gini = 0.231</text>\n<text text-anchor=\"start\" x=\"18339\" y=\"-1220.3\" font-family=\"Helvetica,sans-Serif\" font-size=\"14.00\" fill=\"#000000\">samples = 9</text>\n<text text-anchor=\"start\" x=\"18293.5\" y=\"-1205.3\" font-family=\"Helvetica,sans-Serif\" font-size=\"14.00\" fill=\"#000000\">value = [0, 0, 0, 2, 0, 13, 0]</text>\n<text text-anchor=\"start\" x=\"18328\" y=\"-1190.3\" font-family=\"Helvetica,sans-Serif\" font-size=\"14.00\" fill=\"#000000\">class = clase_5</text>\n</g>\n<!-- 341&#45;&gt;343 -->\n<g id=\"edge343\" class=\"edge\">\n<title>341&#45;&gt;343</title>\n<path fill=\"none\" stroke=\"#000000\" d=\"M18237.3961,-1293.8796C18260.1624,-1281.3948 18285.0399,-1267.7523 18307.4792,-1255.4469\"/>\n<polygon fill=\"#000000\" stroke=\"#000000\" points=\"18309.1904,-1258.5003 18316.2756,-1250.623 18305.8246,-1252.3626 18309.1904,-1258.5003\"/>\n</g>\n<!-- 345 -->\n<g id=\"node346\" class=\"node\">\n<title>345</title>\n<path fill=\"#e4f5b5\" stroke=\"#000000\" d=\"M18898,-1615C18898,-1615 18653,-1615 18653,-1615 18647,-1615 18641,-1609 18641,-1603 18641,-1603 18641,-1544 18641,-1544 18641,-1538 18647,-1532 18653,-1532 18653,-1532 18898,-1532 18898,-1532 18904,-1532 18910,-1538 18910,-1544 18910,-1544 18910,-1603 18910,-1603 18910,-1609 18904,-1615 18898,-1615\"/>\n<text text-anchor=\"start\" x=\"18712\" y=\"-1599.8\" font-family=\"Helvetica,sans-Serif\" font-size=\"14.00\" fill=\"#000000\">receiver_state ≤ 6.5</text>\n<text text-anchor=\"start\" x=\"18737.5\" y=\"-1584.8\" font-family=\"Helvetica,sans-Serif\" font-size=\"14.00\" fill=\"#000000\">gini = 0.512</text>\n<text text-anchor=\"start\" x=\"18719.5\" y=\"-1569.8\" font-family=\"Helvetica,sans-Serif\" font-size=\"14.00\" fill=\"#000000\">samples = 11778</text>\n<text text-anchor=\"start\" x=\"18649\" y=\"-1554.8\" font-family=\"Helvetica,sans-Serif\" font-size=\"14.00\" fill=\"#000000\">value = [6694, 11112, 726, 38, 2, 0, 21]</text>\n<text text-anchor=\"start\" x=\"18725\" y=\"-1539.8\" font-family=\"Helvetica,sans-Serif\" font-size=\"14.00\" fill=\"#000000\">class = clase_1</text>\n</g>\n<!-- 344&#45;&gt;345 -->\n<g id=\"edge345\" class=\"edge\">\n<title>344&#45;&gt;345</title>\n<path fill=\"none\" stroke=\"#000000\" d=\"M18775.5,-1650.8796C18775.5,-1642.6838 18775.5,-1633.9891 18775.5,-1625.5013\"/>\n<polygon fill=\"#000000\" stroke=\"#000000\" points=\"18779.0001,-1625.298 18775.5,-1615.2981 18772.0001,-1625.2981 18779.0001,-1625.298\"/>\n</g>\n<!-- 358 -->\n<g id=\"node359\" class=\"node\">\n<title>358</title>\n<path fill=\"#e3fbfb\" stroke=\"#000000\" d=\"M19220.5,-1615C19220.5,-1615 19066.5,-1615 19066.5,-1615 19060.5,-1615 19054.5,-1609 19054.5,-1603 19054.5,-1603 19054.5,-1544 19054.5,-1544 19054.5,-1538 19060.5,-1532 19066.5,-1532 19066.5,-1532 19220.5,-1532 19220.5,-1532 19226.5,-1532 19232.5,-1538 19232.5,-1544 19232.5,-1544 19232.5,-1603 19232.5,-1603 19232.5,-1609 19226.5,-1615 19220.5,-1615\"/>\n<text text-anchor=\"start\" x=\"19080\" y=\"-1599.8\" font-family=\"Helvetica,sans-Serif\" font-size=\"14.00\" fill=\"#000000\">receiver_state ≤ 6.5</text>\n<text text-anchor=\"start\" x=\"19110\" y=\"-1584.8\" font-family=\"Helvetica,sans-Serif\" font-size=\"14.00\" fill=\"#000000\">gini = 0.72</text>\n<text text-anchor=\"start\" x=\"19104\" y=\"-1569.8\" font-family=\"Helvetica,sans-Serif\" font-size=\"14.00\" fill=\"#000000\">samples = 7</text>\n<text text-anchor=\"start\" x=\"19062.5\" y=\"-1554.8\" font-family=\"Helvetica,sans-Serif\" font-size=\"14.00\" fill=\"#000000\">value = [1, 3, 1, 4, 1, 0, 0]</text>\n<text text-anchor=\"start\" x=\"19093\" y=\"-1539.8\" font-family=\"Helvetica,sans-Serif\" font-size=\"14.00\" fill=\"#000000\">class = clase_3</text>\n</g>\n<!-- 344&#45;&gt;358 -->\n<g id=\"edge358\" class=\"edge\">\n<title>344&#45;&gt;358</title>\n<path fill=\"none\" stroke=\"#000000\" d=\"M18903.9502,-1650.9631C18950.1185,-1636.0337 19001.4357,-1619.4393 19044.6918,-1605.4516\"/>\n<polygon fill=\"#000000\" stroke=\"#000000\" points=\"19045.9242,-1608.7316 19054.3622,-1602.3244 19043.7704,-1602.0711 19045.9242,-1608.7316\"/>\n</g>\n<!-- 346 -->\n<g id=\"node347\" class=\"node\">\n<title>346</title>\n<path fill=\"#e1f4ac\" stroke=\"#000000\" d=\"M18762.5,-1496C18762.5,-1496 18534.5,-1496 18534.5,-1496 18528.5,-1496 18522.5,-1490 18522.5,-1484 18522.5,-1484 18522.5,-1425 18522.5,-1425 18522.5,-1419 18528.5,-1413 18534.5,-1413 18534.5,-1413 18762.5,-1413 18762.5,-1413 18768.5,-1413 18774.5,-1419 18774.5,-1425 18774.5,-1425 18774.5,-1484 18774.5,-1484 18774.5,-1490 18768.5,-1496 18762.5,-1496\"/>\n<text text-anchor=\"start\" x=\"18585\" y=\"-1480.8\" font-family=\"Helvetica,sans-Serif\" font-size=\"14.00\" fill=\"#000000\">receiver_state ≤ 5.5</text>\n<text text-anchor=\"start\" x=\"18610.5\" y=\"-1465.8\" font-family=\"Helvetica,sans-Serif\" font-size=\"14.00\" fill=\"#000000\">gini = 0.507</text>\n<text text-anchor=\"start\" x=\"18596.5\" y=\"-1450.8\" font-family=\"Helvetica,sans-Serif\" font-size=\"14.00\" fill=\"#000000\">samples = 9578</text>\n<text text-anchor=\"start\" x=\"18530.5\" y=\"-1435.8\" font-family=\"Helvetica,sans-Serif\" font-size=\"14.00\" fill=\"#000000\">value = [5097, 9260, 685, 35, 0, 0, 4]</text>\n<text text-anchor=\"start\" x=\"18598\" y=\"-1420.8\" font-family=\"Helvetica,sans-Serif\" font-size=\"14.00\" fill=\"#000000\">class = clase_1</text>\n</g>\n<!-- 345&#45;&gt;346 -->\n<g id=\"edge346\" class=\"edge\">\n<title>345&#45;&gt;346</title>\n<path fill=\"none\" stroke=\"#000000\" d=\"M18731.0816,-1531.8796C18721.1814,-1522.6031 18710.5991,-1512.6874 18700.4269,-1503.1559\"/>\n<polygon fill=\"#000000\" stroke=\"#000000\" points=\"18702.7984,-1500.5816 18693.108,-1496.2981 18698.0121,-1505.6896 18702.7984,-1500.5816\"/>\n</g>\n<!-- 349 -->\n<g id=\"node350\" class=\"node\">\n<title>349</title>\n<path fill=\"#f5fce5\" stroke=\"#000000\" d=\"M19024.5,-1496C19024.5,-1496 18804.5,-1496 18804.5,-1496 18798.5,-1496 18792.5,-1490 18792.5,-1484 18792.5,-1484 18792.5,-1425 18792.5,-1425 18792.5,-1419 18798.5,-1413 18804.5,-1413 18804.5,-1413 19024.5,-1413 19024.5,-1413 19030.5,-1413 19036.5,-1419 19036.5,-1425 19036.5,-1425 19036.5,-1484 19036.5,-1484 19036.5,-1490 19030.5,-1496 19024.5,-1496\"/>\n<text text-anchor=\"start\" x=\"18851\" y=\"-1480.8\" font-family=\"Helvetica,sans-Serif\" font-size=\"14.00\" fill=\"#000000\">receiver_state ≤ 7.5</text>\n<text text-anchor=\"start\" x=\"18876.5\" y=\"-1465.8\" font-family=\"Helvetica,sans-Serif\" font-size=\"14.00\" fill=\"#000000\">gini = 0.515</text>\n<text text-anchor=\"start\" x=\"18862.5\" y=\"-1450.8\" font-family=\"Helvetica,sans-Serif\" font-size=\"14.00\" fill=\"#000000\">samples = 2200</text>\n<text text-anchor=\"start\" x=\"18800.5\" y=\"-1435.8\" font-family=\"Helvetica,sans-Serif\" font-size=\"14.00\" fill=\"#000000\">value = [1597, 1852, 41, 3, 2, 0, 17]</text>\n<text text-anchor=\"start\" x=\"18864\" y=\"-1420.8\" font-family=\"Helvetica,sans-Serif\" font-size=\"14.00\" fill=\"#000000\">class = clase_1</text>\n</g>\n<!-- 345&#45;&gt;349 -->\n<g id=\"edge349\" class=\"edge\">\n<title>345&#45;&gt;349</title>\n<path fill=\"none\" stroke=\"#000000\" d=\"M18824.1155,-1531.8796C18835.0562,-1522.513 18846.7582,-1512.4948 18857.9908,-1502.8784\"/>\n<polygon fill=\"#000000\" stroke=\"#000000\" points=\"18860.3568,-1505.4603 18865.677,-1496.2981 18855.8044,-1500.1428 18860.3568,-1505.4603\"/>\n</g>\n<!-- 347 -->\n<g id=\"node348\" class=\"node\">\n<title>347</title>\n<path fill=\"#e7f6bc\" stroke=\"#000000\" d=\"M18529.5,-1369.5C18529.5,-1369.5 18301.5,-1369.5 18301.5,-1369.5 18295.5,-1369.5 18289.5,-1363.5 18289.5,-1357.5 18289.5,-1357.5 18289.5,-1313.5 18289.5,-1313.5 18289.5,-1307.5 18295.5,-1301.5 18301.5,-1301.5 18301.5,-1301.5 18529.5,-1301.5 18529.5,-1301.5 18535.5,-1301.5 18541.5,-1307.5 18541.5,-1313.5 18541.5,-1313.5 18541.5,-1357.5 18541.5,-1357.5 18541.5,-1363.5 18535.5,-1369.5 18529.5,-1369.5\"/>\n<text text-anchor=\"start\" x=\"18382\" y=\"-1354.3\" font-family=\"Helvetica,sans-Serif\" font-size=\"14.00\" fill=\"#000000\">gini = 0.49</text>\n<text text-anchor=\"start\" x=\"18363.5\" y=\"-1339.3\" font-family=\"Helvetica,sans-Serif\" font-size=\"14.00\" fill=\"#000000\">samples = 7426</text>\n<text text-anchor=\"start\" x=\"18297.5\" y=\"-1324.3\" font-family=\"Helvetica,sans-Serif\" font-size=\"14.00\" fill=\"#000000\">value = [4598, 6999, 116, 12, 0, 0, 2]</text>\n<text text-anchor=\"start\" x=\"18365\" y=\"-1309.3\" font-family=\"Helvetica,sans-Serif\" font-size=\"14.00\" fill=\"#000000\">class = clase_1</text>\n</g>\n<!-- 346&#45;&gt;347 -->\n<g id=\"edge347\" class=\"edge\">\n<title>346&#45;&gt;347</title>\n<path fill=\"none\" stroke=\"#000000\" d=\"M18567.0079,-1412.8796C18542.4548,-1400.3396 18515.6147,-1386.6315 18491.4377,-1374.2836\"/>\n<polygon fill=\"#000000\" stroke=\"#000000\" points=\"18492.81,-1371.0545 18482.3123,-1369.623 18489.6261,-1377.2885 18492.81,-1371.0545\"/>\n</g>\n<!-- 348 -->\n<g id=\"node349\" class=\"node\">\n<title>348</title>\n<path fill=\"#d3ef87\" stroke=\"#000000\" d=\"M18791.5,-1369.5C18791.5,-1369.5 18571.5,-1369.5 18571.5,-1369.5 18565.5,-1369.5 18559.5,-1363.5 18559.5,-1357.5 18559.5,-1357.5 18559.5,-1313.5 18559.5,-1313.5 18559.5,-1307.5 18565.5,-1301.5 18571.5,-1301.5 18571.5,-1301.5 18791.5,-1301.5 18791.5,-1301.5 18797.5,-1301.5 18803.5,-1307.5 18803.5,-1313.5 18803.5,-1313.5 18803.5,-1357.5 18803.5,-1357.5 18803.5,-1363.5 18797.5,-1369.5 18791.5,-1369.5\"/>\n<text text-anchor=\"start\" x=\"18643.5\" y=\"-1354.3\" font-family=\"Helvetica,sans-Serif\" font-size=\"14.00\" fill=\"#000000\">gini = 0.495</text>\n<text text-anchor=\"start\" x=\"18629.5\" y=\"-1339.3\" font-family=\"Helvetica,sans-Serif\" font-size=\"14.00\" fill=\"#000000\">samples = 2152</text>\n<text text-anchor=\"start\" x=\"18567.5\" y=\"-1324.3\" font-family=\"Helvetica,sans-Serif\" font-size=\"14.00\" fill=\"#000000\">value = [499, 2261, 569, 23, 0, 0, 2]</text>\n<text text-anchor=\"start\" x=\"18631\" y=\"-1309.3\" font-family=\"Helvetica,sans-Serif\" font-size=\"14.00\" fill=\"#000000\">class = clase_1</text>\n</g>\n<!-- 346&#45;&gt;348 -->\n<g id=\"edge348\" class=\"edge\">\n<title>346&#45;&gt;348</title>\n<path fill=\"none\" stroke=\"#000000\" d=\"M18660.0418,-1412.8796C18663.0301,-1402.1034 18666.2577,-1390.4647 18669.2795,-1379.5677\"/>\n<polygon fill=\"#000000\" stroke=\"#000000\" points=\"18672.6845,-1380.3866 18671.9841,-1369.8149 18665.939,-1378.516 18672.6845,-1380.3866\"/>\n</g>\n<!-- 350 -->\n<g id=\"node351\" class=\"node\">\n<title>350</title>\n<path fill=\"#ec6aa4\" stroke=\"#000000\" d=\"M18995.5,-1369.5C18995.5,-1369.5 18833.5,-1369.5 18833.5,-1369.5 18827.5,-1369.5 18821.5,-1363.5 18821.5,-1357.5 18821.5,-1357.5 18821.5,-1313.5 18821.5,-1313.5 18821.5,-1307.5 18827.5,-1301.5 18833.5,-1301.5 18833.5,-1301.5 18995.5,-1301.5 18995.5,-1301.5 19001.5,-1301.5 19007.5,-1307.5 19007.5,-1313.5 19007.5,-1313.5 19007.5,-1357.5 19007.5,-1357.5 19007.5,-1363.5 19001.5,-1369.5 18995.5,-1369.5\"/>\n<text text-anchor=\"start\" x=\"18876.5\" y=\"-1354.3\" font-family=\"Helvetica,sans-Serif\" font-size=\"14.00\" fill=\"#000000\">gini = 0.384</text>\n<text text-anchor=\"start\" x=\"18870.5\" y=\"-1339.3\" font-family=\"Helvetica,sans-Serif\" font-size=\"14.00\" fill=\"#000000\">samples = 14</text>\n<text text-anchor=\"start\" x=\"18829.5\" y=\"-1324.3\" font-family=\"Helvetica,sans-Serif\" font-size=\"14.00\" fill=\"#000000\">value = [2, 0, 2, 0, 1, 0, 17]</text>\n<text text-anchor=\"start\" x=\"18864\" y=\"-1309.3\" font-family=\"Helvetica,sans-Serif\" font-size=\"14.00\" fill=\"#000000\">class = clase_6</text>\n</g>\n<!-- 349&#45;&gt;350 -->\n<g id=\"edge350\" class=\"edge\">\n<title>349&#45;&gt;350</title>\n<path fill=\"none\" stroke=\"#000000\" d=\"M18914.5,-1412.8796C18914.5,-1402.2134 18914.5,-1390.7021 18914.5,-1379.9015\"/>\n<polygon fill=\"#000000\" stroke=\"#000000\" points=\"18918.0001,-1379.8149 18914.5,-1369.8149 18911.0001,-1379.815 18918.0001,-1379.8149\"/>\n</g>\n<!-- 351 -->\n<g id=\"node352\" class=\"node\">\n<title>351</title>\n<path fill=\"#f5fbe4\" stroke=\"#000000\" d=\"M19249.5,-1377C19249.5,-1377 19037.5,-1377 19037.5,-1377 19031.5,-1377 19025.5,-1371 19025.5,-1365 19025.5,-1365 19025.5,-1306 19025.5,-1306 19025.5,-1300 19031.5,-1294 19037.5,-1294 19037.5,-1294 19249.5,-1294 19249.5,-1294 19255.5,-1294 19261.5,-1300 19261.5,-1306 19261.5,-1306 19261.5,-1365 19261.5,-1365 19261.5,-1371 19255.5,-1377 19249.5,-1377\"/>\n<text text-anchor=\"start\" x=\"19080\" y=\"-1361.8\" font-family=\"Helvetica,sans-Serif\" font-size=\"14.00\" fill=\"#000000\">receiver_state ≤ 8.5</text>\n<text text-anchor=\"start\" x=\"19105.5\" y=\"-1346.8\" font-family=\"Helvetica,sans-Serif\" font-size=\"14.00\" fill=\"#000000\">gini = 0.509</text>\n<text text-anchor=\"start\" x=\"19091.5\" y=\"-1331.8\" font-family=\"Helvetica,sans-Serif\" font-size=\"14.00\" fill=\"#000000\">samples = 2186</text>\n<text text-anchor=\"start\" x=\"19033.5\" y=\"-1316.8\" font-family=\"Helvetica,sans-Serif\" font-size=\"14.00\" fill=\"#000000\">value = [1595, 1852, 39, 3, 1, 0, 0]</text>\n<text text-anchor=\"start\" x=\"19093\" y=\"-1301.8\" font-family=\"Helvetica,sans-Serif\" font-size=\"14.00\" fill=\"#000000\">class = clase_1</text>\n</g>\n<!-- 349&#45;&gt;351 -->\n<g id=\"edge351\" class=\"edge\">\n<title>349&#45;&gt;351</title>\n<path fill=\"none\" stroke=\"#000000\" d=\"M18994.5931,-1412.8796C19013.9429,-1402.8244 19034.7379,-1392.0183 19054.4699,-1381.7645\"/>\n<polygon fill=\"#000000\" stroke=\"#000000\" points=\"19056.1926,-1384.8138 19063.4521,-1377.0969 19052.9648,-1378.6024 19056.1926,-1384.8138\"/>\n</g>\n<!-- 352 -->\n<g id=\"node353\" class=\"node\">\n<title>352</title>\n<path fill=\"#fcfef6\" stroke=\"#000000\" d=\"M19126.5,-1250.5C19126.5,-1250.5 18914.5,-1250.5 18914.5,-1250.5 18908.5,-1250.5 18902.5,-1244.5 18902.5,-1238.5 18902.5,-1238.5 18902.5,-1194.5 18902.5,-1194.5 18902.5,-1188.5 18908.5,-1182.5 18914.5,-1182.5 18914.5,-1182.5 19126.5,-1182.5 19126.5,-1182.5 19132.5,-1182.5 19138.5,-1188.5 19138.5,-1194.5 19138.5,-1194.5 19138.5,-1238.5 19138.5,-1238.5 19138.5,-1244.5 19132.5,-1250.5 19126.5,-1250.5\"/>\n<text text-anchor=\"start\" x=\"18987\" y=\"-1235.3\" font-family=\"Helvetica,sans-Serif\" font-size=\"14.00\" fill=\"#000000\">gini = 0.51</text>\n<text text-anchor=\"start\" x=\"18968.5\" y=\"-1220.3\" font-family=\"Helvetica,sans-Serif\" font-size=\"14.00\" fill=\"#000000\">samples = 1770</text>\n<text text-anchor=\"start\" x=\"18910.5\" y=\"-1205.3\" font-family=\"Helvetica,sans-Serif\" font-size=\"14.00\" fill=\"#000000\">value = [1373, 1442, 26, 3, 0, 0, 0]</text>\n<text text-anchor=\"start\" x=\"18970\" y=\"-1190.3\" font-family=\"Helvetica,sans-Serif\" font-size=\"14.00\" fill=\"#000000\">class = clase_1</text>\n</g>\n<!-- 351&#45;&gt;352 -->\n<g id=\"edge352\" class=\"edge\">\n<title>351&#45;&gt;352</title>\n<path fill=\"none\" stroke=\"#000000\" d=\"M19100.4806,-1293.8796C19088.4329,-1282.2237 19075.3422,-1269.5587 19063.3069,-1257.9148\"/>\n<polygon fill=\"#000000\" stroke=\"#000000\" points=\"19065.589,-1255.2528 19055.9684,-1250.8149 19060.7217,-1260.2837 19065.589,-1255.2528\"/>\n</g>\n<!-- 353 -->\n<g id=\"node354\" class=\"node\">\n<title>353</title>\n<path fill=\"#dff3a7\" stroke=\"#000000\" d=\"M19364,-1258C19364,-1258 19169,-1258 19169,-1258 19163,-1258 19157,-1252 19157,-1246 19157,-1246 19157,-1187 19157,-1187 19157,-1181 19163,-1175 19169,-1175 19169,-1175 19364,-1175 19364,-1175 19370,-1175 19376,-1181 19376,-1187 19376,-1187 19376,-1246 19376,-1246 19376,-1252 19370,-1258 19364,-1258\"/>\n<text text-anchor=\"start\" x=\"19203\" y=\"-1242.8\" font-family=\"Helvetica,sans-Serif\" font-size=\"14.00\" fill=\"#000000\">receiver_state ≤ 9.5</text>\n<text text-anchor=\"start\" x=\"19228.5\" y=\"-1227.8\" font-family=\"Helvetica,sans-Serif\" font-size=\"14.00\" fill=\"#000000\">gini = 0.479</text>\n<text text-anchor=\"start\" x=\"19218.5\" y=\"-1212.8\" font-family=\"Helvetica,sans-Serif\" font-size=\"14.00\" fill=\"#000000\">samples = 416</text>\n<text text-anchor=\"start\" x=\"19165\" y=\"-1197.8\" font-family=\"Helvetica,sans-Serif\" font-size=\"14.00\" fill=\"#000000\">value = [222, 410, 13, 0, 1, 0, 0]</text>\n<text text-anchor=\"start\" x=\"19216\" y=\"-1182.8\" font-family=\"Helvetica,sans-Serif\" font-size=\"14.00\" fill=\"#000000\">class = clase_1</text>\n</g>\n<!-- 351&#45;&gt;353 -->\n<g id=\"edge353\" class=\"edge\">\n<title>351&#45;&gt;353</title>\n<path fill=\"none\" stroke=\"#000000\" d=\"M19186.5194,-1293.8796C19196.0147,-1284.6931 19206.1578,-1274.8798 19215.9215,-1265.4336\"/>\n<polygon fill=\"#000000\" stroke=\"#000000\" points=\"19218.5436,-1267.7668 19223.297,-1258.2981 19213.6763,-1262.7359 19218.5436,-1267.7668\"/>\n</g>\n<!-- 354 -->\n<g id=\"node355\" class=\"node\">\n<title>354</title>\n<path fill=\"#daf29a\" stroke=\"#000000\" d=\"M19285,-1131.5C19285,-1131.5 19090,-1131.5 19090,-1131.5 19084,-1131.5 19078,-1125.5 19078,-1119.5 19078,-1119.5 19078,-1075.5 19078,-1075.5 19078,-1069.5 19084,-1063.5 19090,-1063.5 19090,-1063.5 19285,-1063.5 19285,-1063.5 19291,-1063.5 19297,-1069.5 19297,-1075.5 19297,-1075.5 19297,-1119.5 19297,-1119.5 19297,-1125.5 19291,-1131.5 19285,-1131.5\"/>\n<text text-anchor=\"start\" x=\"19149.5\" y=\"-1116.3\" font-family=\"Helvetica,sans-Serif\" font-size=\"14.00\" fill=\"#000000\">gini = 0.461</text>\n<text text-anchor=\"start\" x=\"19139.5\" y=\"-1101.3\" font-family=\"Helvetica,sans-Serif\" font-size=\"14.00\" fill=\"#000000\">samples = 359</text>\n<text text-anchor=\"start\" x=\"19086\" y=\"-1086.3\" font-family=\"Helvetica,sans-Serif\" font-size=\"14.00\" fill=\"#000000\">value = [175, 372, 13, 0, 0, 0, 0]</text>\n<text text-anchor=\"start\" x=\"19137\" y=\"-1071.3\" font-family=\"Helvetica,sans-Serif\" font-size=\"14.00\" fill=\"#000000\">class = clase_1</text>\n</g>\n<!-- 353&#45;&gt;354 -->\n<g id=\"edge354\" class=\"edge\">\n<title>353&#45;&gt;354</title>\n<path fill=\"none\" stroke=\"#000000\" d=\"M19238.8696,-1174.8796C19231.4237,-1163.6636 19223.3575,-1151.5131 19215.8718,-1140.2372\"/>\n<polygon fill=\"#000000\" stroke=\"#000000\" points=\"19218.7273,-1138.2104 19210.2805,-1131.8149 19212.8954,-1142.082 19218.7273,-1138.2104\"/>\n</g>\n<!-- 355 -->\n<g id=\"node356\" class=\"node\">\n<title>355</title>\n<path fill=\"#fae7da\" stroke=\"#000000\" d=\"M19497.5,-1139C19497.5,-1139 19327.5,-1139 19327.5,-1139 19321.5,-1139 19315.5,-1133 19315.5,-1127 19315.5,-1127 19315.5,-1068 19315.5,-1068 19315.5,-1062 19321.5,-1056 19327.5,-1056 19327.5,-1056 19497.5,-1056 19497.5,-1056 19503.5,-1056 19509.5,-1062 19509.5,-1068 19509.5,-1068 19509.5,-1127 19509.5,-1127 19509.5,-1133 19503.5,-1139 19497.5,-1139\"/>\n<text text-anchor=\"start\" x=\"19344.5\" y=\"-1123.8\" font-family=\"Helvetica,sans-Serif\" font-size=\"14.00\" fill=\"#000000\">receiver_state ≤ 11.0</text>\n<text text-anchor=\"start\" x=\"19374.5\" y=\"-1108.8\" font-family=\"Helvetica,sans-Serif\" font-size=\"14.00\" fill=\"#000000\">gini = 0.506</text>\n<text text-anchor=\"start\" x=\"19368.5\" y=\"-1093.8\" font-family=\"Helvetica,sans-Serif\" font-size=\"14.00\" fill=\"#000000\">samples = 57</text>\n<text text-anchor=\"start\" x=\"19323.5\" y=\"-1078.8\" font-family=\"Helvetica,sans-Serif\" font-size=\"14.00\" fill=\"#000000\">value = [47, 38, 0, 0, 1, 0, 0]</text>\n<text text-anchor=\"start\" x=\"19362\" y=\"-1063.8\" font-family=\"Helvetica,sans-Serif\" font-size=\"14.00\" fill=\"#000000\">class = clase_0</text>\n</g>\n<!-- 353&#45;&gt;355 -->\n<g id=\"edge355\" class=\"edge\">\n<title>353&#45;&gt;355</title>\n<path fill=\"none\" stroke=\"#000000\" d=\"M19317.5637,-1174.8796C19329.0555,-1165.513 19341.3468,-1155.4948 19353.145,-1145.8784\"/>\n<polygon fill=\"#000000\" stroke=\"#000000\" points=\"19355.6782,-1148.329 19361.2183,-1139.2981 19351.2556,-1142.903 19355.6782,-1148.329\"/>\n</g>\n<!-- 356 -->\n<g id=\"node357\" class=\"node\">\n<title>356</title>\n<path fill=\"#f9e2d2\" stroke=\"#000000\" d=\"M19457.5,-1012.5C19457.5,-1012.5 19287.5,-1012.5 19287.5,-1012.5 19281.5,-1012.5 19275.5,-1006.5 19275.5,-1000.5 19275.5,-1000.5 19275.5,-956.5 19275.5,-956.5 19275.5,-950.5 19281.5,-944.5 19287.5,-944.5 19287.5,-944.5 19457.5,-944.5 19457.5,-944.5 19463.5,-944.5 19469.5,-950.5 19469.5,-956.5 19469.5,-956.5 19469.5,-1000.5 19469.5,-1000.5 19469.5,-1006.5 19463.5,-1012.5 19457.5,-1012.5\"/>\n<text text-anchor=\"start\" x=\"19334.5\" y=\"-997.3\" font-family=\"Helvetica,sans-Serif\" font-size=\"14.00\" fill=\"#000000\">gini = 0.503</text>\n<text text-anchor=\"start\" x=\"19328.5\" y=\"-982.3\" font-family=\"Helvetica,sans-Serif\" font-size=\"14.00\" fill=\"#000000\">samples = 56</text>\n<text text-anchor=\"start\" x=\"19283.5\" y=\"-967.3\" font-family=\"Helvetica,sans-Serif\" font-size=\"14.00\" fill=\"#000000\">value = [47, 36, 0, 0, 1, 0, 0]</text>\n<text text-anchor=\"start\" x=\"19322\" y=\"-952.3\" font-family=\"Helvetica,sans-Serif\" font-size=\"14.00\" fill=\"#000000\">class = clase_0</text>\n</g>\n<!-- 355&#45;&gt;356 -->\n<g id=\"edge356\" class=\"edge\">\n<title>355&#45;&gt;356</title>\n<path fill=\"none\" stroke=\"#000000\" d=\"M19398.5099,-1055.8796C19394.8877,-1045.1034 19390.9755,-1033.4647 19387.3127,-1022.5677\"/>\n<polygon fill=\"#000000\" stroke=\"#000000\" points=\"19390.5383,-1021.1786 19384.0344,-1012.8149 19383.9031,-1023.409 19390.5383,-1021.1786\"/>\n</g>\n<!-- 357 -->\n<g id=\"node358\" class=\"node\">\n<title>357</title>\n<path fill=\"#b7e539\" stroke=\"#000000\" d=\"M19653.5,-1012.5C19653.5,-1012.5 19499.5,-1012.5 19499.5,-1012.5 19493.5,-1012.5 19487.5,-1006.5 19487.5,-1000.5 19487.5,-1000.5 19487.5,-956.5 19487.5,-956.5 19487.5,-950.5 19493.5,-944.5 19499.5,-944.5 19499.5,-944.5 19653.5,-944.5 19653.5,-944.5 19659.5,-944.5 19665.5,-950.5 19665.5,-956.5 19665.5,-956.5 19665.5,-1000.5 19665.5,-1000.5 19665.5,-1006.5 19659.5,-1012.5 19653.5,-1012.5\"/>\n<text text-anchor=\"start\" x=\"19547\" y=\"-997.3\" font-family=\"Helvetica,sans-Serif\" font-size=\"14.00\" fill=\"#000000\">gini = 0.0</text>\n<text text-anchor=\"start\" x=\"19537\" y=\"-982.3\" font-family=\"Helvetica,sans-Serif\" font-size=\"14.00\" fill=\"#000000\">samples = 1</text>\n<text text-anchor=\"start\" x=\"19495.5\" y=\"-967.3\" font-family=\"Helvetica,sans-Serif\" font-size=\"14.00\" fill=\"#000000\">value = [0, 2, 0, 0, 0, 0, 0]</text>\n<text text-anchor=\"start\" x=\"19526\" y=\"-952.3\" font-family=\"Helvetica,sans-Serif\" font-size=\"14.00\" fill=\"#000000\">class = clase_1</text>\n</g>\n<!-- 355&#45;&gt;357 -->\n<g id=\"edge357\" class=\"edge\">\n<title>355&#45;&gt;357</title>\n<path fill=\"none\" stroke=\"#000000\" d=\"M19469.8592,-1055.8796C19486.4561,-1043.8368 19504.5375,-1030.7167 19521.0176,-1018.7586\"/>\n<polygon fill=\"#000000\" stroke=\"#000000\" points=\"19523.4351,-1021.3288 19529.4733,-1012.623 19519.324,-1015.6632 19523.4351,-1021.3288\"/>\n</g>\n<!-- 359 -->\n<g id=\"node360\" class=\"node\">\n<title>359</title>\n<path fill=\"#defbfa\" stroke=\"#000000\" d=\"M19220.5,-1488.5C19220.5,-1488.5 19066.5,-1488.5 19066.5,-1488.5 19060.5,-1488.5 19054.5,-1482.5 19054.5,-1476.5 19054.5,-1476.5 19054.5,-1432.5 19054.5,-1432.5 19054.5,-1426.5 19060.5,-1420.5 19066.5,-1420.5 19066.5,-1420.5 19220.5,-1420.5 19220.5,-1420.5 19226.5,-1420.5 19232.5,-1426.5 19232.5,-1432.5 19232.5,-1432.5 19232.5,-1476.5 19232.5,-1476.5 19232.5,-1482.5 19226.5,-1488.5 19220.5,-1488.5\"/>\n<text text-anchor=\"start\" x=\"19105.5\" y=\"-1473.3\" font-family=\"Helvetica,sans-Serif\" font-size=\"14.00\" fill=\"#000000\">gini = 0.667</text>\n<text text-anchor=\"start\" x=\"19104\" y=\"-1458.3\" font-family=\"Helvetica,sans-Serif\" font-size=\"14.00\" fill=\"#000000\">samples = 6</text>\n<text text-anchor=\"start\" x=\"19062.5\" y=\"-1443.3\" font-family=\"Helvetica,sans-Serif\" font-size=\"14.00\" fill=\"#000000\">value = [0, 3, 1, 4, 1, 0, 0]</text>\n<text text-anchor=\"start\" x=\"19093\" y=\"-1428.3\" font-family=\"Helvetica,sans-Serif\" font-size=\"14.00\" fill=\"#000000\">class = clase_3</text>\n</g>\n<!-- 358&#45;&gt;359 -->\n<g id=\"edge359\" class=\"edge\">\n<title>358&#45;&gt;359</title>\n<path fill=\"none\" stroke=\"#000000\" d=\"M19143.5,-1531.8796C19143.5,-1521.2134 19143.5,-1509.7021 19143.5,-1498.9015\"/>\n<polygon fill=\"#000000\" stroke=\"#000000\" points=\"19147.0001,-1498.8149 19143.5,-1488.8149 19140.0001,-1498.815 19147.0001,-1498.8149\"/>\n</g>\n<!-- 360 -->\n<g id=\"node361\" class=\"node\">\n<title>360</title>\n<path fill=\"#e58139\" stroke=\"#000000\" d=\"M19416.5,-1488.5C19416.5,-1488.5 19262.5,-1488.5 19262.5,-1488.5 19256.5,-1488.5 19250.5,-1482.5 19250.5,-1476.5 19250.5,-1476.5 19250.5,-1432.5 19250.5,-1432.5 19250.5,-1426.5 19256.5,-1420.5 19262.5,-1420.5 19262.5,-1420.5 19416.5,-1420.5 19416.5,-1420.5 19422.5,-1420.5 19428.5,-1426.5 19428.5,-1432.5 19428.5,-1432.5 19428.5,-1476.5 19428.5,-1476.5 19428.5,-1482.5 19422.5,-1488.5 19416.5,-1488.5\"/>\n<text text-anchor=\"start\" x=\"19310\" y=\"-1473.3\" font-family=\"Helvetica,sans-Serif\" font-size=\"14.00\" fill=\"#000000\">gini = 0.0</text>\n<text text-anchor=\"start\" x=\"19300\" y=\"-1458.3\" font-family=\"Helvetica,sans-Serif\" font-size=\"14.00\" fill=\"#000000\">samples = 1</text>\n<text text-anchor=\"start\" x=\"19258.5\" y=\"-1443.3\" font-family=\"Helvetica,sans-Serif\" font-size=\"14.00\" fill=\"#000000\">value = [1, 0, 0, 0, 0, 0, 0]</text>\n<text text-anchor=\"start\" x=\"19289\" y=\"-1428.3\" font-family=\"Helvetica,sans-Serif\" font-size=\"14.00\" fill=\"#000000\">class = clase_0</text>\n</g>\n<!-- 358&#45;&gt;360 -->\n<g id=\"edge360\" class=\"edge\">\n<title>358&#45;&gt;360</title>\n<path fill=\"none\" stroke=\"#000000\" d=\"M19212.0513,-1531.8796C19232.3414,-1519.5606 19254.4883,-1506.1143 19274.5439,-1493.9376\"/>\n<polygon fill=\"#000000\" stroke=\"#000000\" points=\"19276.5659,-1496.8046 19283.2974,-1488.623 19272.933,-1490.8211 19276.5659,-1496.8046\"/>\n</g>\n</g>\n</svg>\n"
          },
          "metadata": {
            "tags": []
          },
          "execution_count": 74
        }
      ]
    },
    {
      "cell_type": "markdown",
      "metadata": {
        "id": "rXOZeSzMMRVA",
        "colab_type": "text"
      },
      "source": [
        "Calculemos el accuracy"
      ]
    },
    {
      "cell_type": "code",
      "metadata": {
        "id": "dNprdtQ-MU2f",
        "colab_type": "code",
        "colab": {
          "base_uri": "https://localhost:8080/",
          "height": 34
        },
        "outputId": "3bb116f2-b814-4f0f-fa1d-640ee9e8e522"
      },
      "source": [
        "predictions = clf.predict(X_train)\n",
        "print ('Accuracy: %d ' % ((np.sum(y_train['shipment_days_byclass'] == predictions))/float(y_train.size)*100))"
      ],
      "execution_count": null,
      "outputs": [
        {
          "output_type": "stream",
          "text": [
            "Accuracy: 27 \n"
          ],
          "name": "stdout"
        }
      ]
    },
    {
      "cell_type": "markdown",
      "metadata": {
        "id": "aMgvSda-NPtr",
        "colab_type": "text"
      },
      "source": [
        "El accuracy que obtenemos es mucho más alto que con el linear y el polinomial."
      ]
    },
    {
      "cell_type": "markdown",
      "metadata": {
        "id": "QLeqyNnbarPO",
        "colab_type": "text"
      },
      "source": [
        "Vamos a calcular las métricas definidas en el punto anterior, para eso vamos a restar lo que predice el modelo(predictions) con el valor real de los datos que sería en nuestro caso 'shipment_days_byclass'."
      ]
    },
    {
      "cell_type": "code",
      "metadata": {
        "id": "JchQX2DPa_ak",
        "colab_type": "code",
        "colab": {}
      },
      "source": [
        "new_metric = predictions - y_train['shipment_days_byclass']"
      ],
      "execution_count": null,
      "outputs": []
    },
    {
      "cell_type": "markdown",
      "metadata": {
        "id": "fwi_AEoObNBm",
        "colab_type": "text"
      },
      "source": [
        "Analicemos la métrica:\n",
        "\n",
        "1) Si new_metric es igual a 0 es porque el pedido llegó el día prometido.\n",
        "\n",
        "2) Si new_metric > 0 es porque predictions > y_train['shipment_days_byclass'] esto quiere decir que lo prometido es mayor a la cantidad de días real, por ende el pedido se demoró menos que el día prometido. Veamos un ejemplo si predictions es 5 e y_train da 3, es porque el pedido estaba prometido para el día 5 pero en lo real llegó el dia 3.\n",
        "\n",
        "3) Si new_metric < 0 es porque  predictions < y_train['shipment_days_byclass'] siguiendo la misma lógica de arriba, podemos concluir que el pedido llegó después del día prometido.\n",
        "\n",
        "4) La cantidad de pedidos la podemos ver con x_train.shape o y_train.shape.\n"
      ]
    },
    {
      "cell_type": "code",
      "metadata": {
        "id": "-HXQQX15dSlS",
        "colab_type": "code",
        "colab": {
          "base_uri": "https://localhost:8080/",
          "height": 221
        },
        "outputId": "a0b74320-dd05-4581-d2d5-fd7f5aad89d6"
      },
      "source": [
        "new_metric"
      ],
      "execution_count": null,
      "outputs": [
        {
          "output_type": "execute_result",
          "data": {
            "text/plain": [
              "0         1\n",
              "1         1\n",
              "2        -1\n",
              "3         0\n",
              "4         0\n",
              "         ..\n",
              "499990    0\n",
              "499991    0\n",
              "499992   -1\n",
              "499994    1\n",
              "499999    0\n",
              "Name: shipment_days_byclass, Length: 321523, dtype: int64"
            ]
          },
          "metadata": {
            "tags": []
          },
          "execution_count": 269
        }
      ]
    },
    {
      "cell_type": "code",
      "metadata": {
        "id": "JUPkuusWiryl",
        "colab_type": "code",
        "colab": {
          "base_uri": "https://localhost:8080/",
          "height": 34
        },
        "outputId": "698ad5ef-926c-4dfb-8fc7-bf397476043b"
      },
      "source": [
        "type(new_metric)"
      ],
      "execution_count": null,
      "outputs": [
        {
          "output_type": "execute_result",
          "data": {
            "text/plain": [
              "pandas.core.series.Series"
            ]
          },
          "metadata": {
            "tags": []
          },
          "execution_count": 270
        }
      ]
    },
    {
      "cell_type": "code",
      "metadata": {
        "id": "Ybc2qHnnjG7C",
        "colab_type": "code",
        "colab": {
          "base_uri": "https://localhost:8080/",
          "height": 34
        },
        "outputId": "3910bfc3-7d5f-4934-c55a-438f217a53c5"
      },
      "source": [
        "total_orders = new_metric.size\n",
        "total_orders"
      ],
      "execution_count": null,
      "outputs": [
        {
          "output_type": "execute_result",
          "data": {
            "text/plain": [
              "321523"
            ]
          },
          "metadata": {
            "tags": []
          },
          "execution_count": 271
        }
      ]
    },
    {
      "cell_type": "code",
      "metadata": {
        "id": "S5-BqeEPjaP0",
        "colab_type": "code",
        "colab": {
          "base_uri": "https://localhost:8080/",
          "height": 119
        },
        "outputId": "f8e5f60f-2e54-40b6-c9c2-5b0a3280dfc9"
      },
      "source": [
        "df_train['new_metric'] = new_metric"
      ],
      "execution_count": null,
      "outputs": [
        {
          "output_type": "stream",
          "text": [
            "/usr/local/lib/python3.6/dist-packages/ipykernel_launcher.py:1: SettingWithCopyWarning: \n",
            "A value is trying to be set on a copy of a slice from a DataFrame.\n",
            "Try using .loc[row_indexer,col_indexer] = value instead\n",
            "\n",
            "See the caveats in the documentation: http://pandas.pydata.org/pandas-docs/stable/user_guide/indexing.html#returning-a-view-versus-a-copy\n",
            "  \"\"\"Entry point for launching an IPython kernel.\n"
          ],
          "name": "stderr"
        }
      ]
    },
    {
      "cell_type": "code",
      "metadata": {
        "id": "VZ7F_Ah1kuB2",
        "colab_type": "code",
        "colab": {
          "base_uri": "https://localhost:8080/",
          "height": 394
        },
        "outputId": "f96ba6f6-d638-42f9-daf1-e436eaa428fb"
      },
      "source": [
        "df_train.head(5)"
      ],
      "execution_count": null,
      "outputs": [
        {
          "output_type": "execute_result",
          "data": {
            "text/html": [
              "<div>\n",
              "<style scoped>\n",
              "    .dataframe tbody tr th:only-of-type {\n",
              "        vertical-align: middle;\n",
              "    }\n",
              "\n",
              "    .dataframe tbody tr th {\n",
              "        vertical-align: top;\n",
              "    }\n",
              "\n",
              "    .dataframe thead th {\n",
              "        text-align: right;\n",
              "    }\n",
              "</style>\n",
              "<table border=\"1\" class=\"dataframe\">\n",
              "  <thead>\n",
              "    <tr style=\"text-align: right;\">\n",
              "      <th></th>\n",
              "      <th>sender_state</th>\n",
              "      <th>sender_zipcode</th>\n",
              "      <th>receiver_state</th>\n",
              "      <th>receiver_zipcode</th>\n",
              "      <th>shipment_type</th>\n",
              "      <th>quantity</th>\n",
              "      <th>service</th>\n",
              "      <th>status</th>\n",
              "      <th>date_created</th>\n",
              "      <th>date_sent</th>\n",
              "      <th>date_visit</th>\n",
              "      <th>shipment_days</th>\n",
              "      <th>receiver_state_le</th>\n",
              "      <th>date_created_only_date</th>\n",
              "      <th>date_visit_only_date</th>\n",
              "      <th>new_metric</th>\n",
              "    </tr>\n",
              "  </thead>\n",
              "  <tbody>\n",
              "    <tr>\n",
              "      <th>0</th>\n",
              "      <td>SP</td>\n",
              "      <td>1039</td>\n",
              "      <td>SP</td>\n",
              "      <td>14500</td>\n",
              "      <td>standard</td>\n",
              "      <td>1</td>\n",
              "      <td>1</td>\n",
              "      <td>done</td>\n",
              "      <td>2019-03-10</td>\n",
              "      <td>2019-03-11 14:34:00</td>\n",
              "      <td>2019-03-18 09:52:00</td>\n",
              "      <td>5.0</td>\n",
              "      <td>25</td>\n",
              "      <td>2019-03-10</td>\n",
              "      <td>2019-03-18</td>\n",
              "      <td>1</td>\n",
              "    </tr>\n",
              "    <tr>\n",
              "      <th>1</th>\n",
              "      <td>SP</td>\n",
              "      <td>3004</td>\n",
              "      <td>PB</td>\n",
              "      <td>58670</td>\n",
              "      <td>standard</td>\n",
              "      <td>1</td>\n",
              "      <td>1</td>\n",
              "      <td>done</td>\n",
              "      <td>2019-03-08</td>\n",
              "      <td>2019-03-09 10:48:00</td>\n",
              "      <td>2019-03-18 15:16:00</td>\n",
              "      <td>5.0</td>\n",
              "      <td>14</td>\n",
              "      <td>2019-03-08</td>\n",
              "      <td>2019-03-18</td>\n",
              "      <td>1</td>\n",
              "    </tr>\n",
              "    <tr>\n",
              "      <th>2</th>\n",
              "      <td>SP</td>\n",
              "      <td>3262</td>\n",
              "      <td>RJ</td>\n",
              "      <td>22723</td>\n",
              "      <td>standard</td>\n",
              "      <td>1</td>\n",
              "      <td>2</td>\n",
              "      <td>done</td>\n",
              "      <td>2019-02-21</td>\n",
              "      <td>2019-02-23 02:02:16</td>\n",
              "      <td>2019-03-01 21:27:00</td>\n",
              "      <td>4.0</td>\n",
              "      <td>18</td>\n",
              "      <td>2019-02-21</td>\n",
              "      <td>2019-03-01</td>\n",
              "      <td>-1</td>\n",
              "    </tr>\n",
              "    <tr>\n",
              "      <th>3</th>\n",
              "      <td>SP</td>\n",
              "      <td>12237</td>\n",
              "      <td>SP</td>\n",
              "      <td>18682</td>\n",
              "      <td>standard</td>\n",
              "      <td>1</td>\n",
              "      <td>2</td>\n",
              "      <td>done</td>\n",
              "      <td>2019-02-25</td>\n",
              "      <td>2019-02-28 03:05:36</td>\n",
              "      <td>2019-03-07 15:01:00</td>\n",
              "      <td>2.0</td>\n",
              "      <td>25</td>\n",
              "      <td>2019-02-25</td>\n",
              "      <td>2019-03-07</td>\n",
              "      <td>0</td>\n",
              "    </tr>\n",
              "    <tr>\n",
              "      <th>4</th>\n",
              "      <td>SP</td>\n",
              "      <td>9350</td>\n",
              "      <td>AP</td>\n",
              "      <td>68908</td>\n",
              "      <td>standard</td>\n",
              "      <td>1</td>\n",
              "      <td>1</td>\n",
              "      <td>done</td>\n",
              "      <td>2019-02-15</td>\n",
              "      <td>2019-02-15 11:28:00</td>\n",
              "      <td>2019-03-11 13:18:00</td>\n",
              "      <td>13.0</td>\n",
              "      <td>3</td>\n",
              "      <td>2019-02-15</td>\n",
              "      <td>2019-03-11</td>\n",
              "      <td>0</td>\n",
              "    </tr>\n",
              "  </tbody>\n",
              "</table>\n",
              "</div>"
            ],
            "text/plain": [
              "  sender_state  sender_zipcode  ... date_visit_only_date  new_metric\n",
              "0           SP            1039  ...           2019-03-18           1\n",
              "1           SP            3004  ...           2019-03-18           1\n",
              "2           SP            3262  ...           2019-03-01          -1\n",
              "3           SP           12237  ...           2019-03-07           0\n",
              "4           SP            9350  ...           2019-03-11           0\n",
              "\n",
              "[5 rows x 16 columns]"
            ]
          },
          "metadata": {
            "tags": []
          },
          "execution_count": 273
        }
      ]
    },
    {
      "cell_type": "code",
      "metadata": {
        "id": "mLeZKk0xk1uu",
        "colab_type": "code",
        "colab": {
          "base_uri": "https://localhost:8080/",
          "height": 34
        },
        "outputId": "dc36945c-d7d1-4566-f91e-c24d0b463469"
      },
      "source": [
        "count_ceros = df_train.loc[df_train['new_metric']==0]\n",
        "count_ceros = count_ceros.shape[0]\n",
        "count_ceros"
      ],
      "execution_count": null,
      "outputs": [
        {
          "output_type": "execute_result",
          "data": {
            "text/plain": [
              "176002"
            ]
          },
          "metadata": {
            "tags": []
          },
          "execution_count": 274
        }
      ]
    },
    {
      "cell_type": "markdown",
      "metadata": {
        "id": "ep9e71tMlSml",
        "colab_type": "text"
      },
      "source": [
        "Obtenemos una cantidad de 176002 de pedidos, de los cuáles llegaron el día prometido."
      ]
    },
    {
      "cell_type": "code",
      "metadata": {
        "id": "xOVi0GjGwNMV",
        "colab_type": "code",
        "colab": {
          "base_uri": "https://localhost:8080/",
          "height": 54
        },
        "outputId": "e5d99273-424e-4906-c6ea-43f5c7a8b8ef"
      },
      "source": [
        "print ('Porcentaje de pedidos que llegaron el dia prometido: %f ' % (float(count_ceros)/float(total_orders))*100)"
      ],
      "execution_count": null,
      "outputs": [
        {
          "output_type": "stream",
          "text": [
            "Porcentaje de pedidos que llegaron el dia prometido: 0.547401 Porcentaje de pedidos que llegaron el dia prometido: 0.547401 Porcentaje de pedidos que llegaron el dia prometido: 0.547401 Porcentaje de pedidos que llegaron el dia prometido: 0.547401 Porcentaje de pedidos que llegaron el dia prometido: 0.547401 Porcentaje de pedidos que llegaron el dia prometido: 0.547401 Porcentaje de pedidos que llegaron el dia prometido: 0.547401 Porcentaje de pedidos que llegaron el dia prometido: 0.547401 Porcentaje de pedidos que llegaron el dia prometido: 0.547401 Porcentaje de pedidos que llegaron el dia prometido: 0.547401 Porcentaje de pedidos que llegaron el dia prometido: 0.547401 Porcentaje de pedidos que llegaron el dia prometido: 0.547401 Porcentaje de pedidos que llegaron el dia prometido: 0.547401 Porcentaje de pedidos que llegaron el dia prometido: 0.547401 Porcentaje de pedidos que llegaron el dia prometido: 0.547401 Porcentaje de pedidos que llegaron el dia prometido: 0.547401 Porcentaje de pedidos que llegaron el dia prometido: 0.547401 Porcentaje de pedidos que llegaron el dia prometido: 0.547401 Porcentaje de pedidos que llegaron el dia prometido: 0.547401 Porcentaje de pedidos que llegaron el dia prometido: 0.547401 Porcentaje de pedidos que llegaron el dia prometido: 0.547401 Porcentaje de pedidos que llegaron el dia prometido: 0.547401 Porcentaje de pedidos que llegaron el dia prometido: 0.547401 Porcentaje de pedidos que llegaron el dia prometido: 0.547401 Porcentaje de pedidos que llegaron el dia prometido: 0.547401 Porcentaje de pedidos que llegaron el dia prometido: 0.547401 Porcentaje de pedidos que llegaron el dia prometido: 0.547401 Porcentaje de pedidos que llegaron el dia prometido: 0.547401 Porcentaje de pedidos que llegaron el dia prometido: 0.547401 Porcentaje de pedidos que llegaron el dia prometido: 0.547401 Porcentaje de pedidos que llegaron el dia prometido: 0.547401 Porcentaje de pedidos que llegaron el dia prometido: 0.547401 Porcentaje de pedidos que llegaron el dia prometido: 0.547401 Porcentaje de pedidos que llegaron el dia prometido: 0.547401 Porcentaje de pedidos que llegaron el dia prometido: 0.547401 Porcentaje de pedidos que llegaron el dia prometido: 0.547401 Porcentaje de pedidos que llegaron el dia prometido: 0.547401 Porcentaje de pedidos que llegaron el dia prometido: 0.547401 Porcentaje de pedidos que llegaron el dia prometido: 0.547401 Porcentaje de pedidos que llegaron el dia prometido: 0.547401 Porcentaje de pedidos que llegaron el dia prometido: 0.547401 Porcentaje de pedidos que llegaron el dia prometido: 0.547401 Porcentaje de pedidos que llegaron el dia prometido: 0.547401 Porcentaje de pedidos que llegaron el dia prometido: 0.547401 Porcentaje de pedidos que llegaron el dia prometido: 0.547401 Porcentaje de pedidos que llegaron el dia prometido: 0.547401 Porcentaje de pedidos que llegaron el dia prometido: 0.547401 Porcentaje de pedidos que llegaron el dia prometido: 0.547401 Porcentaje de pedidos que llegaron el dia prometido: 0.547401 Porcentaje de pedidos que llegaron el dia prometido: 0.547401 Porcentaje de pedidos que llegaron el dia prometido: 0.547401 Porcentaje de pedidos que llegaron el dia prometido: 0.547401 Porcentaje de pedidos que llegaron el dia prometido: 0.547401 Porcentaje de pedidos que llegaron el dia prometido: 0.547401 Porcentaje de pedidos que llegaron el dia prometido: 0.547401 Porcentaje de pedidos que llegaron el dia prometido: 0.547401 Porcentaje de pedidos que llegaron el dia prometido: 0.547401 Porcentaje de pedidos que llegaron el dia prometido: 0.547401 Porcentaje de pedidos que llegaron el dia prometido: 0.547401 Porcentaje de pedidos que llegaron el dia prometido: 0.547401 Porcentaje de pedidos que llegaron el dia prometido: 0.547401 Porcentaje de pedidos que llegaron el dia prometido: 0.547401 Porcentaje de pedidos que llegaron el dia prometido: 0.547401 Porcentaje de pedidos que llegaron el dia prometido: 0.547401 Porcentaje de pedidos que llegaron el dia prometido: 0.547401 Porcentaje de pedidos que llegaron el dia prometido: 0.547401 Porcentaje de pedidos que llegaron el dia prometido: 0.547401 Porcentaje de pedidos que llegaron el dia prometido: 0.547401 Porcentaje de pedidos que llegaron el dia prometido: 0.547401 Porcentaje de pedidos que llegaron el dia prometido: 0.547401 Porcentaje de pedidos que llegaron el dia prometido: 0.547401 Porcentaje de pedidos que llegaron el dia prometido: 0.547401 Porcentaje de pedidos que llegaron el dia prometido: 0.547401 Porcentaje de pedidos que llegaron el dia prometido: 0.547401 Porcentaje de pedidos que llegaron el dia prometido: 0.547401 Porcentaje de pedidos que llegaron el dia prometido: 0.547401 Porcentaje de pedidos que llegaron el dia prometido: 0.547401 Porcentaje de pedidos que llegaron el dia prometido: 0.547401 Porcentaje de pedidos que llegaron el dia prometido: 0.547401 Porcentaje de pedidos que llegaron el dia prometido: 0.547401 Porcentaje de pedidos que llegaron el dia prometido: 0.547401 Porcentaje de pedidos que llegaron el dia prometido: 0.547401 Porcentaje de pedidos que llegaron el dia prometido: 0.547401 Porcentaje de pedidos que llegaron el dia prometido: 0.547401 Porcentaje de pedidos que llegaron el dia prometido: 0.547401 Porcentaje de pedidos que llegaron el dia prometido: 0.547401 Porcentaje de pedidos que llegaron el dia prometido: 0.547401 Porcentaje de pedidos que llegaron el dia prometido: 0.547401 Porcentaje de pedidos que llegaron el dia prometido: 0.547401 Porcentaje de pedidos que llegaron el dia prometido: 0.547401 Porcentaje de pedidos que llegaron el dia prometido: 0.547401 Porcentaje de pedidos que llegaron el dia prometido: 0.547401 Porcentaje de pedidos que llegaron el dia prometido: 0.547401 Porcentaje de pedidos que llegaron el dia prometido: 0.547401 Porcentaje de pedidos que llegaron el dia prometido: 0.547401 Porcentaje de pedidos que llegaron el dia prometido: 0.547401 Porcentaje de pedidos que llegaron el dia prometido: 0.547401 Porcentaje de pedidos que llegaron el dia prometido: 0.547401 Porcentaje de pedidos que llegaron el dia prometido: 0.547401 Porcentaje de pedidos que llegaron el dia prometido: 0.547401 \n"
          ],
          "name": "stdout"
        }
      ]
    },
    {
      "cell_type": "markdown",
      "metadata": {
        "id": "VQL9N_vs2Mjf",
        "colab_type": "text"
      },
      "source": [
        "Calculemos la métrica 2) porcentaje de pedidos que llegaron antes del día prometido:"
      ]
    },
    {
      "cell_type": "code",
      "metadata": {
        "id": "70nPIf5j2cLd",
        "colab_type": "code",
        "colab": {
          "base_uri": "https://localhost:8080/",
          "height": 34
        },
        "outputId": "1f4c24fd-d215-4410-a541-1d25552c23c1"
      },
      "source": [
        "count_received_before_that_promise_date = df_train.loc[df_train['new_metric']>0]\n",
        "count_received_before_that_promise_date = count_received_before_that_promise_date.shape[0]\n",
        "count_received_before_that_promise_date"
      ],
      "execution_count": null,
      "outputs": [
        {
          "output_type": "execute_result",
          "data": {
            "text/plain": [
              "58259"
            ]
          },
          "metadata": {
            "tags": []
          },
          "execution_count": 276
        }
      ]
    },
    {
      "cell_type": "markdown",
      "metadata": {
        "id": "6vKqTDrK206B",
        "colab_type": "text"
      },
      "source": [
        "Nos falta calcularlo sobre el total, por ende queda:"
      ]
    },
    {
      "cell_type": "code",
      "metadata": {
        "id": "hgaIRNIN29lu",
        "colab_type": "code",
        "colab": {
          "base_uri": "https://localhost:8080/",
          "height": 54
        },
        "outputId": "4d3beb66-6d67-4fe9-a3f6-c2a3330cab5d"
      },
      "source": [
        "print ('Porcentaje de pedidos que llegaron antes del dia prometido: %f ' % (float(count_received_before_that_promise_date)/float(total_orders))*100)"
      ],
      "execution_count": null,
      "outputs": [
        {
          "output_type": "stream",
          "text": [
            "Porcentaje de pedidos que llegaron antes del dia prometido: 0.181197 Porcentaje de pedidos que llegaron antes del dia prometido: 0.181197 Porcentaje de pedidos que llegaron antes del dia prometido: 0.181197 Porcentaje de pedidos que llegaron antes del dia prometido: 0.181197 Porcentaje de pedidos que llegaron antes del dia prometido: 0.181197 Porcentaje de pedidos que llegaron antes del dia prometido: 0.181197 Porcentaje de pedidos que llegaron antes del dia prometido: 0.181197 Porcentaje de pedidos que llegaron antes del dia prometido: 0.181197 Porcentaje de pedidos que llegaron antes del dia prometido: 0.181197 Porcentaje de pedidos que llegaron antes del dia prometido: 0.181197 Porcentaje de pedidos que llegaron antes del dia prometido: 0.181197 Porcentaje de pedidos que llegaron antes del dia prometido: 0.181197 Porcentaje de pedidos que llegaron antes del dia prometido: 0.181197 Porcentaje de pedidos que llegaron antes del dia prometido: 0.181197 Porcentaje de pedidos que llegaron antes del dia prometido: 0.181197 Porcentaje de pedidos que llegaron antes del dia prometido: 0.181197 Porcentaje de pedidos que llegaron antes del dia prometido: 0.181197 Porcentaje de pedidos que llegaron antes del dia prometido: 0.181197 Porcentaje de pedidos que llegaron antes del dia prometido: 0.181197 Porcentaje de pedidos que llegaron antes del dia prometido: 0.181197 Porcentaje de pedidos que llegaron antes del dia prometido: 0.181197 Porcentaje de pedidos que llegaron antes del dia prometido: 0.181197 Porcentaje de pedidos que llegaron antes del dia prometido: 0.181197 Porcentaje de pedidos que llegaron antes del dia prometido: 0.181197 Porcentaje de pedidos que llegaron antes del dia prometido: 0.181197 Porcentaje de pedidos que llegaron antes del dia prometido: 0.181197 Porcentaje de pedidos que llegaron antes del dia prometido: 0.181197 Porcentaje de pedidos que llegaron antes del dia prometido: 0.181197 Porcentaje de pedidos que llegaron antes del dia prometido: 0.181197 Porcentaje de pedidos que llegaron antes del dia prometido: 0.181197 Porcentaje de pedidos que llegaron antes del dia prometido: 0.181197 Porcentaje de pedidos que llegaron antes del dia prometido: 0.181197 Porcentaje de pedidos que llegaron antes del dia prometido: 0.181197 Porcentaje de pedidos que llegaron antes del dia prometido: 0.181197 Porcentaje de pedidos que llegaron antes del dia prometido: 0.181197 Porcentaje de pedidos que llegaron antes del dia prometido: 0.181197 Porcentaje de pedidos que llegaron antes del dia prometido: 0.181197 Porcentaje de pedidos que llegaron antes del dia prometido: 0.181197 Porcentaje de pedidos que llegaron antes del dia prometido: 0.181197 Porcentaje de pedidos que llegaron antes del dia prometido: 0.181197 Porcentaje de pedidos que llegaron antes del dia prometido: 0.181197 Porcentaje de pedidos que llegaron antes del dia prometido: 0.181197 Porcentaje de pedidos que llegaron antes del dia prometido: 0.181197 Porcentaje de pedidos que llegaron antes del dia prometido: 0.181197 Porcentaje de pedidos que llegaron antes del dia prometido: 0.181197 Porcentaje de pedidos que llegaron antes del dia prometido: 0.181197 Porcentaje de pedidos que llegaron antes del dia prometido: 0.181197 Porcentaje de pedidos que llegaron antes del dia prometido: 0.181197 Porcentaje de pedidos que llegaron antes del dia prometido: 0.181197 Porcentaje de pedidos que llegaron antes del dia prometido: 0.181197 Porcentaje de pedidos que llegaron antes del dia prometido: 0.181197 Porcentaje de pedidos que llegaron antes del dia prometido: 0.181197 Porcentaje de pedidos que llegaron antes del dia prometido: 0.181197 Porcentaje de pedidos que llegaron antes del dia prometido: 0.181197 Porcentaje de pedidos que llegaron antes del dia prometido: 0.181197 Porcentaje de pedidos que llegaron antes del dia prometido: 0.181197 Porcentaje de pedidos que llegaron antes del dia prometido: 0.181197 Porcentaje de pedidos que llegaron antes del dia prometido: 0.181197 Porcentaje de pedidos que llegaron antes del dia prometido: 0.181197 Porcentaje de pedidos que llegaron antes del dia prometido: 0.181197 Porcentaje de pedidos que llegaron antes del dia prometido: 0.181197 Porcentaje de pedidos que llegaron antes del dia prometido: 0.181197 Porcentaje de pedidos que llegaron antes del dia prometido: 0.181197 Porcentaje de pedidos que llegaron antes del dia prometido: 0.181197 Porcentaje de pedidos que llegaron antes del dia prometido: 0.181197 Porcentaje de pedidos que llegaron antes del dia prometido: 0.181197 Porcentaje de pedidos que llegaron antes del dia prometido: 0.181197 Porcentaje de pedidos que llegaron antes del dia prometido: 0.181197 Porcentaje de pedidos que llegaron antes del dia prometido: 0.181197 Porcentaje de pedidos que llegaron antes del dia prometido: 0.181197 Porcentaje de pedidos que llegaron antes del dia prometido: 0.181197 Porcentaje de pedidos que llegaron antes del dia prometido: 0.181197 Porcentaje de pedidos que llegaron antes del dia prometido: 0.181197 Porcentaje de pedidos que llegaron antes del dia prometido: 0.181197 Porcentaje de pedidos que llegaron antes del dia prometido: 0.181197 Porcentaje de pedidos que llegaron antes del dia prometido: 0.181197 Porcentaje de pedidos que llegaron antes del dia prometido: 0.181197 Porcentaje de pedidos que llegaron antes del dia prometido: 0.181197 Porcentaje de pedidos que llegaron antes del dia prometido: 0.181197 Porcentaje de pedidos que llegaron antes del dia prometido: 0.181197 Porcentaje de pedidos que llegaron antes del dia prometido: 0.181197 Porcentaje de pedidos que llegaron antes del dia prometido: 0.181197 Porcentaje de pedidos que llegaron antes del dia prometido: 0.181197 Porcentaje de pedidos que llegaron antes del dia prometido: 0.181197 Porcentaje de pedidos que llegaron antes del dia prometido: 0.181197 Porcentaje de pedidos que llegaron antes del dia prometido: 0.181197 Porcentaje de pedidos que llegaron antes del dia prometido: 0.181197 Porcentaje de pedidos que llegaron antes del dia prometido: 0.181197 Porcentaje de pedidos que llegaron antes del dia prometido: 0.181197 Porcentaje de pedidos que llegaron antes del dia prometido: 0.181197 Porcentaje de pedidos que llegaron antes del dia prometido: 0.181197 Porcentaje de pedidos que llegaron antes del dia prometido: 0.181197 Porcentaje de pedidos que llegaron antes del dia prometido: 0.181197 Porcentaje de pedidos que llegaron antes del dia prometido: 0.181197 Porcentaje de pedidos que llegaron antes del dia prometido: 0.181197 Porcentaje de pedidos que llegaron antes del dia prometido: 0.181197 Porcentaje de pedidos que llegaron antes del dia prometido: 0.181197 Porcentaje de pedidos que llegaron antes del dia prometido: 0.181197 Porcentaje de pedidos que llegaron antes del dia prometido: 0.181197 Porcentaje de pedidos que llegaron antes del dia prometido: 0.181197 \n"
          ],
          "name": "stdout"
        }
      ]
    },
    {
      "cell_type": "markdown",
      "metadata": {
        "id": "SVcqIDC23JvW",
        "colab_type": "text"
      },
      "source": [
        "Calculemos la métrica 3) porcentaje de pedidos que llegaron después del día prometido:"
      ]
    },
    {
      "cell_type": "code",
      "metadata": {
        "id": "zpXygQBE3RIx",
        "colab_type": "code",
        "colab": {
          "base_uri": "https://localhost:8080/",
          "height": 34
        },
        "outputId": "470daa73-77e4-4006-9c5b-f3abf141992f"
      },
      "source": [
        "count_received_after_that_promise_date = df_train.loc[df_train['new_metric']<0]\n",
        "count_received_after_that_promise_date = count_received_after_that_promise_date.shape[0]\n",
        "count_received_after_that_promise_date"
      ],
      "execution_count": null,
      "outputs": [
        {
          "output_type": "execute_result",
          "data": {
            "text/plain": [
              "87262"
            ]
          },
          "metadata": {
            "tags": []
          },
          "execution_count": 278
        }
      ]
    },
    {
      "cell_type": "markdown",
      "metadata": {
        "id": "NF5DJEYA3muL",
        "colab_type": "text"
      },
      "source": [
        "Nos falta calcularlo sobre el total, por ende queda:"
      ]
    },
    {
      "cell_type": "code",
      "metadata": {
        "id": "dFUuSSUj3sWd",
        "colab_type": "code",
        "colab": {
          "base_uri": "https://localhost:8080/",
          "height": 34
        },
        "outputId": "92c3ab38-fcb5-4014-d085-0b73d2ad098f"
      },
      "source": [
        "print ('Porcentaje de pedidos que llegaron después del dia prometido: %f ' % (float(count_received_after_that_promise_date)/float(total_orders))*100)"
      ],
      "execution_count": null,
      "outputs": [
        {
          "output_type": "stream",
          "text": [
            "Porcentaje de pedidos que llegaron después del dia prometido: 0.271402 \n"
          ],
          "name": "stdout"
        }
      ]
    },
    {
      "cell_type": "markdown",
      "metadata": {
        "id": "vIWipJtZGB_i",
        "colab_type": "text"
      },
      "source": [
        "Conclusiones:\n",
        "\n",
        "La diferencia entre los modelos de este práctico con el anterior; que en el anterior obteníamos mejores accuracys.\n",
        "Creemos que la performance disminuye (habría que calcular las métricas definidas en este práctico, en los clasificadores del práctico anterior).\n",
        "En cuanto a las nuevas métricas definidas el modelo de esembling nos estaría dando bastante bien, sin mirar el accuracy. Es decir un 54% de los pedidos se está prometiendo que va a demorar una cantidad de días que coinciden con lo real.\n",
        "Creemos que agregando alguna features más que sean relevantes para nuestra problemática se podría llegar a mejorar nuestra performance en estos clasificadores.\n"
      ]
    }
  ]
}