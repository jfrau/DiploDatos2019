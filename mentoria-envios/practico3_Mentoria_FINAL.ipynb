{
 "cells": [
  {
   "cell_type": "markdown",
   "metadata": {
    "colab_type": "text",
    "id": "UK2eYuMWUX0P"
   },
   "source": [
    "# Logística de envíos: ¿Cuándo llega?\n",
    "\n",
    "## Mentoría DiploDatos 2019 \n",
    "\n",
    "### Integrantes:\n",
    "\n",
    "- Chaves, Noelia\n",
    "- Frau, Johanna\n",
    "\n",
    "### Mentora:\n",
    "\n",
    "- Dal Lago, Virginia\n",
    "\n",
    "# Práctico: Introducción al aprendizaje automático"
   ]
  },
  {
   "cell_type": "markdown",
   "metadata": {
    "colab_type": "text",
    "id": "DQguL3wiUX0R"
   },
   "source": [
    "## Motivación\n",
    "\n",
    "En la actualidad, cada vez más productos se comercializan a través de una plataforma online. Una de las principales ventajas de este sistema es que el usuario puede recibir el producto en su domicilio en una fecha determinada. Pero, ¿cómo sabemos qué día va a llegar? ¿A partir de qué datos podemos predecir la demora del envío? En este práctico se trabajará con datos de envíos de MercadoLibre, el e-commerce más grande de Latinoamérica, analizando y modelando el problema de logística de envíos para poder responder ¿cuándo llega?\n",
    "\n",
    "## Descripción del dataset\n",
    "\n",
    "**Datos:**  El conjunto de datos seleccionado para realizar el práctico corresponde a un muestreo aleatorio no uniforme de 500.000 envíos de MercadoLibre. Estos envíos fueron realizados en Brasil en el período comprendido entre Octubre de 2018 y Abril de 2019 (las fechas originales han sido modificadas y adaptadas a un período de tiempo diferente, conservando el día de la semana y considerando los feriados correspondientes). Mientras que las fechas han sido modificadas, los horarios registrados en el dataset son los originales. Los datos comprenden variables tanto categóricas como numéricas. \n",
    "\n",
    "El dataset cuenta con las siguientes columnas:\n",
    "\n",
    "- **Sender_state:** Estado de Brasil de donde sale el envío.\n",
    "- **Sender_zipcode:** Código postal (de 5 dígitos) de donde sale el envío.\n",
    "- **Receiver_state:** Estado de Brasil a donde llega el envío.\n",
    "- **Receiver_zipcode:** Código postal (de 5 dígitos) a donde llega el envío.\n",
    "- **Shipment_type:** Método de envío (normal, express, super).\n",
    "- **Quantity:** Cantidad de productos en un envío.\n",
    "- **Service:** Servicio del correo con el cual se realizó un envío.\n",
    "- **Status:** Estado del envío (set: listo para ser enviado, sent: enviado, done: entregado, failed: no entregado, cancelled: cancelado).\n",
    "- **Date_created:** Fecha de creación del envío.\n",
    "- **Date_sent:** Fecha y hora en que se realizó el envío (salió del correo).\n",
    "- **Date_visit:** Fecha y hora en que se entregó el envío al destinatario.\n",
    "- **Shipment_days:** Días hábiles entre que el envío fue enviado (salió del correo) y que fue entregado.\n",
    "\n",
    "\n"
   ]
  },
  {
   "cell_type": "markdown",
   "metadata": {
    "colab_type": "text",
    "id": "6C71choGUX0S"
   },
   "source": [
    "## Objetivos generales\n",
    "\n",
    "  * Realizar de manera completa el proceso de desarrollo de un modelo de aprendizaje automático para determinar cuándo llega un envío.\n",
    "  * Desarrollar el conocimiento práctico sobre dicho proceso, desde la definición de los datasets, la elección y análisis del modelo y las métricas propias para la problemática.\n",
    "  * Desarrollar habilidades de comunicación de la información obtenida a partir de los datos de manera clara y sencilla."
   ]
  },
  {
   "cell_type": "markdown",
   "metadata": {
    "colab_type": "text",
    "id": "IiRvgazNUX0T"
   },
   "source": [
    "## Objetivos específicos\n",
    "\n",
    "* Probar diferentes modelos de aprendizaje automático ver cual se comporta mejor con nuestro dataset.\n",
    "* Hacer una partición de los datos que tenga sentido en nuestra problemática.\n",
    "* Seguir analizando cuáles features resultan más importantes en la predicción a realizar."
   ]
  },
  {
   "cell_type": "markdown",
   "metadata": {
    "colab_type": "text",
    "id": "fr-c3rSLUX0U"
   },
   "source": [
    "## Desarrollo del trabajo"
   ]
  },
  {
   "cell_type": "code",
   "execution_count": 107,
   "metadata": {
    "colab": {},
    "colab_type": "code",
    "id": "8PZqZdWOUX0V"
   },
   "outputs": [],
   "source": [
    "import matplotlib.pyplot as plt\n",
    "import numpy as np\n",
    "import pandas\n",
    "import seaborn as sns\n",
    "\n",
    "\n",
    "from datetime import timedelta\n",
    "from IPython.display import HTML\n",
    "from matplotlib.colors import ListedColormap\n",
    "from scipy import stats\n",
    "from sklearn import preprocessing\n",
    "from sklearn import tree\n",
    "from sklearn.linear_model import LinearRegression, SGDClassifier, LogisticRegression\n",
    "from sklearn.metrics import confusion_matrix, classification_report, accuracy_score, mean_squared_error\n",
    "from sklearn.model_selection import train_test_split, GridSearchCV\n",
    "from sklearn.neighbors import KNeighborsClassifier\n",
    "from sklearn.preprocessing import MinMaxScaler,PolynomialFeatures"
   ]
  },
  {
   "cell_type": "markdown",
   "metadata": {
    "colab_type": "text",
    "id": "Jptu3QGeUX0a"
   },
   "source": [
    "### Lectura y análisis inicial de los datos"
   ]
  },
  {
   "cell_type": "code",
   "execution_count": 108,
   "metadata": {
    "colab": {
     "base_uri": "https://localhost:8080/",
     "height": 33
    },
    "colab_type": "code",
    "executionInfo": {
     "elapsed": 5637,
     "status": "ok",
     "timestamp": 1567966059409,
     "user": {
      "displayName": "Johanna Frau",
      "photoUrl": "https://lh3.googleusercontent.com/a-/AAuE7mCz7ppSJZsUk9D_GAJzKmAHzuLcDkDQL2VhEf7VInk=s64",
      "userId": "12340570416827246133"
     },
     "user_tz": 180
    },
    "id": "S8n6LFm5UX0b",
    "outputId": "2c0ef236-a7fe-47a2-828b-1e78e947331f"
   },
   "outputs": [
    {
     "data": {
      "text/plain": [
       "(500000, 12)"
      ]
     },
     "execution_count": 108,
     "metadata": {},
     "output_type": "execute_result"
    }
   ],
   "source": [
    "url = \"https://raw.githubusercontent.com/cnoeliachaves/csv/master/dataset_sample_corrected.csv\"\n",
    "\n",
    "dataset = pandas.read_csv(url, dtype={'sender_zipcode':'int64',\n",
    "                              'receiver_zipcode':'int64',\n",
    "                              'quantity':'int64',\n",
    "                              'service':'int64'},\n",
    "                       parse_dates=['date_created','date_sent','date_visit'])\n",
    "dataset.shape\n"
   ]
  },
  {
   "cell_type": "code",
   "execution_count": 109,
   "metadata": {
    "colab": {
     "base_uri": "https://localhost:8080/",
     "height": 83
    },
    "colab_type": "code",
    "executionInfo": {
     "elapsed": 5572,
     "status": "ok",
     "timestamp": 1567966059411,
     "user": {
      "displayName": "Johanna Frau",
      "photoUrl": "https://lh3.googleusercontent.com/a-/AAuE7mCz7ppSJZsUk9D_GAJzKmAHzuLcDkDQL2VhEf7VInk=s64",
      "userId": "12340570416827246133"
     },
     "user_tz": 180
    },
    "id": "p6Xgk-azUX0f",
    "outputId": "b120218f-09eb-4df8-b733-a1e6e6222376"
   },
   "outputs": [
    {
     "data": {
      "text/plain": [
       "Index(['sender_state', 'sender_zipcode', 'receiver_state', 'receiver_zipcode',\n",
       "       'shipment_type', 'quantity', 'service', 'status', 'date_created',\n",
       "       'date_sent', 'date_visit', 'shipment_days'],\n",
       "      dtype='object')"
      ]
     },
     "execution_count": 109,
     "metadata": {},
     "output_type": "execute_result"
    }
   ],
   "source": [
    "dataset.columns"
   ]
  },
  {
   "cell_type": "code",
   "execution_count": 110,
   "metadata": {
    "colab": {
     "base_uri": "https://localhost:8080/",
     "height": 300
    },
    "colab_type": "code",
    "executionInfo": {
     "elapsed": 5558,
     "status": "ok",
     "timestamp": 1567966059412,
     "user": {
      "displayName": "Johanna Frau",
      "photoUrl": "https://lh3.googleusercontent.com/a-/AAuE7mCz7ppSJZsUk9D_GAJzKmAHzuLcDkDQL2VhEf7VInk=s64",
      "userId": "12340570416827246133"
     },
     "user_tz": 180
    },
    "id": "Q2Swl5SvUX0i",
    "outputId": "88afb1bf-68b1-433a-9ac0-ef9e6f92a63c"
   },
   "outputs": [
    {
     "name": "stdout",
     "output_type": "stream",
     "text": [
      "<class 'pandas.core.frame.DataFrame'>\n",
      "RangeIndex: 500000 entries, 0 to 499999\n",
      "Data columns (total 12 columns):\n",
      "sender_state        500000 non-null object\n",
      "sender_zipcode      500000 non-null int64\n",
      "receiver_state      500000 non-null object\n",
      "receiver_zipcode    500000 non-null int64\n",
      "shipment_type       500000 non-null object\n",
      "quantity            500000 non-null int64\n",
      "service             500000 non-null int64\n",
      "status              500000 non-null object\n",
      "date_created        500000 non-null datetime64[ns]\n",
      "date_sent           499971 non-null datetime64[ns]\n",
      "date_visit          499398 non-null datetime64[ns]\n",
      "shipment_days       499398 non-null float64\n",
      "dtypes: datetime64[ns](3), float64(1), int64(4), object(4)\n",
      "memory usage: 45.8+ MB\n"
     ]
    }
   ],
   "source": [
    "dataset.info()"
   ]
  },
  {
   "cell_type": "code",
   "execution_count": 111,
   "metadata": {
    "colab": {
     "base_uri": "https://localhost:8080/",
     "height": 534
    },
    "colab_type": "code",
    "executionInfo": {
     "elapsed": 5543,
     "status": "ok",
     "timestamp": 1567966059413,
     "user": {
      "displayName": "Johanna Frau",
      "photoUrl": "https://lh3.googleusercontent.com/a-/AAuE7mCz7ppSJZsUk9D_GAJzKmAHzuLcDkDQL2VhEf7VInk=s64",
      "userId": "12340570416827246133"
     },
     "user_tz": 180
    },
    "id": "1mz8vwJfUX0l",
    "outputId": "50d5a5f7-6fcd-4f63-e1a8-fd634a332cd7"
   },
   "outputs": [
    {
     "data": {
      "text/html": [
       "<div>\n",
       "<style scoped>\n",
       "    .dataframe tbody tr th:only-of-type {\n",
       "        vertical-align: middle;\n",
       "    }\n",
       "\n",
       "    .dataframe tbody tr th {\n",
       "        vertical-align: top;\n",
       "    }\n",
       "\n",
       "    .dataframe thead th {\n",
       "        text-align: right;\n",
       "    }\n",
       "</style>\n",
       "<table border=\"1\" class=\"dataframe\">\n",
       "  <thead>\n",
       "    <tr style=\"text-align: right;\">\n",
       "      <th></th>\n",
       "      <th>sender_state</th>\n",
       "      <th>sender_zipcode</th>\n",
       "      <th>receiver_state</th>\n",
       "      <th>receiver_zipcode</th>\n",
       "      <th>shipment_type</th>\n",
       "      <th>quantity</th>\n",
       "      <th>service</th>\n",
       "      <th>status</th>\n",
       "      <th>date_created</th>\n",
       "      <th>date_sent</th>\n",
       "      <th>date_visit</th>\n",
       "      <th>shipment_days</th>\n",
       "    </tr>\n",
       "  </thead>\n",
       "  <tbody>\n",
       "    <tr>\n",
       "      <td>459222</td>\n",
       "      <td>SP</td>\n",
       "      <td>4691</td>\n",
       "      <td>PA</td>\n",
       "      <td>68330</td>\n",
       "      <td>standard</td>\n",
       "      <td>1</td>\n",
       "      <td>1</td>\n",
       "      <td>done</td>\n",
       "      <td>2019-02-02</td>\n",
       "      <td>2019-02-05 07:12:00</td>\n",
       "      <td>2019-03-11 16:04:00</td>\n",
       "      <td>21.0</td>\n",
       "    </tr>\n",
       "    <tr>\n",
       "      <td>28619</td>\n",
       "      <td>SP</td>\n",
       "      <td>3017</td>\n",
       "      <td>RS</td>\n",
       "      <td>98130</td>\n",
       "      <td>standard</td>\n",
       "      <td>1</td>\n",
       "      <td>1</td>\n",
       "      <td>done</td>\n",
       "      <td>2019-02-11</td>\n",
       "      <td>2019-02-18 16:17:00</td>\n",
       "      <td>2019-03-14 06:32:00</td>\n",
       "      <td>15.0</td>\n",
       "    </tr>\n",
       "    <tr>\n",
       "      <td>453020</td>\n",
       "      <td>SP</td>\n",
       "      <td>14405</td>\n",
       "      <td>MG</td>\n",
       "      <td>37130</td>\n",
       "      <td>standard</td>\n",
       "      <td>1</td>\n",
       "      <td>2</td>\n",
       "      <td>done</td>\n",
       "      <td>2019-03-05</td>\n",
       "      <td>2019-03-09 04:44:28</td>\n",
       "      <td>2019-03-13 16:07:00</td>\n",
       "      <td>2.0</td>\n",
       "    </tr>\n",
       "    <tr>\n",
       "      <td>16289</td>\n",
       "      <td>SP</td>\n",
       "      <td>4904</td>\n",
       "      <td>SP</td>\n",
       "      <td>15500</td>\n",
       "      <td>express</td>\n",
       "      <td>1</td>\n",
       "      <td>3</td>\n",
       "      <td>done</td>\n",
       "      <td>2019-03-12</td>\n",
       "      <td>2019-03-14 15:09:00</td>\n",
       "      <td>2019-03-20 18:05:00</td>\n",
       "      <td>4.0</td>\n",
       "    </tr>\n",
       "    <tr>\n",
       "      <td>337995</td>\n",
       "      <td>SP</td>\n",
       "      <td>4266</td>\n",
       "      <td>MA</td>\n",
       "      <td>65061</td>\n",
       "      <td>standard</td>\n",
       "      <td>1</td>\n",
       "      <td>4</td>\n",
       "      <td>done</td>\n",
       "      <td>2019-03-13</td>\n",
       "      <td>2019-03-15 01:18:29</td>\n",
       "      <td>2019-03-25 11:17:00</td>\n",
       "      <td>6.0</td>\n",
       "    </tr>\n",
       "    <tr>\n",
       "      <td>232178</td>\n",
       "      <td>SP</td>\n",
       "      <td>13290</td>\n",
       "      <td>SP</td>\n",
       "      <td>6050</td>\n",
       "      <td>super</td>\n",
       "      <td>1</td>\n",
       "      <td>6</td>\n",
       "      <td>done</td>\n",
       "      <td>2019-02-28</td>\n",
       "      <td>2019-03-01 02:25:00</td>\n",
       "      <td>2019-03-07 11:20:37</td>\n",
       "      <td>1.0</td>\n",
       "    </tr>\n",
       "    <tr>\n",
       "      <td>220911</td>\n",
       "      <td>SP</td>\n",
       "      <td>6311</td>\n",
       "      <td>SP</td>\n",
       "      <td>11520</td>\n",
       "      <td>express</td>\n",
       "      <td>1</td>\n",
       "      <td>0</td>\n",
       "      <td>done</td>\n",
       "      <td>2019-03-04</td>\n",
       "      <td>2019-03-06 15:36:00</td>\n",
       "      <td>2019-03-08 18:59:00</td>\n",
       "      <td>1.0</td>\n",
       "    </tr>\n",
       "    <tr>\n",
       "      <td>33028</td>\n",
       "      <td>SP</td>\n",
       "      <td>7803</td>\n",
       "      <td>SP</td>\n",
       "      <td>13503</td>\n",
       "      <td>express</td>\n",
       "      <td>1</td>\n",
       "      <td>0</td>\n",
       "      <td>done</td>\n",
       "      <td>2019-03-08</td>\n",
       "      <td>2019-03-08 17:05:00</td>\n",
       "      <td>2019-03-12 16:01:00</td>\n",
       "      <td>2.0</td>\n",
       "    </tr>\n",
       "    <tr>\n",
       "      <td>35358</td>\n",
       "      <td>SP</td>\n",
       "      <td>1536</td>\n",
       "      <td>PE</td>\n",
       "      <td>56828</td>\n",
       "      <td>standard</td>\n",
       "      <td>1</td>\n",
       "      <td>1</td>\n",
       "      <td>done</td>\n",
       "      <td>2019-03-03</td>\n",
       "      <td>2019-03-05 11:22:46</td>\n",
       "      <td>2019-03-19 13:18:00</td>\n",
       "      <td>8.0</td>\n",
       "    </tr>\n",
       "    <tr>\n",
       "      <td>47950</td>\n",
       "      <td>SP</td>\n",
       "      <td>12322</td>\n",
       "      <td>ES</td>\n",
       "      <td>29680</td>\n",
       "      <td>standard</td>\n",
       "      <td>2</td>\n",
       "      <td>1</td>\n",
       "      <td>done</td>\n",
       "      <td>2019-03-05</td>\n",
       "      <td>2019-03-06 10:34:00</td>\n",
       "      <td>2019-03-18 15:06:00</td>\n",
       "      <td>7.0</td>\n",
       "    </tr>\n",
       "  </tbody>\n",
       "</table>\n",
       "</div>"
      ],
      "text/plain": [
       "       sender_state  sender_zipcode receiver_state  receiver_zipcode  \\\n",
       "459222           SP            4691             PA             68330   \n",
       "28619            SP            3017             RS             98130   \n",
       "453020           SP           14405             MG             37130   \n",
       "16289            SP            4904             SP             15500   \n",
       "337995           SP            4266             MA             65061   \n",
       "232178           SP           13290             SP              6050   \n",
       "220911           SP            6311             SP             11520   \n",
       "33028            SP            7803             SP             13503   \n",
       "35358            SP            1536             PE             56828   \n",
       "47950            SP           12322             ES             29680   \n",
       "\n",
       "       shipment_type  quantity  service status date_created  \\\n",
       "459222      standard         1        1   done   2019-02-02   \n",
       "28619       standard         1        1   done   2019-02-11   \n",
       "453020      standard         1        2   done   2019-03-05   \n",
       "16289        express         1        3   done   2019-03-12   \n",
       "337995      standard         1        4   done   2019-03-13   \n",
       "232178         super         1        6   done   2019-02-28   \n",
       "220911       express         1        0   done   2019-03-04   \n",
       "33028        express         1        0   done   2019-03-08   \n",
       "35358       standard         1        1   done   2019-03-03   \n",
       "47950       standard         2        1   done   2019-03-05   \n",
       "\n",
       "                 date_sent          date_visit  shipment_days  \n",
       "459222 2019-02-05 07:12:00 2019-03-11 16:04:00           21.0  \n",
       "28619  2019-02-18 16:17:00 2019-03-14 06:32:00           15.0  \n",
       "453020 2019-03-09 04:44:28 2019-03-13 16:07:00            2.0  \n",
       "16289  2019-03-14 15:09:00 2019-03-20 18:05:00            4.0  \n",
       "337995 2019-03-15 01:18:29 2019-03-25 11:17:00            6.0  \n",
       "232178 2019-03-01 02:25:00 2019-03-07 11:20:37            1.0  \n",
       "220911 2019-03-06 15:36:00 2019-03-08 18:59:00            1.0  \n",
       "33028  2019-03-08 17:05:00 2019-03-12 16:01:00            2.0  \n",
       "35358  2019-03-05 11:22:46 2019-03-19 13:18:00            8.0  \n",
       "47950  2019-03-06 10:34:00 2019-03-18 15:06:00            7.0  "
      ]
     },
     "execution_count": 111,
     "metadata": {},
     "output_type": "execute_result"
    }
   ],
   "source": [
    "np.random.seed(1234) #con propositos de reproducibilidad\n",
    "dataset.sample(10)"
   ]
  },
  {
   "cell_type": "markdown",
   "metadata": {
    "colab_type": "text",
    "id": "xPCw0z_hUX0p"
   },
   "source": [
    "### Limpieza de datos\n",
    "\n",
    "En esta sección retomaremos algunos puntos del práctico anterior con el objetivo de limpiar nuestro dataset."
   ]
  },
  {
   "cell_type": "markdown",
   "metadata": {
    "colab_type": "text",
    "id": "y_-ydh1qUX0q"
   },
   "source": [
    "#### Shipment day anómalos \n",
    "\n",
    "En primer lugar, eliminaremos los valores de shipment days negativos."
   ]
  },
  {
   "cell_type": "code",
   "execution_count": 112,
   "metadata": {
    "colab": {},
    "colab_type": "code",
    "id": "ftujA2CMUX0r"
   },
   "outputs": [],
   "source": [
    "def clean_shipment_days(dataset):\n",
    "    \"\"\"Le saco los valores negativos\"\"\"\n",
    "    shipments_days = dataset['shipment_days']\n",
    "    mask = (shipments_days >= 0)\n",
    "    return dataset[mask] "
   ]
  },
  {
   "cell_type": "code",
   "execution_count": 113,
   "metadata": {
    "colab": {},
    "colab_type": "code",
    "id": "3b-stq_lUX0v"
   },
   "outputs": [],
   "source": [
    "dataset_clean = clean_shipment_days(dataset)"
   ]
  },
  {
   "cell_type": "markdown",
   "metadata": {
    "colab_type": "text",
    "id": "qI7zHvo0UX04"
   },
   "source": [
    "#### Fechas anómalas\n",
    "\n",
    "En el análisis realizado en el práctico anterior de las 3 variables con información de fechas y horas encontramos que la variable date_created cuenta con valores que caen fuera del intervalo temporal considerado y que todos ellos se encuentran ubicados en el mes de Junio de 2019. Luego de haber realizado una inspección de esta información anómala llegamos a la conclusión que los mismos podrían deberse a un error en el proceso de carga y que en realidad son datos de Enero de 2019. \n",
    "\n",
    "Siguiendo esta idea decidimos en este momento subsanar este posible error de carga haciendo que la información de la variable date_created correspondiente al mes de Junio de 2019 sea ahora del mes de Enero de 2019."
   ]
  },
  {
   "cell_type": "code",
   "execution_count": 114,
   "metadata": {
    "colab": {
     "base_uri": "https://localhost:8080/",
     "height": 1000
    },
    "colab_type": "code",
    "executionInfo": {
     "elapsed": 6912,
     "status": "ok",
     "timestamp": 1567966060805,
     "user": {
      "displayName": "Johanna Frau",
      "photoUrl": "https://lh3.googleusercontent.com/a-/AAuE7mCz7ppSJZsUk9D_GAJzKmAHzuLcDkDQL2VhEf7VInk=s64",
      "userId": "12340570416827246133"
     },
     "user_tz": 180
    },
    "id": "kI_G2Ya_UX05",
    "outputId": "fc466b7d-9880-420b-8b94-81dc1598f7a6"
   },
   "outputs": [
    {
     "data": {
      "text/html": [
       "<div>\n",
       "<style scoped>\n",
       "    .dataframe tbody tr th:only-of-type {\n",
       "        vertical-align: middle;\n",
       "    }\n",
       "\n",
       "    .dataframe tbody tr th {\n",
       "        vertical-align: top;\n",
       "    }\n",
       "\n",
       "    .dataframe thead th {\n",
       "        text-align: right;\n",
       "    }\n",
       "</style>\n",
       "<table border=\"1\" class=\"dataframe\">\n",
       "  <thead>\n",
       "    <tr style=\"text-align: right;\">\n",
       "      <th></th>\n",
       "      <th>sender_state</th>\n",
       "      <th>sender_zipcode</th>\n",
       "      <th>receiver_state</th>\n",
       "      <th>receiver_zipcode</th>\n",
       "      <th>shipment_type</th>\n",
       "      <th>quantity</th>\n",
       "      <th>service</th>\n",
       "      <th>status</th>\n",
       "      <th>date_created</th>\n",
       "      <th>date_sent</th>\n",
       "      <th>date_visit</th>\n",
       "      <th>shipment_days</th>\n",
       "    </tr>\n",
       "  </thead>\n",
       "  <tbody>\n",
       "    <tr>\n",
       "      <td>14265</td>\n",
       "      <td>SP</td>\n",
       "      <td>2350</td>\n",
       "      <td>RJ</td>\n",
       "      <td>20261</td>\n",
       "      <td>express</td>\n",
       "      <td>1</td>\n",
       "      <td>7</td>\n",
       "      <td>done</td>\n",
       "      <td>2019-06-27</td>\n",
       "      <td>2019-02-06 05:57:00</td>\n",
       "      <td>2019-03-01 11:31:00</td>\n",
       "      <td>17.0</td>\n",
       "    </tr>\n",
       "    <tr>\n",
       "      <td>18211</td>\n",
       "      <td>SP</td>\n",
       "      <td>7756</td>\n",
       "      <td>SP</td>\n",
       "      <td>13214</td>\n",
       "      <td>express</td>\n",
       "      <td>1</td>\n",
       "      <td>7</td>\n",
       "      <td>done</td>\n",
       "      <td>2019-06-27</td>\n",
       "      <td>2019-02-06 05:00:00</td>\n",
       "      <td>2019-03-01 09:08:00</td>\n",
       "      <td>17.0</td>\n",
       "    </tr>\n",
       "    <tr>\n",
       "      <td>27700</td>\n",
       "      <td>SP</td>\n",
       "      <td>5034</td>\n",
       "      <td>GO</td>\n",
       "      <td>74565</td>\n",
       "      <td>standard</td>\n",
       "      <td>1</td>\n",
       "      <td>7</td>\n",
       "      <td>done</td>\n",
       "      <td>2019-06-26</td>\n",
       "      <td>2019-02-06 10:56:00</td>\n",
       "      <td>2019-03-01 11:54:00</td>\n",
       "      <td>17.0</td>\n",
       "    </tr>\n",
       "    <tr>\n",
       "      <td>28540</td>\n",
       "      <td>SP</td>\n",
       "      <td>9060</td>\n",
       "      <td>MA</td>\n",
       "      <td>65050</td>\n",
       "      <td>standard</td>\n",
       "      <td>1</td>\n",
       "      <td>4</td>\n",
       "      <td>done</td>\n",
       "      <td>2019-06-20</td>\n",
       "      <td>2019-02-06 10:00:00</td>\n",
       "      <td>2019-03-01 12:02:00</td>\n",
       "      <td>17.0</td>\n",
       "    </tr>\n",
       "    <tr>\n",
       "      <td>33158</td>\n",
       "      <td>SP</td>\n",
       "      <td>16204</td>\n",
       "      <td>MG</td>\n",
       "      <td>31910</td>\n",
       "      <td>standard</td>\n",
       "      <td>2</td>\n",
       "      <td>7</td>\n",
       "      <td>done</td>\n",
       "      <td>2019-06-27</td>\n",
       "      <td>2019-02-06 04:03:00</td>\n",
       "      <td>2019-03-01 16:43:00</td>\n",
       "      <td>17.0</td>\n",
       "    </tr>\n",
       "    <tr>\n",
       "      <td>...</td>\n",
       "      <td>...</td>\n",
       "      <td>...</td>\n",
       "      <td>...</td>\n",
       "      <td>...</td>\n",
       "      <td>...</td>\n",
       "      <td>...</td>\n",
       "      <td>...</td>\n",
       "      <td>...</td>\n",
       "      <td>...</td>\n",
       "      <td>...</td>\n",
       "      <td>...</td>\n",
       "      <td>...</td>\n",
       "    </tr>\n",
       "    <tr>\n",
       "      <td>476406</td>\n",
       "      <td>SP</td>\n",
       "      <td>3106</td>\n",
       "      <td>SP</td>\n",
       "      <td>13212</td>\n",
       "      <td>express</td>\n",
       "      <td>2</td>\n",
       "      <td>7</td>\n",
       "      <td>done</td>\n",
       "      <td>2019-06-27</td>\n",
       "      <td>2019-02-06 05:24:00</td>\n",
       "      <td>2019-03-01 06:40:00</td>\n",
       "      <td>17.0</td>\n",
       "    </tr>\n",
       "    <tr>\n",
       "      <td>477031</td>\n",
       "      <td>SP</td>\n",
       "      <td>3064</td>\n",
       "      <td>TO</td>\n",
       "      <td>77018</td>\n",
       "      <td>standard</td>\n",
       "      <td>1</td>\n",
       "      <td>7</td>\n",
       "      <td>done</td>\n",
       "      <td>2019-06-13</td>\n",
       "      <td>2019-03-06 04:50:00</td>\n",
       "      <td>2019-03-07 07:28:00</td>\n",
       "      <td>0.0</td>\n",
       "    </tr>\n",
       "    <tr>\n",
       "      <td>491472</td>\n",
       "      <td>SP</td>\n",
       "      <td>14405</td>\n",
       "      <td>GO</td>\n",
       "      <td>74565</td>\n",
       "      <td>standard</td>\n",
       "      <td>1</td>\n",
       "      <td>7</td>\n",
       "      <td>done</td>\n",
       "      <td>2019-06-22</td>\n",
       "      <td>2019-02-06 04:21:00</td>\n",
       "      <td>2019-03-01 11:57:00</td>\n",
       "      <td>17.0</td>\n",
       "    </tr>\n",
       "    <tr>\n",
       "      <td>492207</td>\n",
       "      <td>SP</td>\n",
       "      <td>9090</td>\n",
       "      <td>AM</td>\n",
       "      <td>69088</td>\n",
       "      <td>standard</td>\n",
       "      <td>1</td>\n",
       "      <td>10</td>\n",
       "      <td>failed</td>\n",
       "      <td>2019-06-02</td>\n",
       "      <td>2019-03-06 06:48:00</td>\n",
       "      <td>2019-03-07 15:25:00</td>\n",
       "      <td>0.0</td>\n",
       "    </tr>\n",
       "    <tr>\n",
       "      <td>498132</td>\n",
       "      <td>SP</td>\n",
       "      <td>7429</td>\n",
       "      <td>ES</td>\n",
       "      <td>29100</td>\n",
       "      <td>standard</td>\n",
       "      <td>1</td>\n",
       "      <td>7</td>\n",
       "      <td>done</td>\n",
       "      <td>2019-06-28</td>\n",
       "      <td>2019-02-06 05:06:00</td>\n",
       "      <td>2019-03-01 06:05:00</td>\n",
       "      <td>17.0</td>\n",
       "    </tr>\n",
       "  </tbody>\n",
       "</table>\n",
       "<p>98 rows × 12 columns</p>\n",
       "</div>"
      ],
      "text/plain": [
       "       sender_state  sender_zipcode receiver_state  receiver_zipcode  \\\n",
       "14265            SP            2350             RJ             20261   \n",
       "18211            SP            7756             SP             13214   \n",
       "27700            SP            5034             GO             74565   \n",
       "28540            SP            9060             MA             65050   \n",
       "33158            SP           16204             MG             31910   \n",
       "...             ...             ...            ...               ...   \n",
       "476406           SP            3106             SP             13212   \n",
       "477031           SP            3064             TO             77018   \n",
       "491472           SP           14405             GO             74565   \n",
       "492207           SP            9090             AM             69088   \n",
       "498132           SP            7429             ES             29100   \n",
       "\n",
       "       shipment_type  quantity  service  status date_created  \\\n",
       "14265        express         1        7    done   2019-06-27   \n",
       "18211        express         1        7    done   2019-06-27   \n",
       "27700       standard         1        7    done   2019-06-26   \n",
       "28540       standard         1        4    done   2019-06-20   \n",
       "33158       standard         2        7    done   2019-06-27   \n",
       "...              ...       ...      ...     ...          ...   \n",
       "476406       express         2        7    done   2019-06-27   \n",
       "477031      standard         1        7    done   2019-06-13   \n",
       "491472      standard         1        7    done   2019-06-22   \n",
       "492207      standard         1       10  failed   2019-06-02   \n",
       "498132      standard         1        7    done   2019-06-28   \n",
       "\n",
       "                 date_sent          date_visit  shipment_days  \n",
       "14265  2019-02-06 05:57:00 2019-03-01 11:31:00           17.0  \n",
       "18211  2019-02-06 05:00:00 2019-03-01 09:08:00           17.0  \n",
       "27700  2019-02-06 10:56:00 2019-03-01 11:54:00           17.0  \n",
       "28540  2019-02-06 10:00:00 2019-03-01 12:02:00           17.0  \n",
       "33158  2019-02-06 04:03:00 2019-03-01 16:43:00           17.0  \n",
       "...                    ...                 ...            ...  \n",
       "476406 2019-02-06 05:24:00 2019-03-01 06:40:00           17.0  \n",
       "477031 2019-03-06 04:50:00 2019-03-07 07:28:00            0.0  \n",
       "491472 2019-02-06 04:21:00 2019-03-01 11:57:00           17.0  \n",
       "492207 2019-03-06 06:48:00 2019-03-07 15:25:00            0.0  \n",
       "498132 2019-02-06 05:06:00 2019-03-01 06:05:00           17.0  \n",
       "\n",
       "[98 rows x 12 columns]"
      ]
     },
     "execution_count": 114,
     "metadata": {},
     "output_type": "execute_result"
    }
   ],
   "source": [
    "date_created_junio = dataset_clean[dataset_clean['date_created'].map(lambda x: x.month) == 6]\n",
    "date_created_junio"
   ]
  },
  {
   "cell_type": "code",
   "execution_count": 115,
   "metadata": {
    "colab": {},
    "colab_type": "code",
    "id": "y9tz1biUUX0_"
   },
   "outputs": [],
   "source": [
    "date_created_junio = dataset_clean['date_created'].map(lambda x: \n",
    "                                                       x+timedelta(days=-151) \n",
    "                                                       if x.month==6 else x) \n"
   ]
  },
  {
   "cell_type": "code",
   "execution_count": 116,
   "metadata": {
    "colab": {
     "base_uri": "https://localhost:8080/",
     "height": 136
    },
    "colab_type": "code",
    "executionInfo": {
     "elapsed": 8113,
     "status": "ok",
     "timestamp": 1567966062029,
     "user": {
      "displayName": "Johanna Frau",
      "photoUrl": "https://lh3.googleusercontent.com/a-/AAuE7mCz7ppSJZsUk9D_GAJzKmAHzuLcDkDQL2VhEf7VInk=s64",
      "userId": "12340570416827246133"
     },
     "user_tz": 180
    },
    "id": "ovwt-Tw5TT5e",
    "outputId": "d9a18b8c-7bcc-4d1e-b4d9-fbe75dbe1d40"
   },
   "outputs": [
    {
     "name": "stderr",
     "output_type": "stream",
     "text": [
      "/home/jfrau/anaconda3/lib/python3.7/site-packages/pandas/core/indexing.py:494: SettingWithCopyWarning: \n",
      "A value is trying to be set on a copy of a slice from a DataFrame.\n",
      "Try using .loc[row_indexer,col_indexer] = value instead\n",
      "\n",
      "See the caveats in the documentation: http://pandas.pydata.org/pandas-docs/stable/user_guide/indexing.html#returning-a-view-versus-a-copy\n",
      "  self.obj[item] = s\n"
     ]
    }
   ],
   "source": [
    "dataset_clean.loc[:,'date_created'] = date_created_junio"
   ]
  },
  {
   "cell_type": "code",
   "execution_count": 117,
   "metadata": {
    "colab": {
     "base_uri": "https://localhost:8080/",
     "height": 33
    },
    "colab_type": "code",
    "executionInfo": {
     "elapsed": 8451,
     "status": "ok",
     "timestamp": 1567966062385,
     "user": {
      "displayName": "Johanna Frau",
      "photoUrl": "https://lh3.googleusercontent.com/a-/AAuE7mCz7ppSJZsUk9D_GAJzKmAHzuLcDkDQL2VhEf7VInk=s64",
      "userId": "12340570416827246133"
     },
     "user_tz": 180
    },
    "id": "4EdiA6TZUX1C",
    "outputId": "4ab8f260-ecc1-4db5-922b-fb64d00ae285"
   },
   "outputs": [
    {
     "data": {
      "text/plain": [
       "array([ 3,  2,  1,  4, 12, 10, 11])"
      ]
     },
     "execution_count": 117,
     "metadata": {},
     "output_type": "execute_result"
    }
   ],
   "source": [
    "dataset_clean['date_created'].dt.month.unique()"
   ]
  },
  {
   "cell_type": "code",
   "execution_count": 118,
   "metadata": {
    "colab": {
     "base_uri": "https://localhost:8080/",
     "height": 227
    },
    "colab_type": "code",
    "executionInfo": {
     "elapsed": 8436,
     "status": "ok",
     "timestamp": 1567966062387,
     "user": {
      "displayName": "Johanna Frau",
      "photoUrl": "https://lh3.googleusercontent.com/a-/AAuE7mCz7ppSJZsUk9D_GAJzKmAHzuLcDkDQL2VhEf7VInk=s64",
      "userId": "12340570416827246133"
     },
     "user_tz": 180
    },
    "id": "rq8xu8gYUX1F",
    "outputId": "14ebeb10-183e-49f7-ff1a-862a49a13d3b"
   },
   "outputs": [
    {
     "data": {
      "text/html": [
       "<div>\n",
       "<style scoped>\n",
       "    .dataframe tbody tr th:only-of-type {\n",
       "        vertical-align: middle;\n",
       "    }\n",
       "\n",
       "    .dataframe tbody tr th {\n",
       "        vertical-align: top;\n",
       "    }\n",
       "\n",
       "    .dataframe thead th {\n",
       "        text-align: right;\n",
       "    }\n",
       "</style>\n",
       "<table border=\"1\" class=\"dataframe\">\n",
       "  <thead>\n",
       "    <tr style=\"text-align: right;\">\n",
       "      <th></th>\n",
       "      <th>date_created</th>\n",
       "      <th>date_sent</th>\n",
       "      <th>date_visit</th>\n",
       "    </tr>\n",
       "  </thead>\n",
       "  <tbody>\n",
       "    <tr>\n",
       "      <td>count</td>\n",
       "      <td>499350</td>\n",
       "      <td>499350</td>\n",
       "      <td>499350</td>\n",
       "    </tr>\n",
       "    <tr>\n",
       "      <td>unique</td>\n",
       "      <td>124</td>\n",
       "      <td>81276</td>\n",
       "      <td>55668</td>\n",
       "    </tr>\n",
       "    <tr>\n",
       "      <td>top</td>\n",
       "      <td>2019-03-05 00:00:00</td>\n",
       "      <td>2019-03-11 15:53:00</td>\n",
       "      <td>2019-03-11 22:00:00</td>\n",
       "    </tr>\n",
       "    <tr>\n",
       "      <td>freq</td>\n",
       "      <td>20424</td>\n",
       "      <td>113</td>\n",
       "      <td>621</td>\n",
       "    </tr>\n",
       "    <tr>\n",
       "      <td>first</td>\n",
       "      <td>2018-10-21 00:00:00</td>\n",
       "      <td>2018-10-23 13:57:00</td>\n",
       "      <td>2019-02-25 05:36:00</td>\n",
       "    </tr>\n",
       "    <tr>\n",
       "      <td>last</td>\n",
       "      <td>2019-04-29 00:00:00</td>\n",
       "      <td>2019-03-29 01:46:20</td>\n",
       "      <td>2019-04-02 15:35:00</td>\n",
       "    </tr>\n",
       "  </tbody>\n",
       "</table>\n",
       "</div>"
      ],
      "text/plain": [
       "               date_created            date_sent           date_visit\n",
       "count                499350               499350               499350\n",
       "unique                  124                81276                55668\n",
       "top     2019-03-05 00:00:00  2019-03-11 15:53:00  2019-03-11 22:00:00\n",
       "freq                  20424                  113                  621\n",
       "first   2018-10-21 00:00:00  2018-10-23 13:57:00  2019-02-25 05:36:00\n",
       "last    2019-04-29 00:00:00  2019-03-29 01:46:20  2019-04-02 15:35:00"
      ]
     },
     "execution_count": 118,
     "metadata": {},
     "output_type": "execute_result"
    }
   ],
   "source": [
    "dataset_clean.describe(include='datetime64')"
   ]
  },
  {
   "cell_type": "markdown",
   "metadata": {
    "colab_type": "text",
    "id": "h2IvvXM0-vv0"
   },
   "source": [
    "En el describe de arriba, podemos ver que la última fecha de creación es posterior a la última fecha de data_sent como date_visit, pero consideramos que dichos datos son correctos, ya que no contamos con el completo dataset."
   ]
  },
  {
   "cell_type": "markdown",
   "metadata": {
    "colab_type": "text",
    "id": "QFvILb8gGWto"
   },
   "source": [
    "#### Valores nulos"
   ]
  },
  {
   "cell_type": "markdown",
   "metadata": {
    "colab_type": "text",
    "id": "Qro0D07OECTX"
   },
   "source": [
    "Veamos cuantos valores nulos tenemos"
   ]
  },
  {
   "cell_type": "code",
   "execution_count": 119,
   "metadata": {
    "colab": {
     "base_uri": "https://localhost:8080/",
     "height": 33
    },
    "colab_type": "code",
    "executionInfo": {
     "elapsed": 8421,
     "status": "ok",
     "timestamp": 1567966062390,
     "user": {
      "displayName": "Johanna Frau",
      "photoUrl": "https://lh3.googleusercontent.com/a-/AAuE7mCz7ppSJZsUk9D_GAJzKmAHzuLcDkDQL2VhEf7VInk=s64",
      "userId": "12340570416827246133"
     },
     "user_tz": 180
    },
    "id": "qwWQirqAEMli",
    "outputId": "0c15c319-faa8-43c2-d2d8-cbc2da652711"
   },
   "outputs": [
    {
     "data": {
      "text/plain": [
       "Series([], dtype: int64)"
      ]
     },
     "execution_count": 119,
     "metadata": {},
     "output_type": "execute_result"
    }
   ],
   "source": [
    "null_values_count = dataset_clean.isnull().sum()\n",
    "null_values_count[null_values_count > 0]"
   ]
  },
  {
   "cell_type": "markdown",
   "metadata": {
    "colab_type": "text",
    "id": "O0_ZS8GKZtIF"
   },
   "source": [
    "Podemos ver que no tenemos valores nulos en el dataset."
   ]
  },
  {
   "cell_type": "markdown",
   "metadata": {
    "colab_type": "text",
    "id": "TQ6fBcMji0KR"
   },
   "source": [
    "#### Limpieza de las fechas anomálas\n",
    "\n",
    "Ahora limpiaremos el dataset sacando todas aquellas fechas que no se siguen en la línea temporal. "
   ]
  },
  {
   "cell_type": "code",
   "execution_count": 120,
   "metadata": {
    "colab": {},
    "colab_type": "code",
    "id": "t7h8hxMgi-es"
   },
   "outputs": [],
   "source": [
    "date_created_before_date_sent = dataset_clean.date_created < dataset_clean.date_sent #Filtramos date_created menores que date_sent\n",
    "\n",
    "date_sent_before_date_visit = dataset_clean.date_sent < dataset_clean.date_visit #Filtramos date_sent menores que date_visit\n",
    "\n",
    "date_created_before_date_visit = dataset_clean.date_created < dataset_clean.date_visit #Filtramos date_created menores que date_visit\n"
   ]
  },
  {
   "cell_type": "code",
   "execution_count": 121,
   "metadata": {
    "colab": {
     "base_uri": "https://localhost:8080/",
     "height": 367
    },
    "colab_type": "code",
    "executionInfo": {
     "elapsed": 9645,
     "status": "ok",
     "timestamp": 1567966063635,
     "user": {
      "displayName": "Johanna Frau",
      "photoUrl": "https://lh3.googleusercontent.com/a-/AAuE7mCz7ppSJZsUk9D_GAJzKmAHzuLcDkDQL2VhEf7VInk=s64",
      "userId": "12340570416827246133"
     },
     "user_tz": 180
    },
    "id": "AThEn-X8i-Qg",
    "outputId": "6ef4a40e-5d64-4d1e-a14a-bcc962183975"
   },
   "outputs": [
    {
     "name": "stderr",
     "output_type": "stream",
     "text": [
      "/home/jfrau/anaconda3/lib/python3.7/site-packages/ipykernel_launcher.py:2: UserWarning: Boolean Series key will be reindexed to match DataFrame index.\n",
      "  \n",
      "/home/jfrau/anaconda3/lib/python3.7/site-packages/ipykernel_launcher.py:3: UserWarning: Boolean Series key will be reindexed to match DataFrame index.\n",
      "  This is separate from the ipykernel package so we can avoid doing imports until\n"
     ]
    },
    {
     "data": {
      "text/html": [
       "<div>\n",
       "<style scoped>\n",
       "    .dataframe tbody tr th:only-of-type {\n",
       "        vertical-align: middle;\n",
       "    }\n",
       "\n",
       "    .dataframe tbody tr th {\n",
       "        vertical-align: top;\n",
       "    }\n",
       "\n",
       "    .dataframe thead th {\n",
       "        text-align: right;\n",
       "    }\n",
       "</style>\n",
       "<table border=\"1\" class=\"dataframe\">\n",
       "  <thead>\n",
       "    <tr style=\"text-align: right;\">\n",
       "      <th></th>\n",
       "      <th>sender_state</th>\n",
       "      <th>sender_zipcode</th>\n",
       "      <th>receiver_state</th>\n",
       "      <th>receiver_zipcode</th>\n",
       "      <th>shipment_type</th>\n",
       "      <th>quantity</th>\n",
       "      <th>service</th>\n",
       "      <th>status</th>\n",
       "      <th>date_created</th>\n",
       "      <th>date_sent</th>\n",
       "      <th>date_visit</th>\n",
       "      <th>shipment_days</th>\n",
       "    </tr>\n",
       "  </thead>\n",
       "  <tbody>\n",
       "    <tr>\n",
       "      <td>61209</td>\n",
       "      <td>SP</td>\n",
       "      <td>9520</td>\n",
       "      <td>BA</td>\n",
       "      <td>46940</td>\n",
       "      <td>standard</td>\n",
       "      <td>1</td>\n",
       "      <td>1</td>\n",
       "      <td>done</td>\n",
       "      <td>2019-03-15</td>\n",
       "      <td>2019-03-19 13:17:00</td>\n",
       "      <td>2019-03-27 15:24:00</td>\n",
       "      <td>6.0</td>\n",
       "    </tr>\n",
       "    <tr>\n",
       "      <td>72136</td>\n",
       "      <td>SP</td>\n",
       "      <td>9510</td>\n",
       "      <td>MG</td>\n",
       "      <td>35500</td>\n",
       "      <td>standard</td>\n",
       "      <td>1</td>\n",
       "      <td>1</td>\n",
       "      <td>done</td>\n",
       "      <td>2019-02-24</td>\n",
       "      <td>2019-02-25 18:59:00</td>\n",
       "      <td>2019-03-15 08:59:00</td>\n",
       "      <td>11.0</td>\n",
       "    </tr>\n",
       "    <tr>\n",
       "      <td>192050</td>\n",
       "      <td>SP</td>\n",
       "      <td>9635</td>\n",
       "      <td>PR</td>\n",
       "      <td>87033</td>\n",
       "      <td>standard</td>\n",
       "      <td>1</td>\n",
       "      <td>1</td>\n",
       "      <td>done</td>\n",
       "      <td>2019-03-18</td>\n",
       "      <td>2019-03-19 08:12:00</td>\n",
       "      <td>2019-03-28 15:29:00</td>\n",
       "      <td>7.0</td>\n",
       "    </tr>\n",
       "    <tr>\n",
       "      <td>287022</td>\n",
       "      <td>SP</td>\n",
       "      <td>8586</td>\n",
       "      <td>DF</td>\n",
       "      <td>70384</td>\n",
       "      <td>standard</td>\n",
       "      <td>1</td>\n",
       "      <td>4</td>\n",
       "      <td>done</td>\n",
       "      <td>2019-03-08</td>\n",
       "      <td>2019-03-12 07:26:55</td>\n",
       "      <td>2019-03-14 06:12:00</td>\n",
       "      <td>2.0</td>\n",
       "    </tr>\n",
       "    <tr>\n",
       "      <td>467512</td>\n",
       "      <td>SP</td>\n",
       "      <td>2180</td>\n",
       "      <td>GO</td>\n",
       "      <td>74255</td>\n",
       "      <td>express</td>\n",
       "      <td>1</td>\n",
       "      <td>3</td>\n",
       "      <td>done</td>\n",
       "      <td>2019-03-21</td>\n",
       "      <td>2019-03-24 04:57:00</td>\n",
       "      <td>2019-03-29 22:00:00</td>\n",
       "      <td>4.0</td>\n",
       "    </tr>\n",
       "  </tbody>\n",
       "</table>\n",
       "</div>"
      ],
      "text/plain": [
       "       sender_state  sender_zipcode receiver_state  receiver_zipcode  \\\n",
       "61209            SP            9520             BA             46940   \n",
       "72136            SP            9510             MG             35500   \n",
       "192050           SP            9635             PR             87033   \n",
       "287022           SP            8586             DF             70384   \n",
       "467512           SP            2180             GO             74255   \n",
       "\n",
       "       shipment_type  quantity  service status date_created  \\\n",
       "61209       standard         1        1   done   2019-03-15   \n",
       "72136       standard         1        1   done   2019-02-24   \n",
       "192050      standard         1        1   done   2019-03-18   \n",
       "287022      standard         1        4   done   2019-03-08   \n",
       "467512       express         1        3   done   2019-03-21   \n",
       "\n",
       "                 date_sent          date_visit  shipment_days  \n",
       "61209  2019-03-19 13:17:00 2019-03-27 15:24:00            6.0  \n",
       "72136  2019-02-25 18:59:00 2019-03-15 08:59:00           11.0  \n",
       "192050 2019-03-19 08:12:00 2019-03-28 15:29:00            7.0  \n",
       "287022 2019-03-12 07:26:55 2019-03-14 06:12:00            2.0  \n",
       "467512 2019-03-24 04:57:00 2019-03-29 22:00:00            4.0  "
      ]
     },
     "execution_count": 121,
     "metadata": {},
     "output_type": "execute_result"
    }
   ],
   "source": [
    "dataset_clean = dataset_clean[date_created_before_date_sent].dropna() # solo fechas de creacion antes de la fecha de envio\n",
    "dataset_clean = dataset_clean[date_created_before_date_visit].dropna()# solo fechas de creacion antes de la fecha de visita\n",
    "dataset_clean = dataset_clean[date_sent_before_date_visit].dropna()# solo fechas de envios antes de la fecha de visita\n",
    "dataset_clean.sample(5)"
   ]
  },
  {
   "cell_type": "markdown",
   "metadata": {
    "colab_type": "text",
    "id": "iREKMj2mnqfu"
   },
   "source": [
    "### La importancia de predecir el valor de la variable shipment_days\n",
    "\n",
    "Uno de los objetivos principales del análisis propuesto en esta mentoría es predecir (dar un número aproximado de días hábiles) el tiempo entre que se despacha del correo hasta que el mismo llega a la casa del comprador. \n",
    "\n",
    "Es decir, queremos predecir el feature shipment_days.\n",
    "\n",
    "Por lo tanto este sería el target de un algoritmo de aprendizaje automático. Si bien este feature originalmente es información de tipo numérica en el práctico anterior utilizamos enconding para convertirla en una variable categórica. Así, esto nos da la posibilidad de trabajar con diferentes modelos de aprendizaje automático utilizando el mismo feature como target pero en sus diferentes versiones.\n",
    "\n",
    "Frente a este problema consideramos que el estado de Brasil que recibe el envío (receiver_state) es un feature importante a tener en cuenta (mientras más lejos esté de San Pablo probablemente demore más) y probablemente también el código postal de dicho estado (receiver_zipcode). Por otro lado, el tipo de correo (service) también puede ser una variable importante a tener en cuenta porque la calidad de servicio impactará directamente en los días que tarda en llegar el pedido.\n",
    "\n"
   ]
  },
  {
   "cell_type": "code",
   "execution_count": 122,
   "metadata": {
    "colab": {
     "base_uri": "https://localhost:8080/",
     "height": 301
    },
    "colab_type": "code",
    "executionInfo": {
     "elapsed": 9628,
     "status": "ok",
     "timestamp": 1567966063637,
     "user": {
      "displayName": "Johanna Frau",
      "photoUrl": "https://lh3.googleusercontent.com/a-/AAuE7mCz7ppSJZsUk9D_GAJzKmAHzuLcDkDQL2VhEf7VInk=s64",
      "userId": "12340570416827246133"
     },
     "user_tz": 180
    },
    "id": "qGfPmS5oUX1I",
    "outputId": "2c9499c3-e429-4027-bce0-d37271406d45"
   },
   "outputs": [
    {
     "data": {
      "text/html": [
       "<div>\n",
       "<style scoped>\n",
       "    .dataframe tbody tr th:only-of-type {\n",
       "        vertical-align: middle;\n",
       "    }\n",
       "\n",
       "    .dataframe tbody tr th {\n",
       "        vertical-align: top;\n",
       "    }\n",
       "\n",
       "    .dataframe thead th {\n",
       "        text-align: right;\n",
       "    }\n",
       "</style>\n",
       "<table border=\"1\" class=\"dataframe\">\n",
       "  <thead>\n",
       "    <tr style=\"text-align: right;\">\n",
       "      <th></th>\n",
       "      <th>sender_state</th>\n",
       "      <th>sender_zipcode</th>\n",
       "      <th>receiver_state</th>\n",
       "      <th>receiver_zipcode</th>\n",
       "      <th>shipment_type</th>\n",
       "      <th>quantity</th>\n",
       "      <th>service</th>\n",
       "      <th>status</th>\n",
       "      <th>date_created</th>\n",
       "      <th>date_sent</th>\n",
       "      <th>date_visit</th>\n",
       "      <th>shipment_days</th>\n",
       "    </tr>\n",
       "  </thead>\n",
       "  <tbody>\n",
       "    <tr>\n",
       "      <td>17790</td>\n",
       "      <td>SP</td>\n",
       "      <td>13880</td>\n",
       "      <td>SP</td>\n",
       "      <td>9060</td>\n",
       "      <td>express</td>\n",
       "      <td>1</td>\n",
       "      <td>0</td>\n",
       "      <td>done</td>\n",
       "      <td>2019-02-28</td>\n",
       "      <td>2019-02-28 13:32:00</td>\n",
       "      <td>2019-03-01 14:25:00</td>\n",
       "      <td>1.0</td>\n",
       "    </tr>\n",
       "    <tr>\n",
       "      <td>63099</td>\n",
       "      <td>SP</td>\n",
       "      <td>3508</td>\n",
       "      <td>MS</td>\n",
       "      <td>79140</td>\n",
       "      <td>express</td>\n",
       "      <td>1</td>\n",
       "      <td>0</td>\n",
       "      <td>done</td>\n",
       "      <td>2019-02-27</td>\n",
       "      <td>2019-03-01 15:23:00</td>\n",
       "      <td>2019-03-08 14:58:00</td>\n",
       "      <td>2.0</td>\n",
       "    </tr>\n",
       "    <tr>\n",
       "      <td>461551</td>\n",
       "      <td>SP</td>\n",
       "      <td>2120</td>\n",
       "      <td>SP</td>\n",
       "      <td>4836</td>\n",
       "      <td>express</td>\n",
       "      <td>1</td>\n",
       "      <td>0</td>\n",
       "      <td>done</td>\n",
       "      <td>2019-02-19</td>\n",
       "      <td>2019-02-20 11:57:00</td>\n",
       "      <td>2019-03-08 09:32:00</td>\n",
       "      <td>9.0</td>\n",
       "    </tr>\n",
       "    <tr>\n",
       "      <td>481950</td>\n",
       "      <td>SP</td>\n",
       "      <td>14161</td>\n",
       "      <td>BA</td>\n",
       "      <td>45830</td>\n",
       "      <td>standard</td>\n",
       "      <td>1</td>\n",
       "      <td>2</td>\n",
       "      <td>done</td>\n",
       "      <td>2019-02-26</td>\n",
       "      <td>2019-02-27 22:54:01</td>\n",
       "      <td>2019-03-25 18:48:00</td>\n",
       "      <td>15.0</td>\n",
       "    </tr>\n",
       "    <tr>\n",
       "      <td>126304</td>\n",
       "      <td>SP</td>\n",
       "      <td>1026</td>\n",
       "      <td>MG</td>\n",
       "      <td>37564</td>\n",
       "      <td>standard</td>\n",
       "      <td>1</td>\n",
       "      <td>1</td>\n",
       "      <td>done</td>\n",
       "      <td>2019-02-19</td>\n",
       "      <td>2019-02-25 17:52:00</td>\n",
       "      <td>2019-03-07 13:14:00</td>\n",
       "      <td>5.0</td>\n",
       "    </tr>\n",
       "  </tbody>\n",
       "</table>\n",
       "</div>"
      ],
      "text/plain": [
       "       sender_state  sender_zipcode receiver_state  receiver_zipcode  \\\n",
       "17790            SP           13880             SP              9060   \n",
       "63099            SP            3508             MS             79140   \n",
       "461551           SP            2120             SP              4836   \n",
       "481950           SP           14161             BA             45830   \n",
       "126304           SP            1026             MG             37564   \n",
       "\n",
       "       shipment_type  quantity  service status date_created  \\\n",
       "17790        express         1        0   done   2019-02-28   \n",
       "63099        express         1        0   done   2019-02-27   \n",
       "461551       express         1        0   done   2019-02-19   \n",
       "481950      standard         1        2   done   2019-02-26   \n",
       "126304      standard         1        1   done   2019-02-19   \n",
       "\n",
       "                 date_sent          date_visit  shipment_days  \n",
       "17790  2019-02-28 13:32:00 2019-03-01 14:25:00            1.0  \n",
       "63099  2019-03-01 15:23:00 2019-03-08 14:58:00            2.0  \n",
       "461551 2019-02-20 11:57:00 2019-03-08 09:32:00            9.0  \n",
       "481950 2019-02-27 22:54:01 2019-03-25 18:48:00           15.0  \n",
       "126304 2019-02-25 17:52:00 2019-03-07 13:14:00            5.0  "
      ]
     },
     "execution_count": 122,
     "metadata": {},
     "output_type": "execute_result"
    }
   ],
   "source": [
    "dataset_clean.sample(5)"
   ]
  },
  {
   "cell_type": "code",
   "execution_count": 123,
   "metadata": {
    "colab": {
     "base_uri": "https://localhost:8080/",
     "height": 300
    },
    "colab_type": "code",
    "executionInfo": {
     "elapsed": 9611,
     "status": "ok",
     "timestamp": 1567966063638,
     "user": {
      "displayName": "Johanna Frau",
      "photoUrl": "https://lh3.googleusercontent.com/a-/AAuE7mCz7ppSJZsUk9D_GAJzKmAHzuLcDkDQL2VhEf7VInk=s64",
      "userId": "12340570416827246133"
     },
     "user_tz": 180
    },
    "id": "J6-OY6tJUX1L",
    "outputId": "15191ae9-55b0-4edd-856f-3ad8177b51b3"
   },
   "outputs": [
    {
     "name": "stdout",
     "output_type": "stream",
     "text": [
      "<class 'pandas.core.frame.DataFrame'>\n",
      "Int64Index: 496954 entries, 0 to 499999\n",
      "Data columns (total 12 columns):\n",
      "sender_state        496954 non-null object\n",
      "sender_zipcode      496954 non-null int64\n",
      "receiver_state      496954 non-null object\n",
      "receiver_zipcode    496954 non-null int64\n",
      "shipment_type       496954 non-null object\n",
      "quantity            496954 non-null int64\n",
      "service             496954 non-null int64\n",
      "status              496954 non-null object\n",
      "date_created        496954 non-null datetime64[ns]\n",
      "date_sent           496954 non-null datetime64[ns]\n",
      "date_visit          496954 non-null datetime64[ns]\n",
      "shipment_days       496954 non-null float64\n",
      "dtypes: datetime64[ns](3), float64(1), int64(4), object(4)\n",
      "memory usage: 49.3+ MB\n"
     ]
    }
   ],
   "source": [
    "dataset_clean.info()"
   ]
  },
  {
   "cell_type": "markdown",
   "metadata": {
    "colab_type": "text",
    "id": "FJK7MY6OnycP"
   },
   "source": [
    "Luego de haber limpiado nuestro dataset observamos que contamos con 496954 filas con información, es decir la limpieza solo afectó aproximadamente al 1% de los datos originales.\n",
    "\n"
   ]
  },
  {
   "cell_type": "markdown",
   "metadata": {},
   "source": [
    "#### Creación de un nuevo csv con el dataset resultante de la limpieza de los datos"
   ]
  },
  {
   "cell_type": "code",
   "execution_count": 124,
   "metadata": {},
   "outputs": [],
   "source": [
    "dataset_clean.to_csv(r'dataset_clean.csv')\n"
   ]
  },
  {
   "cell_type": "markdown",
   "metadata": {
    "colab_type": "text",
    "id": "xyCvmVFTStFc"
   },
   "source": [
    "### Separación en el conjunto de entrenamiento y evaluación "
   ]
  },
  {
   "cell_type": "markdown",
   "metadata": {
    "colab_type": "text",
    "id": "YMzz1j9wS72o"
   },
   "source": [
    "A continuación analizamos las variables de fechas para poder hacer la separación de los datos. "
   ]
  },
  {
   "cell_type": "code",
   "execution_count": 125,
   "metadata": {
    "colab": {},
    "colab_type": "code",
    "id": "mMRCrIcyJlNb"
   },
   "outputs": [],
   "source": [
    "# creamos una nueva columna donde date_created solo considera las fechas\n",
    "dataset_clean['date_created_only_date'] = dataset_clean['date_created'].dt.date"
   ]
  },
  {
   "cell_type": "code",
   "execution_count": 126,
   "metadata": {
    "colab": {},
    "colab_type": "code",
    "id": "RdeR87weelcS"
   },
   "outputs": [],
   "source": [
    "# creamos una nueva columna donde date_visit solo considera las fechas\n",
    "dataset_clean['date_visit_only_date'] = dataset_clean['date_visit'].dt.date "
   ]
  },
  {
   "cell_type": "code",
   "execution_count": 127,
   "metadata": {
    "colab": {
     "base_uri": "https://localhost:8080/",
     "height": 1000
    },
    "colab_type": "code",
    "executionInfo": {
     "elapsed": 11234,
     "status": "ok",
     "timestamp": 1567966065286,
     "user": {
      "displayName": "Johanna Frau",
      "photoUrl": "https://lh3.googleusercontent.com/a-/AAuE7mCz7ppSJZsUk9D_GAJzKmAHzuLcDkDQL2VhEf7VInk=s64",
      "userId": "12340570416827246133"
     },
     "user_tz": 180
    },
    "id": "Pa9FHXGpelmV",
    "outputId": "e3cef1a5-ffca-47f9-f1fb-1fed8adb432c"
   },
   "outputs": [
    {
     "data": {
      "text/html": [
       "<div>\n",
       "<style scoped>\n",
       "    .dataframe tbody tr th:only-of-type {\n",
       "        vertical-align: middle;\n",
       "    }\n",
       "\n",
       "    .dataframe tbody tr th {\n",
       "        vertical-align: top;\n",
       "    }\n",
       "\n",
       "    .dataframe thead th {\n",
       "        text-align: right;\n",
       "    }\n",
       "</style>\n",
       "<table border=\"1\" class=\"dataframe\">\n",
       "  <thead>\n",
       "    <tr style=\"text-align: right;\">\n",
       "      <th></th>\n",
       "      <th>sender_state</th>\n",
       "      <th>sender_zipcode</th>\n",
       "      <th>receiver_state</th>\n",
       "      <th>receiver_zipcode</th>\n",
       "      <th>shipment_type</th>\n",
       "      <th>quantity</th>\n",
       "      <th>service</th>\n",
       "      <th>status</th>\n",
       "      <th>date_created</th>\n",
       "      <th>date_sent</th>\n",
       "      <th>date_visit</th>\n",
       "      <th>shipment_days</th>\n",
       "      <th>date_created_only_date</th>\n",
       "      <th>date_visit_only_date</th>\n",
       "    </tr>\n",
       "  </thead>\n",
       "  <tbody>\n",
       "    <tr>\n",
       "      <td>29645</td>\n",
       "      <td>SP</td>\n",
       "      <td>9550</td>\n",
       "      <td>ES</td>\n",
       "      <td>29170</td>\n",
       "      <td>standard</td>\n",
       "      <td>3</td>\n",
       "      <td>1</td>\n",
       "      <td>done</td>\n",
       "      <td>2019-01-22</td>\n",
       "      <td>2019-01-28 07:20:00</td>\n",
       "      <td>2019-02-25 15:29:00</td>\n",
       "      <td>20.0</td>\n",
       "      <td>2019-01-22</td>\n",
       "      <td>2019-02-25</td>\n",
       "    </tr>\n",
       "    <tr>\n",
       "      <td>23725</td>\n",
       "      <td>SP</td>\n",
       "      <td>15410</td>\n",
       "      <td>RJ</td>\n",
       "      <td>28633</td>\n",
       "      <td>standard</td>\n",
       "      <td>1</td>\n",
       "      <td>1</td>\n",
       "      <td>done</td>\n",
       "      <td>2019-02-02</td>\n",
       "      <td>2019-02-05 12:29:00</td>\n",
       "      <td>2019-02-25 15:20:00</td>\n",
       "      <td>14.0</td>\n",
       "      <td>2019-02-02</td>\n",
       "      <td>2019-02-25</td>\n",
       "    </tr>\n",
       "    <tr>\n",
       "      <td>327308</td>\n",
       "      <td>SP</td>\n",
       "      <td>3401</td>\n",
       "      <td>MG</td>\n",
       "      <td>37420</td>\n",
       "      <td>standard</td>\n",
       "      <td>1</td>\n",
       "      <td>1</td>\n",
       "      <td>done</td>\n",
       "      <td>2019-02-05</td>\n",
       "      <td>2019-02-06 15:36:00</td>\n",
       "      <td>2019-02-25 09:58:00</td>\n",
       "      <td>13.0</td>\n",
       "      <td>2019-02-05</td>\n",
       "      <td>2019-02-25</td>\n",
       "    </tr>\n",
       "    <tr>\n",
       "      <td>87974</td>\n",
       "      <td>SP</td>\n",
       "      <td>1536</td>\n",
       "      <td>PE</td>\n",
       "      <td>54240</td>\n",
       "      <td>standard</td>\n",
       "      <td>1</td>\n",
       "      <td>4</td>\n",
       "      <td>done</td>\n",
       "      <td>2019-01-29</td>\n",
       "      <td>2019-02-03 07:58:02</td>\n",
       "      <td>2019-02-25 14:28:00</td>\n",
       "      <td>15.0</td>\n",
       "      <td>2019-01-29</td>\n",
       "      <td>2019-02-25</td>\n",
       "    </tr>\n",
       "    <tr>\n",
       "      <td>192809</td>\n",
       "      <td>SP</td>\n",
       "      <td>1212</td>\n",
       "      <td>SC</td>\n",
       "      <td>88356</td>\n",
       "      <td>standard</td>\n",
       "      <td>1</td>\n",
       "      <td>1</td>\n",
       "      <td>done</td>\n",
       "      <td>2019-01-22</td>\n",
       "      <td>2019-01-23 11:30:00</td>\n",
       "      <td>2019-02-25 12:44:00</td>\n",
       "      <td>22.0</td>\n",
       "      <td>2019-01-22</td>\n",
       "      <td>2019-02-25</td>\n",
       "    </tr>\n",
       "    <tr>\n",
       "      <td>...</td>\n",
       "      <td>...</td>\n",
       "      <td>...</td>\n",
       "      <td>...</td>\n",
       "      <td>...</td>\n",
       "      <td>...</td>\n",
       "      <td>...</td>\n",
       "      <td>...</td>\n",
       "      <td>...</td>\n",
       "      <td>...</td>\n",
       "      <td>...</td>\n",
       "      <td>...</td>\n",
       "      <td>...</td>\n",
       "      <td>...</td>\n",
       "      <td>...</td>\n",
       "    </tr>\n",
       "    <tr>\n",
       "      <td>50700</td>\n",
       "      <td>SP</td>\n",
       "      <td>8275</td>\n",
       "      <td>PE</td>\n",
       "      <td>52120</td>\n",
       "      <td>standard</td>\n",
       "      <td>1</td>\n",
       "      <td>1</td>\n",
       "      <td>done</td>\n",
       "      <td>2019-02-27</td>\n",
       "      <td>2019-03-04 16:54:00</td>\n",
       "      <td>2019-04-02 10:19:00</td>\n",
       "      <td>18.0</td>\n",
       "      <td>2019-02-27</td>\n",
       "      <td>2019-04-02</td>\n",
       "    </tr>\n",
       "    <tr>\n",
       "      <td>264185</td>\n",
       "      <td>SP</td>\n",
       "      <td>14780</td>\n",
       "      <td>RS</td>\n",
       "      <td>96407</td>\n",
       "      <td>standard</td>\n",
       "      <td>1</td>\n",
       "      <td>1</td>\n",
       "      <td>done</td>\n",
       "      <td>2019-02-26</td>\n",
       "      <td>2019-02-26 14:15:00</td>\n",
       "      <td>2019-04-02 15:35:00</td>\n",
       "      <td>22.0</td>\n",
       "      <td>2019-02-26</td>\n",
       "      <td>2019-04-02</td>\n",
       "    </tr>\n",
       "    <tr>\n",
       "      <td>274961</td>\n",
       "      <td>SP</td>\n",
       "      <td>4433</td>\n",
       "      <td>PE</td>\n",
       "      <td>53525</td>\n",
       "      <td>standard</td>\n",
       "      <td>1</td>\n",
       "      <td>1</td>\n",
       "      <td>done</td>\n",
       "      <td>2019-02-20</td>\n",
       "      <td>2019-02-21 10:27:00</td>\n",
       "      <td>2019-04-02 12:33:00</td>\n",
       "      <td>25.0</td>\n",
       "      <td>2019-02-20</td>\n",
       "      <td>2019-04-02</td>\n",
       "    </tr>\n",
       "    <tr>\n",
       "      <td>467449</td>\n",
       "      <td>SP</td>\n",
       "      <td>3633</td>\n",
       "      <td>PE</td>\n",
       "      <td>52160</td>\n",
       "      <td>standard</td>\n",
       "      <td>1</td>\n",
       "      <td>1</td>\n",
       "      <td>done</td>\n",
       "      <td>2019-02-18</td>\n",
       "      <td>2019-02-20 07:30:00</td>\n",
       "      <td>2019-04-02 09:49:00</td>\n",
       "      <td>26.0</td>\n",
       "      <td>2019-02-18</td>\n",
       "      <td>2019-04-02</td>\n",
       "    </tr>\n",
       "    <tr>\n",
       "      <td>39526</td>\n",
       "      <td>SP</td>\n",
       "      <td>2121</td>\n",
       "      <td>PE</td>\n",
       "      <td>53220</td>\n",
       "      <td>standard</td>\n",
       "      <td>1</td>\n",
       "      <td>1</td>\n",
       "      <td>done</td>\n",
       "      <td>2019-03-01</td>\n",
       "      <td>2019-03-04 12:29:00</td>\n",
       "      <td>2019-04-02 12:20:00</td>\n",
       "      <td>18.0</td>\n",
       "      <td>2019-03-01</td>\n",
       "      <td>2019-04-02</td>\n",
       "    </tr>\n",
       "  </tbody>\n",
       "</table>\n",
       "<p>496954 rows × 14 columns</p>\n",
       "</div>"
      ],
      "text/plain": [
       "       sender_state  sender_zipcode receiver_state  receiver_zipcode  \\\n",
       "29645            SP            9550             ES             29170   \n",
       "23725            SP           15410             RJ             28633   \n",
       "327308           SP            3401             MG             37420   \n",
       "87974            SP            1536             PE             54240   \n",
       "192809           SP            1212             SC             88356   \n",
       "...             ...             ...            ...               ...   \n",
       "50700            SP            8275             PE             52120   \n",
       "264185           SP           14780             RS             96407   \n",
       "274961           SP            4433             PE             53525   \n",
       "467449           SP            3633             PE             52160   \n",
       "39526            SP            2121             PE             53220   \n",
       "\n",
       "       shipment_type  quantity  service status date_created  \\\n",
       "29645       standard         3        1   done   2019-01-22   \n",
       "23725       standard         1        1   done   2019-02-02   \n",
       "327308      standard         1        1   done   2019-02-05   \n",
       "87974       standard         1        4   done   2019-01-29   \n",
       "192809      standard         1        1   done   2019-01-22   \n",
       "...              ...       ...      ...    ...          ...   \n",
       "50700       standard         1        1   done   2019-02-27   \n",
       "264185      standard         1        1   done   2019-02-26   \n",
       "274961      standard         1        1   done   2019-02-20   \n",
       "467449      standard         1        1   done   2019-02-18   \n",
       "39526       standard         1        1   done   2019-03-01   \n",
       "\n",
       "                 date_sent          date_visit  shipment_days  \\\n",
       "29645  2019-01-28 07:20:00 2019-02-25 15:29:00           20.0   \n",
       "23725  2019-02-05 12:29:00 2019-02-25 15:20:00           14.0   \n",
       "327308 2019-02-06 15:36:00 2019-02-25 09:58:00           13.0   \n",
       "87974  2019-02-03 07:58:02 2019-02-25 14:28:00           15.0   \n",
       "192809 2019-01-23 11:30:00 2019-02-25 12:44:00           22.0   \n",
       "...                    ...                 ...            ...   \n",
       "50700  2019-03-04 16:54:00 2019-04-02 10:19:00           18.0   \n",
       "264185 2019-02-26 14:15:00 2019-04-02 15:35:00           22.0   \n",
       "274961 2019-02-21 10:27:00 2019-04-02 12:33:00           25.0   \n",
       "467449 2019-02-20 07:30:00 2019-04-02 09:49:00           26.0   \n",
       "39526  2019-03-04 12:29:00 2019-04-02 12:20:00           18.0   \n",
       "\n",
       "       date_created_only_date date_visit_only_date  \n",
       "29645              2019-01-22           2019-02-25  \n",
       "23725              2019-02-02           2019-02-25  \n",
       "327308             2019-02-05           2019-02-25  \n",
       "87974              2019-01-29           2019-02-25  \n",
       "192809             2019-01-22           2019-02-25  \n",
       "...                       ...                  ...  \n",
       "50700              2019-02-27           2019-04-02  \n",
       "264185             2019-02-26           2019-04-02  \n",
       "274961             2019-02-20           2019-04-02  \n",
       "467449             2019-02-18           2019-04-02  \n",
       "39526              2019-03-01           2019-04-02  \n",
       "\n",
       "[496954 rows x 14 columns]"
      ]
     },
     "execution_count": 127,
     "metadata": {},
     "output_type": "execute_result"
    }
   ],
   "source": [
    "dataset_clean.sort_values(by=['date_visit_only_date']) "
   ]
  },
  {
   "cell_type": "markdown",
   "metadata": {
    "colab_type": "text",
    "id": "-OvJ4h2Kh7ZO"
   },
   "source": [
    "Según podemos observar en los cálculos de arriba la variable date_visit  abarca desde el 25-02-2019 al 02-04-2019.\n",
    "\n",
    "Veamos ahora como se distribuyen estos datos dentro de este intervalo temporal."
   ]
  },
  {
   "cell_type": "code",
   "execution_count": 128,
   "metadata": {
    "colab": {
     "base_uri": "https://localhost:8080/",
     "height": 797
    },
    "colab_type": "code",
    "executionInfo": {
     "elapsed": 9969,
     "status": "ok",
     "timestamp": 1567966065288,
     "user": {
      "displayName": "Johanna Frau",
      "photoUrl": "https://lh3.googleusercontent.com/a-/AAuE7mCz7ppSJZsUk9D_GAJzKmAHzuLcDkDQL2VhEf7VInk=s64",
      "userId": "12340570416827246133"
     },
     "user_tz": 180
    },
    "id": "aYgXDombelrR",
    "outputId": "d89e9f06-72e7-49f6-e4ac-8563663c0557"
   },
   "outputs": [
    {
     "data": {
      "text/html": [
       "<div>\n",
       "<style scoped>\n",
       "    .dataframe tbody tr th:only-of-type {\n",
       "        vertical-align: middle;\n",
       "    }\n",
       "\n",
       "    .dataframe tbody tr th {\n",
       "        vertical-align: top;\n",
       "    }\n",
       "\n",
       "    .dataframe thead th {\n",
       "        text-align: right;\n",
       "    }\n",
       "</style>\n",
       "<table border=\"1\" class=\"dataframe\">\n",
       "  <thead>\n",
       "    <tr style=\"text-align: right;\">\n",
       "      <th></th>\n",
       "      <th></th>\n",
       "      <th>count</th>\n",
       "    </tr>\n",
       "    <tr>\n",
       "      <th>month</th>\n",
       "      <th>day</th>\n",
       "      <th></th>\n",
       "    </tr>\n",
       "  </thead>\n",
       "  <tbody>\n",
       "    <tr>\n",
       "      <td rowspan=\"4\" valign=\"top\">2</td>\n",
       "      <td>25</td>\n",
       "      <td>2021</td>\n",
       "    </tr>\n",
       "    <tr>\n",
       "      <td>26</td>\n",
       "      <td>1617</td>\n",
       "    </tr>\n",
       "    <tr>\n",
       "      <td>27</td>\n",
       "      <td>2661</td>\n",
       "    </tr>\n",
       "    <tr>\n",
       "      <td>28</td>\n",
       "      <td>21658</td>\n",
       "    </tr>\n",
       "    <tr>\n",
       "      <td rowspan=\"18\" valign=\"top\">3</td>\n",
       "      <td>1</td>\n",
       "      <td>20906</td>\n",
       "    </tr>\n",
       "    <tr>\n",
       "      <td>7</td>\n",
       "      <td>31894</td>\n",
       "    </tr>\n",
       "    <tr>\n",
       "      <td>8</td>\n",
       "      <td>38442</td>\n",
       "    </tr>\n",
       "    <tr>\n",
       "      <td>11</td>\n",
       "      <td>35573</td>\n",
       "    </tr>\n",
       "    <tr>\n",
       "      <td>12</td>\n",
       "      <td>36365</td>\n",
       "    </tr>\n",
       "    <tr>\n",
       "      <td>13</td>\n",
       "      <td>25702</td>\n",
       "    </tr>\n",
       "    <tr>\n",
       "      <td>14</td>\n",
       "      <td>25169</td>\n",
       "    </tr>\n",
       "    <tr>\n",
       "      <td>15</td>\n",
       "      <td>24035</td>\n",
       "    </tr>\n",
       "    <tr>\n",
       "      <td>18</td>\n",
       "      <td>31013</td>\n",
       "    </tr>\n",
       "    <tr>\n",
       "      <td>19</td>\n",
       "      <td>24466</td>\n",
       "    </tr>\n",
       "    <tr>\n",
       "      <td>20</td>\n",
       "      <td>25683</td>\n",
       "    </tr>\n",
       "    <tr>\n",
       "      <td>21</td>\n",
       "      <td>23490</td>\n",
       "    </tr>\n",
       "    <tr>\n",
       "      <td>22</td>\n",
       "      <td>22772</td>\n",
       "    </tr>\n",
       "    <tr>\n",
       "      <td>25</td>\n",
       "      <td>28824</td>\n",
       "    </tr>\n",
       "    <tr>\n",
       "      <td>26</td>\n",
       "      <td>23528</td>\n",
       "    </tr>\n",
       "    <tr>\n",
       "      <td>27</td>\n",
       "      <td>24537</td>\n",
       "    </tr>\n",
       "    <tr>\n",
       "      <td>28</td>\n",
       "      <td>22123</td>\n",
       "    </tr>\n",
       "    <tr>\n",
       "      <td>29</td>\n",
       "      <td>3119</td>\n",
       "    </tr>\n",
       "    <tr>\n",
       "      <td rowspan=\"2\" valign=\"top\">4</td>\n",
       "      <td>1</td>\n",
       "      <td>1309</td>\n",
       "    </tr>\n",
       "    <tr>\n",
       "      <td>2</td>\n",
       "      <td>47</td>\n",
       "    </tr>\n",
       "  </tbody>\n",
       "</table>\n",
       "</div>"
      ],
      "text/plain": [
       "           count\n",
       "month day       \n",
       "2     25    2021\n",
       "      26    1617\n",
       "      27    2661\n",
       "      28   21658\n",
       "3     1    20906\n",
       "      7    31894\n",
       "      8    38442\n",
       "      11   35573\n",
       "      12   36365\n",
       "      13   25702\n",
       "      14   25169\n",
       "      15   24035\n",
       "      18   31013\n",
       "      19   24466\n",
       "      20   25683\n",
       "      21   23490\n",
       "      22   22772\n",
       "      25   28824\n",
       "      26   23528\n",
       "      27   24537\n",
       "      28   22123\n",
       "      29    3119\n",
       "4     1     1309\n",
       "      2       47"
      ]
     },
     "execution_count": 128,
     "metadata": {},
     "output_type": "execute_result"
    }
   ],
   "source": [
    "dataset_clean['date_visit'].groupby(\n",
    "                          [dataset_clean['date_visit'].dt.month.rename('month'), \n",
    "                           dataset_clean['date_visit'].dt.day.rename('day')]\n",
    "                           ).agg({'count'})"
   ]
  },
  {
   "cell_type": "code",
   "execution_count": 129,
   "metadata": {
    "colab": {
     "base_uri": "https://localhost:8080/",
     "height": 167
    },
    "colab_type": "code",
    "executionInfo": {
     "elapsed": 9069,
     "status": "ok",
     "timestamp": 1567966065289,
     "user": {
      "displayName": "Johanna Frau",
      "photoUrl": "https://lh3.googleusercontent.com/a-/AAuE7mCz7ppSJZsUk9D_GAJzKmAHzuLcDkDQL2VhEf7VInk=s64",
      "userId": "12340570416827246133"
     },
     "user_tz": 180
    },
    "id": "d5SxQsHheluv",
    "outputId": "34071606-6b01-428d-a6f9-c11a36dd4e8a"
   },
   "outputs": [
    {
     "data": {
      "text/html": [
       "<div>\n",
       "<style scoped>\n",
       "    .dataframe tbody tr th:only-of-type {\n",
       "        vertical-align: middle;\n",
       "    }\n",
       "\n",
       "    .dataframe tbody tr th {\n",
       "        vertical-align: top;\n",
       "    }\n",
       "\n",
       "    .dataframe thead th {\n",
       "        text-align: right;\n",
       "    }\n",
       "</style>\n",
       "<table border=\"1\" class=\"dataframe\">\n",
       "  <thead>\n",
       "    <tr style=\"text-align: right;\">\n",
       "      <th></th>\n",
       "      <th>count</th>\n",
       "    </tr>\n",
       "    <tr>\n",
       "      <th>month</th>\n",
       "      <th></th>\n",
       "    </tr>\n",
       "  </thead>\n",
       "  <tbody>\n",
       "    <tr>\n",
       "      <td>2</td>\n",
       "      <td>27957</td>\n",
       "    </tr>\n",
       "    <tr>\n",
       "      <td>3</td>\n",
       "      <td>467641</td>\n",
       "    </tr>\n",
       "    <tr>\n",
       "      <td>4</td>\n",
       "      <td>1356</td>\n",
       "    </tr>\n",
       "  </tbody>\n",
       "</table>\n",
       "</div>"
      ],
      "text/plain": [
       "        count\n",
       "month        \n",
       "2       27957\n",
       "3      467641\n",
       "4        1356"
      ]
     },
     "execution_count": 129,
     "metadata": {},
     "output_type": "execute_result"
    }
   ],
   "source": [
    "dataset_clean['date_visit'].groupby([dataset_clean['date_visit'].dt.month.rename('month')]).agg({'count'})"
   ]
  },
  {
   "cell_type": "markdown",
   "metadata": {
    "colab_type": "text",
    "id": "YLyG6IjejKAS"
   },
   "source": [
    "Dada la característica de nuestro problema (estimar una cantidad de días) y al estar trabajando con variables de tipo fecha debemos ser cuidadosas al momento de elegir nuestro conjunto de entrenamiento y validación de manera que le den sentido al problema y que al mismo tiempo representen el 70% y 30% respectivamente de los datos. Es decir, la partición debe estar basada en el hecho de que date_created, date_sent y date_visit se siguen una a la otra en la línea temporal. Por lo tanto, los datos a entrenar deben elegirse hasta un cierto día de la variable date_visit y validarse con datos de date_created a partir de esa fecha.\n",
    "\n",
    "Considerando que nuestro dataset cuenta en este momento con 496954 entradas, el 70% del mismo representa aproximadamente 345000 entradas. Así, de acuerdo a la distribución mostrada arriba si entrenamos nuestro modelo con datos de la variable date_visit hasta el 20 de marzo podriamos llegar a cubrir este porcentaje. En resumen vamos a entrenar con datos que llegaron a destino (este es el por qué se mira data_visit) y vamos a validar con datos cuyas compras se crearon (date_created) después de esa fecha.\n",
    "\n",
    "A continuación se realizan los cálculos que permitirán hacer la partición de los datos de acuerdo al criterio antes mencionado.\n",
    "\n",
    "Mask1 la vamos a usar para hacer el filtrado de los datos para el entrenamiento y mask2 la vamos a usar para hacer el filtrado de los datos para la validacion."
   ]
  },
  {
   "cell_type": "code",
   "execution_count": 130,
   "metadata": {
    "colab": {},
    "colab_type": "code",
    "id": "ZVAYX0PJel1w"
   },
   "outputs": [],
   "source": [
    "mask1 = dataset_clean['date_visit']<=pandas.to_datetime('2019-03-20')\n",
    "mask2 = dataset_clean['date_created']>pandas.to_datetime('2019-03-20') "
   ]
  },
  {
   "cell_type": "markdown",
   "metadata": {
    "colab_type": "text",
    "id": "e37aC47SlXS_"
   },
   "source": [
    "Eliminamos los valores que cumplen con las dos condiciones simultáneamente."
   ]
  },
  {
   "cell_type": "code",
   "execution_count": 131,
   "metadata": {
    "colab": {},
    "colab_type": "code",
    "id": "PPP_-HW-JzRp"
   },
   "outputs": [],
   "source": [
    "dataset_clean.drop(dataset_clean[mask1&mask2].index, inplace = True)"
   ]
  },
  {
   "cell_type": "code",
   "execution_count": 132,
   "metadata": {
    "colab": {},
    "colab_type": "code",
    "id": "XujMMBlgJ5ck"
   },
   "outputs": [],
   "source": [
    "df_train = dataset_clean.loc[mask1]"
   ]
  },
  {
   "cell_type": "code",
   "execution_count": 133,
   "metadata": {
    "colab": {},
    "colab_type": "code",
    "id": "9Xo2ZkmaKQ8V"
   },
   "outputs": [],
   "source": [
    "df_test = dataset_clean.loc[mask2]"
   ]
  },
  {
   "cell_type": "markdown",
   "metadata": {
    "colab_type": "text",
    "id": "-3p2BPyrf1P-"
   },
   "source": [
    "#### Análisis del conjunto de entrenamiento\n",
    "\n",
    "Veamos a continuación algunos estadísticos y un pequeño análisis de los mismos."
   ]
  },
  {
   "cell_type": "code",
   "execution_count": 134,
   "metadata": {
    "colab": {
     "base_uri": "https://localhost:8080/",
     "height": 287
    },
    "colab_type": "code",
    "executionInfo": {
     "elapsed": 3364,
     "status": "ok",
     "timestamp": 1567966065291,
     "user": {
      "displayName": "Johanna Frau",
      "photoUrl": "https://lh3.googleusercontent.com/a-/AAuE7mCz7ppSJZsUk9D_GAJzKmAHzuLcDkDQL2VhEf7VInk=s64",
      "userId": "12340570416827246133"
     },
     "user_tz": 180
    },
    "id": "LcZ0wxhxc4nP",
    "outputId": "fbbbfa80-608f-42b8-cc3c-39056b3d15e9"
   },
   "outputs": [
    {
     "data": {
      "text/html": [
       "<div>\n",
       "<style scoped>\n",
       "    .dataframe tbody tr th:only-of-type {\n",
       "        vertical-align: middle;\n",
       "    }\n",
       "\n",
       "    .dataframe tbody tr th {\n",
       "        vertical-align: top;\n",
       "    }\n",
       "\n",
       "    .dataframe thead th {\n",
       "        text-align: right;\n",
       "    }\n",
       "</style>\n",
       "<table border=\"1\" class=\"dataframe\">\n",
       "  <thead>\n",
       "    <tr style=\"text-align: right;\">\n",
       "      <th></th>\n",
       "      <th>sender_zipcode</th>\n",
       "      <th>receiver_zipcode</th>\n",
       "      <th>quantity</th>\n",
       "      <th>service</th>\n",
       "      <th>shipment_days</th>\n",
       "    </tr>\n",
       "  </thead>\n",
       "  <tbody>\n",
       "    <tr>\n",
       "      <td>count</td>\n",
       "      <td>321523.000000</td>\n",
       "      <td>321523.000000</td>\n",
       "      <td>321523.000000</td>\n",
       "      <td>321523.000000</td>\n",
       "      <td>321523.000000</td>\n",
       "    </tr>\n",
       "    <tr>\n",
       "      <td>mean</td>\n",
       "      <td>8255.479456</td>\n",
       "      <td>39516.638433</td>\n",
       "      <td>1.277109</td>\n",
       "      <td>1.490441</td>\n",
       "      <td>4.869235</td>\n",
       "    </tr>\n",
       "    <tr>\n",
       "      <td>std</td>\n",
       "      <td>5078.089576</td>\n",
       "      <td>30968.643243</td>\n",
       "      <td>0.660331</td>\n",
       "      <td>1.870620</td>\n",
       "      <td>4.533859</td>\n",
       "    </tr>\n",
       "    <tr>\n",
       "      <td>min</td>\n",
       "      <td>1001.000000</td>\n",
       "      <td>1001.000000</td>\n",
       "      <td>1.000000</td>\n",
       "      <td>0.000000</td>\n",
       "      <td>0.000000</td>\n",
       "    </tr>\n",
       "    <tr>\n",
       "      <td>25%</td>\n",
       "      <td>3658.000000</td>\n",
       "      <td>13060.000000</td>\n",
       "      <td>1.000000</td>\n",
       "      <td>0.000000</td>\n",
       "      <td>2.000000</td>\n",
       "    </tr>\n",
       "    <tr>\n",
       "      <td>50%</td>\n",
       "      <td>7179.000000</td>\n",
       "      <td>30431.000000</td>\n",
       "      <td>1.000000</td>\n",
       "      <td>1.000000</td>\n",
       "      <td>3.000000</td>\n",
       "    </tr>\n",
       "    <tr>\n",
       "      <td>75%</td>\n",
       "      <td>13253.000000</td>\n",
       "      <td>70275.000000</td>\n",
       "      <td>1.000000</td>\n",
       "      <td>2.000000</td>\n",
       "      <td>7.000000</td>\n",
       "    </tr>\n",
       "    <tr>\n",
       "      <td>max</td>\n",
       "      <td>19970.000000</td>\n",
       "      <td>99990.000000</td>\n",
       "      <td>5.000000</td>\n",
       "      <td>12.000000</td>\n",
       "      <td>90.000000</td>\n",
       "    </tr>\n",
       "  </tbody>\n",
       "</table>\n",
       "</div>"
      ],
      "text/plain": [
       "       sender_zipcode  receiver_zipcode       quantity        service  \\\n",
       "count   321523.000000     321523.000000  321523.000000  321523.000000   \n",
       "mean      8255.479456      39516.638433       1.277109       1.490441   \n",
       "std       5078.089576      30968.643243       0.660331       1.870620   \n",
       "min       1001.000000       1001.000000       1.000000       0.000000   \n",
       "25%       3658.000000      13060.000000       1.000000       0.000000   \n",
       "50%       7179.000000      30431.000000       1.000000       1.000000   \n",
       "75%      13253.000000      70275.000000       1.000000       2.000000   \n",
       "max      19970.000000      99990.000000       5.000000      12.000000   \n",
       "\n",
       "       shipment_days  \n",
       "count  321523.000000  \n",
       "mean        4.869235  \n",
       "std         4.533859  \n",
       "min         0.000000  \n",
       "25%         2.000000  \n",
       "50%         3.000000  \n",
       "75%         7.000000  \n",
       "max        90.000000  "
      ]
     },
     "execution_count": 134,
     "metadata": {},
     "output_type": "execute_result"
    }
   ],
   "source": [
    "df_train.describe()"
   ]
  },
  {
   "cell_type": "code",
   "execution_count": 135,
   "metadata": {
    "colab": {
     "base_uri": "https://localhost:8080/",
     "height": 187
    },
    "colab_type": "code",
    "executionInfo": {
     "elapsed": 2728,
     "status": "ok",
     "timestamp": 1567966065601,
     "user": {
      "displayName": "Johanna Frau",
      "photoUrl": "https://lh3.googleusercontent.com/a-/AAuE7mCz7ppSJZsUk9D_GAJzKmAHzuLcDkDQL2VhEf7VInk=s64",
      "userId": "12340570416827246133"
     },
     "user_tz": 180
    },
    "id": "tSwP_ySqigWC",
    "outputId": "dcecb032-692d-4ba3-8c80-7df3f388f09e"
   },
   "outputs": [
    {
     "data": {
      "text/html": [
       "<div>\n",
       "<style scoped>\n",
       "    .dataframe tbody tr th:only-of-type {\n",
       "        vertical-align: middle;\n",
       "    }\n",
       "\n",
       "    .dataframe tbody tr th {\n",
       "        vertical-align: top;\n",
       "    }\n",
       "\n",
       "    .dataframe thead th {\n",
       "        text-align: right;\n",
       "    }\n",
       "</style>\n",
       "<table border=\"1\" class=\"dataframe\">\n",
       "  <thead>\n",
       "    <tr style=\"text-align: right;\">\n",
       "      <th></th>\n",
       "      <th>sender_state</th>\n",
       "      <th>receiver_state</th>\n",
       "      <th>shipment_type</th>\n",
       "      <th>status</th>\n",
       "      <th>date_created_only_date</th>\n",
       "      <th>date_visit_only_date</th>\n",
       "    </tr>\n",
       "  </thead>\n",
       "  <tbody>\n",
       "    <tr>\n",
       "      <td>count</td>\n",
       "      <td>321523</td>\n",
       "      <td>321523</td>\n",
       "      <td>321523</td>\n",
       "      <td>321523</td>\n",
       "      <td>321523</td>\n",
       "      <td>321523</td>\n",
       "    </tr>\n",
       "    <tr>\n",
       "      <td>unique</td>\n",
       "      <td>1</td>\n",
       "      <td>27</td>\n",
       "      <td>3</td>\n",
       "      <td>2</td>\n",
       "      <td>97</td>\n",
       "      <td>15</td>\n",
       "    </tr>\n",
       "    <tr>\n",
       "      <td>top</td>\n",
       "      <td>SP</td>\n",
       "      <td>SP</td>\n",
       "      <td>express</td>\n",
       "      <td>done</td>\n",
       "      <td>2019-02-26</td>\n",
       "      <td>2019-03-08</td>\n",
       "    </tr>\n",
       "    <tr>\n",
       "      <td>freq</td>\n",
       "      <td>321523</td>\n",
       "      <td>125424</td>\n",
       "      <td>158299</td>\n",
       "      <td>318737</td>\n",
       "      <td>16994</td>\n",
       "      <td>38442</td>\n",
       "    </tr>\n",
       "  </tbody>\n",
       "</table>\n",
       "</div>"
      ],
      "text/plain": [
       "       sender_state receiver_state shipment_type  status  \\\n",
       "count        321523         321523        321523  321523   \n",
       "unique            1             27             3       2   \n",
       "top              SP             SP       express    done   \n",
       "freq         321523         125424        158299  318737   \n",
       "\n",
       "       date_created_only_date date_visit_only_date  \n",
       "count                  321523               321523  \n",
       "unique                     97                   15  \n",
       "top                2019-02-26           2019-03-08  \n",
       "freq                    16994                38442  "
      ]
     },
     "execution_count": 135,
     "metadata": {},
     "output_type": "execute_result"
    }
   ],
   "source": [
    "df_train.describe(include ='object')"
   ]
  },
  {
   "cell_type": "markdown",
   "metadata": {
    "colab_type": "text",
    "id": "Mgx70KcGis3m"
   },
   "source": [
    "**Observaciones** \n",
    "\n",
    "- El conjunto de entrenamiento cuenta con 321523 envíos.\n",
    "- El 75% de dichos envíos utilizan el servicio 0 ,1 y  2, donde el 25% está concentrado en el servicio 0. Predominan por lo tanto estos tres servicios en todo el conjunto de entrenamiento.\n",
    "- La mayoría de los envíos son de un item.\n",
    "- Aproximadamente el 40% (127570) de estos envíos llegan al estado de San Pablo.\n",
    "- En el 50% de estos datos shipment_days tarda hasta 3 días. "
   ]
  },
  {
   "cell_type": "markdown",
   "metadata": {
    "colab_type": "text",
    "id": "xPhr0xCHqzd1"
   },
   "source": [
    "Mostramos a continuación la distribución de las variables service y shipment_days y un pequeño análisis de receiver_zipcode."
   ]
  },
  {
   "cell_type": "code",
   "execution_count": 136,
   "metadata": {
    "colab": {
     "base_uri": "https://localhost:8080/",
     "height": 285
    },
    "colab_type": "code",
    "executionInfo": {
     "elapsed": 1409,
     "status": "ok",
     "timestamp": 1567966066102,
     "user": {
      "displayName": "Johanna Frau",
      "photoUrl": "https://lh3.googleusercontent.com/a-/AAuE7mCz7ppSJZsUk9D_GAJzKmAHzuLcDkDQL2VhEf7VInk=s64",
      "userId": "12340570416827246133"
     },
     "user_tz": 180
    },
    "id": "-Yo1qvOLgOVC",
    "outputId": "6371cb66-ab7c-4098-de41-be278ff84b3e"
   },
   "outputs": [
    {
     "data": {
      "image/png": "[encoded data removed]",
      "text/plain": [
       "<Figure size 432x288 with 1 Axes>"
      ]
     },
     "metadata": {
      "needs_background": "light"
     },
     "output_type": "display_data"
    }
   ],
   "source": [
    "ax = df_train['service'].value_counts(normalize=True,sort=True,\n",
    "                                       dropna=True).sort_index().plot(kind='bar',\n",
    "                                                       grid=True)\n",
    "ax.set(xlabel=\"Servicios\",ylabel=\"% de envíos\")\n",
    "sns.despine()"
   ]
  },
  {
   "cell_type": "code",
   "execution_count": 137,
   "metadata": {
    "colab": {
     "base_uri": "https://localhost:8080/",
     "height": 533
    },
    "colab_type": "code",
    "executionInfo": {
     "elapsed": 2032,
     "status": "ok",
     "timestamp": 1567966067413,
     "user": {
      "displayName": "Johanna Frau",
      "photoUrl": "https://lh3.googleusercontent.com/a-/AAuE7mCz7ppSJZsUk9D_GAJzKmAHzuLcDkDQL2VhEf7VInk=s64",
      "userId": "12340570416827246133"
     },
     "user_tz": 180
    },
    "id": "dxbnf3TMlGgN",
    "outputId": "f6413cc8-83d1-4c04-ca8d-f133a445dcc2"
   },
   "outputs": [
    {
     "data": {
      "image/png": "[encoded data removed]",
      "text/plain": [
       "<Figure size 1296x576 with 1 Axes>"
      ]
     },
     "metadata": {
      "needs_background": "light"
     },
     "output_type": "display_data"
    }
   ],
   "source": [
    "plt.figure(figsize=(18,8))\n",
    "ax = df_train['shipment_days'].value_counts(normalize=True,sort=True,\n",
    "                                       dropna=True).sort_index().plot(kind='bar',\n",
    "                                                     grid=True)\n",
    "ax.set(xlabel=\"Shipment_days\",ylabel=\"% de envíos\")\n",
    "sns.despine()"
   ]
  },
  {
   "cell_type": "markdown",
   "metadata": {
    "colab_type": "text",
    "id": "GIlJgCd3r0Tf"
   },
   "source": [
    "El primer gráfico confirma la información devuelta por la función describe donde los tres servicios más frecuentes son el 0, el 1 y el 4.\n",
    "\n",
    "En cuanto a shipment_days observamos que aquellos envíos que tardan 19 días o más representan un porcentaje muy mínimo del total de los datos (alrededor del 0.01%)"
   ]
  },
  {
   "cell_type": "code",
   "execution_count": 138,
   "metadata": {
    "colab": {
     "base_uri": "https://localhost:8080/",
     "height": 100
    },
    "colab_type": "code",
    "executionInfo": {
     "elapsed": 624,
     "status": "ok",
     "timestamp": 1567966067415,
     "user": {
      "displayName": "Johanna Frau",
      "photoUrl": "https://lh3.googleusercontent.com/a-/AAuE7mCz7ppSJZsUk9D_GAJzKmAHzuLcDkDQL2VhEf7VInk=s64",
      "userId": "12340570416827246133"
     },
     "user_tz": 180
    },
    "id": "mEjyHFcvslEV",
    "outputId": "62c9f0a6-ff7f-4855-fef8-fdfaf21a444c"
   },
   "outputs": [
    {
     "data": {
      "text/plain": [
       "count     321523\n",
       "unique     18244\n",
       "top        36400\n",
       "freq         349\n",
       "Name: receiver_zipcode, dtype: int64"
      ]
     },
     "execution_count": 138,
     "metadata": {},
     "output_type": "execute_result"
    }
   ],
   "source": [
    "receiver_zc_train = df_train['receiver_zipcode'].astype('category')\n",
    "receiver_zc_train.describe()"
   ]
  },
  {
   "cell_type": "markdown",
   "metadata": {
    "colab_type": "text",
    "id": "LMFejqRNxYXk"
   },
   "source": [
    "Observamos que el receiver_zipcode más frecuente es el 36400 el cual aparece 349 veces."
   ]
  },
  {
   "cell_type": "markdown",
   "metadata": {
    "colab_type": "text",
    "id": "5CjQCIOoiPsR"
   },
   "source": [
    "#### Análisis del conjunto de test\n",
    "\n",
    "Realizamos ahora un análisis similar sobre el conjunto de validación (o test)."
   ]
  },
  {
   "cell_type": "code",
   "execution_count": 139,
   "metadata": {
    "colab": {
     "base_uri": "https://localhost:8080/",
     "height": 287
    },
    "colab_type": "code",
    "executionInfo": {
     "elapsed": 608,
     "status": "ok",
     "timestamp": 1567966069606,
     "user": {
      "displayName": "Johanna Frau",
      "photoUrl": "https://lh3.googleusercontent.com/a-/AAuE7mCz7ppSJZsUk9D_GAJzKmAHzuLcDkDQL2VhEf7VInk=s64",
      "userId": "12340570416827246133"
     },
     "user_tz": 180
    },
    "id": "hcbYhLLFc4xK",
    "outputId": "fed0b5d3-a0c7-4255-c471-42245b3e1c5c"
   },
   "outputs": [
    {
     "data": {
      "text/html": [
       "<div>\n",
       "<style scoped>\n",
       "    .dataframe tbody tr th:only-of-type {\n",
       "        vertical-align: middle;\n",
       "    }\n",
       "\n",
       "    .dataframe tbody tr th {\n",
       "        vertical-align: top;\n",
       "    }\n",
       "\n",
       "    .dataframe thead th {\n",
       "        text-align: right;\n",
       "    }\n",
       "</style>\n",
       "<table border=\"1\" class=\"dataframe\">\n",
       "  <thead>\n",
       "    <tr style=\"text-align: right;\">\n",
       "      <th></th>\n",
       "      <th>sender_zipcode</th>\n",
       "      <th>receiver_zipcode</th>\n",
       "      <th>quantity</th>\n",
       "      <th>service</th>\n",
       "      <th>shipment_days</th>\n",
       "    </tr>\n",
       "  </thead>\n",
       "  <tbody>\n",
       "    <tr>\n",
       "      <td>count</td>\n",
       "      <td>32524.000000</td>\n",
       "      <td>32524.000000</td>\n",
       "      <td>32524.000000</td>\n",
       "      <td>32524.000000</td>\n",
       "      <td>32524.000000</td>\n",
       "    </tr>\n",
       "    <tr>\n",
       "      <td>mean</td>\n",
       "      <td>7761.103831</td>\n",
       "      <td>22462.617575</td>\n",
       "      <td>1.285328</td>\n",
       "      <td>1.677254</td>\n",
       "      <td>1.599250</td>\n",
       "    </tr>\n",
       "    <tr>\n",
       "      <td>std</td>\n",
       "      <td>4848.277470</td>\n",
       "      <td>25891.507878</td>\n",
       "      <td>0.667577</td>\n",
       "      <td>2.412361</td>\n",
       "      <td>0.957553</td>\n",
       "    </tr>\n",
       "    <tr>\n",
       "      <td>min</td>\n",
       "      <td>1001.000000</td>\n",
       "      <td>1001.000000</td>\n",
       "      <td>1.000000</td>\n",
       "      <td>0.000000</td>\n",
       "      <td>0.000000</td>\n",
       "    </tr>\n",
       "    <tr>\n",
       "      <td>25%</td>\n",
       "      <td>3437.000000</td>\n",
       "      <td>5771.500000</td>\n",
       "      <td>1.000000</td>\n",
       "      <td>0.000000</td>\n",
       "      <td>1.000000</td>\n",
       "    </tr>\n",
       "    <tr>\n",
       "      <td>50%</td>\n",
       "      <td>6795.000000</td>\n",
       "      <td>13025.000000</td>\n",
       "      <td>1.000000</td>\n",
       "      <td>0.000000</td>\n",
       "      <td>1.000000</td>\n",
       "    </tr>\n",
       "    <tr>\n",
       "      <td>75%</td>\n",
       "      <td>13076.000000</td>\n",
       "      <td>25615.000000</td>\n",
       "      <td>1.000000</td>\n",
       "      <td>4.000000</td>\n",
       "      <td>2.000000</td>\n",
       "    </tr>\n",
       "    <tr>\n",
       "      <td>max</td>\n",
       "      <td>19970.000000</td>\n",
       "      <td>99950.000000</td>\n",
       "      <td>5.000000</td>\n",
       "      <td>10.000000</td>\n",
       "      <td>6.000000</td>\n",
       "    </tr>\n",
       "  </tbody>\n",
       "</table>\n",
       "</div>"
      ],
      "text/plain": [
       "       sender_zipcode  receiver_zipcode      quantity       service  \\\n",
       "count    32524.000000      32524.000000  32524.000000  32524.000000   \n",
       "mean      7761.103831      22462.617575      1.285328      1.677254   \n",
       "std       4848.277470      25891.507878      0.667577      2.412361   \n",
       "min       1001.000000       1001.000000      1.000000      0.000000   \n",
       "25%       3437.000000       5771.500000      1.000000      0.000000   \n",
       "50%       6795.000000      13025.000000      1.000000      0.000000   \n",
       "75%      13076.000000      25615.000000      1.000000      4.000000   \n",
       "max      19970.000000      99950.000000      5.000000     10.000000   \n",
       "\n",
       "       shipment_days  \n",
       "count   32524.000000  \n",
       "mean        1.599250  \n",
       "std         0.957553  \n",
       "min         0.000000  \n",
       "25%         1.000000  \n",
       "50%         1.000000  \n",
       "75%         2.000000  \n",
       "max         6.000000  "
      ]
     },
     "execution_count": 139,
     "metadata": {},
     "output_type": "execute_result"
    }
   ],
   "source": [
    "df_test.describe()"
   ]
  },
  {
   "cell_type": "code",
   "execution_count": 140,
   "metadata": {
    "colab": {
     "base_uri": "https://localhost:8080/",
     "height": 187
    },
    "colab_type": "code",
    "executionInfo": {
     "elapsed": 499,
     "status": "ok",
     "timestamp": 1567966070053,
     "user": {
      "displayName": "Johanna Frau",
      "photoUrl": "https://lh3.googleusercontent.com/a-/AAuE7mCz7ppSJZsUk9D_GAJzKmAHzuLcDkDQL2VhEf7VInk=s64",
      "userId": "12340570416827246133"
     },
     "user_tz": 180
    },
    "id": "tENY5qubyCFJ",
    "outputId": "ba45dc0d-16b0-4ab3-b60d-badcce640ac5"
   },
   "outputs": [
    {
     "data": {
      "text/html": [
       "<div>\n",
       "<style scoped>\n",
       "    .dataframe tbody tr th:only-of-type {\n",
       "        vertical-align: middle;\n",
       "    }\n",
       "\n",
       "    .dataframe tbody tr th {\n",
       "        vertical-align: top;\n",
       "    }\n",
       "\n",
       "    .dataframe thead th {\n",
       "        text-align: right;\n",
       "    }\n",
       "</style>\n",
       "<table border=\"1\" class=\"dataframe\">\n",
       "  <thead>\n",
       "    <tr style=\"text-align: right;\">\n",
       "      <th></th>\n",
       "      <th>sender_state</th>\n",
       "      <th>receiver_state</th>\n",
       "      <th>shipment_type</th>\n",
       "      <th>status</th>\n",
       "      <th>date_created_only_date</th>\n",
       "      <th>date_visit_only_date</th>\n",
       "    </tr>\n",
       "  </thead>\n",
       "  <tbody>\n",
       "    <tr>\n",
       "      <td>count</td>\n",
       "      <td>32524</td>\n",
       "      <td>32524</td>\n",
       "      <td>32524</td>\n",
       "      <td>32524</td>\n",
       "      <td>32524</td>\n",
       "      <td>32524</td>\n",
       "    </tr>\n",
       "    <tr>\n",
       "      <td>unique</td>\n",
       "      <td>1</td>\n",
       "      <td>27</td>\n",
       "      <td>3</td>\n",
       "      <td>2</td>\n",
       "      <td>8</td>\n",
       "      <td>6</td>\n",
       "    </tr>\n",
       "    <tr>\n",
       "      <td>top</td>\n",
       "      <td>SP</td>\n",
       "      <td>SP</td>\n",
       "      <td>express</td>\n",
       "      <td>done</td>\n",
       "      <td>2019-03-21</td>\n",
       "      <td>2019-03-28</td>\n",
       "    </tr>\n",
       "    <tr>\n",
       "      <td>freq</td>\n",
       "      <td>32524</td>\n",
       "      <td>22836</td>\n",
       "      <td>25096</td>\n",
       "      <td>32281</td>\n",
       "      <td>8908</td>\n",
       "      <td>10625</td>\n",
       "    </tr>\n",
       "  </tbody>\n",
       "</table>\n",
       "</div>"
      ],
      "text/plain": [
       "       sender_state receiver_state shipment_type status  \\\n",
       "count         32524          32524         32524  32524   \n",
       "unique            1             27             3      2   \n",
       "top              SP             SP       express   done   \n",
       "freq          32524          22836         25096  32281   \n",
       "\n",
       "       date_created_only_date date_visit_only_date  \n",
       "count                   32524                32524  \n",
       "unique                      8                    6  \n",
       "top                2019-03-21           2019-03-28  \n",
       "freq                     8908                10625  "
      ]
     },
     "execution_count": 140,
     "metadata": {},
     "output_type": "execute_result"
    }
   ],
   "source": [
    "df_test.describe(include='object')"
   ]
  },
  {
   "cell_type": "markdown",
   "metadata": {
    "colab_type": "text",
    "id": "hb9gN0e6yOBn"
   },
   "source": [
    "**Observaciones**\n",
    "\n",
    "- Este conjunto cuenta con un total de 32525 envíos.\n",
    "- El 50% de los envíos utiliza el servicio 0.\n",
    "- La variable shipment_days abarca desde 1 día hasta 6 días.\n",
    "- La mayoría de los envíos son de un item.\n",
    "- Aproximadamente el 70% (22836) de estos envíos llegan a San Pablo."
   ]
  },
  {
   "cell_type": "markdown",
   "metadata": {
    "colab_type": "text",
    "id": "PSWbsGmC0Hs9"
   },
   "source": [
    "Analizamos ahora las variables service, shipment_days y receiver_zipcode."
   ]
  },
  {
   "cell_type": "code",
   "execution_count": 141,
   "metadata": {
    "colab": {
     "base_uri": "https://localhost:8080/",
     "height": 284
    },
    "colab_type": "code",
    "executionInfo": {
     "elapsed": 1011,
     "status": "ok",
     "timestamp": 1567966071932,
     "user": {
      "displayName": "Johanna Frau",
      "photoUrl": "https://lh3.googleusercontent.com/a-/AAuE7mCz7ppSJZsUk9D_GAJzKmAHzuLcDkDQL2VhEf7VInk=s64",
      "userId": "12340570416827246133"
     },
     "user_tz": 180
    },
    "id": "gLjbYFKehPlM",
    "outputId": "156136ff-dbab-4489-ccca-a7af8da736e0"
   },
   "outputs": [
    {
     "data": {
      "image/png": "[encoded data removed]",
      "text/plain": [
       "<Figure size 432x288 with 1 Axes>"
      ]
     },
     "metadata": {
      "needs_background": "light"
     },
     "output_type": "display_data"
    }
   ],
   "source": [
    "ax = df_test['service'].value_counts(normalize=True,sort=True,\n",
    "                                       dropna=True).sort_index().plot(kind='bar',\n",
    "                                                       grid=True)\n",
    "ax.set(xlabel=\"Servicios\",ylabel=\"% de envíos\")\n",
    "sns.despine()"
   ]
  },
  {
   "cell_type": "code",
   "execution_count": 142,
   "metadata": {
    "colab": {
     "base_uri": "https://localhost:8080/",
     "height": 290
    },
    "colab_type": "code",
    "executionInfo": {
     "elapsed": 1101,
     "status": "ok",
     "timestamp": 1567966072425,
     "user": {
      "displayName": "Johanna Frau",
      "photoUrl": "https://lh3.googleusercontent.com/a-/AAuE7mCz7ppSJZsUk9D_GAJzKmAHzuLcDkDQL2VhEf7VInk=s64",
      "userId": "12340570416827246133"
     },
     "user_tz": 180
    },
    "id": "8L_mdPZu0iBK",
    "outputId": "bd671761-67b7-4372-e1e5-cf4ed97d03b6"
   },
   "outputs": [
    {
     "data": {
      "image/png": "[encoded data removed]",
      "text/plain": [
       "<Figure size 432x288 with 1 Axes>"
      ]
     },
     "metadata": {
      "needs_background": "light"
     },
     "output_type": "display_data"
    }
   ],
   "source": [
    "plt.figure(figsize=(6,4))\n",
    "ax = df_test['shipment_days'].value_counts(normalize=True,sort=True,\n",
    "                                       dropna=True).sort_index().plot(kind='bar',\n",
    "                                                     grid=True)\n",
    "ax.set(xlabel=\"Shipment_days\",ylabel=\"% de envíos\")\n",
    "sns.despine()"
   ]
  },
  {
   "cell_type": "code",
   "execution_count": 143,
   "metadata": {
    "colab": {
     "base_uri": "https://localhost:8080/",
     "height": 100
    },
    "colab_type": "code",
    "executionInfo": {
     "elapsed": 558,
     "status": "ok",
     "timestamp": 1567966072427,
     "user": {
      "displayName": "Johanna Frau",
      "photoUrl": "https://lh3.googleusercontent.com/a-/AAuE7mCz7ppSJZsUk9D_GAJzKmAHzuLcDkDQL2VhEf7VInk=s64",
      "userId": "12340570416827246133"
     },
     "user_tz": 180
    },
    "id": "hwRiDTHc0xfp",
    "outputId": "14158833-2262-441a-b675-4055d15b738c"
   },
   "outputs": [
    {
     "data": {
      "text/plain": [
       "count     32524\n",
       "unique     9001\n",
       "top       13470\n",
       "freq         58\n",
       "Name: receiver_zipcode, dtype: int64"
      ]
     },
     "execution_count": 143,
     "metadata": {},
     "output_type": "execute_result"
    }
   ],
   "source": [
    "receiver_zc_test = df_test['receiver_zipcode'].astype('category')\n",
    "receiver_zc_test.describe()"
   ]
  },
  {
   "cell_type": "markdown",
   "metadata": {
    "colab_type": "text",
    "id": "L2ijgGoj098Z"
   },
   "source": [
    "El primer gráfico confirma el alto predominio del servicio de correo 0, el cual abarca más del 50% de los datos del conjunto de test.\n",
    "\n",
    "En el caso de shipment_days, a diferencia del conjunto de entrenamiento, esta variable solo abarca 7 valores distintos donde predominan los envíos que tardan 1 o 2 en llegar.\n",
    "\n",
    "En este caso, el zipcode 13470 es el más frecuente en todo el dataset el cual se presenta en 58 envíos.\n",
    "\n",
    "Por lo tanto al momento de analizar los resultados debemos tener en cuenta las diferencias entre el conjunto de entrenamiento y de test principalmente lo que notamos en shipment_days (dado que este es nuestro target) y en service (pues es uno de los features más importantes en nuestro análisis)."
   ]
  },
  {
   "cell_type": "markdown",
   "metadata": {
    "colab_type": "text",
    "id": "p_Zliuxu2pnq"
   },
   "source": [
    "#### Definición de X_train, y_train, X_test e y_test."
   ]
  },
  {
   "cell_type": "markdown",
   "metadata": {
    "colab_type": "text",
    "id": "nZUE7kf-X_S3"
   },
   "source": [
    "Ahora podemos definir los X_train, y_train , X_test, e y_test.\n",
    "\n",
    "En X_train vamos a seleccionar los features que previamente habiamos elegimos como los mas representativos."
   ]
  },
  {
   "cell_type": "code",
   "execution_count": 144,
   "metadata": {
    "colab": {},
    "colab_type": "code",
    "id": "Jq8AzxarEJdb"
   },
   "outputs": [],
   "source": [
    "X_train = df_train[['receiver_zipcode','service']]"
   ]
  },
  {
   "cell_type": "code",
   "execution_count": 145,
   "metadata": {
    "colab": {},
    "colab_type": "code",
    "id": "4oD9-qqFEukS"
   },
   "outputs": [],
   "source": [
    "y_train = df_train[['shipment_days']]"
   ]
  },
  {
   "cell_type": "code",
   "execution_count": 146,
   "metadata": {
    "colab": {},
    "colab_type": "code",
    "id": "L8tu4D_IEvxD"
   },
   "outputs": [],
   "source": [
    "X_test = df_test[['receiver_zipcode','service']]"
   ]
  },
  {
   "cell_type": "code",
   "execution_count": 147,
   "metadata": {
    "colab": {},
    "colab_type": "code",
    "id": "bRKaYf3SE1yu"
   },
   "outputs": [],
   "source": [
    "y_test = df_test[['shipment_days']]"
   ]
  },
  {
   "cell_type": "markdown",
   "metadata": {
    "colab_type": "text",
    "id": "zDogNfuQZBZ5"
   },
   "source": [
    "Corroboremos que todos nos quedaron del mismo tamaño:"
   ]
  },
  {
   "cell_type": "code",
   "execution_count": 148,
   "metadata": {
    "colab": {
     "base_uri": "https://localhost:8080/",
     "height": 33
    },
    "colab_type": "code",
    "executionInfo": {
     "elapsed": 647,
     "status": "ok",
     "timestamp": 1567966077515,
     "user": {
      "displayName": "Johanna Frau",
      "photoUrl": "https://lh3.googleusercontent.com/a-/AAuE7mCz7ppSJZsUk9D_GAJzKmAHzuLcDkDQL2VhEf7VInk=s64",
      "userId": "12340570416827246133"
     },
     "user_tz": 180
    },
    "id": "pzzs4iU5FXMi",
    "outputId": "2b325919-eda4-41ca-8e60-bd6ea901f421"
   },
   "outputs": [
    {
     "data": {
      "text/plain": [
       "(321523, 2)"
      ]
     },
     "execution_count": 148,
     "metadata": {},
     "output_type": "execute_result"
    }
   ],
   "source": [
    "X_train.shape"
   ]
  },
  {
   "cell_type": "code",
   "execution_count": 149,
   "metadata": {
    "colab": {
     "base_uri": "https://localhost:8080/",
     "height": 33
    },
    "colab_type": "code",
    "executionInfo": {
     "elapsed": 626,
     "status": "ok",
     "timestamp": 1567966078001,
     "user": {
      "displayName": "Johanna Frau",
      "photoUrl": "https://lh3.googleusercontent.com/a-/AAuE7mCz7ppSJZsUk9D_GAJzKmAHzuLcDkDQL2VhEf7VInk=s64",
      "userId": "12340570416827246133"
     },
     "user_tz": 180
    },
    "id": "BRqfShJdFaHV",
    "outputId": "2d10f454-cdd8-4c55-aa92-be0b37711ab0"
   },
   "outputs": [
    {
     "data": {
      "text/plain": [
       "(32524, 2)"
      ]
     },
     "execution_count": 149,
     "metadata": {},
     "output_type": "execute_result"
    }
   ],
   "source": [
    "X_test.shape"
   ]
  },
  {
   "cell_type": "code",
   "execution_count": 150,
   "metadata": {
    "colab": {
     "base_uri": "https://localhost:8080/",
     "height": 33
    },
    "colab_type": "code",
    "executionInfo": {
     "elapsed": 856,
     "status": "ok",
     "timestamp": 1567966078794,
     "user": {
      "displayName": "Johanna Frau",
      "photoUrl": "https://lh3.googleusercontent.com/a-/AAuE7mCz7ppSJZsUk9D_GAJzKmAHzuLcDkDQL2VhEf7VInk=s64",
      "userId": "12340570416827246133"
     },
     "user_tz": 180
    },
    "id": "xsQ9ClTkFcBG",
    "outputId": "8b216967-dbe4-48fd-8bb9-3caa08f428ac"
   },
   "outputs": [
    {
     "data": {
      "text/plain": [
       "(321523, 1)"
      ]
     },
     "execution_count": 150,
     "metadata": {},
     "output_type": "execute_result"
    }
   ],
   "source": [
    "y_train.shape"
   ]
  },
  {
   "cell_type": "code",
   "execution_count": 151,
   "metadata": {
    "colab": {
     "base_uri": "https://localhost:8080/",
     "height": 33
    },
    "colab_type": "code",
    "executionInfo": {
     "elapsed": 689,
     "status": "ok",
     "timestamp": 1567966079065,
     "user": {
      "displayName": "Johanna Frau",
      "photoUrl": "https://lh3.googleusercontent.com/a-/AAuE7mCz7ppSJZsUk9D_GAJzKmAHzuLcDkDQL2VhEf7VInk=s64",
      "userId": "12340570416827246133"
     },
     "user_tz": 180
    },
    "id": "lfsVFPbTFfzJ",
    "outputId": "66c49ec5-bee5-494b-9b78-d5d608379c5d"
   },
   "outputs": [
    {
     "data": {
      "text/plain": [
       "(32524, 1)"
      ]
     },
     "execution_count": 151,
     "metadata": {},
     "output_type": "execute_result"
    }
   ],
   "source": [
    "y_test.shape"
   ]
  },
  {
   "cell_type": "markdown",
   "metadata": {
    "colab_type": "text",
    "id": "2gafsKetSQXp"
   },
   "source": [
    "### DecisionTree"
   ]
  },
  {
   "cell_type": "markdown",
   "metadata": {
    "colab_type": "text",
    "id": "lChYYqwmZVsk"
   },
   "source": [
    "Como nuestro y (shipment_days) es categórico consideramos mejor una clasificación.\n",
    "Como primera elección consideramos decisiontree para ver como se comporta con la clasificación:"
   ]
  },
  {
   "cell_type": "code",
   "execution_count": 152,
   "metadata": {
    "colab": {},
    "colab_type": "code",
    "id": "qqVo4Vc5Ztf0"
   },
   "outputs": [],
   "source": [
    "features_names = [\"receiver_code\",\"service\"]"
   ]
  },
  {
   "cell_type": "code",
   "execution_count": 153,
   "metadata": {
    "colab": {},
    "colab_type": "code",
    "id": "02W68qnYZwYc"
   },
   "outputs": [],
   "source": [
    "target_names = [\"0\",\"1\",\"2\",\"3\",\"4\",\"5\",\"6\"]"
   ]
  },
  {
   "cell_type": "markdown",
   "metadata": {
    "colab_type": "text",
    "id": "QinpoftdaVk9"
   },
   "source": [
    "Para usar el clasificador desicionTree necesita que el target sea un valor entero, por ende convertimos shipment_day en entero (acá podemos ver el gráfico más arriba planteado de shipment_days):"
   ]
  },
  {
   "cell_type": "code",
   "execution_count": 154,
   "metadata": {
    "colab": {},
    "colab_type": "code",
    "id": "6gZRxYJDZ0N8"
   },
   "outputs": [],
   "source": [
    "shipment_days = y_train['shipment_days'].astype(int)\n",
    "shipment_days_byclass = [None] * len(shipment_days)\n",
    "for line,row in enumerate(shipment_days):\n",
    "    if 0==row:\n",
    "        shipment_days_byclass[line] = 0\n",
    "    elif 1==row:\n",
    "        shipment_days_byclass[line] = 1     \n",
    "    elif 2==row:\n",
    "        shipment_days_byclass[line] = 2\n",
    "    elif 3==row:\n",
    "        shipment_days_byclass[line] = 3\n",
    "    elif 4==row:\n",
    "        shipment_days_byclass[line] = 4\n",
    "    elif 5==row:\n",
    "        shipment_days_byclass[line] = 5        \n",
    "    else:\n",
    "        shipment_days_byclass[line] = 6"
   ]
  },
  {
   "cell_type": "code",
   "execution_count": 155,
   "metadata": {
    "colab": {
     "base_uri": "https://localhost:8080/",
     "height": 136
    },
    "colab_type": "code",
    "executionInfo": {
     "elapsed": 591,
     "status": "ok",
     "timestamp": 1567966084375,
     "user": {
      "displayName": "Johanna Frau",
      "photoUrl": "https://lh3.googleusercontent.com/a-/AAuE7mCz7ppSJZsUk9D_GAJzKmAHzuLcDkDQL2VhEf7VInk=s64",
      "userId": "12340570416827246133"
     },
     "user_tz": 180
    },
    "id": "RI8UPU6tZ80s",
    "outputId": "9833eb19-9c93-4e92-f85e-7a91a0aac85c"
   },
   "outputs": [
    {
     "name": "stderr",
     "output_type": "stream",
     "text": [
      "/home/jfrau/anaconda3/lib/python3.7/site-packages/ipykernel_launcher.py:1: SettingWithCopyWarning: \n",
      "A value is trying to be set on a copy of a slice from a DataFrame.\n",
      "Try using .loc[row_indexer,col_indexer] = value instead\n",
      "\n",
      "See the caveats in the documentation: http://pandas.pydata.org/pandas-docs/stable/user_guide/indexing.html#returning-a-view-versus-a-copy\n",
      "  \"\"\"Entry point for launching an IPython kernel.\n"
     ]
    }
   ],
   "source": [
    "y_train['shipment_days_byclass'] = shipment_days_byclass"
   ]
  },
  {
   "cell_type": "code",
   "execution_count": 156,
   "metadata": {
    "colab": {
     "base_uri": "https://localhost:8080/",
     "height": 116
    },
    "colab_type": "code",
    "executionInfo": {
     "elapsed": 871,
     "status": "ok",
     "timestamp": 1567966085528,
     "user": {
      "displayName": "Johanna Frau",
      "photoUrl": "https://lh3.googleusercontent.com/a-/AAuE7mCz7ppSJZsUk9D_GAJzKmAHzuLcDkDQL2VhEf7VInk=s64",
      "userId": "12340570416827246133"
     },
     "user_tz": 180
    },
    "id": "wOOeyNFEaBCq",
    "outputId": "e96e1784-0012-4a76-85ac-691c702dd088"
   },
   "outputs": [
    {
     "data": {
      "text/plain": [
       "0    5\n",
       "1    5\n",
       "2    4\n",
       "3    2\n",
       "4    6\n",
       "Name: shipment_days_byclass, dtype: int64"
      ]
     },
     "execution_count": 156,
     "metadata": {},
     "output_type": "execute_result"
    }
   ],
   "source": [
    "y_train['shipment_days_byclass'].head()"
   ]
  },
  {
   "cell_type": "markdown",
   "metadata": {
    "colab_type": "text",
    "id": "2jKQgpHvazwm"
   },
   "source": [
    "Hay que hacer lo mismo para los valores de validación:"
   ]
  },
  {
   "cell_type": "code",
   "execution_count": 157,
   "metadata": {
    "colab": {},
    "colab_type": "code",
    "id": "sCzOvp5Rayrt"
   },
   "outputs": [],
   "source": [
    "shipment_days_test = y_test['shipment_days'].astype(int)\n",
    "shipment_days_byclass_test = [None] * len(shipment_days_test)\n",
    "for line,row in enumerate(shipment_days_test):\n",
    "    if 0==row:\n",
    "        shipment_days_byclass_test[line] = 0\n",
    "    elif 1==row:\n",
    "        shipment_days_byclass_test[line] = 1     \n",
    "    elif 2==row:\n",
    "        shipment_days_byclass_test[line] = 2\n",
    "    elif 3==row:\n",
    "        shipment_days_byclass_test[line] = 3\n",
    "    elif 4==row:\n",
    "        shipment_days_byclass_test[line] = 4\n",
    "    elif 5==row:\n",
    "        shipment_days_byclass_test[line] = 5        \n",
    "    else:\n",
    "        shipment_days_byclass_test[line] = 6"
   ]
  },
  {
   "cell_type": "code",
   "execution_count": 158,
   "metadata": {
    "colab": {
     "base_uri": "https://localhost:8080/",
     "height": 136
    },
    "colab_type": "code",
    "executionInfo": {
     "elapsed": 821,
     "status": "ok",
     "timestamp": 1567966087086,
     "user": {
      "displayName": "Johanna Frau",
      "photoUrl": "https://lh3.googleusercontent.com/a-/AAuE7mCz7ppSJZsUk9D_GAJzKmAHzuLcDkDQL2VhEf7VInk=s64",
      "userId": "12340570416827246133"
     },
     "user_tz": 180
    },
    "id": "kejhJhANa8MP",
    "outputId": "7ca9194e-4ff5-400b-a2bf-fcfac72e9a5f"
   },
   "outputs": [
    {
     "name": "stderr",
     "output_type": "stream",
     "text": [
      "/home/jfrau/anaconda3/lib/python3.7/site-packages/ipykernel_launcher.py:1: SettingWithCopyWarning: \n",
      "A value is trying to be set on a copy of a slice from a DataFrame.\n",
      "Try using .loc[row_indexer,col_indexer] = value instead\n",
      "\n",
      "See the caveats in the documentation: http://pandas.pydata.org/pandas-docs/stable/user_guide/indexing.html#returning-a-view-versus-a-copy\n",
      "  \"\"\"Entry point for launching an IPython kernel.\n"
     ]
    }
   ],
   "source": [
    "y_test['shipment_days_byclass'] = shipment_days_byclass_test"
   ]
  },
  {
   "cell_type": "code",
   "execution_count": 159,
   "metadata": {
    "colab": {
     "base_uri": "https://localhost:8080/",
     "height": 33
    },
    "colab_type": "code",
    "executionInfo": {
     "elapsed": 961,
     "status": "ok",
     "timestamp": 1567966088223,
     "user": {
      "displayName": "Johanna Frau",
      "photoUrl": "https://lh3.googleusercontent.com/a-/AAuE7mCz7ppSJZsUk9D_GAJzKmAHzuLcDkDQL2VhEf7VInk=s64",
      "userId": "12340570416827246133"
     },
     "user_tz": 180
    },
    "id": "59XpKtLtbBY8",
    "outputId": "9c8b2f01-a248-45dd-b333-e6b1cb46e88c"
   },
   "outputs": [
    {
     "data": {
      "text/plain": [
       "array([1, 0, 3, ..., 3, 1, 2])"
      ]
     },
     "execution_count": 159,
     "metadata": {},
     "output_type": "execute_result"
    }
   ],
   "source": [
    "y_test['shipment_days_byclass'].values"
   ]
  },
  {
   "cell_type": "code",
   "execution_count": 160,
   "metadata": {
    "colab": {
     "base_uri": "https://localhost:8080/",
     "height": 197
    },
    "colab_type": "code",
    "executionInfo": {
     "elapsed": 671,
     "status": "ok",
     "timestamp": 1567966088830,
     "user": {
      "displayName": "Johanna Frau",
      "photoUrl": "https://lh3.googleusercontent.com/a-/AAuE7mCz7ppSJZsUk9D_GAJzKmAHzuLcDkDQL2VhEf7VInk=s64",
      "userId": "12340570416827246133"
     },
     "user_tz": 180
    },
    "id": "6R_kuHZueaMr",
    "outputId": "9a0756db-fdf7-45aa-df21-f8014bcfae53"
   },
   "outputs": [
    {
     "data": {
      "text/html": [
       "<div>\n",
       "<style scoped>\n",
       "    .dataframe tbody tr th:only-of-type {\n",
       "        vertical-align: middle;\n",
       "    }\n",
       "\n",
       "    .dataframe tbody tr th {\n",
       "        vertical-align: top;\n",
       "    }\n",
       "\n",
       "    .dataframe thead th {\n",
       "        text-align: right;\n",
       "    }\n",
       "</style>\n",
       "<table border=\"1\" class=\"dataframe\">\n",
       "  <thead>\n",
       "    <tr style=\"text-align: right;\">\n",
       "      <th></th>\n",
       "      <th>receiver_zipcode</th>\n",
       "      <th>service</th>\n",
       "    </tr>\n",
       "  </thead>\n",
       "  <tbody>\n",
       "    <tr>\n",
       "      <td>0</td>\n",
       "      <td>14500</td>\n",
       "      <td>1</td>\n",
       "    </tr>\n",
       "    <tr>\n",
       "      <td>1</td>\n",
       "      <td>58670</td>\n",
       "      <td>1</td>\n",
       "    </tr>\n",
       "    <tr>\n",
       "      <td>2</td>\n",
       "      <td>22723</td>\n",
       "      <td>2</td>\n",
       "    </tr>\n",
       "    <tr>\n",
       "      <td>3</td>\n",
       "      <td>18682</td>\n",
       "      <td>2</td>\n",
       "    </tr>\n",
       "    <tr>\n",
       "      <td>4</td>\n",
       "      <td>68908</td>\n",
       "      <td>1</td>\n",
       "    </tr>\n",
       "  </tbody>\n",
       "</table>\n",
       "</div>"
      ],
      "text/plain": [
       "   receiver_zipcode  service\n",
       "0             14500        1\n",
       "1             58670        1\n",
       "2             22723        2\n",
       "3             18682        2\n",
       "4             68908        1"
      ]
     },
     "execution_count": 160,
     "metadata": {},
     "output_type": "execute_result"
    }
   ],
   "source": [
    "X_train.head()"
   ]
  },
  {
   "cell_type": "code",
   "execution_count": 161,
   "metadata": {
    "colab": {},
    "colab_type": "code",
    "id": "O3gD2znabHgu"
   },
   "outputs": [],
   "source": [
    "clf = tree.DecisionTreeClassifier()\n",
    "clf = clf.fit(X_train, y_train[\"shipment_days_byclass\"])"
   ]
  },
  {
   "cell_type": "code",
   "execution_count": 162,
   "metadata": {
    "colab": {
     "base_uri": "https://localhost:8080/",
     "height": 33
    },
    "colab_type": "code",
    "executionInfo": {
     "elapsed": 1181,
     "status": "ok",
     "timestamp": 1567966090253,
     "user": {
      "displayName": "Johanna Frau",
      "photoUrl": "https://lh3.googleusercontent.com/a-/AAuE7mCz7ppSJZsUk9D_GAJzKmAHzuLcDkDQL2VhEf7VInk=s64",
      "userId": "12340570416827246133"
     },
     "user_tz": 180
    },
    "id": "W96tHE-Sd1_W",
    "outputId": "29afbae6-1855-4c78-dbe1-57913543ebf4"
   },
   "outputs": [
    {
     "name": "stdout",
     "output_type": "stream",
     "text": [
      "Accuracy: 65 \n"
     ]
    }
   ],
   "source": [
    "predictions = clf.predict(X_train)\n",
    "print ('Accuracy: %d ' % ((np.sum(y_train[\"shipment_days_byclass\"] == predictions))/float(y_train[\"shipment_days_byclass\"].size)*100))"
   ]
  },
  {
   "cell_type": "code",
   "execution_count": 163,
   "metadata": {
    "colab": {
     "base_uri": "https://localhost:8080/",
     "height": 33
    },
    "colab_type": "code",
    "executionInfo": {
     "elapsed": 679,
     "status": "ok",
     "timestamp": 1567966090255,
     "user": {
      "displayName": "Johanna Frau",
      "photoUrl": "https://lh3.googleusercontent.com/a-/AAuE7mCz7ppSJZsUk9D_GAJzKmAHzuLcDkDQL2VhEf7VInk=s64",
      "userId": "12340570416827246133"
     },
     "user_tz": 180
    },
    "id": "OT6igrqZeMu0",
    "outputId": "ce307040-fd8e-44b9-8b8a-69358abee9cc"
   },
   "outputs": [
    {
     "name": "stdout",
     "output_type": "stream",
     "text": [
      "Accuracy: 50 \n"
     ]
    }
   ],
   "source": [
    "predictions = clf.predict(X_test)\n",
    "print ('Accuracy: %d ' % ((np.sum(y_test[\"shipment_days_byclass\"] == predictions))/float(y_test[\"shipment_days_byclass\"].size)*100))"
   ]
  },
  {
   "cell_type": "code",
   "execution_count": 164,
   "metadata": {
    "colab": {
     "base_uri": "https://localhost:8080/",
     "height": 300
    },
    "colab_type": "code",
    "executionInfo": {
     "elapsed": 834,
     "status": "ok",
     "timestamp": 1567966091265,
     "user": {
      "displayName": "Johanna Frau",
      "photoUrl": "https://lh3.googleusercontent.com/a-/AAuE7mCz7ppSJZsUk9D_GAJzKmAHzuLcDkDQL2VhEf7VInk=s64",
      "userId": "12340570416827246133"
     },
     "user_tz": 180
    },
    "id": "Gy0rmXjQZmzw",
    "outputId": "dcaa79c7-3160-43f2-f1f2-93327cd1fd78"
   },
   "outputs": [
    {
     "name": "stdout",
     "output_type": "stream",
     "text": [
      "Reporte de clasificación (sobre conjunto de evaluación):\n",
      "\n",
      "              precision    recall  f1-score   support\n",
      "\n",
      "           0       0.34      0.37      0.35      1826\n",
      "           1       0.67      0.73      0.70     16445\n",
      "           2       0.43      0.31      0.36      8988\n",
      "           3       0.28      0.19      0.23      3774\n",
      "           4       0.13      0.10      0.11      1195\n",
      "           5       0.04      0.05      0.05       285\n",
      "           6       0.00      0.18      0.00        11\n",
      "\n",
      "    accuracy                           0.50     32524\n",
      "   macro avg       0.27      0.28      0.26     32524\n",
      "weighted avg       0.51      0.50      0.50     32524\n",
      "\n",
      "\n"
     ]
    }
   ],
   "source": [
    "print(\"Reporte de clasificación (sobre conjunto de evaluación):\", end=\"\\n\\n\")\n",
    "y_true, y_pred = y_test[\"shipment_days_byclass\"], clf.predict(X_test)\n",
    "print(classification_report(y_true, y_pred), end=\"\\n\\n\")"
   ]
  },
  {
   "cell_type": "markdown",
   "metadata": {
    "colab_type": "text",
    "id": "33Biw46Tnpwc"
   },
   "source": [
    "Del reporte de clasificación podemos leer que las 4 primeras clases son las que mejor precisión tienen, y las demás muy poca prediccción tienen; cuarta, quinta y sexta. En sexta tenemos una precisión de un 0 porciento por ende no las está prediciendo. También esto lo podemos ver en la matriz de confusión que se muestra a continuación:"
   ]
  },
  {
   "cell_type": "code",
   "execution_count": 165,
   "metadata": {
    "colab": {
     "base_uri": "https://localhost:8080/",
     "height": 133
    },
    "colab_type": "code",
    "executionInfo": {
     "elapsed": 767,
     "status": "ok",
     "timestamp": 1567966098142,
     "user": {
      "displayName": "Johanna Frau",
      "photoUrl": "https://lh3.googleusercontent.com/a-/AAuE7mCz7ppSJZsUk9D_GAJzKmAHzuLcDkDQL2VhEf7VInk=s64",
      "userId": "12340570416827246133"
     },
     "user_tz": 180
    },
    "id": "I_tzXiCPfj8s",
    "outputId": "8466ac98-dc95-4d23-b048-755eabbc89b4"
   },
   "outputs": [
    {
     "name": "stdout",
     "output_type": "stream",
     "text": [
      "[[  667  1089    57     7     3     0     3]\n",
      " [ 1140 11990  2479   504   134    25   173]\n",
      " [  151  3968  2804  1148   291    92   534]\n",
      " [   12   670  1042   731   289   131   899]\n",
      " [    1   100   153   205   116    70   550]\n",
      " [    0    13    24    34    31    15   168]\n",
      " [    0     0     1     2     3     3     2]]\n"
     ]
    }
   ],
   "source": [
    "print(confusion_matrix(y_true, y_pred)) "
   ]
  },
  {
   "cell_type": "markdown",
   "metadata": {
    "colab_type": "text",
    "id": "rQrcRjholK56"
   },
   "source": [
    "A continuación haremos una exploración de los hiperparámetros, para ver cuáles son los mejores hiperparámetros para el decisionTree que maximicen el accuracy."
   ]
  },
  {
   "cell_type": "code",
   "execution_count": 166,
   "metadata": {
    "colab": {
     "base_uri": "https://localhost:8080/",
     "height": 1000
    },
    "colab_type": "code",
    "executionInfo": {
     "elapsed": 69737,
     "status": "ok",
     "timestamp": 1567966177426,
     "user": {
      "displayName": "Johanna Frau",
      "photoUrl": "https://lh3.googleusercontent.com/a-/AAuE7mCz7ppSJZsUk9D_GAJzKmAHzuLcDkDQL2VhEf7VInk=s64",
      "userId": "12340570416827246133"
     },
     "user_tz": 180
    },
    "id": "xMYp0WE9oQwu",
    "outputId": "a407971c-6ae7-4ede-af60-ec55940ce7e3"
   },
   "outputs": [
    {
     "name": "stdout",
     "output_type": "stream",
     "text": [
      "# Exploración de hiperparámetros para función criterion \"gini\"\n",
      "\n",
      "Mejor conjunto de parámetros:\n",
      "{'max_depth': 20, 'min_samples_leaf': 4}\n",
      "\n",
      "Puntajes de la grilla:\n",
      "\n",
      "Exactitud: 0.549 (+/-0.000) para los parámetros {'max_depth': 20, 'min_samples_leaf': 2}\n",
      "Exactitud: 0.551 (+/-0.000) para los parámetros {'max_depth': 20, 'min_samples_leaf': 3}\n",
      "Exactitud: 0.552 (+/-0.000) para los parámetros {'max_depth': 20, 'min_samples_leaf': 4}\n",
      "Exactitud: 0.547 (+/-0.000) para los parámetros {'max_depth': 21, 'min_samples_leaf': 2}\n",
      "Exactitud: 0.549 (+/-0.000) para los parámetros {'max_depth': 21, 'min_samples_leaf': 3}\n",
      "Exactitud: 0.551 (+/-0.000) para los parámetros {'max_depth': 21, 'min_samples_leaf': 4}\n",
      "Exactitud: 0.545 (+/-0.000) para los parámetros {'max_depth': 22, 'min_samples_leaf': 2}\n",
      "Exactitud: 0.548 (+/-0.000) para los parámetros {'max_depth': 22, 'min_samples_leaf': 3}\n",
      "Exactitud: 0.549 (+/-0.000) para los parámetros {'max_depth': 22, 'min_samples_leaf': 4}\n",
      "\n",
      "Reporte de clasificación para el mejor clasificador (sobre conjunto de evaluación):\n",
      "\n",
      "              precision    recall  f1-score   support\n",
      "\n",
      "           0       0.40      0.24      0.30      1826\n",
      "           1       0.68      0.79      0.73     16445\n",
      "           2       0.45      0.32      0.37      8988\n",
      "           3       0.29      0.20      0.24      3774\n",
      "           4       0.15      0.09      0.11      1195\n",
      "           5       0.04      0.03      0.04       285\n",
      "           6       0.00      0.18      0.00        11\n",
      "\n",
      "    accuracy                           0.53     32524\n",
      "   macro avg       0.29      0.26      0.26     32524\n",
      "weighted avg       0.53      0.53      0.52     32524\n",
      "\n",
      "\n",
      "================================================\n",
      "\n",
      "Matriz de confusión (sobre conjunto de evaluación) para gini\n",
      "[[  446  1318    57     3     1     0     1]\n",
      " [  587 13056  2127   410    73    15   177]\n",
      " [   70  4005  2834  1170   241    56   612]\n",
      " [    4   638  1048   752   244    79  1009]\n",
      " [    0    80   149   203   106    48   609]\n",
      " [    0     8    21    36    31     9   180]\n",
      " [    0     0     0     4     3     2     2]]\n",
      "================================================\n",
      "\n",
      "Reporte de clasificación para el mejor clasificador (sobre conjunto de entrenamiento):\n",
      "\n",
      "              precision    recall  f1-score   support\n",
      "\n",
      "           0       0.60      0.30      0.40      9719\n",
      "           1       0.56      0.80      0.66     66882\n",
      "           2       0.46      0.42      0.44     53752\n",
      "           3       0.44      0.34      0.39     40789\n",
      "           4       0.44      0.21      0.28     27318\n",
      "           5       0.47      0.11      0.18     19633\n",
      "           6       0.79      0.93      0.85    103430\n",
      "\n",
      "    accuracy                           0.61    321523\n",
      "   macro avg       0.54      0.45      0.46    321523\n",
      "weighted avg       0.59      0.61      0.58    321523\n",
      "\n",
      "\n",
      "================================================\n",
      "\n",
      "Matriz de confusión (sobre conjunto de entrenamiento) para gini\n",
      "[[ 2912  6269   443    47    10     4    34]\n",
      " [ 1680 53718  8366  2065   311    78   664]\n",
      " [  167 21100 22808  5820  1271   263  2323]\n",
      " [   35  8958  9950 13948  2160   568  5170]\n",
      " [   11  3546  4398  5049  5695   683  7936]\n",
      " [    6  1467  1788  2484  1873  2176  9839]\n",
      " [   12  1289  1426  1994  1626   838 96245]]\n",
      "================================================\n",
      "\n",
      "Accuracy on test is  52.899397368097404\n",
      "Accuracy on training is  61.427020773008465\n",
      "================================================\n",
      "\n",
      "# Exploración de hiperparámetros para función criterion \"entropy\"\n",
      "\n",
      "Mejor conjunto de parámetros:\n",
      "{'max_depth': 20, 'min_samples_leaf': 4}\n",
      "\n",
      "Puntajes de la grilla:\n",
      "\n",
      "Exactitud: 0.548 (+/-0.000) para los parámetros {'max_depth': 20, 'min_samples_leaf': 2}\n",
      "Exactitud: 0.550 (+/-0.000) para los parámetros {'max_depth': 20, 'min_samples_leaf': 3}\n",
      "Exactitud: 0.552 (+/-0.000) para los parámetros {'max_depth': 20, 'min_samples_leaf': 4}\n",
      "Exactitud: 0.546 (+/-0.000) para los parámetros {'max_depth': 21, 'min_samples_leaf': 2}\n",
      "Exactitud: 0.548 (+/-0.000) para los parámetros {'max_depth': 21, 'min_samples_leaf': 3}\n",
      "Exactitud: 0.550 (+/-0.000) para los parámetros {'max_depth': 21, 'min_samples_leaf': 4}\n",
      "Exactitud: 0.544 (+/-0.000) para los parámetros {'max_depth': 22, 'min_samples_leaf': 2}\n",
      "Exactitud: 0.547 (+/-0.000) para los parámetros {'max_depth': 22, 'min_samples_leaf': 3}\n",
      "Exactitud: 0.549 (+/-0.000) para los parámetros {'max_depth': 22, 'min_samples_leaf': 4}\n",
      "\n",
      "Reporte de clasificación para el mejor clasificador (sobre conjunto de evaluación):\n",
      "\n",
      "              precision    recall  f1-score   support\n",
      "\n",
      "           0       0.40      0.26      0.31      1826\n",
      "           1       0.68      0.79      0.73     16445\n",
      "           2       0.45      0.31      0.37      8988\n",
      "           3       0.29      0.21      0.24      3774\n",
      "           4       0.14      0.08      0.10      1195\n",
      "           5       0.04      0.03      0.03       285\n",
      "           6       0.00      0.18      0.00        11\n",
      "\n",
      "    accuracy                           0.53     32524\n",
      "   macro avg       0.29      0.27      0.26     32524\n",
      "weighted avg       0.53      0.53      0.52     32524\n",
      "\n",
      "\n",
      "================================================\n",
      "\n",
      "Matriz de confusión (sobre conjunto de evaluación) para entropy\n",
      "[[  471  1295    48     9     2     0     1]\n",
      " [  616 12986  2143   414    88    15   183]\n",
      " [   77  4004  2772  1210   257    61   607]\n",
      " [    4   648   988   781   258    61  1034]\n",
      " [    1    76   157   212   101    51   597]\n",
      " [    0     9    25    28    31     8   184]\n",
      " [    0     0     1     2     4     2     2]]\n",
      "================================================\n",
      "\n",
      "Reporte de clasificación para el mejor clasificador (sobre conjunto de entrenamiento):\n",
      "\n",
      "              precision    recall  f1-score   support\n",
      "\n",
      "           0       0.61      0.32      0.42      9719\n",
      "           1       0.56      0.80      0.66     66882\n",
      "           2       0.47      0.42      0.44     53752\n",
      "           3       0.44      0.35      0.39     40789\n",
      "           4       0.43      0.21      0.29     27318\n",
      "           5       0.45      0.12      0.18     19633\n",
      "           6       0.79      0.93      0.85    103430\n",
      "\n",
      "    accuracy                           0.61    321523\n",
      "   macro avg       0.54      0.45      0.46    321523\n",
      "weighted avg       0.59      0.61      0.58    321523\n",
      "\n",
      "\n",
      "================================================\n",
      "\n",
      "Matriz de confusión (sobre conjunto de entrenamiento) para entropy\n",
      "[[ 3100  6099   427    42    14     3    34]\n",
      " [ 1716 53635  8356  2068   347   106   654]\n",
      " [  172 20995 22623  6051  1315   312  2284]\n",
      " [   41  8861  9705 14168  2329   637  5048]\n",
      " [   18  3527  4188  5161  5799   761  7864]\n",
      " [    8  1443  1744  2519  1902  2288  9729]\n",
      " [   15  1261  1407  2098  1651  1008 95990]]\n",
      "================================================\n",
      "\n",
      "Accuracy on test is  52.641126552699546\n",
      "Accuracy on training is  61.458433766791174\n",
      "================================================\n",
      "\n"
     ]
    }
   ],
   "source": [
    "for idx, criterion in enumerate(('gini','entropy'),start=1):\n",
    "    exploring_params = {\n",
    "        \"max_depth\" :  [20, 21, 22],\n",
    "        \"min_samples_leaf\" : [2,3,4]\n",
    "    }\n",
    "    m = tree.DecisionTreeClassifier(criterion=criterion)\n",
    "    model = GridSearchCV(m, exploring_params, cv=5, scoring='accuracy') \n",
    "    model.fit(X_train, y_train[\"shipment_days_byclass\"])\n",
    "    print(\"# Exploración de hiperparámetros para función criterion \\\"%s\\\"\" % criterion, end=\"\\n\\n\")\n",
    "    \n",
    "    print(\"Mejor conjunto de parámetros:\")\n",
    "    print(model.best_params_, end=\"\\n\\n\")\n",
    "    \n",
    "    print(\"Puntajes de la grilla:\", end=\"\\n\\n\")\n",
    "    means = model.cv_results_['mean_test_score']\n",
    "    stds = model.cv_results_['std_test_score']\n",
    "    \n",
    "    for mean, std, params in zip(means, stds, model.cv_results_['params']):\n",
    "        print(\"Exactitud: %0.3f (+/-%0.03f) para los parámetros %r\" % (mean, std ** 2, params))\n",
    "    print()\n",
    "    \n",
    "    print(\"Reporte de clasificación para el mejor clasificador (sobre conjunto de evaluación):\", end=\"\\n\\n\")\n",
    "    y_true, y_pred = y_test[\"shipment_days_byclass\"], model.predict(X_test)\n",
    "    print(classification_report(y_true, y_pred), end=\"\\n\\n\")\n",
    "    \n",
    "    print(\"================================================\", end=\"\\n\\n\")\n",
    "    print(\"Matriz de confusión (sobre conjunto de evaluación) para %s\" % criterion)\n",
    "    print(confusion_matrix(y_true, y_pred))                          \n",
    "    \n",
    "    print(\"================================================\", end=\"\\n\\n\")\n",
    "    \n",
    "    print(\"Reporte de clasificación para el mejor clasificador (sobre conjunto de entrenamiento):\", end=\"\\n\\n\")\n",
    "    y_true_t, y_pred_t = y_train[\"shipment_days_byclass\"], model.predict(X_train)\n",
    "    print(classification_report(y_true_t, y_pred_t), end=\"\\n\\n\")\n",
    "    \n",
    "    print(\"================================================\", end=\"\\n\\n\") \n",
    "    print(\"Matriz de confusión (sobre conjunto de entrenamiento) para %s\" % criterion)\n",
    "    print(confusion_matrix(y_true_t, y_pred_t))\n",
    "    \n",
    "    \n",
    "    print(\"================================================\", end=\"\\n\\n\")    \n",
    "    print (\"Accuracy on test is \", accuracy_score(y_test[\"shipment_days_byclass\"], y_pred)*100)\n",
    "    print (\"Accuracy on training is \", accuracy_score(y_train[\"shipment_days_byclass\"], y_pred_t)*100)\n",
    "    \n",
    "    print(\"================================================\", end=\"\\n\\n\")    \n",
    "  "
   ]
  },
  {
   "cell_type": "markdown",
   "metadata": {
    "colab_type": "text",
    "id": "33uIKCOKk6kS"
   },
   "source": [
    "De acuerdo a los accuraccy obtenidos entre las funciones \"gini\" y \"entropy\", nos estaría dando un mejor resultado para gini. Con los parámetros 'max_depth': 20, 'min_samples_leaf': 4, dónde min_samples_leaf es el número mínimo de muestra requerido para ser un nodo hoja. Y max_depth es la máxima profundidad del árbol, si  no se especifica los nodos serán expandidos hasta que las hojas sea puras, o hasta que todas las hojas contengan menos registros que min_samples_split.\n",
    "\n",
    "\n",
    "Comparando los resultados sin hiperparámetros donde obteníamos 65. y 50. para los datos de entrenamiento y  validación, con los mejores obtenidos para gini con valores en 61 y 52 para entrenamiento y validación, podemos concluir que no obtuvimos una mejora significativa."
   ]
  },
  {
   "cell_type": "markdown",
   "metadata": {
    "colab_type": "text",
    "id": "o93kKM26ZpWR"
   },
   "source": [
    "###Regresion Polinomial"
   ]
  },
  {
   "cell_type": "markdown",
   "metadata": {
    "colab_type": "text",
    "id": "xRNFQumyJUYx"
   },
   "source": [
    "Habiendo probado un modelo de clasificación, intentaremos usar un modelo de regresión y observar si los resultados entre ambos enfoques son comparables. Recordemos que en este caso el target es una variable numérica.\n",
    "\n",
    "Consideramos los mismos conjuntos de entrenamiento y validación que los usados en Decisión Tree."
   ]
  },
  {
   "cell_type": "code",
   "execution_count": 167,
   "metadata": {
    "colab": {
     "base_uri": "https://localhost:8080/",
     "height": 197
    },
    "colab_type": "code",
    "executionInfo": {
     "elapsed": 67607,
     "status": "ok",
     "timestamp": 1567966177432,
     "user": {
      "displayName": "Johanna Frau",
      "photoUrl": "https://lh3.googleusercontent.com/a-/AAuE7mCz7ppSJZsUk9D_GAJzKmAHzuLcDkDQL2VhEf7VInk=s64",
      "userId": "12340570416827246133"
     },
     "user_tz": 180
    },
    "id": "bJ30695fJ8gM",
    "outputId": "b0ccd465-cf80-4614-a23a-2269c46824ca"
   },
   "outputs": [
    {
     "data": {
      "text/html": [
       "<div>\n",
       "<style scoped>\n",
       "    .dataframe tbody tr th:only-of-type {\n",
       "        vertical-align: middle;\n",
       "    }\n",
       "\n",
       "    .dataframe tbody tr th {\n",
       "        vertical-align: top;\n",
       "    }\n",
       "\n",
       "    .dataframe thead th {\n",
       "        text-align: right;\n",
       "    }\n",
       "</style>\n",
       "<table border=\"1\" class=\"dataframe\">\n",
       "  <thead>\n",
       "    <tr style=\"text-align: right;\">\n",
       "      <th></th>\n",
       "      <th>receiver_zipcode</th>\n",
       "      <th>service</th>\n",
       "    </tr>\n",
       "  </thead>\n",
       "  <tbody>\n",
       "    <tr>\n",
       "      <td>74119</td>\n",
       "      <td>87980</td>\n",
       "      <td>1</td>\n",
       "    </tr>\n",
       "    <tr>\n",
       "      <td>451549</td>\n",
       "      <td>3115</td>\n",
       "      <td>0</td>\n",
       "    </tr>\n",
       "    <tr>\n",
       "      <td>310031</td>\n",
       "      <td>89887</td>\n",
       "      <td>1</td>\n",
       "    </tr>\n",
       "    <tr>\n",
       "      <td>93752</td>\n",
       "      <td>5419</td>\n",
       "      <td>5</td>\n",
       "    </tr>\n",
       "    <tr>\n",
       "      <td>228057</td>\n",
       "      <td>35162</td>\n",
       "      <td>1</td>\n",
       "    </tr>\n",
       "  </tbody>\n",
       "</table>\n",
       "</div>"
      ],
      "text/plain": [
       "        receiver_zipcode  service\n",
       "74119              87980        1\n",
       "451549              3115        0\n",
       "310031             89887        1\n",
       "93752               5419        5\n",
       "228057             35162        1"
      ]
     },
     "execution_count": 167,
     "metadata": {},
     "output_type": "execute_result"
    }
   ],
   "source": [
    "X_train.sample(5)"
   ]
  },
  {
   "cell_type": "code",
   "execution_count": 168,
   "metadata": {
    "colab": {
     "base_uri": "https://localhost:8080/",
     "height": 197
    },
    "colab_type": "code",
    "executionInfo": {
     "elapsed": 67043,
     "status": "ok",
     "timestamp": 1567966177434,
     "user": {
      "displayName": "Johanna Frau",
      "photoUrl": "https://lh3.googleusercontent.com/a-/AAuE7mCz7ppSJZsUk9D_GAJzKmAHzuLcDkDQL2VhEf7VInk=s64",
      "userId": "12340570416827246133"
     },
     "user_tz": 180
    },
    "id": "MxcyAB5hKaO_",
    "outputId": "a4fc41de-c872-4995-e534-7ecc3c0eeb53"
   },
   "outputs": [
    {
     "data": {
      "text/html": [
       "<div>\n",
       "<style scoped>\n",
       "    .dataframe tbody tr th:only-of-type {\n",
       "        vertical-align: middle;\n",
       "    }\n",
       "\n",
       "    .dataframe tbody tr th {\n",
       "        vertical-align: top;\n",
       "    }\n",
       "\n",
       "    .dataframe thead th {\n",
       "        text-align: right;\n",
       "    }\n",
       "</style>\n",
       "<table border=\"1\" class=\"dataframe\">\n",
       "  <thead>\n",
       "    <tr style=\"text-align: right;\">\n",
       "      <th></th>\n",
       "      <th>receiver_zipcode</th>\n",
       "      <th>service</th>\n",
       "    </tr>\n",
       "  </thead>\n",
       "  <tbody>\n",
       "    <tr>\n",
       "      <td>233210</td>\n",
       "      <td>9843</td>\n",
       "      <td>0</td>\n",
       "    </tr>\n",
       "    <tr>\n",
       "      <td>76365</td>\n",
       "      <td>3224</td>\n",
       "      <td>0</td>\n",
       "    </tr>\n",
       "    <tr>\n",
       "      <td>99394</td>\n",
       "      <td>14165</td>\n",
       "      <td>0</td>\n",
       "    </tr>\n",
       "    <tr>\n",
       "      <td>397905</td>\n",
       "      <td>91740</td>\n",
       "      <td>6</td>\n",
       "    </tr>\n",
       "    <tr>\n",
       "      <td>499856</td>\n",
       "      <td>18060</td>\n",
       "      <td>0</td>\n",
       "    </tr>\n",
       "  </tbody>\n",
       "</table>\n",
       "</div>"
      ],
      "text/plain": [
       "        receiver_zipcode  service\n",
       "233210              9843        0\n",
       "76365               3224        0\n",
       "99394              14165        0\n",
       "397905             91740        6\n",
       "499856             18060        0"
      ]
     },
     "execution_count": 168,
     "metadata": {},
     "output_type": "execute_result"
    }
   ],
   "source": [
    "X_test.sample(5)"
   ]
  },
  {
   "cell_type": "code",
   "execution_count": 169,
   "metadata": {
    "colab": {
     "base_uri": "https://localhost:8080/",
     "height": 116
    },
    "colab_type": "code",
    "executionInfo": {
     "elapsed": 66588,
     "status": "ok",
     "timestamp": 1567966177435,
     "user": {
      "displayName": "Johanna Frau",
      "photoUrl": "https://lh3.googleusercontent.com/a-/AAuE7mCz7ppSJZsUk9D_GAJzKmAHzuLcDkDQL2VhEf7VInk=s64",
      "userId": "12340570416827246133"
     },
     "user_tz": 180
    },
    "id": "Tw00dF0FKqEM",
    "outputId": "31fce7d8-ad80-47d3-933f-668d44269679"
   },
   "outputs": [
    {
     "data": {
      "text/plain": [
       "78173      0.0\n",
       "32153      1.0\n",
       "158325    10.0\n",
       "136870     0.0\n",
       "434802     3.0\n",
       "Name: shipment_days, dtype: float64"
      ]
     },
     "execution_count": 169,
     "metadata": {},
     "output_type": "execute_result"
    }
   ],
   "source": [
    "y_train['shipment_days'].sample(5)"
   ]
  },
  {
   "cell_type": "code",
   "execution_count": 170,
   "metadata": {
    "colab": {
     "base_uri": "https://localhost:8080/",
     "height": 116
    },
    "colab_type": "code",
    "executionInfo": {
     "elapsed": 65990,
     "status": "ok",
     "timestamp": 1567966177436,
     "user": {
      "displayName": "Johanna Frau",
      "photoUrl": "https://lh3.googleusercontent.com/a-/AAuE7mCz7ppSJZsUk9D_GAJzKmAHzuLcDkDQL2VhEf7VInk=s64",
      "userId": "12340570416827246133"
     },
     "user_tz": 180
    },
    "id": "26ONry0KKwhb",
    "outputId": "72302a8a-a89c-483b-d0cf-ddc9645a266c"
   },
   "outputs": [
    {
     "data": {
      "text/plain": [
       "380207    2.0\n",
       "481375    1.0\n",
       "157139    2.0\n",
       "109915    1.0\n",
       "323500    1.0\n",
       "Name: shipment_days, dtype: float64"
      ]
     },
     "execution_count": 170,
     "metadata": {},
     "output_type": "execute_result"
    }
   ],
   "source": [
    "y_test['shipment_days'].sample(5)"
   ]
  },
  {
   "cell_type": "markdown",
   "metadata": {
    "colab_type": "text",
    "id": "UstLb6zTYxl0"
   },
   "source": [
    "Vamos probar diferentes grados de polinomio (desde uno lineal hasta uno de grado 8) y compararemos la media del error cuadrático en cada uno de los conjuntos de entrenamiento y validación para determinar el mejor ajuste posible."
   ]
  },
  {
   "cell_type": "code",
   "execution_count": 171,
   "metadata": {
    "colab": {},
    "colab_type": "code",
    "id": "UZ86euOSz_nb"
   },
   "outputs": [],
   "source": [
    "X_train_pol = X_train\n",
    "X_test_pol = X_test\n",
    "y_train_pol = y_train['shipment_days']\n",
    "y_test_pol = y_test['shipment_days']"
   ]
  },
  {
   "cell_type": "markdown",
   "metadata": {
    "colab_type": "text",
    "id": "ef5o2PmaZX7L"
   },
   "source": [
    "#### Regresión lineal"
   ]
  },
  {
   "cell_type": "code",
   "execution_count": 172,
   "metadata": {
    "colab": {
     "base_uri": "https://localhost:8080/",
     "height": 50
    },
    "colab_type": "code",
    "executionInfo": {
     "elapsed": 64596,
     "status": "ok",
     "timestamp": 1567966177439,
     "user": {
      "displayName": "Johanna Frau",
      "photoUrl": "https://lh3.googleusercontent.com/a-/AAuE7mCz7ppSJZsUk9D_GAJzKmAHzuLcDkDQL2VhEf7VInk=s64",
      "userId": "12340570416827246133"
     },
     "user_tz": 180
    },
    "id": "X55t3MRCTpa7",
    "outputId": "b8a26688-fafa-4e17-804b-e94711b8ca1f"
   },
   "outputs": [
    {
     "name": "stdout",
     "output_type": "stream",
     "text": [
      "Media del error cuadrado para entrenamiento: 16.15\n",
      "Media del error cuadrado para validación: 7.63\n"
     ]
    }
   ],
   "source": [
    "model = LinearRegression()\n",
    "model.fit(X_train_pol, y_train_pol)\n",
    "\n",
    "entrenamiento1 = mean_squared_error(y_train_pol, model.predict(X_train_pol))\n",
    "validacion1 = mean_squared_error(y_test_pol, model.predict(X_test_pol))\n",
    "\n",
    "print('Media del error cuadrado para entrenamiento: %.2f' % \n",
    "      entrenamiento1)\n",
    "print('Media del error cuadrado para validación: %.2f' %\n",
    "      validacion1)"
   ]
  },
  {
   "cell_type": "markdown",
   "metadata": {
    "colab_type": "text",
    "id": "2YXwFw9WZciG"
   },
   "source": [
    "#### Polinomio cuadrático"
   ]
  },
  {
   "cell_type": "code",
   "execution_count": 173,
   "metadata": {
    "colab": {
     "base_uri": "https://localhost:8080/",
     "height": 50
    },
    "colab_type": "code",
    "executionInfo": {
     "elapsed": 63786,
     "status": "ok",
     "timestamp": 1567966177693,
     "user": {
      "displayName": "Johanna Frau",
      "photoUrl": "https://lh3.googleusercontent.com/a-/AAuE7mCz7ppSJZsUk9D_GAJzKmAHzuLcDkDQL2VhEf7VInk=s64",
      "userId": "12340570416827246133"
     },
     "user_tz": 180
    },
    "id": "62fPbwmRzuGs",
    "outputId": "d53755ef-fa00-4e64-b41e-4891f7bc8cc7"
   },
   "outputs": [
    {
     "name": "stdout",
     "output_type": "stream",
     "text": [
      "Media del error cuadrado para entrenamiento: 14.20\n",
      "Media del error cuadrado para validación: 6.37\n"
     ]
    }
   ],
   "source": [
    "polynomial_degree = 2 \n",
    "\n",
    "poly_features = PolynomialFeatures(polynomial_degree)\n",
    "poly_features.fit(X_train_pol)\n",
    "\n",
    "X_poly_train = poly_features.transform(X_train_pol)\n",
    "X_poly_test = poly_features.transform(X_test_pol)\n",
    "\n",
    "model = LinearRegression()\n",
    "model.fit(X_poly_train, y_train_pol)\n",
    "\n",
    "entrenamiento2= mean_squared_error(y_train_pol, model.predict(X_poly_train))\n",
    "validacion2= mean_squared_error(y_test_pol, model.predict(X_poly_test))\n",
    "\n",
    "print('Media del error cuadrado para entrenamiento: %.2f' % \n",
    "      entrenamiento2)\n",
    "print('Media del error cuadrado para validación: %.2f' %\n",
    "      validacion2)"
   ]
  },
  {
   "cell_type": "markdown",
   "metadata": {
    "colab_type": "text",
    "id": "vaGV2dXnZgbv"
   },
   "source": [
    "#### Polinomio cúbico"
   ]
  },
  {
   "cell_type": "code",
   "execution_count": 174,
   "metadata": {
    "colab": {
     "base_uri": "https://localhost:8080/",
     "height": 50
    },
    "colab_type": "code",
    "executionInfo": {
     "elapsed": 63082,
     "status": "ok",
     "timestamp": 1567966177694,
     "user": {
      "displayName": "Johanna Frau",
      "photoUrl": "https://lh3.googleusercontent.com/a-/AAuE7mCz7ppSJZsUk9D_GAJzKmAHzuLcDkDQL2VhEf7VInk=s64",
      "userId": "12340570416827246133"
     },
     "user_tz": 180
    },
    "id": "B_eEwEhZ05qp",
    "outputId": "fb4ece08-4110-4be5-cd55-68453b2e447f"
   },
   "outputs": [
    {
     "name": "stdout",
     "output_type": "stream",
     "text": [
      "Media del error cuadrado para entrenamiento: 11.67\n",
      "Media del error cuadrado para validación: 5.02\n"
     ]
    }
   ],
   "source": [
    "polynomial_degree = 3 \n",
    "\n",
    "poly_features = PolynomialFeatures(polynomial_degree)\n",
    "poly_features.fit(X_train_pol)\n",
    "\n",
    "X_poly_train = poly_features.transform(X_train_pol)\n",
    "X_poly_test = poly_features.transform(X_test_pol)\n",
    "\n",
    "model = LinearRegression()\n",
    "model.fit(X_poly_train, y_train_pol)\n",
    "\n",
    "entrenamiento3= mean_squared_error(y_train_pol, model.predict(X_poly_train))\n",
    "validacion3= mean_squared_error(y_test_pol, model.predict(X_poly_test))\n",
    "\n",
    "print('Media del error cuadrado para entrenamiento: %.2f' % \n",
    "      entrenamiento3)\n",
    "print('Media del error cuadrado para validación: %.2f' %\n",
    "      validacion3)"
   ]
  },
  {
   "cell_type": "markdown",
   "metadata": {
    "colab_type": "text",
    "id": "1HYonQz8ZjhU"
   },
   "source": [
    "#### Polinomio de grado 4"
   ]
  },
  {
   "cell_type": "code",
   "execution_count": 175,
   "metadata": {
    "colab": {
     "base_uri": "https://localhost:8080/",
     "height": 50
    },
    "colab_type": "code",
    "executionInfo": {
     "elapsed": 62687,
     "status": "ok",
     "timestamp": 1567966177991,
     "user": {
      "displayName": "Johanna Frau",
      "photoUrl": "https://lh3.googleusercontent.com/a-/AAuE7mCz7ppSJZsUk9D_GAJzKmAHzuLcDkDQL2VhEf7VInk=s64",
      "userId": "12340570416827246133"
     },
     "user_tz": 180
    },
    "id": "xxTI9Jzk0-og",
    "outputId": "9cd4e5d6-feed-4b4d-be23-8531554f98fb"
   },
   "outputs": [
    {
     "name": "stdout",
     "output_type": "stream",
     "text": [
      "Media del error cuadrado para entrenamiento: 11.45\n",
      "Media del error cuadrado para validación: 4.26\n"
     ]
    }
   ],
   "source": [
    "polynomial_degree = 4 \n",
    "\n",
    "poly_features = PolynomialFeatures(polynomial_degree)\n",
    "poly_features.fit(X_train_pol)\n",
    "\n",
    "X_poly_train = poly_features.transform(X_train_pol)\n",
    "X_poly_test = poly_features.transform(X_test_pol)\n",
    "\n",
    "model = LinearRegression()\n",
    "model.fit(X_poly_train, y_train_pol)\n",
    "\n",
    "entrenamiento4= mean_squared_error(y_train_pol, model.predict(X_poly_train))\n",
    "validacion4= mean_squared_error(y_test_pol, model.predict(X_poly_test))\n",
    "\n",
    "print('Media del error cuadrado para entrenamiento: %.2f' % \n",
    "      entrenamiento4)\n",
    "print('Media del error cuadrado para validación: %.2f' %\n",
    "      validacion4)"
   ]
  },
  {
   "cell_type": "markdown",
   "metadata": {
    "colab_type": "text",
    "id": "3ixmsd33Znfy"
   },
   "source": [
    "#### Polinomio de grado 5"
   ]
  },
  {
   "cell_type": "code",
   "execution_count": 176,
   "metadata": {
    "colab": {
     "base_uri": "https://localhost:8080/",
     "height": 50
    },
    "colab_type": "code",
    "executionInfo": {
     "elapsed": 62974,
     "status": "ok",
     "timestamp": 1567966178876,
     "user": {
      "displayName": "Johanna Frau",
      "photoUrl": "https://lh3.googleusercontent.com/a-/AAuE7mCz7ppSJZsUk9D_GAJzKmAHzuLcDkDQL2VhEf7VInk=s64",
      "userId": "12340570416827246133"
     },
     "user_tz": 180
    },
    "id": "jKEPu1AJ1Aws",
    "outputId": "49e7969e-bb2a-4ca5-a9a6-08b47b534302"
   },
   "outputs": [
    {
     "name": "stdout",
     "output_type": "stream",
     "text": [
      "Media del error cuadrado para entrenamiento: 12.07\n",
      "Media del error cuadrado para validación: 4.67\n"
     ]
    }
   ],
   "source": [
    "polynomial_degree = 5\n",
    "\n",
    "poly_features = PolynomialFeatures(polynomial_degree)\n",
    "poly_features.fit(X_train_pol)\n",
    "\n",
    "X_poly_train = poly_features.transform(X_train_pol)\n",
    "X_poly_test = poly_features.transform(X_test_pol)\n",
    "\n",
    "model = LinearRegression()\n",
    "model.fit(X_poly_train, y_train_pol)\n",
    "\n",
    "entrenamiento5= mean_squared_error(y_train_pol, model.predict(X_poly_train))\n",
    "validacion5= mean_squared_error(y_test_pol, model.predict(X_poly_test))\n",
    "\n",
    "print('Media del error cuadrado para entrenamiento: %.2f' % \n",
    "      entrenamiento5)\n",
    "print('Media del error cuadrado para validación: %.2f' %\n",
    "      validacion5)"
   ]
  },
  {
   "cell_type": "markdown",
   "metadata": {
    "colab_type": "text",
    "id": "7V3C6i53ZqhU"
   },
   "source": [
    "#### Polinomio de grado 6"
   ]
  },
  {
   "cell_type": "code",
   "execution_count": 177,
   "metadata": {
    "colab": {
     "base_uri": "https://localhost:8080/",
     "height": 50
    },
    "colab_type": "code",
    "executionInfo": {
     "elapsed": 63203,
     "status": "ok",
     "timestamp": 1567966179652,
     "user": {
      "displayName": "Johanna Frau",
      "photoUrl": "https://lh3.googleusercontent.com/a-/AAuE7mCz7ppSJZsUk9D_GAJzKmAHzuLcDkDQL2VhEf7VInk=s64",
      "userId": "12340570416827246133"
     },
     "user_tz": 180
    },
    "id": "uSpcajnQ1Hhs",
    "outputId": "0d51db9b-91ff-4ef4-e3d8-84834b4f2310"
   },
   "outputs": [
    {
     "name": "stdout",
     "output_type": "stream",
     "text": [
      "Media del error cuadrado para entrenamiento: 12.72\n",
      "Media del error cuadrado para validación: 5.01\n"
     ]
    }
   ],
   "source": [
    "polynomial_degree = 6\n",
    "\n",
    "poly_features = PolynomialFeatures(polynomial_degree)\n",
    "poly_features.fit(X_train_pol)\n",
    "\n",
    "X_poly_train = poly_features.transform(X_train_pol)\n",
    "X_poly_test = poly_features.transform(X_test_pol)\n",
    "\n",
    "model = LinearRegression()\n",
    "model.fit(X_poly_train, y_train_pol)\n",
    "\n",
    "entrenamiento6= mean_squared_error(y_train_pol, model.predict(X_poly_train))\n",
    "validacion6= mean_squared_error(y_test_pol, model.predict(X_poly_test))\n",
    "\n",
    "print('Media del error cuadrado para entrenamiento: %.2f' % \n",
    "      entrenamiento6)\n",
    "print('Media del error cuadrado para validación: %.2f' %\n",
    "      validacion6)"
   ]
  },
  {
   "cell_type": "markdown",
   "metadata": {
    "colab_type": "text",
    "id": "l05MqLVhZuAJ"
   },
   "source": [
    "#### Polinomio de grado 7"
   ]
  },
  {
   "cell_type": "code",
   "execution_count": 178,
   "metadata": {
    "colab": {
     "base_uri": "https://localhost:8080/",
     "height": 50
    },
    "colab_type": "code",
    "executionInfo": {
     "elapsed": 63791,
     "status": "ok",
     "timestamp": 1567966180871,
     "user": {
      "displayName": "Johanna Frau",
      "photoUrl": "https://lh3.googleusercontent.com/a-/AAuE7mCz7ppSJZsUk9D_GAJzKmAHzuLcDkDQL2VhEf7VInk=s64",
      "userId": "12340570416827246133"
     },
     "user_tz": 180
    },
    "id": "ITc1nEkW1K1M",
    "outputId": "54be3072-2041-4507-b034-f8193407f934"
   },
   "outputs": [
    {
     "name": "stdout",
     "output_type": "stream",
     "text": [
      "Media del error cuadrado para entrenamiento: 13.69\n",
      "Media del error cuadrado para validación: 5.82\n"
     ]
    }
   ],
   "source": [
    "polynomial_degree = 7\n",
    "\n",
    "poly_features = PolynomialFeatures(polynomial_degree)\n",
    "poly_features.fit(X_train_pol)\n",
    "\n",
    "X_poly_train = poly_features.transform(X_train_pol)\n",
    "X_poly_test = poly_features.transform(X_test_pol)\n",
    "\n",
    "model = LinearRegression()\n",
    "model.fit(X_poly_train, y_train_pol)\n",
    "\n",
    "entrenamiento7= mean_squared_error(y_train_pol, model.predict(X_poly_train))\n",
    "validacion7= mean_squared_error(y_test_pol, model.predict(X_poly_test))\n",
    "\n",
    "print('Media del error cuadrado para entrenamiento: %.2f' % \n",
    "      entrenamiento7)\n",
    "print('Media del error cuadrado para validación: %.2f' %\n",
    "      validacion7)"
   ]
  },
  {
   "cell_type": "markdown",
   "metadata": {
    "colab_type": "text",
    "id": "5cLsYcVpZzVT"
   },
   "source": [
    "#### Polinomio de grado 8"
   ]
  },
  {
   "cell_type": "code",
   "execution_count": 179,
   "metadata": {
    "colab": {
     "base_uri": "https://localhost:8080/",
     "height": 50
    },
    "colab_type": "code",
    "executionInfo": {
     "elapsed": 64485,
     "status": "ok",
     "timestamp": 1567966182117,
     "user": {
      "displayName": "Johanna Frau",
      "photoUrl": "https://lh3.googleusercontent.com/a-/AAuE7mCz7ppSJZsUk9D_GAJzKmAHzuLcDkDQL2VhEf7VInk=s64",
      "userId": "12340570416827246133"
     },
     "user_tz": 180
    },
    "id": "R8f934t73x3s",
    "outputId": "e9af15ad-330d-4969-8040-6cc24fa2921f"
   },
   "outputs": [
    {
     "name": "stdout",
     "output_type": "stream",
     "text": [
      "Media del error cuadrado para entrenamiento: 14.66\n",
      "Media del error cuadrado para validación: 6.61\n"
     ]
    }
   ],
   "source": [
    "polynomial_degree = 8\n",
    "\n",
    "poly_features = PolynomialFeatures(polynomial_degree)\n",
    "poly_features.fit(X_train_pol)\n",
    "\n",
    "X_poly_train = poly_features.transform(X_train_pol)\n",
    "X_poly_test = poly_features.transform(X_test_pol)\n",
    "\n",
    "model = LinearRegression()\n",
    "model.fit(X_poly_train, y_train_pol)\n",
    "\n",
    "entrenamiento8= mean_squared_error(y_train_pol, model.predict(X_poly_train))\n",
    "validacion8= mean_squared_error(y_test_pol, model.predict(X_poly_test))\n",
    "\n",
    "print('Media del error cuadrado para entrenamiento: %.2f' % \n",
    "      entrenamiento8)\n",
    "print('Media del error cuadrado para validación: %.2f' %\n",
    "      validacion8)"
   ]
  },
  {
   "cell_type": "markdown",
   "metadata": {
    "colab_type": "text",
    "id": "KNGXTOYEZ5AN"
   },
   "source": [
    "Realizamos una visualización con esta información para determinar cual es el polinomio que mejor puede aproximar nuestros datos."
   ]
  },
  {
   "cell_type": "code",
   "execution_count": 180,
   "metadata": {
    "colab": {},
    "colab_type": "code",
    "id": "-hxIe2wy46hL"
   },
   "outputs": [],
   "source": [
    "x=[1,2,3,4,5,6,7,8] #grados del polinomio\n",
    "y1=[entrenamiento1, entrenamiento2,entrenamiento3, entrenamiento4, entrenamiento5,\n",
    "  entrenamiento6, entrenamiento7, entrenamiento8] #error en el conjunto de entrenamiento\n",
    "y2=[validacion1,validacion2,validacion3,validacion4,validacion5,\n",
    "   validacion6,validacion7,validacion8] #error en el conjunto de validación"
   ]
  },
  {
   "cell_type": "code",
   "execution_count": 181,
   "metadata": {
    "colab": {
     "base_uri": "https://localhost:8080/",
     "height": 337
    },
    "colab_type": "code",
    "executionInfo": {
     "elapsed": 63602,
     "status": "ok",
     "timestamp": 1567966182780,
     "user": {
      "displayName": "Johanna Frau",
      "photoUrl": "https://lh3.googleusercontent.com/a-/AAuE7mCz7ppSJZsUk9D_GAJzKmAHzuLcDkDQL2VhEf7VInk=s64",
      "userId": "12340570416827246133"
     },
     "user_tz": 180
    },
    "id": "Op-0F1V6787r",
    "outputId": "5dc7acf4-2bc0-461b-db3a-85e88554b54b"
   },
   "outputs": [
    {
     "data": {
      "image/png": "[encoded data removed]",
      "text/plain": [
       "<Figure size 576x360 with 1 Axes>"
      ]
     },
     "metadata": {
      "needs_background": "light"
     },
     "output_type": "display_data"
    }
   ],
   "source": [
    "plt.figure(figsize=(8,5))\n",
    "\n",
    "sns.lineplot(x, y1, label='Entrenamiento')\n",
    "sns.lineplot(x, y2, label= 'Validación')\n",
    "\n",
    "plt.ylabel('Media del error cuadrático')\n",
    "plt.xlabel('Grado del polinomio en la regresión')\n",
    "plt.grid()\n",
    "sns.despine()"
   ]
  },
  {
   "cell_type": "markdown",
   "metadata": {
    "colab_type": "text",
    "id": "BMurEYkGbNwu"
   },
   "source": [
    "Observamos que el polinomio de grado 4 podría ser una buena elección puesto que observamos que para este valor el error cuadrático se minimiza (tanto en el conjunto de validación como en el entrenamiento)."
   ]
  },
  {
   "cell_type": "markdown",
   "metadata": {
    "colab_type": "text",
    "id": "8QeSLDDuaTlI"
   },
   "source": [
    "**Visualización de los resultados de entrenamiento usando un solo feature**  \n",
    "\n",
    "A continuación con el objetivo de mostrar una visualización del ajuste de los datos, vamos a seleccionar un solo feature (receiver_zipcode) para entrenar el modelo con una regresión polinomial de grado 4 (el mejor ajuste hasta el momento)."
   ]
  },
  {
   "cell_type": "code",
   "execution_count": 182,
   "metadata": {
    "colab": {},
    "colab_type": "code",
    "id": "Kgmi-dh4Z_d6"
   },
   "outputs": [],
   "source": [
    "X_train_pol = np.array(X_train['receiver_zipcode']).reshape(-1,1)"
   ]
  },
  {
   "cell_type": "code",
   "execution_count": 183,
   "metadata": {
    "colab": {},
    "colab_type": "code",
    "id": "Lvw0ZZFnaPQV"
   },
   "outputs": [],
   "source": [
    "X_test_pol = np.array (X_test['receiver_zipcode']).reshape(-1,1)"
   ]
  },
  {
   "cell_type": "code",
   "execution_count": 184,
   "metadata": {
    "colab": {},
    "colab_type": "code",
    "id": "dYxe16Sdajij"
   },
   "outputs": [],
   "source": [
    "y_train_pol = np.array(y_train['shipment_days']).reshape(-1,1)"
   ]
  },
  {
   "cell_type": "code",
   "execution_count": 185,
   "metadata": {
    "colab": {},
    "colab_type": "code",
    "id": "Dti79tmCavSf"
   },
   "outputs": [],
   "source": [
    "y_test_pol = np.array(y_test['shipment_days']).reshape(-1,1)"
   ]
  },
  {
   "cell_type": "markdown",
   "metadata": {
    "colab_type": "text",
    "id": "ssMsDSVVdAZR"
   },
   "source": [
    "Verificamos los tamaños de los conjuntos."
   ]
  },
  {
   "cell_type": "code",
   "execution_count": 186,
   "metadata": {
    "colab": {
     "base_uri": "https://localhost:8080/",
     "height": 33
    },
    "colab_type": "code",
    "executionInfo": {
     "elapsed": 57942,
     "status": "ok",
     "timestamp": 1567966182796,
     "user": {
      "displayName": "Johanna Frau",
      "photoUrl": "https://lh3.googleusercontent.com/a-/AAuE7mCz7ppSJZsUk9D_GAJzKmAHzuLcDkDQL2VhEf7VInk=s64",
      "userId": "12340570416827246133"
     },
     "user_tz": 180
    },
    "id": "YxUaHNvca4_r",
    "outputId": "10d18404-a0e3-47fb-b236-de89249f76cd"
   },
   "outputs": [
    {
     "data": {
      "text/plain": [
       "(321523, 1)"
      ]
     },
     "execution_count": 186,
     "metadata": {},
     "output_type": "execute_result"
    }
   ],
   "source": [
    "X_train_pol.shape"
   ]
  },
  {
   "cell_type": "code",
   "execution_count": 187,
   "metadata": {
    "colab": {
     "base_uri": "https://localhost:8080/",
     "height": 33
    },
    "colab_type": "code",
    "executionInfo": {
     "elapsed": 57360,
     "status": "ok",
     "timestamp": 1567966182800,
     "user": {
      "displayName": "Johanna Frau",
      "photoUrl": "https://lh3.googleusercontent.com/a-/AAuE7mCz7ppSJZsUk9D_GAJzKmAHzuLcDkDQL2VhEf7VInk=s64",
      "userId": "12340570416827246133"
     },
     "user_tz": 180
    },
    "id": "K0XgFwPIdId6",
    "outputId": "e88111ba-463e-49ba-b10b-5c1c6baa2321"
   },
   "outputs": [
    {
     "data": {
      "text/plain": [
       "(321523, 1)"
      ]
     },
     "execution_count": 187,
     "metadata": {},
     "output_type": "execute_result"
    }
   ],
   "source": [
    "y_train_pol.shape"
   ]
  },
  {
   "cell_type": "code",
   "execution_count": 188,
   "metadata": {
    "colab": {
     "base_uri": "https://localhost:8080/",
     "height": 33
    },
    "colab_type": "code",
    "executionInfo": {
     "elapsed": 57005,
     "status": "ok",
     "timestamp": 1567966182804,
     "user": {
      "displayName": "Johanna Frau",
      "photoUrl": "https://lh3.googleusercontent.com/a-/AAuE7mCz7ppSJZsUk9D_GAJzKmAHzuLcDkDQL2VhEf7VInk=s64",
      "userId": "12340570416827246133"
     },
     "user_tz": 180
    },
    "id": "kEgC2MyIdKzn",
    "outputId": "04044646-2fe6-4f5d-f959-8a2d458fc65b"
   },
   "outputs": [
    {
     "data": {
      "text/plain": [
       "(32524, 1)"
      ]
     },
     "execution_count": 188,
     "metadata": {},
     "output_type": "execute_result"
    }
   ],
   "source": [
    "X_test_pol.shape"
   ]
  },
  {
   "cell_type": "code",
   "execution_count": 189,
   "metadata": {
    "colab": {
     "base_uri": "https://localhost:8080/",
     "height": 33
    },
    "colab_type": "code",
    "executionInfo": {
     "elapsed": 56687,
     "status": "ok",
     "timestamp": 1567966182806,
     "user": {
      "displayName": "Johanna Frau",
      "photoUrl": "https://lh3.googleusercontent.com/a-/AAuE7mCz7ppSJZsUk9D_GAJzKmAHzuLcDkDQL2VhEf7VInk=s64",
      "userId": "12340570416827246133"
     },
     "user_tz": 180
    },
    "id": "NuqNtzORdNDF",
    "outputId": "571341c9-5794-43e5-86b5-7b961ab44de0"
   },
   "outputs": [
    {
     "data": {
      "text/plain": [
       "(32524, 1)"
      ]
     },
     "execution_count": 189,
     "metadata": {},
     "output_type": "execute_result"
    }
   ],
   "source": [
    "y_test_pol.shape"
   ]
  },
  {
   "cell_type": "code",
   "execution_count": 190,
   "metadata": {
    "colab": {
     "base_uri": "https://localhost:8080/",
     "height": 50
    },
    "colab_type": "code",
    "executionInfo": {
     "elapsed": 56429,
     "status": "ok",
     "timestamp": 1567966182808,
     "user": {
      "displayName": "Johanna Frau",
      "photoUrl": "https://lh3.googleusercontent.com/a-/AAuE7mCz7ppSJZsUk9D_GAJzKmAHzuLcDkDQL2VhEf7VInk=s64",
      "userId": "12340570416827246133"
     },
     "user_tz": 180
    },
    "id": "4Uy5qCzfdPA0",
    "outputId": "523943fc-d479-4192-8ca4-042bb725144f"
   },
   "outputs": [
    {
     "name": "stdout",
     "output_type": "stream",
     "text": [
      "Media del error cuadrado para entrenamiento: 15.08\n",
      "Media del error cuadrado para validación: 6.48\n"
     ]
    }
   ],
   "source": [
    "polynomial_degree = 4\n",
    "\n",
    "poly_features = PolynomialFeatures(polynomial_degree)\n",
    "poly_features.fit(X_train_pol)\n",
    "\n",
    "X_poly_train = poly_features.transform(X_train_pol)\n",
    "X_poly_test = poly_features.transform(X_test_pol)\n",
    "\n",
    "model = LinearRegression()\n",
    "model.fit(X_poly_train, y_train_pol)\n",
    "\n",
    "print('Media del error cuadrado para entrenamiento: %.2f' % \n",
    "      mean_squared_error(y_train_pol, model.predict(X_poly_train)))\n",
    "print('Media del error cuadrado para validación: %.2f' %\n",
    "      mean_squared_error(y_test_pol, model.predict(X_poly_test)))"
   ]
  },
  {
   "cell_type": "code",
   "execution_count": 191,
   "metadata": {
    "colab": {
     "base_uri": "https://localhost:8080/",
     "height": 388
    },
    "colab_type": "code",
    "executionInfo": {
     "elapsed": 61073,
     "status": "ok",
     "timestamp": 1567966187857,
     "user": {
      "displayName": "Johanna Frau",
      "photoUrl": "https://lh3.googleusercontent.com/a-/AAuE7mCz7ppSJZsUk9D_GAJzKmAHzuLcDkDQL2VhEf7VInk=s64",
      "userId": "12340570416827246133"
     },
     "user_tz": 180
    },
    "id": "PosEaK7wiVTV",
    "outputId": "f20ab4ae-f15d-4561-9566-96abab97574a"
   },
   "outputs": [
    {
     "data": {
      "image/png": "[encoded data removed]",
      "text/plain": [
       "<Figure size 1120x400 with 2 Axes>"
      ]
     },
     "metadata": {},
     "output_type": "display_data"
    }
   ],
   "source": [
    "plt.figure(figsize=(14, 5), dpi=80, facecolor='w', edgecolor='k')\n",
    "\n",
    "X_range_start = np.min(np.r_[X_train, X_test])\n",
    "X_range_stop = np.max(np.r_[X_train, X_test])\n",
    "\n",
    "y_range_start = np.min(np.r_[y_train, y_test])\n",
    "y_range_stop = np.max(np.r_[y_train, y_test])\n",
    "\n",
    "X_linspace = np.linspace(X_range_start, X_range_stop, 200).reshape(-1, 1)\n",
    "X_linspace_poly = poly_features.transform(X_linspace)\n",
    "\n",
    "# Conjunto de entrenamiento\n",
    "plt.subplot(1, 2, 1)\n",
    "plt.scatter(X_train_pol, y_train_pol, facecolor=\"dodgerblue\", edgecolor=\"k\", label=\"datos\")\n",
    "plt.plot(X_linspace, model.predict(X_linspace_poly), color=\"tomato\", label=\"modelo\")\n",
    "plt.ylim(y_range_start, y_range_stop)\n",
    "plt.title(\"Conjunto de Entrenamiento\")\n",
    "\n",
    "# Conjunto de validación\n",
    "plt.subplot(1, 2, 2)\n",
    "plt.scatter(X_test_pol, y_test_pol, facecolor=\"dodgerblue\", edgecolor=\"k\", label=\"datos\")\n",
    "plt.plot(X_linspace, model.predict(X_linspace_poly), color=\"tomato\", label=\"modelo\")\n",
    "plt.ylim(y_range_start, y_range_stop)\n",
    "plt.title(\"Conjunto de Validación\")\n",
    "\n",
    "plt.show()"
   ]
  },
  {
   "cell_type": "markdown",
   "metadata": {
    "colab_type": "text",
    "id": "inRZpdwAEVfN"
   },
   "source": [
    "De acuerdo a los resultados anteriores los errores sobre el conjunto de entrenamiento y validación son bastante altos. Esto también se evidencia en las visualizaciones donde la regresión polinomial no proporciona un buen ajuste de los datos. Sin embargo, dado que el conjunto de validación tiene muchos menos puntos resulta normal que la regresión en este caso tenga un error menor.\n",
    "\n",
    "\n"
   ]
  },
  {
   "cell_type": "markdown",
   "metadata": {
    "colab_type": "text",
    "id": "bDXeoVCGMXVf"
   },
   "source": [
    "###Conclusiones\n",
    "\n",
    "Durante este práctico se intentó predecir el valor de la variable shipment_days mediante dos enfoques distintos: un modelo de clasificación y uno de regresión.\n",
    "\n",
    "En el caso del modelo de clasificación se utilizaron 6 clases tratando de cubrir de manera equitativa las distribuciones en el conjunto de entrenamiento y en el de validación. Se utilizó un modelo de árbol de decisión simple y otro con búsqueda de hiperparamétros. En ambos casos se obtuvieron buenas predicciones en las clases mayoritarias.   \n",
    "\n",
    "\n",
    "En el caso de la regresión se probaron diferentes grados de polinomio y se comparó la media del error cuadrático tanto en el conjunto de entrenamiento como en el de validación. De estos resultados pudimos observar que con un polinomio de grado 4 obteniamos un valor menor en el error, que aunque no era demasiado pequeño tampoco era demasiado grande.\n",
    "\n",
    "Consideramos que si bien los resultados en ambos enfoques podrían ser mejorables son  bastante aceptables considerando el hecho de que estamos trabajando con una muestra pequeña de información.\n",
    "\n",
    "También se logró una definición de los datasets, que para nuestra problemática era necesario. \n"
   ]
  },
  {
   "cell_type": "code",
   "execution_count": null,
   "metadata": {
    "colab": {},
    "colab_type": "code",
    "id": "Un2VKGQ2icqd"
   },
   "outputs": [],
   "source": []
  }
 ],
 "metadata": {
  "colab": {
   "collapsed_sections": [],
   "name": "practico3-Mentoria.ipynb",
   "provenance": [],
   "toc_visible": true,
   "version": "0.3.2"
  },
  "kernelspec": {
   "display_name": "Python 3",
   "language": "python",
   "name": "python3"
  },
  "language_info": {
   "codemirror_mode": {
    "name": "ipython",
    "version": 3
   },
   "file_extension": ".py",
   "mimetype": "text/x-python",
   "name": "python",
   "nbconvert_exporter": "python",
   "pygments_lexer": "ipython3",
   "version": "3.7.1"
  },
  "toc": {
   "base_numbering": 1,
   "nav_menu": {},
   "number_sections": true,
   "sideBar": true,
   "skip_h1_title": false,
   "title_cell": "Table of Contents",
   "title_sidebar": "Contents",
   "toc_cell": false,
   "toc_position": {},
   "toc_section_display": true,
   "toc_window_display": true
  }
 },
 "nbformat": 4,
 "nbformat_minor": 1
}
