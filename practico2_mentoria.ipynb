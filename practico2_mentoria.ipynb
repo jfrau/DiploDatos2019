{
  "nbformat": 4,
  "nbformat_minor": 0,
  "metadata": {
    "colab": {
      "name": "practico2_mentoria.ipynb",
      "version": "0.3.2",
      "provenance": [],
      "collapsed_sections": []
    },
    "kernelspec": {
      "name": "python3",
      "display_name": "Python 3"
    }
  },
  "cells": [
    {
      "cell_type": "markdown",
      "metadata": {
        "id": "RdLrR91twOnV",
        "colab_type": "text"
      },
      "source": [
        "# Logística de envíos: ¿Cuándo llega?\n",
        "\n",
        "## Mentoría DiploDatos 2019 \n",
        "\n",
        "### Integrantes:\n",
        "\n",
        "- Chaves, Noelia\n",
        "- Frau, Johanna\n",
        "\n",
        "### Mentora:\n",
        "\n",
        "- Dal Lago, Virginia\n",
        "\n",
        "### Práctico: Análisis exploratorio y curación"
      ]
    },
    {
      "cell_type": "markdown",
      "metadata": {
        "id": "ZN5ggE1edXFN",
        "colab_type": "text"
      },
      "source": [
        "## Motivación\n",
        "\n",
        "En la actualidad, cada vez más productos se comercializan a través de una plataforma online. Una de las principales ventajas de este sistema es que el usuario puede recibir el producto en su domicilio en una fecha determinada. Pero, ¿cómo sabemos qué día va a llegar? ¿A partir de qué datos podemos predecir la demora del envío? En este práctico se trabajará con datos de envíos de MercadoLibre, el e-commerce más grande de Latinoamérica, analizando y modelando el problema de logística de envíos para poder responder ¿cuándo llega?\n",
        "\n",
        "## Descripción del dataset\n",
        "\n",
        "**Datos:**  El conjunto de datos seleccionado para realizar el práctico corresponde a un muestreo aleatorio no uniforme de 500.000 envíos de MercadoLibre. Estos envíos fueron realizados en Brasil en el período comprendido entre Octubre de 2018 y Abril de 2019 (las fechas originales han sido modificadas y adaptadas a un período de tiempo diferente, conservando el día de la semana y considerando los feriados correspondientes). Mientras que las fechas han sido modificadas, los horarios registrados en el dataset son los originales. Los datos comprenden variables tanto categóricas como numéricas. \n",
        "\n",
        "El dataset cuenta con las siguientes columnas:\n",
        "\n",
        "- **Sender_state:** Estado de Brasil de donde sale el envío.\n",
        "- **Sender_zipcode:** Código postal (de 5 dígitos) de donde sale el envío.\n",
        "- **Receiver_state:** Estado de Brasil a donde llega el envío.\n",
        "- **Receiver_zipcode:** Código postal (de 5 dígitos) a donde llega el envío.\n",
        "- **Shipment_type:** Método de envío (normal, express, super).\n",
        "- **Quantity:** Cantidad de productos en un envío.\n",
        "- **Service:** Servicio del correo con el cual se realizó un envío.\n",
        "- **Status:** Estado del envío (set: listo para ser enviado, sent: enviado, done: entregado, failed: no entregado, cancelled: cancelado).\n",
        "- **Date_created:** Fecha de creación del envío.\n",
        "- **Date_sent:** Fecha y hora en que se realizó el envío (salió del correo).\n",
        "- **Date_visit:** Fecha y hora en que se entregó el envío al destinatario.\n",
        "- **Shipment_days:** Días hábiles entre que el envío fue enviado (salió del correo) y que fue entregado.\n",
        "\n",
        "\n"
      ]
    },
    {
      "cell_type": "markdown",
      "metadata": {
        "id": "uiW-rbivyaWV",
        "colab_type": "text"
      },
      "source": [
        "## Objetivos generales\n",
        "\n",
        "\n",
        "  * Realizar un estudio exploratorio del dataset para extraer información útil sobre el problema a resolver.\n",
        "  * Desarrollar visión crítica en relación a la problemática para llevar a cabo el procedimiento de ciencia de datos.\n",
        "  * Desarrollar habilidades de comunicación de la información obtenida a partir de los datos de manera clara y sencilla."
      ]
    },
    {
      "cell_type": "markdown",
      "metadata": {
        "id": "J6tMJ0XCytLN",
        "colab_type": "text"
      },
      "source": [
        "## Objetivos específicos\n",
        "\n",
        "*  Realizar un análisis profundo de los datos para identificar posibles problemas en la información proporcionada (por ejemplo datos duplicados).\n",
        "*   Trabajar con diferentes encodings en las variables categóricas de manera de poder usar ciertos algoritmos de machine learning que solo aceptan datos numéricos.\n",
        "* Estudiar y analizar de qué manera puede predecirse la cantidad de días en que un envío llegará a destino y qué variables tienen mayor peso en dicha predicción.\n",
        "\n"
      ]
    },
    {
      "cell_type": "markdown",
      "metadata": {
        "id": "-MZEYrPx2ctH",
        "colab_type": "text"
      },
      "source": [
        "##Desarrollo del trabajo"
      ]
    },
    {
      "cell_type": "code",
      "metadata": {
        "id": "4sm1rIU0e3dN",
        "colab_type": "code",
        "colab": {}
      },
      "source": [
        "import matplotlib.pyplot as plt\n",
        "import numpy \n",
        "import pandas\n",
        "import seaborn\n",
        "\n",
        "\n",
        "from IPython.display import HTML\n",
        "from matplotlib.colors import ListedColormap\n",
        "from scipy import stats\n",
        "from sklearn import preprocessing\n",
        "\n",
        "from sklearn.model_selection import train_test_split\n",
        "from sklearn.preprocessing import MinMaxScaler\n",
        "from sklearn.neighbors import KNeighborsClassifier\n",
        "from sklearn.metrics import classification_report\n",
        "from sklearn.metrics import confusion_matrix"
      ],
      "execution_count": 0,
      "outputs": []
    },
    {
      "cell_type": "markdown",
      "metadata": {
        "id": "WVsOePv536E7",
        "colab_type": "text"
      },
      "source": [
        "### Lectura y análisis inicial de los datos"
      ]
    },
    {
      "cell_type": "code",
      "metadata": {
        "id": "qj2-8d0VfVez",
        "colab_type": "code",
        "outputId": "e9493ed5-328b-40e4-e5f5-3fe1234902a9",
        "colab": {
          "base_uri": "https://localhost:8080/",
          "height": 34
        }
      },
      "source": [
        "url = \"https://raw.githubusercontent.com/cnoeliachaves/csv/master/dataset_sample_corrected.csv\"\n",
        "\n",
        "dataset = pandas.read_csv(url, dtype={'sender_zipcode':'int64',\n",
        "                              'receiver_zipcode':'int64',\n",
        "                              'quantity':'int64',\n",
        "                              'service':'int64'},\n",
        "                       parse_dates=['date_created','date_sent','date_visit'])\n",
        "dataset.shape\n"
      ],
      "execution_count": 0,
      "outputs": [
        {
          "output_type": "execute_result",
          "data": {
            "text/plain": [
              "(500000, 12)"
            ]
          },
          "metadata": {
            "tags": []
          },
          "execution_count": 2
        }
      ]
    },
    {
      "cell_type": "code",
      "metadata": {
        "id": "RR2-pOSnDfMd",
        "colab_type": "code",
        "outputId": "d8a5158c-9621-40a5-b0d8-0c978b284261",
        "colab": {
          "base_uri": "https://localhost:8080/",
          "height": 85
        }
      },
      "source": [
        "dataset.columns"
      ],
      "execution_count": 0,
      "outputs": [
        {
          "output_type": "execute_result",
          "data": {
            "text/plain": [
              "Index(['sender_state', 'sender_zipcode', 'receiver_state', 'receiver_zipcode',\n",
              "       'shipment_type', 'quantity', 'service', 'status', 'date_created',\n",
              "       'date_sent', 'date_visit', 'shipment_days'],\n",
              "      dtype='object')"
            ]
          },
          "metadata": {
            "tags": []
          },
          "execution_count": 3
        }
      ]
    },
    {
      "cell_type": "code",
      "metadata": {
        "id": "PcfXL_E6Dqzk",
        "colab_type": "code",
        "outputId": "c8c38ca5-6aef-4952-b89d-a8ab16a122f7",
        "colab": {
          "base_uri": "https://localhost:8080/",
          "height": 306
        }
      },
      "source": [
        "dataset.info()"
      ],
      "execution_count": 0,
      "outputs": [
        {
          "output_type": "stream",
          "text": [
            "<class 'pandas.core.frame.DataFrame'>\n",
            "RangeIndex: 500000 entries, 0 to 499999\n",
            "Data columns (total 12 columns):\n",
            "sender_state        500000 non-null object\n",
            "sender_zipcode      500000 non-null int64\n",
            "receiver_state      500000 non-null object\n",
            "receiver_zipcode    500000 non-null int64\n",
            "shipment_type       500000 non-null object\n",
            "quantity            500000 non-null int64\n",
            "service             500000 non-null int64\n",
            "status              500000 non-null object\n",
            "date_created        500000 non-null datetime64[ns]\n",
            "date_sent           499971 non-null datetime64[ns]\n",
            "date_visit          499398 non-null datetime64[ns]\n",
            "shipment_days       499398 non-null float64\n",
            "dtypes: datetime64[ns](3), float64(1), int64(4), object(4)\n",
            "memory usage: 45.8+ MB\n"
          ],
          "name": "stdout"
        }
      ]
    },
    {
      "cell_type": "code",
      "metadata": {
        "id": "XEAbMgexD56L",
        "colab_type": "code",
        "outputId": "088d9201-e50f-4794-c5ae-afa4ac8136af",
        "colab": {
          "base_uri": "https://localhost:8080/",
          "height": 359
        }
      },
      "source": [
        "numpy.random.seed(0) #con propositos de reproducibilidad\n",
        "dataset.sample(10)"
      ],
      "execution_count": 0,
      "outputs": [
        {
          "output_type": "execute_result",
          "data": {
            "text/html": [
              "<div>\n",
              "<style scoped>\n",
              "    .dataframe tbody tr th:only-of-type {\n",
              "        vertical-align: middle;\n",
              "    }\n",
              "\n",
              "    .dataframe tbody tr th {\n",
              "        vertical-align: top;\n",
              "    }\n",
              "\n",
              "    .dataframe thead th {\n",
              "        text-align: right;\n",
              "    }\n",
              "</style>\n",
              "<table border=\"1\" class=\"dataframe\">\n",
              "  <thead>\n",
              "    <tr style=\"text-align: right;\">\n",
              "      <th></th>\n",
              "      <th>sender_state</th>\n",
              "      <th>sender_zipcode</th>\n",
              "      <th>receiver_state</th>\n",
              "      <th>receiver_zipcode</th>\n",
              "      <th>shipment_type</th>\n",
              "      <th>quantity</th>\n",
              "      <th>service</th>\n",
              "      <th>status</th>\n",
              "      <th>date_created</th>\n",
              "      <th>date_sent</th>\n",
              "      <th>date_visit</th>\n",
              "      <th>shipment_days</th>\n",
              "    </tr>\n",
              "  </thead>\n",
              "  <tbody>\n",
              "    <tr>\n",
              "      <th>194257</th>\n",
              "      <td>SP</td>\n",
              "      <td>3734</td>\n",
              "      <td>RS</td>\n",
              "      <td>96540</td>\n",
              "      <td>standard</td>\n",
              "      <td>1</td>\n",
              "      <td>4</td>\n",
              "      <td>done</td>\n",
              "      <td>2019-02-17</td>\n",
              "      <td>2019-02-22 03:49:21</td>\n",
              "      <td>2019-03-07 15:09:00</td>\n",
              "      <td>6.0</td>\n",
              "    </tr>\n",
              "    <tr>\n",
              "      <th>396319</th>\n",
              "      <td>SP</td>\n",
              "      <td>6422</td>\n",
              "      <td>SP</td>\n",
              "      <td>9580</td>\n",
              "      <td>express</td>\n",
              "      <td>1</td>\n",
              "      <td>5</td>\n",
              "      <td>done</td>\n",
              "      <td>2019-03-04</td>\n",
              "      <td>2019-03-07 20:24:02</td>\n",
              "      <td>2019-03-07 10:02:09</td>\n",
              "      <td>0.0</td>\n",
              "    </tr>\n",
              "    <tr>\n",
              "      <th>138738</th>\n",
              "      <td>SP</td>\n",
              "      <td>14940</td>\n",
              "      <td>CE</td>\n",
              "      <td>62650</td>\n",
              "      <td>standard</td>\n",
              "      <td>1</td>\n",
              "      <td>1</td>\n",
              "      <td>done</td>\n",
              "      <td>2019-02-08</td>\n",
              "      <td>2019-02-13 13:51:00</td>\n",
              "      <td>2019-03-11 14:16:00</td>\n",
              "      <td>15.0</td>\n",
              "    </tr>\n",
              "    <tr>\n",
              "      <th>66570</th>\n",
              "      <td>SP</td>\n",
              "      <td>1004</td>\n",
              "      <td>MG</td>\n",
              "      <td>32340</td>\n",
              "      <td>express</td>\n",
              "      <td>1</td>\n",
              "      <td>4</td>\n",
              "      <td>done</td>\n",
              "      <td>2019-03-16</td>\n",
              "      <td>2019-03-19 00:52:07</td>\n",
              "      <td>2019-03-25 19:00:00</td>\n",
              "      <td>4.0</td>\n",
              "    </tr>\n",
              "    <tr>\n",
              "      <th>149424</th>\n",
              "      <td>SP</td>\n",
              "      <td>13254</td>\n",
              "      <td>BA</td>\n",
              "      <td>44700</td>\n",
              "      <td>express</td>\n",
              "      <td>1</td>\n",
              "      <td>0</td>\n",
              "      <td>done</td>\n",
              "      <td>2019-03-02</td>\n",
              "      <td>2019-03-04 15:41:00</td>\n",
              "      <td>2019-03-12 15:19:00</td>\n",
              "      <td>3.0</td>\n",
              "    </tr>\n",
              "    <tr>\n",
              "      <th>128165</th>\n",
              "      <td>SP</td>\n",
              "      <td>9850</td>\n",
              "      <td>SP</td>\n",
              "      <td>12301</td>\n",
              "      <td>express</td>\n",
              "      <td>2</td>\n",
              "      <td>0</td>\n",
              "      <td>done</td>\n",
              "      <td>2019-03-17</td>\n",
              "      <td>2019-03-19 13:39:00</td>\n",
              "      <td>2019-03-20 18:59:00</td>\n",
              "      <td>1.0</td>\n",
              "    </tr>\n",
              "    <tr>\n",
              "      <th>264495</th>\n",
              "      <td>SP</td>\n",
              "      <td>3627</td>\n",
              "      <td>BA</td>\n",
              "      <td>44690</td>\n",
              "      <td>standard</td>\n",
              "      <td>1</td>\n",
              "      <td>1</td>\n",
              "      <td>done</td>\n",
              "      <td>2019-03-04</td>\n",
              "      <td>2019-03-06 12:13:00</td>\n",
              "      <td>2019-03-22 14:17:00</td>\n",
              "      <td>11.0</td>\n",
              "    </tr>\n",
              "    <tr>\n",
              "      <th>30371</th>\n",
              "      <td>SP</td>\n",
              "      <td>13456</td>\n",
              "      <td>SP</td>\n",
              "      <td>5268</td>\n",
              "      <td>express</td>\n",
              "      <td>2</td>\n",
              "      <td>0</td>\n",
              "      <td>done</td>\n",
              "      <td>2019-03-12</td>\n",
              "      <td>2019-03-13 15:07:00</td>\n",
              "      <td>2019-03-14 16:26:00</td>\n",
              "      <td>1.0</td>\n",
              "    </tr>\n",
              "    <tr>\n",
              "      <th>456998</th>\n",
              "      <td>SP</td>\n",
              "      <td>3004</td>\n",
              "      <td>SC</td>\n",
              "      <td>89300</td>\n",
              "      <td>standard</td>\n",
              "      <td>1</td>\n",
              "      <td>3</td>\n",
              "      <td>done</td>\n",
              "      <td>2019-02-15</td>\n",
              "      <td>2019-02-17 04:52:00</td>\n",
              "      <td>2019-03-07 17:56:00</td>\n",
              "      <td>10.0</td>\n",
              "    </tr>\n",
              "    <tr>\n",
              "      <th>32001</th>\n",
              "      <td>SP</td>\n",
              "      <td>19013</td>\n",
              "      <td>SP</td>\n",
              "      <td>14815</td>\n",
              "      <td>standard</td>\n",
              "      <td>2</td>\n",
              "      <td>1</td>\n",
              "      <td>done</td>\n",
              "      <td>2019-03-21</td>\n",
              "      <td>2019-03-22 14:32:00</td>\n",
              "      <td>2019-03-26 13:39:00</td>\n",
              "      <td>2.0</td>\n",
              "    </tr>\n",
              "  </tbody>\n",
              "</table>\n",
              "</div>"
            ],
            "text/plain": [
              "       sender_state  sender_zipcode  ...          date_visit  shipment_days\n",
              "194257           SP            3734  ... 2019-03-07 15:09:00            6.0\n",
              "396319           SP            6422  ... 2019-03-07 10:02:09            0.0\n",
              "138738           SP           14940  ... 2019-03-11 14:16:00           15.0\n",
              "66570            SP            1004  ... 2019-03-25 19:00:00            4.0\n",
              "149424           SP           13254  ... 2019-03-12 15:19:00            3.0\n",
              "128165           SP            9850  ... 2019-03-20 18:59:00            1.0\n",
              "264495           SP            3627  ... 2019-03-22 14:17:00           11.0\n",
              "30371            SP           13456  ... 2019-03-14 16:26:00            1.0\n",
              "456998           SP            3004  ... 2019-03-07 17:56:00           10.0\n",
              "32001            SP           19013  ... 2019-03-26 13:39:00            2.0\n",
              "\n",
              "[10 rows x 12 columns]"
            ]
          },
          "metadata": {
            "tags": []
          },
          "execution_count": 5
        }
      ]
    },
    {
      "cell_type": "markdown",
      "metadata": {
        "id": "Ds-b5S1pEl7E",
        "colab_type": "text"
      },
      "source": [
        "### Acerca de los valores de shipment_days anómalos\n",
        "\n",
        "En el práctico anterior habiamos tomado la decisión de no trabajar con valores de la variable **shipment_days** negativos teniendo en cuenta que no los podemos considerar valores reales y que la proporción de estos datos dentro de todo el conjunto es muy chica.\n",
        "\n",
        "Por lo tanto nuestra primera medida será aplicar este filtro."
      ]
    },
    {
      "cell_type": "code",
      "metadata": {
        "id": "pRbhm1XZi0ms",
        "colab_type": "code",
        "colab": {}
      },
      "source": [
        "def clean_shipment_days(dataset):\n",
        "    \"\"\"Le saco los valores negativos\"\"\"\n",
        "    shipments_days = dataset['shipment_days']\n",
        "    mask = (shipments_days >= 0)\n",
        "    return dataset[mask] "
      ],
      "execution_count": 0,
      "outputs": []
    },
    {
      "cell_type": "code",
      "metadata": {
        "id": "6ci9jOBXi2yU",
        "colab_type": "code",
        "colab": {}
      },
      "source": [
        "dataset_clean = clean_shipment_days(dataset)"
      ],
      "execution_count": 0,
      "outputs": []
    },
    {
      "cell_type": "code",
      "metadata": {
        "id": "HSVHyrlTHd9N",
        "colab_type": "code",
        "outputId": "cf8bd47f-5ffb-4761-9535-aa41173cae69",
        "colab": {
          "base_uri": "https://localhost:8080/",
          "height": 297
        }
      },
      "source": [
        "dataset_clean.describe()"
      ],
      "execution_count": 0,
      "outputs": [
        {
          "output_type": "execute_result",
          "data": {
            "text/html": [
              "<div>\n",
              "<style scoped>\n",
              "    .dataframe tbody tr th:only-of-type {\n",
              "        vertical-align: middle;\n",
              "    }\n",
              "\n",
              "    .dataframe tbody tr th {\n",
              "        vertical-align: top;\n",
              "    }\n",
              "\n",
              "    .dataframe thead th {\n",
              "        text-align: right;\n",
              "    }\n",
              "</style>\n",
              "<table border=\"1\" class=\"dataframe\">\n",
              "  <thead>\n",
              "    <tr style=\"text-align: right;\">\n",
              "      <th></th>\n",
              "      <th>sender_zipcode</th>\n",
              "      <th>receiver_zipcode</th>\n",
              "      <th>quantity</th>\n",
              "      <th>service</th>\n",
              "      <th>shipment_days</th>\n",
              "    </tr>\n",
              "  </thead>\n",
              "  <tbody>\n",
              "    <tr>\n",
              "      <th>count</th>\n",
              "      <td>499350.000000</td>\n",
              "      <td>499350.000000</td>\n",
              "      <td>499350.000000</td>\n",
              "      <td>499350.000000</td>\n",
              "      <td>499350.000000</td>\n",
              "    </tr>\n",
              "    <tr>\n",
              "      <th>mean</th>\n",
              "      <td>8305.922694</td>\n",
              "      <td>39977.617365</td>\n",
              "      <td>1.278210</td>\n",
              "      <td>1.513588</td>\n",
              "      <td>5.374357</td>\n",
              "    </tr>\n",
              "    <tr>\n",
              "      <th>std</th>\n",
              "      <td>5088.481700</td>\n",
              "      <td>30977.339131</td>\n",
              "      <td>0.661669</td>\n",
              "      <td>1.825088</td>\n",
              "      <td>4.978010</td>\n",
              "    </tr>\n",
              "    <tr>\n",
              "      <th>min</th>\n",
              "      <td>1001.000000</td>\n",
              "      <td>1001.000000</td>\n",
              "      <td>1.000000</td>\n",
              "      <td>0.000000</td>\n",
              "      <td>0.000000</td>\n",
              "    </tr>\n",
              "    <tr>\n",
              "      <th>25%</th>\n",
              "      <td>3673.000000</td>\n",
              "      <td>13106.000000</td>\n",
              "      <td>1.000000</td>\n",
              "      <td>0.000000</td>\n",
              "      <td>2.000000</td>\n",
              "    </tr>\n",
              "    <tr>\n",
              "      <th>50%</th>\n",
              "      <td>7400.000000</td>\n",
              "      <td>31140.000000</td>\n",
              "      <td>1.000000</td>\n",
              "      <td>1.000000</td>\n",
              "      <td>4.000000</td>\n",
              "    </tr>\n",
              "    <tr>\n",
              "      <th>75%</th>\n",
              "      <td>13277.000000</td>\n",
              "      <td>70670.000000</td>\n",
              "      <td>1.000000</td>\n",
              "      <td>2.000000</td>\n",
              "      <td>8.000000</td>\n",
              "    </tr>\n",
              "    <tr>\n",
              "      <th>max</th>\n",
              "      <td>19970.000000</td>\n",
              "      <td>99990.000000</td>\n",
              "      <td>5.000000</td>\n",
              "      <td>12.000000</td>\n",
              "      <td>90.000000</td>\n",
              "    </tr>\n",
              "  </tbody>\n",
              "</table>\n",
              "</div>"
            ],
            "text/plain": [
              "       sender_zipcode  receiver_zipcode  ...        service  shipment_days\n",
              "count   499350.000000     499350.000000  ...  499350.000000  499350.000000\n",
              "mean      8305.922694      39977.617365  ...       1.513588       5.374357\n",
              "std       5088.481700      30977.339131  ...       1.825088       4.978010\n",
              "min       1001.000000       1001.000000  ...       0.000000       0.000000\n",
              "25%       3673.000000      13106.000000  ...       0.000000       2.000000\n",
              "50%       7400.000000      31140.000000  ...       1.000000       4.000000\n",
              "75%      13277.000000      70670.000000  ...       2.000000       8.000000\n",
              "max      19970.000000      99990.000000  ...      12.000000      90.000000\n",
              "\n",
              "[8 rows x 5 columns]"
            ]
          },
          "metadata": {
            "tags": []
          },
          "execution_count": 5
        }
      ]
    },
    {
      "cell_type": "code",
      "metadata": {
        "id": "pVyRSEYPHpAP",
        "colab_type": "code",
        "outputId": "4e8d383e-cbf5-4d9c-f245-5aa9ac3dd64b",
        "colab": {
          "base_uri": "https://localhost:8080/",
          "height": 306
        }
      },
      "source": [
        "dataset_clean.info()"
      ],
      "execution_count": 0,
      "outputs": [
        {
          "output_type": "stream",
          "text": [
            "<class 'pandas.core.frame.DataFrame'>\n",
            "Int64Index: 499350 entries, 0 to 499999\n",
            "Data columns (total 12 columns):\n",
            "sender_state        499350 non-null object\n",
            "sender_zipcode      499350 non-null int64\n",
            "receiver_state      499350 non-null object\n",
            "receiver_zipcode    499350 non-null int64\n",
            "shipment_type       499350 non-null object\n",
            "quantity            499350 non-null int64\n",
            "service             499350 non-null int64\n",
            "status              499350 non-null object\n",
            "date_created        499350 non-null datetime64[ns]\n",
            "date_sent           499350 non-null datetime64[ns]\n",
            "date_visit          499350 non-null datetime64[ns]\n",
            "shipment_days       499350 non-null float64\n",
            "dtypes: datetime64[ns](3), float64(1), int64(4), object(4)\n",
            "memory usage: 49.5+ MB\n"
          ],
          "name": "stdout"
        }
      ]
    },
    {
      "cell_type": "markdown",
      "metadata": {
        "id": "dzT3lX8oIi7c",
        "colab_type": "text"
      },
      "source": [
        "###Datos duplicados\n",
        "\n",
        "A continuación intentaremos determinar si nuestro dataset tiene información duplicada."
      ]
    },
    {
      "cell_type": "code",
      "metadata": {
        "id": "9f_y95VFjNU5",
        "colab_type": "code",
        "outputId": "1437847a-0912-4fe6-dba6-2dc2ab88f232",
        "colab": {
          "base_uri": "https://localhost:8080/",
          "height": 719
        }
      },
      "source": [
        "dataset_clean[dataset_clean.duplicated()].sample(10)"
      ],
      "execution_count": 0,
      "outputs": [
        {
          "output_type": "execute_result",
          "data": {
            "text/html": [
              "<div>\n",
              "<style scoped>\n",
              "    .dataframe tbody tr th:only-of-type {\n",
              "        vertical-align: middle;\n",
              "    }\n",
              "\n",
              "    .dataframe tbody tr th {\n",
              "        vertical-align: top;\n",
              "    }\n",
              "\n",
              "    .dataframe thead th {\n",
              "        text-align: right;\n",
              "    }\n",
              "</style>\n",
              "<table border=\"1\" class=\"dataframe\">\n",
              "  <thead>\n",
              "    <tr style=\"text-align: right;\">\n",
              "      <th></th>\n",
              "      <th>sender_state</th>\n",
              "      <th>sender_zipcode</th>\n",
              "      <th>receiver_state</th>\n",
              "      <th>receiver_zipcode</th>\n",
              "      <th>shipment_type</th>\n",
              "      <th>quantity</th>\n",
              "      <th>service</th>\n",
              "      <th>status</th>\n",
              "      <th>date_created</th>\n",
              "      <th>date_sent</th>\n",
              "      <th>date_visit</th>\n",
              "      <th>shipment_days</th>\n",
              "    </tr>\n",
              "  </thead>\n",
              "  <tbody>\n",
              "    <tr>\n",
              "      <th>197548</th>\n",
              "      <td>SP</td>\n",
              "      <td>9020</td>\n",
              "      <td>MG</td>\n",
              "      <td>38610</td>\n",
              "      <td>standard</td>\n",
              "      <td>1</td>\n",
              "      <td>0</td>\n",
              "      <td>done</td>\n",
              "      <td>2019-03-12</td>\n",
              "      <td>2019-03-14 21:54:40</td>\n",
              "      <td>2019-03-25 07:47:00</td>\n",
              "      <td>7.0</td>\n",
              "    </tr>\n",
              "    <tr>\n",
              "      <th>306615</th>\n",
              "      <td>SP</td>\n",
              "      <td>2540</td>\n",
              "      <td>MG</td>\n",
              "      <td>38700</td>\n",
              "      <td>standard</td>\n",
              "      <td>1</td>\n",
              "      <td>2</td>\n",
              "      <td>done</td>\n",
              "      <td>2019-03-18</td>\n",
              "      <td>2019-03-21 13:31:00</td>\n",
              "      <td>2019-03-26 07:10:00</td>\n",
              "      <td>3.0</td>\n",
              "    </tr>\n",
              "    <tr>\n",
              "      <th>385668</th>\n",
              "      <td>SP</td>\n",
              "      <td>13329</td>\n",
              "      <td>PR</td>\n",
              "      <td>82300</td>\n",
              "      <td>standard</td>\n",
              "      <td>1</td>\n",
              "      <td>1</td>\n",
              "      <td>done</td>\n",
              "      <td>2019-03-05</td>\n",
              "      <td>2019-03-06 13:34:00</td>\n",
              "      <td>2019-03-18 10:47:00</td>\n",
              "      <td>7.0</td>\n",
              "    </tr>\n",
              "    <tr>\n",
              "      <th>198433</th>\n",
              "      <td>SP</td>\n",
              "      <td>3116</td>\n",
              "      <td>MG</td>\n",
              "      <td>37466</td>\n",
              "      <td>standard</td>\n",
              "      <td>1</td>\n",
              "      <td>3</td>\n",
              "      <td>done</td>\n",
              "      <td>2019-02-21</td>\n",
              "      <td>2019-02-23 03:53:00</td>\n",
              "      <td>2019-03-07 18:00:00</td>\n",
              "      <td>5.0</td>\n",
              "    </tr>\n",
              "    <tr>\n",
              "      <th>397219</th>\n",
              "      <td>SP</td>\n",
              "      <td>9895</td>\n",
              "      <td>MG</td>\n",
              "      <td>38702</td>\n",
              "      <td>standard</td>\n",
              "      <td>2</td>\n",
              "      <td>2</td>\n",
              "      <td>done</td>\n",
              "      <td>2019-03-17</td>\n",
              "      <td>2019-03-20 07:01:32</td>\n",
              "      <td>2019-03-25 12:11:00</td>\n",
              "      <td>3.0</td>\n",
              "    </tr>\n",
              "    <tr>\n",
              "      <th>369331</th>\n",
              "      <td>SP</td>\n",
              "      <td>3010</td>\n",
              "      <td>MG</td>\n",
              "      <td>38446</td>\n",
              "      <td>standard</td>\n",
              "      <td>1</td>\n",
              "      <td>1</td>\n",
              "      <td>done</td>\n",
              "      <td>2019-02-23</td>\n",
              "      <td>2019-02-25 13:26:00</td>\n",
              "      <td>2019-03-18 09:42:00</td>\n",
              "      <td>12.0</td>\n",
              "    </tr>\n",
              "    <tr>\n",
              "      <th>297599</th>\n",
              "      <td>SP</td>\n",
              "      <td>3429</td>\n",
              "      <td>SP</td>\n",
              "      <td>4316</td>\n",
              "      <td>express</td>\n",
              "      <td>1</td>\n",
              "      <td>0</td>\n",
              "      <td>done</td>\n",
              "      <td>2019-03-15</td>\n",
              "      <td>2019-03-15 16:26:00</td>\n",
              "      <td>2019-03-18 10:18:00</td>\n",
              "      <td>1.0</td>\n",
              "    </tr>\n",
              "    <tr>\n",
              "      <th>207736</th>\n",
              "      <td>SP</td>\n",
              "      <td>14405</td>\n",
              "      <td>MG</td>\n",
              "      <td>33010</td>\n",
              "      <td>standard</td>\n",
              "      <td>1</td>\n",
              "      <td>2</td>\n",
              "      <td>done</td>\n",
              "      <td>2019-03-13</td>\n",
              "      <td>2019-03-19 05:14:45</td>\n",
              "      <td>2019-03-21 11:40:00</td>\n",
              "      <td>2.0</td>\n",
              "    </tr>\n",
              "    <tr>\n",
              "      <th>232761</th>\n",
              "      <td>SP</td>\n",
              "      <td>1029</td>\n",
              "      <td>BA</td>\n",
              "      <td>40725</td>\n",
              "      <td>express</td>\n",
              "      <td>1</td>\n",
              "      <td>0</td>\n",
              "      <td>done</td>\n",
              "      <td>2019-03-23</td>\n",
              "      <td>2019-03-25 18:27:00</td>\n",
              "      <td>2019-03-27 12:01:00</td>\n",
              "      <td>2.0</td>\n",
              "    </tr>\n",
              "    <tr>\n",
              "      <th>436593</th>\n",
              "      <td>SP</td>\n",
              "      <td>2236</td>\n",
              "      <td>SP</td>\n",
              "      <td>7073</td>\n",
              "      <td>express</td>\n",
              "      <td>1</td>\n",
              "      <td>0</td>\n",
              "      <td>done</td>\n",
              "      <td>2019-03-27</td>\n",
              "      <td>2019-03-27 12:12:00</td>\n",
              "      <td>2019-03-28 12:59:00</td>\n",
              "      <td>1.0</td>\n",
              "    </tr>\n",
              "  </tbody>\n",
              "</table>\n",
              "</div>"
            ],
            "text/plain": [
              "       sender_state  sender_zipcode  ...          date_visit  shipment_days\n",
              "197548           SP            9020  ... 2019-03-25 07:47:00            7.0\n",
              "306615           SP            2540  ... 2019-03-26 07:10:00            3.0\n",
              "385668           SP           13329  ... 2019-03-18 10:47:00            7.0\n",
              "198433           SP            3116  ... 2019-03-07 18:00:00            5.0\n",
              "397219           SP            9895  ... 2019-03-25 12:11:00            3.0\n",
              "369331           SP            3010  ... 2019-03-18 09:42:00           12.0\n",
              "297599           SP            3429  ... 2019-03-18 10:18:00            1.0\n",
              "207736           SP           14405  ... 2019-03-21 11:40:00            2.0\n",
              "232761           SP            1029  ... 2019-03-27 12:01:00            2.0\n",
              "436593           SP            2236  ... 2019-03-28 12:59:00            1.0\n",
              "\n",
              "[10 rows x 12 columns]"
            ]
          },
          "metadata": {
            "tags": []
          },
          "execution_count": 7
        }
      ]
    },
    {
      "cell_type": "markdown",
      "metadata": {
        "id": "Ok6pIX2FtK-Z",
        "colab_type": "text"
      },
      "source": [
        "Detectamos datos duplicados, veamos ahora más específicamente."
      ]
    },
    {
      "cell_type": "code",
      "metadata": {
        "id": "7yM3SImVtVlv",
        "colab_type": "code",
        "outputId": "7f5c02ec-fc4a-49a1-983a-67c8611a8519",
        "colab": {
          "base_uri": "https://localhost:8080/",
          "height": 1000
        }
      },
      "source": [
        "dd=dataset_clean[dataset_clean.duplicated(keep=False)]\n",
        "dd.sort_values(\"sender_zipcode\")"
      ],
      "execution_count": 0,
      "outputs": [
        {
          "output_type": "execute_result",
          "data": {
            "text/html": [
              "<div>\n",
              "<style scoped>\n",
              "    .dataframe tbody tr th:only-of-type {\n",
              "        vertical-align: middle;\n",
              "    }\n",
              "\n",
              "    .dataframe tbody tr th {\n",
              "        vertical-align: top;\n",
              "    }\n",
              "\n",
              "    .dataframe thead th {\n",
              "        text-align: right;\n",
              "    }\n",
              "</style>\n",
              "<table border=\"1\" class=\"dataframe\">\n",
              "  <thead>\n",
              "    <tr style=\"text-align: right;\">\n",
              "      <th></th>\n",
              "      <th>sender_state</th>\n",
              "      <th>sender_zipcode</th>\n",
              "      <th>receiver_state</th>\n",
              "      <th>receiver_zipcode</th>\n",
              "      <th>shipment_type</th>\n",
              "      <th>quantity</th>\n",
              "      <th>service</th>\n",
              "      <th>status</th>\n",
              "      <th>date_created</th>\n",
              "      <th>date_sent</th>\n",
              "      <th>date_visit</th>\n",
              "      <th>shipment_days</th>\n",
              "    </tr>\n",
              "  </thead>\n",
              "  <tbody>\n",
              "    <tr>\n",
              "      <th>53875</th>\n",
              "      <td>SP</td>\n",
              "      <td>1001</td>\n",
              "      <td>SE</td>\n",
              "      <td>49096</td>\n",
              "      <td>standard</td>\n",
              "      <td>1</td>\n",
              "      <td>1</td>\n",
              "      <td>done</td>\n",
              "      <td>2019-02-21</td>\n",
              "      <td>2019-02-25 11:45:00</td>\n",
              "      <td>2019-03-19 11:55:00</td>\n",
              "      <td>13.0</td>\n",
              "    </tr>\n",
              "    <tr>\n",
              "      <th>358581</th>\n",
              "      <td>SP</td>\n",
              "      <td>1001</td>\n",
              "      <td>SE</td>\n",
              "      <td>49096</td>\n",
              "      <td>standard</td>\n",
              "      <td>1</td>\n",
              "      <td>1</td>\n",
              "      <td>done</td>\n",
              "      <td>2019-02-21</td>\n",
              "      <td>2019-02-25 11:45:00</td>\n",
              "      <td>2019-03-19 11:55:00</td>\n",
              "      <td>13.0</td>\n",
              "    </tr>\n",
              "    <tr>\n",
              "      <th>478674</th>\n",
              "      <td>SP</td>\n",
              "      <td>1004</td>\n",
              "      <td>PR</td>\n",
              "      <td>86805</td>\n",
              "      <td>standard</td>\n",
              "      <td>1</td>\n",
              "      <td>4</td>\n",
              "      <td>done</td>\n",
              "      <td>2019-03-15</td>\n",
              "      <td>2019-03-15 22:04:41</td>\n",
              "      <td>2019-03-28 22:56:00</td>\n",
              "      <td>9.0</td>\n",
              "    </tr>\n",
              "    <tr>\n",
              "      <th>236014</th>\n",
              "      <td>SP</td>\n",
              "      <td>1004</td>\n",
              "      <td>MG</td>\n",
              "      <td>32340</td>\n",
              "      <td>express</td>\n",
              "      <td>1</td>\n",
              "      <td>4</td>\n",
              "      <td>done</td>\n",
              "      <td>2019-03-16</td>\n",
              "      <td>2019-03-19 00:52:07</td>\n",
              "      <td>2019-03-25 19:00:00</td>\n",
              "      <td>4.0</td>\n",
              "    </tr>\n",
              "    <tr>\n",
              "      <th>416799</th>\n",
              "      <td>SP</td>\n",
              "      <td>1004</td>\n",
              "      <td>SP</td>\n",
              "      <td>18076</td>\n",
              "      <td>express</td>\n",
              "      <td>1</td>\n",
              "      <td>4</td>\n",
              "      <td>done</td>\n",
              "      <td>2019-03-19</td>\n",
              "      <td>2019-03-19 22:53:00</td>\n",
              "      <td>2019-03-22 13:52:00</td>\n",
              "      <td>3.0</td>\n",
              "    </tr>\n",
              "    <tr>\n",
              "      <th>395523</th>\n",
              "      <td>SP</td>\n",
              "      <td>1004</td>\n",
              "      <td>PR</td>\n",
              "      <td>83833</td>\n",
              "      <td>standard</td>\n",
              "      <td>1</td>\n",
              "      <td>4</td>\n",
              "      <td>done</td>\n",
              "      <td>2019-03-15</td>\n",
              "      <td>2019-03-15 22:04:51</td>\n",
              "      <td>2019-03-20 20:49:00</td>\n",
              "      <td>3.0</td>\n",
              "    </tr>\n",
              "    <tr>\n",
              "      <th>192559</th>\n",
              "      <td>SP</td>\n",
              "      <td>1004</td>\n",
              "      <td>PR</td>\n",
              "      <td>83833</td>\n",
              "      <td>standard</td>\n",
              "      <td>1</td>\n",
              "      <td>4</td>\n",
              "      <td>done</td>\n",
              "      <td>2019-03-15</td>\n",
              "      <td>2019-03-15 22:04:51</td>\n",
              "      <td>2019-03-20 20:49:00</td>\n",
              "      <td>3.0</td>\n",
              "    </tr>\n",
              "    <tr>\n",
              "      <th>66570</th>\n",
              "      <td>SP</td>\n",
              "      <td>1004</td>\n",
              "      <td>MG</td>\n",
              "      <td>32340</td>\n",
              "      <td>express</td>\n",
              "      <td>1</td>\n",
              "      <td>4</td>\n",
              "      <td>done</td>\n",
              "      <td>2019-03-16</td>\n",
              "      <td>2019-03-19 00:52:07</td>\n",
              "      <td>2019-03-25 19:00:00</td>\n",
              "      <td>4.0</td>\n",
              "    </tr>\n",
              "    <tr>\n",
              "      <th>119594</th>\n",
              "      <td>SP</td>\n",
              "      <td>1004</td>\n",
              "      <td>SP</td>\n",
              "      <td>18076</td>\n",
              "      <td>express</td>\n",
              "      <td>1</td>\n",
              "      <td>4</td>\n",
              "      <td>done</td>\n",
              "      <td>2019-03-19</td>\n",
              "      <td>2019-03-19 22:53:00</td>\n",
              "      <td>2019-03-22 13:52:00</td>\n",
              "      <td>3.0</td>\n",
              "    </tr>\n",
              "    <tr>\n",
              "      <th>273705</th>\n",
              "      <td>SP</td>\n",
              "      <td>1004</td>\n",
              "      <td>PR</td>\n",
              "      <td>86805</td>\n",
              "      <td>standard</td>\n",
              "      <td>1</td>\n",
              "      <td>4</td>\n",
              "      <td>done</td>\n",
              "      <td>2019-03-15</td>\n",
              "      <td>2019-03-15 22:04:41</td>\n",
              "      <td>2019-03-28 22:56:00</td>\n",
              "      <td>9.0</td>\n",
              "    </tr>\n",
              "    <tr>\n",
              "      <th>303122</th>\n",
              "      <td>SP</td>\n",
              "      <td>1007</td>\n",
              "      <td>PE</td>\n",
              "      <td>50761</td>\n",
              "      <td>standard</td>\n",
              "      <td>1</td>\n",
              "      <td>1</td>\n",
              "      <td>done</td>\n",
              "      <td>2019-02-25</td>\n",
              "      <td>2019-02-25 18:22:00</td>\n",
              "      <td>2019-04-01 12:09:00</td>\n",
              "      <td>22.0</td>\n",
              "    </tr>\n",
              "    <tr>\n",
              "      <th>297963</th>\n",
              "      <td>SP</td>\n",
              "      <td>1007</td>\n",
              "      <td>PE</td>\n",
              "      <td>50761</td>\n",
              "      <td>standard</td>\n",
              "      <td>1</td>\n",
              "      <td>1</td>\n",
              "      <td>done</td>\n",
              "      <td>2019-02-25</td>\n",
              "      <td>2019-02-25 18:22:00</td>\n",
              "      <td>2019-04-01 12:09:00</td>\n",
              "      <td>22.0</td>\n",
              "    </tr>\n",
              "    <tr>\n",
              "      <th>206947</th>\n",
              "      <td>SP</td>\n",
              "      <td>1007</td>\n",
              "      <td>PB</td>\n",
              "      <td>58423</td>\n",
              "      <td>standard</td>\n",
              "      <td>1</td>\n",
              "      <td>1</td>\n",
              "      <td>done</td>\n",
              "      <td>2019-02-20</td>\n",
              "      <td>2019-02-21 15:44:00</td>\n",
              "      <td>2019-03-15 15:52:00</td>\n",
              "      <td>13.0</td>\n",
              "    </tr>\n",
              "    <tr>\n",
              "      <th>465046</th>\n",
              "      <td>SP</td>\n",
              "      <td>1007</td>\n",
              "      <td>MG</td>\n",
              "      <td>38405</td>\n",
              "      <td>standard</td>\n",
              "      <td>2</td>\n",
              "      <td>1</td>\n",
              "      <td>done</td>\n",
              "      <td>2019-03-17</td>\n",
              "      <td>2019-03-18 14:05:00</td>\n",
              "      <td>2019-03-26 12:35:00</td>\n",
              "      <td>6.0</td>\n",
              "    </tr>\n",
              "    <tr>\n",
              "      <th>158066</th>\n",
              "      <td>SP</td>\n",
              "      <td>1007</td>\n",
              "      <td>PB</td>\n",
              "      <td>58423</td>\n",
              "      <td>standard</td>\n",
              "      <td>1</td>\n",
              "      <td>1</td>\n",
              "      <td>done</td>\n",
              "      <td>2019-02-20</td>\n",
              "      <td>2019-02-21 15:44:00</td>\n",
              "      <td>2019-03-15 15:52:00</td>\n",
              "      <td>13.0</td>\n",
              "    </tr>\n",
              "    <tr>\n",
              "      <th>22430</th>\n",
              "      <td>SP</td>\n",
              "      <td>1007</td>\n",
              "      <td>MG</td>\n",
              "      <td>38405</td>\n",
              "      <td>standard</td>\n",
              "      <td>2</td>\n",
              "      <td>1</td>\n",
              "      <td>done</td>\n",
              "      <td>2019-03-17</td>\n",
              "      <td>2019-03-18 14:05:00</td>\n",
              "      <td>2019-03-26 12:35:00</td>\n",
              "      <td>6.0</td>\n",
              "    </tr>\n",
              "    <tr>\n",
              "      <th>458248</th>\n",
              "      <td>SP</td>\n",
              "      <td>1015</td>\n",
              "      <td>SP</td>\n",
              "      <td>3530</td>\n",
              "      <td>super</td>\n",
              "      <td>2</td>\n",
              "      <td>5</td>\n",
              "      <td>done</td>\n",
              "      <td>2019-03-21</td>\n",
              "      <td>2019-03-22 18:20:06</td>\n",
              "      <td>2019-03-25 10:50:02</td>\n",
              "      <td>1.0</td>\n",
              "    </tr>\n",
              "    <tr>\n",
              "      <th>401254</th>\n",
              "      <td>SP</td>\n",
              "      <td>1015</td>\n",
              "      <td>SP</td>\n",
              "      <td>4455</td>\n",
              "      <td>super</td>\n",
              "      <td>1</td>\n",
              "      <td>5</td>\n",
              "      <td>done</td>\n",
              "      <td>2019-03-09</td>\n",
              "      <td>2019-03-12 16:20:52</td>\n",
              "      <td>2019-03-13 11:56:28</td>\n",
              "      <td>1.0</td>\n",
              "    </tr>\n",
              "    <tr>\n",
              "      <th>216711</th>\n",
              "      <td>SP</td>\n",
              "      <td>1015</td>\n",
              "      <td>GO</td>\n",
              "      <td>73752</td>\n",
              "      <td>standard</td>\n",
              "      <td>1</td>\n",
              "      <td>1</td>\n",
              "      <td>done</td>\n",
              "      <td>2019-02-21</td>\n",
              "      <td>2019-02-21 15:37:00</td>\n",
              "      <td>2019-03-12 13:01:00</td>\n",
              "      <td>10.0</td>\n",
              "    </tr>\n",
              "    <tr>\n",
              "      <th>398391</th>\n",
              "      <td>SP</td>\n",
              "      <td>1015</td>\n",
              "      <td>SP</td>\n",
              "      <td>14860</td>\n",
              "      <td>standard</td>\n",
              "      <td>1</td>\n",
              "      <td>1</td>\n",
              "      <td>done</td>\n",
              "      <td>2019-02-23</td>\n",
              "      <td>2019-02-25 14:32:00</td>\n",
              "      <td>2019-03-11 14:00:00</td>\n",
              "      <td>7.0</td>\n",
              "    </tr>\n",
              "    <tr>\n",
              "      <th>98259</th>\n",
              "      <td>SP</td>\n",
              "      <td>1015</td>\n",
              "      <td>SP</td>\n",
              "      <td>4455</td>\n",
              "      <td>super</td>\n",
              "      <td>1</td>\n",
              "      <td>5</td>\n",
              "      <td>done</td>\n",
              "      <td>2019-03-09</td>\n",
              "      <td>2019-03-12 16:20:52</td>\n",
              "      <td>2019-03-13 11:56:28</td>\n",
              "      <td>1.0</td>\n",
              "    </tr>\n",
              "    <tr>\n",
              "      <th>401881</th>\n",
              "      <td>SP</td>\n",
              "      <td>1015</td>\n",
              "      <td>MS</td>\n",
              "      <td>79002</td>\n",
              "      <td>standard</td>\n",
              "      <td>1</td>\n",
              "      <td>1</td>\n",
              "      <td>done</td>\n",
              "      <td>2019-02-27</td>\n",
              "      <td>2019-02-28 12:38:00</td>\n",
              "      <td>2019-03-18 17:49:00</td>\n",
              "      <td>9.0</td>\n",
              "    </tr>\n",
              "    <tr>\n",
              "      <th>411877</th>\n",
              "      <td>SP</td>\n",
              "      <td>1015</td>\n",
              "      <td>SP</td>\n",
              "      <td>1258</td>\n",
              "      <td>super</td>\n",
              "      <td>1</td>\n",
              "      <td>5</td>\n",
              "      <td>done</td>\n",
              "      <td>2019-03-17</td>\n",
              "      <td>2019-03-18 17:08:34</td>\n",
              "      <td>2019-03-19 08:48:38</td>\n",
              "      <td>1.0</td>\n",
              "    </tr>\n",
              "    <tr>\n",
              "      <th>210193</th>\n",
              "      <td>SP</td>\n",
              "      <td>1015</td>\n",
              "      <td>SP</td>\n",
              "      <td>2934</td>\n",
              "      <td>super</td>\n",
              "      <td>1</td>\n",
              "      <td>5</td>\n",
              "      <td>done</td>\n",
              "      <td>2019-03-25</td>\n",
              "      <td>2019-03-27 16:45:45</td>\n",
              "      <td>2019-03-28 09:39:08</td>\n",
              "      <td>1.0</td>\n",
              "    </tr>\n",
              "    <tr>\n",
              "      <th>73889</th>\n",
              "      <td>SP</td>\n",
              "      <td>1015</td>\n",
              "      <td>SP</td>\n",
              "      <td>3636</td>\n",
              "      <td>super</td>\n",
              "      <td>1</td>\n",
              "      <td>5</td>\n",
              "      <td>done</td>\n",
              "      <td>2019-03-16</td>\n",
              "      <td>2019-03-25 19:18:06</td>\n",
              "      <td>2019-03-26 08:17:00</td>\n",
              "      <td>1.0</td>\n",
              "    </tr>\n",
              "    <tr>\n",
              "      <th>265364</th>\n",
              "      <td>SP</td>\n",
              "      <td>1015</td>\n",
              "      <td>SP</td>\n",
              "      <td>4127</td>\n",
              "      <td>super</td>\n",
              "      <td>1</td>\n",
              "      <td>5</td>\n",
              "      <td>done</td>\n",
              "      <td>2019-03-19</td>\n",
              "      <td>2019-03-19 17:36:30</td>\n",
              "      <td>2019-03-20 08:37:32</td>\n",
              "      <td>1.0</td>\n",
              "    </tr>\n",
              "    <tr>\n",
              "      <th>455108</th>\n",
              "      <td>SP</td>\n",
              "      <td>1015</td>\n",
              "      <td>SP</td>\n",
              "      <td>3636</td>\n",
              "      <td>super</td>\n",
              "      <td>1</td>\n",
              "      <td>5</td>\n",
              "      <td>done</td>\n",
              "      <td>2019-03-16</td>\n",
              "      <td>2019-03-25 19:18:06</td>\n",
              "      <td>2019-03-26 08:17:00</td>\n",
              "      <td>1.0</td>\n",
              "    </tr>\n",
              "    <tr>\n",
              "      <th>412426</th>\n",
              "      <td>SP</td>\n",
              "      <td>1015</td>\n",
              "      <td>SP</td>\n",
              "      <td>1431</td>\n",
              "      <td>super</td>\n",
              "      <td>2</td>\n",
              "      <td>5</td>\n",
              "      <td>done</td>\n",
              "      <td>2019-03-21</td>\n",
              "      <td>2019-03-22 18:20:07</td>\n",
              "      <td>2019-03-25 07:34:17</td>\n",
              "      <td>1.0</td>\n",
              "    </tr>\n",
              "    <tr>\n",
              "      <th>157907</th>\n",
              "      <td>SP</td>\n",
              "      <td>1015</td>\n",
              "      <td>SP</td>\n",
              "      <td>2082</td>\n",
              "      <td>super</td>\n",
              "      <td>1</td>\n",
              "      <td>5</td>\n",
              "      <td>done</td>\n",
              "      <td>2019-03-12</td>\n",
              "      <td>2019-03-13 16:04:39</td>\n",
              "      <td>2019-03-14 07:26:56</td>\n",
              "      <td>1.0</td>\n",
              "    </tr>\n",
              "    <tr>\n",
              "      <th>241658</th>\n",
              "      <td>SP</td>\n",
              "      <td>1015</td>\n",
              "      <td>SP</td>\n",
              "      <td>4551</td>\n",
              "      <td>super</td>\n",
              "      <td>1</td>\n",
              "      <td>5</td>\n",
              "      <td>done</td>\n",
              "      <td>2019-03-12</td>\n",
              "      <td>2019-03-13 16:04:39</td>\n",
              "      <td>2019-03-14 09:51:00</td>\n",
              "      <td>1.0</td>\n",
              "    </tr>\n",
              "    <tr>\n",
              "      <th>...</th>\n",
              "      <td>...</td>\n",
              "      <td>...</td>\n",
              "      <td>...</td>\n",
              "      <td>...</td>\n",
              "      <td>...</td>\n",
              "      <td>...</td>\n",
              "      <td>...</td>\n",
              "      <td>...</td>\n",
              "      <td>...</td>\n",
              "      <td>...</td>\n",
              "      <td>...</td>\n",
              "      <td>...</td>\n",
              "    </tr>\n",
              "    <tr>\n",
              "      <th>448691</th>\n",
              "      <td>SP</td>\n",
              "      <td>19807</td>\n",
              "      <td>SP</td>\n",
              "      <td>19230</td>\n",
              "      <td>express</td>\n",
              "      <td>1</td>\n",
              "      <td>0</td>\n",
              "      <td>done</td>\n",
              "      <td>2019-03-01</td>\n",
              "      <td>2019-03-01 17:56:00</td>\n",
              "      <td>2019-03-12 14:26:00</td>\n",
              "      <td>4.0</td>\n",
              "    </tr>\n",
              "    <tr>\n",
              "      <th>343512</th>\n",
              "      <td>SP</td>\n",
              "      <td>19807</td>\n",
              "      <td>SC</td>\n",
              "      <td>89252</td>\n",
              "      <td>standard</td>\n",
              "      <td>1</td>\n",
              "      <td>1</td>\n",
              "      <td>done</td>\n",
              "      <td>2019-03-03</td>\n",
              "      <td>2019-03-04 18:47:00</td>\n",
              "      <td>2019-03-26 13:36:00</td>\n",
              "      <td>13.0</td>\n",
              "    </tr>\n",
              "    <tr>\n",
              "      <th>192143</th>\n",
              "      <td>SP</td>\n",
              "      <td>19807</td>\n",
              "      <td>RN</td>\n",
              "      <td>59635</td>\n",
              "      <td>standard</td>\n",
              "      <td>1</td>\n",
              "      <td>1</td>\n",
              "      <td>done</td>\n",
              "      <td>2019-02-13</td>\n",
              "      <td>2019-02-15 12:17:00</td>\n",
              "      <td>2019-03-08 14:07:00</td>\n",
              "      <td>12.0</td>\n",
              "    </tr>\n",
              "    <tr>\n",
              "      <th>489547</th>\n",
              "      <td>SP</td>\n",
              "      <td>19807</td>\n",
              "      <td>RN</td>\n",
              "      <td>59635</td>\n",
              "      <td>standard</td>\n",
              "      <td>1</td>\n",
              "      <td>1</td>\n",
              "      <td>done</td>\n",
              "      <td>2019-02-13</td>\n",
              "      <td>2019-02-15 12:17:00</td>\n",
              "      <td>2019-03-08 14:07:00</td>\n",
              "      <td>12.0</td>\n",
              "    </tr>\n",
              "    <tr>\n",
              "      <th>86008</th>\n",
              "      <td>SP</td>\n",
              "      <td>19807</td>\n",
              "      <td>MG</td>\n",
              "      <td>38610</td>\n",
              "      <td>standard</td>\n",
              "      <td>1</td>\n",
              "      <td>1</td>\n",
              "      <td>done</td>\n",
              "      <td>2019-03-21</td>\n",
              "      <td>2019-03-21 16:44:00</td>\n",
              "      <td>2019-03-28 08:25:00</td>\n",
              "      <td>5.0</td>\n",
              "    </tr>\n",
              "    <tr>\n",
              "      <th>313142</th>\n",
              "      <td>SP</td>\n",
              "      <td>19807</td>\n",
              "      <td>MG</td>\n",
              "      <td>39790</td>\n",
              "      <td>standard</td>\n",
              "      <td>1</td>\n",
              "      <td>1</td>\n",
              "      <td>done</td>\n",
              "      <td>2019-03-02</td>\n",
              "      <td>2019-03-05 09:36:00</td>\n",
              "      <td>2019-03-27 15:54:00</td>\n",
              "      <td>14.0</td>\n",
              "    </tr>\n",
              "    <tr>\n",
              "      <th>278913</th>\n",
              "      <td>SP</td>\n",
              "      <td>19807</td>\n",
              "      <td>RJ</td>\n",
              "      <td>22021</td>\n",
              "      <td>express</td>\n",
              "      <td>1</td>\n",
              "      <td>0</td>\n",
              "      <td>done</td>\n",
              "      <td>2019-03-06</td>\n",
              "      <td>2019-03-08 11:25:00</td>\n",
              "      <td>2019-03-18 16:27:00</td>\n",
              "      <td>6.0</td>\n",
              "    </tr>\n",
              "    <tr>\n",
              "      <th>266063</th>\n",
              "      <td>SP</td>\n",
              "      <td>19807</td>\n",
              "      <td>RJ</td>\n",
              "      <td>22021</td>\n",
              "      <td>express</td>\n",
              "      <td>1</td>\n",
              "      <td>0</td>\n",
              "      <td>done</td>\n",
              "      <td>2019-03-06</td>\n",
              "      <td>2019-03-08 11:25:00</td>\n",
              "      <td>2019-03-18 16:27:00</td>\n",
              "      <td>6.0</td>\n",
              "    </tr>\n",
              "    <tr>\n",
              "      <th>40055</th>\n",
              "      <td>SP</td>\n",
              "      <td>19807</td>\n",
              "      <td>MG</td>\n",
              "      <td>32415</td>\n",
              "      <td>standard</td>\n",
              "      <td>1</td>\n",
              "      <td>1</td>\n",
              "      <td>done</td>\n",
              "      <td>2019-03-01</td>\n",
              "      <td>2019-03-05 08:24:00</td>\n",
              "      <td>2019-03-12 11:27:00</td>\n",
              "      <td>3.0</td>\n",
              "    </tr>\n",
              "    <tr>\n",
              "      <th>77704</th>\n",
              "      <td>SP</td>\n",
              "      <td>19807</td>\n",
              "      <td>SC</td>\n",
              "      <td>89252</td>\n",
              "      <td>standard</td>\n",
              "      <td>1</td>\n",
              "      <td>1</td>\n",
              "      <td>done</td>\n",
              "      <td>2019-03-03</td>\n",
              "      <td>2019-03-04 18:47:00</td>\n",
              "      <td>2019-03-26 13:36:00</td>\n",
              "      <td>13.0</td>\n",
              "    </tr>\n",
              "    <tr>\n",
              "      <th>231013</th>\n",
              "      <td>SP</td>\n",
              "      <td>19807</td>\n",
              "      <td>RS</td>\n",
              "      <td>91420</td>\n",
              "      <td>standard</td>\n",
              "      <td>1</td>\n",
              "      <td>1</td>\n",
              "      <td>done</td>\n",
              "      <td>2019-02-28</td>\n",
              "      <td>2019-02-28 16:51:00</td>\n",
              "      <td>2019-04-01 11:19:00</td>\n",
              "      <td>19.0</td>\n",
              "    </tr>\n",
              "    <tr>\n",
              "      <th>319980</th>\n",
              "      <td>SP</td>\n",
              "      <td>19807</td>\n",
              "      <td>CE</td>\n",
              "      <td>62200</td>\n",
              "      <td>standard</td>\n",
              "      <td>5</td>\n",
              "      <td>1</td>\n",
              "      <td>done</td>\n",
              "      <td>2019-02-09</td>\n",
              "      <td>2019-02-13 16:45:00</td>\n",
              "      <td>2019-03-25 14:56:00</td>\n",
              "      <td>25.0</td>\n",
              "    </tr>\n",
              "    <tr>\n",
              "      <th>36810</th>\n",
              "      <td>SP</td>\n",
              "      <td>19807</td>\n",
              "      <td>RJ</td>\n",
              "      <td>22793</td>\n",
              "      <td>standard</td>\n",
              "      <td>1</td>\n",
              "      <td>1</td>\n",
              "      <td>done</td>\n",
              "      <td>2019-02-21</td>\n",
              "      <td>2019-02-22 17:52:00</td>\n",
              "      <td>2019-03-12 15:58:00</td>\n",
              "      <td>9.0</td>\n",
              "    </tr>\n",
              "    <tr>\n",
              "      <th>71884</th>\n",
              "      <td>SP</td>\n",
              "      <td>19807</td>\n",
              "      <td>SC</td>\n",
              "      <td>88880</td>\n",
              "      <td>standard</td>\n",
              "      <td>1</td>\n",
              "      <td>1</td>\n",
              "      <td>done</td>\n",
              "      <td>2019-02-14</td>\n",
              "      <td>2019-02-15 12:29:00</td>\n",
              "      <td>2019-03-12 16:14:00</td>\n",
              "      <td>14.0</td>\n",
              "    </tr>\n",
              "    <tr>\n",
              "      <th>461519</th>\n",
              "      <td>SP</td>\n",
              "      <td>19807</td>\n",
              "      <td>BA</td>\n",
              "      <td>44830</td>\n",
              "      <td>standard</td>\n",
              "      <td>3</td>\n",
              "      <td>1</td>\n",
              "      <td>done</td>\n",
              "      <td>2019-03-03</td>\n",
              "      <td>2019-03-04 18:40:00</td>\n",
              "      <td>2019-03-15 13:52:00</td>\n",
              "      <td>6.0</td>\n",
              "    </tr>\n",
              "    <tr>\n",
              "      <th>480455</th>\n",
              "      <td>SP</td>\n",
              "      <td>19807</td>\n",
              "      <td>RJ</td>\n",
              "      <td>22793</td>\n",
              "      <td>standard</td>\n",
              "      <td>1</td>\n",
              "      <td>1</td>\n",
              "      <td>done</td>\n",
              "      <td>2019-02-21</td>\n",
              "      <td>2019-02-22 17:52:00</td>\n",
              "      <td>2019-03-12 15:58:00</td>\n",
              "      <td>9.0</td>\n",
              "    </tr>\n",
              "    <tr>\n",
              "      <th>260038</th>\n",
              "      <td>SP</td>\n",
              "      <td>19807</td>\n",
              "      <td>CE</td>\n",
              "      <td>62200</td>\n",
              "      <td>standard</td>\n",
              "      <td>5</td>\n",
              "      <td>1</td>\n",
              "      <td>done</td>\n",
              "      <td>2019-02-09</td>\n",
              "      <td>2019-02-13 16:45:00</td>\n",
              "      <td>2019-03-25 14:56:00</td>\n",
              "      <td>25.0</td>\n",
              "    </tr>\n",
              "    <tr>\n",
              "      <th>81569</th>\n",
              "      <td>SP</td>\n",
              "      <td>19807</td>\n",
              "      <td>MG</td>\n",
              "      <td>38610</td>\n",
              "      <td>standard</td>\n",
              "      <td>1</td>\n",
              "      <td>1</td>\n",
              "      <td>done</td>\n",
              "      <td>2019-03-21</td>\n",
              "      <td>2019-03-21 16:44:00</td>\n",
              "      <td>2019-03-28 08:25:00</td>\n",
              "      <td>5.0</td>\n",
              "    </tr>\n",
              "    <tr>\n",
              "      <th>450093</th>\n",
              "      <td>SP</td>\n",
              "      <td>19807</td>\n",
              "      <td>BA</td>\n",
              "      <td>44830</td>\n",
              "      <td>standard</td>\n",
              "      <td>3</td>\n",
              "      <td>1</td>\n",
              "      <td>done</td>\n",
              "      <td>2019-03-03</td>\n",
              "      <td>2019-03-04 18:40:00</td>\n",
              "      <td>2019-03-15 13:52:00</td>\n",
              "      <td>6.0</td>\n",
              "    </tr>\n",
              "    <tr>\n",
              "      <th>449787</th>\n",
              "      <td>SP</td>\n",
              "      <td>19807</td>\n",
              "      <td>MG</td>\n",
              "      <td>32415</td>\n",
              "      <td>standard</td>\n",
              "      <td>1</td>\n",
              "      <td>1</td>\n",
              "      <td>done</td>\n",
              "      <td>2019-03-01</td>\n",
              "      <td>2019-03-05 08:24:00</td>\n",
              "      <td>2019-03-12 11:27:00</td>\n",
              "      <td>3.0</td>\n",
              "    </tr>\n",
              "    <tr>\n",
              "      <th>177001</th>\n",
              "      <td>SP</td>\n",
              "      <td>19807</td>\n",
              "      <td>SP</td>\n",
              "      <td>19230</td>\n",
              "      <td>express</td>\n",
              "      <td>1</td>\n",
              "      <td>0</td>\n",
              "      <td>done</td>\n",
              "      <td>2019-03-01</td>\n",
              "      <td>2019-03-01 17:56:00</td>\n",
              "      <td>2019-03-12 14:26:00</td>\n",
              "      <td>4.0</td>\n",
              "    </tr>\n",
              "    <tr>\n",
              "      <th>38923</th>\n",
              "      <td>SP</td>\n",
              "      <td>19807</td>\n",
              "      <td>MG</td>\n",
              "      <td>39790</td>\n",
              "      <td>standard</td>\n",
              "      <td>1</td>\n",
              "      <td>1</td>\n",
              "      <td>done</td>\n",
              "      <td>2019-03-02</td>\n",
              "      <td>2019-03-05 09:36:00</td>\n",
              "      <td>2019-03-27 15:54:00</td>\n",
              "      <td>14.0</td>\n",
              "    </tr>\n",
              "    <tr>\n",
              "      <th>333521</th>\n",
              "      <td>SP</td>\n",
              "      <td>19807</td>\n",
              "      <td>SC</td>\n",
              "      <td>88880</td>\n",
              "      <td>standard</td>\n",
              "      <td>1</td>\n",
              "      <td>1</td>\n",
              "      <td>done</td>\n",
              "      <td>2019-02-14</td>\n",
              "      <td>2019-02-15 12:29:00</td>\n",
              "      <td>2019-03-12 16:14:00</td>\n",
              "      <td>14.0</td>\n",
              "    </tr>\n",
              "    <tr>\n",
              "      <th>182200</th>\n",
              "      <td>SP</td>\n",
              "      <td>19807</td>\n",
              "      <td>PR</td>\n",
              "      <td>83203</td>\n",
              "      <td>standard</td>\n",
              "      <td>1</td>\n",
              "      <td>1</td>\n",
              "      <td>done</td>\n",
              "      <td>2019-03-14</td>\n",
              "      <td>2019-03-14 13:35:00</td>\n",
              "      <td>2019-03-21 13:53:00</td>\n",
              "      <td>5.0</td>\n",
              "    </tr>\n",
              "    <tr>\n",
              "      <th>812</th>\n",
              "      <td>SP</td>\n",
              "      <td>19807</td>\n",
              "      <td>SP</td>\n",
              "      <td>12070</td>\n",
              "      <td>standard</td>\n",
              "      <td>1</td>\n",
              "      <td>1</td>\n",
              "      <td>done</td>\n",
              "      <td>2019-03-22</td>\n",
              "      <td>2019-03-22 14:15:00</td>\n",
              "      <td>2019-03-28 08:30:00</td>\n",
              "      <td>4.0</td>\n",
              "    </tr>\n",
              "    <tr>\n",
              "      <th>253280</th>\n",
              "      <td>SP</td>\n",
              "      <td>19807</td>\n",
              "      <td>SP</td>\n",
              "      <td>12070</td>\n",
              "      <td>standard</td>\n",
              "      <td>1</td>\n",
              "      <td>1</td>\n",
              "      <td>done</td>\n",
              "      <td>2019-03-22</td>\n",
              "      <td>2019-03-22 14:15:00</td>\n",
              "      <td>2019-03-28 08:30:00</td>\n",
              "      <td>4.0</td>\n",
              "    </tr>\n",
              "    <tr>\n",
              "      <th>195568</th>\n",
              "      <td>SP</td>\n",
              "      <td>19900</td>\n",
              "      <td>PR</td>\n",
              "      <td>85807</td>\n",
              "      <td>standard</td>\n",
              "      <td>1</td>\n",
              "      <td>1</td>\n",
              "      <td>done</td>\n",
              "      <td>2019-03-17</td>\n",
              "      <td>2019-03-18 15:06:00</td>\n",
              "      <td>2019-03-25 15:21:00</td>\n",
              "      <td>5.0</td>\n",
              "    </tr>\n",
              "    <tr>\n",
              "      <th>400349</th>\n",
              "      <td>SP</td>\n",
              "      <td>19900</td>\n",
              "      <td>PR</td>\n",
              "      <td>85807</td>\n",
              "      <td>standard</td>\n",
              "      <td>1</td>\n",
              "      <td>1</td>\n",
              "      <td>done</td>\n",
              "      <td>2019-03-17</td>\n",
              "      <td>2019-03-18 15:06:00</td>\n",
              "      <td>2019-03-25 15:21:00</td>\n",
              "      <td>5.0</td>\n",
              "    </tr>\n",
              "    <tr>\n",
              "      <th>49138</th>\n",
              "      <td>SP</td>\n",
              "      <td>19911</td>\n",
              "      <td>MG</td>\n",
              "      <td>32900</td>\n",
              "      <td>standard</td>\n",
              "      <td>1</td>\n",
              "      <td>1</td>\n",
              "      <td>done</td>\n",
              "      <td>2019-03-04</td>\n",
              "      <td>2019-03-04 14:08:00</td>\n",
              "      <td>2019-03-20 09:29:00</td>\n",
              "      <td>9.0</td>\n",
              "    </tr>\n",
              "    <tr>\n",
              "      <th>134030</th>\n",
              "      <td>SP</td>\n",
              "      <td>19911</td>\n",
              "      <td>MG</td>\n",
              "      <td>32900</td>\n",
              "      <td>standard</td>\n",
              "      <td>1</td>\n",
              "      <td>1</td>\n",
              "      <td>done</td>\n",
              "      <td>2019-03-04</td>\n",
              "      <td>2019-03-04 14:08:00</td>\n",
              "      <td>2019-03-20 09:29:00</td>\n",
              "      <td>9.0</td>\n",
              "    </tr>\n",
              "  </tbody>\n",
              "</table>\n",
              "<p>11839 rows × 12 columns</p>\n",
              "</div>"
            ],
            "text/plain": [
              "       sender_state  sender_zipcode  ...          date_visit  shipment_days\n",
              "53875            SP            1001  ... 2019-03-19 11:55:00           13.0\n",
              "358581           SP            1001  ... 2019-03-19 11:55:00           13.0\n",
              "478674           SP            1004  ... 2019-03-28 22:56:00            9.0\n",
              "236014           SP            1004  ... 2019-03-25 19:00:00            4.0\n",
              "416799           SP            1004  ... 2019-03-22 13:52:00            3.0\n",
              "395523           SP            1004  ... 2019-03-20 20:49:00            3.0\n",
              "192559           SP            1004  ... 2019-03-20 20:49:00            3.0\n",
              "66570            SP            1004  ... 2019-03-25 19:00:00            4.0\n",
              "119594           SP            1004  ... 2019-03-22 13:52:00            3.0\n",
              "273705           SP            1004  ... 2019-03-28 22:56:00            9.0\n",
              "303122           SP            1007  ... 2019-04-01 12:09:00           22.0\n",
              "297963           SP            1007  ... 2019-04-01 12:09:00           22.0\n",
              "206947           SP            1007  ... 2019-03-15 15:52:00           13.0\n",
              "465046           SP            1007  ... 2019-03-26 12:35:00            6.0\n",
              "158066           SP            1007  ... 2019-03-15 15:52:00           13.0\n",
              "22430            SP            1007  ... 2019-03-26 12:35:00            6.0\n",
              "458248           SP            1015  ... 2019-03-25 10:50:02            1.0\n",
              "401254           SP            1015  ... 2019-03-13 11:56:28            1.0\n",
              "216711           SP            1015  ... 2019-03-12 13:01:00           10.0\n",
              "398391           SP            1015  ... 2019-03-11 14:00:00            7.0\n",
              "98259            SP            1015  ... 2019-03-13 11:56:28            1.0\n",
              "401881           SP            1015  ... 2019-03-18 17:49:00            9.0\n",
              "411877           SP            1015  ... 2019-03-19 08:48:38            1.0\n",
              "210193           SP            1015  ... 2019-03-28 09:39:08            1.0\n",
              "73889            SP            1015  ... 2019-03-26 08:17:00            1.0\n",
              "265364           SP            1015  ... 2019-03-20 08:37:32            1.0\n",
              "455108           SP            1015  ... 2019-03-26 08:17:00            1.0\n",
              "412426           SP            1015  ... 2019-03-25 07:34:17            1.0\n",
              "157907           SP            1015  ... 2019-03-14 07:26:56            1.0\n",
              "241658           SP            1015  ... 2019-03-14 09:51:00            1.0\n",
              "...             ...             ...  ...                 ...            ...\n",
              "448691           SP           19807  ... 2019-03-12 14:26:00            4.0\n",
              "343512           SP           19807  ... 2019-03-26 13:36:00           13.0\n",
              "192143           SP           19807  ... 2019-03-08 14:07:00           12.0\n",
              "489547           SP           19807  ... 2019-03-08 14:07:00           12.0\n",
              "86008            SP           19807  ... 2019-03-28 08:25:00            5.0\n",
              "313142           SP           19807  ... 2019-03-27 15:54:00           14.0\n",
              "278913           SP           19807  ... 2019-03-18 16:27:00            6.0\n",
              "266063           SP           19807  ... 2019-03-18 16:27:00            6.0\n",
              "40055            SP           19807  ... 2019-03-12 11:27:00            3.0\n",
              "77704            SP           19807  ... 2019-03-26 13:36:00           13.0\n",
              "231013           SP           19807  ... 2019-04-01 11:19:00           19.0\n",
              "319980           SP           19807  ... 2019-03-25 14:56:00           25.0\n",
              "36810            SP           19807  ... 2019-03-12 15:58:00            9.0\n",
              "71884            SP           19807  ... 2019-03-12 16:14:00           14.0\n",
              "461519           SP           19807  ... 2019-03-15 13:52:00            6.0\n",
              "480455           SP           19807  ... 2019-03-12 15:58:00            9.0\n",
              "260038           SP           19807  ... 2019-03-25 14:56:00           25.0\n",
              "81569            SP           19807  ... 2019-03-28 08:25:00            5.0\n",
              "450093           SP           19807  ... 2019-03-15 13:52:00            6.0\n",
              "449787           SP           19807  ... 2019-03-12 11:27:00            3.0\n",
              "177001           SP           19807  ... 2019-03-12 14:26:00            4.0\n",
              "38923            SP           19807  ... 2019-03-27 15:54:00           14.0\n",
              "333521           SP           19807  ... 2019-03-12 16:14:00           14.0\n",
              "182200           SP           19807  ... 2019-03-21 13:53:00            5.0\n",
              "812              SP           19807  ... 2019-03-28 08:30:00            4.0\n",
              "253280           SP           19807  ... 2019-03-28 08:30:00            4.0\n",
              "195568           SP           19900  ... 2019-03-25 15:21:00            5.0\n",
              "400349           SP           19900  ... 2019-03-25 15:21:00            5.0\n",
              "49138            SP           19911  ... 2019-03-20 09:29:00            9.0\n",
              "134030           SP           19911  ... 2019-03-20 09:29:00            9.0\n",
              "\n",
              "[11839 rows x 12 columns]"
            ]
          },
          "metadata": {
            "tags": []
          },
          "execution_count": 8
        }
      ]
    },
    {
      "cell_type": "markdown",
      "metadata": {
        "id": "yJOJ6ksvzUSb",
        "colab_type": "text"
      },
      "source": [
        "Podemos ver, que si los ordenamos por zipcode, tenemos datos duplicados en todas las columnas."
      ]
    },
    {
      "cell_type": "markdown",
      "metadata": {
        "id": "8DwYOj0KJGEb",
        "colab_type": "text"
      },
      "source": [
        "Tenemos 6469 filas duplicadas, podemos chequear esta cantidad con el siguiente comando:"
      ]
    },
    {
      "cell_type": "code",
      "metadata": {
        "id": "5jqBmxWFJWbs",
        "colab_type": "code",
        "outputId": "d6b0dd2b-fcf8-4266-be15-973d3e8fb5b1",
        "colab": {
          "base_uri": "https://localhost:8080/",
          "height": 34
        }
      },
      "source": [
        "dataset_clean.duplicated().sum()"
      ],
      "execution_count": 0,
      "outputs": [
        {
          "output_type": "execute_result",
          "data": {
            "text/plain": [
              "6469"
            ]
          },
          "metadata": {
            "tags": []
          },
          "execution_count": 9
        }
      ]
    },
    {
      "cell_type": "markdown",
      "metadata": {
        "id": "inYh47MkHZ_k",
        "colab_type": "text"
      },
      "source": [
        "Eliminamos los duplicados:"
      ]
    },
    {
      "cell_type": "code",
      "metadata": {
        "id": "6OXxOj1kHY9t",
        "colab_type": "code",
        "colab": {}
      },
      "source": [
        "dataset_clean = dataset_clean.drop_duplicates()"
      ],
      "execution_count": 0,
      "outputs": []
    },
    {
      "cell_type": "markdown",
      "metadata": {
        "id": "lUD6x7OkIwyq",
        "colab_type": "text"
      },
      "source": [
        "Chequeemos si quedaron duplicados:"
      ]
    },
    {
      "cell_type": "code",
      "metadata": {
        "id": "GoT6yOEOI1Vd",
        "colab_type": "code",
        "outputId": "c1425c63-eb9f-464c-f528-9eaf32152e6c",
        "colab": {
          "base_uri": "https://localhost:8080/",
          "height": 34
        }
      },
      "source": [
        "dataset_clean.duplicated().sum()"
      ],
      "execution_count": 0,
      "outputs": [
        {
          "output_type": "execute_result",
          "data": {
            "text/plain": [
              "0"
            ]
          },
          "metadata": {
            "tags": []
          },
          "execution_count": 12
        }
      ]
    },
    {
      "cell_type": "markdown",
      "metadata": {
        "id": "mkkUHz0Ca1ft",
        "colab_type": "text"
      },
      "source": [
        "En este práctico estariamos eliminando los registros duplicados, pero en los prácticos que siguen no vamos hacer lo mismo ya que no contamos con el total del dataset, solo con un subset."
      ]
    },
    {
      "cell_type": "markdown",
      "metadata": {
        "id": "BDjsbUydJnsc",
        "colab_type": "text"
      },
      "source": [
        "### Análisis de fechas anómalas"
      ]
    },
    {
      "cell_type": "code",
      "metadata": {
        "id": "XNrII0dgKUnz",
        "colab_type": "code",
        "outputId": "4efae520-afd1-4d86-c5c9-fc3ce5f050c6",
        "colab": {
          "base_uri": "https://localhost:8080/",
          "height": 235
        }
      },
      "source": [
        "dataset_clean.describe(include='datetime64')"
      ],
      "execution_count": 0,
      "outputs": [
        {
          "output_type": "execute_result",
          "data": {
            "text/html": [
              "<div>\n",
              "<style scoped>\n",
              "    .dataframe tbody tr th:only-of-type {\n",
              "        vertical-align: middle;\n",
              "    }\n",
              "\n",
              "    .dataframe tbody tr th {\n",
              "        vertical-align: top;\n",
              "    }\n",
              "\n",
              "    .dataframe thead th {\n",
              "        text-align: right;\n",
              "    }\n",
              "</style>\n",
              "<table border=\"1\" class=\"dataframe\">\n",
              "  <thead>\n",
              "    <tr style=\"text-align: right;\">\n",
              "      <th></th>\n",
              "      <th>date_created</th>\n",
              "      <th>date_sent</th>\n",
              "      <th>date_visit</th>\n",
              "    </tr>\n",
              "  </thead>\n",
              "  <tbody>\n",
              "    <tr>\n",
              "      <th>count</th>\n",
              "      <td>492881</td>\n",
              "      <td>492881</td>\n",
              "      <td>492881</td>\n",
              "    </tr>\n",
              "    <tr>\n",
              "      <th>unique</th>\n",
              "      <td>142</td>\n",
              "      <td>81276</td>\n",
              "      <td>55668</td>\n",
              "    </tr>\n",
              "    <tr>\n",
              "      <th>top</th>\n",
              "      <td>2019-03-05 00:00:00</td>\n",
              "      <td>2019-03-11 15:53:00</td>\n",
              "      <td>2019-03-11 22:00:00</td>\n",
              "    </tr>\n",
              "    <tr>\n",
              "      <th>freq</th>\n",
              "      <td>20169</td>\n",
              "      <td>112</td>\n",
              "      <td>607</td>\n",
              "    </tr>\n",
              "    <tr>\n",
              "      <th>first</th>\n",
              "      <td>2018-10-21 00:00:00</td>\n",
              "      <td>2018-10-23 13:57:00</td>\n",
              "      <td>2019-02-25 05:36:00</td>\n",
              "    </tr>\n",
              "    <tr>\n",
              "      <th>last</th>\n",
              "      <td>2019-06-28 00:00:00</td>\n",
              "      <td>2019-03-29 01:46:20</td>\n",
              "      <td>2019-04-02 15:35:00</td>\n",
              "    </tr>\n",
              "  </tbody>\n",
              "</table>\n",
              "</div>"
            ],
            "text/plain": [
              "               date_created            date_sent           date_visit\n",
              "count                492881               492881               492881\n",
              "unique                  142                81276                55668\n",
              "top     2019-03-05 00:00:00  2019-03-11 15:53:00  2019-03-11 22:00:00\n",
              "freq                  20169                  112                  607\n",
              "first   2018-10-21 00:00:00  2018-10-23 13:57:00  2019-02-25 05:36:00\n",
              "last    2019-06-28 00:00:00  2019-03-29 01:46:20  2019-04-02 15:35:00"
            ]
          },
          "metadata": {
            "tags": []
          },
          "execution_count": 13
        }
      ]
    },
    {
      "cell_type": "markdown",
      "metadata": {
        "id": "7YAwOmcKKfcl",
        "colab_type": "text"
      },
      "source": [
        "Observamos lo siguiente:\n",
        "\n",
        "* La variables **date_created** solo tiene 142 valores distintos y no considera horas (todas están seteadas a las 00:00 hs) esto implica que estamos considerando un total de 142 días distintos.\n",
        "* La variable **date_created**  contienen fechas que caen fuera del intervalo temporal considerado (Junio de 2019).\n",
        "* Hay una cierta variabilidad entre los mínimos de las 3 fechas, podría servir analizar los estados de las fechas fuera del periodo de **date_visit** para ver si no son anómalos.\n",
        "* En la variable **date_visit** el dato más frecuente se da a las 22.00 hs, posiblemente fuera del horario de atención de los correos, con lo cual este dato es bastante extraño en un principio. Lo mismo sucede con el horario 05:36.\n",
        "\n",
        "Teniendo en cuenta la problemática que queremos resolver, la primera observación cobra cierto sentido pues el día de creación del envío resulta mucho más importante que la hora en si misma. Además, considerando que la respuesta del problema en un principio debe consistir en dar un intervalo de días, las franjas horarias podrían no ser tenidas en cuenta a priori.\n",
        "\n",
        "Con respecto a la segunda observación podríamos intentar determinar la cantidad de fechas que caen fuera del intervalo Octubre de 2018-Abril de 2019 y al mismo tiempo observar la tendencia a medida que pasan los meses de las variables **date_created**, **date_sent** y **date_visited**."
      ]
    },
    {
      "cell_type": "markdown",
      "metadata": {
        "id": "f4PFkwCxvo3T",
        "colab_type": "text"
      },
      "source": [
        "**Variable date_created**"
      ]
    },
    {
      "cell_type": "code",
      "metadata": {
        "id": "JH6u6_S3Lg-u",
        "colab_type": "code",
        "outputId": "3c82cfc6-3e60-463f-967a-7b6e8d99a56d",
        "colab": {
          "base_uri": "https://localhost:8080/",
          "height": 328
        }
      },
      "source": [
        "created_year = dataset_clean['date_created'].dt.year.rename('year') \n",
        "created_month = dataset_clean['date_created'].dt.month.rename('month') \n",
        "dataset_clean['date_created'].groupby([created_year, \n",
        "                                       created_month]).agg({'count'})"
      ],
      "execution_count": 0,
      "outputs": [
        {
          "output_type": "execute_result",
          "data": {
            "text/html": [
              "<div>\n",
              "<style scoped>\n",
              "    .dataframe tbody tr th:only-of-type {\n",
              "        vertical-align: middle;\n",
              "    }\n",
              "\n",
              "    .dataframe tbody tr th {\n",
              "        vertical-align: top;\n",
              "    }\n",
              "\n",
              "    .dataframe thead th {\n",
              "        text-align: right;\n",
              "    }\n",
              "</style>\n",
              "<table border=\"1\" class=\"dataframe\">\n",
              "  <thead>\n",
              "    <tr style=\"text-align: right;\">\n",
              "      <th></th>\n",
              "      <th></th>\n",
              "      <th>count</th>\n",
              "    </tr>\n",
              "    <tr>\n",
              "      <th>year</th>\n",
              "      <th>month</th>\n",
              "      <th></th>\n",
              "    </tr>\n",
              "  </thead>\n",
              "  <tbody>\n",
              "    <tr>\n",
              "      <th rowspan=\"3\" valign=\"top\">2018</th>\n",
              "      <th>10</th>\n",
              "      <td>1</td>\n",
              "    </tr>\n",
              "    <tr>\n",
              "      <th>11</th>\n",
              "      <td>4</td>\n",
              "    </tr>\n",
              "    <tr>\n",
              "      <th>12</th>\n",
              "      <td>34</td>\n",
              "    </tr>\n",
              "    <tr>\n",
              "      <th rowspan=\"5\" valign=\"top\">2019</th>\n",
              "      <th>1</th>\n",
              "      <td>3696</td>\n",
              "    </tr>\n",
              "    <tr>\n",
              "      <th>2</th>\n",
              "      <td>178777</td>\n",
              "    </tr>\n",
              "    <tr>\n",
              "      <th>3</th>\n",
              "      <td>310247</td>\n",
              "    </tr>\n",
              "    <tr>\n",
              "      <th>4</th>\n",
              "      <td>32</td>\n",
              "    </tr>\n",
              "    <tr>\n",
              "      <th>6</th>\n",
              "      <td>90</td>\n",
              "    </tr>\n",
              "  </tbody>\n",
              "</table>\n",
              "</div>"
            ],
            "text/plain": [
              "             count\n",
              "year month        \n",
              "2018 10          1\n",
              "     11          4\n",
              "     12         34\n",
              "2019 1        3696\n",
              "     2      178777\n",
              "     3      310247\n",
              "     4          32\n",
              "     6          90"
            ]
          },
          "metadata": {
            "tags": []
          },
          "execution_count": 14
        }
      ]
    },
    {
      "cell_type": "markdown",
      "metadata": {
        "id": "7wVj29w4Luy0",
        "colab_type": "text"
      },
      "source": [
        "**Observaciones:**\n",
        "\n",
        "* Tenemos una sola fecha de creación en el mes de octubre y 90 fechas en el mes de Junio  (estas últimas caen  fuera del intervalo temporal considerado).\n",
        "\n",
        "* La mayor concentración en cuanto a fechas de creación de envíos se dió en la franja enero-marzo, donde marzo cuenta con más de la mitad de los datos. \n",
        "\n",
        "**Preguntas y comentarios a tener en cuenta:**\n",
        "\n",
        "1. ¿Es normal que en un intervalo de 6 meses los datos se concentren mayormente en un mes o dos?\n",
        "2. ¿Podemos pensar que los 90 datos  junio de 2019 hayan tenido que ver con errores de carga de los  datos y sean efectivamente datos que se encuentran en el intervalo considerado? ¿O efectivamente serán datos que tenemos que eliminar de nuestro conjunto de análisis?"
      ]
    },
    {
      "cell_type": "markdown",
      "metadata": {
        "id": "PooIDhirg_le",
        "colab_type": "text"
      },
      "source": [
        "Si remalcamos que no contamos con todo el dataset, podemos concluir que si es lógico que tenemos solo datos que estan concentrados en 1 o 2 meses."
      ]
    },
    {
      "cell_type": "markdown",
      "metadata": {
        "id": "0K1XhO07v8Ai",
        "colab_type": "text"
      },
      "source": [
        "**Variable date_sent**"
      ]
    },
    {
      "cell_type": "code",
      "metadata": {
        "id": "befqE82PMeJz",
        "colab_type": "code",
        "outputId": "658eb491-b71c-4be4-ac7b-d4ec1fee99de",
        "colab": {
          "base_uri": "https://localhost:8080/",
          "height": 266
        }
      },
      "source": [
        "sent_year = dataset_clean['date_sent'].dt.year.rename('year') \n",
        "sent_month = dataset_clean['date_sent'].dt.month.rename('month') \n",
        "dataset_clean['date_sent'].groupby([sent_year, \n",
        "                                    sent_month]).agg({'count'})"
      ],
      "execution_count": 0,
      "outputs": [
        {
          "output_type": "execute_result",
          "data": {
            "text/html": [
              "<div>\n",
              "<style scoped>\n",
              "    .dataframe tbody tr th:only-of-type {\n",
              "        vertical-align: middle;\n",
              "    }\n",
              "\n",
              "    .dataframe tbody tr th {\n",
              "        vertical-align: top;\n",
              "    }\n",
              "\n",
              "    .dataframe thead th {\n",
              "        text-align: right;\n",
              "    }\n",
              "</style>\n",
              "<table border=\"1\" class=\"dataframe\">\n",
              "  <thead>\n",
              "    <tr style=\"text-align: right;\">\n",
              "      <th></th>\n",
              "      <th></th>\n",
              "      <th>count</th>\n",
              "    </tr>\n",
              "    <tr>\n",
              "      <th>year</th>\n",
              "      <th>month</th>\n",
              "      <th></th>\n",
              "    </tr>\n",
              "  </thead>\n",
              "  <tbody>\n",
              "    <tr>\n",
              "      <th rowspan=\"3\" valign=\"top\">2018</th>\n",
              "      <th>10</th>\n",
              "      <td>1</td>\n",
              "    </tr>\n",
              "    <tr>\n",
              "      <th>11</th>\n",
              "      <td>2</td>\n",
              "    </tr>\n",
              "    <tr>\n",
              "      <th>12</th>\n",
              "      <td>11</td>\n",
              "    </tr>\n",
              "    <tr>\n",
              "      <th rowspan=\"3\" valign=\"top\">2019</th>\n",
              "      <th>1</th>\n",
              "      <td>2386</td>\n",
              "    </tr>\n",
              "    <tr>\n",
              "      <th>2</th>\n",
              "      <td>150603</td>\n",
              "    </tr>\n",
              "    <tr>\n",
              "      <th>3</th>\n",
              "      <td>339878</td>\n",
              "    </tr>\n",
              "  </tbody>\n",
              "</table>\n",
              "</div>"
            ],
            "text/plain": [
              "             count\n",
              "year month        \n",
              "2018 10          1\n",
              "     11          2\n",
              "     12         11\n",
              "2019 1        2386\n",
              "     2      150603\n",
              "     3      339878"
            ]
          },
          "metadata": {
            "tags": []
          },
          "execution_count": 15
        }
      ]
    },
    {
      "cell_type": "markdown",
      "metadata": {
        "id": "DwhX1dqqMp3G",
        "colab_type": "text"
      },
      "source": [
        "\n",
        "**Observaciones:**\n",
        "\n",
        "No se observan datos fuera del intervalo considerado pero si una gran concentración en el intervalo enero-marzo, así como sucedía con la variable date_created."
      ]
    },
    {
      "cell_type": "markdown",
      "metadata": {
        "id": "z3lyOcPCwKKq",
        "colab_type": "text"
      },
      "source": [
        "**Variable date_visit**"
      ]
    },
    {
      "cell_type": "code",
      "metadata": {
        "id": "Y9oxQ_-XM2Tc",
        "colab_type": "code",
        "outputId": "fd8f8ebc-33a2-43de-f22f-42f73abe5228",
        "colab": {
          "base_uri": "https://localhost:8080/",
          "height": 173
        }
      },
      "source": [
        "visit_year = dataset_clean['date_visit'].dt.year.rename('year') \n",
        "visit_month = dataset_clean['date_visit'].dt.month.rename('month')\n",
        "dataset_clean['date_visit'].groupby([visit_year, visit_month]).agg({'count'})"
      ],
      "execution_count": 0,
      "outputs": [
        {
          "output_type": "execute_result",
          "data": {
            "text/html": [
              "<div>\n",
              "<style scoped>\n",
              "    .dataframe tbody tr th:only-of-type {\n",
              "        vertical-align: middle;\n",
              "    }\n",
              "\n",
              "    .dataframe tbody tr th {\n",
              "        vertical-align: top;\n",
              "    }\n",
              "\n",
              "    .dataframe thead th {\n",
              "        text-align: right;\n",
              "    }\n",
              "</style>\n",
              "<table border=\"1\" class=\"dataframe\">\n",
              "  <thead>\n",
              "    <tr style=\"text-align: right;\">\n",
              "      <th></th>\n",
              "      <th></th>\n",
              "      <th>count</th>\n",
              "    </tr>\n",
              "    <tr>\n",
              "      <th>year</th>\n",
              "      <th>month</th>\n",
              "      <th></th>\n",
              "    </tr>\n",
              "  </thead>\n",
              "  <tbody>\n",
              "    <tr>\n",
              "      <th rowspan=\"3\" valign=\"top\">2019</th>\n",
              "      <th>2</th>\n",
              "      <td>27704</td>\n",
              "    </tr>\n",
              "    <tr>\n",
              "      <th>3</th>\n",
              "      <td>463832</td>\n",
              "    </tr>\n",
              "    <tr>\n",
              "      <th>4</th>\n",
              "      <td>1345</td>\n",
              "    </tr>\n",
              "  </tbody>\n",
              "</table>\n",
              "</div>"
            ],
            "text/plain": [
              "             count\n",
              "year month        \n",
              "2019 2       27704\n",
              "     3      463832\n",
              "     4        1345"
            ]
          },
          "metadata": {
            "tags": []
          },
          "execution_count": 16
        }
      ]
    },
    {
      "cell_type": "markdown",
      "metadata": {
        "id": "G8suLwxtNJSM",
        "colab_type": "text"
      },
      "source": [
        "**Observaciones y preguntas a tener en cuenta**\n",
        "\n",
        "* No se observan datos anómalos en la variable **date_visit** pero no contamos con información en los meses del año 2018.\n",
        "* ¿Qué sucede con los envíos creados y enviados durante 2018? ¿Llegaron a destino?"
      ]
    },
    {
      "cell_type": "markdown",
      "metadata": {
        "id": "hPGsDM8uhiZG",
        "colab_type": "text"
      },
      "source": [
        "En cuanto a la segunda pregunta, remarcamos que no tenemos todo el dataset, sino sólo un subconjuto de este. Por ende no la podemos responder."
      ]
    },
    {
      "cell_type": "markdown",
      "metadata": {
        "id": "MTjTDEszNS_s",
        "colab_type": "text"
      },
      "source": [
        "### Análisis de la variable date_created\n",
        "\n",
        "Ahora vamos a analizar el valor del mes de octubre y las 98 fechas de creación del mes de junio  para ver si encontramos alguna anomalía."
      ]
    },
    {
      "cell_type": "markdown",
      "metadata": {
        "id": "sx3UDxOdDs_G",
        "colab_type": "text"
      },
      "source": [
        "**Octubre 2018**"
      ]
    },
    {
      "cell_type": "code",
      "metadata": {
        "id": "sA5ZZEfxNfWs",
        "colab_type": "code",
        "outputId": "e7fcdc02-45cb-4b32-8a22-81fa35cc35cd",
        "colab": {
          "base_uri": "https://localhost:8080/",
          "height": 134
        }
      },
      "source": [
        "date_created_octubre = dataset_clean['date_created'].map(lambda x: x.month) == 10\n",
        "dataset_clean[date_created_octubre]"
      ],
      "execution_count": 0,
      "outputs": [
        {
          "output_type": "execute_result",
          "data": {
            "text/html": [
              "<div>\n",
              "<style scoped>\n",
              "    .dataframe tbody tr th:only-of-type {\n",
              "        vertical-align: middle;\n",
              "    }\n",
              "\n",
              "    .dataframe tbody tr th {\n",
              "        vertical-align: top;\n",
              "    }\n",
              "\n",
              "    .dataframe thead th {\n",
              "        text-align: right;\n",
              "    }\n",
              "</style>\n",
              "<table border=\"1\" class=\"dataframe\">\n",
              "  <thead>\n",
              "    <tr style=\"text-align: right;\">\n",
              "      <th></th>\n",
              "      <th>sender_state</th>\n",
              "      <th>sender_zipcode</th>\n",
              "      <th>receiver_state</th>\n",
              "      <th>receiver_zipcode</th>\n",
              "      <th>shipment_type</th>\n",
              "      <th>quantity</th>\n",
              "      <th>service</th>\n",
              "      <th>status</th>\n",
              "      <th>date_created</th>\n",
              "      <th>date_sent</th>\n",
              "      <th>date_visit</th>\n",
              "      <th>shipment_days</th>\n",
              "    </tr>\n",
              "  </thead>\n",
              "  <tbody>\n",
              "    <tr>\n",
              "      <th>108620</th>\n",
              "      <td>SP</td>\n",
              "      <td>6220</td>\n",
              "      <td>MA</td>\n",
              "      <td>65470</td>\n",
              "      <td>standard</td>\n",
              "      <td>1</td>\n",
              "      <td>1</td>\n",
              "      <td>failed</td>\n",
              "      <td>2018-10-21</td>\n",
              "      <td>2018-10-23 13:57:00</td>\n",
              "      <td>2019-03-13 16:58:00</td>\n",
              "      <td>90.0</td>\n",
              "    </tr>\n",
              "  </tbody>\n",
              "</table>\n",
              "</div>"
            ],
            "text/plain": [
              "       sender_state  sender_zipcode  ...          date_visit  shipment_days\n",
              "108620           SP            6220  ... 2019-03-13 16:58:00           90.0\n",
              "\n",
              "[1 rows x 12 columns]"
            ]
          },
          "metadata": {
            "tags": []
          },
          "execution_count": 17
        }
      ]
    },
    {
      "cell_type": "markdown",
      "metadata": {
        "id": "KhzyZQU6OAAW",
        "colab_type": "text"
      },
      "source": [
        "Este envío cuenta con información en todas las columnas. Resulta extraño claro que el envío haya tardado 90 días en llegar a destino  lo cual no se corresponde con las fechas en las variables date_sent  y date_visit (octubre y marzo respectivamente). Además 90 días resulta en un valor demasiado grande para la variable shipment_days.\n",
        "\n",
        "Como es un solo dato, a priori decidimos dejarlo. Quizás en un futuro pueda ser descartado."
      ]
    },
    {
      "cell_type": "markdown",
      "metadata": {
        "id": "G5rs91X3FDCB",
        "colab_type": "text"
      },
      "source": [
        "**Junio de 2019**"
      ]
    },
    {
      "cell_type": "code",
      "metadata": {
        "id": "RK3hJRgsOjQ9",
        "colab_type": "code",
        "outputId": "55dad230-5922-4569-8263-bb455ffc1b1d",
        "colab": {
          "base_uri": "https://localhost:8080/",
          "height": 719
        }
      },
      "source": [
        "date_created_junio = dataset_clean['date_created'].map(lambda x: x.month) == 6\n",
        "dataset_clean[date_created_junio].sample(10)"
      ],
      "execution_count": 0,
      "outputs": [
        {
          "output_type": "execute_result",
          "data": {
            "text/html": [
              "<div>\n",
              "<style scoped>\n",
              "    .dataframe tbody tr th:only-of-type {\n",
              "        vertical-align: middle;\n",
              "    }\n",
              "\n",
              "    .dataframe tbody tr th {\n",
              "        vertical-align: top;\n",
              "    }\n",
              "\n",
              "    .dataframe thead th {\n",
              "        text-align: right;\n",
              "    }\n",
              "</style>\n",
              "<table border=\"1\" class=\"dataframe\">\n",
              "  <thead>\n",
              "    <tr style=\"text-align: right;\">\n",
              "      <th></th>\n",
              "      <th>sender_state</th>\n",
              "      <th>sender_zipcode</th>\n",
              "      <th>receiver_state</th>\n",
              "      <th>receiver_zipcode</th>\n",
              "      <th>shipment_type</th>\n",
              "      <th>quantity</th>\n",
              "      <th>service</th>\n",
              "      <th>status</th>\n",
              "      <th>date_created</th>\n",
              "      <th>date_sent</th>\n",
              "      <th>date_visit</th>\n",
              "      <th>shipment_days</th>\n",
              "    </tr>\n",
              "  </thead>\n",
              "  <tbody>\n",
              "    <tr>\n",
              "      <th>155665</th>\n",
              "      <td>SP</td>\n",
              "      <td>1224</td>\n",
              "      <td>SP</td>\n",
              "      <td>14940</td>\n",
              "      <td>standard</td>\n",
              "      <td>1</td>\n",
              "      <td>4</td>\n",
              "      <td>done</td>\n",
              "      <td>2019-06-25</td>\n",
              "      <td>2019-02-06 11:59:00</td>\n",
              "      <td>2019-03-01 11:02:00</td>\n",
              "      <td>17.0</td>\n",
              "    </tr>\n",
              "    <tr>\n",
              "      <th>132631</th>\n",
              "      <td>SP</td>\n",
              "      <td>16204</td>\n",
              "      <td>RJ</td>\n",
              "      <td>20050</td>\n",
              "      <td>standard</td>\n",
              "      <td>1</td>\n",
              "      <td>7</td>\n",
              "      <td>done</td>\n",
              "      <td>2019-06-27</td>\n",
              "      <td>2019-02-06 06:21:00</td>\n",
              "      <td>2019-03-01 18:01:00</td>\n",
              "      <td>17.0</td>\n",
              "    </tr>\n",
              "    <tr>\n",
              "      <th>476406</th>\n",
              "      <td>SP</td>\n",
              "      <td>3106</td>\n",
              "      <td>SP</td>\n",
              "      <td>13212</td>\n",
              "      <td>express</td>\n",
              "      <td>2</td>\n",
              "      <td>7</td>\n",
              "      <td>done</td>\n",
              "      <td>2019-06-27</td>\n",
              "      <td>2019-02-06 05:24:00</td>\n",
              "      <td>2019-03-01 06:40:00</td>\n",
              "      <td>17.0</td>\n",
              "    </tr>\n",
              "    <tr>\n",
              "      <th>406223</th>\n",
              "      <td>SP</td>\n",
              "      <td>13466</td>\n",
              "      <td>CE</td>\n",
              "      <td>60311</td>\n",
              "      <td>standard</td>\n",
              "      <td>1</td>\n",
              "      <td>7</td>\n",
              "      <td>done</td>\n",
              "      <td>2019-06-18</td>\n",
              "      <td>2019-03-06 10:07:00</td>\n",
              "      <td>2019-03-07 10:10:00</td>\n",
              "      <td>0.0</td>\n",
              "    </tr>\n",
              "    <tr>\n",
              "      <th>247953</th>\n",
              "      <td>SP</td>\n",
              "      <td>3974</td>\n",
              "      <td>DF</td>\n",
              "      <td>70040</td>\n",
              "      <td>express</td>\n",
              "      <td>1</td>\n",
              "      <td>7</td>\n",
              "      <td>done</td>\n",
              "      <td>2019-06-26</td>\n",
              "      <td>2019-03-06 04:08:00</td>\n",
              "      <td>2019-03-07 17:47:00</td>\n",
              "      <td>0.0</td>\n",
              "    </tr>\n",
              "    <tr>\n",
              "      <th>448671</th>\n",
              "      <td>SP</td>\n",
              "      <td>2180</td>\n",
              "      <td>RJ</td>\n",
              "      <td>22040</td>\n",
              "      <td>standard</td>\n",
              "      <td>2</td>\n",
              "      <td>7</td>\n",
              "      <td>done</td>\n",
              "      <td>2019-06-28</td>\n",
              "      <td>2019-01-06 19:46:00</td>\n",
              "      <td>2019-03-01 11:19:00</td>\n",
              "      <td>38.0</td>\n",
              "    </tr>\n",
              "    <tr>\n",
              "      <th>320903</th>\n",
              "      <td>SP</td>\n",
              "      <td>7429</td>\n",
              "      <td>ES</td>\n",
              "      <td>29046</td>\n",
              "      <td>express</td>\n",
              "      <td>1</td>\n",
              "      <td>7</td>\n",
              "      <td>done</td>\n",
              "      <td>2019-06-26</td>\n",
              "      <td>2019-02-06 05:05:00</td>\n",
              "      <td>2019-03-01 08:24:00</td>\n",
              "      <td>17.0</td>\n",
              "    </tr>\n",
              "    <tr>\n",
              "      <th>195883</th>\n",
              "      <td>SP</td>\n",
              "      <td>2460</td>\n",
              "      <td>CE</td>\n",
              "      <td>60347</td>\n",
              "      <td>standard</td>\n",
              "      <td>1</td>\n",
              "      <td>7</td>\n",
              "      <td>done</td>\n",
              "      <td>2019-06-14</td>\n",
              "      <td>2019-03-06 10:07:00</td>\n",
              "      <td>2019-03-07 10:10:00</td>\n",
              "      <td>0.0</td>\n",
              "    </tr>\n",
              "    <tr>\n",
              "      <th>154428</th>\n",
              "      <td>SP</td>\n",
              "      <td>9060</td>\n",
              "      <td>RJ</td>\n",
              "      <td>28148</td>\n",
              "      <td>standard</td>\n",
              "      <td>1</td>\n",
              "      <td>7</td>\n",
              "      <td>done</td>\n",
              "      <td>2019-06-21</td>\n",
              "      <td>2019-02-06 12:54:00</td>\n",
              "      <td>2019-03-01 10:00:00</td>\n",
              "      <td>17.0</td>\n",
              "    </tr>\n",
              "    <tr>\n",
              "      <th>492207</th>\n",
              "      <td>SP</td>\n",
              "      <td>9090</td>\n",
              "      <td>AM</td>\n",
              "      <td>69088</td>\n",
              "      <td>standard</td>\n",
              "      <td>1</td>\n",
              "      <td>10</td>\n",
              "      <td>failed</td>\n",
              "      <td>2019-06-02</td>\n",
              "      <td>2019-03-06 06:48:00</td>\n",
              "      <td>2019-03-07 15:25:00</td>\n",
              "      <td>0.0</td>\n",
              "    </tr>\n",
              "  </tbody>\n",
              "</table>\n",
              "</div>"
            ],
            "text/plain": [
              "       sender_state  sender_zipcode  ...          date_visit  shipment_days\n",
              "155665           SP            1224  ... 2019-03-01 11:02:00           17.0\n",
              "132631           SP           16204  ... 2019-03-01 18:01:00           17.0\n",
              "476406           SP            3106  ... 2019-03-01 06:40:00           17.0\n",
              "406223           SP           13466  ... 2019-03-07 10:10:00            0.0\n",
              "247953           SP            3974  ... 2019-03-07 17:47:00            0.0\n",
              "448671           SP            2180  ... 2019-03-01 11:19:00           38.0\n",
              "320903           SP            7429  ... 2019-03-01 08:24:00           17.0\n",
              "195883           SP            2460  ... 2019-03-07 10:10:00            0.0\n",
              "154428           SP            9060  ... 2019-03-01 10:00:00           17.0\n",
              "492207           SP            9090  ... 2019-03-07 15:25:00            0.0\n",
              "\n",
              "[10 rows x 12 columns]"
            ]
          },
          "metadata": {
            "tags": []
          },
          "execution_count": 18
        }
      ]
    },
    {
      "cell_type": "markdown",
      "metadata": {
        "id": "3fz2tv_CO0Nt",
        "colab_type": "text"
      },
      "source": [
        "Si bien estos datos caen fuera de los supuestos en cuanto a que la fecha de creación debe ser anterior a la fecha de envío, la inspección de los datos de arriba nos inclina a pensar que los datos con fecha de creación en junio de 2019 en realidad corresponden a datos del mes de enero del mismo año. Esta suposición se basa en que las fechas de las variables **date_sent** y **date_visit** muestran una cierta coherencia entre sí y con la variable **shipment_days**. \n",
        "\n",
        "Esta hipótesis plantea la disyuntiva de si esta información debe ser eliminada o si las fechas de creación de junio deben ser modificadas poniendo en su lugar enero de 2019.\n",
        "\n",
        "Si uno se guía por los datos \"como vienen\" la primera opción sería eliminar estas filas (ya que la cantidad de las mismas no afectaría a la cantidad total). Sin embargo podemos tomar la jugada arriesgada y \"modificar\" nuestros datos subsanando de esta manera un posible error producido durante la carga de los datos. Creemos que para un análisis en un futuro cercano podemos imputar los datos de creación de junio poniéndoles fecha de enero."
      ]
    },
    {
      "cell_type": "markdown",
      "metadata": {
        "id": "6ubDrtQTRakk",
        "colab_type": "text"
      },
      "source": [
        "### Encoding la variable categórica receiver_state"
      ]
    },
    {
      "cell_type": "markdown",
      "metadata": {
        "id": "wG4bE_gKRde0",
        "colab_type": "text"
      },
      "source": [
        "**LabelEncoder**\n",
        "\n",
        "LabelEncoder codifica datos categóricos asignandole un valor numérico desde 0 a n (donde n es la cantidad de datos). De esta manera establece una escala de importancia entre los mismos lo cual no siempre es adecuado."
      ]
    },
    {
      "cell_type": "code",
      "metadata": {
        "id": "NUyiozakRrU0",
        "colab_type": "code",
        "outputId": "41a834c5-1e0a-4cb2-e55c-333312206118",
        "colab": {
          "base_uri": "https://localhost:8080/",
          "height": 34
        }
      },
      "source": [
        "receiver_state_le = 'receiver_state'\n",
        "# Create a label (category) encoder object\n",
        "le = preprocessing.LabelEncoder()\n",
        "# Fit the encoder to the pandas column\n",
        "le.fit(dataset_clean[receiver_state_le])"
      ],
      "execution_count": 0,
      "outputs": [
        {
          "output_type": "execute_result",
          "data": {
            "text/plain": [
              "LabelEncoder()"
            ]
          },
          "metadata": {
            "tags": []
          },
          "execution_count": 26
        }
      ]
    },
    {
      "cell_type": "code",
      "metadata": {
        "id": "sq0oj5zzR06U",
        "colab_type": "code",
        "outputId": "b2baf9d8-63c5-4afe-a36f-5dfd8cdc01d5",
        "colab": {
          "base_uri": "https://localhost:8080/",
          "height": 476
        }
      },
      "source": [
        "# View encoder mapping\n",
        "dict(zip(le.classes_,le.transform(le.classes_)))"
      ],
      "execution_count": 0,
      "outputs": [
        {
          "output_type": "execute_result",
          "data": {
            "text/plain": [
              "{'AC': 0,\n",
              " 'AL': 1,\n",
              " 'AM': 2,\n",
              " 'AP': 3,\n",
              " 'BA': 4,\n",
              " 'CE': 5,\n",
              " 'DF': 6,\n",
              " 'ES': 7,\n",
              " 'GO': 8,\n",
              " 'MA': 9,\n",
              " 'MG': 10,\n",
              " 'MS': 11,\n",
              " 'MT': 12,\n",
              " 'PA': 13,\n",
              " 'PB': 14,\n",
              " 'PE': 15,\n",
              " 'PI': 16,\n",
              " 'PR': 17,\n",
              " 'RJ': 18,\n",
              " 'RN': 19,\n",
              " 'RO': 20,\n",
              " 'RR': 21,\n",
              " 'RS': 22,\n",
              " 'SC': 23,\n",
              " 'SE': 24,\n",
              " 'SP': 25,\n",
              " 'TO': 26}"
            ]
          },
          "metadata": {
            "tags": []
          },
          "execution_count": 27
        }
      ]
    },
    {
      "cell_type": "markdown",
      "metadata": {
        "id": "V_PCAMAjHNLd",
        "colab_type": "text"
      },
      "source": [
        "De acuerdo al encoding anterior San Pablo (número 25) resulta un estado más importante que Minas Gerais (número 10)."
      ]
    },
    {
      "cell_type": "code",
      "metadata": {
        "id": "vuL-ukM7EOJ2",
        "colab_type": "code",
        "outputId": "06f5ec14-365a-416e-e4b4-22a660ceca52",
        "colab": {
          "base_uri": "https://localhost:8080/",
          "height": 394
        }
      },
      "source": [
        "dataset_clean['receiver_state_le'] = le.transform(\n",
        "                                      dataset_clean[receiver_state_le]) \n",
        "dataset_clean.sample(5)"
      ],
      "execution_count": 0,
      "outputs": [
        {
          "output_type": "execute_result",
          "data": {
            "text/html": [
              "<div>\n",
              "<style scoped>\n",
              "    .dataframe tbody tr th:only-of-type {\n",
              "        vertical-align: middle;\n",
              "    }\n",
              "\n",
              "    .dataframe tbody tr th {\n",
              "        vertical-align: top;\n",
              "    }\n",
              "\n",
              "    .dataframe thead th {\n",
              "        text-align: right;\n",
              "    }\n",
              "</style>\n",
              "<table border=\"1\" class=\"dataframe\">\n",
              "  <thead>\n",
              "    <tr style=\"text-align: right;\">\n",
              "      <th></th>\n",
              "      <th>sender_state</th>\n",
              "      <th>sender_zipcode</th>\n",
              "      <th>receiver_state</th>\n",
              "      <th>receiver_zipcode</th>\n",
              "      <th>shipment_type</th>\n",
              "      <th>quantity</th>\n",
              "      <th>service</th>\n",
              "      <th>status</th>\n",
              "      <th>date_created</th>\n",
              "      <th>date_sent</th>\n",
              "      <th>date_visit</th>\n",
              "      <th>shipment_days</th>\n",
              "      <th>receiver_state_le</th>\n",
              "    </tr>\n",
              "  </thead>\n",
              "  <tbody>\n",
              "    <tr>\n",
              "      <th>122268</th>\n",
              "      <td>SP</td>\n",
              "      <td>4087</td>\n",
              "      <td>SP</td>\n",
              "      <td>5415</td>\n",
              "      <td>express</td>\n",
              "      <td>5</td>\n",
              "      <td>0</td>\n",
              "      <td>done</td>\n",
              "      <td>2019-03-07</td>\n",
              "      <td>2019-03-12 14:32:00</td>\n",
              "      <td>2019-03-18 14:42:00</td>\n",
              "      <td>4.0</td>\n",
              "      <td>25</td>\n",
              "    </tr>\n",
              "    <tr>\n",
              "      <th>46150</th>\n",
              "      <td>SP</td>\n",
              "      <td>15910</td>\n",
              "      <td>SC</td>\n",
              "      <td>88036</td>\n",
              "      <td>express</td>\n",
              "      <td>1</td>\n",
              "      <td>4</td>\n",
              "      <td>done</td>\n",
              "      <td>2019-03-03</td>\n",
              "      <td>2019-03-05 20:48:47</td>\n",
              "      <td>2019-03-12 14:54:00</td>\n",
              "      <td>3.0</td>\n",
              "      <td>23</td>\n",
              "    </tr>\n",
              "    <tr>\n",
              "      <th>261689</th>\n",
              "      <td>SP</td>\n",
              "      <td>12324</td>\n",
              "      <td>SP</td>\n",
              "      <td>12244</td>\n",
              "      <td>express</td>\n",
              "      <td>1</td>\n",
              "      <td>0</td>\n",
              "      <td>done</td>\n",
              "      <td>2019-03-25</td>\n",
              "      <td>2019-03-26 14:54:00</td>\n",
              "      <td>2019-03-27 11:45:00</td>\n",
              "      <td>1.0</td>\n",
              "      <td>25</td>\n",
              "    </tr>\n",
              "    <tr>\n",
              "      <th>486333</th>\n",
              "      <td>SP</td>\n",
              "      <td>13213</td>\n",
              "      <td>SP</td>\n",
              "      <td>18650</td>\n",
              "      <td>express</td>\n",
              "      <td>1</td>\n",
              "      <td>6</td>\n",
              "      <td>done</td>\n",
              "      <td>2019-02-25</td>\n",
              "      <td>2019-02-28 08:37:45</td>\n",
              "      <td>2019-03-01 09:48:52</td>\n",
              "      <td>1.0</td>\n",
              "      <td>25</td>\n",
              "    </tr>\n",
              "    <tr>\n",
              "      <th>1989</th>\n",
              "      <td>SP</td>\n",
              "      <td>2313</td>\n",
              "      <td>PB</td>\n",
              "      <td>58410</td>\n",
              "      <td>standard</td>\n",
              "      <td>1</td>\n",
              "      <td>1</td>\n",
              "      <td>done</td>\n",
              "      <td>2019-03-12</td>\n",
              "      <td>2019-03-13 15:57:00</td>\n",
              "      <td>2019-03-26 15:58:00</td>\n",
              "      <td>9.0</td>\n",
              "      <td>14</td>\n",
              "    </tr>\n",
              "  </tbody>\n",
              "</table>\n",
              "</div>"
            ],
            "text/plain": [
              "       sender_state  sender_zipcode  ... shipment_days  receiver_state_le\n",
              "122268           SP            4087  ...           4.0                 25\n",
              "46150            SP           15910  ...           3.0                 23\n",
              "261689           SP           12324  ...           1.0                 25\n",
              "486333           SP           13213  ...           1.0                 25\n",
              "1989             SP            2313  ...           9.0                 14\n",
              "\n",
              "[5 rows x 13 columns]"
            ]
          },
          "metadata": {
            "tags": []
          },
          "execution_count": 28
        }
      ]
    },
    {
      "cell_type": "markdown",
      "metadata": {
        "id": "MfwCBHKaR7PU",
        "colab_type": "text"
      },
      "source": [
        "**OneHotEncoding**\n",
        "\n",
        "Este encoding convierte cada valor de categoría en una nueva columna y asigna un valor de 1 ó 0 a la columna. A diferencia del anterior no establece una escala de importancia entre las variables categóricas, sin embargo agrega más columnas al conjunto de datos que en nuestro caso serían 27!!"
      ]
    },
    {
      "cell_type": "code",
      "metadata": {
        "id": "0X2Dlh8GSLKm",
        "colab_type": "code",
        "outputId": "3dc1498b-8908-42ce-a0c8-33ac39f86003",
        "colab": {
          "base_uri": "https://localhost:8080/",
          "height": 394
        }
      },
      "source": [
        "dataset_ohe = pandas.get_dummies(dataset_clean, columns=[\"receiver_state\"])\n",
        "dataset_ohe.head()"
      ],
      "execution_count": 0,
      "outputs": [
        {
          "output_type": "execute_result",
          "data": {
            "text/html": [
              "<div>\n",
              "<style scoped>\n",
              "    .dataframe tbody tr th:only-of-type {\n",
              "        vertical-align: middle;\n",
              "    }\n",
              "\n",
              "    .dataframe tbody tr th {\n",
              "        vertical-align: top;\n",
              "    }\n",
              "\n",
              "    .dataframe thead th {\n",
              "        text-align: right;\n",
              "    }\n",
              "</style>\n",
              "<table border=\"1\" class=\"dataframe\">\n",
              "  <thead>\n",
              "    <tr style=\"text-align: right;\">\n",
              "      <th></th>\n",
              "      <th>sender_state</th>\n",
              "      <th>sender_zipcode</th>\n",
              "      <th>receiver_zipcode</th>\n",
              "      <th>shipment_type</th>\n",
              "      <th>quantity</th>\n",
              "      <th>service</th>\n",
              "      <th>status</th>\n",
              "      <th>date_created</th>\n",
              "      <th>date_sent</th>\n",
              "      <th>date_visit</th>\n",
              "      <th>shipment_days</th>\n",
              "      <th>receiver_state_le</th>\n",
              "      <th>receiver_state_AC</th>\n",
              "      <th>receiver_state_AL</th>\n",
              "      <th>receiver_state_AM</th>\n",
              "      <th>receiver_state_AP</th>\n",
              "      <th>receiver_state_BA</th>\n",
              "      <th>receiver_state_CE</th>\n",
              "      <th>receiver_state_DF</th>\n",
              "      <th>receiver_state_ES</th>\n",
              "      <th>receiver_state_GO</th>\n",
              "      <th>receiver_state_MA</th>\n",
              "      <th>receiver_state_MG</th>\n",
              "      <th>receiver_state_MS</th>\n",
              "      <th>receiver_state_MT</th>\n",
              "      <th>receiver_state_PA</th>\n",
              "      <th>receiver_state_PB</th>\n",
              "      <th>receiver_state_PE</th>\n",
              "      <th>receiver_state_PI</th>\n",
              "      <th>receiver_state_PR</th>\n",
              "      <th>receiver_state_RJ</th>\n",
              "      <th>receiver_state_RN</th>\n",
              "      <th>receiver_state_RO</th>\n",
              "      <th>receiver_state_RR</th>\n",
              "      <th>receiver_state_RS</th>\n",
              "      <th>receiver_state_SC</th>\n",
              "      <th>receiver_state_SE</th>\n",
              "      <th>receiver_state_SP</th>\n",
              "      <th>receiver_state_TO</th>\n",
              "    </tr>\n",
              "  </thead>\n",
              "  <tbody>\n",
              "    <tr>\n",
              "      <th>0</th>\n",
              "      <td>SP</td>\n",
              "      <td>1039</td>\n",
              "      <td>14500</td>\n",
              "      <td>standard</td>\n",
              "      <td>1</td>\n",
              "      <td>1</td>\n",
              "      <td>done</td>\n",
              "      <td>2019-03-10</td>\n",
              "      <td>2019-03-11 14:34:00</td>\n",
              "      <td>2019-03-18 09:52:00</td>\n",
              "      <td>5.0</td>\n",
              "      <td>25</td>\n",
              "      <td>0</td>\n",
              "      <td>0</td>\n",
              "      <td>0</td>\n",
              "      <td>0</td>\n",
              "      <td>0</td>\n",
              "      <td>0</td>\n",
              "      <td>0</td>\n",
              "      <td>0</td>\n",
              "      <td>0</td>\n",
              "      <td>0</td>\n",
              "      <td>0</td>\n",
              "      <td>0</td>\n",
              "      <td>0</td>\n",
              "      <td>0</td>\n",
              "      <td>0</td>\n",
              "      <td>0</td>\n",
              "      <td>0</td>\n",
              "      <td>0</td>\n",
              "      <td>0</td>\n",
              "      <td>0</td>\n",
              "      <td>0</td>\n",
              "      <td>0</td>\n",
              "      <td>0</td>\n",
              "      <td>0</td>\n",
              "      <td>0</td>\n",
              "      <td>1</td>\n",
              "      <td>0</td>\n",
              "    </tr>\n",
              "    <tr>\n",
              "      <th>1</th>\n",
              "      <td>SP</td>\n",
              "      <td>3004</td>\n",
              "      <td>58670</td>\n",
              "      <td>standard</td>\n",
              "      <td>1</td>\n",
              "      <td>1</td>\n",
              "      <td>done</td>\n",
              "      <td>2019-03-08</td>\n",
              "      <td>2019-03-09 10:48:00</td>\n",
              "      <td>2019-03-18 15:16:00</td>\n",
              "      <td>5.0</td>\n",
              "      <td>14</td>\n",
              "      <td>0</td>\n",
              "      <td>0</td>\n",
              "      <td>0</td>\n",
              "      <td>0</td>\n",
              "      <td>0</td>\n",
              "      <td>0</td>\n",
              "      <td>0</td>\n",
              "      <td>0</td>\n",
              "      <td>0</td>\n",
              "      <td>0</td>\n",
              "      <td>0</td>\n",
              "      <td>0</td>\n",
              "      <td>0</td>\n",
              "      <td>0</td>\n",
              "      <td>1</td>\n",
              "      <td>0</td>\n",
              "      <td>0</td>\n",
              "      <td>0</td>\n",
              "      <td>0</td>\n",
              "      <td>0</td>\n",
              "      <td>0</td>\n",
              "      <td>0</td>\n",
              "      <td>0</td>\n",
              "      <td>0</td>\n",
              "      <td>0</td>\n",
              "      <td>0</td>\n",
              "      <td>0</td>\n",
              "    </tr>\n",
              "    <tr>\n",
              "      <th>2</th>\n",
              "      <td>SP</td>\n",
              "      <td>3262</td>\n",
              "      <td>22723</td>\n",
              "      <td>standard</td>\n",
              "      <td>1</td>\n",
              "      <td>2</td>\n",
              "      <td>done</td>\n",
              "      <td>2019-02-21</td>\n",
              "      <td>2019-02-23 02:02:16</td>\n",
              "      <td>2019-03-01 21:27:00</td>\n",
              "      <td>4.0</td>\n",
              "      <td>18</td>\n",
              "      <td>0</td>\n",
              "      <td>0</td>\n",
              "      <td>0</td>\n",
              "      <td>0</td>\n",
              "      <td>0</td>\n",
              "      <td>0</td>\n",
              "      <td>0</td>\n",
              "      <td>0</td>\n",
              "      <td>0</td>\n",
              "      <td>0</td>\n",
              "      <td>0</td>\n",
              "      <td>0</td>\n",
              "      <td>0</td>\n",
              "      <td>0</td>\n",
              "      <td>0</td>\n",
              "      <td>0</td>\n",
              "      <td>0</td>\n",
              "      <td>0</td>\n",
              "      <td>1</td>\n",
              "      <td>0</td>\n",
              "      <td>0</td>\n",
              "      <td>0</td>\n",
              "      <td>0</td>\n",
              "      <td>0</td>\n",
              "      <td>0</td>\n",
              "      <td>0</td>\n",
              "      <td>0</td>\n",
              "    </tr>\n",
              "    <tr>\n",
              "      <th>3</th>\n",
              "      <td>SP</td>\n",
              "      <td>12237</td>\n",
              "      <td>18682</td>\n",
              "      <td>standard</td>\n",
              "      <td>1</td>\n",
              "      <td>2</td>\n",
              "      <td>done</td>\n",
              "      <td>2019-02-25</td>\n",
              "      <td>2019-02-28 03:05:36</td>\n",
              "      <td>2019-03-07 15:01:00</td>\n",
              "      <td>2.0</td>\n",
              "      <td>25</td>\n",
              "      <td>0</td>\n",
              "      <td>0</td>\n",
              "      <td>0</td>\n",
              "      <td>0</td>\n",
              "      <td>0</td>\n",
              "      <td>0</td>\n",
              "      <td>0</td>\n",
              "      <td>0</td>\n",
              "      <td>0</td>\n",
              "      <td>0</td>\n",
              "      <td>0</td>\n",
              "      <td>0</td>\n",
              "      <td>0</td>\n",
              "      <td>0</td>\n",
              "      <td>0</td>\n",
              "      <td>0</td>\n",
              "      <td>0</td>\n",
              "      <td>0</td>\n",
              "      <td>0</td>\n",
              "      <td>0</td>\n",
              "      <td>0</td>\n",
              "      <td>0</td>\n",
              "      <td>0</td>\n",
              "      <td>0</td>\n",
              "      <td>0</td>\n",
              "      <td>1</td>\n",
              "      <td>0</td>\n",
              "    </tr>\n",
              "    <tr>\n",
              "      <th>4</th>\n",
              "      <td>SP</td>\n",
              "      <td>9350</td>\n",
              "      <td>68908</td>\n",
              "      <td>standard</td>\n",
              "      <td>1</td>\n",
              "      <td>1</td>\n",
              "      <td>done</td>\n",
              "      <td>2019-02-15</td>\n",
              "      <td>2019-02-15 11:28:00</td>\n",
              "      <td>2019-03-11 13:18:00</td>\n",
              "      <td>13.0</td>\n",
              "      <td>3</td>\n",
              "      <td>0</td>\n",
              "      <td>0</td>\n",
              "      <td>0</td>\n",
              "      <td>1</td>\n",
              "      <td>0</td>\n",
              "      <td>0</td>\n",
              "      <td>0</td>\n",
              "      <td>0</td>\n",
              "      <td>0</td>\n",
              "      <td>0</td>\n",
              "      <td>0</td>\n",
              "      <td>0</td>\n",
              "      <td>0</td>\n",
              "      <td>0</td>\n",
              "      <td>0</td>\n",
              "      <td>0</td>\n",
              "      <td>0</td>\n",
              "      <td>0</td>\n",
              "      <td>0</td>\n",
              "      <td>0</td>\n",
              "      <td>0</td>\n",
              "      <td>0</td>\n",
              "      <td>0</td>\n",
              "      <td>0</td>\n",
              "      <td>0</td>\n",
              "      <td>0</td>\n",
              "      <td>0</td>\n",
              "    </tr>\n",
              "  </tbody>\n",
              "</table>\n",
              "</div>"
            ],
            "text/plain": [
              "  sender_state  sender_zipcode  ...  receiver_state_SP receiver_state_TO\n",
              "0           SP            1039  ...                  1                 0\n",
              "1           SP            3004  ...                  0                 0\n",
              "2           SP            3262  ...                  0                 0\n",
              "3           SP           12237  ...                  1                 0\n",
              "4           SP            9350  ...                  0                 0\n",
              "\n",
              "[5 rows x 39 columns]"
            ]
          },
          "metadata": {
            "tags": []
          },
          "execution_count": 26
        }
      ]
    },
    {
      "cell_type": "markdown",
      "metadata": {
        "id": "UkzvWWVnShqe",
        "colab_type": "text"
      },
      "source": [
        "### ¿Cuándo llega?: Features más importantes\n",
        "\n",
        "Uno de los objetivos principales de nuestro análisis es predecir (dar un número aproximado de días hábiles) de cuanto va a tardar en llegar un envío desde que el correo despacha el paquete hasta que llega a la casa del cliente. Por lo tanto, queremos predecir el feature **shipment_days**.\n",
        "\n",
        "Frente a este problema consideramos que el estado de Brasil que recibe el envío (**receiver_state**) asi como su código postal (**receiver_zipcode**) son features importante a tener en cuenta (mientras más lejos esté de San Pablo probablemente demore más).  Por otro lado, el tipo de correo (**service**) también puede ser una variable importante a tener en cuenta porque la calidad de servicio impactará directamente en los días que tarda en llegar el pedido. Features como **sender_state** o **quantity** pueden no ser relevantes en un principio dado que todos los envíos del dataset salen de San Pablo y la predicción es independiente de la cantidad de items dentro de un paquete. Los features de tipo fecha quizás cobren importancia en el entrenamiento de los modelos más adelante."
      ]
    },
    {
      "cell_type": "markdown",
      "metadata": {
        "id": "ttALEKBOS3-9",
        "colab_type": "text"
      },
      "source": [
        "### Aplicando un modelo KKN a nuestros datos\n",
        "\n",
        "Nos interesa determinar si un envío llegará entre 0-1 días, 2-3 días, 4-5 días, 6-7 días, 8-9 días ó 10 o más días para ello separaremos la variable **shipment_days** en clases."
      ]
    },
    {
      "cell_type": "code",
      "metadata": {
        "id": "7xaRzIJRTLCk",
        "colab_type": "code",
        "colab": {}
      },
      "source": [
        "shipment_days = dataset_clean['shipment_days']\n",
        "shipment_days_byclass= [None] * len(shipment_days)\n",
        "for line,row in enumerate(shipment_days):\n",
        "    if row in (0,1):\n",
        "        shipment_days_byclass[line]='0-1 dias'\n",
        "    elif row in (2,3):\n",
        "        shipment_days_byclass[line] = '2-3 dias'            \n",
        "    elif row in (4,5):\n",
        "        shipment_days_byclass[line] = '4-5 dias'\n",
        "    elif row in (6,7):\n",
        "        shipment_days_byclass[line] = '6-7 dias'\n",
        "    elif row in (8,9):\n",
        "        shipment_days_byclass[line] = '8-9 dias'\n",
        "    else:\n",
        "        shipment_days_byclass[line] = '10 o mas dias'"
      ],
      "execution_count": 0,
      "outputs": []
    },
    {
      "cell_type": "code",
      "metadata": {
        "id": "9HwL3gP0TUGF",
        "colab_type": "code",
        "outputId": "476a30ac-794d-4274-eb9e-5d5c101e29a9",
        "colab": {
          "base_uri": "https://localhost:8080/"
        }
      },
      "source": [
        "dataset_clean['shipment_days_byclass'] = shipment_days_byclass"
      ],
      "execution_count": 0,
      "outputs": [
        {
          "output_type": "error",
          "ename": "NameError",
          "evalue": "ignored",
          "traceback": [
            "\u001b[0;31m---------------------------------------------------------------------------\u001b[0m",
            "\u001b[0;31mNameError\u001b[0m                                 Traceback (most recent call last)",
            "\u001b[0;32m<ipython-input-1-b11cf606fe23>\u001b[0m in \u001b[0;36m<module>\u001b[0;34m()\u001b[0m\n\u001b[0;32m----> 1\u001b[0;31m \u001b[0mdataset_clean\u001b[0m\u001b[0;34m[\u001b[0m\u001b[0;34m'shipment_days_byclass'\u001b[0m\u001b[0;34m]\u001b[0m \u001b[0;34m=\u001b[0m \u001b[0mshipment_days_byclass\u001b[0m\u001b[0;34m\u001b[0m\u001b[0;34m\u001b[0m\u001b[0m\n\u001b[0m",
            "\u001b[0;31mNameError\u001b[0m: name 'shipment_days_byclass' is not defined"
          ]
        }
      ]
    },
    {
      "cell_type": "code",
      "metadata": {
        "id": "eaE-qmuJTZ1x",
        "colab_type": "code",
        "outputId": "08af7f1f-2e71-4bb0-a233-4cb616dee020",
        "colab": {
          "base_uri": "https://localhost:8080/",
          "height": 459
        }
      },
      "source": [
        "dataset_clean.sample(6)"
      ],
      "execution_count": 0,
      "outputs": [
        {
          "output_type": "execute_result",
          "data": {
            "text/html": [
              "<div>\n",
              "<style scoped>\n",
              "    .dataframe tbody tr th:only-of-type {\n",
              "        vertical-align: middle;\n",
              "    }\n",
              "\n",
              "    .dataframe tbody tr th {\n",
              "        vertical-align: top;\n",
              "    }\n",
              "\n",
              "    .dataframe thead th {\n",
              "        text-align: right;\n",
              "    }\n",
              "</style>\n",
              "<table border=\"1\" class=\"dataframe\">\n",
              "  <thead>\n",
              "    <tr style=\"text-align: right;\">\n",
              "      <th></th>\n",
              "      <th>sender_state</th>\n",
              "      <th>sender_zipcode</th>\n",
              "      <th>receiver_state</th>\n",
              "      <th>receiver_zipcode</th>\n",
              "      <th>shipment_type</th>\n",
              "      <th>quantity</th>\n",
              "      <th>service</th>\n",
              "      <th>status</th>\n",
              "      <th>date_created</th>\n",
              "      <th>date_sent</th>\n",
              "      <th>date_visit</th>\n",
              "      <th>shipment_days</th>\n",
              "      <th>receiver_state_le</th>\n",
              "      <th>shipment_days_byclass</th>\n",
              "    </tr>\n",
              "  </thead>\n",
              "  <tbody>\n",
              "    <tr>\n",
              "      <th>384294</th>\n",
              "      <td>SP</td>\n",
              "      <td>13076</td>\n",
              "      <td>PA</td>\n",
              "      <td>66080</td>\n",
              "      <td>standard</td>\n",
              "      <td>1</td>\n",
              "      <td>2</td>\n",
              "      <td>done</td>\n",
              "      <td>2019-02-13</td>\n",
              "      <td>2019-02-15 12:36:03</td>\n",
              "      <td>2019-02-28 10:06:00</td>\n",
              "      <td>9.0</td>\n",
              "      <td>13</td>\n",
              "      <td>8-9 dias</td>\n",
              "    </tr>\n",
              "    <tr>\n",
              "      <th>364622</th>\n",
              "      <td>SP</td>\n",
              "      <td>14405</td>\n",
              "      <td>GO</td>\n",
              "      <td>72880</td>\n",
              "      <td>standard</td>\n",
              "      <td>1</td>\n",
              "      <td>1</td>\n",
              "      <td>done</td>\n",
              "      <td>2019-02-23</td>\n",
              "      <td>2019-02-26 07:51:00</td>\n",
              "      <td>2019-03-14 18:37:00</td>\n",
              "      <td>9.0</td>\n",
              "      <td>8</td>\n",
              "      <td>8-9 dias</td>\n",
              "    </tr>\n",
              "    <tr>\n",
              "      <th>253035</th>\n",
              "      <td>SP</td>\n",
              "      <td>6422</td>\n",
              "      <td>SC</td>\n",
              "      <td>89082</td>\n",
              "      <td>standard</td>\n",
              "      <td>1</td>\n",
              "      <td>4</td>\n",
              "      <td>done</td>\n",
              "      <td>2019-03-06</td>\n",
              "      <td>2019-03-07 14:10:03</td>\n",
              "      <td>2019-03-13 18:34:00</td>\n",
              "      <td>4.0</td>\n",
              "      <td>23</td>\n",
              "      <td>4-5 dias</td>\n",
              "    </tr>\n",
              "    <tr>\n",
              "      <th>476744</th>\n",
              "      <td>SP</td>\n",
              "      <td>9911</td>\n",
              "      <td>SP</td>\n",
              "      <td>18530</td>\n",
              "      <td>express</td>\n",
              "      <td>1</td>\n",
              "      <td>0</td>\n",
              "      <td>done</td>\n",
              "      <td>2019-02-26</td>\n",
              "      <td>2019-02-28 14:32:00</td>\n",
              "      <td>2019-03-07 16:27:00</td>\n",
              "      <td>2.0</td>\n",
              "      <td>25</td>\n",
              "      <td>2-3 dias</td>\n",
              "    </tr>\n",
              "    <tr>\n",
              "      <th>52922</th>\n",
              "      <td>SP</td>\n",
              "      <td>12955</td>\n",
              "      <td>SP</td>\n",
              "      <td>8041</td>\n",
              "      <td>express</td>\n",
              "      <td>1</td>\n",
              "      <td>0</td>\n",
              "      <td>done</td>\n",
              "      <td>2019-03-08</td>\n",
              "      <td>2019-03-11 15:42:00</td>\n",
              "      <td>2019-03-14 11:11:00</td>\n",
              "      <td>3.0</td>\n",
              "      <td>25</td>\n",
              "      <td>2-3 dias</td>\n",
              "    </tr>\n",
              "    <tr>\n",
              "      <th>388787</th>\n",
              "      <td>SP</td>\n",
              "      <td>6707</td>\n",
              "      <td>SP</td>\n",
              "      <td>15300</td>\n",
              "      <td>standard</td>\n",
              "      <td>3</td>\n",
              "      <td>1</td>\n",
              "      <td>done</td>\n",
              "      <td>2019-02-23</td>\n",
              "      <td>2019-02-25 14:02:00</td>\n",
              "      <td>2019-03-15 14:22:00</td>\n",
              "      <td>11.0</td>\n",
              "      <td>25</td>\n",
              "      <td>10 o mas dias</td>\n",
              "    </tr>\n",
              "  </tbody>\n",
              "</table>\n",
              "</div>"
            ],
            "text/plain": [
              "       sender_state  sender_zipcode  ... receiver_state_le  shipment_days_byclass\n",
              "384294           SP           13076  ...                13               8-9 dias\n",
              "364622           SP           14405  ...                 8               8-9 dias\n",
              "253035           SP            6422  ...                23               4-5 dias\n",
              "476744           SP            9911  ...                25               2-3 dias\n",
              "52922            SP           12955  ...                25               2-3 dias\n",
              "388787           SP            6707  ...                25          10 o mas dias\n",
              "\n",
              "[6 rows x 14 columns]"
            ]
          },
          "metadata": {
            "tags": []
          },
          "execution_count": 31
        }
      ]
    },
    {
      "cell_type": "markdown",
      "metadata": {
        "id": "8EiRRH7sN9cC",
        "colab_type": "text"
      },
      "source": [
        "A continuación vamos a aplicar un procedimiento de clustering (algoritmo knn) utilizando como valores de entradas los features **service** y **receiver_zipcode**."
      ]
    },
    {
      "cell_type": "code",
      "metadata": {
        "id": "-Xnm2fpJHtqi",
        "colab_type": "code",
        "colab": {}
      },
      "source": [
        "X = dataset_clean[['service','receiver_zipcode']]\n",
        "y = dataset_clean['shipment_days_byclass']"
      ],
      "execution_count": 0,
      "outputs": []
    },
    {
      "cell_type": "markdown",
      "metadata": {
        "id": "d-INDb0b-YtG",
        "colab_type": "text"
      },
      "source": [
        "Separamos algunos valores para el conjunto de validación (terminado en test) y para entrenar (terminado en train).\n",
        "\n",
        "\n"
      ]
    },
    {
      "cell_type": "code",
      "metadata": {
        "id": "wSRt3efBHfZp",
        "colab_type": "code",
        "colab": {}
      },
      "source": [
        "X_train, X_test, y_train, y_test = train_test_split(X, y, random_state=0)\n",
        "scaler = MinMaxScaler()\n",
        "X_train = scaler.fit_transform(X_train)\n",
        "X_test = scaler.transform(X_test)"
      ],
      "execution_count": 0,
      "outputs": []
    },
    {
      "cell_type": "markdown",
      "metadata": {
        "id": "C-DyUQjoM2oV",
        "colab_type": "text"
      },
      "source": [
        "Una cantidad de 5 vecinos se utilizó como veremos a continuación. El modelo tiene otros parámetros, como por ejemplo la distancia que se usa hacia los vecinos, se probó: manhattan, euclidean y cosine pero con todas se obtiene el mismo accuracy."
      ]
    },
    {
      "cell_type": "code",
      "metadata": {
        "id": "m5-8CfyTHfRD",
        "colab_type": "code",
        "outputId": "5420aeef-bc49-4aa2-a5af-e3b77f03922b",
        "colab": {
          "base_uri": "https://localhost:8080/",
          "height": 68
        }
      },
      "source": [
        "n_neighbors = 5\n",
        " \n",
        "knn = KNeighborsClassifier(n_neighbors)\n",
        "knn.fit(X_train, y_train)"
      ],
      "execution_count": 0,
      "outputs": [
        {
          "output_type": "execute_result",
          "data": {
            "text/plain": [
              "KNeighborsClassifier(algorithm='auto', leaf_size=30, metric='minkowski',\n",
              "                     metric_params=None, n_jobs=None, n_neighbors=5, p=2,\n",
              "                     weights='uniform')"
            ]
          },
          "metadata": {
            "tags": []
          },
          "execution_count": 35
        }
      ]
    },
    {
      "cell_type": "code",
      "metadata": {
        "id": "8_CP7kQjHfIQ",
        "colab_type": "code",
        "outputId": "07523f19-bb94-40a7-a120-5d2738690f26",
        "colab": {
          "base_uri": "https://localhost:8080/",
          "height": 51
        }
      },
      "source": [
        "print('Accuracy of K-NN classifier on training set: {:.2f}'\n",
        "     .format(knn.score(X_train, y_train)))\n",
        "print('Accuracy of K-NN classifier on test set: {:.2f}'\n",
        "     .format(knn.score(X_test, y_test)))"
      ],
      "execution_count": 0,
      "outputs": [
        {
          "output_type": "stream",
          "text": [
            "Accuracy of K-NN classifier on training set: 0.58\n",
            "Accuracy of K-NN classifier on test set: 0.52\n"
          ],
          "name": "stdout"
        }
      ]
    },
    {
      "cell_type": "markdown",
      "metadata": {
        "id": "-QE4nam0OTM9",
        "colab_type": "text"
      },
      "source": [
        "Como notamos en los valores de accuracy la clasificación no es tan buena. Recordemos que el accuracy indica la proporción de datos que fueron clasificados como se esperaba.\n",
        "\n",
        "Veamos a continuación la matriz de confusión y el reporte de la clasificación."
      ]
    },
    {
      "cell_type": "code",
      "metadata": {
        "id": "Y8HltvPQHexl",
        "colab_type": "code",
        "colab": {}
      },
      "source": [
        "y_pred = knn.predict(X_test)"
      ],
      "execution_count": 0,
      "outputs": []
    },
    {
      "cell_type": "code",
      "metadata": {
        "id": "eJtAtbx8Hepj",
        "colab_type": "code",
        "outputId": "53193cec-1954-4ed6-ab38-ca681ec947b2",
        "colab": {
          "base_uri": "https://localhost:8080/",
          "height": 119
        }
      },
      "source": [
        "print(confusion_matrix(y_test, y_pred))  "
      ],
      "execution_count": 0,
      "outputs": [
        {
          "output_type": "stream",
          "text": [
            "[[19296    44  7474   365    42    15]\n",
            " [  132 18330   590  1417  1664  1407]\n",
            " [ 9064  1154 19007  3793   573   195]\n",
            " [ 1393  2944  6507  5031  1485   497]\n",
            " [  368  4774  1653  2391  1580   768]\n",
            " [   96  5519   579  1108  1151   815]]\n"
          ],
          "name": "stdout"
        }
      ]
    },
    {
      "cell_type": "code",
      "metadata": {
        "id": "SGwK4JNZHegq",
        "colab_type": "code",
        "outputId": "c6134d60-ddc3-4b78-fc87-216712c64f3c",
        "colab": {
          "base_uri": "https://localhost:8080/",
          "height": 238
        }
      },
      "source": [
        "print(classification_report(y_test, y_pred))  "
      ],
      "execution_count": 0,
      "outputs": [
        {
          "output_type": "stream",
          "text": [
            "               precision    recall  f1-score   support\n",
            "\n",
            "     0-1 dias       0.64      0.71      0.67     27236\n",
            "10 o mas dias       0.56      0.78      0.65     23540\n",
            "     2-3 dias       0.53      0.56      0.55     33786\n",
            "     4-5 dias       0.36      0.28      0.31     17857\n",
            "     6-7 dias       0.24      0.14      0.18     11534\n",
            "     8-9 dias       0.22      0.09      0.13      9268\n",
            "\n",
            "     accuracy                           0.52    123221\n",
            "    macro avg       0.42      0.43      0.41    123221\n",
            " weighted avg       0.48      0.52      0.49    123221\n",
            "\n"
          ],
          "name": "stdout"
        }
      ]
    },
    {
      "cell_type": "markdown",
      "metadata": {
        "id": "C4eiKEjYkKk7",
        "colab_type": "text"
      },
      "source": [
        "El reporte de clasificación estaría mostrando la precisión, recall, f1-score y support por clase. También incluye el promedio macro (promedio de la media no ponderada por etiqueta), promedio ponderado (promedio de la muestra ponderada por etiqueta) y el accuracy. La precisión es la división entre el tp / (tp + fp) donde tp es el numero de verdaderos-positivos y fp sería lo falsos positivos. Recall es la división entre tp / (tp + fn), fn es el número de falsos negativos. F-1 score puede ser interpretado como una media ponderada del presicion y el recall. Support es el número de ocurrencias de cada clase en y_true."
      ]
    },
    {
      "cell_type": "markdown",
      "metadata": {
        "id": "DDW6jAX7aiQ_",
        "colab_type": "text"
      },
      "source": [
        "Recordemos que el accuracy indica la proporción de datos que fueron clasificados como se esperaba. El valor que nos dió es muy bajo, debería estar más cercano a 1, por ende no es muy bueno el resultado. Mostramos este reporte de clasificación con la misma finalidad, indicar si es un buen modelo para nuestro dataset.\n",
        "Nosotras no recomendamos usar este modelo."
      ]
    },
    {
      "cell_type": "markdown",
      "metadata": {
        "id": "MhVpaGuaTjcW",
        "colab_type": "text"
      },
      "source": [
        "Ahora intentaremos mostrar una mejor visualización de la matriz de confusión."
      ]
    },
    {
      "cell_type": "code",
      "metadata": {
        "id": "pFgUHXz5IXPU",
        "colab_type": "code",
        "colab": {}
      },
      "source": [
        "cm = confusion_matrix(y_test, y_pred)"
      ],
      "execution_count": 0,
      "outputs": []
    },
    {
      "cell_type": "code",
      "metadata": {
        "id": "YT1KW87cIXGF",
        "colab_type": "code",
        "colab": {}
      },
      "source": [
        "df_cm = pandas.DataFrame(cm, range(6),\n",
        "                  range(6))"
      ],
      "execution_count": 0,
      "outputs": []
    },
    {
      "cell_type": "code",
      "metadata": {
        "id": "05d46vbaJytL",
        "colab_type": "code",
        "outputId": "81284ff1-d02c-4996-d426-eb0b0402d269",
        "colab": {
          "base_uri": "https://localhost:8080/",
          "height": 51
        }
      },
      "source": [
        "classes = dataset_clean['shipment_days_byclass'].unique()\n",
        "classes.sort()\n",
        "classes"
      ],
      "execution_count": 0,
      "outputs": [
        {
          "output_type": "execute_result",
          "data": {
            "text/plain": [
              "array(['0-1 dias', '10 o mas dias', '2-3 dias', '4-5 dias', '6-7 dias',\n",
              "       '8-9 dias'], dtype=object)"
            ]
          },
          "metadata": {
            "tags": []
          },
          "execution_count": 41
        }
      ]
    },
    {
      "cell_type": "code",
      "metadata": {
        "id": "5vs6Tfg2Ifnv",
        "colab_type": "code",
        "outputId": "f6f1bfc8-391f-4e1e-8e4c-b87cd4f32bf8",
        "colab": {
          "base_uri": "https://localhost:8080/",
          "height": 536
        }
      },
      "source": [
        "plt.figure(figsize=(12,7))\n",
        "seaborn.set(font_scale=1.4)\n",
        "seaborn.heatmap(df_cm, annot=True,annot_kws={\"size\": 15},xticklabels=classes, yticklabels=classes)\n",
        "plt.yticks(rotation=45)\n",
        "plt.xticks(rotation=45)\n",
        "plt.xlabel('Valores predichos')\n",
        "plt.ylabel('Valores correctos')\n",
        "seaborn.despine()"
      ],
      "execution_count": 0,
      "outputs": [
        {
          "output_type": "display_data",
          "data": {
            "image/png": "[encoded data removed]",
            "text/plain": [
              "<Figure size 864x504 with 2 Axes>"
            ]
          },
          "metadata": {
            "tags": []
          }
        }
      ]
    },
    {
      "cell_type": "markdown",
      "metadata": {
        "id": "8V9mhb42Z1gV",
        "colab_type": "text"
      },
      "source": [
        "La matrix de confusión la podemos leer como por ejemplo:\n",
        "\n",
        "Hay 44 valores que corresponden a la clase 0-1 días, para los cuáles se predijo un valor de 10 o más días.\n",
        "Hay 42 valores que corresponden a la clase 0-1días, pero que se predijieron para la clase 6-7 días\n",
        "Hay 15 valores que corresponden a la clase 0-1dias días, pero que se predijieron para la clase 8-9 días."
      ]
    },
    {
      "cell_type": "code",
      "metadata": {
        "id": "EUTE6tFKyA-E",
        "colab_type": "code",
        "outputId": "724bc68b-683c-4ce4-8fdd-07a594ef1188",
        "colab": {
          "base_uri": "https://localhost:8080/",
          "height": 34
        }
      },
      "source": [
        "dataset_clean.shape"
      ],
      "execution_count": 0,
      "outputs": [
        {
          "output_type": "execute_result",
          "data": {
            "text/plain": [
              "(492881, 14)"
            ]
          },
          "metadata": {
            "tags": []
          },
          "execution_count": 45
        }
      ]
    },
    {
      "cell_type": "markdown",
      "metadata": {
        "id": "oBGKLnqg34f8",
        "colab_type": "text"
      },
      "source": [
        "A continuación seleccionamos otros features (service, receiver_state_le), para ver como se comporta knn y ver si la elección de los features mejora."
      ]
    },
    {
      "cell_type": "code",
      "metadata": {
        "id": "KVe6mxfHjAbp",
        "colab_type": "code",
        "colab": {}
      },
      "source": [
        "X = dataset_clean[['service','receiver_state_le']]\n",
        "y = dataset_clean['shipment_days_byclass']"
      ],
      "execution_count": 0,
      "outputs": []
    },
    {
      "cell_type": "code",
      "metadata": {
        "id": "Z_us-pWNjGPD",
        "colab_type": "code",
        "colab": {}
      },
      "source": [
        "X_train, X_test, y_train, y_test = train_test_split(X, y, random_state=0)\n",
        "scaler = MinMaxScaler()\n",
        "X_train = scaler.fit_transform(X_train)\n",
        "X_test = scaler.transform(X_test)"
      ],
      "execution_count": 0,
      "outputs": []
    },
    {
      "cell_type": "code",
      "metadata": {
        "id": "mtV7RS7pjJAa",
        "colab_type": "code",
        "outputId": "39253ab3-5798-42ba-91c1-ac4d49c68f5a",
        "colab": {
          "base_uri": "https://localhost:8080/",
          "height": 68
        }
      },
      "source": [
        "n_neighbors = 5\n",
        " \n",
        "knn = KNeighborsClassifier(n_neighbors)\n",
        "knn.fit(X_train, y_train)"
      ],
      "execution_count": 0,
      "outputs": [
        {
          "output_type": "execute_result",
          "data": {
            "text/plain": [
              "KNeighborsClassifier(algorithm='auto', leaf_size=30, metric='minkowski',\n",
              "                     metric_params=None, n_jobs=None, n_neighbors=5, p=2,\n",
              "                     weights='uniform')"
            ]
          },
          "metadata": {
            "tags": []
          },
          "execution_count": 51
        }
      ]
    },
    {
      "cell_type": "code",
      "metadata": {
        "id": "CqUj00_GjLkA",
        "colab_type": "code",
        "outputId": "bbd4f1ab-a6fd-46e7-9e24-a684bb7ef672",
        "colab": {
          "base_uri": "https://localhost:8080/",
          "height": 51
        }
      },
      "source": [
        "print('Accuracy of K-NN classifier on training set: {:.2f}'\n",
        "     .format(knn.score(X_train, y_train)))\n",
        "print('Accuracy of K-NN classifier on test set: {:.2f}'\n",
        "     .format(knn.score(X_test, y_test)))"
      ],
      "execution_count": 0,
      "outputs": [
        {
          "output_type": "stream",
          "text": [
            "Accuracy of K-NN classifier on training set: 0.47\n",
            "Accuracy of K-NN classifier on test set: 0.47\n"
          ],
          "name": "stdout"
        }
      ]
    },
    {
      "cell_type": "markdown",
      "metadata": {
        "id": "CEG9mqgL40VX",
        "colab_type": "text"
      },
      "source": [
        "El accuracy es mas bajo que el obtenido anteriormente, por ende nos podemos quedar con la primer selección de features(service, receiver_zipcode)."
      ]
    },
    {
      "cell_type": "code",
      "metadata": {
        "id": "yQVP-AIzjOXi",
        "colab_type": "code",
        "colab": {}
      },
      "source": [
        "y_pred = knn.predict(X_test)"
      ],
      "execution_count": 0,
      "outputs": []
    },
    {
      "cell_type": "code",
      "metadata": {
        "id": "wFJhJWYCjQ7U",
        "colab_type": "code",
        "outputId": "e086ca9e-0cc0-4ee1-8f19-4f2272b60aae",
        "colab": {
          "base_uri": "https://localhost:8080/",
          "height": 119
        }
      },
      "source": [
        "print(confusion_matrix(y_test, y_pred))  "
      ],
      "execution_count": 0,
      "outputs": [
        {
          "output_type": "stream",
          "text": [
            "[[23714    40  2545   930     7     0]\n",
            " [  282 17638   174  4422   663   361]\n",
            " [16005  1172  9742  6679   182     6]\n",
            " [ 3335  3240  4585  6154   526    17]\n",
            " [  919  5044  1281  3484   664   142]\n",
            " [  310  5740   343  2217   482   176]]\n"
          ],
          "name": "stdout"
        }
      ]
    },
    {
      "cell_type": "code",
      "metadata": {
        "id": "MwgeJaJ9jUhg",
        "colab_type": "code",
        "outputId": "0787a717-405c-4a56-b67f-aaeb9942d619",
        "colab": {
          "base_uri": "https://localhost:8080/",
          "height": 238
        }
      },
      "source": [
        "print(classification_report(y_test, y_pred))  "
      ],
      "execution_count": 0,
      "outputs": [
        {
          "output_type": "stream",
          "text": [
            "               precision    recall  f1-score   support\n",
            "\n",
            "     0-1 dias       0.53      0.87      0.66     27236\n",
            "10 o mas dias       0.54      0.75      0.63     23540\n",
            "     2-3 dias       0.52      0.29      0.37     33786\n",
            "     4-5 dias       0.26      0.34      0.29     17857\n",
            "     6-7 dias       0.26      0.06      0.09     11534\n",
            "     8-9 dias       0.25      0.02      0.04      9268\n",
            "\n",
            "     accuracy                           0.47    123221\n",
            "    macro avg       0.39      0.39      0.35    123221\n",
            " weighted avg       0.44      0.47      0.42    123221\n",
            "\n"
          ],
          "name": "stdout"
        }
      ]
    },
    {
      "cell_type": "code",
      "metadata": {
        "id": "nXdPU4XIjXBD",
        "colab_type": "code",
        "colab": {}
      },
      "source": [
        "cm = confusion_matrix(y_test, y_pred)"
      ],
      "execution_count": 0,
      "outputs": []
    },
    {
      "cell_type": "code",
      "metadata": {
        "id": "rdenhfWDjaJC",
        "colab_type": "code",
        "colab": {}
      },
      "source": [
        "df_cm = pandas.DataFrame(cm, range(6),\n",
        "                  range(6))"
      ],
      "execution_count": 0,
      "outputs": []
    },
    {
      "cell_type": "code",
      "metadata": {
        "id": "eGRDEuqajcr3",
        "colab_type": "code",
        "outputId": "08b7ba77-daa8-49cb-b3fb-ec8edfe401f4",
        "colab": {
          "base_uri": "https://localhost:8080/",
          "height": 51
        }
      },
      "source": [
        "classes = dataset_clean['shipment_days_byclass'].unique()\n",
        "classes.sort()\n",
        "classes"
      ],
      "execution_count": 0,
      "outputs": [
        {
          "output_type": "execute_result",
          "data": {
            "text/plain": [
              "array(['0-1 dias', '10 o mas dias', '2-3 dias', '4-5 dias', '6-7 dias',\n",
              "       '8-9 dias'], dtype=object)"
            ]
          },
          "metadata": {
            "tags": []
          },
          "execution_count": 59
        }
      ]
    },
    {
      "cell_type": "code",
      "metadata": {
        "id": "DLG8yeS8jfj9",
        "colab_type": "code",
        "outputId": "57e78346-747f-40b3-bcd5-a08528fab9c4",
        "colab": {
          "base_uri": "https://localhost:8080/",
          "height": 536
        }
      },
      "source": [
        "plt.figure(figsize=(12,7))\n",
        "seaborn.set(font_scale=1.4)\n",
        "seaborn.heatmap(df_cm, annot=True,annot_kws={\"size\": 15},xticklabels=classes, yticklabels=classes)\n",
        "plt.yticks(rotation=45)\n",
        "plt.xticks(rotation=45)\n",
        "plt.xlabel('Valores predichos')\n",
        "plt.ylabel('Valores correctos')\n",
        "seaborn.despine()\n",
        "\n"
      ],
      "execution_count": 0,
      "outputs": [
        {
          "output_type": "display_data",
          "data": {
            "image/png": "[encoded data removed]",
            "text/plain": [
              "<Figure size 864x504 with 2 Axes>"
            ]
          },
          "metadata": {
            "tags": []
          }
        }
      ]
    },
    {
      "cell_type": "markdown",
      "metadata": {
        "id": "y4AFnHBK0xnR",
        "colab_type": "text"
      },
      "source": [
        "Comparando los accuracy, entre las 2 clasificaciones la que resulta mejor es la primera que fue con los features: service, receiver_zipcode. La segunda prueba fue con los features: service, receiver_state_le."
      ]
    },
    {
      "cell_type": "markdown",
      "metadata": {
        "id": "Ltzg1xmJPfsU",
        "colab_type": "text"
      },
      "source": [
        "Y por ultimo probemos con los features service, receiver_state_le y receiver_zipcode para ver si se mejora el accuracy:"
      ]
    },
    {
      "cell_type": "code",
      "metadata": {
        "id": "d0DhkQ-ijiuj",
        "colab_type": "code",
        "colab": {}
      },
      "source": [
        "X = dataset_clean[['service','receiver_state_le','receiver_zipcode']]\n",
        "y = dataset_clean['shipment_days_byclass']"
      ],
      "execution_count": 0,
      "outputs": []
    },
    {
      "cell_type": "code",
      "metadata": {
        "id": "lIwduBIFj596",
        "colab_type": "code",
        "colab": {}
      },
      "source": [
        "X_train, X_test, y_train, y_test = train_test_split(X, y, random_state=0)\n",
        "scaler = MinMaxScaler()\n",
        "X_train = scaler.fit_transform(X_train)\n",
        "X_test = scaler.transform(X_test)"
      ],
      "execution_count": 0,
      "outputs": []
    },
    {
      "cell_type": "code",
      "metadata": {
        "id": "vudZlZSpj9lN",
        "colab_type": "code",
        "outputId": "d506a75b-0143-4dee-ddc6-5441ec4a36de",
        "colab": {
          "base_uri": "https://localhost:8080/",
          "height": 68
        }
      },
      "source": [
        "n_neighbors = 5\n",
        " \n",
        "knn = KNeighborsClassifier(n_neighbors)\n",
        "knn.fit(X_train, y_train)"
      ],
      "execution_count": 0,
      "outputs": [
        {
          "output_type": "execute_result",
          "data": {
            "text/plain": [
              "KNeighborsClassifier(algorithm='auto', leaf_size=30, metric='minkowski',\n",
              "                     metric_params=None, n_jobs=None, n_neighbors=5, p=2,\n",
              "                     weights='uniform')"
            ]
          },
          "metadata": {
            "tags": []
          },
          "execution_count": 64
        }
      ]
    },
    {
      "cell_type": "code",
      "metadata": {
        "id": "kp9OcpVRkni2",
        "colab_type": "code",
        "outputId": "94f0f21b-21d6-4069-9373-880cec0ec7fb",
        "colab": {
          "base_uri": "https://localhost:8080/",
          "height": 51
        }
      },
      "source": [
        "print('Accuracy of K-NN classifier on training set: {:.2f}'\n",
        "     .format(knn.score(X_train, y_train)))\n",
        "print('Accuracy of K-NN classifier on test set: {:.2f}'\n",
        "     .format(knn.score(X_test, y_test)))"
      ],
      "execution_count": 0,
      "outputs": [
        {
          "output_type": "stream",
          "text": [
            "Accuracy of K-NN classifier on training set: 0.58\n",
            "Accuracy of K-NN classifier on test set: 0.52\n"
          ],
          "name": "stdout"
        }
      ]
    },
    {
      "cell_type": "markdown",
      "metadata": {
        "id": "LYpqa_dA2IvM",
        "colab_type": "text"
      },
      "source": [
        "Agregando un feature más no encontramos que hayamos mejorado el accuracy, por ende nos alcanza con los features service, receiver_zipcode. También podemos notar que receiver_state_le y receiver_zipcode tienen codificada la misma información, ese debe ser el porque no esta sumando."
      ]
    },
    {
      "cell_type": "code",
      "metadata": {
        "id": "4I_zCPZ6kBIT",
        "colab_type": "code",
        "colab": {}
      },
      "source": [
        "y_pred = knn.predict(X_test) # borraria"
      ],
      "execution_count": 0,
      "outputs": []
    },
    {
      "cell_type": "code",
      "metadata": {
        "id": "NO6zfxk8kEJB",
        "colab_type": "code",
        "outputId": "38feffe8-b8ad-4d35-b2d2-194c47aa468b",
        "colab": {
          "base_uri": "https://localhost:8080/",
          "height": 119
        }
      },
      "source": [
        "print(confusion_matrix(y_test, y_pred))  # borraria"
      ],
      "execution_count": 0,
      "outputs": [
        {
          "output_type": "stream",
          "text": [
            "[[18996    94  7550   521    59    16]\n",
            " [  176 17701   853  1326  1587  1897]\n",
            " [ 9767  1517 17979  3731   578   214]\n",
            " [ 1784  3427  6433  4432  1266   515]\n",
            " [  499  4923  1919  2068  1248   877]\n",
            " [  168  5497   755  1010   912   926]]\n"
          ],
          "name": "stdout"
        }
      ]
    },
    {
      "cell_type": "code",
      "metadata": {
        "id": "WvggVhv4kHAV",
        "colab_type": "code",
        "outputId": "b6cdf743-1598-494c-c96e-fcc9ac436385",
        "colab": {
          "base_uri": "https://localhost:8080/",
          "height": 238
        }
      },
      "source": [
        "print(classification_report(y_test, y_pred))  # borraria"
      ],
      "execution_count": 0,
      "outputs": [
        {
          "output_type": "stream",
          "text": [
            "               precision    recall  f1-score   support\n",
            "\n",
            "     0-1 dias       0.61      0.70      0.65     27236\n",
            "10 o mas dias       0.53      0.75      0.62     23540\n",
            "     2-3 dias       0.51      0.53      0.52     33786\n",
            "     4-5 dias       0.34      0.25      0.29     17857\n",
            "     6-7 dias       0.22      0.11      0.15     11534\n",
            "     8-9 dias       0.21      0.10      0.14      9268\n",
            "\n",
            "     accuracy                           0.50    123221\n",
            "    macro avg       0.40      0.41      0.39    123221\n",
            " weighted avg       0.46      0.50      0.47    123221\n",
            "\n"
          ],
          "name": "stdout"
        }
      ]
    },
    {
      "cell_type": "code",
      "metadata": {
        "id": "ickl3QrbkK16",
        "colab_type": "code",
        "colab": {}
      },
      "source": [
        "cm=confusion_matrix(y_test, y_pred) # borraria"
      ],
      "execution_count": 0,
      "outputs": []
    },
    {
      "cell_type": "code",
      "metadata": {
        "id": "EADgtlQAkRKR",
        "colab_type": "code",
        "colab": {}
      },
      "source": [
        "df_cm = pandas.DataFrame(cm, range(6), range(6)) # borraria"
      ],
      "execution_count": 0,
      "outputs": []
    },
    {
      "cell_type": "code",
      "metadata": {
        "id": "5mN5nP3nkVJN",
        "colab_type": "code",
        "outputId": "6c6591ca-f291-4954-ebd0-4055e1ecfe06",
        "colab": {
          "base_uri": "https://localhost:8080/",
          "height": 51
        }
      },
      "source": [
        "classes=dataset_clean['shipment_days_byclass'].unique() # borraria\n",
        "classes.sort()\n",
        "classes"
      ],
      "execution_count": 0,
      "outputs": [
        {
          "output_type": "execute_result",
          "data": {
            "text/plain": [
              "array(['0-1 dias', '10 o mas dias', '2-3 dias', '4-5 dias', '6-7 dias',\n",
              "       '8-9 dias'], dtype=object)"
            ]
          },
          "metadata": {
            "tags": []
          },
          "execution_count": 61
        }
      ]
    },
    {
      "cell_type": "code",
      "metadata": {
        "id": "lkiRAm4ckY-m",
        "colab_type": "code",
        "outputId": "819ce313-899c-4b65-fecb-cc929cfd9696",
        "colab": {
          "base_uri": "https://localhost:8080/",
          "height": 536
        }
      },
      "source": [
        "plt.figure(figsize=(12,7)) # borraria\n",
        "seaborn.set(font_scale=1.4)\n",
        "seaborn.heatmap(df_cm, annot=True,annot_kws={\"size\": 15},xticklabels=classes, yticklabels=classes)\n",
        "plt.yticks(rotation=45)\n",
        "plt.xticks(rotation=45)\n",
        "plt.xlabel('Valores predichos')\n",
        "plt.ylabel('Valores correctos')\n",
        "seaborn.despine()"
      ],
      "execution_count": 0,
      "outputs": [
        {
          "output_type": "display_data",
          "data": {
            "image/png": "[encoded data removed]",
            "text/plain": [
              "<Figure size 864x504 with 2 Axes>"
            ]
          },
          "metadata": {
            "tags": []
          }
        }
      ]
    },
    {
      "cell_type": "markdown",
      "metadata": {
        "id": "z7ignTXwQBpX",
        "colab_type": "text"
      },
      "source": [
        "Conclusión:\n",
        "\n",
        "En la primera selección de features (service y receiver_zipcode) y en la última (service, receiver_zipcode y receiver_state) estamos obteniendo el mismo accuracy, por ende se podría usar la primera porque tiene menos cantidad de features. \n",
        "La segunda (service, receiver_state) al tener un mas bajo accuracy descartamos esa selección de features para un futuro. \n",
        "En un futuro podríamos probar con otros features, para ver si mejora KNN.\n",
        "Cabe aclarar que no sólo deberíamos ver el accuracy, sino también la matriz de confusión que deberíamos encontrar lo más parecido a tener en la diagonal valores altos, y en el resto de la matriz valores cercanos a 0.\n",
        "\n",
        "Desde nuestro punto de vista como data scientist al ver la matriz de confusión y el accuracy respectivo podemos aconsejar no usar este modelo.\n",
        "Pensamos que usar receiver_zipcode o receive_state obtuvimos el mismo accuracy porque ambas estarían codificando la misma información, que sería la ubicación del comprador.\n",
        "\n",
        "Igual comparado con otros resultados (de ejemplos de otros data set) consideramos que knn con nuestros datos no estamos obteniendo los resultados esperados. \n",
        "A un futuro podríamos utilizar otros clasificadores automáticos o no.\n",
        "\n",
        "También en dicho informe se realizó un análisis de los datos donde se identificó datos duplicados, que en este práctico fueron eliminados, pero en un futuro no se borrarían, dado que no contamos con la información suficiente para decir que no son datos de dos envíos iguales.\n",
        "En la segunda clasificación se usó el modelo con la variable receiver_state codificada, pero no se obtuvieron resultados mejores, dado que dicha variable estaría codificando la misma información que receiver_zipcode.\n",
        "Se hizo un pequeño análisis de que features principales son mejores para nosotras como data scientits, pero en un futuro podríamos probar con mas features. \n"
      ]
    },
    {
      "cell_type": "code",
      "metadata": {
        "id": "EZ2AMUP8AyK3",
        "colab_type": "code",
        "colab": {}
      },
      "source": [
        ""
      ],
      "execution_count": 0,
      "outputs": []
    }
  ]
}